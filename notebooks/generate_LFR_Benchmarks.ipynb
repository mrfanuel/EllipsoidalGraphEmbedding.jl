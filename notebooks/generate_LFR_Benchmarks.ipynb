{
 "cells": [
  {
   "cell_type": "code",
   "execution_count": 1,
   "metadata": {},
   "outputs": [],
   "source": [
    "from networkx.generators.community import LFR_benchmark_graph\n",
    "from networkx import write_adjlist\n",
    "import numpy as np"
   ]
  },
  {
   "cell_type": "code",
   "execution_count": 2,
   "metadata": {},
   "outputs": [],
   "source": [
    "# Set parameters \n",
    "n=250\n",
    "tau1=3\n",
    "tau2=1.5\n",
    "list_mu=np.linspace(0.1,1,10)\n",
    "average_degree=5\n",
    "min_degree=None # default\n",
    "max_degree=None # default\n",
    "min_community=20\n",
    "max_community=None # default\n",
    "tol=1e-07 # default\n",
    "max_iters=500 # default\n",
    "seed=0\n",
    "\n",
    "\n",
    "# n=1000\n",
    "# tau1=2\n",
    "# tau2=2\n",
    "# list_mu=np.linspace(0.1,1,10)\n",
    "# average_degree=15\n",
    "# min_degree=None\n",
    "# max_degree=50\n",
    "# min_community=50\n",
    "# max_community=None\n",
    "# tol=1e-07\n",
    "# max_iters=500\n",
    "# seed=0\n",
    "\n",
    "\n",
    "path=\"LFR_data/\""
   ]
  },
  {
   "cell_type": "code",
   "execution_count": 3,
   "metadata": {},
   "outputs": [],
   "source": [
    "for i,mu in enumerate(list_mu):\n",
    "    # Generate graph\n",
    "    G = LFR_benchmark_graph(\n",
    "        n,\n",
    "        tau1,\n",
    "        tau2,\n",
    "        mu,\n",
    "        average_degree=average_degree,\n",
    "        min_degree=min_degree,\n",
    "        max_degree=max_degree,\n",
    "        min_community=min_community,\n",
    "        max_community=max_community,\n",
    "        tol=tol,\n",
    "        max_iters=max_iters,\n",
    "        seed=seed\n",
    "    )\n",
    "    \n",
    "    # Save graph\n",
    "    write_adjlist(G,path+\"graph\"+str(i)+\".adjlist\") # other functions exist for other formats: https://networkx.org/documentation/stable/reference/readwrite/index.html\n",
    "\n",
    "    # Save parameters of the generator\n",
    "    str_parameters=\"n=\"+str(n)+\"\\n\"  +  \"tau1=\"+str(tau1)+\"\\n\"  +  \"tau2=\"+str(tau2)+\"\\n\"  +  \"mu=\"+str(mu)+\"\\n\"  +  \"average_degree=\"+str(average_degree)+\"\\n\"  +  \"min_degree=\"+str(min_degree)+\"\\n\"  +  \"max_degree=\"+str(max_degree)+\"\\n\"  +  \"min_community=\"+str(min_community)+\"\\n\"  +  \"max_community=\"+str(max_community)+\"\\n\"  +  \"tol=\"+str(tol)+\"\\n\"  +  \"max_iters=\"+str(max_iters)+\"\\n\"  +  \"seed=\"+str(seed)+\"\\n\"\n",
    "\n",
    "    f=open(path+\"parameters\"+str(i)+\".txt\",'w')\n",
    "    f.write(str_parameters)\n",
    "    f.close()"
   ]
  },
  {
   "cell_type": "code",
   "execution_count": null,
   "metadata": {},
   "outputs": [],
   "source": []
  },
  {
   "cell_type": "code",
   "execution_count": null,
   "metadata": {},
   "outputs": [],
   "source": []
  },
  {
   "cell_type": "code",
   "execution_count": null,
   "metadata": {},
   "outputs": [],
   "source": []
  },
  {
   "cell_type": "code",
   "execution_count": null,
   "metadata": {},
   "outputs": [],
   "source": []
  }
 ],
 "metadata": {
  "interpreter": {
   "hash": "31f2aee4e71d21fbe5cf8b01ff0e069b9275f58929596ceb00d14d90e3e16cd6"
  },
  "kernelspec": {
   "display_name": "Python 3.8.2 64-bit",
   "language": "python",
   "name": "python3"
  },
  "language_info": {
   "codemirror_mode": {
    "name": "ipython",
    "version": 3
   },
   "file_extension": ".py",
   "mimetype": "text/x-python",
   "name": "python",
   "nbconvert_exporter": "python",
   "pygments_lexer": "ipython3",
   "version": "3.8.2"
  }
 },
 "nbformat": 4,
 "nbformat_minor": 2
}
