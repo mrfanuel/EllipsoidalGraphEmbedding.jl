{
 "cells": [
  {
   "cell_type": "code",
   "execution_count": 1,
   "metadata": {},
   "outputs": [],
   "source": [
    "from networkx.generators.community import LFR_benchmark_graph\n",
    "from networkx import write_edgelist\n",
    "from networkx.algorithms.community import louvain_communities\n",
    "import numpy as np"
   ]
  },
  {
   "cell_type": "code",
   "execution_count": 2,
   "metadata": {},
   "outputs": [],
   "source": [
    "# Set parameters \n",
    "n=1000 # number of nodes\n",
    "tau1=2\n",
    "tau2=2\n",
    "list_mu=np.linspace(0.1,1,10)\n",
    "average_degree=15\n",
    "min_degree=None # default\n",
    "max_degree=50 # default is None\n",
    "min_community=50#20\n",
    "max_community=None # default\n",
    "tol=1e-07 # default\n",
    "max_iters=500 # default\n",
    "seed=0\n",
    "\n",
    "\n",
    "# n=1000\n",
    "# tau1=2\n",
    "# tau2=2\n",
    "# list_mu=np.linspace(0.1,1,10)\n",
    "# average_degree=15\n",
    "# min_degree=None\n",
    "# max_degree=50\n",
    "# min_community=50\n",
    "# max_community=None\n",
    "# tol=1e-07\n",
    "# max_iters=500\n",
    "# seed=0\n",
    "\n",
    "\n",
    "path=\"LFR_data/\""
   ]
  },
  {
   "cell_type": "code",
   "execution_count": 3,
   "metadata": {},
   "outputs": [],
   "source": [
    "for i,mu in enumerate(list_mu):\n",
    "    \n",
    "    # Generate graph\n",
    "    G = LFR_benchmark_graph(\n",
    "        n,\n",
    "        tau1,\n",
    "        tau2,\n",
    "        mu,\n",
    "        average_degree=average_degree,\n",
    "        min_degree=min_degree,\n",
    "        max_degree=max_degree,\n",
    "        min_community=min_community,\n",
    "        max_community=max_community,\n",
    "        tol=tol,\n",
    "        max_iters=max_iters,\n",
    "        seed=seed\n",
    "    )\n",
    "    \n",
    "    # create a vector with communities\n",
    "    communities=list({frozenset(G.nodes[v][\"community\"]) for v in G})\n",
    "    communities_vector=np.zeros(len(G),dtype=int)\n",
    "    for k,c in enumerate(communities):\n",
    "        communities_vector[list(c)]=k\n",
    "    \n",
    "    # Find communities using Louvain\n",
    "    communities_louvain=louvain_communities(G,weight=None)\n",
    "\n",
    "    # create a vector with Louvain communities\n",
    "    communities_louvain_vector=np.zeros(len(G),dtype=int)\n",
    "    for k,c in enumerate(communities_louvain):\n",
    "        communities_louvain_vector[list(c)]=k\n",
    "\n",
    "    \n",
    "    \n",
    "    # Save graph\n",
    "    write_edgelist(G,path+\"edgeList\"+str(i)+\".txt\",data=False) # other functions exist for other formats: https://networkx.org/documentation/stable/reference/readwrite/index.html\n",
    "    \n",
    "    # save (true) communities\n",
    "    np.savetxt(path+\"communities\"+str(i)+\".txt\",communities_vector,fmt=\"%d\")\n",
    "    \n",
    "    # save Louvain communities\n",
    "    np.savetxt(path+\"louvain_communities\"+str(i)+\".txt\",communities_louvain_vector,fmt=\"%d\")\n",
    "    \n",
    "    # Save parameters of the generator\n",
    "    str_parameters=\"n=\"+str(n)+\"\\n\"  +  \"tau1=\"+str(tau1)+\"\\n\"  +  \"tau2=\"+str(tau2)+\"\\n\"  +  \"mu=\"+str(mu)+\"\\n\"  +  \"average_degree=\"+str(average_degree)+\"\\n\"  +  \"min_degree=\"+str(min_degree)+\"\\n\"  +  \"max_degree=\"+str(max_degree)+\"\\n\"  +  \"min_community=\"+str(min_community)+\"\\n\"  +  \"max_community=\"+str(max_community)+\"\\n\"  +  \"tol=\"+str(tol)+\"\\n\"  +  \"max_iters=\"+str(max_iters)+\"\\n\"  +  \"seed=\"+str(seed)+\"\\n\"\n",
    "    f=open(path+\"parameters\"+str(i)+\".txt\",'w')\n",
    "    f.write(str_parameters)\n",
    "    f.close()"
   ]
  },
  {
   "cell_type": "code",
   "execution_count": null,
   "metadata": {},
   "outputs": [],
   "source": []
  }
 ],
 "metadata": {
  "interpreter": {
   "hash": "31f2aee4e71d21fbe5cf8b01ff0e069b9275f58929596ceb00d14d90e3e16cd6"
  },
  "kernelspec": {
   "display_name": "Julia 1.6.3",
   "language": "julia",
   "name": "julia-1.6"
  },
  "language_info": {
   "codemirror_mode": {
    "name": "ipython",
    "version": 3
   },
   "file_extension": ".py",
   "mimetype": "text/x-python",
   "name": "julia",
   "nbconvert_exporter": "python",
   "pygments_lexer": "ipython3",
   "version": "3.8.2"
  }
 },
 "nbformat": 4,
 "nbformat_minor": 2
}
