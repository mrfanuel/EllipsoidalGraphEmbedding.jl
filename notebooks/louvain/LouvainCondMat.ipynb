{
 "cells": [
  {
   "cell_type": "code",
   "execution_count": 1,
   "metadata": {},
   "outputs": [
    {
     "name": "stdout",
     "output_type": "stream",
     "text": [
      "Construct the graph from the jld file (edgelist) ...\n",
      "0\n",
      "10000\n",
      "20000\n",
      "30000\n",
      "40000\n",
      "50000\n",
      "60000\n",
      "70000\n",
      "80000\n",
      "90000\n",
      "IGRAPH U--- 16726 95188 -- \n",
      "Done.\n",
      "Largest connected component\n",
      "IGRAPH U--- 13861 89238 -- \n"
     ]
    }
   ],
   "source": [
    "import igraph as ig\n",
    "import numpy as np\n",
    "import louvain\n",
    "import time\n",
    "\n",
    "print(\"Construct the graph from the jld file (edgelist) ...\")\n",
    "adj =np.load(\"Data/CondMat/CondMat.npz\")\n",
    "dim = np.shape(adj);\n",
    "N = int(np.max(adj));\n",
    "\n",
    "g = ig.Graph();\n",
    "g.add_vertices(N);\n",
    "for i in range(0, dim[0]):\n",
    "    g.add_edges([(int(adj[i,0])-1,int(adj[i,1])-1)]);\n",
    "    if np.mod(i,10000)==0: \n",
    "        print(i)\n",
    "ig.summary(g)\n",
    "print(\"Done.\")\n",
    "\n",
    "print(\"Largest connected component\")\n",
    "largest = g.clusters().giant();\n",
    "ig.summary(largest)"
   ]
  },
  {
   "cell_type": "code",
   "execution_count": 2,
   "metadata": {},
   "outputs": [
    {
     "name": "stdout",
     "output_type": "stream",
     "text": [
      "Running Louvain 1 times in C++\n",
      "--- 0.3788166046142578 seconds ---\n",
      "Modularity : 0.834585787077255\n",
      "Sizes of the groups: [547, 541, 459, 449, 439, 436, 418, 394, 394, 382, 378, 355, 343, 336, 335, 300, 299, 297, 250, 246, 240, 234, 229, 224, 208, 198, 196, 194, 193, 189, 186, 184, 182, 182, 179, 178, 176, 174, 167, 165, 163, 149, 147, 143, 141, 140, 140, 114, 104, 101, 97, 97, 96, 93, 89, 81, 76, 73, 62, 59, 59, 59, 48, 17, 13, 12, 12]\n"
     ]
    }
   ],
   "source": [
    "print(\"Running Louvain 1 times in C++\")\n",
    "start_time = time.time()\n",
    "\n",
    "part = louvain.find_partition(largest, louvain.ModularityVertexPartition);\n",
    "\n",
    "        \n",
    "print(\"--- %s seconds ---\" % (time.time() - start_time))\n",
    "\n",
    "print(\"Modularity :\",part.modularity)\n",
    "print(\"Sizes of the groups:\", part.sizes())"
   ]
  },
  {
   "cell_type": "code",
   "execution_count": 4,
   "metadata": {},
   "outputs": [
    {
     "name": "stdout",
     "output_type": "stream",
     "text": [
      "Running Louvain 1000 times in C++\n",
      "--- 322.94765281677246 seconds ---\n",
      "Modularity : 0.834585787077255\n",
      "Sizes of the groups: [547, 541, 459, 449, 439, 436, 418, 394, 394, 382, 378, 355, 343, 336, 335, 300, 299, 297, 250, 246, 240, 234, 229, 224, 208, 198, 196, 194, 193, 189, 186, 184, 182, 182, 179, 178, 176, 174, 167, 165, 163, 149, 147, 143, 141, 140, 140, 114, 104, 101, 97, 97, 96, 93, 89, 81, 76, 73, 62, 59, 59, 59, 48, 17, 13, 12, 12]\n"
     ]
    }
   ],
   "source": [
    "print(\"Running Louvain 1000 times in C++\")\n",
    "start_time = time.time()\n",
    "\n",
    "m_best =0;\n",
    "part_best = louvain.find_partition(largest, louvain.ModularityVertexPartition);\n",
    "\n",
    "\n",
    "for n in range(1000):\n",
    "    part = louvain.find_partition(largest, louvain.ModularityVertexPartition);\n",
    "    m = part.modularity;\n",
    "    if m_best>m:\n",
    "        m_best = m;\n",
    "        part_best = part;\n",
    "        \n",
    "\n",
    "print(\"--- %s seconds ---\" % (time.time() - start_time))\n",
    "\n",
    "print(\"Modularity :\",part_best.modularity)\n",
    "print(\"Sizes of the groups:\", part_best.sizes())"
   ]
  },
  {
   "cell_type": "code",
   "execution_count": 5,
   "metadata": {},
   "outputs": [
    {
     "data": {
      "text/plain": [
       "67"
      ]
     },
     "execution_count": 5,
     "metadata": {},
     "output_type": "execute_result"
    }
   ],
   "source": [
    "len(part_best.sizes())"
   ]
  },
  {
   "cell_type": "code",
   "execution_count": null,
   "metadata": {
    "collapsed": true
   },
   "outputs": [],
   "source": []
  }
 ],
 "metadata": {
  "kernelspec": {
   "display_name": "Python 3",
   "language": "python",
   "name": "python3"
  },
  "language_info": {
   "codemirror_mode": {
    "name": "ipython",
    "version": 3
   },
   "file_extension": ".py",
   "mimetype": "text/x-python",
   "name": "python",
   "nbconvert_exporter": "python",
   "pygments_lexer": "ipython3",
   "version": "3.6.3"
  }
 },
 "nbformat": 4,
 "nbformat_minor": 2
}
