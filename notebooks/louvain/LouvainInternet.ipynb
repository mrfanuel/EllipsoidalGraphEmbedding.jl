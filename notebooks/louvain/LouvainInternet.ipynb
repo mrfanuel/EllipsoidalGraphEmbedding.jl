{
 "cells": [
  {
   "cell_type": "code",
   "execution_count": 3,
   "metadata": {},
   "outputs": [
    {
     "name": "stdout",
     "output_type": "stream",
     "text": [
      "Construct the graph from the jld file (edgelist) ...\n",
      "0\n",
      "10000\n",
      "20000\n",
      "30000\n",
      "40000\n",
      "50000\n",
      "60000\n",
      "70000\n",
      "80000\n",
      "90000\n",
      "IGRAPH U--- 22963 96872 -- \n",
      "Done.\n",
      "Largest connected component\n",
      "IGRAPH U--- 22963 96872 -- \n"
     ]
    }
   ],
   "source": [
    "import igraph as ig\n",
    "import numpy as np\n",
    "import louvain\n",
    "import time\n",
    "\n",
    "print(\"Construct the graph from the jld file (edgelist) ...\")\n",
    "adj =np.load(\"Data/Internet/as22july06.npz\")\n",
    "dim = np.shape(adj);\n",
    "N = int(np.max(adj));\n",
    "g = ig.Graph();\n",
    "g.add_vertices(N);\n",
    "for i in range(0, dim[0]):\n",
    "    g.add_edges([(int(adj[i,0])-1,int(adj[i,1])-1)]);\n",
    "    if np.mod(i,10000)==0: \n",
    "        print(i)\n",
    "ig.summary(g)\n",
    "print(\"Done.\")\n",
    "\n",
    "print(\"Largest connected component\")\n",
    "largest = g.clusters().giant();\n",
    "ig.summary(largest)"
   ]
  },
  {
   "cell_type": "code",
   "execution_count": 5,
   "metadata": {},
   "outputs": [
    {
     "name": "stdout",
     "output_type": "stream",
     "text": [
      "Running Louvain 1 times in C++\n",
      "--- 0.36606264114379883 seconds ---\n",
      "Modularity : 0.6611974336927093\n",
      "Sizes of the groups: [4944, 2916, 1643, 1546, 1527, 1225, 934, 650, 584, 523, 509, 494, 488, 470, 467, 416, 389, 341, 329, 320, 310, 248, 242, 230, 152, 145, 140, 137, 125, 117, 112, 111, 77, 50, 18, 15, 6, 4, 3, 3, 3]\n"
     ]
    }
   ],
   "source": [
    "print(\"Running Louvain 1 times\")\n",
    "start_time = time.time()\n",
    "\n",
    "part = louvain.find_partition(largest, louvain.ModularityVertexPartition);\n",
    "\n",
    "        \n",
    "print(\"--- %s seconds ---\" % (time.time() - start_time))\n",
    "\n",
    "print(\"Modularity :\",part.modularity)\n",
    "print(\"Sizes of the groups:\", part.sizes())"
   ]
  },
  {
   "cell_type": "code",
   "execution_count": 7,
   "metadata": {},
   "outputs": [
    {
     "name": "stdout",
     "output_type": "stream",
     "text": [
      "Running Louvain 1000 times in C++\n",
      "--- 367.40837240219116 seconds ---\n",
      "Modularity : 0.6672591752007929\n",
      "Sizes of the groups: [4916, 2868, 2109, 1350, 1302, 1245, 996, 959, 652, 530, 528, 509, 496, 491, 486, 461, 458, 371, 296, 238, 237, 230, 200, 186, 154, 141, 137, 125, 117, 100, 50, 18, 4, 3]\n"
     ]
    }
   ],
   "source": [
    "print(\"Running Louvain 1000 times\")\n",
    "start_time = time.time()\n",
    "\n",
    "m_best =0;\n",
    "part_best = louvain.find_partition(largest, louvain.ModularityVertexPartition);\n",
    "\n",
    "\n",
    "for n in range(1000):\n",
    "    part = louvain.find_partition(largest, louvain.ModularityVertexPartition);\n",
    "    m = part.modularity;\n",
    "    if m_best<m:\n",
    "        m_best = m;\n",
    "        part_best = part;\n",
    "        \n",
    "\n",
    "print(\"--- %s seconds ---\" % (time.time() - start_time))\n",
    "\n",
    "print(\"Modularity :\",part_best.modularity)\n",
    "print(\"Sizes of the groups:\", part_best.sizes())"
   ]
  },
  {
   "cell_type": "code",
   "execution_count": 8,
   "metadata": {},
   "outputs": [
    {
     "data": {
      "text/plain": [
       "34"
      ]
     },
     "execution_count": 8,
     "metadata": {},
     "output_type": "execute_result"
    }
   ],
   "source": [
    "len(part_best.sizes())"
   ]
  },
  {
   "cell_type": "code",
   "execution_count": null,
   "metadata": {
    "collapsed": true
   },
   "outputs": [],
   "source": []
  }
 ],
 "metadata": {
  "kernelspec": {
   "display_name": "Python 3",
   "language": "python",
   "name": "python3"
  },
  "language_info": {
   "codemirror_mode": {
    "name": "ipython",
    "version": 3
   },
   "file_extension": ".py",
   "mimetype": "text/x-python",
   "name": "python",
   "nbconvert_exporter": "python",
   "pygments_lexer": "ipython3",
   "version": "3.6.3"
  }
 },
 "nbformat": 4,
 "nbformat_minor": 2
}
