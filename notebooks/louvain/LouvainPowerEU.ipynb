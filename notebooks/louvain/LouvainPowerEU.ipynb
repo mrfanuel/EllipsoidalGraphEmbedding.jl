{
 "cells": [
  {
   "cell_type": "code",
   "execution_count": 1,
   "metadata": {
    "collapsed": true
   },
   "outputs": [],
   "source": [
    "import igraph as ig\n",
    "import numpy as np\n",
    "import louvain\n",
    "import time"
   ]
  },
  {
   "cell_type": "code",
   "execution_count": 2,
   "metadata": {},
   "outputs": [
    {
     "name": "stdout",
     "output_type": "stream",
     "text": [
      "Construct the graph from the txt file (edgelist)\n",
      "IGRAPH U--- 2783 3601 -- \n"
     ]
    }
   ],
   "source": [
    "print(\"Construct the graph from the txt file (edgelist)\")\n",
    "\n",
    "input = np.loadtxt(\"Data/ElistPowerEU.txt\", dtype='i', delimiter=' ');\n",
    "dim = input.shape;\n",
    "N = input.max();\n",
    "g = ig.Graph();\n",
    "g.add_vertices(N);\n",
    "for i in range(0, dim[0]):\n",
    "    g.add_edges([(input[i,0]-1,input[i,1]-1)]);\n",
    "ig.summary(g)"
   ]
  },
  {
   "cell_type": "code",
   "execution_count": 3,
   "metadata": {},
   "outputs": [
    {
     "name": "stdout",
     "output_type": "stream",
     "text": [
      "Largest connected component\n",
      "IGRAPH U--- 2712 3580 -- \n"
     ]
    }
   ],
   "source": [
    "print(\"Largest connected component\")\n",
    "largest = g.clusters().giant();\n",
    "ig.summary(largest)"
   ]
  },
  {
   "cell_type": "code",
   "execution_count": 5,
   "metadata": {},
   "outputs": [
    {
     "name": "stdout",
     "output_type": "stream",
     "text": [
      "Running Louvain 1 times in C++\n",
      "--- 0.034647464752197266 seconds ---\n",
      "Modularity : 0.9191233497706065\n",
      "Sizes of the groups: [155, 138, 134, 130, 126, 124, 117, 110, 104, 96, 94, 92, 92, 91, 90, 90, 87, 84, 78, 73, 71, 64, 63, 58, 58, 56, 53, 50, 47, 47, 20, 20]\n"
     ]
    }
   ],
   "source": [
    "print(\"Running Louvain 1 times in C++\")\n",
    "start_time = time.time()\n",
    "\n",
    "part = louvain.find_partition(largest, louvain.ModularityVertexPartition);\n",
    "\n",
    "        \n",
    "print(\"--- %s seconds ---\" % (time.time() - start_time))\n",
    "\n",
    "print(\"Modularity :\",part.modularity)\n",
    "print(\"Sizes of the groups:\", part.sizes())"
   ]
  },
  {
   "cell_type": "code",
   "execution_count": 9,
   "metadata": {},
   "outputs": [
    {
     "name": "stdout",
     "output_type": "stream",
     "text": [
      "IGRAPH U--- 2712 3580 -- \n",
      "Running Louvain 100 times in C++\n",
      "--- 3.5878243446350098 seconds ---\n",
      "Modularity : 0.9216666536624947\n",
      "Sizes of the groups: [155, 140, 133, 126, 115, 114, 105, 103, 103, 103, 98, 96, 96, 93, 88, 87, 82, 79, 76, 75, 72, 69, 69, 67, 64, 60, 58, 53, 48, 45, 20, 20]\n"
     ]
    }
   ],
   "source": [
    "ig.summary(largest);\n",
    "print(\"Running Louvain 100 times in C++\")\n",
    "start_time = time.time()\n",
    "\n",
    "m_best =0;\n",
    "part_best = louvain.find_partition(largest, louvain.ModularityVertexPartition);\n",
    "\n",
    "\n",
    "for n in range(100):\n",
    "    part = louvain.find_partition(largest, louvain.ModularityVertexPartition);\n",
    "    m = part.modularity;\n",
    "    if m_best<m:\n",
    "        m_best = m;\n",
    "        part_best = part;\n",
    "        \n",
    "\n",
    "print(\"--- %s seconds ---\" % (time.time() - start_time))\n",
    "\n",
    "print(\"Modularity :\",part_best.modularity)\n",
    "print(\"Sizes of the groups:\", part_best.sizes())"
   ]
  },
  {
   "cell_type": "code",
   "execution_count": 10,
   "metadata": {
    "collapsed": true
   },
   "outputs": [],
   "source": [
    "communities_Louvain = part_best.membership;\n",
    "Q = part_best.modularity;\n",
    "import numpy, scipy.io\n",
    "\n",
    "scipy.io.savemat('Data/Louvain_PowerEU.mat', mdict={'communities_Louvain': communities_Louvain})"
   ]
  },
  {
   "cell_type": "code",
   "execution_count": 5,
   "metadata": {},
   "outputs": [
    {
     "data": {
      "text/plain": [
       "86"
      ]
     },
     "execution_count": 5,
     "metadata": {},
     "output_type": "execute_result"
    }
   ],
   "source": [
    "len(part_best)"
   ]
  },
  {
   "cell_type": "code",
   "execution_count": 5,
   "metadata": {},
   "outputs": [
    {
     "name": "stderr",
     "output_type": "stream",
     "text": [
      "/home/fanuel/anaconda3/lib/python3.6/site-packages/scipy/sparse/compressed.py:774: SparseEfficiencyWarning: Changing the sparsity structure of a csr_matrix is expensive. lil_matrix is more efficient.\n",
      "  SparseEfficiencyWarning)\n"
     ]
    },
    {
     "name": "stdout",
     "output_type": "stream",
     "text": [
      "Normalized Cut\n",
      "348.021857911\n"
     ]
    }
   ],
   "source": [
    "from scipy.sparse import csr_matrix\n",
    "from scipy.sparse import lil_matrix\n",
    "\n",
    "membership =part_best.membership;\n",
    "H = lil_matrix((part_best.n,len(part_best.sizes())));\n",
    "i = 0;\n",
    "for n in membership:\n",
    "    H[i,n] =1.;\n",
    "    i = i+1;\n",
    "    \n",
    "e_list = largest.get_edgelist();\n",
    "e_list = np.array(e_list);\n",
    "\n",
    "A = lil_matrix((part_best.n,part_best.n), dtype=np.int8);\n",
    "\n",
    "for n in range(len(e_list)):\n",
    "    A[e_list[n,0],e_list[n,1]] = 1;\n",
    "\n",
    "A = A+lil_matrix.transpose(A);\n",
    "deg = A.sum(0)\n",
    "\n",
    "\n",
    "L_n = lil_matrix((part_best.n,part_best.n));\n",
    "\n",
    "for n in range(len(e_list)):\n",
    "    L_n[e_list[n,0],e_list[n,1]] = -1./np.sqrt(deg[0,e_list[n,0]]*deg[0,e_list[n,1]]);\n",
    "    \n",
    "L_n = L_n+lil_matrix.transpose(L_n);\n",
    "\n",
    "\n",
    "for a in range(part_best.n):\n",
    "    L_n[a,a] = 1.;\n",
    "            \n",
    "\n",
    "T =(lil_matrix.transpose(H)*L_n*H);\n",
    "d = np.array(T.diagonal());\n",
    "n_cut = np.sum(d);\n",
    "print('Normalized Cut')\n",
    "print(n_cut)"
   ]
  },
  {
   "cell_type": "code",
   "execution_count": null,
   "metadata": {
    "collapsed": true
   },
   "outputs": [],
   "source": []
  }
 ],
 "metadata": {
  "kernelspec": {
   "display_name": "Python 3",
   "language": "python",
   "name": "python3"
  },
  "language_info": {
   "codemirror_mode": {
    "name": "ipython",
    "version": 3
   },
   "file_extension": ".py",
   "mimetype": "text/x-python",
   "name": "python",
   "nbconvert_exporter": "python",
   "pygments_lexer": "ipython3",
   "version": "3.6.3"
  }
 },
 "nbformat": 4,
 "nbformat_minor": 2
}
