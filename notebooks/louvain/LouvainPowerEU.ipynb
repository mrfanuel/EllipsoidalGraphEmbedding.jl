{
 "cells": [
  {
   "cell_type": "code",
   "execution_count": 8,
   "metadata": {
    "collapsed": true
   },
   "outputs": [],
   "source": [
    "import igraph as ig\n",
    "import numpy as np\n",
    "import louvain\n",
    "import time"
   ]
  },
  {
   "cell_type": "code",
   "execution_count": 9,
   "metadata": {},
   "outputs": [
    {
     "name": "stdout",
     "output_type": "stream",
     "text": [
      "Construct the graph from the txt file (edgelist)\n",
      "IGRAPH U--- 2783 3601 -- \n"
     ]
    }
   ],
   "source": [
    "print(\"Construct the graph from the txt file (edgelist)\")\n",
    "\n",
    "input = np.loadtxt(\"../data/PowerEU/ElistPowerEU.txt\", dtype='i', delimiter=' ');\n",
    "dim = input.shape;\n",
    "N = input.max();\n",
    "g = ig.Graph();\n",
    "g.add_vertices(N);\n",
    "for i in range(0, dim[0]):\n",
    "    g.add_edges([(input[i,0]-1,input[i,1]-1)]);\n",
    "ig.summary(g)"
   ]
  },
  {
   "cell_type": "code",
   "execution_count": 10,
   "metadata": {},
   "outputs": [
    {
     "name": "stdout",
     "output_type": "stream",
     "text": [
      "Largest connected component\n",
      "IGRAPH U--- 2712 3580 -- \n"
     ]
    },
    {
     "name": "stderr",
     "output_type": "stream",
     "text": [
      "/var/folders/b7/w5j5st2x5d9f77725jtxfcqh0000gn/T/ipykernel_37976/2916332679.py:2: DeprecationWarning: Graph.clusters() is deprecated; use Graph.connected_components() instead\n",
      "  largest = g.clusters().giant();\n"
     ]
    }
   ],
   "source": [
    "print(\"Largest connected component\")\n",
    "largest = g.clusters().giant();\n",
    "ig.summary(largest)"
   ]
  },
  {
   "cell_type": "code",
   "execution_count": 11,
   "metadata": {},
   "outputs": [
    {
     "name": "stdout",
     "output_type": "stream",
     "text": [
      "Running Louvain 1 times in C++\n",
      "--- 0.17787408828735352 seconds ---\n",
      "Modularity : 0.9209664180269029\n",
      "Sizes of the groups: [156, 128, 124, 116, 112, 108, 105, 105, 104, 103, 99, 96, 95, 91, 83, 80, 78, 76, 76, 71, 70, 67, 66, 66, 63, 62, 59, 56, 52, 50, 36, 20, 20, 19]\n"
     ]
    }
   ],
   "source": [
    "print(\"Running Louvain 1 times in C++\")\n",
    "start_time = time.time()\n",
    "\n",
    "part = louvain.find_partition(largest, louvain.ModularityVertexPartition);\n",
    "\n",
    "        \n",
    "print(\"--- %s seconds ---\" % (time.time() - start_time))\n",
    "\n",
    "print(\"Modularity :\",part.modularity)\n",
    "print(\"Sizes of the groups:\", part.sizes())"
   ]
  },
  {
   "cell_type": "code",
   "execution_count": 12,
   "metadata": {},
   "outputs": [
    {
     "name": "stdout",
     "output_type": "stream",
     "text": [
      "IGRAPH U--- 2712 3580 -- \n",
      "Running Louvain 100 times in C++\n",
      "--- 6.713068008422852 seconds ---\n",
      "Modularity : 0.9213700415093162\n",
      "Sizes of the groups: [155, 129, 124, 124, 119, 113, 105, 105, 105, 103, 99, 98, 95, 91, 89, 88, 84, 76, 75, 74, 71, 69, 68, 67, 67, 64, 61, 58, 48, 48, 20, 20]\n"
     ]
    }
   ],
   "source": [
    "ig.summary(largest);\n",
    "print(\"Running Louvain 100 times in C++\")\n",
    "start_time = time.time()\n",
    "\n",
    "m_best =0;\n",
    "part_best = louvain.find_partition(largest, louvain.ModularityVertexPartition);\n",
    "\n",
    "\n",
    "for n in range(100):\n",
    "    part = louvain.find_partition(largest, louvain.ModularityVertexPartition);\n",
    "    m = part.modularity;\n",
    "    if m_best<m:\n",
    "        m_best = m;\n",
    "        part_best = part;\n",
    "        \n",
    "\n",
    "print(\"--- %s seconds ---\" % (time.time() - start_time))\n",
    "\n",
    "print(\"Modularity :\",part_best.modularity)\n",
    "print(\"Sizes of the groups:\", part_best.sizes())"
   ]
  },
  {
   "cell_type": "code",
   "execution_count": null,
   "metadata": {
    "collapsed": true
   },
   "outputs": [],
   "source": []
  }
 ],
 "metadata": {
  "kernelspec": {
   "display_name": "Python 3",
   "language": "python",
   "name": "python3"
  },
  "language_info": {
   "codemirror_mode": {
    "name": "ipython",
    "version": 3
   },
   "file_extension": ".py",
   "mimetype": "text/x-python",
   "name": "python",
   "nbconvert_exporter": "python",
   "pygments_lexer": "ipython3",
   "version": "3.8.2"
  }
 },
 "nbformat": 4,
 "nbformat_minor": 2
}
