{
 "cells": [
  {
   "cell_type": "code",
   "execution_count": 1,
   "metadata": {
    "collapsed": true
   },
   "outputs": [],
   "source": [
    "import igraph as ig\n",
    "import numpy as np\n",
    "import louvain\n",
    "import time"
   ]
  },
  {
   "cell_type": "code",
   "execution_count": 3,
   "metadata": {},
   "outputs": [
    {
     "name": "stdout",
     "output_type": "stream",
     "text": [
      "Construct the graph from the jld file (edgelist) ...\n",
      "0\n",
      "10000\n",
      "20000\n",
      "30000\n",
      "40000\n",
      "50000\n",
      "60000\n",
      "70000\n",
      "80000\n",
      "90000\n",
      "100000\n",
      "110000\n",
      "120000\n",
      "130000\n",
      "140000\n",
      "150000\n",
      "160000\n",
      "170000\n",
      "180000\n",
      "190000\n",
      "200000\n",
      "210000\n",
      "220000\n",
      "230000\n",
      "240000\n",
      "250000\n",
      "260000\n",
      "270000\n",
      "280000\n",
      "290000\n",
      "300000\n",
      "310000\n",
      "320000\n",
      "330000\n",
      "340000\n",
      "350000\n",
      "360000\n",
      "370000\n",
      "380000\n",
      "390000\n",
      "400000\n",
      "410000\n",
      "420000\n",
      "IGRAPH U--- 31163 422674 -- \n",
      "Done.\n"
     ]
    }
   ],
   "source": [
    "print(\"Construct the graph from the jld file (edgelist) ...\")\n",
    "adj =np.load(\"Data/CondMat2003/CondMat2003.npz\")\n",
    "dim = np.shape(adj);\n",
    "N = int(np.max(adj));\n",
    "\n",
    "g = ig.Graph();\n",
    "g.add_vertices(N);\n",
    "for i in range(0, dim[0]):\n",
    "    g.add_edges([(int(adj[i,0])-1,int(adj[i,1])-1)]);\n",
    "    if np.mod(i,10000)==0: \n",
    "        print(i)\n",
    "ig.summary(g)\n",
    "print(\"Done.\")\n",
    "\n",
    "print(\"Largest connected component\")\n",
    "largest = g.clusters().giant();\n",
    "ig.summary(largest)"
   ]
  },
  {
   "cell_type": "code",
   "execution_count": 5,
   "metadata": {},
   "outputs": [
    {
     "name": "stdout",
     "output_type": "stream",
     "text": [
      "Running Louvain 1 times in C++\n",
      "--- 1.2120015621185303 seconds ---\n",
      "Modularity : 0.7417044919411386\n",
      "Sizes of the groups: [2124, 1966, 1811, 1199, 1135, 1079, 847, 797, 776, 766, 737, 718, 706, 678, 593, 593, 579, 567, 552, 509, 473, 469, 434, 433, 400, 395, 391, 374, 372, 368, 346, 341, 317, 312, 308, 301, 298, 294, 289, 259, 257, 232, 213, 178, 141, 120, 109, 93, 55, 45, 27, 26, 19, 14, 14, 14, 13, 12, 10, 8, 7, 6]\n"
     ]
    }
   ],
   "source": [
    "print(\"Running Louvain 1 times in C++\")\n",
    "start_time = time.time()\n",
    "\n",
    "part = louvain.find_partition(largest, louvain.ModularityVertexPartition);\n",
    "\n",
    "        \n",
    "print(\"--- %s seconds ---\" % (time.time() - start_time))\n",
    "\n",
    "print(\"Modularity :\",part.modularity)\n",
    "print(\"Sizes of the groups:\", part.sizes())"
   ]
  },
  {
   "cell_type": "code",
   "execution_count": 5,
   "metadata": {},
   "outputs": [
    {
     "name": "stdout",
     "output_type": "stream",
     "text": [
      "Running Louvain 1000 times in C++\n",
      "--- 1374.5065922737122 seconds ---\n",
      "Modularity : 0.7458218215090018\n",
      "Sizes of the groups: [2167, 1541, 1288, 1221, 1157, 1121, 993, 989, 983, 894, 890, 727, 701, 676, 646, 592, 572, 555, 506, 504, 499, 475, 448, 432, 427, 415, 409, 406, 374, 365, 334, 329, 325, 319, 313, 270, 263, 262, 243, 223, 200, 186, 176, 175, 171, 130, 121, 111, 111, 48, 45, 27, 26, 23, 19, 15, 15, 14, 13, 10, 9, 8, 7, 5]\n"
     ]
    }
   ],
   "source": [
    "print(\"Running Louvain 1000 times in C++\")\n",
    "start_time = time.time()\n",
    "\n",
    "m_best =0;\n",
    "part_best = louvain.find_partition(largest, louvain.ModularityVertexPartition);\n",
    "\n",
    "\n",
    "for n in range(1000):\n",
    "    part = louvain.find_partition(largest, louvain.ModularityVertexPartition);\n",
    "    m = part.modularity;\n",
    "    if m_best<m:\n",
    "        m_best = m;\n",
    "        part_best = part;\n",
    "        \n",
    "\n",
    "print(\"--- %s seconds ---\" % (time.time() - start_time))\n",
    "\n",
    "print(\"Modularity :\",part_best.modularity)\n",
    "print(\"Sizes of the groups:\", part_best.sizes())"
   ]
  },
  {
   "cell_type": "code",
   "execution_count": 6,
   "metadata": {},
   "outputs": [
    {
     "data": {
      "text/plain": [
       "64"
      ]
     },
     "execution_count": 6,
     "metadata": {},
     "output_type": "execute_result"
    }
   ],
   "source": [
    "len(part_best.sizes())"
   ]
  },
  {
   "cell_type": "code",
   "execution_count": null,
   "metadata": {
    "collapsed": true
   },
   "outputs": [],
   "source": []
  }
 ],
 "metadata": {
  "kernelspec": {
   "display_name": "Python 3",
   "language": "python",
   "name": "python3"
  },
  "language_info": {
   "codemirror_mode": {
    "name": "ipython",
    "version": 3
   },
   "file_extension": ".py",
   "mimetype": "text/x-python",
   "name": "python",
   "nbconvert_exporter": "python",
   "pygments_lexer": "ipython3",
   "version": "3.6.3"
  }
 },
 "nbformat": 4,
 "nbformat_minor": 2
}
