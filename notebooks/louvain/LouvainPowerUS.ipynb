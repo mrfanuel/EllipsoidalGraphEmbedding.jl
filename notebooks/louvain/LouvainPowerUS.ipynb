{
 "cells": [
  {
   "cell_type": "code",
   "execution_count": 1,
   "metadata": {
    "collapsed": true
   },
   "outputs": [],
   "source": [
    "import igraph as ig\n",
    "import numpy as np\n",
    "import louvain\n",
    "import time"
   ]
  },
  {
   "cell_type": "code",
   "execution_count": 2,
   "metadata": {},
   "outputs": [
    {
     "name": "stdout",
     "output_type": "stream",
     "text": [
      "Construct the graph from the txt file (edgelist)\n",
      "IGRAPH U--- 4941 6594 -- \n"
     ]
    }
   ],
   "source": [
    "print(\"Construct the graph from the txt file (edgelist)\")\n",
    "\n",
    "input = np.loadtxt(\"Data/ElistPowerUS.txt\", dtype='i', delimiter=' ');\n",
    "dim = input.shape;\n",
    "N = input.max();\n",
    "g = ig.Graph();\n",
    "g.add_vertices(N);\n",
    "for i in range(0, dim[0]):\n",
    "    g.add_edges([(input[i,0]-1,input[i,1]-1)]);\n",
    "ig.summary(g)"
   ]
  },
  {
   "cell_type": "code",
   "execution_count": 3,
   "metadata": {},
   "outputs": [
    {
     "name": "stdout",
     "output_type": "stream",
     "text": [
      "Largest connected component\n",
      "IGRAPH U--- 4941 6594 -- \n"
     ]
    }
   ],
   "source": [
    "print(\"Largest connected component\")\n",
    "largest = g.clusters().giant();\n",
    "ig.summary(largest)"
   ]
  },
  {
   "cell_type": "code",
   "execution_count": 4,
   "metadata": {},
   "outputs": [
    {
     "name": "stdout",
     "output_type": "stream",
     "text": [
      "Running Louvain 1 times in C++\n",
      "--- 0.05741548538208008 seconds ---\n",
      "Modularity : 0.9367274585060877\n",
      "Sizes of the groups: [262, 208, 201, 200, 196, 189, 187, 184, 180, 169, 164, 154, 153, 147, 144, 139, 136, 135, 134, 131, 121, 121, 119, 108, 105, 105, 100, 85, 83, 83, 79, 78, 78, 77, 55, 49, 45, 19, 18]\n"
     ]
    }
   ],
   "source": [
    "print(\"Running Louvain 1 times in C++\")\n",
    "start_time = time.time()\n",
    "\n",
    "part = louvain.find_partition(largest, louvain.ModularityVertexPartition);\n",
    "\n",
    "        \n",
    "print(\"--- %s seconds ---\" % (time.time() - start_time))\n",
    "\n",
    "print(\"Modularity :\",part.modularity)\n",
    "print(\"Sizes of the groups:\", part.sizes())"
   ]
  },
  {
   "cell_type": "code",
   "execution_count": 4,
   "metadata": {},
   "outputs": [
    {
     "name": "stdout",
     "output_type": "stream",
     "text": [
      "Running Louvain 1000 times in C++\n",
      "--- 61.680736780166626 seconds ---\n",
      "Modularity : 0.9378112693141412\n",
      "Sizes of the groups: [200, 199, 198, 197, 197, 171, 171, 168, 166, 164, 164, 158, 155, 154, 151, 147, 143, 143, 131, 124, 123, 115, 109, 108, 105, 102, 100, 98, 97, 94, 81, 78, 72, 71, 65, 62, 55, 45, 31, 29]\n"
     ]
    }
   ],
   "source": [
    "print(\"Running Louvain 1000 times in C++\")\n",
    "start_time = time.time()\n",
    "\n",
    "m_best =0;\n",
    "part_best = louvain.find_partition(largest, louvain.ModularityVertexPartition);\n",
    "\n",
    "\n",
    "for n in range(1000):\n",
    "    part = louvain.find_partition(largest, louvain.ModularityVertexPartition);\n",
    "    m = part.modularity;\n",
    "    if m_best<m:\n",
    "        m_best = m;\n",
    "        part_best = part;\n",
    "        \n",
    "\n",
    "print(\"--- %s seconds ---\" % (time.time() - start_time))\n",
    "\n",
    "print(\"Modularity :\",part_best.modularity)\n",
    "print(\"Sizes of the groups:\", part_best.sizes())"
   ]
  },
  {
   "cell_type": "code",
   "execution_count": null,
   "metadata": {
    "collapsed": true
   },
   "outputs": [],
   "source": []
  },
  {
   "cell_type": "code",
   "execution_count": 5,
   "metadata": {},
   "outputs": [
    {
     "data": {
      "text/plain": [
       "40"
      ]
     },
     "execution_count": 5,
     "metadata": {},
     "output_type": "execute_result"
    }
   ],
   "source": [
    "len(part_best)"
   ]
  },
  {
   "cell_type": "code",
   "execution_count": 5,
   "metadata": {},
   "outputs": [
    {
     "name": "stderr",
     "output_type": "stream",
     "text": [
      "/home/fanuel/anaconda3/lib/python3.6/site-packages/scipy/sparse/compressed.py:774: SparseEfficiencyWarning: Changing the sparsity structure of a csr_matrix is expensive. lil_matrix is more efficient.\n",
      "  SparseEfficiencyWarning)\n"
     ]
    },
    {
     "name": "stdout",
     "output_type": "stream",
     "text": [
      "Normalized Cut\n",
      "579.307921805\n"
     ]
    }
   ],
   "source": [
    "from scipy.sparse import csr_matrix\n",
    "from scipy.sparse import lil_matrix\n",
    "\n",
    "membership =part_best.membership;\n",
    "H = lil_matrix((part_best.n,len(part_best.sizes())));\n",
    "i = 0;\n",
    "for n in membership:\n",
    "    H[i,n] =1.;\n",
    "    i = i+1;\n",
    "    \n",
    "e_list = largest.get_edgelist();\n",
    "e_list = np.array(e_list);\n",
    "\n",
    "A = lil_matrix((part_best.n,part_best.n), dtype=np.int8);\n",
    "\n",
    "for n in range(len(e_list)):\n",
    "    A[e_list[n,0],e_list[n,1]] = 1;\n",
    "\n",
    "A = A+lil_matrix.transpose(A);\n",
    "deg = A.sum(0)\n",
    "\n",
    "\n",
    "L_n = lil_matrix((part_best.n,part_best.n));\n",
    "\n",
    "for n in range(len(e_list)):\n",
    "    L_n[e_list[n,0],e_list[n,1]] = -1./np.sqrt(deg[0,e_list[n,0]]*deg[0,e_list[n,1]]);\n",
    "    \n",
    "L_n = L_n+lil_matrix.transpose(L_n);\n",
    "\n",
    "\n",
    "for a in range(part_best.n):\n",
    "    L_n[a,a] = 1.;\n",
    "            \n",
    "\n",
    "T =(lil_matrix.transpose(H)*L_n*H);\n",
    "d = np.array(T.diagonal());\n",
    "n_cut = np.sum(d);\n",
    "print('Normalized Cut')\n",
    "print(n_cut)"
   ]
  },
  {
   "cell_type": "code",
   "execution_count": null,
   "metadata": {
    "collapsed": true
   },
   "outputs": [],
   "source": []
  }
 ],
 "metadata": {
  "kernelspec": {
   "display_name": "Python 3",
   "language": "python",
   "name": "python3"
  },
  "language_info": {
   "codemirror_mode": {
    "name": "ipython",
    "version": 3
   },
   "file_extension": ".py",
   "mimetype": "text/x-python",
   "name": "python",
   "nbconvert_exporter": "python",
   "pygments_lexer": "ipython3",
   "version": "3.6.3"
  }
 },
 "nbformat": 4,
 "nbformat_minor": 2
}
