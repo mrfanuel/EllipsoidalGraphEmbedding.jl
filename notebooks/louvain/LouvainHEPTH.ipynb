{
 "cells": [
  {
   "cell_type": "code",
   "execution_count": 2,
   "metadata": {},
   "outputs": [
    {
     "name": "stdout",
     "output_type": "stream",
     "text": [
      "Construct the graph from the jld file (edgelist) ...\n",
      "0\n",
      "10000\n",
      "20000\n",
      "30000\n",
      "IGRAPH U--- 8361 31502 -- \n",
      "Done.\n"
     ]
    }
   ],
   "source": [
    "import igraph as ig\n",
    "import numpy as np\n",
    "import louvain\n",
    "import time\n",
    "\n",
    "print(\"Construct the graph from the jld file (edgelist) ...\")\n",
    "adj =np.load(\"Data/HEPTH/HEPTH.npz\")\n",
    "dim = np.shape(adj);\n",
    "N = int(np.max(adj));\n",
    "\n",
    "g = ig.Graph();\n",
    "g.add_vertices(N);\n",
    "for i in range(0, dim[0]):\n",
    "    g.add_edges([(int(adj[i,0])-1,int(adj[i,1])-1)]);\n",
    "    if np.mod(i,10000)==0: \n",
    "        print(i)\n",
    "ig.summary(g)\n",
    "print(\"Done.\")\n",
    "\n",
    "print(\"Largest connected component\")\n",
    "largest = g.clusters().giant();\n",
    "ig.summary(largest)"
   ]
  },
  {
   "cell_type": "code",
   "execution_count": 4,
   "metadata": {},
   "outputs": [
    {
     "name": "stdout",
     "output_type": "stream",
     "text": [
      "Running Louvain 1 times in C++\n",
      "--- 0.126692533493042 seconds ---\n",
      "Modularity : 0.8219759452535048\n",
      "Sizes of the groups: [513, 260, 241, 224, 205, 200, 196, 183, 178, 163, 142, 138, 135, 134, 131, 128, 127, 125, 125, 122, 118, 116, 112, 111, 110, 99, 94, 93, 92, 89, 85, 80, 79, 75, 72, 72, 71, 68, 66, 65, 53, 52, 50, 41, 35, 32, 31, 30, 27, 22, 10, 8, 7]\n"
     ]
    }
   ],
   "source": [
    "print(\"Running Louvain 1 times in C++\")\n",
    "start_time = time.time()\n",
    "\n",
    "part = louvain.find_partition(largest, louvain.ModularityVertexPartition);\n",
    "\n",
    "        \n",
    "print(\"--- %s seconds ---\" % (time.time() - start_time))\n",
    "\n",
    "print(\"Modularity :\",part.modularity)\n",
    "print(\"Sizes of the groups:\", part.sizes())"
   ]
  },
  {
   "cell_type": "code",
   "execution_count": 4,
   "metadata": {},
   "outputs": [
    {
     "name": "stdout",
     "output_type": "stream",
     "text": [
      "Running Louvain 100 times in C++\n",
      "--- 16.123034715652466 seconds ---\n",
      "Modularity : 0.8265289149349457\n",
      "Sizes of the groups: [436, 267, 262, 240, 235, 223, 179, 173, 169, 158, 145, 131, 126, 126, 119, 118, 116, 115, 112, 111, 108, 107, 105, 99, 97, 95, 90, 89, 86, 81, 79, 76, 76, 76, 74, 67, 64, 63, 63, 56, 53, 49, 48, 48, 43, 39, 38, 38, 37, 36, 33, 31, 31, 29, 21, 19, 12, 10, 8]\n"
     ]
    }
   ],
   "source": [
    "print(\"Running Louvain 100 times in C++\")\n",
    "start_time = time.time()\n",
    "\n",
    "m_best =0;\n",
    "part_best = louvain.find_partition(largest, louvain.ModularityVertexPartition);\n",
    "\n",
    "\n",
    "for n in range(100):\n",
    "    part = louvain.find_partition(largest, louvain.ModularityVertexPartition);\n",
    "    m = part.modularity;\n",
    "    if m_best<m:\n",
    "        m_best = m;\n",
    "        part_best = part;\n",
    "        \n",
    "\n",
    "print(\"--- %s seconds ---\" % (time.time() - start_time))\n",
    "\n",
    "print(\"Modularity :\",part_best.modularity)\n",
    "print(\"Sizes of the groups:\", part_best.sizes())"
   ]
  },
  {
   "cell_type": "code",
   "execution_count": null,
   "metadata": {
    "collapsed": true
   },
   "outputs": [],
   "source": []
  }
 ],
 "metadata": {
  "kernelspec": {
   "display_name": "Python 3",
   "language": "python",
   "name": "python3"
  },
  "language_info": {
   "codemirror_mode": {
    "name": "ipython",
    "version": 3
   },
   "file_extension": ".py",
   "mimetype": "text/x-python",
   "name": "python",
   "nbconvert_exporter": "python",
   "pygments_lexer": "ipython3",
   "version": "3.6.3"
  }
 },
 "nbformat": 4,
 "nbformat_minor": 2
}
