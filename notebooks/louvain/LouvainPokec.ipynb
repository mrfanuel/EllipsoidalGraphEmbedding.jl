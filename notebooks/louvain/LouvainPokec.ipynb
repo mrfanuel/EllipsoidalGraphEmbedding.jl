{
 "cells": [
  {
   "cell_type": "code",
   "execution_count": 1,
   "metadata": {},
   "outputs": [
    {
     "ename": "ModuleNotFoundError",
     "evalue": "No module named 'igraph'",
     "output_type": "error",
     "traceback": [
      "\u001b[0;31m---------------------------------------------------------------------------\u001b[0m",
      "\u001b[0;31mModuleNotFoundError\u001b[0m                       Traceback (most recent call last)",
      "\u001b[0;32m/var/folders/b7/w5j5st2x5d9f77725jtxfcqh0000gn/T/ipykernel_32700/3670215982.py\u001b[0m in \u001b[0;36m<module>\u001b[0;34m\u001b[0m\n\u001b[0;32m----> 1\u001b[0;31m \u001b[0;32mimport\u001b[0m \u001b[0migraph\u001b[0m \u001b[0;32mas\u001b[0m \u001b[0mig\u001b[0m\u001b[0;34m\u001b[0m\u001b[0;34m\u001b[0m\u001b[0m\n\u001b[0m\u001b[1;32m      2\u001b[0m \u001b[0;32mimport\u001b[0m \u001b[0mnumpy\u001b[0m \u001b[0;32mas\u001b[0m \u001b[0mnp\u001b[0m\u001b[0;34m\u001b[0m\u001b[0;34m\u001b[0m\u001b[0m\n\u001b[1;32m      3\u001b[0m \u001b[0;32mimport\u001b[0m \u001b[0mlouvain\u001b[0m\u001b[0;34m\u001b[0m\u001b[0;34m\u001b[0m\u001b[0m\n\u001b[1;32m      4\u001b[0m \u001b[0;32mimport\u001b[0m \u001b[0mtime\u001b[0m\u001b[0;34m\u001b[0m\u001b[0;34m\u001b[0m\u001b[0m\n\u001b[1;32m      5\u001b[0m \u001b[0;34m\u001b[0m\u001b[0m\n",
      "\u001b[0;31mModuleNotFoundError\u001b[0m: No module named 'igraph'"
     ]
    }
   ],
   "source": [
    "import igraph as ig\n",
    "import numpy as np\n",
    "import louvain\n",
    "import time\n",
    "\n",
    "print(\"Construct the graph from the .dat edgelist\")\n",
    "\n",
    "g = ig.Graph.Read_Ncol('Data/Pokec/pokec-_edges.txt', directed=False);\n",
    "\n",
    "print(\"Largest connected component\")\n",
    "largest = g.clusters().giant();\n",
    "ig.summary(largest)"
   ]
  },
  {
   "cell_type": "code",
   "execution_count": null,
   "metadata": {},
   "outputs": [
    {
     "name": "stdout",
     "output_type": "stream",
     "text": [
      "Running Louvain 1 times in C++\n"
     ]
    }
   ],
   "source": [
    "print(\"Running Louvain 1 times in C++\")\n",
    "start_time = time.time()\n",
    "\n",
    "part = louvain.find_partition(largest, louvain.ModularityVertexPartition);\n",
    "\n",
    "        \n",
    "print(\"--- %s seconds ---\" % (time.time() - start_time))\n",
    "\n",
    "print(\"Modularity :\",part.modularity)\n",
    "print(\"Sizes of the groups:\", part.sizes())"
   ]
  },
  {
   "cell_type": "code",
   "execution_count": 4,
   "metadata": {},
   "outputs": [
    {
     "name": "stdout",
     "output_type": "stream",
     "text": [
      "Running Louvain 1 times in C++\n",
      "--- 1662.895499944687 seconds ---\n",
      "Modularity : 0.7328400403743253\n",
      "Sizes of the groups: [298092, 143015, 99018, 94889, 87572, 87515, 85824, 84296, 80930, 76292, 64523, 53248, 52528, 51444, 50520, 40932, 39846, 33885, 32515, 31659, 25962, 17729, 152, 85, 62, 32, 30, 24, 20, 18, 16, 15, 14, 13, 10, 9, 9, 9, 8, 8, 7, 7, 7, 5, 5, 4]\n"
     ]
    }
   ],
   "source": [
    "print(\"Running Louvain 1 times in C++\")\n",
    "start_time = time.time()\n",
    "\n",
    "m_best =0;\n",
    "part_best = louvain.find_partition(largest, louvain.ModularityVertexPartition);\n",
    "\n",
    "\n",
    "for n in range(1):\n",
    "    part = louvain.find_partition(largest, louvain.ModularityVertexPartition);\n",
    "    m = part.modularity;\n",
    "    if m_best>m:\n",
    "        m_best = m;\n",
    "        part_best = part;\n",
    "        \n",
    "\n",
    "print(\"--- %s seconds ---\" % (time.time() - start_time))\n",
    "\n",
    "print(\"Modularity :\",part_best.modularity)\n",
    "print(\"Sizes of the groups:\", part_best.sizes())"
   ]
  },
  {
   "cell_type": "code",
   "execution_count": null,
   "metadata": {
    "collapsed": true
   },
   "outputs": [],
   "source": []
  }
 ],
 "metadata": {
  "kernelspec": {
   "display_name": "Python 3",
   "language": "python",
   "name": "python3"
  },
  "language_info": {
   "codemirror_mode": {
    "name": "ipython",
    "version": 3
   },
   "file_extension": ".py",
   "mimetype": "text/x-python",
   "name": "python",
   "nbconvert_exporter": "python",
   "pygments_lexer": "ipython3",
   "version": "3.8.2"
  }
 },
 "nbformat": 4,
 "nbformat_minor": 2
}
