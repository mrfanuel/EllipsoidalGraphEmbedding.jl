{
 "cells": [
  {
   "cell_type": "code",
   "execution_count": 1,
   "metadata": {},
   "outputs": [
    {
     "name": "stdout",
     "output_type": "stream",
     "text": [
      "Read the file and construct the sparse affinity matrix \n"
     ]
    }
   ],
   "source": [
    "using MatrixNetworks\n",
    "using Distributions\n",
    "using Gadfly\n",
    "using Clustering\n",
    " \n",
    "include(\"Data/Wikivote/Readwikivote.jl\")\n",
    "m = readdlm(\"Data/Wikivote/wiki-Vote.txt\");\n",
    "\n",
    "const dim0 = size(m);\n",
    "M_int = Array{Int64,2}(dim0[1],2);\n",
    "for i =1:dim0[1]\n",
    "\tfor j=1:2\n",
    "\t\tM_int[i,j] = Int64(m[i,j]);\n",
    "\tend\n",
    "end\t\n",
    "\n",
    "N = maximum([maximum(M_int[:,1]),maximum(M_int[:,2])]);\n",
    "\n",
    "A0 =spzeros(N,N);\n",
    "A0 = sparse(M_int[:,1],M_int[:,2],vec(ones(Int64,dim0[1],1)),N,N);\n",
    "A0 = A0+A0';\n",
    "A,p = largest_component(A0);\n",
    "\n",
    "\n",
    "A0=0;M_int=0;p=0; m=0;\n",
    "gc();"
   ]
  },
  {
   "cell_type": "code",
   "execution_count": 2,
   "metadata": {},
   "outputs": [
    {
     "name": "stdout",
     "output_type": "stream",
     "text": [
      "[94.2059, 79.3881, 61.5265, 54.112, 44.636, 41.0007, 37.2999, 34.1442, 33.0396, 31.078, 28.5853, 28.433, 27.6056, 26.8602, 26.1597, 25.4311, 24.8522, 24.7663, 24.1516, 23.935, 23.4879, 23.1212, 22.7672, 22.4074, 21.957, 21.6821, 21.4898, 21.2703, 21.0723, 20.9768, 20.7423, 20.5539, 20.2083, 19.9561, 19.8485, 19.7501, 19.6136, 19.3887, 19.1173, 18.9497, 18.8365, 18.6478, 18.6819, 18.5944, 18.3822, 18.2273, 18.3876, 18.0426, 17.9748, 17.9839, 17.8478, 17.6668, 17.4034, 17.4731, 17.3502, 17.3749, 17.1529, 17.0527, 16.9455, 16.6663, 16.725, 16.8272, 16.6347, 16.4652, 16.4629, 16.5041, 16.3518, 16.3075, 16.1142, 16.0191, 16.1314, 15.9671, 15.9577, 15.9149, 15.7412, 15.7153, 15.665, 15.5971, 15.4996, 15.453, 15.4321, 15.2165, 15.178, 15.2527, 15.1733, 15.0947, 15.0747, 14.9057, 14.9597, 14.9271, 14.8679, 14.7071, 14.7873, 14.7255, 14.6661, 14.5356, 14.4049, 14.4605, 14.4394, 14.3866]"
     ]
    }
   ],
   "source": [
    "d = sum(A,2);\n",
    "s = sum(d);\n",
    "\n",
    "r = 100;\n",
    "N = length(d); \n",
    "\n",
    "v0 = rand(Uniform(-1,1),N,r);\n",
    "v0 = v0./sqrt.(sum(abs2, v0, 1));\n",
    "v0, t = qr(v0);\n",
    "l0 = diag(t);\n",
    "\n",
    "\n",
    "### Preprocess ###\n",
    "u0 = rand(Uniform(-1,1),N,1);\n",
    "u0 = u0./norm(u0);\n",
    "n=0;\n",
    "for it = 1:30\n",
    "    u0 = A*u0 .- (d/s)*(d'*u0);\n",
    "    n = norm(u0,2);\n",
    "    u0 = u0/n;\n",
    "end\n",
    "shift = n;\n",
    "\n",
    "l = l0;\n",
    "##################\n",
    "\n",
    "it_max=10000;\n",
    "it = 1;\n",
    "while it <=it_max\n",
    "    v0 = A*v0 .- (d/s)*(d'*v0) .+ shift*v0;\n",
    "    v0, t = qr(v0);\n",
    "    l = diag(t);\n",
    "    if norm(vec(abs.(l))-vec(abs.(l0)))<1e-03\n",
    "             break;\n",
    "    end\n",
    "    l0 = l;\n",
    "    it = it+1;\n",
    "end\n",
    "\n",
    "if it ==it_max\n",
    "        print(\"No convergence\")\n",
    "end \n",
    "\n",
    "print(l0-shift)"
   ]
  },
  {
   "cell_type": "code",
   "execution_count": 3,
   "metadata": {},
   "outputs": [
    {
     "name": "stdout",
     "output_type": "stream",
     "text": [
      "Number of updates: 1\n",
      "Number of communities: 6\n",
      "Modularity: 0.42285502781128015\n",
      "n: 3\n"
     ]
    }
   ],
   "source": [
    "include(\"Algo/UpdateCentroids.jl\")\n",
    "include(\"Algo/FindCommunity.jl\")\n",
    "include(\"Algo/Reorder.jl\")\n",
    "include(\"Algo/Partition.jl\")\n",
    "\n",
    "n_clusters = 200;\n",
    "n_it_Kmeans = 500;\n",
    "n_updates = 100;\n",
    "community = vec(zeros(N,1));\n",
    "community0 = vec(zeros(N,1));\n",
    "\n",
    "Q_best_best = 0;\n",
    "n_c_best_best = 0;\n",
    "n_updates_best_best = 0;\n",
    "r_best = 2;\n",
    "for r=2:100\n",
    "    \n",
    "    Sig = v0[:,1:r]';\n",
    "    Q_best = 0;\n",
    "    n_c_best = 0;\n",
    "    n_c = 0;\n",
    "    # Probability mass for sampling the initial centroids\n",
    "    p = vec(d/s);\n",
    "    n_updates_best = 0;\n",
    "\n",
    "    for k =1:n_it_Kmeans\n",
    "\n",
    "        community0, Q, n_updates = Partition(A,Sig,n_updates,n_clusters,p);\n",
    "        n_c = length(unique(community0));\n",
    "            if Q>Q_best\n",
    "            community = community0;\n",
    "            Q_best = Q;\n",
    "            n_c_best = n_c;\n",
    "            n_updates_best = n_updates;\n",
    "            end\n",
    "    end\t\n",
    "\n",
    "    community = Reorder(community);\n",
    "    \n",
    "    if Q_best>Q_best_best \n",
    "        r_best = r;\n",
    "        Q_best_best = Q_best;\n",
    "        n_c_best_best = n_c_best;\n",
    "        n_updates_best_best = n_updates_best;\n",
    "    end\n",
    "    \n",
    "end\n",
    "\n",
    "\n",
    "\tprint(\"Number of updates: \")\n",
    "\tprint(n_updates_best_best )\n",
    "\tprint(\"\\n\")\n",
    "\tprint(\"Number of communities: \")\n",
    "\tprint(n_c_best_best )\n",
    "\tprint(\"\\n\")\n",
    "\n",
    "\tprint(\"Modularity: \")\n",
    "\tprint(Q_best_best )\n",
    "\tprint(\"\\n\")\n",
    "\tprint(\"n: \")\n",
    "\tprint(r_best )\n",
    "\tprint(\"\\n\")\n"
   ]
  },
  {
   "cell_type": "code",
   "execution_count": null,
   "metadata": {
    "collapsed": true
   },
   "outputs": [],
   "source": []
  }
 ],
 "metadata": {
  "kernelspec": {
   "display_name": "Julia 0.6.1",
   "language": "julia",
   "name": "julia-0.6"
  },
  "language_info": {
   "file_extension": ".jl",
   "mimetype": "application/julia",
   "name": "julia",
   "version": "0.6.1"
  }
 },
 "nbformat": 4,
 "nbformat_minor": 2
}
