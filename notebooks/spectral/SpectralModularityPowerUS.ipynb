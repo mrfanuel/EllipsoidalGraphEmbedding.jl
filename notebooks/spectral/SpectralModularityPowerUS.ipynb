{
 "cells": [
  {
   "cell_type": "code",
   "execution_count": 1,
   "metadata": {
    "collapsed": true
   },
   "outputs": [],
   "source": [
    "using Erdos\n",
    "using Distributions\n",
    "using Gadfly\n",
    "using Clustering\n",
    "using MatrixNetworks\n",
    "\n",
    "m = readdlm(\"Data/PowerUS/ElistPowerUS.txt\");\n",
    "\n",
    "const dim0 = size(m);\n",
    "M_int = Array{Int64,2}(dim0[1],2);\n",
    "for i =1:dim0[1]\n",
    "\tfor j=1:2\n",
    "\t\tM_int[i,j] = Int64(m[i,j]);\n",
    "\tend\n",
    "end\t\n",
    "\n",
    "N = maximum([maximum(M_int[:,1]),maximum(M_int[:,2])]);\n",
    "\n",
    "A0 =spzeros(N,N);\n",
    "A0 = sparse(M_int[:,1],M_int[:,2],vec(ones(Int64,dim0[1],1)),N,N);\n",
    "A0 = A0+A0';\n",
    "A,p = largest_component(A0);\n",
    "\n",
    "\n",
    "########################### Free memory #################\n",
    "\n",
    "A0=0;M_int=0;p=0; m=0;\n",
    "gc();"
   ]
  },
  {
   "cell_type": "code",
   "execution_count": 2,
   "metadata": {},
   "outputs": [
    {
     "name": "stdout",
     "output_type": "stream",
     "text": [
      "[7.39025, 6.60827, 5.53959, 5.31819, 5.21386, 5.2483, 5.12896, 5.08091, 5.00709, 4.88611, 4.89964, 4.81005, 4.67227, 4.66711, 4.59583, 4.63066, 4.5427, 4.51668, 4.40028, 4.36442, 4.38951, 4.3521, 4.34703, 4.26999, 4.22953, 4.25015, 4.17729, 4.06584, 4.08556, 4.06666, 4.03017, 3.98073, 4.01737, 4.00309, 3.97926, 4.00143, 3.95047, 3.95822, 3.94929, 3.93676, 3.90151, 3.89346, 3.86802, 3.85728, 3.83261, 3.86804, 3.88023, 3.82603, 3.79671, 3.80133, 3.78725, 3.74604, 3.74558, 3.7517, 3.73077, 3.73149, 3.72371, 3.7039, 3.71612, 3.70477, 3.67049, 3.68038, 3.70329, 3.65076, 3.6566, 3.66659, 3.64342, 3.62552, 3.61284, 3.60885, 3.60806, 3.58278, 3.60762, 3.58912, 3.57891, 3.5097, 3.54157, 3.52501, 3.55023, 3.55133, 3.52104, 3.50864, 3.50765, 3.51436, 3.48791, 3.50064, 3.47676, 3.44916, 3.44769, 3.44766, 3.42715, 3.45356, 3.42704, 3.41946, 3.40921, 3.42829, 3.41968, 3.39132, 3.38426, 3.36197]"
     ]
    }
   ],
   "source": [
    "d = sum(A,2);\n",
    "s = sum(d);\n",
    "\n",
    "r = 100;\n",
    "N = length(d); \n",
    "\n",
    "v0 = rand(Uniform(-1,1),N,r);\n",
    "v0 = v0./sqrt.(sum(abs2, v0, 1));\n",
    "v0, t = qr(v0);\n",
    "l0 = diag(t);\n",
    "\n",
    "\n",
    "### Preprocess ###\n",
    "u0 = rand(Uniform(-1,1),N,1);\n",
    "u0 = u0./norm(u0);\n",
    "n=0;\n",
    "for it = 1:30\n",
    "    u0 = A*u0 .- (d/s)*(d'*u0);\n",
    "    n = norm(u0,2);\n",
    "    u0 = u0/n;\n",
    "end\n",
    "shift = n;\n",
    "\n",
    "l = l0;\n",
    "##################\n",
    "\n",
    "it_max=10000;\n",
    "it = 1;\n",
    "while it <=it_max\n",
    "    v0 = A*v0 .- (d/s)*(d'*v0) .+ shift*v0;\n",
    "    v0, t = qr(v0);\n",
    "    l = diag(t);\n",
    "    if norm(vec(abs.(l))-vec(abs.(l0)))<1e-03\n",
    "             break;\n",
    "    end\n",
    "    l0 = l;\n",
    "    it = it+1;\n",
    "end\n",
    "\n",
    "if it ==it_max\n",
    "        print(\"No convergence\")\n",
    "end \n",
    "\n",
    "print(l0-shift)"
   ]
  },
  {
   "cell_type": "code",
   "execution_count": 3,
   "metadata": {},
   "outputs": [
    {
     "name": "stdout",
     "output_type": "stream",
     "text": [
      "Number of updates: 0\n",
      "Number of communities: 81\n",
      "Modularity: 0.6702767973458469\n",
      "n: 44\n"
     ]
    }
   ],
   "source": [
    "include(\"Algo/UpdateCentroids.jl\")\n",
    "include(\"Algo/FindCommunity.jl\")\n",
    "include(\"Algo/Reorder.jl\")\n",
    "include(\"Algo/Partition.jl\")\n",
    "\n",
    "n_clusters = 200;\n",
    "n_it_Kmeans = 500;\n",
    "n_updates = 100;\n",
    "community = vec(zeros(N,1));\n",
    "community0 = vec(zeros(N,1));\n",
    "\n",
    "Q_best_best = 0;\n",
    "n_c_best_best = 0;\n",
    "n_updates_best_best = 0;\n",
    "r_best = 2;\n",
    "for r=2:100\n",
    "    \n",
    "    Sig = v0[:,1:r]';\n",
    "    Q_best = 0;\n",
    "    n_c_best = 0;\n",
    "    n_c = 0;\n",
    "    # Probability mass for sampling the initial centroids\n",
    "    p = vec(d/s);\n",
    "    n_updates_best = 0;\n",
    "\n",
    "    for k =1:n_it_Kmeans\n",
    "\n",
    "        community0, Q, n_updates = Partition(A,Sig,n_updates,n_clusters,p);\n",
    "        n_c = length(unique(community0));\n",
    "            if Q>Q_best\n",
    "            community = community0;\n",
    "            Q_best = Q;\n",
    "            n_c_best = n_c;\n",
    "            n_updates_best = n_updates;\n",
    "            end\n",
    "    end\t\n",
    "\n",
    "    community = Reorder(community);\n",
    "    \n",
    "    if Q_best>Q_best_best \n",
    "        r_best = r;\n",
    "        Q_best_best = Q_best;\n",
    "        n_c_best_best = n_c_best;\n",
    "        n_updates_best_best = n_updates_best;\n",
    "    end\n",
    "    \n",
    "end\n",
    "\n",
    "\n",
    "\tprint(\"Number of updates: \")\n",
    "\tprint(n_updates_best_best )\n",
    "\tprint(\"\\n\")\n",
    "\tprint(\"Number of communities: \")\n",
    "\tprint(n_c_best_best )\n",
    "\tprint(\"\\n\")\n",
    "\n",
    "\tprint(\"Modularity: \")\n",
    "\tprint(Q_best_best )\n",
    "\tprint(\"\\n\")\n",
    "\tprint(\"n: \")\n",
    "\tprint(r_best )\n",
    "\tprint(\"\\n\")\n"
   ]
  },
  {
   "cell_type": "code",
   "execution_count": null,
   "metadata": {
    "collapsed": true
   },
   "outputs": [],
   "source": []
  }
 ],
 "metadata": {
  "kernelspec": {
   "display_name": "Julia 0.6.1",
   "language": "julia",
   "name": "julia-0.6"
  },
  "language_info": {
   "file_extension": ".jl",
   "mimetype": "application/julia",
   "name": "julia",
   "version": "0.6.1"
  }
 },
 "nbformat": 4,
 "nbformat_minor": 2
}
