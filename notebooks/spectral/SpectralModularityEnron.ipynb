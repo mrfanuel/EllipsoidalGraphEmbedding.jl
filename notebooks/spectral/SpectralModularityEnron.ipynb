{
 "cells": [
  {
   "cell_type": "code",
   "execution_count": 1,
   "metadata": {},
   "outputs": [
    {
     "name": "stdout",
     "output_type": "stream",
     "text": [
      "(24232, 24232)\n",
      "(24155, 24155)\n",
      "(24147, 24147)\n",
      "(24146, 24146)\n",
      "(24145, 24145)\n",
      "(24144, 24144)\n"
     ]
    }
   ],
   "source": [
    "using Erdos\n",
    "using Distributions\n",
    "using Gadfly\n",
    "using Clustering\n",
    "using MatrixNetworks\n",
    "\n",
    "g = readgraph(:emailenron);\n",
    "a = adjacency_list(g::AGraph);\n",
    "\n",
    "N = size(a)[1];\n",
    "A0  = spzeros(N,N);\n",
    "\n",
    "A0 = sparse(1:N,1:N,0*vec(ones(Int64,N,1)),N,N);\n",
    "\n",
    "for i=1:N\n",
    "    l = a[i];\n",
    "    for j=1:length(l)\n",
    "        A0[i,l[j]]=1;\n",
    "        A0[l[j],i]=1;\n",
    "    end\n",
    "end\n",
    "A,p = largest_component(A0);\n",
    "A0=0;p=0;a=0;g=0;\n",
    "gc();\n",
    "\n",
    "A0 =A;\n",
    "l = size(A,1);\n",
    "for i =1:100\n",
    "    d = sum(A0,2);\n",
    "    for i=1:length(d)\n",
    "        if d[i]==1\n",
    "            for j=1:length(d)\n",
    "                if A0[i,j] == 1\n",
    "                    A0[i,j] = 0;\n",
    "                    A0[j,i] = 0;\n",
    "                end\n",
    "            end\n",
    "        end\n",
    "    end\n",
    "    A0 = sparse(A0);dropzeros!(A0);\n",
    "\n",
    "    A0,p = largest_component(A0);\n",
    "\n",
    "    if l == size(A0,1)\n",
    "        break\n",
    "    else\n",
    "        l = size(A0,1);\n",
    "        print(size(A0));print(\"\\n\");\n",
    "\n",
    "    end\n",
    "end\n",
    "\n",
    "A = A0;\n",
    "A0 =0;\n",
    "gc()"
   ]
  },
  {
   "cell_type": "code",
   "execution_count": 2,
   "metadata": {},
   "outputs": [
    {
     "name": "stdout",
     "output_type": "stream",
     "text": [
      "[74.808, 70.3629, 63.775, 62.3993, 54.2385, 49.8959, 47.3853, 46.5607, 43.1513, 39.8839, 39.6777, 38.9105, 36.7373, 36.6136, 35.4765, 34.593, 33.9837, 32.9679, 31.9607, 31.5468, 30.2897, 29.4464, 29.2444, 28.7357, 28.2066, 28.1252, 27.6857, 27.0684, 26.5763, 26.4138, 25.8381, 25.9562, 25.6991, 25.1257, 24.8596, 24.7076, 24.6266, 24.4047, 24.078, 24.1636, 23.8053, 23.6781, 23.6077, 23.3891, 22.9405, 22.7266, 22.7247, 22.5072, 22.3835, 21.9441, 22.0644, 21.7693, 21.6146, 21.5102, 21.3793, 21.257, 21.0927, 21.0197, 20.6724, 20.6274, 20.4732, 20.4244, 20.3425, 20.0181, 20.2306, 20.0295, 19.9685, 19.8301, 19.6963, 19.5635, 19.6438, 19.5736, 19.4605, 19.3232, 19.381, 19.3387, 18.9817, 19.0463, 18.8353, 18.8545, 18.7415, 18.7922, 18.5408, 18.5954, 18.4565, 18.4426, 18.3101, 18.0698, 18.1274, 17.9017, 17.9412, 17.835, 17.8178, 17.5546, 17.546, 17.5732, 17.5704, 17.4028, 17.3661, 17.2628]"
     ]
    }
   ],
   "source": [
    "d = sum(A,2);\n",
    "s = sum(d);\n",
    "\n",
    "r = 100;\n",
    "N = length(d); \n",
    "\n",
    "v0 = rand(Uniform(-1,1),N,r);\n",
    "v0 = v0./sqrt.(sum(abs2, v0, 1));\n",
    "v0, t = qr(v0);\n",
    "l0 = diag(t);\n",
    "\n",
    "\n",
    "### Preprocess ###\n",
    "u0 = rand(Uniform(-1,1),N,1);\n",
    "u0 = u0./norm(u0);\n",
    "n=0;\n",
    "for it = 1:30\n",
    "    u0 = A*u0 .- (d/s)*(d'*u0);\n",
    "    n = norm(u0,2);\n",
    "    u0 = u0/n;\n",
    "end\n",
    "shift = n;\n",
    "\n",
    "l = l0;\n",
    "##################\n",
    "\n",
    "it_max=10000;\n",
    "it = 1;\n",
    "while it <=it_max\n",
    "    v0 = A*v0 .- (d/s)*(d'*v0) .+ shift*v0;\n",
    "    v0, t = qr(v0);\n",
    "    l = diag(t);\n",
    "    if norm(vec(abs.(l))-vec(abs.(l0)))<1e-03\n",
    "             break;\n",
    "    end\n",
    "    l0 = l;\n",
    "    it = it+1;\n",
    "end\n",
    "\n",
    "if it ==it_max\n",
    "        print(\"No convergence\")\n",
    "end \n",
    "\n",
    "print(l0-shift)"
   ]
  },
  {
   "cell_type": "code",
   "execution_count": 8,
   "metadata": {},
   "outputs": [
    {
     "data": {
      "text/plain": [
       "Reorder (generic function with 1 method)"
      ]
     },
     "execution_count": 8,
     "metadata": {},
     "output_type": "execute_result"
    }
   ],
   "source": [
    "include(\"Algo/Partition.jl\")\n",
    "include(\"Algo/UpdateCentroids.jl\")\n",
    "include(\"Algo/FindCommunity.jl\")\n",
    "include(\"Algo/Reorder.jl\")"
   ]
  },
  {
   "cell_type": "code",
   "execution_count": 24,
   "metadata": {},
   "outputs": [
    {
     "name": "stdout",
     "output_type": "stream",
     "text": [
      "Number of updates: 2\n",
      "Number of communities: 13\n",
      "Modularity: 0.5259354080623625\n"
     ]
    }
   ],
   "source": [
    "Sig = v0[:,1:10]';\n",
    "\n",
    "n_clusters = 200;\n",
    "n_it_Kmeans = 1000;\n",
    "n_updates = 100;\n",
    "\n",
    "\n",
    "community = vec(zeros(N,1));\n",
    "community0 = vec(zeros(N,1));\n",
    "Q_best = 0;\n",
    "n_c_best = 0;\n",
    "n_c = 0;\n",
    "# Probability mass for sampling the initial centroids\n",
    "p = vec(d/s);\n",
    "n_updates_best = 0;\n",
    "\n",
    "for k =1:n_it_Kmeans\n",
    "\n",
    "\tcommunity0, Q, n_updates = Partition(A,Sig,n_updates,n_clusters,p);\n",
    "\tn_c = length(unique(community0));\n",
    "\n",
    "    \tif Q>Q_best\n",
    "\t\tcommunity = community0;\n",
    "\t\tQ_best = Q;\n",
    "\t\tn_c_best = n_c;\n",
    "\t\tn_updates_best = n_updates;\n",
    "\n",
    "\t\t\n",
    "    \tend\n",
    "end\t\n",
    "  \n",
    "\tcommunity = Reorder(community);\n",
    "\n",
    "\tprint(\"Number of updates: \")\n",
    "\tprint(n_updates_best)\n",
    "\tprint(\"\\n\")\n",
    "\tprint(\"Number of communities: \")\n",
    "\tprint(n_c_best)\n",
    "\tprint(\"\\n\")\n",
    "\n",
    "\tprint(\"Modularity: \")\n",
    "\tprint(Q_best)\n",
    "\tprint(\"\\n\")"
   ]
  },
  {
   "cell_type": "code",
   "execution_count": 3,
   "metadata": {},
   "outputs": [
    {
     "name": "stdout",
     "output_type": "stream",
     "text": [
      "Number of updates: 1\n",
      "Number of communities: 12\n",
      "Modularity: 0.5230858447359333\n",
      "n: 7\n"
     ]
    }
   ],
   "source": [
    "include(\"Algo/UpdateCentroids.jl\")\n",
    "include(\"Algo/FindCommunity.jl\")\n",
    "include(\"Algo/Reorder.jl\")\n",
    "include(\"Algo/Partition.jl\")\n",
    "\n",
    "n_clusters = 200;\n",
    "n_it_Kmeans = 100;\n",
    "n_updates = 100;\n",
    "community = vec(zeros(N,1));\n",
    "community0 = vec(zeros(N,1));\n",
    "\n",
    "Q_best_best = 0;\n",
    "n_c_best_best = 0;\n",
    "n_updates_best_best = 0;\n",
    "r_best = 2;\n",
    "for r=2:80\n",
    "    \n",
    "    Sig = v0[:,1:r]';\n",
    "    Q_best = 0;\n",
    "    n_c_best = 0;\n",
    "    n_c = 0;\n",
    "    # Probability mass for sampling the initial centroids\n",
    "    p = vec(d/s);\n",
    "    n_updates_best = 0;\n",
    "\n",
    "    for k =1:n_it_Kmeans\n",
    "\n",
    "        community0, Q, n_updates = Partition(A,Sig,n_updates,n_clusters,p);\n",
    "        n_c = length(unique(community0));\n",
    "            if Q>Q_best\n",
    "            community = community0;\n",
    "            Q_best = Q;\n",
    "            n_c_best = n_c;\n",
    "            n_updates_best = n_updates;\n",
    "            end\n",
    "    end\t\n",
    "\n",
    "    community = Reorder(community);\n",
    "    \n",
    "    if Q_best>Q_best_best \n",
    "        r_best = r;\n",
    "        Q_best_best = Q_best;\n",
    "        n_c_best_best = n_c_best;\n",
    "        n_updates_best_best = n_updates_best;\n",
    "    end\n",
    "    \n",
    "end\n",
    "\n",
    "\n",
    "\tprint(\"Number of updates: \")\n",
    "\tprint(n_updates_best_best )\n",
    "\tprint(\"\\n\")\n",
    "\tprint(\"Number of communities: \")\n",
    "\tprint(n_c_best_best )\n",
    "\tprint(\"\\n\")\n",
    "\n",
    "\tprint(\"Modularity: \")\n",
    "\tprint(Q_best_best )\n",
    "\tprint(\"\\n\")\n",
    "\tprint(\"n: \")\n",
    "\tprint(r_best )\n",
    "\tprint(\"\\n\")\n"
   ]
  },
  {
   "cell_type": "code",
   "execution_count": null,
   "metadata": {
    "collapsed": true
   },
   "outputs": [],
   "source": []
  }
 ],
 "metadata": {
  "kernelspec": {
   "display_name": "Julia 0.6.1",
   "language": "julia",
   "name": "julia-0.6"
  },
  "language_info": {
   "file_extension": ".jl",
   "mimetype": "application/julia",
   "name": "julia",
   "version": "0.6.1"
  }
 },
 "nbformat": 4,
 "nbformat_minor": 2
}
