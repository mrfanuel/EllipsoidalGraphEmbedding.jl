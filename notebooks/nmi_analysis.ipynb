{
 "cells": [
  {
   "cell_type": "code",
   "execution_count": 25,
   "metadata": {},
   "outputs": [],
   "source": [
    "using MatrixNetworks\n",
    "using SparseArrays\n",
    "using LinearAlgebra\n",
    "using Distributions\n",
    "using StatsBase\n",
    "using Printf\n",
    "using Statistics\n",
    "using Clustering\n",
    "using BenchmarkTools, Compat\n",
    "using DelimitedFiles\n",
    "\n",
    "using Plots,LaTeXStrings\n",
    "using EllipsoidalGraphEmbedding\n",
    "\n"
   ]
  },
  {
   "cell_type": "markdown",
   "metadata": {},
   "source": [
    "### Compute NMI between the retrieved and the true community"
   ]
  },
  {
   "cell_type": "code",
   "execution_count": 26,
   "metadata": {
    "scrolled": true
   },
   "outputs": [
    {
     "name": "stdout",
     "output_type": "stream",
     "text": [
      "\n",
      "========== Graph 1/10 ==========\n",
      "\n",
      "  ~~~~~ number_rep = 1/3 ~~~~~\n",
      " ------- Acc Projected Power Iteration -------\n"
     ]
    },
    {
     "name": "stdout",
     "output_type": "stream",
     "text": [
      "The iteration has become stationary after 252 iterations\n",
      "  0.868659 seconds (6.66 k allocations: 523.495 MiB, 14.84% gc time)\n",
      " -------------- Clustering ------- \n",
      "dimension of embedding used for clustering: 30\n",
      "Number of updates: "
     ]
    },
    {
     "name": "stdout",
     "output_type": "stream",
     "text": [
      "4\n",
      "Modularity: 0.8024672900779423\n",
      "Number of communities: 21\n",
      " -------------------------------------------- \n",
      "The first 5 squared singular values divided by N : \n",
      "[0.4021097475008843, 0.26754971215453904, 0.17872869845052577, 0.09676668287333144, 0.05431873716896759]\n",
      " -------------------------------------------- \n",
      "  1.074569 seconds (90.01 k allocations: 587.483 MiB, 12.00% gc time)\n",
      "\n",
      "  ~~~~~ number_rep = 2/3 ~~~~~\n",
      " ------- Acc Projected Power Iteration -------\n"
     ]
    },
    {
     "name": "stdout",
     "output_type": "stream",
     "text": [
      "The iteration has become stationary after 155 iterations\n",
      "  0.402680 seconds (4.14 k allocations: 321.394 MiB, 13.22% gc time)\n",
      " -------------- Clustering ------- \n",
      "dimension of embedding used for clustering: 30\n",
      "Number of updates: "
     ]
    },
    {
     "name": "stdout",
     "output_type": "stream",
     "text": [
      "5\n",
      "Modularity: 0.8025597524688828\n",
      "Number of communities: 21\n",
      " -------------------------------------------- \n",
      "The first 5 squared singular values divided by N : \n",
      "[0.40523487627399685, 0.26864853492616464, 0.17703017861953538, 0.09910008310770557, 0.04858731777917643]\n",
      " -------------------------------------------- \n",
      "  0.582233 seconds (91.63 k allocations: 388.297 MiB, 11.17% gc time)\n",
      "\n",
      "  ~~~~~ number_rep = 3/3 ~~~~~\n",
      " ------- Acc Projected Power Iteration -------\n"
     ]
    },
    {
     "name": "stdout",
     "output_type": "stream",
     "text": [
      "The iteration has become stationary after 253 iterations\n",
      "  0.643182 seconds (6.69 k allocations: 525.581 MiB, 10.33% gc time)\n",
      " -------------- Clustering ------- \n",
      "dimension of embedding used for clustering: 30\n",
      "Number of updates: "
     ]
    },
    {
     "name": "stdout",
     "output_type": "stream",
     "text": [
      "7\n",
      "Modularity: 0.80316335243406\n",
      "Number of communities: 20\n",
      " -------------------------------------------- \n",
      "The first 5 squared singular values divided by N : \n",
      "[0.40086354564302207, 0.26913808563903396, 0.17789487266648016, 0.09657979023437188, 0.0550085975285391]\n",
      " -------------------------------------------- \n",
      "  0.846372 seconds (135.50 k allocations: 621.448 MiB, 9.41% gc time)\n",
      "\n",
      "========== Graph 2/10 ==========\n",
      "\n",
      "  ~~~~~ number_rep = 1/3 ~~~~~\n",
      " ------- Acc Projected Power Iteration -------\n"
     ]
    },
    {
     "name": "stdout",
     "output_type": "stream",
     "text": [
      "The iteration has become stationary after 232 iterations\n",
      "  0.564335 seconds (6.14 k allocations: 481.826 MiB, 9.81% gc time)\n",
      " -------------- Clustering ------- \n",
      "dimension of embedding used for clustering: 30\n",
      "Number of updates: "
     ]
    },
    {
     "name": "stdout",
     "output_type": "stream",
     "text": [
      "4\n",
      "Modularity: 0.6557114322800615\n",
      "Number of communities: 21\n",
      " -------------------------------------------- \n",
      "The first 5 squared singular values divided by N : \n",
      "[0.31894011088133856, 0.23600902646530597, 0.16337401282132233, 0.13385955849233086, 0.10557725031441798]\n",
      " -------------------------------------------- \n",
      "  0.701906 seconds (87.43 k allocations: 544.307 MiB, 9.18% gc time)\n",
      "\n",
      "  ~~~~~ number_rep = 2/3 ~~~~~\n",
      " ------- Acc Projected Power Iteration -------\n"
     ]
    },
    {
     "name": "stdout",
     "output_type": "stream",
     "text": [
      "The iteration has become stationary after 186 iterations\n",
      "  0.537561 seconds (4.95 k allocations: 385.983 MiB, 10.27% gc time)\n",
      " -------------- Clustering ------- \n",
      "dimension of embedding used for clustering: 30\n",
      "Number of updates: "
     ]
    },
    {
     "name": "stdout",
     "output_type": "stream",
     "text": [
      "3\n",
      "Modularity: 0.6545276578346174\n",
      "Number of communities: 23\n",
      " -------------------------------------------- \n",
      "The first 5 squared singular values divided by N : \n",
      "[0.31965897449425007, 0.23546514604148155, 0.1637665329114568, 0.13400341202613475, 0.10276386087519375]\n",
      " -------------------------------------------- \n",
      "  0.698046 seconds (69.70 k allocations: 436.885 MiB, 9.51% gc time)\n",
      "\n",
      "  ~~~~~ number_rep = 3/3 ~~~~~\n",
      " ------- Acc Projected Power Iteration -------\n"
     ]
    },
    {
     "name": "stdout",
     "output_type": "stream",
     "text": [
      "The iteration has become stationary after 231 iterations\n",
      "  0.586872 seconds (6.12 k allocations: 479.743 MiB, 10.29% gc time)\n",
      " -------------- Clustering ------- \n",
      "dimension of embedding used for clustering: 30\n",
      "Number of updates: "
     ]
    },
    {
     "name": "stdout",
     "output_type": "stream",
     "text": [
      "3\n",
      "Modularity: 0.6551019171368956\n",
      "Number of communities: 22\n",
      " -------------------------------------------- \n",
      "The first 5 squared singular values divided by N : \n",
      "[0.3190543351977798, 0.23539870328929274, 0.16297318314937423, 0.1352524722607143, 0.10472517444299452]\n",
      " -------------------------------------------- \n",
      "  0.784107 seconds (75.01 k allocations: 533.567 MiB, 9.59% gc time)\n",
      "\n",
      "========== Graph 3/10 ==========\n",
      "\n",
      "  ~~~~~ number_rep = 1/3 ~~~~~\n",
      " ------- Acc Projected Power Iteration -------\n"
     ]
    },
    {
     "name": "stdout",
     "output_type": "stream",
     "text": [
      "The iteration has become stationary after 128 iterations\n",
      "  0.466211 seconds (3.44 k allocations: 265.139 MiB, 6.92% gc time)\n",
      " -------------- Clustering ------- \n",
      "dimension of embedding used for clustering: 30\n",
      "Number of updates: "
     ]
    },
    {
     "name": "stdout",
     "output_type": "stream",
     "text": [
      "4\n",
      "Modularity: 0.5192698187405682\n",
      "Number of communities: 20\n",
      " -------------------------------------------- \n",
      "The first 5 squared singular values divided by N : \n",
      "[0.23606369296038088, 0.2187874053777924, 0.15891553736083028, 0.13413510374123203, 0.12030555839355152]\n",
      " -------------------------------------------- \n",
      "  0.617266 seconds (80.59 k allocations: 324.611 MiB, 6.91% gc time)\n",
      "\n",
      "  ~~~~~ number_rep = 2/3 ~~~~~\n",
      " ------- Acc Projected Power Iteration -------\n"
     ]
    },
    {
     "name": "stdout",
     "output_type": "stream",
     "text": [
      "The iteration has become stationary after 131 iterations\n",
      "  0.337164 seconds (3.52 k allocations: 271.389 MiB, 8.80% gc time)\n",
      " -------------- Clustering ------- \n",
      "dimension of embedding used for clustering: 30\n",
      "Number of updates: "
     ]
    },
    {
     "name": "stdout",
     "output_type": "stream",
     "text": [
      "3\n",
      "Modularity: 0.5188799293858742\n",
      "Number of communities: 22\n",
      " -------------------------------------------- \n",
      "The first 5 squared singular values divided by N : \n",
      "[0.23717457850073517, 0.21852134914152255, 0.1585317615097202, 0.13348676107117394, 0.12087311511689539]\n",
      " -------------------------------------------- \n",
      "  0.540810 seconds (68.27 k allocations: 322.202 MiB, 7.94% gc time)\n",
      "\n",
      "  ~~~~~ number_rep = 3/3 ~~~~~\n",
      " ------- Acc Projected Power Iteration -------\n"
     ]
    },
    {
     "name": "stdout",
     "output_type": "stream",
     "text": [
      "The iteration has become stationary after 131 iterations\n",
      "  0.440521 seconds (3.52 k allocations: 271.389 MiB, 11.10% gc time)\n",
      " -------------- Clustering ------- \n",
      "dimension of embedding used for clustering: 30\n",
      "Number of updates: "
     ]
    },
    {
     "name": "stdout",
     "output_type": "stream",
     "text": [
      "3\n",
      "Modularity: 0.5192295865267954\n",
      "Number of communities: 21\n",
      " -------------------------------------------- \n",
      "The first 5 squared singular values divided by N : \n",
      "[0.23696757165418772, 0.21705368007914602, 0.15962531008893896, 0.134040479947183, 0.1205220064228286]\n",
      " -------------------------------------------- \n",
      "  0.569833 seconds (74.47 k allocations: 326.638 MiB, 8.58% gc time)\n",
      "\n",
      "========== Graph 4/10 ==========\n",
      "\n",
      "  ~~~~~ number_rep = 1/3 ~~~~~\n",
      " ------- Acc Projected Power Iteration -------\n"
     ]
    },
    {
     "name": "stdout",
     "output_type": "stream",
     "text": [
      "The iteration has become stationary after 152 iterations\n",
      "  0.641330 seconds (4.06 k allocations: 315.143 MiB, 7.75% gc time)\n",
      " -------------- Clustering ------- \n",
      "dimension of embedding used for clustering: 30\n",
      "Number of updates: "
     ]
    },
    {
     "name": "stdout",
     "output_type": "stream",
     "text": [
      "7\n",
      "Modularity: 0.3882341080377314\n",
      "Number of communities: 20\n",
      " -------------------------------------------- \n",
      "The first 5 squared singular values divided by N : \n",
      "[0.2199620339416908, 0.21271504430721289, 0.18088187465527822, 0.12833702020109472, 0.09911216912020966]\n",
      " -------------------------------------------- \n",
      "  0.850721 seconds (112.24 k allocations: 396.476 MiB, 6.90% gc time)\n",
      "\n",
      "  ~~~~~ number_rep = 2/3 ~~~~~\n",
      " ------- Acc Projected Power Iteration -------\n"
     ]
    },
    {
     "name": "stdout",
     "output_type": "stream",
     "text": [
      "The iteration has become stationary after 182 iterations\n",
      "  0.608194 seconds (4.84 k allocations: 377.649 MiB, 11.11% gc time)\n",
      " -------------- Clustering ------- \n",
      "dimension of embedding used for clustering: 30\n",
      "Number of updates: "
     ]
    },
    {
     "name": "stdout",
     "output_type": "stream",
     "text": [
      "4\n",
      "Modularity: 0.38620762738414327\n",
      "Number of communities: 20\n",
      " -------------------------------------------- \n",
      "The first 5 squared singular values divided by N : \n",
      "[0.21981364791844554, 0.2129443387459367, 0.18101478870558543, 0.12791790019915877, 0.09957036848056398]\n",
      " -------------------------------------------- \n",
      "  0.820698 seconds (121.26 k allocations: 464.539 MiB, 9.64% gc time)\n",
      "\n",
      "  ~~~~~ number_rep = 3/3 ~~~~~\n",
      " ------- Acc Projected Power Iteration -------\n"
     ]
    },
    {
     "name": "stdout",
     "output_type": "stream",
     "text": [
      "The iteration has become stationary after 150 iterations\n",
      "  0.452706 seconds (4.01 k allocations: 310.976 MiB, 11.41% gc time)\n",
      " -------------- Clustering ------- \n",
      "dimension of embedding used for clustering: 30\n",
      "Number of updates: "
     ]
    },
    {
     "name": "stdout",
     "output_type": "stream",
     "text": [
      "7\n",
      "Modularity: 0.3869566034848828\n",
      "Number of communities: 20\n",
      " -------------------------------------------- \n",
      "The first 5 squared singular values divided by N : \n",
      "[0.22026060404394335, 0.21254726417350714, 0.18144336469194305, 0.1284436268566464, 0.09855178561075893]\n",
      " -------------------------------------------- \n",
      "  0.667479 seconds (126.66 k allocations: 402.665 MiB, 9.73% gc time)\n",
      "\n",
      "========== Graph 5/10 ==========\n",
      "\n",
      "  ~~~~~ number_rep = 1/3 ~~~~~\n",
      " ------- Acc Projected Power Iteration -------\n"
     ]
    },
    {
     "name": "stdout",
     "output_type": "stream",
     "text": [
      "The iteration has become stationary after 170 iterations\n",
      "  0.567057 seconds (4.53 k allocations: 352.647 MiB, 11.93% gc time)\n",
      " -------------- Clustering ------- \n",
      "dimension of embedding used for clustering: 30\n",
      "Number of updates: "
     ]
    },
    {
     "name": "stdout",
     "output_type": "stream",
     "text": [
      "11\n",
      "Modularity: 0.2615428799182827\n",
      "Number of communities: 12\n",
      " -------------------------------------------- \n",
      "The first 5 squared singular values divided by N : \n",
      "[0.20800643928748358, 0.19112709871206024, 0.13976571063696286, 0.1075620618720381, 0.09675623844890266]\n",
      " -------------------------------------------- \n",
      "  0.865501 seconds (178.71 k allocations: 479.023 MiB, 10.85% gc time)\n",
      "\n",
      "  ~~~~~ number_rep = 2/3 ~~~~~\n",
      " ------- Acc Projected Power Iteration -------\n"
     ]
    },
    {
     "name": "stdout",
     "output_type": "stream",
     "text": [
      "The iteration has become stationary after 161 iterations\n",
      "  0.438885 seconds (4.29 k allocations: 333.895 MiB, 9.86% gc time)\n",
      " -------------- Clustering ------- \n",
      "dimension of embedding used for clustering: 30\n",
      "Number of updates: "
     ]
    },
    {
     "name": "stdout",
     "output_type": "stream",
     "text": [
      "11\n",
      "Modularity: 0.26403556190012445\n",
      "Number of communities: 15\n",
      " -------------------------------------------- \n",
      "The first 5 squared singular values divided by N : \n",
      "[0.20837791394443284, 0.19087468407084204, 0.13959522591663476, 0.10762418993187166, 0.09699137921000064]\n",
      " -------------------------------------------- \n",
      "  1.051088 seconds (182.65 k allocations: 463.892 MiB, 5.77% gc time)\n",
      "\n",
      "  ~~~~~ number_rep = 3/3 ~~~~~\n",
      " ------- Acc Projected Power Iteration -------\n"
     ]
    },
    {
     "name": "stdout",
     "output_type": "stream",
     "text": [
      "The iteration has become stationary after 165 iterations\n",
      "  0.884202 seconds (4.40 k allocations: 342.229 MiB, 8.05% gc time)\n",
      " -------------- Clustering ------- \n",
      "dimension of embedding used for clustering: 30\n",
      "Number of updates: "
     ]
    },
    {
     "name": "stdout",
     "output_type": "stream",
     "text": [
      "12\n",
      "Modularity: 0.26787008552732156\n",
      "Number of communities: 14\n",
      " -------------------------------------------- \n",
      "The first 5 squared singular values divided by N : \n",
      "[0.2084591024297179, 0.19089406023097236, 0.13963643516129023, 0.10798326988697521, 0.09711806495811107]\n",
      " -------------------------------------------- \n",
      "  1.195322 seconds (188.92 k allocations: 476.168 MiB, 7.06% gc time)\n",
      "\n",
      "========== Graph 6/10 ==========\n",
      "\n",
      "  ~~~~~ number_rep = 1/3 ~~~~~\n",
      " ------- Acc Projected Power Iteration -------\n"
     ]
    },
    {
     "name": "stdout",
     "output_type": "stream",
     "text": [
      "The iteration has become stationary after 203 iterations\n",
      "  0.676602 seconds (5.39 k allocations: 421.404 MiB, 12.33% gc time)\n",
      " -------------- Clustering ------- \n",
      "dimension of embedding used for clustering: 30\n",
      "Number of updates: "
     ]
    },
    {
     "name": "stdout",
     "output_type": "stream",
     "text": [
      "14\n",
      "Modularity: 0.19129546123017854\n",
      "Number of communities: 9\n",
      " -------------------------------------------- \n",
      "The first 5 squared singular values divided by N : \n",
      "[0.1759503081075161, 0.15699222808460223, 0.13627064761647326, 0.12664934343224696, 0.09959820930503184]\n",
      " -------------------------------------------- \n",
      "  1.007914 seconds (206.01 k allocations: 564.379 MiB, 9.73% gc time)\n",
      "\n",
      "  ~~~~~ number_rep = 2/3 ~~~~~\n",
      " ------- Acc Projected Power Iteration -------\n"
     ]
    },
    {
     "name": "stdout",
     "output_type": "stream",
     "text": [
      "The iteration has become stationary after 184 iterations\n",
      "  0.511340 seconds (4.89 k allocations: 381.816 MiB, 11.13% gc time)\n",
      " -------------- Clustering ------- \n",
      "dimension of embedding used for clustering: 30\n",
      "Number of updates: "
     ]
    },
    {
     "name": "stdout",
     "output_type": "stream",
     "text": [
      "17\n",
      "Modularity: 0.19547482851861636\n",
      "Number of communities: 8\n",
      " -------------------------------------------- \n",
      "The first 5 squared singular values divided by N : \n",
      "[0.17573292640431373, 0.15726930233384476, 0.13643491327786017, 0.12681774235165835, 0.0996966938511228]\n",
      " -------------------------------------------- \n",
      "  0.876927 seconds (242.44 k allocations: 548.397 MiB, 9.15% gc time)\n",
      "\n",
      "  ~~~~~ number_rep = 3/3 ~~~~~\n",
      " ------- Acc Projected Power Iteration -------\n"
     ]
    },
    {
     "name": "stdout",
     "output_type": "stream",
     "text": [
      "The iteration has become stationary after 179 iterations\n",
      "  0.509286 seconds (4.76 k allocations: 371.400 MiB, 10.86% gc time)\n",
      " -------------- Clustering ------- \n",
      "dimension of embedding used for clustering: 30\n",
      "Number of updates: "
     ]
    },
    {
     "name": "stdout",
     "output_type": "stream",
     "text": [
      "18\n",
      "Modularity: 0.19765700625190522\n",
      "Number of communities: 8\n",
      " -------------------------------------------- \n",
      "The first 5 squared singular values divided by N : \n",
      "[0.17565088275931595, 0.15704078270224678, 0.13611798044530235, 0.12666051926134228, 0.09985109106076984]\n",
      " -------------------------------------------- \n",
      "  0.927445 seconds (265.08 k allocations: 553.582 MiB, 8.93% gc time)\n",
      "\n",
      "========== Graph 7/10 ==========\n",
      "\n",
      "  ~~~~~ number_rep = 1/3 ~~~~~\n",
      " ------- Acc Projected Power Iteration -------\n"
     ]
    },
    {
     "name": "stdout",
     "output_type": "stream",
     "text": [
      "The iteration has become stationary after 221 iterations\n",
      "  0.594176 seconds (5.86 k allocations: 458.907 MiB, 10.65% gc time)\n",
      " -------------- Clustering ------- \n",
      "dimension of embedding used for clustering: 30\n",
      "Number of updates: "
     ]
    },
    {
     "name": "stdout",
     "output_type": "stream",
     "text": [
      "26\n",
      "Modularity: 0.17566762544512068\n",
      "Number of communities: 6\n",
      " -------------------------------------------- \n",
      "The first 5 squared singular values divided by N : \n",
      "[0.14837174917473278, 0.13806280040742305, 0.12432959466258157, 0.10538086116290109, 0.09665586201895884]\n",
      " -------------------------------------------- \n",
      "  1.002989 seconds (286.32 k allocations: 652.747 MiB, 8.96% gc time)\n",
      "\n",
      "  ~~~~~ number_rep = 2/3 ~~~~~\n",
      " ------- Acc Projected Power Iteration -------\n"
     ]
    },
    {
     "name": "stdout",
     "output_type": "stream",
     "text": [
      "The iteration has become stationary after 222 iterations\n",
      "  0.631501 seconds (5.88 k allocations: 460.991 MiB, 20.09% gc time)\n",
      " -------------- Clustering ------- \n",
      "dimension of embedding used for clustering: 30\n",
      "Number of updates: "
     ]
    },
    {
     "name": "stdout",
     "output_type": "stream",
     "text": [
      "21\n",
      "Modularity: 0.17633085204769722\n",
      "Number of communities: 7\n",
      " -------------------------------------------- \n",
      "The first 5 squared singular values divided by N : \n",
      "[0.14823001641852418, 0.13791031472244847, 0.12426453248927566, 0.10569294561653086, 0.09658786592738554]\n",
      " -------------------------------------------- \n",
      "  1.098837 seconds (319.12 k allocations: 676.137 MiB, 15.33% gc time)\n",
      "\n",
      "  ~~~~~ number_rep = 3/3 ~~~~~\n",
      " ------- Acc Projected Power Iteration -------\n"
     ]
    },
    {
     "name": "stdout",
     "output_type": "stream",
     "text": [
      "The iteration has become stationary after 224 iterations\n",
      "  0.536155 seconds (5.93 k allocations: 465.158 MiB, 9.17% gc time)\n",
      " -------------- Clustering ------- \n",
      "dimension of embedding used for clustering: 30\n",
      "Number of updates: "
     ]
    },
    {
     "name": "stdout",
     "output_type": "stream",
     "text": [
      "18\n",
      "Modularity: 0.17017369318374095\n",
      "Number of communities: 8\n",
      " -------------------------------------------- \n",
      "The first 5 squared singular values divided by N : \n",
      "[0.1482322431889325, 0.13799522571111023, 0.12412310436014379, 0.10560012133887586, 0.09656436170759068]\n",
      " -------------------------------------------- \n",
      "  0.900211 seconds (255.82 k allocations: 640.219 MiB, 8.18% gc time)\n",
      "\n",
      "========== Graph 8/10 ==========\n",
      "\n",
      "  ~~~~~ number_rep = 1/3 ~~~~~\n",
      " ------- Acc Projected Power Iteration -------\n"
     ]
    },
    {
     "name": "stdout",
     "output_type": "stream",
     "text": [
      "The iteration has become stationary after 210 iterations\n",
      "  0.505463 seconds (5.57 k allocations: 435.988 MiB, 10.16% gc time)\n",
      " -------------- Clustering ------- \n",
      "dimension of embedding used for clustering: 30\n",
      "Number of updates: "
     ]
    },
    {
     "name": "stdout",
     "output_type": "stream",
     "text": [
      "31\n",
      "Modularity: 0.18175083003583145\n",
      "Number of communities: 7\n",
      " -------------------------------------------- \n",
      "The first 5 squared singular values divided by N : \n",
      "[0.16706255860635733, 0.133309895186682, 0.12059636285432987, 0.11522314520510309, 0.10926448331672067]\n",
      " -------------------------------------------- \n",
      "  1.008076 seconds (318.87 k allocations: 651.293 MiB, 7.92% gc time)\n",
      "\n",
      "  ~~~~~ number_rep = 2/3 ~~~~~\n",
      " ------- Acc Projected Power Iteration -------\n"
     ]
    },
    {
     "name": "stdout",
     "output_type": "stream",
     "text": [
      "The iteration has become stationary after 210 iterations\n",
      "  0.525002 seconds (5.57 k allocations: 435.988 MiB, 12.60% gc time)\n",
      " -------------- Clustering ------- \n",
      "dimension of embedding used for clustering: 30\n",
      "Number of updates: "
     ]
    },
    {
     "name": "stdout",
     "output_type": "stream",
     "text": [
      "19\n",
      "Modularity: 0.17131478462315583\n",
      "Number of communities: 6\n",
      " -------------------------------------------- \n",
      "The first 5 squared singular values divided by N : \n",
      "[0.16685156755082783, 0.13337927470538294, 0.12049621896804846, 0.11520952514687297, 0.10910112291545633]\n",
      " -------------------------------------------- \n",
      "  1.101006 seconds (316.95 k allocations: 650.627 MiB, 9.06% gc time)\n",
      "\n",
      "  ~~~~~ number_rep = 3/3 ~~~~~\n",
      " ------- Acc Projected Power Iteration -------\n"
     ]
    },
    {
     "name": "stdout",
     "output_type": "stream",
     "text": [
      "The iteration has become stationary after 210 iterations\n",
      "  0.636334 seconds (5.57 k allocations: 435.988 MiB, 11.59% gc time)\n",
      " -------------- Clustering ------- \n",
      "dimension of embedding used for clustering: 30\n",
      "Number of updates: "
     ]
    },
    {
     "name": "stdout",
     "output_type": "stream",
     "text": [
      "19\n",
      "Modularity: 0.17694929184956973\n",
      "Number of communities: 7\n",
      " -------------------------------------------- \n",
      "The first 5 squared singular values divided by N : \n",
      "[0.1670432891668805, 0.1333451355915773, 0.12037120408090353, 0.11521060548726249, 0.10917718809507769]\n",
      " -------------------------------------------- \n",
      "  1.091056 seconds (267.65 k allocations: 618.379 MiB, 9.55% gc time)\n",
      "\n",
      "========== Graph 9/10 ==========\n",
      "\n",
      "  ~~~~~ number_rep = 1/3 ~~~~~\n",
      " ------- Acc Projected Power Iteration -------\n"
     ]
    },
    {
     "name": "stdout",
     "output_type": "stream",
     "text": [
      "The iteration has become stationary after 229 iterations\n",
      "  0.574019 seconds (6.06 k allocations: 475.576 MiB, 11.11% gc time)\n",
      " -------------- Clustering ------- \n",
      "dimension of embedding used for clustering: 30\n",
      "Number of updates: "
     ]
    },
    {
     "name": "stdout",
     "output_type": "stream",
     "text": [
      "19\n",
      "Modularity: 0.17417115098033842\n",
      "Number of communities: 7\n",
      " -------------------------------------------- \n",
      "The first 5 squared singular values divided by N : \n",
      "[0.16734277341293524, 0.1562859664438256, 0.13076500669766322, 0.11064203936973657, 0.10453502811176375]\n",
      " -------------------------------------------- \n",
      "  1.083338 seconds (313.23 k allocations: 686.854 MiB, 8.74% gc time)\n",
      "\n",
      "  ~~~~~ number_rep = 2/3 ~~~~~\n",
      " ------- Acc Projected Power Iteration -------\n"
     ]
    },
    {
     "name": "stdout",
     "output_type": "stream",
     "text": [
      "The iteration has become stationary after 233 iterations\n",
      "  0.713340 seconds (6.17 k allocations: 483.911 MiB, 11.11% gc time)\n",
      " -------------- Clustering ------- \n",
      "dimension of embedding used for clustering: 30\n",
      "Number of updates: "
     ]
    },
    {
     "name": "stdout",
     "output_type": "stream",
     "text": [
      "18\n",
      "Modularity: 0.17086149872133394\n",
      "Number of communities: 6\n",
      " -------------------------------------------- \n",
      "The first 5 squared singular values divided by N : \n",
      "[0.1672232305738932, 0.15632950253014574, 0.13115527272569527, 0.11079427567007218, 0.10424472160906377]\n",
      " -------------------------------------------- \n",
      "  1.475282 seconds (309.17 k allocations: 691.855 MiB, 7.91% gc time)\n",
      "\n",
      "  ~~~~~ number_rep = 3/3 ~~~~~\n",
      " ------- Acc Projected Power Iteration -------\n"
     ]
    },
    {
     "name": "stdout",
     "output_type": "stream",
     "text": [
      "The iteration has become stationary after 229 iterations\n",
      "  1.503045 seconds (6.06 k allocations: 475.576 MiB, 5.75% gc time)\n",
      " -------------- Clustering ------- \n",
      "dimension of embedding used for clustering: 30\n",
      "Number of updates: "
     ]
    },
    {
     "name": "stdout",
     "output_type": "stream",
     "text": [
      "12\n",
      "Modularity: 0.1734571579689689\n",
      "Number of communities: 8\n",
      " -------------------------------------------- \n",
      "The first 5 squared singular values divided by N : \n",
      "[0.16740098566647327, 0.15624851801103593, 0.13106817328494463, 0.11070803801172807, 0.10439386419843437]\n",
      " -------------------------------------------- \n",
      "  2.186957 seconds (282.56 k allocations: 667.119 MiB, 5.61% gc time)\n",
      "\n",
      "========== Graph 10/10 ==========\n",
      "\n",
      "  ~~~~~ number_rep = 1/3 ~~~~~\n",
      " ------- Acc Projected Power Iteration -------\n"
     ]
    },
    {
     "name": "stdout",
     "output_type": "stream",
     "text": [
      "The iteration has become stationary after 197 iterations\n",
      "  0.605846 seconds (5.23 k allocations: 408.902 MiB, 10.09% gc time)\n",
      " -------------- Clustering ------- \n",
      "dimension of embedding used for clustering: 30\n",
      "Number of updates: "
     ]
    },
    {
     "name": "stdout",
     "output_type": "stream",
     "text": [
      "20\n",
      "Modularity: 0.17503564407744426\n",
      "Number of communities: 6\n",
      " -------------------------------------------- \n",
      "The first 5 squared singular values divided by N : \n",
      "[0.1563950397168143, 0.14748669796347957, 0.13498210885834222, 0.10956742632817956, 0.09634536245612621]\n",
      " -------------------------------------------- \n",
      "  1.178716 seconds (314.49 k allocations: 621.378 MiB, 9.30% gc time)\n",
      "\n",
      "  ~~~~~ number_rep = 2/3 ~~~~~\n",
      " ------- Acc Projected Power Iteration -------\n"
     ]
    },
    {
     "name": "stdout",
     "output_type": "stream",
     "text": [
      "The iteration has become stationary after 198 iterations\n",
      "  0.517221 seconds (5.26 k allocations: 410.986 MiB, 11.07% gc time)\n",
      " -------------- Clustering ------- \n",
      "dimension of embedding used for clustering: 30\n",
      "Number of updates: "
     ]
    },
    {
     "name": "stdout",
     "output_type": "stream",
     "text": [
      "19\n",
      "Modularity: 0.1712959889008772\n",
      "Number of communities: 7\n",
      " -------------------------------------------- \n",
      "The first 5 squared singular values divided by N : \n",
      "[0.15636051746874322, 0.14771956246433526, 0.13505320882647284, 0.10976345436214105, 0.09657157990529604]\n",
      " -------------------------------------------- \n",
      "  1.006808 seconds (289.77 k allocations: 607.390 MiB, 9.16% gc time)\n",
      "\n",
      "  ~~~~~ number_rep = 3/3 ~~~~~\n",
      " ------- Acc Projected Power Iteration -------\n"
     ]
    },
    {
     "name": "stdout",
     "output_type": "stream",
     "text": [
      "The iteration has become stationary after 197 iterations\n",
      "  0.523879 seconds (5.23 k allocations: 408.903 MiB, 10.78% gc time)\n",
      " -------------- Clustering ------- \n",
      "dimension of embedding used for clustering: 30\n",
      "Number of updates: "
     ]
    },
    {
     "name": "stdout",
     "output_type": "stream",
     "text": [
      "18\n",
      "Modularity: 0.1712339003667668\n",
      "Number of communities: 6\n",
      " -------------------------------------------- \n",
      "The first 5 squared singular values divided by N : \n",
      "[0.1565655032878527, 0.1476971704262636, 0.13517138263880937, 0.10963522470858439, 0.09653749587744319]\n",
      " -------------------------------------------- \n",
      "  1.044159 seconds (265.29 k allocations: 589.854 MiB, 15.33% gc time)\n"
     ]
    }
   ],
   "source": [
    "## Compute NMI for each graph\n",
    "path = \"data/LFR_data/\"\n",
    "n_graphs = 10\n",
    "\n",
    "# Set parameters of simulations\n",
    "n_clusters = 100\n",
    "d0 = 30\n",
    "shape = \"Ellipsoidal\" #shape = \"Spherical\"\n",
    "\n",
    "n_rep = 3\n",
    "mus=zeros(Float64,n_graphs)\n",
    "NMIs=zeros(Float64,n_graphs,n_rep)\n",
    "NMIs_louvain=zeros(Float64,n_graphs)\n",
    "\n",
    "for g=1:n_graphs\n",
    "    println(\"\\n========== Graph $g/$(n_graphs) ==========\")\n",
    "    \n",
    "    # load communities\n",
    "    community_true = readdlm(path*\"communities\"*string(g-1)*\".txt\",Int)\n",
    "    community_louvain = readdlm(path*\"louvain_communities\"*string(g-1)*\".txt\",Int)\n",
    "\n",
    "    # load graph\n",
    "    edgeList = readdlm(path*\"edgeList\"*string(g-1)*\".txt\",Int)\n",
    "\n",
    "    n_nodes = size(community_true)[1]\n",
    "    n_edges = size(edgeList)[1]\n",
    "\n",
    "    # construct sparse adjacency matrix from list of edges\n",
    "    adj = sparse(edgeList[:,1].+1,edgeList[:,2].+1,vec(ones(Int64,n_edges,1)),n_nodes,n_nodes)\n",
    "    adj = adj+adj' \n",
    "    # only the upper triangular part of adjacency matrix was stored\n",
    "\n",
    "    # keep only the largest connected component\n",
    "    adj,vertices = largest_component(adj)\n",
    "    \n",
    "    community_true = community_true[vertices]\n",
    "    community_true = rename_com_unique(community_true)\n",
    "    \n",
    "    community_louvain = community_louvain[vertices]\n",
    "    community_louvain = rename_com_unique(community_louvain)\n",
    "\n",
    "    # load parameters\n",
    "    LFR_parameters = readdlm(path*\"parameters\"*string(g-1)*\".txt\")\n",
    "    mu = parse(Float64, split(LFR_parameters[4],\"=\")[2]) \n",
    "    # extract mixing marameter (not very robust)\n",
    "    mus[g] = mu\n",
    "    \n",
    "    for j=1:n_rep\n",
    "        println(\"\\n  ~~~~~ number_rep = $j/$(n_rep) ~~~~~\")\n",
    "        \n",
    "         _,community,_ = @time sphere_embed_cluster(adj, d0,shape, n_clusters)\n",
    "        NMIs[g,j] = mutualinfo(community_true,community)\n",
    "    end\n",
    "    NMIs_louvain[g] = mutualinfo(community_true,community_louvain)\n",
    "end\n",
    "\n"
   ]
  },
  {
   "cell_type": "code",
   "execution_count": 27,
   "metadata": {},
   "outputs": [
    {
     "data": {
      "image/png": "[encoded data removed]",
      "image/svg+xml": [
       "<?xml version=\"1.0\" encoding=\"utf-8\"?>\n",
       "<svg xmlns=\"http://www.w3.org/2000/svg\" xmlns:xlink=\"http://www.w3.org/1999/xlink\" width=\"600\" height=\"400\" viewBox=\"0 0 2400 1600\">\n",
       "<defs>\n",
       "  <clipPath id=\"clip510\">\n",
       "    <rect x=\"0\" y=\"0\" width=\"2400\" height=\"1600\"/>\n",
       "  </clipPath>\n",
       "</defs>\n",
       "<path clip-path=\"url(#clip510)\" d=\"\n",
       "M0 1600 L2400 1600 L2400 0 L0 0  Z\n",
       "  \" fill=\"#ffffff\" fill-rule=\"evenodd\" fill-opacity=\"1\"/>\n",
       "<defs>\n",
       "  <clipPath id=\"clip511\">\n",
       "    <rect x=\"480\" y=\"0\" width=\"1681\" height=\"1600\"/>\n",
       "  </clipPath>\n",
       "</defs>\n",
       "<path clip-path=\"url(#clip510)\" d=\"\n",
       "M249.542 1423.18 L2352.76 1423.18 L2352.76 47.2441 L249.542 47.2441  Z\n",
       "  \" fill=\"#ffffff\" fill-rule=\"evenodd\" fill-opacity=\"1\"/>\n",
       "<defs>\n",
       "  <clipPath id=\"clip512\">\n",
       "    <rect x=\"249\" y=\"47\" width=\"2104\" height=\"1377\"/>\n",
       "  </clipPath>\n",
       "</defs>\n",
       "<polyline clip-path=\"url(#clip512)\" style=\"stroke:#000000; stroke-linecap:butt; stroke-linejoin:round; stroke-width:2; stroke-opacity:0.1; fill:none\" points=\"\n",
       "  529.53,1423.18 529.53,47.2441 \n",
       "  \"/>\n",
       "<polyline clip-path=\"url(#clip512)\" style=\"stroke:#000000; stroke-linecap:butt; stroke-linejoin:round; stroke-width:2; stroke-opacity:0.1; fill:none\" points=\"\n",
       "  970.455,1423.18 970.455,47.2441 \n",
       "  \"/>\n",
       "<polyline clip-path=\"url(#clip512)\" style=\"stroke:#000000; stroke-linecap:butt; stroke-linejoin:round; stroke-width:2; stroke-opacity:0.1; fill:none\" points=\"\n",
       "  1411.38,1423.18 1411.38,47.2441 \n",
       "  \"/>\n",
       "<polyline clip-path=\"url(#clip512)\" style=\"stroke:#000000; stroke-linecap:butt; stroke-linejoin:round; stroke-width:2; stroke-opacity:0.1; fill:none\" points=\"\n",
       "  1852.31,1423.18 1852.31,47.2441 \n",
       "  \"/>\n",
       "<polyline clip-path=\"url(#clip512)\" style=\"stroke:#000000; stroke-linecap:butt; stroke-linejoin:round; stroke-width:2; stroke-opacity:0.1; fill:none\" points=\"\n",
       "  2293.23,1423.18 2293.23,47.2441 \n",
       "  \"/>\n",
       "<polyline clip-path=\"url(#clip510)\" style=\"stroke:#000000; stroke-linecap:butt; stroke-linejoin:round; stroke-width:4; stroke-opacity:1; fill:none\" points=\"\n",
       "  249.542,1423.18 2352.76,1423.18 \n",
       "  \"/>\n",
       "<polyline clip-path=\"url(#clip510)\" style=\"stroke:#000000; stroke-linecap:butt; stroke-linejoin:round; stroke-width:4; stroke-opacity:1; fill:none\" points=\"\n",
       "  529.53,1423.18 529.53,1404.28 \n",
       "  \"/>\n",
       "<polyline clip-path=\"url(#clip510)\" style=\"stroke:#000000; stroke-linecap:butt; stroke-linejoin:round; stroke-width:4; stroke-opacity:1; fill:none\" points=\"\n",
       "  970.455,1423.18 970.455,1404.28 \n",
       "  \"/>\n",
       "<polyline clip-path=\"url(#clip510)\" style=\"stroke:#000000; stroke-linecap:butt; stroke-linejoin:round; stroke-width:4; stroke-opacity:1; fill:none\" points=\"\n",
       "  1411.38,1423.18 1411.38,1404.28 \n",
       "  \"/>\n",
       "<polyline clip-path=\"url(#clip510)\" style=\"stroke:#000000; stroke-linecap:butt; stroke-linejoin:round; stroke-width:4; stroke-opacity:1; fill:none\" points=\"\n",
       "  1852.31,1423.18 1852.31,1404.28 \n",
       "  \"/>\n",
       "<polyline clip-path=\"url(#clip510)\" style=\"stroke:#000000; stroke-linecap:butt; stroke-linejoin:round; stroke-width:4; stroke-opacity:1; fill:none\" points=\"\n",
       "  2293.23,1423.18 2293.23,1404.28 \n",
       "  \"/>\n",
       "<path clip-path=\"url(#clip510)\" d=\"M507.713 1454.1 Q504.102 1454.1 502.273 1457.66 Q500.467 1461.2 500.467 1468.33 Q500.467 1475.44 502.273 1479.01 Q504.102 1482.55 507.713 1482.55 Q511.347 1482.55 513.152 1479.01 Q514.981 1475.44 514.981 1468.33 Q514.981 1461.2 513.152 1457.66 Q511.347 1454.1 507.713 1454.1 M507.713 1450.39 Q513.523 1450.39 516.578 1455 Q519.657 1459.58 519.657 1468.33 Q519.657 1477.06 516.578 1481.67 Q513.523 1486.25 507.713 1486.25 Q501.902 1486.25 498.824 1481.67 Q495.768 1477.06 495.768 1468.33 Q495.768 1459.58 498.824 1455 Q501.902 1450.39 507.713 1450.39 Z\" fill=\"#000000\" fill-rule=\"evenodd\" fill-opacity=\"1\" /><path clip-path=\"url(#clip510)\" d=\"M527.875 1479.7 L532.759 1479.7 L532.759 1485.58 L527.875 1485.58 L527.875 1479.7 Z\" fill=\"#000000\" fill-rule=\"evenodd\" fill-opacity=\"1\" /><path clip-path=\"url(#clip510)\" d=\"M546.972 1481.64 L563.291 1481.64 L563.291 1485.58 L541.347 1485.58 L541.347 1481.64 Q544.009 1478.89 548.592 1474.26 Q553.198 1469.61 554.379 1468.27 Q556.624 1465.74 557.504 1464.01 Q558.407 1462.25 558.407 1460.56 Q558.407 1457.8 556.462 1456.07 Q554.541 1454.33 551.439 1454.33 Q549.24 1454.33 546.786 1455.09 Q544.356 1455.86 541.578 1457.41 L541.578 1452.69 Q544.402 1451.55 546.856 1450.97 Q549.31 1450.39 551.347 1450.39 Q556.717 1450.39 559.911 1453.08 Q563.106 1455.77 563.106 1460.26 Q563.106 1462.39 562.296 1464.31 Q561.509 1466.2 559.402 1468.8 Q558.823 1469.47 555.722 1472.69 Q552.62 1475.88 546.972 1481.64 Z\" fill=\"#000000\" fill-rule=\"evenodd\" fill-opacity=\"1\" /><path clip-path=\"url(#clip510)\" d=\"M947.596 1454.1 Q943.985 1454.1 942.157 1457.66 Q940.351 1461.2 940.351 1468.33 Q940.351 1475.44 942.157 1479.01 Q943.985 1482.55 947.596 1482.55 Q951.231 1482.55 953.036 1479.01 Q954.865 1475.44 954.865 1468.33 Q954.865 1461.2 953.036 1457.66 Q951.231 1454.1 947.596 1454.1 M947.596 1450.39 Q953.406 1450.39 956.462 1455 Q959.541 1459.58 959.541 1468.33 Q959.541 1477.06 956.462 1481.67 Q953.406 1486.25 947.596 1486.25 Q941.786 1486.25 938.707 1481.67 Q935.652 1477.06 935.652 1468.33 Q935.652 1459.58 938.707 1455 Q941.786 1450.39 947.596 1450.39 Z\" fill=\"#000000\" fill-rule=\"evenodd\" fill-opacity=\"1\" /><path clip-path=\"url(#clip510)\" d=\"M967.758 1479.7 L972.642 1479.7 L972.642 1485.58 L967.758 1485.58 L967.758 1479.7 Z\" fill=\"#000000\" fill-rule=\"evenodd\" fill-opacity=\"1\" /><path clip-path=\"url(#clip510)\" d=\"M995.675 1455.09 L983.869 1473.54 L995.675 1473.54 L995.675 1455.09 M994.448 1451.02 L1000.33 1451.02 L1000.33 1473.54 L1005.26 1473.54 L1005.26 1477.43 L1000.33 1477.43 L1000.33 1485.58 L995.675 1485.58 L995.675 1477.43 L980.073 1477.43 L980.073 1472.92 L994.448 1451.02 Z\" fill=\"#000000\" fill-rule=\"evenodd\" fill-opacity=\"1\" /><path clip-path=\"url(#clip510)\" d=\"M1388.68 1454.1 Q1385.07 1454.1 1383.24 1457.66 Q1381.44 1461.2 1381.44 1468.33 Q1381.44 1475.44 1383.24 1479.01 Q1385.07 1482.55 1388.68 1482.55 Q1392.32 1482.55 1394.12 1479.01 Q1395.95 1475.44 1395.95 1468.33 Q1395.95 1461.2 1394.12 1457.66 Q1392.32 1454.1 1388.68 1454.1 M1388.68 1450.39 Q1394.49 1450.39 1397.55 1455 Q1400.63 1459.58 1400.63 1468.33 Q1400.63 1477.06 1397.55 1481.67 Q1394.49 1486.25 1388.68 1486.25 Q1382.87 1486.25 1379.79 1481.67 Q1376.74 1477.06 1376.74 1468.33 Q1376.74 1459.58 1379.79 1455 Q1382.87 1450.39 1388.68 1450.39 Z\" fill=\"#000000\" fill-rule=\"evenodd\" fill-opacity=\"1\" /><path clip-path=\"url(#clip510)\" d=\"M1408.85 1479.7 L1413.73 1479.7 L1413.73 1485.58 L1408.85 1485.58 L1408.85 1479.7 Z\" fill=\"#000000\" fill-rule=\"evenodd\" fill-opacity=\"1\" /><path clip-path=\"url(#clip510)\" d=\"M1434.49 1466.44 Q1431.35 1466.44 1429.49 1468.59 Q1427.66 1470.74 1427.66 1474.49 Q1427.66 1478.22 1429.49 1480.39 Q1431.35 1482.55 1434.49 1482.55 Q1437.64 1482.55 1439.47 1480.39 Q1441.32 1478.22 1441.32 1474.49 Q1441.32 1470.74 1439.47 1468.59 Q1437.64 1466.44 1434.49 1466.44 M1443.78 1451.78 L1443.78 1456.04 Q1442.02 1455.21 1440.21 1454.77 Q1438.43 1454.33 1436.67 1454.33 Q1432.04 1454.33 1429.59 1457.45 Q1427.16 1460.58 1426.81 1466.9 Q1428.17 1464.89 1430.23 1463.82 Q1432.29 1462.73 1434.77 1462.73 Q1439.98 1462.73 1442.99 1465.9 Q1446.02 1469.05 1446.02 1474.49 Q1446.02 1479.82 1442.87 1483.03 Q1439.73 1486.25 1434.49 1486.25 Q1428.5 1486.25 1425.33 1481.67 Q1422.16 1477.06 1422.16 1468.33 Q1422.16 1460.14 1426.04 1455.28 Q1429.93 1450.39 1436.48 1450.39 Q1438.24 1450.39 1440.03 1450.74 Q1441.83 1451.09 1443.78 1451.78 Z\" fill=\"#000000\" fill-rule=\"evenodd\" fill-opacity=\"1\" /><path clip-path=\"url(#clip510)\" d=\"M1829.74 1454.1 Q1826.13 1454.1 1824.3 1457.66 Q1822.49 1461.2 1822.49 1468.33 Q1822.49 1475.44 1824.3 1479.01 Q1826.13 1482.55 1829.74 1482.55 Q1833.37 1482.55 1835.18 1479.01 Q1837 1475.44 1837 1468.33 Q1837 1461.2 1835.18 1457.66 Q1833.37 1454.1 1829.74 1454.1 M1829.74 1450.39 Q1835.55 1450.39 1838.6 1455 Q1841.68 1459.58 1841.68 1468.33 Q1841.68 1477.06 1838.6 1481.67 Q1835.55 1486.25 1829.74 1486.25 Q1823.93 1486.25 1820.85 1481.67 Q1817.79 1477.06 1817.79 1468.33 Q1817.79 1459.58 1820.85 1455 Q1823.93 1450.39 1829.74 1450.39 Z\" fill=\"#000000\" fill-rule=\"evenodd\" fill-opacity=\"1\" /><path clip-path=\"url(#clip510)\" d=\"M1849.9 1479.7 L1854.78 1479.7 L1854.78 1485.58 L1849.9 1485.58 L1849.9 1479.7 Z\" fill=\"#000000\" fill-rule=\"evenodd\" fill-opacity=\"1\" /><path clip-path=\"url(#clip510)\" d=\"M1874.97 1469.17 Q1871.63 1469.17 1869.71 1470.95 Q1867.81 1472.73 1867.81 1475.86 Q1867.81 1478.98 1869.71 1480.77 Q1871.63 1482.55 1874.97 1482.55 Q1878.3 1482.55 1880.22 1480.77 Q1882.14 1478.96 1882.14 1475.86 Q1882.14 1472.73 1880.22 1470.95 Q1878.32 1469.17 1874.97 1469.17 M1870.29 1467.18 Q1867.28 1466.44 1865.59 1464.38 Q1863.93 1462.32 1863.93 1459.35 Q1863.93 1455.21 1866.87 1452.8 Q1869.83 1450.39 1874.97 1450.39 Q1880.13 1450.39 1883.07 1452.8 Q1886.01 1455.21 1886.01 1459.35 Q1886.01 1462.32 1884.32 1464.38 Q1882.65 1466.44 1879.67 1467.18 Q1883.05 1467.96 1884.92 1470.26 Q1886.82 1472.55 1886.82 1475.86 Q1886.82 1480.88 1883.74 1483.57 Q1880.69 1486.25 1874.97 1486.25 Q1869.25 1486.25 1866.17 1483.57 Q1863.12 1480.88 1863.12 1475.86 Q1863.12 1472.55 1865.01 1470.26 Q1866.91 1467.96 1870.29 1467.18 M1868.58 1459.79 Q1868.58 1462.48 1870.25 1463.98 Q1871.94 1465.49 1874.97 1465.49 Q1877.98 1465.49 1879.67 1463.98 Q1881.38 1462.48 1881.38 1459.79 Q1881.38 1457.11 1879.67 1455.6 Q1877.98 1454.1 1874.97 1454.1 Q1871.94 1454.1 1870.25 1455.6 Q1868.58 1457.11 1868.58 1459.79 Z\" fill=\"#000000\" fill-rule=\"evenodd\" fill-opacity=\"1\" /><path clip-path=\"url(#clip510)\" d=\"M2260.38 1481.64 L2268.02 1481.64 L2268.02 1455.28 L2259.71 1456.95 L2259.71 1452.69 L2267.98 1451.02 L2272.65 1451.02 L2272.65 1481.64 L2280.29 1481.64 L2280.29 1485.58 L2260.38 1485.58 L2260.38 1481.64 Z\" fill=\"#000000\" fill-rule=\"evenodd\" fill-opacity=\"1\" /><path clip-path=\"url(#clip510)\" d=\"M2289.74 1479.7 L2294.62 1479.7 L2294.62 1485.58 L2289.74 1485.58 L2289.74 1479.7 Z\" fill=\"#000000\" fill-rule=\"evenodd\" fill-opacity=\"1\" /><path clip-path=\"url(#clip510)\" d=\"M2314.8 1454.1 Q2311.19 1454.1 2309.37 1457.66 Q2307.56 1461.2 2307.56 1468.33 Q2307.56 1475.44 2309.37 1479.01 Q2311.19 1482.55 2314.8 1482.55 Q2318.44 1482.55 2320.24 1479.01 Q2322.07 1475.44 2322.07 1468.33 Q2322.07 1461.2 2320.24 1457.66 Q2318.44 1454.1 2314.8 1454.1 M2314.8 1450.39 Q2320.62 1450.39 2323.67 1455 Q2326.75 1459.58 2326.75 1468.33 Q2326.75 1477.06 2323.67 1481.67 Q2320.62 1486.25 2314.8 1486.25 Q2308.99 1486.25 2305.92 1481.67 Q2302.86 1477.06 2302.86 1468.33 Q2302.86 1459.58 2305.92 1455 Q2308.99 1450.39 2314.8 1450.39 Z\" fill=\"#000000\" fill-rule=\"evenodd\" fill-opacity=\"1\" /><path clip-path=\"url(#clip510)\" d=\"M1015.06 1520.52 L1024.64 1520.52 L1036.77 1552.86 L1048.96 1520.52 L1058.54 1520.52 L1058.54 1568.04 L1052.27 1568.04 L1052.27 1526.32 L1040.01 1558.91 L1033.55 1558.91 L1021.3 1526.32 L1021.3 1568.04 L1015.06 1568.04 L1015.06 1520.52 Z\" fill=\"#000000\" fill-rule=\"evenodd\" fill-opacity=\"1\" /><path clip-path=\"url(#clip510)\" d=\"M1071.04 1532.4 L1076.9 1532.4 L1076.9 1568.04 L1071.04 1568.04 L1071.04 1532.4 M1071.04 1518.52 L1076.9 1518.52 L1076.9 1525.93 L1071.04 1525.93 L1071.04 1518.52 Z\" fill=\"#000000\" fill-rule=\"evenodd\" fill-opacity=\"1\" /><path clip-path=\"url(#clip510)\" d=\"M1118.79 1532.4 L1105.9 1549.74 L1119.46 1568.04 L1112.55 1568.04 L1102.17 1554.04 L1091.8 1568.04 L1084.89 1568.04 L1098.74 1549.39 L1086.07 1532.4 L1092.97 1532.4 L1102.43 1545.1 L1111.88 1532.4 L1118.79 1532.4 Z\" fill=\"#000000\" fill-rule=\"evenodd\" fill-opacity=\"1\" /><path clip-path=\"url(#clip510)\" d=\"M1127.73 1532.4 L1133.59 1532.4 L1133.59 1568.04 L1127.73 1568.04 L1127.73 1532.4 M1127.73 1518.52 L1133.59 1518.52 L1133.59 1525.93 L1127.73 1525.93 L1127.73 1518.52 Z\" fill=\"#000000\" fill-rule=\"evenodd\" fill-opacity=\"1\" /><path clip-path=\"url(#clip510)\" d=\"M1175.47 1546.53 L1175.47 1568.04 L1169.62 1568.04 L1169.62 1546.72 Q1169.62 1541.66 1167.64 1539.14 Q1165.67 1536.63 1161.72 1536.63 Q1156.98 1536.63 1154.24 1539.65 Q1151.51 1542.68 1151.51 1547.9 L1151.51 1568.04 L1145.62 1568.04 L1145.62 1532.4 L1151.51 1532.4 L1151.51 1537.93 Q1153.61 1534.72 1156.44 1533.13 Q1159.31 1531.54 1163.03 1531.54 Q1169.17 1531.54 1172.32 1535.36 Q1175.47 1539.14 1175.47 1546.53 Z\" fill=\"#000000\" fill-rule=\"evenodd\" fill-opacity=\"1\" /><path clip-path=\"url(#clip510)\" d=\"M1210.61 1549.81 Q1210.61 1543.44 1207.97 1539.94 Q1205.36 1536.44 1200.62 1536.44 Q1195.91 1536.44 1193.27 1539.94 Q1190.66 1543.44 1190.66 1549.81 Q1190.66 1556.14 1193.27 1559.64 Q1195.91 1563.14 1200.62 1563.14 Q1205.36 1563.14 1207.97 1559.64 Q1210.61 1556.14 1210.61 1549.81 M1216.47 1563.62 Q1216.47 1572.72 1212.43 1577.15 Q1208.38 1581.6 1200.05 1581.6 Q1196.96 1581.6 1194.22 1581.13 Q1191.48 1580.68 1188.91 1579.72 L1188.91 1574.03 Q1191.48 1575.43 1194 1576.1 Q1196.51 1576.76 1199.12 1576.76 Q1204.88 1576.76 1207.75 1573.74 Q1210.61 1570.75 1210.61 1564.67 L1210.61 1561.77 Q1208.8 1564.92 1205.97 1566.48 Q1203.13 1568.04 1199.19 1568.04 Q1192.63 1568.04 1188.62 1563.05 Q1184.61 1558.05 1184.61 1549.81 Q1184.61 1541.53 1188.62 1536.53 Q1192.63 1531.54 1199.19 1531.54 Q1203.13 1531.54 1205.97 1533.1 Q1208.8 1534.66 1210.61 1537.81 L1210.61 1532.4 L1216.47 1532.4 L1216.47 1563.62 Z\" fill=\"#000000\" fill-rule=\"evenodd\" fill-opacity=\"1\" /><path clip-path=\"url(#clip510)\" d=\"M1254.92 1562.7 L1254.92 1581.6 L1249.03 1581.6 L1249.03 1532.4 L1254.92 1532.4 L1254.92 1537.81 Q1256.76 1534.62 1259.56 1533.1 Q1262.4 1531.54 1266.31 1531.54 Q1272.81 1531.54 1276.85 1536.69 Q1280.92 1541.85 1280.92 1550.25 Q1280.92 1558.65 1276.85 1563.81 Q1272.81 1568.97 1266.31 1568.97 Q1262.4 1568.97 1259.56 1567.44 Q1256.76 1565.88 1254.92 1562.7 M1274.84 1550.25 Q1274.84 1543.79 1272.17 1540.13 Q1269.53 1536.44 1264.88 1536.44 Q1260.23 1536.44 1257.56 1540.13 Q1254.92 1543.79 1254.92 1550.25 Q1254.92 1556.71 1257.56 1560.4 Q1260.23 1564.07 1264.88 1564.07 Q1269.53 1564.07 1272.17 1560.4 Q1274.84 1556.71 1274.84 1550.25 Z\" fill=\"#000000\" fill-rule=\"evenodd\" fill-opacity=\"1\" /><path clip-path=\"url(#clip510)\" d=\"M1306.83 1550.12 Q1299.73 1550.12 1297 1551.75 Q1294.26 1553.37 1294.26 1557.29 Q1294.26 1560.4 1296.3 1562.25 Q1298.36 1564.07 1301.9 1564.07 Q1306.77 1564.07 1309.69 1560.63 Q1312.65 1557.16 1312.65 1551.43 L1312.65 1550.12 L1306.83 1550.12 M1318.51 1547.71 L1318.51 1568.04 L1312.65 1568.04 L1312.65 1562.63 Q1310.65 1565.88 1307.66 1567.44 Q1304.67 1568.97 1300.34 1568.97 Q1294.86 1568.97 1291.62 1565.91 Q1288.4 1562.82 1288.4 1557.67 Q1288.4 1551.65 1292.41 1548.6 Q1296.45 1545.54 1304.44 1545.54 L1312.65 1545.54 L1312.65 1544.97 Q1312.65 1540.93 1309.98 1538.73 Q1307.34 1536.5 1302.53 1536.5 Q1299.48 1536.5 1296.58 1537.23 Q1293.69 1537.97 1291.01 1539.43 L1291.01 1534.02 Q1294.23 1532.78 1297.25 1532.17 Q1300.27 1531.54 1303.14 1531.54 Q1310.87 1531.54 1314.69 1535.55 Q1318.51 1539.56 1318.51 1547.71 Z\" fill=\"#000000\" fill-rule=\"evenodd\" fill-opacity=\"1\" /><path clip-path=\"url(#clip510)\" d=\"M1351.23 1537.87 Q1350.24 1537.3 1349.07 1537.04 Q1347.92 1536.76 1346.52 1536.76 Q1341.56 1536.76 1338.88 1540 Q1336.24 1543.22 1336.24 1549.27 L1336.24 1568.04 L1330.35 1568.04 L1330.35 1532.4 L1336.24 1532.4 L1336.24 1537.93 Q1338.09 1534.69 1341.05 1533.13 Q1344.01 1531.54 1348.24 1531.54 Q1348.84 1531.54 1349.58 1531.63 Q1350.31 1531.7 1351.2 1531.85 L1351.23 1537.87 Z\" fill=\"#000000\" fill-rule=\"evenodd\" fill-opacity=\"1\" /><path clip-path=\"url(#clip510)\" d=\"M1373.57 1550.12 Q1366.48 1550.12 1363.74 1551.75 Q1361 1553.37 1361 1557.29 Q1361 1560.4 1363.04 1562.25 Q1365.11 1564.07 1368.64 1564.07 Q1373.51 1564.07 1376.44 1560.63 Q1379.4 1557.16 1379.4 1551.43 L1379.4 1550.12 L1373.57 1550.12 M1385.26 1547.71 L1385.26 1568.04 L1379.4 1568.04 L1379.4 1562.63 Q1377.39 1565.88 1374.4 1567.44 Q1371.41 1568.97 1367.08 1568.97 Q1361.61 1568.97 1358.36 1565.91 Q1355.15 1562.82 1355.15 1557.67 Q1355.15 1551.65 1359.16 1548.6 Q1363.2 1545.54 1371.19 1545.54 L1379.4 1545.54 L1379.4 1544.97 Q1379.4 1540.93 1376.73 1538.73 Q1374.08 1536.5 1369.28 1536.5 Q1366.22 1536.5 1363.33 1537.23 Q1360.43 1537.97 1357.76 1539.43 L1357.76 1534.02 Q1360.97 1532.78 1363.99 1532.17 Q1367.02 1531.54 1369.88 1531.54 Q1377.62 1531.54 1381.44 1535.55 Q1385.26 1539.56 1385.26 1547.71 Z\" fill=\"#000000\" fill-rule=\"evenodd\" fill-opacity=\"1\" /><path clip-path=\"url(#clip510)\" d=\"M1425.07 1539.24 Q1427.27 1535.29 1430.33 1533.41 Q1433.38 1531.54 1437.52 1531.54 Q1443.09 1531.54 1446.11 1535.45 Q1449.14 1539.33 1449.14 1546.53 L1449.14 1568.04 L1443.25 1568.04 L1443.25 1546.72 Q1443.25 1541.59 1441.43 1539.11 Q1439.62 1536.63 1435.9 1536.63 Q1431.34 1536.63 1428.7 1539.65 Q1426.06 1542.68 1426.06 1547.9 L1426.06 1568.04 L1420.17 1568.04 L1420.17 1546.72 Q1420.17 1541.56 1418.36 1539.11 Q1416.54 1536.63 1412.76 1536.63 Q1408.27 1536.63 1405.63 1539.68 Q1402.98 1542.71 1402.98 1547.9 L1402.98 1568.04 L1397.1 1568.04 L1397.1 1532.4 L1402.98 1532.4 L1402.98 1537.93 Q1404.99 1534.66 1407.79 1533.1 Q1410.59 1531.54 1414.44 1531.54 Q1418.33 1531.54 1421.03 1533.51 Q1423.77 1535.48 1425.07 1539.24 Z\" fill=\"#000000\" fill-rule=\"evenodd\" fill-opacity=\"1\" /><path clip-path=\"url(#clip510)\" d=\"M1491.31 1548.76 L1491.31 1551.62 L1464.38 1551.62 Q1464.76 1557.67 1468.01 1560.85 Q1471.29 1564 1477.11 1564 Q1480.49 1564 1483.64 1563.17 Q1486.82 1562.35 1489.94 1560.69 L1489.94 1566.23 Q1486.79 1567.57 1483.48 1568.27 Q1480.17 1568.97 1476.76 1568.97 Q1468.23 1568.97 1463.24 1564 Q1458.27 1559.04 1458.27 1550.57 Q1458.27 1541.82 1462.98 1536.69 Q1467.72 1531.54 1475.74 1531.54 Q1482.94 1531.54 1487.11 1536.18 Q1491.31 1540.8 1491.31 1548.76 M1485.45 1547.04 Q1485.39 1542.23 1482.75 1539.37 Q1480.14 1536.5 1475.81 1536.5 Q1470.91 1536.5 1467.95 1539.27 Q1465.02 1542.04 1464.57 1547.07 L1485.45 1547.04 Z\" fill=\"#000000\" fill-rule=\"evenodd\" fill-opacity=\"1\" /><path clip-path=\"url(#clip510)\" d=\"M1506.71 1522.27 L1506.71 1532.4 L1518.78 1532.4 L1518.78 1536.95 L1506.71 1536.95 L1506.71 1556.3 Q1506.71 1560.66 1507.89 1561.9 Q1509.1 1563.14 1512.76 1563.14 L1518.78 1563.14 L1518.78 1568.04 L1512.76 1568.04 Q1505.98 1568.04 1503.4 1565.53 Q1500.83 1562.98 1500.83 1556.3 L1500.83 1536.95 L1496.53 1536.95 L1496.53 1532.4 L1500.83 1532.4 L1500.83 1522.27 L1506.71 1522.27 Z\" fill=\"#000000\" fill-rule=\"evenodd\" fill-opacity=\"1\" /><path clip-path=\"url(#clip510)\" d=\"M1556.97 1548.76 L1556.97 1551.62 L1530.04 1551.62 Q1530.43 1557.67 1533.67 1560.85 Q1536.95 1564 1542.78 1564 Q1546.15 1564 1549.3 1563.17 Q1552.48 1562.35 1555.6 1560.69 L1555.6 1566.23 Q1552.45 1567.57 1549.14 1568.27 Q1545.83 1568.97 1542.43 1568.97 Q1533.9 1568.97 1528.9 1564 Q1523.93 1559.04 1523.93 1550.57 Q1523.93 1541.82 1528.64 1536.69 Q1533.39 1531.54 1541.41 1531.54 Q1548.6 1531.54 1552.77 1536.18 Q1556.97 1540.8 1556.97 1548.76 M1551.11 1547.04 Q1551.05 1542.23 1548.41 1539.37 Q1545.8 1536.5 1541.47 1536.5 Q1536.57 1536.5 1533.61 1539.27 Q1530.68 1542.04 1530.23 1547.07 L1551.11 1547.04 Z\" fill=\"#000000\" fill-rule=\"evenodd\" fill-opacity=\"1\" /><path clip-path=\"url(#clip510)\" d=\"M1587.24 1537.87 Q1586.25 1537.3 1585.08 1537.04 Q1583.93 1536.76 1582.53 1536.76 Q1577.56 1536.76 1574.89 1540 Q1572.25 1543.22 1572.25 1549.27 L1572.25 1568.04 L1566.36 1568.04 L1566.36 1532.4 L1572.25 1532.4 L1572.25 1537.93 Q1574.09 1534.69 1577.05 1533.13 Q1580.01 1531.54 1584.25 1531.54 Q1584.85 1531.54 1585.58 1531.63 Q1586.32 1531.7 1587.21 1531.85 L1587.24 1537.87 Z\" fill=\"#000000\" fill-rule=\"evenodd\" fill-opacity=\"1\" /><polyline clip-path=\"url(#clip512)\" style=\"stroke:#000000; stroke-linecap:butt; stroke-linejoin:round; stroke-width:2; stroke-opacity:0.1; fill:none\" points=\"\n",
       "  249.542,1405.21 2352.76,1405.21 \n",
       "  \"/>\n",
       "<polyline clip-path=\"url(#clip512)\" style=\"stroke:#000000; stroke-linecap:butt; stroke-linejoin:round; stroke-width:2; stroke-opacity:0.1; fill:none\" points=\"\n",
       "  249.542,1075.46 2352.76,1075.46 \n",
       "  \"/>\n",
       "<polyline clip-path=\"url(#clip512)\" style=\"stroke:#000000; stroke-linecap:butt; stroke-linejoin:round; stroke-width:2; stroke-opacity:0.1; fill:none\" points=\"\n",
       "  249.542,745.699 2352.76,745.699 \n",
       "  \"/>\n",
       "<polyline clip-path=\"url(#clip512)\" style=\"stroke:#000000; stroke-linecap:butt; stroke-linejoin:round; stroke-width:2; stroke-opacity:0.1; fill:none\" points=\"\n",
       "  249.542,415.942 2352.76,415.942 \n",
       "  \"/>\n",
       "<polyline clip-path=\"url(#clip512)\" style=\"stroke:#000000; stroke-linecap:butt; stroke-linejoin:round; stroke-width:2; stroke-opacity:0.1; fill:none\" points=\"\n",
       "  249.542,86.1857 2352.76,86.1857 \n",
       "  \"/>\n",
       "<polyline clip-path=\"url(#clip510)\" style=\"stroke:#000000; stroke-linecap:butt; stroke-linejoin:round; stroke-width:4; stroke-opacity:1; fill:none\" points=\"\n",
       "  249.542,1423.18 249.542,47.2441 \n",
       "  \"/>\n",
       "<polyline clip-path=\"url(#clip510)\" style=\"stroke:#000000; stroke-linecap:butt; stroke-linejoin:round; stroke-width:4; stroke-opacity:1; fill:none\" points=\"\n",
       "  249.542,1405.21 268.44,1405.21 \n",
       "  \"/>\n",
       "<polyline clip-path=\"url(#clip510)\" style=\"stroke:#000000; stroke-linecap:butt; stroke-linejoin:round; stroke-width:4; stroke-opacity:1; fill:none\" points=\"\n",
       "  249.542,1075.46 268.44,1075.46 \n",
       "  \"/>\n",
       "<polyline clip-path=\"url(#clip510)\" style=\"stroke:#000000; stroke-linecap:butt; stroke-linejoin:round; stroke-width:4; stroke-opacity:1; fill:none\" points=\"\n",
       "  249.542,745.699 268.44,745.699 \n",
       "  \"/>\n",
       "<polyline clip-path=\"url(#clip510)\" style=\"stroke:#000000; stroke-linecap:butt; stroke-linejoin:round; stroke-width:4; stroke-opacity:1; fill:none\" points=\"\n",
       "  249.542,415.942 268.44,415.942 \n",
       "  \"/>\n",
       "<polyline clip-path=\"url(#clip510)\" style=\"stroke:#000000; stroke-linecap:butt; stroke-linejoin:round; stroke-width:4; stroke-opacity:1; fill:none\" points=\"\n",
       "  249.542,86.1857 268.44,86.1857 \n",
       "  \"/>\n",
       "<path clip-path=\"url(#clip510)\" d=\"M126.205 1391.01 Q122.593 1391.01 120.765 1394.58 Q118.959 1398.12 118.959 1405.25 Q118.959 1412.35 120.765 1415.92 Q122.593 1419.46 126.205 1419.46 Q129.839 1419.46 131.644 1415.92 Q133.473 1412.35 133.473 1405.25 Q133.473 1398.12 131.644 1394.58 Q129.839 1391.01 126.205 1391.01 M126.205 1387.31 Q132.015 1387.31 135.07 1391.91 Q138.149 1396.5 138.149 1405.25 Q138.149 1413.97 135.07 1418.58 Q132.015 1423.16 126.205 1423.16 Q120.394 1423.16 117.316 1418.58 Q114.26 1413.97 114.26 1405.25 Q114.26 1396.5 117.316 1391.91 Q120.394 1387.31 126.205 1387.31 Z\" fill=\"#000000\" fill-rule=\"evenodd\" fill-opacity=\"1\" /><path clip-path=\"url(#clip510)\" d=\"M146.366 1416.61 L151.251 1416.61 L151.251 1422.49 L146.366 1422.49 L146.366 1416.61 Z\" fill=\"#000000\" fill-rule=\"evenodd\" fill-opacity=\"1\" /><path clip-path=\"url(#clip510)\" d=\"M171.436 1391.01 Q167.825 1391.01 165.996 1394.58 Q164.19 1398.12 164.19 1405.25 Q164.19 1412.35 165.996 1415.92 Q167.825 1419.46 171.436 1419.46 Q175.07 1419.46 176.876 1415.92 Q178.704 1412.35 178.704 1405.25 Q178.704 1398.12 176.876 1394.58 Q175.07 1391.01 171.436 1391.01 M171.436 1387.31 Q177.246 1387.31 180.301 1391.91 Q183.38 1396.5 183.38 1405.25 Q183.38 1413.97 180.301 1418.58 Q177.246 1423.16 171.436 1423.16 Q165.626 1423.16 162.547 1418.58 Q159.491 1413.97 159.491 1405.25 Q159.491 1396.5 162.547 1391.91 Q165.626 1387.31 171.436 1387.31 Z\" fill=\"#000000\" fill-rule=\"evenodd\" fill-opacity=\"1\" /><path clip-path=\"url(#clip510)\" d=\"M201.598 1391.01 Q197.987 1391.01 196.158 1394.58 Q194.352 1398.12 194.352 1405.25 Q194.352 1412.35 196.158 1415.92 Q197.987 1419.46 201.598 1419.46 Q205.232 1419.46 207.037 1415.92 Q208.866 1412.35 208.866 1405.25 Q208.866 1398.12 207.037 1394.58 Q205.232 1391.01 201.598 1391.01 M201.598 1387.31 Q207.408 1387.31 210.463 1391.91 Q213.542 1396.5 213.542 1405.25 Q213.542 1413.97 210.463 1418.58 Q207.408 1423.16 201.598 1423.16 Q195.787 1423.16 192.709 1418.58 Q189.653 1413.97 189.653 1405.25 Q189.653 1396.5 192.709 1391.91 Q195.787 1387.31 201.598 1387.31 Z\" fill=\"#000000\" fill-rule=\"evenodd\" fill-opacity=\"1\" /><path clip-path=\"url(#clip510)\" d=\"M127.2 1061.25 Q123.589 1061.25 121.76 1064.82 Q119.955 1068.36 119.955 1075.49 Q119.955 1082.6 121.76 1086.16 Q123.589 1089.7 127.2 1089.7 Q130.834 1089.7 132.64 1086.16 Q134.468 1082.6 134.468 1075.49 Q134.468 1068.36 132.64 1064.82 Q130.834 1061.25 127.2 1061.25 M127.2 1057.55 Q133.01 1057.55 136.066 1062.16 Q139.144 1066.74 139.144 1075.49 Q139.144 1084.22 136.066 1088.82 Q133.01 1093.41 127.2 1093.41 Q121.39 1093.41 118.311 1088.82 Q115.256 1084.22 115.256 1075.49 Q115.256 1066.74 118.311 1062.16 Q121.39 1057.55 127.2 1057.55 Z\" fill=\"#000000\" fill-rule=\"evenodd\" fill-opacity=\"1\" /><path clip-path=\"url(#clip510)\" d=\"M147.362 1086.86 L152.246 1086.86 L152.246 1092.74 L147.362 1092.74 L147.362 1086.86 Z\" fill=\"#000000\" fill-rule=\"evenodd\" fill-opacity=\"1\" /><path clip-path=\"url(#clip510)\" d=\"M166.459 1088.8 L182.778 1088.8 L182.778 1092.74 L160.834 1092.74 L160.834 1088.8 Q163.496 1086.05 168.079 1081.42 Q172.686 1076.76 173.866 1075.42 Q176.112 1072.9 176.991 1071.16 Q177.894 1069.4 177.894 1067.71 Q177.894 1064.96 175.95 1063.22 Q174.028 1061.49 170.927 1061.49 Q168.727 1061.49 166.274 1062.25 Q163.843 1063.01 161.065 1064.56 L161.065 1059.84 Q163.89 1058.71 166.343 1058.13 Q168.797 1057.55 170.834 1057.55 Q176.204 1057.55 179.399 1060.24 Q182.593 1062.92 182.593 1067.41 Q182.593 1069.54 181.783 1071.46 Q180.996 1073.36 178.889 1075.95 Q178.311 1076.62 175.209 1079.84 Q172.107 1083.04 166.459 1088.8 Z\" fill=\"#000000\" fill-rule=\"evenodd\" fill-opacity=\"1\" /><path clip-path=\"url(#clip510)\" d=\"M192.639 1058.18 L210.996 1058.18 L210.996 1062.11 L196.922 1062.11 L196.922 1070.58 Q197.94 1070.24 198.959 1070.07 Q199.977 1069.89 200.996 1069.89 Q206.783 1069.89 210.162 1073.06 Q213.542 1076.23 213.542 1081.65 Q213.542 1087.23 210.07 1090.33 Q206.598 1093.41 200.278 1093.41 Q198.102 1093.41 195.834 1093.04 Q193.588 1092.67 191.181 1091.92 L191.181 1087.23 Q193.264 1088.36 195.487 1088.92 Q197.709 1089.47 200.186 1089.47 Q204.19 1089.47 206.528 1087.36 Q208.866 1085.26 208.866 1081.65 Q208.866 1078.04 206.528 1075.93 Q204.19 1073.82 200.186 1073.82 Q198.311 1073.82 196.436 1074.24 Q194.584 1074.66 192.639 1075.54 L192.639 1058.18 Z\" fill=\"#000000\" fill-rule=\"evenodd\" fill-opacity=\"1\" /><path clip-path=\"url(#clip510)\" d=\"M126.205 731.497 Q122.593 731.497 120.765 735.062 Q118.959 738.604 118.959 745.733 Q118.959 752.84 120.765 756.405 Q122.593 759.946 126.205 759.946 Q129.839 759.946 131.644 756.405 Q133.473 752.84 133.473 745.733 Q133.473 738.604 131.644 735.062 Q129.839 731.497 126.205 731.497 M126.205 727.794 Q132.015 727.794 135.07 732.4 Q138.149 736.983 138.149 745.733 Q138.149 754.46 135.07 759.067 Q132.015 763.65 126.205 763.65 Q120.394 763.65 117.316 759.067 Q114.26 754.46 114.26 745.733 Q114.26 736.983 117.316 732.4 Q120.394 727.794 126.205 727.794 Z\" fill=\"#000000\" fill-rule=\"evenodd\" fill-opacity=\"1\" /><path clip-path=\"url(#clip510)\" d=\"M146.366 757.099 L151.251 757.099 L151.251 762.979 L146.366 762.979 L146.366 757.099 Z\" fill=\"#000000\" fill-rule=\"evenodd\" fill-opacity=\"1\" /><path clip-path=\"url(#clip510)\" d=\"M161.482 728.419 L179.839 728.419 L179.839 732.354 L165.765 732.354 L165.765 740.826 Q166.783 740.479 167.802 740.317 Q168.82 740.132 169.839 740.132 Q175.626 740.132 179.005 743.303 Q182.385 746.474 182.385 751.891 Q182.385 757.469 178.913 760.571 Q175.44 763.65 169.121 763.65 Q166.945 763.65 164.677 763.28 Q162.431 762.909 160.024 762.168 L160.024 757.469 Q162.107 758.604 164.329 759.159 Q166.552 759.715 169.028 759.715 Q173.033 759.715 175.371 757.608 Q177.709 755.502 177.709 751.891 Q177.709 748.28 175.371 746.173 Q173.033 744.067 169.028 744.067 Q167.153 744.067 165.278 744.483 Q163.427 744.9 161.482 745.78 L161.482 728.419 Z\" fill=\"#000000\" fill-rule=\"evenodd\" fill-opacity=\"1\" /><path clip-path=\"url(#clip510)\" d=\"M201.598 731.497 Q197.987 731.497 196.158 735.062 Q194.352 738.604 194.352 745.733 Q194.352 752.84 196.158 756.405 Q197.987 759.946 201.598 759.946 Q205.232 759.946 207.037 756.405 Q208.866 752.84 208.866 745.733 Q208.866 738.604 207.037 735.062 Q205.232 731.497 201.598 731.497 M201.598 727.794 Q207.408 727.794 210.463 732.4 Q213.542 736.983 213.542 745.733 Q213.542 754.46 210.463 759.067 Q207.408 763.65 201.598 763.65 Q195.787 763.65 192.709 759.067 Q189.653 754.46 189.653 745.733 Q189.653 736.983 192.709 732.4 Q195.787 727.794 201.598 727.794 Z\" fill=\"#000000\" fill-rule=\"evenodd\" fill-opacity=\"1\" /><path clip-path=\"url(#clip510)\" d=\"M127.2 401.741 Q123.589 401.741 121.76 405.306 Q119.955 408.847 119.955 415.977 Q119.955 423.083 121.76 426.648 Q123.589 430.19 127.2 430.19 Q130.834 430.19 132.64 426.648 Q134.468 423.083 134.468 415.977 Q134.468 408.847 132.64 405.306 Q130.834 401.741 127.2 401.741 M127.2 398.037 Q133.01 398.037 136.066 402.644 Q139.144 407.227 139.144 415.977 Q139.144 424.704 136.066 429.31 Q133.01 433.893 127.2 433.893 Q121.39 433.893 118.311 429.31 Q115.256 424.704 115.256 415.977 Q115.256 407.227 118.311 402.644 Q121.39 398.037 127.2 398.037 Z\" fill=\"#000000\" fill-rule=\"evenodd\" fill-opacity=\"1\" /><path clip-path=\"url(#clip510)\" d=\"M147.362 427.343 L152.246 427.343 L152.246 433.222 L147.362 433.222 L147.362 427.343 Z\" fill=\"#000000\" fill-rule=\"evenodd\" fill-opacity=\"1\" /><path clip-path=\"url(#clip510)\" d=\"M161.251 398.662 L183.473 398.662 L183.473 400.653 L170.927 433.222 L166.042 433.222 L177.848 402.597 L161.251 402.597 L161.251 398.662 Z\" fill=\"#000000\" fill-rule=\"evenodd\" fill-opacity=\"1\" /><path clip-path=\"url(#clip510)\" d=\"M192.639 398.662 L210.996 398.662 L210.996 402.597 L196.922 402.597 L196.922 411.07 Q197.94 410.722 198.959 410.56 Q199.977 410.375 200.996 410.375 Q206.783 410.375 210.162 413.546 Q213.542 416.718 213.542 422.134 Q213.542 427.713 210.07 430.815 Q206.598 433.893 200.278 433.893 Q198.102 433.893 195.834 433.523 Q193.588 433.153 191.181 432.412 L191.181 427.713 Q193.264 428.847 195.487 429.403 Q197.709 429.958 200.186 429.958 Q204.19 429.958 206.528 427.852 Q208.866 425.745 208.866 422.134 Q208.866 418.523 206.528 416.417 Q204.19 414.31 200.186 414.31 Q198.311 414.31 196.436 414.727 Q194.584 415.144 192.639 416.023 L192.639 398.662 Z\" fill=\"#000000\" fill-rule=\"evenodd\" fill-opacity=\"1\" /><path clip-path=\"url(#clip510)\" d=\"M117.015 99.5305 L124.654 99.5305 L124.654 73.1649 L116.343 74.8316 L116.343 70.5723 L124.607 68.9057 L129.283 68.9057 L129.283 99.5305 L136.922 99.5305 L136.922 103.466 L117.015 103.466 L117.015 99.5305 Z\" fill=\"#000000\" fill-rule=\"evenodd\" fill-opacity=\"1\" /><path clip-path=\"url(#clip510)\" d=\"M146.366 97.5861 L151.251 97.5861 L151.251 103.466 L146.366 103.466 L146.366 97.5861 Z\" fill=\"#000000\" fill-rule=\"evenodd\" fill-opacity=\"1\" /><path clip-path=\"url(#clip510)\" d=\"M171.436 71.9844 Q167.825 71.9844 165.996 75.5492 Q164.19 79.0908 164.19 86.2204 Q164.19 93.3268 165.996 96.8916 Q167.825 100.433 171.436 100.433 Q175.07 100.433 176.876 96.8916 Q178.704 93.3268 178.704 86.2204 Q178.704 79.0908 176.876 75.5492 Q175.07 71.9844 171.436 71.9844 M171.436 68.2807 Q177.246 68.2807 180.301 72.8871 Q183.38 77.4704 183.38 86.2204 Q183.38 94.9472 180.301 99.5537 Q177.246 104.137 171.436 104.137 Q165.626 104.137 162.547 99.5537 Q159.491 94.9472 159.491 86.2204 Q159.491 77.4704 162.547 72.8871 Q165.626 68.2807 171.436 68.2807 Z\" fill=\"#000000\" fill-rule=\"evenodd\" fill-opacity=\"1\" /><path clip-path=\"url(#clip510)\" d=\"M201.598 71.9844 Q197.987 71.9844 196.158 75.5492 Q194.352 79.0908 194.352 86.2204 Q194.352 93.3268 196.158 96.8916 Q197.987 100.433 201.598 100.433 Q205.232 100.433 207.037 96.8916 Q208.866 93.3268 208.866 86.2204 Q208.866 79.0908 207.037 75.5492 Q205.232 71.9844 201.598 71.9844 M201.598 68.2807 Q207.408 68.2807 210.463 72.8871 Q213.542 77.4704 213.542 86.2204 Q213.542 94.9472 210.463 99.5537 Q207.408 104.137 201.598 104.137 Q195.787 104.137 192.709 99.5537 Q189.653 94.9472 189.653 86.2204 Q189.653 77.4704 192.709 72.8871 Q195.787 68.2807 201.598 68.2807 Z\" fill=\"#000000\" fill-rule=\"evenodd\" fill-opacity=\"1\" /><path clip-path=\"url(#clip510)\" d=\"M16.4842 1237.77 L16.4842 1229.11 L56.238 1208.04 L16.4842 1208.04 L16.4842 1201.8 L64.0042 1201.8 L64.0042 1210.46 L24.2503 1231.53 L64.0042 1231.53 L64.0042 1237.77 L16.4842 1237.77 Z\" fill=\"#000000\" fill-rule=\"evenodd\" fill-opacity=\"1\" /><path clip-path=\"url(#clip510)\" d=\"M32.4621 1175.45 Q32.4621 1180.16 36.1542 1182.9 Q39.8145 1185.63 46.212 1185.63 Q52.6095 1185.63 56.3017 1182.93 Q59.9619 1180.19 59.9619 1175.45 Q59.9619 1170.77 56.2698 1168.03 Q52.5777 1165.3 46.212 1165.3 Q39.8781 1165.3 36.186 1168.03 Q32.4621 1170.77 32.4621 1175.45 M27.4968 1175.45 Q27.4968 1167.81 32.4621 1163.45 Q37.4273 1159.09 46.212 1159.09 Q54.9649 1159.09 59.9619 1163.45 Q64.9272 1167.81 64.9272 1175.45 Q64.9272 1183.12 59.9619 1187.48 Q54.9649 1191.81 46.212 1191.81 Q37.4273 1191.81 32.4621 1187.48 Q27.4968 1183.12 27.4968 1175.45 Z\" fill=\"#000000\" fill-rule=\"evenodd\" fill-opacity=\"1\" /><path clip-path=\"url(#clip510)\" d=\"M33.8307 1128.72 Q33.2578 1129.71 33.0032 1130.89 Q32.7167 1132.03 32.7167 1133.43 Q32.7167 1138.4 35.9632 1141.07 Q39.1779 1143.72 45.2253 1143.72 L64.0042 1143.72 L64.0042 1149.6 L28.3562 1149.6 L28.3562 1143.72 L33.8944 1143.72 Q30.6479 1141.87 29.0883 1138.91 Q27.4968 1135.95 27.4968 1131.72 Q27.4968 1131.11 27.5923 1130.38 Q27.656 1129.65 27.8151 1128.76 L33.8307 1128.72 Z\" fill=\"#000000\" fill-rule=\"evenodd\" fill-opacity=\"1\" /><path clip-path=\"url(#clip510)\" d=\"M35.1993 1095.97 Q31.2526 1093.78 29.3747 1090.72 Q27.4968 1087.67 27.4968 1083.53 Q27.4968 1077.96 31.4117 1074.93 Q35.2948 1071.91 42.4881 1071.91 L64.0042 1071.91 L64.0042 1077.8 L42.679 1077.8 Q37.5546 1077.8 35.072 1079.61 Q32.5894 1081.43 32.5894 1085.15 Q32.5894 1089.7 35.6131 1092.34 Q38.6368 1094.99 43.8567 1094.99 L64.0042 1094.99 L64.0042 1100.87 L42.679 1100.87 Q37.5228 1100.87 35.072 1102.69 Q32.5894 1104.5 32.5894 1108.29 Q32.5894 1112.78 35.6449 1115.42 Q38.6686 1118.06 43.8567 1118.06 L64.0042 1118.06 L64.0042 1123.95 L28.3562 1123.95 L28.3562 1118.06 L33.8944 1118.06 Q30.616 1116.06 29.0564 1113.26 Q27.4968 1110.45 27.4968 1106.6 Q27.4968 1102.72 29.4702 1100.01 Q31.4436 1097.28 35.1993 1095.97 Z\" fill=\"#000000\" fill-rule=\"evenodd\" fill-opacity=\"1\" /><path clip-path=\"url(#clip510)\" d=\"M46.0847 1044.03 Q46.0847 1051.13 47.7079 1053.86 Q49.3312 1056.6 53.2461 1056.6 Q56.3653 1056.6 58.2114 1054.56 Q60.0256 1052.49 60.0256 1048.96 Q60.0256 1044.09 56.5881 1041.16 Q53.1188 1038.2 47.3897 1038.2 L46.0847 1038.2 L46.0847 1044.03 M43.6657 1032.35 L64.0042 1032.35 L64.0042 1038.2 L58.5933 1038.2 Q61.8398 1040.21 63.3994 1043.2 Q64.9272 1046.19 64.9272 1050.52 Q64.9272 1056 61.8716 1059.24 Q58.7843 1062.46 53.6281 1062.46 Q47.6125 1062.46 44.5569 1058.45 Q41.5014 1054.4 41.5014 1046.42 L41.5014 1038.2 L40.9285 1038.2 Q36.8862 1038.2 34.6901 1040.88 Q32.4621 1043.52 32.4621 1048.33 Q32.4621 1051.38 33.1941 1054.28 Q33.9262 1057.17 35.3903 1059.85 L29.9795 1059.85 Q28.7381 1056.63 28.1334 1053.61 Q27.4968 1050.58 27.4968 1047.72 Q27.4968 1039.99 31.5072 1036.17 Q35.5176 1032.35 43.6657 1032.35 Z\" fill=\"#000000\" fill-rule=\"evenodd\" fill-opacity=\"1\" /><path clip-path=\"url(#clip510)\" d=\"M14.479 1020.28 L14.479 1014.43 L64.0042 1014.43 L64.0042 1020.28 L14.479 1020.28 Z\" fill=\"#000000\" fill-rule=\"evenodd\" fill-opacity=\"1\" /><path clip-path=\"url(#clip510)\" d=\"M28.3562 1002.17 L28.3562 996.317 L64.0042 996.317 L64.0042 1002.17 L28.3562 1002.17 M14.479 1002.17 L14.479 996.317 L21.895 996.317 L21.895 1002.17 L14.479 1002.17 Z\" fill=\"#000000\" fill-rule=\"evenodd\" fill-opacity=\"1\" /><path clip-path=\"url(#clip510)\" d=\"M28.3562 986.61 L28.3562 958.791 L33.7034 958.791 L59.3254 980.817 L59.3254 958.791 L64.0042 958.791 L64.0042 987.405 L58.657 987.405 L33.035 965.38 L33.035 986.61 L28.3562 986.61 Z\" fill=\"#000000\" fill-rule=\"evenodd\" fill-opacity=\"1\" /><path clip-path=\"url(#clip510)\" d=\"M44.7161 919.356 L47.5806 919.356 L47.5806 946.283 Q53.6281 945.901 56.8109 942.654 Q59.9619 939.376 59.9619 933.551 Q59.9619 930.178 59.1344 927.027 Q58.3069 923.844 56.6518 920.725 L62.1899 920.725 Q63.5267 923.876 64.227 927.186 Q64.9272 930.496 64.9272 933.902 Q64.9272 942.432 59.9619 947.429 Q54.9967 952.394 46.5303 952.394 Q37.7774 952.394 32.6531 947.683 Q27.4968 942.941 27.4968 934.92 Q27.4968 927.727 32.1438 923.557 Q36.7589 919.356 44.7161 919.356 M42.9973 925.212 Q38.1912 925.276 35.3266 927.918 Q32.4621 930.528 32.4621 934.856 Q32.4621 939.758 35.2312 942.718 Q38.0002 945.646 43.0292 946.092 L42.9973 925.212 Z\" fill=\"#000000\" fill-rule=\"evenodd\" fill-opacity=\"1\" /><path clip-path=\"url(#clip510)\" d=\"M33.7671 886.286 L14.479 886.286 L14.479 880.43 L64.0042 880.43 L64.0042 886.286 L58.657 886.286 Q61.8398 888.132 63.3994 890.965 Q64.9272 893.766 64.9272 897.713 Q64.9272 904.174 59.771 908.248 Q54.6147 912.29 46.212 912.29 Q37.8093 912.29 32.6531 908.248 Q27.4968 904.174 27.4968 897.713 Q27.4968 893.766 29.0564 890.965 Q30.5842 888.132 33.7671 886.286 M46.212 906.243 Q52.6732 906.243 56.3653 903.601 Q60.0256 900.927 60.0256 896.28 Q60.0256 891.633 56.3653 888.96 Q52.6732 886.286 46.212 886.286 Q39.7508 886.286 36.0905 888.96 Q32.3984 891.633 32.3984 896.28 Q32.3984 900.927 36.0905 903.601 Q39.7508 906.243 46.212 906.243 Z\" fill=\"#000000\" fill-rule=\"evenodd\" fill-opacity=\"1\" /><path clip-path=\"url(#clip510)\" d=\"M35.1993 819.892 Q31.2526 817.696 29.3747 814.64 Q27.4968 811.585 27.4968 807.447 Q27.4968 801.877 31.4117 798.853 Q35.2948 795.829 42.4881 795.829 L64.0042 795.829 L64.0042 801.718 L42.679 801.718 Q37.5546 801.718 35.072 803.532 Q32.5894 805.346 32.5894 809.07 Q32.5894 813.622 35.6131 816.263 Q38.6368 818.905 43.8567 818.905 L64.0042 818.905 L64.0042 824.793 L42.679 824.793 Q37.5228 824.793 35.072 826.608 Q32.5894 828.422 32.5894 832.209 Q32.5894 836.697 35.6449 839.339 Q38.6686 841.981 43.8567 841.981 L64.0042 841.981 L64.0042 847.869 L28.3562 847.869 L28.3562 841.981 L33.8944 841.981 Q30.616 839.976 29.0564 837.175 Q27.4968 834.374 27.4968 830.523 Q27.4968 826.639 29.4702 823.934 Q31.4436 821.197 35.1993 819.892 Z\" fill=\"#000000\" fill-rule=\"evenodd\" fill-opacity=\"1\" /><path clip-path=\"url(#clip510)\" d=\"M49.9359 784.753 L28.3562 784.753 L28.3562 778.897 L49.7131 778.897 Q54.7739 778.897 57.3202 776.923 Q59.8346 774.95 59.8346 771.003 Q59.8346 766.261 56.8109 763.523 Q53.7872 760.754 48.5673 760.754 L28.3562 760.754 L28.3562 754.898 L64.0042 754.898 L64.0042 760.754 L58.5296 760.754 Q61.7762 762.887 63.3676 765.72 Q64.9272 768.521 64.9272 772.244 Q64.9272 778.387 61.1078 781.57 Q57.2883 784.753 49.9359 784.753 M27.4968 770.016 L27.4968 770.016 Z\" fill=\"#000000\" fill-rule=\"evenodd\" fill-opacity=\"1\" /><path clip-path=\"url(#clip510)\" d=\"M18.2347 737.042 L28.3562 737.042 L28.3562 724.979 L32.9077 724.979 L32.9077 737.042 L52.2594 737.042 Q56.6199 737.042 57.8613 735.864 Q59.1026 734.655 59.1026 730.995 L59.1026 724.979 L64.0042 724.979 L64.0042 730.995 Q64.0042 737.774 61.4897 740.352 Q58.9434 742.93 52.2594 742.93 L32.9077 742.93 L32.9077 747.227 L28.3562 747.227 L28.3562 742.93 L18.2347 742.93 L18.2347 737.042 Z\" fill=\"#000000\" fill-rule=\"evenodd\" fill-opacity=\"1\" /><path clip-path=\"url(#clip510)\" d=\"M49.9359 717.881 L28.3562 717.881 L28.3562 712.025 L49.7131 712.025 Q54.7739 712.025 57.3202 710.052 Q59.8346 708.078 59.8346 704.131 Q59.8346 699.389 56.8109 696.652 Q53.7872 693.883 48.5673 693.883 L28.3562 693.883 L28.3562 688.026 L64.0042 688.026 L64.0042 693.883 L58.5296 693.883 Q61.7762 696.015 63.3676 698.848 Q64.9272 701.649 64.9272 705.373 Q64.9272 711.516 61.1078 714.698 Q57.2883 717.881 49.9359 717.881 M27.4968 703.145 L27.4968 703.145 Z\" fill=\"#000000\" fill-rule=\"evenodd\" fill-opacity=\"1\" /><path clip-path=\"url(#clip510)\" d=\"M46.0847 659.762 Q46.0847 666.86 47.7079 669.597 Q49.3312 672.335 53.2461 672.335 Q56.3653 672.335 58.2114 670.298 Q60.0256 668.229 60.0256 664.696 Q60.0256 659.826 56.5881 656.898 Q53.1188 653.938 47.3897 653.938 L46.0847 653.938 L46.0847 659.762 M43.6657 648.081 L64.0042 648.081 L64.0042 653.938 L58.5933 653.938 Q61.8398 655.943 63.3994 658.935 Q64.9272 661.927 64.9272 666.255 Q64.9272 671.73 61.8716 674.976 Q58.7843 678.191 53.6281 678.191 Q47.6125 678.191 44.5569 674.181 Q41.5014 670.139 41.5014 662.15 L41.5014 653.938 L40.9285 653.938 Q36.8862 653.938 34.6901 656.611 Q32.4621 659.253 32.4621 664.059 Q32.4621 667.115 33.1941 670.011 Q33.9262 672.908 35.3903 675.581 L29.9795 675.581 Q28.7381 672.367 28.1334 669.343 Q27.4968 666.319 27.4968 663.455 Q27.4968 655.72 31.5072 651.901 Q35.5176 648.081 43.6657 648.081 Z\" fill=\"#000000\" fill-rule=\"evenodd\" fill-opacity=\"1\" /><path clip-path=\"url(#clip510)\" d=\"M14.479 636.018 L14.479 630.162 L64.0042 630.162 L64.0042 636.018 L14.479 636.018 Z\" fill=\"#000000\" fill-rule=\"evenodd\" fill-opacity=\"1\" /><path clip-path=\"url(#clip510)\" d=\"M28.3562 597.188 L28.3562 591.331 L64.0042 591.331 L64.0042 597.188 L28.3562 597.188 M14.479 597.188 L14.479 591.331 L21.895 591.331 L21.895 597.188 L14.479 597.188 Z\" fill=\"#000000\" fill-rule=\"evenodd\" fill-opacity=\"1\" /><path clip-path=\"url(#clip510)\" d=\"M42.4881 549.445 L64.0042 549.445 L64.0042 555.301 L42.679 555.301 Q37.6183 555.301 35.1038 557.275 Q32.5894 559.248 32.5894 563.195 Q32.5894 567.937 35.6131 570.674 Q38.6368 573.412 43.8567 573.412 L64.0042 573.412 L64.0042 579.3 L28.3562 579.3 L28.3562 573.412 L33.8944 573.412 Q30.6797 571.311 29.0883 568.478 Q27.4968 565.614 27.4968 561.89 Q27.4968 555.747 31.3163 552.596 Q35.1038 549.445 42.4881 549.445 Z\" fill=\"#000000\" fill-rule=\"evenodd\" fill-opacity=\"1\" /><path clip-path=\"url(#clip510)\" d=\"M14.479 519.717 L19.3487 519.717 L19.3487 525.319 Q19.3487 528.47 20.6219 529.711 Q21.895 530.921 25.2052 530.921 L28.3562 530.921 L28.3562 521.276 L32.9077 521.276 L32.9077 530.921 L64.0042 530.921 L64.0042 536.809 L32.9077 536.809 L32.9077 542.411 L28.3562 542.411 L28.3562 536.809 L25.8736 536.809 Q19.9216 536.809 17.2162 534.04 Q14.479 531.271 14.479 525.255 L14.479 519.717 Z\" fill=\"#000000\" fill-rule=\"evenodd\" fill-opacity=\"1\" /><path clip-path=\"url(#clip510)\" d=\"M32.4621 501.002 Q32.4621 505.712 36.1542 508.45 Q39.8145 511.187 46.212 511.187 Q52.6095 511.187 56.3017 508.481 Q59.9619 505.744 59.9619 501.002 Q59.9619 496.323 56.2698 493.586 Q52.5777 490.848 46.212 490.848 Q39.8781 490.848 36.186 493.586 Q32.4621 496.323 32.4621 501.002 M27.4968 501.002 Q27.4968 493.363 32.4621 489.002 Q37.4273 484.642 46.212 484.642 Q54.9649 484.642 59.9619 489.002 Q64.9272 493.363 64.9272 501.002 Q64.9272 508.672 59.9619 513.033 Q54.9649 517.362 46.212 517.362 Q37.4273 517.362 32.4621 513.033 Q27.4968 508.672 27.4968 501.002 Z\" fill=\"#000000\" fill-rule=\"evenodd\" fill-opacity=\"1\" /><path clip-path=\"url(#clip510)\" d=\"M33.8307 454.277 Q33.2578 455.264 33.0032 456.442 Q32.7167 457.588 32.7167 458.988 Q32.7167 463.953 35.9632 466.627 Q39.1779 469.269 45.2253 469.269 L64.0042 469.269 L64.0042 475.157 L28.3562 475.157 L28.3562 469.269 L33.8944 469.269 Q30.6479 467.423 29.0883 464.463 Q27.4968 461.502 27.4968 457.269 Q27.4968 456.665 27.5923 455.933 Q27.656 455.2 27.8151 454.309 L33.8307 454.277 Z\" fill=\"#000000\" fill-rule=\"evenodd\" fill-opacity=\"1\" /><path clip-path=\"url(#clip510)\" d=\"M35.1993 421.526 Q31.2526 419.33 29.3747 416.274 Q27.4968 413.219 27.4968 409.081 Q27.4968 403.511 31.4117 400.487 Q35.2948 397.463 42.4881 397.463 L64.0042 397.463 L64.0042 403.352 L42.679 403.352 Q37.5546 403.352 35.072 405.166 Q32.5894 406.98 32.5894 410.704 Q32.5894 415.256 35.6131 417.897 Q38.6368 420.539 43.8567 420.539 L64.0042 420.539 L64.0042 426.427 L42.679 426.427 Q37.5228 426.427 35.072 428.242 Q32.5894 430.056 32.5894 433.844 Q32.5894 438.331 35.6449 440.973 Q38.6686 443.615 43.8567 443.615 L64.0042 443.615 L64.0042 449.503 L28.3562 449.503 L28.3562 443.615 L33.8944 443.615 Q30.616 441.61 29.0564 438.809 Q27.4968 436.008 27.4968 432.157 Q27.4968 428.274 29.4702 425.568 Q31.4436 422.831 35.1993 421.526 Z\" fill=\"#000000\" fill-rule=\"evenodd\" fill-opacity=\"1\" /><path clip-path=\"url(#clip510)\" d=\"M46.0847 369.582 Q46.0847 376.679 47.7079 379.417 Q49.3312 382.154 53.2461 382.154 Q56.3653 382.154 58.2114 380.117 Q60.0256 378.048 60.0256 374.515 Q60.0256 369.645 56.5881 366.717 Q53.1188 363.757 47.3897 363.757 L46.0847 363.757 L46.0847 369.582 M43.6657 357.901 L64.0042 357.901 L64.0042 363.757 L58.5933 363.757 Q61.8398 365.762 63.3994 368.754 Q64.9272 371.746 64.9272 376.075 Q64.9272 381.549 61.8716 384.796 Q58.7843 388.01 53.6281 388.01 Q47.6125 388.01 44.5569 384 Q41.5014 379.958 41.5014 371.969 L41.5014 363.757 L40.9285 363.757 Q36.8862 363.757 34.6901 366.431 Q32.4621 369.072 32.4621 373.879 Q32.4621 376.934 33.1941 379.83 Q33.9262 382.727 35.3903 385.4 L29.9795 385.4 Q28.7381 382.186 28.1334 379.162 Q27.4968 376.138 27.4968 373.274 Q27.4968 365.539 31.5072 361.72 Q35.5176 357.901 43.6657 357.901 Z\" fill=\"#000000\" fill-rule=\"evenodd\" fill-opacity=\"1\" /><path clip-path=\"url(#clip510)\" d=\"M18.2347 340.045 L28.3562 340.045 L28.3562 327.982 L32.9077 327.982 L32.9077 340.045 L52.2594 340.045 Q56.6199 340.045 57.8613 338.867 Q59.1026 337.658 59.1026 333.997 L59.1026 327.982 L64.0042 327.982 L64.0042 333.997 Q64.0042 340.777 61.4897 343.355 Q58.9434 345.933 52.2594 345.933 L32.9077 345.933 L32.9077 350.23 L28.3562 350.23 L28.3562 345.933 L18.2347 345.933 L18.2347 340.045 Z\" fill=\"#000000\" fill-rule=\"evenodd\" fill-opacity=\"1\" /><path clip-path=\"url(#clip510)\" d=\"M28.3562 320.279 L28.3562 314.423 L64.0042 314.423 L64.0042 320.279 L28.3562 320.279 M14.479 320.279 L14.479 314.423 L21.895 314.423 L21.895 320.279 L14.479 320.279 Z\" fill=\"#000000\" fill-rule=\"evenodd\" fill-opacity=\"1\" /><path clip-path=\"url(#clip510)\" d=\"M32.4621 288.355 Q32.4621 293.066 36.1542 295.803 Q39.8145 298.54 46.212 298.54 Q52.6095 298.54 56.3017 295.835 Q59.9619 293.098 59.9619 288.355 Q59.9619 283.676 56.2698 280.939 Q52.5777 278.202 46.212 278.202 Q39.8781 278.202 36.186 280.939 Q32.4621 283.676 32.4621 288.355 M27.4968 288.355 Q27.4968 280.716 32.4621 276.356 Q37.4273 271.995 46.212 271.995 Q54.9649 271.995 59.9619 276.356 Q64.9272 280.716 64.9272 288.355 Q64.9272 296.026 59.9619 300.386 Q54.9649 304.715 46.212 304.715 Q37.4273 304.715 32.4621 300.386 Q27.4968 296.026 27.4968 288.355 Z\" fill=\"#000000\" fill-rule=\"evenodd\" fill-opacity=\"1\" /><path clip-path=\"url(#clip510)\" d=\"M42.4881 232.655 L64.0042 232.655 L64.0042 238.512 L42.679 238.512 Q37.6183 238.512 35.1038 240.485 Q32.5894 242.459 32.5894 246.405 Q32.5894 251.148 35.6131 253.885 Q38.6368 256.622 43.8567 256.622 L64.0042 256.622 L64.0042 262.511 L28.3562 262.511 L28.3562 256.622 L33.8944 256.622 Q30.6797 254.522 29.0883 251.689 Q27.4968 248.824 27.4968 245.1 Q27.4968 238.957 31.3163 235.806 Q35.1038 232.655 42.4881 232.655 Z\" fill=\"#000000\" fill-rule=\"evenodd\" fill-opacity=\"1\" /><polyline clip-path=\"url(#clip512)\" style=\"stroke:#009af9; stroke-linecap:butt; stroke-linejoin:round; stroke-width:4; stroke-opacity:1; fill:none\" points=\"\n",
       "  309.067,86.9045 529.53,89.7773 749.992,96.937 970.455,203.765 1190.92,679.271 1411.38,1194.76 1631.84,1350.77 1852.31,1367.63 2072.77,1378.34 2293.23,1380.97 \n",
       "  \n",
       "  \"/>\n",
       "<polyline clip-path=\"url(#clip512)\" style=\"stroke:#009af9; stroke-linecap:butt; stroke-linejoin:round; stroke-width:4; stroke-opacity:1; fill:none\" points=\"\n",
       "  309.067,87.5271 309.067,86.282 \n",
       "  \"/>\n",
       "<polyline clip-path=\"url(#clip512)\" style=\"stroke:#009af9; stroke-linecap:butt; stroke-linejoin:round; stroke-width:4; stroke-opacity:1; fill:none\" points=\"\n",
       "  529.53,92.0196 529.53,87.535 \n",
       "  \"/>\n",
       "<polyline clip-path=\"url(#clip512)\" style=\"stroke:#009af9; stroke-linecap:butt; stroke-linejoin:round; stroke-width:4; stroke-opacity:1; fill:none\" points=\"\n",
       "  749.992,98.3279 749.992,95.5461 \n",
       "  \"/>\n",
       "<polyline clip-path=\"url(#clip512)\" style=\"stroke:#009af9; stroke-linecap:butt; stroke-linejoin:round; stroke-width:4; stroke-opacity:1; fill:none\" points=\"\n",
       "  970.455,222.311 970.455,185.218 \n",
       "  \"/>\n",
       "<polyline clip-path=\"url(#clip512)\" style=\"stroke:#009af9; stroke-linecap:butt; stroke-linejoin:round; stroke-width:4; stroke-opacity:1; fill:none\" points=\"\n",
       "  1190.92,740.507 1190.92,618.036 \n",
       "  \"/>\n",
       "<polyline clip-path=\"url(#clip512)\" style=\"stroke:#009af9; stroke-linecap:butt; stroke-linejoin:round; stroke-width:4; stroke-opacity:1; fill:none\" points=\"\n",
       "  1411.38,1213.97 1411.38,1175.55 \n",
       "  \"/>\n",
       "<polyline clip-path=\"url(#clip512)\" style=\"stroke:#009af9; stroke-linecap:butt; stroke-linejoin:round; stroke-width:4; stroke-opacity:1; fill:none\" points=\"\n",
       "  1631.84,1352.6 1631.84,1348.93 \n",
       "  \"/>\n",
       "<polyline clip-path=\"url(#clip512)\" style=\"stroke:#009af9; stroke-linecap:butt; stroke-linejoin:round; stroke-width:4; stroke-opacity:1; fill:none\" points=\"\n",
       "  1852.31,1370.81 1852.31,1364.45 \n",
       "  \"/>\n",
       "<polyline clip-path=\"url(#clip512)\" style=\"stroke:#009af9; stroke-linecap:butt; stroke-linejoin:round; stroke-width:4; stroke-opacity:1; fill:none\" points=\"\n",
       "  2072.77,1382.94 2072.77,1373.74 \n",
       "  \"/>\n",
       "<polyline clip-path=\"url(#clip512)\" style=\"stroke:#009af9; stroke-linecap:butt; stroke-linejoin:round; stroke-width:4; stroke-opacity:1; fill:none\" points=\"\n",
       "  2293.23,1384.24 2293.23,1377.7 \n",
       "  \"/>\n",
       "<line clip-path=\"url(#clip512)\" x1=\"325.067\" y1=\"87.5271\" x2=\"293.067\" y2=\"87.5271\" style=\"stroke:#009af9; stroke-width:3.2; stroke-opacity:1\"/>\n",
       "<line clip-path=\"url(#clip512)\" x1=\"325.067\" y1=\"86.282\" x2=\"293.067\" y2=\"86.282\" style=\"stroke:#009af9; stroke-width:3.2; stroke-opacity:1\"/>\n",
       "<line clip-path=\"url(#clip512)\" x1=\"545.53\" y1=\"92.0196\" x2=\"513.53\" y2=\"92.0196\" style=\"stroke:#009af9; stroke-width:3.2; stroke-opacity:1\"/>\n",
       "<line clip-path=\"url(#clip512)\" x1=\"545.53\" y1=\"87.535\" x2=\"513.53\" y2=\"87.535\" style=\"stroke:#009af9; stroke-width:3.2; stroke-opacity:1\"/>\n",
       "<line clip-path=\"url(#clip512)\" x1=\"765.992\" y1=\"98.3279\" x2=\"733.992\" y2=\"98.3279\" style=\"stroke:#009af9; stroke-width:3.2; stroke-opacity:1\"/>\n",
       "<line clip-path=\"url(#clip512)\" x1=\"765.992\" y1=\"95.5461\" x2=\"733.992\" y2=\"95.5461\" style=\"stroke:#009af9; stroke-width:3.2; stroke-opacity:1\"/>\n",
       "<line clip-path=\"url(#clip512)\" x1=\"986.455\" y1=\"222.311\" x2=\"954.455\" y2=\"222.311\" style=\"stroke:#009af9; stroke-width:3.2; stroke-opacity:1\"/>\n",
       "<line clip-path=\"url(#clip512)\" x1=\"986.455\" y1=\"185.218\" x2=\"954.455\" y2=\"185.218\" style=\"stroke:#009af9; stroke-width:3.2; stroke-opacity:1\"/>\n",
       "<line clip-path=\"url(#clip512)\" x1=\"1206.92\" y1=\"740.507\" x2=\"1174.92\" y2=\"740.507\" style=\"stroke:#009af9; stroke-width:3.2; stroke-opacity:1\"/>\n",
       "<line clip-path=\"url(#clip512)\" x1=\"1206.92\" y1=\"618.036\" x2=\"1174.92\" y2=\"618.036\" style=\"stroke:#009af9; stroke-width:3.2; stroke-opacity:1\"/>\n",
       "<line clip-path=\"url(#clip512)\" x1=\"1427.38\" y1=\"1213.97\" x2=\"1395.38\" y2=\"1213.97\" style=\"stroke:#009af9; stroke-width:3.2; stroke-opacity:1\"/>\n",
       "<line clip-path=\"url(#clip512)\" x1=\"1427.38\" y1=\"1175.55\" x2=\"1395.38\" y2=\"1175.55\" style=\"stroke:#009af9; stroke-width:3.2; stroke-opacity:1\"/>\n",
       "<line clip-path=\"url(#clip512)\" x1=\"1647.84\" y1=\"1352.6\" x2=\"1615.84\" y2=\"1352.6\" style=\"stroke:#009af9; stroke-width:3.2; stroke-opacity:1\"/>\n",
       "<line clip-path=\"url(#clip512)\" x1=\"1647.84\" y1=\"1348.93\" x2=\"1615.84\" y2=\"1348.93\" style=\"stroke:#009af9; stroke-width:3.2; stroke-opacity:1\"/>\n",
       "<line clip-path=\"url(#clip512)\" x1=\"1868.31\" y1=\"1370.81\" x2=\"1836.31\" y2=\"1370.81\" style=\"stroke:#009af9; stroke-width:3.2; stroke-opacity:1\"/>\n",
       "<line clip-path=\"url(#clip512)\" x1=\"1868.31\" y1=\"1364.45\" x2=\"1836.31\" y2=\"1364.45\" style=\"stroke:#009af9; stroke-width:3.2; stroke-opacity:1\"/>\n",
       "<line clip-path=\"url(#clip512)\" x1=\"2088.77\" y1=\"1382.94\" x2=\"2056.77\" y2=\"1382.94\" style=\"stroke:#009af9; stroke-width:3.2; stroke-opacity:1\"/>\n",
       "<line clip-path=\"url(#clip512)\" x1=\"2088.77\" y1=\"1373.74\" x2=\"2056.77\" y2=\"1373.74\" style=\"stroke:#009af9; stroke-width:3.2; stroke-opacity:1\"/>\n",
       "<line clip-path=\"url(#clip512)\" x1=\"2309.23\" y1=\"1384.24\" x2=\"2277.23\" y2=\"1384.24\" style=\"stroke:#009af9; stroke-width:3.2; stroke-opacity:1\"/>\n",
       "<line clip-path=\"url(#clip512)\" x1=\"2309.23\" y1=\"1377.7\" x2=\"2277.23\" y2=\"1377.7\" style=\"stroke:#009af9; stroke-width:3.2; stroke-opacity:1\"/>\n",
       "<polyline clip-path=\"url(#clip512)\" style=\"stroke:#e26f46; stroke-linecap:butt; stroke-linejoin:round; stroke-width:4; stroke-opacity:1; fill:none\" points=\"\n",
       "  309.067,86.1857 529.53,86.1857 749.992,88.3484 970.455,210.823 1190.92,578.588 1411.38,1122.33 1631.84,1309.7 1852.31,1352.49 2072.77,1363.69 2293.23,1372.45 \n",
       "  \n",
       "  \"/>\n",
       "<path clip-path=\"url(#clip510)\" d=\"\n",
       "M1842.68 248.629 L2282.65 248.629 L2282.65 93.1086 L1842.68 93.1086  Z\n",
       "  \" fill=\"#ffffff\" fill-rule=\"evenodd\" fill-opacity=\"1\"/>\n",
       "<polyline clip-path=\"url(#clip510)\" style=\"stroke:#000000; stroke-linecap:butt; stroke-linejoin:round; stroke-width:4; stroke-opacity:1; fill:none\" points=\"\n",
       "  1842.68,248.629 2282.65,248.629 2282.65,93.1086 1842.68,93.1086 1842.68,248.629 \n",
       "  \"/>\n",
       "<polyline clip-path=\"url(#clip510)\" style=\"stroke:#009af9; stroke-linecap:butt; stroke-linejoin:round; stroke-width:4; stroke-opacity:1; fill:none\" points=\"\n",
       "  1866.04,144.949 2006.26,144.949 \n",
       "  \"/>\n",
       "<path clip-path=\"url(#clip510)\" d=\"M2029.63 127.669 L2051.48 127.669 L2051.48 131.604 L2034.3 131.604 L2034.3 141.835 L2050.76 141.835 L2050.76 145.77 L2034.3 145.77 L2034.3 158.293 L2051.9 158.293 L2051.9 162.229 L2029.63 162.229 L2029.63 127.669 Z\" fill=\"#000000\" fill-rule=\"evenodd\" fill-opacity=\"1\" /><path clip-path=\"url(#clip510)\" d=\"M2059.4 126.21 L2063.66 126.21 L2063.66 162.229 L2059.4 162.229 L2059.4 126.21 Z\" fill=\"#000000\" fill-rule=\"evenodd\" fill-opacity=\"1\" /><path clip-path=\"url(#clip510)\" d=\"M2072.57 126.21 L2076.83 126.21 L2076.83 162.229 L2072.57 162.229 L2072.57 126.21 Z\" fill=\"#000000\" fill-rule=\"evenodd\" fill-opacity=\"1\" /><path clip-path=\"url(#clip510)\" d=\"M2085.74 136.303 L2090 136.303 L2090 162.229 L2085.74 162.229 L2085.74 136.303 M2085.74 126.21 L2090 126.21 L2090 131.604 L2085.74 131.604 L2085.74 126.21 Z\" fill=\"#000000\" fill-rule=\"evenodd\" fill-opacity=\"1\" /><path clip-path=\"url(#clip510)\" d=\"M2103.03 158.34 L2103.03 172.09 L2098.75 172.09 L2098.75 136.303 L2103.03 136.303 L2103.03 140.238 Q2104.37 137.923 2106.41 136.812 Q2108.47 135.678 2111.32 135.678 Q2116.04 135.678 2118.98 139.428 Q2121.94 143.178 2121.94 149.289 Q2121.94 155.4 2118.98 159.15 Q2116.04 162.9 2111.32 162.9 Q2108.47 162.9 2106.41 161.789 Q2104.37 160.655 2103.03 158.34 M2117.52 149.289 Q2117.52 144.59 2115.58 141.928 Q2113.66 139.243 2110.28 139.243 Q2106.9 139.243 2104.95 141.928 Q2103.03 144.59 2103.03 149.289 Q2103.03 153.988 2104.95 156.673 Q2106.9 159.335 2110.28 159.335 Q2113.66 159.335 2115.58 156.673 Q2117.52 153.988 2117.52 149.289 Z\" fill=\"#000000\" fill-rule=\"evenodd\" fill-opacity=\"1\" /><path clip-path=\"url(#clip510)\" d=\"M2145.53 137.067 L2145.53 141.094 Q2143.72 140.169 2141.78 139.706 Q2139.84 139.243 2137.75 139.243 Q2134.58 139.243 2132.98 140.215 Q2131.41 141.187 2131.41 143.131 Q2131.41 144.613 2132.54 145.469 Q2133.68 146.303 2137.1 147.067 L2138.56 147.391 Q2143.1 148.363 2145 150.145 Q2146.92 151.905 2146.92 155.076 Q2146.92 158.687 2144.05 160.793 Q2141.2 162.9 2136.2 162.9 Q2134.12 162.9 2131.85 162.483 Q2129.6 162.09 2127.1 161.28 L2127.1 156.881 Q2129.47 158.108 2131.76 158.733 Q2134.05 159.335 2136.29 159.335 Q2139.3 159.335 2140.92 158.317 Q2142.54 157.275 2142.54 155.4 Q2142.54 153.664 2141.36 152.738 Q2140.21 151.812 2136.25 150.956 L2134.77 150.608 Q2130.81 149.775 2129.05 148.062 Q2127.29 146.326 2127.29 143.317 Q2127.29 139.659 2129.88 137.669 Q2132.47 135.678 2137.24 135.678 Q2139.6 135.678 2141.69 136.025 Q2143.77 136.372 2145.53 137.067 Z\" fill=\"#000000\" fill-rule=\"evenodd\" fill-opacity=\"1\" /><path clip-path=\"url(#clip510)\" d=\"M2163.75 139.289 Q2160.32 139.289 2158.33 141.974 Q2156.34 144.636 2156.34 149.289 Q2156.34 153.942 2158.31 156.627 Q2160.3 159.289 2163.75 159.289 Q2167.15 159.289 2169.14 156.604 Q2171.13 153.918 2171.13 149.289 Q2171.13 144.682 2169.14 141.997 Q2167.15 139.289 2163.75 139.289 M2163.75 135.678 Q2169.3 135.678 2172.47 139.289 Q2175.65 142.9 2175.65 149.289 Q2175.65 155.655 2172.47 159.289 Q2169.3 162.9 2163.75 162.9 Q2158.17 162.9 2155 159.289 Q2151.85 155.655 2151.85 149.289 Q2151.85 142.9 2155 139.289 Q2158.17 135.678 2163.75 135.678 Z\" fill=\"#000000\" fill-rule=\"evenodd\" fill-opacity=\"1\" /><path clip-path=\"url(#clip510)\" d=\"M2182.71 136.303 L2186.97 136.303 L2186.97 162.229 L2182.71 162.229 L2182.71 136.303 M2182.71 126.21 L2186.97 126.21 L2186.97 131.604 L2182.71 131.604 L2182.71 126.21 Z\" fill=\"#000000\" fill-rule=\"evenodd\" fill-opacity=\"1\" /><path clip-path=\"url(#clip510)\" d=\"M2212.94 140.238 L2212.94 126.21 L2217.2 126.21 L2217.2 162.229 L2212.94 162.229 L2212.94 158.34 Q2211.59 160.655 2209.53 161.789 Q2207.5 162.9 2204.63 162.9 Q2199.93 162.9 2196.97 159.15 Q2194.03 155.4 2194.03 149.289 Q2194.03 143.178 2196.97 139.428 Q2199.93 135.678 2204.63 135.678 Q2207.5 135.678 2209.53 136.812 Q2211.59 137.923 2212.94 140.238 M2198.42 149.289 Q2198.42 153.988 2200.34 156.673 Q2202.29 159.335 2205.67 159.335 Q2209.05 159.335 2210.99 156.673 Q2212.94 153.988 2212.94 149.289 Q2212.94 144.59 2210.99 141.928 Q2209.05 139.243 2205.67 139.243 Q2202.29 139.243 2200.34 141.928 Q2198.42 144.59 2198.42 149.289 Z\" fill=\"#000000\" fill-rule=\"evenodd\" fill-opacity=\"1\" /><path clip-path=\"url(#clip510)\" d=\"M2237.75 149.196 Q2232.59 149.196 2230.6 150.377 Q2228.61 151.557 2228.61 154.405 Q2228.61 156.673 2230.09 158.016 Q2231.59 159.335 2234.16 159.335 Q2237.71 159.335 2239.84 156.835 Q2241.99 154.312 2241.99 150.145 L2241.99 149.196 L2237.75 149.196 M2246.25 147.437 L2246.25 162.229 L2241.99 162.229 L2241.99 158.293 Q2240.53 160.655 2238.35 161.789 Q2236.18 162.9 2233.03 162.9 Q2229.05 162.9 2226.69 160.678 Q2224.35 158.432 2224.35 154.682 Q2224.35 150.307 2227.27 148.085 Q2230.21 145.863 2236.02 145.863 L2241.99 145.863 L2241.99 145.446 Q2241.99 142.507 2240.04 140.909 Q2238.12 139.289 2234.63 139.289 Q2232.4 139.289 2230.3 139.821 Q2228.19 140.354 2226.25 141.419 L2226.25 137.483 Q2228.59 136.581 2230.78 136.141 Q2232.98 135.678 2235.07 135.678 Q2240.69 135.678 2243.47 138.594 Q2246.25 141.511 2246.25 147.437 Z\" fill=\"#000000\" fill-rule=\"evenodd\" fill-opacity=\"1\" /><path clip-path=\"url(#clip510)\" d=\"M2255.02 126.21 L2259.28 126.21 L2259.28 162.229 L2255.02 162.229 L2255.02 126.21 Z\" fill=\"#000000\" fill-rule=\"evenodd\" fill-opacity=\"1\" /><polyline clip-path=\"url(#clip510)\" style=\"stroke:#e26f46; stroke-linecap:butt; stroke-linejoin:round; stroke-width:4; stroke-opacity:1; fill:none\" points=\"\n",
       "  1866.04,196.789 2006.26,196.789 \n",
       "  \"/>\n",
       "<path clip-path=\"url(#clip510)\" d=\"M2029.63 179.509 L2034.3 179.509 L2034.3 210.133 L2051.13 210.133 L2051.13 214.069 L2029.63 214.069 L2029.63 179.509 Z\" fill=\"#000000\" fill-rule=\"evenodd\" fill-opacity=\"1\" /><path clip-path=\"url(#clip510)\" d=\"M2065.07 191.129 Q2061.64 191.129 2059.65 193.814 Q2057.66 196.476 2057.66 201.129 Q2057.66 205.782 2059.63 208.467 Q2061.62 211.129 2065.07 211.129 Q2068.47 211.129 2070.46 208.444 Q2072.45 205.758 2072.45 201.129 Q2072.45 196.522 2070.46 193.837 Q2068.47 191.129 2065.07 191.129 M2065.07 187.518 Q2070.62 187.518 2073.79 191.129 Q2076.97 194.74 2076.97 201.129 Q2076.97 207.495 2073.79 211.129 Q2070.62 214.74 2065.07 214.74 Q2059.49 214.74 2056.32 211.129 Q2053.17 207.495 2053.17 201.129 Q2053.17 194.74 2056.32 191.129 Q2059.49 187.518 2065.07 187.518 Z\" fill=\"#000000\" fill-rule=\"evenodd\" fill-opacity=\"1\" /><path clip-path=\"url(#clip510)\" d=\"M2083.59 203.837 L2083.59 188.143 L2087.85 188.143 L2087.85 203.675 Q2087.85 207.356 2089.28 209.208 Q2090.72 211.036 2093.59 211.036 Q2097.04 211.036 2099.03 208.837 Q2101.04 206.638 2101.04 202.842 L2101.04 188.143 L2105.3 188.143 L2105.3 214.069 L2101.04 214.069 L2101.04 210.087 Q2099.49 212.448 2097.43 213.606 Q2095.39 214.74 2092.68 214.74 Q2088.22 214.74 2085.9 211.962 Q2083.59 209.184 2083.59 203.837 M2094.3 187.518 L2094.3 187.518 Z\" fill=\"#000000\" fill-rule=\"evenodd\" fill-opacity=\"1\" /><path clip-path=\"url(#clip510)\" d=\"M2111.02 188.143 L2115.53 188.143 L2123.63 209.902 L2131.73 188.143 L2136.25 188.143 L2126.53 214.069 L2120.74 214.069 L2111.02 188.143 Z\" fill=\"#000000\" fill-rule=\"evenodd\" fill-opacity=\"1\" /><path clip-path=\"url(#clip510)\" d=\"M2153.91 201.036 Q2148.75 201.036 2146.76 202.217 Q2144.77 203.397 2144.77 206.245 Q2144.77 208.513 2146.25 209.856 Q2147.75 211.175 2150.32 211.175 Q2153.86 211.175 2155.99 208.675 Q2158.15 206.152 2158.15 201.985 L2158.15 201.036 L2153.91 201.036 M2162.41 199.277 L2162.41 214.069 L2158.15 214.069 L2158.15 210.133 Q2156.69 212.495 2154.51 213.629 Q2152.34 214.74 2149.19 214.74 Q2145.21 214.74 2142.85 212.518 Q2140.51 210.272 2140.51 206.522 Q2140.51 202.147 2143.42 199.925 Q2146.36 197.703 2152.17 197.703 L2158.15 197.703 L2158.15 197.286 Q2158.15 194.347 2156.2 192.749 Q2154.28 191.129 2150.78 191.129 Q2148.56 191.129 2146.46 191.661 Q2144.35 192.194 2142.41 193.259 L2142.41 189.323 Q2144.74 188.421 2146.94 187.981 Q2149.14 187.518 2151.22 187.518 Q2156.85 187.518 2159.63 190.434 Q2162.41 193.351 2162.41 199.277 Z\" fill=\"#000000\" fill-rule=\"evenodd\" fill-opacity=\"1\" /><path clip-path=\"url(#clip510)\" d=\"M2171.18 188.143 L2175.44 188.143 L2175.44 214.069 L2171.18 214.069 L2171.18 188.143 M2171.18 178.05 L2175.44 178.05 L2175.44 183.444 L2171.18 183.444 L2171.18 178.05 Z\" fill=\"#000000\" fill-rule=\"evenodd\" fill-opacity=\"1\" /><path clip-path=\"url(#clip510)\" d=\"M2205.9 198.421 L2205.9 214.069 L2201.64 214.069 L2201.64 198.559 Q2201.64 194.879 2200.21 193.05 Q2198.77 191.222 2195.9 191.222 Q2192.45 191.222 2190.46 193.421 Q2188.47 195.62 2188.47 199.416 L2188.47 214.069 L2184.19 214.069 L2184.19 188.143 L2188.47 188.143 L2188.47 192.171 Q2190 189.833 2192.06 188.675 Q2194.14 187.518 2196.85 187.518 Q2201.32 187.518 2203.61 190.296 Q2205.9 193.05 2205.9 198.421 Z\" fill=\"#000000\" fill-rule=\"evenodd\" fill-opacity=\"1\" /></svg>\n"
      ],
      "text/html": [
       "<?xml version=\"1.0\" encoding=\"utf-8\"?>\n",
       "<svg xmlns=\"http://www.w3.org/2000/svg\" xmlns:xlink=\"http://www.w3.org/1999/xlink\" width=\"600\" height=\"400\" viewBox=\"0 0 2400 1600\">\n",
       "<defs>\n",
       "  <clipPath id=\"clip560\">\n",
       "    <rect x=\"0\" y=\"0\" width=\"2400\" height=\"1600\"/>\n",
       "  </clipPath>\n",
       "</defs>\n",
       "<path clip-path=\"url(#clip560)\" d=\"\n",
       "M0 1600 L2400 1600 L2400 0 L0 0  Z\n",
       "  \" fill=\"#ffffff\" fill-rule=\"evenodd\" fill-opacity=\"1\"/>\n",
       "<defs>\n",
       "  <clipPath id=\"clip561\">\n",
       "    <rect x=\"480\" y=\"0\" width=\"1681\" height=\"1600\"/>\n",
       "  </clipPath>\n",
       "</defs>\n",
       "<path clip-path=\"url(#clip560)\" d=\"\n",
       "M249.542 1423.18 L2352.76 1423.18 L2352.76 47.2441 L249.542 47.2441  Z\n",
       "  \" fill=\"#ffffff\" fill-rule=\"evenodd\" fill-opacity=\"1\"/>\n",
       "<defs>\n",
       "  <clipPath id=\"clip562\">\n",
       "    <rect x=\"249\" y=\"47\" width=\"2104\" height=\"1377\"/>\n",
       "  </clipPath>\n",
       "</defs>\n",
       "<polyline clip-path=\"url(#clip562)\" style=\"stroke:#000000; stroke-linecap:butt; stroke-linejoin:round; stroke-width:2; stroke-opacity:0.1; fill:none\" points=\"\n",
       "  529.53,1423.18 529.53,47.2441 \n",
       "  \"/>\n",
       "<polyline clip-path=\"url(#clip562)\" style=\"stroke:#000000; stroke-linecap:butt; stroke-linejoin:round; stroke-width:2; stroke-opacity:0.1; fill:none\" points=\"\n",
       "  970.455,1423.18 970.455,47.2441 \n",
       "  \"/>\n",
       "<polyline clip-path=\"url(#clip562)\" style=\"stroke:#000000; stroke-linecap:butt; stroke-linejoin:round; stroke-width:2; stroke-opacity:0.1; fill:none\" points=\"\n",
       "  1411.38,1423.18 1411.38,47.2441 \n",
       "  \"/>\n",
       "<polyline clip-path=\"url(#clip562)\" style=\"stroke:#000000; stroke-linecap:butt; stroke-linejoin:round; stroke-width:2; stroke-opacity:0.1; fill:none\" points=\"\n",
       "  1852.31,1423.18 1852.31,47.2441 \n",
       "  \"/>\n",
       "<polyline clip-path=\"url(#clip562)\" style=\"stroke:#000000; stroke-linecap:butt; stroke-linejoin:round; stroke-width:2; stroke-opacity:0.1; fill:none\" points=\"\n",
       "  2293.23,1423.18 2293.23,47.2441 \n",
       "  \"/>\n",
       "<polyline clip-path=\"url(#clip560)\" style=\"stroke:#000000; stroke-linecap:butt; stroke-linejoin:round; stroke-width:4; stroke-opacity:1; fill:none\" points=\"\n",
       "  249.542,1423.18 2352.76,1423.18 \n",
       "  \"/>\n",
       "<polyline clip-path=\"url(#clip560)\" style=\"stroke:#000000; stroke-linecap:butt; stroke-linejoin:round; stroke-width:4; stroke-opacity:1; fill:none\" points=\"\n",
       "  529.53,1423.18 529.53,1404.28 \n",
       "  \"/>\n",
       "<polyline clip-path=\"url(#clip560)\" style=\"stroke:#000000; stroke-linecap:butt; stroke-linejoin:round; stroke-width:4; stroke-opacity:1; fill:none\" points=\"\n",
       "  970.455,1423.18 970.455,1404.28 \n",
       "  \"/>\n",
       "<polyline clip-path=\"url(#clip560)\" style=\"stroke:#000000; stroke-linecap:butt; stroke-linejoin:round; stroke-width:4; stroke-opacity:1; fill:none\" points=\"\n",
       "  1411.38,1423.18 1411.38,1404.28 \n",
       "  \"/>\n",
       "<polyline clip-path=\"url(#clip560)\" style=\"stroke:#000000; stroke-linecap:butt; stroke-linejoin:round; stroke-width:4; stroke-opacity:1; fill:none\" points=\"\n",
       "  1852.31,1423.18 1852.31,1404.28 \n",
       "  \"/>\n",
       "<polyline clip-path=\"url(#clip560)\" style=\"stroke:#000000; stroke-linecap:butt; stroke-linejoin:round; stroke-width:4; stroke-opacity:1; fill:none\" points=\"\n",
       "  2293.23,1423.18 2293.23,1404.28 \n",
       "  \"/>\n",
       "<path clip-path=\"url(#clip560)\" d=\"M507.713 1454.1 Q504.102 1454.1 502.273 1457.66 Q500.467 1461.2 500.467 1468.33 Q500.467 1475.44 502.273 1479.01 Q504.102 1482.55 507.713 1482.55 Q511.347 1482.55 513.152 1479.01 Q514.981 1475.44 514.981 1468.33 Q514.981 1461.2 513.152 1457.66 Q511.347 1454.1 507.713 1454.1 M507.713 1450.39 Q513.523 1450.39 516.578 1455 Q519.657 1459.58 519.657 1468.33 Q519.657 1477.06 516.578 1481.67 Q513.523 1486.25 507.713 1486.25 Q501.902 1486.25 498.824 1481.67 Q495.768 1477.06 495.768 1468.33 Q495.768 1459.58 498.824 1455 Q501.902 1450.39 507.713 1450.39 Z\" fill=\"#000000\" fill-rule=\"evenodd\" fill-opacity=\"1\" /><path clip-path=\"url(#clip560)\" d=\"M527.875 1479.7 L532.759 1479.7 L532.759 1485.58 L527.875 1485.58 L527.875 1479.7 Z\" fill=\"#000000\" fill-rule=\"evenodd\" fill-opacity=\"1\" /><path clip-path=\"url(#clip560)\" d=\"M546.972 1481.64 L563.291 1481.64 L563.291 1485.58 L541.347 1485.58 L541.347 1481.64 Q544.009 1478.89 548.592 1474.26 Q553.198 1469.61 554.379 1468.27 Q556.624 1465.74 557.504 1464.01 Q558.407 1462.25 558.407 1460.56 Q558.407 1457.8 556.462 1456.07 Q554.541 1454.33 551.439 1454.33 Q549.24 1454.33 546.786 1455.09 Q544.356 1455.86 541.578 1457.41 L541.578 1452.69 Q544.402 1451.55 546.856 1450.97 Q549.31 1450.39 551.347 1450.39 Q556.717 1450.39 559.911 1453.08 Q563.106 1455.77 563.106 1460.26 Q563.106 1462.39 562.296 1464.31 Q561.509 1466.2 559.402 1468.8 Q558.823 1469.47 555.722 1472.69 Q552.62 1475.88 546.972 1481.64 Z\" fill=\"#000000\" fill-rule=\"evenodd\" fill-opacity=\"1\" /><path clip-path=\"url(#clip560)\" d=\"M947.596 1454.1 Q943.985 1454.1 942.157 1457.66 Q940.351 1461.2 940.351 1468.33 Q940.351 1475.44 942.157 1479.01 Q943.985 1482.55 947.596 1482.55 Q951.231 1482.55 953.036 1479.01 Q954.865 1475.44 954.865 1468.33 Q954.865 1461.2 953.036 1457.66 Q951.231 1454.1 947.596 1454.1 M947.596 1450.39 Q953.406 1450.39 956.462 1455 Q959.541 1459.58 959.541 1468.33 Q959.541 1477.06 956.462 1481.67 Q953.406 1486.25 947.596 1486.25 Q941.786 1486.25 938.707 1481.67 Q935.652 1477.06 935.652 1468.33 Q935.652 1459.58 938.707 1455 Q941.786 1450.39 947.596 1450.39 Z\" fill=\"#000000\" fill-rule=\"evenodd\" fill-opacity=\"1\" /><path clip-path=\"url(#clip560)\" d=\"M967.758 1479.7 L972.642 1479.7 L972.642 1485.58 L967.758 1485.58 L967.758 1479.7 Z\" fill=\"#000000\" fill-rule=\"evenodd\" fill-opacity=\"1\" /><path clip-path=\"url(#clip560)\" d=\"M995.675 1455.09 L983.869 1473.54 L995.675 1473.54 L995.675 1455.09 M994.448 1451.02 L1000.33 1451.02 L1000.33 1473.54 L1005.26 1473.54 L1005.26 1477.43 L1000.33 1477.43 L1000.33 1485.58 L995.675 1485.58 L995.675 1477.43 L980.073 1477.43 L980.073 1472.92 L994.448 1451.02 Z\" fill=\"#000000\" fill-rule=\"evenodd\" fill-opacity=\"1\" /><path clip-path=\"url(#clip560)\" d=\"M1388.68 1454.1 Q1385.07 1454.1 1383.24 1457.66 Q1381.44 1461.2 1381.44 1468.33 Q1381.44 1475.44 1383.24 1479.01 Q1385.07 1482.55 1388.68 1482.55 Q1392.32 1482.55 1394.12 1479.01 Q1395.95 1475.44 1395.95 1468.33 Q1395.95 1461.2 1394.12 1457.66 Q1392.32 1454.1 1388.68 1454.1 M1388.68 1450.39 Q1394.49 1450.39 1397.55 1455 Q1400.63 1459.58 1400.63 1468.33 Q1400.63 1477.06 1397.55 1481.67 Q1394.49 1486.25 1388.68 1486.25 Q1382.87 1486.25 1379.79 1481.67 Q1376.74 1477.06 1376.74 1468.33 Q1376.74 1459.58 1379.79 1455 Q1382.87 1450.39 1388.68 1450.39 Z\" fill=\"#000000\" fill-rule=\"evenodd\" fill-opacity=\"1\" /><path clip-path=\"url(#clip560)\" d=\"M1408.85 1479.7 L1413.73 1479.7 L1413.73 1485.58 L1408.85 1485.58 L1408.85 1479.7 Z\" fill=\"#000000\" fill-rule=\"evenodd\" fill-opacity=\"1\" /><path clip-path=\"url(#clip560)\" d=\"M1434.49 1466.44 Q1431.35 1466.44 1429.49 1468.59 Q1427.66 1470.74 1427.66 1474.49 Q1427.66 1478.22 1429.49 1480.39 Q1431.35 1482.55 1434.49 1482.55 Q1437.64 1482.55 1439.47 1480.39 Q1441.32 1478.22 1441.32 1474.49 Q1441.32 1470.74 1439.47 1468.59 Q1437.64 1466.44 1434.49 1466.44 M1443.78 1451.78 L1443.78 1456.04 Q1442.02 1455.21 1440.21 1454.77 Q1438.43 1454.33 1436.67 1454.33 Q1432.04 1454.33 1429.59 1457.45 Q1427.16 1460.58 1426.81 1466.9 Q1428.17 1464.89 1430.23 1463.82 Q1432.29 1462.73 1434.77 1462.73 Q1439.98 1462.73 1442.99 1465.9 Q1446.02 1469.05 1446.02 1474.49 Q1446.02 1479.82 1442.87 1483.03 Q1439.73 1486.25 1434.49 1486.25 Q1428.5 1486.25 1425.33 1481.67 Q1422.16 1477.06 1422.16 1468.33 Q1422.16 1460.14 1426.04 1455.28 Q1429.93 1450.39 1436.48 1450.39 Q1438.24 1450.39 1440.03 1450.74 Q1441.83 1451.09 1443.78 1451.78 Z\" fill=\"#000000\" fill-rule=\"evenodd\" fill-opacity=\"1\" /><path clip-path=\"url(#clip560)\" d=\"M1829.74 1454.1 Q1826.13 1454.1 1824.3 1457.66 Q1822.49 1461.2 1822.49 1468.33 Q1822.49 1475.44 1824.3 1479.01 Q1826.13 1482.55 1829.74 1482.55 Q1833.37 1482.55 1835.18 1479.01 Q1837 1475.44 1837 1468.33 Q1837 1461.2 1835.18 1457.66 Q1833.37 1454.1 1829.74 1454.1 M1829.74 1450.39 Q1835.55 1450.39 1838.6 1455 Q1841.68 1459.58 1841.68 1468.33 Q1841.68 1477.06 1838.6 1481.67 Q1835.55 1486.25 1829.74 1486.25 Q1823.93 1486.25 1820.85 1481.67 Q1817.79 1477.06 1817.79 1468.33 Q1817.79 1459.58 1820.85 1455 Q1823.93 1450.39 1829.74 1450.39 Z\" fill=\"#000000\" fill-rule=\"evenodd\" fill-opacity=\"1\" /><path clip-path=\"url(#clip560)\" d=\"M1849.9 1479.7 L1854.78 1479.7 L1854.78 1485.58 L1849.9 1485.58 L1849.9 1479.7 Z\" fill=\"#000000\" fill-rule=\"evenodd\" fill-opacity=\"1\" /><path clip-path=\"url(#clip560)\" d=\"M1874.97 1469.17 Q1871.63 1469.17 1869.71 1470.95 Q1867.81 1472.73 1867.81 1475.86 Q1867.81 1478.98 1869.71 1480.77 Q1871.63 1482.55 1874.97 1482.55 Q1878.3 1482.55 1880.22 1480.77 Q1882.14 1478.96 1882.14 1475.86 Q1882.14 1472.73 1880.22 1470.95 Q1878.32 1469.17 1874.97 1469.17 M1870.29 1467.18 Q1867.28 1466.44 1865.59 1464.38 Q1863.93 1462.32 1863.93 1459.35 Q1863.93 1455.21 1866.87 1452.8 Q1869.83 1450.39 1874.97 1450.39 Q1880.13 1450.39 1883.07 1452.8 Q1886.01 1455.21 1886.01 1459.35 Q1886.01 1462.32 1884.32 1464.38 Q1882.65 1466.44 1879.67 1467.18 Q1883.05 1467.96 1884.92 1470.26 Q1886.82 1472.55 1886.82 1475.86 Q1886.82 1480.88 1883.74 1483.57 Q1880.69 1486.25 1874.97 1486.25 Q1869.25 1486.25 1866.17 1483.57 Q1863.12 1480.88 1863.12 1475.86 Q1863.12 1472.55 1865.01 1470.26 Q1866.91 1467.96 1870.29 1467.18 M1868.58 1459.79 Q1868.58 1462.48 1870.25 1463.98 Q1871.94 1465.49 1874.97 1465.49 Q1877.98 1465.49 1879.67 1463.98 Q1881.38 1462.48 1881.38 1459.79 Q1881.38 1457.11 1879.67 1455.6 Q1877.98 1454.1 1874.97 1454.1 Q1871.94 1454.1 1870.25 1455.6 Q1868.58 1457.11 1868.58 1459.79 Z\" fill=\"#000000\" fill-rule=\"evenodd\" fill-opacity=\"1\" /><path clip-path=\"url(#clip560)\" d=\"M2260.38 1481.64 L2268.02 1481.64 L2268.02 1455.28 L2259.71 1456.95 L2259.71 1452.69 L2267.98 1451.02 L2272.65 1451.02 L2272.65 1481.64 L2280.29 1481.64 L2280.29 1485.58 L2260.38 1485.58 L2260.38 1481.64 Z\" fill=\"#000000\" fill-rule=\"evenodd\" fill-opacity=\"1\" /><path clip-path=\"url(#clip560)\" d=\"M2289.74 1479.7 L2294.62 1479.7 L2294.62 1485.58 L2289.74 1485.58 L2289.74 1479.7 Z\" fill=\"#000000\" fill-rule=\"evenodd\" fill-opacity=\"1\" /><path clip-path=\"url(#clip560)\" d=\"M2314.8 1454.1 Q2311.19 1454.1 2309.37 1457.66 Q2307.56 1461.2 2307.56 1468.33 Q2307.56 1475.44 2309.37 1479.01 Q2311.19 1482.55 2314.8 1482.55 Q2318.44 1482.55 2320.24 1479.01 Q2322.07 1475.44 2322.07 1468.33 Q2322.07 1461.2 2320.24 1457.66 Q2318.44 1454.1 2314.8 1454.1 M2314.8 1450.39 Q2320.62 1450.39 2323.67 1455 Q2326.75 1459.58 2326.75 1468.33 Q2326.75 1477.06 2323.67 1481.67 Q2320.62 1486.25 2314.8 1486.25 Q2308.99 1486.25 2305.92 1481.67 Q2302.86 1477.06 2302.86 1468.33 Q2302.86 1459.58 2305.92 1455 Q2308.99 1450.39 2314.8 1450.39 Z\" fill=\"#000000\" fill-rule=\"evenodd\" fill-opacity=\"1\" /><path clip-path=\"url(#clip560)\" d=\"M1015.06 1520.52 L1024.64 1520.52 L1036.77 1552.86 L1048.96 1520.52 L1058.54 1520.52 L1058.54 1568.04 L1052.27 1568.04 L1052.27 1526.32 L1040.01 1558.91 L1033.55 1558.91 L1021.3 1526.32 L1021.3 1568.04 L1015.06 1568.04 L1015.06 1520.52 Z\" fill=\"#000000\" fill-rule=\"evenodd\" fill-opacity=\"1\" /><path clip-path=\"url(#clip560)\" d=\"M1071.04 1532.4 L1076.9 1532.4 L1076.9 1568.04 L1071.04 1568.04 L1071.04 1532.4 M1071.04 1518.52 L1076.9 1518.52 L1076.9 1525.93 L1071.04 1525.93 L1071.04 1518.52 Z\" fill=\"#000000\" fill-rule=\"evenodd\" fill-opacity=\"1\" /><path clip-path=\"url(#clip560)\" d=\"M1118.79 1532.4 L1105.9 1549.74 L1119.46 1568.04 L1112.55 1568.04 L1102.17 1554.04 L1091.8 1568.04 L1084.89 1568.04 L1098.74 1549.39 L1086.07 1532.4 L1092.97 1532.4 L1102.43 1545.1 L1111.88 1532.4 L1118.79 1532.4 Z\" fill=\"#000000\" fill-rule=\"evenodd\" fill-opacity=\"1\" /><path clip-path=\"url(#clip560)\" d=\"M1127.73 1532.4 L1133.59 1532.4 L1133.59 1568.04 L1127.73 1568.04 L1127.73 1532.4 M1127.73 1518.52 L1133.59 1518.52 L1133.59 1525.93 L1127.73 1525.93 L1127.73 1518.52 Z\" fill=\"#000000\" fill-rule=\"evenodd\" fill-opacity=\"1\" /><path clip-path=\"url(#clip560)\" d=\"M1175.47 1546.53 L1175.47 1568.04 L1169.62 1568.04 L1169.62 1546.72 Q1169.62 1541.66 1167.64 1539.14 Q1165.67 1536.63 1161.72 1536.63 Q1156.98 1536.63 1154.24 1539.65 Q1151.51 1542.68 1151.51 1547.9 L1151.51 1568.04 L1145.62 1568.04 L1145.62 1532.4 L1151.51 1532.4 L1151.51 1537.93 Q1153.61 1534.72 1156.44 1533.13 Q1159.31 1531.54 1163.03 1531.54 Q1169.17 1531.54 1172.32 1535.36 Q1175.47 1539.14 1175.47 1546.53 Z\" fill=\"#000000\" fill-rule=\"evenodd\" fill-opacity=\"1\" /><path clip-path=\"url(#clip560)\" d=\"M1210.61 1549.81 Q1210.61 1543.44 1207.97 1539.94 Q1205.36 1536.44 1200.62 1536.44 Q1195.91 1536.44 1193.27 1539.94 Q1190.66 1543.44 1190.66 1549.81 Q1190.66 1556.14 1193.27 1559.64 Q1195.91 1563.14 1200.62 1563.14 Q1205.36 1563.14 1207.97 1559.64 Q1210.61 1556.14 1210.61 1549.81 M1216.47 1563.62 Q1216.47 1572.72 1212.43 1577.15 Q1208.38 1581.6 1200.05 1581.6 Q1196.96 1581.6 1194.22 1581.13 Q1191.48 1580.68 1188.91 1579.72 L1188.91 1574.03 Q1191.48 1575.43 1194 1576.1 Q1196.51 1576.76 1199.12 1576.76 Q1204.88 1576.76 1207.75 1573.74 Q1210.61 1570.75 1210.61 1564.67 L1210.61 1561.77 Q1208.8 1564.92 1205.97 1566.48 Q1203.13 1568.04 1199.19 1568.04 Q1192.63 1568.04 1188.62 1563.05 Q1184.61 1558.05 1184.61 1549.81 Q1184.61 1541.53 1188.62 1536.53 Q1192.63 1531.54 1199.19 1531.54 Q1203.13 1531.54 1205.97 1533.1 Q1208.8 1534.66 1210.61 1537.81 L1210.61 1532.4 L1216.47 1532.4 L1216.47 1563.62 Z\" fill=\"#000000\" fill-rule=\"evenodd\" fill-opacity=\"1\" /><path clip-path=\"url(#clip560)\" d=\"M1254.92 1562.7 L1254.92 1581.6 L1249.03 1581.6 L1249.03 1532.4 L1254.92 1532.4 L1254.92 1537.81 Q1256.76 1534.62 1259.56 1533.1 Q1262.4 1531.54 1266.31 1531.54 Q1272.81 1531.54 1276.85 1536.69 Q1280.92 1541.85 1280.92 1550.25 Q1280.92 1558.65 1276.85 1563.81 Q1272.81 1568.97 1266.31 1568.97 Q1262.4 1568.97 1259.56 1567.44 Q1256.76 1565.88 1254.92 1562.7 M1274.84 1550.25 Q1274.84 1543.79 1272.17 1540.13 Q1269.53 1536.44 1264.88 1536.44 Q1260.23 1536.44 1257.56 1540.13 Q1254.92 1543.79 1254.92 1550.25 Q1254.92 1556.71 1257.56 1560.4 Q1260.23 1564.07 1264.88 1564.07 Q1269.53 1564.07 1272.17 1560.4 Q1274.84 1556.71 1274.84 1550.25 Z\" fill=\"#000000\" fill-rule=\"evenodd\" fill-opacity=\"1\" /><path clip-path=\"url(#clip560)\" d=\"M1306.83 1550.12 Q1299.73 1550.12 1297 1551.75 Q1294.26 1553.37 1294.26 1557.29 Q1294.26 1560.4 1296.3 1562.25 Q1298.36 1564.07 1301.9 1564.07 Q1306.77 1564.07 1309.69 1560.63 Q1312.65 1557.16 1312.65 1551.43 L1312.65 1550.12 L1306.83 1550.12 M1318.51 1547.71 L1318.51 1568.04 L1312.65 1568.04 L1312.65 1562.63 Q1310.65 1565.88 1307.66 1567.44 Q1304.67 1568.97 1300.34 1568.97 Q1294.86 1568.97 1291.62 1565.91 Q1288.4 1562.82 1288.4 1557.67 Q1288.4 1551.65 1292.41 1548.6 Q1296.45 1545.54 1304.44 1545.54 L1312.65 1545.54 L1312.65 1544.97 Q1312.65 1540.93 1309.98 1538.73 Q1307.34 1536.5 1302.53 1536.5 Q1299.48 1536.5 1296.58 1537.23 Q1293.69 1537.97 1291.01 1539.43 L1291.01 1534.02 Q1294.23 1532.78 1297.25 1532.17 Q1300.27 1531.54 1303.14 1531.54 Q1310.87 1531.54 1314.69 1535.55 Q1318.51 1539.56 1318.51 1547.71 Z\" fill=\"#000000\" fill-rule=\"evenodd\" fill-opacity=\"1\" /><path clip-path=\"url(#clip560)\" d=\"M1351.23 1537.87 Q1350.24 1537.3 1349.07 1537.04 Q1347.92 1536.76 1346.52 1536.76 Q1341.56 1536.76 1338.88 1540 Q1336.24 1543.22 1336.24 1549.27 L1336.24 1568.04 L1330.35 1568.04 L1330.35 1532.4 L1336.24 1532.4 L1336.24 1537.93 Q1338.09 1534.69 1341.05 1533.13 Q1344.01 1531.54 1348.24 1531.54 Q1348.84 1531.54 1349.58 1531.63 Q1350.31 1531.7 1351.2 1531.85 L1351.23 1537.87 Z\" fill=\"#000000\" fill-rule=\"evenodd\" fill-opacity=\"1\" /><path clip-path=\"url(#clip560)\" d=\"M1373.57 1550.12 Q1366.48 1550.12 1363.74 1551.75 Q1361 1553.37 1361 1557.29 Q1361 1560.4 1363.04 1562.25 Q1365.11 1564.07 1368.64 1564.07 Q1373.51 1564.07 1376.44 1560.63 Q1379.4 1557.16 1379.4 1551.43 L1379.4 1550.12 L1373.57 1550.12 M1385.26 1547.71 L1385.26 1568.04 L1379.4 1568.04 L1379.4 1562.63 Q1377.39 1565.88 1374.4 1567.44 Q1371.41 1568.97 1367.08 1568.97 Q1361.61 1568.97 1358.36 1565.91 Q1355.15 1562.82 1355.15 1557.67 Q1355.15 1551.65 1359.16 1548.6 Q1363.2 1545.54 1371.19 1545.54 L1379.4 1545.54 L1379.4 1544.97 Q1379.4 1540.93 1376.73 1538.73 Q1374.08 1536.5 1369.28 1536.5 Q1366.22 1536.5 1363.33 1537.23 Q1360.43 1537.97 1357.76 1539.43 L1357.76 1534.02 Q1360.97 1532.78 1363.99 1532.17 Q1367.02 1531.54 1369.88 1531.54 Q1377.62 1531.54 1381.44 1535.55 Q1385.26 1539.56 1385.26 1547.71 Z\" fill=\"#000000\" fill-rule=\"evenodd\" fill-opacity=\"1\" /><path clip-path=\"url(#clip560)\" d=\"M1425.07 1539.24 Q1427.27 1535.29 1430.33 1533.41 Q1433.38 1531.54 1437.52 1531.54 Q1443.09 1531.54 1446.11 1535.45 Q1449.14 1539.33 1449.14 1546.53 L1449.14 1568.04 L1443.25 1568.04 L1443.25 1546.72 Q1443.25 1541.59 1441.43 1539.11 Q1439.62 1536.63 1435.9 1536.63 Q1431.34 1536.63 1428.7 1539.65 Q1426.06 1542.68 1426.06 1547.9 L1426.06 1568.04 L1420.17 1568.04 L1420.17 1546.72 Q1420.17 1541.56 1418.36 1539.11 Q1416.54 1536.63 1412.76 1536.63 Q1408.27 1536.63 1405.63 1539.68 Q1402.98 1542.71 1402.98 1547.9 L1402.98 1568.04 L1397.1 1568.04 L1397.1 1532.4 L1402.98 1532.4 L1402.98 1537.93 Q1404.99 1534.66 1407.79 1533.1 Q1410.59 1531.54 1414.44 1531.54 Q1418.33 1531.54 1421.03 1533.51 Q1423.77 1535.48 1425.07 1539.24 Z\" fill=\"#000000\" fill-rule=\"evenodd\" fill-opacity=\"1\" /><path clip-path=\"url(#clip560)\" d=\"M1491.31 1548.76 L1491.31 1551.62 L1464.38 1551.62 Q1464.76 1557.67 1468.01 1560.85 Q1471.29 1564 1477.11 1564 Q1480.49 1564 1483.64 1563.17 Q1486.82 1562.35 1489.94 1560.69 L1489.94 1566.23 Q1486.79 1567.57 1483.48 1568.27 Q1480.17 1568.97 1476.76 1568.97 Q1468.23 1568.97 1463.24 1564 Q1458.27 1559.04 1458.27 1550.57 Q1458.27 1541.82 1462.98 1536.69 Q1467.72 1531.54 1475.74 1531.54 Q1482.94 1531.54 1487.11 1536.18 Q1491.31 1540.8 1491.31 1548.76 M1485.45 1547.04 Q1485.39 1542.23 1482.75 1539.37 Q1480.14 1536.5 1475.81 1536.5 Q1470.91 1536.5 1467.95 1539.27 Q1465.02 1542.04 1464.57 1547.07 L1485.45 1547.04 Z\" fill=\"#000000\" fill-rule=\"evenodd\" fill-opacity=\"1\" /><path clip-path=\"url(#clip560)\" d=\"M1506.71 1522.27 L1506.71 1532.4 L1518.78 1532.4 L1518.78 1536.95 L1506.71 1536.95 L1506.71 1556.3 Q1506.71 1560.66 1507.89 1561.9 Q1509.1 1563.14 1512.76 1563.14 L1518.78 1563.14 L1518.78 1568.04 L1512.76 1568.04 Q1505.98 1568.04 1503.4 1565.53 Q1500.83 1562.98 1500.83 1556.3 L1500.83 1536.95 L1496.53 1536.95 L1496.53 1532.4 L1500.83 1532.4 L1500.83 1522.27 L1506.71 1522.27 Z\" fill=\"#000000\" fill-rule=\"evenodd\" fill-opacity=\"1\" /><path clip-path=\"url(#clip560)\" d=\"M1556.97 1548.76 L1556.97 1551.62 L1530.04 1551.62 Q1530.43 1557.67 1533.67 1560.85 Q1536.95 1564 1542.78 1564 Q1546.15 1564 1549.3 1563.17 Q1552.48 1562.35 1555.6 1560.69 L1555.6 1566.23 Q1552.45 1567.57 1549.14 1568.27 Q1545.83 1568.97 1542.43 1568.97 Q1533.9 1568.97 1528.9 1564 Q1523.93 1559.04 1523.93 1550.57 Q1523.93 1541.82 1528.64 1536.69 Q1533.39 1531.54 1541.41 1531.54 Q1548.6 1531.54 1552.77 1536.18 Q1556.97 1540.8 1556.97 1548.76 M1551.11 1547.04 Q1551.05 1542.23 1548.41 1539.37 Q1545.8 1536.5 1541.47 1536.5 Q1536.57 1536.5 1533.61 1539.27 Q1530.68 1542.04 1530.23 1547.07 L1551.11 1547.04 Z\" fill=\"#000000\" fill-rule=\"evenodd\" fill-opacity=\"1\" /><path clip-path=\"url(#clip560)\" d=\"M1587.24 1537.87 Q1586.25 1537.3 1585.08 1537.04 Q1583.93 1536.76 1582.53 1536.76 Q1577.56 1536.76 1574.89 1540 Q1572.25 1543.22 1572.25 1549.27 L1572.25 1568.04 L1566.36 1568.04 L1566.36 1532.4 L1572.25 1532.4 L1572.25 1537.93 Q1574.09 1534.69 1577.05 1533.13 Q1580.01 1531.54 1584.25 1531.54 Q1584.85 1531.54 1585.58 1531.63 Q1586.32 1531.7 1587.21 1531.85 L1587.24 1537.87 Z\" fill=\"#000000\" fill-rule=\"evenodd\" fill-opacity=\"1\" /><polyline clip-path=\"url(#clip562)\" style=\"stroke:#000000; stroke-linecap:butt; stroke-linejoin:round; stroke-width:2; stroke-opacity:0.1; fill:none\" points=\"\n",
       "  249.542,1405.21 2352.76,1405.21 \n",
       "  \"/>\n",
       "<polyline clip-path=\"url(#clip562)\" style=\"stroke:#000000; stroke-linecap:butt; stroke-linejoin:round; stroke-width:2; stroke-opacity:0.1; fill:none\" points=\"\n",
       "  249.542,1075.46 2352.76,1075.46 \n",
       "  \"/>\n",
       "<polyline clip-path=\"url(#clip562)\" style=\"stroke:#000000; stroke-linecap:butt; stroke-linejoin:round; stroke-width:2; stroke-opacity:0.1; fill:none\" points=\"\n",
       "  249.542,745.699 2352.76,745.699 \n",
       "  \"/>\n",
       "<polyline clip-path=\"url(#clip562)\" style=\"stroke:#000000; stroke-linecap:butt; stroke-linejoin:round; stroke-width:2; stroke-opacity:0.1; fill:none\" points=\"\n",
       "  249.542,415.942 2352.76,415.942 \n",
       "  \"/>\n",
       "<polyline clip-path=\"url(#clip562)\" style=\"stroke:#000000; stroke-linecap:butt; stroke-linejoin:round; stroke-width:2; stroke-opacity:0.1; fill:none\" points=\"\n",
       "  249.542,86.1857 2352.76,86.1857 \n",
       "  \"/>\n",
       "<polyline clip-path=\"url(#clip560)\" style=\"stroke:#000000; stroke-linecap:butt; stroke-linejoin:round; stroke-width:4; stroke-opacity:1; fill:none\" points=\"\n",
       "  249.542,1423.18 249.542,47.2441 \n",
       "  \"/>\n",
       "<polyline clip-path=\"url(#clip560)\" style=\"stroke:#000000; stroke-linecap:butt; stroke-linejoin:round; stroke-width:4; stroke-opacity:1; fill:none\" points=\"\n",
       "  249.542,1405.21 268.44,1405.21 \n",
       "  \"/>\n",
       "<polyline clip-path=\"url(#clip560)\" style=\"stroke:#000000; stroke-linecap:butt; stroke-linejoin:round; stroke-width:4; stroke-opacity:1; fill:none\" points=\"\n",
       "  249.542,1075.46 268.44,1075.46 \n",
       "  \"/>\n",
       "<polyline clip-path=\"url(#clip560)\" style=\"stroke:#000000; stroke-linecap:butt; stroke-linejoin:round; stroke-width:4; stroke-opacity:1; fill:none\" points=\"\n",
       "  249.542,745.699 268.44,745.699 \n",
       "  \"/>\n",
       "<polyline clip-path=\"url(#clip560)\" style=\"stroke:#000000; stroke-linecap:butt; stroke-linejoin:round; stroke-width:4; stroke-opacity:1; fill:none\" points=\"\n",
       "  249.542,415.942 268.44,415.942 \n",
       "  \"/>\n",
       "<polyline clip-path=\"url(#clip560)\" style=\"stroke:#000000; stroke-linecap:butt; stroke-linejoin:round; stroke-width:4; stroke-opacity:1; fill:none\" points=\"\n",
       "  249.542,86.1857 268.44,86.1857 \n",
       "  \"/>\n",
       "<path clip-path=\"url(#clip560)\" d=\"M126.205 1391.01 Q122.593 1391.01 120.765 1394.58 Q118.959 1398.12 118.959 1405.25 Q118.959 1412.35 120.765 1415.92 Q122.593 1419.46 126.205 1419.46 Q129.839 1419.46 131.644 1415.92 Q133.473 1412.35 133.473 1405.25 Q133.473 1398.12 131.644 1394.58 Q129.839 1391.01 126.205 1391.01 M126.205 1387.31 Q132.015 1387.31 135.07 1391.91 Q138.149 1396.5 138.149 1405.25 Q138.149 1413.97 135.07 1418.58 Q132.015 1423.16 126.205 1423.16 Q120.394 1423.16 117.316 1418.58 Q114.26 1413.97 114.26 1405.25 Q114.26 1396.5 117.316 1391.91 Q120.394 1387.31 126.205 1387.31 Z\" fill=\"#000000\" fill-rule=\"evenodd\" fill-opacity=\"1\" /><path clip-path=\"url(#clip560)\" d=\"M146.366 1416.61 L151.251 1416.61 L151.251 1422.49 L146.366 1422.49 L146.366 1416.61 Z\" fill=\"#000000\" fill-rule=\"evenodd\" fill-opacity=\"1\" /><path clip-path=\"url(#clip560)\" d=\"M171.436 1391.01 Q167.825 1391.01 165.996 1394.58 Q164.19 1398.12 164.19 1405.25 Q164.19 1412.35 165.996 1415.92 Q167.825 1419.46 171.436 1419.46 Q175.07 1419.46 176.876 1415.92 Q178.704 1412.35 178.704 1405.25 Q178.704 1398.12 176.876 1394.58 Q175.07 1391.01 171.436 1391.01 M171.436 1387.31 Q177.246 1387.31 180.301 1391.91 Q183.38 1396.5 183.38 1405.25 Q183.38 1413.97 180.301 1418.58 Q177.246 1423.16 171.436 1423.16 Q165.626 1423.16 162.547 1418.58 Q159.491 1413.97 159.491 1405.25 Q159.491 1396.5 162.547 1391.91 Q165.626 1387.31 171.436 1387.31 Z\" fill=\"#000000\" fill-rule=\"evenodd\" fill-opacity=\"1\" /><path clip-path=\"url(#clip560)\" d=\"M201.598 1391.01 Q197.987 1391.01 196.158 1394.58 Q194.352 1398.12 194.352 1405.25 Q194.352 1412.35 196.158 1415.92 Q197.987 1419.46 201.598 1419.46 Q205.232 1419.46 207.037 1415.92 Q208.866 1412.35 208.866 1405.25 Q208.866 1398.12 207.037 1394.58 Q205.232 1391.01 201.598 1391.01 M201.598 1387.31 Q207.408 1387.31 210.463 1391.91 Q213.542 1396.5 213.542 1405.25 Q213.542 1413.97 210.463 1418.58 Q207.408 1423.16 201.598 1423.16 Q195.787 1423.16 192.709 1418.58 Q189.653 1413.97 189.653 1405.25 Q189.653 1396.5 192.709 1391.91 Q195.787 1387.31 201.598 1387.31 Z\" fill=\"#000000\" fill-rule=\"evenodd\" fill-opacity=\"1\" /><path clip-path=\"url(#clip560)\" d=\"M127.2 1061.25 Q123.589 1061.25 121.76 1064.82 Q119.955 1068.36 119.955 1075.49 Q119.955 1082.6 121.76 1086.16 Q123.589 1089.7 127.2 1089.7 Q130.834 1089.7 132.64 1086.16 Q134.468 1082.6 134.468 1075.49 Q134.468 1068.36 132.64 1064.82 Q130.834 1061.25 127.2 1061.25 M127.2 1057.55 Q133.01 1057.55 136.066 1062.16 Q139.144 1066.74 139.144 1075.49 Q139.144 1084.22 136.066 1088.82 Q133.01 1093.41 127.2 1093.41 Q121.39 1093.41 118.311 1088.82 Q115.256 1084.22 115.256 1075.49 Q115.256 1066.74 118.311 1062.16 Q121.39 1057.55 127.2 1057.55 Z\" fill=\"#000000\" fill-rule=\"evenodd\" fill-opacity=\"1\" /><path clip-path=\"url(#clip560)\" d=\"M147.362 1086.86 L152.246 1086.86 L152.246 1092.74 L147.362 1092.74 L147.362 1086.86 Z\" fill=\"#000000\" fill-rule=\"evenodd\" fill-opacity=\"1\" /><path clip-path=\"url(#clip560)\" d=\"M166.459 1088.8 L182.778 1088.8 L182.778 1092.74 L160.834 1092.74 L160.834 1088.8 Q163.496 1086.05 168.079 1081.42 Q172.686 1076.76 173.866 1075.42 Q176.112 1072.9 176.991 1071.16 Q177.894 1069.4 177.894 1067.71 Q177.894 1064.96 175.95 1063.22 Q174.028 1061.49 170.927 1061.49 Q168.727 1061.49 166.274 1062.25 Q163.843 1063.01 161.065 1064.56 L161.065 1059.84 Q163.89 1058.71 166.343 1058.13 Q168.797 1057.55 170.834 1057.55 Q176.204 1057.55 179.399 1060.24 Q182.593 1062.92 182.593 1067.41 Q182.593 1069.54 181.783 1071.46 Q180.996 1073.36 178.889 1075.95 Q178.311 1076.62 175.209 1079.84 Q172.107 1083.04 166.459 1088.8 Z\" fill=\"#000000\" fill-rule=\"evenodd\" fill-opacity=\"1\" /><path clip-path=\"url(#clip560)\" d=\"M192.639 1058.18 L210.996 1058.18 L210.996 1062.11 L196.922 1062.11 L196.922 1070.58 Q197.94 1070.24 198.959 1070.07 Q199.977 1069.89 200.996 1069.89 Q206.783 1069.89 210.162 1073.06 Q213.542 1076.23 213.542 1081.65 Q213.542 1087.23 210.07 1090.33 Q206.598 1093.41 200.278 1093.41 Q198.102 1093.41 195.834 1093.04 Q193.588 1092.67 191.181 1091.92 L191.181 1087.23 Q193.264 1088.36 195.487 1088.92 Q197.709 1089.47 200.186 1089.47 Q204.19 1089.47 206.528 1087.36 Q208.866 1085.26 208.866 1081.65 Q208.866 1078.04 206.528 1075.93 Q204.19 1073.82 200.186 1073.82 Q198.311 1073.82 196.436 1074.24 Q194.584 1074.66 192.639 1075.54 L192.639 1058.18 Z\" fill=\"#000000\" fill-rule=\"evenodd\" fill-opacity=\"1\" /><path clip-path=\"url(#clip560)\" d=\"M126.205 731.497 Q122.593 731.497 120.765 735.062 Q118.959 738.604 118.959 745.733 Q118.959 752.84 120.765 756.405 Q122.593 759.946 126.205 759.946 Q129.839 759.946 131.644 756.405 Q133.473 752.84 133.473 745.733 Q133.473 738.604 131.644 735.062 Q129.839 731.497 126.205 731.497 M126.205 727.794 Q132.015 727.794 135.07 732.4 Q138.149 736.983 138.149 745.733 Q138.149 754.46 135.07 759.067 Q132.015 763.65 126.205 763.65 Q120.394 763.65 117.316 759.067 Q114.26 754.46 114.26 745.733 Q114.26 736.983 117.316 732.4 Q120.394 727.794 126.205 727.794 Z\" fill=\"#000000\" fill-rule=\"evenodd\" fill-opacity=\"1\" /><path clip-path=\"url(#clip560)\" d=\"M146.366 757.099 L151.251 757.099 L151.251 762.979 L146.366 762.979 L146.366 757.099 Z\" fill=\"#000000\" fill-rule=\"evenodd\" fill-opacity=\"1\" /><path clip-path=\"url(#clip560)\" d=\"M161.482 728.419 L179.839 728.419 L179.839 732.354 L165.765 732.354 L165.765 740.826 Q166.783 740.479 167.802 740.317 Q168.82 740.132 169.839 740.132 Q175.626 740.132 179.005 743.303 Q182.385 746.474 182.385 751.891 Q182.385 757.469 178.913 760.571 Q175.44 763.65 169.121 763.65 Q166.945 763.65 164.677 763.28 Q162.431 762.909 160.024 762.168 L160.024 757.469 Q162.107 758.604 164.329 759.159 Q166.552 759.715 169.028 759.715 Q173.033 759.715 175.371 757.608 Q177.709 755.502 177.709 751.891 Q177.709 748.28 175.371 746.173 Q173.033 744.067 169.028 744.067 Q167.153 744.067 165.278 744.483 Q163.427 744.9 161.482 745.78 L161.482 728.419 Z\" fill=\"#000000\" fill-rule=\"evenodd\" fill-opacity=\"1\" /><path clip-path=\"url(#clip560)\" d=\"M201.598 731.497 Q197.987 731.497 196.158 735.062 Q194.352 738.604 194.352 745.733 Q194.352 752.84 196.158 756.405 Q197.987 759.946 201.598 759.946 Q205.232 759.946 207.037 756.405 Q208.866 752.84 208.866 745.733 Q208.866 738.604 207.037 735.062 Q205.232 731.497 201.598 731.497 M201.598 727.794 Q207.408 727.794 210.463 732.4 Q213.542 736.983 213.542 745.733 Q213.542 754.46 210.463 759.067 Q207.408 763.65 201.598 763.65 Q195.787 763.65 192.709 759.067 Q189.653 754.46 189.653 745.733 Q189.653 736.983 192.709 732.4 Q195.787 727.794 201.598 727.794 Z\" fill=\"#000000\" fill-rule=\"evenodd\" fill-opacity=\"1\" /><path clip-path=\"url(#clip560)\" d=\"M127.2 401.741 Q123.589 401.741 121.76 405.306 Q119.955 408.847 119.955 415.977 Q119.955 423.083 121.76 426.648 Q123.589 430.19 127.2 430.19 Q130.834 430.19 132.64 426.648 Q134.468 423.083 134.468 415.977 Q134.468 408.847 132.64 405.306 Q130.834 401.741 127.2 401.741 M127.2 398.037 Q133.01 398.037 136.066 402.644 Q139.144 407.227 139.144 415.977 Q139.144 424.704 136.066 429.31 Q133.01 433.893 127.2 433.893 Q121.39 433.893 118.311 429.31 Q115.256 424.704 115.256 415.977 Q115.256 407.227 118.311 402.644 Q121.39 398.037 127.2 398.037 Z\" fill=\"#000000\" fill-rule=\"evenodd\" fill-opacity=\"1\" /><path clip-path=\"url(#clip560)\" d=\"M147.362 427.343 L152.246 427.343 L152.246 433.222 L147.362 433.222 L147.362 427.343 Z\" fill=\"#000000\" fill-rule=\"evenodd\" fill-opacity=\"1\" /><path clip-path=\"url(#clip560)\" d=\"M161.251 398.662 L183.473 398.662 L183.473 400.653 L170.927 433.222 L166.042 433.222 L177.848 402.597 L161.251 402.597 L161.251 398.662 Z\" fill=\"#000000\" fill-rule=\"evenodd\" fill-opacity=\"1\" /><path clip-path=\"url(#clip560)\" d=\"M192.639 398.662 L210.996 398.662 L210.996 402.597 L196.922 402.597 L196.922 411.07 Q197.94 410.722 198.959 410.56 Q199.977 410.375 200.996 410.375 Q206.783 410.375 210.162 413.546 Q213.542 416.718 213.542 422.134 Q213.542 427.713 210.07 430.815 Q206.598 433.893 200.278 433.893 Q198.102 433.893 195.834 433.523 Q193.588 433.153 191.181 432.412 L191.181 427.713 Q193.264 428.847 195.487 429.403 Q197.709 429.958 200.186 429.958 Q204.19 429.958 206.528 427.852 Q208.866 425.745 208.866 422.134 Q208.866 418.523 206.528 416.417 Q204.19 414.31 200.186 414.31 Q198.311 414.31 196.436 414.727 Q194.584 415.144 192.639 416.023 L192.639 398.662 Z\" fill=\"#000000\" fill-rule=\"evenodd\" fill-opacity=\"1\" /><path clip-path=\"url(#clip560)\" d=\"M117.015 99.5305 L124.654 99.5305 L124.654 73.1649 L116.343 74.8316 L116.343 70.5723 L124.607 68.9057 L129.283 68.9057 L129.283 99.5305 L136.922 99.5305 L136.922 103.466 L117.015 103.466 L117.015 99.5305 Z\" fill=\"#000000\" fill-rule=\"evenodd\" fill-opacity=\"1\" /><path clip-path=\"url(#clip560)\" d=\"M146.366 97.5861 L151.251 97.5861 L151.251 103.466 L146.366 103.466 L146.366 97.5861 Z\" fill=\"#000000\" fill-rule=\"evenodd\" fill-opacity=\"1\" /><path clip-path=\"url(#clip560)\" d=\"M171.436 71.9844 Q167.825 71.9844 165.996 75.5492 Q164.19 79.0908 164.19 86.2204 Q164.19 93.3268 165.996 96.8916 Q167.825 100.433 171.436 100.433 Q175.07 100.433 176.876 96.8916 Q178.704 93.3268 178.704 86.2204 Q178.704 79.0908 176.876 75.5492 Q175.07 71.9844 171.436 71.9844 M171.436 68.2807 Q177.246 68.2807 180.301 72.8871 Q183.38 77.4704 183.38 86.2204 Q183.38 94.9472 180.301 99.5537 Q177.246 104.137 171.436 104.137 Q165.626 104.137 162.547 99.5537 Q159.491 94.9472 159.491 86.2204 Q159.491 77.4704 162.547 72.8871 Q165.626 68.2807 171.436 68.2807 Z\" fill=\"#000000\" fill-rule=\"evenodd\" fill-opacity=\"1\" /><path clip-path=\"url(#clip560)\" d=\"M201.598 71.9844 Q197.987 71.9844 196.158 75.5492 Q194.352 79.0908 194.352 86.2204 Q194.352 93.3268 196.158 96.8916 Q197.987 100.433 201.598 100.433 Q205.232 100.433 207.037 96.8916 Q208.866 93.3268 208.866 86.2204 Q208.866 79.0908 207.037 75.5492 Q205.232 71.9844 201.598 71.9844 M201.598 68.2807 Q207.408 68.2807 210.463 72.8871 Q213.542 77.4704 213.542 86.2204 Q213.542 94.9472 210.463 99.5537 Q207.408 104.137 201.598 104.137 Q195.787 104.137 192.709 99.5537 Q189.653 94.9472 189.653 86.2204 Q189.653 77.4704 192.709 72.8871 Q195.787 68.2807 201.598 68.2807 Z\" fill=\"#000000\" fill-rule=\"evenodd\" fill-opacity=\"1\" /><path clip-path=\"url(#clip560)\" d=\"M16.4842 1237.77 L16.4842 1229.11 L56.238 1208.04 L16.4842 1208.04 L16.4842 1201.8 L64.0042 1201.8 L64.0042 1210.46 L24.2503 1231.53 L64.0042 1231.53 L64.0042 1237.77 L16.4842 1237.77 Z\" fill=\"#000000\" fill-rule=\"evenodd\" fill-opacity=\"1\" /><path clip-path=\"url(#clip560)\" d=\"M32.4621 1175.45 Q32.4621 1180.16 36.1542 1182.9 Q39.8145 1185.63 46.212 1185.63 Q52.6095 1185.63 56.3017 1182.93 Q59.9619 1180.19 59.9619 1175.45 Q59.9619 1170.77 56.2698 1168.03 Q52.5777 1165.3 46.212 1165.3 Q39.8781 1165.3 36.186 1168.03 Q32.4621 1170.77 32.4621 1175.45 M27.4968 1175.45 Q27.4968 1167.81 32.4621 1163.45 Q37.4273 1159.09 46.212 1159.09 Q54.9649 1159.09 59.9619 1163.45 Q64.9272 1167.81 64.9272 1175.45 Q64.9272 1183.12 59.9619 1187.48 Q54.9649 1191.81 46.212 1191.81 Q37.4273 1191.81 32.4621 1187.48 Q27.4968 1183.12 27.4968 1175.45 Z\" fill=\"#000000\" fill-rule=\"evenodd\" fill-opacity=\"1\" /><path clip-path=\"url(#clip560)\" d=\"M33.8307 1128.72 Q33.2578 1129.71 33.0032 1130.89 Q32.7167 1132.03 32.7167 1133.43 Q32.7167 1138.4 35.9632 1141.07 Q39.1779 1143.72 45.2253 1143.72 L64.0042 1143.72 L64.0042 1149.6 L28.3562 1149.6 L28.3562 1143.72 L33.8944 1143.72 Q30.6479 1141.87 29.0883 1138.91 Q27.4968 1135.95 27.4968 1131.72 Q27.4968 1131.11 27.5923 1130.38 Q27.656 1129.65 27.8151 1128.76 L33.8307 1128.72 Z\" fill=\"#000000\" fill-rule=\"evenodd\" fill-opacity=\"1\" /><path clip-path=\"url(#clip560)\" d=\"M35.1993 1095.97 Q31.2526 1093.78 29.3747 1090.72 Q27.4968 1087.67 27.4968 1083.53 Q27.4968 1077.96 31.4117 1074.93 Q35.2948 1071.91 42.4881 1071.91 L64.0042 1071.91 L64.0042 1077.8 L42.679 1077.8 Q37.5546 1077.8 35.072 1079.61 Q32.5894 1081.43 32.5894 1085.15 Q32.5894 1089.7 35.6131 1092.34 Q38.6368 1094.99 43.8567 1094.99 L64.0042 1094.99 L64.0042 1100.87 L42.679 1100.87 Q37.5228 1100.87 35.072 1102.69 Q32.5894 1104.5 32.5894 1108.29 Q32.5894 1112.78 35.6449 1115.42 Q38.6686 1118.06 43.8567 1118.06 L64.0042 1118.06 L64.0042 1123.95 L28.3562 1123.95 L28.3562 1118.06 L33.8944 1118.06 Q30.616 1116.06 29.0564 1113.26 Q27.4968 1110.45 27.4968 1106.6 Q27.4968 1102.72 29.4702 1100.01 Q31.4436 1097.28 35.1993 1095.97 Z\" fill=\"#000000\" fill-rule=\"evenodd\" fill-opacity=\"1\" /><path clip-path=\"url(#clip560)\" d=\"M46.0847 1044.03 Q46.0847 1051.13 47.7079 1053.86 Q49.3312 1056.6 53.2461 1056.6 Q56.3653 1056.6 58.2114 1054.56 Q60.0256 1052.49 60.0256 1048.96 Q60.0256 1044.09 56.5881 1041.16 Q53.1188 1038.2 47.3897 1038.2 L46.0847 1038.2 L46.0847 1044.03 M43.6657 1032.35 L64.0042 1032.35 L64.0042 1038.2 L58.5933 1038.2 Q61.8398 1040.21 63.3994 1043.2 Q64.9272 1046.19 64.9272 1050.52 Q64.9272 1056 61.8716 1059.24 Q58.7843 1062.46 53.6281 1062.46 Q47.6125 1062.46 44.5569 1058.45 Q41.5014 1054.4 41.5014 1046.42 L41.5014 1038.2 L40.9285 1038.2 Q36.8862 1038.2 34.6901 1040.88 Q32.4621 1043.52 32.4621 1048.33 Q32.4621 1051.38 33.1941 1054.28 Q33.9262 1057.17 35.3903 1059.85 L29.9795 1059.85 Q28.7381 1056.63 28.1334 1053.61 Q27.4968 1050.58 27.4968 1047.72 Q27.4968 1039.99 31.5072 1036.17 Q35.5176 1032.35 43.6657 1032.35 Z\" fill=\"#000000\" fill-rule=\"evenodd\" fill-opacity=\"1\" /><path clip-path=\"url(#clip560)\" d=\"M14.479 1020.28 L14.479 1014.43 L64.0042 1014.43 L64.0042 1020.28 L14.479 1020.28 Z\" fill=\"#000000\" fill-rule=\"evenodd\" fill-opacity=\"1\" /><path clip-path=\"url(#clip560)\" d=\"M28.3562 1002.17 L28.3562 996.317 L64.0042 996.317 L64.0042 1002.17 L28.3562 1002.17 M14.479 1002.17 L14.479 996.317 L21.895 996.317 L21.895 1002.17 L14.479 1002.17 Z\" fill=\"#000000\" fill-rule=\"evenodd\" fill-opacity=\"1\" /><path clip-path=\"url(#clip560)\" d=\"M28.3562 986.61 L28.3562 958.791 L33.7034 958.791 L59.3254 980.817 L59.3254 958.791 L64.0042 958.791 L64.0042 987.405 L58.657 987.405 L33.035 965.38 L33.035 986.61 L28.3562 986.61 Z\" fill=\"#000000\" fill-rule=\"evenodd\" fill-opacity=\"1\" /><path clip-path=\"url(#clip560)\" d=\"M44.7161 919.356 L47.5806 919.356 L47.5806 946.283 Q53.6281 945.901 56.8109 942.654 Q59.9619 939.376 59.9619 933.551 Q59.9619 930.178 59.1344 927.027 Q58.3069 923.844 56.6518 920.725 L62.1899 920.725 Q63.5267 923.876 64.227 927.186 Q64.9272 930.496 64.9272 933.902 Q64.9272 942.432 59.9619 947.429 Q54.9967 952.394 46.5303 952.394 Q37.7774 952.394 32.6531 947.683 Q27.4968 942.941 27.4968 934.92 Q27.4968 927.727 32.1438 923.557 Q36.7589 919.356 44.7161 919.356 M42.9973 925.212 Q38.1912 925.276 35.3266 927.918 Q32.4621 930.528 32.4621 934.856 Q32.4621 939.758 35.2312 942.718 Q38.0002 945.646 43.0292 946.092 L42.9973 925.212 Z\" fill=\"#000000\" fill-rule=\"evenodd\" fill-opacity=\"1\" /><path clip-path=\"url(#clip560)\" d=\"M33.7671 886.286 L14.479 886.286 L14.479 880.43 L64.0042 880.43 L64.0042 886.286 L58.657 886.286 Q61.8398 888.132 63.3994 890.965 Q64.9272 893.766 64.9272 897.713 Q64.9272 904.174 59.771 908.248 Q54.6147 912.29 46.212 912.29 Q37.8093 912.29 32.6531 908.248 Q27.4968 904.174 27.4968 897.713 Q27.4968 893.766 29.0564 890.965 Q30.5842 888.132 33.7671 886.286 M46.212 906.243 Q52.6732 906.243 56.3653 903.601 Q60.0256 900.927 60.0256 896.28 Q60.0256 891.633 56.3653 888.96 Q52.6732 886.286 46.212 886.286 Q39.7508 886.286 36.0905 888.96 Q32.3984 891.633 32.3984 896.28 Q32.3984 900.927 36.0905 903.601 Q39.7508 906.243 46.212 906.243 Z\" fill=\"#000000\" fill-rule=\"evenodd\" fill-opacity=\"1\" /><path clip-path=\"url(#clip560)\" d=\"M35.1993 819.892 Q31.2526 817.696 29.3747 814.64 Q27.4968 811.585 27.4968 807.447 Q27.4968 801.877 31.4117 798.853 Q35.2948 795.829 42.4881 795.829 L64.0042 795.829 L64.0042 801.718 L42.679 801.718 Q37.5546 801.718 35.072 803.532 Q32.5894 805.346 32.5894 809.07 Q32.5894 813.622 35.6131 816.263 Q38.6368 818.905 43.8567 818.905 L64.0042 818.905 L64.0042 824.793 L42.679 824.793 Q37.5228 824.793 35.072 826.608 Q32.5894 828.422 32.5894 832.209 Q32.5894 836.697 35.6449 839.339 Q38.6686 841.981 43.8567 841.981 L64.0042 841.981 L64.0042 847.869 L28.3562 847.869 L28.3562 841.981 L33.8944 841.981 Q30.616 839.976 29.0564 837.175 Q27.4968 834.374 27.4968 830.523 Q27.4968 826.639 29.4702 823.934 Q31.4436 821.197 35.1993 819.892 Z\" fill=\"#000000\" fill-rule=\"evenodd\" fill-opacity=\"1\" /><path clip-path=\"url(#clip560)\" d=\"M49.9359 784.753 L28.3562 784.753 L28.3562 778.897 L49.7131 778.897 Q54.7739 778.897 57.3202 776.923 Q59.8346 774.95 59.8346 771.003 Q59.8346 766.261 56.8109 763.523 Q53.7872 760.754 48.5673 760.754 L28.3562 760.754 L28.3562 754.898 L64.0042 754.898 L64.0042 760.754 L58.5296 760.754 Q61.7762 762.887 63.3676 765.72 Q64.9272 768.521 64.9272 772.244 Q64.9272 778.387 61.1078 781.57 Q57.2883 784.753 49.9359 784.753 M27.4968 770.016 L27.4968 770.016 Z\" fill=\"#000000\" fill-rule=\"evenodd\" fill-opacity=\"1\" /><path clip-path=\"url(#clip560)\" d=\"M18.2347 737.042 L28.3562 737.042 L28.3562 724.979 L32.9077 724.979 L32.9077 737.042 L52.2594 737.042 Q56.6199 737.042 57.8613 735.864 Q59.1026 734.655 59.1026 730.995 L59.1026 724.979 L64.0042 724.979 L64.0042 730.995 Q64.0042 737.774 61.4897 740.352 Q58.9434 742.93 52.2594 742.93 L32.9077 742.93 L32.9077 747.227 L28.3562 747.227 L28.3562 742.93 L18.2347 742.93 L18.2347 737.042 Z\" fill=\"#000000\" fill-rule=\"evenodd\" fill-opacity=\"1\" /><path clip-path=\"url(#clip560)\" d=\"M49.9359 717.881 L28.3562 717.881 L28.3562 712.025 L49.7131 712.025 Q54.7739 712.025 57.3202 710.052 Q59.8346 708.078 59.8346 704.131 Q59.8346 699.389 56.8109 696.652 Q53.7872 693.883 48.5673 693.883 L28.3562 693.883 L28.3562 688.026 L64.0042 688.026 L64.0042 693.883 L58.5296 693.883 Q61.7762 696.015 63.3676 698.848 Q64.9272 701.649 64.9272 705.373 Q64.9272 711.516 61.1078 714.698 Q57.2883 717.881 49.9359 717.881 M27.4968 703.145 L27.4968 703.145 Z\" fill=\"#000000\" fill-rule=\"evenodd\" fill-opacity=\"1\" /><path clip-path=\"url(#clip560)\" d=\"M46.0847 659.762 Q46.0847 666.86 47.7079 669.597 Q49.3312 672.335 53.2461 672.335 Q56.3653 672.335 58.2114 670.298 Q60.0256 668.229 60.0256 664.696 Q60.0256 659.826 56.5881 656.898 Q53.1188 653.938 47.3897 653.938 L46.0847 653.938 L46.0847 659.762 M43.6657 648.081 L64.0042 648.081 L64.0042 653.938 L58.5933 653.938 Q61.8398 655.943 63.3994 658.935 Q64.9272 661.927 64.9272 666.255 Q64.9272 671.73 61.8716 674.976 Q58.7843 678.191 53.6281 678.191 Q47.6125 678.191 44.5569 674.181 Q41.5014 670.139 41.5014 662.15 L41.5014 653.938 L40.9285 653.938 Q36.8862 653.938 34.6901 656.611 Q32.4621 659.253 32.4621 664.059 Q32.4621 667.115 33.1941 670.011 Q33.9262 672.908 35.3903 675.581 L29.9795 675.581 Q28.7381 672.367 28.1334 669.343 Q27.4968 666.319 27.4968 663.455 Q27.4968 655.72 31.5072 651.901 Q35.5176 648.081 43.6657 648.081 Z\" fill=\"#000000\" fill-rule=\"evenodd\" fill-opacity=\"1\" /><path clip-path=\"url(#clip560)\" d=\"M14.479 636.018 L14.479 630.162 L64.0042 630.162 L64.0042 636.018 L14.479 636.018 Z\" fill=\"#000000\" fill-rule=\"evenodd\" fill-opacity=\"1\" /><path clip-path=\"url(#clip560)\" d=\"M28.3562 597.188 L28.3562 591.331 L64.0042 591.331 L64.0042 597.188 L28.3562 597.188 M14.479 597.188 L14.479 591.331 L21.895 591.331 L21.895 597.188 L14.479 597.188 Z\" fill=\"#000000\" fill-rule=\"evenodd\" fill-opacity=\"1\" /><path clip-path=\"url(#clip560)\" d=\"M42.4881 549.445 L64.0042 549.445 L64.0042 555.301 L42.679 555.301 Q37.6183 555.301 35.1038 557.275 Q32.5894 559.248 32.5894 563.195 Q32.5894 567.937 35.6131 570.674 Q38.6368 573.412 43.8567 573.412 L64.0042 573.412 L64.0042 579.3 L28.3562 579.3 L28.3562 573.412 L33.8944 573.412 Q30.6797 571.311 29.0883 568.478 Q27.4968 565.614 27.4968 561.89 Q27.4968 555.747 31.3163 552.596 Q35.1038 549.445 42.4881 549.445 Z\" fill=\"#000000\" fill-rule=\"evenodd\" fill-opacity=\"1\" /><path clip-path=\"url(#clip560)\" d=\"M14.479 519.717 L19.3487 519.717 L19.3487 525.319 Q19.3487 528.47 20.6219 529.711 Q21.895 530.921 25.2052 530.921 L28.3562 530.921 L28.3562 521.276 L32.9077 521.276 L32.9077 530.921 L64.0042 530.921 L64.0042 536.809 L32.9077 536.809 L32.9077 542.411 L28.3562 542.411 L28.3562 536.809 L25.8736 536.809 Q19.9216 536.809 17.2162 534.04 Q14.479 531.271 14.479 525.255 L14.479 519.717 Z\" fill=\"#000000\" fill-rule=\"evenodd\" fill-opacity=\"1\" /><path clip-path=\"url(#clip560)\" d=\"M32.4621 501.002 Q32.4621 505.712 36.1542 508.45 Q39.8145 511.187 46.212 511.187 Q52.6095 511.187 56.3017 508.481 Q59.9619 505.744 59.9619 501.002 Q59.9619 496.323 56.2698 493.586 Q52.5777 490.848 46.212 490.848 Q39.8781 490.848 36.186 493.586 Q32.4621 496.323 32.4621 501.002 M27.4968 501.002 Q27.4968 493.363 32.4621 489.002 Q37.4273 484.642 46.212 484.642 Q54.9649 484.642 59.9619 489.002 Q64.9272 493.363 64.9272 501.002 Q64.9272 508.672 59.9619 513.033 Q54.9649 517.362 46.212 517.362 Q37.4273 517.362 32.4621 513.033 Q27.4968 508.672 27.4968 501.002 Z\" fill=\"#000000\" fill-rule=\"evenodd\" fill-opacity=\"1\" /><path clip-path=\"url(#clip560)\" d=\"M33.8307 454.277 Q33.2578 455.264 33.0032 456.442 Q32.7167 457.588 32.7167 458.988 Q32.7167 463.953 35.9632 466.627 Q39.1779 469.269 45.2253 469.269 L64.0042 469.269 L64.0042 475.157 L28.3562 475.157 L28.3562 469.269 L33.8944 469.269 Q30.6479 467.423 29.0883 464.463 Q27.4968 461.502 27.4968 457.269 Q27.4968 456.665 27.5923 455.933 Q27.656 455.2 27.8151 454.309 L33.8307 454.277 Z\" fill=\"#000000\" fill-rule=\"evenodd\" fill-opacity=\"1\" /><path clip-path=\"url(#clip560)\" d=\"M35.1993 421.526 Q31.2526 419.33 29.3747 416.274 Q27.4968 413.219 27.4968 409.081 Q27.4968 403.511 31.4117 400.487 Q35.2948 397.463 42.4881 397.463 L64.0042 397.463 L64.0042 403.352 L42.679 403.352 Q37.5546 403.352 35.072 405.166 Q32.5894 406.98 32.5894 410.704 Q32.5894 415.256 35.6131 417.897 Q38.6368 420.539 43.8567 420.539 L64.0042 420.539 L64.0042 426.427 L42.679 426.427 Q37.5228 426.427 35.072 428.242 Q32.5894 430.056 32.5894 433.844 Q32.5894 438.331 35.6449 440.973 Q38.6686 443.615 43.8567 443.615 L64.0042 443.615 L64.0042 449.503 L28.3562 449.503 L28.3562 443.615 L33.8944 443.615 Q30.616 441.61 29.0564 438.809 Q27.4968 436.008 27.4968 432.157 Q27.4968 428.274 29.4702 425.568 Q31.4436 422.831 35.1993 421.526 Z\" fill=\"#000000\" fill-rule=\"evenodd\" fill-opacity=\"1\" /><path clip-path=\"url(#clip560)\" d=\"M46.0847 369.582 Q46.0847 376.679 47.7079 379.417 Q49.3312 382.154 53.2461 382.154 Q56.3653 382.154 58.2114 380.117 Q60.0256 378.048 60.0256 374.515 Q60.0256 369.645 56.5881 366.717 Q53.1188 363.757 47.3897 363.757 L46.0847 363.757 L46.0847 369.582 M43.6657 357.901 L64.0042 357.901 L64.0042 363.757 L58.5933 363.757 Q61.8398 365.762 63.3994 368.754 Q64.9272 371.746 64.9272 376.075 Q64.9272 381.549 61.8716 384.796 Q58.7843 388.01 53.6281 388.01 Q47.6125 388.01 44.5569 384 Q41.5014 379.958 41.5014 371.969 L41.5014 363.757 L40.9285 363.757 Q36.8862 363.757 34.6901 366.431 Q32.4621 369.072 32.4621 373.879 Q32.4621 376.934 33.1941 379.83 Q33.9262 382.727 35.3903 385.4 L29.9795 385.4 Q28.7381 382.186 28.1334 379.162 Q27.4968 376.138 27.4968 373.274 Q27.4968 365.539 31.5072 361.72 Q35.5176 357.901 43.6657 357.901 Z\" fill=\"#000000\" fill-rule=\"evenodd\" fill-opacity=\"1\" /><path clip-path=\"url(#clip560)\" d=\"M18.2347 340.045 L28.3562 340.045 L28.3562 327.982 L32.9077 327.982 L32.9077 340.045 L52.2594 340.045 Q56.6199 340.045 57.8613 338.867 Q59.1026 337.658 59.1026 333.997 L59.1026 327.982 L64.0042 327.982 L64.0042 333.997 Q64.0042 340.777 61.4897 343.355 Q58.9434 345.933 52.2594 345.933 L32.9077 345.933 L32.9077 350.23 L28.3562 350.23 L28.3562 345.933 L18.2347 345.933 L18.2347 340.045 Z\" fill=\"#000000\" fill-rule=\"evenodd\" fill-opacity=\"1\" /><path clip-path=\"url(#clip560)\" d=\"M28.3562 320.279 L28.3562 314.423 L64.0042 314.423 L64.0042 320.279 L28.3562 320.279 M14.479 320.279 L14.479 314.423 L21.895 314.423 L21.895 320.279 L14.479 320.279 Z\" fill=\"#000000\" fill-rule=\"evenodd\" fill-opacity=\"1\" /><path clip-path=\"url(#clip560)\" d=\"M32.4621 288.355 Q32.4621 293.066 36.1542 295.803 Q39.8145 298.54 46.212 298.54 Q52.6095 298.54 56.3017 295.835 Q59.9619 293.098 59.9619 288.355 Q59.9619 283.676 56.2698 280.939 Q52.5777 278.202 46.212 278.202 Q39.8781 278.202 36.186 280.939 Q32.4621 283.676 32.4621 288.355 M27.4968 288.355 Q27.4968 280.716 32.4621 276.356 Q37.4273 271.995 46.212 271.995 Q54.9649 271.995 59.9619 276.356 Q64.9272 280.716 64.9272 288.355 Q64.9272 296.026 59.9619 300.386 Q54.9649 304.715 46.212 304.715 Q37.4273 304.715 32.4621 300.386 Q27.4968 296.026 27.4968 288.355 Z\" fill=\"#000000\" fill-rule=\"evenodd\" fill-opacity=\"1\" /><path clip-path=\"url(#clip560)\" d=\"M42.4881 232.655 L64.0042 232.655 L64.0042 238.512 L42.679 238.512 Q37.6183 238.512 35.1038 240.485 Q32.5894 242.459 32.5894 246.405 Q32.5894 251.148 35.6131 253.885 Q38.6368 256.622 43.8567 256.622 L64.0042 256.622 L64.0042 262.511 L28.3562 262.511 L28.3562 256.622 L33.8944 256.622 Q30.6797 254.522 29.0883 251.689 Q27.4968 248.824 27.4968 245.1 Q27.4968 238.957 31.3163 235.806 Q35.1038 232.655 42.4881 232.655 Z\" fill=\"#000000\" fill-rule=\"evenodd\" fill-opacity=\"1\" /><polyline clip-path=\"url(#clip562)\" style=\"stroke:#009af9; stroke-linecap:butt; stroke-linejoin:round; stroke-width:4; stroke-opacity:1; fill:none\" points=\"\n",
       "  309.067,86.9045 529.53,89.7773 749.992,96.937 970.455,203.765 1190.92,679.271 1411.38,1194.76 1631.84,1350.77 1852.31,1367.63 2072.77,1378.34 2293.23,1380.97 \n",
       "  \n",
       "  \"/>\n",
       "<polyline clip-path=\"url(#clip562)\" style=\"stroke:#009af9; stroke-linecap:butt; stroke-linejoin:round; stroke-width:4; stroke-opacity:1; fill:none\" points=\"\n",
       "  309.067,87.5271 309.067,86.282 \n",
       "  \"/>\n",
       "<polyline clip-path=\"url(#clip562)\" style=\"stroke:#009af9; stroke-linecap:butt; stroke-linejoin:round; stroke-width:4; stroke-opacity:1; fill:none\" points=\"\n",
       "  529.53,92.0196 529.53,87.535 \n",
       "  \"/>\n",
       "<polyline clip-path=\"url(#clip562)\" style=\"stroke:#009af9; stroke-linecap:butt; stroke-linejoin:round; stroke-width:4; stroke-opacity:1; fill:none\" points=\"\n",
       "  749.992,98.3279 749.992,95.5461 \n",
       "  \"/>\n",
       "<polyline clip-path=\"url(#clip562)\" style=\"stroke:#009af9; stroke-linecap:butt; stroke-linejoin:round; stroke-width:4; stroke-opacity:1; fill:none\" points=\"\n",
       "  970.455,222.311 970.455,185.218 \n",
       "  \"/>\n",
       "<polyline clip-path=\"url(#clip562)\" style=\"stroke:#009af9; stroke-linecap:butt; stroke-linejoin:round; stroke-width:4; stroke-opacity:1; fill:none\" points=\"\n",
       "  1190.92,740.507 1190.92,618.036 \n",
       "  \"/>\n",
       "<polyline clip-path=\"url(#clip562)\" style=\"stroke:#009af9; stroke-linecap:butt; stroke-linejoin:round; stroke-width:4; stroke-opacity:1; fill:none\" points=\"\n",
       "  1411.38,1213.97 1411.38,1175.55 \n",
       "  \"/>\n",
       "<polyline clip-path=\"url(#clip562)\" style=\"stroke:#009af9; stroke-linecap:butt; stroke-linejoin:round; stroke-width:4; stroke-opacity:1; fill:none\" points=\"\n",
       "  1631.84,1352.6 1631.84,1348.93 \n",
       "  \"/>\n",
       "<polyline clip-path=\"url(#clip562)\" style=\"stroke:#009af9; stroke-linecap:butt; stroke-linejoin:round; stroke-width:4; stroke-opacity:1; fill:none\" points=\"\n",
       "  1852.31,1370.81 1852.31,1364.45 \n",
       "  \"/>\n",
       "<polyline clip-path=\"url(#clip562)\" style=\"stroke:#009af9; stroke-linecap:butt; stroke-linejoin:round; stroke-width:4; stroke-opacity:1; fill:none\" points=\"\n",
       "  2072.77,1382.94 2072.77,1373.74 \n",
       "  \"/>\n",
       "<polyline clip-path=\"url(#clip562)\" style=\"stroke:#009af9; stroke-linecap:butt; stroke-linejoin:round; stroke-width:4; stroke-opacity:1; fill:none\" points=\"\n",
       "  2293.23,1384.24 2293.23,1377.7 \n",
       "  \"/>\n",
       "<line clip-path=\"url(#clip562)\" x1=\"325.067\" y1=\"87.5271\" x2=\"293.067\" y2=\"87.5271\" style=\"stroke:#009af9; stroke-width:3.2; stroke-opacity:1\"/>\n",
       "<line clip-path=\"url(#clip562)\" x1=\"325.067\" y1=\"86.282\" x2=\"293.067\" y2=\"86.282\" style=\"stroke:#009af9; stroke-width:3.2; stroke-opacity:1\"/>\n",
       "<line clip-path=\"url(#clip562)\" x1=\"545.53\" y1=\"92.0196\" x2=\"513.53\" y2=\"92.0196\" style=\"stroke:#009af9; stroke-width:3.2; stroke-opacity:1\"/>\n",
       "<line clip-path=\"url(#clip562)\" x1=\"545.53\" y1=\"87.535\" x2=\"513.53\" y2=\"87.535\" style=\"stroke:#009af9; stroke-width:3.2; stroke-opacity:1\"/>\n",
       "<line clip-path=\"url(#clip562)\" x1=\"765.992\" y1=\"98.3279\" x2=\"733.992\" y2=\"98.3279\" style=\"stroke:#009af9; stroke-width:3.2; stroke-opacity:1\"/>\n",
       "<line clip-path=\"url(#clip562)\" x1=\"765.992\" y1=\"95.5461\" x2=\"733.992\" y2=\"95.5461\" style=\"stroke:#009af9; stroke-width:3.2; stroke-opacity:1\"/>\n",
       "<line clip-path=\"url(#clip562)\" x1=\"986.455\" y1=\"222.311\" x2=\"954.455\" y2=\"222.311\" style=\"stroke:#009af9; stroke-width:3.2; stroke-opacity:1\"/>\n",
       "<line clip-path=\"url(#clip562)\" x1=\"986.455\" y1=\"185.218\" x2=\"954.455\" y2=\"185.218\" style=\"stroke:#009af9; stroke-width:3.2; stroke-opacity:1\"/>\n",
       "<line clip-path=\"url(#clip562)\" x1=\"1206.92\" y1=\"740.507\" x2=\"1174.92\" y2=\"740.507\" style=\"stroke:#009af9; stroke-width:3.2; stroke-opacity:1\"/>\n",
       "<line clip-path=\"url(#clip562)\" x1=\"1206.92\" y1=\"618.036\" x2=\"1174.92\" y2=\"618.036\" style=\"stroke:#009af9; stroke-width:3.2; stroke-opacity:1\"/>\n",
       "<line clip-path=\"url(#clip562)\" x1=\"1427.38\" y1=\"1213.97\" x2=\"1395.38\" y2=\"1213.97\" style=\"stroke:#009af9; stroke-width:3.2; stroke-opacity:1\"/>\n",
       "<line clip-path=\"url(#clip562)\" x1=\"1427.38\" y1=\"1175.55\" x2=\"1395.38\" y2=\"1175.55\" style=\"stroke:#009af9; stroke-width:3.2; stroke-opacity:1\"/>\n",
       "<line clip-path=\"url(#clip562)\" x1=\"1647.84\" y1=\"1352.6\" x2=\"1615.84\" y2=\"1352.6\" style=\"stroke:#009af9; stroke-width:3.2; stroke-opacity:1\"/>\n",
       "<line clip-path=\"url(#clip562)\" x1=\"1647.84\" y1=\"1348.93\" x2=\"1615.84\" y2=\"1348.93\" style=\"stroke:#009af9; stroke-width:3.2; stroke-opacity:1\"/>\n",
       "<line clip-path=\"url(#clip562)\" x1=\"1868.31\" y1=\"1370.81\" x2=\"1836.31\" y2=\"1370.81\" style=\"stroke:#009af9; stroke-width:3.2; stroke-opacity:1\"/>\n",
       "<line clip-path=\"url(#clip562)\" x1=\"1868.31\" y1=\"1364.45\" x2=\"1836.31\" y2=\"1364.45\" style=\"stroke:#009af9; stroke-width:3.2; stroke-opacity:1\"/>\n",
       "<line clip-path=\"url(#clip562)\" x1=\"2088.77\" y1=\"1382.94\" x2=\"2056.77\" y2=\"1382.94\" style=\"stroke:#009af9; stroke-width:3.2; stroke-opacity:1\"/>\n",
       "<line clip-path=\"url(#clip562)\" x1=\"2088.77\" y1=\"1373.74\" x2=\"2056.77\" y2=\"1373.74\" style=\"stroke:#009af9; stroke-width:3.2; stroke-opacity:1\"/>\n",
       "<line clip-path=\"url(#clip562)\" x1=\"2309.23\" y1=\"1384.24\" x2=\"2277.23\" y2=\"1384.24\" style=\"stroke:#009af9; stroke-width:3.2; stroke-opacity:1\"/>\n",
       "<line clip-path=\"url(#clip562)\" x1=\"2309.23\" y1=\"1377.7\" x2=\"2277.23\" y2=\"1377.7\" style=\"stroke:#009af9; stroke-width:3.2; stroke-opacity:1\"/>\n",
       "<polyline clip-path=\"url(#clip562)\" style=\"stroke:#e26f46; stroke-linecap:butt; stroke-linejoin:round; stroke-width:4; stroke-opacity:1; fill:none\" points=\"\n",
       "  309.067,86.1857 529.53,86.1857 749.992,88.3484 970.455,210.823 1190.92,578.588 1411.38,1122.33 1631.84,1309.7 1852.31,1352.49 2072.77,1363.69 2293.23,1372.45 \n",
       "  \n",
       "  \"/>\n",
       "<path clip-path=\"url(#clip560)\" d=\"\n",
       "M1842.68 248.629 L2282.65 248.629 L2282.65 93.1086 L1842.68 93.1086  Z\n",
       "  \" fill=\"#ffffff\" fill-rule=\"evenodd\" fill-opacity=\"1\"/>\n",
       "<polyline clip-path=\"url(#clip560)\" style=\"stroke:#000000; stroke-linecap:butt; stroke-linejoin:round; stroke-width:4; stroke-opacity:1; fill:none\" points=\"\n",
       "  1842.68,248.629 2282.65,248.629 2282.65,93.1086 1842.68,93.1086 1842.68,248.629 \n",
       "  \"/>\n",
       "<polyline clip-path=\"url(#clip560)\" style=\"stroke:#009af9; stroke-linecap:butt; stroke-linejoin:round; stroke-width:4; stroke-opacity:1; fill:none\" points=\"\n",
       "  1866.04,144.949 2006.26,144.949 \n",
       "  \"/>\n",
       "<path clip-path=\"url(#clip560)\" d=\"M2029.63 127.669 L2051.48 127.669 L2051.48 131.604 L2034.3 131.604 L2034.3 141.835 L2050.76 141.835 L2050.76 145.77 L2034.3 145.77 L2034.3 158.293 L2051.9 158.293 L2051.9 162.229 L2029.63 162.229 L2029.63 127.669 Z\" fill=\"#000000\" fill-rule=\"evenodd\" fill-opacity=\"1\" /><path clip-path=\"url(#clip560)\" d=\"M2059.4 126.21 L2063.66 126.21 L2063.66 162.229 L2059.4 162.229 L2059.4 126.21 Z\" fill=\"#000000\" fill-rule=\"evenodd\" fill-opacity=\"1\" /><path clip-path=\"url(#clip560)\" d=\"M2072.57 126.21 L2076.83 126.21 L2076.83 162.229 L2072.57 162.229 L2072.57 126.21 Z\" fill=\"#000000\" fill-rule=\"evenodd\" fill-opacity=\"1\" /><path clip-path=\"url(#clip560)\" d=\"M2085.74 136.303 L2090 136.303 L2090 162.229 L2085.74 162.229 L2085.74 136.303 M2085.74 126.21 L2090 126.21 L2090 131.604 L2085.74 131.604 L2085.74 126.21 Z\" fill=\"#000000\" fill-rule=\"evenodd\" fill-opacity=\"1\" /><path clip-path=\"url(#clip560)\" d=\"M2103.03 158.34 L2103.03 172.09 L2098.75 172.09 L2098.75 136.303 L2103.03 136.303 L2103.03 140.238 Q2104.37 137.923 2106.41 136.812 Q2108.47 135.678 2111.32 135.678 Q2116.04 135.678 2118.98 139.428 Q2121.94 143.178 2121.94 149.289 Q2121.94 155.4 2118.98 159.15 Q2116.04 162.9 2111.32 162.9 Q2108.47 162.9 2106.41 161.789 Q2104.37 160.655 2103.03 158.34 M2117.52 149.289 Q2117.52 144.59 2115.58 141.928 Q2113.66 139.243 2110.28 139.243 Q2106.9 139.243 2104.95 141.928 Q2103.03 144.59 2103.03 149.289 Q2103.03 153.988 2104.95 156.673 Q2106.9 159.335 2110.28 159.335 Q2113.66 159.335 2115.58 156.673 Q2117.52 153.988 2117.52 149.289 Z\" fill=\"#000000\" fill-rule=\"evenodd\" fill-opacity=\"1\" /><path clip-path=\"url(#clip560)\" d=\"M2145.53 137.067 L2145.53 141.094 Q2143.72 140.169 2141.78 139.706 Q2139.84 139.243 2137.75 139.243 Q2134.58 139.243 2132.98 140.215 Q2131.41 141.187 2131.41 143.131 Q2131.41 144.613 2132.54 145.469 Q2133.68 146.303 2137.1 147.067 L2138.56 147.391 Q2143.1 148.363 2145 150.145 Q2146.92 151.905 2146.92 155.076 Q2146.92 158.687 2144.05 160.793 Q2141.2 162.9 2136.2 162.9 Q2134.12 162.9 2131.85 162.483 Q2129.6 162.09 2127.1 161.28 L2127.1 156.881 Q2129.47 158.108 2131.76 158.733 Q2134.05 159.335 2136.29 159.335 Q2139.3 159.335 2140.92 158.317 Q2142.54 157.275 2142.54 155.4 Q2142.54 153.664 2141.36 152.738 Q2140.21 151.812 2136.25 150.956 L2134.77 150.608 Q2130.81 149.775 2129.05 148.062 Q2127.29 146.326 2127.29 143.317 Q2127.29 139.659 2129.88 137.669 Q2132.47 135.678 2137.24 135.678 Q2139.6 135.678 2141.69 136.025 Q2143.77 136.372 2145.53 137.067 Z\" fill=\"#000000\" fill-rule=\"evenodd\" fill-opacity=\"1\" /><path clip-path=\"url(#clip560)\" d=\"M2163.75 139.289 Q2160.32 139.289 2158.33 141.974 Q2156.34 144.636 2156.34 149.289 Q2156.34 153.942 2158.31 156.627 Q2160.3 159.289 2163.75 159.289 Q2167.15 159.289 2169.14 156.604 Q2171.13 153.918 2171.13 149.289 Q2171.13 144.682 2169.14 141.997 Q2167.15 139.289 2163.75 139.289 M2163.75 135.678 Q2169.3 135.678 2172.47 139.289 Q2175.65 142.9 2175.65 149.289 Q2175.65 155.655 2172.47 159.289 Q2169.3 162.9 2163.75 162.9 Q2158.17 162.9 2155 159.289 Q2151.85 155.655 2151.85 149.289 Q2151.85 142.9 2155 139.289 Q2158.17 135.678 2163.75 135.678 Z\" fill=\"#000000\" fill-rule=\"evenodd\" fill-opacity=\"1\" /><path clip-path=\"url(#clip560)\" d=\"M2182.71 136.303 L2186.97 136.303 L2186.97 162.229 L2182.71 162.229 L2182.71 136.303 M2182.71 126.21 L2186.97 126.21 L2186.97 131.604 L2182.71 131.604 L2182.71 126.21 Z\" fill=\"#000000\" fill-rule=\"evenodd\" fill-opacity=\"1\" /><path clip-path=\"url(#clip560)\" d=\"M2212.94 140.238 L2212.94 126.21 L2217.2 126.21 L2217.2 162.229 L2212.94 162.229 L2212.94 158.34 Q2211.59 160.655 2209.53 161.789 Q2207.5 162.9 2204.63 162.9 Q2199.93 162.9 2196.97 159.15 Q2194.03 155.4 2194.03 149.289 Q2194.03 143.178 2196.97 139.428 Q2199.93 135.678 2204.63 135.678 Q2207.5 135.678 2209.53 136.812 Q2211.59 137.923 2212.94 140.238 M2198.42 149.289 Q2198.42 153.988 2200.34 156.673 Q2202.29 159.335 2205.67 159.335 Q2209.05 159.335 2210.99 156.673 Q2212.94 153.988 2212.94 149.289 Q2212.94 144.59 2210.99 141.928 Q2209.05 139.243 2205.67 139.243 Q2202.29 139.243 2200.34 141.928 Q2198.42 144.59 2198.42 149.289 Z\" fill=\"#000000\" fill-rule=\"evenodd\" fill-opacity=\"1\" /><path clip-path=\"url(#clip560)\" d=\"M2237.75 149.196 Q2232.59 149.196 2230.6 150.377 Q2228.61 151.557 2228.61 154.405 Q2228.61 156.673 2230.09 158.016 Q2231.59 159.335 2234.16 159.335 Q2237.71 159.335 2239.84 156.835 Q2241.99 154.312 2241.99 150.145 L2241.99 149.196 L2237.75 149.196 M2246.25 147.437 L2246.25 162.229 L2241.99 162.229 L2241.99 158.293 Q2240.53 160.655 2238.35 161.789 Q2236.18 162.9 2233.03 162.9 Q2229.05 162.9 2226.69 160.678 Q2224.35 158.432 2224.35 154.682 Q2224.35 150.307 2227.27 148.085 Q2230.21 145.863 2236.02 145.863 L2241.99 145.863 L2241.99 145.446 Q2241.99 142.507 2240.04 140.909 Q2238.12 139.289 2234.63 139.289 Q2232.4 139.289 2230.3 139.821 Q2228.19 140.354 2226.25 141.419 L2226.25 137.483 Q2228.59 136.581 2230.78 136.141 Q2232.98 135.678 2235.07 135.678 Q2240.69 135.678 2243.47 138.594 Q2246.25 141.511 2246.25 147.437 Z\" fill=\"#000000\" fill-rule=\"evenodd\" fill-opacity=\"1\" /><path clip-path=\"url(#clip560)\" d=\"M2255.02 126.21 L2259.28 126.21 L2259.28 162.229 L2255.02 162.229 L2255.02 126.21 Z\" fill=\"#000000\" fill-rule=\"evenodd\" fill-opacity=\"1\" /><polyline clip-path=\"url(#clip560)\" style=\"stroke:#e26f46; stroke-linecap:butt; stroke-linejoin:round; stroke-width:4; stroke-opacity:1; fill:none\" points=\"\n",
       "  1866.04,196.789 2006.26,196.789 \n",
       "  \"/>\n",
       "<path clip-path=\"url(#clip560)\" d=\"M2029.63 179.509 L2034.3 179.509 L2034.3 210.133 L2051.13 210.133 L2051.13 214.069 L2029.63 214.069 L2029.63 179.509 Z\" fill=\"#000000\" fill-rule=\"evenodd\" fill-opacity=\"1\" /><path clip-path=\"url(#clip560)\" d=\"M2065.07 191.129 Q2061.64 191.129 2059.65 193.814 Q2057.66 196.476 2057.66 201.129 Q2057.66 205.782 2059.63 208.467 Q2061.62 211.129 2065.07 211.129 Q2068.47 211.129 2070.46 208.444 Q2072.45 205.758 2072.45 201.129 Q2072.45 196.522 2070.46 193.837 Q2068.47 191.129 2065.07 191.129 M2065.07 187.518 Q2070.62 187.518 2073.79 191.129 Q2076.97 194.74 2076.97 201.129 Q2076.97 207.495 2073.79 211.129 Q2070.62 214.74 2065.07 214.74 Q2059.49 214.74 2056.32 211.129 Q2053.17 207.495 2053.17 201.129 Q2053.17 194.74 2056.32 191.129 Q2059.49 187.518 2065.07 187.518 Z\" fill=\"#000000\" fill-rule=\"evenodd\" fill-opacity=\"1\" /><path clip-path=\"url(#clip560)\" d=\"M2083.59 203.837 L2083.59 188.143 L2087.85 188.143 L2087.85 203.675 Q2087.85 207.356 2089.28 209.208 Q2090.72 211.036 2093.59 211.036 Q2097.04 211.036 2099.03 208.837 Q2101.04 206.638 2101.04 202.842 L2101.04 188.143 L2105.3 188.143 L2105.3 214.069 L2101.04 214.069 L2101.04 210.087 Q2099.49 212.448 2097.43 213.606 Q2095.39 214.74 2092.68 214.74 Q2088.22 214.74 2085.9 211.962 Q2083.59 209.184 2083.59 203.837 M2094.3 187.518 L2094.3 187.518 Z\" fill=\"#000000\" fill-rule=\"evenodd\" fill-opacity=\"1\" /><path clip-path=\"url(#clip560)\" d=\"M2111.02 188.143 L2115.53 188.143 L2123.63 209.902 L2131.73 188.143 L2136.25 188.143 L2126.53 214.069 L2120.74 214.069 L2111.02 188.143 Z\" fill=\"#000000\" fill-rule=\"evenodd\" fill-opacity=\"1\" /><path clip-path=\"url(#clip560)\" d=\"M2153.91 201.036 Q2148.75 201.036 2146.76 202.217 Q2144.77 203.397 2144.77 206.245 Q2144.77 208.513 2146.25 209.856 Q2147.75 211.175 2150.32 211.175 Q2153.86 211.175 2155.99 208.675 Q2158.15 206.152 2158.15 201.985 L2158.15 201.036 L2153.91 201.036 M2162.41 199.277 L2162.41 214.069 L2158.15 214.069 L2158.15 210.133 Q2156.69 212.495 2154.51 213.629 Q2152.34 214.74 2149.19 214.74 Q2145.21 214.74 2142.85 212.518 Q2140.51 210.272 2140.51 206.522 Q2140.51 202.147 2143.42 199.925 Q2146.36 197.703 2152.17 197.703 L2158.15 197.703 L2158.15 197.286 Q2158.15 194.347 2156.2 192.749 Q2154.28 191.129 2150.78 191.129 Q2148.56 191.129 2146.46 191.661 Q2144.35 192.194 2142.41 193.259 L2142.41 189.323 Q2144.74 188.421 2146.94 187.981 Q2149.14 187.518 2151.22 187.518 Q2156.85 187.518 2159.63 190.434 Q2162.41 193.351 2162.41 199.277 Z\" fill=\"#000000\" fill-rule=\"evenodd\" fill-opacity=\"1\" /><path clip-path=\"url(#clip560)\" d=\"M2171.18 188.143 L2175.44 188.143 L2175.44 214.069 L2171.18 214.069 L2171.18 188.143 M2171.18 178.05 L2175.44 178.05 L2175.44 183.444 L2171.18 183.444 L2171.18 178.05 Z\" fill=\"#000000\" fill-rule=\"evenodd\" fill-opacity=\"1\" /><path clip-path=\"url(#clip560)\" d=\"M2205.9 198.421 L2205.9 214.069 L2201.64 214.069 L2201.64 198.559 Q2201.64 194.879 2200.21 193.05 Q2198.77 191.222 2195.9 191.222 Q2192.45 191.222 2190.46 193.421 Q2188.47 195.62 2188.47 199.416 L2188.47 214.069 L2184.19 214.069 L2184.19 188.143 L2188.47 188.143 L2188.47 192.171 Q2190 189.833 2192.06 188.675 Q2194.14 187.518 2196.85 187.518 Q2201.32 187.518 2203.61 190.296 Q2205.9 193.05 2205.9 198.421 Z\" fill=\"#000000\" fill-rule=\"evenodd\" fill-opacity=\"1\" /></svg>\n"
      ]
     },
     "metadata": {},
     "output_type": "display_data"
    }
   ],
   "source": [
    "using StatsBase\n",
    "using LaTeXStrings\n",
    "\n",
    "pgfplotsx()\n",
    "plot(mus, m, yerror = s,\n",
    "markerstrokecolor=:auto,\n",
    "xlabel = \"Mixing parameter \",\n",
    "ylabel = \"Normalized mutual information\",\n",
    "labels = \"Ellipsoidal\")\n",
    "\n",
    "plot!(mus, NMIs_louvain,\n",
    "markerstrokecolor=:auto,\n",
    "xlabel = \"Mixing parameter\",\n",
    "ylabel = \"Normalized mutual information\",\n",
    "labels = \"Louvain\",\n",
    "legend = (0.8,1))\n",
    "savefig(\"figures/nmi_vs_mu.pdf\")\n",
    "\n",
    "\n",
    "gr()\n",
    "# Plot Normalized mutual information vs Mixing parameter\n",
    "m = mean(NMIs,dims=2);\n",
    "s = std(NMIs,dims=2);\n",
    "plot(mus, m, yerror = s,\n",
    "markerstrokecolor=:auto,\n",
    "xlabel = \"Mixing parameter \",\n",
    "ylabel = \"Normalized mutual information\",\n",
    "labels = \"Ellipsoidal\")\n",
    "\n",
    "plot!(mus, NMIs_louvain,\n",
    "markerstrokecolor=:auto,\n",
    "xlabel = \"Mixing parameter\",\n",
    "ylabel = \"Normalized mutual information\",\n",
    "labels = \"Louvain\")\n",
    "#savefig(\"figures/nmi_vs_mu.pdf\")\n",
    "plot!()\n",
    "\n"
   ]
  },
  {
   "cell_type": "markdown",
   "metadata": {},
   "source": [
    "### Estimating the impact of $d_0$ on embedding quality"
   ]
  },
  {
   "cell_type": "code",
   "execution_count": 28,
   "metadata": {},
   "outputs": [
    {
     "name": "stdout",
     "output_type": "stream",
     "text": [
      "mu=0.4\n",
      "========== d0 step 1/19 ==========\n",
      "\n",
      "  ~~~~~ number_rep = 1/3 ~~~~~\n",
      " ------- Acc Projected Power Iteration -------\n",
      "The iteration has become stationary after "
     ]
    },
    {
     "name": "stdout",
     "output_type": "stream",
     "text": [
      "193 iterations\n",
      "  0.190743 seconds (5.12 k allocations: 135.373 MiB, 25.34% gc time)\n",
      " -------------- Clustering ------- \n",
      "dimension of embedding used for clustering: 10\n"
     ]
    },
    {
     "name": "stdout",
     "output_type": "stream",
     "text": [
      "Number of updates: 12\n",
      "Modularity: 0.3695205441918179\n",
      "Number of communities: 12\n",
      " -------------------------------------------- \n",
      "The first 5 squared singular values divided by N : \n",
      "[0.22014787367182745, 0.2125061292954251, 0.18029156558600876, 0.12772715086311293, 0.0996265289995583]\n",
      " -------------------------------------------- \n",
      "  0.369350 seconds (201.75 k allocations: 253.360 MiB, 17.67% gc time)\n",
      "\n",
      "  ~~~~~ number_rep = 2/3 ~~~~~\n",
      " ------- Acc Projected Power Iteration -------\n"
     ]
    },
    {
     "name": "stdout",
     "output_type": "stream",
     "text": [
      "The iteration has become stationary after 188 iterations\n",
      "  0.174070 seconds (5.00 k allocations: 131.856 MiB, 17.21% gc time)\n",
      " -------------- Clustering ------- \n",
      "dimension of embedding used for clustering: 10\n",
      "Number of updates: "
     ]
    },
    {
     "name": "stdout",
     "output_type": "stream",
     "text": [
      "16\n",
      "Modularity: 0.35967962305061374\n",
      "Number of communities: 11\n",
      " -------------------------------------------- \n",
      "The first 5 squared singular values divided by N : \n",
      "[0.21981484776502386, 0.21249350520882737, 0.18104270622470325, 0.12730728902528632, 0.09979694186385231]\n",
      " -------------------------------------------- \n",
      "  0.346469 seconds (226.37 k allocations: 264.306 MiB, 13.49% gc time)\n",
      "\n",
      "  ~~~~~ number_rep = 3/3 ~~~~~\n",
      " ------- Acc Projected Power Iteration -------\n"
     ]
    },
    {
     "name": "stdout",
     "output_type": "stream",
     "text": [
      "The iteration has become stationary after 130 iterations\n",
      "  0.113350 seconds (3.49 k allocations: 91.029 MiB, 13.73% gc time)\n",
      " -------------- Clustering ------- \n",
      "dimension of embedding used for clustering: 10\n",
      "Number of updates: "
     ]
    },
    {
     "name": "stdout",
     "output_type": "stream",
     "text": [
      "14\n",
      "Modularity: 0.3678261206725555\n",
      "Number of communities: 12\n",
      " -------------------------------------------- \n",
      "The first 5 squared singular values divided by N : \n",
      "[0.21940750756340485, 0.21547024265868372, 0.18047770270209326, 0.13159295062506526, 0.09890930502673047]\n",
      " -------------------------------------------- \n",
      "  0.275887 seconds (181.57 k allocations: 199.184 MiB, 17.02% gc time)\n",
      "\n",
      "========== d0 step 2/19 ==========\n",
      "\n",
      "  ~~~~~ number_rep = 1/3 ~~~~~\n",
      " ------- Acc Projected Power Iteration -------\n"
     ]
    },
    {
     "name": "stdout",
     "output_type": "stream",
     "text": [
      "The iteration has become stationary after 199 iterations\n",
      "  0.260476 seconds (5.28 k allocations: 207.877 MiB, 10.17% gc time)\n",
      " -------------- Clustering ------- \n",
      "dimension of embedding used for clustering: 15\n",
      "Number of updates: "
     ]
    },
    {
     "name": "stdout",
     "output_type": "stream",
     "text": [
      "6\n",
      "Modularity: 0.38372516590713895\n",
      "Number of communities: 17\n",
      " -------------------------------------------- \n",
      "The first 5 squared singular values divided by N : \n",
      "[0.22018750807948645, 0.21276876444975246, 0.1808640401661459, 0.12803684491470022, 0.09913678832764738]\n",
      " -------------------------------------------- \n",
      "  0.368788 seconds (105.08 k allocations: 273.798 MiB, 10.89% gc time)\n",
      "\n",
      "  ~~~~~ number_rep = 2/3 ~~~~~\n",
      " ------- Acc Projected Power Iteration -------\n"
     ]
    },
    {
     "name": "stdout",
     "output_type": "stream",
     "text": [
      "The iteration has become stationary after 215 iterations\n",
      "  0.279071 seconds (5.70 k allocations: 224.651 MiB, 8.84% gc time)\n",
      " -------------- Clustering ------- \n",
      "dimension of embedding used for clustering: 15\n",
      "Number of updates: "
     ]
    },
    {
     "name": "stdout",
     "output_type": "stream",
     "text": [
      "8\n",
      "Modularity: 0.3840360890929356\n",
      "Number of communities: 18\n",
      " -------------------------------------------- \n",
      "The first 5 squared singular values divided by N : \n",
      "[0.2196740307959983, 0.21281557314267888, 0.18121925692694524, 0.12823251842022443, 0.09924424505260442]\n",
      " -------------------------------------------- \n",
      "  0.490050 seconds (122.02 k allocations: 301.127 MiB, 7.83% gc time)\n",
      "\n",
      "  ~~~~~ number_rep = 3/3 ~~~~~\n",
      " ------- Acc Projected Power Iteration -------\n"
     ]
    },
    {
     "name": "stdout",
     "output_type": "stream",
     "text": [
      "The iteration has become stationary after 205 iterations\n",
      "  0.287759 seconds (5.44 k allocations: 214.167 MiB, 14.54% gc time)\n",
      " -------------- Clustering ------- \n",
      "dimension of embedding used for clustering: 15\n",
      "Number of updates: "
     ]
    },
    {
     "name": "stdout",
     "output_type": "stream",
     "text": [
      "6\n",
      "Modularity: 0.38514967596548977\n",
      "Number of communities: 18\n",
      " -------------------------------------------- \n",
      "The first 5 squared singular values divided by N : \n",
      "[0.21988818471491128, 0.2129882061270366, 0.18131411933475364, 0.12806293787714398, 0.09911342447056859]\n",
      " -------------------------------------------- \n",
      "  0.414312 seconds (107.30 k allocations: 281.659 MiB, 13.74% gc time)\n",
      "\n",
      "========== d0 step 3/19 ==========\n",
      "\n",
      "  ~~~~~ number_rep = 1/3 ~~~~~\n",
      " ------- Acc Projected Power Iteration -------\n"
     ]
    },
    {
     "name": "stdout",
     "output_type": "stream",
     "text": [
      "The iteration has become stationary after 146 iterations\n",
      "  0.315649 seconds (3.91 k allocations: 202.356 MiB, 7.51% gc time)\n",
      " -------------- Clustering ------- \n",
      "dimension of embedding used for clustering: 20\n",
      "Number of updates: "
     ]
    },
    {
     "name": "stdout",
     "output_type": "stream",
     "text": [
      "4\n",
      "Modularity: 0.3875700021290279\n",
      "Number of communities: 20\n",
      " -------------------------------------------- \n",
      "The first 5 squared singular values divided by N : \n",
      "[0.22034588833323895, 0.21272367819230714, 0.1812057252271146, 0.12868184280563114, 0.09762665749258603]\n",
      " -------------------------------------------- \n",
      "  0.419652 seconds (80.99 k allocations: 256.302 MiB, 9.04% gc time)\n",
      "\n",
      "  ~~~~~ number_rep = 2/3 ~~~~~\n",
      " ------- Acc Projected Power Iteration -------\n"
     ]
    },
    {
     "name": "stdout",
     "output_type": "stream",
     "text": [
      "The iteration has become stationary after 158 iterations\n",
      "  0.273412 seconds (4.22 k allocations: 219.070 MiB, 8.58% gc time)\n",
      " -------------- Clustering ------- \n",
      "dimension of embedding used for clustering: 20\n",
      "Number of updates: "
     ]
    },
    {
     "name": "stdout",
     "output_type": "stream",
     "text": [
      "4\n",
      "Modularity: 0.3872010483642303\n",
      "Number of communities: 20\n",
      " -------------------------------------------- \n",
      "The first 5 squared singular values divided by N : \n",
      "[0.22036513176735087, 0.2130228475160889, 0.1808525914500832, 0.12801711343424474, 0.09869566449213718]\n",
      " -------------------------------------------- \n",
      "  0.408945 seconds (89.56 k allocations: 278.614 MiB, 9.38% gc time)\n",
      "\n",
      "  ~~~~~ number_rep = 3/3 ~~~~~\n",
      " ------- Acc Projected Power Iteration -------\n"
     ]
    },
    {
     "name": "stdout",
     "output_type": "stream",
     "text": [
      "The iteration has become stationary after 152 iterations\n",
      "  0.275409 seconds (4.06 k allocations: 210.712 MiB, 9.07% gc time)\n",
      " -------------- Clustering ------- \n",
      "dimension of embedding used for clustering: 20\n",
      "Number of updates: 4\n",
      "Modularity: 0.38734707157584325\n",
      "Number of communities: 20\n",
      " -------------------------------------------- \n",
      "The first 5 squared singular values divided by N : \n",
      "[0.2200134490656233, 0.21317910602046866, 0.1810103294917761, 0.12781659995304454, 0.09907799014714624]\n",
      " -------------------------------------------- \n",
      "  0.374649 seconds (81.09 k allocations: 264.758 MiB, 10.21% gc time)\n"
     ]
    },
    {
     "name": "stdout",
     "output_type": "stream",
     "text": [
      "\n",
      "========== d0 step 4/19 ==========\n",
      "\n",
      "  ~~~~~ number_rep = 1/3 ~~~~~\n",
      " ------- Acc Projected Power Iteration -------\n"
     ]
    },
    {
     "name": "stdout",
     "output_type": "stream",
     "text": [
      "The iteration has become stationary after 155 iterations\n",
      "  0.343538 seconds (4.14 k allocations: 268.117 MiB, 10.46% gc time)\n",
      " -------------- Clustering ------- \n",
      "dimension of embedding used for clustering: 25\n",
      "Number of updates: "
     ]
    },
    {
     "name": "stdout",
     "output_type": "stream",
     "text": [
      "7\n",
      "Modularity: 0.38791423134763303\n",
      "Number of communities: 20\n",
      " -------------------------------------------- \n",
      "The first 5 squared singular values divided by N : \n",
      "[0.21989058444119222, 0.2123669092988516, 0.18122776038246838, 0.12810876123248885, 0.09858219935449349]\n",
      " -------------------------------------------- \n",
      "  0.524227 seconds (108.14 k allocations: 342.990 MiB, 9.92% gc time)\n",
      "\n",
      "  ~~~~~ number_rep = 2/3 ~~~~~\n",
      " ------- Acc Projected Power Iteration -------\n"
     ]
    },
    {
     "name": "stdout",
     "output_type": "stream",
     "text": [
      "The iteration has become stationary after 184 iterations\n",
      "  0.422484 seconds (4.89 k allocations: 318.525 MiB, 11.78% gc time)\n",
      " -------------- Clustering ------- \n",
      "dimension of embedding used for clustering: 25\n",
      "Number of updates: "
     ]
    },
    {
     "name": "stdout",
     "output_type": "stream",
     "text": [
      "3\n",
      "Modularity: 0.38676221379415\n",
      "Number of communities: 20\n",
      " -------------------------------------------- \n",
      "The first 5 squared singular values divided by N : \n",
      "[0.2194688177989181, 0.2128824348968621, 0.18062577858279516, 0.12779819528276654, 0.09924821512317135]\n",
      " -------------------------------------------- \n",
      "  0.540566 seconds (69.65 k allocations: 367.395 MiB, 9.20% gc time)\n",
      "\n",
      "  ~~~~~ number_rep = 3/3 ~~~~~\n",
      " ------- Acc Projected Power Iteration -------\n"
     ]
    },
    {
     "name": "stdout",
     "output_type": "stream",
     "text": [
      "The iteration has become stationary after 151 iterations\n",
      "  0.376186 seconds (4.04 k allocations: 261.167 MiB, 10.80% gc time)\n",
      " -------------- Clustering ------- \n",
      "dimension of embedding used for clustering: 25\n",
      "Number of updates: "
     ]
    },
    {
     "name": "stdout",
     "output_type": "stream",
     "text": [
      "5\n",
      "Modularity: 0.38547204392009027\n",
      "Number of communities: 19\n",
      " -------------------------------------------- \n",
      "The first 5 squared singular values divided by N : \n",
      "[0.22026090370675372, 0.2126669420510234, 0.18125661815474187, 0.1285628476004981, 0.09841439939062709]\n",
      " -------------------------------------------- \n",
      "  0.537256 seconds (110.10 k allocations: 337.322 MiB, 10.13% gc time)\n",
      "\n",
      "========== d0 step 5/19 ==========\n",
      "\n",
      "  ~~~~~ number_rep = 1/3 ~~~~~\n",
      " ------- Acc Projected Power Iteration -------\n"
     ]
    },
    {
     "name": "stdout",
     "output_type": "stream",
     "text": [
      "The iteration has become stationary after 180 iterations\n",
      "  0.540840 seconds (4.79 k allocations: 373.482 MiB, 12.27% gc time)\n",
      " -------------- Clustering ------- \n",
      "dimension of embedding used for clustering: 30\n",
      "Number of updates: "
     ]
    },
    {
     "name": "stdout",
     "output_type": "stream",
     "text": [
      "6\n",
      "Modularity: 0.3881834425729131\n",
      "Number of communities: 20\n",
      " -------------------------------------------- \n",
      "The first 5 squared singular values divided by N : \n",
      "[0.21988490193126276, 0.21280705728017618, 0.1803239945589401, 0.1278344835064416, 0.09944175031631554]\n",
      " -------------------------------------------- \n",
      "  0.860177 seconds (104.67 k allocations: 449.150 MiB, 7.72% gc time)\n",
      "\n",
      "  ~~~~~ number_rep = 2/3 ~~~~~\n",
      " ------- Acc Projected Power Iteration -------\n"
     ]
    },
    {
     "name": "stdout",
     "output_type": "stream",
     "text": [
      "The iteration has become stationary after 150 iterations\n",
      "  0.411876 seconds (4.01 k allocations: 310.976 MiB, 11.74% gc time)\n",
      " -------------- Clustering ------- \n",
      "dimension of embedding used for clustering: 30\n",
      "Number of updates: "
     ]
    },
    {
     "name": "stdout",
     "output_type": "stream",
     "text": [
      "6\n",
      "Modularity: 0.3879742390543347\n",
      "Number of communities: 20\n",
      " -------------------------------------------- \n",
      "The first 5 squared singular values divided by N : \n",
      "[0.22013922462496271, 0.21279412666429248, 0.1810582551197149, 0.12839530031398597, 0.09830792838020075]\n",
      " -------------------------------------------- \n",
      "  0.730784 seconds (105.97 k allocations: 388.118 MiB, 8.16% gc time)\n",
      "\n",
      "  ~~~~~ number_rep = 3/3 ~~~~~\n",
      " ------- Acc Projected Power Iteration -------\n"
     ]
    },
    {
     "name": "stdout",
     "output_type": "stream",
     "text": [
      "The iteration has become stationary after 184 iterations\n",
      "  0.486862 seconds (4.89 k allocations: 381.817 MiB, 9.18% gc time)\n",
      " -------------- Clustering ------- \n",
      "dimension of embedding used for clustering: 30\n",
      "Number of updates: "
     ]
    },
    {
     "name": "stdout",
     "output_type": "stream",
     "text": [
      "5\n",
      "Modularity: 0.38936520900133326\n",
      "Number of communities: 20\n",
      " -------------------------------------------- \n",
      "The first 5 squared singular values divided by N : \n",
      "[0.21955444271131322, 0.21278925902814505, 0.18105419925481775, 0.12809324624457524, 0.09902021548995031]\n",
      " -------------------------------------------- \n",
      "  0.653763 seconds (98.60 k allocations: 453.285 MiB, 8.56% gc time)\n",
      "\n",
      "========== d0 step 6/19 ==========\n",
      "\n",
      "  ~~~~~ number_rep = 1/3 ~~~~~\n",
      " ------- Acc Projected Power Iteration -------\n"
     ]
    },
    {
     "name": "stdout",
     "output_type": "stream",
     "text": [
      "The iteration has become stationary after 152 iterations\n",
      "  0.477094 seconds (4.06 k allocations: 367.444 MiB, 9.79% gc time)\n",
      " -------------- Clustering ------- \n",
      "dimension of embedding used for clustering: 35\n",
      "Number of updates: "
     ]
    },
    {
     "name": "stdout",
     "output_type": "stream",
     "text": [
      "5\n",
      "Modularity: 0.3880723639439155\n",
      "Number of communities: 20\n",
      " -------------------------------------------- \n",
      "The first 5 squared singular values divided by N : \n",
      "[0.22030797475427977, 0.21274525177256584, 0.18097623236488744, 0.12846002932989692, 0.098532944923964]\n",
      " -------------------------------------------- \n",
      "  0.676499 seconds (106.06 k allocations: 447.163 MiB, 8.46% gc time)\n",
      "\n",
      "  ~~~~~ number_rep = 2/3 ~~~~~\n",
      " ------- Acc Projected Power Iteration -------\n"
     ]
    },
    {
     "name": "stdout",
     "output_type": "stream",
     "text": [
      "The iteration has become stationary after 151 iterations\n",
      "  0.494429 seconds (4.04 k allocations: 365.014 MiB, 10.13% gc time)\n",
      " -------------- Clustering ------- \n",
      "dimension of embedding used for clustering: 35\n",
      "Number of updates: "
     ]
    },
    {
     "name": "stdout",
     "output_type": "stream",
     "text": [
      "6\n",
      "Modularity: 0.3878525976310465\n",
      "Number of communities: 20\n",
      " -------------------------------------------- \n",
      "The first 5 squared singular values divided by N : \n",
      "[0.22002407840250746, 0.2126633381473837, 0.18104224766472443, 0.1288562382724126, 0.09848678335655345]\n",
      " -------------------------------------------- \n",
      "  0.793105 seconds (145.30 k allocations: 472.682 MiB, 9.91% gc time)\n",
      "\n",
      "  ~~~~~ number_rep = 3/3 ~~~~~\n",
      " ------- Acc Projected Power Iteration -------\n"
     ]
    },
    {
     "name": "stdout",
     "output_type": "stream",
     "text": [
      "The iteration has become stationary after 118 iterations\n",
      "  0.502517 seconds (3.18 k allocations: 284.844 MiB, 7.45% gc time)\n",
      " -------------- Clustering ------- \n",
      "dimension of embedding used for clustering: 35\n",
      "Number of updates: "
     ]
    },
    {
     "name": "stdout",
     "output_type": "stream",
     "text": [
      "8\n",
      "Modularity: 0.38848390328379506\n",
      "Number of communities: 20\n",
      " -------------------------------------------- \n",
      "The first 5 squared singular values divided by N : \n",
      "[0.21982811654246867, 0.21262730773123706, 0.1813923320878485, 0.12786863469540757, 0.0997118576655436]\n",
      " -------------------------------------------- \n",
      "  0.816951 seconds (129.97 k allocations: 382.211 MiB, 6.60% gc time)\n",
      "\n",
      "========== d0 step 7/19 ==========\n",
      "\n",
      "  ~~~~~ number_rep = 1/3 ~~~~~\n",
      " ------- Acc Projected Power Iteration -------\n"
     ]
    },
    {
     "name": "stdout",
     "output_type": "stream",
     "text": [
      "The iteration has become stationary after 149 iterations\n",
      "  0.615417 seconds (3.98 k allocations: 411.464 MiB, 10.37% gc time)\n",
      " -------------- Clustering ------- \n",
      "dimension of embedding used for clustering: 40\n",
      "Number of updates: "
     ]
    },
    {
     "name": "stdout",
     "output_type": "stream",
     "text": [
      "5\n",
      "Modularity: 0.38892540885725957\n",
      "Number of communities: 20\n",
      " -------------------------------------------- \n",
      "The first 5 squared singular values divided by N : \n",
      "[0.22005721829692787, 0.21249637301025662, 0.18118751189688925, 0.1284463281434647, 0.09875373594889969]\n",
      " -------------------------------------------- \n",
      "  0.904748 seconds (114.27 k allocations: 500.289 MiB, 8.87% gc time)\n",
      "\n",
      "  ~~~~~ number_rep = 2/3 ~~~~~\n",
      " ------- Acc Projected Power Iteration -------\n"
     ]
    },
    {
     "name": "stdout",
     "output_type": "stream",
     "text": [
      "The iteration has become stationary after 200 iterations\n",
      "  0.801615 seconds (5.31 k allocations: 553.017 MiB, 8.39% gc time)\n",
      " -------------- Clustering ------- \n",
      "dimension of embedding used for clustering: 40\n",
      "Number of updates: "
     ]
    },
    {
     "name": "stdout",
     "output_type": "stream",
     "text": [
      "6\n",
      "Modularity: 0.38867132077790084\n",
      "Number of communities: 20\n",
      " -------------------------------------------- \n",
      "The first 5 squared singular values divided by N : \n",
      "[0.21989914108974354, 0.21292236704032402, 0.1808240766982023, 0.1280852797436951, 0.09906731213794408]\n",
      " -------------------------------------------- \n",
      "  1.058201 seconds (107.34 k allocations: 635.982 MiB, 7.56% gc time)\n",
      "\n",
      "  ~~~~~ number_rep = 3/3 ~~~~~\n",
      " ------- Acc Projected Power Iteration -------\n"
     ]
    },
    {
     "name": "stdout",
     "output_type": "stream",
     "text": [
      "The iteration has become stationary after 151 iterations\n",
      "  0.589754 seconds (4.04 k allocations: 417.015 MiB, 10.00% gc time)\n",
      " -------------- Clustering ------- \n",
      "dimension of embedding used for clustering: 40\n",
      "Number of updates: "
     ]
    },
    {
     "name": "stdout",
     "output_type": "stream",
     "text": [
      "5\n",
      "Modularity: 0.3873439616751895\n",
      "Number of communities: 22\n",
      " -------------------------------------------- \n",
      "The first 5 squared singular values divided by N : \n",
      "[0.2200373860204852, 0.21283013227470965, 0.18132268947321123, 0.1281868346856472, 0.09862716406513297]\n",
      " -------------------------------------------- \n",
      "  0.780902 seconds (93.66 k allocations: 490.952 MiB, 7.55% gc time)\n",
      "\n",
      "========== d0 step 8/19 ==========\n",
      "\n",
      "  ~~~~~ number_rep = 1/3 ~~~~~\n",
      " ------- Acc Projected Power Iteration -------\n"
     ]
    },
    {
     "name": "stdout",
     "output_type": "stream",
     "text": [
      "The iteration has become stationary after 152 iterations\n",
      "  0.832369 seconds (4.06 k allocations: 472.213 MiB, 9.66% gc time)\n",
      " -------------- Clustering ------- \n",
      "dimension of embedding used for clustering: 45\n",
      "Number of updates: "
     ]
    },
    {
     "name": "stdout",
     "output_type": "stream",
     "text": [
      "9\n",
      "Modularity: 0.3877256643606781\n",
      "Number of communities: 22\n",
      " -------------------------------------------- \n",
      "The first 5 squared singular values divided by N : \n",
      "[0.2203272629722407, 0.21241276731078476, 0.18097207279341052, 0.12801041019882295, 0.09859149577787721]\n",
      " -------------------------------------------- \n",
      "  1.189217 seconds (128.81 k allocations: 575.759 MiB, 8.12% gc time)\n",
      "\n",
      "  ~~~~~ number_rep = 2/3 ~~~~~\n",
      " ------- Acc Projected Power Iteration -------\n"
     ]
    },
    {
     "name": "stdout",
     "output_type": "stream",
     "text": [
      "The iteration has become stationary after 151 iterations\n",
      "  0.655818 seconds (4.04 k allocations: 469.091 MiB, 10.11% gc time)\n",
      " -------------- Clustering ------- \n",
      "dimension of embedding used for clustering: 45\n",
      "Number of updates: "
     ]
    },
    {
     "name": "stdout",
     "output_type": "stream",
     "text": [
      "6\n",
      "Modularity: 0.3883662119359341\n",
      "Number of communities: 21\n",
      " -------------------------------------------- \n",
      "The first 5 squared singular values divided by N : \n",
      "[0.21990925651248905, 0.2128447036599438, 0.18099519998404262, 0.1282692660551021, 0.09878432872756503]\n",
      " -------------------------------------------- \n",
      "  1.013989 seconds (132.92 k allocations: 575.783 MiB, 7.71% gc time)\n",
      "\n",
      "  ~~~~~ number_rep = 3/3 ~~~~~\n",
      " ------- Acc Projected Power Iteration -------\n"
     ]
    },
    {
     "name": "stdout",
     "output_type": "stream",
     "text": [
      "The iteration has become stationary after 153 iterations\n",
      "  0.672705 seconds (4.09 k allocations: 475.335 MiB, 11.60% gc time)\n",
      " -------------- Clustering ------- \n",
      "dimension of embedding used for clustering: 45\n",
      "Number of updates: "
     ]
    },
    {
     "name": "stdout",
     "output_type": "stream",
     "text": [
      "8\n",
      "Modularity: 0.3883009040222042\n",
      "Number of communities: 20\n",
      " -------------------------------------------- \n",
      "The first 5 squared singular values divided by N : \n",
      "[0.22004054481598356, 0.21273189668581183, 0.18113450023452352, 0.12798769781364555, 0.0985338224718033]\n",
      " -------------------------------------------- \n",
      "  1.023190 seconds (130.91 k allocations: 580.989 MiB, 9.29% gc time)\n",
      "\n",
      "========== d0 step 9/19 ==========\n",
      "\n",
      "  ~~~~~ number_rep = 1/3 ~~~~~\n",
      " ------- Acc Projected Power Iteration -------\n"
     ]
    },
    {
     "name": "stdout",
     "output_type": "stream",
     "text": [
      "The iteration has become stationary after 183 iterations\n",
      "  0.862873 seconds (5.05 k allocations: 632.218 MiB, 9.48% gc time)\n",
      " -------------- Clustering ------- \n",
      "dimension of embedding used for clustering: 50\n",
      "Number of updates: "
     ]
    },
    {
     "name": "stdout",
     "output_type": "stream",
     "text": [
      "8\n",
      "Modularity: 0.387616721698393\n",
      "Number of communities: 23\n",
      " -------------------------------------------- \n",
      "The first 5 squared singular values divided by N : \n",
      "[0.21954230138566921, 0.21282206678792515, 0.18068217681907792, 0.12823170040487594, 0.0990382145868374]\n",
      " -------------------------------------------- \n",
      "  1.280611 seconds (142.22 k allocations: 750.482 MiB, 7.65% gc time)\n",
      "\n",
      "  ~~~~~ number_rep = 2/3 ~~~~~\n",
      " ------- Acc Projected Power Iteration -------\n"
     ]
    },
    {
     "name": "stdout",
     "output_type": "stream",
     "text": [
      "The iteration has become stationary after 181 iterations\n",
      "  0.908897 seconds (5.00 k allocations: 625.280 MiB, 9.82% gc time)\n",
      " -------------- Clustering ------- \n",
      "dimension of embedding used for clustering: 50\n",
      "Number of updates: "
     ]
    },
    {
     "name": "stdout",
     "output_type": "stream",
     "text": [
      "7\n",
      "Modularity: 0.3879585014522358\n",
      "Number of communities: 23\n",
      " -------------------------------------------- \n",
      "The first 5 squared singular values divided by N : \n",
      "[0.2197085922534992, 0.21285196551399818, 0.1807285702586181, 0.12820055982241713, 0.09901150760056245]\n",
      " -------------------------------------------- \n",
      "  1.267598 seconds (123.58 k allocations: 729.021 MiB, 8.21% gc time)\n",
      "\n",
      "  ~~~~~ number_rep = 3/3 ~~~~~\n",
      " ------- Acc Projected Power Iteration -------\n"
     ]
    },
    {
     "name": "stdout",
     "output_type": "stream",
     "text": [
      "The iteration has become stationary after 148 iterations\n",
      "  0.716526 seconds (4.11 k allocations: 510.799 MiB, 10.48% gc time)\n",
      " -------------- Clustering ------- \n",
      "dimension of embedding used for clustering: 50\n",
      "Number of updates: "
     ]
    },
    {
     "name": "stdout",
     "output_type": "stream",
     "text": [
      "8\n",
      "Modularity: 0.3876005828187904\n",
      "Number of communities: 24\n",
      " -------------------------------------------- \n",
      "The first 5 squared singular values divided by N : \n",
      "[0.22043820331194686, 0.21282376004972992, 0.18115662359582563, 0.1282338351178226, 0.09864403781112098]\n",
      " -------------------------------------------- \n",
      "  1.180383 seconds (137.15 k allocations: 625.710 MiB, 7.90% gc time)\n",
      "\n",
      "========== d0 step 10/19 ==========\n",
      "\n",
      "  ~~~~~ number_rep = 1/3 ~~~~~\n",
      " ------- Acc Projected Power Iteration -------\n"
     ]
    },
    {
     "name": "stdout",
     "output_type": "stream",
     "text": [
      "The iteration has become stationary after 200 iterations\n",
      "  1.259551 seconds (5.51 k allocations: 760.402 MiB, 7.54% gc time)\n",
      " -------------- Clustering ------- \n",
      "dimension of embedding used for clustering: 55\n",
      "Number of updates: "
     ]
    },
    {
     "name": "stdout",
     "output_type": "stream",
     "text": [
      "8\n",
      "Modularity: 0.3850044385889883\n",
      "Number of communities: 26\n",
      " -------------------------------------------- \n",
      "The first 5 squared singular values divided by N : \n",
      "[0.22016521026117014, 0.21295495240997572, 0.18099848278568426, 0.12803417171177506, 0.09916082078461372]\n",
      " -------------------------------------------- \n",
      "  1.723389 seconds (138.62 k allocations: 881.111 MiB, 6.13% gc time)\n",
      "\n",
      "  ~~~~~ number_rep = 2/3 ~~~~~\n",
      " ------- Acc Projected Power Iteration -------\n"
     ]
    },
    {
     "name": "stdout",
     "output_type": "stream",
     "text": [
      "The iteration has become stationary after 150 iterations\n",
      "  0.777600 seconds (4.16 k allocations: 569.575 MiB, 8.91% gc time)\n",
      " -------------- Clustering ------- \n",
      "dimension of embedding used for clustering: 55\n",
      "Number of updates: "
     ]
    },
    {
     "name": "stdout",
     "output_type": "stream",
     "text": [
      "8\n",
      "Modularity: 0.38570117755468664\n",
      "Number of communities: 28\n",
      " -------------------------------------------- \n",
      "The first 5 squared singular values divided by N : \n",
      "[0.2201115620452668, 0.212802279417519, 0.18104306621199764, 0.12838285975172212, 0.09835203977312236]\n",
      " -------------------------------------------- \n",
      "  1.244154 seconds (131.05 k allocations: 684.921 MiB, 8.63% gc time)\n",
      "\n",
      "  ~~~~~ number_rep = 3/3 ~~~~~\n",
      " ------- Acc Projected Power Iteration -------\n"
     ]
    },
    {
     "name": "stdout",
     "output_type": "stream",
     "text": [
      "The iteration has become stationary after 153 iterations\n",
      "  0.779221 seconds (4.24 k allocations: 581.024 MiB, 9.24% gc time)\n",
      " -------------- Clustering ------- \n",
      "dimension of embedding used for clustering: 55\n",
      "Number of updates: "
     ]
    },
    {
     "name": "stdout",
     "output_type": "stream",
     "text": [
      "7\n",
      "Modularity: 0.38797291400257766\n",
      "Number of communities: 23\n",
      " -------------------------------------------- \n",
      "The first 5 squared singular values divided by N : \n",
      "[0.2201528892837539, 0.21270133472164446, 0.18131576668461796, 0.128410510886551, 0.0984398365669956]\n",
      " -------------------------------------------- \n",
      "  1.213638 seconds (133.21 k allocations: 697.854 MiB, 6.99% gc time)\n",
      "\n",
      "========== d0 step 11/19 ==========\n",
      "\n",
      "  ~~~~~ number_rep = 1/3 ~~~~~\n",
      " ------- Acc Projected Power Iteration -------\n"
     ]
    },
    {
     "name": "stdout",
     "output_type": "stream",
     "text": [
      "The iteration has become stationary after 152 iterations\n",
      "  0.897598 seconds (4.21 k allocations: 629.786 MiB, 10.16% gc time)\n",
      " -------------- Clustering ------- \n",
      "dimension of embedding used for clustering: 60\n",
      "Number of updates: "
     ]
    },
    {
     "name": "stdout",
     "output_type": "stream",
     "text": [
      "7\n",
      "Modularity: 0.38615358450033543\n",
      "Number of communities: 26\n",
      " -------------------------------------------- \n",
      "The first 5 squared singular values divided by N : \n",
      "[0.2200639274087481, 0.21267775660850774, 0.18119014195011468, 0.12841024153667602, 0.09869423131780189]\n",
      " -------------------------------------------- \n",
      "  1.416016 seconds (129.08 k allocations: 746.510 MiB, 7.40% gc time)\n",
      "\n",
      "  ~~~~~ number_rep = 2/3 ~~~~~\n",
      " ------- Acc Projected Power Iteration -------\n"
     ]
    },
    {
     "name": "stdout",
     "output_type": "stream",
     "text": [
      "The iteration has become stationary after 152 iterations\n",
      "  0.853860 seconds (4.21 k allocations: 629.785 MiB, 10.17% gc time)\n",
      " -------------- Clustering ------- \n",
      "dimension of embedding used for clustering: 60\n",
      "Number of updates: "
     ]
    },
    {
     "name": "stdout",
     "output_type": "stream",
     "text": [
      "7\n",
      "Modularity: 0.3852628822012519\n",
      "Number of communities: 27\n",
      " -------------------------------------------- \n",
      "The first 5 squared singular values divided by N : \n",
      "[0.22003084391562583, 0.21284589515491784, 0.18109511423333477, 0.12839079935205633, 0.09830794960478209]\n",
      " -------------------------------------------- \n",
      "  1.400747 seconds (133.22 k allocations: 750.435 MiB, 7.04% gc time)\n",
      "\n",
      "  ~~~~~ number_rep = 3/3 ~~~~~\n",
      " ------- Acc Projected Power Iteration -------\n"
     ]
    },
    {
     "name": "stdout",
     "output_type": "stream",
     "text": [
      "The iteration has become stationary after 152 iterations\n",
      "  0.878598 seconds (4.21 k allocations: 629.785 MiB, 10.31% gc time)\n",
      " -------------- Clustering ------- \n",
      "dimension of embedding used for clustering: 60\n",
      "Number of updates: "
     ]
    },
    {
     "name": "stdout",
     "output_type": "stream",
     "text": [
      "7\n",
      "Modularity: 0.38439449260336467\n",
      "Number of communities: 30\n",
      " -------------------------------------------- \n",
      "The first 5 squared singular values divided by N : \n",
      "[0.2198904724681499, 0.21255064116146993, 0.18120994906477103, 0.12843008389567956, 0.09861947271001131]\n",
      " -------------------------------------------- \n",
      "  1.314650 seconds (118.75 k allocations: 737.774 MiB, 7.94% gc time)\n",
      "\n",
      "========== d0 step 12/19 ==========\n",
      "\n",
      "  ~~~~~ number_rep = 1/3 ~~~~~\n",
      " ------- Acc Projected Power Iteration -------\n"
     ]
    },
    {
     "name": "stdout",
     "output_type": "stream",
     "text": [
      "The iteration has become stationary after 149 iterations\n",
      "  1.047801 seconds (4.13 k allocations: 668.901 MiB, 9.23% gc time)\n",
      " -------------- Clustering ------- \n",
      "dimension of embedding used for clustering: 65\n",
      "Number of updates: "
     ]
    },
    {
     "name": "stdout",
     "output_type": "stream",
     "text": [
      "9\n",
      "Modularity: 0.38606008266199543\n",
      "Number of communities: 25\n",
      " -------------------------------------------- \n",
      "The first 5 squared singular values divided by N : \n",
      "[0.22037199065686838, 0.21272702952383005, 0.18096436054051093, 0.12819994586702127, 0.0987287158238688]\n",
      " -------------------------------------------- \n",
      "  1.812237 seconds (157.95 k allocations: 815.309 MiB, 7.11% gc time)\n",
      "\n",
      "  ~~~~~ number_rep = 2/3 ~~~~~\n",
      " ------- Acc Projected Power Iteration -------\n"
     ]
    },
    {
     "name": "stdout",
     "output_type": "stream",
     "text": [
      "The iteration has become stationary after 149 iterations\n",
      "  0.959769 seconds (4.13 k allocations: 668.901 MiB, 9.60% gc time)\n",
      " -------------- Clustering ------- \n",
      "dimension of embedding used for clustering: 65\n",
      "Number of updates: "
     ]
    },
    {
     "name": "stdout",
     "output_type": "stream",
     "text": [
      "8\n",
      "Modularity: 0.38438175204262165\n",
      "Number of communities: 31\n",
      " -------------------------------------------- \n",
      "The first 5 squared singular values divided by N : \n",
      "[0.22033315247311766, 0.21274819885379956, 0.1809502335363963, 0.12816911895520994, 0.09875432786387964]\n",
      " -------------------------------------------- \n",
      "  1.449832 seconds (124.93 k allocations: 786.569 MiB, 7.44% gc time)\n",
      "\n",
      "  ~~~~~ number_rep = 3/3 ~~~~~\n",
      " ------- Acc Projected Power Iteration -------\n"
     ]
    },
    {
     "name": "stdout",
     "output_type": "stream",
     "text": [
      "The iteration has become stationary after 150 iterations\n",
      "  0.908514 seconds (4.16 k allocations: 673.413 MiB, 9.50% gc time)\n",
      " -------------- Clustering ------- \n",
      "dimension of embedding used for clustering: 65\n",
      "Number of updates: "
     ]
    },
    {
     "name": "stdout",
     "output_type": "stream",
     "text": [
      "11\n",
      "Modularity: 0.38580988613842787\n",
      "Number of communities: 27\n",
      " -------------------------------------------- \n",
      "The first 5 squared singular values divided by N : \n",
      "[0.22020381245847206, 0.2127116240642076, 0.18079273476825797, 0.12827358502762717, 0.0985689340879488]\n",
      " -------------------------------------------- \n",
      "  1.478662 seconds (137.31 k allocations: 801.646 MiB, 6.73% gc time)\n",
      "\n",
      "========== d0 step 13/19 ==========\n",
      "\n",
      "  ~~~~~ number_rep = 1/3 ~~~~~\n",
      " ------- Acc Projected Power Iteration -------\n"
     ]
    },
    {
     "name": "stdout",
     "output_type": "stream",
     "text": [
      "The iteration has become stationary after 150 iterations\n",
      "  1.015478 seconds (4.16 k allocations: 725.415 MiB, 10.85% gc time)\n",
      " -------------- Clustering ------- \n",
      "dimension of embedding used for clustering: 70\n",
      "Number of updates: "
     ]
    },
    {
     "name": "stdout",
     "output_type": "stream",
     "text": [
      "8\n",
      "Modularity: 0.38330887811679865\n",
      "Number of communities: 31\n",
      " -------------------------------------------- \n",
      "The first 5 squared singular values divided by N : \n",
      "[0.22012635468523756, 0.21291476889428398, 0.18093576857547328, 0.12833345594109868, 0.0985501821128049]\n",
      " -------------------------------------------- \n",
      "  1.664498 seconds (131.23 k allocations: 853.699 MiB, 7.51% gc time)\n",
      "\n",
      "  ~~~~~ number_rep = 2/3 ~~~~~\n",
      " ------- Acc Projected Power Iteration -------\n"
     ]
    },
    {
     "name": "stdout",
     "output_type": "stream",
     "text": [
      "The iteration has become stationary after 150 iterations\n",
      "  1.563527 seconds (4.16 k allocations: 725.415 MiB, 7.77% gc time)\n",
      " -------------- Clustering ------- \n",
      "dimension of embedding used for clustering: 70\n",
      "Number of updates: "
     ]
    },
    {
     "name": "stdout",
     "output_type": "stream",
     "text": [
      "8\n",
      "Modularity: 0.38546382191123807\n",
      "Number of communities: 28\n",
      " -------------------------------------------- \n",
      "The first 5 squared singular values divided by N : \n",
      "[0.22026471749728804, 0.21288365009417382, 0.18086273744393155, 0.12836601620893714, 0.09840385048270568]\n",
      " -------------------------------------------- \n",
      "  2.568741 seconds (137.37 k allocations: 858.258 MiB, 5.83% gc time)\n",
      "\n",
      "  ~~~~~ number_rep = 3/3 ~~~~~\n",
      " ------- Acc Projected Power Iteration -------\n"
     ]
    },
    {
     "name": "stdout",
     "output_type": "stream",
     "text": [
      "The iteration has become stationary after 152 iterations\n",
      "  1.446212 seconds (4.21 k allocations: 735.138 MiB, 9.62% gc time)\n",
      " -------------- Clustering ------- \n",
      "dimension of embedding used for clustering: 70\n",
      "Number of updates: "
     ]
    },
    {
     "name": "stdout",
     "output_type": "stream",
     "text": [
      "8\n",
      "Modularity: 0.3855305008564391\n",
      "Number of communities: 29\n",
      " -------------------------------------------- \n",
      "The first 5 squared singular values divided by N : \n",
      "[0.22018512797482084, 0.212681923064852, 0.18089758462701724, 0.1283465046708307, 0.09867719885412563]\n",
      " -------------------------------------------- \n",
      "  2.176137 seconds (137.46 k allocations: 868.547 MiB, 7.35% gc time)\n",
      "\n",
      "========== d0 step 14/19 ==========\n",
      "\n",
      "  ~~~~~ number_rep = 1/3 ~~~~~\n",
      " ------- Acc Projected Power Iteration -------\n"
     ]
    },
    {
     "name": "stdout",
     "output_type": "stream",
     "text": [
      "The iteration has become stationary after 150 iterations\n",
      "  1.343991 seconds (4.16 k allocations: 777.483 MiB, 9.50% gc time)\n",
      " -------------- Clustering ------- \n",
      "dimension of embedding used for clustering: 75\n",
      "Number of updates: "
     ]
    },
    {
     "name": "stdout",
     "output_type": "stream",
     "text": [
      "8\n",
      "Modularity: 0.38271357040011267\n",
      "Number of communities: 31\n",
      " -------------------------------------------- \n",
      "The first 5 squared singular values divided by N : \n",
      "[0.2201314608052114, 0.21282147150886105, 0.1809302274147152, 0.1281805911717127, 0.09874125081417773]\n",
      " -------------------------------------------- \n",
      "  2.244111 seconds (151.91 k allocations: 930.040 MiB, 6.48% gc time)\n",
      "\n",
      "  ~~~~~ number_rep = 2/3 ~~~~~\n",
      " ------- Acc Projected Power Iteration -------\n"
     ]
    },
    {
     "name": "stdout",
     "output_type": "stream",
     "text": [
      "The iteration has become stationary after 151 iterations\n",
      "  2.751863 seconds (4.18 k allocations: 782.693 MiB, 7.81% gc time)\n",
      " -------------- Clustering ------- \n",
      "dimension of embedding used for clustering: 75\n",
      "Number of updates: "
     ]
    },
    {
     "name": "stdout",
     "output_type": "stream",
     "text": [
      "7\n",
      "Modularity: 0.383105764820334\n",
      "Number of communities: 29\n",
      " -------------------------------------------- \n",
      "The first 5 squared singular values divided by N : \n",
      "[0.22012270105578546, 0.21279392962684446, 0.18114623456609433, 0.1284198296961219, 0.09846949887334856]\n",
      " -------------------------------------------- \n",
      "  4.161137 seconds (143.67 k allocations: 927.426 MiB, 6.79% gc time)\n",
      "\n",
      "  ~~~~~ number_rep = 3/3 ~~~~~\n",
      " ------- Acc Projected Power Iteration -------\n"
     ]
    },
    {
     "name": "stdout",
     "output_type": "stream",
     "text": [
      "The iteration has become stationary after 151 iterations\n",
      "  3.136749 seconds (4.18 k allocations: 782.693 MiB, 10.15% gc time)\n",
      " -------------- Clustering ------- \n",
      "dimension of embedding used for clustering: 75\n",
      "Number of updates: "
     ]
    },
    {
     "name": "stdout",
     "output_type": "stream",
     "text": [
      "9\n",
      "Modularity: 0.38343676860121245\n",
      "Number of communities: 30\n",
      " -------------------------------------------- \n",
      "The first 5 squared singular values divided by N : \n",
      "[0.2200203584773573, 0.21269510786262566, 0.1809502930163796, 0.12815150867153477, 0.09887932083680276]\n",
      " -------------------------------------------- \n",
      "  6.863759 seconds (143.71 k allocations: 927.839 MiB, 6.29% gc time)\n",
      "\n",
      "========== d0 step 15/19 ==========\n",
      "\n",
      "  ~~~~~ number_rep = 1/3 ~~~~~\n",
      " ------- Acc Projected Power Iteration -------\n"
     ]
    },
    {
     "name": "stdout",
     "output_type": "stream",
     "text": [
      "The iteration has become stationary after 151 iterations\n",
      "  5.037469 seconds (4.19 k allocations: 835.148 MiB, 6.47% gc time)\n",
      " -------------- Clustering ------- \n",
      "dimension of embedding used for clustering: 80\n",
      "Number of updates: "
     ]
    },
    {
     "name": "stdout",
     "output_type": "stream",
     "text": [
      "9\n",
      "Modularity: 0.3813084721410042\n",
      "Number of communities: 31\n",
      " -------------------------------------------- \n",
      "The first 5 squared singular values divided by N : \n",
      "[0.22012181575352296, 0.21270929361993182, 0.18099679596383914, 0.12844812603556546, 0.09842353370040499]\n",
      " -------------------------------------------- \n",
      "  7.462928 seconds (139.62 k allocations: 978.093 MiB, 5.45% gc time)\n",
      "\n",
      "  ~~~~~ number_rep = 2/3 ~~~~~\n",
      " ------- Acc Projected Power Iteration -------\n"
     ]
    },
    {
     "name": "stdout",
     "output_type": "stream",
     "text": [
      "The iteration has become stationary after 151 iterations\n",
      "  1.733630 seconds (4.18 k allocations: 835.147 MiB, 7.59% gc time)\n",
      " -------------- Clustering ------- \n",
      "dimension of embedding used for clustering: 80\n",
      "Number of updates: "
     ]
    },
    {
     "name": "stdout",
     "output_type": "stream",
     "text": [
      "10\n",
      "Modularity: 0.384277804449263\n",
      "Number of communities: 31\n",
      " -------------------------------------------- \n",
      "The first 5 squared singular values divided by N : \n",
      "[0.22010695063221236, 0.2126144588017625, 0.18100912941203096, 0.12833468960169775, 0.0986879427486446]\n",
      " -------------------------------------------- \n",
      "  2.788399 seconds (156.14 k allocations: 993.751 MiB, 6.19% gc time)\n",
      "\n",
      "  ~~~~~ number_rep = 3/3 ~~~~~\n",
      " ------- Acc Projected Power Iteration -------\n"
     ]
    },
    {
     "name": "stdout",
     "output_type": "stream",
     "text": [
      "The iteration has become stationary after 152 iterations\n",
      "  1.778582 seconds (4.21 k allocations: 840.706 MiB, 9.36% gc time)\n",
      " -------------- Clustering ------- \n",
      "dimension of embedding used for clustering: 80\n",
      "Number of updates: "
     ]
    },
    {
     "name": "stdout",
     "output_type": "stream",
     "text": [
      "10\n",
      "Modularity: 0.3838040503764113\n",
      "Number of communities: 34\n",
      " -------------------------------------------- \n",
      "The first 5 squared singular values divided by N : \n",
      "[0.2198467822801203, 0.21272325890075158, 0.18128156756443375, 0.1283637456756744, 0.09846756169013099]\n",
      " -------------------------------------------- \n",
      "  2.634025 seconds (162.39 k allocations: 1005.354 MiB, 7.10% gc time)\n",
      "\n",
      "========== d0 step 16/19 ==========\n",
      "\n",
      "  ~~~~~ number_rep = 1/3 ~~~~~\n",
      " ------- Acc Projected Power Iteration -------\n"
     ]
    },
    {
     "name": "stdout",
     "output_type": "stream",
     "text": [
      "The iteration has become stationary after 152 iterations\n",
      "  1.558836 seconds (4.21 k allocations: 893.594 MiB, 10.65% gc time)\n",
      " -------------- Clustering ------- \n",
      "dimension of embedding used for clustering: 85\n",
      "Number of updates: "
     ]
    },
    {
     "name": "stdout",
     "output_type": "stream",
     "text": [
      "7\n",
      "Modularity: 0.37494942335962916\n",
      "Number of communities: 38\n",
      " -------------------------------------------- \n",
      "The first 5 squared singular values divided by N : \n",
      "[0.2202237427324588, 0.21256638577717507, 0.18120401086651142, 0.12816878654148223, 0.09847311956182651]\n",
      " -------------------------------------------- \n",
      "  2.232102 seconds (123.19 k allocations: 1.003 GiB, 8.09% gc time)\n",
      "\n",
      "  ~~~~~ number_rep = 2/3 ~~~~~\n",
      " ------- Acc Projected Power Iteration -------\n"
     ]
    },
    {
     "name": "stdout",
     "output_type": "stream",
     "text": [
      "The iteration has become stationary after 149 iterations\n",
      "  1.318233 seconds (4.13 k allocations: 875.868 MiB, 10.24% gc time)\n",
      " -------------- Clustering ------- \n",
      "dimension of embedding used for clustering: 85\n",
      "Number of updates: "
     ]
    },
    {
     "name": "stdout",
     "output_type": "stream",
     "text": [
      "8\n",
      "Modularity: 0.3838949773507691\n",
      "Number of communities: 30\n",
      " -------------------------------------------- \n",
      "The first 5 squared singular values divided by N : \n",
      "[0.2201654848121085, 0.21274669837763724, 0.1812662359916643, 0.12832212172441054, 0.09844020619779609]\n",
      " -------------------------------------------- \n",
      "  2.194436 seconds (154.17 k allocations: 1.017 GiB, 7.98% gc time)\n",
      "\n",
      "  ~~~~~ number_rep = 3/3 ~~~~~\n",
      " ------- Acc Projected Power Iteration -------\n"
     ]
    },
    {
     "name": "stdout",
     "output_type": "stream",
     "text": [
      "The iteration has become stationary after 149 iterations\n",
      "  1.366462 seconds (4.13 k allocations: 875.867 MiB, 8.86% gc time)\n",
      " -------------- Clustering ------- \n",
      "dimension of embedding used for clustering: 85\n",
      "Number of updates: "
     ]
    },
    {
     "name": "stdout",
     "output_type": "stream",
     "text": [
      "9\n",
      "Modularity: 0.3757182376169587\n",
      "Number of communities: 38\n",
      " -------------------------------------------- \n",
      "The first 5 squared singular values divided by N : \n",
      "[0.22017474596768172, 0.21261562618885416, 0.18107549119048527, 0.12836227364009067, 0.09858080187383007]\n",
      " -------------------------------------------- \n",
      "  2.235889 seconds (152.06 k allocations: 1.014 GiB, 6.18% gc time)\n",
      "\n",
      "========== d0 step 17/19 ==========\n",
      "\n",
      "  ~~~~~ number_rep = 1/3 ~~~~~\n",
      " ------- Acc Projected Power Iteration -------\n"
     ]
    },
    {
     "name": "stdout",
     "output_type": "stream",
     "text": [
      "The iteration has become stationary after 151 iterations\n",
      "  1.362693 seconds (4.18 k allocations: 940.258 MiB, 8.66% gc time)\n",
      " -------------- Clustering ------- \n",
      "dimension of embedding used for clustering: 90\n",
      "Number of updates: "
     ]
    },
    {
     "name": "stdout",
     "output_type": "stream",
     "text": [
      "12\n",
      "Modularity: 0.3794459885872164\n",
      "Number of communities: 35\n",
      " -------------------------------------------- \n",
      "The first 5 squared singular values divided by N : \n",
      "[0.22011583241601473, 0.2126761189591319, 0.1810557923861784, 0.1283406532310257, 0.09855331185601232]\n",
      " -------------------------------------------- \n",
      "  2.707045 seconds (187.34 k allocations: 1.114 GiB, 6.96% gc time)\n",
      "\n",
      "  ~~~~~ number_rep = 2/3 ~~~~~\n",
      " ------- Acc Projected Power Iteration -------\n"
     ]
    },
    {
     "name": "stdout",
     "output_type": "stream",
     "text": [
      "The iteration has become stationary after 150 iterations\n",
      "  1.525259 seconds (4.16 k allocations: 933.999 MiB, 10.89% gc time)\n",
      " -------------- Clustering ------- \n",
      "dimension of embedding used for clustering: 90\n",
      "Number of updates: "
     ]
    },
    {
     "name": "stdout",
     "output_type": "stream",
     "text": [
      "9\n",
      "Modularity: 0.383797379137912\n",
      "Number of communities: 36\n",
      " -------------------------------------------- \n",
      "The first 5 squared singular values divided by N : \n",
      "[0.22028869768957854, 0.2127411164871542, 0.18095459387473178, 0.12817909966557545, 0.09849636883172998]\n",
      " -------------------------------------------- \n",
      "  2.441346 seconds (152.18 k allocations: 1.074 GiB, 8.39% gc time)\n",
      "\n",
      "  ~~~~~ number_rep = 3/3 ~~~~~\n",
      " ------- Acc Projected Power Iteration -------\n"
     ]
    },
    {
     "name": "stdout",
     "output_type": "stream",
     "text": [
      "The iteration has become stationary after 150 iterations\n",
      "  1.430526 seconds (4.16 k allocations: 934.000 MiB, 9.80% gc time)\n",
      " -------------- Clustering ------- \n",
      "dimension of embedding used for clustering: 90\n",
      "Number of updates: "
     ]
    },
    {
     "name": "stdout",
     "output_type": "stream",
     "text": [
      "10\n",
      "Modularity: 0.3777341847360742\n",
      "Number of communities: 38\n",
      " -------------------------------------------- \n",
      "The first 5 squared singular values divided by N : \n",
      "[0.22025045955393788, 0.21285237411959776, 0.18103523425566423, 0.12840938195936055, 0.09839585269695524]\n",
      " -------------------------------------------- \n",
      "  2.533304 seconds (162.46 k allocations: 1.083 GiB, 6.73% gc time)\n",
      "\n",
      "========== d0 step 18/19 ==========\n",
      "\n",
      "  ~~~~~ number_rep = 1/3 ~~~~~\n",
      " ------- Acc Projected Power Iteration -------\n"
     ]
    },
    {
     "name": "stdout",
     "output_type": "stream",
     "text": [
      "The iteration has become stationary after 150 iterations\n",
      "  2.526261 seconds (4.16 k allocations: 986.297 MiB, 6.56% gc time)\n"
     ]
    },
    {
     "name": "stdout",
     "output_type": "stream",
     "text": [
      " -------------- Clustering ------- \n",
      "dimension of embedding used for clustering: 95\n",
      "Number of updates: "
     ]
    },
    {
     "name": "stdout",
     "output_type": "stream",
     "text": [
      "9\n",
      "Modularity: 0.37492556406805405\n",
      "Number of communities: 36\n",
      " -------------------------------------------- \n",
      "The first 5 squared singular values divided by N : \n",
      "[0.22009613125132943, 0.21283644576061966,"
     ]
    },
    {
     "name": "stdout",
     "output_type": "stream",
     "text": [
      " 0.18105562046721932, 0.12836353538900255, 0.09865115715829671]\n",
      " -------------------------------------------- \n",
      "  5.660914 seconds (162.68 k allocations: 1.142 GiB, 4.08% gc time)\n",
      "\n",
      "  ~~~~~ number_rep = 2/3 ~~~~~\n",
      " ------- Acc Projected Power Iteration -------\n"
     ]
    },
    {
     "name": "stdout",
     "output_type": "stream",
     "text": [
      "The iteration has become stationary after 149 iterations\n",
      "  5.513544 seconds (4.13 k allocations: 979.686 MiB, 10.91% gc time)\n",
      " -------------- Clustering ------- \n",
      "dimension of embedding used for clustering: 95\n",
      "Number of updates: "
     ]
    },
    {
     "name": "stdout",
     "output_type": "stream",
     "text": [
      "9\n",
      "Modularity: 0.3757231365464832\n",
      "Number of communities: 39\n",
      " -------------------------------------------- \n",
      "The first 5 squared singular values divided by N : \n",
      "[0.22002594075445542, 0.21260897960947947, 0.18116116911292848, 0.12826203070326894, 0.09867537350808751]\n",
      " -------------------------------------------- \n",
      "  7.427326 seconds (154.35 k allocations: 1.128 GiB, 9.08% gc time)\n",
      "\n",
      "  ~~~~~ number_rep = 3/3 ~~~~~\n",
      " ------- Acc Projected Power Iteration -------\n"
     ]
    },
    {
     "name": "stdout",
     "output_type": "stream",
     "text": [
      "The iteration has become stationary after 151 iterations\n",
      "  1.989428 seconds (4.18 k allocations: 992.906 MiB, 9.53% gc time)\n",
      " -------------- Clustering ------- \n",
      "dimension of embedding used for clustering: 95\n",
      "Number of updates: "
     ]
    },
    {
     "name": "stdout",
     "output_type": "stream",
     "text": [
      "10\n",
      "Modularity: 0.3797080687768575\n",
      "Number of communities: 37\n",
      " -------------------------------------------- \n",
      "The first 5 squared singular values divided by N : \n",
      "[0.22014778594032083, 0.2128669001906023, 0.1809238239503157, 0.1281717668296396, 0.09855074706719577]\n",
      " -------------------------------------------- \n",
      "  3.733270 seconds (170.96 k allocations: 1.158 GiB, 7.50% gc time)\n",
      "\n",
      "========== d0 step 19/19 ==========\n",
      "\n",
      "  ~~~~~ number_rep = 1/3 ~~~~~\n",
      " ------- Acc Projected Power Iteration -------\n"
     ]
    },
    {
     "name": "stdout",
     "output_type": "stream",
     "text": [
      "The iteration has become stationary after 149 iterations\n",
      "  2.366339 seconds (4.13 k allocations: 1.007 GiB, 7.29% gc time)\n",
      " -------------- Clustering ------- \n",
      "dimension of embedding used for clustering: 100\n",
      "Number of updates: "
     ]
    },
    {
     "name": "stdout",
     "output_type": "stream",
     "text": [
      "11\n",
      "Modularity: 0.37529810425054116\n",
      "Number of communities: 41\n",
      " -------------------------------------------- \n",
      "The first 5 squared singular values divided by N : \n",
      "[0.2201940724683534, 0.21279862578556108, 0.18087973508692762, 0.1284344936416348, 0.09854216622316059]\n",
      " -------------------------------------------- \n",
      "  4.206516 seconds (158.50 k allocations: 1.185 GiB, 5.51% gc time)\n",
      "\n",
      "  ~~~~~ number_rep = 2/3 ~~~~~\n",
      " ------- Acc Projected Power Iteration -------\n"
     ]
    },
    {
     "name": "stdout",
     "output_type": "stream",
     "text": [
      "The iteration has become stationary after 150 iterations\n",
      "  2.297347 seconds (4.16 k allocations: 1.014 GiB, 7.98% gc time)\n",
      " -------------- Clustering ------- \n",
      "dimension of embedding used for clustering: 100\n",
      "Number of updates: "
     ]
    },
    {
     "name": "stdout",
     "output_type": "stream",
     "text": [
      "8\n",
      "Modularity: 0.3769809617817537\n",
      "Number of communities: 41\n",
      " -------------------------------------------- \n",
      "The first 5 squared singular values divided by N : \n",
      "[0.2201475461258616, 0.21270184255219235, 0.18092577332149679, 0.12837269860387107, 0.09850884272582947]\n",
      " -------------------------------------------- \n",
      "  4.144650 seconds (175.11 k allocations: 1.209 GiB, 5.57% gc time)\n",
      "\n",
      "  ~~~~~ number_rep = 3/3 ~~~~~\n",
      " ------- Acc Projected Power Iteration -------\n"
     ]
    },
    {
     "name": "stdout",
     "output_type": "stream",
     "text": [
      "The iteration has become stationary after 151 iterations\n",
      "  2.206771 seconds (4.18 k allocations: 1.021 GiB, 7.76% gc time)\n",
      " -------------- Clustering ------- \n",
      "dimension of embedding used for clustering: 100\n",
      "Number of updates: "
     ]
    },
    {
     "name": "stdout",
     "output_type": "stream",
     "text": [
      "11\n",
      "Modularity: 0.38118846926752287\n",
      "Number of communities: 43\n",
      " -------------------------------------------- \n",
      "The first 5 squared singular values divided by N : \n",
      "[0.22017253303057222, 0.21268136404289023, 0.18102099705931318, 0.12816511643381417, 0.09879700223366875]\n",
      " -------------------------------------------- \n",
      "  3.678585 seconds (177.25 k allocations: 1.217 GiB, 5.78% gc time)\n"
     ]
    }
   ],
   "source": [
    "g = 4\n",
    "\n",
    "# Set parameters of simulations\n",
    "n_clusters = 100\n",
    "d0s = 10:5:100\n",
    "\n",
    "n_updates = 100 # max total by default\n",
    "shape = \"Ellipsoidal\" #shape = \"Spherical\"\n",
    "\n",
    "n_rep = 3\n",
    "NMIs=zeros(Float64,length(d0s),n_rep)\n",
    "\n",
    "# load communities\n",
    "community_true = readdlm(path*\"communities\"*string(g-1)*\".txt\",Int)\n",
    "\n",
    "# load graph\n",
    "edgeList = readdlm(path*\"edgeList\"*string(g-1)*\".txt\",Int)\n",
    "\n",
    "n_nodes = size(community_true)[1]\n",
    "n_edges = size(edgeList)[1]\n",
    "\n",
    "# construct sparse adjacency matrix from list of edges\n",
    "adj = sparse(edgeList[:,1].+1,edgeList[:,2].+1,vec(ones(Int64,n_edges,1)),n_nodes,n_nodes)\n",
    "adj = adj+adj' # only the upper triangular part of adjacency matrix was stored\n",
    "\n",
    "# keep only the largest connected component\n",
    "adj,vertices = largest_component(adj);\n",
    "\n",
    "community_true = community_true[vertices]\n",
    "community_true = rename_com_unique(community_true)\n",
    "\n",
    "# load parameters\n",
    "LFR_parameters = readdlm(path*\"parameters\"*string(g-1)*\".txt\")\n",
    "mu = parse(Float64, split(LFR_parameters[4],\"=\")[2]) # extract mixing marameter (not very robust)\n",
    "print(\"mu=$mu\")\n",
    "\n",
    "for i=1:length(d0s)\n",
    "    println(\"\\n========== d0 step $i/$(length(d0s)) ==========\")\n",
    "    d0=d0s[i]\n",
    "    for j=1:n_rep\n",
    "        println(\"\\n  ~~~~~ number_rep = $j/$(n_rep) ~~~~~\")\n",
    "        \n",
    "        _,community,_ = @time sphere_embed_cluster(adj, d0,shape, n_clusters)\n",
    "\n",
    "        NMIs[i,j] = mutualinfo(community_true,community)\n",
    "    end\n",
    "end\n"
   ]
  },
  {
   "cell_type": "code",
   "execution_count": 29,
   "metadata": {},
   "outputs": [
    {
     "data": {
      "image/png": "[encoded data removed]",
      "image/svg+xml": [
       "<?xml version=\"1.0\" encoding=\"utf-8\"?>\n",
       "<svg xmlns=\"http://www.w3.org/2000/svg\" xmlns:xlink=\"http://www.w3.org/1999/xlink\" width=\"600\" height=\"400\" viewBox=\"0 0 2400 1600\">\n",
       "<defs>\n",
       "  <clipPath id=\"clip600\">\n",
       "    <rect x=\"0\" y=\"0\" width=\"2400\" height=\"1600\"/>\n",
       "  </clipPath>\n",
       "</defs>\n",
       "<path clip-path=\"url(#clip600)\" d=\"\n",
       "M0 1600 L2400 1600 L2400 0 L0 0  Z\n",
       "  \" fill=\"#ffffff\" fill-rule=\"evenodd\" fill-opacity=\"1\"/>\n",
       "<defs>\n",
       "  <clipPath id=\"clip601\">\n",
       "    <rect x=\"480\" y=\"0\" width=\"1681\" height=\"1600\"/>\n",
       "  </clipPath>\n",
       "</defs>\n",
       "<path clip-path=\"url(#clip600)\" d=\"\n",
       "M249.542 1423.18 L2352.76 1423.18 L2352.76 47.2441 L249.542 47.2441  Z\n",
       "  \" fill=\"#ffffff\" fill-rule=\"evenodd\" fill-opacity=\"1\"/>\n",
       "<defs>\n",
       "  <clipPath id=\"clip602\">\n",
       "    <rect x=\"249\" y=\"47\" width=\"2104\" height=\"1377\"/>\n",
       "  </clipPath>\n",
       "</defs>\n",
       "<polyline clip-path=\"url(#clip602)\" style=\"stroke:#000000; stroke-linecap:butt; stroke-linejoin:round; stroke-width:2; stroke-opacity:0.1; fill:none\" points=\"\n",
       "  529.53,1423.18 529.53,47.2441 \n",
       "  \"/>\n",
       "<polyline clip-path=\"url(#clip602)\" style=\"stroke:#000000; stroke-linecap:butt; stroke-linejoin:round; stroke-width:2; stroke-opacity:0.1; fill:none\" points=\"\n",
       "  970.455,1423.18 970.455,47.2441 \n",
       "  \"/>\n",
       "<polyline clip-path=\"url(#clip602)\" style=\"stroke:#000000; stroke-linecap:butt; stroke-linejoin:round; stroke-width:2; stroke-opacity:0.1; fill:none\" points=\"\n",
       "  1411.38,1423.18 1411.38,47.2441 \n",
       "  \"/>\n",
       "<polyline clip-path=\"url(#clip602)\" style=\"stroke:#000000; stroke-linecap:butt; stroke-linejoin:round; stroke-width:2; stroke-opacity:0.1; fill:none\" points=\"\n",
       "  1852.31,1423.18 1852.31,47.2441 \n",
       "  \"/>\n",
       "<polyline clip-path=\"url(#clip602)\" style=\"stroke:#000000; stroke-linecap:butt; stroke-linejoin:round; stroke-width:2; stroke-opacity:0.1; fill:none\" points=\"\n",
       "  2293.23,1423.18 2293.23,47.2441 \n",
       "  \"/>\n",
       "<polyline clip-path=\"url(#clip600)\" style=\"stroke:#000000; stroke-linecap:butt; stroke-linejoin:round; stroke-width:4; stroke-opacity:1; fill:none\" points=\"\n",
       "  249.542,1423.18 2352.76,1423.18 \n",
       "  \"/>\n",
       "<polyline clip-path=\"url(#clip600)\" style=\"stroke:#000000; stroke-linecap:butt; stroke-linejoin:round; stroke-width:4; stroke-opacity:1; fill:none\" points=\"\n",
       "  529.53,1423.18 529.53,1404.28 \n",
       "  \"/>\n",
       "<polyline clip-path=\"url(#clip600)\" style=\"stroke:#000000; stroke-linecap:butt; stroke-linejoin:round; stroke-width:4; stroke-opacity:1; fill:none\" points=\"\n",
       "  970.455,1423.18 970.455,1404.28 \n",
       "  \"/>\n",
       "<polyline clip-path=\"url(#clip600)\" style=\"stroke:#000000; stroke-linecap:butt; stroke-linejoin:round; stroke-width:4; stroke-opacity:1; fill:none\" points=\"\n",
       "  1411.38,1423.18 1411.38,1404.28 \n",
       "  \"/>\n",
       "<polyline clip-path=\"url(#clip600)\" style=\"stroke:#000000; stroke-linecap:butt; stroke-linejoin:round; stroke-width:4; stroke-opacity:1; fill:none\" points=\"\n",
       "  1852.31,1423.18 1852.31,1404.28 \n",
       "  \"/>\n",
       "<polyline clip-path=\"url(#clip600)\" style=\"stroke:#000000; stroke-linecap:butt; stroke-linejoin:round; stroke-width:4; stroke-opacity:1; fill:none\" points=\"\n",
       "  2293.23,1423.18 2293.23,1404.28 \n",
       "  \"/>\n",
       "<path clip-path=\"url(#clip600)\" d=\"M508.303 1481.64 L524.622 1481.64 L524.622 1485.58 L502.678 1485.58 L502.678 1481.64 Q505.34 1478.89 509.923 1474.26 Q514.53 1469.61 515.71 1468.27 Q517.956 1465.74 518.835 1464.01 Q519.738 1462.25 519.738 1460.56 Q519.738 1457.8 517.794 1456.07 Q515.872 1454.33 512.77 1454.33 Q510.571 1454.33 508.118 1455.09 Q505.687 1455.86 502.909 1457.41 L502.909 1452.69 Q505.733 1451.55 508.187 1450.97 Q510.641 1450.39 512.678 1450.39 Q518.048 1450.39 521.243 1453.08 Q524.437 1455.77 524.437 1460.26 Q524.437 1462.39 523.627 1464.31 Q522.84 1466.2 520.733 1468.8 Q520.155 1469.47 517.053 1472.69 Q513.951 1475.88 508.303 1481.64 Z\" fill=\"#000000\" fill-rule=\"evenodd\" fill-opacity=\"1\" /><path clip-path=\"url(#clip600)\" d=\"M544.437 1454.1 Q540.826 1454.1 538.997 1457.66 Q537.192 1461.2 537.192 1468.33 Q537.192 1475.44 538.997 1479.01 Q540.826 1482.55 544.437 1482.55 Q548.071 1482.55 549.877 1479.01 Q551.705 1475.44 551.705 1468.33 Q551.705 1461.2 549.877 1457.66 Q548.071 1454.1 544.437 1454.1 M544.437 1450.39 Q550.247 1450.39 553.303 1455 Q556.381 1459.58 556.381 1468.33 Q556.381 1477.06 553.303 1481.67 Q550.247 1486.25 544.437 1486.25 Q538.627 1486.25 535.548 1481.67 Q532.493 1477.06 532.493 1468.33 Q532.493 1459.58 535.548 1455 Q538.627 1450.39 544.437 1450.39 Z\" fill=\"#000000\" fill-rule=\"evenodd\" fill-opacity=\"1\" /><path clip-path=\"url(#clip600)\" d=\"M958.626 1455.09 L946.821 1473.54 L958.626 1473.54 L958.626 1455.09 M957.399 1451.02 L963.279 1451.02 L963.279 1473.54 L968.21 1473.54 L968.21 1477.43 L963.279 1477.43 L963.279 1485.58 L958.626 1485.58 L958.626 1477.43 L943.025 1477.43 L943.025 1472.92 L957.399 1451.02 Z\" fill=\"#000000\" fill-rule=\"evenodd\" fill-opacity=\"1\" /><path clip-path=\"url(#clip600)\" d=\"M985.941 1454.1 Q982.33 1454.1 980.501 1457.66 Q978.696 1461.2 978.696 1468.33 Q978.696 1475.44 980.501 1479.01 Q982.33 1482.55 985.941 1482.55 Q989.575 1482.55 991.381 1479.01 Q993.209 1475.44 993.209 1468.33 Q993.209 1461.2 991.381 1457.66 Q989.575 1454.1 985.941 1454.1 M985.941 1450.39 Q991.751 1450.39 994.807 1455 Q997.885 1459.58 997.885 1468.33 Q997.885 1477.06 994.807 1481.67 Q991.751 1486.25 985.941 1486.25 Q980.131 1486.25 977.052 1481.67 Q973.997 1477.06 973.997 1468.33 Q973.997 1459.58 977.052 1455 Q980.131 1450.39 985.941 1450.39 Z\" fill=\"#000000\" fill-rule=\"evenodd\" fill-opacity=\"1\" /><path clip-path=\"url(#clip600)\" d=\"M1396.79 1466.44 Q1393.64 1466.44 1391.79 1468.59 Q1389.96 1470.74 1389.96 1474.49 Q1389.96 1478.22 1391.79 1480.39 Q1393.64 1482.55 1396.79 1482.55 Q1399.93 1482.55 1401.76 1480.39 Q1403.61 1478.22 1403.61 1474.49 Q1403.61 1470.74 1401.76 1468.59 Q1399.93 1466.44 1396.79 1466.44 M1406.07 1451.78 L1406.07 1456.04 Q1404.31 1455.21 1402.5 1454.77 Q1400.72 1454.33 1398.96 1454.33 Q1394.33 1454.33 1391.88 1457.45 Q1389.45 1460.58 1389.1 1466.9 Q1390.47 1464.89 1392.53 1463.82 Q1394.59 1462.73 1397.06 1462.73 Q1402.27 1462.73 1405.28 1465.9 Q1408.31 1469.05 1408.31 1474.49 Q1408.31 1479.82 1405.17 1483.03 Q1402.02 1486.25 1396.79 1486.25 Q1390.79 1486.25 1387.62 1481.67 Q1384.45 1477.06 1384.45 1468.33 Q1384.45 1460.14 1388.34 1455.28 Q1392.23 1450.39 1398.78 1450.39 Q1400.54 1450.39 1402.32 1450.74 Q1404.12 1451.09 1406.07 1451.78 Z\" fill=\"#000000\" fill-rule=\"evenodd\" fill-opacity=\"1\" /><path clip-path=\"url(#clip600)\" d=\"M1426.37 1454.1 Q1422.76 1454.1 1420.93 1457.66 Q1419.12 1461.2 1419.12 1468.33 Q1419.12 1475.44 1420.93 1479.01 Q1422.76 1482.55 1426.37 1482.55 Q1430 1482.55 1431.81 1479.01 Q1433.64 1475.44 1433.64 1468.33 Q1433.64 1461.2 1431.81 1457.66 Q1430 1454.1 1426.37 1454.1 M1426.37 1450.39 Q1432.18 1450.39 1435.23 1455 Q1438.31 1459.58 1438.31 1468.33 Q1438.31 1477.06 1435.23 1481.67 Q1432.18 1486.25 1426.37 1486.25 Q1420.56 1486.25 1417.48 1481.67 Q1414.42 1477.06 1414.42 1468.33 Q1414.42 1459.58 1417.48 1455 Q1420.56 1450.39 1426.37 1450.39 Z\" fill=\"#000000\" fill-rule=\"evenodd\" fill-opacity=\"1\" /><path clip-path=\"url(#clip600)\" d=\"M1837.18 1469.17 Q1833.85 1469.17 1831.92 1470.95 Q1830.03 1472.73 1830.03 1475.86 Q1830.03 1478.98 1831.92 1480.77 Q1833.85 1482.55 1837.18 1482.55 Q1840.51 1482.55 1842.43 1480.77 Q1844.35 1478.96 1844.35 1475.86 Q1844.35 1472.73 1842.43 1470.95 Q1840.53 1469.17 1837.18 1469.17 M1832.5 1467.18 Q1829.49 1466.44 1827.8 1464.38 Q1826.14 1462.32 1826.14 1459.35 Q1826.14 1455.21 1829.08 1452.8 Q1832.04 1450.39 1837.18 1450.39 Q1842.34 1450.39 1845.28 1452.8 Q1848.22 1455.21 1848.22 1459.35 Q1848.22 1462.32 1846.53 1464.38 Q1844.86 1466.44 1841.88 1467.18 Q1845.26 1467.96 1847.13 1470.26 Q1849.03 1472.55 1849.03 1475.86 Q1849.03 1480.88 1845.95 1483.57 Q1842.9 1486.25 1837.18 1486.25 Q1831.46 1486.25 1828.38 1483.57 Q1825.33 1480.88 1825.33 1475.86 Q1825.33 1472.55 1827.22 1470.26 Q1829.12 1467.96 1832.5 1467.18 M1830.79 1459.79 Q1830.79 1462.48 1832.46 1463.98 Q1834.15 1465.49 1837.18 1465.49 Q1840.19 1465.49 1841.88 1463.98 Q1843.59 1462.48 1843.59 1459.79 Q1843.59 1457.11 1841.88 1455.6 Q1840.19 1454.1 1837.18 1454.1 Q1834.15 1454.1 1832.46 1455.6 Q1830.79 1457.11 1830.79 1459.79 Z\" fill=\"#000000\" fill-rule=\"evenodd\" fill-opacity=\"1\" /><path clip-path=\"url(#clip600)\" d=\"M1867.34 1454.1 Q1863.73 1454.1 1861.9 1457.66 Q1860.09 1461.2 1860.09 1468.33 Q1860.09 1475.44 1861.9 1479.01 Q1863.73 1482.55 1867.34 1482.55 Q1870.97 1482.55 1872.78 1479.01 Q1874.61 1475.44 1874.61 1468.33 Q1874.61 1461.2 1872.78 1457.66 Q1870.97 1454.1 1867.34 1454.1 M1867.34 1450.39 Q1873.15 1450.39 1876.21 1455 Q1879.28 1459.58 1879.28 1468.33 Q1879.28 1477.06 1876.21 1481.67 Q1873.15 1486.25 1867.34 1486.25 Q1861.53 1486.25 1858.45 1481.67 Q1855.4 1477.06 1855.4 1468.33 Q1855.4 1459.58 1858.45 1455 Q1861.53 1450.39 1867.34 1450.39 Z\" fill=\"#000000\" fill-rule=\"evenodd\" fill-opacity=\"1\" /><path clip-path=\"url(#clip600)\" d=\"M2252.84 1481.64 L2260.48 1481.64 L2260.48 1455.28 L2252.17 1456.95 L2252.17 1452.69 L2260.43 1451.02 L2265.11 1451.02 L2265.11 1481.64 L2272.74 1481.64 L2272.74 1485.58 L2252.84 1485.58 L2252.84 1481.64 Z\" fill=\"#000000\" fill-rule=\"evenodd\" fill-opacity=\"1\" /><path clip-path=\"url(#clip600)\" d=\"M2292.19 1454.1 Q2288.58 1454.1 2286.75 1457.66 Q2284.94 1461.2 2284.94 1468.33 Q2284.94 1475.44 2286.75 1479.01 Q2288.58 1482.55 2292.19 1482.55 Q2295.82 1482.55 2297.63 1479.01 Q2299.46 1475.44 2299.46 1468.33 Q2299.46 1461.2 2297.63 1457.66 Q2295.82 1454.1 2292.19 1454.1 M2292.19 1450.39 Q2298 1450.39 2301.06 1455 Q2304.13 1459.58 2304.13 1468.33 Q2304.13 1477.06 2301.06 1481.67 Q2298 1486.25 2292.19 1486.25 Q2286.38 1486.25 2283.3 1481.67 Q2280.24 1477.06 2280.24 1468.33 Q2280.24 1459.58 2283.3 1455 Q2286.38 1450.39 2292.19 1450.39 Z\" fill=\"#000000\" fill-rule=\"evenodd\" fill-opacity=\"1\" /><path clip-path=\"url(#clip600)\" d=\"M2322.35 1454.1 Q2318.74 1454.1 2316.91 1457.66 Q2315.11 1461.2 2315.11 1468.33 Q2315.11 1475.44 2316.91 1479.01 Q2318.74 1482.55 2322.35 1482.55 Q2325.99 1482.55 2327.79 1479.01 Q2329.62 1475.44 2329.62 1468.33 Q2329.62 1461.2 2327.79 1457.66 Q2325.99 1454.1 2322.35 1454.1 M2322.35 1450.39 Q2328.16 1450.39 2331.22 1455 Q2334.3 1459.58 2334.3 1468.33 Q2334.3 1477.06 2331.22 1481.67 Q2328.16 1486.25 2322.35 1486.25 Q2316.54 1486.25 2313.46 1481.67 Q2310.41 1477.06 2310.41 1468.33 Q2310.41 1459.58 2313.46 1455 Q2316.54 1450.39 2322.35 1450.39 Z\" fill=\"#000000\" fill-rule=\"evenodd\" fill-opacity=\"1\" /><path clip-path=\"url(#clip600)\" d=\"M1223.98 1577.62 L1220.8 1577.62 L1220.77 1568.04 Q1217.42 1567.98 1214.08 1567.28 Q1210.74 1566.55 1207.37 1565.12 L1207.37 1559.39 Q1210.61 1561.42 1213.92 1562.47 Q1217.26 1563.49 1220.8 1563.52 L1220.8 1549.01 Q1213.76 1547.86 1210.55 1545.13 Q1207.37 1542.39 1207.37 1537.62 Q1207.37 1532.43 1210.84 1529.44 Q1214.3 1526.44 1220.8 1526 L1220.8 1518.52 L1223.98 1518.52 L1223.98 1525.9 Q1226.94 1526.03 1229.71 1526.54 Q1232.48 1527.02 1235.12 1527.88 L1235.12 1533.45 Q1232.48 1532.11 1229.68 1531.38 Q1226.91 1530.65 1223.98 1530.52 L1223.98 1544.11 Q1231.21 1545.22 1234.61 1548.09 Q1238.02 1550.95 1238.02 1555.92 Q1238.02 1561.3 1234.39 1564.42 Q1230.79 1567.5 1223.98 1567.98 L1223.98 1577.62 M1220.8 1543.54 L1220.8 1530.49 Q1217.11 1530.9 1215.16 1532.59 Q1213.22 1534.27 1213.22 1537.07 Q1213.22 1539.81 1215.01 1541.34 Q1216.82 1542.87 1220.8 1543.54 M1223.98 1549.65 L1223.98 1563.43 Q1228.02 1562.89 1230.06 1561.14 Q1232.13 1559.39 1232.13 1556.52 Q1232.13 1553.72 1230.16 1552.07 Q1228.21 1550.41 1223.98 1549.65 Z\" fill=\"#000000\" fill-rule=\"evenodd\" fill-opacity=\"1\" /><path clip-path=\"url(#clip600)\" d=\"M1273.03 1537.81 L1273.03 1518.52 L1278.88 1518.52 L1278.88 1568.04 L1273.03 1568.04 L1273.03 1562.7 Q1271.18 1565.88 1268.35 1567.44 Q1265.55 1568.97 1261.6 1568.97 Q1255.14 1568.97 1251.07 1563.81 Q1247.02 1558.65 1247.02 1550.25 Q1247.02 1541.85 1251.07 1536.69 Q1255.14 1531.54 1261.6 1531.54 Q1265.55 1531.54 1268.35 1533.1 Q1271.18 1534.62 1273.03 1537.81 M1253.07 1550.25 Q1253.07 1556.71 1255.71 1560.4 Q1258.39 1564.07 1263.03 1564.07 Q1267.68 1564.07 1270.35 1560.4 Q1273.03 1556.71 1273.03 1550.25 Q1273.03 1543.79 1270.35 1540.13 Q1267.68 1536.44 1263.03 1536.44 Q1258.39 1536.44 1255.71 1540.13 Q1253.07 1543.79 1253.07 1550.25 Z\" fill=\"#000000\" fill-rule=\"evenodd\" fill-opacity=\"1\" /><path clip-path=\"url(#clip600)\" d=\"M1318.03 1578.87 L1318.03 1583.42 L1284.17 1583.42 L1284.17 1578.87 L1318.03 1578.87 Z\" fill=\"#000000\" fill-rule=\"evenodd\" fill-opacity=\"1\" /><path clip-path=\"url(#clip600)\" d=\"M1338.12 1524.76 Q1333.15 1524.76 1330.64 1529.66 Q1328.16 1534.53 1328.16 1544.33 Q1328.16 1554.1 1330.64 1559 Q1333.15 1563.87 1338.12 1563.87 Q1343.11 1563.87 1345.6 1559 Q1348.11 1554.1 1348.11 1544.33 Q1348.11 1534.53 1345.6 1529.66 Q1343.11 1524.76 1338.12 1524.76 M1338.12 1519.66 Q1346.11 1519.66 1350.31 1526 Q1354.54 1532.3 1354.54 1544.33 Q1354.54 1556.33 1350.31 1562.66 Q1346.11 1568.97 1338.12 1568.97 Q1330.13 1568.97 1325.9 1562.66 Q1321.69 1556.33 1321.69 1544.33 Q1321.69 1532.3 1325.9 1526 Q1330.13 1519.66 1338.12 1519.66 Z\" fill=\"#000000\" fill-rule=\"evenodd\" fill-opacity=\"1\" /><path clip-path=\"url(#clip600)\" d=\"M1380.9 1577.62 L1377.71 1577.62 L1377.68 1568.04 Q1374.34 1567.98 1371 1567.28 Q1367.65 1566.55 1364.28 1565.12 L1364.28 1559.39 Q1367.53 1561.42 1370.84 1562.47 Q1374.18 1563.49 1377.71 1563.52 L1377.71 1549.01 Q1370.68 1547.86 1367.46 1545.13 Q1364.28 1542.39 1364.28 1537.62 Q1364.28 1532.43 1367.75 1529.44 Q1371.22 1526.44 1377.71 1526 L1377.71 1518.52 L1380.9 1518.52 L1380.9 1525.9 Q1383.86 1526.03 1386.62 1526.54 Q1389.39 1527.02 1392.04 1527.88 L1392.04 1533.45 Q1389.39 1532.11 1386.59 1531.38 Q1383.82 1530.65 1380.9 1530.52 L1380.9 1544.11 Q1388.12 1545.22 1391.53 1548.09 Q1394.93 1550.95 1394.93 1555.92 Q1394.93 1561.3 1391.3 1564.42 Q1387.71 1567.5 1380.9 1567.98 L1380.9 1577.62 M1377.71 1543.54 L1377.71 1530.49 Q1374.02 1530.9 1372.08 1532.59 Q1370.14 1534.27 1370.14 1537.07 Q1370.14 1539.81 1371.92 1541.34 Q1373.73 1542.87 1377.71 1543.54 M1380.9 1549.65 L1380.9 1563.43 Q1384.94 1562.89 1386.97 1561.14 Q1389.04 1559.39 1389.04 1556.52 Q1389.04 1553.72 1387.07 1552.07 Q1385.13 1550.41 1380.9 1549.65 Z\" fill=\"#000000\" fill-rule=\"evenodd\" fill-opacity=\"1\" /><polyline clip-path=\"url(#clip602)\" style=\"stroke:#000000; stroke-linecap:butt; stroke-linejoin:round; stroke-width:2; stroke-opacity:0.1; fill:none\" points=\"\n",
       "  249.542,1142 2352.76,1142 \n",
       "  \"/>\n",
       "<polyline clip-path=\"url(#clip602)\" style=\"stroke:#000000; stroke-linecap:butt; stroke-linejoin:round; stroke-width:2; stroke-opacity:0.1; fill:none\" points=\"\n",
       "  249.542,860.435 2352.76,860.435 \n",
       "  \"/>\n",
       "<polyline clip-path=\"url(#clip602)\" style=\"stroke:#000000; stroke-linecap:butt; stroke-linejoin:round; stroke-width:2; stroke-opacity:0.1; fill:none\" points=\"\n",
       "  249.542,578.875 2352.76,578.875 \n",
       "  \"/>\n",
       "<polyline clip-path=\"url(#clip602)\" style=\"stroke:#000000; stroke-linecap:butt; stroke-linejoin:round; stroke-width:2; stroke-opacity:0.1; fill:none\" points=\"\n",
       "  249.542,297.315 2352.76,297.315 \n",
       "  \"/>\n",
       "<polyline clip-path=\"url(#clip600)\" style=\"stroke:#000000; stroke-linecap:butt; stroke-linejoin:round; stroke-width:4; stroke-opacity:1; fill:none\" points=\"\n",
       "  249.542,1423.18 249.542,47.2441 \n",
       "  \"/>\n",
       "<polyline clip-path=\"url(#clip600)\" style=\"stroke:#000000; stroke-linecap:butt; stroke-linejoin:round; stroke-width:4; stroke-opacity:1; fill:none\" points=\"\n",
       "  249.542,1142 268.44,1142 \n",
       "  \"/>\n",
       "<polyline clip-path=\"url(#clip600)\" style=\"stroke:#000000; stroke-linecap:butt; stroke-linejoin:round; stroke-width:4; stroke-opacity:1; fill:none\" points=\"\n",
       "  249.542,860.435 268.44,860.435 \n",
       "  \"/>\n",
       "<polyline clip-path=\"url(#clip600)\" style=\"stroke:#000000; stroke-linecap:butt; stroke-linejoin:round; stroke-width:4; stroke-opacity:1; fill:none\" points=\"\n",
       "  249.542,578.875 268.44,578.875 \n",
       "  \"/>\n",
       "<polyline clip-path=\"url(#clip600)\" style=\"stroke:#000000; stroke-linecap:butt; stroke-linejoin:round; stroke-width:4; stroke-opacity:1; fill:none\" points=\"\n",
       "  249.542,297.315 268.44,297.315 \n",
       "  \"/>\n",
       "<path clip-path=\"url(#clip600)\" d=\"M127.2 1127.79 Q123.589 1127.79 121.76 1131.36 Q119.955 1134.9 119.955 1142.03 Q119.955 1149.14 121.76 1152.7 Q123.589 1156.24 127.2 1156.24 Q130.834 1156.24 132.64 1152.7 Q134.468 1149.14 134.468 1142.03 Q134.468 1134.9 132.64 1131.36 Q130.834 1127.79 127.2 1127.79 M127.2 1124.09 Q133.01 1124.09 136.066 1128.7 Q139.144 1133.28 139.144 1142.03 Q139.144 1150.76 136.066 1155.36 Q133.01 1159.95 127.2 1159.95 Q121.39 1159.95 118.311 1155.36 Q115.256 1150.76 115.256 1142.03 Q115.256 1133.28 118.311 1128.7 Q121.39 1124.09 127.2 1124.09 Z\" fill=\"#000000\" fill-rule=\"evenodd\" fill-opacity=\"1\" /><path clip-path=\"url(#clip600)\" d=\"M147.362 1153.4 L152.246 1153.4 L152.246 1159.28 L147.362 1159.28 L147.362 1153.4 Z\" fill=\"#000000\" fill-rule=\"evenodd\" fill-opacity=\"1\" /><path clip-path=\"url(#clip600)\" d=\"M161.251 1124.72 L183.473 1124.72 L183.473 1126.71 L170.927 1159.28 L166.042 1159.28 L177.848 1128.65 L161.251 1128.65 L161.251 1124.72 Z\" fill=\"#000000\" fill-rule=\"evenodd\" fill-opacity=\"1\" /><path clip-path=\"url(#clip600)\" d=\"M192.639 1124.72 L210.996 1124.72 L210.996 1128.65 L196.922 1128.65 L196.922 1137.12 Q197.94 1136.78 198.959 1136.61 Q199.977 1136.43 200.996 1136.43 Q206.783 1136.43 210.162 1139.6 Q213.542 1142.77 213.542 1148.19 Q213.542 1153.77 210.07 1156.87 Q206.598 1159.95 200.278 1159.95 Q198.102 1159.95 195.834 1159.58 Q193.588 1159.21 191.181 1158.47 L191.181 1153.77 Q193.264 1154.9 195.487 1155.46 Q197.709 1156.01 200.186 1156.01 Q204.19 1156.01 206.528 1153.91 Q208.866 1151.8 208.866 1148.19 Q208.866 1144.58 206.528 1142.47 Q204.19 1140.36 200.186 1140.36 Q198.311 1140.36 196.436 1140.78 Q194.584 1141.2 192.639 1142.08 L192.639 1124.72 Z\" fill=\"#000000\" fill-rule=\"evenodd\" fill-opacity=\"1\" /><path clip-path=\"url(#clip600)\" d=\"M126.205 846.234 Q122.593 846.234 120.765 849.799 Q118.959 853.34 118.959 860.47 Q118.959 867.576 120.765 871.141 Q122.593 874.683 126.205 874.683 Q129.839 874.683 131.644 871.141 Q133.473 867.576 133.473 860.47 Q133.473 853.34 131.644 849.799 Q129.839 846.234 126.205 846.234 M126.205 842.53 Q132.015 842.53 135.07 847.137 Q138.149 851.72 138.149 860.47 Q138.149 869.197 135.07 873.803 Q132.015 878.387 126.205 878.387 Q120.394 878.387 117.316 873.803 Q114.26 869.197 114.26 860.47 Q114.26 851.72 117.316 847.137 Q120.394 842.53 126.205 842.53 Z\" fill=\"#000000\" fill-rule=\"evenodd\" fill-opacity=\"1\" /><path clip-path=\"url(#clip600)\" d=\"M146.366 871.836 L151.251 871.836 L151.251 877.715 L146.366 877.715 L146.366 871.836 Z\" fill=\"#000000\" fill-rule=\"evenodd\" fill-opacity=\"1\" /><path clip-path=\"url(#clip600)\" d=\"M171.436 861.303 Q168.102 861.303 166.181 863.086 Q164.283 864.868 164.283 867.993 Q164.283 871.118 166.181 872.9 Q168.102 874.683 171.436 874.683 Q174.769 874.683 176.69 872.9 Q178.612 871.095 178.612 867.993 Q178.612 864.868 176.69 863.086 Q174.792 861.303 171.436 861.303 M166.76 859.313 Q163.751 858.572 162.061 856.512 Q160.394 854.451 160.394 851.489 Q160.394 847.345 163.334 844.938 Q166.297 842.53 171.436 842.53 Q176.598 842.53 179.538 844.938 Q182.477 847.345 182.477 851.489 Q182.477 854.451 180.788 856.512 Q179.121 858.572 176.135 859.313 Q179.514 860.1 181.389 862.391 Q183.288 864.683 183.288 867.993 Q183.288 873.016 180.209 875.701 Q177.153 878.387 171.436 878.387 Q165.718 878.387 162.64 875.701 Q159.584 873.016 159.584 867.993 Q159.584 864.683 161.482 862.391 Q163.38 860.1 166.76 859.313 M165.047 851.928 Q165.047 854.614 166.714 856.118 Q168.403 857.623 171.436 857.623 Q174.445 857.623 176.135 856.118 Q177.848 854.614 177.848 851.928 Q177.848 849.243 176.135 847.739 Q174.445 846.234 171.436 846.234 Q168.403 846.234 166.714 847.739 Q165.047 849.243 165.047 851.928 Z\" fill=\"#000000\" fill-rule=\"evenodd\" fill-opacity=\"1\" /><path clip-path=\"url(#clip600)\" d=\"M201.598 846.234 Q197.987 846.234 196.158 849.799 Q194.352 853.34 194.352 860.47 Q194.352 867.576 196.158 871.141 Q197.987 874.683 201.598 874.683 Q205.232 874.683 207.037 871.141 Q208.866 867.576 208.866 860.47 Q208.866 853.34 207.037 849.799 Q205.232 846.234 201.598 846.234 M201.598 842.53 Q207.408 842.53 210.463 847.137 Q213.542 851.72 213.542 860.47 Q213.542 869.197 210.463 873.803 Q207.408 878.387 201.598 878.387 Q195.787 878.387 192.709 873.803 Q189.653 869.197 189.653 860.47 Q189.653 851.72 192.709 847.137 Q195.787 842.53 201.598 842.53 Z\" fill=\"#000000\" fill-rule=\"evenodd\" fill-opacity=\"1\" /><path clip-path=\"url(#clip600)\" d=\"M127.2 564.674 Q123.589 564.674 121.76 568.239 Q119.955 571.78 119.955 578.91 Q119.955 586.016 121.76 589.581 Q123.589 593.123 127.2 593.123 Q130.834 593.123 132.64 589.581 Q134.468 586.016 134.468 578.91 Q134.468 571.78 132.64 568.239 Q130.834 564.674 127.2 564.674 M127.2 560.97 Q133.01 560.97 136.066 565.577 Q139.144 570.16 139.144 578.91 Q139.144 587.637 136.066 592.243 Q133.01 596.826 127.2 596.826 Q121.39 596.826 118.311 592.243 Q115.256 587.637 115.256 578.91 Q115.256 570.16 118.311 565.577 Q121.39 560.97 127.2 560.97 Z\" fill=\"#000000\" fill-rule=\"evenodd\" fill-opacity=\"1\" /><path clip-path=\"url(#clip600)\" d=\"M147.362 590.275 L152.246 590.275 L152.246 596.155 L147.362 596.155 L147.362 590.275 Z\" fill=\"#000000\" fill-rule=\"evenodd\" fill-opacity=\"1\" /><path clip-path=\"url(#clip600)\" d=\"M172.431 579.743 Q169.098 579.743 167.177 581.525 Q165.278 583.308 165.278 586.433 Q165.278 589.558 167.177 591.34 Q169.098 593.123 172.431 593.123 Q175.764 593.123 177.686 591.34 Q179.607 589.535 179.607 586.433 Q179.607 583.308 177.686 581.525 Q175.788 579.743 172.431 579.743 M167.755 577.752 Q164.746 577.012 163.056 574.951 Q161.39 572.891 161.39 569.928 Q161.39 565.785 164.329 563.377 Q167.292 560.97 172.431 560.97 Q177.593 560.97 180.533 563.377 Q183.473 565.785 183.473 569.928 Q183.473 572.891 181.783 574.951 Q180.116 577.012 177.13 577.752 Q180.51 578.539 182.385 580.831 Q184.283 583.123 184.283 586.433 Q184.283 591.456 181.204 594.141 Q178.149 596.826 172.431 596.826 Q166.714 596.826 163.635 594.141 Q160.579 591.456 160.579 586.433 Q160.579 583.123 162.477 580.831 Q164.376 578.539 167.755 577.752 M166.042 570.368 Q166.042 573.053 167.709 574.558 Q169.399 576.063 172.431 576.063 Q175.44 576.063 177.13 574.558 Q178.843 573.053 178.843 570.368 Q178.843 567.683 177.13 566.178 Q175.44 564.674 172.431 564.674 Q169.399 564.674 167.709 566.178 Q166.042 567.683 166.042 570.368 Z\" fill=\"#000000\" fill-rule=\"evenodd\" fill-opacity=\"1\" /><path clip-path=\"url(#clip600)\" d=\"M192.639 561.595 L210.996 561.595 L210.996 565.53 L196.922 565.53 L196.922 574.002 Q197.94 573.655 198.959 573.493 Q199.977 573.308 200.996 573.308 Q206.783 573.308 210.162 576.479 Q213.542 579.651 213.542 585.067 Q213.542 590.646 210.07 593.748 Q206.598 596.826 200.278 596.826 Q198.102 596.826 195.834 596.456 Q193.588 596.086 191.181 595.345 L191.181 590.646 Q193.264 591.78 195.487 592.336 Q197.709 592.891 200.186 592.891 Q204.19 592.891 206.528 590.785 Q208.866 588.678 208.866 585.067 Q208.866 581.456 206.528 579.35 Q204.19 577.243 200.186 577.243 Q198.311 577.243 196.436 577.66 Q194.584 578.076 192.639 578.956 L192.639 561.595 Z\" fill=\"#000000\" fill-rule=\"evenodd\" fill-opacity=\"1\" /><path clip-path=\"url(#clip600)\" d=\"M126.205 283.114 Q122.593 283.114 120.765 286.678 Q118.959 290.22 118.959 297.35 Q118.959 304.456 120.765 308.021 Q122.593 311.562 126.205 311.562 Q129.839 311.562 131.644 308.021 Q133.473 304.456 133.473 297.35 Q133.473 290.22 131.644 286.678 Q129.839 283.114 126.205 283.114 M126.205 279.41 Q132.015 279.41 135.07 284.016 Q138.149 288.6 138.149 297.35 Q138.149 306.076 135.07 310.683 Q132.015 315.266 126.205 315.266 Q120.394 315.266 117.316 310.683 Q114.26 306.076 114.26 297.35 Q114.26 288.6 117.316 284.016 Q120.394 279.41 126.205 279.41 Z\" fill=\"#000000\" fill-rule=\"evenodd\" fill-opacity=\"1\" /><path clip-path=\"url(#clip600)\" d=\"M146.366 308.715 L151.251 308.715 L151.251 314.595 L146.366 314.595 L146.366 308.715 Z\" fill=\"#000000\" fill-rule=\"evenodd\" fill-opacity=\"1\" /><path clip-path=\"url(#clip600)\" d=\"M161.575 313.877 L161.575 309.618 Q163.334 310.451 165.14 310.891 Q166.945 311.331 168.681 311.331 Q173.311 311.331 175.741 308.229 Q178.195 305.104 178.542 298.762 Q177.2 300.752 175.139 301.817 Q173.079 302.882 170.579 302.882 Q165.394 302.882 162.362 299.757 Q159.353 296.609 159.353 291.169 Q159.353 285.845 162.501 282.627 Q165.649 279.41 170.88 279.41 Q176.876 279.41 180.024 284.016 Q183.195 288.6 183.195 297.35 Q183.195 305.521 179.306 310.405 Q175.44 315.266 168.889 315.266 Q167.13 315.266 165.325 314.919 Q163.519 314.572 161.575 313.877 M170.88 299.225 Q174.028 299.225 175.857 297.072 Q177.709 294.919 177.709 291.169 Q177.709 287.442 175.857 285.289 Q174.028 283.114 170.88 283.114 Q167.732 283.114 165.88 285.289 Q164.052 287.442 164.052 291.169 Q164.052 294.919 165.88 297.072 Q167.732 299.225 170.88 299.225 Z\" fill=\"#000000\" fill-rule=\"evenodd\" fill-opacity=\"1\" /><path clip-path=\"url(#clip600)\" d=\"M201.598 283.114 Q197.987 283.114 196.158 286.678 Q194.352 290.22 194.352 297.35 Q194.352 304.456 196.158 308.021 Q197.987 311.562 201.598 311.562 Q205.232 311.562 207.037 308.021 Q208.866 304.456 208.866 297.35 Q208.866 290.22 207.037 286.678 Q205.232 283.114 201.598 283.114 M201.598 279.41 Q207.408 279.41 210.463 284.016 Q213.542 288.6 213.542 297.35 Q213.542 306.076 210.463 310.683 Q207.408 315.266 201.598 315.266 Q195.787 315.266 192.709 310.683 Q189.653 306.076 189.653 297.35 Q189.653 288.6 192.709 284.016 Q195.787 279.41 201.598 279.41 Z\" fill=\"#000000\" fill-rule=\"evenodd\" fill-opacity=\"1\" /><path clip-path=\"url(#clip600)\" d=\"M16.4842 1237.77 L16.4842 1229.11 L56.238 1208.04 L16.4842 1208.04 L16.4842 1201.8 L64.0042 1201.8 L64.0042 1210.46 L24.2503 1231.53 L64.0042 1231.53 L64.0042 1237.77 L16.4842 1237.77 Z\" fill=\"#000000\" fill-rule=\"evenodd\" fill-opacity=\"1\" /><path clip-path=\"url(#clip600)\" d=\"M32.4621 1175.45 Q32.4621 1180.16 36.1542 1182.9 Q39.8145 1185.63 46.212 1185.63 Q52.6095 1185.63 56.3017 1182.93 Q59.9619 1180.19 59.9619 1175.45 Q59.9619 1170.77 56.2698 1168.03 Q52.5777 1165.3 46.212 1165.3 Q39.8781 1165.3 36.186 1168.03 Q32.4621 1170.77 32.4621 1175.45 M27.4968 1175.45 Q27.4968 1167.81 32.4621 1163.45 Q37.4273 1159.09 46.212 1159.09 Q54.9649 1159.09 59.9619 1163.45 Q64.9272 1167.81 64.9272 1175.45 Q64.9272 1183.12 59.9619 1187.48 Q54.9649 1191.81 46.212 1191.81 Q37.4273 1191.81 32.4621 1187.48 Q27.4968 1183.12 27.4968 1175.45 Z\" fill=\"#000000\" fill-rule=\"evenodd\" fill-opacity=\"1\" /><path clip-path=\"url(#clip600)\" d=\"M33.8307 1128.72 Q33.2578 1129.71 33.0032 1130.89 Q32.7167 1132.03 32.7167 1133.43 Q32.7167 1138.4 35.9632 1141.07 Q39.1779 1143.72 45.2253 1143.72 L64.0042 1143.72 L64.0042 1149.6 L28.3562 1149.6 L28.3562 1143.72 L33.8944 1143.72 Q30.6479 1141.87 29.0883 1138.91 Q27.4968 1135.95 27.4968 1131.72 Q27.4968 1131.11 27.5923 1130.38 Q27.656 1129.65 27.8151 1128.76 L33.8307 1128.72 Z\" fill=\"#000000\" fill-rule=\"evenodd\" fill-opacity=\"1\" /><path clip-path=\"url(#clip600)\" d=\"M35.1993 1095.97 Q31.2526 1093.78 29.3747 1090.72 Q27.4968 1087.67 27.4968 1083.53 Q27.4968 1077.96 31.4117 1074.93 Q35.2948 1071.91 42.4881 1071.91 L64.0042 1071.91 L64.0042 1077.8 L42.679 1077.8 Q37.5546 1077.8 35.072 1079.61 Q32.5894 1081.43 32.5894 1085.15 Q32.5894 1089.7 35.6131 1092.34 Q38.6368 1094.99 43.8567 1094.99 L64.0042 1094.99 L64.0042 1100.87 L42.679 1100.87 Q37.5228 1100.87 35.072 1102.69 Q32.5894 1104.5 32.5894 1108.29 Q32.5894 1112.78 35.6449 1115.42 Q38.6686 1118.06 43.8567 1118.06 L64.0042 1118.06 L64.0042 1123.95 L28.3562 1123.95 L28.3562 1118.06 L33.8944 1118.06 Q30.616 1116.06 29.0564 1113.26 Q27.4968 1110.45 27.4968 1106.6 Q27.4968 1102.72 29.4702 1100.01 Q31.4436 1097.28 35.1993 1095.97 Z\" fill=\"#000000\" fill-rule=\"evenodd\" fill-opacity=\"1\" /><path clip-path=\"url(#clip600)\" d=\"M46.0847 1044.03 Q46.0847 1051.13 47.7079 1053.86 Q49.3312 1056.6 53.2461 1056.6 Q56.3653 1056.6 58.2114 1054.56 Q60.0256 1052.49 60.0256 1048.96 Q60.0256 1044.09 56.5881 1041.16 Q53.1188 1038.2 47.3897 1038.2 L46.0847 1038.2 L46.0847 1044.03 M43.6657 1032.35 L64.0042 1032.35 L64.0042 1038.2 L58.5933 1038.2 Q61.8398 1040.21 63.3994 1043.2 Q64.9272 1046.19 64.9272 1050.52 Q64.9272 1056 61.8716 1059.24 Q58.7843 1062.46 53.6281 1062.46 Q47.6125 1062.46 44.5569 1058.45 Q41.5014 1054.4 41.5014 1046.42 L41.5014 1038.2 L40.9285 1038.2 Q36.8862 1038.2 34.6901 1040.88 Q32.4621 1043.52 32.4621 1048.33 Q32.4621 1051.38 33.1941 1054.28 Q33.9262 1057.17 35.3903 1059.85 L29.9795 1059.85 Q28.7381 1056.63 28.1334 1053.61 Q27.4968 1050.58 27.4968 1047.72 Q27.4968 1039.99 31.5072 1036.17 Q35.5176 1032.35 43.6657 1032.35 Z\" fill=\"#000000\" fill-rule=\"evenodd\" fill-opacity=\"1\" /><path clip-path=\"url(#clip600)\" d=\"M14.479 1020.28 L14.479 1014.43 L64.0042 1014.43 L64.0042 1020.28 L14.479 1020.28 Z\" fill=\"#000000\" fill-rule=\"evenodd\" fill-opacity=\"1\" /><path clip-path=\"url(#clip600)\" d=\"M28.3562 1002.17 L28.3562 996.317 L64.0042 996.317 L64.0042 1002.17 L28.3562 1002.17 M14.479 1002.17 L14.479 996.317 L21.895 996.317 L21.895 1002.17 L14.479 1002.17 Z\" fill=\"#000000\" fill-rule=\"evenodd\" fill-opacity=\"1\" /><path clip-path=\"url(#clip600)\" d=\"M28.3562 986.61 L28.3562 958.791 L33.7034 958.791 L59.3254 980.817 L59.3254 958.791 L64.0042 958.791 L64.0042 987.405 L58.657 987.405 L33.035 965.38 L33.035 986.61 L28.3562 986.61 Z\" fill=\"#000000\" fill-rule=\"evenodd\" fill-opacity=\"1\" /><path clip-path=\"url(#clip600)\" d=\"M44.7161 919.356 L47.5806 919.356 L47.5806 946.283 Q53.6281 945.901 56.8109 942.654 Q59.9619 939.376 59.9619 933.551 Q59.9619 930.178 59.1344 927.027 Q58.3069 923.844 56.6518 920.725 L62.1899 920.725 Q63.5267 923.876 64.227 927.186 Q64.9272 930.496 64.9272 933.902 Q64.9272 942.432 59.9619 947.429 Q54.9967 952.394 46.5303 952.394 Q37.7774 952.394 32.6531 947.683 Q27.4968 942.941 27.4968 934.92 Q27.4968 927.727 32.1438 923.557 Q36.7589 919.356 44.7161 919.356 M42.9973 925.212 Q38.1912 925.276 35.3266 927.918 Q32.4621 930.528 32.4621 934.856 Q32.4621 939.758 35.2312 942.718 Q38.0002 945.646 43.0292 946.092 L42.9973 925.212 Z\" fill=\"#000000\" fill-rule=\"evenodd\" fill-opacity=\"1\" /><path clip-path=\"url(#clip600)\" d=\"M33.7671 886.286 L14.479 886.286 L14.479 880.43 L64.0042 880.43 L64.0042 886.286 L58.657 886.286 Q61.8398 888.132 63.3994 890.965 Q64.9272 893.766 64.9272 897.713 Q64.9272 904.174 59.771 908.248 Q54.6147 912.29 46.212 912.29 Q37.8093 912.29 32.6531 908.248 Q27.4968 904.174 27.4968 897.713 Q27.4968 893.766 29.0564 890.965 Q30.5842 888.132 33.7671 886.286 M46.212 906.243 Q52.6732 906.243 56.3653 903.601 Q60.0256 900.927 60.0256 896.28 Q60.0256 891.633 56.3653 888.96 Q52.6732 886.286 46.212 886.286 Q39.7508 886.286 36.0905 888.96 Q32.3984 891.633 32.3984 896.28 Q32.3984 900.927 36.0905 903.601 Q39.7508 906.243 46.212 906.243 Z\" fill=\"#000000\" fill-rule=\"evenodd\" fill-opacity=\"1\" /><path clip-path=\"url(#clip600)\" d=\"M35.1993 819.892 Q31.2526 817.696 29.3747 814.64 Q27.4968 811.585 27.4968 807.447 Q27.4968 801.877 31.4117 798.853 Q35.2948 795.829 42.4881 795.829 L64.0042 795.829 L64.0042 801.718 L42.679 801.718 Q37.5546 801.718 35.072 803.532 Q32.5894 805.346 32.5894 809.07 Q32.5894 813.622 35.6131 816.263 Q38.6368 818.905 43.8567 818.905 L64.0042 818.905 L64.0042 824.793 L42.679 824.793 Q37.5228 824.793 35.072 826.608 Q32.5894 828.422 32.5894 832.209 Q32.5894 836.697 35.6449 839.339 Q38.6686 841.981 43.8567 841.981 L64.0042 841.981 L64.0042 847.869 L28.3562 847.869 L28.3562 841.981 L33.8944 841.981 Q30.616 839.976 29.0564 837.175 Q27.4968 834.374 27.4968 830.523 Q27.4968 826.639 29.4702 823.934 Q31.4436 821.197 35.1993 819.892 Z\" fill=\"#000000\" fill-rule=\"evenodd\" fill-opacity=\"1\" /><path clip-path=\"url(#clip600)\" d=\"M49.9359 784.753 L28.3562 784.753 L28.3562 778.897 L49.7131 778.897 Q54.7739 778.897 57.3202 776.923 Q59.8346 774.95 59.8346 771.003 Q59.8346 766.261 56.8109 763.523 Q53.7872 760.754 48.5673 760.754 L28.3562 760.754 L28.3562 754.898 L64.0042 754.898 L64.0042 760.754 L58.5296 760.754 Q61.7762 762.887 63.3676 765.72 Q64.9272 768.521 64.9272 772.244 Q64.9272 778.387 61.1078 781.57 Q57.2883 784.753 49.9359 784.753 M27.4968 770.016 L27.4968 770.016 Z\" fill=\"#000000\" fill-rule=\"evenodd\" fill-opacity=\"1\" /><path clip-path=\"url(#clip600)\" d=\"M18.2347 737.042 L28.3562 737.042 L28.3562 724.979 L32.9077 724.979 L32.9077 737.042 L52.2594 737.042 Q56.6199 737.042 57.8613 735.864 Q59.1026 734.655 59.1026 730.995 L59.1026 724.979 L64.0042 724.979 L64.0042 730.995 Q64.0042 737.774 61.4897 740.352 Q58.9434 742.93 52.2594 742.93 L32.9077 742.93 L32.9077 747.227 L28.3562 747.227 L28.3562 742.93 L18.2347 742.93 L18.2347 737.042 Z\" fill=\"#000000\" fill-rule=\"evenodd\" fill-opacity=\"1\" /><path clip-path=\"url(#clip600)\" d=\"M49.9359 717.881 L28.3562 717.881 L28.3562 712.025 L49.7131 712.025 Q54.7739 712.025 57.3202 710.052 Q59.8346 708.078 59.8346 704.131 Q59.8346 699.389 56.8109 696.652 Q53.7872 693.883 48.5673 693.883 L28.3562 693.883 L28.3562 688.026 L64.0042 688.026 L64.0042 693.883 L58.5296 693.883 Q61.7762 696.015 63.3676 698.848 Q64.9272 701.649 64.9272 705.373 Q64.9272 711.516 61.1078 714.698 Q57.2883 717.881 49.9359 717.881 M27.4968 703.145 L27.4968 703.145 Z\" fill=\"#000000\" fill-rule=\"evenodd\" fill-opacity=\"1\" /><path clip-path=\"url(#clip600)\" d=\"M46.0847 659.762 Q46.0847 666.86 47.7079 669.597 Q49.3312 672.335 53.2461 672.335 Q56.3653 672.335 58.2114 670.298 Q60.0256 668.229 60.0256 664.696 Q60.0256 659.826 56.5881 656.898 Q53.1188 653.938 47.3897 653.938 L46.0847 653.938 L46.0847 659.762 M43.6657 648.081 L64.0042 648.081 L64.0042 653.938 L58.5933 653.938 Q61.8398 655.943 63.3994 658.935 Q64.9272 661.927 64.9272 666.255 Q64.9272 671.73 61.8716 674.976 Q58.7843 678.191 53.6281 678.191 Q47.6125 678.191 44.5569 674.181 Q41.5014 670.139 41.5014 662.15 L41.5014 653.938 L40.9285 653.938 Q36.8862 653.938 34.6901 656.611 Q32.4621 659.253 32.4621 664.059 Q32.4621 667.115 33.1941 670.011 Q33.9262 672.908 35.3903 675.581 L29.9795 675.581 Q28.7381 672.367 28.1334 669.343 Q27.4968 666.319 27.4968 663.455 Q27.4968 655.72 31.5072 651.901 Q35.5176 648.081 43.6657 648.081 Z\" fill=\"#000000\" fill-rule=\"evenodd\" fill-opacity=\"1\" /><path clip-path=\"url(#clip600)\" d=\"M14.479 636.018 L14.479 630.162 L64.0042 630.162 L64.0042 636.018 L14.479 636.018 Z\" fill=\"#000000\" fill-rule=\"evenodd\" fill-opacity=\"1\" /><path clip-path=\"url(#clip600)\" d=\"M28.3562 597.188 L28.3562 591.331 L64.0042 591.331 L64.0042 597.188 L28.3562 597.188 M14.479 597.188 L14.479 591.331 L21.895 591.331 L21.895 597.188 L14.479 597.188 Z\" fill=\"#000000\" fill-rule=\"evenodd\" fill-opacity=\"1\" /><path clip-path=\"url(#clip600)\" d=\"M42.4881 549.445 L64.0042 549.445 L64.0042 555.301 L42.679 555.301 Q37.6183 555.301 35.1038 557.275 Q32.5894 559.248 32.5894 563.195 Q32.5894 567.937 35.6131 570.674 Q38.6368 573.412 43.8567 573.412 L64.0042 573.412 L64.0042 579.3 L28.3562 579.3 L28.3562 573.412 L33.8944 573.412 Q30.6797 571.311 29.0883 568.478 Q27.4968 565.614 27.4968 561.89 Q27.4968 555.747 31.3163 552.596 Q35.1038 549.445 42.4881 549.445 Z\" fill=\"#000000\" fill-rule=\"evenodd\" fill-opacity=\"1\" /><path clip-path=\"url(#clip600)\" d=\"M14.479 519.717 L19.3487 519.717 L19.3487 525.319 Q19.3487 528.47 20.6219 529.711 Q21.895 530.921 25.2052 530.921 L28.3562 530.921 L28.3562 521.276 L32.9077 521.276 L32.9077 530.921 L64.0042 530.921 L64.0042 536.809 L32.9077 536.809 L32.9077 542.411 L28.3562 542.411 L28.3562 536.809 L25.8736 536.809 Q19.9216 536.809 17.2162 534.04 Q14.479 531.271 14.479 525.255 L14.479 519.717 Z\" fill=\"#000000\" fill-rule=\"evenodd\" fill-opacity=\"1\" /><path clip-path=\"url(#clip600)\" d=\"M32.4621 501.002 Q32.4621 505.712 36.1542 508.45 Q39.8145 511.187 46.212 511.187 Q52.6095 511.187 56.3017 508.481 Q59.9619 505.744 59.9619 501.002 Q59.9619 496.323 56.2698 493.586 Q52.5777 490.848 46.212 490.848 Q39.8781 490.848 36.186 493.586 Q32.4621 496.323 32.4621 501.002 M27.4968 501.002 Q27.4968 493.363 32.4621 489.002 Q37.4273 484.642 46.212 484.642 Q54.9649 484.642 59.9619 489.002 Q64.9272 493.363 64.9272 501.002 Q64.9272 508.672 59.9619 513.033 Q54.9649 517.362 46.212 517.362 Q37.4273 517.362 32.4621 513.033 Q27.4968 508.672 27.4968 501.002 Z\" fill=\"#000000\" fill-rule=\"evenodd\" fill-opacity=\"1\" /><path clip-path=\"url(#clip600)\" d=\"M33.8307 454.277 Q33.2578 455.264 33.0032 456.442 Q32.7167 457.588 32.7167 458.988 Q32.7167 463.953 35.9632 466.627 Q39.1779 469.269 45.2253 469.269 L64.0042 469.269 L64.0042 475.157 L28.3562 475.157 L28.3562 469.269 L33.8944 469.269 Q30.6479 467.423 29.0883 464.463 Q27.4968 461.502 27.4968 457.269 Q27.4968 456.665 27.5923 455.933 Q27.656 455.2 27.8151 454.309 L33.8307 454.277 Z\" fill=\"#000000\" fill-rule=\"evenodd\" fill-opacity=\"1\" /><path clip-path=\"url(#clip600)\" d=\"M35.1993 421.526 Q31.2526 419.33 29.3747 416.274 Q27.4968 413.219 27.4968 409.081 Q27.4968 403.511 31.4117 400.487 Q35.2948 397.463 42.4881 397.463 L64.0042 397.463 L64.0042 403.352 L42.679 403.352 Q37.5546 403.352 35.072 405.166 Q32.5894 406.98 32.5894 410.704 Q32.5894 415.256 35.6131 417.897 Q38.6368 420.539 43.8567 420.539 L64.0042 420.539 L64.0042 426.427 L42.679 426.427 Q37.5228 426.427 35.072 428.242 Q32.5894 430.056 32.5894 433.844 Q32.5894 438.331 35.6449 440.973 Q38.6686 443.615 43.8567 443.615 L64.0042 443.615 L64.0042 449.503 L28.3562 449.503 L28.3562 443.615 L33.8944 443.615 Q30.616 441.61 29.0564 438.809 Q27.4968 436.008 27.4968 432.157 Q27.4968 428.274 29.4702 425.568 Q31.4436 422.831 35.1993 421.526 Z\" fill=\"#000000\" fill-rule=\"evenodd\" fill-opacity=\"1\" /><path clip-path=\"url(#clip600)\" d=\"M46.0847 369.582 Q46.0847 376.679 47.7079 379.417 Q49.3312 382.154 53.2461 382.154 Q56.3653 382.154 58.2114 380.117 Q60.0256 378.048 60.0256 374.515 Q60.0256 369.645 56.5881 366.717 Q53.1188 363.757 47.3897 363.757 L46.0847 363.757 L46.0847 369.582 M43.6657 357.901 L64.0042 357.901 L64.0042 363.757 L58.5933 363.757 Q61.8398 365.762 63.3994 368.754 Q64.9272 371.746 64.9272 376.075 Q64.9272 381.549 61.8716 384.796 Q58.7843 388.01 53.6281 388.01 Q47.6125 388.01 44.5569 384 Q41.5014 379.958 41.5014 371.969 L41.5014 363.757 L40.9285 363.757 Q36.8862 363.757 34.6901 366.431 Q32.4621 369.072 32.4621 373.879 Q32.4621 376.934 33.1941 379.83 Q33.9262 382.727 35.3903 385.4 L29.9795 385.4 Q28.7381 382.186 28.1334 379.162 Q27.4968 376.138 27.4968 373.274 Q27.4968 365.539 31.5072 361.72 Q35.5176 357.901 43.6657 357.901 Z\" fill=\"#000000\" fill-rule=\"evenodd\" fill-opacity=\"1\" /><path clip-path=\"url(#clip600)\" d=\"M18.2347 340.045 L28.3562 340.045 L28.3562 327.982 L32.9077 327.982 L32.9077 340.045 L52.2594 340.045 Q56.6199 340.045 57.8613 338.867 Q59.1026 337.658 59.1026 333.997 L59.1026 327.982 L64.0042 327.982 L64.0042 333.997 Q64.0042 340.777 61.4897 343.355 Q58.9434 345.933 52.2594 345.933 L32.9077 345.933 L32.9077 350.23 L28.3562 350.23 L28.3562 345.933 L18.2347 345.933 L18.2347 340.045 Z\" fill=\"#000000\" fill-rule=\"evenodd\" fill-opacity=\"1\" /><path clip-path=\"url(#clip600)\" d=\"M28.3562 320.279 L28.3562 314.423 L64.0042 314.423 L64.0042 320.279 L28.3562 320.279 M14.479 320.279 L14.479 314.423 L21.895 314.423 L21.895 320.279 L14.479 320.279 Z\" fill=\"#000000\" fill-rule=\"evenodd\" fill-opacity=\"1\" /><path clip-path=\"url(#clip600)\" d=\"M32.4621 288.355 Q32.4621 293.066 36.1542 295.803 Q39.8145 298.54 46.212 298.54 Q52.6095 298.54 56.3017 295.835 Q59.9619 293.098 59.9619 288.355 Q59.9619 283.676 56.2698 280.939 Q52.5777 278.202 46.212 278.202 Q39.8781 278.202 36.186 280.939 Q32.4621 283.676 32.4621 288.355 M27.4968 288.355 Q27.4968 280.716 32.4621 276.356 Q37.4273 271.995 46.212 271.995 Q54.9649 271.995 59.9619 276.356 Q64.9272 280.716 64.9272 288.355 Q64.9272 296.026 59.9619 300.386 Q54.9649 304.715 46.212 304.715 Q37.4273 304.715 32.4621 300.386 Q27.4968 296.026 27.4968 288.355 Z\" fill=\"#000000\" fill-rule=\"evenodd\" fill-opacity=\"1\" /><path clip-path=\"url(#clip600)\" d=\"M42.4881 232.655 L64.0042 232.655 L64.0042 238.512 L42.679 238.512 Q37.6183 238.512 35.1038 240.485 Q32.5894 242.459 32.5894 246.405 Q32.5894 251.148 35.6131 253.885 Q38.6368 256.622 43.8567 256.622 L64.0042 256.622 L64.0042 262.511 L28.3562 262.511 L28.3562 256.622 L33.8944 256.622 Q30.6797 254.522 29.0883 251.689 Q27.4968 248.824 27.4968 245.1 Q27.4968 238.957 31.3163 235.806 Q35.1038 232.655 42.4881 232.655 Z\" fill=\"#000000\" fill-rule=\"evenodd\" fill-opacity=\"1\" /><polyline clip-path=\"url(#clip602)\" style=\"stroke:#009af9; stroke-linecap:butt; stroke-linejoin:round; stroke-width:4; stroke-opacity:1; fill:none\" points=\"\n",
       "  309.067,1289.62 419.298,432.182 529.53,206.679 639.761,275.262 749.992,130.216 860.224,225.338 970.455,176.129 1080.69,159.76 1190.92,163.429 1301.15,234.167 \n",
       "  1411.38,275.692 1521.61,294.9 1631.84,267.98 1742.07,294.756 1852.31,300.554 1962.54,388.955 2072.77,388.718 2183,390.5 2293.23,406.01 \n",
       "  \"/>\n",
       "<polyline clip-path=\"url(#clip602)\" style=\"stroke:#009af9; stroke-linecap:butt; stroke-linejoin:round; stroke-width:4; stroke-opacity:1; fill:none\" points=\"\n",
       "  309.067,1384.24 309.067,1195 \n",
       "  \"/>\n",
       "<polyline clip-path=\"url(#clip602)\" style=\"stroke:#009af9; stroke-linecap:butt; stroke-linejoin:round; stroke-width:4; stroke-opacity:1; fill:none\" points=\"\n",
       "  419.298,557.098 419.298,307.267 \n",
       "  \"/>\n",
       "<polyline clip-path=\"url(#clip602)\" style=\"stroke:#009af9; stroke-linecap:butt; stroke-linejoin:round; stroke-width:4; stroke-opacity:1; fill:none\" points=\"\n",
       "  529.53,252.621 529.53,160.736 \n",
       "  \"/>\n",
       "<polyline clip-path=\"url(#clip602)\" style=\"stroke:#009af9; stroke-linecap:butt; stroke-linejoin:round; stroke-width:4; stroke-opacity:1; fill:none\" points=\"\n",
       "  639.761,356.925 639.761,193.599 \n",
       "  \"/>\n",
       "<polyline clip-path=\"url(#clip602)\" style=\"stroke:#009af9; stroke-linecap:butt; stroke-linejoin:round; stroke-width:4; stroke-opacity:1; fill:none\" points=\"\n",
       "  749.992,174.247 749.992,86.1857 \n",
       "  \"/>\n",
       "<polyline clip-path=\"url(#clip602)\" style=\"stroke:#009af9; stroke-linecap:butt; stroke-linejoin:round; stroke-width:4; stroke-opacity:1; fill:none\" points=\"\n",
       "  860.224,233.707 860.224,216.968 \n",
       "  \"/>\n",
       "<polyline clip-path=\"url(#clip602)\" style=\"stroke:#009af9; stroke-linecap:butt; stroke-linejoin:round; stroke-width:4; stroke-opacity:1; fill:none\" points=\"\n",
       "  970.455,255.711 970.455,96.5475 \n",
       "  \"/>\n",
       "<polyline clip-path=\"url(#clip602)\" style=\"stroke:#009af9; stroke-linecap:butt; stroke-linejoin:round; stroke-width:4; stroke-opacity:1; fill:none\" points=\"\n",
       "  1080.69,202.916 1080.69,116.603 \n",
       "  \"/>\n",
       "<polyline clip-path=\"url(#clip602)\" style=\"stroke:#009af9; stroke-linecap:butt; stroke-linejoin:round; stroke-width:4; stroke-opacity:1; fill:none\" points=\"\n",
       "  1190.92,187.871 1190.92,138.986 \n",
       "  \"/>\n",
       "<polyline clip-path=\"url(#clip602)\" style=\"stroke:#009af9; stroke-linecap:butt; stroke-linejoin:round; stroke-width:4; stroke-opacity:1; fill:none\" points=\"\n",
       "  1301.15,324.117 1301.15,144.218 \n",
       "  \"/>\n",
       "<polyline clip-path=\"url(#clip602)\" style=\"stroke:#009af9; stroke-linecap:butt; stroke-linejoin:round; stroke-width:4; stroke-opacity:1; fill:none\" points=\"\n",
       "  1411.38,315.885 1411.38,235.499 \n",
       "  \"/>\n",
       "<polyline clip-path=\"url(#clip602)\" style=\"stroke:#009af9; stroke-linecap:butt; stroke-linejoin:round; stroke-width:4; stroke-opacity:1; fill:none\" points=\"\n",
       "  1521.61,331.801 1521.61,257.999 \n",
       "  \"/>\n",
       "<polyline clip-path=\"url(#clip602)\" style=\"stroke:#009af9; stroke-linecap:butt; stroke-linejoin:round; stroke-width:4; stroke-opacity:1; fill:none\" points=\"\n",
       "  1631.84,306.426 1631.84,229.535 \n",
       "  \"/>\n",
       "<polyline clip-path=\"url(#clip602)\" style=\"stroke:#009af9; stroke-linecap:butt; stroke-linejoin:round; stroke-width:4; stroke-opacity:1; fill:none\" points=\"\n",
       "  1742.07,349.567 1742.07,239.945 \n",
       "  \"/>\n",
       "<polyline clip-path=\"url(#clip602)\" style=\"stroke:#009af9; stroke-linecap:butt; stroke-linejoin:round; stroke-width:4; stroke-opacity:1; fill:none\" points=\"\n",
       "  1852.31,384.401 1852.31,216.707 \n",
       "  \"/>\n",
       "<polyline clip-path=\"url(#clip602)\" style=\"stroke:#009af9; stroke-linecap:butt; stroke-linejoin:round; stroke-width:4; stroke-opacity:1; fill:none\" points=\"\n",
       "  1962.54,446.345 1962.54,331.566 \n",
       "  \"/>\n",
       "<polyline clip-path=\"url(#clip602)\" style=\"stroke:#009af9; stroke-linecap:butt; stroke-linejoin:round; stroke-width:4; stroke-opacity:1; fill:none\" points=\"\n",
       "  2072.77,509.517 2072.77,267.918 \n",
       "  \"/>\n",
       "<polyline clip-path=\"url(#clip602)\" style=\"stroke:#009af9; stroke-linecap:butt; stroke-linejoin:round; stroke-width:4; stroke-opacity:1; fill:none\" points=\"\n",
       "  2183,482.655 2183,298.344 \n",
       "  \"/>\n",
       "<polyline clip-path=\"url(#clip602)\" style=\"stroke:#009af9; stroke-linecap:butt; stroke-linejoin:round; stroke-width:4; stroke-opacity:1; fill:none\" points=\"\n",
       "  2293.23,475.148 2293.23,336.871 \n",
       "  \"/>\n",
       "<line clip-path=\"url(#clip602)\" x1=\"325.067\" y1=\"1384.24\" x2=\"293.067\" y2=\"1384.24\" style=\"stroke:#009af9; stroke-width:3.2; stroke-opacity:1\"/>\n",
       "<line clip-path=\"url(#clip602)\" x1=\"325.067\" y1=\"1195\" x2=\"293.067\" y2=\"1195\" style=\"stroke:#009af9; stroke-width:3.2; stroke-opacity:1\"/>\n",
       "<line clip-path=\"url(#clip602)\" x1=\"435.298\" y1=\"557.098\" x2=\"403.298\" y2=\"557.098\" style=\"stroke:#009af9; stroke-width:3.2; stroke-opacity:1\"/>\n",
       "<line clip-path=\"url(#clip602)\" x1=\"435.298\" y1=\"307.267\" x2=\"403.298\" y2=\"307.267\" style=\"stroke:#009af9; stroke-width:3.2; stroke-opacity:1\"/>\n",
       "<line clip-path=\"url(#clip602)\" x1=\"545.53\" y1=\"252.621\" x2=\"513.53\" y2=\"252.621\" style=\"stroke:#009af9; stroke-width:3.2; stroke-opacity:1\"/>\n",
       "<line clip-path=\"url(#clip602)\" x1=\"545.53\" y1=\"160.736\" x2=\"513.53\" y2=\"160.736\" style=\"stroke:#009af9; stroke-width:3.2; stroke-opacity:1\"/>\n",
       "<line clip-path=\"url(#clip602)\" x1=\"655.761\" y1=\"356.925\" x2=\"623.761\" y2=\"356.925\" style=\"stroke:#009af9; stroke-width:3.2; stroke-opacity:1\"/>\n",
       "<line clip-path=\"url(#clip602)\" x1=\"655.761\" y1=\"193.599\" x2=\"623.761\" y2=\"193.599\" style=\"stroke:#009af9; stroke-width:3.2; stroke-opacity:1\"/>\n",
       "<line clip-path=\"url(#clip602)\" x1=\"765.992\" y1=\"174.247\" x2=\"733.992\" y2=\"174.247\" style=\"stroke:#009af9; stroke-width:3.2; stroke-opacity:1\"/>\n",
       "<line clip-path=\"url(#clip602)\" x1=\"765.992\" y1=\"86.1857\" x2=\"733.992\" y2=\"86.1857\" style=\"stroke:#009af9; stroke-width:3.2; stroke-opacity:1\"/>\n",
       "<line clip-path=\"url(#clip602)\" x1=\"876.224\" y1=\"233.707\" x2=\"844.224\" y2=\"233.707\" style=\"stroke:#009af9; stroke-width:3.2; stroke-opacity:1\"/>\n",
       "<line clip-path=\"url(#clip602)\" x1=\"876.224\" y1=\"216.968\" x2=\"844.224\" y2=\"216.968\" style=\"stroke:#009af9; stroke-width:3.2; stroke-opacity:1\"/>\n",
       "<line clip-path=\"url(#clip602)\" x1=\"986.455\" y1=\"255.711\" x2=\"954.455\" y2=\"255.711\" style=\"stroke:#009af9; stroke-width:3.2; stroke-opacity:1\"/>\n",
       "<line clip-path=\"url(#clip602)\" x1=\"986.455\" y1=\"96.5475\" x2=\"954.455\" y2=\"96.5475\" style=\"stroke:#009af9; stroke-width:3.2; stroke-opacity:1\"/>\n",
       "<line clip-path=\"url(#clip602)\" x1=\"1096.69\" y1=\"202.916\" x2=\"1064.69\" y2=\"202.916\" style=\"stroke:#009af9; stroke-width:3.2; stroke-opacity:1\"/>\n",
       "<line clip-path=\"url(#clip602)\" x1=\"1096.69\" y1=\"116.603\" x2=\"1064.69\" y2=\"116.603\" style=\"stroke:#009af9; stroke-width:3.2; stroke-opacity:1\"/>\n",
       "<line clip-path=\"url(#clip602)\" x1=\"1206.92\" y1=\"187.871\" x2=\"1174.92\" y2=\"187.871\" style=\"stroke:#009af9; stroke-width:3.2; stroke-opacity:1\"/>\n",
       "<line clip-path=\"url(#clip602)\" x1=\"1206.92\" y1=\"138.986\" x2=\"1174.92\" y2=\"138.986\" style=\"stroke:#009af9; stroke-width:3.2; stroke-opacity:1\"/>\n",
       "<line clip-path=\"url(#clip602)\" x1=\"1317.15\" y1=\"324.117\" x2=\"1285.15\" y2=\"324.117\" style=\"stroke:#009af9; stroke-width:3.2; stroke-opacity:1\"/>\n",
       "<line clip-path=\"url(#clip602)\" x1=\"1317.15\" y1=\"144.218\" x2=\"1285.15\" y2=\"144.218\" style=\"stroke:#009af9; stroke-width:3.2; stroke-opacity:1\"/>\n",
       "<line clip-path=\"url(#clip602)\" x1=\"1427.38\" y1=\"315.885\" x2=\"1395.38\" y2=\"315.885\" style=\"stroke:#009af9; stroke-width:3.2; stroke-opacity:1\"/>\n",
       "<line clip-path=\"url(#clip602)\" x1=\"1427.38\" y1=\"235.499\" x2=\"1395.38\" y2=\"235.499\" style=\"stroke:#009af9; stroke-width:3.2; stroke-opacity:1\"/>\n",
       "<line clip-path=\"url(#clip602)\" x1=\"1537.61\" y1=\"331.801\" x2=\"1505.61\" y2=\"331.801\" style=\"stroke:#009af9; stroke-width:3.2; stroke-opacity:1\"/>\n",
       "<line clip-path=\"url(#clip602)\" x1=\"1537.61\" y1=\"257.999\" x2=\"1505.61\" y2=\"257.999\" style=\"stroke:#009af9; stroke-width:3.2; stroke-opacity:1\"/>\n",
       "<line clip-path=\"url(#clip602)\" x1=\"1647.84\" y1=\"306.426\" x2=\"1615.84\" y2=\"306.426\" style=\"stroke:#009af9; stroke-width:3.2; stroke-opacity:1\"/>\n",
       "<line clip-path=\"url(#clip602)\" x1=\"1647.84\" y1=\"229.535\" x2=\"1615.84\" y2=\"229.535\" style=\"stroke:#009af9; stroke-width:3.2; stroke-opacity:1\"/>\n",
       "<line clip-path=\"url(#clip602)\" x1=\"1758.07\" y1=\"349.567\" x2=\"1726.07\" y2=\"349.567\" style=\"stroke:#009af9; stroke-width:3.2; stroke-opacity:1\"/>\n",
       "<line clip-path=\"url(#clip602)\" x1=\"1758.07\" y1=\"239.945\" x2=\"1726.07\" y2=\"239.945\" style=\"stroke:#009af9; stroke-width:3.2; stroke-opacity:1\"/>\n",
       "<line clip-path=\"url(#clip602)\" x1=\"1868.31\" y1=\"384.401\" x2=\"1836.31\" y2=\"384.401\" style=\"stroke:#009af9; stroke-width:3.2; stroke-opacity:1\"/>\n",
       "<line clip-path=\"url(#clip602)\" x1=\"1868.31\" y1=\"216.707\" x2=\"1836.31\" y2=\"216.707\" style=\"stroke:#009af9; stroke-width:3.2; stroke-opacity:1\"/>\n",
       "<line clip-path=\"url(#clip602)\" x1=\"1978.54\" y1=\"446.345\" x2=\"1946.54\" y2=\"446.345\" style=\"stroke:#009af9; stroke-width:3.2; stroke-opacity:1\"/>\n",
       "<line clip-path=\"url(#clip602)\" x1=\"1978.54\" y1=\"331.566\" x2=\"1946.54\" y2=\"331.566\" style=\"stroke:#009af9; stroke-width:3.2; stroke-opacity:1\"/>\n",
       "<line clip-path=\"url(#clip602)\" x1=\"2088.77\" y1=\"509.517\" x2=\"2056.77\" y2=\"509.517\" style=\"stroke:#009af9; stroke-width:3.2; stroke-opacity:1\"/>\n",
       "<line clip-path=\"url(#clip602)\" x1=\"2088.77\" y1=\"267.918\" x2=\"2056.77\" y2=\"267.918\" style=\"stroke:#009af9; stroke-width:3.2; stroke-opacity:1\"/>\n",
       "<line clip-path=\"url(#clip602)\" x1=\"2199\" y1=\"482.655\" x2=\"2167\" y2=\"482.655\" style=\"stroke:#009af9; stroke-width:3.2; stroke-opacity:1\"/>\n",
       "<line clip-path=\"url(#clip602)\" x1=\"2199\" y1=\"298.344\" x2=\"2167\" y2=\"298.344\" style=\"stroke:#009af9; stroke-width:3.2; stroke-opacity:1\"/>\n",
       "<line clip-path=\"url(#clip602)\" x1=\"2309.23\" y1=\"475.148\" x2=\"2277.23\" y2=\"475.148\" style=\"stroke:#009af9; stroke-width:3.2; stroke-opacity:1\"/>\n",
       "<line clip-path=\"url(#clip602)\" x1=\"2309.23\" y1=\"336.871\" x2=\"2277.23\" y2=\"336.871\" style=\"stroke:#009af9; stroke-width:3.2; stroke-opacity:1\"/>\n",
       "</svg>\n"
      ],
      "text/html": [
       "<?xml version=\"1.0\" encoding=\"utf-8\"?>\n",
       "<svg xmlns=\"http://www.w3.org/2000/svg\" xmlns:xlink=\"http://www.w3.org/1999/xlink\" width=\"600\" height=\"400\" viewBox=\"0 0 2400 1600\">\n",
       "<defs>\n",
       "  <clipPath id=\"clip650\">\n",
       "    <rect x=\"0\" y=\"0\" width=\"2400\" height=\"1600\"/>\n",
       "  </clipPath>\n",
       "</defs>\n",
       "<path clip-path=\"url(#clip650)\" d=\"\n",
       "M0 1600 L2400 1600 L2400 0 L0 0  Z\n",
       "  \" fill=\"#ffffff\" fill-rule=\"evenodd\" fill-opacity=\"1\"/>\n",
       "<defs>\n",
       "  <clipPath id=\"clip651\">\n",
       "    <rect x=\"480\" y=\"0\" width=\"1681\" height=\"1600\"/>\n",
       "  </clipPath>\n",
       "</defs>\n",
       "<path clip-path=\"url(#clip650)\" d=\"\n",
       "M249.542 1423.18 L2352.76 1423.18 L2352.76 47.2441 L249.542 47.2441  Z\n",
       "  \" fill=\"#ffffff\" fill-rule=\"evenodd\" fill-opacity=\"1\"/>\n",
       "<defs>\n",
       "  <clipPath id=\"clip652\">\n",
       "    <rect x=\"249\" y=\"47\" width=\"2104\" height=\"1377\"/>\n",
       "  </clipPath>\n",
       "</defs>\n",
       "<polyline clip-path=\"url(#clip652)\" style=\"stroke:#000000; stroke-linecap:butt; stroke-linejoin:round; stroke-width:2; stroke-opacity:0.1; fill:none\" points=\"\n",
       "  529.53,1423.18 529.53,47.2441 \n",
       "  \"/>\n",
       "<polyline clip-path=\"url(#clip652)\" style=\"stroke:#000000; stroke-linecap:butt; stroke-linejoin:round; stroke-width:2; stroke-opacity:0.1; fill:none\" points=\"\n",
       "  970.455,1423.18 970.455,47.2441 \n",
       "  \"/>\n",
       "<polyline clip-path=\"url(#clip652)\" style=\"stroke:#000000; stroke-linecap:butt; stroke-linejoin:round; stroke-width:2; stroke-opacity:0.1; fill:none\" points=\"\n",
       "  1411.38,1423.18 1411.38,47.2441 \n",
       "  \"/>\n",
       "<polyline clip-path=\"url(#clip652)\" style=\"stroke:#000000; stroke-linecap:butt; stroke-linejoin:round; stroke-width:2; stroke-opacity:0.1; fill:none\" points=\"\n",
       "  1852.31,1423.18 1852.31,47.2441 \n",
       "  \"/>\n",
       "<polyline clip-path=\"url(#clip652)\" style=\"stroke:#000000; stroke-linecap:butt; stroke-linejoin:round; stroke-width:2; stroke-opacity:0.1; fill:none\" points=\"\n",
       "  2293.23,1423.18 2293.23,47.2441 \n",
       "  \"/>\n",
       "<polyline clip-path=\"url(#clip650)\" style=\"stroke:#000000; stroke-linecap:butt; stroke-linejoin:round; stroke-width:4; stroke-opacity:1; fill:none\" points=\"\n",
       "  249.542,1423.18 2352.76,1423.18 \n",
       "  \"/>\n",
       "<polyline clip-path=\"url(#clip650)\" style=\"stroke:#000000; stroke-linecap:butt; stroke-linejoin:round; stroke-width:4; stroke-opacity:1; fill:none\" points=\"\n",
       "  529.53,1423.18 529.53,1404.28 \n",
       "  \"/>\n",
       "<polyline clip-path=\"url(#clip650)\" style=\"stroke:#000000; stroke-linecap:butt; stroke-linejoin:round; stroke-width:4; stroke-opacity:1; fill:none\" points=\"\n",
       "  970.455,1423.18 970.455,1404.28 \n",
       "  \"/>\n",
       "<polyline clip-path=\"url(#clip650)\" style=\"stroke:#000000; stroke-linecap:butt; stroke-linejoin:round; stroke-width:4; stroke-opacity:1; fill:none\" points=\"\n",
       "  1411.38,1423.18 1411.38,1404.28 \n",
       "  \"/>\n",
       "<polyline clip-path=\"url(#clip650)\" style=\"stroke:#000000; stroke-linecap:butt; stroke-linejoin:round; stroke-width:4; stroke-opacity:1; fill:none\" points=\"\n",
       "  1852.31,1423.18 1852.31,1404.28 \n",
       "  \"/>\n",
       "<polyline clip-path=\"url(#clip650)\" style=\"stroke:#000000; stroke-linecap:butt; stroke-linejoin:round; stroke-width:4; stroke-opacity:1; fill:none\" points=\"\n",
       "  2293.23,1423.18 2293.23,1404.28 \n",
       "  \"/>\n",
       "<path clip-path=\"url(#clip650)\" d=\"M508.303 1481.64 L524.622 1481.64 L524.622 1485.58 L502.678 1485.58 L502.678 1481.64 Q505.34 1478.89 509.923 1474.26 Q514.53 1469.61 515.71 1468.27 Q517.956 1465.74 518.835 1464.01 Q519.738 1462.25 519.738 1460.56 Q519.738 1457.8 517.794 1456.07 Q515.872 1454.33 512.77 1454.33 Q510.571 1454.33 508.118 1455.09 Q505.687 1455.86 502.909 1457.41 L502.909 1452.69 Q505.733 1451.55 508.187 1450.97 Q510.641 1450.39 512.678 1450.39 Q518.048 1450.39 521.243 1453.08 Q524.437 1455.77 524.437 1460.26 Q524.437 1462.39 523.627 1464.31 Q522.84 1466.2 520.733 1468.8 Q520.155 1469.47 517.053 1472.69 Q513.951 1475.88 508.303 1481.64 Z\" fill=\"#000000\" fill-rule=\"evenodd\" fill-opacity=\"1\" /><path clip-path=\"url(#clip650)\" d=\"M544.437 1454.1 Q540.826 1454.1 538.997 1457.66 Q537.192 1461.2 537.192 1468.33 Q537.192 1475.44 538.997 1479.01 Q540.826 1482.55 544.437 1482.55 Q548.071 1482.55 549.877 1479.01 Q551.705 1475.44 551.705 1468.33 Q551.705 1461.2 549.877 1457.66 Q548.071 1454.1 544.437 1454.1 M544.437 1450.39 Q550.247 1450.39 553.303 1455 Q556.381 1459.58 556.381 1468.33 Q556.381 1477.06 553.303 1481.67 Q550.247 1486.25 544.437 1486.25 Q538.627 1486.25 535.548 1481.67 Q532.493 1477.06 532.493 1468.33 Q532.493 1459.58 535.548 1455 Q538.627 1450.39 544.437 1450.39 Z\" fill=\"#000000\" fill-rule=\"evenodd\" fill-opacity=\"1\" /><path clip-path=\"url(#clip650)\" d=\"M958.626 1455.09 L946.821 1473.54 L958.626 1473.54 L958.626 1455.09 M957.399 1451.02 L963.279 1451.02 L963.279 1473.54 L968.21 1473.54 L968.21 1477.43 L963.279 1477.43 L963.279 1485.58 L958.626 1485.58 L958.626 1477.43 L943.025 1477.43 L943.025 1472.92 L957.399 1451.02 Z\" fill=\"#000000\" fill-rule=\"evenodd\" fill-opacity=\"1\" /><path clip-path=\"url(#clip650)\" d=\"M985.941 1454.1 Q982.33 1454.1 980.501 1457.66 Q978.696 1461.2 978.696 1468.33 Q978.696 1475.44 980.501 1479.01 Q982.33 1482.55 985.941 1482.55 Q989.575 1482.55 991.381 1479.01 Q993.209 1475.44 993.209 1468.33 Q993.209 1461.2 991.381 1457.66 Q989.575 1454.1 985.941 1454.1 M985.941 1450.39 Q991.751 1450.39 994.807 1455 Q997.885 1459.58 997.885 1468.33 Q997.885 1477.06 994.807 1481.67 Q991.751 1486.25 985.941 1486.25 Q980.131 1486.25 977.052 1481.67 Q973.997 1477.06 973.997 1468.33 Q973.997 1459.58 977.052 1455 Q980.131 1450.39 985.941 1450.39 Z\" fill=\"#000000\" fill-rule=\"evenodd\" fill-opacity=\"1\" /><path clip-path=\"url(#clip650)\" d=\"M1396.79 1466.44 Q1393.64 1466.44 1391.79 1468.59 Q1389.96 1470.74 1389.96 1474.49 Q1389.96 1478.22 1391.79 1480.39 Q1393.64 1482.55 1396.79 1482.55 Q1399.93 1482.55 1401.76 1480.39 Q1403.61 1478.22 1403.61 1474.49 Q1403.61 1470.74 1401.76 1468.59 Q1399.93 1466.44 1396.79 1466.44 M1406.07 1451.78 L1406.07 1456.04 Q1404.31 1455.21 1402.5 1454.77 Q1400.72 1454.33 1398.96 1454.33 Q1394.33 1454.33 1391.88 1457.45 Q1389.45 1460.58 1389.1 1466.9 Q1390.47 1464.89 1392.53 1463.82 Q1394.59 1462.73 1397.06 1462.73 Q1402.27 1462.73 1405.28 1465.9 Q1408.31 1469.05 1408.31 1474.49 Q1408.31 1479.82 1405.17 1483.03 Q1402.02 1486.25 1396.79 1486.25 Q1390.79 1486.25 1387.62 1481.67 Q1384.45 1477.06 1384.45 1468.33 Q1384.45 1460.14 1388.34 1455.28 Q1392.23 1450.39 1398.78 1450.39 Q1400.54 1450.39 1402.32 1450.74 Q1404.12 1451.09 1406.07 1451.78 Z\" fill=\"#000000\" fill-rule=\"evenodd\" fill-opacity=\"1\" /><path clip-path=\"url(#clip650)\" d=\"M1426.37 1454.1 Q1422.76 1454.1 1420.93 1457.66 Q1419.12 1461.2 1419.12 1468.33 Q1419.12 1475.44 1420.93 1479.01 Q1422.76 1482.55 1426.37 1482.55 Q1430 1482.55 1431.81 1479.01 Q1433.64 1475.44 1433.64 1468.33 Q1433.64 1461.2 1431.81 1457.66 Q1430 1454.1 1426.37 1454.1 M1426.37 1450.39 Q1432.18 1450.39 1435.23 1455 Q1438.31 1459.58 1438.31 1468.33 Q1438.31 1477.06 1435.23 1481.67 Q1432.18 1486.25 1426.37 1486.25 Q1420.56 1486.25 1417.48 1481.67 Q1414.42 1477.06 1414.42 1468.33 Q1414.42 1459.58 1417.48 1455 Q1420.56 1450.39 1426.37 1450.39 Z\" fill=\"#000000\" fill-rule=\"evenodd\" fill-opacity=\"1\" /><path clip-path=\"url(#clip650)\" d=\"M1837.18 1469.17 Q1833.85 1469.17 1831.92 1470.95 Q1830.03 1472.73 1830.03 1475.86 Q1830.03 1478.98 1831.92 1480.77 Q1833.85 1482.55 1837.18 1482.55 Q1840.51 1482.55 1842.43 1480.77 Q1844.35 1478.96 1844.35 1475.86 Q1844.35 1472.73 1842.43 1470.95 Q1840.53 1469.17 1837.18 1469.17 M1832.5 1467.18 Q1829.49 1466.44 1827.8 1464.38 Q1826.14 1462.32 1826.14 1459.35 Q1826.14 1455.21 1829.08 1452.8 Q1832.04 1450.39 1837.18 1450.39 Q1842.34 1450.39 1845.28 1452.8 Q1848.22 1455.21 1848.22 1459.35 Q1848.22 1462.32 1846.53 1464.38 Q1844.86 1466.44 1841.88 1467.18 Q1845.26 1467.96 1847.13 1470.26 Q1849.03 1472.55 1849.03 1475.86 Q1849.03 1480.88 1845.95 1483.57 Q1842.9 1486.25 1837.18 1486.25 Q1831.46 1486.25 1828.38 1483.57 Q1825.33 1480.88 1825.33 1475.86 Q1825.33 1472.55 1827.22 1470.26 Q1829.12 1467.96 1832.5 1467.18 M1830.79 1459.79 Q1830.79 1462.48 1832.46 1463.98 Q1834.15 1465.49 1837.18 1465.49 Q1840.19 1465.49 1841.88 1463.98 Q1843.59 1462.48 1843.59 1459.79 Q1843.59 1457.11 1841.88 1455.6 Q1840.19 1454.1 1837.18 1454.1 Q1834.15 1454.1 1832.46 1455.6 Q1830.79 1457.11 1830.79 1459.79 Z\" fill=\"#000000\" fill-rule=\"evenodd\" fill-opacity=\"1\" /><path clip-path=\"url(#clip650)\" d=\"M1867.34 1454.1 Q1863.73 1454.1 1861.9 1457.66 Q1860.09 1461.2 1860.09 1468.33 Q1860.09 1475.44 1861.9 1479.01 Q1863.73 1482.55 1867.34 1482.55 Q1870.97 1482.55 1872.78 1479.01 Q1874.61 1475.44 1874.61 1468.33 Q1874.61 1461.2 1872.78 1457.66 Q1870.97 1454.1 1867.34 1454.1 M1867.34 1450.39 Q1873.15 1450.39 1876.21 1455 Q1879.28 1459.58 1879.28 1468.33 Q1879.28 1477.06 1876.21 1481.67 Q1873.15 1486.25 1867.34 1486.25 Q1861.53 1486.25 1858.45 1481.67 Q1855.4 1477.06 1855.4 1468.33 Q1855.4 1459.58 1858.45 1455 Q1861.53 1450.39 1867.34 1450.39 Z\" fill=\"#000000\" fill-rule=\"evenodd\" fill-opacity=\"1\" /><path clip-path=\"url(#clip650)\" d=\"M2252.84 1481.64 L2260.48 1481.64 L2260.48 1455.28 L2252.17 1456.95 L2252.17 1452.69 L2260.43 1451.02 L2265.11 1451.02 L2265.11 1481.64 L2272.74 1481.64 L2272.74 1485.58 L2252.84 1485.58 L2252.84 1481.64 Z\" fill=\"#000000\" fill-rule=\"evenodd\" fill-opacity=\"1\" /><path clip-path=\"url(#clip650)\" d=\"M2292.19 1454.1 Q2288.58 1454.1 2286.75 1457.66 Q2284.94 1461.2 2284.94 1468.33 Q2284.94 1475.44 2286.75 1479.01 Q2288.58 1482.55 2292.19 1482.55 Q2295.82 1482.55 2297.63 1479.01 Q2299.46 1475.44 2299.46 1468.33 Q2299.46 1461.2 2297.63 1457.66 Q2295.82 1454.1 2292.19 1454.1 M2292.19 1450.39 Q2298 1450.39 2301.06 1455 Q2304.13 1459.58 2304.13 1468.33 Q2304.13 1477.06 2301.06 1481.67 Q2298 1486.25 2292.19 1486.25 Q2286.38 1486.25 2283.3 1481.67 Q2280.24 1477.06 2280.24 1468.33 Q2280.24 1459.58 2283.3 1455 Q2286.38 1450.39 2292.19 1450.39 Z\" fill=\"#000000\" fill-rule=\"evenodd\" fill-opacity=\"1\" /><path clip-path=\"url(#clip650)\" d=\"M2322.35 1454.1 Q2318.74 1454.1 2316.91 1457.66 Q2315.11 1461.2 2315.11 1468.33 Q2315.11 1475.44 2316.91 1479.01 Q2318.74 1482.55 2322.35 1482.55 Q2325.99 1482.55 2327.79 1479.01 Q2329.62 1475.44 2329.62 1468.33 Q2329.62 1461.2 2327.79 1457.66 Q2325.99 1454.1 2322.35 1454.1 M2322.35 1450.39 Q2328.16 1450.39 2331.22 1455 Q2334.3 1459.58 2334.3 1468.33 Q2334.3 1477.06 2331.22 1481.67 Q2328.16 1486.25 2322.35 1486.25 Q2316.54 1486.25 2313.46 1481.67 Q2310.41 1477.06 2310.41 1468.33 Q2310.41 1459.58 2313.46 1455 Q2316.54 1450.39 2322.35 1450.39 Z\" fill=\"#000000\" fill-rule=\"evenodd\" fill-opacity=\"1\" /><path clip-path=\"url(#clip650)\" d=\"M1223.98 1577.62 L1220.8 1577.62 L1220.77 1568.04 Q1217.42 1567.98 1214.08 1567.28 Q1210.74 1566.55 1207.37 1565.12 L1207.37 1559.39 Q1210.61 1561.42 1213.92 1562.47 Q1217.26 1563.49 1220.8 1563.52 L1220.8 1549.01 Q1213.76 1547.86 1210.55 1545.13 Q1207.37 1542.39 1207.37 1537.62 Q1207.37 1532.43 1210.84 1529.44 Q1214.3 1526.44 1220.8 1526 L1220.8 1518.52 L1223.98 1518.52 L1223.98 1525.9 Q1226.94 1526.03 1229.71 1526.54 Q1232.48 1527.02 1235.12 1527.88 L1235.12 1533.45 Q1232.48 1532.11 1229.68 1531.38 Q1226.91 1530.65 1223.98 1530.52 L1223.98 1544.11 Q1231.21 1545.22 1234.61 1548.09 Q1238.02 1550.95 1238.02 1555.92 Q1238.02 1561.3 1234.39 1564.42 Q1230.79 1567.5 1223.98 1567.98 L1223.98 1577.62 M1220.8 1543.54 L1220.8 1530.49 Q1217.11 1530.9 1215.16 1532.59 Q1213.22 1534.27 1213.22 1537.07 Q1213.22 1539.81 1215.01 1541.34 Q1216.82 1542.87 1220.8 1543.54 M1223.98 1549.65 L1223.98 1563.43 Q1228.02 1562.89 1230.06 1561.14 Q1232.13 1559.39 1232.13 1556.52 Q1232.13 1553.72 1230.16 1552.07 Q1228.21 1550.41 1223.98 1549.65 Z\" fill=\"#000000\" fill-rule=\"evenodd\" fill-opacity=\"1\" /><path clip-path=\"url(#clip650)\" d=\"M1273.03 1537.81 L1273.03 1518.52 L1278.88 1518.52 L1278.88 1568.04 L1273.03 1568.04 L1273.03 1562.7 Q1271.18 1565.88 1268.35 1567.44 Q1265.55 1568.97 1261.6 1568.97 Q1255.14 1568.97 1251.07 1563.81 Q1247.02 1558.65 1247.02 1550.25 Q1247.02 1541.85 1251.07 1536.69 Q1255.14 1531.54 1261.6 1531.54 Q1265.55 1531.54 1268.35 1533.1 Q1271.18 1534.62 1273.03 1537.81 M1253.07 1550.25 Q1253.07 1556.71 1255.71 1560.4 Q1258.39 1564.07 1263.03 1564.07 Q1267.68 1564.07 1270.35 1560.4 Q1273.03 1556.71 1273.03 1550.25 Q1273.03 1543.79 1270.35 1540.13 Q1267.68 1536.44 1263.03 1536.44 Q1258.39 1536.44 1255.71 1540.13 Q1253.07 1543.79 1253.07 1550.25 Z\" fill=\"#000000\" fill-rule=\"evenodd\" fill-opacity=\"1\" /><path clip-path=\"url(#clip650)\" d=\"M1318.03 1578.87 L1318.03 1583.42 L1284.17 1583.42 L1284.17 1578.87 L1318.03 1578.87 Z\" fill=\"#000000\" fill-rule=\"evenodd\" fill-opacity=\"1\" /><path clip-path=\"url(#clip650)\" d=\"M1338.12 1524.76 Q1333.15 1524.76 1330.64 1529.66 Q1328.16 1534.53 1328.16 1544.33 Q1328.16 1554.1 1330.64 1559 Q1333.15 1563.87 1338.12 1563.87 Q1343.11 1563.87 1345.6 1559 Q1348.11 1554.1 1348.11 1544.33 Q1348.11 1534.53 1345.6 1529.66 Q1343.11 1524.76 1338.12 1524.76 M1338.12 1519.66 Q1346.11 1519.66 1350.31 1526 Q1354.54 1532.3 1354.54 1544.33 Q1354.54 1556.33 1350.31 1562.66 Q1346.11 1568.97 1338.12 1568.97 Q1330.13 1568.97 1325.9 1562.66 Q1321.69 1556.33 1321.69 1544.33 Q1321.69 1532.3 1325.9 1526 Q1330.13 1519.66 1338.12 1519.66 Z\" fill=\"#000000\" fill-rule=\"evenodd\" fill-opacity=\"1\" /><path clip-path=\"url(#clip650)\" d=\"M1380.9 1577.62 L1377.71 1577.62 L1377.68 1568.04 Q1374.34 1567.98 1371 1567.28 Q1367.65 1566.55 1364.28 1565.12 L1364.28 1559.39 Q1367.53 1561.42 1370.84 1562.47 Q1374.18 1563.49 1377.71 1563.52 L1377.71 1549.01 Q1370.68 1547.86 1367.46 1545.13 Q1364.28 1542.39 1364.28 1537.62 Q1364.28 1532.43 1367.75 1529.44 Q1371.22 1526.44 1377.71 1526 L1377.71 1518.52 L1380.9 1518.52 L1380.9 1525.9 Q1383.86 1526.03 1386.62 1526.54 Q1389.39 1527.02 1392.04 1527.88 L1392.04 1533.45 Q1389.39 1532.11 1386.59 1531.38 Q1383.82 1530.65 1380.9 1530.52 L1380.9 1544.11 Q1388.12 1545.22 1391.53 1548.09 Q1394.93 1550.95 1394.93 1555.92 Q1394.93 1561.3 1391.3 1564.42 Q1387.71 1567.5 1380.9 1567.98 L1380.9 1577.62 M1377.71 1543.54 L1377.71 1530.49 Q1374.02 1530.9 1372.08 1532.59 Q1370.14 1534.27 1370.14 1537.07 Q1370.14 1539.81 1371.92 1541.34 Q1373.73 1542.87 1377.71 1543.54 M1380.9 1549.65 L1380.9 1563.43 Q1384.94 1562.89 1386.97 1561.14 Q1389.04 1559.39 1389.04 1556.52 Q1389.04 1553.72 1387.07 1552.07 Q1385.13 1550.41 1380.9 1549.65 Z\" fill=\"#000000\" fill-rule=\"evenodd\" fill-opacity=\"1\" /><polyline clip-path=\"url(#clip652)\" style=\"stroke:#000000; stroke-linecap:butt; stroke-linejoin:round; stroke-width:2; stroke-opacity:0.1; fill:none\" points=\"\n",
       "  249.542,1142 2352.76,1142 \n",
       "  \"/>\n",
       "<polyline clip-path=\"url(#clip652)\" style=\"stroke:#000000; stroke-linecap:butt; stroke-linejoin:round; stroke-width:2; stroke-opacity:0.1; fill:none\" points=\"\n",
       "  249.542,860.435 2352.76,860.435 \n",
       "  \"/>\n",
       "<polyline clip-path=\"url(#clip652)\" style=\"stroke:#000000; stroke-linecap:butt; stroke-linejoin:round; stroke-width:2; stroke-opacity:0.1; fill:none\" points=\"\n",
       "  249.542,578.875 2352.76,578.875 \n",
       "  \"/>\n",
       "<polyline clip-path=\"url(#clip652)\" style=\"stroke:#000000; stroke-linecap:butt; stroke-linejoin:round; stroke-width:2; stroke-opacity:0.1; fill:none\" points=\"\n",
       "  249.542,297.315 2352.76,297.315 \n",
       "  \"/>\n",
       "<polyline clip-path=\"url(#clip650)\" style=\"stroke:#000000; stroke-linecap:butt; stroke-linejoin:round; stroke-width:4; stroke-opacity:1; fill:none\" points=\"\n",
       "  249.542,1423.18 249.542,47.2441 \n",
       "  \"/>\n",
       "<polyline clip-path=\"url(#clip650)\" style=\"stroke:#000000; stroke-linecap:butt; stroke-linejoin:round; stroke-width:4; stroke-opacity:1; fill:none\" points=\"\n",
       "  249.542,1142 268.44,1142 \n",
       "  \"/>\n",
       "<polyline clip-path=\"url(#clip650)\" style=\"stroke:#000000; stroke-linecap:butt; stroke-linejoin:round; stroke-width:4; stroke-opacity:1; fill:none\" points=\"\n",
       "  249.542,860.435 268.44,860.435 \n",
       "  \"/>\n",
       "<polyline clip-path=\"url(#clip650)\" style=\"stroke:#000000; stroke-linecap:butt; stroke-linejoin:round; stroke-width:4; stroke-opacity:1; fill:none\" points=\"\n",
       "  249.542,578.875 268.44,578.875 \n",
       "  \"/>\n",
       "<polyline clip-path=\"url(#clip650)\" style=\"stroke:#000000; stroke-linecap:butt; stroke-linejoin:round; stroke-width:4; stroke-opacity:1; fill:none\" points=\"\n",
       "  249.542,297.315 268.44,297.315 \n",
       "  \"/>\n",
       "<path clip-path=\"url(#clip650)\" d=\"M127.2 1127.79 Q123.589 1127.79 121.76 1131.36 Q119.955 1134.9 119.955 1142.03 Q119.955 1149.14 121.76 1152.7 Q123.589 1156.24 127.2 1156.24 Q130.834 1156.24 132.64 1152.7 Q134.468 1149.14 134.468 1142.03 Q134.468 1134.9 132.64 1131.36 Q130.834 1127.79 127.2 1127.79 M127.2 1124.09 Q133.01 1124.09 136.066 1128.7 Q139.144 1133.28 139.144 1142.03 Q139.144 1150.76 136.066 1155.36 Q133.01 1159.95 127.2 1159.95 Q121.39 1159.95 118.311 1155.36 Q115.256 1150.76 115.256 1142.03 Q115.256 1133.28 118.311 1128.7 Q121.39 1124.09 127.2 1124.09 Z\" fill=\"#000000\" fill-rule=\"evenodd\" fill-opacity=\"1\" /><path clip-path=\"url(#clip650)\" d=\"M147.362 1153.4 L152.246 1153.4 L152.246 1159.28 L147.362 1159.28 L147.362 1153.4 Z\" fill=\"#000000\" fill-rule=\"evenodd\" fill-opacity=\"1\" /><path clip-path=\"url(#clip650)\" d=\"M161.251 1124.72 L183.473 1124.72 L183.473 1126.71 L170.927 1159.28 L166.042 1159.28 L177.848 1128.65 L161.251 1128.65 L161.251 1124.72 Z\" fill=\"#000000\" fill-rule=\"evenodd\" fill-opacity=\"1\" /><path clip-path=\"url(#clip650)\" d=\"M192.639 1124.72 L210.996 1124.72 L210.996 1128.65 L196.922 1128.65 L196.922 1137.12 Q197.94 1136.78 198.959 1136.61 Q199.977 1136.43 200.996 1136.43 Q206.783 1136.43 210.162 1139.6 Q213.542 1142.77 213.542 1148.19 Q213.542 1153.77 210.07 1156.87 Q206.598 1159.95 200.278 1159.95 Q198.102 1159.95 195.834 1159.58 Q193.588 1159.21 191.181 1158.47 L191.181 1153.77 Q193.264 1154.9 195.487 1155.46 Q197.709 1156.01 200.186 1156.01 Q204.19 1156.01 206.528 1153.91 Q208.866 1151.8 208.866 1148.19 Q208.866 1144.58 206.528 1142.47 Q204.19 1140.36 200.186 1140.36 Q198.311 1140.36 196.436 1140.78 Q194.584 1141.2 192.639 1142.08 L192.639 1124.72 Z\" fill=\"#000000\" fill-rule=\"evenodd\" fill-opacity=\"1\" /><path clip-path=\"url(#clip650)\" d=\"M126.205 846.234 Q122.593 846.234 120.765 849.799 Q118.959 853.34 118.959 860.47 Q118.959 867.576 120.765 871.141 Q122.593 874.683 126.205 874.683 Q129.839 874.683 131.644 871.141 Q133.473 867.576 133.473 860.47 Q133.473 853.34 131.644 849.799 Q129.839 846.234 126.205 846.234 M126.205 842.53 Q132.015 842.53 135.07 847.137 Q138.149 851.72 138.149 860.47 Q138.149 869.197 135.07 873.803 Q132.015 878.387 126.205 878.387 Q120.394 878.387 117.316 873.803 Q114.26 869.197 114.26 860.47 Q114.26 851.72 117.316 847.137 Q120.394 842.53 126.205 842.53 Z\" fill=\"#000000\" fill-rule=\"evenodd\" fill-opacity=\"1\" /><path clip-path=\"url(#clip650)\" d=\"M146.366 871.836 L151.251 871.836 L151.251 877.715 L146.366 877.715 L146.366 871.836 Z\" fill=\"#000000\" fill-rule=\"evenodd\" fill-opacity=\"1\" /><path clip-path=\"url(#clip650)\" d=\"M171.436 861.303 Q168.102 861.303 166.181 863.086 Q164.283 864.868 164.283 867.993 Q164.283 871.118 166.181 872.9 Q168.102 874.683 171.436 874.683 Q174.769 874.683 176.69 872.9 Q178.612 871.095 178.612 867.993 Q178.612 864.868 176.69 863.086 Q174.792 861.303 171.436 861.303 M166.76 859.313 Q163.751 858.572 162.061 856.512 Q160.394 854.451 160.394 851.489 Q160.394 847.345 163.334 844.938 Q166.297 842.53 171.436 842.53 Q176.598 842.53 179.538 844.938 Q182.477 847.345 182.477 851.489 Q182.477 854.451 180.788 856.512 Q179.121 858.572 176.135 859.313 Q179.514 860.1 181.389 862.391 Q183.288 864.683 183.288 867.993 Q183.288 873.016 180.209 875.701 Q177.153 878.387 171.436 878.387 Q165.718 878.387 162.64 875.701 Q159.584 873.016 159.584 867.993 Q159.584 864.683 161.482 862.391 Q163.38 860.1 166.76 859.313 M165.047 851.928 Q165.047 854.614 166.714 856.118 Q168.403 857.623 171.436 857.623 Q174.445 857.623 176.135 856.118 Q177.848 854.614 177.848 851.928 Q177.848 849.243 176.135 847.739 Q174.445 846.234 171.436 846.234 Q168.403 846.234 166.714 847.739 Q165.047 849.243 165.047 851.928 Z\" fill=\"#000000\" fill-rule=\"evenodd\" fill-opacity=\"1\" /><path clip-path=\"url(#clip650)\" d=\"M201.598 846.234 Q197.987 846.234 196.158 849.799 Q194.352 853.34 194.352 860.47 Q194.352 867.576 196.158 871.141 Q197.987 874.683 201.598 874.683 Q205.232 874.683 207.037 871.141 Q208.866 867.576 208.866 860.47 Q208.866 853.34 207.037 849.799 Q205.232 846.234 201.598 846.234 M201.598 842.53 Q207.408 842.53 210.463 847.137 Q213.542 851.72 213.542 860.47 Q213.542 869.197 210.463 873.803 Q207.408 878.387 201.598 878.387 Q195.787 878.387 192.709 873.803 Q189.653 869.197 189.653 860.47 Q189.653 851.72 192.709 847.137 Q195.787 842.53 201.598 842.53 Z\" fill=\"#000000\" fill-rule=\"evenodd\" fill-opacity=\"1\" /><path clip-path=\"url(#clip650)\" d=\"M127.2 564.674 Q123.589 564.674 121.76 568.239 Q119.955 571.78 119.955 578.91 Q119.955 586.016 121.76 589.581 Q123.589 593.123 127.2 593.123 Q130.834 593.123 132.64 589.581 Q134.468 586.016 134.468 578.91 Q134.468 571.78 132.64 568.239 Q130.834 564.674 127.2 564.674 M127.2 560.97 Q133.01 560.97 136.066 565.577 Q139.144 570.16 139.144 578.91 Q139.144 587.637 136.066 592.243 Q133.01 596.826 127.2 596.826 Q121.39 596.826 118.311 592.243 Q115.256 587.637 115.256 578.91 Q115.256 570.16 118.311 565.577 Q121.39 560.97 127.2 560.97 Z\" fill=\"#000000\" fill-rule=\"evenodd\" fill-opacity=\"1\" /><path clip-path=\"url(#clip650)\" d=\"M147.362 590.275 L152.246 590.275 L152.246 596.155 L147.362 596.155 L147.362 590.275 Z\" fill=\"#000000\" fill-rule=\"evenodd\" fill-opacity=\"1\" /><path clip-path=\"url(#clip650)\" d=\"M172.431 579.743 Q169.098 579.743 167.177 581.525 Q165.278 583.308 165.278 586.433 Q165.278 589.558 167.177 591.34 Q169.098 593.123 172.431 593.123 Q175.764 593.123 177.686 591.34 Q179.607 589.535 179.607 586.433 Q179.607 583.308 177.686 581.525 Q175.788 579.743 172.431 579.743 M167.755 577.752 Q164.746 577.012 163.056 574.951 Q161.39 572.891 161.39 569.928 Q161.39 565.785 164.329 563.377 Q167.292 560.97 172.431 560.97 Q177.593 560.97 180.533 563.377 Q183.473 565.785 183.473 569.928 Q183.473 572.891 181.783 574.951 Q180.116 577.012 177.13 577.752 Q180.51 578.539 182.385 580.831 Q184.283 583.123 184.283 586.433 Q184.283 591.456 181.204 594.141 Q178.149 596.826 172.431 596.826 Q166.714 596.826 163.635 594.141 Q160.579 591.456 160.579 586.433 Q160.579 583.123 162.477 580.831 Q164.376 578.539 167.755 577.752 M166.042 570.368 Q166.042 573.053 167.709 574.558 Q169.399 576.063 172.431 576.063 Q175.44 576.063 177.13 574.558 Q178.843 573.053 178.843 570.368 Q178.843 567.683 177.13 566.178 Q175.44 564.674 172.431 564.674 Q169.399 564.674 167.709 566.178 Q166.042 567.683 166.042 570.368 Z\" fill=\"#000000\" fill-rule=\"evenodd\" fill-opacity=\"1\" /><path clip-path=\"url(#clip650)\" d=\"M192.639 561.595 L210.996 561.595 L210.996 565.53 L196.922 565.53 L196.922 574.002 Q197.94 573.655 198.959 573.493 Q199.977 573.308 200.996 573.308 Q206.783 573.308 210.162 576.479 Q213.542 579.651 213.542 585.067 Q213.542 590.646 210.07 593.748 Q206.598 596.826 200.278 596.826 Q198.102 596.826 195.834 596.456 Q193.588 596.086 191.181 595.345 L191.181 590.646 Q193.264 591.78 195.487 592.336 Q197.709 592.891 200.186 592.891 Q204.19 592.891 206.528 590.785 Q208.866 588.678 208.866 585.067 Q208.866 581.456 206.528 579.35 Q204.19 577.243 200.186 577.243 Q198.311 577.243 196.436 577.66 Q194.584 578.076 192.639 578.956 L192.639 561.595 Z\" fill=\"#000000\" fill-rule=\"evenodd\" fill-opacity=\"1\" /><path clip-path=\"url(#clip650)\" d=\"M126.205 283.114 Q122.593 283.114 120.765 286.678 Q118.959 290.22 118.959 297.35 Q118.959 304.456 120.765 308.021 Q122.593 311.562 126.205 311.562 Q129.839 311.562 131.644 308.021 Q133.473 304.456 133.473 297.35 Q133.473 290.22 131.644 286.678 Q129.839 283.114 126.205 283.114 M126.205 279.41 Q132.015 279.41 135.07 284.016 Q138.149 288.6 138.149 297.35 Q138.149 306.076 135.07 310.683 Q132.015 315.266 126.205 315.266 Q120.394 315.266 117.316 310.683 Q114.26 306.076 114.26 297.35 Q114.26 288.6 117.316 284.016 Q120.394 279.41 126.205 279.41 Z\" fill=\"#000000\" fill-rule=\"evenodd\" fill-opacity=\"1\" /><path clip-path=\"url(#clip650)\" d=\"M146.366 308.715 L151.251 308.715 L151.251 314.595 L146.366 314.595 L146.366 308.715 Z\" fill=\"#000000\" fill-rule=\"evenodd\" fill-opacity=\"1\" /><path clip-path=\"url(#clip650)\" d=\"M161.575 313.877 L161.575 309.618 Q163.334 310.451 165.14 310.891 Q166.945 311.331 168.681 311.331 Q173.311 311.331 175.741 308.229 Q178.195 305.104 178.542 298.762 Q177.2 300.752 175.139 301.817 Q173.079 302.882 170.579 302.882 Q165.394 302.882 162.362 299.757 Q159.353 296.609 159.353 291.169 Q159.353 285.845 162.501 282.627 Q165.649 279.41 170.88 279.41 Q176.876 279.41 180.024 284.016 Q183.195 288.6 183.195 297.35 Q183.195 305.521 179.306 310.405 Q175.44 315.266 168.889 315.266 Q167.13 315.266 165.325 314.919 Q163.519 314.572 161.575 313.877 M170.88 299.225 Q174.028 299.225 175.857 297.072 Q177.709 294.919 177.709 291.169 Q177.709 287.442 175.857 285.289 Q174.028 283.114 170.88 283.114 Q167.732 283.114 165.88 285.289 Q164.052 287.442 164.052 291.169 Q164.052 294.919 165.88 297.072 Q167.732 299.225 170.88 299.225 Z\" fill=\"#000000\" fill-rule=\"evenodd\" fill-opacity=\"1\" /><path clip-path=\"url(#clip650)\" d=\"M201.598 283.114 Q197.987 283.114 196.158 286.678 Q194.352 290.22 194.352 297.35 Q194.352 304.456 196.158 308.021 Q197.987 311.562 201.598 311.562 Q205.232 311.562 207.037 308.021 Q208.866 304.456 208.866 297.35 Q208.866 290.22 207.037 286.678 Q205.232 283.114 201.598 283.114 M201.598 279.41 Q207.408 279.41 210.463 284.016 Q213.542 288.6 213.542 297.35 Q213.542 306.076 210.463 310.683 Q207.408 315.266 201.598 315.266 Q195.787 315.266 192.709 310.683 Q189.653 306.076 189.653 297.35 Q189.653 288.6 192.709 284.016 Q195.787 279.41 201.598 279.41 Z\" fill=\"#000000\" fill-rule=\"evenodd\" fill-opacity=\"1\" /><path clip-path=\"url(#clip650)\" d=\"M16.4842 1237.77 L16.4842 1229.11 L56.238 1208.04 L16.4842 1208.04 L16.4842 1201.8 L64.0042 1201.8 L64.0042 1210.46 L24.2503 1231.53 L64.0042 1231.53 L64.0042 1237.77 L16.4842 1237.77 Z\" fill=\"#000000\" fill-rule=\"evenodd\" fill-opacity=\"1\" /><path clip-path=\"url(#clip650)\" d=\"M32.4621 1175.45 Q32.4621 1180.16 36.1542 1182.9 Q39.8145 1185.63 46.212 1185.63 Q52.6095 1185.63 56.3017 1182.93 Q59.9619 1180.19 59.9619 1175.45 Q59.9619 1170.77 56.2698 1168.03 Q52.5777 1165.3 46.212 1165.3 Q39.8781 1165.3 36.186 1168.03 Q32.4621 1170.77 32.4621 1175.45 M27.4968 1175.45 Q27.4968 1167.81 32.4621 1163.45 Q37.4273 1159.09 46.212 1159.09 Q54.9649 1159.09 59.9619 1163.45 Q64.9272 1167.81 64.9272 1175.45 Q64.9272 1183.12 59.9619 1187.48 Q54.9649 1191.81 46.212 1191.81 Q37.4273 1191.81 32.4621 1187.48 Q27.4968 1183.12 27.4968 1175.45 Z\" fill=\"#000000\" fill-rule=\"evenodd\" fill-opacity=\"1\" /><path clip-path=\"url(#clip650)\" d=\"M33.8307 1128.72 Q33.2578 1129.71 33.0032 1130.89 Q32.7167 1132.03 32.7167 1133.43 Q32.7167 1138.4 35.9632 1141.07 Q39.1779 1143.72 45.2253 1143.72 L64.0042 1143.72 L64.0042 1149.6 L28.3562 1149.6 L28.3562 1143.72 L33.8944 1143.72 Q30.6479 1141.87 29.0883 1138.91 Q27.4968 1135.95 27.4968 1131.72 Q27.4968 1131.11 27.5923 1130.38 Q27.656 1129.65 27.8151 1128.76 L33.8307 1128.72 Z\" fill=\"#000000\" fill-rule=\"evenodd\" fill-opacity=\"1\" /><path clip-path=\"url(#clip650)\" d=\"M35.1993 1095.97 Q31.2526 1093.78 29.3747 1090.72 Q27.4968 1087.67 27.4968 1083.53 Q27.4968 1077.96 31.4117 1074.93 Q35.2948 1071.91 42.4881 1071.91 L64.0042 1071.91 L64.0042 1077.8 L42.679 1077.8 Q37.5546 1077.8 35.072 1079.61 Q32.5894 1081.43 32.5894 1085.15 Q32.5894 1089.7 35.6131 1092.34 Q38.6368 1094.99 43.8567 1094.99 L64.0042 1094.99 L64.0042 1100.87 L42.679 1100.87 Q37.5228 1100.87 35.072 1102.69 Q32.5894 1104.5 32.5894 1108.29 Q32.5894 1112.78 35.6449 1115.42 Q38.6686 1118.06 43.8567 1118.06 L64.0042 1118.06 L64.0042 1123.95 L28.3562 1123.95 L28.3562 1118.06 L33.8944 1118.06 Q30.616 1116.06 29.0564 1113.26 Q27.4968 1110.45 27.4968 1106.6 Q27.4968 1102.72 29.4702 1100.01 Q31.4436 1097.28 35.1993 1095.97 Z\" fill=\"#000000\" fill-rule=\"evenodd\" fill-opacity=\"1\" /><path clip-path=\"url(#clip650)\" d=\"M46.0847 1044.03 Q46.0847 1051.13 47.7079 1053.86 Q49.3312 1056.6 53.2461 1056.6 Q56.3653 1056.6 58.2114 1054.56 Q60.0256 1052.49 60.0256 1048.96 Q60.0256 1044.09 56.5881 1041.16 Q53.1188 1038.2 47.3897 1038.2 L46.0847 1038.2 L46.0847 1044.03 M43.6657 1032.35 L64.0042 1032.35 L64.0042 1038.2 L58.5933 1038.2 Q61.8398 1040.21 63.3994 1043.2 Q64.9272 1046.19 64.9272 1050.52 Q64.9272 1056 61.8716 1059.24 Q58.7843 1062.46 53.6281 1062.46 Q47.6125 1062.46 44.5569 1058.45 Q41.5014 1054.4 41.5014 1046.42 L41.5014 1038.2 L40.9285 1038.2 Q36.8862 1038.2 34.6901 1040.88 Q32.4621 1043.52 32.4621 1048.33 Q32.4621 1051.38 33.1941 1054.28 Q33.9262 1057.17 35.3903 1059.85 L29.9795 1059.85 Q28.7381 1056.63 28.1334 1053.61 Q27.4968 1050.58 27.4968 1047.72 Q27.4968 1039.99 31.5072 1036.17 Q35.5176 1032.35 43.6657 1032.35 Z\" fill=\"#000000\" fill-rule=\"evenodd\" fill-opacity=\"1\" /><path clip-path=\"url(#clip650)\" d=\"M14.479 1020.28 L14.479 1014.43 L64.0042 1014.43 L64.0042 1020.28 L14.479 1020.28 Z\" fill=\"#000000\" fill-rule=\"evenodd\" fill-opacity=\"1\" /><path clip-path=\"url(#clip650)\" d=\"M28.3562 1002.17 L28.3562 996.317 L64.0042 996.317 L64.0042 1002.17 L28.3562 1002.17 M14.479 1002.17 L14.479 996.317 L21.895 996.317 L21.895 1002.17 L14.479 1002.17 Z\" fill=\"#000000\" fill-rule=\"evenodd\" fill-opacity=\"1\" /><path clip-path=\"url(#clip650)\" d=\"M28.3562 986.61 L28.3562 958.791 L33.7034 958.791 L59.3254 980.817 L59.3254 958.791 L64.0042 958.791 L64.0042 987.405 L58.657 987.405 L33.035 965.38 L33.035 986.61 L28.3562 986.61 Z\" fill=\"#000000\" fill-rule=\"evenodd\" fill-opacity=\"1\" /><path clip-path=\"url(#clip650)\" d=\"M44.7161 919.356 L47.5806 919.356 L47.5806 946.283 Q53.6281 945.901 56.8109 942.654 Q59.9619 939.376 59.9619 933.551 Q59.9619 930.178 59.1344 927.027 Q58.3069 923.844 56.6518 920.725 L62.1899 920.725 Q63.5267 923.876 64.227 927.186 Q64.9272 930.496 64.9272 933.902 Q64.9272 942.432 59.9619 947.429 Q54.9967 952.394 46.5303 952.394 Q37.7774 952.394 32.6531 947.683 Q27.4968 942.941 27.4968 934.92 Q27.4968 927.727 32.1438 923.557 Q36.7589 919.356 44.7161 919.356 M42.9973 925.212 Q38.1912 925.276 35.3266 927.918 Q32.4621 930.528 32.4621 934.856 Q32.4621 939.758 35.2312 942.718 Q38.0002 945.646 43.0292 946.092 L42.9973 925.212 Z\" fill=\"#000000\" fill-rule=\"evenodd\" fill-opacity=\"1\" /><path clip-path=\"url(#clip650)\" d=\"M33.7671 886.286 L14.479 886.286 L14.479 880.43 L64.0042 880.43 L64.0042 886.286 L58.657 886.286 Q61.8398 888.132 63.3994 890.965 Q64.9272 893.766 64.9272 897.713 Q64.9272 904.174 59.771 908.248 Q54.6147 912.29 46.212 912.29 Q37.8093 912.29 32.6531 908.248 Q27.4968 904.174 27.4968 897.713 Q27.4968 893.766 29.0564 890.965 Q30.5842 888.132 33.7671 886.286 M46.212 906.243 Q52.6732 906.243 56.3653 903.601 Q60.0256 900.927 60.0256 896.28 Q60.0256 891.633 56.3653 888.96 Q52.6732 886.286 46.212 886.286 Q39.7508 886.286 36.0905 888.96 Q32.3984 891.633 32.3984 896.28 Q32.3984 900.927 36.0905 903.601 Q39.7508 906.243 46.212 906.243 Z\" fill=\"#000000\" fill-rule=\"evenodd\" fill-opacity=\"1\" /><path clip-path=\"url(#clip650)\" d=\"M35.1993 819.892 Q31.2526 817.696 29.3747 814.64 Q27.4968 811.585 27.4968 807.447 Q27.4968 801.877 31.4117 798.853 Q35.2948 795.829 42.4881 795.829 L64.0042 795.829 L64.0042 801.718 L42.679 801.718 Q37.5546 801.718 35.072 803.532 Q32.5894 805.346 32.5894 809.07 Q32.5894 813.622 35.6131 816.263 Q38.6368 818.905 43.8567 818.905 L64.0042 818.905 L64.0042 824.793 L42.679 824.793 Q37.5228 824.793 35.072 826.608 Q32.5894 828.422 32.5894 832.209 Q32.5894 836.697 35.6449 839.339 Q38.6686 841.981 43.8567 841.981 L64.0042 841.981 L64.0042 847.869 L28.3562 847.869 L28.3562 841.981 L33.8944 841.981 Q30.616 839.976 29.0564 837.175 Q27.4968 834.374 27.4968 830.523 Q27.4968 826.639 29.4702 823.934 Q31.4436 821.197 35.1993 819.892 Z\" fill=\"#000000\" fill-rule=\"evenodd\" fill-opacity=\"1\" /><path clip-path=\"url(#clip650)\" d=\"M49.9359 784.753 L28.3562 784.753 L28.3562 778.897 L49.7131 778.897 Q54.7739 778.897 57.3202 776.923 Q59.8346 774.95 59.8346 771.003 Q59.8346 766.261 56.8109 763.523 Q53.7872 760.754 48.5673 760.754 L28.3562 760.754 L28.3562 754.898 L64.0042 754.898 L64.0042 760.754 L58.5296 760.754 Q61.7762 762.887 63.3676 765.72 Q64.9272 768.521 64.9272 772.244 Q64.9272 778.387 61.1078 781.57 Q57.2883 784.753 49.9359 784.753 M27.4968 770.016 L27.4968 770.016 Z\" fill=\"#000000\" fill-rule=\"evenodd\" fill-opacity=\"1\" /><path clip-path=\"url(#clip650)\" d=\"M18.2347 737.042 L28.3562 737.042 L28.3562 724.979 L32.9077 724.979 L32.9077 737.042 L52.2594 737.042 Q56.6199 737.042 57.8613 735.864 Q59.1026 734.655 59.1026 730.995 L59.1026 724.979 L64.0042 724.979 L64.0042 730.995 Q64.0042 737.774 61.4897 740.352 Q58.9434 742.93 52.2594 742.93 L32.9077 742.93 L32.9077 747.227 L28.3562 747.227 L28.3562 742.93 L18.2347 742.93 L18.2347 737.042 Z\" fill=\"#000000\" fill-rule=\"evenodd\" fill-opacity=\"1\" /><path clip-path=\"url(#clip650)\" d=\"M49.9359 717.881 L28.3562 717.881 L28.3562 712.025 L49.7131 712.025 Q54.7739 712.025 57.3202 710.052 Q59.8346 708.078 59.8346 704.131 Q59.8346 699.389 56.8109 696.652 Q53.7872 693.883 48.5673 693.883 L28.3562 693.883 L28.3562 688.026 L64.0042 688.026 L64.0042 693.883 L58.5296 693.883 Q61.7762 696.015 63.3676 698.848 Q64.9272 701.649 64.9272 705.373 Q64.9272 711.516 61.1078 714.698 Q57.2883 717.881 49.9359 717.881 M27.4968 703.145 L27.4968 703.145 Z\" fill=\"#000000\" fill-rule=\"evenodd\" fill-opacity=\"1\" /><path clip-path=\"url(#clip650)\" d=\"M46.0847 659.762 Q46.0847 666.86 47.7079 669.597 Q49.3312 672.335 53.2461 672.335 Q56.3653 672.335 58.2114 670.298 Q60.0256 668.229 60.0256 664.696 Q60.0256 659.826 56.5881 656.898 Q53.1188 653.938 47.3897 653.938 L46.0847 653.938 L46.0847 659.762 M43.6657 648.081 L64.0042 648.081 L64.0042 653.938 L58.5933 653.938 Q61.8398 655.943 63.3994 658.935 Q64.9272 661.927 64.9272 666.255 Q64.9272 671.73 61.8716 674.976 Q58.7843 678.191 53.6281 678.191 Q47.6125 678.191 44.5569 674.181 Q41.5014 670.139 41.5014 662.15 L41.5014 653.938 L40.9285 653.938 Q36.8862 653.938 34.6901 656.611 Q32.4621 659.253 32.4621 664.059 Q32.4621 667.115 33.1941 670.011 Q33.9262 672.908 35.3903 675.581 L29.9795 675.581 Q28.7381 672.367 28.1334 669.343 Q27.4968 666.319 27.4968 663.455 Q27.4968 655.72 31.5072 651.901 Q35.5176 648.081 43.6657 648.081 Z\" fill=\"#000000\" fill-rule=\"evenodd\" fill-opacity=\"1\" /><path clip-path=\"url(#clip650)\" d=\"M14.479 636.018 L14.479 630.162 L64.0042 630.162 L64.0042 636.018 L14.479 636.018 Z\" fill=\"#000000\" fill-rule=\"evenodd\" fill-opacity=\"1\" /><path clip-path=\"url(#clip650)\" d=\"M28.3562 597.188 L28.3562 591.331 L64.0042 591.331 L64.0042 597.188 L28.3562 597.188 M14.479 597.188 L14.479 591.331 L21.895 591.331 L21.895 597.188 L14.479 597.188 Z\" fill=\"#000000\" fill-rule=\"evenodd\" fill-opacity=\"1\" /><path clip-path=\"url(#clip650)\" d=\"M42.4881 549.445 L64.0042 549.445 L64.0042 555.301 L42.679 555.301 Q37.6183 555.301 35.1038 557.275 Q32.5894 559.248 32.5894 563.195 Q32.5894 567.937 35.6131 570.674 Q38.6368 573.412 43.8567 573.412 L64.0042 573.412 L64.0042 579.3 L28.3562 579.3 L28.3562 573.412 L33.8944 573.412 Q30.6797 571.311 29.0883 568.478 Q27.4968 565.614 27.4968 561.89 Q27.4968 555.747 31.3163 552.596 Q35.1038 549.445 42.4881 549.445 Z\" fill=\"#000000\" fill-rule=\"evenodd\" fill-opacity=\"1\" /><path clip-path=\"url(#clip650)\" d=\"M14.479 519.717 L19.3487 519.717 L19.3487 525.319 Q19.3487 528.47 20.6219 529.711 Q21.895 530.921 25.2052 530.921 L28.3562 530.921 L28.3562 521.276 L32.9077 521.276 L32.9077 530.921 L64.0042 530.921 L64.0042 536.809 L32.9077 536.809 L32.9077 542.411 L28.3562 542.411 L28.3562 536.809 L25.8736 536.809 Q19.9216 536.809 17.2162 534.04 Q14.479 531.271 14.479 525.255 L14.479 519.717 Z\" fill=\"#000000\" fill-rule=\"evenodd\" fill-opacity=\"1\" /><path clip-path=\"url(#clip650)\" d=\"M32.4621 501.002 Q32.4621 505.712 36.1542 508.45 Q39.8145 511.187 46.212 511.187 Q52.6095 511.187 56.3017 508.481 Q59.9619 505.744 59.9619 501.002 Q59.9619 496.323 56.2698 493.586 Q52.5777 490.848 46.212 490.848 Q39.8781 490.848 36.186 493.586 Q32.4621 496.323 32.4621 501.002 M27.4968 501.002 Q27.4968 493.363 32.4621 489.002 Q37.4273 484.642 46.212 484.642 Q54.9649 484.642 59.9619 489.002 Q64.9272 493.363 64.9272 501.002 Q64.9272 508.672 59.9619 513.033 Q54.9649 517.362 46.212 517.362 Q37.4273 517.362 32.4621 513.033 Q27.4968 508.672 27.4968 501.002 Z\" fill=\"#000000\" fill-rule=\"evenodd\" fill-opacity=\"1\" /><path clip-path=\"url(#clip650)\" d=\"M33.8307 454.277 Q33.2578 455.264 33.0032 456.442 Q32.7167 457.588 32.7167 458.988 Q32.7167 463.953 35.9632 466.627 Q39.1779 469.269 45.2253 469.269 L64.0042 469.269 L64.0042 475.157 L28.3562 475.157 L28.3562 469.269 L33.8944 469.269 Q30.6479 467.423 29.0883 464.463 Q27.4968 461.502 27.4968 457.269 Q27.4968 456.665 27.5923 455.933 Q27.656 455.2 27.8151 454.309 L33.8307 454.277 Z\" fill=\"#000000\" fill-rule=\"evenodd\" fill-opacity=\"1\" /><path clip-path=\"url(#clip650)\" d=\"M35.1993 421.526 Q31.2526 419.33 29.3747 416.274 Q27.4968 413.219 27.4968 409.081 Q27.4968 403.511 31.4117 400.487 Q35.2948 397.463 42.4881 397.463 L64.0042 397.463 L64.0042 403.352 L42.679 403.352 Q37.5546 403.352 35.072 405.166 Q32.5894 406.98 32.5894 410.704 Q32.5894 415.256 35.6131 417.897 Q38.6368 420.539 43.8567 420.539 L64.0042 420.539 L64.0042 426.427 L42.679 426.427 Q37.5228 426.427 35.072 428.242 Q32.5894 430.056 32.5894 433.844 Q32.5894 438.331 35.6449 440.973 Q38.6686 443.615 43.8567 443.615 L64.0042 443.615 L64.0042 449.503 L28.3562 449.503 L28.3562 443.615 L33.8944 443.615 Q30.616 441.61 29.0564 438.809 Q27.4968 436.008 27.4968 432.157 Q27.4968 428.274 29.4702 425.568 Q31.4436 422.831 35.1993 421.526 Z\" fill=\"#000000\" fill-rule=\"evenodd\" fill-opacity=\"1\" /><path clip-path=\"url(#clip650)\" d=\"M46.0847 369.582 Q46.0847 376.679 47.7079 379.417 Q49.3312 382.154 53.2461 382.154 Q56.3653 382.154 58.2114 380.117 Q60.0256 378.048 60.0256 374.515 Q60.0256 369.645 56.5881 366.717 Q53.1188 363.757 47.3897 363.757 L46.0847 363.757 L46.0847 369.582 M43.6657 357.901 L64.0042 357.901 L64.0042 363.757 L58.5933 363.757 Q61.8398 365.762 63.3994 368.754 Q64.9272 371.746 64.9272 376.075 Q64.9272 381.549 61.8716 384.796 Q58.7843 388.01 53.6281 388.01 Q47.6125 388.01 44.5569 384 Q41.5014 379.958 41.5014 371.969 L41.5014 363.757 L40.9285 363.757 Q36.8862 363.757 34.6901 366.431 Q32.4621 369.072 32.4621 373.879 Q32.4621 376.934 33.1941 379.83 Q33.9262 382.727 35.3903 385.4 L29.9795 385.4 Q28.7381 382.186 28.1334 379.162 Q27.4968 376.138 27.4968 373.274 Q27.4968 365.539 31.5072 361.72 Q35.5176 357.901 43.6657 357.901 Z\" fill=\"#000000\" fill-rule=\"evenodd\" fill-opacity=\"1\" /><path clip-path=\"url(#clip650)\" d=\"M18.2347 340.045 L28.3562 340.045 L28.3562 327.982 L32.9077 327.982 L32.9077 340.045 L52.2594 340.045 Q56.6199 340.045 57.8613 338.867 Q59.1026 337.658 59.1026 333.997 L59.1026 327.982 L64.0042 327.982 L64.0042 333.997 Q64.0042 340.777 61.4897 343.355 Q58.9434 345.933 52.2594 345.933 L32.9077 345.933 L32.9077 350.23 L28.3562 350.23 L28.3562 345.933 L18.2347 345.933 L18.2347 340.045 Z\" fill=\"#000000\" fill-rule=\"evenodd\" fill-opacity=\"1\" /><path clip-path=\"url(#clip650)\" d=\"M28.3562 320.279 L28.3562 314.423 L64.0042 314.423 L64.0042 320.279 L28.3562 320.279 M14.479 320.279 L14.479 314.423 L21.895 314.423 L21.895 320.279 L14.479 320.279 Z\" fill=\"#000000\" fill-rule=\"evenodd\" fill-opacity=\"1\" /><path clip-path=\"url(#clip650)\" d=\"M32.4621 288.355 Q32.4621 293.066 36.1542 295.803 Q39.8145 298.54 46.212 298.54 Q52.6095 298.54 56.3017 295.835 Q59.9619 293.098 59.9619 288.355 Q59.9619 283.676 56.2698 280.939 Q52.5777 278.202 46.212 278.202 Q39.8781 278.202 36.186 280.939 Q32.4621 283.676 32.4621 288.355 M27.4968 288.355 Q27.4968 280.716 32.4621 276.356 Q37.4273 271.995 46.212 271.995 Q54.9649 271.995 59.9619 276.356 Q64.9272 280.716 64.9272 288.355 Q64.9272 296.026 59.9619 300.386 Q54.9649 304.715 46.212 304.715 Q37.4273 304.715 32.4621 300.386 Q27.4968 296.026 27.4968 288.355 Z\" fill=\"#000000\" fill-rule=\"evenodd\" fill-opacity=\"1\" /><path clip-path=\"url(#clip650)\" d=\"M42.4881 232.655 L64.0042 232.655 L64.0042 238.512 L42.679 238.512 Q37.6183 238.512 35.1038 240.485 Q32.5894 242.459 32.5894 246.405 Q32.5894 251.148 35.6131 253.885 Q38.6368 256.622 43.8567 256.622 L64.0042 256.622 L64.0042 262.511 L28.3562 262.511 L28.3562 256.622 L33.8944 256.622 Q30.6797 254.522 29.0883 251.689 Q27.4968 248.824 27.4968 245.1 Q27.4968 238.957 31.3163 235.806 Q35.1038 232.655 42.4881 232.655 Z\" fill=\"#000000\" fill-rule=\"evenodd\" fill-opacity=\"1\" /><polyline clip-path=\"url(#clip652)\" style=\"stroke:#009af9; stroke-linecap:butt; stroke-linejoin:round; stroke-width:4; stroke-opacity:1; fill:none\" points=\"\n",
       "  309.067,1289.62 419.298,432.182 529.53,206.679 639.761,275.262 749.992,130.216 860.224,225.338 970.455,176.129 1080.69,159.76 1190.92,163.429 1301.15,234.167 \n",
       "  1411.38,275.692 1521.61,294.9 1631.84,267.98 1742.07,294.756 1852.31,300.554 1962.54,388.955 2072.77,388.718 2183,390.5 2293.23,406.01 \n",
       "  \"/>\n",
       "<polyline clip-path=\"url(#clip652)\" style=\"stroke:#009af9; stroke-linecap:butt; stroke-linejoin:round; stroke-width:4; stroke-opacity:1; fill:none\" points=\"\n",
       "  309.067,1384.24 309.067,1195 \n",
       "  \"/>\n",
       "<polyline clip-path=\"url(#clip652)\" style=\"stroke:#009af9; stroke-linecap:butt; stroke-linejoin:round; stroke-width:4; stroke-opacity:1; fill:none\" points=\"\n",
       "  419.298,557.098 419.298,307.267 \n",
       "  \"/>\n",
       "<polyline clip-path=\"url(#clip652)\" style=\"stroke:#009af9; stroke-linecap:butt; stroke-linejoin:round; stroke-width:4; stroke-opacity:1; fill:none\" points=\"\n",
       "  529.53,252.621 529.53,160.736 \n",
       "  \"/>\n",
       "<polyline clip-path=\"url(#clip652)\" style=\"stroke:#009af9; stroke-linecap:butt; stroke-linejoin:round; stroke-width:4; stroke-opacity:1; fill:none\" points=\"\n",
       "  639.761,356.925 639.761,193.599 \n",
       "  \"/>\n",
       "<polyline clip-path=\"url(#clip652)\" style=\"stroke:#009af9; stroke-linecap:butt; stroke-linejoin:round; stroke-width:4; stroke-opacity:1; fill:none\" points=\"\n",
       "  749.992,174.247 749.992,86.1857 \n",
       "  \"/>\n",
       "<polyline clip-path=\"url(#clip652)\" style=\"stroke:#009af9; stroke-linecap:butt; stroke-linejoin:round; stroke-width:4; stroke-opacity:1; fill:none\" points=\"\n",
       "  860.224,233.707 860.224,216.968 \n",
       "  \"/>\n",
       "<polyline clip-path=\"url(#clip652)\" style=\"stroke:#009af9; stroke-linecap:butt; stroke-linejoin:round; stroke-width:4; stroke-opacity:1; fill:none\" points=\"\n",
       "  970.455,255.711 970.455,96.5475 \n",
       "  \"/>\n",
       "<polyline clip-path=\"url(#clip652)\" style=\"stroke:#009af9; stroke-linecap:butt; stroke-linejoin:round; stroke-width:4; stroke-opacity:1; fill:none\" points=\"\n",
       "  1080.69,202.916 1080.69,116.603 \n",
       "  \"/>\n",
       "<polyline clip-path=\"url(#clip652)\" style=\"stroke:#009af9; stroke-linecap:butt; stroke-linejoin:round; stroke-width:4; stroke-opacity:1; fill:none\" points=\"\n",
       "  1190.92,187.871 1190.92,138.986 \n",
       "  \"/>\n",
       "<polyline clip-path=\"url(#clip652)\" style=\"stroke:#009af9; stroke-linecap:butt; stroke-linejoin:round; stroke-width:4; stroke-opacity:1; fill:none\" points=\"\n",
       "  1301.15,324.117 1301.15,144.218 \n",
       "  \"/>\n",
       "<polyline clip-path=\"url(#clip652)\" style=\"stroke:#009af9; stroke-linecap:butt; stroke-linejoin:round; stroke-width:4; stroke-opacity:1; fill:none\" points=\"\n",
       "  1411.38,315.885 1411.38,235.499 \n",
       "  \"/>\n",
       "<polyline clip-path=\"url(#clip652)\" style=\"stroke:#009af9; stroke-linecap:butt; stroke-linejoin:round; stroke-width:4; stroke-opacity:1; fill:none\" points=\"\n",
       "  1521.61,331.801 1521.61,257.999 \n",
       "  \"/>\n",
       "<polyline clip-path=\"url(#clip652)\" style=\"stroke:#009af9; stroke-linecap:butt; stroke-linejoin:round; stroke-width:4; stroke-opacity:1; fill:none\" points=\"\n",
       "  1631.84,306.426 1631.84,229.535 \n",
       "  \"/>\n",
       "<polyline clip-path=\"url(#clip652)\" style=\"stroke:#009af9; stroke-linecap:butt; stroke-linejoin:round; stroke-width:4; stroke-opacity:1; fill:none\" points=\"\n",
       "  1742.07,349.567 1742.07,239.945 \n",
       "  \"/>\n",
       "<polyline clip-path=\"url(#clip652)\" style=\"stroke:#009af9; stroke-linecap:butt; stroke-linejoin:round; stroke-width:4; stroke-opacity:1; fill:none\" points=\"\n",
       "  1852.31,384.401 1852.31,216.707 \n",
       "  \"/>\n",
       "<polyline clip-path=\"url(#clip652)\" style=\"stroke:#009af9; stroke-linecap:butt; stroke-linejoin:round; stroke-width:4; stroke-opacity:1; fill:none\" points=\"\n",
       "  1962.54,446.345 1962.54,331.566 \n",
       "  \"/>\n",
       "<polyline clip-path=\"url(#clip652)\" style=\"stroke:#009af9; stroke-linecap:butt; stroke-linejoin:round; stroke-width:4; stroke-opacity:1; fill:none\" points=\"\n",
       "  2072.77,509.517 2072.77,267.918 \n",
       "  \"/>\n",
       "<polyline clip-path=\"url(#clip652)\" style=\"stroke:#009af9; stroke-linecap:butt; stroke-linejoin:round; stroke-width:4; stroke-opacity:1; fill:none\" points=\"\n",
       "  2183,482.655 2183,298.344 \n",
       "  \"/>\n",
       "<polyline clip-path=\"url(#clip652)\" style=\"stroke:#009af9; stroke-linecap:butt; stroke-linejoin:round; stroke-width:4; stroke-opacity:1; fill:none\" points=\"\n",
       "  2293.23,475.148 2293.23,336.871 \n",
       "  \"/>\n",
       "<line clip-path=\"url(#clip652)\" x1=\"325.067\" y1=\"1384.24\" x2=\"293.067\" y2=\"1384.24\" style=\"stroke:#009af9; stroke-width:3.2; stroke-opacity:1\"/>\n",
       "<line clip-path=\"url(#clip652)\" x1=\"325.067\" y1=\"1195\" x2=\"293.067\" y2=\"1195\" style=\"stroke:#009af9; stroke-width:3.2; stroke-opacity:1\"/>\n",
       "<line clip-path=\"url(#clip652)\" x1=\"435.298\" y1=\"557.098\" x2=\"403.298\" y2=\"557.098\" style=\"stroke:#009af9; stroke-width:3.2; stroke-opacity:1\"/>\n",
       "<line clip-path=\"url(#clip652)\" x1=\"435.298\" y1=\"307.267\" x2=\"403.298\" y2=\"307.267\" style=\"stroke:#009af9; stroke-width:3.2; stroke-opacity:1\"/>\n",
       "<line clip-path=\"url(#clip652)\" x1=\"545.53\" y1=\"252.621\" x2=\"513.53\" y2=\"252.621\" style=\"stroke:#009af9; stroke-width:3.2; stroke-opacity:1\"/>\n",
       "<line clip-path=\"url(#clip652)\" x1=\"545.53\" y1=\"160.736\" x2=\"513.53\" y2=\"160.736\" style=\"stroke:#009af9; stroke-width:3.2; stroke-opacity:1\"/>\n",
       "<line clip-path=\"url(#clip652)\" x1=\"655.761\" y1=\"356.925\" x2=\"623.761\" y2=\"356.925\" style=\"stroke:#009af9; stroke-width:3.2; stroke-opacity:1\"/>\n",
       "<line clip-path=\"url(#clip652)\" x1=\"655.761\" y1=\"193.599\" x2=\"623.761\" y2=\"193.599\" style=\"stroke:#009af9; stroke-width:3.2; stroke-opacity:1\"/>\n",
       "<line clip-path=\"url(#clip652)\" x1=\"765.992\" y1=\"174.247\" x2=\"733.992\" y2=\"174.247\" style=\"stroke:#009af9; stroke-width:3.2; stroke-opacity:1\"/>\n",
       "<line clip-path=\"url(#clip652)\" x1=\"765.992\" y1=\"86.1857\" x2=\"733.992\" y2=\"86.1857\" style=\"stroke:#009af9; stroke-width:3.2; stroke-opacity:1\"/>\n",
       "<line clip-path=\"url(#clip652)\" x1=\"876.224\" y1=\"233.707\" x2=\"844.224\" y2=\"233.707\" style=\"stroke:#009af9; stroke-width:3.2; stroke-opacity:1\"/>\n",
       "<line clip-path=\"url(#clip652)\" x1=\"876.224\" y1=\"216.968\" x2=\"844.224\" y2=\"216.968\" style=\"stroke:#009af9; stroke-width:3.2; stroke-opacity:1\"/>\n",
       "<line clip-path=\"url(#clip652)\" x1=\"986.455\" y1=\"255.711\" x2=\"954.455\" y2=\"255.711\" style=\"stroke:#009af9; stroke-width:3.2; stroke-opacity:1\"/>\n",
       "<line clip-path=\"url(#clip652)\" x1=\"986.455\" y1=\"96.5475\" x2=\"954.455\" y2=\"96.5475\" style=\"stroke:#009af9; stroke-width:3.2; stroke-opacity:1\"/>\n",
       "<line clip-path=\"url(#clip652)\" x1=\"1096.69\" y1=\"202.916\" x2=\"1064.69\" y2=\"202.916\" style=\"stroke:#009af9; stroke-width:3.2; stroke-opacity:1\"/>\n",
       "<line clip-path=\"url(#clip652)\" x1=\"1096.69\" y1=\"116.603\" x2=\"1064.69\" y2=\"116.603\" style=\"stroke:#009af9; stroke-width:3.2; stroke-opacity:1\"/>\n",
       "<line clip-path=\"url(#clip652)\" x1=\"1206.92\" y1=\"187.871\" x2=\"1174.92\" y2=\"187.871\" style=\"stroke:#009af9; stroke-width:3.2; stroke-opacity:1\"/>\n",
       "<line clip-path=\"url(#clip652)\" x1=\"1206.92\" y1=\"138.986\" x2=\"1174.92\" y2=\"138.986\" style=\"stroke:#009af9; stroke-width:3.2; stroke-opacity:1\"/>\n",
       "<line clip-path=\"url(#clip652)\" x1=\"1317.15\" y1=\"324.117\" x2=\"1285.15\" y2=\"324.117\" style=\"stroke:#009af9; stroke-width:3.2; stroke-opacity:1\"/>\n",
       "<line clip-path=\"url(#clip652)\" x1=\"1317.15\" y1=\"144.218\" x2=\"1285.15\" y2=\"144.218\" style=\"stroke:#009af9; stroke-width:3.2; stroke-opacity:1\"/>\n",
       "<line clip-path=\"url(#clip652)\" x1=\"1427.38\" y1=\"315.885\" x2=\"1395.38\" y2=\"315.885\" style=\"stroke:#009af9; stroke-width:3.2; stroke-opacity:1\"/>\n",
       "<line clip-path=\"url(#clip652)\" x1=\"1427.38\" y1=\"235.499\" x2=\"1395.38\" y2=\"235.499\" style=\"stroke:#009af9; stroke-width:3.2; stroke-opacity:1\"/>\n",
       "<line clip-path=\"url(#clip652)\" x1=\"1537.61\" y1=\"331.801\" x2=\"1505.61\" y2=\"331.801\" style=\"stroke:#009af9; stroke-width:3.2; stroke-opacity:1\"/>\n",
       "<line clip-path=\"url(#clip652)\" x1=\"1537.61\" y1=\"257.999\" x2=\"1505.61\" y2=\"257.999\" style=\"stroke:#009af9; stroke-width:3.2; stroke-opacity:1\"/>\n",
       "<line clip-path=\"url(#clip652)\" x1=\"1647.84\" y1=\"306.426\" x2=\"1615.84\" y2=\"306.426\" style=\"stroke:#009af9; stroke-width:3.2; stroke-opacity:1\"/>\n",
       "<line clip-path=\"url(#clip652)\" x1=\"1647.84\" y1=\"229.535\" x2=\"1615.84\" y2=\"229.535\" style=\"stroke:#009af9; stroke-width:3.2; stroke-opacity:1\"/>\n",
       "<line clip-path=\"url(#clip652)\" x1=\"1758.07\" y1=\"349.567\" x2=\"1726.07\" y2=\"349.567\" style=\"stroke:#009af9; stroke-width:3.2; stroke-opacity:1\"/>\n",
       "<line clip-path=\"url(#clip652)\" x1=\"1758.07\" y1=\"239.945\" x2=\"1726.07\" y2=\"239.945\" style=\"stroke:#009af9; stroke-width:3.2; stroke-opacity:1\"/>\n",
       "<line clip-path=\"url(#clip652)\" x1=\"1868.31\" y1=\"384.401\" x2=\"1836.31\" y2=\"384.401\" style=\"stroke:#009af9; stroke-width:3.2; stroke-opacity:1\"/>\n",
       "<line clip-path=\"url(#clip652)\" x1=\"1868.31\" y1=\"216.707\" x2=\"1836.31\" y2=\"216.707\" style=\"stroke:#009af9; stroke-width:3.2; stroke-opacity:1\"/>\n",
       "<line clip-path=\"url(#clip652)\" x1=\"1978.54\" y1=\"446.345\" x2=\"1946.54\" y2=\"446.345\" style=\"stroke:#009af9; stroke-width:3.2; stroke-opacity:1\"/>\n",
       "<line clip-path=\"url(#clip652)\" x1=\"1978.54\" y1=\"331.566\" x2=\"1946.54\" y2=\"331.566\" style=\"stroke:#009af9; stroke-width:3.2; stroke-opacity:1\"/>\n",
       "<line clip-path=\"url(#clip652)\" x1=\"2088.77\" y1=\"509.517\" x2=\"2056.77\" y2=\"509.517\" style=\"stroke:#009af9; stroke-width:3.2; stroke-opacity:1\"/>\n",
       "<line clip-path=\"url(#clip652)\" x1=\"2088.77\" y1=\"267.918\" x2=\"2056.77\" y2=\"267.918\" style=\"stroke:#009af9; stroke-width:3.2; stroke-opacity:1\"/>\n",
       "<line clip-path=\"url(#clip652)\" x1=\"2199\" y1=\"482.655\" x2=\"2167\" y2=\"482.655\" style=\"stroke:#009af9; stroke-width:3.2; stroke-opacity:1\"/>\n",
       "<line clip-path=\"url(#clip652)\" x1=\"2199\" y1=\"298.344\" x2=\"2167\" y2=\"298.344\" style=\"stroke:#009af9; stroke-width:3.2; stroke-opacity:1\"/>\n",
       "<line clip-path=\"url(#clip652)\" x1=\"2309.23\" y1=\"475.148\" x2=\"2277.23\" y2=\"475.148\" style=\"stroke:#009af9; stroke-width:3.2; stroke-opacity:1\"/>\n",
       "<line clip-path=\"url(#clip652)\" x1=\"2309.23\" y1=\"336.871\" x2=\"2277.23\" y2=\"336.871\" style=\"stroke:#009af9; stroke-width:3.2; stroke-opacity:1\"/>\n",
       "</svg>\n"
      ]
     },
     "metadata": {},
     "output_type": "display_data"
    }
   ],
   "source": [
    "# Plot Normalized mutual information vs d0\n",
    "m = mean(NMIs,dims=2)\n",
    "s = std(NMIs,dims=2)\n",
    "\n",
    "\n",
    "pgfplotsx()\n",
    "plot(d0s, m, yerror = s,\n",
    "markerstrokecolor=:auto,\n",
    "xlabel = L\"$d_0$\",\n",
    "ylabel = \"Normalized mutual information\",\n",
    "legend = false)\n",
    "savefig(\"figures/nmi_vs_d0__mu\"*string(mu)*\".pdf\")\n",
    "\n",
    "gr()\n",
    "plot(d0s, m, yerror = s,\n",
    "markerstrokecolor=:auto,\n",
    "xlabel = L\"$d_0$\",\n",
    "ylabel = \"Normalized mutual information\",\n",
    "legend = false)\n",
    "\n",
    "plot!()\n"
   ]
  },
  {
   "cell_type": "markdown",
   "metadata": {},
   "source": [
    "### Test impact of n_clusters"
   ]
  },
  {
   "cell_type": "code",
   "execution_count": 30,
   "metadata": {},
   "outputs": [
    {
     "name": "stdout",
     "output_type": "stream",
     "text": [
      "mu=0.4\n",
      "========== n_clusters step 1/10 =========="
     ]
    },
    {
     "name": "stdout",
     "output_type": "stream",
     "text": [
      "\n",
      "\n",
      "  ~~~~~ number_rep = 1/3 ~~~~~\n",
      " ------- Acc Projected Power Iteration -------\n",
      "The iteration has become stationary after "
     ]
    },
    {
     "name": "stdout",
     "output_type": "stream",
     "text": [
      "152 iterations\n",
      "  0.573471 seconds (4.06 k allocations: 315.141 MiB, 15.71% gc time)\n",
      " -------------- Clustering ------- \n",
      "dimension of embedding used for clustering: 30\n",
      "Number of updates: 10\n",
      "Modularity: 0.3656597362892861\n",
      "Number of communities: 9\n",
      " -------------------------------------------- \n",
      "The first 5 squared singular values divided by N : \n",
      "[0.22009467848939568, 0.21258238732964285, 0.18103177004102297, 0.1283557983843239, 0.0986522631363717]\n",
      " -------------------------------------------- \n",
      "  0.662758 seconds (154.49 k allocations: 362.192 MiB, 13.60% gc time)\n",
      "\n",
      "  ~~~~~ number_rep = 2/3 ~~~~~\n",
      " ------- Acc Projected Power Iteration -------\n"
     ]
    },
    {
     "name": "stdout",
     "output_type": "stream",
     "text": [
      "The iteration has become stationary after 154 iterations\n",
      "  0.555987 seconds (4.11 k allocations: 319.310 MiB, 10.26% gc time)\n",
      " -------------- Clustering ------- \n",
      "dimension of embedding used for clustering: 30\n",
      "Number of updates: "
     ]
    },
    {
     "name": "stdout",
     "output_type": "stream",
     "text": [
      "13\n",
      "Modularity: 0.3609394504934288\n",
      "Number of communities: 8\n",
      " -------------------------------------------- \n",
      "The first 5 squared singular values divided by N : \n",
      "[0.2196109099613078, 0.2125357971738493, 0.18112674841902304, 0.1285164943850295, 0.09871811932768128]\n",
      " -------------------------------------------- \n",
      "  0.659531 seconds (183.26 k allocations: 374.741 MiB, 11.68% gc time)\n",
      "\n",
      "  ~~~~~ number_rep = 3/3 ~~~~~\n",
      " ------- Acc Projected Power Iteration -------\n"
     ]
    },
    {
     "name": "stdout",
     "output_type": "stream",
     "text": [
      "The iteration has become stationary after 152 iterations\n",
      "  0.503566 seconds (4.06 k allocations: 315.143 MiB, 10.93% gc time)\n",
      " -------------- Clustering ------- \n",
      "dimension of embedding used for clustering: 30\n",
      "Number of updates: 9\n",
      "Modularity: 0.3592789474631525\n",
      "Number of communities: 9\n",
      " -------------------------------------------- \n",
      "The first 5 squared singular values divided by N : \n",
      "[0.22021202544769064, 0.21230968395021677, 0.18075643024057583, 0.12844357128690453, 0.09839128271303137]\n",
      " -------------------------------------------- \n",
      "  0.593540 seconds (152.44 k allocations: 361.574 MiB, 9.27% gc time)\n",
      "\n",
      "========== n_clusters step 2/10 ==========\n",
      "\n",
      "  ~~~~~ number_rep = 1/3 ~~~~~\n",
      " ------- Acc Projected Power Iteration -------\n"
     ]
    },
    {
     "name": "stdout",
     "output_type": "stream",
     "text": [
      "The iteration has become stationary after 145 iterations\n",
      "  0.463050 seconds (3.88 k allocations: 300.559 MiB, 10.85% gc time)\n",
      " -------------- Clustering ------- \n",
      "dimension of embedding used for clustering: 30\n",
      "Number of updates: "
     ]
    },
    {
     "name": "stdout",
     "output_type": "stream",
     "text": [
      "10\n",
      "Modularity: 0.3822785855860837\n",
      "Number of communities: 14\n",
      " -------------------------------------------- \n",
      "The first 5 squared singular values divided by N : \n",
      "[0.22064452084810618, 0.2128228250136931, 0.18128150773339588, 0.1285737050474461, 0.09739832276806437]\n",
      " -------------------------------------------- \n",
      "  0.662547 seconds (198.35 k allocations: 371.974 MiB, 7.58% gc time)\n",
      "\n",
      "  ~~~~~ number_rep = 2/3 ~~~~~\n",
      " ------- Acc Projected Power Iteration -------\n"
     ]
    },
    {
     "name": "stdout",
     "output_type": "stream",
     "text": [
      "The iteration has become stationary after 184 iterations\n",
      "  0.593888 seconds (4.89 k allocations: 381.816 MiB, 12.16% gc time)\n",
      " -------------- Clustering ------- \n",
      "dimension of embedding used for clustering: 30\n",
      "Number of updates: "
     ]
    },
    {
     "name": "stdout",
     "output_type": "stream",
     "text": [
      "11\n",
      "Modularity: 0.37656449843250556\n",
      "Number of communities: 14\n",
      " -------------------------------------------- \n",
      "The first 5 squared singular values divided by N : \n",
      "[0.21969317862191629, 0.21277081817226545, 0.18097378907509976, 0.12810830171385976, 0.09915018870884663]\n",
      " -------------------------------------------- \n",
      "  0.699146 seconds (166.37 k allocations: 441.374 MiB, 10.33% gc time)\n",
      "\n",
      "  ~~~~~ number_rep = 3/3 ~~~~~\n",
      " ------- Acc Projected Power Iteration -------\n"
     ]
    },
    {
     "name": "stdout",
     "output_type": "stream",
     "text": [
      "The iteration has become stationary after 156 iterations\n",
      "  0.486192 seconds (4.17 k allocations: 323.478 MiB, 10.55% gc time)\n",
      " -------------- Clustering ------- \n",
      "dimension of embedding used for clustering: 30\n",
      "Number of updates: "
     ]
    },
    {
     "name": "stdout",
     "output_type": "stream",
     "text": [
      "8\n",
      "Modularity: 0.36759500991025856\n",
      "Number of communities: 11\n",
      " -------------------------------------------- \n",
      "The first 5 squared singular values divided by N : \n",
      "[0.21980649081893658, 0.21253934110091358, 0.18077465982361046, 0.12851828315297234, 0.09874320890926801]\n",
      " -------------------------------------------- \n",
      "  0.597671 seconds (153.19 k allocations: 377.985 MiB, 11.95% gc time)\n",
      "\n",
      "========== n_clusters step 3/10 ==========\n",
      "\n",
      "  ~~~~~ number_rep = 1/3 ~~~~~\n",
      " ------- Acc Projected Power Iteration -------\n"
     ]
    },
    {
     "name": "stdout",
     "output_type": "stream",
     "text": [
      "The iteration has become stationary after 210 iterations\n",
      "  0.658447 seconds (5.57 k allocations: 435.989 MiB, 9.79% gc time)\n",
      " -------------- Clustering ------- \n",
      "dimension of embedding used for clustering: 30\n",
      "Number of updates: 5\n",
      "Modularity: 0.3791644088188791\n",
      "Number of communities: 16\n",
      " -------------------------------------------- \n",
      "The first 5 squared singular values divided by N : \n",
      "[0.2199960876221196, 0.21286250117517966, 0.1809300306619184, 0.12787621401719582, 0.0991398530076384]\n",
      " -------------------------------------------- \n",
      "  0.739809 seconds (107.22 k allocations: 480.435 MiB, 8.71% gc time)\n",
      "\n",
      "  ~~~~~ number_rep = 2/3 ~~~~~\n",
      " ------- Acc Projected Power Iteration -------\n"
     ]
    },
    {
     "name": "stdout",
     "output_type": "stream",
     "text": [
      "The iteration has become stationary after 154 iterations\n",
      "  0.477943 seconds (4.11 k allocations: 319.311 MiB, 10.39% gc time)\n",
      " -------------- Clustering ------- \n",
      "dimension of embedding used for clustering: 30\n",
      "Number of updates: "
     ]
    },
    {
     "name": "stdout",
     "output_type": "stream",
     "text": [
      "6\n",
      "Modularity: 0.3844350341711621\n",
      "Number of communities: 17\n",
      " -------------------------------------------- \n",
      "The first 5 squared singular values divided by N : \n",
      "[0.22003887460412772, 0.2127594474733732, 0.18066415597703547, 0.12864330067849983, 0.09823793099880829]\n",
      " -------------------------------------------- \n",
      "  0.583843 seconds (132.67 k allocations: 375.027 MiB, 8.51% gc time)\n",
      "\n",
      "  ~~~~~ number_rep = 3/3 ~~~~~\n",
      " ------- Acc Projected Power Iteration -------\n"
     ]
    },
    {
     "name": "stdout",
     "output_type": "stream",
     "text": [
      "The iteration has become stationary after 156 iterations\n",
      "  0.495375 seconds (4.17 k allocations: 323.477 MiB, 10.70% gc time)\n",
      " -------------- Clustering ------- \n",
      "dimension of embedding used for clustering: 30\n",
      "Number of updates: "
     ]
    },
    {
     "name": "stdout",
     "output_type": "stream",
     "text": [
      "6\n",
      "Modularity: 0.37732078112779194\n",
      "Number of communities: 16\n",
      " -------------------------------------------- \n",
      "The first 5 squared singular values divided by N : \n",
      "[0.22023723466497164, 0.2130222536569637, 0.1809604381752729, 0.12813128296114573, 0.09796808183123339]\n",
      " -------------------------------------------- \n",
      "  0.606871 seconds (118.25 k allocations: 373.050 MiB, 11.81% gc time)\n",
      "\n",
      "========== n_clusters step 4/10 ==========\n",
      "\n",
      "  ~~~~~ number_rep = 1/3 ~~~~~\n",
      " ------- Acc Projected Power Iteration -------\n"
     ]
    },
    {
     "name": "stdout",
     "output_type": "stream",
     "text": [
      "The iteration has become stationary after 153 iterations\n",
      "  0.453198 seconds (4.09 k allocations: 317.228 MiB, 6.88% gc time)\n",
      " -------------- Clustering ------- \n",
      "dimension of embedding used for clustering: 30\n",
      "Number of updates: "
     ]
    },
    {
     "name": "stdout",
     "output_type": "stream",
     "text": [
      "6\n",
      "Modularity: 0.38538297285418716\n",
      "Number of communities: 18\n",
      " -------------------------------------------- \n",
      "The first 5 squared singular values divided by N : \n",
      "[0.22010327564615198, 0.21262797536848332, 0.18042189387206875, 0.12821262485998364, 0.09908513764353612]\n",
      " -------------------------------------------- \n",
      "  0.731845 seconds (153.31 k allocations: 386.870 MiB, 6.66% gc time)\n",
      "\n",
      "  ~~~~~ number_rep = 2/3 ~~~~~\n",
      " ------- Acc Projected Power Iteration -------\n"
     ]
    },
    {
     "name": "stdout",
     "output_type": "stream",
     "text": [
      "The iteration has become stationary after 156 iterations\n",
      "  0.495322 seconds (4.17 k allocations: 323.477 MiB, 10.27% gc time)\n",
      " -------------- Clustering ------- \n",
      "dimension of embedding used for clustering: 30\n",
      "Number of updates: "
     ]
    },
    {
     "name": "stdout",
     "output_type": "stream",
     "text": [
      "9\n",
      "Modularity: 0.3830777339147098\n",
      "Number of communities: 17\n",
      " -------------------------------------------- \n",
      "The first 5 squared singular values divided by N : \n",
      "[0.2197269318158872, 0.21276718646154746, 0.1809075694502233, 0.1278999311808713, 0.099399778201648]\n",
      " -------------------------------------------- \n",
      "  0.625275 seconds (126.55 k allocations: 380.978 MiB, 8.14% gc time)\n",
      "\n",
      "  ~~~~~ number_rep = 3/3 ~~~~~\n",
      " ------- Acc Projected Power Iteration -------\n"
     ]
    },
    {
     "name": "stdout",
     "output_type": "stream",
     "text": [
      "The iteration has become stationary after 154 iterations\n",
      "  0.507584 seconds (4.11 k allocations: 319.310 MiB, 10.17% gc time)\n",
      " -------------- Clustering ------- \n",
      "dimension of embedding used for clustering: 30\n",
      "Number of updates: "
     ]
    },
    {
     "name": "stdout",
     "output_type": "stream",
     "text": [
      "5\n",
      "Modularity: 0.3818081713124556\n",
      "Number of communities: 17\n",
      " -------------------------------------------- \n",
      "The first 5 squared singular values divided by N : \n",
      "[0.21976612051104757, 0.21238279411970254, 0.18170222418541968, 0.12929203314967638, 0.09760516708191978]\n",
      " -------------------------------------------- \n",
      "  0.644551 seconds (126.50 k allocations: 377.141 MiB, 10.81% gc time)\n",
      "\n",
      "========== n_clusters step 5/10 ==========\n",
      "\n",
      "  ~~~~~ number_rep = 1/3 ~~~~~\n",
      " ------- Acc Projected Power Iteration -------\n"
     ]
    },
    {
     "name": "stdout",
     "output_type": "stream",
     "text": [
      "The iteration has become stationary after 150 iterations\n",
      "  0.520804 seconds (4.01 k allocations: 310.976 MiB, 5.67% gc time)\n",
      " -------------- Clustering ------- \n",
      "dimension of embedding used for clustering: 30\n",
      "Number of updates: "
     ]
    },
    {
     "name": "stdout",
     "output_type": "stream",
     "text": [
      "7\n",
      "Modularity: 0.3821474221820302\n",
      "Number of communities: 18\n",
      " -------------------------------------------- \n",
      "The first 5 squared singular values divided by N : \n",
      "[0.2203994194395416, 0.2127423776401104, 0.18079728653426821, 0.12874475600020763, 0.09827775736141998]\n",
      " -------------------------------------------- \n",
      "  0.689317 seconds (118.25 k allocations: 371.315 MiB, 7.45% gc time)\n",
      "\n",
      "  ~~~~~ number_rep = 2/3 ~~~~~\n",
      " ------- Acc Projected Power Iteration -------\n"
     ]
    },
    {
     "name": "stdout",
     "output_type": "stream",
     "text": [
      "The iteration has become stationary after 182 iterations\n",
      "  0.557225 seconds (4.84 k allocations: 377.649 MiB, 8.69% gc time)\n",
      " -------------- Clustering ------- \n",
      "dimension of embedding used for clustering: 30\n",
      "Number of updates: "
     ]
    },
    {
     "name": "stdout",
     "output_type": "stream",
     "text": [
      "9\n",
      "Modularity: 0.3874980605965648\n",
      "Number of communities: 19\n",
      " -------------------------------------------- \n",
      "The first 5 squared singular values divided by N : \n",
      "[0.219487733364772, 0.21293556686958565, 0.1809574333455891, 0.12800171215911182, 0.09923543518352633]\n",
      " -------------------------------------------- \n",
      "  0.716243 seconds (119.09 k allocations: 438.241 MiB, 9.73% gc time)\n",
      "\n",
      "  ~~~~~ number_rep = 3/3 ~~~~~\n",
      " ------- Acc Projected Power Iteration -------\n"
     ]
    },
    {
     "name": "stdout",
     "output_type": "stream",
     "text": [
      "The iteration has become stationary after 187 iterations\n",
      "  0.585033 seconds (4.97 k allocations: 388.067 MiB, 8.50% gc time)\n",
      " -------------- Clustering ------- \n",
      "dimension of embedding used for clustering: 30\n",
      "Number of updates: "
     ]
    },
    {
     "name": "stdout",
     "output_type": "stream",
     "text": [
      "7\n",
      "Modularity: 0.3844305532390372\n",
      "Number of communities: 18\n",
      " -------------------------------------------- \n",
      "The first 5 squared singular values divided by N : \n",
      "[0.21959945583508295, 0.21249945269666204, 0.1809245224857576, 0.1279069119310166, 0.09954515090313996]\n",
      " -------------------------------------------- \n",
      "  0.728665 seconds (119.20 k allocations: 448.384 MiB, 9.29% gc time)\n",
      "\n",
      "========== n_clusters step 6/10 ==========\n",
      "\n",
      "  ~~~~~ number_rep = 1/3 ~~~~~\n",
      " ------- Acc Projected Power Iteration -------\n"
     ]
    },
    {
     "name": "stdout",
     "output_type": "stream",
     "text": [
      "The iteration has become stationary after 152 iterations\n",
      "  0.482814 seconds (4.06 k allocations: 315.143 MiB, 9.79% gc time)\n",
      " -------------- Clustering ------- \n",
      "dimension of embedding used for clustering: 30\n",
      "Number of updates: "
     ]
    },
    {
     "name": "stdout",
     "output_type": "stream",
     "text": [
      "6\n",
      "Modularity: 0.3869614815145373\n",
      "Number of communities: 19\n",
      " -------------------------------------------- \n",
      "The first 5 squared singular values divided by N : \n",
      "[0.21995134015287787, 0.21273448715478122, 0.18084285219506208, 0.12808342160142858, 0.09899111791547849]\n",
      " -------------------------------------------- \n",
      "  0.617554 seconds (105.92 k allocations: 374.348 MiB, 7.65% gc time)\n",
      "\n",
      "  ~~~~~ number_rep = 2/3 ~~~~~\n",
      " ------- Acc Projected Power Iteration -------\n"
     ]
    },
    {
     "name": "stdout",
     "output_type": "stream",
     "text": [
      "The iteration has become stationary after 150 iterations\n",
      "  0.479345 seconds (4.01 k allocations: 310.976 MiB, 11.18% gc time)\n",
      " -------------- Clustering ------- \n",
      "dimension of embedding used for clustering: 30\n",
      "Number of updates: "
     ]
    },
    {
     "name": "stdout",
     "output_type": "stream",
     "text": [
      "5\n",
      "Modularity: 0.3871140296655597\n",
      "Number of communities: 20\n",
      " -------------------------------------------- \n",
      "The first 5 squared singular values divided by N : \n",
      "[0.2199353778498636, 0.21284323769323035, 0.18121406912640492, 0.12901373280055478, 0.0981379546469408]\n",
      " -------------------------------------------- \n",
      "  0.637004 seconds (124.45 k allocations: 380.001 MiB, 8.41% gc time)\n",
      "\n",
      "  ~~~~~ number_rep = 3/3 ~~~~~\n",
      " ------- Acc Projected Power Iteration -------\n"
     ]
    },
    {
     "name": "stdout",
     "output_type": "stream",
     "text": [
      "The iteration has become stationary after 153 iterations\n",
      "  0.484916 seconds (4.09 k allocations: 317.227 MiB, 11.36% gc time)\n",
      " -------------- Clustering ------- \n",
      "dimension of embedding used for clustering: 30\n",
      "Number of updates: "
     ]
    },
    {
     "name": "stdout",
     "output_type": "stream",
     "text": [
      "6\n",
      "Modularity: 0.3880855266820322\n",
      "Number of communities: 20\n",
      " -------------------------------------------- \n",
      "The first 5 squared singular values divided by N : \n",
      "[0.21990624801112163, 0.21291645385010743, 0.18124776570722617, 0.12844081891288053, 0.09817955729307726]\n",
      " -------------------------------------------- \n",
      "  0.635796 seconds (105.95 k allocations: 376.348 MiB, 11.80% gc time)\n",
      "\n",
      "========== n_clusters step 7/10 ==========\n",
      "\n",
      "  ~~~~~ number_rep = 1/3 ~~~~~\n",
      " ------- Acc Projected Power Iteration -------\n"
     ]
    },
    {
     "name": "stdout",
     "output_type": "stream",
     "text": [
      "The iteration has become stationary after 148 iterations\n",
      "  0.459867 seconds (3.96 k allocations: 306.809 MiB, 6.92% gc time)\n",
      " -------------- Clustering ------- \n",
      "dimension of embedding used for clustering: 30\n",
      "Number of updates: "
     ]
    },
    {
     "name": "stdout",
     "output_type": "stream",
     "text": [
      "5\n",
      "Modularity: 0.38784080592440096\n",
      "Number of communities: 20\n",
      " -------------------------------------------- \n",
      "The first 5 squared singular values divided by N : \n",
      "[0.22022514613757196, 0.21233334622089972, 0.18097407829030696, 0.12812997679110766, 0.09865563836407419]\n",
      " -------------------------------------------- \n",
      "  0.604405 seconds (93.50 k allocations: 363.996 MiB, 8.15% gc time)\n",
      "\n",
      "  ~~~~~ number_rep = 2/3 ~~~~~\n",
      " ------- Acc Projected Power Iteration -------\n"
     ]
    },
    {
     "name": "stdout",
     "output_type": "stream",
     "text": [
      "The iteration has become stationary after 151 iterations\n",
      "  0.471010 seconds (4.04 k allocations: 313.059 MiB, 10.38% gc time)\n",
      " -------------- Clustering ------- \n",
      "dimension of embedding used for clustering: 30\n",
      "Number of updates: "
     ]
    },
    {
     "name": "stdout",
     "output_type": "stream",
     "text": [
      "6\n",
      "Modularity: 0.38752517608788356\n",
      "Number of communities: 20\n",
      " -------------------------------------------- \n",
      "The first 5 squared singular values divided by N : \n",
      "[0.2199598569742497, 0.21219950601855112, 0.18080590718945974, 0.12816508143467598, 0.09911461654752851]\n",
      " -------------------------------------------- \n",
      "  0.620771 seconds (112.18 k allocations: 381.079 MiB, 7.87% gc time)\n",
      "\n",
      "  ~~~~~ number_rep = 3/3 ~~~~~\n",
      " ------- Acc Projected Power Iteration -------\n"
     ]
    },
    {
     "name": "stdout",
     "output_type": "stream",
     "text": [
      "The iteration has become stationary after 147 iterations\n",
      "  0.451083 seconds (3.93 k allocations: 304.726 MiB, 11.42% gc time)\n",
      " -------------- Clustering ------- \n",
      "dimension of embedding used for clustering: 30\n",
      "Number of updates: "
     ]
    },
    {
     "name": "stdout",
     "output_type": "stream",
     "text": [
      "6\n",
      "Modularity: 0.3880639496562594\n",
      "Number of communities: 20\n",
      " -------------------------------------------- \n",
      "The first 5 squared singular values divided by N : \n",
      "[0.22001023763237215, 0.21304959924577815, 0.18134132454025795, 0.12862468482435602, 0.09828341426135559]\n",
      " -------------------------------------------- \n",
      "  0.607153 seconds (114.16 k allocations: 374.170 MiB, 8.48% gc time)\n",
      "\n",
      "========== n_clusters step 8/10 ==========\n",
      "\n",
      "  ~~~~~ number_rep = 1/3 ~~~~~\n",
      " ------- Acc Projected Power Iteration -------\n"
     ]
    },
    {
     "name": "stdout",
     "output_type": "stream",
     "text": [
      "The iteration has become stationary after 154 iterations\n",
      "  0.483609 seconds (4.11 k allocations: 319.310 MiB, 11.44% gc time)\n",
      " -------------- Clustering ------- \n",
      "dimension of embedding used for clustering: 30\n",
      "Number of updates: "
     ]
    },
    {
     "name": "stdout",
     "output_type": "stream",
     "text": [
      "7\n",
      "Modularity: 0.3882118329563011\n",
      "Number of communities: 20\n",
      " -------------------------------------------- \n",
      "The first 5 squared singular values divided by N : \n",
      "[0.22025511768996048, 0.2128413278465828, 0.18056140958732897, 0.1284140022410287, 0.09838038981042545]\n",
      " -------------------------------------------- \n",
      "  0.664568 seconds (110.20 k allocations: 390.054 MiB, 11.07% gc time)\n",
      "\n",
      "  ~~~~~ number_rep = 2/3 ~~~~~\n",
      " ------- Acc Projected Power Iteration -------\n"
     ]
    },
    {
     "name": "stdout",
     "output_type": "stream",
     "text": [
      "The iteration has become stationary after 151 iterations\n",
      "  0.454375 seconds (4.04 k allocations: 313.059 MiB, 7.51% gc time)\n",
      " -------------- Clustering ------- \n",
      "dimension of embedding used for clustering: 30\n",
      "Number of updates: "
     ]
    },
    {
     "name": "stdout",
     "output_type": "stream",
     "text": [
      "5\n",
      "Modularity: 0.3887993575614045\n",
      "Number of communities: 20\n",
      " -------------------------------------------- \n",
      "The first 5 squared singular values divided by N : \n",
      "[0.22004012177086055, 0.21283743166394745, 0.18103611885849752, 0.12896514620413374, 0.09788760092135997]\n",
      " -------------------------------------------- \n",
      "  0.629768 seconds (103.93 k allocations: 380.193 MiB, 8.04% gc time)\n",
      "\n",
      "  ~~~~~ number_rep = 3/3 ~~~~~\n",
      " ------- Acc Projected Power Iteration -------\n"
     ]
    },
    {
     "name": "stdout",
     "output_type": "stream",
     "text": [
      "The iteration has become stationary after 149 iterations\n",
      "  0.474416 seconds (3.98 k allocations: 308.892 MiB, 11.44% gc time)\n",
      " -------------- Clustering ------- \n",
      "dimension of embedding used for clustering: 30\n",
      "Number of updates: "
     ]
    },
    {
     "name": "stdout",
     "output_type": "stream",
     "text": [
      "5\n",
      "Modularity: 0.388420271539638\n",
      "Number of communities: 20\n",
      " -------------------------------------------- \n",
      "The first 5 squared singular values divided by N : \n",
      "[0.22025682715232586, 0.2131112515233406, 0.18090378146925365, 0.12824685911370684, 0.09825268928078357]\n",
      " -------------------------------------------- \n",
      "  0.627988 seconds (99.74 k allocations: 373.299 MiB, 8.65% gc time)\n",
      "\n",
      "========== n_clusters step 9/10 ==========\n",
      "\n",
      "  ~~~~~ number_rep = 1/3 ~~~~~\n",
      " ------- Acc Projected Power Iteration -------\n"
     ]
    },
    {
     "name": "stdout",
     "output_type": "stream",
     "text": [
      "The iteration has become stationary after 110 iterations\n",
      "  0.334590 seconds (2.97 k allocations: 227.634 MiB, 11.44% gc time)\n",
      " -------------- Clustering ------- \n",
      "dimension of embedding used for clustering: 30\n",
      "Number of updates: "
     ]
    },
    {
     "name": "stdout",
     "output_type": "stream",
     "text": [
      "5\n",
      "Modularity: 0.38683710638825514\n",
      "Number of communities: 19\n",
      " -------------------------------------------- \n",
      "The first 5 squared singular values divided by N : \n",
      "[0.21921608549583604, 0.2126236115683194, 0.1811859810864068, 0.1280565742283301, 0.10022015302834529]\n",
      " -------------------------------------------- \n",
      "  0.521903 seconds (100.80 k allocations: 297.406 MiB, 10.94% gc time)\n",
      "\n",
      "  ~~~~~ number_rep = 2/3 ~~~~~\n",
      " ------- Acc Projected Power Iteration -------\n"
     ]
    },
    {
     "name": "stdout",
     "output_type": "stream",
     "text": [
      "The iteration has become stationary after 152 iterations\n",
      "  0.477971 seconds (4.06 k allocations: 315.143 MiB, 10.43% gc time)\n",
      " -------------- Clustering ------- \n",
      "dimension of embedding used for clustering: 30\n",
      "Number of updates: "
     ]
    },
    {
     "name": "stdout",
     "output_type": "stream",
     "text": [
      "5\n",
      "Modularity: 0.38762185888643536\n",
      "Number of communities: 20\n",
      " -------------------------------------------- \n",
      "The first 5 squared singular values divided by N : \n",
      "[0.22006106702158942, 0.21285993149496135, 0.18123583689772968, 0.1280646740682753, 0.09882144868676712]\n",
      " -------------------------------------------- \n",
      "  0.638704 seconds (99.83 k allocations: 384.000 MiB, 7.81% gc time)\n",
      "\n",
      "  ~~~~~ number_rep = 3/3 ~~~~~\n",
      " ------- Acc Projected Power Iteration -------\n"
     ]
    },
    {
     "name": "stdout",
     "output_type": "stream",
     "text": [
      "The iteration has become stationary after 153 iterations\n",
      "  0.474945 seconds (4.09 k allocations: 317.227 MiB, 11.41% gc time)\n",
      " -------------- Clustering ------- \n",
      "dimension of embedding used for clustering: 30\n",
      "Number of updates: "
     ]
    },
    {
     "name": "stdout",
     "output_type": "stream",
     "text": [
      "5\n",
      "Modularity: 0.3884303703568149\n",
      "Number of communities: 20\n",
      " -------------------------------------------- \n",
      "The first 5 squared singular values divided by N : \n",
      "[0.22041148734021443, 0.21265414182218328, 0.18078123428504111, 0.12830079837276845, 0.09850561563448297]\n",
      " -------------------------------------------- \n",
      "  0.694014 seconds (122.57 k allocations: 400.525 MiB, 10.95% gc time)\n",
      "\n",
      "========== n_clusters step 10/10 ==========\n",
      "\n",
      "  ~~~~~ number_rep = 1/3 ~~~~~\n",
      " ------- Acc Projected Power Iteration -------\n"
     ]
    },
    {
     "name": "stdout",
     "output_type": "stream",
     "text": [
      "The iteration has become stationary after 198 iterations\n",
      "  0.604160 seconds (5.26 k allocations: 410.986 MiB, 8.90% gc time)\n",
      " -------------- Clustering ------- \n",
      "dimension of embedding used for clustering: 30\n",
      "Number of updates: "
     ]
    },
    {
     "name": "stdout",
     "output_type": "stream",
     "text": [
      "4\n",
      "Modularity: 0.38851048791841636\n",
      "Number of communities: 20\n",
      " -------------------------------------------- \n",
      "The first 5 squared singular values divided by N : \n",
      "[0.21997932427649322, 0.2128134511817817, 0.1810529298998607, 0.12793006156373393, 0.09931495396588103]\n",
      " -------------------------------------------- \n",
      "  0.784359 seconds (82.45 k allocations: 471.104 MiB, 9.01% gc time)\n",
      "\n",
      "  ~~~~~ number_rep = 2/3 ~~~~~\n",
      " ------- Acc Projected Power Iteration -------\n"
     ]
    },
    {
     "name": "stdout",
     "output_type": "stream",
     "text": [
      "The iteration has become stationary after 212 iterations\n",
      "  0.652773 seconds (5.62 k allocations: 440.156 MiB, 7.33% gc time)\n",
      " -------------- Clustering ------- \n",
      "dimension of embedding used for clustering: 30\n",
      "Number of updates: "
     ]
    },
    {
     "name": "stdout",
     "output_type": "stream",
     "text": [
      "5\n",
      "Modularity: 0.38828473170280964\n",
      "Number of communities: 20\n",
      " -------------------------------------------- \n",
      "The first 5 squared singular values divided by N : \n",
      "[0.22027859058330201, 0.21284384047965785, 0.18105459088602496, 0.1281098241580651, 0.09906575558959652]\n",
      " -------------------------------------------- \n",
      "  0.848226 seconds (105.52 k allocations: 515.607 MiB, 7.70% gc time)\n",
      "\n",
      "  ~~~~~ number_rep = 3/3 ~~~~~\n",
      " ------- Acc Projected Power Iteration -------\n"
     ]
    },
    {
     "name": "stdout",
     "output_type": "stream",
     "text": [
      "The iteration has become stationary after 119 iterations\n",
      "  0.368788 seconds (3.20 k allocations: 246.386 MiB, 10.19% gc time)\n",
      " -------------- Clustering ------- \n",
      "dimension of embedding used for clustering: 30\n",
      "Number of updates: "
     ]
    },
    {
     "name": "stdout",
     "output_type": "stream",
     "text": [
      "6\n",
      "Modularity: 0.388022099756601\n",
      "Number of communities: 19\n",
      " -------------------------------------------- \n",
      "The first 5 squared singular values divided by N : \n",
      "[0.2196169521668317, 0.21317837721419483, 0.1811869052343557, 0.12832643756378245, 0.09903984748934398]\n",
      " -------------------------------------------- \n",
      "  0.574203 seconds (101.05 k allocations: 320.724 MiB, 9.74% gc time)\n"
     ]
    }
   ],
   "source": [
    "g = 4\n",
    "\n",
    "# Set parameters of simulations\n",
    "n_clusters_list = 10:10:100\n",
    "d0 = 30;\n",
    "shape = \"Ellipsoidal\"; #shape = \"Spherical\"\n",
    "\n",
    "n_rep = 3;\n",
    "NMIs=zeros(Float64,length(n_clusters_list),n_rep)\n",
    "\n",
    "# load communities\n",
    "community_true = readdlm(path*\"communities\"*string(g-1)*\".txt\",Int)\n",
    "\n",
    "# load graph\n",
    "edgeList = readdlm(path*\"edgeList\"*string(g-1)*\".txt\",Int)\n",
    "\n",
    "n_nodes = size(community_true)[1]\n",
    "n_edges = size(edgeList)[1]\n",
    "\n",
    "# construct sparse adjacency matrix from list of edges\n",
    "adj = sparse(edgeList[:,1].+1,edgeList[:,2].+1,vec(ones(Int64,n_edges,1)),n_nodes,n_nodes)\n",
    "adj = adj+adj' # only the upper triangular part of adjacency matrix was stored\n",
    "\n",
    "# keep only the largest connected component\n",
    "adj,vertices = largest_component(adj);\n",
    "\n",
    "community_true = community_true[vertices]\n",
    "community_true = rename_com_unique(community_true)\n",
    "\n",
    "# load parameters\n",
    "LFR_parameters = readdlm(path*\"parameters\"*string(g-1)*\".txt\")\n",
    "mu = parse(Float64, split(LFR_parameters[4],\"=\")[2]) # extract mixing marameter (not very robust)\n",
    "print(\"mu=$mu\")\n",
    "\n",
    "for i=1:length(n_clusters_list)\n",
    "    println(\"\\n========== n_clusters step $i/$(length(n_clusters_list)) ==========\")\n",
    "    n_clusters = n_clusters_list[i]\n",
    "    for j=1:n_rep\n",
    "        println(\"\\n  ~~~~~ number_rep = $j/$(n_rep) ~~~~~\")\n",
    "\n",
    "        # embed cluster\n",
    "        _,community,_ = @time sphere_embed_cluster(adj, d0,shape, n_clusters)\n",
    "\n",
    "        NMIs[i,j] = mutualinfo(community_true,community);\n",
    "    end\n",
    "end\n",
    "\n",
    "\n"
   ]
  },
  {
   "cell_type": "code",
   "execution_count": 35,
   "metadata": {},
   "outputs": [
    {
     "data": {
      "image/png": "[encoded data removed]",
      "image/svg+xml": [
       "<?xml version=\"1.0\" encoding=\"utf-8\"?>\n",
       "<svg xmlns=\"http://www.w3.org/2000/svg\" xmlns:xlink=\"http://www.w3.org/1999/xlink\" width=\"600\" height=\"400\" viewBox=\"0 0 2400 1600\">\n",
       "<defs>\n",
       "  <clipPath id=\"clip890\">\n",
       "    <rect x=\"0\" y=\"0\" width=\"2400\" height=\"1600\"/>\n",
       "  </clipPath>\n",
       "</defs>\n",
       "<path clip-path=\"url(#clip890)\" d=\"\n",
       "M0 1600 L2400 1600 L2400 0 L0 0  Z\n",
       "  \" fill=\"#ffffff\" fill-rule=\"evenodd\" fill-opacity=\"1\"/>\n",
       "<defs>\n",
       "  <clipPath id=\"clip891\">\n",
       "    <rect x=\"480\" y=\"0\" width=\"1681\" height=\"1600\"/>\n",
       "  </clipPath>\n",
       "</defs>\n",
       "<path clip-path=\"url(#clip890)\" d=\"\n",
       "M249.542 1423.18 L2352.76 1423.18 L2352.76 47.2441 L249.542 47.2441  Z\n",
       "  \" fill=\"#ffffff\" fill-rule=\"evenodd\" fill-opacity=\"1\"/>\n",
       "<defs>\n",
       "  <clipPath id=\"clip892\">\n",
       "    <rect x=\"249\" y=\"47\" width=\"2104\" height=\"1377\"/>\n",
       "  </clipPath>\n",
       "</defs>\n",
       "<polyline clip-path=\"url(#clip892)\" style=\"stroke:#000000; stroke-linecap:butt; stroke-linejoin:round; stroke-width:2; stroke-opacity:0.1; fill:none\" points=\"\n",
       "  529.53,1423.18 529.53,47.2441 \n",
       "  \"/>\n",
       "<polyline clip-path=\"url(#clip892)\" style=\"stroke:#000000; stroke-linecap:butt; stroke-linejoin:round; stroke-width:2; stroke-opacity:0.1; fill:none\" points=\"\n",
       "  970.455,1423.18 970.455,47.2441 \n",
       "  \"/>\n",
       "<polyline clip-path=\"url(#clip892)\" style=\"stroke:#000000; stroke-linecap:butt; stroke-linejoin:round; stroke-width:2; stroke-opacity:0.1; fill:none\" points=\"\n",
       "  1411.38,1423.18 1411.38,47.2441 \n",
       "  \"/>\n",
       "<polyline clip-path=\"url(#clip892)\" style=\"stroke:#000000; stroke-linecap:butt; stroke-linejoin:round; stroke-width:2; stroke-opacity:0.1; fill:none\" points=\"\n",
       "  1852.31,1423.18 1852.31,47.2441 \n",
       "  \"/>\n",
       "<polyline clip-path=\"url(#clip892)\" style=\"stroke:#000000; stroke-linecap:butt; stroke-linejoin:round; stroke-width:2; stroke-opacity:0.1; fill:none\" points=\"\n",
       "  2293.23,1423.18 2293.23,47.2441 \n",
       "  \"/>\n",
       "<polyline clip-path=\"url(#clip890)\" style=\"stroke:#000000; stroke-linecap:butt; stroke-linejoin:round; stroke-width:4; stroke-opacity:1; fill:none\" points=\"\n",
       "  249.542,1423.18 2352.76,1423.18 \n",
       "  \"/>\n",
       "<polyline clip-path=\"url(#clip890)\" style=\"stroke:#000000; stroke-linecap:butt; stroke-linejoin:round; stroke-width:4; stroke-opacity:1; fill:none\" points=\"\n",
       "  529.53,1423.18 529.53,1404.28 \n",
       "  \"/>\n",
       "<polyline clip-path=\"url(#clip890)\" style=\"stroke:#000000; stroke-linecap:butt; stroke-linejoin:round; stroke-width:4; stroke-opacity:1; fill:none\" points=\"\n",
       "  970.455,1423.18 970.455,1404.28 \n",
       "  \"/>\n",
       "<polyline clip-path=\"url(#clip890)\" style=\"stroke:#000000; stroke-linecap:butt; stroke-linejoin:round; stroke-width:4; stroke-opacity:1; fill:none\" points=\"\n",
       "  1411.38,1423.18 1411.38,1404.28 \n",
       "  \"/>\n",
       "<polyline clip-path=\"url(#clip890)\" style=\"stroke:#000000; stroke-linecap:butt; stroke-linejoin:round; stroke-width:4; stroke-opacity:1; fill:none\" points=\"\n",
       "  1852.31,1423.18 1852.31,1404.28 \n",
       "  \"/>\n",
       "<polyline clip-path=\"url(#clip890)\" style=\"stroke:#000000; stroke-linecap:butt; stroke-linejoin:round; stroke-width:4; stroke-opacity:1; fill:none\" points=\"\n",
       "  2293.23,1423.18 2293.23,1404.28 \n",
       "  \"/>\n",
       "<path clip-path=\"url(#clip890)\" d=\"M508.303 1481.64 L524.622 1481.64 L524.622 1485.58 L502.678 1485.58 L502.678 1481.64 Q505.34 1478.89 509.923 1474.26 Q514.53 1469.61 515.71 1468.27 Q517.956 1465.74 518.835 1464.01 Q519.738 1462.25 519.738 1460.56 Q519.738 1457.8 517.794 1456.07 Q515.872 1454.33 512.77 1454.33 Q510.571 1454.33 508.118 1455.09 Q505.687 1455.86 502.909 1457.41 L502.909 1452.69 Q505.733 1451.55 508.187 1450.97 Q510.641 1450.39 512.678 1450.39 Q518.048 1450.39 521.243 1453.08 Q524.437 1455.77 524.437 1460.26 Q524.437 1462.39 523.627 1464.31 Q522.84 1466.2 520.733 1468.8 Q520.155 1469.47 517.053 1472.69 Q513.951 1475.88 508.303 1481.64 Z\" fill=\"#000000\" fill-rule=\"evenodd\" fill-opacity=\"1\" /><path clip-path=\"url(#clip890)\" d=\"M544.437 1454.1 Q540.826 1454.1 538.997 1457.66 Q537.192 1461.2 537.192 1468.33 Q537.192 1475.44 538.997 1479.01 Q540.826 1482.55 544.437 1482.55 Q548.071 1482.55 549.877 1479.01 Q551.705 1475.44 551.705 1468.33 Q551.705 1461.2 549.877 1457.66 Q548.071 1454.1 544.437 1454.1 M544.437 1450.39 Q550.247 1450.39 553.303 1455 Q556.381 1459.58 556.381 1468.33 Q556.381 1477.06 553.303 1481.67 Q550.247 1486.25 544.437 1486.25 Q538.627 1486.25 535.548 1481.67 Q532.493 1477.06 532.493 1468.33 Q532.493 1459.58 535.548 1455 Q538.627 1450.39 544.437 1450.39 Z\" fill=\"#000000\" fill-rule=\"evenodd\" fill-opacity=\"1\" /><path clip-path=\"url(#clip890)\" d=\"M958.626 1455.09 L946.821 1473.54 L958.626 1473.54 L958.626 1455.09 M957.399 1451.02 L963.279 1451.02 L963.279 1473.54 L968.21 1473.54 L968.21 1477.43 L963.279 1477.43 L963.279 1485.58 L958.626 1485.58 L958.626 1477.43 L943.025 1477.43 L943.025 1472.92 L957.399 1451.02 Z\" fill=\"#000000\" fill-rule=\"evenodd\" fill-opacity=\"1\" /><path clip-path=\"url(#clip890)\" d=\"M985.941 1454.1 Q982.33 1454.1 980.501 1457.66 Q978.696 1461.2 978.696 1468.33 Q978.696 1475.44 980.501 1479.01 Q982.33 1482.55 985.941 1482.55 Q989.575 1482.55 991.381 1479.01 Q993.209 1475.44 993.209 1468.33 Q993.209 1461.2 991.381 1457.66 Q989.575 1454.1 985.941 1454.1 M985.941 1450.39 Q991.751 1450.39 994.807 1455 Q997.885 1459.58 997.885 1468.33 Q997.885 1477.06 994.807 1481.67 Q991.751 1486.25 985.941 1486.25 Q980.131 1486.25 977.052 1481.67 Q973.997 1477.06 973.997 1468.33 Q973.997 1459.58 977.052 1455 Q980.131 1450.39 985.941 1450.39 Z\" fill=\"#000000\" fill-rule=\"evenodd\" fill-opacity=\"1\" /><path clip-path=\"url(#clip890)\" d=\"M1396.79 1466.44 Q1393.64 1466.44 1391.79 1468.59 Q1389.96 1470.74 1389.96 1474.49 Q1389.96 1478.22 1391.79 1480.39 Q1393.64 1482.55 1396.79 1482.55 Q1399.93 1482.55 1401.76 1480.39 Q1403.61 1478.22 1403.61 1474.49 Q1403.61 1470.74 1401.76 1468.59 Q1399.93 1466.44 1396.79 1466.44 M1406.07 1451.78 L1406.07 1456.04 Q1404.31 1455.21 1402.5 1454.77 Q1400.72 1454.33 1398.96 1454.33 Q1394.33 1454.33 1391.88 1457.45 Q1389.45 1460.58 1389.1 1466.9 Q1390.47 1464.89 1392.53 1463.82 Q1394.59 1462.73 1397.06 1462.73 Q1402.27 1462.73 1405.28 1465.9 Q1408.31 1469.05 1408.31 1474.49 Q1408.31 1479.82 1405.17 1483.03 Q1402.02 1486.25 1396.79 1486.25 Q1390.79 1486.25 1387.62 1481.67 Q1384.45 1477.06 1384.45 1468.33 Q1384.45 1460.14 1388.34 1455.28 Q1392.23 1450.39 1398.78 1450.39 Q1400.54 1450.39 1402.32 1450.74 Q1404.12 1451.09 1406.07 1451.78 Z\" fill=\"#000000\" fill-rule=\"evenodd\" fill-opacity=\"1\" /><path clip-path=\"url(#clip890)\" d=\"M1426.37 1454.1 Q1422.76 1454.1 1420.93 1457.66 Q1419.12 1461.2 1419.12 1468.33 Q1419.12 1475.44 1420.93 1479.01 Q1422.76 1482.55 1426.37 1482.55 Q1430 1482.55 1431.81 1479.01 Q1433.64 1475.44 1433.64 1468.33 Q1433.64 1461.2 1431.81 1457.66 Q1430 1454.1 1426.37 1454.1 M1426.37 1450.39 Q1432.18 1450.39 1435.23 1455 Q1438.31 1459.58 1438.31 1468.33 Q1438.31 1477.06 1435.23 1481.67 Q1432.18 1486.25 1426.37 1486.25 Q1420.56 1486.25 1417.48 1481.67 Q1414.42 1477.06 1414.42 1468.33 Q1414.42 1459.58 1417.48 1455 Q1420.56 1450.39 1426.37 1450.39 Z\" fill=\"#000000\" fill-rule=\"evenodd\" fill-opacity=\"1\" /><path clip-path=\"url(#clip890)\" d=\"M1837.18 1469.17 Q1833.85 1469.17 1831.92 1470.95 Q1830.03 1472.73 1830.03 1475.86 Q1830.03 1478.98 1831.92 1480.77 Q1833.85 1482.55 1837.18 1482.55 Q1840.51 1482.55 1842.43 1480.77 Q1844.35 1478.96 1844.35 1475.86 Q1844.35 1472.73 1842.43 1470.95 Q1840.53 1469.17 1837.18 1469.17 M1832.5 1467.18 Q1829.49 1466.44 1827.8 1464.38 Q1826.14 1462.32 1826.14 1459.35 Q1826.14 1455.21 1829.08 1452.8 Q1832.04 1450.39 1837.18 1450.39 Q1842.34 1450.39 1845.28 1452.8 Q1848.22 1455.21 1848.22 1459.35 Q1848.22 1462.32 1846.53 1464.38 Q1844.86 1466.44 1841.88 1467.18 Q1845.26 1467.96 1847.13 1470.26 Q1849.03 1472.55 1849.03 1475.86 Q1849.03 1480.88 1845.95 1483.57 Q1842.9 1486.25 1837.18 1486.25 Q1831.46 1486.25 1828.38 1483.57 Q1825.33 1480.88 1825.33 1475.86 Q1825.33 1472.55 1827.22 1470.26 Q1829.12 1467.96 1832.5 1467.18 M1830.79 1459.79 Q1830.79 1462.48 1832.46 1463.98 Q1834.15 1465.49 1837.18 1465.49 Q1840.19 1465.49 1841.88 1463.98 Q1843.59 1462.48 1843.59 1459.79 Q1843.59 1457.11 1841.88 1455.6 Q1840.19 1454.1 1837.18 1454.1 Q1834.15 1454.1 1832.46 1455.6 Q1830.79 1457.11 1830.79 1459.79 Z\" fill=\"#000000\" fill-rule=\"evenodd\" fill-opacity=\"1\" /><path clip-path=\"url(#clip890)\" d=\"M1867.34 1454.1 Q1863.73 1454.1 1861.9 1457.66 Q1860.09 1461.2 1860.09 1468.33 Q1860.09 1475.44 1861.9 1479.01 Q1863.73 1482.55 1867.34 1482.55 Q1870.97 1482.55 1872.78 1479.01 Q1874.61 1475.44 1874.61 1468.33 Q1874.61 1461.2 1872.78 1457.66 Q1870.97 1454.1 1867.34 1454.1 M1867.34 1450.39 Q1873.15 1450.39 1876.21 1455 Q1879.28 1459.58 1879.28 1468.33 Q1879.28 1477.06 1876.21 1481.67 Q1873.15 1486.25 1867.34 1486.25 Q1861.53 1486.25 1858.45 1481.67 Q1855.4 1477.06 1855.4 1468.33 Q1855.4 1459.58 1858.45 1455 Q1861.53 1450.39 1867.34 1450.39 Z\" fill=\"#000000\" fill-rule=\"evenodd\" fill-opacity=\"1\" /><path clip-path=\"url(#clip890)\" d=\"M2252.84 1481.64 L2260.48 1481.64 L2260.48 1455.28 L2252.17 1456.95 L2252.17 1452.69 L2260.43 1451.02 L2265.11 1451.02 L2265.11 1481.64 L2272.74 1481.64 L2272.74 1485.58 L2252.84 1485.58 L2252.84 1481.64 Z\" fill=\"#000000\" fill-rule=\"evenodd\" fill-opacity=\"1\" /><path clip-path=\"url(#clip890)\" d=\"M2292.19 1454.1 Q2288.58 1454.1 2286.75 1457.66 Q2284.94 1461.2 2284.94 1468.33 Q2284.94 1475.44 2286.75 1479.01 Q2288.58 1482.55 2292.19 1482.55 Q2295.82 1482.55 2297.63 1479.01 Q2299.46 1475.44 2299.46 1468.33 Q2299.46 1461.2 2297.63 1457.66 Q2295.82 1454.1 2292.19 1454.1 M2292.19 1450.39 Q2298 1450.39 2301.06 1455 Q2304.13 1459.58 2304.13 1468.33 Q2304.13 1477.06 2301.06 1481.67 Q2298 1486.25 2292.19 1486.25 Q2286.38 1486.25 2283.3 1481.67 Q2280.24 1477.06 2280.24 1468.33 Q2280.24 1459.58 2283.3 1455 Q2286.38 1450.39 2292.19 1450.39 Z\" fill=\"#000000\" fill-rule=\"evenodd\" fill-opacity=\"1\" /><path clip-path=\"url(#clip890)\" d=\"M2322.35 1454.1 Q2318.74 1454.1 2316.91 1457.66 Q2315.11 1461.2 2315.11 1468.33 Q2315.11 1475.44 2316.91 1479.01 Q2318.74 1482.55 2322.35 1482.55 Q2325.99 1482.55 2327.79 1479.01 Q2329.62 1475.44 2329.62 1468.33 Q2329.62 1461.2 2327.79 1457.66 Q2325.99 1454.1 2322.35 1454.1 M2322.35 1450.39 Q2328.16 1450.39 2331.22 1455 Q2334.3 1459.58 2334.3 1468.33 Q2334.3 1477.06 2331.22 1481.67 Q2328.16 1486.25 2322.35 1486.25 Q2316.54 1486.25 2313.46 1481.67 Q2310.41 1477.06 2310.41 1468.33 Q2310.41 1459.58 2313.46 1455 Q2316.54 1450.39 2322.35 1450.39 Z\" fill=\"#000000\" fill-rule=\"evenodd\" fill-opacity=\"1\" /><path clip-path=\"url(#clip890)\" d=\"M1262.83 1577.62 L1259.64 1577.62 L1259.61 1568.04 Q1256.27 1567.98 1252.93 1567.28 Q1249.59 1566.55 1246.21 1565.12 L1246.21 1559.39 Q1249.46 1561.42 1252.77 1562.47 Q1256.11 1563.49 1259.64 1563.52 L1259.64 1549.01 Q1252.61 1547.86 1249.4 1545.13 Q1246.21 1542.39 1246.21 1537.62 Q1246.21 1532.43 1249.68 1529.44 Q1253.15 1526.44 1259.64 1526 L1259.64 1518.52 L1262.83 1518.52 L1262.83 1525.9 Q1265.79 1526.03 1268.56 1526.54 Q1271.33 1527.02 1273.97 1527.88 L1273.97 1533.45 Q1271.33 1532.11 1268.52 1531.38 Q1265.76 1530.65 1262.83 1530.52 L1262.83 1544.11 Q1270.05 1545.22 1273.46 1548.09 Q1276.86 1550.95 1276.86 1555.92 Q1276.86 1561.3 1273.24 1564.42 Q1269.64 1567.5 1262.83 1567.98 L1262.83 1577.62 M1259.64 1543.54 L1259.64 1530.49 Q1255.95 1530.9 1254.01 1532.59 Q1252.07 1534.27 1252.07 1537.07 Q1252.07 1539.81 1253.85 1541.34 Q1255.67 1542.87 1259.64 1543.54 M1262.83 1549.65 L1262.83 1563.43 Q1266.87 1562.89 1268.91 1561.14 Q1270.98 1559.39 1270.98 1556.52 Q1270.98 1553.72 1269 1552.07 Q1267.06 1550.41 1262.83 1549.65 Z\" fill=\"#000000\" fill-rule=\"evenodd\" fill-opacity=\"1\" /><path clip-path=\"url(#clip890)\" d=\"M1288.19 1518.52 L1294.08 1518.52 L1294.08 1547.77 L1311.56 1532.4 L1319.04 1532.4 L1300.13 1549.07 L1319.83 1568.04 L1312.19 1568.04 L1294.08 1550.63 L1294.08 1568.04 L1288.19 1568.04 L1288.19 1518.52 Z\" fill=\"#000000\" fill-rule=\"evenodd\" fill-opacity=\"1\" /><path clip-path=\"url(#clip890)\" d=\"M1342.05 1577.62 L1338.87 1577.62 L1338.83 1568.04 Q1335.49 1567.98 1332.15 1567.28 Q1328.81 1566.55 1325.43 1565.12 L1325.43 1559.39 Q1328.68 1561.42 1331.99 1562.47 Q1335.33 1563.49 1338.87 1563.52 L1338.87 1549.01 Q1331.83 1547.86 1328.62 1545.13 Q1325.43 1542.39 1325.43 1537.62 Q1325.43 1532.43 1328.9 1529.44 Q1332.37 1526.44 1338.87 1526 L1338.87 1518.52 L1342.05 1518.52 L1342.05 1525.9 Q1345.01 1526.03 1347.78 1526.54 Q1350.55 1527.02 1353.19 1527.88 L1353.19 1533.45 Q1350.55 1532.11 1347.75 1531.38 Q1344.98 1530.65 1342.05 1530.52 L1342.05 1544.11 Q1349.27 1545.22 1352.68 1548.09 Q1356.09 1550.95 1356.09 1555.92 Q1356.09 1561.3 1352.46 1564.42 Q1348.86 1567.5 1342.05 1567.98 L1342.05 1577.62 M1338.87 1543.54 L1338.87 1530.49 Q1335.17 1530.9 1333.23 1532.59 Q1331.29 1534.27 1331.29 1537.07 Q1331.29 1539.81 1333.07 1541.34 Q1334.89 1542.87 1338.87 1543.54 M1342.05 1549.65 L1342.05 1563.43 Q1346.09 1562.89 1348.13 1561.14 Q1350.2 1559.39 1350.2 1556.52 Q1350.2 1553.72 1348.22 1552.07 Q1346.28 1550.41 1342.05 1549.65 Z\" fill=\"#000000\" fill-rule=\"evenodd\" fill-opacity=\"1\" /><polyline clip-path=\"url(#clip892)\" style=\"stroke:#000000; stroke-linecap:butt; stroke-linejoin:round; stroke-width:2; stroke-opacity:0.1; fill:none\" points=\"\n",
       "  249.542,1214.26 2352.76,1214.26 \n",
       "  \"/>\n",
       "<polyline clip-path=\"url(#clip892)\" style=\"stroke:#000000; stroke-linecap:butt; stroke-linejoin:round; stroke-width:2; stroke-opacity:0.1; fill:none\" points=\"\n",
       "  249.542,978.019 2352.76,978.019 \n",
       "  \"/>\n",
       "<polyline clip-path=\"url(#clip892)\" style=\"stroke:#000000; stroke-linecap:butt; stroke-linejoin:round; stroke-width:2; stroke-opacity:0.1; fill:none\" points=\"\n",
       "  249.542,741.774 2352.76,741.774 \n",
       "  \"/>\n",
       "<polyline clip-path=\"url(#clip892)\" style=\"stroke:#000000; stroke-linecap:butt; stroke-linejoin:round; stroke-width:2; stroke-opacity:0.1; fill:none\" points=\"\n",
       "  249.542,505.528 2352.76,505.528 \n",
       "  \"/>\n",
       "<polyline clip-path=\"url(#clip892)\" style=\"stroke:#000000; stroke-linecap:butt; stroke-linejoin:round; stroke-width:2; stroke-opacity:0.1; fill:none\" points=\"\n",
       "  249.542,269.283 2352.76,269.283 \n",
       "  \"/>\n",
       "<polyline clip-path=\"url(#clip890)\" style=\"stroke:#000000; stroke-linecap:butt; stroke-linejoin:round; stroke-width:4; stroke-opacity:1; fill:none\" points=\"\n",
       "  249.542,1423.18 249.542,47.2441 \n",
       "  \"/>\n",
       "<polyline clip-path=\"url(#clip890)\" style=\"stroke:#000000; stroke-linecap:butt; stroke-linejoin:round; stroke-width:4; stroke-opacity:1; fill:none\" points=\"\n",
       "  249.542,1214.26 268.44,1214.26 \n",
       "  \"/>\n",
       "<polyline clip-path=\"url(#clip890)\" style=\"stroke:#000000; stroke-linecap:butt; stroke-linejoin:round; stroke-width:4; stroke-opacity:1; fill:none\" points=\"\n",
       "  249.542,978.019 268.44,978.019 \n",
       "  \"/>\n",
       "<polyline clip-path=\"url(#clip890)\" style=\"stroke:#000000; stroke-linecap:butt; stroke-linejoin:round; stroke-width:4; stroke-opacity:1; fill:none\" points=\"\n",
       "  249.542,741.774 268.44,741.774 \n",
       "  \"/>\n",
       "<polyline clip-path=\"url(#clip890)\" style=\"stroke:#000000; stroke-linecap:butt; stroke-linejoin:round; stroke-width:4; stroke-opacity:1; fill:none\" points=\"\n",
       "  249.542,505.528 268.44,505.528 \n",
       "  \"/>\n",
       "<polyline clip-path=\"url(#clip890)\" style=\"stroke:#000000; stroke-linecap:butt; stroke-linejoin:round; stroke-width:4; stroke-opacity:1; fill:none\" points=\"\n",
       "  249.542,269.283 268.44,269.283 \n",
       "  \"/>\n",
       "<path clip-path=\"url(#clip890)\" d=\"M126.205 1200.06 Q122.593 1200.06 120.765 1203.63 Q118.959 1207.17 118.959 1214.3 Q118.959 1221.41 120.765 1224.97 Q122.593 1228.51 126.205 1228.51 Q129.839 1228.51 131.644 1224.97 Q133.473 1221.41 133.473 1214.3 Q133.473 1207.17 131.644 1203.63 Q129.839 1200.06 126.205 1200.06 M126.205 1196.36 Q132.015 1196.36 135.07 1200.97 Q138.149 1205.55 138.149 1214.3 Q138.149 1223.03 135.07 1227.63 Q132.015 1232.22 126.205 1232.22 Q120.394 1232.22 117.316 1227.63 Q114.26 1223.03 114.26 1214.3 Q114.26 1205.55 117.316 1200.97 Q120.394 1196.36 126.205 1196.36 Z\" fill=\"#000000\" fill-rule=\"evenodd\" fill-opacity=\"1\" /><path clip-path=\"url(#clip890)\" d=\"M146.366 1225.67 L151.251 1225.67 L151.251 1231.54 L146.366 1231.54 L146.366 1225.67 Z\" fill=\"#000000\" fill-rule=\"evenodd\" fill-opacity=\"1\" /><path clip-path=\"url(#clip890)\" d=\"M160.255 1196.98 L182.477 1196.98 L182.477 1198.98 L169.931 1231.54 L165.047 1231.54 L176.852 1200.92 L160.255 1200.92 L160.255 1196.98 Z\" fill=\"#000000\" fill-rule=\"evenodd\" fill-opacity=\"1\" /><path clip-path=\"url(#clip890)\" d=\"M201.598 1200.06 Q197.987 1200.06 196.158 1203.63 Q194.352 1207.17 194.352 1214.3 Q194.352 1221.41 196.158 1224.97 Q197.987 1228.51 201.598 1228.51 Q205.232 1228.51 207.037 1224.97 Q208.866 1221.41 208.866 1214.3 Q208.866 1207.17 207.037 1203.63 Q205.232 1200.06 201.598 1200.06 M201.598 1196.36 Q207.408 1196.36 210.463 1200.97 Q213.542 1205.55 213.542 1214.3 Q213.542 1223.03 210.463 1227.63 Q207.408 1232.22 201.598 1232.22 Q195.787 1232.22 192.709 1227.63 Q189.653 1223.03 189.653 1214.3 Q189.653 1205.55 192.709 1200.97 Q195.787 1196.36 201.598 1196.36 Z\" fill=\"#000000\" fill-rule=\"evenodd\" fill-opacity=\"1\" /><path clip-path=\"url(#clip890)\" d=\"M127.2 963.818 Q123.589 963.818 121.76 967.383 Q119.955 970.924 119.955 978.054 Q119.955 985.16 121.76 988.725 Q123.589 992.267 127.2 992.267 Q130.834 992.267 132.64 988.725 Q134.468 985.16 134.468 978.054 Q134.468 970.924 132.64 967.383 Q130.834 963.818 127.2 963.818 M127.2 960.114 Q133.01 960.114 136.066 964.721 Q139.144 969.304 139.144 978.054 Q139.144 986.781 136.066 991.387 Q133.01 995.971 127.2 995.971 Q121.39 995.971 118.311 991.387 Q115.256 986.781 115.256 978.054 Q115.256 969.304 118.311 964.721 Q121.39 960.114 127.2 960.114 Z\" fill=\"#000000\" fill-rule=\"evenodd\" fill-opacity=\"1\" /><path clip-path=\"url(#clip890)\" d=\"M147.362 989.42 L152.246 989.42 L152.246 995.299 L147.362 995.299 L147.362 989.42 Z\" fill=\"#000000\" fill-rule=\"evenodd\" fill-opacity=\"1\" /><path clip-path=\"url(#clip890)\" d=\"M161.251 960.739 L183.473 960.739 L183.473 962.73 L170.927 995.299 L166.042 995.299 L177.848 964.674 L161.251 964.674 L161.251 960.739 Z\" fill=\"#000000\" fill-rule=\"evenodd\" fill-opacity=\"1\" /><path clip-path=\"url(#clip890)\" d=\"M192.639 960.739 L210.996 960.739 L210.996 964.674 L196.922 964.674 L196.922 973.147 Q197.94 972.799 198.959 972.637 Q199.977 972.452 200.996 972.452 Q206.783 972.452 210.162 975.623 Q213.542 978.795 213.542 984.211 Q213.542 989.79 210.07 992.892 Q206.598 995.971 200.278 995.971 Q198.102 995.971 195.834 995.6 Q193.588 995.23 191.181 994.489 L191.181 989.79 Q193.264 990.924 195.487 991.48 Q197.709 992.035 200.186 992.035 Q204.19 992.035 206.528 989.929 Q208.866 987.822 208.866 984.211 Q208.866 980.6 206.528 978.494 Q204.19 976.387 200.186 976.387 Q198.311 976.387 196.436 976.804 Q194.584 977.221 192.639 978.1 L192.639 960.739 Z\" fill=\"#000000\" fill-rule=\"evenodd\" fill-opacity=\"1\" /><path clip-path=\"url(#clip890)\" d=\"M126.205 727.572 Q122.593 727.572 120.765 731.137 Q118.959 734.679 118.959 741.808 Q118.959 748.915 120.765 752.48 Q122.593 756.021 126.205 756.021 Q129.839 756.021 131.644 752.48 Q133.473 748.915 133.473 741.808 Q133.473 734.679 131.644 731.137 Q129.839 727.572 126.205 727.572 M126.205 723.869 Q132.015 723.869 135.07 728.475 Q138.149 733.058 138.149 741.808 Q138.149 750.535 135.07 755.142 Q132.015 759.725 126.205 759.725 Q120.394 759.725 117.316 755.142 Q114.26 750.535 114.26 741.808 Q114.26 733.058 117.316 728.475 Q120.394 723.869 126.205 723.869 Z\" fill=\"#000000\" fill-rule=\"evenodd\" fill-opacity=\"1\" /><path clip-path=\"url(#clip890)\" d=\"M146.366 753.174 L151.251 753.174 L151.251 759.054 L146.366 759.054 L146.366 753.174 Z\" fill=\"#000000\" fill-rule=\"evenodd\" fill-opacity=\"1\" /><path clip-path=\"url(#clip890)\" d=\"M171.436 742.642 Q168.102 742.642 166.181 744.424 Q164.283 746.206 164.283 749.331 Q164.283 752.456 166.181 754.239 Q168.102 756.021 171.436 756.021 Q174.769 756.021 176.69 754.239 Q178.612 752.433 178.612 749.331 Q178.612 746.206 176.69 744.424 Q174.792 742.642 171.436 742.642 M166.76 740.651 Q163.751 739.91 162.061 737.85 Q160.394 735.79 160.394 732.827 Q160.394 728.683 163.334 726.276 Q166.297 723.869 171.436 723.869 Q176.598 723.869 179.538 726.276 Q182.477 728.683 182.477 732.827 Q182.477 735.79 180.788 737.85 Q179.121 739.91 176.135 740.651 Q179.514 741.438 181.389 743.73 Q183.288 746.021 183.288 749.331 Q183.288 754.355 180.209 757.04 Q177.153 759.725 171.436 759.725 Q165.718 759.725 162.64 757.04 Q159.584 754.355 159.584 749.331 Q159.584 746.021 161.482 743.73 Q163.38 741.438 166.76 740.651 M165.047 733.267 Q165.047 735.952 166.714 737.457 Q168.403 738.961 171.436 738.961 Q174.445 738.961 176.135 737.457 Q177.848 735.952 177.848 733.267 Q177.848 730.582 176.135 729.077 Q174.445 727.572 171.436 727.572 Q168.403 727.572 166.714 729.077 Q165.047 730.582 165.047 733.267 Z\" fill=\"#000000\" fill-rule=\"evenodd\" fill-opacity=\"1\" /><path clip-path=\"url(#clip890)\" d=\"M201.598 727.572 Q197.987 727.572 196.158 731.137 Q194.352 734.679 194.352 741.808 Q194.352 748.915 196.158 752.48 Q197.987 756.021 201.598 756.021 Q205.232 756.021 207.037 752.48 Q208.866 748.915 208.866 741.808 Q208.866 734.679 207.037 731.137 Q205.232 727.572 201.598 727.572 M201.598 723.869 Q207.408 723.869 210.463 728.475 Q213.542 733.058 213.542 741.808 Q213.542 750.535 210.463 755.142 Q207.408 759.725 201.598 759.725 Q195.787 759.725 192.709 755.142 Q189.653 750.535 189.653 741.808 Q189.653 733.058 192.709 728.475 Q195.787 723.869 201.598 723.869 Z\" fill=\"#000000\" fill-rule=\"evenodd\" fill-opacity=\"1\" /><path clip-path=\"url(#clip890)\" d=\"M127.2 491.327 Q123.589 491.327 121.76 494.892 Q119.955 498.433 119.955 505.563 Q119.955 512.669 121.76 516.234 Q123.589 519.776 127.2 519.776 Q130.834 519.776 132.64 516.234 Q134.468 512.669 134.468 505.563 Q134.468 498.433 132.64 494.892 Q130.834 491.327 127.2 491.327 M127.2 487.623 Q133.01 487.623 136.066 492.23 Q139.144 496.813 139.144 505.563 Q139.144 514.29 136.066 518.896 Q133.01 523.479 127.2 523.479 Q121.39 523.479 118.311 518.896 Q115.256 514.29 115.256 505.563 Q115.256 496.813 118.311 492.23 Q121.39 487.623 127.2 487.623 Z\" fill=\"#000000\" fill-rule=\"evenodd\" fill-opacity=\"1\" /><path clip-path=\"url(#clip890)\" d=\"M147.362 516.928 L152.246 516.928 L152.246 522.808 L147.362 522.808 L147.362 516.928 Z\" fill=\"#000000\" fill-rule=\"evenodd\" fill-opacity=\"1\" /><path clip-path=\"url(#clip890)\" d=\"M172.431 506.396 Q169.098 506.396 167.177 508.179 Q165.278 509.961 165.278 513.086 Q165.278 516.211 167.177 517.993 Q169.098 519.776 172.431 519.776 Q175.764 519.776 177.686 517.993 Q179.607 516.188 179.607 513.086 Q179.607 509.961 177.686 508.179 Q175.788 506.396 172.431 506.396 M167.755 504.405 Q164.746 503.665 163.056 501.604 Q161.39 499.544 161.39 496.581 Q161.39 492.438 164.329 490.03 Q167.292 487.623 172.431 487.623 Q177.593 487.623 180.533 490.03 Q183.473 492.438 183.473 496.581 Q183.473 499.544 181.783 501.604 Q180.116 503.665 177.13 504.405 Q180.51 505.192 182.385 507.484 Q184.283 509.776 184.283 513.086 Q184.283 518.109 181.204 520.794 Q178.149 523.479 172.431 523.479 Q166.714 523.479 163.635 520.794 Q160.579 518.109 160.579 513.086 Q160.579 509.776 162.477 507.484 Q164.376 505.192 167.755 504.405 M166.042 497.021 Q166.042 499.706 167.709 501.211 Q169.399 502.716 172.431 502.716 Q175.44 502.716 177.13 501.211 Q178.843 499.706 178.843 497.021 Q178.843 494.336 177.13 492.831 Q175.44 491.327 172.431 491.327 Q169.399 491.327 167.709 492.831 Q166.042 494.336 166.042 497.021 Z\" fill=\"#000000\" fill-rule=\"evenodd\" fill-opacity=\"1\" /><path clip-path=\"url(#clip890)\" d=\"M192.639 488.248 L210.996 488.248 L210.996 492.183 L196.922 492.183 L196.922 500.655 Q197.94 500.308 198.959 500.146 Q199.977 499.961 200.996 499.961 Q206.783 499.961 210.162 503.132 Q213.542 506.304 213.542 511.72 Q213.542 517.299 210.07 520.401 Q206.598 523.479 200.278 523.479 Q198.102 523.479 195.834 523.109 Q193.588 522.739 191.181 521.998 L191.181 517.299 Q193.264 518.433 195.487 518.989 Q197.709 519.544 200.186 519.544 Q204.19 519.544 206.528 517.438 Q208.866 515.331 208.866 511.72 Q208.866 508.109 206.528 506.003 Q204.19 503.896 200.186 503.896 Q198.311 503.896 196.436 504.313 Q194.584 504.729 192.639 505.609 L192.639 488.248 Z\" fill=\"#000000\" fill-rule=\"evenodd\" fill-opacity=\"1\" /><path clip-path=\"url(#clip890)\" d=\"M126.205 255.081 Q122.593 255.081 120.765 258.646 Q118.959 262.188 118.959 269.317 Q118.959 276.424 120.765 279.988 Q122.593 283.53 126.205 283.53 Q129.839 283.53 131.644 279.988 Q133.473 276.424 133.473 269.317 Q133.473 262.188 131.644 258.646 Q129.839 255.081 126.205 255.081 M126.205 251.378 Q132.015 251.378 135.07 255.984 Q138.149 260.567 138.149 269.317 Q138.149 278.044 135.07 282.65 Q132.015 287.234 126.205 287.234 Q120.394 287.234 117.316 282.65 Q114.26 278.044 114.26 269.317 Q114.26 260.567 117.316 255.984 Q120.394 251.378 126.205 251.378 Z\" fill=\"#000000\" fill-rule=\"evenodd\" fill-opacity=\"1\" /><path clip-path=\"url(#clip890)\" d=\"M146.366 280.683 L151.251 280.683 L151.251 286.563 L146.366 286.563 L146.366 280.683 Z\" fill=\"#000000\" fill-rule=\"evenodd\" fill-opacity=\"1\" /><path clip-path=\"url(#clip890)\" d=\"M161.575 285.845 L161.575 281.586 Q163.334 282.419 165.14 282.859 Q166.945 283.299 168.681 283.299 Q173.311 283.299 175.741 280.197 Q178.195 277.072 178.542 270.729 Q177.2 272.72 175.139 273.785 Q173.079 274.85 170.579 274.85 Q165.394 274.85 162.362 271.725 Q159.353 268.576 159.353 263.137 Q159.353 257.813 162.501 254.595 Q165.649 251.378 170.88 251.378 Q176.876 251.378 180.024 255.984 Q183.195 260.567 183.195 269.317 Q183.195 277.488 179.306 282.373 Q175.44 287.234 168.889 287.234 Q167.13 287.234 165.325 286.887 Q163.519 286.539 161.575 285.845 M170.88 271.192 Q174.028 271.192 175.857 269.039 Q177.709 266.887 177.709 263.137 Q177.709 259.41 175.857 257.257 Q174.028 255.081 170.88 255.081 Q167.732 255.081 165.88 257.257 Q164.052 259.41 164.052 263.137 Q164.052 266.887 165.88 269.039 Q167.732 271.192 170.88 271.192 Z\" fill=\"#000000\" fill-rule=\"evenodd\" fill-opacity=\"1\" /><path clip-path=\"url(#clip890)\" d=\"M201.598 255.081 Q197.987 255.081 196.158 258.646 Q194.352 262.188 194.352 269.317 Q194.352 276.424 196.158 279.988 Q197.987 283.53 201.598 283.53 Q205.232 283.53 207.037 279.988 Q208.866 276.424 208.866 269.317 Q208.866 262.188 207.037 258.646 Q205.232 255.081 201.598 255.081 M201.598 251.378 Q207.408 251.378 210.463 255.984 Q213.542 260.567 213.542 269.317 Q213.542 278.044 210.463 282.65 Q207.408 287.234 201.598 287.234 Q195.787 287.234 192.709 282.65 Q189.653 278.044 189.653 269.317 Q189.653 260.567 192.709 255.984 Q195.787 251.378 201.598 251.378 Z\" fill=\"#000000\" fill-rule=\"evenodd\" fill-opacity=\"1\" /><path clip-path=\"url(#clip890)\" d=\"M16.4842 1237.77 L16.4842 1229.11 L56.238 1208.04 L16.4842 1208.04 L16.4842 1201.8 L64.0042 1201.8 L64.0042 1210.46 L24.2503 1231.53 L64.0042 1231.53 L64.0042 1237.77 L16.4842 1237.77 Z\" fill=\"#000000\" fill-rule=\"evenodd\" fill-opacity=\"1\" /><path clip-path=\"url(#clip890)\" d=\"M32.4621 1175.45 Q32.4621 1180.16 36.1542 1182.9 Q39.8145 1185.63 46.212 1185.63 Q52.6095 1185.63 56.3017 1182.93 Q59.9619 1180.19 59.9619 1175.45 Q59.9619 1170.77 56.2698 1168.03 Q52.5777 1165.3 46.212 1165.3 Q39.8781 1165.3 36.186 1168.03 Q32.4621 1170.77 32.4621 1175.45 M27.4968 1175.45 Q27.4968 1167.81 32.4621 1163.45 Q37.4273 1159.09 46.212 1159.09 Q54.9649 1159.09 59.9619 1163.45 Q64.9272 1167.81 64.9272 1175.45 Q64.9272 1183.12 59.9619 1187.48 Q54.9649 1191.81 46.212 1191.81 Q37.4273 1191.81 32.4621 1187.48 Q27.4968 1183.12 27.4968 1175.45 Z\" fill=\"#000000\" fill-rule=\"evenodd\" fill-opacity=\"1\" /><path clip-path=\"url(#clip890)\" d=\"M33.8307 1128.72 Q33.2578 1129.71 33.0032 1130.89 Q32.7167 1132.03 32.7167 1133.43 Q32.7167 1138.4 35.9632 1141.07 Q39.1779 1143.72 45.2253 1143.72 L64.0042 1143.72 L64.0042 1149.6 L28.3562 1149.6 L28.3562 1143.72 L33.8944 1143.72 Q30.6479 1141.87 29.0883 1138.91 Q27.4968 1135.95 27.4968 1131.72 Q27.4968 1131.11 27.5923 1130.38 Q27.656 1129.65 27.8151 1128.76 L33.8307 1128.72 Z\" fill=\"#000000\" fill-rule=\"evenodd\" fill-opacity=\"1\" /><path clip-path=\"url(#clip890)\" d=\"M35.1993 1095.97 Q31.2526 1093.78 29.3747 1090.72 Q27.4968 1087.67 27.4968 1083.53 Q27.4968 1077.96 31.4117 1074.93 Q35.2948 1071.91 42.4881 1071.91 L64.0042 1071.91 L64.0042 1077.8 L42.679 1077.8 Q37.5546 1077.8 35.072 1079.61 Q32.5894 1081.43 32.5894 1085.15 Q32.5894 1089.7 35.6131 1092.34 Q38.6368 1094.99 43.8567 1094.99 L64.0042 1094.99 L64.0042 1100.87 L42.679 1100.87 Q37.5228 1100.87 35.072 1102.69 Q32.5894 1104.5 32.5894 1108.29 Q32.5894 1112.78 35.6449 1115.42 Q38.6686 1118.06 43.8567 1118.06 L64.0042 1118.06 L64.0042 1123.95 L28.3562 1123.95 L28.3562 1118.06 L33.8944 1118.06 Q30.616 1116.06 29.0564 1113.26 Q27.4968 1110.45 27.4968 1106.6 Q27.4968 1102.72 29.4702 1100.01 Q31.4436 1097.28 35.1993 1095.97 Z\" fill=\"#000000\" fill-rule=\"evenodd\" fill-opacity=\"1\" /><path clip-path=\"url(#clip890)\" d=\"M46.0847 1044.03 Q46.0847 1051.13 47.7079 1053.86 Q49.3312 1056.6 53.2461 1056.6 Q56.3653 1056.6 58.2114 1054.56 Q60.0256 1052.49 60.0256 1048.96 Q60.0256 1044.09 56.5881 1041.16 Q53.1188 1038.2 47.3897 1038.2 L46.0847 1038.2 L46.0847 1044.03 M43.6657 1032.35 L64.0042 1032.35 L64.0042 1038.2 L58.5933 1038.2 Q61.8398 1040.21 63.3994 1043.2 Q64.9272 1046.19 64.9272 1050.52 Q64.9272 1056 61.8716 1059.24 Q58.7843 1062.46 53.6281 1062.46 Q47.6125 1062.46 44.5569 1058.45 Q41.5014 1054.4 41.5014 1046.42 L41.5014 1038.2 L40.9285 1038.2 Q36.8862 1038.2 34.6901 1040.88 Q32.4621 1043.52 32.4621 1048.33 Q32.4621 1051.38 33.1941 1054.28 Q33.9262 1057.17 35.3903 1059.85 L29.9795 1059.85 Q28.7381 1056.63 28.1334 1053.61 Q27.4968 1050.58 27.4968 1047.72 Q27.4968 1039.99 31.5072 1036.17 Q35.5176 1032.35 43.6657 1032.35 Z\" fill=\"#000000\" fill-rule=\"evenodd\" fill-opacity=\"1\" /><path clip-path=\"url(#clip890)\" d=\"M14.479 1020.28 L14.479 1014.43 L64.0042 1014.43 L64.0042 1020.28 L14.479 1020.28 Z\" fill=\"#000000\" fill-rule=\"evenodd\" fill-opacity=\"1\" /><path clip-path=\"url(#clip890)\" d=\"M28.3562 1002.17 L28.3562 996.317 L64.0042 996.317 L64.0042 1002.17 L28.3562 1002.17 M14.479 1002.17 L14.479 996.317 L21.895 996.317 L21.895 1002.17 L14.479 1002.17 Z\" fill=\"#000000\" fill-rule=\"evenodd\" fill-opacity=\"1\" /><path clip-path=\"url(#clip890)\" d=\"M28.3562 986.61 L28.3562 958.791 L33.7034 958.791 L59.3254 980.817 L59.3254 958.791 L64.0042 958.791 L64.0042 987.405 L58.657 987.405 L33.035 965.38 L33.035 986.61 L28.3562 986.61 Z\" fill=\"#000000\" fill-rule=\"evenodd\" fill-opacity=\"1\" /><path clip-path=\"url(#clip890)\" d=\"M44.7161 919.356 L47.5806 919.356 L47.5806 946.283 Q53.6281 945.901 56.8109 942.654 Q59.9619 939.376 59.9619 933.551 Q59.9619 930.178 59.1344 927.027 Q58.3069 923.844 56.6518 920.725 L62.1899 920.725 Q63.5267 923.876 64.227 927.186 Q64.9272 930.496 64.9272 933.902 Q64.9272 942.432 59.9619 947.429 Q54.9967 952.394 46.5303 952.394 Q37.7774 952.394 32.6531 947.683 Q27.4968 942.941 27.4968 934.92 Q27.4968 927.727 32.1438 923.557 Q36.7589 919.356 44.7161 919.356 M42.9973 925.212 Q38.1912 925.276 35.3266 927.918 Q32.4621 930.528 32.4621 934.856 Q32.4621 939.758 35.2312 942.718 Q38.0002 945.646 43.0292 946.092 L42.9973 925.212 Z\" fill=\"#000000\" fill-rule=\"evenodd\" fill-opacity=\"1\" /><path clip-path=\"url(#clip890)\" d=\"M33.7671 886.286 L14.479 886.286 L14.479 880.43 L64.0042 880.43 L64.0042 886.286 L58.657 886.286 Q61.8398 888.132 63.3994 890.965 Q64.9272 893.766 64.9272 897.713 Q64.9272 904.174 59.771 908.248 Q54.6147 912.29 46.212 912.29 Q37.8093 912.29 32.6531 908.248 Q27.4968 904.174 27.4968 897.713 Q27.4968 893.766 29.0564 890.965 Q30.5842 888.132 33.7671 886.286 M46.212 906.243 Q52.6732 906.243 56.3653 903.601 Q60.0256 900.927 60.0256 896.28 Q60.0256 891.633 56.3653 888.96 Q52.6732 886.286 46.212 886.286 Q39.7508 886.286 36.0905 888.96 Q32.3984 891.633 32.3984 896.28 Q32.3984 900.927 36.0905 903.601 Q39.7508 906.243 46.212 906.243 Z\" fill=\"#000000\" fill-rule=\"evenodd\" fill-opacity=\"1\" /><path clip-path=\"url(#clip890)\" d=\"M35.1993 819.892 Q31.2526 817.696 29.3747 814.64 Q27.4968 811.585 27.4968 807.447 Q27.4968 801.877 31.4117 798.853 Q35.2948 795.829 42.4881 795.829 L64.0042 795.829 L64.0042 801.718 L42.679 801.718 Q37.5546 801.718 35.072 803.532 Q32.5894 805.346 32.5894 809.07 Q32.5894 813.622 35.6131 816.263 Q38.6368 818.905 43.8567 818.905 L64.0042 818.905 L64.0042 824.793 L42.679 824.793 Q37.5228 824.793 35.072 826.608 Q32.5894 828.422 32.5894 832.209 Q32.5894 836.697 35.6449 839.339 Q38.6686 841.981 43.8567 841.981 L64.0042 841.981 L64.0042 847.869 L28.3562 847.869 L28.3562 841.981 L33.8944 841.981 Q30.616 839.976 29.0564 837.175 Q27.4968 834.374 27.4968 830.523 Q27.4968 826.639 29.4702 823.934 Q31.4436 821.197 35.1993 819.892 Z\" fill=\"#000000\" fill-rule=\"evenodd\" fill-opacity=\"1\" /><path clip-path=\"url(#clip890)\" d=\"M49.9359 784.753 L28.3562 784.753 L28.3562 778.897 L49.7131 778.897 Q54.7739 778.897 57.3202 776.923 Q59.8346 774.95 59.8346 771.003 Q59.8346 766.261 56.8109 763.523 Q53.7872 760.754 48.5673 760.754 L28.3562 760.754 L28.3562 754.898 L64.0042 754.898 L64.0042 760.754 L58.5296 760.754 Q61.7762 762.887 63.3676 765.72 Q64.9272 768.521 64.9272 772.244 Q64.9272 778.387 61.1078 781.57 Q57.2883 784.753 49.9359 784.753 M27.4968 770.016 L27.4968 770.016 Z\" fill=\"#000000\" fill-rule=\"evenodd\" fill-opacity=\"1\" /><path clip-path=\"url(#clip890)\" d=\"M18.2347 737.042 L28.3562 737.042 L28.3562 724.979 L32.9077 724.979 L32.9077 737.042 L52.2594 737.042 Q56.6199 737.042 57.8613 735.864 Q59.1026 734.655 59.1026 730.995 L59.1026 724.979 L64.0042 724.979 L64.0042 730.995 Q64.0042 737.774 61.4897 740.352 Q58.9434 742.93 52.2594 742.93 L32.9077 742.93 L32.9077 747.227 L28.3562 747.227 L28.3562 742.93 L18.2347 742.93 L18.2347 737.042 Z\" fill=\"#000000\" fill-rule=\"evenodd\" fill-opacity=\"1\" /><path clip-path=\"url(#clip890)\" d=\"M49.9359 717.881 L28.3562 717.881 L28.3562 712.025 L49.7131 712.025 Q54.7739 712.025 57.3202 710.052 Q59.8346 708.078 59.8346 704.131 Q59.8346 699.389 56.8109 696.652 Q53.7872 693.883 48.5673 693.883 L28.3562 693.883 L28.3562 688.026 L64.0042 688.026 L64.0042 693.883 L58.5296 693.883 Q61.7762 696.015 63.3676 698.848 Q64.9272 701.649 64.9272 705.373 Q64.9272 711.516 61.1078 714.698 Q57.2883 717.881 49.9359 717.881 M27.4968 703.145 L27.4968 703.145 Z\" fill=\"#000000\" fill-rule=\"evenodd\" fill-opacity=\"1\" /><path clip-path=\"url(#clip890)\" d=\"M46.0847 659.762 Q46.0847 666.86 47.7079 669.597 Q49.3312 672.335 53.2461 672.335 Q56.3653 672.335 58.2114 670.298 Q60.0256 668.229 60.0256 664.696 Q60.0256 659.826 56.5881 656.898 Q53.1188 653.938 47.3897 653.938 L46.0847 653.938 L46.0847 659.762 M43.6657 648.081 L64.0042 648.081 L64.0042 653.938 L58.5933 653.938 Q61.8398 655.943 63.3994 658.935 Q64.9272 661.927 64.9272 666.255 Q64.9272 671.73 61.8716 674.976 Q58.7843 678.191 53.6281 678.191 Q47.6125 678.191 44.5569 674.181 Q41.5014 670.139 41.5014 662.15 L41.5014 653.938 L40.9285 653.938 Q36.8862 653.938 34.6901 656.611 Q32.4621 659.253 32.4621 664.059 Q32.4621 667.115 33.1941 670.011 Q33.9262 672.908 35.3903 675.581 L29.9795 675.581 Q28.7381 672.367 28.1334 669.343 Q27.4968 666.319 27.4968 663.455 Q27.4968 655.72 31.5072 651.901 Q35.5176 648.081 43.6657 648.081 Z\" fill=\"#000000\" fill-rule=\"evenodd\" fill-opacity=\"1\" /><path clip-path=\"url(#clip890)\" d=\"M14.479 636.018 L14.479 630.162 L64.0042 630.162 L64.0042 636.018 L14.479 636.018 Z\" fill=\"#000000\" fill-rule=\"evenodd\" fill-opacity=\"1\" /><path clip-path=\"url(#clip890)\" d=\"M28.3562 597.188 L28.3562 591.331 L64.0042 591.331 L64.0042 597.188 L28.3562 597.188 M14.479 597.188 L14.479 591.331 L21.895 591.331 L21.895 597.188 L14.479 597.188 Z\" fill=\"#000000\" fill-rule=\"evenodd\" fill-opacity=\"1\" /><path clip-path=\"url(#clip890)\" d=\"M42.4881 549.445 L64.0042 549.445 L64.0042 555.301 L42.679 555.301 Q37.6183 555.301 35.1038 557.275 Q32.5894 559.248 32.5894 563.195 Q32.5894 567.937 35.6131 570.674 Q38.6368 573.412 43.8567 573.412 L64.0042 573.412 L64.0042 579.3 L28.3562 579.3 L28.3562 573.412 L33.8944 573.412 Q30.6797 571.311 29.0883 568.478 Q27.4968 565.614 27.4968 561.89 Q27.4968 555.747 31.3163 552.596 Q35.1038 549.445 42.4881 549.445 Z\" fill=\"#000000\" fill-rule=\"evenodd\" fill-opacity=\"1\" /><path clip-path=\"url(#clip890)\" d=\"M14.479 519.717 L19.3487 519.717 L19.3487 525.319 Q19.3487 528.47 20.6219 529.711 Q21.895 530.921 25.2052 530.921 L28.3562 530.921 L28.3562 521.276 L32.9077 521.276 L32.9077 530.921 L64.0042 530.921 L64.0042 536.809 L32.9077 536.809 L32.9077 542.411 L28.3562 542.411 L28.3562 536.809 L25.8736 536.809 Q19.9216 536.809 17.2162 534.04 Q14.479 531.271 14.479 525.255 L14.479 519.717 Z\" fill=\"#000000\" fill-rule=\"evenodd\" fill-opacity=\"1\" /><path clip-path=\"url(#clip890)\" d=\"M32.4621 501.002 Q32.4621 505.712 36.1542 508.45 Q39.8145 511.187 46.212 511.187 Q52.6095 511.187 56.3017 508.481 Q59.9619 505.744 59.9619 501.002 Q59.9619 496.323 56.2698 493.586 Q52.5777 490.848 46.212 490.848 Q39.8781 490.848 36.186 493.586 Q32.4621 496.323 32.4621 501.002 M27.4968 501.002 Q27.4968 493.363 32.4621 489.002 Q37.4273 484.642 46.212 484.642 Q54.9649 484.642 59.9619 489.002 Q64.9272 493.363 64.9272 501.002 Q64.9272 508.672 59.9619 513.033 Q54.9649 517.362 46.212 517.362 Q37.4273 517.362 32.4621 513.033 Q27.4968 508.672 27.4968 501.002 Z\" fill=\"#000000\" fill-rule=\"evenodd\" fill-opacity=\"1\" /><path clip-path=\"url(#clip890)\" d=\"M33.8307 454.277 Q33.2578 455.264 33.0032 456.442 Q32.7167 457.588 32.7167 458.988 Q32.7167 463.953 35.9632 466.627 Q39.1779 469.269 45.2253 469.269 L64.0042 469.269 L64.0042 475.157 L28.3562 475.157 L28.3562 469.269 L33.8944 469.269 Q30.6479 467.423 29.0883 464.463 Q27.4968 461.502 27.4968 457.269 Q27.4968 456.665 27.5923 455.933 Q27.656 455.2 27.8151 454.309 L33.8307 454.277 Z\" fill=\"#000000\" fill-rule=\"evenodd\" fill-opacity=\"1\" /><path clip-path=\"url(#clip890)\" d=\"M35.1993 421.526 Q31.2526 419.33 29.3747 416.274 Q27.4968 413.219 27.4968 409.081 Q27.4968 403.511 31.4117 400.487 Q35.2948 397.463 42.4881 397.463 L64.0042 397.463 L64.0042 403.352 L42.679 403.352 Q37.5546 403.352 35.072 405.166 Q32.5894 406.98 32.5894 410.704 Q32.5894 415.256 35.6131 417.897 Q38.6368 420.539 43.8567 420.539 L64.0042 420.539 L64.0042 426.427 L42.679 426.427 Q37.5228 426.427 35.072 428.242 Q32.5894 430.056 32.5894 433.844 Q32.5894 438.331 35.6449 440.973 Q38.6686 443.615 43.8567 443.615 L64.0042 443.615 L64.0042 449.503 L28.3562 449.503 L28.3562 443.615 L33.8944 443.615 Q30.616 441.61 29.0564 438.809 Q27.4968 436.008 27.4968 432.157 Q27.4968 428.274 29.4702 425.568 Q31.4436 422.831 35.1993 421.526 Z\" fill=\"#000000\" fill-rule=\"evenodd\" fill-opacity=\"1\" /><path clip-path=\"url(#clip890)\" d=\"M46.0847 369.582 Q46.0847 376.679 47.7079 379.417 Q49.3312 382.154 53.2461 382.154 Q56.3653 382.154 58.2114 380.117 Q60.0256 378.048 60.0256 374.515 Q60.0256 369.645 56.5881 366.717 Q53.1188 363.757 47.3897 363.757 L46.0847 363.757 L46.0847 369.582 M43.6657 357.901 L64.0042 357.901 L64.0042 363.757 L58.5933 363.757 Q61.8398 365.762 63.3994 368.754 Q64.9272 371.746 64.9272 376.075 Q64.9272 381.549 61.8716 384.796 Q58.7843 388.01 53.6281 388.01 Q47.6125 388.01 44.5569 384 Q41.5014 379.958 41.5014 371.969 L41.5014 363.757 L40.9285 363.757 Q36.8862 363.757 34.6901 366.431 Q32.4621 369.072 32.4621 373.879 Q32.4621 376.934 33.1941 379.83 Q33.9262 382.727 35.3903 385.4 L29.9795 385.4 Q28.7381 382.186 28.1334 379.162 Q27.4968 376.138 27.4968 373.274 Q27.4968 365.539 31.5072 361.72 Q35.5176 357.901 43.6657 357.901 Z\" fill=\"#000000\" fill-rule=\"evenodd\" fill-opacity=\"1\" /><path clip-path=\"url(#clip890)\" d=\"M18.2347 340.045 L28.3562 340.045 L28.3562 327.982 L32.9077 327.982 L32.9077 340.045 L52.2594 340.045 Q56.6199 340.045 57.8613 338.867 Q59.1026 337.658 59.1026 333.997 L59.1026 327.982 L64.0042 327.982 L64.0042 333.997 Q64.0042 340.777 61.4897 343.355 Q58.9434 345.933 52.2594 345.933 L32.9077 345.933 L32.9077 350.23 L28.3562 350.23 L28.3562 345.933 L18.2347 345.933 L18.2347 340.045 Z\" fill=\"#000000\" fill-rule=\"evenodd\" fill-opacity=\"1\" /><path clip-path=\"url(#clip890)\" d=\"M28.3562 320.279 L28.3562 314.423 L64.0042 314.423 L64.0042 320.279 L28.3562 320.279 M14.479 320.279 L14.479 314.423 L21.895 314.423 L21.895 320.279 L14.479 320.279 Z\" fill=\"#000000\" fill-rule=\"evenodd\" fill-opacity=\"1\" /><path clip-path=\"url(#clip890)\" d=\"M32.4621 288.355 Q32.4621 293.066 36.1542 295.803 Q39.8145 298.54 46.212 298.54 Q52.6095 298.54 56.3017 295.835 Q59.9619 293.098 59.9619 288.355 Q59.9619 283.676 56.2698 280.939 Q52.5777 278.202 46.212 278.202 Q39.8781 278.202 36.186 280.939 Q32.4621 283.676 32.4621 288.355 M27.4968 288.355 Q27.4968 280.716 32.4621 276.356 Q37.4273 271.995 46.212 271.995 Q54.9649 271.995 59.9619 276.356 Q64.9272 280.716 64.9272 288.355 Q64.9272 296.026 59.9619 300.386 Q54.9649 304.715 46.212 304.715 Q37.4273 304.715 32.4621 300.386 Q27.4968 296.026 27.4968 288.355 Z\" fill=\"#000000\" fill-rule=\"evenodd\" fill-opacity=\"1\" /><path clip-path=\"url(#clip890)\" d=\"M42.4881 232.655 L64.0042 232.655 L64.0042 238.512 L42.679 238.512 Q37.6183 238.512 35.1038 240.485 Q32.5894 242.459 32.5894 246.405 Q32.5894 251.148 35.6131 253.885 Q38.6368 256.622 43.8567 256.622 L64.0042 256.622 L64.0042 262.511 L28.3562 262.511 L28.3562 256.622 L33.8944 256.622 Q30.6797 254.522 29.0883 251.689 Q27.4968 248.824 27.4968 245.1 Q27.4968 238.957 31.3163 235.806 Q35.1038 232.655 42.4881 232.655 Z\" fill=\"#000000\" fill-rule=\"evenodd\" fill-opacity=\"1\" /><polyline clip-path=\"url(#clip892)\" style=\"stroke:#009af9; stroke-linecap:butt; stroke-linejoin:round; stroke-width:4; stroke-opacity:1; fill:none\" points=\"\n",
       "  309.067,1283.38 529.53,792.644 749.992,531.739 970.455,444.378 1190.92,391.131 1411.38,208.81 1631.84,202.4 1852.31,122.822 2072.77,209.107 2293.23,167.143 \n",
       "  \n",
       "  \"/>\n",
       "<polyline clip-path=\"url(#clip892)\" style=\"stroke:#009af9; stroke-linecap:butt; stroke-linejoin:round; stroke-width:4; stroke-opacity:1; fill:none\" points=\"\n",
       "  309.067,1384.24 309.067,1182.51 \n",
       "  \"/>\n",
       "<polyline clip-path=\"url(#clip892)\" style=\"stroke:#009af9; stroke-linecap:butt; stroke-linejoin:round; stroke-width:4; stroke-opacity:1; fill:none\" points=\"\n",
       "  529.53,1107.98 529.53,477.305 \n",
       "  \"/>\n",
       "<polyline clip-path=\"url(#clip892)\" style=\"stroke:#009af9; stroke-linecap:butt; stroke-linejoin:round; stroke-width:4; stroke-opacity:1; fill:none\" points=\"\n",
       "  749.992,662.51 749.992,400.967 \n",
       "  \"/>\n",
       "<polyline clip-path=\"url(#clip892)\" style=\"stroke:#009af9; stroke-linecap:butt; stroke-linejoin:round; stroke-width:4; stroke-opacity:1; fill:none\" points=\"\n",
       "  970.455,524.996 970.455,363.759 \n",
       "  \"/>\n",
       "<polyline clip-path=\"url(#clip892)\" style=\"stroke:#009af9; stroke-linecap:butt; stroke-linejoin:round; stroke-width:4; stroke-opacity:1; fill:none\" points=\"\n",
       "  1190.92,528.033 1190.92,254.229 \n",
       "  \"/>\n",
       "<polyline clip-path=\"url(#clip892)\" style=\"stroke:#009af9; stroke-linecap:butt; stroke-linejoin:round; stroke-width:4; stroke-opacity:1; fill:none\" points=\"\n",
       "  1411.38,249.921 1411.38,167.699 \n",
       "  \"/>\n",
       "<polyline clip-path=\"url(#clip892)\" style=\"stroke:#009af9; stroke-linecap:butt; stroke-linejoin:round; stroke-width:4; stroke-opacity:1; fill:none\" points=\"\n",
       "  1631.84,223.904 1631.84,180.897 \n",
       "  \"/>\n",
       "<polyline clip-path=\"url(#clip892)\" style=\"stroke:#009af9; stroke-linecap:butt; stroke-linejoin:round; stroke-width:4; stroke-opacity:1; fill:none\" points=\"\n",
       "  1852.31,159.458 1852.31,86.1857 \n",
       "  \"/>\n",
       "<polyline clip-path=\"url(#clip892)\" style=\"stroke:#009af9; stroke-linecap:butt; stroke-linejoin:round; stroke-width:4; stroke-opacity:1; fill:none\" points=\"\n",
       "  2072.77,264.682 2072.77,153.533 \n",
       "  \"/>\n",
       "<polyline clip-path=\"url(#clip892)\" style=\"stroke:#009af9; stroke-linecap:butt; stroke-linejoin:round; stroke-width:4; stroke-opacity:1; fill:none\" points=\"\n",
       "  2293.23,230.987 2293.23,103.299 \n",
       "  \"/>\n",
       "<line clip-path=\"url(#clip892)\" x1=\"325.067\" y1=\"1384.24\" x2=\"293.067\" y2=\"1384.24\" style=\"stroke:#009af9; stroke-width:3.2; stroke-opacity:1\"/>\n",
       "<line clip-path=\"url(#clip892)\" x1=\"325.067\" y1=\"1182.51\" x2=\"293.067\" y2=\"1182.51\" style=\"stroke:#009af9; stroke-width:3.2; stroke-opacity:1\"/>\n",
       "<line clip-path=\"url(#clip892)\" x1=\"545.53\" y1=\"1107.98\" x2=\"513.53\" y2=\"1107.98\" style=\"stroke:#009af9; stroke-width:3.2; stroke-opacity:1\"/>\n",
       "<line clip-path=\"url(#clip892)\" x1=\"545.53\" y1=\"477.305\" x2=\"513.53\" y2=\"477.305\" style=\"stroke:#009af9; stroke-width:3.2; stroke-opacity:1\"/>\n",
       "<line clip-path=\"url(#clip892)\" x1=\"765.992\" y1=\"662.51\" x2=\"733.992\" y2=\"662.51\" style=\"stroke:#009af9; stroke-width:3.2; stroke-opacity:1\"/>\n",
       "<line clip-path=\"url(#clip892)\" x1=\"765.992\" y1=\"400.967\" x2=\"733.992\" y2=\"400.967\" style=\"stroke:#009af9; stroke-width:3.2; stroke-opacity:1\"/>\n",
       "<line clip-path=\"url(#clip892)\" x1=\"986.455\" y1=\"524.996\" x2=\"954.455\" y2=\"524.996\" style=\"stroke:#009af9; stroke-width:3.2; stroke-opacity:1\"/>\n",
       "<line clip-path=\"url(#clip892)\" x1=\"986.455\" y1=\"363.759\" x2=\"954.455\" y2=\"363.759\" style=\"stroke:#009af9; stroke-width:3.2; stroke-opacity:1\"/>\n",
       "<line clip-path=\"url(#clip892)\" x1=\"1206.92\" y1=\"528.033\" x2=\"1174.92\" y2=\"528.033\" style=\"stroke:#009af9; stroke-width:3.2; stroke-opacity:1\"/>\n",
       "<line clip-path=\"url(#clip892)\" x1=\"1206.92\" y1=\"254.229\" x2=\"1174.92\" y2=\"254.229\" style=\"stroke:#009af9; stroke-width:3.2; stroke-opacity:1\"/>\n",
       "<line clip-path=\"url(#clip892)\" x1=\"1427.38\" y1=\"249.921\" x2=\"1395.38\" y2=\"249.921\" style=\"stroke:#009af9; stroke-width:3.2; stroke-opacity:1\"/>\n",
       "<line clip-path=\"url(#clip892)\" x1=\"1427.38\" y1=\"167.699\" x2=\"1395.38\" y2=\"167.699\" style=\"stroke:#009af9; stroke-width:3.2; stroke-opacity:1\"/>\n",
       "<line clip-path=\"url(#clip892)\" x1=\"1647.84\" y1=\"223.904\" x2=\"1615.84\" y2=\"223.904\" style=\"stroke:#009af9; stroke-width:3.2; stroke-opacity:1\"/>\n",
       "<line clip-path=\"url(#clip892)\" x1=\"1647.84\" y1=\"180.897\" x2=\"1615.84\" y2=\"180.897\" style=\"stroke:#009af9; stroke-width:3.2; stroke-opacity:1\"/>\n",
       "<line clip-path=\"url(#clip892)\" x1=\"1868.31\" y1=\"159.458\" x2=\"1836.31\" y2=\"159.458\" style=\"stroke:#009af9; stroke-width:3.2; stroke-opacity:1\"/>\n",
       "<line clip-path=\"url(#clip892)\" x1=\"1868.31\" y1=\"86.1857\" x2=\"1836.31\" y2=\"86.1857\" style=\"stroke:#009af9; stroke-width:3.2; stroke-opacity:1\"/>\n",
       "<line clip-path=\"url(#clip892)\" x1=\"2088.77\" y1=\"264.682\" x2=\"2056.77\" y2=\"264.682\" style=\"stroke:#009af9; stroke-width:3.2; stroke-opacity:1\"/>\n",
       "<line clip-path=\"url(#clip892)\" x1=\"2088.77\" y1=\"153.533\" x2=\"2056.77\" y2=\"153.533\" style=\"stroke:#009af9; stroke-width:3.2; stroke-opacity:1\"/>\n",
       "<line clip-path=\"url(#clip892)\" x1=\"2309.23\" y1=\"230.987\" x2=\"2277.23\" y2=\"230.987\" style=\"stroke:#009af9; stroke-width:3.2; stroke-opacity:1\"/>\n",
       "<line clip-path=\"url(#clip892)\" x1=\"2309.23\" y1=\"103.299\" x2=\"2277.23\" y2=\"103.299\" style=\"stroke:#009af9; stroke-width:3.2; stroke-opacity:1\"/>\n",
       "</svg>\n"
      ],
      "text/html": [
       "<?xml version=\"1.0\" encoding=\"utf-8\"?>\n",
       "<svg xmlns=\"http://www.w3.org/2000/svg\" xmlns:xlink=\"http://www.w3.org/1999/xlink\" width=\"600\" height=\"400\" viewBox=\"0 0 2400 1600\">\n",
       "<defs>\n",
       "  <clipPath id=\"clip940\">\n",
       "    <rect x=\"0\" y=\"0\" width=\"2400\" height=\"1600\"/>\n",
       "  </clipPath>\n",
       "</defs>\n",
       "<path clip-path=\"url(#clip940)\" d=\"\n",
       "M0 1600 L2400 1600 L2400 0 L0 0  Z\n",
       "  \" fill=\"#ffffff\" fill-rule=\"evenodd\" fill-opacity=\"1\"/>\n",
       "<defs>\n",
       "  <clipPath id=\"clip941\">\n",
       "    <rect x=\"480\" y=\"0\" width=\"1681\" height=\"1600\"/>\n",
       "  </clipPath>\n",
       "</defs>\n",
       "<path clip-path=\"url(#clip940)\" d=\"\n",
       "M249.542 1423.18 L2352.76 1423.18 L2352.76 47.2441 L249.542 47.2441  Z\n",
       "  \" fill=\"#ffffff\" fill-rule=\"evenodd\" fill-opacity=\"1\"/>\n",
       "<defs>\n",
       "  <clipPath id=\"clip942\">\n",
       "    <rect x=\"249\" y=\"47\" width=\"2104\" height=\"1377\"/>\n",
       "  </clipPath>\n",
       "</defs>\n",
       "<polyline clip-path=\"url(#clip942)\" style=\"stroke:#000000; stroke-linecap:butt; stroke-linejoin:round; stroke-width:2; stroke-opacity:0.1; fill:none\" points=\"\n",
       "  529.53,1423.18 529.53,47.2441 \n",
       "  \"/>\n",
       "<polyline clip-path=\"url(#clip942)\" style=\"stroke:#000000; stroke-linecap:butt; stroke-linejoin:round; stroke-width:2; stroke-opacity:0.1; fill:none\" points=\"\n",
       "  970.455,1423.18 970.455,47.2441 \n",
       "  \"/>\n",
       "<polyline clip-path=\"url(#clip942)\" style=\"stroke:#000000; stroke-linecap:butt; stroke-linejoin:round; stroke-width:2; stroke-opacity:0.1; fill:none\" points=\"\n",
       "  1411.38,1423.18 1411.38,47.2441 \n",
       "  \"/>\n",
       "<polyline clip-path=\"url(#clip942)\" style=\"stroke:#000000; stroke-linecap:butt; stroke-linejoin:round; stroke-width:2; stroke-opacity:0.1; fill:none\" points=\"\n",
       "  1852.31,1423.18 1852.31,47.2441 \n",
       "  \"/>\n",
       "<polyline clip-path=\"url(#clip942)\" style=\"stroke:#000000; stroke-linecap:butt; stroke-linejoin:round; stroke-width:2; stroke-opacity:0.1; fill:none\" points=\"\n",
       "  2293.23,1423.18 2293.23,47.2441 \n",
       "  \"/>\n",
       "<polyline clip-path=\"url(#clip940)\" style=\"stroke:#000000; stroke-linecap:butt; stroke-linejoin:round; stroke-width:4; stroke-opacity:1; fill:none\" points=\"\n",
       "  249.542,1423.18 2352.76,1423.18 \n",
       "  \"/>\n",
       "<polyline clip-path=\"url(#clip940)\" style=\"stroke:#000000; stroke-linecap:butt; stroke-linejoin:round; stroke-width:4; stroke-opacity:1; fill:none\" points=\"\n",
       "  529.53,1423.18 529.53,1404.28 \n",
       "  \"/>\n",
       "<polyline clip-path=\"url(#clip940)\" style=\"stroke:#000000; stroke-linecap:butt; stroke-linejoin:round; stroke-width:4; stroke-opacity:1; fill:none\" points=\"\n",
       "  970.455,1423.18 970.455,1404.28 \n",
       "  \"/>\n",
       "<polyline clip-path=\"url(#clip940)\" style=\"stroke:#000000; stroke-linecap:butt; stroke-linejoin:round; stroke-width:4; stroke-opacity:1; fill:none\" points=\"\n",
       "  1411.38,1423.18 1411.38,1404.28 \n",
       "  \"/>\n",
       "<polyline clip-path=\"url(#clip940)\" style=\"stroke:#000000; stroke-linecap:butt; stroke-linejoin:round; stroke-width:4; stroke-opacity:1; fill:none\" points=\"\n",
       "  1852.31,1423.18 1852.31,1404.28 \n",
       "  \"/>\n",
       "<polyline clip-path=\"url(#clip940)\" style=\"stroke:#000000; stroke-linecap:butt; stroke-linejoin:round; stroke-width:4; stroke-opacity:1; fill:none\" points=\"\n",
       "  2293.23,1423.18 2293.23,1404.28 \n",
       "  \"/>\n",
       "<path clip-path=\"url(#clip940)\" d=\"M508.303 1481.64 L524.622 1481.64 L524.622 1485.58 L502.678 1485.58 L502.678 1481.64 Q505.34 1478.89 509.923 1474.26 Q514.53 1469.61 515.71 1468.27 Q517.956 1465.74 518.835 1464.01 Q519.738 1462.25 519.738 1460.56 Q519.738 1457.8 517.794 1456.07 Q515.872 1454.33 512.77 1454.33 Q510.571 1454.33 508.118 1455.09 Q505.687 1455.86 502.909 1457.41 L502.909 1452.69 Q505.733 1451.55 508.187 1450.97 Q510.641 1450.39 512.678 1450.39 Q518.048 1450.39 521.243 1453.08 Q524.437 1455.77 524.437 1460.26 Q524.437 1462.39 523.627 1464.31 Q522.84 1466.2 520.733 1468.8 Q520.155 1469.47 517.053 1472.69 Q513.951 1475.88 508.303 1481.64 Z\" fill=\"#000000\" fill-rule=\"evenodd\" fill-opacity=\"1\" /><path clip-path=\"url(#clip940)\" d=\"M544.437 1454.1 Q540.826 1454.1 538.997 1457.66 Q537.192 1461.2 537.192 1468.33 Q537.192 1475.44 538.997 1479.01 Q540.826 1482.55 544.437 1482.55 Q548.071 1482.55 549.877 1479.01 Q551.705 1475.44 551.705 1468.33 Q551.705 1461.2 549.877 1457.66 Q548.071 1454.1 544.437 1454.1 M544.437 1450.39 Q550.247 1450.39 553.303 1455 Q556.381 1459.58 556.381 1468.33 Q556.381 1477.06 553.303 1481.67 Q550.247 1486.25 544.437 1486.25 Q538.627 1486.25 535.548 1481.67 Q532.493 1477.06 532.493 1468.33 Q532.493 1459.58 535.548 1455 Q538.627 1450.39 544.437 1450.39 Z\" fill=\"#000000\" fill-rule=\"evenodd\" fill-opacity=\"1\" /><path clip-path=\"url(#clip940)\" d=\"M958.626 1455.09 L946.821 1473.54 L958.626 1473.54 L958.626 1455.09 M957.399 1451.02 L963.279 1451.02 L963.279 1473.54 L968.21 1473.54 L968.21 1477.43 L963.279 1477.43 L963.279 1485.58 L958.626 1485.58 L958.626 1477.43 L943.025 1477.43 L943.025 1472.92 L957.399 1451.02 Z\" fill=\"#000000\" fill-rule=\"evenodd\" fill-opacity=\"1\" /><path clip-path=\"url(#clip940)\" d=\"M985.941 1454.1 Q982.33 1454.1 980.501 1457.66 Q978.696 1461.2 978.696 1468.33 Q978.696 1475.44 980.501 1479.01 Q982.33 1482.55 985.941 1482.55 Q989.575 1482.55 991.381 1479.01 Q993.209 1475.44 993.209 1468.33 Q993.209 1461.2 991.381 1457.66 Q989.575 1454.1 985.941 1454.1 M985.941 1450.39 Q991.751 1450.39 994.807 1455 Q997.885 1459.58 997.885 1468.33 Q997.885 1477.06 994.807 1481.67 Q991.751 1486.25 985.941 1486.25 Q980.131 1486.25 977.052 1481.67 Q973.997 1477.06 973.997 1468.33 Q973.997 1459.58 977.052 1455 Q980.131 1450.39 985.941 1450.39 Z\" fill=\"#000000\" fill-rule=\"evenodd\" fill-opacity=\"1\" /><path clip-path=\"url(#clip940)\" d=\"M1396.79 1466.44 Q1393.64 1466.44 1391.79 1468.59 Q1389.96 1470.74 1389.96 1474.49 Q1389.96 1478.22 1391.79 1480.39 Q1393.64 1482.55 1396.79 1482.55 Q1399.93 1482.55 1401.76 1480.39 Q1403.61 1478.22 1403.61 1474.49 Q1403.61 1470.74 1401.76 1468.59 Q1399.93 1466.44 1396.79 1466.44 M1406.07 1451.78 L1406.07 1456.04 Q1404.31 1455.21 1402.5 1454.77 Q1400.72 1454.33 1398.96 1454.33 Q1394.33 1454.33 1391.88 1457.45 Q1389.45 1460.58 1389.1 1466.9 Q1390.47 1464.89 1392.53 1463.82 Q1394.59 1462.73 1397.06 1462.73 Q1402.27 1462.73 1405.28 1465.9 Q1408.31 1469.05 1408.31 1474.49 Q1408.31 1479.82 1405.17 1483.03 Q1402.02 1486.25 1396.79 1486.25 Q1390.79 1486.25 1387.62 1481.67 Q1384.45 1477.06 1384.45 1468.33 Q1384.45 1460.14 1388.34 1455.28 Q1392.23 1450.39 1398.78 1450.39 Q1400.54 1450.39 1402.32 1450.74 Q1404.12 1451.09 1406.07 1451.78 Z\" fill=\"#000000\" fill-rule=\"evenodd\" fill-opacity=\"1\" /><path clip-path=\"url(#clip940)\" d=\"M1426.37 1454.1 Q1422.76 1454.1 1420.93 1457.66 Q1419.12 1461.2 1419.12 1468.33 Q1419.12 1475.44 1420.93 1479.01 Q1422.76 1482.55 1426.37 1482.55 Q1430 1482.55 1431.81 1479.01 Q1433.64 1475.44 1433.64 1468.33 Q1433.64 1461.2 1431.81 1457.66 Q1430 1454.1 1426.37 1454.1 M1426.37 1450.39 Q1432.18 1450.39 1435.23 1455 Q1438.31 1459.58 1438.31 1468.33 Q1438.31 1477.06 1435.23 1481.67 Q1432.18 1486.25 1426.37 1486.25 Q1420.56 1486.25 1417.48 1481.67 Q1414.42 1477.06 1414.42 1468.33 Q1414.42 1459.58 1417.48 1455 Q1420.56 1450.39 1426.37 1450.39 Z\" fill=\"#000000\" fill-rule=\"evenodd\" fill-opacity=\"1\" /><path clip-path=\"url(#clip940)\" d=\"M1837.18 1469.17 Q1833.85 1469.17 1831.92 1470.95 Q1830.03 1472.73 1830.03 1475.86 Q1830.03 1478.98 1831.92 1480.77 Q1833.85 1482.55 1837.18 1482.55 Q1840.51 1482.55 1842.43 1480.77 Q1844.35 1478.96 1844.35 1475.86 Q1844.35 1472.73 1842.43 1470.95 Q1840.53 1469.17 1837.18 1469.17 M1832.5 1467.18 Q1829.49 1466.44 1827.8 1464.38 Q1826.14 1462.32 1826.14 1459.35 Q1826.14 1455.21 1829.08 1452.8 Q1832.04 1450.39 1837.18 1450.39 Q1842.34 1450.39 1845.28 1452.8 Q1848.22 1455.21 1848.22 1459.35 Q1848.22 1462.32 1846.53 1464.38 Q1844.86 1466.44 1841.88 1467.18 Q1845.26 1467.96 1847.13 1470.26 Q1849.03 1472.55 1849.03 1475.86 Q1849.03 1480.88 1845.95 1483.57 Q1842.9 1486.25 1837.18 1486.25 Q1831.46 1486.25 1828.38 1483.57 Q1825.33 1480.88 1825.33 1475.86 Q1825.33 1472.55 1827.22 1470.26 Q1829.12 1467.96 1832.5 1467.18 M1830.79 1459.79 Q1830.79 1462.48 1832.46 1463.98 Q1834.15 1465.49 1837.18 1465.49 Q1840.19 1465.49 1841.88 1463.98 Q1843.59 1462.48 1843.59 1459.79 Q1843.59 1457.11 1841.88 1455.6 Q1840.19 1454.1 1837.18 1454.1 Q1834.15 1454.1 1832.46 1455.6 Q1830.79 1457.11 1830.79 1459.79 Z\" fill=\"#000000\" fill-rule=\"evenodd\" fill-opacity=\"1\" /><path clip-path=\"url(#clip940)\" d=\"M1867.34 1454.1 Q1863.73 1454.1 1861.9 1457.66 Q1860.09 1461.2 1860.09 1468.33 Q1860.09 1475.44 1861.9 1479.01 Q1863.73 1482.55 1867.34 1482.55 Q1870.97 1482.55 1872.78 1479.01 Q1874.61 1475.44 1874.61 1468.33 Q1874.61 1461.2 1872.78 1457.66 Q1870.97 1454.1 1867.34 1454.1 M1867.34 1450.39 Q1873.15 1450.39 1876.21 1455 Q1879.28 1459.58 1879.28 1468.33 Q1879.28 1477.06 1876.21 1481.67 Q1873.15 1486.25 1867.34 1486.25 Q1861.53 1486.25 1858.45 1481.67 Q1855.4 1477.06 1855.4 1468.33 Q1855.4 1459.58 1858.45 1455 Q1861.53 1450.39 1867.34 1450.39 Z\" fill=\"#000000\" fill-rule=\"evenodd\" fill-opacity=\"1\" /><path clip-path=\"url(#clip940)\" d=\"M2252.84 1481.64 L2260.48 1481.64 L2260.48 1455.28 L2252.17 1456.95 L2252.17 1452.69 L2260.43 1451.02 L2265.11 1451.02 L2265.11 1481.64 L2272.74 1481.64 L2272.74 1485.58 L2252.84 1485.58 L2252.84 1481.64 Z\" fill=\"#000000\" fill-rule=\"evenodd\" fill-opacity=\"1\" /><path clip-path=\"url(#clip940)\" d=\"M2292.19 1454.1 Q2288.58 1454.1 2286.75 1457.66 Q2284.94 1461.2 2284.94 1468.33 Q2284.94 1475.44 2286.75 1479.01 Q2288.58 1482.55 2292.19 1482.55 Q2295.82 1482.55 2297.63 1479.01 Q2299.46 1475.44 2299.46 1468.33 Q2299.46 1461.2 2297.63 1457.66 Q2295.82 1454.1 2292.19 1454.1 M2292.19 1450.39 Q2298 1450.39 2301.06 1455 Q2304.13 1459.58 2304.13 1468.33 Q2304.13 1477.06 2301.06 1481.67 Q2298 1486.25 2292.19 1486.25 Q2286.38 1486.25 2283.3 1481.67 Q2280.24 1477.06 2280.24 1468.33 Q2280.24 1459.58 2283.3 1455 Q2286.38 1450.39 2292.19 1450.39 Z\" fill=\"#000000\" fill-rule=\"evenodd\" fill-opacity=\"1\" /><path clip-path=\"url(#clip940)\" d=\"M2322.35 1454.1 Q2318.74 1454.1 2316.91 1457.66 Q2315.11 1461.2 2315.11 1468.33 Q2315.11 1475.44 2316.91 1479.01 Q2318.74 1482.55 2322.35 1482.55 Q2325.99 1482.55 2327.79 1479.01 Q2329.62 1475.44 2329.62 1468.33 Q2329.62 1461.2 2327.79 1457.66 Q2325.99 1454.1 2322.35 1454.1 M2322.35 1450.39 Q2328.16 1450.39 2331.22 1455 Q2334.3 1459.58 2334.3 1468.33 Q2334.3 1477.06 2331.22 1481.67 Q2328.16 1486.25 2322.35 1486.25 Q2316.54 1486.25 2313.46 1481.67 Q2310.41 1477.06 2310.41 1468.33 Q2310.41 1459.58 2313.46 1455 Q2316.54 1450.39 2322.35 1450.39 Z\" fill=\"#000000\" fill-rule=\"evenodd\" fill-opacity=\"1\" /><path clip-path=\"url(#clip940)\" d=\"M1262.83 1577.62 L1259.64 1577.62 L1259.61 1568.04 Q1256.27 1567.98 1252.93 1567.28 Q1249.59 1566.55 1246.21 1565.12 L1246.21 1559.39 Q1249.46 1561.42 1252.77 1562.47 Q1256.11 1563.49 1259.64 1563.52 L1259.64 1549.01 Q1252.61 1547.86 1249.4 1545.13 Q1246.21 1542.39 1246.21 1537.62 Q1246.21 1532.43 1249.68 1529.44 Q1253.15 1526.44 1259.64 1526 L1259.64 1518.52 L1262.83 1518.52 L1262.83 1525.9 Q1265.79 1526.03 1268.56 1526.54 Q1271.33 1527.02 1273.97 1527.88 L1273.97 1533.45 Q1271.33 1532.11 1268.52 1531.38 Q1265.76 1530.65 1262.83 1530.52 L1262.83 1544.11 Q1270.05 1545.22 1273.46 1548.09 Q1276.86 1550.95 1276.86 1555.92 Q1276.86 1561.3 1273.24 1564.42 Q1269.64 1567.5 1262.83 1567.98 L1262.83 1577.62 M1259.64 1543.54 L1259.64 1530.49 Q1255.95 1530.9 1254.01 1532.59 Q1252.07 1534.27 1252.07 1537.07 Q1252.07 1539.81 1253.85 1541.34 Q1255.67 1542.87 1259.64 1543.54 M1262.83 1549.65 L1262.83 1563.43 Q1266.87 1562.89 1268.91 1561.14 Q1270.98 1559.39 1270.98 1556.52 Q1270.98 1553.72 1269 1552.07 Q1267.06 1550.41 1262.83 1549.65 Z\" fill=\"#000000\" fill-rule=\"evenodd\" fill-opacity=\"1\" /><path clip-path=\"url(#clip940)\" d=\"M1288.19 1518.52 L1294.08 1518.52 L1294.08 1547.77 L1311.56 1532.4 L1319.04 1532.4 L1300.13 1549.07 L1319.83 1568.04 L1312.19 1568.04 L1294.08 1550.63 L1294.08 1568.04 L1288.19 1568.04 L1288.19 1518.52 Z\" fill=\"#000000\" fill-rule=\"evenodd\" fill-opacity=\"1\" /><path clip-path=\"url(#clip940)\" d=\"M1342.05 1577.62 L1338.87 1577.62 L1338.83 1568.04 Q1335.49 1567.98 1332.15 1567.28 Q1328.81 1566.55 1325.43 1565.12 L1325.43 1559.39 Q1328.68 1561.42 1331.99 1562.47 Q1335.33 1563.49 1338.87 1563.52 L1338.87 1549.01 Q1331.83 1547.86 1328.62 1545.13 Q1325.43 1542.39 1325.43 1537.62 Q1325.43 1532.43 1328.9 1529.44 Q1332.37 1526.44 1338.87 1526 L1338.87 1518.52 L1342.05 1518.52 L1342.05 1525.9 Q1345.01 1526.03 1347.78 1526.54 Q1350.55 1527.02 1353.19 1527.88 L1353.19 1533.45 Q1350.55 1532.11 1347.75 1531.38 Q1344.98 1530.65 1342.05 1530.52 L1342.05 1544.11 Q1349.27 1545.22 1352.68 1548.09 Q1356.09 1550.95 1356.09 1555.92 Q1356.09 1561.3 1352.46 1564.42 Q1348.86 1567.5 1342.05 1567.98 L1342.05 1577.62 M1338.87 1543.54 L1338.87 1530.49 Q1335.17 1530.9 1333.23 1532.59 Q1331.29 1534.27 1331.29 1537.07 Q1331.29 1539.81 1333.07 1541.34 Q1334.89 1542.87 1338.87 1543.54 M1342.05 1549.65 L1342.05 1563.43 Q1346.09 1562.89 1348.13 1561.14 Q1350.2 1559.39 1350.2 1556.52 Q1350.2 1553.72 1348.22 1552.07 Q1346.28 1550.41 1342.05 1549.65 Z\" fill=\"#000000\" fill-rule=\"evenodd\" fill-opacity=\"1\" /><polyline clip-path=\"url(#clip942)\" style=\"stroke:#000000; stroke-linecap:butt; stroke-linejoin:round; stroke-width:2; stroke-opacity:0.1; fill:none\" points=\"\n",
       "  249.542,1214.26 2352.76,1214.26 \n",
       "  \"/>\n",
       "<polyline clip-path=\"url(#clip942)\" style=\"stroke:#000000; stroke-linecap:butt; stroke-linejoin:round; stroke-width:2; stroke-opacity:0.1; fill:none\" points=\"\n",
       "  249.542,978.019 2352.76,978.019 \n",
       "  \"/>\n",
       "<polyline clip-path=\"url(#clip942)\" style=\"stroke:#000000; stroke-linecap:butt; stroke-linejoin:round; stroke-width:2; stroke-opacity:0.1; fill:none\" points=\"\n",
       "  249.542,741.774 2352.76,741.774 \n",
       "  \"/>\n",
       "<polyline clip-path=\"url(#clip942)\" style=\"stroke:#000000; stroke-linecap:butt; stroke-linejoin:round; stroke-width:2; stroke-opacity:0.1; fill:none\" points=\"\n",
       "  249.542,505.528 2352.76,505.528 \n",
       "  \"/>\n",
       "<polyline clip-path=\"url(#clip942)\" style=\"stroke:#000000; stroke-linecap:butt; stroke-linejoin:round; stroke-width:2; stroke-opacity:0.1; fill:none\" points=\"\n",
       "  249.542,269.283 2352.76,269.283 \n",
       "  \"/>\n",
       "<polyline clip-path=\"url(#clip940)\" style=\"stroke:#000000; stroke-linecap:butt; stroke-linejoin:round; stroke-width:4; stroke-opacity:1; fill:none\" points=\"\n",
       "  249.542,1423.18 249.542,47.2441 \n",
       "  \"/>\n",
       "<polyline clip-path=\"url(#clip940)\" style=\"stroke:#000000; stroke-linecap:butt; stroke-linejoin:round; stroke-width:4; stroke-opacity:1; fill:none\" points=\"\n",
       "  249.542,1214.26 268.44,1214.26 \n",
       "  \"/>\n",
       "<polyline clip-path=\"url(#clip940)\" style=\"stroke:#000000; stroke-linecap:butt; stroke-linejoin:round; stroke-width:4; stroke-opacity:1; fill:none\" points=\"\n",
       "  249.542,978.019 268.44,978.019 \n",
       "  \"/>\n",
       "<polyline clip-path=\"url(#clip940)\" style=\"stroke:#000000; stroke-linecap:butt; stroke-linejoin:round; stroke-width:4; stroke-opacity:1; fill:none\" points=\"\n",
       "  249.542,741.774 268.44,741.774 \n",
       "  \"/>\n",
       "<polyline clip-path=\"url(#clip940)\" style=\"stroke:#000000; stroke-linecap:butt; stroke-linejoin:round; stroke-width:4; stroke-opacity:1; fill:none\" points=\"\n",
       "  249.542,505.528 268.44,505.528 \n",
       "  \"/>\n",
       "<polyline clip-path=\"url(#clip940)\" style=\"stroke:#000000; stroke-linecap:butt; stroke-linejoin:round; stroke-width:4; stroke-opacity:1; fill:none\" points=\"\n",
       "  249.542,269.283 268.44,269.283 \n",
       "  \"/>\n",
       "<path clip-path=\"url(#clip940)\" d=\"M126.205 1200.06 Q122.593 1200.06 120.765 1203.63 Q118.959 1207.17 118.959 1214.3 Q118.959 1221.41 120.765 1224.97 Q122.593 1228.51 126.205 1228.51 Q129.839 1228.51 131.644 1224.97 Q133.473 1221.41 133.473 1214.3 Q133.473 1207.17 131.644 1203.63 Q129.839 1200.06 126.205 1200.06 M126.205 1196.36 Q132.015 1196.36 135.07 1200.97 Q138.149 1205.55 138.149 1214.3 Q138.149 1223.03 135.07 1227.63 Q132.015 1232.22 126.205 1232.22 Q120.394 1232.22 117.316 1227.63 Q114.26 1223.03 114.26 1214.3 Q114.26 1205.55 117.316 1200.97 Q120.394 1196.36 126.205 1196.36 Z\" fill=\"#000000\" fill-rule=\"evenodd\" fill-opacity=\"1\" /><path clip-path=\"url(#clip940)\" d=\"M146.366 1225.67 L151.251 1225.67 L151.251 1231.54 L146.366 1231.54 L146.366 1225.67 Z\" fill=\"#000000\" fill-rule=\"evenodd\" fill-opacity=\"1\" /><path clip-path=\"url(#clip940)\" d=\"M160.255 1196.98 L182.477 1196.98 L182.477 1198.98 L169.931 1231.54 L165.047 1231.54 L176.852 1200.92 L160.255 1200.92 L160.255 1196.98 Z\" fill=\"#000000\" fill-rule=\"evenodd\" fill-opacity=\"1\" /><path clip-path=\"url(#clip940)\" d=\"M201.598 1200.06 Q197.987 1200.06 196.158 1203.63 Q194.352 1207.17 194.352 1214.3 Q194.352 1221.41 196.158 1224.97 Q197.987 1228.51 201.598 1228.51 Q205.232 1228.51 207.037 1224.97 Q208.866 1221.41 208.866 1214.3 Q208.866 1207.17 207.037 1203.63 Q205.232 1200.06 201.598 1200.06 M201.598 1196.36 Q207.408 1196.36 210.463 1200.97 Q213.542 1205.55 213.542 1214.3 Q213.542 1223.03 210.463 1227.63 Q207.408 1232.22 201.598 1232.22 Q195.787 1232.22 192.709 1227.63 Q189.653 1223.03 189.653 1214.3 Q189.653 1205.55 192.709 1200.97 Q195.787 1196.36 201.598 1196.36 Z\" fill=\"#000000\" fill-rule=\"evenodd\" fill-opacity=\"1\" /><path clip-path=\"url(#clip940)\" d=\"M127.2 963.818 Q123.589 963.818 121.76 967.383 Q119.955 970.924 119.955 978.054 Q119.955 985.16 121.76 988.725 Q123.589 992.267 127.2 992.267 Q130.834 992.267 132.64 988.725 Q134.468 985.16 134.468 978.054 Q134.468 970.924 132.64 967.383 Q130.834 963.818 127.2 963.818 M127.2 960.114 Q133.01 960.114 136.066 964.721 Q139.144 969.304 139.144 978.054 Q139.144 986.781 136.066 991.387 Q133.01 995.971 127.2 995.971 Q121.39 995.971 118.311 991.387 Q115.256 986.781 115.256 978.054 Q115.256 969.304 118.311 964.721 Q121.39 960.114 127.2 960.114 Z\" fill=\"#000000\" fill-rule=\"evenodd\" fill-opacity=\"1\" /><path clip-path=\"url(#clip940)\" d=\"M147.362 989.42 L152.246 989.42 L152.246 995.299 L147.362 995.299 L147.362 989.42 Z\" fill=\"#000000\" fill-rule=\"evenodd\" fill-opacity=\"1\" /><path clip-path=\"url(#clip940)\" d=\"M161.251 960.739 L183.473 960.739 L183.473 962.73 L170.927 995.299 L166.042 995.299 L177.848 964.674 L161.251 964.674 L161.251 960.739 Z\" fill=\"#000000\" fill-rule=\"evenodd\" fill-opacity=\"1\" /><path clip-path=\"url(#clip940)\" d=\"M192.639 960.739 L210.996 960.739 L210.996 964.674 L196.922 964.674 L196.922 973.147 Q197.94 972.799 198.959 972.637 Q199.977 972.452 200.996 972.452 Q206.783 972.452 210.162 975.623 Q213.542 978.795 213.542 984.211 Q213.542 989.79 210.07 992.892 Q206.598 995.971 200.278 995.971 Q198.102 995.971 195.834 995.6 Q193.588 995.23 191.181 994.489 L191.181 989.79 Q193.264 990.924 195.487 991.48 Q197.709 992.035 200.186 992.035 Q204.19 992.035 206.528 989.929 Q208.866 987.822 208.866 984.211 Q208.866 980.6 206.528 978.494 Q204.19 976.387 200.186 976.387 Q198.311 976.387 196.436 976.804 Q194.584 977.221 192.639 978.1 L192.639 960.739 Z\" fill=\"#000000\" fill-rule=\"evenodd\" fill-opacity=\"1\" /><path clip-path=\"url(#clip940)\" d=\"M126.205 727.572 Q122.593 727.572 120.765 731.137 Q118.959 734.679 118.959 741.808 Q118.959 748.915 120.765 752.48 Q122.593 756.021 126.205 756.021 Q129.839 756.021 131.644 752.48 Q133.473 748.915 133.473 741.808 Q133.473 734.679 131.644 731.137 Q129.839 727.572 126.205 727.572 M126.205 723.869 Q132.015 723.869 135.07 728.475 Q138.149 733.058 138.149 741.808 Q138.149 750.535 135.07 755.142 Q132.015 759.725 126.205 759.725 Q120.394 759.725 117.316 755.142 Q114.26 750.535 114.26 741.808 Q114.26 733.058 117.316 728.475 Q120.394 723.869 126.205 723.869 Z\" fill=\"#000000\" fill-rule=\"evenodd\" fill-opacity=\"1\" /><path clip-path=\"url(#clip940)\" d=\"M146.366 753.174 L151.251 753.174 L151.251 759.054 L146.366 759.054 L146.366 753.174 Z\" fill=\"#000000\" fill-rule=\"evenodd\" fill-opacity=\"1\" /><path clip-path=\"url(#clip940)\" d=\"M171.436 742.642 Q168.102 742.642 166.181 744.424 Q164.283 746.206 164.283 749.331 Q164.283 752.456 166.181 754.239 Q168.102 756.021 171.436 756.021 Q174.769 756.021 176.69 754.239 Q178.612 752.433 178.612 749.331 Q178.612 746.206 176.69 744.424 Q174.792 742.642 171.436 742.642 M166.76 740.651 Q163.751 739.91 162.061 737.85 Q160.394 735.79 160.394 732.827 Q160.394 728.683 163.334 726.276 Q166.297 723.869 171.436 723.869 Q176.598 723.869 179.538 726.276 Q182.477 728.683 182.477 732.827 Q182.477 735.79 180.788 737.85 Q179.121 739.91 176.135 740.651 Q179.514 741.438 181.389 743.73 Q183.288 746.021 183.288 749.331 Q183.288 754.355 180.209 757.04 Q177.153 759.725 171.436 759.725 Q165.718 759.725 162.64 757.04 Q159.584 754.355 159.584 749.331 Q159.584 746.021 161.482 743.73 Q163.38 741.438 166.76 740.651 M165.047 733.267 Q165.047 735.952 166.714 737.457 Q168.403 738.961 171.436 738.961 Q174.445 738.961 176.135 737.457 Q177.848 735.952 177.848 733.267 Q177.848 730.582 176.135 729.077 Q174.445 727.572 171.436 727.572 Q168.403 727.572 166.714 729.077 Q165.047 730.582 165.047 733.267 Z\" fill=\"#000000\" fill-rule=\"evenodd\" fill-opacity=\"1\" /><path clip-path=\"url(#clip940)\" d=\"M201.598 727.572 Q197.987 727.572 196.158 731.137 Q194.352 734.679 194.352 741.808 Q194.352 748.915 196.158 752.48 Q197.987 756.021 201.598 756.021 Q205.232 756.021 207.037 752.48 Q208.866 748.915 208.866 741.808 Q208.866 734.679 207.037 731.137 Q205.232 727.572 201.598 727.572 M201.598 723.869 Q207.408 723.869 210.463 728.475 Q213.542 733.058 213.542 741.808 Q213.542 750.535 210.463 755.142 Q207.408 759.725 201.598 759.725 Q195.787 759.725 192.709 755.142 Q189.653 750.535 189.653 741.808 Q189.653 733.058 192.709 728.475 Q195.787 723.869 201.598 723.869 Z\" fill=\"#000000\" fill-rule=\"evenodd\" fill-opacity=\"1\" /><path clip-path=\"url(#clip940)\" d=\"M127.2 491.327 Q123.589 491.327 121.76 494.892 Q119.955 498.433 119.955 505.563 Q119.955 512.669 121.76 516.234 Q123.589 519.776 127.2 519.776 Q130.834 519.776 132.64 516.234 Q134.468 512.669 134.468 505.563 Q134.468 498.433 132.64 494.892 Q130.834 491.327 127.2 491.327 M127.2 487.623 Q133.01 487.623 136.066 492.23 Q139.144 496.813 139.144 505.563 Q139.144 514.29 136.066 518.896 Q133.01 523.479 127.2 523.479 Q121.39 523.479 118.311 518.896 Q115.256 514.29 115.256 505.563 Q115.256 496.813 118.311 492.23 Q121.39 487.623 127.2 487.623 Z\" fill=\"#000000\" fill-rule=\"evenodd\" fill-opacity=\"1\" /><path clip-path=\"url(#clip940)\" d=\"M147.362 516.928 L152.246 516.928 L152.246 522.808 L147.362 522.808 L147.362 516.928 Z\" fill=\"#000000\" fill-rule=\"evenodd\" fill-opacity=\"1\" /><path clip-path=\"url(#clip940)\" d=\"M172.431 506.396 Q169.098 506.396 167.177 508.179 Q165.278 509.961 165.278 513.086 Q165.278 516.211 167.177 517.993 Q169.098 519.776 172.431 519.776 Q175.764 519.776 177.686 517.993 Q179.607 516.188 179.607 513.086 Q179.607 509.961 177.686 508.179 Q175.788 506.396 172.431 506.396 M167.755 504.405 Q164.746 503.665 163.056 501.604 Q161.39 499.544 161.39 496.581 Q161.39 492.438 164.329 490.03 Q167.292 487.623 172.431 487.623 Q177.593 487.623 180.533 490.03 Q183.473 492.438 183.473 496.581 Q183.473 499.544 181.783 501.604 Q180.116 503.665 177.13 504.405 Q180.51 505.192 182.385 507.484 Q184.283 509.776 184.283 513.086 Q184.283 518.109 181.204 520.794 Q178.149 523.479 172.431 523.479 Q166.714 523.479 163.635 520.794 Q160.579 518.109 160.579 513.086 Q160.579 509.776 162.477 507.484 Q164.376 505.192 167.755 504.405 M166.042 497.021 Q166.042 499.706 167.709 501.211 Q169.399 502.716 172.431 502.716 Q175.44 502.716 177.13 501.211 Q178.843 499.706 178.843 497.021 Q178.843 494.336 177.13 492.831 Q175.44 491.327 172.431 491.327 Q169.399 491.327 167.709 492.831 Q166.042 494.336 166.042 497.021 Z\" fill=\"#000000\" fill-rule=\"evenodd\" fill-opacity=\"1\" /><path clip-path=\"url(#clip940)\" d=\"M192.639 488.248 L210.996 488.248 L210.996 492.183 L196.922 492.183 L196.922 500.655 Q197.94 500.308 198.959 500.146 Q199.977 499.961 200.996 499.961 Q206.783 499.961 210.162 503.132 Q213.542 506.304 213.542 511.72 Q213.542 517.299 210.07 520.401 Q206.598 523.479 200.278 523.479 Q198.102 523.479 195.834 523.109 Q193.588 522.739 191.181 521.998 L191.181 517.299 Q193.264 518.433 195.487 518.989 Q197.709 519.544 200.186 519.544 Q204.19 519.544 206.528 517.438 Q208.866 515.331 208.866 511.72 Q208.866 508.109 206.528 506.003 Q204.19 503.896 200.186 503.896 Q198.311 503.896 196.436 504.313 Q194.584 504.729 192.639 505.609 L192.639 488.248 Z\" fill=\"#000000\" fill-rule=\"evenodd\" fill-opacity=\"1\" /><path clip-path=\"url(#clip940)\" d=\"M126.205 255.081 Q122.593 255.081 120.765 258.646 Q118.959 262.188 118.959 269.317 Q118.959 276.424 120.765 279.988 Q122.593 283.53 126.205 283.53 Q129.839 283.53 131.644 279.988 Q133.473 276.424 133.473 269.317 Q133.473 262.188 131.644 258.646 Q129.839 255.081 126.205 255.081 M126.205 251.378 Q132.015 251.378 135.07 255.984 Q138.149 260.567 138.149 269.317 Q138.149 278.044 135.07 282.65 Q132.015 287.234 126.205 287.234 Q120.394 287.234 117.316 282.65 Q114.26 278.044 114.26 269.317 Q114.26 260.567 117.316 255.984 Q120.394 251.378 126.205 251.378 Z\" fill=\"#000000\" fill-rule=\"evenodd\" fill-opacity=\"1\" /><path clip-path=\"url(#clip940)\" d=\"M146.366 280.683 L151.251 280.683 L151.251 286.563 L146.366 286.563 L146.366 280.683 Z\" fill=\"#000000\" fill-rule=\"evenodd\" fill-opacity=\"1\" /><path clip-path=\"url(#clip940)\" d=\"M161.575 285.845 L161.575 281.586 Q163.334 282.419 165.14 282.859 Q166.945 283.299 168.681 283.299 Q173.311 283.299 175.741 280.197 Q178.195 277.072 178.542 270.729 Q177.2 272.72 175.139 273.785 Q173.079 274.85 170.579 274.85 Q165.394 274.85 162.362 271.725 Q159.353 268.576 159.353 263.137 Q159.353 257.813 162.501 254.595 Q165.649 251.378 170.88 251.378 Q176.876 251.378 180.024 255.984 Q183.195 260.567 183.195 269.317 Q183.195 277.488 179.306 282.373 Q175.44 287.234 168.889 287.234 Q167.13 287.234 165.325 286.887 Q163.519 286.539 161.575 285.845 M170.88 271.192 Q174.028 271.192 175.857 269.039 Q177.709 266.887 177.709 263.137 Q177.709 259.41 175.857 257.257 Q174.028 255.081 170.88 255.081 Q167.732 255.081 165.88 257.257 Q164.052 259.41 164.052 263.137 Q164.052 266.887 165.88 269.039 Q167.732 271.192 170.88 271.192 Z\" fill=\"#000000\" fill-rule=\"evenodd\" fill-opacity=\"1\" /><path clip-path=\"url(#clip940)\" d=\"M201.598 255.081 Q197.987 255.081 196.158 258.646 Q194.352 262.188 194.352 269.317 Q194.352 276.424 196.158 279.988 Q197.987 283.53 201.598 283.53 Q205.232 283.53 207.037 279.988 Q208.866 276.424 208.866 269.317 Q208.866 262.188 207.037 258.646 Q205.232 255.081 201.598 255.081 M201.598 251.378 Q207.408 251.378 210.463 255.984 Q213.542 260.567 213.542 269.317 Q213.542 278.044 210.463 282.65 Q207.408 287.234 201.598 287.234 Q195.787 287.234 192.709 282.65 Q189.653 278.044 189.653 269.317 Q189.653 260.567 192.709 255.984 Q195.787 251.378 201.598 251.378 Z\" fill=\"#000000\" fill-rule=\"evenodd\" fill-opacity=\"1\" /><path clip-path=\"url(#clip940)\" d=\"M16.4842 1237.77 L16.4842 1229.11 L56.238 1208.04 L16.4842 1208.04 L16.4842 1201.8 L64.0042 1201.8 L64.0042 1210.46 L24.2503 1231.53 L64.0042 1231.53 L64.0042 1237.77 L16.4842 1237.77 Z\" fill=\"#000000\" fill-rule=\"evenodd\" fill-opacity=\"1\" /><path clip-path=\"url(#clip940)\" d=\"M32.4621 1175.45 Q32.4621 1180.16 36.1542 1182.9 Q39.8145 1185.63 46.212 1185.63 Q52.6095 1185.63 56.3017 1182.93 Q59.9619 1180.19 59.9619 1175.45 Q59.9619 1170.77 56.2698 1168.03 Q52.5777 1165.3 46.212 1165.3 Q39.8781 1165.3 36.186 1168.03 Q32.4621 1170.77 32.4621 1175.45 M27.4968 1175.45 Q27.4968 1167.81 32.4621 1163.45 Q37.4273 1159.09 46.212 1159.09 Q54.9649 1159.09 59.9619 1163.45 Q64.9272 1167.81 64.9272 1175.45 Q64.9272 1183.12 59.9619 1187.48 Q54.9649 1191.81 46.212 1191.81 Q37.4273 1191.81 32.4621 1187.48 Q27.4968 1183.12 27.4968 1175.45 Z\" fill=\"#000000\" fill-rule=\"evenodd\" fill-opacity=\"1\" /><path clip-path=\"url(#clip940)\" d=\"M33.8307 1128.72 Q33.2578 1129.71 33.0032 1130.89 Q32.7167 1132.03 32.7167 1133.43 Q32.7167 1138.4 35.9632 1141.07 Q39.1779 1143.72 45.2253 1143.72 L64.0042 1143.72 L64.0042 1149.6 L28.3562 1149.6 L28.3562 1143.72 L33.8944 1143.72 Q30.6479 1141.87 29.0883 1138.91 Q27.4968 1135.95 27.4968 1131.72 Q27.4968 1131.11 27.5923 1130.38 Q27.656 1129.65 27.8151 1128.76 L33.8307 1128.72 Z\" fill=\"#000000\" fill-rule=\"evenodd\" fill-opacity=\"1\" /><path clip-path=\"url(#clip940)\" d=\"M35.1993 1095.97 Q31.2526 1093.78 29.3747 1090.72 Q27.4968 1087.67 27.4968 1083.53 Q27.4968 1077.96 31.4117 1074.93 Q35.2948 1071.91 42.4881 1071.91 L64.0042 1071.91 L64.0042 1077.8 L42.679 1077.8 Q37.5546 1077.8 35.072 1079.61 Q32.5894 1081.43 32.5894 1085.15 Q32.5894 1089.7 35.6131 1092.34 Q38.6368 1094.99 43.8567 1094.99 L64.0042 1094.99 L64.0042 1100.87 L42.679 1100.87 Q37.5228 1100.87 35.072 1102.69 Q32.5894 1104.5 32.5894 1108.29 Q32.5894 1112.78 35.6449 1115.42 Q38.6686 1118.06 43.8567 1118.06 L64.0042 1118.06 L64.0042 1123.95 L28.3562 1123.95 L28.3562 1118.06 L33.8944 1118.06 Q30.616 1116.06 29.0564 1113.26 Q27.4968 1110.45 27.4968 1106.6 Q27.4968 1102.72 29.4702 1100.01 Q31.4436 1097.28 35.1993 1095.97 Z\" fill=\"#000000\" fill-rule=\"evenodd\" fill-opacity=\"1\" /><path clip-path=\"url(#clip940)\" d=\"M46.0847 1044.03 Q46.0847 1051.13 47.7079 1053.86 Q49.3312 1056.6 53.2461 1056.6 Q56.3653 1056.6 58.2114 1054.56 Q60.0256 1052.49 60.0256 1048.96 Q60.0256 1044.09 56.5881 1041.16 Q53.1188 1038.2 47.3897 1038.2 L46.0847 1038.2 L46.0847 1044.03 M43.6657 1032.35 L64.0042 1032.35 L64.0042 1038.2 L58.5933 1038.2 Q61.8398 1040.21 63.3994 1043.2 Q64.9272 1046.19 64.9272 1050.52 Q64.9272 1056 61.8716 1059.24 Q58.7843 1062.46 53.6281 1062.46 Q47.6125 1062.46 44.5569 1058.45 Q41.5014 1054.4 41.5014 1046.42 L41.5014 1038.2 L40.9285 1038.2 Q36.8862 1038.2 34.6901 1040.88 Q32.4621 1043.52 32.4621 1048.33 Q32.4621 1051.38 33.1941 1054.28 Q33.9262 1057.17 35.3903 1059.85 L29.9795 1059.85 Q28.7381 1056.63 28.1334 1053.61 Q27.4968 1050.58 27.4968 1047.72 Q27.4968 1039.99 31.5072 1036.17 Q35.5176 1032.35 43.6657 1032.35 Z\" fill=\"#000000\" fill-rule=\"evenodd\" fill-opacity=\"1\" /><path clip-path=\"url(#clip940)\" d=\"M14.479 1020.28 L14.479 1014.43 L64.0042 1014.43 L64.0042 1020.28 L14.479 1020.28 Z\" fill=\"#000000\" fill-rule=\"evenodd\" fill-opacity=\"1\" /><path clip-path=\"url(#clip940)\" d=\"M28.3562 1002.17 L28.3562 996.317 L64.0042 996.317 L64.0042 1002.17 L28.3562 1002.17 M14.479 1002.17 L14.479 996.317 L21.895 996.317 L21.895 1002.17 L14.479 1002.17 Z\" fill=\"#000000\" fill-rule=\"evenodd\" fill-opacity=\"1\" /><path clip-path=\"url(#clip940)\" d=\"M28.3562 986.61 L28.3562 958.791 L33.7034 958.791 L59.3254 980.817 L59.3254 958.791 L64.0042 958.791 L64.0042 987.405 L58.657 987.405 L33.035 965.38 L33.035 986.61 L28.3562 986.61 Z\" fill=\"#000000\" fill-rule=\"evenodd\" fill-opacity=\"1\" /><path clip-path=\"url(#clip940)\" d=\"M44.7161 919.356 L47.5806 919.356 L47.5806 946.283 Q53.6281 945.901 56.8109 942.654 Q59.9619 939.376 59.9619 933.551 Q59.9619 930.178 59.1344 927.027 Q58.3069 923.844 56.6518 920.725 L62.1899 920.725 Q63.5267 923.876 64.227 927.186 Q64.9272 930.496 64.9272 933.902 Q64.9272 942.432 59.9619 947.429 Q54.9967 952.394 46.5303 952.394 Q37.7774 952.394 32.6531 947.683 Q27.4968 942.941 27.4968 934.92 Q27.4968 927.727 32.1438 923.557 Q36.7589 919.356 44.7161 919.356 M42.9973 925.212 Q38.1912 925.276 35.3266 927.918 Q32.4621 930.528 32.4621 934.856 Q32.4621 939.758 35.2312 942.718 Q38.0002 945.646 43.0292 946.092 L42.9973 925.212 Z\" fill=\"#000000\" fill-rule=\"evenodd\" fill-opacity=\"1\" /><path clip-path=\"url(#clip940)\" d=\"M33.7671 886.286 L14.479 886.286 L14.479 880.43 L64.0042 880.43 L64.0042 886.286 L58.657 886.286 Q61.8398 888.132 63.3994 890.965 Q64.9272 893.766 64.9272 897.713 Q64.9272 904.174 59.771 908.248 Q54.6147 912.29 46.212 912.29 Q37.8093 912.29 32.6531 908.248 Q27.4968 904.174 27.4968 897.713 Q27.4968 893.766 29.0564 890.965 Q30.5842 888.132 33.7671 886.286 M46.212 906.243 Q52.6732 906.243 56.3653 903.601 Q60.0256 900.927 60.0256 896.28 Q60.0256 891.633 56.3653 888.96 Q52.6732 886.286 46.212 886.286 Q39.7508 886.286 36.0905 888.96 Q32.3984 891.633 32.3984 896.28 Q32.3984 900.927 36.0905 903.601 Q39.7508 906.243 46.212 906.243 Z\" fill=\"#000000\" fill-rule=\"evenodd\" fill-opacity=\"1\" /><path clip-path=\"url(#clip940)\" d=\"M35.1993 819.892 Q31.2526 817.696 29.3747 814.64 Q27.4968 811.585 27.4968 807.447 Q27.4968 801.877 31.4117 798.853 Q35.2948 795.829 42.4881 795.829 L64.0042 795.829 L64.0042 801.718 L42.679 801.718 Q37.5546 801.718 35.072 803.532 Q32.5894 805.346 32.5894 809.07 Q32.5894 813.622 35.6131 816.263 Q38.6368 818.905 43.8567 818.905 L64.0042 818.905 L64.0042 824.793 L42.679 824.793 Q37.5228 824.793 35.072 826.608 Q32.5894 828.422 32.5894 832.209 Q32.5894 836.697 35.6449 839.339 Q38.6686 841.981 43.8567 841.981 L64.0042 841.981 L64.0042 847.869 L28.3562 847.869 L28.3562 841.981 L33.8944 841.981 Q30.616 839.976 29.0564 837.175 Q27.4968 834.374 27.4968 830.523 Q27.4968 826.639 29.4702 823.934 Q31.4436 821.197 35.1993 819.892 Z\" fill=\"#000000\" fill-rule=\"evenodd\" fill-opacity=\"1\" /><path clip-path=\"url(#clip940)\" d=\"M49.9359 784.753 L28.3562 784.753 L28.3562 778.897 L49.7131 778.897 Q54.7739 778.897 57.3202 776.923 Q59.8346 774.95 59.8346 771.003 Q59.8346 766.261 56.8109 763.523 Q53.7872 760.754 48.5673 760.754 L28.3562 760.754 L28.3562 754.898 L64.0042 754.898 L64.0042 760.754 L58.5296 760.754 Q61.7762 762.887 63.3676 765.72 Q64.9272 768.521 64.9272 772.244 Q64.9272 778.387 61.1078 781.57 Q57.2883 784.753 49.9359 784.753 M27.4968 770.016 L27.4968 770.016 Z\" fill=\"#000000\" fill-rule=\"evenodd\" fill-opacity=\"1\" /><path clip-path=\"url(#clip940)\" d=\"M18.2347 737.042 L28.3562 737.042 L28.3562 724.979 L32.9077 724.979 L32.9077 737.042 L52.2594 737.042 Q56.6199 737.042 57.8613 735.864 Q59.1026 734.655 59.1026 730.995 L59.1026 724.979 L64.0042 724.979 L64.0042 730.995 Q64.0042 737.774 61.4897 740.352 Q58.9434 742.93 52.2594 742.93 L32.9077 742.93 L32.9077 747.227 L28.3562 747.227 L28.3562 742.93 L18.2347 742.93 L18.2347 737.042 Z\" fill=\"#000000\" fill-rule=\"evenodd\" fill-opacity=\"1\" /><path clip-path=\"url(#clip940)\" d=\"M49.9359 717.881 L28.3562 717.881 L28.3562 712.025 L49.7131 712.025 Q54.7739 712.025 57.3202 710.052 Q59.8346 708.078 59.8346 704.131 Q59.8346 699.389 56.8109 696.652 Q53.7872 693.883 48.5673 693.883 L28.3562 693.883 L28.3562 688.026 L64.0042 688.026 L64.0042 693.883 L58.5296 693.883 Q61.7762 696.015 63.3676 698.848 Q64.9272 701.649 64.9272 705.373 Q64.9272 711.516 61.1078 714.698 Q57.2883 717.881 49.9359 717.881 M27.4968 703.145 L27.4968 703.145 Z\" fill=\"#000000\" fill-rule=\"evenodd\" fill-opacity=\"1\" /><path clip-path=\"url(#clip940)\" d=\"M46.0847 659.762 Q46.0847 666.86 47.7079 669.597 Q49.3312 672.335 53.2461 672.335 Q56.3653 672.335 58.2114 670.298 Q60.0256 668.229 60.0256 664.696 Q60.0256 659.826 56.5881 656.898 Q53.1188 653.938 47.3897 653.938 L46.0847 653.938 L46.0847 659.762 M43.6657 648.081 L64.0042 648.081 L64.0042 653.938 L58.5933 653.938 Q61.8398 655.943 63.3994 658.935 Q64.9272 661.927 64.9272 666.255 Q64.9272 671.73 61.8716 674.976 Q58.7843 678.191 53.6281 678.191 Q47.6125 678.191 44.5569 674.181 Q41.5014 670.139 41.5014 662.15 L41.5014 653.938 L40.9285 653.938 Q36.8862 653.938 34.6901 656.611 Q32.4621 659.253 32.4621 664.059 Q32.4621 667.115 33.1941 670.011 Q33.9262 672.908 35.3903 675.581 L29.9795 675.581 Q28.7381 672.367 28.1334 669.343 Q27.4968 666.319 27.4968 663.455 Q27.4968 655.72 31.5072 651.901 Q35.5176 648.081 43.6657 648.081 Z\" fill=\"#000000\" fill-rule=\"evenodd\" fill-opacity=\"1\" /><path clip-path=\"url(#clip940)\" d=\"M14.479 636.018 L14.479 630.162 L64.0042 630.162 L64.0042 636.018 L14.479 636.018 Z\" fill=\"#000000\" fill-rule=\"evenodd\" fill-opacity=\"1\" /><path clip-path=\"url(#clip940)\" d=\"M28.3562 597.188 L28.3562 591.331 L64.0042 591.331 L64.0042 597.188 L28.3562 597.188 M14.479 597.188 L14.479 591.331 L21.895 591.331 L21.895 597.188 L14.479 597.188 Z\" fill=\"#000000\" fill-rule=\"evenodd\" fill-opacity=\"1\" /><path clip-path=\"url(#clip940)\" d=\"M42.4881 549.445 L64.0042 549.445 L64.0042 555.301 L42.679 555.301 Q37.6183 555.301 35.1038 557.275 Q32.5894 559.248 32.5894 563.195 Q32.5894 567.937 35.6131 570.674 Q38.6368 573.412 43.8567 573.412 L64.0042 573.412 L64.0042 579.3 L28.3562 579.3 L28.3562 573.412 L33.8944 573.412 Q30.6797 571.311 29.0883 568.478 Q27.4968 565.614 27.4968 561.89 Q27.4968 555.747 31.3163 552.596 Q35.1038 549.445 42.4881 549.445 Z\" fill=\"#000000\" fill-rule=\"evenodd\" fill-opacity=\"1\" /><path clip-path=\"url(#clip940)\" d=\"M14.479 519.717 L19.3487 519.717 L19.3487 525.319 Q19.3487 528.47 20.6219 529.711 Q21.895 530.921 25.2052 530.921 L28.3562 530.921 L28.3562 521.276 L32.9077 521.276 L32.9077 530.921 L64.0042 530.921 L64.0042 536.809 L32.9077 536.809 L32.9077 542.411 L28.3562 542.411 L28.3562 536.809 L25.8736 536.809 Q19.9216 536.809 17.2162 534.04 Q14.479 531.271 14.479 525.255 L14.479 519.717 Z\" fill=\"#000000\" fill-rule=\"evenodd\" fill-opacity=\"1\" /><path clip-path=\"url(#clip940)\" d=\"M32.4621 501.002 Q32.4621 505.712 36.1542 508.45 Q39.8145 511.187 46.212 511.187 Q52.6095 511.187 56.3017 508.481 Q59.9619 505.744 59.9619 501.002 Q59.9619 496.323 56.2698 493.586 Q52.5777 490.848 46.212 490.848 Q39.8781 490.848 36.186 493.586 Q32.4621 496.323 32.4621 501.002 M27.4968 501.002 Q27.4968 493.363 32.4621 489.002 Q37.4273 484.642 46.212 484.642 Q54.9649 484.642 59.9619 489.002 Q64.9272 493.363 64.9272 501.002 Q64.9272 508.672 59.9619 513.033 Q54.9649 517.362 46.212 517.362 Q37.4273 517.362 32.4621 513.033 Q27.4968 508.672 27.4968 501.002 Z\" fill=\"#000000\" fill-rule=\"evenodd\" fill-opacity=\"1\" /><path clip-path=\"url(#clip940)\" d=\"M33.8307 454.277 Q33.2578 455.264 33.0032 456.442 Q32.7167 457.588 32.7167 458.988 Q32.7167 463.953 35.9632 466.627 Q39.1779 469.269 45.2253 469.269 L64.0042 469.269 L64.0042 475.157 L28.3562 475.157 L28.3562 469.269 L33.8944 469.269 Q30.6479 467.423 29.0883 464.463 Q27.4968 461.502 27.4968 457.269 Q27.4968 456.665 27.5923 455.933 Q27.656 455.2 27.8151 454.309 L33.8307 454.277 Z\" fill=\"#000000\" fill-rule=\"evenodd\" fill-opacity=\"1\" /><path clip-path=\"url(#clip940)\" d=\"M35.1993 421.526 Q31.2526 419.33 29.3747 416.274 Q27.4968 413.219 27.4968 409.081 Q27.4968 403.511 31.4117 400.487 Q35.2948 397.463 42.4881 397.463 L64.0042 397.463 L64.0042 403.352 L42.679 403.352 Q37.5546 403.352 35.072 405.166 Q32.5894 406.98 32.5894 410.704 Q32.5894 415.256 35.6131 417.897 Q38.6368 420.539 43.8567 420.539 L64.0042 420.539 L64.0042 426.427 L42.679 426.427 Q37.5228 426.427 35.072 428.242 Q32.5894 430.056 32.5894 433.844 Q32.5894 438.331 35.6449 440.973 Q38.6686 443.615 43.8567 443.615 L64.0042 443.615 L64.0042 449.503 L28.3562 449.503 L28.3562 443.615 L33.8944 443.615 Q30.616 441.61 29.0564 438.809 Q27.4968 436.008 27.4968 432.157 Q27.4968 428.274 29.4702 425.568 Q31.4436 422.831 35.1993 421.526 Z\" fill=\"#000000\" fill-rule=\"evenodd\" fill-opacity=\"1\" /><path clip-path=\"url(#clip940)\" d=\"M46.0847 369.582 Q46.0847 376.679 47.7079 379.417 Q49.3312 382.154 53.2461 382.154 Q56.3653 382.154 58.2114 380.117 Q60.0256 378.048 60.0256 374.515 Q60.0256 369.645 56.5881 366.717 Q53.1188 363.757 47.3897 363.757 L46.0847 363.757 L46.0847 369.582 M43.6657 357.901 L64.0042 357.901 L64.0042 363.757 L58.5933 363.757 Q61.8398 365.762 63.3994 368.754 Q64.9272 371.746 64.9272 376.075 Q64.9272 381.549 61.8716 384.796 Q58.7843 388.01 53.6281 388.01 Q47.6125 388.01 44.5569 384 Q41.5014 379.958 41.5014 371.969 L41.5014 363.757 L40.9285 363.757 Q36.8862 363.757 34.6901 366.431 Q32.4621 369.072 32.4621 373.879 Q32.4621 376.934 33.1941 379.83 Q33.9262 382.727 35.3903 385.4 L29.9795 385.4 Q28.7381 382.186 28.1334 379.162 Q27.4968 376.138 27.4968 373.274 Q27.4968 365.539 31.5072 361.72 Q35.5176 357.901 43.6657 357.901 Z\" fill=\"#000000\" fill-rule=\"evenodd\" fill-opacity=\"1\" /><path clip-path=\"url(#clip940)\" d=\"M18.2347 340.045 L28.3562 340.045 L28.3562 327.982 L32.9077 327.982 L32.9077 340.045 L52.2594 340.045 Q56.6199 340.045 57.8613 338.867 Q59.1026 337.658 59.1026 333.997 L59.1026 327.982 L64.0042 327.982 L64.0042 333.997 Q64.0042 340.777 61.4897 343.355 Q58.9434 345.933 52.2594 345.933 L32.9077 345.933 L32.9077 350.23 L28.3562 350.23 L28.3562 345.933 L18.2347 345.933 L18.2347 340.045 Z\" fill=\"#000000\" fill-rule=\"evenodd\" fill-opacity=\"1\" /><path clip-path=\"url(#clip940)\" d=\"M28.3562 320.279 L28.3562 314.423 L64.0042 314.423 L64.0042 320.279 L28.3562 320.279 M14.479 320.279 L14.479 314.423 L21.895 314.423 L21.895 320.279 L14.479 320.279 Z\" fill=\"#000000\" fill-rule=\"evenodd\" fill-opacity=\"1\" /><path clip-path=\"url(#clip940)\" d=\"M32.4621 288.355 Q32.4621 293.066 36.1542 295.803 Q39.8145 298.54 46.212 298.54 Q52.6095 298.54 56.3017 295.835 Q59.9619 293.098 59.9619 288.355 Q59.9619 283.676 56.2698 280.939 Q52.5777 278.202 46.212 278.202 Q39.8781 278.202 36.186 280.939 Q32.4621 283.676 32.4621 288.355 M27.4968 288.355 Q27.4968 280.716 32.4621 276.356 Q37.4273 271.995 46.212 271.995 Q54.9649 271.995 59.9619 276.356 Q64.9272 280.716 64.9272 288.355 Q64.9272 296.026 59.9619 300.386 Q54.9649 304.715 46.212 304.715 Q37.4273 304.715 32.4621 300.386 Q27.4968 296.026 27.4968 288.355 Z\" fill=\"#000000\" fill-rule=\"evenodd\" fill-opacity=\"1\" /><path clip-path=\"url(#clip940)\" d=\"M42.4881 232.655 L64.0042 232.655 L64.0042 238.512 L42.679 238.512 Q37.6183 238.512 35.1038 240.485 Q32.5894 242.459 32.5894 246.405 Q32.5894 251.148 35.6131 253.885 Q38.6368 256.622 43.8567 256.622 L64.0042 256.622 L64.0042 262.511 L28.3562 262.511 L28.3562 256.622 L33.8944 256.622 Q30.6797 254.522 29.0883 251.689 Q27.4968 248.824 27.4968 245.1 Q27.4968 238.957 31.3163 235.806 Q35.1038 232.655 42.4881 232.655 Z\" fill=\"#000000\" fill-rule=\"evenodd\" fill-opacity=\"1\" /><polyline clip-path=\"url(#clip942)\" style=\"stroke:#009af9; stroke-linecap:butt; stroke-linejoin:round; stroke-width:4; stroke-opacity:1; fill:none\" points=\"\n",
       "  309.067,1283.38 529.53,792.644 749.992,531.739 970.455,444.378 1190.92,391.131 1411.38,208.81 1631.84,202.4 1852.31,122.822 2072.77,209.107 2293.23,167.143 \n",
       "  \n",
       "  \"/>\n",
       "<polyline clip-path=\"url(#clip942)\" style=\"stroke:#009af9; stroke-linecap:butt; stroke-linejoin:round; stroke-width:4; stroke-opacity:1; fill:none\" points=\"\n",
       "  309.067,1384.24 309.067,1182.51 \n",
       "  \"/>\n",
       "<polyline clip-path=\"url(#clip942)\" style=\"stroke:#009af9; stroke-linecap:butt; stroke-linejoin:round; stroke-width:4; stroke-opacity:1; fill:none\" points=\"\n",
       "  529.53,1107.98 529.53,477.305 \n",
       "  \"/>\n",
       "<polyline clip-path=\"url(#clip942)\" style=\"stroke:#009af9; stroke-linecap:butt; stroke-linejoin:round; stroke-width:4; stroke-opacity:1; fill:none\" points=\"\n",
       "  749.992,662.51 749.992,400.967 \n",
       "  \"/>\n",
       "<polyline clip-path=\"url(#clip942)\" style=\"stroke:#009af9; stroke-linecap:butt; stroke-linejoin:round; stroke-width:4; stroke-opacity:1; fill:none\" points=\"\n",
       "  970.455,524.996 970.455,363.759 \n",
       "  \"/>\n",
       "<polyline clip-path=\"url(#clip942)\" style=\"stroke:#009af9; stroke-linecap:butt; stroke-linejoin:round; stroke-width:4; stroke-opacity:1; fill:none\" points=\"\n",
       "  1190.92,528.033 1190.92,254.229 \n",
       "  \"/>\n",
       "<polyline clip-path=\"url(#clip942)\" style=\"stroke:#009af9; stroke-linecap:butt; stroke-linejoin:round; stroke-width:4; stroke-opacity:1; fill:none\" points=\"\n",
       "  1411.38,249.921 1411.38,167.699 \n",
       "  \"/>\n",
       "<polyline clip-path=\"url(#clip942)\" style=\"stroke:#009af9; stroke-linecap:butt; stroke-linejoin:round; stroke-width:4; stroke-opacity:1; fill:none\" points=\"\n",
       "  1631.84,223.904 1631.84,180.897 \n",
       "  \"/>\n",
       "<polyline clip-path=\"url(#clip942)\" style=\"stroke:#009af9; stroke-linecap:butt; stroke-linejoin:round; stroke-width:4; stroke-opacity:1; fill:none\" points=\"\n",
       "  1852.31,159.458 1852.31,86.1857 \n",
       "  \"/>\n",
       "<polyline clip-path=\"url(#clip942)\" style=\"stroke:#009af9; stroke-linecap:butt; stroke-linejoin:round; stroke-width:4; stroke-opacity:1; fill:none\" points=\"\n",
       "  2072.77,264.682 2072.77,153.533 \n",
       "  \"/>\n",
       "<polyline clip-path=\"url(#clip942)\" style=\"stroke:#009af9; stroke-linecap:butt; stroke-linejoin:round; stroke-width:4; stroke-opacity:1; fill:none\" points=\"\n",
       "  2293.23,230.987 2293.23,103.299 \n",
       "  \"/>\n",
       "<line clip-path=\"url(#clip942)\" x1=\"325.067\" y1=\"1384.24\" x2=\"293.067\" y2=\"1384.24\" style=\"stroke:#009af9; stroke-width:3.2; stroke-opacity:1\"/>\n",
       "<line clip-path=\"url(#clip942)\" x1=\"325.067\" y1=\"1182.51\" x2=\"293.067\" y2=\"1182.51\" style=\"stroke:#009af9; stroke-width:3.2; stroke-opacity:1\"/>\n",
       "<line clip-path=\"url(#clip942)\" x1=\"545.53\" y1=\"1107.98\" x2=\"513.53\" y2=\"1107.98\" style=\"stroke:#009af9; stroke-width:3.2; stroke-opacity:1\"/>\n",
       "<line clip-path=\"url(#clip942)\" x1=\"545.53\" y1=\"477.305\" x2=\"513.53\" y2=\"477.305\" style=\"stroke:#009af9; stroke-width:3.2; stroke-opacity:1\"/>\n",
       "<line clip-path=\"url(#clip942)\" x1=\"765.992\" y1=\"662.51\" x2=\"733.992\" y2=\"662.51\" style=\"stroke:#009af9; stroke-width:3.2; stroke-opacity:1\"/>\n",
       "<line clip-path=\"url(#clip942)\" x1=\"765.992\" y1=\"400.967\" x2=\"733.992\" y2=\"400.967\" style=\"stroke:#009af9; stroke-width:3.2; stroke-opacity:1\"/>\n",
       "<line clip-path=\"url(#clip942)\" x1=\"986.455\" y1=\"524.996\" x2=\"954.455\" y2=\"524.996\" style=\"stroke:#009af9; stroke-width:3.2; stroke-opacity:1\"/>\n",
       "<line clip-path=\"url(#clip942)\" x1=\"986.455\" y1=\"363.759\" x2=\"954.455\" y2=\"363.759\" style=\"stroke:#009af9; stroke-width:3.2; stroke-opacity:1\"/>\n",
       "<line clip-path=\"url(#clip942)\" x1=\"1206.92\" y1=\"528.033\" x2=\"1174.92\" y2=\"528.033\" style=\"stroke:#009af9; stroke-width:3.2; stroke-opacity:1\"/>\n",
       "<line clip-path=\"url(#clip942)\" x1=\"1206.92\" y1=\"254.229\" x2=\"1174.92\" y2=\"254.229\" style=\"stroke:#009af9; stroke-width:3.2; stroke-opacity:1\"/>\n",
       "<line clip-path=\"url(#clip942)\" x1=\"1427.38\" y1=\"249.921\" x2=\"1395.38\" y2=\"249.921\" style=\"stroke:#009af9; stroke-width:3.2; stroke-opacity:1\"/>\n",
       "<line clip-path=\"url(#clip942)\" x1=\"1427.38\" y1=\"167.699\" x2=\"1395.38\" y2=\"167.699\" style=\"stroke:#009af9; stroke-width:3.2; stroke-opacity:1\"/>\n",
       "<line clip-path=\"url(#clip942)\" x1=\"1647.84\" y1=\"223.904\" x2=\"1615.84\" y2=\"223.904\" style=\"stroke:#009af9; stroke-width:3.2; stroke-opacity:1\"/>\n",
       "<line clip-path=\"url(#clip942)\" x1=\"1647.84\" y1=\"180.897\" x2=\"1615.84\" y2=\"180.897\" style=\"stroke:#009af9; stroke-width:3.2; stroke-opacity:1\"/>\n",
       "<line clip-path=\"url(#clip942)\" x1=\"1868.31\" y1=\"159.458\" x2=\"1836.31\" y2=\"159.458\" style=\"stroke:#009af9; stroke-width:3.2; stroke-opacity:1\"/>\n",
       "<line clip-path=\"url(#clip942)\" x1=\"1868.31\" y1=\"86.1857\" x2=\"1836.31\" y2=\"86.1857\" style=\"stroke:#009af9; stroke-width:3.2; stroke-opacity:1\"/>\n",
       "<line clip-path=\"url(#clip942)\" x1=\"2088.77\" y1=\"264.682\" x2=\"2056.77\" y2=\"264.682\" style=\"stroke:#009af9; stroke-width:3.2; stroke-opacity:1\"/>\n",
       "<line clip-path=\"url(#clip942)\" x1=\"2088.77\" y1=\"153.533\" x2=\"2056.77\" y2=\"153.533\" style=\"stroke:#009af9; stroke-width:3.2; stroke-opacity:1\"/>\n",
       "<line clip-path=\"url(#clip942)\" x1=\"2309.23\" y1=\"230.987\" x2=\"2277.23\" y2=\"230.987\" style=\"stroke:#009af9; stroke-width:3.2; stroke-opacity:1\"/>\n",
       "<line clip-path=\"url(#clip942)\" x1=\"2309.23\" y1=\"103.299\" x2=\"2277.23\" y2=\"103.299\" style=\"stroke:#009af9; stroke-width:3.2; stroke-opacity:1\"/>\n",
       "</svg>\n"
      ]
     },
     "metadata": {},
     "output_type": "display_data"
    }
   ],
   "source": [
    "# Plot Normalized mutual information vs d0\n",
    "m = mean(NMIs,dims=2);\n",
    "s = std(NMIs,dims=2);\n",
    "\n",
    "pgfplotsx()\n",
    "plot(n_clusters_list, m, yerror = s,\n",
    "markerstrokecolor=:auto,\n",
    "xlabel = L\"$k$\",\n",
    "ylabel = \"Normalized mutual information\",\n",
    "legend = false)\n",
    "savefig(\"figures/nmi_vs_nclusters__mu\"*string(mu)*\".pdf\")\n",
    "\n",
    "\n",
    "gr()\n",
    "plot(n_clusters_list, m, yerror = s,\n",
    "markerstrokecolor=:auto,\n",
    "xlabel = L\"k\",\n",
    "ylabel = \"Normalized mutual information\",\n",
    "legend = false)\n",
    "plot!()"
   ]
  }
 ],
 "metadata": {
  "kernelspec": {
   "display_name": "Julia 1.6.7",
   "language": "julia",
   "name": "julia-1.6"
  },
  "language_info": {
   "file_extension": ".jl",
   "mimetype": "application/julia",
   "name": "julia",
   "version": "1.6.7"
  }
 },
 "nbformat": 4,
 "nbformat_minor": 2
}
