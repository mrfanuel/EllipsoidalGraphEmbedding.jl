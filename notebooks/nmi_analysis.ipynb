{
 "cells": [
  {
   "cell_type": "code",
   "execution_count": 1,
   "metadata": {},
   "outputs": [],
   "source": [
    "using MatrixNetworks\n",
    "using Distributions\n",
    "using Clustering\n",
    "using NPZ\n",
    "using BenchmarkTools, Compat\n",
    "using DelimitedFiles\n",
    "using SparseArrays\n",
    "using Printf\n",
    "using LinearAlgebra\n",
    "using Plots\n",
    "using EllipsoidalGraphEmbedding\n",
    "using LaTeXStrings"
   ]
  },
  {
   "cell_type": "markdown",
   "metadata": {},
   "source": [
    "### Compute NMI between the retrieved and the true community"
   ]
  },
  {
   "cell_type": "code",
   "execution_count": 2,
   "metadata": {
    "scrolled": true
   },
   "outputs": [
    {
     "name": "stdout",
     "output_type": "stream",
     "text": [
      "\n",
      "========== Graph 1/10 ==========\n"
     ]
    },
    {
     "name": "stdout",
     "output_type": "stream",
     "text": [
      "\n",
      "  ~~~~~ number_rep = 1/3 ~~~~~\n"
     ]
    },
    {
     "name": "stdout",
     "output_type": "stream",
     "text": [
      " ------- Acc Projected Power Iteration -------\n"
     ]
    },
    {
     "name": "stdout",
     "output_type": "stream",
     "text": [
      "The iteration has become stationary after 199 iterations\n",
      "  0.466880 seconds (27.77 k allocations: 277.447 MiB, 12.94% gc time, 9.25% compilation time)\n",
      " -------------- Clustering ------- \n",
      "dimension of embedding used for clustering: 20\n",
      "Number of updates: "
     ]
    },
    {
     "name": "stdout",
     "output_type": "stream",
     "text": [
      "2\n",
      "Modularity: 0.80316335243406\n",
      "Number of communities: 20\n",
      " -------------------------------------------- \n",
      "The first 5 squared singular values divided by N : \n"
     ]
    },
    {
     "name": "stdout",
     "output_type": "stream",
     "text": [
      "[0.39966622002572627, 0.26583082717854567, 0.17765765984528442, 0.09839465983664755, 0.05673656133432151]\n",
      " -------------------------------------------- \n",
      "  1.740674 seconds (1.14 M allocations: 773.159 MiB, 5.53% gc time, 2.48% compilation time)\n",
      "\n",
      "  ~~~~~ number_rep = 2/3 ~~~~~\n",
      " ------- Acc Projected Power Iteration -------\n"
     ]
    },
    {
     "name": "stdout",
     "output_type": "stream",
     "text": [
      "The iteration has become stationary after 95 iterations\n",
      "  0.234971 seconds (2.58 k allocations: 131.313 MiB, 9.90% gc time)\n",
      " -------------- Clustering ------- \n",
      "dimension of embedding used for clustering: 20\n",
      "Number of updates: "
     ]
    },
    {
     "name": "stdout",
     "output_type": "stream",
     "text": [
      "2\n",
      "Modularity: 0.80316335243406\n",
      "Number of communities: 20\n",
      " -------------------------------------------- \n",
      "The first 5 squared singular values divided by N : \n",
      "[0.39863812249686414, 0.276407302947441, 0.18160032497964226, 0.07798288985168557, 0.0528678630555564]\n",
      " -------------------------------------------- \n",
      "  1.009407 seconds (655.46 k allocations: 572.171 MiB, 6.13% gc time)\n",
      "\n",
      "  ~~~~~ number_rep = 3/3 ~~~~~\n",
      " ------- Acc Projected Power Iteration -------\n"
     ]
    },
    {
     "name": "stdout",
     "output_type": "stream",
     "text": [
      "The iteration has become stationary after 204 iterations\n",
      "  0.418743 seconds (5.42 k allocations: 283.147 MiB, 8.58% gc time)\n",
      " -------------- Clustering ------- \n",
      "dimension of embedding used for clustering: 20\n",
      "Number of updates: "
     ]
    },
    {
     "name": "stdout",
     "output_type": "stream",
     "text": [
      "1\n",
      "Modularity: 0.80316335243406\n",
      "Number of communities: 20\n",
      " -------------------------------------------- \n",
      "The first 5 squared singular values divided by N : \n",
      "[0.3986095113528256, 0.26654383039170204, 0.17724032503904666, 0.10069726488069572, 0.055874794902144295]\n",
      " -------------------------------------------- \n",
      "  1.298334 seconds (631.49 k allocations: 712.093 MiB, 7.25% gc time)\n",
      "\n",
      "========== Graph 2/10 ==========\n",
      "\n",
      "  ~~~~~ number_rep = 1/3 ~~~~~\n",
      " ------- Acc Projected Power Iteration -------\n"
     ]
    },
    {
     "name": "stdout",
     "output_type": "stream",
     "text": [
      "The iteration has become stationary after 126 iterations\n",
      "  0.386226 seconds (3.38 k allocations: 174.496 MiB, 8.88% gc time)\n",
      " -------------- Clustering ------- \n",
      "dimension of embedding used for clustering: 20\n",
      "Number of updates: "
     ]
    },
    {
     "name": "stdout",
     "output_type": "stream",
     "text": [
      "2\n",
      "Modularity: 0.65603877868852\n",
      "Number of communities: 20\n",
      " -------------------------------------------- \n",
      "The first 5 squared singular values divided by N : \n",
      "[0.31820045555547705, 0.2332732604450282, 0.16304529875332235, 0.13470088302101293, 0.10907199070829475]\n",
      " -------------------------------------------- \n",
      "  1.543999 seconds (656.28 k allocations: 616.643 MiB, 4.29% gc time)\n",
      "\n",
      "  ~~~~~ number_rep = 2/3 ~~~~~\n",
      " ------- Acc Projected Power Iteration -------\n"
     ]
    },
    {
     "name": "stdout",
     "output_type": "stream",
     "text": [
      "The iteration has become stationary after 194 iterations\n",
      "  0.597701 seconds (5.15 k allocations: 269.217 MiB, 9.46% gc time)\n",
      " -------------- Clustering ------- \n",
      "dimension of embedding used for clustering: 20\n",
      "Number of updates: "
     ]
    },
    {
     "name": "stdout",
     "output_type": "stream",
     "text": [
      "1\n",
      "Modularity: 0.65603877868852\n",
      "Number of communities: 20\n",
      " -------------------------------------------- \n",
      "The first 5 squared singular values divided by N : \n",
      "[0.31974524474290683, 0.23494690533654244, 0.163444876975038, 0.13306310352709624, 0.10190265523112942]\n",
      " -------------------------------------------- \n",
      "  1.405609 seconds (631.28 k allocations: 699.005 MiB, 6.09% gc time)\n",
      "\n",
      "  ~~~~~ number_rep = 3/3 ~~~~~\n",
      " ------- Acc Projected Power Iteration -------\n"
     ]
    },
    {
     "name": "stdout",
     "output_type": "stream",
     "text": [
      "The iteration has become stationary after 154 iterations\n",
      "  0.380216 seconds (4.11 k allocations: 213.498 MiB, 8.09% gc time)\n",
      " -------------- Clustering ------- \n",
      "dimension of embedding used for clustering: 20\n",
      "Number of updates: "
     ]
    },
    {
     "name": "stdout",
     "output_type": "stream",
     "text": [
      "2\n",
      "Modularity: 0.65603877868852\n",
      "Number of communities: 20\n",
      " -------------------------------------------- \n",
      "The first 5 squared singular values divided by N : \n",
      "[0.32141120944558327, 0.23688297414360004, 0.16114192915513612, 0.13244847268826523, 0.10628602402126412]\n",
      " -------------------------------------------- \n",
      "  1.432369 seconds (743.77 k allocations: 713.838 MiB, 5.09% gc time)\n",
      "\n",
      "========== Graph 3/10 ==========\n",
      "\n",
      "  ~~~~~ number_rep = 1/3 ~~~~~\n",
      " ------- Acc Projected Power Iteration -------\n"
     ]
    },
    {
     "name": "stdout",
     "output_type": "stream",
     "text": [
      "The iteration has become stationary after 127 iterations\n",
      "  0.301802 seconds (3.41 k allocations: 175.889 MiB, 8.61% gc time)\n",
      " -------------- Clustering ------- \n",
      "dimension of embedding used for clustering: 20\n",
      "Number of updates: "
     ]
    },
    {
     "name": "stdout",
     "output_type": "stream",
     "text": [
      "2\n",
      "Modularity: 0.5194079569947484\n",
      "Number of communities: 20\n",
      " -------------------------------------------- \n",
      "The first 5 squared singular values divided by N : \n",
      "[0.2367883624220939, 0.21910053488417422, 0.1599600258724778, 0.13530096255251817, 0.11544791925216596]\n",
      " -------------------------------------------- \n",
      "  1.363911 seconds (794.93 k allocations: 720.937 MiB, 5.14% gc time)\n",
      "\n",
      "  ~~~~~ number_rep = 2/3 ~~~~~\n",
      " ------- Acc Projected Power Iteration -------\n"
     ]
    },
    {
     "name": "stdout",
     "output_type": "stream",
     "text": [
      "The iteration has become stationary after 131 iterations\n",
      "  0.294664 seconds (3.52 k allocations: 181.460 MiB, 8.22% gc time)\n",
      " -------------- Clustering ------- \n",
      "dimension of embedding used for clustering: 20\n",
      "Number of updates: "
     ]
    },
    {
     "name": "stdout",
     "output_type": "stream",
     "text": [
      "2\n",
      "Modularity: 0.5194079569947484\n",
      "Number of communities: 20\n",
      " -------------------------------------------- \n",
      "The first 5 squared singular values divided by N : \n",
      "[0.23804054983502357, 0.21872947383598496, 0.15848608918250687, 0.13429699061268602, 0.12129341162703756]\n",
      " -------------------------------------------- \n",
      "  2.328563 seconds (842.52 k allocations: 757.224 MiB, 3.74% gc time)\n",
      "\n",
      "  ~~~~~ number_rep = 3/3 ~~~~~\n",
      " ------- Acc Projected Power Iteration -------\n"
     ]
    },
    {
     "name": "stdout",
     "output_type": "stream",
     "text": [
      "The iteration has become stationary after 128 iterations\n",
      "  0.373964 seconds (3.44 k allocations: 177.281 MiB, 8.29% gc time)\n",
      " -------------- Clustering ------- \n",
      "dimension of embedding used for clustering: 20\n",
      "Number of updates: "
     ]
    },
    {
     "name": "stdout",
     "output_type": "stream",
     "text": [
      "2\n",
      "Modularity: 0.5193940530274014\n",
      "Number of communities: 20\n",
      " -------------------------------------------- \n",
      "The first 5 squared singular values divided by N : \n",
      "[0.23575382739376227, 0.218228177475751, 0.1587882365202244, 0.13490011691888906, 0.11997698211671334]\n",
      " -------------------------------------------- \n",
      "  1.672204 seconds (838.30 k allocations: 748.152 MiB, 4.45% gc time)\n",
      "\n",
      "========== Graph 4/10 ==========\n",
      "\n",
      "  ~~~~~ number_rep = 1/3 ~~~~~\n",
      " ------- Acc Projected Power Iteration -------\n"
     ]
    },
    {
     "name": "stdout",
     "output_type": "stream",
     "text": [
      "The iteration has become stationary after 153 iterations\n",
      "  0.364798 seconds (4.09 k allocations: 212.106 MiB, 7.59% gc time)\n",
      " -------------- Clustering ------- \n",
      "dimension of embedding used for clustering: 20\n",
      "Number of updates: "
     ]
    },
    {
     "name": "stdout",
     "output_type": "stream",
     "text": [
      "3\n",
      "Modularity: 0.3806145630177018\n",
      "Number of communities: 18\n",
      " -------------------------------------------- \n",
      "The first 5 squared singular values divided by N : \n",
      "[0.22037031110072056, 0.2127087883903357, 0.1809573590894165, 0.1276747649243982, 0.09880898715449422]\n",
      " -------------------------------------------- \n",
      "  1.888102 seconds (1.07 M allocations: 951.344 MiB, 5.76% gc time)\n",
      "\n",
      "  ~~~~~ number_rep = 2/3 ~~~~~\n",
      " ------- Acc Projected Power Iteration -------\n"
     ]
    },
    {
     "name": "stdout",
     "output_type": "stream",
     "text": [
      "The iteration has become stationary after 117 iterations\n",
      "  0.336672 seconds (3.15 k allocations: 161.960 MiB, 8.83% gc time)\n",
      " -------------- Clustering ------- \n",
      "dimension of embedding used for clustering: 20\n",
      "Number of updates: "
     ]
    },
    {
     "name": "stdout",
     "output_type": "stream",
     "text": [
      "3\n",
      "Modularity: 0.38754911479896464\n",
      "Number of communities: 19\n",
      " -------------------------------------------- \n",
      "The first 5 squared singular values divided by N : \n",
      "[0.21928179444460863, 0.21305185800843315, 0.18144672564431413, 0.12902588419517363, 0.09851717371309043]\n",
      " -------------------------------------------- \n",
      "  2.051787 seconds (1.11 M allocations: 924.125 MiB, 4.37% gc time)\n",
      "\n",
      "  ~~~~~ number_rep = 3/3 ~~~~~\n",
      " ------- Acc Projected Power Iteration -------\n"
     ]
    },
    {
     "name": "stdout",
     "output_type": "stream",
     "text": [
      "The iteration has become stationary after 190 iterations\n",
      "  0.486671 seconds (5.05 k allocations: 263.645 MiB, 7.73% gc time)\n",
      " -------------- Clustering ------- \n",
      "dimension of embedding used for clustering: 20\n",
      "Number of updates: "
     ]
    },
    {
     "name": "stdout",
     "output_type": "stream",
     "text": [
      "3\n",
      "Modularity: 0.3880315632177303\n",
      "Number of communities: 19\n",
      " -------------------------------------------- \n",
      "The first 5 squared singular values divided by N : \n",
      "[0.21969490916912532, 0.21291714877835277, 0.18123289503376605, 0.12782955686476252, 0.0995911729891726]\n",
      " -------------------------------------------- \n",
      "  2.234506 seconds (1.14 M allocations: 1.019 GiB, 5.22% gc time)\n",
      "\n",
      "========== Graph 5/10 ==========\n",
      "\n",
      "  ~~~~~ number_rep = 1/3 ~~~~~\n",
      " ------- Acc Projected Power Iteration -------\n"
     ]
    },
    {
     "name": "stdout",
     "output_type": "stream",
     "text": [
      "The iteration has become stationary after 202 iterations\n",
      "  0.691234 seconds (5.36 k allocations: 280.361 MiB, 7.84% gc time)\n",
      " -------------- Clustering ------- \n",
      "dimension of embedding used for clustering: 20\n",
      "Number of updates: "
     ]
    },
    {
     "name": "stdout",
     "output_type": "stream",
     "text": [
      "9\n",
      "Modularity: 0.2564292415230424\n",
      "Number of communities: 11\n",
      " -------------------------------------------- \n",
      "The first 5 squared singular values divided by N : \n",
      "[0.20855611619697847, 0.19103546671262697, 0.13962579604923178, 0.10830357752656675, 0.09705027758898133]\n",
      " -------------------------------------------- \n",
      "  3.902048 seconds (2.30 M allocations: 1.768 GiB, 4.55% gc time)\n",
      "\n",
      "  ~~~~~ number_rep = 2/3 ~~~~~\n",
      " ------- Acc Projected Power Iteration -------\n"
     ]
    },
    {
     "name": "stdout",
     "output_type": "stream",
     "text": [
      "The iteration has become stationary after 194 iterations\n",
      "  0.860653 seconds (5.15 k allocations: 269.217 MiB, 10.02% gc time)\n",
      " -------------- Clustering ------- \n",
      "dimension of embedding used for clustering: 20\n",
      "Number of updates: "
     ]
    },
    {
     "name": "stdout",
     "output_type": "stream",
     "text": [
      "12\n",
      "Modularity: 0.2538015486694406\n",
      "Number of communities: 10\n",
      " -------------------------------------------- \n",
      "The first 5 squared singular values divided by N : \n",
      "[0.2088452822616363, 0.1909236425117141, 0.13950882654381572, 0.10806814895769083, 0.0969233585268807]\n",
      " -------------------------------------------- \n",
      "  4.743060 seconds (2.29 M allocations: 1.750 GiB, 4.80% gc time)\n",
      "\n",
      "  ~~~~~ number_rep = 3/3 ~~~~~\n",
      " ------- Acc Projected Power Iteration -------\n"
     ]
    },
    {
     "name": "stdout",
     "output_type": "stream",
     "text": [
      "The iteration has become stationary after 167 iterations\n",
      "  0.482971 seconds (4.45 k allocations: 231.608 MiB, 7.82% gc time)\n",
      " -------------- Clustering ------- \n",
      "dimension of embedding used for clustering: 20\n",
      "Number of updates: "
     ]
    },
    {
     "name": "stdout",
     "output_type": "stream",
     "text": [
      "8\n",
      "Modularity: 0.25127474064477073\n",
      "Number of communities: 11\n",
      " -------------------------------------------- \n",
      "The first 5 squared singular values divided by N : \n",
      "[0.20848946398842422, 0.1908785469720855, 0.13996105668504283, 0.10761940522543365, 0.09675528272013881]\n",
      " -------------------------------------------- \n",
      "  4.519688 seconds (2.39 M allocations: 1.778 GiB, 4.64% gc time)\n",
      "\n",
      "========== Graph 6/10 ==========\n",
      "\n",
      "  ~~~~~ number_rep = 1/3 ~~~~~\n",
      " ------- Acc Projected Power Iteration -------\n"
     ]
    },
    {
     "name": "stdout",
     "output_type": "stream",
     "text": [
      "The iteration has become stationary after 174 iterations\n",
      "  0.405962 seconds (4.63 k allocations: 241.358 MiB, 9.58% gc time)\n",
      " -------------- Clustering ------- \n",
      "dimension of embedding used for clustering: 20\n",
      "Number of updates: "
     ]
    },
    {
     "name": "stdout",
     "output_type": "stream",
     "text": [
      "14\n",
      "Modularity: 0.20091404056180426\n",
      "Number of communities: 6\n",
      " -------------------------------------------- \n",
      "The first 5 squared singular values divided by N : \n",
      "[0.1760208619809296, 0.15742159781447104, 0.1365480796377893, 0.12693559581602748, 0.1000058667548018]\n",
      " -------------------------------------------- \n",
      "  6.906497 seconds (3.47 M allocations: 2.404 GiB, 4.16% gc time)\n",
      "\n",
      "  ~~~~~ number_rep = 2/3 ~~~~~\n",
      " ------- Acc Projected Power Iteration -------\n"
     ]
    },
    {
     "name": "stdout",
     "output_type": "stream",
     "text": [
      "The iteration has become stationary after 209 iterations\n",
      "  0.583352 seconds (5.54 k allocations: 290.111 MiB, 6.87% gc time)\n",
      " -------------- Clustering ------- \n",
      "dimension of embedding used for clustering: 20\n",
      "Number of updates: "
     ]
    },
    {
     "name": "stdout",
     "output_type": "stream",
     "text": [
      "26\n",
      "Modularity: 0.19512880279779132\n",
      "Number of communities: 6\n",
      " -------------------------------------------- \n",
      "The first 5 squared singular values divided by N : \n",
      "[0.17577925189866897, 0.15709587539671022, 0.13630452722623393, 0.12653629305705058, 0.09946852623340639]\n",
      " -------------------------------------------- \n",
      "  6.553142 seconds (3.14 M allocations: 2.260 GiB, 4.28% gc time)\n",
      "\n",
      "  ~~~~~ number_rep = 3/3 ~~~~~\n",
      " ------- Acc Projected Power Iteration -------\n"
     ]
    },
    {
     "name": "stdout",
     "output_type": "stream",
     "text": [
      "The iteration has become stationary after 205 iterations\n",
      "  0.530697 seconds (5.44 k allocations: 284.539 MiB, 7.70% gc time)\n",
      " -------------- Clustering ------- \n",
      "dimension of embedding used for clustering: 20\n",
      "Number of updates: "
     ]
    },
    {
     "name": "stdout",
     "output_type": "stream",
     "text": [
      "17\n",
      "Modularity: 0.19751023163293957\n",
      "Number of communities: 6\n",
      " -------------------------------------------- \n",
      "The first 5 squared singular values divided by N : \n",
      "[0.17611664975292768, 0.15708554791232818, 0.136403043645217, 0.12669990447897733, 0.09948620362631386]\n",
      " -------------------------------------------- \n",
      "  6.236805 seconds (3.52 M allocations: 2.476 GiB, 4.30% gc time)\n",
      "\n",
      "========== Graph 7/10 ==========\n",
      "\n",
      "  ~~~~~ number_rep = 1/3 ~~~~~\n",
      " ------- Acc Projected Power Iteration -------\n"
     ]
    },
    {
     "name": "stdout",
     "output_type": "stream",
     "text": [
      "The iteration has become stationary after 224 iterations\n",
      "  0.522877 seconds (5.93 k allocations: 311.007 MiB, 8.73% gc time)\n",
      " -------------- Clustering ------- \n",
      "dimension of embedding used for clustering: 20\n",
      "Number of updates: "
     ]
    },
    {
     "name": "stdout",
     "output_type": "stream",
     "text": [
      "17\n",
      "Modularity: 0.17441081800276328\n",
      "Number of communities: 4\n",
      " -------------------------------------------- \n",
      "The first 5 squared singular values divided by N : \n",
      "[0.14843828927380404, 0.13814584700495408, 0.12434325457556855, 0.10544193222950579, 0.09663144412007979]\n",
      " -------------------------------------------- \n",
      "  6.206249 seconds (3.58 M allocations: 2.533 GiB, 4.55% gc time)\n",
      "\n",
      "  ~~~~~ number_rep = 2/3 ~~~~~\n",
      " ------- Acc Projected Power Iteration -------\n"
     ]
    },
    {
     "name": "stdout",
     "output_type": "stream",
     "text": [
      "The iteration has become stationary after 218 iterations\n",
      "  0.518198 seconds (5.78 k allocations: 302.648 MiB, 9.10% gc time)\n",
      " -------------- Clustering ------- \n",
      "dimension of embedding used for clustering: 20\n",
      "Number of updates: "
     ]
    },
    {
     "name": "stdout",
     "output_type": "stream",
     "text": [
      "24\n",
      "Modularity: 0.17616162455620518\n",
      "Number of communities: 5\n",
      " -------------------------------------------- \n",
      "The first 5 squared singular values divided by N : \n",
      "[0.14814762552171523, 0.13762937390989807, 0.12402846583846211, 0.10566639221965649, 0.0966718573776338]\n",
      " -------------------------------------------- \n",
      "  5.566312 seconds (3.41 M allocations: 2.425 GiB, 4.84% gc time)\n",
      "\n",
      "  ~~~~~ number_rep = 3/3 ~~~~~\n",
      " ------- Acc Projected Power Iteration -------\n"
     ]
    },
    {
     "name": "stdout",
     "output_type": "stream",
     "text": [
      "The iteration has become stationary after 207 iterations\n",
      "  0.467397 seconds (5.49 k allocations: 287.325 MiB, 9.86% gc time)\n",
      " -------------- Clustering ------- \n",
      "dimension of embedding used for clustering: 20\n",
      "Number of updates: "
     ]
    },
    {
     "name": "stdout",
     "output_type": "stream",
     "text": [
      "16\n",
      "Modularity: 0.17640193707927623\n",
      "Number of communities: 6\n",
      " -------------------------------------------- \n",
      "The first 5 squared singular values divided by N : \n",
      "[0.14802751642135648, 0.13793426090206476, 0.12399600462776957, 0.10526610832580324, 0.09685025018441361]\n",
      " -------------------------------------------- \n",
      "  7.601800 seconds (3.82 M allocations: 2.649 GiB, 4.23% gc time)\n",
      "\n",
      "========== Graph 8/10 ==========\n",
      "\n",
      "  ~~~~~ number_rep = 1/3 ~~~~~\n",
      " ------- Acc Projected Power Iteration -------\n"
     ]
    },
    {
     "name": "stdout",
     "output_type": "stream",
     "text": [
      "The iteration has become stationary after 214 iterations\n",
      "  0.912299 seconds (5.67 k allocations: 297.076 MiB, 9.49% gc time)\n",
      " -------------- Clustering ------- \n",
      "dimension of embedding used for clustering: 20\n",
      "Number of updates: "
     ]
    },
    {
     "name": "stdout",
     "output_type": "stream",
     "text": [
      "14\n",
      "Modularity: 0.17342232619398357\n",
      "Number of communities: 6\n",
      " -------------------------------------------- \n",
      "The first 5 squared singular values divided by N : \n",
      "[0.16715191376963826, 0.13343133626063464, 0.1205891157283562, 0.11526640995212362, 0.10900631627266381]\n",
      " -------------------------------------------- \n",
      "  7.939545 seconds (3.40 M allocations: 2.412 GiB, 4.35% gc time)\n",
      "\n",
      "  ~~~~~ number_rep = 2/3 ~~~~~\n",
      " ------- Acc Projected Power Iteration -------\n"
     ]
    },
    {
     "name": "stdout",
     "output_type": "stream",
     "text": [
      "The iteration has become stationary after 208 iterations\n",
      "  0.739249 seconds (5.52 k allocations: 288.719 MiB, 7.78% gc time)\n",
      " -------------- Clustering ------- \n",
      "dimension of embedding used for clustering: 20\n",
      "Number of updates: "
     ]
    },
    {
     "name": "stdout",
     "output_type": "stream",
     "text": [
      "18\n",
      "Modularity: 0.1708908384682049\n",
      "Number of communities: 5\n",
      " -------------------------------------------- \n",
      "The first 5 squared singular values divided by N : \n",
      "[0.1668923844274462, 0.13339268945852784, 0.12030112982281808, 0.11545022688367726, 0.10916342968440039]\n",
      " -------------------------------------------- \n",
      "  6.266992 seconds (3.19 M allocations: 2.283 GiB, 4.43% gc time)\n",
      "\n",
      "  ~~~~~ number_rep = 3/3 ~~~~~\n",
      " ------- Acc Projected Power Iteration -------\n"
     ]
    },
    {
     "name": "stdout",
     "output_type": "stream",
     "text": [
      "The iteration has become stationary after 259 iterations\n",
      "  0.664252 seconds (6.84 k allocations: 359.759 MiB, 8.42% gc time)\n",
      " -------------- Clustering ------- \n",
      "dimension of embedding used for clustering: 20\n",
      "Number of updates: "
     ]
    },
    {
     "name": "stdout",
     "output_type": "stream",
     "text": [
      "14\n",
      "Modularity: 0.17631186867350032\n",
      "Number of communities: 5\n",
      " -------------------------------------------- \n",
      "The first 5 squared singular values divided by N : \n",
      "[0.16697339999618166, 0.13362092866382552, 0.12065738727406793, 0.11494933301211617, 0.10915578758947275]\n",
      " -------------------------------------------- \n",
      "  7.237183 seconds (3.55 M allocations: 2.559 GiB, 4.20% gc time)\n",
      "\n",
      "========== Graph 9/10 ==========\n",
      "\n",
      "  ~~~~~ number_rep = 1/3 ~~~~~\n",
      " ------- Acc Projected Power Iteration -------\n"
     ]
    },
    {
     "name": "stdout",
     "output_type": "stream",
     "text": [
      "The iteration has become stationary after 233 iterations\n",
      "  0.598633 seconds (6.17 k allocations: 323.542 MiB, 8.37% gc time)\n",
      " -------------- Clustering ------- \n",
      "dimension of embedding used for clustering: 20\n",
      "Number of updates: "
     ]
    },
    {
     "name": "stdout",
     "output_type": "stream",
     "text": [
      "13\n",
      "Modularity: 0.1725833711049928\n",
      "Number of communities: 5\n",
      " -------------------------------------------- \n",
      "The first 5 squared singular values divided by N : \n",
      "[0.1674086277166853, 0.15641995704475437, 0.1308792300390927, 0.11069550093214041, 0.10425219493887744]\n",
      " -------------------------------------------- \n",
      "  5.416252 seconds (3.10 M allocations: 2.261 GiB, 6.24% gc time)\n",
      "\n",
      "  ~~~~~ number_rep = 2/3 ~~~~~\n",
      " ------- Acc Projected Power Iteration -------\n"
     ]
    },
    {
     "name": "stdout",
     "output_type": "stream",
     "text": [
      "The iteration has become stationary after 236 iterations\n",
      "  0.612917 seconds (6.25 k allocations: 327.721 MiB, 8.78% gc time)\n",
      " -------------- Clustering ------- \n",
      "dimension of embedding used for clustering: 20\n",
      "Number of updates: "
     ]
    },
    {
     "name": "stdout",
     "output_type": "stream",
     "text": [
      "17\n",
      "Modularity: 0.17514669667451674\n",
      "Number of communities: 5\n",
      " -------------------------------------------- \n",
      "The first 5 squared singular values divided by N : \n",
      "[0.16736292961529134, 0.1562552779705007, 0.13093183818843498, 0.11075697665274419, 0.10445444377397872]\n",
      " -------------------------------------------- \n",
      "  6.398288 seconds (3.71 M allocations: 2.617 GiB, 4.74% gc time)\n",
      "\n",
      "  ~~~~~ number_rep = 3/3 ~~~~~\n",
      " ------- Acc Projected Power Iteration -------\n"
     ]
    },
    {
     "name": "stdout",
     "output_type": "stream",
     "text": [
      "The iteration has become stationary after 222 iterations\n",
      "  0.665959 seconds (5.88 k allocations: 308.221 MiB, 10.11% gc time)\n",
      " -------------- Clustering ------- \n",
      "dimension of embedding used for clustering: 20\n",
      "Number of updates: "
     ]
    },
    {
     "name": "stdout",
     "output_type": "stream",
     "text": [
      "23\n",
      "Modularity: 0.1744916381275269\n",
      "Number of communities: 5\n",
      " -------------------------------------------- \n",
      "The first 5 squared singular values divided by N : \n",
      "[0.16738008882985364, 0.15633975902786593, 0.1309861655027627, 0.1105672550517879, 0.10438752222794803]\n",
      " -------------------------------------------- \n",
      "  6.725935 seconds (3.51 M allocations: 2.483 GiB, 4.54% gc time)\n",
      "\n",
      "========== Graph 10/10 ==========\n",
      "\n",
      "  ~~~~~ number_rep = 1/3 ~~~~~\n",
      " ------- Acc Projected Power Iteration -------\n"
     ]
    },
    {
     "name": "stdout",
     "output_type": "stream",
     "text": [
      "The iteration has become stationary after 199 iterations\n",
      "  0.435415 seconds (5.28 k allocations: 276.182 MiB, 9.53% gc time)\n",
      " -------------- Clustering ------- \n",
      "dimension of embedding used for clustering: 20\n",
      "Number of updates: "
     ]
    },
    {
     "name": "stdout",
     "output_type": "stream",
     "text": [
      "17\n",
      "Modularity: 0.18089045713141266\n",
      "Number of communities: 5\n",
      " -------------------------------------------- \n",
      "The first 5 squared singular values divided by N : \n",
      "[0.15637396624399807, 0.14776206039986187, 0.1349298552992328, 0.10937014481351585, 0.09685409992296509]\n",
      " -------------------------------------------- \n",
      "  7.016961 seconds (4.05 M allocations: 2.766 GiB, 4.75% gc time)\n",
      "\n",
      "  ~~~~~ number_rep = 2/3 ~~~~~\n",
      " ------- Acc Projected Power Iteration -------\n"
     ]
    },
    {
     "name": "stdout",
     "output_type": "stream",
     "text": [
      "The iteration has become stationary after 246 iterations\n",
      "  0.675474 seconds (6.50 k allocations: 341.651 MiB, 9.42% gc time)\n",
      " -------------- Clustering ------- \n",
      "dimension of embedding used for clustering: 20\n",
      "Number of updates: "
     ]
    },
    {
     "name": "stdout",
     "output_type": "stream",
     "text": [
      "11\n",
      "Modularity: 0.1721880196203839\n",
      "Number of communities: 4\n",
      " -------------------------------------------- \n",
      "The first 5 squared singular values divided by N : \n",
      "[0.15659773868825985, 0.14749435667660596, 0.13507305119624377, 0.10942956601317355, 0.09627741253076678]\n",
      " -------------------------------------------- \n",
      "  4.606983 seconds (2.78 M allocations: 2.100 GiB, 5.12% gc time)\n",
      "\n",
      "  ~~~~~ number_rep = 3/3 ~~~~~\n",
      " ------- Acc Projected Power Iteration -------\n"
     ]
    },
    {
     "name": "stdout",
     "output_type": "stream",
     "text": [
      "The iteration has become stationary after 202 iterations\n",
      "  0.423104 seconds (5.36 k allocations: 280.360 MiB, 10.62% gc time)\n",
      " -------------- Clustering ------- \n",
      "dimension of embedding used for clustering: 20\n",
      "Number of updates: "
     ]
    },
    {
     "name": "stdout",
     "output_type": "stream",
     "text": [
      "14\n",
      "Modularity: 0.1733070509401816\n",
      "Number of communities: 6\n",
      " -------------------------------------------- \n",
      "The first 5 squared singular values divided by N : \n",
      "[0.15661203749571534, 0.14727736028289637, 0.13481698647955753, 0.1094424050963889, 0.09658090785764563]\n",
      " -------------------------------------------- \n",
      "  5.226348 seconds (3.50 M allocations: 2.453 GiB, 5.19% gc time)\n"
     ]
    }
   ],
   "source": [
    "## Compute NMI for each graph\n",
    "path = \"data/LFR_data/\"\n",
    "n_graphs = 10\n",
    "\n",
    "# Set parameters of simulations\n",
    "n_clusters = 100;\n",
    "d0 = 20;\n",
    "shape = \"Ellipsoidal\"; #shape = \"Spherical\"\n",
    "\n",
    "n_rep = 3;\n",
    "mus=zeros(Float64,n_graphs)\n",
    "NMIs=zeros(Float64,n_graphs,n_rep)\n",
    "NMIs_louvain=zeros(Float64,n_graphs)\n",
    "\n",
    "for g=1:n_graphs\n",
    "    println(\"\\n========== Graph $g/$(n_graphs) ==========\")\n",
    "    \n",
    "    # load communities\n",
    "    community_true = readdlm(path*\"communities\"*string(g-1)*\".txt\",Int)\n",
    "    community_louvain = readdlm(path*\"louvain_communities\"*string(g-1)*\".txt\",Int)\n",
    "\n",
    "    # load graph\n",
    "    edgeList = readdlm(path*\"edgeList\"*string(g-1)*\".txt\",Int)\n",
    "\n",
    "    n_nodes = size(community_true)[1]\n",
    "    n_edges = size(edgeList)[1]\n",
    "\n",
    "    # construct sparse adjacency matrix from list of edges\n",
    "    adj = sparse(edgeList[:,1].+1,edgeList[:,2].+1,vec(ones(Int64,n_edges,1)),n_nodes,n_nodes)\n",
    "    adj = adj+adj' \n",
    "    # only the upper triangular part of adjacency matrix was stored\n",
    "\n",
    "    # keep only the largest connected component\n",
    "    adj,vertices = largest_component(adj);\n",
    "    \n",
    "    community_true = community_true[vertices]\n",
    "    community_true = rename_com_unique(community_true)\n",
    "    \n",
    "    community_louvain = community_louvain[vertices]\n",
    "    community_louvain = rename_com_unique(community_louvain)\n",
    "\n",
    "    # load parameters\n",
    "    LFR_parameters = readdlm(path*\"parameters\"*string(g-1)*\".txt\")\n",
    "    mu = parse(Float64, split(LFR_parameters[4],\"=\")[2]) \n",
    "    # extract mixing marameter (not very robust)\n",
    "    mus[g] = mu\n",
    "    \n",
    "    for j=1:n_rep\n",
    "        println(\"\\n  ~~~~~ number_rep = $j/$(n_rep) ~~~~~\")\n",
    "        \n",
    "         _,community,_ = @time sphere_embed_cluster(adj, d0,shape, n_clusters)\n",
    "\n",
    "        NMIs[g,j] = mutualinfo(community_true,community);\n",
    "    end\n",
    "    NMIs_louvain[g] = mutualinfo(community_true,community_louvain);\n",
    "end\n",
    "\n"
   ]
  },
  {
   "cell_type": "code",
   "execution_count": 3,
   "metadata": {},
   "outputs": [
    {
     "data": {
      "image/png": "[encoded data removed]",
      "image/svg+xml": [
       "<?xml version=\"1.0\" encoding=\"utf-8\"?>\n",
       "<svg xmlns=\"http://www.w3.org/2000/svg\" xmlns:xlink=\"http://www.w3.org/1999/xlink\" width=\"600\" height=\"400\" viewBox=\"0 0 2400 1600\">\n",
       "<defs>\n",
       "  <clipPath id=\"clip120\">\n",
       "    <rect x=\"0\" y=\"0\" width=\"2400\" height=\"1600\"/>\n",
       "  </clipPath>\n",
       "</defs>\n",
       "<path clip-path=\"url(#clip120)\" d=\"\n",
       "M0 1600 L2400 1600 L2400 0 L0 0  Z\n",
       "  \" fill=\"#ffffff\" fill-rule=\"evenodd\" fill-opacity=\"1\"/>\n",
       "<defs>\n",
       "  <clipPath id=\"clip121\">\n",
       "    <rect x=\"480\" y=\"0\" width=\"1681\" height=\"1600\"/>\n",
       "  </clipPath>\n",
       "</defs>\n",
       "<path clip-path=\"url(#clip120)\" d=\"\n",
       "M249.542 1423.18 L2352.76 1423.18 L2352.76 47.2441 L249.542 47.2441  Z\n",
       "  \" fill=\"#ffffff\" fill-rule=\"evenodd\" fill-opacity=\"1\"/>\n",
       "<defs>\n",
       "  <clipPath id=\"clip122\">\n",
       "    <rect x=\"249\" y=\"47\" width=\"2104\" height=\"1377\"/>\n",
       "  </clipPath>\n",
       "</defs>\n",
       "<polyline clip-path=\"url(#clip122)\" style=\"stroke:#000000; stroke-linecap:butt; stroke-linejoin:round; stroke-width:2; stroke-opacity:0.1; fill:none\" points=\"\n",
       "  529.53,1423.18 529.53,47.2441 \n",
       "  \"/>\n",
       "<polyline clip-path=\"url(#clip122)\" style=\"stroke:#000000; stroke-linecap:butt; stroke-linejoin:round; stroke-width:2; stroke-opacity:0.1; fill:none\" points=\"\n",
       "  970.455,1423.18 970.455,47.2441 \n",
       "  \"/>\n",
       "<polyline clip-path=\"url(#clip122)\" style=\"stroke:#000000; stroke-linecap:butt; stroke-linejoin:round; stroke-width:2; stroke-opacity:0.1; fill:none\" points=\"\n",
       "  1411.38,1423.18 1411.38,47.2441 \n",
       "  \"/>\n",
       "<polyline clip-path=\"url(#clip122)\" style=\"stroke:#000000; stroke-linecap:butt; stroke-linejoin:round; stroke-width:2; stroke-opacity:0.1; fill:none\" points=\"\n",
       "  1852.31,1423.18 1852.31,47.2441 \n",
       "  \"/>\n",
       "<polyline clip-path=\"url(#clip122)\" style=\"stroke:#000000; stroke-linecap:butt; stroke-linejoin:round; stroke-width:2; stroke-opacity:0.1; fill:none\" points=\"\n",
       "  2293.23,1423.18 2293.23,47.2441 \n",
       "  \"/>\n",
       "<polyline clip-path=\"url(#clip120)\" style=\"stroke:#000000; stroke-linecap:butt; stroke-linejoin:round; stroke-width:4; stroke-opacity:1; fill:none\" points=\"\n",
       "  249.542,1423.18 2352.76,1423.18 \n",
       "  \"/>\n",
       "<polyline clip-path=\"url(#clip120)\" style=\"stroke:#000000; stroke-linecap:butt; stroke-linejoin:round; stroke-width:4; stroke-opacity:1; fill:none\" points=\"\n",
       "  529.53,1423.18 529.53,1404.28 \n",
       "  \"/>\n",
       "<polyline clip-path=\"url(#clip120)\" style=\"stroke:#000000; stroke-linecap:butt; stroke-linejoin:round; stroke-width:4; stroke-opacity:1; fill:none\" points=\"\n",
       "  970.455,1423.18 970.455,1404.28 \n",
       "  \"/>\n",
       "<polyline clip-path=\"url(#clip120)\" style=\"stroke:#000000; stroke-linecap:butt; stroke-linejoin:round; stroke-width:4; stroke-opacity:1; fill:none\" points=\"\n",
       "  1411.38,1423.18 1411.38,1404.28 \n",
       "  \"/>\n",
       "<polyline clip-path=\"url(#clip120)\" style=\"stroke:#000000; stroke-linecap:butt; stroke-linejoin:round; stroke-width:4; stroke-opacity:1; fill:none\" points=\"\n",
       "  1852.31,1423.18 1852.31,1404.28 \n",
       "  \"/>\n",
       "<polyline clip-path=\"url(#clip120)\" style=\"stroke:#000000; stroke-linecap:butt; stroke-linejoin:round; stroke-width:4; stroke-opacity:1; fill:none\" points=\"\n",
       "  2293.23,1423.18 2293.23,1404.28 \n",
       "  \"/>\n",
       "<path clip-path=\"url(#clip120)\" d=\"M507.713 1454.1 Q504.102 1454.1 502.273 1457.66 Q500.467 1461.2 500.467 1468.33 Q500.467 1475.44 502.273 1479.01 Q504.102 1482.55 507.713 1482.55 Q511.347 1482.55 513.152 1479.01 Q514.981 1475.44 514.981 1468.33 Q514.981 1461.2 513.152 1457.66 Q511.347 1454.1 507.713 1454.1 M507.713 1450.39 Q513.523 1450.39 516.578 1455 Q519.657 1459.58 519.657 1468.33 Q519.657 1477.06 516.578 1481.67 Q513.523 1486.25 507.713 1486.25 Q501.902 1486.25 498.824 1481.67 Q495.768 1477.06 495.768 1468.33 Q495.768 1459.58 498.824 1455 Q501.902 1450.39 507.713 1450.39 Z\" fill=\"#000000\" fill-rule=\"evenodd\" fill-opacity=\"1\" /><path clip-path=\"url(#clip120)\" d=\"M527.875 1479.7 L532.759 1479.7 L532.759 1485.58 L527.875 1485.58 L527.875 1479.7 Z\" fill=\"#000000\" fill-rule=\"evenodd\" fill-opacity=\"1\" /><path clip-path=\"url(#clip120)\" d=\"M546.972 1481.64 L563.291 1481.64 L563.291 1485.58 L541.347 1485.58 L541.347 1481.64 Q544.009 1478.89 548.592 1474.26 Q553.198 1469.61 554.379 1468.27 Q556.624 1465.74 557.504 1464.01 Q558.407 1462.25 558.407 1460.56 Q558.407 1457.8 556.462 1456.07 Q554.541 1454.33 551.439 1454.33 Q549.24 1454.33 546.786 1455.09 Q544.356 1455.86 541.578 1457.41 L541.578 1452.69 Q544.402 1451.55 546.856 1450.97 Q549.31 1450.39 551.347 1450.39 Q556.717 1450.39 559.911 1453.08 Q563.106 1455.77 563.106 1460.26 Q563.106 1462.39 562.296 1464.31 Q561.509 1466.2 559.402 1468.8 Q558.823 1469.47 555.722 1472.69 Q552.62 1475.88 546.972 1481.64 Z\" fill=\"#000000\" fill-rule=\"evenodd\" fill-opacity=\"1\" /><path clip-path=\"url(#clip120)\" d=\"M947.596 1454.1 Q943.985 1454.1 942.157 1457.66 Q940.351 1461.2 940.351 1468.33 Q940.351 1475.44 942.157 1479.01 Q943.985 1482.55 947.596 1482.55 Q951.231 1482.55 953.036 1479.01 Q954.865 1475.44 954.865 1468.33 Q954.865 1461.2 953.036 1457.66 Q951.231 1454.1 947.596 1454.1 M947.596 1450.39 Q953.406 1450.39 956.462 1455 Q959.541 1459.58 959.541 1468.33 Q959.541 1477.06 956.462 1481.67 Q953.406 1486.25 947.596 1486.25 Q941.786 1486.25 938.707 1481.67 Q935.652 1477.06 935.652 1468.33 Q935.652 1459.58 938.707 1455 Q941.786 1450.39 947.596 1450.39 Z\" fill=\"#000000\" fill-rule=\"evenodd\" fill-opacity=\"1\" /><path clip-path=\"url(#clip120)\" d=\"M967.758 1479.7 L972.642 1479.7 L972.642 1485.58 L967.758 1485.58 L967.758 1479.7 Z\" fill=\"#000000\" fill-rule=\"evenodd\" fill-opacity=\"1\" /><path clip-path=\"url(#clip120)\" d=\"M995.675 1455.09 L983.869 1473.54 L995.675 1473.54 L995.675 1455.09 M994.448 1451.02 L1000.33 1451.02 L1000.33 1473.54 L1005.26 1473.54 L1005.26 1477.43 L1000.33 1477.43 L1000.33 1485.58 L995.675 1485.58 L995.675 1477.43 L980.073 1477.43 L980.073 1472.92 L994.448 1451.02 Z\" fill=\"#000000\" fill-rule=\"evenodd\" fill-opacity=\"1\" /><path clip-path=\"url(#clip120)\" d=\"M1388.68 1454.1 Q1385.07 1454.1 1383.24 1457.66 Q1381.44 1461.2 1381.44 1468.33 Q1381.44 1475.44 1383.24 1479.01 Q1385.07 1482.55 1388.68 1482.55 Q1392.32 1482.55 1394.12 1479.01 Q1395.95 1475.44 1395.95 1468.33 Q1395.95 1461.2 1394.12 1457.66 Q1392.32 1454.1 1388.68 1454.1 M1388.68 1450.39 Q1394.49 1450.39 1397.55 1455 Q1400.63 1459.58 1400.63 1468.33 Q1400.63 1477.06 1397.55 1481.67 Q1394.49 1486.25 1388.68 1486.25 Q1382.87 1486.25 1379.79 1481.67 Q1376.74 1477.06 1376.74 1468.33 Q1376.74 1459.58 1379.79 1455 Q1382.87 1450.39 1388.68 1450.39 Z\" fill=\"#000000\" fill-rule=\"evenodd\" fill-opacity=\"1\" /><path clip-path=\"url(#clip120)\" d=\"M1408.85 1479.7 L1413.73 1479.7 L1413.73 1485.58 L1408.85 1485.58 L1408.85 1479.7 Z\" fill=\"#000000\" fill-rule=\"evenodd\" fill-opacity=\"1\" /><path clip-path=\"url(#clip120)\" d=\"M1434.49 1466.44 Q1431.35 1466.44 1429.49 1468.59 Q1427.66 1470.74 1427.66 1474.49 Q1427.66 1478.22 1429.49 1480.39 Q1431.35 1482.55 1434.49 1482.55 Q1437.64 1482.55 1439.47 1480.39 Q1441.32 1478.22 1441.32 1474.49 Q1441.32 1470.74 1439.47 1468.59 Q1437.64 1466.44 1434.49 1466.44 M1443.78 1451.78 L1443.78 1456.04 Q1442.02 1455.21 1440.21 1454.77 Q1438.43 1454.33 1436.67 1454.33 Q1432.04 1454.33 1429.59 1457.45 Q1427.16 1460.58 1426.81 1466.9 Q1428.17 1464.89 1430.23 1463.82 Q1432.29 1462.73 1434.77 1462.73 Q1439.98 1462.73 1442.99 1465.9 Q1446.02 1469.05 1446.02 1474.49 Q1446.02 1479.82 1442.87 1483.03 Q1439.73 1486.25 1434.49 1486.25 Q1428.5 1486.25 1425.33 1481.67 Q1422.16 1477.06 1422.16 1468.33 Q1422.16 1460.14 1426.04 1455.28 Q1429.93 1450.39 1436.48 1450.39 Q1438.24 1450.39 1440.03 1450.74 Q1441.83 1451.09 1443.78 1451.78 Z\" fill=\"#000000\" fill-rule=\"evenodd\" fill-opacity=\"1\" /><path clip-path=\"url(#clip120)\" d=\"M1829.74 1454.1 Q1826.13 1454.1 1824.3 1457.66 Q1822.49 1461.2 1822.49 1468.33 Q1822.49 1475.44 1824.3 1479.01 Q1826.13 1482.55 1829.74 1482.55 Q1833.37 1482.55 1835.18 1479.01 Q1837 1475.44 1837 1468.33 Q1837 1461.2 1835.18 1457.66 Q1833.37 1454.1 1829.74 1454.1 M1829.74 1450.39 Q1835.55 1450.39 1838.6 1455 Q1841.68 1459.58 1841.68 1468.33 Q1841.68 1477.06 1838.6 1481.67 Q1835.55 1486.25 1829.74 1486.25 Q1823.93 1486.25 1820.85 1481.67 Q1817.79 1477.06 1817.79 1468.33 Q1817.79 1459.58 1820.85 1455 Q1823.93 1450.39 1829.74 1450.39 Z\" fill=\"#000000\" fill-rule=\"evenodd\" fill-opacity=\"1\" /><path clip-path=\"url(#clip120)\" d=\"M1849.9 1479.7 L1854.78 1479.7 L1854.78 1485.58 L1849.9 1485.58 L1849.9 1479.7 Z\" fill=\"#000000\" fill-rule=\"evenodd\" fill-opacity=\"1\" /><path clip-path=\"url(#clip120)\" d=\"M1874.97 1469.17 Q1871.63 1469.17 1869.71 1470.95 Q1867.81 1472.73 1867.81 1475.86 Q1867.81 1478.98 1869.71 1480.77 Q1871.63 1482.55 1874.97 1482.55 Q1878.3 1482.55 1880.22 1480.77 Q1882.14 1478.96 1882.14 1475.86 Q1882.14 1472.73 1880.22 1470.95 Q1878.32 1469.17 1874.97 1469.17 M1870.29 1467.18 Q1867.28 1466.44 1865.59 1464.38 Q1863.93 1462.32 1863.93 1459.35 Q1863.93 1455.21 1866.87 1452.8 Q1869.83 1450.39 1874.97 1450.39 Q1880.13 1450.39 1883.07 1452.8 Q1886.01 1455.21 1886.01 1459.35 Q1886.01 1462.32 1884.32 1464.38 Q1882.65 1466.44 1879.67 1467.18 Q1883.05 1467.96 1884.92 1470.26 Q1886.82 1472.55 1886.82 1475.86 Q1886.82 1480.88 1883.74 1483.57 Q1880.69 1486.25 1874.97 1486.25 Q1869.25 1486.25 1866.17 1483.57 Q1863.12 1480.88 1863.12 1475.86 Q1863.12 1472.55 1865.01 1470.26 Q1866.91 1467.96 1870.29 1467.18 M1868.58 1459.79 Q1868.58 1462.48 1870.25 1463.98 Q1871.94 1465.49 1874.97 1465.49 Q1877.98 1465.49 1879.67 1463.98 Q1881.38 1462.48 1881.38 1459.79 Q1881.38 1457.11 1879.67 1455.6 Q1877.98 1454.1 1874.97 1454.1 Q1871.94 1454.1 1870.25 1455.6 Q1868.58 1457.11 1868.58 1459.79 Z\" fill=\"#000000\" fill-rule=\"evenodd\" fill-opacity=\"1\" /><path clip-path=\"url(#clip120)\" d=\"M2260.38 1481.64 L2268.02 1481.64 L2268.02 1455.28 L2259.71 1456.95 L2259.71 1452.69 L2267.98 1451.02 L2272.65 1451.02 L2272.65 1481.64 L2280.29 1481.64 L2280.29 1485.58 L2260.38 1485.58 L2260.38 1481.64 Z\" fill=\"#000000\" fill-rule=\"evenodd\" fill-opacity=\"1\" /><path clip-path=\"url(#clip120)\" d=\"M2289.74 1479.7 L2294.62 1479.7 L2294.62 1485.58 L2289.74 1485.58 L2289.74 1479.7 Z\" fill=\"#000000\" fill-rule=\"evenodd\" fill-opacity=\"1\" /><path clip-path=\"url(#clip120)\" d=\"M2314.8 1454.1 Q2311.19 1454.1 2309.37 1457.66 Q2307.56 1461.2 2307.56 1468.33 Q2307.56 1475.44 2309.37 1479.01 Q2311.19 1482.55 2314.8 1482.55 Q2318.44 1482.55 2320.24 1479.01 Q2322.07 1475.44 2322.07 1468.33 Q2322.07 1461.2 2320.24 1457.66 Q2318.44 1454.1 2314.8 1454.1 M2314.8 1450.39 Q2320.62 1450.39 2323.67 1455 Q2326.75 1459.58 2326.75 1468.33 Q2326.75 1477.06 2323.67 1481.67 Q2320.62 1486.25 2314.8 1486.25 Q2308.99 1486.25 2305.92 1481.67 Q2302.86 1477.06 2302.86 1468.33 Q2302.86 1459.58 2305.92 1455 Q2308.99 1450.39 2314.8 1450.39 Z\" fill=\"#000000\" fill-rule=\"evenodd\" fill-opacity=\"1\" /><path clip-path=\"url(#clip120)\" d=\"M1015.06 1520.52 L1024.64 1520.52 L1036.77 1552.86 L1048.96 1520.52 L1058.54 1520.52 L1058.54 1568.04 L1052.27 1568.04 L1052.27 1526.32 L1040.01 1558.91 L1033.55 1558.91 L1021.3 1526.32 L1021.3 1568.04 L1015.06 1568.04 L1015.06 1520.52 Z\" fill=\"#000000\" fill-rule=\"evenodd\" fill-opacity=\"1\" /><path clip-path=\"url(#clip120)\" d=\"M1071.04 1532.4 L1076.9 1532.4 L1076.9 1568.04 L1071.04 1568.04 L1071.04 1532.4 M1071.04 1518.52 L1076.9 1518.52 L1076.9 1525.93 L1071.04 1525.93 L1071.04 1518.52 Z\" fill=\"#000000\" fill-rule=\"evenodd\" fill-opacity=\"1\" /><path clip-path=\"url(#clip120)\" d=\"M1118.79 1532.4 L1105.9 1549.74 L1119.46 1568.04 L1112.55 1568.04 L1102.17 1554.04 L1091.8 1568.04 L1084.89 1568.04 L1098.74 1549.39 L1086.07 1532.4 L1092.97 1532.4 L1102.43 1545.1 L1111.88 1532.4 L1118.79 1532.4 Z\" fill=\"#000000\" fill-rule=\"evenodd\" fill-opacity=\"1\" /><path clip-path=\"url(#clip120)\" d=\"M1127.73 1532.4 L1133.59 1532.4 L1133.59 1568.04 L1127.73 1568.04 L1127.73 1532.4 M1127.73 1518.52 L1133.59 1518.52 L1133.59 1525.93 L1127.73 1525.93 L1127.73 1518.52 Z\" fill=\"#000000\" fill-rule=\"evenodd\" fill-opacity=\"1\" /><path clip-path=\"url(#clip120)\" d=\"M1175.47 1546.53 L1175.47 1568.04 L1169.62 1568.04 L1169.62 1546.72 Q1169.62 1541.66 1167.64 1539.14 Q1165.67 1536.63 1161.72 1536.63 Q1156.98 1536.63 1154.24 1539.65 Q1151.51 1542.68 1151.51 1547.9 L1151.51 1568.04 L1145.62 1568.04 L1145.62 1532.4 L1151.51 1532.4 L1151.51 1537.93 Q1153.61 1534.72 1156.44 1533.13 Q1159.31 1531.54 1163.03 1531.54 Q1169.17 1531.54 1172.32 1535.36 Q1175.47 1539.14 1175.47 1546.53 Z\" fill=\"#000000\" fill-rule=\"evenodd\" fill-opacity=\"1\" /><path clip-path=\"url(#clip120)\" d=\"M1210.61 1549.81 Q1210.61 1543.44 1207.97 1539.94 Q1205.36 1536.44 1200.62 1536.44 Q1195.91 1536.44 1193.27 1539.94 Q1190.66 1543.44 1190.66 1549.81 Q1190.66 1556.14 1193.27 1559.64 Q1195.91 1563.14 1200.62 1563.14 Q1205.36 1563.14 1207.97 1559.64 Q1210.61 1556.14 1210.61 1549.81 M1216.47 1563.62 Q1216.47 1572.72 1212.43 1577.15 Q1208.38 1581.6 1200.05 1581.6 Q1196.96 1581.6 1194.22 1581.13 Q1191.48 1580.68 1188.91 1579.72 L1188.91 1574.03 Q1191.48 1575.43 1194 1576.1 Q1196.51 1576.76 1199.12 1576.76 Q1204.88 1576.76 1207.75 1573.74 Q1210.61 1570.75 1210.61 1564.67 L1210.61 1561.77 Q1208.8 1564.92 1205.97 1566.48 Q1203.13 1568.04 1199.19 1568.04 Q1192.63 1568.04 1188.62 1563.05 Q1184.61 1558.05 1184.61 1549.81 Q1184.61 1541.53 1188.62 1536.53 Q1192.63 1531.54 1199.19 1531.54 Q1203.13 1531.54 1205.97 1533.1 Q1208.8 1534.66 1210.61 1537.81 L1210.61 1532.4 L1216.47 1532.4 L1216.47 1563.62 Z\" fill=\"#000000\" fill-rule=\"evenodd\" fill-opacity=\"1\" /><path clip-path=\"url(#clip120)\" d=\"M1254.92 1562.7 L1254.92 1581.6 L1249.03 1581.6 L1249.03 1532.4 L1254.92 1532.4 L1254.92 1537.81 Q1256.76 1534.62 1259.56 1533.1 Q1262.4 1531.54 1266.31 1531.54 Q1272.81 1531.54 1276.85 1536.69 Q1280.92 1541.85 1280.92 1550.25 Q1280.92 1558.65 1276.85 1563.81 Q1272.81 1568.97 1266.31 1568.97 Q1262.4 1568.97 1259.56 1567.44 Q1256.76 1565.88 1254.92 1562.7 M1274.84 1550.25 Q1274.84 1543.79 1272.17 1540.13 Q1269.53 1536.44 1264.88 1536.44 Q1260.23 1536.44 1257.56 1540.13 Q1254.92 1543.79 1254.92 1550.25 Q1254.92 1556.71 1257.56 1560.4 Q1260.23 1564.07 1264.88 1564.07 Q1269.53 1564.07 1272.17 1560.4 Q1274.84 1556.71 1274.84 1550.25 Z\" fill=\"#000000\" fill-rule=\"evenodd\" fill-opacity=\"1\" /><path clip-path=\"url(#clip120)\" d=\"M1306.83 1550.12 Q1299.73 1550.12 1297 1551.75 Q1294.26 1553.37 1294.26 1557.29 Q1294.26 1560.4 1296.3 1562.25 Q1298.36 1564.07 1301.9 1564.07 Q1306.77 1564.07 1309.69 1560.63 Q1312.65 1557.16 1312.65 1551.43 L1312.65 1550.12 L1306.83 1550.12 M1318.51 1547.71 L1318.51 1568.04 L1312.65 1568.04 L1312.65 1562.63 Q1310.65 1565.88 1307.66 1567.44 Q1304.67 1568.97 1300.34 1568.97 Q1294.86 1568.97 1291.62 1565.91 Q1288.4 1562.82 1288.4 1557.67 Q1288.4 1551.65 1292.41 1548.6 Q1296.45 1545.54 1304.44 1545.54 L1312.65 1545.54 L1312.65 1544.97 Q1312.65 1540.93 1309.98 1538.73 Q1307.34 1536.5 1302.53 1536.5 Q1299.48 1536.5 1296.58 1537.23 Q1293.69 1537.97 1291.01 1539.43 L1291.01 1534.02 Q1294.23 1532.78 1297.25 1532.17 Q1300.27 1531.54 1303.14 1531.54 Q1310.87 1531.54 1314.69 1535.55 Q1318.51 1539.56 1318.51 1547.71 Z\" fill=\"#000000\" fill-rule=\"evenodd\" fill-opacity=\"1\" /><path clip-path=\"url(#clip120)\" d=\"M1351.23 1537.87 Q1350.24 1537.3 1349.07 1537.04 Q1347.92 1536.76 1346.52 1536.76 Q1341.56 1536.76 1338.88 1540 Q1336.24 1543.22 1336.24 1549.27 L1336.24 1568.04 L1330.35 1568.04 L1330.35 1532.4 L1336.24 1532.4 L1336.24 1537.93 Q1338.09 1534.69 1341.05 1533.13 Q1344.01 1531.54 1348.24 1531.54 Q1348.84 1531.54 1349.58 1531.63 Q1350.31 1531.7 1351.2 1531.85 L1351.23 1537.87 Z\" fill=\"#000000\" fill-rule=\"evenodd\" fill-opacity=\"1\" /><path clip-path=\"url(#clip120)\" d=\"M1373.57 1550.12 Q1366.48 1550.12 1363.74 1551.75 Q1361 1553.37 1361 1557.29 Q1361 1560.4 1363.04 1562.25 Q1365.11 1564.07 1368.64 1564.07 Q1373.51 1564.07 1376.44 1560.63 Q1379.4 1557.16 1379.4 1551.43 L1379.4 1550.12 L1373.57 1550.12 M1385.26 1547.71 L1385.26 1568.04 L1379.4 1568.04 L1379.4 1562.63 Q1377.39 1565.88 1374.4 1567.44 Q1371.41 1568.97 1367.08 1568.97 Q1361.61 1568.97 1358.36 1565.91 Q1355.15 1562.82 1355.15 1557.67 Q1355.15 1551.65 1359.16 1548.6 Q1363.2 1545.54 1371.19 1545.54 L1379.4 1545.54 L1379.4 1544.97 Q1379.4 1540.93 1376.73 1538.73 Q1374.08 1536.5 1369.28 1536.5 Q1366.22 1536.5 1363.33 1537.23 Q1360.43 1537.97 1357.76 1539.43 L1357.76 1534.02 Q1360.97 1532.78 1363.99 1532.17 Q1367.02 1531.54 1369.88 1531.54 Q1377.62 1531.54 1381.44 1535.55 Q1385.26 1539.56 1385.26 1547.71 Z\" fill=\"#000000\" fill-rule=\"evenodd\" fill-opacity=\"1\" /><path clip-path=\"url(#clip120)\" d=\"M1425.07 1539.24 Q1427.27 1535.29 1430.33 1533.41 Q1433.38 1531.54 1437.52 1531.54 Q1443.09 1531.54 1446.11 1535.45 Q1449.14 1539.33 1449.14 1546.53 L1449.14 1568.04 L1443.25 1568.04 L1443.25 1546.72 Q1443.25 1541.59 1441.43 1539.11 Q1439.62 1536.63 1435.9 1536.63 Q1431.34 1536.63 1428.7 1539.65 Q1426.06 1542.68 1426.06 1547.9 L1426.06 1568.04 L1420.17 1568.04 L1420.17 1546.72 Q1420.17 1541.56 1418.36 1539.11 Q1416.54 1536.63 1412.76 1536.63 Q1408.27 1536.63 1405.63 1539.68 Q1402.98 1542.71 1402.98 1547.9 L1402.98 1568.04 L1397.1 1568.04 L1397.1 1532.4 L1402.98 1532.4 L1402.98 1537.93 Q1404.99 1534.66 1407.79 1533.1 Q1410.59 1531.54 1414.44 1531.54 Q1418.33 1531.54 1421.03 1533.51 Q1423.77 1535.48 1425.07 1539.24 Z\" fill=\"#000000\" fill-rule=\"evenodd\" fill-opacity=\"1\" /><path clip-path=\"url(#clip120)\" d=\"M1491.31 1548.76 L1491.31 1551.62 L1464.38 1551.62 Q1464.76 1557.67 1468.01 1560.85 Q1471.29 1564 1477.11 1564 Q1480.49 1564 1483.64 1563.17 Q1486.82 1562.35 1489.94 1560.69 L1489.94 1566.23 Q1486.79 1567.57 1483.48 1568.27 Q1480.17 1568.97 1476.76 1568.97 Q1468.23 1568.97 1463.24 1564 Q1458.27 1559.04 1458.27 1550.57 Q1458.27 1541.82 1462.98 1536.69 Q1467.72 1531.54 1475.74 1531.54 Q1482.94 1531.54 1487.11 1536.18 Q1491.31 1540.8 1491.31 1548.76 M1485.45 1547.04 Q1485.39 1542.23 1482.75 1539.37 Q1480.14 1536.5 1475.81 1536.5 Q1470.91 1536.5 1467.95 1539.27 Q1465.02 1542.04 1464.57 1547.07 L1485.45 1547.04 Z\" fill=\"#000000\" fill-rule=\"evenodd\" fill-opacity=\"1\" /><path clip-path=\"url(#clip120)\" d=\"M1506.71 1522.27 L1506.71 1532.4 L1518.78 1532.4 L1518.78 1536.95 L1506.71 1536.95 L1506.71 1556.3 Q1506.71 1560.66 1507.89 1561.9 Q1509.1 1563.14 1512.76 1563.14 L1518.78 1563.14 L1518.78 1568.04 L1512.76 1568.04 Q1505.98 1568.04 1503.4 1565.53 Q1500.83 1562.98 1500.83 1556.3 L1500.83 1536.95 L1496.53 1536.95 L1496.53 1532.4 L1500.83 1532.4 L1500.83 1522.27 L1506.71 1522.27 Z\" fill=\"#000000\" fill-rule=\"evenodd\" fill-opacity=\"1\" /><path clip-path=\"url(#clip120)\" d=\"M1556.97 1548.76 L1556.97 1551.62 L1530.04 1551.62 Q1530.43 1557.67 1533.67 1560.85 Q1536.95 1564 1542.78 1564 Q1546.15 1564 1549.3 1563.17 Q1552.48 1562.35 1555.6 1560.69 L1555.6 1566.23 Q1552.45 1567.57 1549.14 1568.27 Q1545.83 1568.97 1542.43 1568.97 Q1533.9 1568.97 1528.9 1564 Q1523.93 1559.04 1523.93 1550.57 Q1523.93 1541.82 1528.64 1536.69 Q1533.39 1531.54 1541.41 1531.54 Q1548.6 1531.54 1552.77 1536.18 Q1556.97 1540.8 1556.97 1548.76 M1551.11 1547.04 Q1551.05 1542.23 1548.41 1539.37 Q1545.8 1536.5 1541.47 1536.5 Q1536.57 1536.5 1533.61 1539.27 Q1530.68 1542.04 1530.23 1547.07 L1551.11 1547.04 Z\" fill=\"#000000\" fill-rule=\"evenodd\" fill-opacity=\"1\" /><path clip-path=\"url(#clip120)\" d=\"M1587.24 1537.87 Q1586.25 1537.3 1585.08 1537.04 Q1583.93 1536.76 1582.53 1536.76 Q1577.56 1536.76 1574.89 1540 Q1572.25 1543.22 1572.25 1549.27 L1572.25 1568.04 L1566.36 1568.04 L1566.36 1532.4 L1572.25 1532.4 L1572.25 1537.93 Q1574.09 1534.69 1577.05 1533.13 Q1580.01 1531.54 1584.25 1531.54 Q1584.85 1531.54 1585.58 1531.63 Q1586.32 1531.7 1587.21 1531.85 L1587.24 1537.87 Z\" fill=\"#000000\" fill-rule=\"evenodd\" fill-opacity=\"1\" /><polyline clip-path=\"url(#clip122)\" style=\"stroke:#000000; stroke-linecap:butt; stroke-linejoin:round; stroke-width:2; stroke-opacity:0.1; fill:none\" points=\"\n",
       "  249.542,1394.82 2352.76,1394.82 \n",
       "  \"/>\n",
       "<polyline clip-path=\"url(#clip122)\" style=\"stroke:#000000; stroke-linecap:butt; stroke-linejoin:round; stroke-width:2; stroke-opacity:0.1; fill:none\" points=\"\n",
       "  249.542,1067.66 2352.76,1067.66 \n",
       "  \"/>\n",
       "<polyline clip-path=\"url(#clip122)\" style=\"stroke:#000000; stroke-linecap:butt; stroke-linejoin:round; stroke-width:2; stroke-opacity:0.1; fill:none\" points=\"\n",
       "  249.542,740.505 2352.76,740.505 \n",
       "  \"/>\n",
       "<polyline clip-path=\"url(#clip122)\" style=\"stroke:#000000; stroke-linecap:butt; stroke-linejoin:round; stroke-width:2; stroke-opacity:0.1; fill:none\" points=\"\n",
       "  249.542,413.345 2352.76,413.345 \n",
       "  \"/>\n",
       "<polyline clip-path=\"url(#clip122)\" style=\"stroke:#000000; stroke-linecap:butt; stroke-linejoin:round; stroke-width:2; stroke-opacity:0.1; fill:none\" points=\"\n",
       "  249.542,86.1857 2352.76,86.1857 \n",
       "  \"/>\n",
       "<polyline clip-path=\"url(#clip120)\" style=\"stroke:#000000; stroke-linecap:butt; stroke-linejoin:round; stroke-width:4; stroke-opacity:1; fill:none\" points=\"\n",
       "  249.542,1423.18 249.542,47.2441 \n",
       "  \"/>\n",
       "<polyline clip-path=\"url(#clip120)\" style=\"stroke:#000000; stroke-linecap:butt; stroke-linejoin:round; stroke-width:4; stroke-opacity:1; fill:none\" points=\"\n",
       "  249.542,1394.82 268.44,1394.82 \n",
       "  \"/>\n",
       "<polyline clip-path=\"url(#clip120)\" style=\"stroke:#000000; stroke-linecap:butt; stroke-linejoin:round; stroke-width:4; stroke-opacity:1; fill:none\" points=\"\n",
       "  249.542,1067.66 268.44,1067.66 \n",
       "  \"/>\n",
       "<polyline clip-path=\"url(#clip120)\" style=\"stroke:#000000; stroke-linecap:butt; stroke-linejoin:round; stroke-width:4; stroke-opacity:1; fill:none\" points=\"\n",
       "  249.542,740.505 268.44,740.505 \n",
       "  \"/>\n",
       "<polyline clip-path=\"url(#clip120)\" style=\"stroke:#000000; stroke-linecap:butt; stroke-linejoin:round; stroke-width:4; stroke-opacity:1; fill:none\" points=\"\n",
       "  249.542,413.345 268.44,413.345 \n",
       "  \"/>\n",
       "<polyline clip-path=\"url(#clip120)\" style=\"stroke:#000000; stroke-linecap:butt; stroke-linejoin:round; stroke-width:4; stroke-opacity:1; fill:none\" points=\"\n",
       "  249.542,86.1857 268.44,86.1857 \n",
       "  \"/>\n",
       "<path clip-path=\"url(#clip120)\" d=\"M126.205 1380.62 Q122.593 1380.62 120.765 1384.19 Q118.959 1387.73 118.959 1394.86 Q118.959 1401.97 120.765 1405.53 Q122.593 1409.07 126.205 1409.07 Q129.839 1409.07 131.644 1405.53 Q133.473 1401.97 133.473 1394.86 Q133.473 1387.73 131.644 1384.19 Q129.839 1380.62 126.205 1380.62 M126.205 1376.92 Q132.015 1376.92 135.07 1381.53 Q138.149 1386.11 138.149 1394.86 Q138.149 1403.59 135.07 1408.19 Q132.015 1412.78 126.205 1412.78 Q120.394 1412.78 117.316 1408.19 Q114.26 1403.59 114.26 1394.86 Q114.26 1386.11 117.316 1381.53 Q120.394 1376.92 126.205 1376.92 Z\" fill=\"#000000\" fill-rule=\"evenodd\" fill-opacity=\"1\" /><path clip-path=\"url(#clip120)\" d=\"M146.366 1406.22 L151.251 1406.22 L151.251 1412.1 L146.366 1412.1 L146.366 1406.22 Z\" fill=\"#000000\" fill-rule=\"evenodd\" fill-opacity=\"1\" /><path clip-path=\"url(#clip120)\" d=\"M171.436 1380.62 Q167.825 1380.62 165.996 1384.19 Q164.19 1387.73 164.19 1394.86 Q164.19 1401.97 165.996 1405.53 Q167.825 1409.07 171.436 1409.07 Q175.07 1409.07 176.876 1405.53 Q178.704 1401.97 178.704 1394.86 Q178.704 1387.73 176.876 1384.19 Q175.07 1380.62 171.436 1380.62 M171.436 1376.92 Q177.246 1376.92 180.301 1381.53 Q183.38 1386.11 183.38 1394.86 Q183.38 1403.59 180.301 1408.19 Q177.246 1412.78 171.436 1412.78 Q165.626 1412.78 162.547 1408.19 Q159.491 1403.59 159.491 1394.86 Q159.491 1386.11 162.547 1381.53 Q165.626 1376.92 171.436 1376.92 Z\" fill=\"#000000\" fill-rule=\"evenodd\" fill-opacity=\"1\" /><path clip-path=\"url(#clip120)\" d=\"M201.598 1380.62 Q197.987 1380.62 196.158 1384.19 Q194.352 1387.73 194.352 1394.86 Q194.352 1401.97 196.158 1405.53 Q197.987 1409.07 201.598 1409.07 Q205.232 1409.07 207.037 1405.53 Q208.866 1401.97 208.866 1394.86 Q208.866 1387.73 207.037 1384.19 Q205.232 1380.62 201.598 1380.62 M201.598 1376.92 Q207.408 1376.92 210.463 1381.53 Q213.542 1386.11 213.542 1394.86 Q213.542 1403.59 210.463 1408.19 Q207.408 1412.78 201.598 1412.78 Q195.787 1412.78 192.709 1408.19 Q189.653 1403.59 189.653 1394.86 Q189.653 1386.11 192.709 1381.53 Q195.787 1376.92 201.598 1376.92 Z\" fill=\"#000000\" fill-rule=\"evenodd\" fill-opacity=\"1\" /><path clip-path=\"url(#clip120)\" d=\"M127.2 1053.46 Q123.589 1053.46 121.76 1057.03 Q119.955 1060.57 119.955 1067.7 Q119.955 1074.81 121.76 1078.37 Q123.589 1081.91 127.2 1081.91 Q130.834 1081.91 132.64 1078.37 Q134.468 1074.81 134.468 1067.7 Q134.468 1060.57 132.64 1057.03 Q130.834 1053.46 127.2 1053.46 M127.2 1049.76 Q133.01 1049.76 136.066 1054.37 Q139.144 1058.95 139.144 1067.7 Q139.144 1076.43 136.066 1081.03 Q133.01 1085.62 127.2 1085.62 Q121.39 1085.62 118.311 1081.03 Q115.256 1076.43 115.256 1067.7 Q115.256 1058.95 118.311 1054.37 Q121.39 1049.76 127.2 1049.76 Z\" fill=\"#000000\" fill-rule=\"evenodd\" fill-opacity=\"1\" /><path clip-path=\"url(#clip120)\" d=\"M147.362 1079.06 L152.246 1079.06 L152.246 1084.94 L147.362 1084.94 L147.362 1079.06 Z\" fill=\"#000000\" fill-rule=\"evenodd\" fill-opacity=\"1\" /><path clip-path=\"url(#clip120)\" d=\"M166.459 1081.01 L182.778 1081.01 L182.778 1084.94 L160.834 1084.94 L160.834 1081.01 Q163.496 1078.25 168.079 1073.63 Q172.686 1068.97 173.866 1067.63 Q176.112 1065.11 176.991 1063.37 Q177.894 1061.61 177.894 1059.92 Q177.894 1057.17 175.95 1055.43 Q174.028 1053.69 170.927 1053.69 Q168.727 1053.69 166.274 1054.46 Q163.843 1055.22 161.065 1056.77 L161.065 1052.05 Q163.89 1050.92 166.343 1050.34 Q168.797 1049.76 170.834 1049.76 Q176.204 1049.76 179.399 1052.44 Q182.593 1055.13 182.593 1059.62 Q182.593 1061.75 181.783 1063.67 Q180.996 1065.57 178.889 1068.16 Q178.311 1068.83 175.209 1072.05 Q172.107 1075.25 166.459 1081.01 Z\" fill=\"#000000\" fill-rule=\"evenodd\" fill-opacity=\"1\" /><path clip-path=\"url(#clip120)\" d=\"M192.639 1050.38 L210.996 1050.38 L210.996 1054.32 L196.922 1054.32 L196.922 1062.79 Q197.94 1062.44 198.959 1062.28 Q199.977 1062.1 200.996 1062.1 Q206.783 1062.1 210.162 1065.27 Q213.542 1068.44 213.542 1073.86 Q213.542 1079.44 210.07 1082.54 Q206.598 1085.62 200.278 1085.62 Q198.102 1085.62 195.834 1085.25 Q193.588 1084.88 191.181 1084.13 L191.181 1079.44 Q193.264 1080.57 195.487 1081.13 Q197.709 1081.68 200.186 1081.68 Q204.19 1081.68 206.528 1079.57 Q208.866 1077.47 208.866 1073.86 Q208.866 1070.25 206.528 1068.14 Q204.19 1066.03 200.186 1066.03 Q198.311 1066.03 196.436 1066.45 Q194.584 1066.87 192.639 1067.75 L192.639 1050.38 Z\" fill=\"#000000\" fill-rule=\"evenodd\" fill-opacity=\"1\" /><path clip-path=\"url(#clip120)\" d=\"M126.205 726.304 Q122.593 726.304 120.765 729.868 Q118.959 733.41 118.959 740.54 Q118.959 747.646 120.765 751.211 Q122.593 754.753 126.205 754.753 Q129.839 754.753 131.644 751.211 Q133.473 747.646 133.473 740.54 Q133.473 733.41 131.644 729.868 Q129.839 726.304 126.205 726.304 M126.205 722.6 Q132.015 722.6 135.07 727.206 Q138.149 731.79 138.149 740.54 Q138.149 749.266 135.07 753.873 Q132.015 758.456 126.205 758.456 Q120.394 758.456 117.316 753.873 Q114.26 749.266 114.26 740.54 Q114.26 731.79 117.316 727.206 Q120.394 722.6 126.205 722.6 Z\" fill=\"#000000\" fill-rule=\"evenodd\" fill-opacity=\"1\" /><path clip-path=\"url(#clip120)\" d=\"M146.366 751.905 L151.251 751.905 L151.251 757.785 L146.366 757.785 L146.366 751.905 Z\" fill=\"#000000\" fill-rule=\"evenodd\" fill-opacity=\"1\" /><path clip-path=\"url(#clip120)\" d=\"M161.482 723.225 L179.839 723.225 L179.839 727.16 L165.765 727.16 L165.765 735.632 Q166.783 735.285 167.802 735.123 Q168.82 734.938 169.839 734.938 Q175.626 734.938 179.005 738.109 Q182.385 741.28 182.385 746.697 Q182.385 752.276 178.913 755.378 Q175.44 758.456 169.121 758.456 Q166.945 758.456 164.677 758.086 Q162.431 757.715 160.024 756.975 L160.024 752.276 Q162.107 753.41 164.329 753.966 Q166.552 754.521 169.028 754.521 Q173.033 754.521 175.371 752.415 Q177.709 750.308 177.709 746.697 Q177.709 743.086 175.371 740.979 Q173.033 738.873 169.028 738.873 Q167.153 738.873 165.278 739.29 Q163.427 739.706 161.482 740.586 L161.482 723.225 Z\" fill=\"#000000\" fill-rule=\"evenodd\" fill-opacity=\"1\" /><path clip-path=\"url(#clip120)\" d=\"M201.598 726.304 Q197.987 726.304 196.158 729.868 Q194.352 733.41 194.352 740.54 Q194.352 747.646 196.158 751.211 Q197.987 754.753 201.598 754.753 Q205.232 754.753 207.037 751.211 Q208.866 747.646 208.866 740.54 Q208.866 733.41 207.037 729.868 Q205.232 726.304 201.598 726.304 M201.598 722.6 Q207.408 722.6 210.463 727.206 Q213.542 731.79 213.542 740.54 Q213.542 749.266 210.463 753.873 Q207.408 758.456 201.598 758.456 Q195.787 758.456 192.709 753.873 Q189.653 749.266 189.653 740.54 Q189.653 731.79 192.709 727.206 Q195.787 722.6 201.598 722.6 Z\" fill=\"#000000\" fill-rule=\"evenodd\" fill-opacity=\"1\" /><path clip-path=\"url(#clip120)\" d=\"M127.2 399.144 Q123.589 399.144 121.76 402.709 Q119.955 406.25 119.955 413.38 Q119.955 420.486 121.76 424.051 Q123.589 427.593 127.2 427.593 Q130.834 427.593 132.64 424.051 Q134.468 420.486 134.468 413.38 Q134.468 406.25 132.64 402.709 Q130.834 399.144 127.2 399.144 M127.2 395.44 Q133.01 395.44 136.066 400.047 Q139.144 404.63 139.144 413.38 Q139.144 422.107 136.066 426.713 Q133.01 431.297 127.2 431.297 Q121.39 431.297 118.311 426.713 Q115.256 422.107 115.256 413.38 Q115.256 404.63 118.311 400.047 Q121.39 395.44 127.2 395.44 Z\" fill=\"#000000\" fill-rule=\"evenodd\" fill-opacity=\"1\" /><path clip-path=\"url(#clip120)\" d=\"M147.362 424.746 L152.246 424.746 L152.246 430.625 L147.362 430.625 L147.362 424.746 Z\" fill=\"#000000\" fill-rule=\"evenodd\" fill-opacity=\"1\" /><path clip-path=\"url(#clip120)\" d=\"M161.251 396.065 L183.473 396.065 L183.473 398.056 L170.927 430.625 L166.042 430.625 L177.848 400 L161.251 400 L161.251 396.065 Z\" fill=\"#000000\" fill-rule=\"evenodd\" fill-opacity=\"1\" /><path clip-path=\"url(#clip120)\" d=\"M192.639 396.065 L210.996 396.065 L210.996 400 L196.922 400 L196.922 408.473 Q197.94 408.125 198.959 407.963 Q199.977 407.778 200.996 407.778 Q206.783 407.778 210.162 410.949 Q213.542 414.121 213.542 419.537 Q213.542 425.116 210.07 428.218 Q206.598 431.297 200.278 431.297 Q198.102 431.297 195.834 430.926 Q193.588 430.556 191.181 429.815 L191.181 425.116 Q193.264 426.25 195.487 426.806 Q197.709 427.361 200.186 427.361 Q204.19 427.361 206.528 425.255 Q208.866 423.148 208.866 419.537 Q208.866 415.926 206.528 413.82 Q204.19 411.713 200.186 411.713 Q198.311 411.713 196.436 412.13 Q194.584 412.547 192.639 413.426 L192.639 396.065 Z\" fill=\"#000000\" fill-rule=\"evenodd\" fill-opacity=\"1\" /><path clip-path=\"url(#clip120)\" d=\"M117.015 99.5305 L124.654 99.5305 L124.654 73.1649 L116.343 74.8316 L116.343 70.5723 L124.607 68.9057 L129.283 68.9057 L129.283 99.5305 L136.922 99.5305 L136.922 103.466 L117.015 103.466 L117.015 99.5305 Z\" fill=\"#000000\" fill-rule=\"evenodd\" fill-opacity=\"1\" /><path clip-path=\"url(#clip120)\" d=\"M146.366 97.5861 L151.251 97.5861 L151.251 103.466 L146.366 103.466 L146.366 97.5861 Z\" fill=\"#000000\" fill-rule=\"evenodd\" fill-opacity=\"1\" /><path clip-path=\"url(#clip120)\" d=\"M171.436 71.9844 Q167.825 71.9844 165.996 75.5492 Q164.19 79.0908 164.19 86.2204 Q164.19 93.3268 165.996 96.8916 Q167.825 100.433 171.436 100.433 Q175.07 100.433 176.876 96.8916 Q178.704 93.3268 178.704 86.2204 Q178.704 79.0908 176.876 75.5492 Q175.07 71.9844 171.436 71.9844 M171.436 68.2807 Q177.246 68.2807 180.301 72.8871 Q183.38 77.4704 183.38 86.2204 Q183.38 94.9472 180.301 99.5537 Q177.246 104.137 171.436 104.137 Q165.626 104.137 162.547 99.5537 Q159.491 94.9472 159.491 86.2204 Q159.491 77.4704 162.547 72.8871 Q165.626 68.2807 171.436 68.2807 Z\" fill=\"#000000\" fill-rule=\"evenodd\" fill-opacity=\"1\" /><path clip-path=\"url(#clip120)\" d=\"M201.598 71.9844 Q197.987 71.9844 196.158 75.5492 Q194.352 79.0908 194.352 86.2204 Q194.352 93.3268 196.158 96.8916 Q197.987 100.433 201.598 100.433 Q205.232 100.433 207.037 96.8916 Q208.866 93.3268 208.866 86.2204 Q208.866 79.0908 207.037 75.5492 Q205.232 71.9844 201.598 71.9844 M201.598 68.2807 Q207.408 68.2807 210.463 72.8871 Q213.542 77.4704 213.542 86.2204 Q213.542 94.9472 210.463 99.5537 Q207.408 104.137 201.598 104.137 Q195.787 104.137 192.709 99.5537 Q189.653 94.9472 189.653 86.2204 Q189.653 77.4704 192.709 72.8871 Q195.787 68.2807 201.598 68.2807 Z\" fill=\"#000000\" fill-rule=\"evenodd\" fill-opacity=\"1\" /><path clip-path=\"url(#clip120)\" d=\"M16.4842 1237.77 L16.4842 1229.11 L56.238 1208.04 L16.4842 1208.04 L16.4842 1201.8 L64.0042 1201.8 L64.0042 1210.46 L24.2503 1231.53 L64.0042 1231.53 L64.0042 1237.77 L16.4842 1237.77 Z\" fill=\"#000000\" fill-rule=\"evenodd\" fill-opacity=\"1\" /><path clip-path=\"url(#clip120)\" d=\"M32.4621 1175.45 Q32.4621 1180.16 36.1542 1182.9 Q39.8145 1185.63 46.212 1185.63 Q52.6095 1185.63 56.3017 1182.93 Q59.9619 1180.19 59.9619 1175.45 Q59.9619 1170.77 56.2698 1168.03 Q52.5777 1165.3 46.212 1165.3 Q39.8781 1165.3 36.186 1168.03 Q32.4621 1170.77 32.4621 1175.45 M27.4968 1175.45 Q27.4968 1167.81 32.4621 1163.45 Q37.4273 1159.09 46.212 1159.09 Q54.9649 1159.09 59.9619 1163.45 Q64.9272 1167.81 64.9272 1175.45 Q64.9272 1183.12 59.9619 1187.48 Q54.9649 1191.81 46.212 1191.81 Q37.4273 1191.81 32.4621 1187.48 Q27.4968 1183.12 27.4968 1175.45 Z\" fill=\"#000000\" fill-rule=\"evenodd\" fill-opacity=\"1\" /><path clip-path=\"url(#clip120)\" d=\"M33.8307 1128.72 Q33.2578 1129.71 33.0032 1130.89 Q32.7167 1132.03 32.7167 1133.43 Q32.7167 1138.4 35.9632 1141.07 Q39.1779 1143.72 45.2253 1143.72 L64.0042 1143.72 L64.0042 1149.6 L28.3562 1149.6 L28.3562 1143.72 L33.8944 1143.72 Q30.6479 1141.87 29.0883 1138.91 Q27.4968 1135.95 27.4968 1131.72 Q27.4968 1131.11 27.5923 1130.38 Q27.656 1129.65 27.8151 1128.76 L33.8307 1128.72 Z\" fill=\"#000000\" fill-rule=\"evenodd\" fill-opacity=\"1\" /><path clip-path=\"url(#clip120)\" d=\"M35.1993 1095.97 Q31.2526 1093.78 29.3747 1090.72 Q27.4968 1087.67 27.4968 1083.53 Q27.4968 1077.96 31.4117 1074.93 Q35.2948 1071.91 42.4881 1071.91 L64.0042 1071.91 L64.0042 1077.8 L42.679 1077.8 Q37.5546 1077.8 35.072 1079.61 Q32.5894 1081.43 32.5894 1085.15 Q32.5894 1089.7 35.6131 1092.34 Q38.6368 1094.99 43.8567 1094.99 L64.0042 1094.99 L64.0042 1100.87 L42.679 1100.87 Q37.5228 1100.87 35.072 1102.69 Q32.5894 1104.5 32.5894 1108.29 Q32.5894 1112.78 35.6449 1115.42 Q38.6686 1118.06 43.8567 1118.06 L64.0042 1118.06 L64.0042 1123.95 L28.3562 1123.95 L28.3562 1118.06 L33.8944 1118.06 Q30.616 1116.06 29.0564 1113.26 Q27.4968 1110.45 27.4968 1106.6 Q27.4968 1102.72 29.4702 1100.01 Q31.4436 1097.28 35.1993 1095.97 Z\" fill=\"#000000\" fill-rule=\"evenodd\" fill-opacity=\"1\" /><path clip-path=\"url(#clip120)\" d=\"M46.0847 1044.03 Q46.0847 1051.13 47.7079 1053.86 Q49.3312 1056.6 53.2461 1056.6 Q56.3653 1056.6 58.2114 1054.56 Q60.0256 1052.49 60.0256 1048.96 Q60.0256 1044.09 56.5881 1041.16 Q53.1188 1038.2 47.3897 1038.2 L46.0847 1038.2 L46.0847 1044.03 M43.6657 1032.35 L64.0042 1032.35 L64.0042 1038.2 L58.5933 1038.2 Q61.8398 1040.21 63.3994 1043.2 Q64.9272 1046.19 64.9272 1050.52 Q64.9272 1056 61.8716 1059.24 Q58.7843 1062.46 53.6281 1062.46 Q47.6125 1062.46 44.5569 1058.45 Q41.5014 1054.4 41.5014 1046.42 L41.5014 1038.2 L40.9285 1038.2 Q36.8862 1038.2 34.6901 1040.88 Q32.4621 1043.52 32.4621 1048.33 Q32.4621 1051.38 33.1941 1054.28 Q33.9262 1057.17 35.3903 1059.85 L29.9795 1059.85 Q28.7381 1056.63 28.1334 1053.61 Q27.4968 1050.58 27.4968 1047.72 Q27.4968 1039.99 31.5072 1036.17 Q35.5176 1032.35 43.6657 1032.35 Z\" fill=\"#000000\" fill-rule=\"evenodd\" fill-opacity=\"1\" /><path clip-path=\"url(#clip120)\" d=\"M14.479 1020.28 L14.479 1014.43 L64.0042 1014.43 L64.0042 1020.28 L14.479 1020.28 Z\" fill=\"#000000\" fill-rule=\"evenodd\" fill-opacity=\"1\" /><path clip-path=\"url(#clip120)\" d=\"M28.3562 1002.17 L28.3562 996.317 L64.0042 996.317 L64.0042 1002.17 L28.3562 1002.17 M14.479 1002.17 L14.479 996.317 L21.895 996.317 L21.895 1002.17 L14.479 1002.17 Z\" fill=\"#000000\" fill-rule=\"evenodd\" fill-opacity=\"1\" /><path clip-path=\"url(#clip120)\" d=\"M28.3562 986.61 L28.3562 958.791 L33.7034 958.791 L59.3254 980.817 L59.3254 958.791 L64.0042 958.791 L64.0042 987.405 L58.657 987.405 L33.035 965.38 L33.035 986.61 L28.3562 986.61 Z\" fill=\"#000000\" fill-rule=\"evenodd\" fill-opacity=\"1\" /><path clip-path=\"url(#clip120)\" d=\"M44.7161 919.356 L47.5806 919.356 L47.5806 946.283 Q53.6281 945.901 56.8109 942.654 Q59.9619 939.376 59.9619 933.551 Q59.9619 930.178 59.1344 927.027 Q58.3069 923.844 56.6518 920.725 L62.1899 920.725 Q63.5267 923.876 64.227 927.186 Q64.9272 930.496 64.9272 933.902 Q64.9272 942.432 59.9619 947.429 Q54.9967 952.394 46.5303 952.394 Q37.7774 952.394 32.6531 947.683 Q27.4968 942.941 27.4968 934.92 Q27.4968 927.727 32.1438 923.557 Q36.7589 919.356 44.7161 919.356 M42.9973 925.212 Q38.1912 925.276 35.3266 927.918 Q32.4621 930.528 32.4621 934.856 Q32.4621 939.758 35.2312 942.718 Q38.0002 945.646 43.0292 946.092 L42.9973 925.212 Z\" fill=\"#000000\" fill-rule=\"evenodd\" fill-opacity=\"1\" /><path clip-path=\"url(#clip120)\" d=\"M33.7671 886.286 L14.479 886.286 L14.479 880.43 L64.0042 880.43 L64.0042 886.286 L58.657 886.286 Q61.8398 888.132 63.3994 890.965 Q64.9272 893.766 64.9272 897.713 Q64.9272 904.174 59.771 908.248 Q54.6147 912.29 46.212 912.29 Q37.8093 912.29 32.6531 908.248 Q27.4968 904.174 27.4968 897.713 Q27.4968 893.766 29.0564 890.965 Q30.5842 888.132 33.7671 886.286 M46.212 906.243 Q52.6732 906.243 56.3653 903.601 Q60.0256 900.927 60.0256 896.28 Q60.0256 891.633 56.3653 888.96 Q52.6732 886.286 46.212 886.286 Q39.7508 886.286 36.0905 888.96 Q32.3984 891.633 32.3984 896.28 Q32.3984 900.927 36.0905 903.601 Q39.7508 906.243 46.212 906.243 Z\" fill=\"#000000\" fill-rule=\"evenodd\" fill-opacity=\"1\" /><path clip-path=\"url(#clip120)\" d=\"M35.1993 819.892 Q31.2526 817.696 29.3747 814.64 Q27.4968 811.585 27.4968 807.447 Q27.4968 801.877 31.4117 798.853 Q35.2948 795.829 42.4881 795.829 L64.0042 795.829 L64.0042 801.718 L42.679 801.718 Q37.5546 801.718 35.072 803.532 Q32.5894 805.346 32.5894 809.07 Q32.5894 813.622 35.6131 816.263 Q38.6368 818.905 43.8567 818.905 L64.0042 818.905 L64.0042 824.793 L42.679 824.793 Q37.5228 824.793 35.072 826.608 Q32.5894 828.422 32.5894 832.209 Q32.5894 836.697 35.6449 839.339 Q38.6686 841.981 43.8567 841.981 L64.0042 841.981 L64.0042 847.869 L28.3562 847.869 L28.3562 841.981 L33.8944 841.981 Q30.616 839.976 29.0564 837.175 Q27.4968 834.374 27.4968 830.523 Q27.4968 826.639 29.4702 823.934 Q31.4436 821.197 35.1993 819.892 Z\" fill=\"#000000\" fill-rule=\"evenodd\" fill-opacity=\"1\" /><path clip-path=\"url(#clip120)\" d=\"M49.9359 784.753 L28.3562 784.753 L28.3562 778.897 L49.7131 778.897 Q54.7739 778.897 57.3202 776.923 Q59.8346 774.95 59.8346 771.003 Q59.8346 766.261 56.8109 763.523 Q53.7872 760.754 48.5673 760.754 L28.3562 760.754 L28.3562 754.898 L64.0042 754.898 L64.0042 760.754 L58.5296 760.754 Q61.7762 762.887 63.3676 765.72 Q64.9272 768.521 64.9272 772.244 Q64.9272 778.387 61.1078 781.57 Q57.2883 784.753 49.9359 784.753 M27.4968 770.016 L27.4968 770.016 Z\" fill=\"#000000\" fill-rule=\"evenodd\" fill-opacity=\"1\" /><path clip-path=\"url(#clip120)\" d=\"M18.2347 737.042 L28.3562 737.042 L28.3562 724.979 L32.9077 724.979 L32.9077 737.042 L52.2594 737.042 Q56.6199 737.042 57.8613 735.864 Q59.1026 734.655 59.1026 730.995 L59.1026 724.979 L64.0042 724.979 L64.0042 730.995 Q64.0042 737.774 61.4897 740.352 Q58.9434 742.93 52.2594 742.93 L32.9077 742.93 L32.9077 747.227 L28.3562 747.227 L28.3562 742.93 L18.2347 742.93 L18.2347 737.042 Z\" fill=\"#000000\" fill-rule=\"evenodd\" fill-opacity=\"1\" /><path clip-path=\"url(#clip120)\" d=\"M49.9359 717.881 L28.3562 717.881 L28.3562 712.025 L49.7131 712.025 Q54.7739 712.025 57.3202 710.052 Q59.8346 708.078 59.8346 704.131 Q59.8346 699.389 56.8109 696.652 Q53.7872 693.883 48.5673 693.883 L28.3562 693.883 L28.3562 688.026 L64.0042 688.026 L64.0042 693.883 L58.5296 693.883 Q61.7762 696.015 63.3676 698.848 Q64.9272 701.649 64.9272 705.373 Q64.9272 711.516 61.1078 714.698 Q57.2883 717.881 49.9359 717.881 M27.4968 703.145 L27.4968 703.145 Z\" fill=\"#000000\" fill-rule=\"evenodd\" fill-opacity=\"1\" /><path clip-path=\"url(#clip120)\" d=\"M46.0847 659.762 Q46.0847 666.86 47.7079 669.597 Q49.3312 672.335 53.2461 672.335 Q56.3653 672.335 58.2114 670.298 Q60.0256 668.229 60.0256 664.696 Q60.0256 659.826 56.5881 656.898 Q53.1188 653.938 47.3897 653.938 L46.0847 653.938 L46.0847 659.762 M43.6657 648.081 L64.0042 648.081 L64.0042 653.938 L58.5933 653.938 Q61.8398 655.943 63.3994 658.935 Q64.9272 661.927 64.9272 666.255 Q64.9272 671.73 61.8716 674.976 Q58.7843 678.191 53.6281 678.191 Q47.6125 678.191 44.5569 674.181 Q41.5014 670.139 41.5014 662.15 L41.5014 653.938 L40.9285 653.938 Q36.8862 653.938 34.6901 656.611 Q32.4621 659.253 32.4621 664.059 Q32.4621 667.115 33.1941 670.011 Q33.9262 672.908 35.3903 675.581 L29.9795 675.581 Q28.7381 672.367 28.1334 669.343 Q27.4968 666.319 27.4968 663.455 Q27.4968 655.72 31.5072 651.901 Q35.5176 648.081 43.6657 648.081 Z\" fill=\"#000000\" fill-rule=\"evenodd\" fill-opacity=\"1\" /><path clip-path=\"url(#clip120)\" d=\"M14.479 636.018 L14.479 630.162 L64.0042 630.162 L64.0042 636.018 L14.479 636.018 Z\" fill=\"#000000\" fill-rule=\"evenodd\" fill-opacity=\"1\" /><path clip-path=\"url(#clip120)\" d=\"M28.3562 597.188 L28.3562 591.331 L64.0042 591.331 L64.0042 597.188 L28.3562 597.188 M14.479 597.188 L14.479 591.331 L21.895 591.331 L21.895 597.188 L14.479 597.188 Z\" fill=\"#000000\" fill-rule=\"evenodd\" fill-opacity=\"1\" /><path clip-path=\"url(#clip120)\" d=\"M42.4881 549.445 L64.0042 549.445 L64.0042 555.301 L42.679 555.301 Q37.6183 555.301 35.1038 557.275 Q32.5894 559.248 32.5894 563.195 Q32.5894 567.937 35.6131 570.674 Q38.6368 573.412 43.8567 573.412 L64.0042 573.412 L64.0042 579.3 L28.3562 579.3 L28.3562 573.412 L33.8944 573.412 Q30.6797 571.311 29.0883 568.478 Q27.4968 565.614 27.4968 561.89 Q27.4968 555.747 31.3163 552.596 Q35.1038 549.445 42.4881 549.445 Z\" fill=\"#000000\" fill-rule=\"evenodd\" fill-opacity=\"1\" /><path clip-path=\"url(#clip120)\" d=\"M14.479 519.717 L19.3487 519.717 L19.3487 525.319 Q19.3487 528.47 20.6219 529.711 Q21.895 530.921 25.2052 530.921 L28.3562 530.921 L28.3562 521.276 L32.9077 521.276 L32.9077 530.921 L64.0042 530.921 L64.0042 536.809 L32.9077 536.809 L32.9077 542.411 L28.3562 542.411 L28.3562 536.809 L25.8736 536.809 Q19.9216 536.809 17.2162 534.04 Q14.479 531.271 14.479 525.255 L14.479 519.717 Z\" fill=\"#000000\" fill-rule=\"evenodd\" fill-opacity=\"1\" /><path clip-path=\"url(#clip120)\" d=\"M32.4621 501.002 Q32.4621 505.712 36.1542 508.45 Q39.8145 511.187 46.212 511.187 Q52.6095 511.187 56.3017 508.481 Q59.9619 505.744 59.9619 501.002 Q59.9619 496.323 56.2698 493.586 Q52.5777 490.848 46.212 490.848 Q39.8781 490.848 36.186 493.586 Q32.4621 496.323 32.4621 501.002 M27.4968 501.002 Q27.4968 493.363 32.4621 489.002 Q37.4273 484.642 46.212 484.642 Q54.9649 484.642 59.9619 489.002 Q64.9272 493.363 64.9272 501.002 Q64.9272 508.672 59.9619 513.033 Q54.9649 517.362 46.212 517.362 Q37.4273 517.362 32.4621 513.033 Q27.4968 508.672 27.4968 501.002 Z\" fill=\"#000000\" fill-rule=\"evenodd\" fill-opacity=\"1\" /><path clip-path=\"url(#clip120)\" d=\"M33.8307 454.277 Q33.2578 455.264 33.0032 456.442 Q32.7167 457.588 32.7167 458.988 Q32.7167 463.953 35.9632 466.627 Q39.1779 469.269 45.2253 469.269 L64.0042 469.269 L64.0042 475.157 L28.3562 475.157 L28.3562 469.269 L33.8944 469.269 Q30.6479 467.423 29.0883 464.463 Q27.4968 461.502 27.4968 457.269 Q27.4968 456.665 27.5923 455.933 Q27.656 455.2 27.8151 454.309 L33.8307 454.277 Z\" fill=\"#000000\" fill-rule=\"evenodd\" fill-opacity=\"1\" /><path clip-path=\"url(#clip120)\" d=\"M35.1993 421.526 Q31.2526 419.33 29.3747 416.274 Q27.4968 413.219 27.4968 409.081 Q27.4968 403.511 31.4117 400.487 Q35.2948 397.463 42.4881 397.463 L64.0042 397.463 L64.0042 403.352 L42.679 403.352 Q37.5546 403.352 35.072 405.166 Q32.5894 406.98 32.5894 410.704 Q32.5894 415.256 35.6131 417.897 Q38.6368 420.539 43.8567 420.539 L64.0042 420.539 L64.0042 426.427 L42.679 426.427 Q37.5228 426.427 35.072 428.242 Q32.5894 430.056 32.5894 433.844 Q32.5894 438.331 35.6449 440.973 Q38.6686 443.615 43.8567 443.615 L64.0042 443.615 L64.0042 449.503 L28.3562 449.503 L28.3562 443.615 L33.8944 443.615 Q30.616 441.61 29.0564 438.809 Q27.4968 436.008 27.4968 432.157 Q27.4968 428.274 29.4702 425.568 Q31.4436 422.831 35.1993 421.526 Z\" fill=\"#000000\" fill-rule=\"evenodd\" fill-opacity=\"1\" /><path clip-path=\"url(#clip120)\" d=\"M46.0847 369.582 Q46.0847 376.679 47.7079 379.417 Q49.3312 382.154 53.2461 382.154 Q56.3653 382.154 58.2114 380.117 Q60.0256 378.048 60.0256 374.515 Q60.0256 369.645 56.5881 366.717 Q53.1188 363.757 47.3897 363.757 L46.0847 363.757 L46.0847 369.582 M43.6657 357.901 L64.0042 357.901 L64.0042 363.757 L58.5933 363.757 Q61.8398 365.762 63.3994 368.754 Q64.9272 371.746 64.9272 376.075 Q64.9272 381.549 61.8716 384.796 Q58.7843 388.01 53.6281 388.01 Q47.6125 388.01 44.5569 384 Q41.5014 379.958 41.5014 371.969 L41.5014 363.757 L40.9285 363.757 Q36.8862 363.757 34.6901 366.431 Q32.4621 369.072 32.4621 373.879 Q32.4621 376.934 33.1941 379.83 Q33.9262 382.727 35.3903 385.4 L29.9795 385.4 Q28.7381 382.186 28.1334 379.162 Q27.4968 376.138 27.4968 373.274 Q27.4968 365.539 31.5072 361.72 Q35.5176 357.901 43.6657 357.901 Z\" fill=\"#000000\" fill-rule=\"evenodd\" fill-opacity=\"1\" /><path clip-path=\"url(#clip120)\" d=\"M18.2347 340.045 L28.3562 340.045 L28.3562 327.982 L32.9077 327.982 L32.9077 340.045 L52.2594 340.045 Q56.6199 340.045 57.8613 338.867 Q59.1026 337.658 59.1026 333.997 L59.1026 327.982 L64.0042 327.982 L64.0042 333.997 Q64.0042 340.777 61.4897 343.355 Q58.9434 345.933 52.2594 345.933 L32.9077 345.933 L32.9077 350.23 L28.3562 350.23 L28.3562 345.933 L18.2347 345.933 L18.2347 340.045 Z\" fill=\"#000000\" fill-rule=\"evenodd\" fill-opacity=\"1\" /><path clip-path=\"url(#clip120)\" d=\"M28.3562 320.279 L28.3562 314.423 L64.0042 314.423 L64.0042 320.279 L28.3562 320.279 M14.479 320.279 L14.479 314.423 L21.895 314.423 L21.895 320.279 L14.479 320.279 Z\" fill=\"#000000\" fill-rule=\"evenodd\" fill-opacity=\"1\" /><path clip-path=\"url(#clip120)\" d=\"M32.4621 288.355 Q32.4621 293.066 36.1542 295.803 Q39.8145 298.54 46.212 298.54 Q52.6095 298.54 56.3017 295.835 Q59.9619 293.098 59.9619 288.355 Q59.9619 283.676 56.2698 280.939 Q52.5777 278.202 46.212 278.202 Q39.8781 278.202 36.186 280.939 Q32.4621 283.676 32.4621 288.355 M27.4968 288.355 Q27.4968 280.716 32.4621 276.356 Q37.4273 271.995 46.212 271.995 Q54.9649 271.995 59.9619 276.356 Q64.9272 280.716 64.9272 288.355 Q64.9272 296.026 59.9619 300.386 Q54.9649 304.715 46.212 304.715 Q37.4273 304.715 32.4621 300.386 Q27.4968 296.026 27.4968 288.355 Z\" fill=\"#000000\" fill-rule=\"evenodd\" fill-opacity=\"1\" /><path clip-path=\"url(#clip120)\" d=\"M42.4881 232.655 L64.0042 232.655 L64.0042 238.512 L42.679 238.512 Q37.6183 238.512 35.1038 240.485 Q32.5894 242.459 32.5894 246.405 Q32.5894 251.148 35.6131 253.885 Q38.6368 256.622 43.8567 256.622 L64.0042 256.622 L64.0042 262.511 L28.3562 262.511 L28.3562 256.622 L33.8944 256.622 Q30.6797 254.522 29.0883 251.689 Q27.4968 248.824 27.4968 245.1 Q27.4968 238.957 31.3163 235.806 Q35.1038 232.655 42.4881 232.655 Z\" fill=\"#000000\" fill-rule=\"evenodd\" fill-opacity=\"1\" /><polyline clip-path=\"url(#clip122)\" style=\"stroke:#009af9; stroke-linecap:butt; stroke-linejoin:round; stroke-width:4; stroke-opacity:1; fill:none\" points=\"\n",
       "  309.067,86.1857 529.53,86.1857 749.992,92.7324 970.455,223.871 1190.92,790.928 1411.38,1202.52 1631.84,1353.78 1852.31,1365.82 2072.77,1380.57 2293.23,1373.61 \n",
       "  \n",
       "  \"/>\n",
       "<polyline clip-path=\"url(#clip122)\" style=\"stroke:#009af9; stroke-linecap:butt; stroke-linejoin:round; stroke-width:4; stroke-opacity:1; fill:none\" points=\"\n",
       "  309.067,86.1857 309.067,86.1857 \n",
       "  \"/>\n",
       "<polyline clip-path=\"url(#clip122)\" style=\"stroke:#009af9; stroke-linecap:butt; stroke-linejoin:round; stroke-width:4; stroke-opacity:1; fill:none\" points=\"\n",
       "  529.53,86.1857 529.53,86.1857 \n",
       "  \"/>\n",
       "<polyline clip-path=\"url(#clip122)\" style=\"stroke:#009af9; stroke-linecap:butt; stroke-linejoin:round; stroke-width:4; stroke-opacity:1; fill:none\" points=\"\n",
       "  749.992,93.9713 749.992,91.4935 \n",
       "  \"/>\n",
       "<polyline clip-path=\"url(#clip122)\" style=\"stroke:#009af9; stroke-linecap:butt; stroke-linejoin:round; stroke-width:4; stroke-opacity:1; fill:none\" points=\"\n",
       "  970.455,254.165 970.455,193.578 \n",
       "  \"/>\n",
       "<polyline clip-path=\"url(#clip122)\" style=\"stroke:#009af9; stroke-linecap:butt; stroke-linejoin:round; stroke-width:4; stroke-opacity:1; fill:none\" points=\"\n",
       "  1190.92,813.888 1190.92,767.968 \n",
       "  \"/>\n",
       "<polyline clip-path=\"url(#clip122)\" style=\"stroke:#009af9; stroke-linecap:butt; stroke-linejoin:round; stroke-width:4; stroke-opacity:1; fill:none\" points=\"\n",
       "  1411.38,1222.85 1411.38,1182.19 \n",
       "  \"/>\n",
       "<polyline clip-path=\"url(#clip122)\" style=\"stroke:#009af9; stroke-linecap:butt; stroke-linejoin:round; stroke-width:4; stroke-opacity:1; fill:none\" points=\"\n",
       "  1631.84,1363.66 1631.84,1343.9 \n",
       "  \"/>\n",
       "<polyline clip-path=\"url(#clip122)\" style=\"stroke:#009af9; stroke-linecap:butt; stroke-linejoin:round; stroke-width:4; stroke-opacity:1; fill:none\" points=\"\n",
       "  1852.31,1366.24 1852.31,1365.4 \n",
       "  \"/>\n",
       "<polyline clip-path=\"url(#clip122)\" style=\"stroke:#009af9; stroke-linecap:butt; stroke-linejoin:round; stroke-width:4; stroke-opacity:1; fill:none\" points=\"\n",
       "  2072.77,1384.24 2072.77,1376.89 \n",
       "  \"/>\n",
       "<polyline clip-path=\"url(#clip122)\" style=\"stroke:#009af9; stroke-linecap:butt; stroke-linejoin:round; stroke-width:4; stroke-opacity:1; fill:none\" points=\"\n",
       "  2293.23,1380.57 2293.23,1366.64 \n",
       "  \"/>\n",
       "<line clip-path=\"url(#clip122)\" x1=\"325.067\" y1=\"86.1857\" x2=\"293.067\" y2=\"86.1857\" style=\"stroke:#009af9; stroke-width:3.2; stroke-opacity:1\"/>\n",
       "<line clip-path=\"url(#clip122)\" x1=\"325.067\" y1=\"86.1857\" x2=\"293.067\" y2=\"86.1857\" style=\"stroke:#009af9; stroke-width:3.2; stroke-opacity:1\"/>\n",
       "<line clip-path=\"url(#clip122)\" x1=\"545.53\" y1=\"86.1857\" x2=\"513.53\" y2=\"86.1857\" style=\"stroke:#009af9; stroke-width:3.2; stroke-opacity:1\"/>\n",
       "<line clip-path=\"url(#clip122)\" x1=\"545.53\" y1=\"86.1857\" x2=\"513.53\" y2=\"86.1857\" style=\"stroke:#009af9; stroke-width:3.2; stroke-opacity:1\"/>\n",
       "<line clip-path=\"url(#clip122)\" x1=\"765.992\" y1=\"93.9713\" x2=\"733.992\" y2=\"93.9713\" style=\"stroke:#009af9; stroke-width:3.2; stroke-opacity:1\"/>\n",
       "<line clip-path=\"url(#clip122)\" x1=\"765.992\" y1=\"91.4935\" x2=\"733.992\" y2=\"91.4935\" style=\"stroke:#009af9; stroke-width:3.2; stroke-opacity:1\"/>\n",
       "<line clip-path=\"url(#clip122)\" x1=\"986.455\" y1=\"254.165\" x2=\"954.455\" y2=\"254.165\" style=\"stroke:#009af9; stroke-width:3.2; stroke-opacity:1\"/>\n",
       "<line clip-path=\"url(#clip122)\" x1=\"986.455\" y1=\"193.578\" x2=\"954.455\" y2=\"193.578\" style=\"stroke:#009af9; stroke-width:3.2; stroke-opacity:1\"/>\n",
       "<line clip-path=\"url(#clip122)\" x1=\"1206.92\" y1=\"813.888\" x2=\"1174.92\" y2=\"813.888\" style=\"stroke:#009af9; stroke-width:3.2; stroke-opacity:1\"/>\n",
       "<line clip-path=\"url(#clip122)\" x1=\"1206.92\" y1=\"767.968\" x2=\"1174.92\" y2=\"767.968\" style=\"stroke:#009af9; stroke-width:3.2; stroke-opacity:1\"/>\n",
       "<line clip-path=\"url(#clip122)\" x1=\"1427.38\" y1=\"1222.85\" x2=\"1395.38\" y2=\"1222.85\" style=\"stroke:#009af9; stroke-width:3.2; stroke-opacity:1\"/>\n",
       "<line clip-path=\"url(#clip122)\" x1=\"1427.38\" y1=\"1182.19\" x2=\"1395.38\" y2=\"1182.19\" style=\"stroke:#009af9; stroke-width:3.2; stroke-opacity:1\"/>\n",
       "<line clip-path=\"url(#clip122)\" x1=\"1647.84\" y1=\"1363.66\" x2=\"1615.84\" y2=\"1363.66\" style=\"stroke:#009af9; stroke-width:3.2; stroke-opacity:1\"/>\n",
       "<line clip-path=\"url(#clip122)\" x1=\"1647.84\" y1=\"1343.9\" x2=\"1615.84\" y2=\"1343.9\" style=\"stroke:#009af9; stroke-width:3.2; stroke-opacity:1\"/>\n",
       "<line clip-path=\"url(#clip122)\" x1=\"1868.31\" y1=\"1366.24\" x2=\"1836.31\" y2=\"1366.24\" style=\"stroke:#009af9; stroke-width:3.2; stroke-opacity:1\"/>\n",
       "<line clip-path=\"url(#clip122)\" x1=\"1868.31\" y1=\"1365.4\" x2=\"1836.31\" y2=\"1365.4\" style=\"stroke:#009af9; stroke-width:3.2; stroke-opacity:1\"/>\n",
       "<line clip-path=\"url(#clip122)\" x1=\"2088.77\" y1=\"1384.24\" x2=\"2056.77\" y2=\"1384.24\" style=\"stroke:#009af9; stroke-width:3.2; stroke-opacity:1\"/>\n",
       "<line clip-path=\"url(#clip122)\" x1=\"2088.77\" y1=\"1376.89\" x2=\"2056.77\" y2=\"1376.89\" style=\"stroke:#009af9; stroke-width:3.2; stroke-opacity:1\"/>\n",
       "<line clip-path=\"url(#clip122)\" x1=\"2309.23\" y1=\"1380.57\" x2=\"2277.23\" y2=\"1380.57\" style=\"stroke:#009af9; stroke-width:3.2; stroke-opacity:1\"/>\n",
       "<line clip-path=\"url(#clip122)\" x1=\"2309.23\" y1=\"1366.64\" x2=\"2277.23\" y2=\"1366.64\" style=\"stroke:#009af9; stroke-width:3.2; stroke-opacity:1\"/>\n",
       "<polyline clip-path=\"url(#clip122)\" style=\"stroke:#e26f46; stroke-linecap:butt; stroke-linejoin:round; stroke-width:4; stroke-opacity:1; fill:none\" points=\"\n",
       "  309.067,86.1857 529.53,86.1857 749.992,88.3314 970.455,209.842 1190.92,574.711 1411.38,1114.17 1631.84,1300.06 1852.31,1342.52 2072.77,1353.63 2293.23,1362.32 \n",
       "  \n",
       "  \"/>\n",
       "<path clip-path=\"url(#clip120)\" d=\"\n",
       "M1819.31 248.629 L2282.65 248.629 L2282.65 93.1086 L1819.31 93.1086  Z\n",
       "  \" fill=\"#ffffff\" fill-rule=\"evenodd\" fill-opacity=\"1\"/>\n",
       "<polyline clip-path=\"url(#clip120)\" style=\"stroke:#000000; stroke-linecap:butt; stroke-linejoin:round; stroke-width:4; stroke-opacity:1; fill:none\" points=\"\n",
       "  1819.31,248.629 2282.65,248.629 2282.65,93.1086 1819.31,93.1086 1819.31,248.629 \n",
       "  \"/>\n",
       "<polyline clip-path=\"url(#clip120)\" style=\"stroke:#009af9; stroke-linecap:butt; stroke-linejoin:round; stroke-width:4; stroke-opacity:1; fill:none\" points=\"\n",
       "  1842.68,144.949 1982.89,144.949 \n",
       "  \"/>\n",
       "<path clip-path=\"url(#clip120)\" d=\"M2006.26 127.669 L2028.11 127.669 L2028.11 131.604 L2010.94 131.604 L2010.94 141.835 L2027.39 141.835 L2027.39 145.77 L2010.94 145.77 L2010.94 158.293 L2028.53 158.293 L2028.53 162.229 L2006.26 162.229 L2006.26 127.669 Z\" fill=\"#000000\" fill-rule=\"evenodd\" fill-opacity=\"1\" /><path clip-path=\"url(#clip120)\" d=\"M2036.03 126.21 L2040.29 126.21 L2040.29 162.229 L2036.03 162.229 L2036.03 126.21 Z\" fill=\"#000000\" fill-rule=\"evenodd\" fill-opacity=\"1\" /><path clip-path=\"url(#clip120)\" d=\"M2049.2 126.21 L2053.46 126.21 L2053.46 162.229 L2049.2 162.229 L2049.2 126.21 Z\" fill=\"#000000\" fill-rule=\"evenodd\" fill-opacity=\"1\" /><path clip-path=\"url(#clip120)\" d=\"M2062.37 136.303 L2066.63 136.303 L2066.63 162.229 L2062.37 162.229 L2062.37 136.303 M2062.37 126.21 L2066.63 126.21 L2066.63 131.604 L2062.37 131.604 L2062.37 126.21 Z\" fill=\"#000000\" fill-rule=\"evenodd\" fill-opacity=\"1\" /><path clip-path=\"url(#clip120)\" d=\"M2079.66 158.34 L2079.66 172.09 L2075.38 172.09 L2075.38 136.303 L2079.66 136.303 L2079.66 140.238 Q2081 137.923 2083.04 136.812 Q2085.1 135.678 2087.95 135.678 Q2092.67 135.678 2095.61 139.428 Q2098.57 143.178 2098.57 149.289 Q2098.57 155.4 2095.61 159.15 Q2092.67 162.9 2087.95 162.9 Q2085.1 162.9 2083.04 161.789 Q2081 160.655 2079.66 158.34 M2094.15 149.289 Q2094.15 144.59 2092.21 141.928 Q2090.29 139.243 2086.91 139.243 Q2083.53 139.243 2081.58 141.928 Q2079.66 144.59 2079.66 149.289 Q2079.66 153.988 2081.58 156.673 Q2083.53 159.335 2086.91 159.335 Q2090.29 159.335 2092.21 156.673 Q2094.15 153.988 2094.15 149.289 Z\" fill=\"#000000\" fill-rule=\"evenodd\" fill-opacity=\"1\" /><path clip-path=\"url(#clip120)\" d=\"M2122.16 137.067 L2122.16 141.094 Q2120.36 140.169 2118.41 139.706 Q2116.47 139.243 2114.38 139.243 Q2111.21 139.243 2109.62 140.215 Q2108.04 141.187 2108.04 143.131 Q2108.04 144.613 2109.18 145.469 Q2110.31 146.303 2113.74 147.067 L2115.19 147.391 Q2119.73 148.363 2121.63 150.145 Q2123.55 151.905 2123.55 155.076 Q2123.55 158.687 2120.68 160.793 Q2117.83 162.9 2112.83 162.9 Q2110.75 162.9 2108.48 162.483 Q2106.24 162.09 2103.74 161.28 L2103.74 156.881 Q2106.1 158.108 2108.39 158.733 Q2110.68 159.335 2112.93 159.335 Q2115.93 159.335 2117.55 158.317 Q2119.18 157.275 2119.18 155.4 Q2119.18 153.664 2117.99 152.738 Q2116.84 151.812 2112.88 150.956 L2111.4 150.608 Q2107.44 149.775 2105.68 148.062 Q2103.92 146.326 2103.92 143.317 Q2103.92 139.659 2106.51 137.669 Q2109.11 135.678 2113.87 135.678 Q2116.24 135.678 2118.32 136.025 Q2120.4 136.372 2122.16 137.067 Z\" fill=\"#000000\" fill-rule=\"evenodd\" fill-opacity=\"1\" /><path clip-path=\"url(#clip120)\" d=\"M2140.38 139.289 Q2136.95 139.289 2134.96 141.974 Q2132.97 144.636 2132.97 149.289 Q2132.97 153.942 2134.94 156.627 Q2136.93 159.289 2140.38 159.289 Q2143.78 159.289 2145.77 156.604 Q2147.76 153.918 2147.76 149.289 Q2147.76 144.682 2145.77 141.997 Q2143.78 139.289 2140.38 139.289 M2140.38 135.678 Q2145.93 135.678 2149.11 139.289 Q2152.28 142.9 2152.28 149.289 Q2152.28 155.655 2149.11 159.289 Q2145.93 162.9 2140.38 162.9 Q2134.8 162.9 2131.63 159.289 Q2128.48 155.655 2128.48 149.289 Q2128.48 142.9 2131.63 139.289 Q2134.8 135.678 2140.38 135.678 Z\" fill=\"#000000\" fill-rule=\"evenodd\" fill-opacity=\"1\" /><path clip-path=\"url(#clip120)\" d=\"M2159.34 136.303 L2163.6 136.303 L2163.6 162.229 L2159.34 162.229 L2159.34 136.303 M2159.34 126.21 L2163.6 126.21 L2163.6 131.604 L2159.34 131.604 L2159.34 126.21 Z\" fill=\"#000000\" fill-rule=\"evenodd\" fill-opacity=\"1\" /><path clip-path=\"url(#clip120)\" d=\"M2189.57 140.238 L2189.57 126.21 L2193.83 126.21 L2193.83 162.229 L2189.57 162.229 L2189.57 158.34 Q2188.23 160.655 2186.17 161.789 Q2184.13 162.9 2181.26 162.9 Q2176.56 162.9 2173.6 159.15 Q2170.66 155.4 2170.66 149.289 Q2170.66 143.178 2173.6 139.428 Q2176.56 135.678 2181.26 135.678 Q2184.13 135.678 2186.17 136.812 Q2188.23 137.923 2189.57 140.238 M2175.05 149.289 Q2175.05 153.988 2176.98 156.673 Q2178.92 159.335 2182.3 159.335 Q2185.68 159.335 2187.62 156.673 Q2189.57 153.988 2189.57 149.289 Q2189.57 144.59 2187.62 141.928 Q2185.68 139.243 2182.3 139.243 Q2178.92 139.243 2176.98 141.928 Q2175.05 144.59 2175.05 149.289 Z\" fill=\"#000000\" fill-rule=\"evenodd\" fill-opacity=\"1\" /><path clip-path=\"url(#clip120)\" d=\"M2214.38 149.196 Q2209.22 149.196 2207.23 150.377 Q2205.24 151.557 2205.24 154.405 Q2205.24 156.673 2206.72 158.016 Q2208.23 159.335 2210.8 159.335 Q2214.34 159.335 2216.47 156.835 Q2218.62 154.312 2218.62 150.145 L2218.62 149.196 L2214.38 149.196 M2222.88 147.437 L2222.88 162.229 L2218.62 162.229 L2218.62 158.293 Q2217.16 160.655 2214.98 161.789 Q2212.81 162.9 2209.66 162.9 Q2205.68 162.9 2203.32 160.678 Q2200.98 158.432 2200.98 154.682 Q2200.98 150.307 2203.9 148.085 Q2206.84 145.863 2212.65 145.863 L2218.62 145.863 L2218.62 145.446 Q2218.62 142.507 2216.67 140.909 Q2214.75 139.289 2211.26 139.289 Q2209.04 139.289 2206.93 139.821 Q2204.82 140.354 2202.88 141.419 L2202.88 137.483 Q2205.22 136.581 2207.42 136.141 Q2209.61 135.678 2211.7 135.678 Q2217.32 135.678 2220.1 138.594 Q2222.88 141.511 2222.88 147.437 Z\" fill=\"#000000\" fill-rule=\"evenodd\" fill-opacity=\"1\" /><path clip-path=\"url(#clip120)\" d=\"M2231.65 126.21 L2235.91 126.21 L2235.91 162.229 L2231.65 162.229 L2231.65 126.21 Z\" fill=\"#000000\" fill-rule=\"evenodd\" fill-opacity=\"1\" /><polyline clip-path=\"url(#clip120)\" style=\"stroke:#e26f46; stroke-linecap:butt; stroke-linejoin:round; stroke-width:4; stroke-opacity:1; fill:none\" points=\"\n",
       "  1842.68,196.789 1982.89,196.789 \n",
       "  \"/>\n",
       "<path clip-path=\"url(#clip120)\" d=\"M2006.26 179.509 L2010.94 179.509 L2010.94 210.133 L2027.76 210.133 L2027.76 214.069 L2006.26 214.069 L2006.26 179.509 Z\" fill=\"#000000\" fill-rule=\"evenodd\" fill-opacity=\"1\" /><path clip-path=\"url(#clip120)\" d=\"M2041.7 191.129 Q2038.27 191.129 2036.28 193.814 Q2034.29 196.476 2034.29 201.129 Q2034.29 205.782 2036.26 208.467 Q2038.25 211.129 2041.7 211.129 Q2045.1 211.129 2047.09 208.444 Q2049.08 205.758 2049.08 201.129 Q2049.08 196.522 2047.09 193.837 Q2045.1 191.129 2041.7 191.129 M2041.7 187.518 Q2047.25 187.518 2050.43 191.129 Q2053.6 194.74 2053.6 201.129 Q2053.6 207.495 2050.43 211.129 Q2047.25 214.74 2041.7 214.74 Q2036.12 214.74 2032.95 211.129 Q2029.8 207.495 2029.8 201.129 Q2029.8 194.74 2032.95 191.129 Q2036.12 187.518 2041.7 187.518 Z\" fill=\"#000000\" fill-rule=\"evenodd\" fill-opacity=\"1\" /><path clip-path=\"url(#clip120)\" d=\"M2060.22 203.837 L2060.22 188.143 L2064.48 188.143 L2064.48 203.675 Q2064.48 207.356 2065.91 209.208 Q2067.35 211.036 2070.22 211.036 Q2073.67 211.036 2075.66 208.837 Q2077.67 206.638 2077.67 202.842 L2077.67 188.143 L2081.93 188.143 L2081.93 214.069 L2077.67 214.069 L2077.67 210.087 Q2076.12 212.448 2074.06 213.606 Q2072.02 214.74 2069.31 214.74 Q2064.85 214.74 2062.53 211.962 Q2060.22 209.184 2060.22 203.837 M2070.93 187.518 L2070.93 187.518 Z\" fill=\"#000000\" fill-rule=\"evenodd\" fill-opacity=\"1\" /><path clip-path=\"url(#clip120)\" d=\"M2087.65 188.143 L2092.16 188.143 L2100.26 209.902 L2108.37 188.143 L2112.88 188.143 L2103.16 214.069 L2097.37 214.069 L2087.65 188.143 Z\" fill=\"#000000\" fill-rule=\"evenodd\" fill-opacity=\"1\" /><path clip-path=\"url(#clip120)\" d=\"M2130.54 201.036 Q2125.38 201.036 2123.39 202.217 Q2121.4 203.397 2121.4 206.245 Q2121.4 208.513 2122.88 209.856 Q2124.38 211.175 2126.95 211.175 Q2130.49 211.175 2132.62 208.675 Q2134.78 206.152 2134.78 201.985 L2134.78 201.036 L2130.54 201.036 M2139.04 199.277 L2139.04 214.069 L2134.78 214.069 L2134.78 210.133 Q2133.32 212.495 2131.14 213.629 Q2128.97 214.74 2125.82 214.74 Q2121.84 214.74 2119.48 212.518 Q2117.14 210.272 2117.14 206.522 Q2117.14 202.147 2120.05 199.925 Q2122.99 197.703 2128.8 197.703 L2134.78 197.703 L2134.78 197.286 Q2134.78 194.347 2132.83 192.749 Q2130.91 191.129 2127.42 191.129 Q2125.19 191.129 2123.09 191.661 Q2120.98 192.194 2119.04 193.259 L2119.04 189.323 Q2121.37 188.421 2123.57 187.981 Q2125.77 187.518 2127.86 187.518 Q2133.48 187.518 2136.26 190.434 Q2139.04 193.351 2139.04 199.277 Z\" fill=\"#000000\" fill-rule=\"evenodd\" fill-opacity=\"1\" /><path clip-path=\"url(#clip120)\" d=\"M2147.81 188.143 L2152.07 188.143 L2152.07 214.069 L2147.81 214.069 L2147.81 188.143 M2147.81 178.05 L2152.07 178.05 L2152.07 183.444 L2147.81 183.444 L2147.81 178.05 Z\" fill=\"#000000\" fill-rule=\"evenodd\" fill-opacity=\"1\" /><path clip-path=\"url(#clip120)\" d=\"M2182.53 198.421 L2182.53 214.069 L2178.27 214.069 L2178.27 198.559 Q2178.27 194.879 2176.84 193.05 Q2175.4 191.222 2172.53 191.222 Q2169.08 191.222 2167.09 193.421 Q2165.1 195.62 2165.1 199.416 L2165.1 214.069 L2160.82 214.069 L2160.82 188.143 L2165.1 188.143 L2165.1 192.171 Q2166.63 189.833 2168.69 188.675 Q2170.77 187.518 2173.48 187.518 Q2177.95 187.518 2180.24 190.296 Q2182.53 193.05 2182.53 198.421 Z\" fill=\"#000000\" fill-rule=\"evenodd\" fill-opacity=\"1\" /></svg>\n"
      ],
      "text/html": [
       "<?xml version=\"1.0\" encoding=\"utf-8\"?>\n",
       "<svg xmlns=\"http://www.w3.org/2000/svg\" xmlns:xlink=\"http://www.w3.org/1999/xlink\" width=\"600\" height=\"400\" viewBox=\"0 0 2400 1600\">\n",
       "<defs>\n",
       "  <clipPath id=\"clip170\">\n",
       "    <rect x=\"0\" y=\"0\" width=\"2400\" height=\"1600\"/>\n",
       "  </clipPath>\n",
       "</defs>\n",
       "<path clip-path=\"url(#clip170)\" d=\"\n",
       "M0 1600 L2400 1600 L2400 0 L0 0  Z\n",
       "  \" fill=\"#ffffff\" fill-rule=\"evenodd\" fill-opacity=\"1\"/>\n",
       "<defs>\n",
       "  <clipPath id=\"clip171\">\n",
       "    <rect x=\"480\" y=\"0\" width=\"1681\" height=\"1600\"/>\n",
       "  </clipPath>\n",
       "</defs>\n",
       "<path clip-path=\"url(#clip170)\" d=\"\n",
       "M249.542 1423.18 L2352.76 1423.18 L2352.76 47.2441 L249.542 47.2441  Z\n",
       "  \" fill=\"#ffffff\" fill-rule=\"evenodd\" fill-opacity=\"1\"/>\n",
       "<defs>\n",
       "  <clipPath id=\"clip172\">\n",
       "    <rect x=\"249\" y=\"47\" width=\"2104\" height=\"1377\"/>\n",
       "  </clipPath>\n",
       "</defs>\n",
       "<polyline clip-path=\"url(#clip172)\" style=\"stroke:#000000; stroke-linecap:butt; stroke-linejoin:round; stroke-width:2; stroke-opacity:0.1; fill:none\" points=\"\n",
       "  529.53,1423.18 529.53,47.2441 \n",
       "  \"/>\n",
       "<polyline clip-path=\"url(#clip172)\" style=\"stroke:#000000; stroke-linecap:butt; stroke-linejoin:round; stroke-width:2; stroke-opacity:0.1; fill:none\" points=\"\n",
       "  970.455,1423.18 970.455,47.2441 \n",
       "  \"/>\n",
       "<polyline clip-path=\"url(#clip172)\" style=\"stroke:#000000; stroke-linecap:butt; stroke-linejoin:round; stroke-width:2; stroke-opacity:0.1; fill:none\" points=\"\n",
       "  1411.38,1423.18 1411.38,47.2441 \n",
       "  \"/>\n",
       "<polyline clip-path=\"url(#clip172)\" style=\"stroke:#000000; stroke-linecap:butt; stroke-linejoin:round; stroke-width:2; stroke-opacity:0.1; fill:none\" points=\"\n",
       "  1852.31,1423.18 1852.31,47.2441 \n",
       "  \"/>\n",
       "<polyline clip-path=\"url(#clip172)\" style=\"stroke:#000000; stroke-linecap:butt; stroke-linejoin:round; stroke-width:2; stroke-opacity:0.1; fill:none\" points=\"\n",
       "  2293.23,1423.18 2293.23,47.2441 \n",
       "  \"/>\n",
       "<polyline clip-path=\"url(#clip170)\" style=\"stroke:#000000; stroke-linecap:butt; stroke-linejoin:round; stroke-width:4; stroke-opacity:1; fill:none\" points=\"\n",
       "  249.542,1423.18 2352.76,1423.18 \n",
       "  \"/>\n",
       "<polyline clip-path=\"url(#clip170)\" style=\"stroke:#000000; stroke-linecap:butt; stroke-linejoin:round; stroke-width:4; stroke-opacity:1; fill:none\" points=\"\n",
       "  529.53,1423.18 529.53,1404.28 \n",
       "  \"/>\n",
       "<polyline clip-path=\"url(#clip170)\" style=\"stroke:#000000; stroke-linecap:butt; stroke-linejoin:round; stroke-width:4; stroke-opacity:1; fill:none\" points=\"\n",
       "  970.455,1423.18 970.455,1404.28 \n",
       "  \"/>\n",
       "<polyline clip-path=\"url(#clip170)\" style=\"stroke:#000000; stroke-linecap:butt; stroke-linejoin:round; stroke-width:4; stroke-opacity:1; fill:none\" points=\"\n",
       "  1411.38,1423.18 1411.38,1404.28 \n",
       "  \"/>\n",
       "<polyline clip-path=\"url(#clip170)\" style=\"stroke:#000000; stroke-linecap:butt; stroke-linejoin:round; stroke-width:4; stroke-opacity:1; fill:none\" points=\"\n",
       "  1852.31,1423.18 1852.31,1404.28 \n",
       "  \"/>\n",
       "<polyline clip-path=\"url(#clip170)\" style=\"stroke:#000000; stroke-linecap:butt; stroke-linejoin:round; stroke-width:4; stroke-opacity:1; fill:none\" points=\"\n",
       "  2293.23,1423.18 2293.23,1404.28 \n",
       "  \"/>\n",
       "<path clip-path=\"url(#clip170)\" d=\"M507.713 1454.1 Q504.102 1454.1 502.273 1457.66 Q500.467 1461.2 500.467 1468.33 Q500.467 1475.44 502.273 1479.01 Q504.102 1482.55 507.713 1482.55 Q511.347 1482.55 513.152 1479.01 Q514.981 1475.44 514.981 1468.33 Q514.981 1461.2 513.152 1457.66 Q511.347 1454.1 507.713 1454.1 M507.713 1450.39 Q513.523 1450.39 516.578 1455 Q519.657 1459.58 519.657 1468.33 Q519.657 1477.06 516.578 1481.67 Q513.523 1486.25 507.713 1486.25 Q501.902 1486.25 498.824 1481.67 Q495.768 1477.06 495.768 1468.33 Q495.768 1459.58 498.824 1455 Q501.902 1450.39 507.713 1450.39 Z\" fill=\"#000000\" fill-rule=\"evenodd\" fill-opacity=\"1\" /><path clip-path=\"url(#clip170)\" d=\"M527.875 1479.7 L532.759 1479.7 L532.759 1485.58 L527.875 1485.58 L527.875 1479.7 Z\" fill=\"#000000\" fill-rule=\"evenodd\" fill-opacity=\"1\" /><path clip-path=\"url(#clip170)\" d=\"M546.972 1481.64 L563.291 1481.64 L563.291 1485.58 L541.347 1485.58 L541.347 1481.64 Q544.009 1478.89 548.592 1474.26 Q553.198 1469.61 554.379 1468.27 Q556.624 1465.74 557.504 1464.01 Q558.407 1462.25 558.407 1460.56 Q558.407 1457.8 556.462 1456.07 Q554.541 1454.33 551.439 1454.33 Q549.24 1454.33 546.786 1455.09 Q544.356 1455.86 541.578 1457.41 L541.578 1452.69 Q544.402 1451.55 546.856 1450.97 Q549.31 1450.39 551.347 1450.39 Q556.717 1450.39 559.911 1453.08 Q563.106 1455.77 563.106 1460.26 Q563.106 1462.39 562.296 1464.31 Q561.509 1466.2 559.402 1468.8 Q558.823 1469.47 555.722 1472.69 Q552.62 1475.88 546.972 1481.64 Z\" fill=\"#000000\" fill-rule=\"evenodd\" fill-opacity=\"1\" /><path clip-path=\"url(#clip170)\" d=\"M947.596 1454.1 Q943.985 1454.1 942.157 1457.66 Q940.351 1461.2 940.351 1468.33 Q940.351 1475.44 942.157 1479.01 Q943.985 1482.55 947.596 1482.55 Q951.231 1482.55 953.036 1479.01 Q954.865 1475.44 954.865 1468.33 Q954.865 1461.2 953.036 1457.66 Q951.231 1454.1 947.596 1454.1 M947.596 1450.39 Q953.406 1450.39 956.462 1455 Q959.541 1459.58 959.541 1468.33 Q959.541 1477.06 956.462 1481.67 Q953.406 1486.25 947.596 1486.25 Q941.786 1486.25 938.707 1481.67 Q935.652 1477.06 935.652 1468.33 Q935.652 1459.58 938.707 1455 Q941.786 1450.39 947.596 1450.39 Z\" fill=\"#000000\" fill-rule=\"evenodd\" fill-opacity=\"1\" /><path clip-path=\"url(#clip170)\" d=\"M967.758 1479.7 L972.642 1479.7 L972.642 1485.58 L967.758 1485.58 L967.758 1479.7 Z\" fill=\"#000000\" fill-rule=\"evenodd\" fill-opacity=\"1\" /><path clip-path=\"url(#clip170)\" d=\"M995.675 1455.09 L983.869 1473.54 L995.675 1473.54 L995.675 1455.09 M994.448 1451.02 L1000.33 1451.02 L1000.33 1473.54 L1005.26 1473.54 L1005.26 1477.43 L1000.33 1477.43 L1000.33 1485.58 L995.675 1485.58 L995.675 1477.43 L980.073 1477.43 L980.073 1472.92 L994.448 1451.02 Z\" fill=\"#000000\" fill-rule=\"evenodd\" fill-opacity=\"1\" /><path clip-path=\"url(#clip170)\" d=\"M1388.68 1454.1 Q1385.07 1454.1 1383.24 1457.66 Q1381.44 1461.2 1381.44 1468.33 Q1381.44 1475.44 1383.24 1479.01 Q1385.07 1482.55 1388.68 1482.55 Q1392.32 1482.55 1394.12 1479.01 Q1395.95 1475.44 1395.95 1468.33 Q1395.95 1461.2 1394.12 1457.66 Q1392.32 1454.1 1388.68 1454.1 M1388.68 1450.39 Q1394.49 1450.39 1397.55 1455 Q1400.63 1459.58 1400.63 1468.33 Q1400.63 1477.06 1397.55 1481.67 Q1394.49 1486.25 1388.68 1486.25 Q1382.87 1486.25 1379.79 1481.67 Q1376.74 1477.06 1376.74 1468.33 Q1376.74 1459.58 1379.79 1455 Q1382.87 1450.39 1388.68 1450.39 Z\" fill=\"#000000\" fill-rule=\"evenodd\" fill-opacity=\"1\" /><path clip-path=\"url(#clip170)\" d=\"M1408.85 1479.7 L1413.73 1479.7 L1413.73 1485.58 L1408.85 1485.58 L1408.85 1479.7 Z\" fill=\"#000000\" fill-rule=\"evenodd\" fill-opacity=\"1\" /><path clip-path=\"url(#clip170)\" d=\"M1434.49 1466.44 Q1431.35 1466.44 1429.49 1468.59 Q1427.66 1470.74 1427.66 1474.49 Q1427.66 1478.22 1429.49 1480.39 Q1431.35 1482.55 1434.49 1482.55 Q1437.64 1482.55 1439.47 1480.39 Q1441.32 1478.22 1441.32 1474.49 Q1441.32 1470.74 1439.47 1468.59 Q1437.64 1466.44 1434.49 1466.44 M1443.78 1451.78 L1443.78 1456.04 Q1442.02 1455.21 1440.21 1454.77 Q1438.43 1454.33 1436.67 1454.33 Q1432.04 1454.33 1429.59 1457.45 Q1427.16 1460.58 1426.81 1466.9 Q1428.17 1464.89 1430.23 1463.82 Q1432.29 1462.73 1434.77 1462.73 Q1439.98 1462.73 1442.99 1465.9 Q1446.02 1469.05 1446.02 1474.49 Q1446.02 1479.82 1442.87 1483.03 Q1439.73 1486.25 1434.49 1486.25 Q1428.5 1486.25 1425.33 1481.67 Q1422.16 1477.06 1422.16 1468.33 Q1422.16 1460.14 1426.04 1455.28 Q1429.93 1450.39 1436.48 1450.39 Q1438.24 1450.39 1440.03 1450.74 Q1441.83 1451.09 1443.78 1451.78 Z\" fill=\"#000000\" fill-rule=\"evenodd\" fill-opacity=\"1\" /><path clip-path=\"url(#clip170)\" d=\"M1829.74 1454.1 Q1826.13 1454.1 1824.3 1457.66 Q1822.49 1461.2 1822.49 1468.33 Q1822.49 1475.44 1824.3 1479.01 Q1826.13 1482.55 1829.74 1482.55 Q1833.37 1482.55 1835.18 1479.01 Q1837 1475.44 1837 1468.33 Q1837 1461.2 1835.18 1457.66 Q1833.37 1454.1 1829.74 1454.1 M1829.74 1450.39 Q1835.55 1450.39 1838.6 1455 Q1841.68 1459.58 1841.68 1468.33 Q1841.68 1477.06 1838.6 1481.67 Q1835.55 1486.25 1829.74 1486.25 Q1823.93 1486.25 1820.85 1481.67 Q1817.79 1477.06 1817.79 1468.33 Q1817.79 1459.58 1820.85 1455 Q1823.93 1450.39 1829.74 1450.39 Z\" fill=\"#000000\" fill-rule=\"evenodd\" fill-opacity=\"1\" /><path clip-path=\"url(#clip170)\" d=\"M1849.9 1479.7 L1854.78 1479.7 L1854.78 1485.58 L1849.9 1485.58 L1849.9 1479.7 Z\" fill=\"#000000\" fill-rule=\"evenodd\" fill-opacity=\"1\" /><path clip-path=\"url(#clip170)\" d=\"M1874.97 1469.17 Q1871.63 1469.17 1869.71 1470.95 Q1867.81 1472.73 1867.81 1475.86 Q1867.81 1478.98 1869.71 1480.77 Q1871.63 1482.55 1874.97 1482.55 Q1878.3 1482.55 1880.22 1480.77 Q1882.14 1478.96 1882.14 1475.86 Q1882.14 1472.73 1880.22 1470.95 Q1878.32 1469.17 1874.97 1469.17 M1870.29 1467.18 Q1867.28 1466.44 1865.59 1464.38 Q1863.93 1462.32 1863.93 1459.35 Q1863.93 1455.21 1866.87 1452.8 Q1869.83 1450.39 1874.97 1450.39 Q1880.13 1450.39 1883.07 1452.8 Q1886.01 1455.21 1886.01 1459.35 Q1886.01 1462.32 1884.32 1464.38 Q1882.65 1466.44 1879.67 1467.18 Q1883.05 1467.96 1884.92 1470.26 Q1886.82 1472.55 1886.82 1475.86 Q1886.82 1480.88 1883.74 1483.57 Q1880.69 1486.25 1874.97 1486.25 Q1869.25 1486.25 1866.17 1483.57 Q1863.12 1480.88 1863.12 1475.86 Q1863.12 1472.55 1865.01 1470.26 Q1866.91 1467.96 1870.29 1467.18 M1868.58 1459.79 Q1868.58 1462.48 1870.25 1463.98 Q1871.94 1465.49 1874.97 1465.49 Q1877.98 1465.49 1879.67 1463.98 Q1881.38 1462.48 1881.38 1459.79 Q1881.38 1457.11 1879.67 1455.6 Q1877.98 1454.1 1874.97 1454.1 Q1871.94 1454.1 1870.25 1455.6 Q1868.58 1457.11 1868.58 1459.79 Z\" fill=\"#000000\" fill-rule=\"evenodd\" fill-opacity=\"1\" /><path clip-path=\"url(#clip170)\" d=\"M2260.38 1481.64 L2268.02 1481.64 L2268.02 1455.28 L2259.71 1456.95 L2259.71 1452.69 L2267.98 1451.02 L2272.65 1451.02 L2272.65 1481.64 L2280.29 1481.64 L2280.29 1485.58 L2260.38 1485.58 L2260.38 1481.64 Z\" fill=\"#000000\" fill-rule=\"evenodd\" fill-opacity=\"1\" /><path clip-path=\"url(#clip170)\" d=\"M2289.74 1479.7 L2294.62 1479.7 L2294.62 1485.58 L2289.74 1485.58 L2289.74 1479.7 Z\" fill=\"#000000\" fill-rule=\"evenodd\" fill-opacity=\"1\" /><path clip-path=\"url(#clip170)\" d=\"M2314.8 1454.1 Q2311.19 1454.1 2309.37 1457.66 Q2307.56 1461.2 2307.56 1468.33 Q2307.56 1475.44 2309.37 1479.01 Q2311.19 1482.55 2314.8 1482.55 Q2318.44 1482.55 2320.24 1479.01 Q2322.07 1475.44 2322.07 1468.33 Q2322.07 1461.2 2320.24 1457.66 Q2318.44 1454.1 2314.8 1454.1 M2314.8 1450.39 Q2320.62 1450.39 2323.67 1455 Q2326.75 1459.58 2326.75 1468.33 Q2326.75 1477.06 2323.67 1481.67 Q2320.62 1486.25 2314.8 1486.25 Q2308.99 1486.25 2305.92 1481.67 Q2302.86 1477.06 2302.86 1468.33 Q2302.86 1459.58 2305.92 1455 Q2308.99 1450.39 2314.8 1450.39 Z\" fill=\"#000000\" fill-rule=\"evenodd\" fill-opacity=\"1\" /><path clip-path=\"url(#clip170)\" d=\"M1015.06 1520.52 L1024.64 1520.52 L1036.77 1552.86 L1048.96 1520.52 L1058.54 1520.52 L1058.54 1568.04 L1052.27 1568.04 L1052.27 1526.32 L1040.01 1558.91 L1033.55 1558.91 L1021.3 1526.32 L1021.3 1568.04 L1015.06 1568.04 L1015.06 1520.52 Z\" fill=\"#000000\" fill-rule=\"evenodd\" fill-opacity=\"1\" /><path clip-path=\"url(#clip170)\" d=\"M1071.04 1532.4 L1076.9 1532.4 L1076.9 1568.04 L1071.04 1568.04 L1071.04 1532.4 M1071.04 1518.52 L1076.9 1518.52 L1076.9 1525.93 L1071.04 1525.93 L1071.04 1518.52 Z\" fill=\"#000000\" fill-rule=\"evenodd\" fill-opacity=\"1\" /><path clip-path=\"url(#clip170)\" d=\"M1118.79 1532.4 L1105.9 1549.74 L1119.46 1568.04 L1112.55 1568.04 L1102.17 1554.04 L1091.8 1568.04 L1084.89 1568.04 L1098.74 1549.39 L1086.07 1532.4 L1092.97 1532.4 L1102.43 1545.1 L1111.88 1532.4 L1118.79 1532.4 Z\" fill=\"#000000\" fill-rule=\"evenodd\" fill-opacity=\"1\" /><path clip-path=\"url(#clip170)\" d=\"M1127.73 1532.4 L1133.59 1532.4 L1133.59 1568.04 L1127.73 1568.04 L1127.73 1532.4 M1127.73 1518.52 L1133.59 1518.52 L1133.59 1525.93 L1127.73 1525.93 L1127.73 1518.52 Z\" fill=\"#000000\" fill-rule=\"evenodd\" fill-opacity=\"1\" /><path clip-path=\"url(#clip170)\" d=\"M1175.47 1546.53 L1175.47 1568.04 L1169.62 1568.04 L1169.62 1546.72 Q1169.62 1541.66 1167.64 1539.14 Q1165.67 1536.63 1161.72 1536.63 Q1156.98 1536.63 1154.24 1539.65 Q1151.51 1542.68 1151.51 1547.9 L1151.51 1568.04 L1145.62 1568.04 L1145.62 1532.4 L1151.51 1532.4 L1151.51 1537.93 Q1153.61 1534.72 1156.44 1533.13 Q1159.31 1531.54 1163.03 1531.54 Q1169.17 1531.54 1172.32 1535.36 Q1175.47 1539.14 1175.47 1546.53 Z\" fill=\"#000000\" fill-rule=\"evenodd\" fill-opacity=\"1\" /><path clip-path=\"url(#clip170)\" d=\"M1210.61 1549.81 Q1210.61 1543.44 1207.97 1539.94 Q1205.36 1536.44 1200.62 1536.44 Q1195.91 1536.44 1193.27 1539.94 Q1190.66 1543.44 1190.66 1549.81 Q1190.66 1556.14 1193.27 1559.64 Q1195.91 1563.14 1200.62 1563.14 Q1205.36 1563.14 1207.97 1559.64 Q1210.61 1556.14 1210.61 1549.81 M1216.47 1563.62 Q1216.47 1572.72 1212.43 1577.15 Q1208.38 1581.6 1200.05 1581.6 Q1196.96 1581.6 1194.22 1581.13 Q1191.48 1580.68 1188.91 1579.72 L1188.91 1574.03 Q1191.48 1575.43 1194 1576.1 Q1196.51 1576.76 1199.12 1576.76 Q1204.88 1576.76 1207.75 1573.74 Q1210.61 1570.75 1210.61 1564.67 L1210.61 1561.77 Q1208.8 1564.92 1205.97 1566.48 Q1203.13 1568.04 1199.19 1568.04 Q1192.63 1568.04 1188.62 1563.05 Q1184.61 1558.05 1184.61 1549.81 Q1184.61 1541.53 1188.62 1536.53 Q1192.63 1531.54 1199.19 1531.54 Q1203.13 1531.54 1205.97 1533.1 Q1208.8 1534.66 1210.61 1537.81 L1210.61 1532.4 L1216.47 1532.4 L1216.47 1563.62 Z\" fill=\"#000000\" fill-rule=\"evenodd\" fill-opacity=\"1\" /><path clip-path=\"url(#clip170)\" d=\"M1254.92 1562.7 L1254.92 1581.6 L1249.03 1581.6 L1249.03 1532.4 L1254.92 1532.4 L1254.92 1537.81 Q1256.76 1534.62 1259.56 1533.1 Q1262.4 1531.54 1266.31 1531.54 Q1272.81 1531.54 1276.85 1536.69 Q1280.92 1541.85 1280.92 1550.25 Q1280.92 1558.65 1276.85 1563.81 Q1272.81 1568.97 1266.31 1568.97 Q1262.4 1568.97 1259.56 1567.44 Q1256.76 1565.88 1254.92 1562.7 M1274.84 1550.25 Q1274.84 1543.79 1272.17 1540.13 Q1269.53 1536.44 1264.88 1536.44 Q1260.23 1536.44 1257.56 1540.13 Q1254.92 1543.79 1254.92 1550.25 Q1254.92 1556.71 1257.56 1560.4 Q1260.23 1564.07 1264.88 1564.07 Q1269.53 1564.07 1272.17 1560.4 Q1274.84 1556.71 1274.84 1550.25 Z\" fill=\"#000000\" fill-rule=\"evenodd\" fill-opacity=\"1\" /><path clip-path=\"url(#clip170)\" d=\"M1306.83 1550.12 Q1299.73 1550.12 1297 1551.75 Q1294.26 1553.37 1294.26 1557.29 Q1294.26 1560.4 1296.3 1562.25 Q1298.36 1564.07 1301.9 1564.07 Q1306.77 1564.07 1309.69 1560.63 Q1312.65 1557.16 1312.65 1551.43 L1312.65 1550.12 L1306.83 1550.12 M1318.51 1547.71 L1318.51 1568.04 L1312.65 1568.04 L1312.65 1562.63 Q1310.65 1565.88 1307.66 1567.44 Q1304.67 1568.97 1300.34 1568.97 Q1294.86 1568.97 1291.62 1565.91 Q1288.4 1562.82 1288.4 1557.67 Q1288.4 1551.65 1292.41 1548.6 Q1296.45 1545.54 1304.44 1545.54 L1312.65 1545.54 L1312.65 1544.97 Q1312.65 1540.93 1309.98 1538.73 Q1307.34 1536.5 1302.53 1536.5 Q1299.48 1536.5 1296.58 1537.23 Q1293.69 1537.97 1291.01 1539.43 L1291.01 1534.02 Q1294.23 1532.78 1297.25 1532.17 Q1300.27 1531.54 1303.14 1531.54 Q1310.87 1531.54 1314.69 1535.55 Q1318.51 1539.56 1318.51 1547.71 Z\" fill=\"#000000\" fill-rule=\"evenodd\" fill-opacity=\"1\" /><path clip-path=\"url(#clip170)\" d=\"M1351.23 1537.87 Q1350.24 1537.3 1349.07 1537.04 Q1347.92 1536.76 1346.52 1536.76 Q1341.56 1536.76 1338.88 1540 Q1336.24 1543.22 1336.24 1549.27 L1336.24 1568.04 L1330.35 1568.04 L1330.35 1532.4 L1336.24 1532.4 L1336.24 1537.93 Q1338.09 1534.69 1341.05 1533.13 Q1344.01 1531.54 1348.24 1531.54 Q1348.84 1531.54 1349.58 1531.63 Q1350.31 1531.7 1351.2 1531.85 L1351.23 1537.87 Z\" fill=\"#000000\" fill-rule=\"evenodd\" fill-opacity=\"1\" /><path clip-path=\"url(#clip170)\" d=\"M1373.57 1550.12 Q1366.48 1550.12 1363.74 1551.75 Q1361 1553.37 1361 1557.29 Q1361 1560.4 1363.04 1562.25 Q1365.11 1564.07 1368.64 1564.07 Q1373.51 1564.07 1376.44 1560.63 Q1379.4 1557.16 1379.4 1551.43 L1379.4 1550.12 L1373.57 1550.12 M1385.26 1547.71 L1385.26 1568.04 L1379.4 1568.04 L1379.4 1562.63 Q1377.39 1565.88 1374.4 1567.44 Q1371.41 1568.97 1367.08 1568.97 Q1361.61 1568.97 1358.36 1565.91 Q1355.15 1562.82 1355.15 1557.67 Q1355.15 1551.65 1359.16 1548.6 Q1363.2 1545.54 1371.19 1545.54 L1379.4 1545.54 L1379.4 1544.97 Q1379.4 1540.93 1376.73 1538.73 Q1374.08 1536.5 1369.28 1536.5 Q1366.22 1536.5 1363.33 1537.23 Q1360.43 1537.97 1357.76 1539.43 L1357.76 1534.02 Q1360.97 1532.78 1363.99 1532.17 Q1367.02 1531.54 1369.88 1531.54 Q1377.62 1531.54 1381.44 1535.55 Q1385.26 1539.56 1385.26 1547.71 Z\" fill=\"#000000\" fill-rule=\"evenodd\" fill-opacity=\"1\" /><path clip-path=\"url(#clip170)\" d=\"M1425.07 1539.24 Q1427.27 1535.29 1430.33 1533.41 Q1433.38 1531.54 1437.52 1531.54 Q1443.09 1531.54 1446.11 1535.45 Q1449.14 1539.33 1449.14 1546.53 L1449.14 1568.04 L1443.25 1568.04 L1443.25 1546.72 Q1443.25 1541.59 1441.43 1539.11 Q1439.62 1536.63 1435.9 1536.63 Q1431.34 1536.63 1428.7 1539.65 Q1426.06 1542.68 1426.06 1547.9 L1426.06 1568.04 L1420.17 1568.04 L1420.17 1546.72 Q1420.17 1541.56 1418.36 1539.11 Q1416.54 1536.63 1412.76 1536.63 Q1408.27 1536.63 1405.63 1539.68 Q1402.98 1542.71 1402.98 1547.9 L1402.98 1568.04 L1397.1 1568.04 L1397.1 1532.4 L1402.98 1532.4 L1402.98 1537.93 Q1404.99 1534.66 1407.79 1533.1 Q1410.59 1531.54 1414.44 1531.54 Q1418.33 1531.54 1421.03 1533.51 Q1423.77 1535.48 1425.07 1539.24 Z\" fill=\"#000000\" fill-rule=\"evenodd\" fill-opacity=\"1\" /><path clip-path=\"url(#clip170)\" d=\"M1491.31 1548.76 L1491.31 1551.62 L1464.38 1551.62 Q1464.76 1557.67 1468.01 1560.85 Q1471.29 1564 1477.11 1564 Q1480.49 1564 1483.64 1563.17 Q1486.82 1562.35 1489.94 1560.69 L1489.94 1566.23 Q1486.79 1567.57 1483.48 1568.27 Q1480.17 1568.97 1476.76 1568.97 Q1468.23 1568.97 1463.24 1564 Q1458.27 1559.04 1458.27 1550.57 Q1458.27 1541.82 1462.98 1536.69 Q1467.72 1531.54 1475.74 1531.54 Q1482.94 1531.54 1487.11 1536.18 Q1491.31 1540.8 1491.31 1548.76 M1485.45 1547.04 Q1485.39 1542.23 1482.75 1539.37 Q1480.14 1536.5 1475.81 1536.5 Q1470.91 1536.5 1467.95 1539.27 Q1465.02 1542.04 1464.57 1547.07 L1485.45 1547.04 Z\" fill=\"#000000\" fill-rule=\"evenodd\" fill-opacity=\"1\" /><path clip-path=\"url(#clip170)\" d=\"M1506.71 1522.27 L1506.71 1532.4 L1518.78 1532.4 L1518.78 1536.95 L1506.71 1536.95 L1506.71 1556.3 Q1506.71 1560.66 1507.89 1561.9 Q1509.1 1563.14 1512.76 1563.14 L1518.78 1563.14 L1518.78 1568.04 L1512.76 1568.04 Q1505.98 1568.04 1503.4 1565.53 Q1500.83 1562.98 1500.83 1556.3 L1500.83 1536.95 L1496.53 1536.95 L1496.53 1532.4 L1500.83 1532.4 L1500.83 1522.27 L1506.71 1522.27 Z\" fill=\"#000000\" fill-rule=\"evenodd\" fill-opacity=\"1\" /><path clip-path=\"url(#clip170)\" d=\"M1556.97 1548.76 L1556.97 1551.62 L1530.04 1551.62 Q1530.43 1557.67 1533.67 1560.85 Q1536.95 1564 1542.78 1564 Q1546.15 1564 1549.3 1563.17 Q1552.48 1562.35 1555.6 1560.69 L1555.6 1566.23 Q1552.45 1567.57 1549.14 1568.27 Q1545.83 1568.97 1542.43 1568.97 Q1533.9 1568.97 1528.9 1564 Q1523.93 1559.04 1523.93 1550.57 Q1523.93 1541.82 1528.64 1536.69 Q1533.39 1531.54 1541.41 1531.54 Q1548.6 1531.54 1552.77 1536.18 Q1556.97 1540.8 1556.97 1548.76 M1551.11 1547.04 Q1551.05 1542.23 1548.41 1539.37 Q1545.8 1536.5 1541.47 1536.5 Q1536.57 1536.5 1533.61 1539.27 Q1530.68 1542.04 1530.23 1547.07 L1551.11 1547.04 Z\" fill=\"#000000\" fill-rule=\"evenodd\" fill-opacity=\"1\" /><path clip-path=\"url(#clip170)\" d=\"M1587.24 1537.87 Q1586.25 1537.3 1585.08 1537.04 Q1583.93 1536.76 1582.53 1536.76 Q1577.56 1536.76 1574.89 1540 Q1572.25 1543.22 1572.25 1549.27 L1572.25 1568.04 L1566.36 1568.04 L1566.36 1532.4 L1572.25 1532.4 L1572.25 1537.93 Q1574.09 1534.69 1577.05 1533.13 Q1580.01 1531.54 1584.25 1531.54 Q1584.85 1531.54 1585.58 1531.63 Q1586.32 1531.7 1587.21 1531.85 L1587.24 1537.87 Z\" fill=\"#000000\" fill-rule=\"evenodd\" fill-opacity=\"1\" /><polyline clip-path=\"url(#clip172)\" style=\"stroke:#000000; stroke-linecap:butt; stroke-linejoin:round; stroke-width:2; stroke-opacity:0.1; fill:none\" points=\"\n",
       "  249.542,1394.82 2352.76,1394.82 \n",
       "  \"/>\n",
       "<polyline clip-path=\"url(#clip172)\" style=\"stroke:#000000; stroke-linecap:butt; stroke-linejoin:round; stroke-width:2; stroke-opacity:0.1; fill:none\" points=\"\n",
       "  249.542,1067.66 2352.76,1067.66 \n",
       "  \"/>\n",
       "<polyline clip-path=\"url(#clip172)\" style=\"stroke:#000000; stroke-linecap:butt; stroke-linejoin:round; stroke-width:2; stroke-opacity:0.1; fill:none\" points=\"\n",
       "  249.542,740.505 2352.76,740.505 \n",
       "  \"/>\n",
       "<polyline clip-path=\"url(#clip172)\" style=\"stroke:#000000; stroke-linecap:butt; stroke-linejoin:round; stroke-width:2; stroke-opacity:0.1; fill:none\" points=\"\n",
       "  249.542,413.345 2352.76,413.345 \n",
       "  \"/>\n",
       "<polyline clip-path=\"url(#clip172)\" style=\"stroke:#000000; stroke-linecap:butt; stroke-linejoin:round; stroke-width:2; stroke-opacity:0.1; fill:none\" points=\"\n",
       "  249.542,86.1857 2352.76,86.1857 \n",
       "  \"/>\n",
       "<polyline clip-path=\"url(#clip170)\" style=\"stroke:#000000; stroke-linecap:butt; stroke-linejoin:round; stroke-width:4; stroke-opacity:1; fill:none\" points=\"\n",
       "  249.542,1423.18 249.542,47.2441 \n",
       "  \"/>\n",
       "<polyline clip-path=\"url(#clip170)\" style=\"stroke:#000000; stroke-linecap:butt; stroke-linejoin:round; stroke-width:4; stroke-opacity:1; fill:none\" points=\"\n",
       "  249.542,1394.82 268.44,1394.82 \n",
       "  \"/>\n",
       "<polyline clip-path=\"url(#clip170)\" style=\"stroke:#000000; stroke-linecap:butt; stroke-linejoin:round; stroke-width:4; stroke-opacity:1; fill:none\" points=\"\n",
       "  249.542,1067.66 268.44,1067.66 \n",
       "  \"/>\n",
       "<polyline clip-path=\"url(#clip170)\" style=\"stroke:#000000; stroke-linecap:butt; stroke-linejoin:round; stroke-width:4; stroke-opacity:1; fill:none\" points=\"\n",
       "  249.542,740.505 268.44,740.505 \n",
       "  \"/>\n",
       "<polyline clip-path=\"url(#clip170)\" style=\"stroke:#000000; stroke-linecap:butt; stroke-linejoin:round; stroke-width:4; stroke-opacity:1; fill:none\" points=\"\n",
       "  249.542,413.345 268.44,413.345 \n",
       "  \"/>\n",
       "<polyline clip-path=\"url(#clip170)\" style=\"stroke:#000000; stroke-linecap:butt; stroke-linejoin:round; stroke-width:4; stroke-opacity:1; fill:none\" points=\"\n",
       "  249.542,86.1857 268.44,86.1857 \n",
       "  \"/>\n",
       "<path clip-path=\"url(#clip170)\" d=\"M126.205 1380.62 Q122.593 1380.62 120.765 1384.19 Q118.959 1387.73 118.959 1394.86 Q118.959 1401.97 120.765 1405.53 Q122.593 1409.07 126.205 1409.07 Q129.839 1409.07 131.644 1405.53 Q133.473 1401.97 133.473 1394.86 Q133.473 1387.73 131.644 1384.19 Q129.839 1380.62 126.205 1380.62 M126.205 1376.92 Q132.015 1376.92 135.07 1381.53 Q138.149 1386.11 138.149 1394.86 Q138.149 1403.59 135.07 1408.19 Q132.015 1412.78 126.205 1412.78 Q120.394 1412.78 117.316 1408.19 Q114.26 1403.59 114.26 1394.86 Q114.26 1386.11 117.316 1381.53 Q120.394 1376.92 126.205 1376.92 Z\" fill=\"#000000\" fill-rule=\"evenodd\" fill-opacity=\"1\" /><path clip-path=\"url(#clip170)\" d=\"M146.366 1406.22 L151.251 1406.22 L151.251 1412.1 L146.366 1412.1 L146.366 1406.22 Z\" fill=\"#000000\" fill-rule=\"evenodd\" fill-opacity=\"1\" /><path clip-path=\"url(#clip170)\" d=\"M171.436 1380.62 Q167.825 1380.62 165.996 1384.19 Q164.19 1387.73 164.19 1394.86 Q164.19 1401.97 165.996 1405.53 Q167.825 1409.07 171.436 1409.07 Q175.07 1409.07 176.876 1405.53 Q178.704 1401.97 178.704 1394.86 Q178.704 1387.73 176.876 1384.19 Q175.07 1380.62 171.436 1380.62 M171.436 1376.92 Q177.246 1376.92 180.301 1381.53 Q183.38 1386.11 183.38 1394.86 Q183.38 1403.59 180.301 1408.19 Q177.246 1412.78 171.436 1412.78 Q165.626 1412.78 162.547 1408.19 Q159.491 1403.59 159.491 1394.86 Q159.491 1386.11 162.547 1381.53 Q165.626 1376.92 171.436 1376.92 Z\" fill=\"#000000\" fill-rule=\"evenodd\" fill-opacity=\"1\" /><path clip-path=\"url(#clip170)\" d=\"M201.598 1380.62 Q197.987 1380.62 196.158 1384.19 Q194.352 1387.73 194.352 1394.86 Q194.352 1401.97 196.158 1405.53 Q197.987 1409.07 201.598 1409.07 Q205.232 1409.07 207.037 1405.53 Q208.866 1401.97 208.866 1394.86 Q208.866 1387.73 207.037 1384.19 Q205.232 1380.62 201.598 1380.62 M201.598 1376.92 Q207.408 1376.92 210.463 1381.53 Q213.542 1386.11 213.542 1394.86 Q213.542 1403.59 210.463 1408.19 Q207.408 1412.78 201.598 1412.78 Q195.787 1412.78 192.709 1408.19 Q189.653 1403.59 189.653 1394.86 Q189.653 1386.11 192.709 1381.53 Q195.787 1376.92 201.598 1376.92 Z\" fill=\"#000000\" fill-rule=\"evenodd\" fill-opacity=\"1\" /><path clip-path=\"url(#clip170)\" d=\"M127.2 1053.46 Q123.589 1053.46 121.76 1057.03 Q119.955 1060.57 119.955 1067.7 Q119.955 1074.81 121.76 1078.37 Q123.589 1081.91 127.2 1081.91 Q130.834 1081.91 132.64 1078.37 Q134.468 1074.81 134.468 1067.7 Q134.468 1060.57 132.64 1057.03 Q130.834 1053.46 127.2 1053.46 M127.2 1049.76 Q133.01 1049.76 136.066 1054.37 Q139.144 1058.95 139.144 1067.7 Q139.144 1076.43 136.066 1081.03 Q133.01 1085.62 127.2 1085.62 Q121.39 1085.62 118.311 1081.03 Q115.256 1076.43 115.256 1067.7 Q115.256 1058.95 118.311 1054.37 Q121.39 1049.76 127.2 1049.76 Z\" fill=\"#000000\" fill-rule=\"evenodd\" fill-opacity=\"1\" /><path clip-path=\"url(#clip170)\" d=\"M147.362 1079.06 L152.246 1079.06 L152.246 1084.94 L147.362 1084.94 L147.362 1079.06 Z\" fill=\"#000000\" fill-rule=\"evenodd\" fill-opacity=\"1\" /><path clip-path=\"url(#clip170)\" d=\"M166.459 1081.01 L182.778 1081.01 L182.778 1084.94 L160.834 1084.94 L160.834 1081.01 Q163.496 1078.25 168.079 1073.63 Q172.686 1068.97 173.866 1067.63 Q176.112 1065.11 176.991 1063.37 Q177.894 1061.61 177.894 1059.92 Q177.894 1057.17 175.95 1055.43 Q174.028 1053.69 170.927 1053.69 Q168.727 1053.69 166.274 1054.46 Q163.843 1055.22 161.065 1056.77 L161.065 1052.05 Q163.89 1050.92 166.343 1050.34 Q168.797 1049.76 170.834 1049.76 Q176.204 1049.76 179.399 1052.44 Q182.593 1055.13 182.593 1059.62 Q182.593 1061.75 181.783 1063.67 Q180.996 1065.57 178.889 1068.16 Q178.311 1068.83 175.209 1072.05 Q172.107 1075.25 166.459 1081.01 Z\" fill=\"#000000\" fill-rule=\"evenodd\" fill-opacity=\"1\" /><path clip-path=\"url(#clip170)\" d=\"M192.639 1050.38 L210.996 1050.38 L210.996 1054.32 L196.922 1054.32 L196.922 1062.79 Q197.94 1062.44 198.959 1062.28 Q199.977 1062.1 200.996 1062.1 Q206.783 1062.1 210.162 1065.27 Q213.542 1068.44 213.542 1073.86 Q213.542 1079.44 210.07 1082.54 Q206.598 1085.62 200.278 1085.62 Q198.102 1085.62 195.834 1085.25 Q193.588 1084.88 191.181 1084.13 L191.181 1079.44 Q193.264 1080.57 195.487 1081.13 Q197.709 1081.68 200.186 1081.68 Q204.19 1081.68 206.528 1079.57 Q208.866 1077.47 208.866 1073.86 Q208.866 1070.25 206.528 1068.14 Q204.19 1066.03 200.186 1066.03 Q198.311 1066.03 196.436 1066.45 Q194.584 1066.87 192.639 1067.75 L192.639 1050.38 Z\" fill=\"#000000\" fill-rule=\"evenodd\" fill-opacity=\"1\" /><path clip-path=\"url(#clip170)\" d=\"M126.205 726.304 Q122.593 726.304 120.765 729.868 Q118.959 733.41 118.959 740.54 Q118.959 747.646 120.765 751.211 Q122.593 754.753 126.205 754.753 Q129.839 754.753 131.644 751.211 Q133.473 747.646 133.473 740.54 Q133.473 733.41 131.644 729.868 Q129.839 726.304 126.205 726.304 M126.205 722.6 Q132.015 722.6 135.07 727.206 Q138.149 731.79 138.149 740.54 Q138.149 749.266 135.07 753.873 Q132.015 758.456 126.205 758.456 Q120.394 758.456 117.316 753.873 Q114.26 749.266 114.26 740.54 Q114.26 731.79 117.316 727.206 Q120.394 722.6 126.205 722.6 Z\" fill=\"#000000\" fill-rule=\"evenodd\" fill-opacity=\"1\" /><path clip-path=\"url(#clip170)\" d=\"M146.366 751.905 L151.251 751.905 L151.251 757.785 L146.366 757.785 L146.366 751.905 Z\" fill=\"#000000\" fill-rule=\"evenodd\" fill-opacity=\"1\" /><path clip-path=\"url(#clip170)\" d=\"M161.482 723.225 L179.839 723.225 L179.839 727.16 L165.765 727.16 L165.765 735.632 Q166.783 735.285 167.802 735.123 Q168.82 734.938 169.839 734.938 Q175.626 734.938 179.005 738.109 Q182.385 741.28 182.385 746.697 Q182.385 752.276 178.913 755.378 Q175.44 758.456 169.121 758.456 Q166.945 758.456 164.677 758.086 Q162.431 757.715 160.024 756.975 L160.024 752.276 Q162.107 753.41 164.329 753.966 Q166.552 754.521 169.028 754.521 Q173.033 754.521 175.371 752.415 Q177.709 750.308 177.709 746.697 Q177.709 743.086 175.371 740.979 Q173.033 738.873 169.028 738.873 Q167.153 738.873 165.278 739.29 Q163.427 739.706 161.482 740.586 L161.482 723.225 Z\" fill=\"#000000\" fill-rule=\"evenodd\" fill-opacity=\"1\" /><path clip-path=\"url(#clip170)\" d=\"M201.598 726.304 Q197.987 726.304 196.158 729.868 Q194.352 733.41 194.352 740.54 Q194.352 747.646 196.158 751.211 Q197.987 754.753 201.598 754.753 Q205.232 754.753 207.037 751.211 Q208.866 747.646 208.866 740.54 Q208.866 733.41 207.037 729.868 Q205.232 726.304 201.598 726.304 M201.598 722.6 Q207.408 722.6 210.463 727.206 Q213.542 731.79 213.542 740.54 Q213.542 749.266 210.463 753.873 Q207.408 758.456 201.598 758.456 Q195.787 758.456 192.709 753.873 Q189.653 749.266 189.653 740.54 Q189.653 731.79 192.709 727.206 Q195.787 722.6 201.598 722.6 Z\" fill=\"#000000\" fill-rule=\"evenodd\" fill-opacity=\"1\" /><path clip-path=\"url(#clip170)\" d=\"M127.2 399.144 Q123.589 399.144 121.76 402.709 Q119.955 406.25 119.955 413.38 Q119.955 420.486 121.76 424.051 Q123.589 427.593 127.2 427.593 Q130.834 427.593 132.64 424.051 Q134.468 420.486 134.468 413.38 Q134.468 406.25 132.64 402.709 Q130.834 399.144 127.2 399.144 M127.2 395.44 Q133.01 395.44 136.066 400.047 Q139.144 404.63 139.144 413.38 Q139.144 422.107 136.066 426.713 Q133.01 431.297 127.2 431.297 Q121.39 431.297 118.311 426.713 Q115.256 422.107 115.256 413.38 Q115.256 404.63 118.311 400.047 Q121.39 395.44 127.2 395.44 Z\" fill=\"#000000\" fill-rule=\"evenodd\" fill-opacity=\"1\" /><path clip-path=\"url(#clip170)\" d=\"M147.362 424.746 L152.246 424.746 L152.246 430.625 L147.362 430.625 L147.362 424.746 Z\" fill=\"#000000\" fill-rule=\"evenodd\" fill-opacity=\"1\" /><path clip-path=\"url(#clip170)\" d=\"M161.251 396.065 L183.473 396.065 L183.473 398.056 L170.927 430.625 L166.042 430.625 L177.848 400 L161.251 400 L161.251 396.065 Z\" fill=\"#000000\" fill-rule=\"evenodd\" fill-opacity=\"1\" /><path clip-path=\"url(#clip170)\" d=\"M192.639 396.065 L210.996 396.065 L210.996 400 L196.922 400 L196.922 408.473 Q197.94 408.125 198.959 407.963 Q199.977 407.778 200.996 407.778 Q206.783 407.778 210.162 410.949 Q213.542 414.121 213.542 419.537 Q213.542 425.116 210.07 428.218 Q206.598 431.297 200.278 431.297 Q198.102 431.297 195.834 430.926 Q193.588 430.556 191.181 429.815 L191.181 425.116 Q193.264 426.25 195.487 426.806 Q197.709 427.361 200.186 427.361 Q204.19 427.361 206.528 425.255 Q208.866 423.148 208.866 419.537 Q208.866 415.926 206.528 413.82 Q204.19 411.713 200.186 411.713 Q198.311 411.713 196.436 412.13 Q194.584 412.547 192.639 413.426 L192.639 396.065 Z\" fill=\"#000000\" fill-rule=\"evenodd\" fill-opacity=\"1\" /><path clip-path=\"url(#clip170)\" d=\"M117.015 99.5305 L124.654 99.5305 L124.654 73.1649 L116.343 74.8316 L116.343 70.5723 L124.607 68.9057 L129.283 68.9057 L129.283 99.5305 L136.922 99.5305 L136.922 103.466 L117.015 103.466 L117.015 99.5305 Z\" fill=\"#000000\" fill-rule=\"evenodd\" fill-opacity=\"1\" /><path clip-path=\"url(#clip170)\" d=\"M146.366 97.5861 L151.251 97.5861 L151.251 103.466 L146.366 103.466 L146.366 97.5861 Z\" fill=\"#000000\" fill-rule=\"evenodd\" fill-opacity=\"1\" /><path clip-path=\"url(#clip170)\" d=\"M171.436 71.9844 Q167.825 71.9844 165.996 75.5492 Q164.19 79.0908 164.19 86.2204 Q164.19 93.3268 165.996 96.8916 Q167.825 100.433 171.436 100.433 Q175.07 100.433 176.876 96.8916 Q178.704 93.3268 178.704 86.2204 Q178.704 79.0908 176.876 75.5492 Q175.07 71.9844 171.436 71.9844 M171.436 68.2807 Q177.246 68.2807 180.301 72.8871 Q183.38 77.4704 183.38 86.2204 Q183.38 94.9472 180.301 99.5537 Q177.246 104.137 171.436 104.137 Q165.626 104.137 162.547 99.5537 Q159.491 94.9472 159.491 86.2204 Q159.491 77.4704 162.547 72.8871 Q165.626 68.2807 171.436 68.2807 Z\" fill=\"#000000\" fill-rule=\"evenodd\" fill-opacity=\"1\" /><path clip-path=\"url(#clip170)\" d=\"M201.598 71.9844 Q197.987 71.9844 196.158 75.5492 Q194.352 79.0908 194.352 86.2204 Q194.352 93.3268 196.158 96.8916 Q197.987 100.433 201.598 100.433 Q205.232 100.433 207.037 96.8916 Q208.866 93.3268 208.866 86.2204 Q208.866 79.0908 207.037 75.5492 Q205.232 71.9844 201.598 71.9844 M201.598 68.2807 Q207.408 68.2807 210.463 72.8871 Q213.542 77.4704 213.542 86.2204 Q213.542 94.9472 210.463 99.5537 Q207.408 104.137 201.598 104.137 Q195.787 104.137 192.709 99.5537 Q189.653 94.9472 189.653 86.2204 Q189.653 77.4704 192.709 72.8871 Q195.787 68.2807 201.598 68.2807 Z\" fill=\"#000000\" fill-rule=\"evenodd\" fill-opacity=\"1\" /><path clip-path=\"url(#clip170)\" d=\"M16.4842 1237.77 L16.4842 1229.11 L56.238 1208.04 L16.4842 1208.04 L16.4842 1201.8 L64.0042 1201.8 L64.0042 1210.46 L24.2503 1231.53 L64.0042 1231.53 L64.0042 1237.77 L16.4842 1237.77 Z\" fill=\"#000000\" fill-rule=\"evenodd\" fill-opacity=\"1\" /><path clip-path=\"url(#clip170)\" d=\"M32.4621 1175.45 Q32.4621 1180.16 36.1542 1182.9 Q39.8145 1185.63 46.212 1185.63 Q52.6095 1185.63 56.3017 1182.93 Q59.9619 1180.19 59.9619 1175.45 Q59.9619 1170.77 56.2698 1168.03 Q52.5777 1165.3 46.212 1165.3 Q39.8781 1165.3 36.186 1168.03 Q32.4621 1170.77 32.4621 1175.45 M27.4968 1175.45 Q27.4968 1167.81 32.4621 1163.45 Q37.4273 1159.09 46.212 1159.09 Q54.9649 1159.09 59.9619 1163.45 Q64.9272 1167.81 64.9272 1175.45 Q64.9272 1183.12 59.9619 1187.48 Q54.9649 1191.81 46.212 1191.81 Q37.4273 1191.81 32.4621 1187.48 Q27.4968 1183.12 27.4968 1175.45 Z\" fill=\"#000000\" fill-rule=\"evenodd\" fill-opacity=\"1\" /><path clip-path=\"url(#clip170)\" d=\"M33.8307 1128.72 Q33.2578 1129.71 33.0032 1130.89 Q32.7167 1132.03 32.7167 1133.43 Q32.7167 1138.4 35.9632 1141.07 Q39.1779 1143.72 45.2253 1143.72 L64.0042 1143.72 L64.0042 1149.6 L28.3562 1149.6 L28.3562 1143.72 L33.8944 1143.72 Q30.6479 1141.87 29.0883 1138.91 Q27.4968 1135.95 27.4968 1131.72 Q27.4968 1131.11 27.5923 1130.38 Q27.656 1129.65 27.8151 1128.76 L33.8307 1128.72 Z\" fill=\"#000000\" fill-rule=\"evenodd\" fill-opacity=\"1\" /><path clip-path=\"url(#clip170)\" d=\"M35.1993 1095.97 Q31.2526 1093.78 29.3747 1090.72 Q27.4968 1087.67 27.4968 1083.53 Q27.4968 1077.96 31.4117 1074.93 Q35.2948 1071.91 42.4881 1071.91 L64.0042 1071.91 L64.0042 1077.8 L42.679 1077.8 Q37.5546 1077.8 35.072 1079.61 Q32.5894 1081.43 32.5894 1085.15 Q32.5894 1089.7 35.6131 1092.34 Q38.6368 1094.99 43.8567 1094.99 L64.0042 1094.99 L64.0042 1100.87 L42.679 1100.87 Q37.5228 1100.87 35.072 1102.69 Q32.5894 1104.5 32.5894 1108.29 Q32.5894 1112.78 35.6449 1115.42 Q38.6686 1118.06 43.8567 1118.06 L64.0042 1118.06 L64.0042 1123.95 L28.3562 1123.95 L28.3562 1118.06 L33.8944 1118.06 Q30.616 1116.06 29.0564 1113.26 Q27.4968 1110.45 27.4968 1106.6 Q27.4968 1102.72 29.4702 1100.01 Q31.4436 1097.28 35.1993 1095.97 Z\" fill=\"#000000\" fill-rule=\"evenodd\" fill-opacity=\"1\" /><path clip-path=\"url(#clip170)\" d=\"M46.0847 1044.03 Q46.0847 1051.13 47.7079 1053.86 Q49.3312 1056.6 53.2461 1056.6 Q56.3653 1056.6 58.2114 1054.56 Q60.0256 1052.49 60.0256 1048.96 Q60.0256 1044.09 56.5881 1041.16 Q53.1188 1038.2 47.3897 1038.2 L46.0847 1038.2 L46.0847 1044.03 M43.6657 1032.35 L64.0042 1032.35 L64.0042 1038.2 L58.5933 1038.2 Q61.8398 1040.21 63.3994 1043.2 Q64.9272 1046.19 64.9272 1050.52 Q64.9272 1056 61.8716 1059.24 Q58.7843 1062.46 53.6281 1062.46 Q47.6125 1062.46 44.5569 1058.45 Q41.5014 1054.4 41.5014 1046.42 L41.5014 1038.2 L40.9285 1038.2 Q36.8862 1038.2 34.6901 1040.88 Q32.4621 1043.52 32.4621 1048.33 Q32.4621 1051.38 33.1941 1054.28 Q33.9262 1057.17 35.3903 1059.85 L29.9795 1059.85 Q28.7381 1056.63 28.1334 1053.61 Q27.4968 1050.58 27.4968 1047.72 Q27.4968 1039.99 31.5072 1036.17 Q35.5176 1032.35 43.6657 1032.35 Z\" fill=\"#000000\" fill-rule=\"evenodd\" fill-opacity=\"1\" /><path clip-path=\"url(#clip170)\" d=\"M14.479 1020.28 L14.479 1014.43 L64.0042 1014.43 L64.0042 1020.28 L14.479 1020.28 Z\" fill=\"#000000\" fill-rule=\"evenodd\" fill-opacity=\"1\" /><path clip-path=\"url(#clip170)\" d=\"M28.3562 1002.17 L28.3562 996.317 L64.0042 996.317 L64.0042 1002.17 L28.3562 1002.17 M14.479 1002.17 L14.479 996.317 L21.895 996.317 L21.895 1002.17 L14.479 1002.17 Z\" fill=\"#000000\" fill-rule=\"evenodd\" fill-opacity=\"1\" /><path clip-path=\"url(#clip170)\" d=\"M28.3562 986.61 L28.3562 958.791 L33.7034 958.791 L59.3254 980.817 L59.3254 958.791 L64.0042 958.791 L64.0042 987.405 L58.657 987.405 L33.035 965.38 L33.035 986.61 L28.3562 986.61 Z\" fill=\"#000000\" fill-rule=\"evenodd\" fill-opacity=\"1\" /><path clip-path=\"url(#clip170)\" d=\"M44.7161 919.356 L47.5806 919.356 L47.5806 946.283 Q53.6281 945.901 56.8109 942.654 Q59.9619 939.376 59.9619 933.551 Q59.9619 930.178 59.1344 927.027 Q58.3069 923.844 56.6518 920.725 L62.1899 920.725 Q63.5267 923.876 64.227 927.186 Q64.9272 930.496 64.9272 933.902 Q64.9272 942.432 59.9619 947.429 Q54.9967 952.394 46.5303 952.394 Q37.7774 952.394 32.6531 947.683 Q27.4968 942.941 27.4968 934.92 Q27.4968 927.727 32.1438 923.557 Q36.7589 919.356 44.7161 919.356 M42.9973 925.212 Q38.1912 925.276 35.3266 927.918 Q32.4621 930.528 32.4621 934.856 Q32.4621 939.758 35.2312 942.718 Q38.0002 945.646 43.0292 946.092 L42.9973 925.212 Z\" fill=\"#000000\" fill-rule=\"evenodd\" fill-opacity=\"1\" /><path clip-path=\"url(#clip170)\" d=\"M33.7671 886.286 L14.479 886.286 L14.479 880.43 L64.0042 880.43 L64.0042 886.286 L58.657 886.286 Q61.8398 888.132 63.3994 890.965 Q64.9272 893.766 64.9272 897.713 Q64.9272 904.174 59.771 908.248 Q54.6147 912.29 46.212 912.29 Q37.8093 912.29 32.6531 908.248 Q27.4968 904.174 27.4968 897.713 Q27.4968 893.766 29.0564 890.965 Q30.5842 888.132 33.7671 886.286 M46.212 906.243 Q52.6732 906.243 56.3653 903.601 Q60.0256 900.927 60.0256 896.28 Q60.0256 891.633 56.3653 888.96 Q52.6732 886.286 46.212 886.286 Q39.7508 886.286 36.0905 888.96 Q32.3984 891.633 32.3984 896.28 Q32.3984 900.927 36.0905 903.601 Q39.7508 906.243 46.212 906.243 Z\" fill=\"#000000\" fill-rule=\"evenodd\" fill-opacity=\"1\" /><path clip-path=\"url(#clip170)\" d=\"M35.1993 819.892 Q31.2526 817.696 29.3747 814.64 Q27.4968 811.585 27.4968 807.447 Q27.4968 801.877 31.4117 798.853 Q35.2948 795.829 42.4881 795.829 L64.0042 795.829 L64.0042 801.718 L42.679 801.718 Q37.5546 801.718 35.072 803.532 Q32.5894 805.346 32.5894 809.07 Q32.5894 813.622 35.6131 816.263 Q38.6368 818.905 43.8567 818.905 L64.0042 818.905 L64.0042 824.793 L42.679 824.793 Q37.5228 824.793 35.072 826.608 Q32.5894 828.422 32.5894 832.209 Q32.5894 836.697 35.6449 839.339 Q38.6686 841.981 43.8567 841.981 L64.0042 841.981 L64.0042 847.869 L28.3562 847.869 L28.3562 841.981 L33.8944 841.981 Q30.616 839.976 29.0564 837.175 Q27.4968 834.374 27.4968 830.523 Q27.4968 826.639 29.4702 823.934 Q31.4436 821.197 35.1993 819.892 Z\" fill=\"#000000\" fill-rule=\"evenodd\" fill-opacity=\"1\" /><path clip-path=\"url(#clip170)\" d=\"M49.9359 784.753 L28.3562 784.753 L28.3562 778.897 L49.7131 778.897 Q54.7739 778.897 57.3202 776.923 Q59.8346 774.95 59.8346 771.003 Q59.8346 766.261 56.8109 763.523 Q53.7872 760.754 48.5673 760.754 L28.3562 760.754 L28.3562 754.898 L64.0042 754.898 L64.0042 760.754 L58.5296 760.754 Q61.7762 762.887 63.3676 765.72 Q64.9272 768.521 64.9272 772.244 Q64.9272 778.387 61.1078 781.57 Q57.2883 784.753 49.9359 784.753 M27.4968 770.016 L27.4968 770.016 Z\" fill=\"#000000\" fill-rule=\"evenodd\" fill-opacity=\"1\" /><path clip-path=\"url(#clip170)\" d=\"M18.2347 737.042 L28.3562 737.042 L28.3562 724.979 L32.9077 724.979 L32.9077 737.042 L52.2594 737.042 Q56.6199 737.042 57.8613 735.864 Q59.1026 734.655 59.1026 730.995 L59.1026 724.979 L64.0042 724.979 L64.0042 730.995 Q64.0042 737.774 61.4897 740.352 Q58.9434 742.93 52.2594 742.93 L32.9077 742.93 L32.9077 747.227 L28.3562 747.227 L28.3562 742.93 L18.2347 742.93 L18.2347 737.042 Z\" fill=\"#000000\" fill-rule=\"evenodd\" fill-opacity=\"1\" /><path clip-path=\"url(#clip170)\" d=\"M49.9359 717.881 L28.3562 717.881 L28.3562 712.025 L49.7131 712.025 Q54.7739 712.025 57.3202 710.052 Q59.8346 708.078 59.8346 704.131 Q59.8346 699.389 56.8109 696.652 Q53.7872 693.883 48.5673 693.883 L28.3562 693.883 L28.3562 688.026 L64.0042 688.026 L64.0042 693.883 L58.5296 693.883 Q61.7762 696.015 63.3676 698.848 Q64.9272 701.649 64.9272 705.373 Q64.9272 711.516 61.1078 714.698 Q57.2883 717.881 49.9359 717.881 M27.4968 703.145 L27.4968 703.145 Z\" fill=\"#000000\" fill-rule=\"evenodd\" fill-opacity=\"1\" /><path clip-path=\"url(#clip170)\" d=\"M46.0847 659.762 Q46.0847 666.86 47.7079 669.597 Q49.3312 672.335 53.2461 672.335 Q56.3653 672.335 58.2114 670.298 Q60.0256 668.229 60.0256 664.696 Q60.0256 659.826 56.5881 656.898 Q53.1188 653.938 47.3897 653.938 L46.0847 653.938 L46.0847 659.762 M43.6657 648.081 L64.0042 648.081 L64.0042 653.938 L58.5933 653.938 Q61.8398 655.943 63.3994 658.935 Q64.9272 661.927 64.9272 666.255 Q64.9272 671.73 61.8716 674.976 Q58.7843 678.191 53.6281 678.191 Q47.6125 678.191 44.5569 674.181 Q41.5014 670.139 41.5014 662.15 L41.5014 653.938 L40.9285 653.938 Q36.8862 653.938 34.6901 656.611 Q32.4621 659.253 32.4621 664.059 Q32.4621 667.115 33.1941 670.011 Q33.9262 672.908 35.3903 675.581 L29.9795 675.581 Q28.7381 672.367 28.1334 669.343 Q27.4968 666.319 27.4968 663.455 Q27.4968 655.72 31.5072 651.901 Q35.5176 648.081 43.6657 648.081 Z\" fill=\"#000000\" fill-rule=\"evenodd\" fill-opacity=\"1\" /><path clip-path=\"url(#clip170)\" d=\"M14.479 636.018 L14.479 630.162 L64.0042 630.162 L64.0042 636.018 L14.479 636.018 Z\" fill=\"#000000\" fill-rule=\"evenodd\" fill-opacity=\"1\" /><path clip-path=\"url(#clip170)\" d=\"M28.3562 597.188 L28.3562 591.331 L64.0042 591.331 L64.0042 597.188 L28.3562 597.188 M14.479 597.188 L14.479 591.331 L21.895 591.331 L21.895 597.188 L14.479 597.188 Z\" fill=\"#000000\" fill-rule=\"evenodd\" fill-opacity=\"1\" /><path clip-path=\"url(#clip170)\" d=\"M42.4881 549.445 L64.0042 549.445 L64.0042 555.301 L42.679 555.301 Q37.6183 555.301 35.1038 557.275 Q32.5894 559.248 32.5894 563.195 Q32.5894 567.937 35.6131 570.674 Q38.6368 573.412 43.8567 573.412 L64.0042 573.412 L64.0042 579.3 L28.3562 579.3 L28.3562 573.412 L33.8944 573.412 Q30.6797 571.311 29.0883 568.478 Q27.4968 565.614 27.4968 561.89 Q27.4968 555.747 31.3163 552.596 Q35.1038 549.445 42.4881 549.445 Z\" fill=\"#000000\" fill-rule=\"evenodd\" fill-opacity=\"1\" /><path clip-path=\"url(#clip170)\" d=\"M14.479 519.717 L19.3487 519.717 L19.3487 525.319 Q19.3487 528.47 20.6219 529.711 Q21.895 530.921 25.2052 530.921 L28.3562 530.921 L28.3562 521.276 L32.9077 521.276 L32.9077 530.921 L64.0042 530.921 L64.0042 536.809 L32.9077 536.809 L32.9077 542.411 L28.3562 542.411 L28.3562 536.809 L25.8736 536.809 Q19.9216 536.809 17.2162 534.04 Q14.479 531.271 14.479 525.255 L14.479 519.717 Z\" fill=\"#000000\" fill-rule=\"evenodd\" fill-opacity=\"1\" /><path clip-path=\"url(#clip170)\" d=\"M32.4621 501.002 Q32.4621 505.712 36.1542 508.45 Q39.8145 511.187 46.212 511.187 Q52.6095 511.187 56.3017 508.481 Q59.9619 505.744 59.9619 501.002 Q59.9619 496.323 56.2698 493.586 Q52.5777 490.848 46.212 490.848 Q39.8781 490.848 36.186 493.586 Q32.4621 496.323 32.4621 501.002 M27.4968 501.002 Q27.4968 493.363 32.4621 489.002 Q37.4273 484.642 46.212 484.642 Q54.9649 484.642 59.9619 489.002 Q64.9272 493.363 64.9272 501.002 Q64.9272 508.672 59.9619 513.033 Q54.9649 517.362 46.212 517.362 Q37.4273 517.362 32.4621 513.033 Q27.4968 508.672 27.4968 501.002 Z\" fill=\"#000000\" fill-rule=\"evenodd\" fill-opacity=\"1\" /><path clip-path=\"url(#clip170)\" d=\"M33.8307 454.277 Q33.2578 455.264 33.0032 456.442 Q32.7167 457.588 32.7167 458.988 Q32.7167 463.953 35.9632 466.627 Q39.1779 469.269 45.2253 469.269 L64.0042 469.269 L64.0042 475.157 L28.3562 475.157 L28.3562 469.269 L33.8944 469.269 Q30.6479 467.423 29.0883 464.463 Q27.4968 461.502 27.4968 457.269 Q27.4968 456.665 27.5923 455.933 Q27.656 455.2 27.8151 454.309 L33.8307 454.277 Z\" fill=\"#000000\" fill-rule=\"evenodd\" fill-opacity=\"1\" /><path clip-path=\"url(#clip170)\" d=\"M35.1993 421.526 Q31.2526 419.33 29.3747 416.274 Q27.4968 413.219 27.4968 409.081 Q27.4968 403.511 31.4117 400.487 Q35.2948 397.463 42.4881 397.463 L64.0042 397.463 L64.0042 403.352 L42.679 403.352 Q37.5546 403.352 35.072 405.166 Q32.5894 406.98 32.5894 410.704 Q32.5894 415.256 35.6131 417.897 Q38.6368 420.539 43.8567 420.539 L64.0042 420.539 L64.0042 426.427 L42.679 426.427 Q37.5228 426.427 35.072 428.242 Q32.5894 430.056 32.5894 433.844 Q32.5894 438.331 35.6449 440.973 Q38.6686 443.615 43.8567 443.615 L64.0042 443.615 L64.0042 449.503 L28.3562 449.503 L28.3562 443.615 L33.8944 443.615 Q30.616 441.61 29.0564 438.809 Q27.4968 436.008 27.4968 432.157 Q27.4968 428.274 29.4702 425.568 Q31.4436 422.831 35.1993 421.526 Z\" fill=\"#000000\" fill-rule=\"evenodd\" fill-opacity=\"1\" /><path clip-path=\"url(#clip170)\" d=\"M46.0847 369.582 Q46.0847 376.679 47.7079 379.417 Q49.3312 382.154 53.2461 382.154 Q56.3653 382.154 58.2114 380.117 Q60.0256 378.048 60.0256 374.515 Q60.0256 369.645 56.5881 366.717 Q53.1188 363.757 47.3897 363.757 L46.0847 363.757 L46.0847 369.582 M43.6657 357.901 L64.0042 357.901 L64.0042 363.757 L58.5933 363.757 Q61.8398 365.762 63.3994 368.754 Q64.9272 371.746 64.9272 376.075 Q64.9272 381.549 61.8716 384.796 Q58.7843 388.01 53.6281 388.01 Q47.6125 388.01 44.5569 384 Q41.5014 379.958 41.5014 371.969 L41.5014 363.757 L40.9285 363.757 Q36.8862 363.757 34.6901 366.431 Q32.4621 369.072 32.4621 373.879 Q32.4621 376.934 33.1941 379.83 Q33.9262 382.727 35.3903 385.4 L29.9795 385.4 Q28.7381 382.186 28.1334 379.162 Q27.4968 376.138 27.4968 373.274 Q27.4968 365.539 31.5072 361.72 Q35.5176 357.901 43.6657 357.901 Z\" fill=\"#000000\" fill-rule=\"evenodd\" fill-opacity=\"1\" /><path clip-path=\"url(#clip170)\" d=\"M18.2347 340.045 L28.3562 340.045 L28.3562 327.982 L32.9077 327.982 L32.9077 340.045 L52.2594 340.045 Q56.6199 340.045 57.8613 338.867 Q59.1026 337.658 59.1026 333.997 L59.1026 327.982 L64.0042 327.982 L64.0042 333.997 Q64.0042 340.777 61.4897 343.355 Q58.9434 345.933 52.2594 345.933 L32.9077 345.933 L32.9077 350.23 L28.3562 350.23 L28.3562 345.933 L18.2347 345.933 L18.2347 340.045 Z\" fill=\"#000000\" fill-rule=\"evenodd\" fill-opacity=\"1\" /><path clip-path=\"url(#clip170)\" d=\"M28.3562 320.279 L28.3562 314.423 L64.0042 314.423 L64.0042 320.279 L28.3562 320.279 M14.479 320.279 L14.479 314.423 L21.895 314.423 L21.895 320.279 L14.479 320.279 Z\" fill=\"#000000\" fill-rule=\"evenodd\" fill-opacity=\"1\" /><path clip-path=\"url(#clip170)\" d=\"M32.4621 288.355 Q32.4621 293.066 36.1542 295.803 Q39.8145 298.54 46.212 298.54 Q52.6095 298.54 56.3017 295.835 Q59.9619 293.098 59.9619 288.355 Q59.9619 283.676 56.2698 280.939 Q52.5777 278.202 46.212 278.202 Q39.8781 278.202 36.186 280.939 Q32.4621 283.676 32.4621 288.355 M27.4968 288.355 Q27.4968 280.716 32.4621 276.356 Q37.4273 271.995 46.212 271.995 Q54.9649 271.995 59.9619 276.356 Q64.9272 280.716 64.9272 288.355 Q64.9272 296.026 59.9619 300.386 Q54.9649 304.715 46.212 304.715 Q37.4273 304.715 32.4621 300.386 Q27.4968 296.026 27.4968 288.355 Z\" fill=\"#000000\" fill-rule=\"evenodd\" fill-opacity=\"1\" /><path clip-path=\"url(#clip170)\" d=\"M42.4881 232.655 L64.0042 232.655 L64.0042 238.512 L42.679 238.512 Q37.6183 238.512 35.1038 240.485 Q32.5894 242.459 32.5894 246.405 Q32.5894 251.148 35.6131 253.885 Q38.6368 256.622 43.8567 256.622 L64.0042 256.622 L64.0042 262.511 L28.3562 262.511 L28.3562 256.622 L33.8944 256.622 Q30.6797 254.522 29.0883 251.689 Q27.4968 248.824 27.4968 245.1 Q27.4968 238.957 31.3163 235.806 Q35.1038 232.655 42.4881 232.655 Z\" fill=\"#000000\" fill-rule=\"evenodd\" fill-opacity=\"1\" /><polyline clip-path=\"url(#clip172)\" style=\"stroke:#009af9; stroke-linecap:butt; stroke-linejoin:round; stroke-width:4; stroke-opacity:1; fill:none\" points=\"\n",
       "  309.067,86.1857 529.53,86.1857 749.992,92.7324 970.455,223.871 1190.92,790.928 1411.38,1202.52 1631.84,1353.78 1852.31,1365.82 2072.77,1380.57 2293.23,1373.61 \n",
       "  \n",
       "  \"/>\n",
       "<polyline clip-path=\"url(#clip172)\" style=\"stroke:#009af9; stroke-linecap:butt; stroke-linejoin:round; stroke-width:4; stroke-opacity:1; fill:none\" points=\"\n",
       "  309.067,86.1857 309.067,86.1857 \n",
       "  \"/>\n",
       "<polyline clip-path=\"url(#clip172)\" style=\"stroke:#009af9; stroke-linecap:butt; stroke-linejoin:round; stroke-width:4; stroke-opacity:1; fill:none\" points=\"\n",
       "  529.53,86.1857 529.53,86.1857 \n",
       "  \"/>\n",
       "<polyline clip-path=\"url(#clip172)\" style=\"stroke:#009af9; stroke-linecap:butt; stroke-linejoin:round; stroke-width:4; stroke-opacity:1; fill:none\" points=\"\n",
       "  749.992,93.9713 749.992,91.4935 \n",
       "  \"/>\n",
       "<polyline clip-path=\"url(#clip172)\" style=\"stroke:#009af9; stroke-linecap:butt; stroke-linejoin:round; stroke-width:4; stroke-opacity:1; fill:none\" points=\"\n",
       "  970.455,254.165 970.455,193.578 \n",
       "  \"/>\n",
       "<polyline clip-path=\"url(#clip172)\" style=\"stroke:#009af9; stroke-linecap:butt; stroke-linejoin:round; stroke-width:4; stroke-opacity:1; fill:none\" points=\"\n",
       "  1190.92,813.888 1190.92,767.968 \n",
       "  \"/>\n",
       "<polyline clip-path=\"url(#clip172)\" style=\"stroke:#009af9; stroke-linecap:butt; stroke-linejoin:round; stroke-width:4; stroke-opacity:1; fill:none\" points=\"\n",
       "  1411.38,1222.85 1411.38,1182.19 \n",
       "  \"/>\n",
       "<polyline clip-path=\"url(#clip172)\" style=\"stroke:#009af9; stroke-linecap:butt; stroke-linejoin:round; stroke-width:4; stroke-opacity:1; fill:none\" points=\"\n",
       "  1631.84,1363.66 1631.84,1343.9 \n",
       "  \"/>\n",
       "<polyline clip-path=\"url(#clip172)\" style=\"stroke:#009af9; stroke-linecap:butt; stroke-linejoin:round; stroke-width:4; stroke-opacity:1; fill:none\" points=\"\n",
       "  1852.31,1366.24 1852.31,1365.4 \n",
       "  \"/>\n",
       "<polyline clip-path=\"url(#clip172)\" style=\"stroke:#009af9; stroke-linecap:butt; stroke-linejoin:round; stroke-width:4; stroke-opacity:1; fill:none\" points=\"\n",
       "  2072.77,1384.24 2072.77,1376.89 \n",
       "  \"/>\n",
       "<polyline clip-path=\"url(#clip172)\" style=\"stroke:#009af9; stroke-linecap:butt; stroke-linejoin:round; stroke-width:4; stroke-opacity:1; fill:none\" points=\"\n",
       "  2293.23,1380.57 2293.23,1366.64 \n",
       "  \"/>\n",
       "<line clip-path=\"url(#clip172)\" x1=\"325.067\" y1=\"86.1857\" x2=\"293.067\" y2=\"86.1857\" style=\"stroke:#009af9; stroke-width:3.2; stroke-opacity:1\"/>\n",
       "<line clip-path=\"url(#clip172)\" x1=\"325.067\" y1=\"86.1857\" x2=\"293.067\" y2=\"86.1857\" style=\"stroke:#009af9; stroke-width:3.2; stroke-opacity:1\"/>\n",
       "<line clip-path=\"url(#clip172)\" x1=\"545.53\" y1=\"86.1857\" x2=\"513.53\" y2=\"86.1857\" style=\"stroke:#009af9; stroke-width:3.2; stroke-opacity:1\"/>\n",
       "<line clip-path=\"url(#clip172)\" x1=\"545.53\" y1=\"86.1857\" x2=\"513.53\" y2=\"86.1857\" style=\"stroke:#009af9; stroke-width:3.2; stroke-opacity:1\"/>\n",
       "<line clip-path=\"url(#clip172)\" x1=\"765.992\" y1=\"93.9713\" x2=\"733.992\" y2=\"93.9713\" style=\"stroke:#009af9; stroke-width:3.2; stroke-opacity:1\"/>\n",
       "<line clip-path=\"url(#clip172)\" x1=\"765.992\" y1=\"91.4935\" x2=\"733.992\" y2=\"91.4935\" style=\"stroke:#009af9; stroke-width:3.2; stroke-opacity:1\"/>\n",
       "<line clip-path=\"url(#clip172)\" x1=\"986.455\" y1=\"254.165\" x2=\"954.455\" y2=\"254.165\" style=\"stroke:#009af9; stroke-width:3.2; stroke-opacity:1\"/>\n",
       "<line clip-path=\"url(#clip172)\" x1=\"986.455\" y1=\"193.578\" x2=\"954.455\" y2=\"193.578\" style=\"stroke:#009af9; stroke-width:3.2; stroke-opacity:1\"/>\n",
       "<line clip-path=\"url(#clip172)\" x1=\"1206.92\" y1=\"813.888\" x2=\"1174.92\" y2=\"813.888\" style=\"stroke:#009af9; stroke-width:3.2; stroke-opacity:1\"/>\n",
       "<line clip-path=\"url(#clip172)\" x1=\"1206.92\" y1=\"767.968\" x2=\"1174.92\" y2=\"767.968\" style=\"stroke:#009af9; stroke-width:3.2; stroke-opacity:1\"/>\n",
       "<line clip-path=\"url(#clip172)\" x1=\"1427.38\" y1=\"1222.85\" x2=\"1395.38\" y2=\"1222.85\" style=\"stroke:#009af9; stroke-width:3.2; stroke-opacity:1\"/>\n",
       "<line clip-path=\"url(#clip172)\" x1=\"1427.38\" y1=\"1182.19\" x2=\"1395.38\" y2=\"1182.19\" style=\"stroke:#009af9; stroke-width:3.2; stroke-opacity:1\"/>\n",
       "<line clip-path=\"url(#clip172)\" x1=\"1647.84\" y1=\"1363.66\" x2=\"1615.84\" y2=\"1363.66\" style=\"stroke:#009af9; stroke-width:3.2; stroke-opacity:1\"/>\n",
       "<line clip-path=\"url(#clip172)\" x1=\"1647.84\" y1=\"1343.9\" x2=\"1615.84\" y2=\"1343.9\" style=\"stroke:#009af9; stroke-width:3.2; stroke-opacity:1\"/>\n",
       "<line clip-path=\"url(#clip172)\" x1=\"1868.31\" y1=\"1366.24\" x2=\"1836.31\" y2=\"1366.24\" style=\"stroke:#009af9; stroke-width:3.2; stroke-opacity:1\"/>\n",
       "<line clip-path=\"url(#clip172)\" x1=\"1868.31\" y1=\"1365.4\" x2=\"1836.31\" y2=\"1365.4\" style=\"stroke:#009af9; stroke-width:3.2; stroke-opacity:1\"/>\n",
       "<line clip-path=\"url(#clip172)\" x1=\"2088.77\" y1=\"1384.24\" x2=\"2056.77\" y2=\"1384.24\" style=\"stroke:#009af9; stroke-width:3.2; stroke-opacity:1\"/>\n",
       "<line clip-path=\"url(#clip172)\" x1=\"2088.77\" y1=\"1376.89\" x2=\"2056.77\" y2=\"1376.89\" style=\"stroke:#009af9; stroke-width:3.2; stroke-opacity:1\"/>\n",
       "<line clip-path=\"url(#clip172)\" x1=\"2309.23\" y1=\"1380.57\" x2=\"2277.23\" y2=\"1380.57\" style=\"stroke:#009af9; stroke-width:3.2; stroke-opacity:1\"/>\n",
       "<line clip-path=\"url(#clip172)\" x1=\"2309.23\" y1=\"1366.64\" x2=\"2277.23\" y2=\"1366.64\" style=\"stroke:#009af9; stroke-width:3.2; stroke-opacity:1\"/>\n",
       "<polyline clip-path=\"url(#clip172)\" style=\"stroke:#e26f46; stroke-linecap:butt; stroke-linejoin:round; stroke-width:4; stroke-opacity:1; fill:none\" points=\"\n",
       "  309.067,86.1857 529.53,86.1857 749.992,88.3314 970.455,209.842 1190.92,574.711 1411.38,1114.17 1631.84,1300.06 1852.31,1342.52 2072.77,1353.63 2293.23,1362.32 \n",
       "  \n",
       "  \"/>\n",
       "<path clip-path=\"url(#clip170)\" d=\"\n",
       "M1819.31 248.629 L2282.65 248.629 L2282.65 93.1086 L1819.31 93.1086  Z\n",
       "  \" fill=\"#ffffff\" fill-rule=\"evenodd\" fill-opacity=\"1\"/>\n",
       "<polyline clip-path=\"url(#clip170)\" style=\"stroke:#000000; stroke-linecap:butt; stroke-linejoin:round; stroke-width:4; stroke-opacity:1; fill:none\" points=\"\n",
       "  1819.31,248.629 2282.65,248.629 2282.65,93.1086 1819.31,93.1086 1819.31,248.629 \n",
       "  \"/>\n",
       "<polyline clip-path=\"url(#clip170)\" style=\"stroke:#009af9; stroke-linecap:butt; stroke-linejoin:round; stroke-width:4; stroke-opacity:1; fill:none\" points=\"\n",
       "  1842.68,144.949 1982.89,144.949 \n",
       "  \"/>\n",
       "<path clip-path=\"url(#clip170)\" d=\"M2006.26 127.669 L2028.11 127.669 L2028.11 131.604 L2010.94 131.604 L2010.94 141.835 L2027.39 141.835 L2027.39 145.77 L2010.94 145.77 L2010.94 158.293 L2028.53 158.293 L2028.53 162.229 L2006.26 162.229 L2006.26 127.669 Z\" fill=\"#000000\" fill-rule=\"evenodd\" fill-opacity=\"1\" /><path clip-path=\"url(#clip170)\" d=\"M2036.03 126.21 L2040.29 126.21 L2040.29 162.229 L2036.03 162.229 L2036.03 126.21 Z\" fill=\"#000000\" fill-rule=\"evenodd\" fill-opacity=\"1\" /><path clip-path=\"url(#clip170)\" d=\"M2049.2 126.21 L2053.46 126.21 L2053.46 162.229 L2049.2 162.229 L2049.2 126.21 Z\" fill=\"#000000\" fill-rule=\"evenodd\" fill-opacity=\"1\" /><path clip-path=\"url(#clip170)\" d=\"M2062.37 136.303 L2066.63 136.303 L2066.63 162.229 L2062.37 162.229 L2062.37 136.303 M2062.37 126.21 L2066.63 126.21 L2066.63 131.604 L2062.37 131.604 L2062.37 126.21 Z\" fill=\"#000000\" fill-rule=\"evenodd\" fill-opacity=\"1\" /><path clip-path=\"url(#clip170)\" d=\"M2079.66 158.34 L2079.66 172.09 L2075.38 172.09 L2075.38 136.303 L2079.66 136.303 L2079.66 140.238 Q2081 137.923 2083.04 136.812 Q2085.1 135.678 2087.95 135.678 Q2092.67 135.678 2095.61 139.428 Q2098.57 143.178 2098.57 149.289 Q2098.57 155.4 2095.61 159.15 Q2092.67 162.9 2087.95 162.9 Q2085.1 162.9 2083.04 161.789 Q2081 160.655 2079.66 158.34 M2094.15 149.289 Q2094.15 144.59 2092.21 141.928 Q2090.29 139.243 2086.91 139.243 Q2083.53 139.243 2081.58 141.928 Q2079.66 144.59 2079.66 149.289 Q2079.66 153.988 2081.58 156.673 Q2083.53 159.335 2086.91 159.335 Q2090.29 159.335 2092.21 156.673 Q2094.15 153.988 2094.15 149.289 Z\" fill=\"#000000\" fill-rule=\"evenodd\" fill-opacity=\"1\" /><path clip-path=\"url(#clip170)\" d=\"M2122.16 137.067 L2122.16 141.094 Q2120.36 140.169 2118.41 139.706 Q2116.47 139.243 2114.38 139.243 Q2111.21 139.243 2109.62 140.215 Q2108.04 141.187 2108.04 143.131 Q2108.04 144.613 2109.18 145.469 Q2110.31 146.303 2113.74 147.067 L2115.19 147.391 Q2119.73 148.363 2121.63 150.145 Q2123.55 151.905 2123.55 155.076 Q2123.55 158.687 2120.68 160.793 Q2117.83 162.9 2112.83 162.9 Q2110.75 162.9 2108.48 162.483 Q2106.24 162.09 2103.74 161.28 L2103.74 156.881 Q2106.1 158.108 2108.39 158.733 Q2110.68 159.335 2112.93 159.335 Q2115.93 159.335 2117.55 158.317 Q2119.18 157.275 2119.18 155.4 Q2119.18 153.664 2117.99 152.738 Q2116.84 151.812 2112.88 150.956 L2111.4 150.608 Q2107.44 149.775 2105.68 148.062 Q2103.92 146.326 2103.92 143.317 Q2103.92 139.659 2106.51 137.669 Q2109.11 135.678 2113.87 135.678 Q2116.24 135.678 2118.32 136.025 Q2120.4 136.372 2122.16 137.067 Z\" fill=\"#000000\" fill-rule=\"evenodd\" fill-opacity=\"1\" /><path clip-path=\"url(#clip170)\" d=\"M2140.38 139.289 Q2136.95 139.289 2134.96 141.974 Q2132.97 144.636 2132.97 149.289 Q2132.97 153.942 2134.94 156.627 Q2136.93 159.289 2140.38 159.289 Q2143.78 159.289 2145.77 156.604 Q2147.76 153.918 2147.76 149.289 Q2147.76 144.682 2145.77 141.997 Q2143.78 139.289 2140.38 139.289 M2140.38 135.678 Q2145.93 135.678 2149.11 139.289 Q2152.28 142.9 2152.28 149.289 Q2152.28 155.655 2149.11 159.289 Q2145.93 162.9 2140.38 162.9 Q2134.8 162.9 2131.63 159.289 Q2128.48 155.655 2128.48 149.289 Q2128.48 142.9 2131.63 139.289 Q2134.8 135.678 2140.38 135.678 Z\" fill=\"#000000\" fill-rule=\"evenodd\" fill-opacity=\"1\" /><path clip-path=\"url(#clip170)\" d=\"M2159.34 136.303 L2163.6 136.303 L2163.6 162.229 L2159.34 162.229 L2159.34 136.303 M2159.34 126.21 L2163.6 126.21 L2163.6 131.604 L2159.34 131.604 L2159.34 126.21 Z\" fill=\"#000000\" fill-rule=\"evenodd\" fill-opacity=\"1\" /><path clip-path=\"url(#clip170)\" d=\"M2189.57 140.238 L2189.57 126.21 L2193.83 126.21 L2193.83 162.229 L2189.57 162.229 L2189.57 158.34 Q2188.23 160.655 2186.17 161.789 Q2184.13 162.9 2181.26 162.9 Q2176.56 162.9 2173.6 159.15 Q2170.66 155.4 2170.66 149.289 Q2170.66 143.178 2173.6 139.428 Q2176.56 135.678 2181.26 135.678 Q2184.13 135.678 2186.17 136.812 Q2188.23 137.923 2189.57 140.238 M2175.05 149.289 Q2175.05 153.988 2176.98 156.673 Q2178.92 159.335 2182.3 159.335 Q2185.68 159.335 2187.62 156.673 Q2189.57 153.988 2189.57 149.289 Q2189.57 144.59 2187.62 141.928 Q2185.68 139.243 2182.3 139.243 Q2178.92 139.243 2176.98 141.928 Q2175.05 144.59 2175.05 149.289 Z\" fill=\"#000000\" fill-rule=\"evenodd\" fill-opacity=\"1\" /><path clip-path=\"url(#clip170)\" d=\"M2214.38 149.196 Q2209.22 149.196 2207.23 150.377 Q2205.24 151.557 2205.24 154.405 Q2205.24 156.673 2206.72 158.016 Q2208.23 159.335 2210.8 159.335 Q2214.34 159.335 2216.47 156.835 Q2218.62 154.312 2218.62 150.145 L2218.62 149.196 L2214.38 149.196 M2222.88 147.437 L2222.88 162.229 L2218.62 162.229 L2218.62 158.293 Q2217.16 160.655 2214.98 161.789 Q2212.81 162.9 2209.66 162.9 Q2205.68 162.9 2203.32 160.678 Q2200.98 158.432 2200.98 154.682 Q2200.98 150.307 2203.9 148.085 Q2206.84 145.863 2212.65 145.863 L2218.62 145.863 L2218.62 145.446 Q2218.62 142.507 2216.67 140.909 Q2214.75 139.289 2211.26 139.289 Q2209.04 139.289 2206.93 139.821 Q2204.82 140.354 2202.88 141.419 L2202.88 137.483 Q2205.22 136.581 2207.42 136.141 Q2209.61 135.678 2211.7 135.678 Q2217.32 135.678 2220.1 138.594 Q2222.88 141.511 2222.88 147.437 Z\" fill=\"#000000\" fill-rule=\"evenodd\" fill-opacity=\"1\" /><path clip-path=\"url(#clip170)\" d=\"M2231.65 126.21 L2235.91 126.21 L2235.91 162.229 L2231.65 162.229 L2231.65 126.21 Z\" fill=\"#000000\" fill-rule=\"evenodd\" fill-opacity=\"1\" /><polyline clip-path=\"url(#clip170)\" style=\"stroke:#e26f46; stroke-linecap:butt; stroke-linejoin:round; stroke-width:4; stroke-opacity:1; fill:none\" points=\"\n",
       "  1842.68,196.789 1982.89,196.789 \n",
       "  \"/>\n",
       "<path clip-path=\"url(#clip170)\" d=\"M2006.26 179.509 L2010.94 179.509 L2010.94 210.133 L2027.76 210.133 L2027.76 214.069 L2006.26 214.069 L2006.26 179.509 Z\" fill=\"#000000\" fill-rule=\"evenodd\" fill-opacity=\"1\" /><path clip-path=\"url(#clip170)\" d=\"M2041.7 191.129 Q2038.27 191.129 2036.28 193.814 Q2034.29 196.476 2034.29 201.129 Q2034.29 205.782 2036.26 208.467 Q2038.25 211.129 2041.7 211.129 Q2045.1 211.129 2047.09 208.444 Q2049.08 205.758 2049.08 201.129 Q2049.08 196.522 2047.09 193.837 Q2045.1 191.129 2041.7 191.129 M2041.7 187.518 Q2047.25 187.518 2050.43 191.129 Q2053.6 194.74 2053.6 201.129 Q2053.6 207.495 2050.43 211.129 Q2047.25 214.74 2041.7 214.74 Q2036.12 214.74 2032.95 211.129 Q2029.8 207.495 2029.8 201.129 Q2029.8 194.74 2032.95 191.129 Q2036.12 187.518 2041.7 187.518 Z\" fill=\"#000000\" fill-rule=\"evenodd\" fill-opacity=\"1\" /><path clip-path=\"url(#clip170)\" d=\"M2060.22 203.837 L2060.22 188.143 L2064.48 188.143 L2064.48 203.675 Q2064.48 207.356 2065.91 209.208 Q2067.35 211.036 2070.22 211.036 Q2073.67 211.036 2075.66 208.837 Q2077.67 206.638 2077.67 202.842 L2077.67 188.143 L2081.93 188.143 L2081.93 214.069 L2077.67 214.069 L2077.67 210.087 Q2076.12 212.448 2074.06 213.606 Q2072.02 214.74 2069.31 214.74 Q2064.85 214.74 2062.53 211.962 Q2060.22 209.184 2060.22 203.837 M2070.93 187.518 L2070.93 187.518 Z\" fill=\"#000000\" fill-rule=\"evenodd\" fill-opacity=\"1\" /><path clip-path=\"url(#clip170)\" d=\"M2087.65 188.143 L2092.16 188.143 L2100.26 209.902 L2108.37 188.143 L2112.88 188.143 L2103.16 214.069 L2097.37 214.069 L2087.65 188.143 Z\" fill=\"#000000\" fill-rule=\"evenodd\" fill-opacity=\"1\" /><path clip-path=\"url(#clip170)\" d=\"M2130.54 201.036 Q2125.38 201.036 2123.39 202.217 Q2121.4 203.397 2121.4 206.245 Q2121.4 208.513 2122.88 209.856 Q2124.38 211.175 2126.95 211.175 Q2130.49 211.175 2132.62 208.675 Q2134.78 206.152 2134.78 201.985 L2134.78 201.036 L2130.54 201.036 M2139.04 199.277 L2139.04 214.069 L2134.78 214.069 L2134.78 210.133 Q2133.32 212.495 2131.14 213.629 Q2128.97 214.74 2125.82 214.74 Q2121.84 214.74 2119.48 212.518 Q2117.14 210.272 2117.14 206.522 Q2117.14 202.147 2120.05 199.925 Q2122.99 197.703 2128.8 197.703 L2134.78 197.703 L2134.78 197.286 Q2134.78 194.347 2132.83 192.749 Q2130.91 191.129 2127.42 191.129 Q2125.19 191.129 2123.09 191.661 Q2120.98 192.194 2119.04 193.259 L2119.04 189.323 Q2121.37 188.421 2123.57 187.981 Q2125.77 187.518 2127.86 187.518 Q2133.48 187.518 2136.26 190.434 Q2139.04 193.351 2139.04 199.277 Z\" fill=\"#000000\" fill-rule=\"evenodd\" fill-opacity=\"1\" /><path clip-path=\"url(#clip170)\" d=\"M2147.81 188.143 L2152.07 188.143 L2152.07 214.069 L2147.81 214.069 L2147.81 188.143 M2147.81 178.05 L2152.07 178.05 L2152.07 183.444 L2147.81 183.444 L2147.81 178.05 Z\" fill=\"#000000\" fill-rule=\"evenodd\" fill-opacity=\"1\" /><path clip-path=\"url(#clip170)\" d=\"M2182.53 198.421 L2182.53 214.069 L2178.27 214.069 L2178.27 198.559 Q2178.27 194.879 2176.84 193.05 Q2175.4 191.222 2172.53 191.222 Q2169.08 191.222 2167.09 193.421 Q2165.1 195.62 2165.1 199.416 L2165.1 214.069 L2160.82 214.069 L2160.82 188.143 L2165.1 188.143 L2165.1 192.171 Q2166.63 189.833 2168.69 188.675 Q2170.77 187.518 2173.48 187.518 Q2177.95 187.518 2180.24 190.296 Q2182.53 193.05 2182.53 198.421 Z\" fill=\"#000000\" fill-rule=\"evenodd\" fill-opacity=\"1\" /></svg>\n"
      ]
     },
     "metadata": {},
     "output_type": "display_data"
    }
   ],
   "source": [
    "# Plot Normalized mutual information vs Mixing parameter\n",
    "\n",
    "m = mean(NMIs,dims=2);\n",
    "s = std(NMIs,dims=2);\n",
    "plot(mus, m, yerror = s,\n",
    "markerstrokecolor=:auto,\n",
    "xlabel = \"Mixing parameter\",\n",
    "ylabel = \"Normalized mutual information\",\n",
    "labels = \"Ellipsoidal\")\n",
    "\n",
    "plot!(mus, NMIs_louvain,\n",
    "markerstrokecolor=:auto,\n",
    "xlabel = \"Mixing parameter\",\n",
    "ylabel = \"Normalized mutual information\",\n",
    "labels = \"Louvain\")\n",
    "savefig(\"figures/nmi_vs_mu.pdf\")\n",
    "plot!()"
   ]
  },
  {
   "cell_type": "markdown",
   "metadata": {},
   "source": [
    "### Estimating the impact of $d_0$ on embedding quality"
   ]
  },
  {
   "cell_type": "code",
   "execution_count": 4,
   "metadata": {},
   "outputs": [
    {
     "name": "stdout",
     "output_type": "stream",
     "text": [
      "mu=0.4\n",
      "========== d0 step 1/19 =========="
     ]
    },
    {
     "name": "stdout",
     "output_type": "stream",
     "text": [
      "\n",
      "\n",
      "  ~~~~~ number_rep = 1/3 ~~~~~"
     ]
    },
    {
     "name": "stdout",
     "output_type": "stream",
     "text": [
      "\n",
      " ------- Acc Projected Power Iteration -------\n",
      "The iteration has become stationary after "
     ]
    },
    {
     "name": "stdout",
     "output_type": "stream",
     "text": [
      "370 iterations\n",
      "  2.456231 seconds (10.34 k allocations: 260.010 MiB, 17.97% gc time, 0.39% compilation time)\n",
      " -------------- Clustering ------- \n",
      "dimension of embedding used for clustering: 10\n"
     ]
    },
    {
     "name": "stdout",
     "output_type": "stream",
     "text": [
      "Number of updates: 7\n",
      "Modularity: 0.3685477137636403\n",
      "Number of communities: 13\n",
      " -------------------------------------------- \n",
      "The first 5 squared singular values divided by N : \n",
      "[0.2199453630428247, 0.21294940790383207, 0.18087197639934743, 0.12786963405146853, 0.09947008817395152]\n",
      " -------------------------------------------- \n",
      "  7.236966 seconds (1.98 M allocations: 1.438 GiB, 10.39% gc time, 0.13% compilation time)\n",
      "\n",
      "  ~~~~~ number_rep = 2/3 ~~~~~\n",
      " ------- Acc Projected Power Iteration -------\n"
     ]
    },
    {
     "name": "stdout",
     "output_type": "stream",
     "text": [
      "The iteration has become stationary after 314 iterations\n",
      "  0.469043 seconds (8.27 k allocations: 220.550 MiB, 11.40% gc time)\n",
      " -------------- Clustering ------- \n",
      "dimension of embedding used for clustering: 10\n",
      "Number of updates: "
     ]
    },
    {
     "name": "stdout",
     "output_type": "stream",
     "text": [
      "9\n",
      "Modularity: 0.3598078437529733\n",
      "Number of communities: 11\n",
      " -------------------------------------------- \n",
      "The first 5 squared singular values divided by N : \n",
      "[0.22007196383185268, 0.21290432904833223, 0.18126305441162952, 0.1282516482366051, 0.09890947906660214]\n",
      " -------------------------------------------- \n",
      "  3.473918 seconds (2.03 M allocations: 1.429 GiB, 7.95% gc time)\n",
      "\n",
      "  ~~~~~ number_rep = 3/3 ~~~~~\n",
      " ------- Acc Projected Power Iteration -------\n"
     ]
    },
    {
     "name": "stdout",
     "output_type": "stream",
     "text": [
      "The iteration has become stationary after 340 iterations\n",
      "  0.337524 seconds (8.95 k allocations: 238.851 MiB, 9.20% gc time)\n",
      " -------------- Clustering ------- \n",
      "dimension of embedding used for clustering: 10\n",
      "Number of updates: "
     ]
    },
    {
     "name": "stdout",
     "output_type": "stream",
     "text": [
      "9\n",
      "Modularity: 0.3675474083663801\n",
      "Number of communities: 12\n",
      " -------------------------------------------- \n",
      "The first 5 squared singular values divided by N : \n",
      "[0.2199925582875693, 0.21306437167186074, 0.18102615751782522, 0.12810647123230898, 0.09920678633530804]\n",
      " -------------------------------------------- \n",
      "  2.492905 seconds (2.36 M allocations: 1.627 GiB, 9.62% gc time)\n",
      "\n",
      "========== d0 step 2/19 ==========\n",
      "\n",
      "  ~~~~~ number_rep = 1/3 ~~~~~\n",
      " ------- Acc Projected Power Iteration -------\n"
     ]
    },
    {
     "name": "stdout",
     "output_type": "stream",
     "text": [
      "The iteration has become stationary after 267 iterations\n",
      "  0.398144 seconds (7.05 k allocations: 279.166 MiB, 8.12% gc time)\n",
      " -------------- Clustering ------- \n",
      "dimension of embedding used for clustering: 15\n",
      "Number of updates: "
     ]
    },
    {
     "name": "stdout",
     "output_type": "stream",
     "text": [
      "6\n",
      "Modularity: 0.382144868217918\n",
      "Number of communities: 15\n",
      " -------------------------------------------- \n",
      "The first 5 squared singular values divided by N : \n",
      "[0.21975863259100625, 0.2129961108097389, 0.1809139144296342, 0.12801292887563945, 0.09934748919395328]\n",
      " -------------------------------------------- \n",
      "  2.478457 seconds (1.81 M allocations: 1.416 GiB, 8.41% gc time)\n",
      "\n",
      "  ~~~~~ number_rep = 2/3 ~~~~~\n",
      " ------- Acc Projected Power Iteration -------\n"
     ]
    },
    {
     "name": "stdout",
     "output_type": "stream",
     "text": [
      "The iteration has become stationary after 274 iterations\n",
      "  0.401998 seconds (7.23 k allocations: 286.504 MiB, 7.98% gc time)\n",
      " -------------- Clustering ------- \n",
      "dimension of embedding used for clustering: 15\n",
      "Number of updates: "
     ]
    },
    {
     "name": "stdout",
     "output_type": "stream",
     "text": [
      "4\n",
      "Modularity: 0.37957591471896673\n",
      "Number of communities: 16\n",
      " -------------------------------------------- \n",
      "The first 5 squared singular values divided by N : \n",
      "[0.2198356546279747, 0.2128559507736598, 0.18106513361679907, 0.12803174179082036, 0.09908698524019462]\n",
      " -------------------------------------------- \n",
      "  2.138034 seconds (1.39 M allocations: 1.170 GiB, 7.53% gc time)\n",
      "\n",
      "  ~~~~~ number_rep = 3/3 ~~~~~\n",
      " ------- Acc Projected Power Iteration -------\n"
     ]
    },
    {
     "name": "stdout",
     "output_type": "stream",
     "text": [
      "The iteration has become stationary after 274 iterations\n",
      "  0.413009 seconds (7.23 k allocations: 286.504 MiB, 11.07% gc time)\n",
      " -------------- Clustering ------- \n",
      "dimension of embedding used for clustering: 15\n",
      "Number of updates: "
     ]
    },
    {
     "name": "stdout",
     "output_type": "stream",
     "text": [
      "12\n",
      "Modularity: 0.3770364342166686\n",
      "Number of communities: 16\n",
      " -------------------------------------------- \n",
      "The first 5 squared singular values divided by N : \n",
      "[0.2199092769921702, 0.21303376889038664, 0.18085065360985866, 0.1282100677433059, 0.09917348881875224]\n",
      " -------------------------------------------- \n",
      "  2.276236 seconds (1.51 M allocations: 1.241 GiB, 8.17% gc time)\n",
      "\n",
      "========== d0 step 3/19 ==========\n",
      "\n",
      "  ~~~~~ number_rep = 1/3 ~~~~~\n",
      " ------- Acc Projected Power Iteration -------\n"
     ]
    },
    {
     "name": "stdout",
     "output_type": "stream",
     "text": [
      "The iteration has become stationary after 285 iterations\n",
      "  0.613214 seconds (7.52 k allocations: 395.976 MiB, 10.23% gc time)\n",
      " -------------- Clustering ------- \n",
      "dimension of embedding used for clustering: 20\n",
      "Number of updates: "
     ]
    },
    {
     "name": "stdout",
     "output_type": "stream",
     "text": [
      "3\n",
      "Modularity: 0.3873572456325521\n",
      "Number of communities: 19\n",
      " -------------------------------------------- \n",
      "The first 5 squared singular values divided by N : \n",
      "[0.21983995896031633, 0.21285455647006332, 0.18082736599651456, 0.12805215469647188, 0.09919054139819086]\n",
      " -------------------------------------------- \n",
      "  2.065750 seconds (1.12 M allocations: 1.133 GiB, 6.73% gc time)\n",
      "\n",
      "  ~~~~~ number_rep = 2/3 ~~~~~\n",
      " ------- Acc Projected Power Iteration -------\n"
     ]
    },
    {
     "name": "stdout",
     "output_type": "stream",
     "text": [
      "The iteration has become stationary after 272 iterations\n",
      "  0.598411 seconds (7.18 k allocations: 377.868 MiB, 9.91% gc time)\n",
      " -------------- Clustering ------- \n",
      "dimension of embedding used for clustering: 20\n",
      "Number of updates: "
     ]
    },
    {
     "name": "stdout",
     "output_type": "stream",
     "text": [
      "3\n",
      "Modularity: 0.38792610665375865\n",
      "Number of communities: 19\n",
      " -------------------------------------------- \n",
      "The first 5 squared singular values divided by N : \n",
      "[0.21983438987102913, 0.21282869650721456, 0.18091738957658868, 0.12811203042781824, 0.09922121826769811]\n",
      " -------------------------------------------- \n",
      "  2.233464 seconds (1.08 M allocations: 1.094 GiB, 5.96% gc time)\n",
      "\n",
      "  ~~~~~ number_rep = 3/3 ~~~~~\n",
      " ------- Acc Projected Power Iteration -------\n"
     ]
    },
    {
     "name": "stdout",
     "output_type": "stream",
     "text": [
      "The iteration has become stationary after 158 iterations\n",
      "  0.609335 seconds (4.22 k allocations: 219.071 MiB, 5.63% gc time)\n",
      " -------------- Clustering ------- \n",
      "dimension of embedding used for clustering: 20\n",
      "Number of updates: "
     ]
    },
    {
     "name": "stdout",
     "output_type": "stream",
     "text": [
      "4\n",
      "Modularity: 0.3874058545501638\n",
      "Number of communities: 19\n",
      " -------------------------------------------- \n",
      "The first 5 squared singular values divided by N : \n",
      "[0.21981528119964702, 0.21231934691576693, 0.18130714434467857, 0.12757835617140537, 0.09908260390869753]\n",
      " -------------------------------------------- \n",
      "  2.429354 seconds (1.28 M allocations: 1.065 GiB, 5.07% gc time)\n",
      "\n",
      "========== d0 step 4/19 ==========\n",
      "\n",
      "  ~~~~~ number_rep = 1/3 ~~~~~\n",
      " ------- Acc Projected Power Iteration -------\n"
     ]
    },
    {
     "name": "stdout",
     "output_type": "stream",
     "text": [
      "The iteration has become stationary after 213 iterations\n",
      "  0.548712 seconds (5.65 k allocations: 368.929 MiB, 9.85% gc time)\n",
      " -------------- Clustering ------- \n",
      "dimension of embedding used for clustering: 25\n",
      "Number of updates: "
     ]
    },
    {
     "name": "stdout",
     "output_type": "stream",
     "text": [
      "4\n",
      "Modularity: 0.3893388960650218\n",
      "Number of communities: 19\n",
      " -------------------------------------------- \n",
      "The first 5 squared singular values divided by N : \n",
      "[0.22023852534354926, 0.21298759039804918, 0.18098816770450765, 0.12796296099977172, 0.09931831510756566]\n",
      " -------------------------------------------- \n",
      "  2.586299 seconds (1.30 M allocations: 1.269 GiB, 6.69% gc time)\n",
      "\n",
      "  ~~~~~ number_rep = 2/3 ~~~~~\n",
      " ------- Acc Projected Power Iteration -------\n"
     ]
    },
    {
     "name": "stdout",
     "output_type": "stream",
     "text": [
      "The iteration has become stationary after 282 iterations\n",
      "  0.764631 seconds (7.44 k allocations: 488.857 MiB, 9.69% gc time)\n",
      " -------------- Clustering ------- \n",
      "dimension of embedding used for clustering: 25\n",
      "Number of updates: "
     ]
    },
    {
     "name": "stdout",
     "output_type": "stream",
     "text": [
      "4\n",
      "Modularity: 0.38717600196003993\n",
      "Number of communities: 19\n",
      " -------------------------------------------- \n",
      "The first 5 squared singular values divided by N : \n",
      "[0.2197901657592919, 0.2128311405965413, 0.18085678371441136, 0.12812364257156833, 0.09919319623556634]\n",
      " -------------------------------------------- \n",
      "  2.811089 seconds (1.30 M allocations: 1.383 GiB, 6.80% gc time)\n",
      "\n",
      "  ~~~~~ number_rep = 3/3 ~~~~~\n",
      " ------- Acc Projected Power Iteration -------\n"
     ]
    },
    {
     "name": "stdout",
     "output_type": "stream",
     "text": [
      "The iteration has become stationary after 265 iterations\n",
      "  0.677824 seconds (7.00 k allocations: 459.310 MiB, 9.80% gc time)\n",
      " -------------- Clustering ------- \n",
      "dimension of embedding used for clustering: 25\n",
      "Number of updates: "
     ]
    },
    {
     "name": "stdout",
     "output_type": "stream",
     "text": [
      "4\n",
      "Modularity: 0.3870128032352731\n",
      "Number of communities: 18\n",
      " -------------------------------------------- \n",
      "The first 5 squared singular values divided by N : \n",
      "[0.21993807564833226, 0.21292084118359852, 0.18108030871537098, 0.12814287658756557, 0.09921227637601417]\n",
      " -------------------------------------------- \n",
      "  2.688997 seconds (1.28 M allocations: 1.344 GiB, 7.26% gc time)\n",
      "\n",
      "========== d0 step 5/19 ==========\n",
      "\n",
      "  ~~~~~ number_rep = 1/3 ~~~~~\n",
      " ------- Acc Projected Power Iteration -------\n"
     ]
    },
    {
     "name": "stdout",
     "output_type": "stream",
     "text": [
      "The iteration has become stationary after 155 iterations\n",
      "  0.489320 seconds (4.14 k allocations: 321.394 MiB, 8.96% gc time)\n",
      " -------------- Clustering ------- \n",
      "dimension of embedding used for clustering: 30\n",
      "Number of updates: "
     ]
    },
    {
     "name": "stdout",
     "output_type": "stream",
     "text": [
      "5\n",
      "Modularity: 0.3877210454894114\n",
      "Number of communities: 19\n",
      " -------------------------------------------- \n",
      "The first 5 squared singular values divided by N : \n",
      "[0.22011327891650836, 0.2126401270135256, 0.18128847430770073, 0.1285105414820808, 0.09866020382294784]\n",
      " -------------------------------------------- \n",
      "  2.518404 seconds (1.13 M allocations: 1.149 GiB, 5.72% gc time)\n",
      "\n",
      "  ~~~~~ number_rep = 2/3 ~~~~~\n",
      " ------- Acc Projected Power Iteration -------\n"
     ]
    },
    {
     "name": "stdout",
     "output_type": "stream",
     "text": [
      "The iteration has become stationary after 284 iterations\n",
      "  1.006685 seconds (7.49 k allocations: 590.171 MiB, 11.06% gc time)\n",
      " -------------- Clustering ------- \n",
      "dimension of embedding used for clustering: 30\n",
      "Number of updates: "
     ]
    },
    {
     "name": "stdout",
     "output_type": "stream",
     "text": [
      "4\n",
      "Modularity: 0.3893941427813408\n",
      "Number of communities: 19\n",
      " -------------------------------------------- \n",
      "The first 5 squared singular values divided by N : \n",
      "[0.21982687352327654, 0.21288441996769084, 0.1808592907041561, 0.12831278622037076, 0.099044175849196]\n",
      " -------------------------------------------- \n",
      "  3.385654 seconds (1.27 M allocations: 1.501 GiB, 6.82% gc time)\n",
      "\n",
      "  ~~~~~ number_rep = 3/3 ~~~~~\n",
      " ------- Acc Projected Power Iteration -------\n"
     ]
    },
    {
     "name": "stdout",
     "output_type": "stream",
     "text": [
      "The iteration has become stationary after 232 iterations\n",
      "  0.857655 seconds (6.14 k allocations: 481.826 MiB, 7.64% gc time)\n",
      " -------------- Clustering ------- \n",
      "dimension of embedding used for clustering: 30\n",
      "Number of updates: "
     ]
    },
    {
     "name": "stdout",
     "output_type": "stream",
     "text": [
      "5\n",
      "Modularity: 0.3883688244196823\n",
      "Number of communities: 19\n",
      " -------------------------------------------- \n",
      "The first 5 squared singular values divided by N : \n",
      "[0.22022301234158, 0.21310424016075782, 0.18111775962106424, 0.1282678745923199, 0.09890780320332423]\n",
      " -------------------------------------------- \n",
      "  2.958618 seconds (1.10 M allocations: 1.282 GiB, 6.23% gc time)\n",
      "\n",
      "========== d0 step 6/19 ==========\n",
      "\n",
      "  ~~~~~ number_rep = 1/3 ~~~~~\n",
      " ------- Acc Projected Power Iteration -------\n"
     ]
    },
    {
     "name": "stdout",
     "output_type": "stream",
     "text": [
      "The iteration has become stationary after 214 iterations\n",
      "  0.814950 seconds (5.67 k allocations: 518.066 MiB, 8.07% gc time)\n",
      " -------------- Clustering ------- \n",
      "dimension of embedding used for clustering: 35\n",
      "Number of updates: "
     ]
    },
    {
     "name": "stdout",
     "output_type": "stream",
     "text": [
      "5\n",
      "Modularity: 0.38723339718299343\n",
      "Number of communities: 19\n",
      " -------------------------------------------- \n",
      "The first 5 squared singular values divided by N : \n",
      "[0.22018787379457103, 0.21308104383156048, 0.18104251375771077, 0.12824513658158784, 0.09903429569762326]\n",
      " -------------------------------------------- \n",
      "  4.160929 seconds (1.56 M allocations: 1.673 GiB, 5.62% gc time)\n",
      "\n",
      "  ~~~~~ number_rep = 2/3 ~~~~~\n",
      " ------- Acc Projected Power Iteration -------\n"
     ]
    },
    {
     "name": "stdout",
     "output_type": "stream",
     "text": [
      "The iteration has become stationary after 285 iterations\n",
      "  1.007118 seconds (7.52 k allocations: 690.554 MiB, 8.45% gc time)\n",
      " -------------- Clustering ------- \n",
      "dimension of embedding used for clustering: 35\n",
      "Number of updates: "
     ]
    },
    {
     "name": "stdout",
     "output_type": "stream",
     "text": [
      "6\n",
      "Modularity: 0.387945581152611\n",
      "Number of communities: 20\n",
      " -------------------------------------------- \n",
      "The first 5 squared singular values divided by N : \n",
      "[0.2198528899734334, 0.21289041205371165, 0.18094942299745018, 0.12805890831233868, 0.09918511823253154]\n",
      " -------------------------------------------- \n",
      "  4.024387 seconds (1.38 M allocations: 1.711 GiB, 5.65% gc time)\n",
      "\n",
      "  ~~~~~ number_rep = 3/3 ~~~~~\n",
      " ------- Acc Projected Power Iteration -------\n"
     ]
    },
    {
     "name": "stdout",
     "output_type": "stream",
     "text": [
      "The iteration has become stationary after 185 iterations\n",
      "  0.633982 seconds (4.92 k allocations: 447.614 MiB, 8.45% gc time)\n",
      " -------------- Clustering ------- \n",
      "dimension of embedding used for clustering: 35\n",
      "Number of updates: "
     ]
    },
    {
     "name": "stdout",
     "output_type": "stream",
     "text": [
      "5\n",
      "Modularity: 0.38827034841228575\n",
      "Number of communities: 20\n",
      " -------------------------------------------- \n",
      "The first 5 squared singular values divided by N : \n",
      "[0.21955405413651266, 0.21266071488051005, 0.1810847761048491, 0.127803650503589, 0.09940935040188997]\n",
      " -------------------------------------------- \n",
      "  3.508087 seconds (1.41 M allocations: 1.498 GiB, 5.68% gc time)\n",
      "\n",
      "========== d0 step 7/19 ==========\n",
      "\n",
      "  ~~~~~ number_rep = 1/3 ~~~~~\n",
      " ------- Acc Projected Power Iteration -------\n"
     ]
    },
    {
     "name": "stdout",
     "output_type": "stream",
     "text": [
      "The iteration has become stationary after 229 iterations\n",
      "  0.895596 seconds (6.06 k allocations: 633.508 MiB, 9.31% gc time)\n",
      " -------------- Clustering ------- \n",
      "dimension of embedding used for clustering: 40\n",
      "Number of updates: "
     ]
    },
    {
     "name": "stdout",
     "output_type": "stream",
     "text": [
      "5\n",
      "Modularity: 0.3885702239268082\n",
      "Number of communities: 20\n",
      " -------------------------------------------- \n",
      "The first 5 squared singular values divided by N : \n",
      "[0.22022739551203419, 0.2131876123326382, 0.1813063368441274, 0.1282746530616808, 0.0988885051591457]\n",
      " -------------------------------------------- \n",
      "  4.090516 seconds (1.41 M allocations: 1.718 GiB, 5.38% gc time)\n",
      "\n",
      "  ~~~~~ number_rep = 2/3 ~~~~~\n",
      " ------- Acc Projected Power Iteration -------\n"
     ]
    },
    {
     "name": "stdout",
     "output_type": "stream",
     "text": [
      "The iteration has become stationary after 214 iterations\n",
      "  1.275759 seconds (5.67 k allocations: 591.875 MiB, 7.23% gc time)\n"
     ]
    },
    {
     "name": "stdout",
     "output_type": "stream",
     "text": [
      " -------------- Clustering ------- \n",
      "dimension of embedding used for clustering: 40\n",
      "Number of updates: "
     ]
    },
    {
     "name": "stdout",
     "output_type": "stream",
     "text": [
      "4\n",
      "Modularity: 0.3888729125638306\n",
      "Number of communities: 20\n",
      " -------------------------------------------- \n",
      "The first 5 squared singular values divided by N : \n",
      "[0.22005970568425834, 0.21304482557778898, 0.18100990795500946, 0.12816703630048884, 0.09918193603853652]\n",
      " -------------------------------------------- \n",
      "  5.484483 seconds (1.27 M allocations: 1.581 GiB, 4.69% gc time)\n",
      "\n",
      "  ~~~~~ number_rep = 3/3 ~~~~~\n",
      " ------- Acc Projected Power Iteration -------\n"
     ]
    },
    {
     "name": "stdout",
     "output_type": "stream",
     "text": [
      "The iteration has become stationary after 311 iterations\n",
      "  5.650361 seconds (8.20 k allocations: 861.104 MiB, 3.43% gc time)\n",
      " -------------- Clustering ------- \n",
      "dimension of embedding used for clustering: 40\n",
      "Number of updates: "
     ]
    },
    {
     "name": "stdout",
     "output_type": "stream",
     "text": [
      "5\n",
      "Modularity: 0.388783034762946\n",
      "Number of communities: 21\n",
      " -------------------------------------------- \n",
      "The first 5 squared singular values divided by N : \n",
      "[0.22003683277975786, 0.21293889929012094, 0.1810550481725857, 0.12814926627846532, 0.09907299962700661]\n",
      " -------------------------------------------- \n",
      " 10.453117 seconds (1.51 M allocations: 2.010 GiB, 3.42% gc time)\n",
      "\n",
      "========== d0 step 8/19 ==========\n",
      "\n",
      "  ~~~~~ number_rep = 1/3 ~~~~~\n",
      " ------- Acc Projected Power Iteration -------\n"
     ]
    },
    {
     "name": "stdout",
     "output_type": "stream",
     "text": [
      "The iteration has become stationary after 215 iterations\n",
      "  1.058088 seconds (5.70 k allocations: 668.914 MiB, 7.69% gc time)\n",
      " -------------- Clustering ------- \n",
      "dimension of embedding used for clustering: 45\n",
      "Number of updates: "
     ]
    },
    {
     "name": "stdout",
     "output_type": "stream",
     "text": [
      "6\n",
      "Modularity: 0.3879831591188444\n",
      "Number of communities: 23\n",
      " -------------------------------------------- \n",
      "The first 5 squared singular values divided by N : \n",
      "[0.21999677340537413, 0.21298082284680694, 0.1810962225126494, 0.12803097830614538, 0.09921410882693461]\n",
      " -------------------------------------------- \n",
      "  5.433997 seconds (1.57 M allocations: 1.919 GiB, 4.92% gc time)\n",
      "\n",
      "  ~~~~~ number_rep = 2/3 ~~~~~\n",
      " ------- Acc Projected Power Iteration -------\n"
     ]
    },
    {
     "name": "stdout",
     "output_type": "stream",
     "text": [
      "The iteration has become stationary after 328 iterations\n",
      "  3.035796 seconds (8.64 k allocations: 1021.724 MiB, 6.07% gc time)\n",
      " -------------- Clustering ------- \n",
      "dimension of embedding used for clustering: 45\n",
      "Number of updates: "
     ]
    },
    {
     "name": "stdout",
     "output_type": "stream",
     "text": [
      "6\n",
      "Modularity: 0.3881801153136114\n",
      "Number of communities: 23\n",
      " -------------------------------------------- \n",
      "The first 5 squared singular values divided by N : \n",
      "[0.22004159874926216, 0.21299483117496915, 0.18116597752108654, 0.12817944345175525, 0.09907796247708604]\n",
      " -------------------------------------------- \n",
      "  8.840187 seconds (1.60 M allocations: 2.288 GiB, 4.91% gc time)\n",
      "\n",
      "  ~~~~~ number_rep = 3/3 ~~~~~\n",
      " ------- Acc Projected Power Iteration -------\n"
     ]
    },
    {
     "name": "stdout",
     "output_type": "stream",
     "text": [
      "The iteration has become stationary after 271 iterations\n",
      "  1.301141 seconds (7.16 k allocations: 843.757 MiB, 7.39% gc time)\n",
      " -------------- Clustering ------- \n",
      "dimension of embedding used for clustering: 45\n",
      "Number of updates: "
     ]
    },
    {
     "name": "stdout",
     "output_type": "stream",
     "text": [
      "6\n",
      "Modularity: 0.3882081336793137\n",
      "Number of communities: 22\n",
      " -------------------------------------------- \n",
      "The first 5 squared singular values divided by N : \n",
      "[0.21987142301040766, 0.21288198006136827, 0.1809626007522901, 0.12805113848511407, 0.09917182322648975]\n",
      " -------------------------------------------- \n",
      "  6.328957 seconds (1.70 M allocations: 2.189 GiB, 4.84% gc time)\n",
      "\n",
      "========== d0 step 9/19 ==========\n",
      "\n",
      "  ~~~~~ number_rep = 1/3 ~~~~~\n",
      " ------- Acc Projected Power Iteration -------\n"
     ]
    },
    {
     "name": "stdout",
     "output_type": "stream",
     "text": [
      "The iteration has become stationary after 268 iterations\n",
      "  1.319564 seconds (7.34 k allocations: 927.096 MiB, 9.13% gc time)\n",
      " -------------- Clustering ------- \n",
      "dimension of embedding used for clustering: 50\n",
      "Number of updates: "
     ]
    },
    {
     "name": "stdout",
     "output_type": "stream",
     "text": [
      "6\n",
      "Modularity: 0.38699846592446324\n",
      "Number of communities: 25\n",
      " -------------------------------------------- \n",
      "The first 5 squared singular values divided by N : \n",
      "[0.21984520273122105, 0.21282742075628078, 0.18091027829332537, 0.12816529839611746, 0.09911920000635532]\n",
      " -------------------------------------------- \n",
      " 11.441020 seconds (1.55 M allocations: 2.209 GiB, 3.56% gc time)\n",
      "\n",
      "  ~~~~~ number_rep = 2/3 ~~~~~\n",
      " ------- Acc Projected Power Iteration -------\n"
     ]
    },
    {
     "name": "stdout",
     "output_type": "stream",
     "text": [
      "The iteration has become stationary after 153 iterations\n",
      "  1.151800 seconds (4.24 k allocations: 528.145 MiB, 7.80% gc time)\n",
      " -------------- Clustering ------- \n",
      "dimension of embedding used for clustering: 50\n",
      "Number of updates: "
     ]
    },
    {
     "name": "stdout",
     "output_type": "stream",
     "text": [
      "5\n",
      "Modularity: 0.38747408844569164\n",
      "Number of communities: 24\n",
      " -------------------------------------------- \n",
      "The first 5 squared singular values divided by N : \n",
      "[0.22018477200044673, 0.21281564528047547, 0.18043062723065362, 0.12842345792120707, 0.09880723010919185]\n",
      " -------------------------------------------- \n",
      " 14.861578 seconds (1.53 M allocations: 1.809 GiB, 3.00% gc time)\n",
      "\n",
      "  ~~~~~ number_rep = 3/3 ~~~~~\n",
      " ------- Acc Projected Power Iteration -------\n"
     ]
    },
    {
     "name": "stdout",
     "output_type": "stream",
     "text": [
      "The iteration has become stationary after 284 iterations\n",
      "  4.960562 seconds (7.78 k allocations: 982.602 MiB, 6.73% gc time)\n",
      " -------------- Clustering ------- \n",
      "dimension of embedding used for clustering: 50\n",
      "Number of updates: "
     ]
    },
    {
     "name": "stdout",
     "output_type": "stream",
     "text": [
      "6\n",
      "Modularity: 0.3869275526656033\n",
      "Number of communities: 22\n",
      " -------------------------------------------- \n",
      "The first 5 squared singular values divided by N : \n",
      "[0.2198850685105654, 0.21282711177536498, 0.18088272428970822, 0.12803943215334576, 0.09919940632927496]\n",
      " -------------------------------------------- \n",
      " 19.657322 seconds (1.70 M allocations: 2.382 GiB, 3.76% gc time)\n",
      "\n",
      "========== d0 step 10/19 ==========\n",
      "\n",
      "  ~~~~~ number_rep = 1/3 ~~~~~\n",
      " ------- Acc Projected Power Iteration -------\n"
     ]
    },
    {
     "name": "stdout",
     "output_type": "stream",
     "text": [
      "The iteration has become stationary after 213 iterations\n",
      "  2.853029 seconds (5.86 k allocations: 810.017 MiB, 5.36% gc time)\n",
      " -------------- Clustering ------- \n",
      "dimension of embedding used for clustering: 55\n",
      "Number of updates: "
     ]
    },
    {
     "name": "stdout",
     "output_type": "stream",
     "text": [
      "5\n",
      "Modularity: 0.3868775434567026\n",
      "Number of communities: 23\n",
      " -------------------------------------------- \n",
      "The first 5 squared singular values divided by N : \n",
      "[0.22011635077239158, 0.2130797099416155, 0.18107588797611474, 0.12815799790276708, 0.0991128121795429]\n",
      " -------------------------------------------- \n",
      " 11.995412 seconds (1.56 M allocations: 2.154 GiB, 3.71% gc time)\n",
      "\n",
      "  ~~~~~ number_rep = 2/3 ~~~~~\n",
      " ------- Acc Projected Power Iteration -------\n"
     ]
    },
    {
     "name": "stdout",
     "output_type": "stream",
     "text": [
      "The iteration has become stationary after 266 iterations\n",
      "  7.910809 seconds (7.29 k allocations: 1012.294 MiB, 2.25% gc time)\n"
     ]
    },
    {
     "name": "stdout",
     "output_type": "stream",
     "text": [
      " -------------- Clustering ------- \n",
      "dimension of embedding used for clustering: 55\n",
      "Number of updates: "
     ]
    },
    {
     "name": "stdout",
     "output_type": "stream",
     "text": [
      "6\n",
      "Modularity: 0.38783353694962003\n",
      "Number of communities: 26\n",
      " -------------------------------------------- \n",
      "The first 5 squared singular values divided by N : \n",
      "[0.21983755221031354, 0.21284974664293105, 0.18091343083671987, 0.1281226102815245, 0.09917083712825535]\n",
      " -------------------------------------------- \n",
      " 16.503305 seconds (1.69 M allocations: 2.464 GiB, 2.77% gc time)\n",
      "\n",
      "  ~~~~~ number_rep = 3/3 ~~~~~\n",
      " ------- Acc Projected Power Iteration -------\n"
     ]
    },
    {
     "name": "stdout",
     "output_type": "stream",
     "text": [
      "The iteration has become stationary after 270 iterations\n",
      "  2.281237 seconds (7.40 k allocations: 1.003 GiB, 4.92% gc time)\n",
      " -------------- Clustering ------- \n",
      "dimension of embedding used for clustering: 55\n",
      "Number of updates: "
     ]
    },
    {
     "name": "stdout",
     "output_type": "stream",
     "text": [
      "6\n",
      "Modularity: 0.38739334388799057\n",
      "Number of communities: 25\n",
      " -------------------------------------------- \n",
      "The first 5 squared singular values divided by N : \n",
      "[0.21986410834872663, 0.21285342871765825, 0.18098119173502977, 0.12809240084701304, 0.09909264590396076]\n",
      " -------------------------------------------- \n",
      "  9.050203 seconds (1.68 M allocations: 2.468 GiB, 4.20% gc time)\n",
      "\n",
      "========== d0 step 11/19 ==========\n",
      "\n",
      "  ~~~~~ number_rep = 1/3 ~~~~~\n",
      " ------- Acc Projected Power Iteration -------\n"
     ]
    },
    {
     "name": "stdout",
     "output_type": "stream",
     "text": [
      "The iteration has become stationary after 285 iterations\n",
      "  4.963267 seconds (7.80 k allocations: 1.156 GiB, 3.87% gc time)\n",
      " -------------- Clustering ------- \n",
      "dimension of embedding used for clustering: 60\n",
      "Number of updates: "
     ]
    },
    {
     "name": "stdout",
     "output_type": "stream",
     "text": [
      "7\n",
      "Modularity: 0.3867137929753681\n",
      "Number of communities: 27\n",
      " -------------------------------------------- \n",
      "The first 5 squared singular values divided by N : \n",
      "[0.21986908521100237, 0.21280936565622408, 0.18082657432985347, 0.12815527192745346, 0.0991391131686501]\n",
      " -------------------------------------------- \n",
      " 12.633576 seconds (1.77 M allocations: 2.739 GiB, 3.57% gc time)\n",
      "\n",
      "  ~~~~~ number_rep = 2/3 ~~~~~\n",
      " ------- Acc Projected Power Iteration -------\n"
     ]
    },
    {
     "name": "stdout",
     "output_type": "stream",
     "text": [
      "The iteration has become stationary after 267 iterations\n",
      "  1.600747 seconds (7.32 k allocations: 1.083 GiB, 6.65% gc time)\n",
      " -------------- Clustering ------- \n",
      "dimension of embedding used for clustering: 60\n",
      "Number of updates: "
     ]
    },
    {
     "name": "stdout",
     "output_type": "stream",
     "text": [
      "7\n",
      "Modularity: 0.38699536856373146\n",
      "Number of communities: 26\n",
      " -------------------------------------------- \n",
      "The first 5 squared singular values divided by N : \n",
      "[0.21987679157707501, 0.21287709296948906, 0.18095038488072848, 0.12816894693176956, 0.09920523083245684]\n",
      " -------------------------------------------- \n",
      "  8.832461 seconds (1.75 M allocations: 2.650 GiB, 3.73% gc time)\n",
      "\n",
      "  ~~~~~ number_rep = 3/3 ~~~~~\n",
      " ------- Acc Projected Power Iteration -------\n"
     ]
    },
    {
     "name": "stdout",
     "output_type": "stream",
     "text": [
      "The iteration has become stationary after 267 iterations\n",
      "  1.558865 seconds (7.32 k allocations: 1.083 GiB, 7.49% gc time)\n",
      " -------------- Clustering ------- \n",
      "dimension of embedding used for clustering: 60\n",
      "Number of updates: "
     ]
    },
    {
     "name": "stdout",
     "output_type": "stream",
     "text": [
      "7\n",
      "Modularity: 0.38689764495165435\n",
      "Number of communities: 24\n",
      " -------------------------------------------- \n",
      "The first 5 squared singular values divided by N : \n",
      "[0.21991496804180574, 0.2129235711452924, 0.1809281136867116, 0.12815253826860262, 0.0990976247712021]\n",
      " -------------------------------------------- \n",
      "  9.549389 seconds (1.72 M allocations: 2.618 GiB, 3.69% gc time)\n",
      "\n",
      "========== d0 step 12/19 ==========\n",
      "\n",
      "  ~~~~~ number_rep = 1/3 ~~~~~\n",
      " ------- Acc Projected Power Iteration -------\n"
     ]
    },
    {
     "name": "stdout",
     "output_type": "stream",
     "text": [
      "The iteration has become stationary after 234 iterations\n",
      "  1.675412 seconds (6.43 k allocations: 1.028 GiB, 6.49% gc time)\n",
      " -------------- Clustering ------- \n",
      "dimension of embedding used for clustering: 65\n",
      "Number of updates: "
     ]
    },
    {
     "name": "stdout",
     "output_type": "stream",
     "text": [
      "8\n",
      "Modularity: 0.3868342138462491\n",
      "Number of communities: 27\n",
      " -------------------------------------------- \n",
      "The first 5 squared singular values divided by N : \n",
      "[0.22014936052614262, 0.21311531664566188, 0.18108135247356885, 0.12821400311332254, 0.09907553629677726]\n",
      " -------------------------------------------- \n",
      "  9.676026 seconds (1.99 M allocations: 2.861 GiB, 4.20% gc time)\n",
      "\n",
      "  ~~~~~ number_rep = 2/3 ~~~~~\n",
      " ------- Acc Projected Power Iteration -------\n"
     ]
    },
    {
     "name": "stdout",
     "output_type": "stream",
     "text": [
      "The iteration has become stationary after 153 iterations\n",
      "  1.104983 seconds (4.24 k allocations: 686.950 MiB, 8.06% gc time)\n",
      " -------------- Clustering ------- \n",
      "dimension of embedding used for clustering: 65\n",
      "Number of updates: "
     ]
    },
    {
     "name": "stdout",
     "output_type": "stream",
     "text": [
      "6\n",
      "Modularity: 0.3866045953346692\n",
      "Number of communities: 27\n",
      " -------------------------------------------- \n",
      "The first 5 squared singular values divided by N : \n",
      "[0.21993653870529425, 0.2129860420223503, 0.18080201055352416, 0.1281592083067895, 0.09875402128393108]\n",
      " -------------------------------------------- \n",
      "  8.571591 seconds (1.70 M allocations: 2.251 GiB, 3.94% gc time)\n",
      "\n",
      "  ~~~~~ number_rep = 3/3 ~~~~~\n",
      " ------- Acc Projected Power Iteration -------\n"
     ]
    },
    {
     "name": "stdout",
     "output_type": "stream",
     "text": [
      "The iteration has become stationary after 285 iterations\n",
      "  2.520557 seconds (7.80 k allocations: 1.253 GiB, 7.20% gc time)\n",
      " -------------- Clustering ------- \n",
      "dimension of embedding used for clustering: 65\n",
      "Number of updates: "
     ]
    },
    {
     "name": "stdout",
     "output_type": "stream",
     "text": [
      "6\n",
      "Modularity: 0.3860528053272665\n",
      "Number of communities: 29\n",
      " -------------------------------------------- \n",
      "The first 5 squared singular values divided by N : \n",
      "[0.21985651526365735, 0.2128167330153954, 0.18083482577212387, 0.12811184485182453, 0.09919690258398546]\n",
      " -------------------------------------------- \n",
      " 11.830525 seconds (1.73 M allocations: 2.858 GiB, 3.94% gc time)\n",
      "\n",
      "========== d0 step 13/19 ==========\n",
      "\n",
      "  ~~~~~ number_rep = 1/3 ~~~~~\n",
      " ------- Acc Projected Power Iteration -------\n"
     ]
    },
    {
     "name": "stdout",
     "output_type": "stream",
     "text": [
      "The iteration has become stationary after 285 iterations\n",
      "  2.227295 seconds (7.80 k allocations: 1.349 GiB, 8.59% gc time)\n",
      " -------------- Clustering ------- \n",
      "dimension of embedding used for clustering: 70\n",
      "Number of updates: "
     ]
    },
    {
     "name": "stdout",
     "output_type": "stream",
     "text": [
      "7\n",
      "Modularity: 0.38606574234678737\n",
      "Number of communities: 26\n",
      " -------------------------------------------- \n",
      "The first 5 squared singular values divided by N : \n",
      "[0.21986780165033715, 0.21282464405207355, 0.18085848028210885, 0.1281065648971229, 0.09917412509358375]\n",
      " -------------------------------------------- \n",
      " 12.372995 seconds (1.95 M allocations: 3.209 GiB, 4.34% gc time)\n",
      "\n",
      "  ~~~~~ number_rep = 2/3 ~~~~~\n",
      " ------- Acc Projected Power Iteration -------\n"
     ]
    },
    {
     "name": "stdout",
     "output_type": "stream",
     "text": [
      "The iteration has become stationary after 214 iterations\n",
      "  1.473723 seconds (5.89 k allocations: 1.012 GiB, 8.17% gc time)\n",
      " -------------- Clustering ------- \n",
      "dimension of embedding used for clustering: 70\n",
      "Number of updates: "
     ]
    },
    {
     "name": "stdout",
     "output_type": "stream",
     "text": [
      "6\n",
      "Modularity: 0.386018027943611\n",
      "Number of communities: 26\n",
      " -------------------------------------------- \n",
      "The first 5 squared singular values divided by N : \n",
      "[0.22010305072257022, 0.213014011569977, 0.18113427214977637, 0.12825289258102, 0.09905511691032522]\n",
      " -------------------------------------------- \n",
      " 10.048884 seconds (1.71 M allocations: 2.653 GiB, 3.84% gc time)\n",
      "\n",
      "  ~~~~~ number_rep = 3/3 ~~~~~\n",
      " ------- Acc Projected Power Iteration -------\n"
     ]
    },
    {
     "name": "stdout",
     "output_type": "stream",
     "text": [
      "The iteration has become stationary after 270 iterations\n",
      "  2.583992 seconds (7.40 k allocations: 1.278 GiB, 8.36% gc time)\n",
      " -------------- Clustering ------- \n",
      "dimension of embedding used for clustering: 70\n",
      "Number of updates: "
     ]
    },
    {
     "name": "stdout",
     "output_type": "stream",
     "text": [
      "7\n",
      "Modularity: 0.3866875970783286\n",
      "Number of communities: 29\n",
      " -------------------------------------------- \n",
      "The first 5 squared singular values divided by N : \n",
      "[0.21987994515559217, 0.21285310405356772, 0.1809124612895346, 0.1281519644676066, 0.09911756437744398]\n",
      " -------------------------------------------- \n",
      " 16.378483 seconds (1.93 M allocations: 3.118 GiB, 3.50% gc time)\n",
      "\n",
      "========== d0 step 14/19 ==========\n",
      "\n",
      "  ~~~~~ number_rep = 1/3 ~~~~~\n",
      " ------- Acc Projected Power Iteration -------\n"
     ]
    },
    {
     "name": "stdout",
     "output_type": "stream",
     "text": [
      "The iteration has become stationary after 285 iterations\n",
      "  2.144911 seconds (7.80 k allocations: 1.446 GiB, 9.46% gc time)\n",
      " -------------- Clustering ------- \n",
      "dimension of embedding used for clustering: 75\n",
      "Number of updates: "
     ]
    },
    {
     "name": "stdout",
     "output_type": "stream",
     "text": [
      "6\n",
      "Modularity: 0.38478388644100786\n",
      "Number of communities: 35\n",
      " -------------------------------------------- \n",
      "The first 5 squared singular values divided by N : \n",
      "[0.21990286945194112, 0.21289676017291068, 0.18092933099477596, 0.1281018956377102, 0.09914266658871057]\n",
      " -------------------------------------------- \n",
      " 11.724314 seconds (1.74 M allocations: 3.182 GiB, 4.21% gc time)\n",
      "\n",
      "  ~~~~~ number_rep = 2/3 ~~~~~\n",
      " ------- Acc Projected Power Iteration -------\n"
     ]
    },
    {
     "name": "stdout",
     "output_type": "stream",
     "text": [
      "The iteration has become stationary after 267 iterations\n",
      "  2.288557 seconds (7.32 k allocations: 1.355 GiB, 9.69% gc time)\n",
      " -------------- Clustering ------- \n",
      "dimension of embedding used for clustering: 75\n",
      "Number of updates: "
     ]
    },
    {
     "name": "stdout",
     "output_type": "stream",
     "text": [
      "7\n",
      "Modularity: 0.38441173081612845\n",
      "Number of communities: 32\n",
      " -------------------------------------------- \n",
      "The first 5 squared singular values divided by N : \n",
      "[0.21988032840095773, 0.2128859333811917, 0.18096382148661616, 0.1281980895898859, 0.09917928739588115]\n",
      " -------------------------------------------- \n",
      " 11.188383 seconds (1.74 M allocations: 3.104 GiB, 4.41% gc time)\n",
      "\n",
      "  ~~~~~ number_rep = 3/3 ~~~~~\n",
      " ------- Acc Projected Power Iteration -------\n"
     ]
    },
    {
     "name": "stdout",
     "output_type": "stream",
     "text": [
      "The iteration has become stationary after 214 iterations\n",
      "  2.405037 seconds (5.89 k allocations: 1.085 GiB, 7.37% gc time)\n",
      " -------------- Clustering ------- \n",
      "dimension of embedding used for clustering: 75\n",
      "Number of updates: "
     ]
    },
    {
     "name": "stdout",
     "output_type": "stream",
     "text": [
      "6\n",
      "Modularity: 0.3852486702896619\n",
      "Number of communities: 29\n",
      " -------------------------------------------- \n",
      "The first 5 squared singular values divided by N : \n",
      "[0.22007747350617154, 0.21303130750375388, 0.18113245399069935, 0.12817795213250752, 0.09911604180851218]\n",
      " -------------------------------------------- \n",
      " 16.275520 seconds (1.94 M allocations: 3.011 GiB, 3.25% gc time)\n",
      "\n",
      "========== d0 step 15/19 ==========\n",
      "\n",
      "  ~~~~~ number_rep = 1/3 ~~~~~\n",
      " ------- Acc Projected Power Iteration -------\n"
     ]
    },
    {
     "name": "stdout",
     "output_type": "stream",
     "text": [
      "The iteration has become stationary after 268 iterations\n",
      "  2.610640 seconds (7.34 k allocations: 1.451 GiB, 9.11% gc time)\n",
      " -------------- Clustering ------- \n",
      "dimension of embedding used for clustering: 80\n",
      "Number of updates: "
     ]
    },
    {
     "name": "stdout",
     "output_type": "stream",
     "text": [
      "7\n",
      "Modularity: 0.38463227878413486\n",
      "Number of communities: 31\n",
      " -------------------------------------------- \n",
      "The first 5 squared singular values divided by N : \n",
      "[0.21987324104626077, 0.2128705675599983, 0.1809057681585931, 0.12806126302809467, 0.09914643985657862]\n",
      " -------------------------------------------- \n",
      " 15.122473 seconds (2.00 M allocations: 3.458 GiB, 4.08% gc time)\n",
      "\n",
      "  ~~~~~ number_rep = 2/3 ~~~~~\n",
      " ------- Acc Projected Power Iteration -------\n"
     ]
    },
    {
     "name": "stdout",
     "output_type": "stream",
     "text": [
      "The iteration has become stationary after 312 iterations\n",
      "  2.350131 seconds (8.53 k allocations: 1.690 GiB, 9.68% gc time)\n",
      " -------------- Clustering ------- \n",
      "dimension of embedding used for clustering: 80\n",
      "Number of updates: "
     ]
    },
    {
     "name": "stdout",
     "output_type": "stream",
     "text": [
      "7\n",
      "Modularity: 0.384571209364038\n",
      "Number of communities: 37\n",
      " -------------------------------------------- \n",
      "The first 5 squared singular values divided by N : \n",
      "[0.22003479900010667, 0.21294011952184838, 0.18106941191485906, 0.12812636537304872, 0.09908173426389635]\n",
      " -------------------------------------------- \n",
      " 13.588728 seconds (1.95 M allocations: 3.643 GiB, 3.93% gc time)\n",
      "\n",
      "  ~~~~~ number_rep = 3/3 ~~~~~\n",
      " ------- Acc Projected Power Iteration -------\n"
     ]
    },
    {
     "name": "stdout",
     "output_type": "stream",
     "text": [
      "The iteration has become stationary after 213 iterations\n",
      "  2.237361 seconds (5.86 k allocations: 1.152 GiB, 9.55% gc time)\n",
      " -------------- Clustering ------- \n",
      "dimension of embedding used for clustering: 80\n",
      "Number of updates: "
     ]
    },
    {
     "name": "stdout",
     "output_type": "stream",
     "text": [
      "6\n",
      "Modularity: 0.3840913441692025\n",
      "Number of communities: 33\n",
      " -------------------------------------------- \n",
      "The first 5 squared singular values divided by N : \n",
      "[0.22004931866591704, 0.21305092373953285, 0.18096334897152266, 0.12811035419084957, 0.09921590893440425]\n",
      " -------------------------------------------- \n",
      " 13.054401 seconds (1.73 M allocations: 2.909 GiB, 3.82% gc time)\n",
      "\n",
      "========== d0 step 16/19 ==========\n",
      "\n",
      "  ~~~~~ number_rep = 1/3 ~~~~~\n",
      " ------- Acc Projected Power Iteration -------\n"
     ]
    },
    {
     "name": "stdout",
     "output_type": "stream",
     "text": [
      "The iteration has become stationary after 312 iterations\n",
      "  3.433541 seconds (8.53 k allocations: 1.796 GiB, 8.19% gc time)\n",
      " -------------- Clustering ------- \n",
      "dimension of embedding used for clustering: 85\n",
      "Number of updates: "
     ]
    },
    {
     "name": "stdout",
     "output_type": "stream",
     "text": [
      "7\n",
      "Modularity: 0.38465321209391207\n",
      "Number of communities: 35\n",
      " -------------------------------------------- \n",
      "The first 5 squared singular values divided by N : \n",
      "[0.2200151241769692, 0.21292094842090817, 0.18104160088936433, 0.12812786056913036, 0.09908341657787821]\n",
      " -------------------------------------------- \n",
      " 15.748989 seconds (1.82 M allocations: 3.720 GiB, 8.19% gc time)\n",
      "\n",
      "  ~~~~~ number_rep = 2/3 ~~~~~\n",
      " ------- Acc Projected Power Iteration -------\n"
     ]
    },
    {
     "name": "stdout",
     "output_type": "stream",
     "text": [
      "The iteration has become stationary after 268 iterations\n",
      "  2.763319 seconds (7.34 k allocations: 1.542 GiB, 8.92% gc time)\n",
      " -------------- Clustering ------- \n",
      "dimension of embedding used for clustering: 85\n",
      "Number of updates: "
     ]
    },
    {
     "name": "stdout",
     "output_type": "stream",
     "text": [
      "8\n",
      "Modularity: 0.3844968183668125\n",
      "Number of communities: 33\n",
      " -------------------------------------------- \n",
      "The first 5 squared singular values divided by N : \n",
      "[0.21986476595437143, 0.2128485674276293, 0.1809622269163954, 0.12811995371589024, 0.09913711434546502]\n",
      " -------------------------------------------- \n",
      " 13.233192 seconds (1.75 M allocations: 3.402 GiB, 2.74% gc time)\n",
      "\n",
      "  ~~~~~ number_rep = 3/3 ~~~~~\n",
      " ------- Acc Projected Power Iteration -------\n"
     ]
    },
    {
     "name": "stdout",
     "output_type": "stream",
     "text": [
      "The iteration has become stationary after 269 iterations\n",
      "  2.387902 seconds (7.37 k allocations: 1.548 GiB, 8.34% gc time)\n",
      " -------------- Clustering ------- \n",
      "dimension of embedding used for clustering: 85\n",
      "Number of updates: "
     ]
    },
    {
     "name": "stdout",
     "output_type": "stream",
     "text": [
      "13\n",
      "Modularity: 0.38199456053295805\n",
      "Number of communities: 36\n",
      " -------------------------------------------- \n",
      "The first 5 squared singular values divided by N : \n",
      "[0.21989846979118402, 0.2128961623716642, 0.18090571914626208, 0.12810331226112862, 0.09915310464106916]\n",
      " -------------------------------------------- \n",
      " 13.606014 seconds (1.73 M allocations: 3.386 GiB, 2.58% gc time)\n",
      "\n",
      "========== d0 step 17/19 ==========\n",
      "\n",
      "  ~~~~~ number_rep = 1/3 ~~~~~\n",
      " ------- Acc Projected Power Iteration -------\n"
     ]
    },
    {
     "name": "stdout",
     "output_type": "stream",
     "text": [
      "The iteration has become stationary after 232 iterations\n",
      "  2.957874 seconds (6.37 k allocations: 1.413 GiB, 8.15% gc time)\n",
      " -------------- Clustering ------- \n",
      "dimension of embedding used for clustering: 90\n",
      "Number of updates: "
     ]
    },
    {
     "name": "stdout",
     "output_type": "stream",
     "text": [
      "8\n",
      "Modularity: 0.3836812343804299\n",
      "Number of communities: 40\n",
      " -------------------------------------------- \n",
      "The first 5 squared singular values divided by N : \n",
      "[0.22009137356514746, 0.21314310049990415, 0.18105409320836993, 0.1282196861692981, 0.09917784674460521]\n",
      " -------------------------------------------- \n",
      " 15.308867 seconds (2.10 M allocations: 3.646 GiB, 2.54% gc time)\n",
      "\n",
      "  ~~~~~ number_rep = 2/3 ~~~~~\n",
      " ------- Acc Projected Power Iteration -------\n"
     ]
    },
    {
     "name": "stdout",
     "output_type": "stream",
     "text": [
      "The iteration has become stationary after 156 iterations\n",
      "  1.239354 seconds (4.32 k allocations: 971.552 MiB, 10.35% gc time)\n",
      " -------------- Clustering ------- \n",
      "dimension of embedding used for clustering: 90\n",
      "Number of updates: "
     ]
    },
    {
     "name": "stdout",
     "output_type": "stream",
     "text": [
      "7\n",
      "Modularity: 0.3818598357910591\n",
      "Number of communities: 30\n",
      " -------------------------------------------- \n",
      "The first 5 squared singular values divided by N : \n",
      "[0.21994053110842873, 0.2127255739927151, 0.1811134175366249, 0.1282860054196511, 0.09836540139969034]\n",
      " -------------------------------------------- \n",
      " 14.984398 seconds (1.95 M allocations: 3.024 GiB, 1.83% gc time)\n",
      "\n",
      "  ~~~~~ number_rep = 3/3 ~~~~~\n",
      " ------- Acc Projected Power Iteration -------\n"
     ]
    },
    {
     "name": "stdout",
     "output_type": "stream",
     "text": [
      "The iteration has become stationary after 268 iterations\n",
      "  2.304776 seconds (7.34 k allocations: 1.633 GiB, 9.96% gc time)\n",
      " -------------- Clustering ------- \n",
      "dimension of embedding used for clustering: 90\n",
      "Number of updates: "
     ]
    },
    {
     "name": "stdout",
     "output_type": "stream",
     "text": [
      "9\n",
      "Modularity: 0.3821141286891437\n",
      "Number of communities: 35\n",
      " -------------------------------------------- \n",
      "The first 5 squared singular values divided by N : \n",
      "[0.21987372101269978, 0.21291507003105656, 0.18096085090482547, 0.1281540472369943, 0.0991208257350589]\n",
      " -------------------------------------------- \n",
      " 20.643317 seconds (2.04 M allocations: 3.798 GiB, 2.02% gc time)\n",
      "\n",
      "========== d0 step 18/19 ==========\n",
      "\n",
      "  ~~~~~ number_rep = 1/3 ~~~~~\n",
      " ------- Acc Projected Power Iteration -------\n"
     ]
    },
    {
     "name": "stdout",
     "output_type": "stream",
     "text": [
      "The iteration has become stationary after 330 iterations\n",
      "  4.851008 seconds (9.02 k allocations: 2.125 GiB, 9.36% gc time)\n",
      " -------------- Clustering ------- \n",
      "dimension of embedding used for clustering: 95\n",
      "Number of updates: "
     ]
    },
    {
     "name": "stdout",
     "output_type": "stream",
     "text": [
      "12\n",
      "Modularity: 0.3842073384476207\n",
      "Number of communities: 35\n",
      " -------------------------------------------- \n",
      "The first 5 squared singular values divided by N : \n",
      "[0.22004627235034208, 0.2129911659212143, 0.18113493132583444, 0.1282013021162226, 0.0990524304987016]\n",
      " -------------------------------------------- \n",
      " 27.614496 seconds (2.06 M allocations: 4.404 GiB, 3.39% gc time)\n",
      "\n",
      "  ~~~~~ number_rep = 2/3 ~~~~~\n",
      " ------- Acc Projected Power Iteration -------\n"
     ]
    },
    {
     "name": "stdout",
     "output_type": "stream",
     "text": [
      "The iteration has become stationary after 285 iterations\n",
      "  2.718043 seconds (7.80 k allocations: 1.835 GiB, 9.77% gc time)\n",
      " -------------- Clustering ------- \n",
      "dimension of embedding used for clustering: 95\n",
      "Number of updates: "
     ]
    },
    {
     "name": "stdout",
     "output_type": "stream",
     "text": [
      "9\n",
      "Modularity: 0.3815440889152699\n",
      "Number of communities: 38\n",
      " -------------------------------------------- \n",
      "The first 5 squared singular values divided by N : \n",
      "[0.21991159422418133, 0.21286823018177, 0.18085728476248547, 0.12812409337670624, 0.0991422671638624]\n",
      " -------------------------------------------- \n",
      " 18.282903 seconds (2.23 M allocations: 4.303 GiB, 3.73% gc time)\n",
      "\n",
      "  ~~~~~ number_rep = 3/3 ~~~~~\n",
      " ------- Acc Projected Power Iteration -------\n"
     ]
    },
    {
     "name": "stdout",
     "output_type": "stream",
     "text": [
      "The iteration has become stationary after 233 iterations\n",
      "  2.276462 seconds (6.40 k allocations: 1.499 GiB, 10.05% gc time)\n",
      " -------------- Clustering ------- \n",
      "dimension of embedding used for clustering: 95\n",
      "Number of updates: "
     ]
    },
    {
     "name": "stdout",
     "output_type": "stream",
     "text": [
      "8\n",
      "Modularity: 0.3808722918544119\n",
      "Number of communities: 37\n",
      " -------------------------------------------- \n",
      "The first 5 squared singular values divided by N : \n",
      "[0.2201323856079002, 0.21310253807725632, 0.18108420905259648, 0.1281489790949093, 0.09909618713553049]\n",
      " -------------------------------------------- \n",
      " 28.812011 seconds (2.11 M allocations: 3.841 GiB, 2.60% gc time)\n",
      "\n",
      "========== d0 step 19/19 ==========\n",
      "\n",
      "  ~~~~~ number_rep = 1/3 ~~~~~\n",
      " ------- Acc Projected Power Iteration -------\n"
     ]
    },
    {
     "name": "stdout",
     "output_type": "stream",
     "text": [
      "The iteration has become stationary after 284 iterations\n",
      "  6.303961 seconds (7.78 k allocations: 1.925 GiB, 7.17% gc time)\n",
      " -------------- Clustering ------- \n",
      "dimension of embedding used for clustering: 100\n",
      "Number of updates: "
     ]
    },
    {
     "name": "stdout",
     "output_type": "stream",
     "text": [
      "7\n",
      "Modularity: 0.379113467475777\n",
      "Number of communities: 44\n",
      " -------------------------------------------- \n",
      "The first 5 squared singular values divided by N : \n",
      "[0.21985895138398678, 0.21284157852991514, 0.18085697331026462, 0.12815981790147438, 0.0991548335381887]\n",
      " -------------------------------------------- \n",
      " 43.074371 seconds (2.02 M allocations: 4.189 GiB, 2.49% gc time)\n",
      "\n",
      "  ~~~~~ number_rep = 2/3 ~~~~~\n",
      " ------- Acc Projected Power Iteration -------\n"
     ]
    },
    {
     "name": "stdout",
     "output_type": "stream",
     "text": [
      "The iteration has become stationary after 213 iterations\n",
      "  7.092809 seconds (5.86 k allocations: 1.442 GiB, 6.65% gc time)\n",
      " -------------- Clustering ------- \n",
      "dimension of embedding used for clustering: 100\n",
      "Number of updates: "
     ]
    },
    {
     "name": "stdout",
     "output_type": "stream",
     "text": [
      "7\n",
      "Modularity: 0.3811011537906985\n",
      "Number of communities: 40\n",
      " -------------------------------------------- \n",
      "The first 5 squared singular values divided by N : \n",
      "[0.22013904843244653, 0.21300219904770804, 0.18105670819820324, 0.12808884304334506, 0.09903646622943947]\n",
      " -------------------------------------------- \n",
      " 45.808840 seconds (2.03 M allocations: 3.725 GiB, 2.55% gc time)\n",
      "\n",
      "  ~~~~~ number_rep = 3/3 ~~~~~\n",
      " ------- Acc Projected Power Iteration -------\n"
     ]
    },
    {
     "name": "stdout",
     "output_type": "stream",
     "text": [
      "The iteration has become stationary after 312 iterations\n",
      " 10.195488 seconds (8.53 k allocations: 2.115 GiB, 7.14% gc time)\n",
      " -------------- Clustering ------- \n",
      "dimension of embedding used for clustering: 100\n",
      "Number of updates: "
     ]
    },
    {
     "name": "stdout",
     "output_type": "stream",
     "text": [
      "9\n",
      "Modularity: 0.38104426434459865\n",
      "Number of communities: 42\n",
      " -------------------------------------------- \n",
      "The first 5 squared singular values divided by N : \n",
      "[0.22002690988490545, 0.21293619673480332, 0.18109788330312618, 0.12812200077637625, 0.09908980446250513]\n",
      " -------------------------------------------- \n",
      " 54.491848 seconds (2.18 M allocations: 4.557 GiB, 2.51% gc time)\n"
     ]
    }
   ],
   "source": [
    "g = 4\n",
    "\n",
    "# Set parameters of simulations\n",
    "n_clusters = 100\n",
    "d0s = 10:5:100\n",
    "\n",
    "n_updates = 100; # max total by default\n",
    "shape = \"Ellipsoidal\"; #shape = \"Spherical\"\n",
    "\n",
    "n_rep = 3;\n",
    "NMIs=zeros(Float64,length(d0s),n_rep)\n",
    "\n",
    "# load communities\n",
    "community_true = readdlm(path*\"communities\"*string(g-1)*\".txt\",Int)\n",
    "\n",
    "# load graph\n",
    "edgeList = readdlm(path*\"edgeList\"*string(g-1)*\".txt\",Int)\n",
    "\n",
    "n_nodes = size(community_true)[1]\n",
    "n_edges = size(edgeList)[1]\n",
    "\n",
    "# construct sparse adjacency matrix from list of edges\n",
    "adj = sparse(edgeList[:,1].+1,edgeList[:,2].+1,vec(ones(Int64,n_edges,1)),n_nodes,n_nodes)\n",
    "adj = adj+adj' # only the upper triangular part of adjacency matrix was stored\n",
    "\n",
    "# keep only the largest connected component\n",
    "adj,vertices = largest_component(adj);\n",
    "\n",
    "community_true = community_true[vertices]\n",
    "community_true = rename_com_unique(community_true)\n",
    "\n",
    "# load parameters\n",
    "LFR_parameters = readdlm(path*\"parameters\"*string(g-1)*\".txt\")\n",
    "mu = parse(Float64, split(LFR_parameters[4],\"=\")[2]) # extract mixing marameter (not very robust)\n",
    "print(\"mu=$mu\")\n",
    "\n",
    "for i=1:length(d0s)\n",
    "    println(\"\\n========== d0 step $i/$(length(d0s)) ==========\")\n",
    "    d0=d0s[i]\n",
    "    for j=1:n_rep\n",
    "        println(\"\\n  ~~~~~ number_rep = $j/$(n_rep) ~~~~~\")\n",
    "        \n",
    "        _,community,_ = @time sphere_embed_cluster(adj, d0,shape, n_clusters)\n",
    "\n",
    "        NMIs[i,j] = mutualinfo(community_true,community);\n",
    "    end\n",
    "end\n"
   ]
  },
  {
   "cell_type": "code",
   "execution_count": 5,
   "metadata": {},
   "outputs": [
    {
     "data": {
      "image/png": "[encoded data removed]",
      "image/svg+xml": [
       "<?xml version=\"1.0\" encoding=\"utf-8\"?>\n",
       "<svg xmlns=\"http://www.w3.org/2000/svg\" xmlns:xlink=\"http://www.w3.org/1999/xlink\" width=\"600\" height=\"400\" viewBox=\"0 0 2400 1600\">\n",
       "<defs>\n",
       "  <clipPath id=\"clip220\">\n",
       "    <rect x=\"0\" y=\"0\" width=\"2400\" height=\"1600\"/>\n",
       "  </clipPath>\n",
       "</defs>\n",
       "<path clip-path=\"url(#clip220)\" d=\"\n",
       "M0 1600 L2400 1600 L2400 0 L0 0  Z\n",
       "  \" fill=\"#ffffff\" fill-rule=\"evenodd\" fill-opacity=\"1\"/>\n",
       "<defs>\n",
       "  <clipPath id=\"clip221\">\n",
       "    <rect x=\"480\" y=\"0\" width=\"1681\" height=\"1600\"/>\n",
       "  </clipPath>\n",
       "</defs>\n",
       "<defs>\n",
       "  <clipPath id=\"clip222\">\n",
       "    <rect x=\"249\" y=\"47\" width=\"2104\" height=\"1377\"/>\n",
       "  </clipPath>\n",
       "</defs>\n",
       "<path clip-path=\"url(#clip220)\" d=\"\n",
       "M249.542 1423.18 L2352.76 1423.18 L2352.76 47.2441 L249.542 47.2441  Z\n",
       "  \" fill=\"#ffffff\" fill-rule=\"evenodd\" fill-opacity=\"1\"/>\n",
       "<polyline clip-path=\"url(#clip222)\" style=\"stroke:#000000; stroke-linecap:butt; stroke-linejoin:round; stroke-width:2; stroke-opacity:0.1; fill:none\" points=\"\n",
       "  529.53,1423.18 529.53,47.2441 \n",
       "  \"/>\n",
       "<polyline clip-path=\"url(#clip222)\" style=\"stroke:#000000; stroke-linecap:butt; stroke-linejoin:round; stroke-width:2; stroke-opacity:0.1; fill:none\" points=\"\n",
       "  970.455,1423.18 970.455,47.2441 \n",
       "  \"/>\n",
       "<polyline clip-path=\"url(#clip222)\" style=\"stroke:#000000; stroke-linecap:butt; stroke-linejoin:round; stroke-width:2; stroke-opacity:0.1; fill:none\" points=\"\n",
       "  1411.38,1423.18 1411.38,47.2441 \n",
       "  \"/>\n",
       "<polyline clip-path=\"url(#clip222)\" style=\"stroke:#000000; stroke-linecap:butt; stroke-linejoin:round; stroke-width:2; stroke-opacity:0.1; fill:none\" points=\"\n",
       "  1852.31,1423.18 1852.31,47.2441 \n",
       "  \"/>\n",
       "<polyline clip-path=\"url(#clip222)\" style=\"stroke:#000000; stroke-linecap:butt; stroke-linejoin:round; stroke-width:2; stroke-opacity:0.1; fill:none\" points=\"\n",
       "  2293.23,1423.18 2293.23,47.2441 \n",
       "  \"/>\n",
       "<polyline clip-path=\"url(#clip220)\" style=\"stroke:#000000; stroke-linecap:butt; stroke-linejoin:round; stroke-width:4; stroke-opacity:1; fill:none\" points=\"\n",
       "  249.542,1423.18 2352.76,1423.18 \n",
       "  \"/>\n",
       "<polyline clip-path=\"url(#clip220)\" style=\"stroke:#000000; stroke-linecap:butt; stroke-linejoin:round; stroke-width:4; stroke-opacity:1; fill:none\" points=\"\n",
       "  529.53,1423.18 529.53,1404.28 \n",
       "  \"/>\n",
       "<polyline clip-path=\"url(#clip220)\" style=\"stroke:#000000; stroke-linecap:butt; stroke-linejoin:round; stroke-width:4; stroke-opacity:1; fill:none\" points=\"\n",
       "  970.455,1423.18 970.455,1404.28 \n",
       "  \"/>\n",
       "<polyline clip-path=\"url(#clip220)\" style=\"stroke:#000000; stroke-linecap:butt; stroke-linejoin:round; stroke-width:4; stroke-opacity:1; fill:none\" points=\"\n",
       "  1411.38,1423.18 1411.38,1404.28 \n",
       "  \"/>\n",
       "<polyline clip-path=\"url(#clip220)\" style=\"stroke:#000000; stroke-linecap:butt; stroke-linejoin:round; stroke-width:4; stroke-opacity:1; fill:none\" points=\"\n",
       "  1852.31,1423.18 1852.31,1404.28 \n",
       "  \"/>\n",
       "<polyline clip-path=\"url(#clip220)\" style=\"stroke:#000000; stroke-linecap:butt; stroke-linejoin:round; stroke-width:4; stroke-opacity:1; fill:none\" points=\"\n",
       "  2293.23,1423.18 2293.23,1404.28 \n",
       "  \"/>\n",
       "<path clip-path=\"url(#clip220)\" d=\"M508.303 1481.64 L524.622 1481.64 L524.622 1485.58 L502.678 1485.58 L502.678 1481.64 Q505.34 1478.89 509.923 1474.26 Q514.53 1469.61 515.71 1468.27 Q517.956 1465.74 518.835 1464.01 Q519.738 1462.25 519.738 1460.56 Q519.738 1457.8 517.794 1456.07 Q515.872 1454.33 512.77 1454.33 Q510.571 1454.33 508.118 1455.09 Q505.687 1455.86 502.909 1457.41 L502.909 1452.69 Q505.733 1451.55 508.187 1450.97 Q510.641 1450.39 512.678 1450.39 Q518.048 1450.39 521.243 1453.08 Q524.437 1455.77 524.437 1460.26 Q524.437 1462.39 523.627 1464.31 Q522.84 1466.2 520.733 1468.8 Q520.155 1469.47 517.053 1472.69 Q513.951 1475.88 508.303 1481.64 Z\" fill=\"#000000\" fill-rule=\"evenodd\" fill-opacity=\"1\" /><path clip-path=\"url(#clip220)\" d=\"M544.437 1454.1 Q540.826 1454.1 538.997 1457.66 Q537.192 1461.2 537.192 1468.33 Q537.192 1475.44 538.997 1479.01 Q540.826 1482.55 544.437 1482.55 Q548.071 1482.55 549.877 1479.01 Q551.705 1475.44 551.705 1468.33 Q551.705 1461.2 549.877 1457.66 Q548.071 1454.1 544.437 1454.1 M544.437 1450.39 Q550.247 1450.39 553.303 1455 Q556.381 1459.58 556.381 1468.33 Q556.381 1477.06 553.303 1481.67 Q550.247 1486.25 544.437 1486.25 Q538.627 1486.25 535.548 1481.67 Q532.493 1477.06 532.493 1468.33 Q532.493 1459.58 535.548 1455 Q538.627 1450.39 544.437 1450.39 Z\" fill=\"#000000\" fill-rule=\"evenodd\" fill-opacity=\"1\" /><path clip-path=\"url(#clip220)\" d=\"M958.626 1455.09 L946.821 1473.54 L958.626 1473.54 L958.626 1455.09 M957.399 1451.02 L963.279 1451.02 L963.279 1473.54 L968.21 1473.54 L968.21 1477.43 L963.279 1477.43 L963.279 1485.58 L958.626 1485.58 L958.626 1477.43 L943.025 1477.43 L943.025 1472.92 L957.399 1451.02 Z\" fill=\"#000000\" fill-rule=\"evenodd\" fill-opacity=\"1\" /><path clip-path=\"url(#clip220)\" d=\"M985.941 1454.1 Q982.33 1454.1 980.501 1457.66 Q978.696 1461.2 978.696 1468.33 Q978.696 1475.44 980.501 1479.01 Q982.33 1482.55 985.941 1482.55 Q989.575 1482.55 991.381 1479.01 Q993.209 1475.44 993.209 1468.33 Q993.209 1461.2 991.381 1457.66 Q989.575 1454.1 985.941 1454.1 M985.941 1450.39 Q991.751 1450.39 994.807 1455 Q997.885 1459.58 997.885 1468.33 Q997.885 1477.06 994.807 1481.67 Q991.751 1486.25 985.941 1486.25 Q980.131 1486.25 977.052 1481.67 Q973.997 1477.06 973.997 1468.33 Q973.997 1459.58 977.052 1455 Q980.131 1450.39 985.941 1450.39 Z\" fill=\"#000000\" fill-rule=\"evenodd\" fill-opacity=\"1\" /><path clip-path=\"url(#clip220)\" d=\"M1396.79 1466.44 Q1393.64 1466.44 1391.79 1468.59 Q1389.96 1470.74 1389.96 1474.49 Q1389.96 1478.22 1391.79 1480.39 Q1393.64 1482.55 1396.79 1482.55 Q1399.93 1482.55 1401.76 1480.39 Q1403.61 1478.22 1403.61 1474.49 Q1403.61 1470.74 1401.76 1468.59 Q1399.93 1466.44 1396.79 1466.44 M1406.07 1451.78 L1406.07 1456.04 Q1404.31 1455.21 1402.5 1454.77 Q1400.72 1454.33 1398.96 1454.33 Q1394.33 1454.33 1391.88 1457.45 Q1389.45 1460.58 1389.1 1466.9 Q1390.47 1464.89 1392.53 1463.82 Q1394.59 1462.73 1397.06 1462.73 Q1402.27 1462.73 1405.28 1465.9 Q1408.31 1469.05 1408.31 1474.49 Q1408.31 1479.82 1405.17 1483.03 Q1402.02 1486.25 1396.79 1486.25 Q1390.79 1486.25 1387.62 1481.67 Q1384.45 1477.06 1384.45 1468.33 Q1384.45 1460.14 1388.34 1455.28 Q1392.23 1450.39 1398.78 1450.39 Q1400.54 1450.39 1402.32 1450.74 Q1404.12 1451.09 1406.07 1451.78 Z\" fill=\"#000000\" fill-rule=\"evenodd\" fill-opacity=\"1\" /><path clip-path=\"url(#clip220)\" d=\"M1426.37 1454.1 Q1422.76 1454.1 1420.93 1457.66 Q1419.12 1461.2 1419.12 1468.33 Q1419.12 1475.44 1420.93 1479.01 Q1422.76 1482.55 1426.37 1482.55 Q1430 1482.55 1431.81 1479.01 Q1433.64 1475.44 1433.64 1468.33 Q1433.64 1461.2 1431.81 1457.66 Q1430 1454.1 1426.37 1454.1 M1426.37 1450.39 Q1432.18 1450.39 1435.23 1455 Q1438.31 1459.58 1438.31 1468.33 Q1438.31 1477.06 1435.23 1481.67 Q1432.18 1486.25 1426.37 1486.25 Q1420.56 1486.25 1417.48 1481.67 Q1414.42 1477.06 1414.42 1468.33 Q1414.42 1459.58 1417.48 1455 Q1420.56 1450.39 1426.37 1450.39 Z\" fill=\"#000000\" fill-rule=\"evenodd\" fill-opacity=\"1\" /><path clip-path=\"url(#clip220)\" d=\"M1837.18 1469.17 Q1833.85 1469.17 1831.92 1470.95 Q1830.03 1472.73 1830.03 1475.86 Q1830.03 1478.98 1831.92 1480.77 Q1833.85 1482.55 1837.18 1482.55 Q1840.51 1482.55 1842.43 1480.77 Q1844.35 1478.96 1844.35 1475.86 Q1844.35 1472.73 1842.43 1470.95 Q1840.53 1469.17 1837.18 1469.17 M1832.5 1467.18 Q1829.49 1466.44 1827.8 1464.38 Q1826.14 1462.32 1826.14 1459.35 Q1826.14 1455.21 1829.08 1452.8 Q1832.04 1450.39 1837.18 1450.39 Q1842.34 1450.39 1845.28 1452.8 Q1848.22 1455.21 1848.22 1459.35 Q1848.22 1462.32 1846.53 1464.38 Q1844.86 1466.44 1841.88 1467.18 Q1845.26 1467.96 1847.13 1470.26 Q1849.03 1472.55 1849.03 1475.86 Q1849.03 1480.88 1845.95 1483.57 Q1842.9 1486.25 1837.18 1486.25 Q1831.46 1486.25 1828.38 1483.57 Q1825.33 1480.88 1825.33 1475.86 Q1825.33 1472.55 1827.22 1470.26 Q1829.12 1467.96 1832.5 1467.18 M1830.79 1459.79 Q1830.79 1462.48 1832.46 1463.98 Q1834.15 1465.49 1837.18 1465.49 Q1840.19 1465.49 1841.88 1463.98 Q1843.59 1462.48 1843.59 1459.79 Q1843.59 1457.11 1841.88 1455.6 Q1840.19 1454.1 1837.18 1454.1 Q1834.15 1454.1 1832.46 1455.6 Q1830.79 1457.11 1830.79 1459.79 Z\" fill=\"#000000\" fill-rule=\"evenodd\" fill-opacity=\"1\" /><path clip-path=\"url(#clip220)\" d=\"M1867.34 1454.1 Q1863.73 1454.1 1861.9 1457.66 Q1860.09 1461.2 1860.09 1468.33 Q1860.09 1475.44 1861.9 1479.01 Q1863.73 1482.55 1867.34 1482.55 Q1870.97 1482.55 1872.78 1479.01 Q1874.61 1475.44 1874.61 1468.33 Q1874.61 1461.2 1872.78 1457.66 Q1870.97 1454.1 1867.34 1454.1 M1867.34 1450.39 Q1873.15 1450.39 1876.21 1455 Q1879.28 1459.58 1879.28 1468.33 Q1879.28 1477.06 1876.21 1481.67 Q1873.15 1486.25 1867.34 1486.25 Q1861.53 1486.25 1858.45 1481.67 Q1855.4 1477.06 1855.4 1468.33 Q1855.4 1459.58 1858.45 1455 Q1861.53 1450.39 1867.34 1450.39 Z\" fill=\"#000000\" fill-rule=\"evenodd\" fill-opacity=\"1\" /><path clip-path=\"url(#clip220)\" d=\"M2252.84 1481.64 L2260.48 1481.64 L2260.48 1455.28 L2252.17 1456.95 L2252.17 1452.69 L2260.43 1451.02 L2265.11 1451.02 L2265.11 1481.64 L2272.74 1481.64 L2272.74 1485.58 L2252.84 1485.58 L2252.84 1481.64 Z\" fill=\"#000000\" fill-rule=\"evenodd\" fill-opacity=\"1\" /><path clip-path=\"url(#clip220)\" d=\"M2292.19 1454.1 Q2288.58 1454.1 2286.75 1457.66 Q2284.94 1461.2 2284.94 1468.33 Q2284.94 1475.44 2286.75 1479.01 Q2288.58 1482.55 2292.19 1482.55 Q2295.82 1482.55 2297.63 1479.01 Q2299.46 1475.44 2299.46 1468.33 Q2299.46 1461.2 2297.63 1457.66 Q2295.82 1454.1 2292.19 1454.1 M2292.19 1450.39 Q2298 1450.39 2301.06 1455 Q2304.13 1459.58 2304.13 1468.33 Q2304.13 1477.06 2301.06 1481.67 Q2298 1486.25 2292.19 1486.25 Q2286.38 1486.25 2283.3 1481.67 Q2280.24 1477.06 2280.24 1468.33 Q2280.24 1459.58 2283.3 1455 Q2286.38 1450.39 2292.19 1450.39 Z\" fill=\"#000000\" fill-rule=\"evenodd\" fill-opacity=\"1\" /><path clip-path=\"url(#clip220)\" d=\"M2322.35 1454.1 Q2318.74 1454.1 2316.91 1457.66 Q2315.11 1461.2 2315.11 1468.33 Q2315.11 1475.44 2316.91 1479.01 Q2318.74 1482.55 2322.35 1482.55 Q2325.99 1482.55 2327.79 1479.01 Q2329.62 1475.44 2329.62 1468.33 Q2329.62 1461.2 2327.79 1457.66 Q2325.99 1454.1 2322.35 1454.1 M2322.35 1450.39 Q2328.16 1450.39 2331.22 1455 Q2334.3 1459.58 2334.3 1468.33 Q2334.3 1477.06 2331.22 1481.67 Q2328.16 1486.25 2322.35 1486.25 Q2316.54 1486.25 2313.46 1481.67 Q2310.41 1477.06 2310.41 1468.33 Q2310.41 1459.58 2313.46 1455 Q2316.54 1450.39 2322.35 1450.39 Z\" fill=\"#000000\" fill-rule=\"evenodd\" fill-opacity=\"1\" /><path clip-path=\"url(#clip220)\" d=\"M1300.34 1523.76 L1290.84 1561.9 Q1290.46 1563.6 1290.46 1565.05 Q1290.46 1568.08 1292.42 1568.08 Q1293.39 1568.08 1294.16 1567.47 Q1294.93 1566.85 1295.54 1565.57 Q1296.16 1564.28 1296.54 1563.09 Q1296.93 1561.86 1297.44 1559.93 Q1297.61 1559.16 1297.73 1558.96 Q1297.9 1558.74 1298.35 1558.74 Q1299.15 1558.74 1299.15 1559.38 Q1298.28 1563.54 1297.15 1565.92 Q1295.35 1569.56 1292.29 1569.56 Q1289.97 1569.56 1288.33 1568.14 Q1286.69 1566.73 1286.3 1564.6 Q1282.08 1569.56 1277.7 1569.56 Q1273.84 1569.56 1271.39 1566.63 Q1268.94 1563.67 1268.94 1559 Q1268.94 1554.29 1271.26 1549.79 Q1273.61 1545.28 1277.32 1542.47 Q1281.02 1539.67 1284.82 1539.67 Q1288.85 1539.67 1290.91 1543.89 L1294.87 1528.24 L1295.06 1526.95 Q1295.06 1526.57 1294.9 1526.37 Q1294.77 1526.15 1294 1525.99 Q1293.26 1525.82 1291.78 1525.82 Q1291.16 1525.82 1290.87 1525.79 Q1290.62 1525.76 1290.39 1525.6 Q1290.17 1525.41 1290.17 1525.02 Q1290.17 1523.89 1291.1 1523.76 Q1297.28 1523.05 1299.47 1523.05 Q1299.86 1523.05 1300.09 1523.25 Q1300.31 1523.41 1300.31 1523.6 L1300.34 1523.76 M1290.1 1546.92 Q1290.1 1546.63 1289.88 1545.82 Q1289.65 1545.02 1289.14 1543.89 Q1288.62 1542.76 1287.49 1541.96 Q1286.4 1541.12 1284.92 1541.12 Q1282.92 1541.12 1280.83 1542.83 Q1278.77 1544.54 1277.25 1547.43 Q1276.09 1549.75 1274.84 1554.62 Q1273.61 1559.48 1273.61 1561.9 Q1273.61 1563.38 1273.93 1564.7 Q1274.29 1565.99 1275.29 1567.05 Q1276.29 1568.08 1277.83 1568.08 Q1281.6 1568.08 1285.3 1563.41 Q1286.01 1562.6 1286.17 1562.28 Q1286.37 1561.93 1286.62 1560.96 L1289.91 1548.05 Q1290.1 1547.08 1290.1 1546.92 Z\" fill=\"#000000\" fill-rule=\"evenodd\" fill-opacity=\"1\" /><path clip-path=\"url(#clip220)\" d=\"M1307.08 1573.06 Q1307.08 1566.28 1308.79 1562.58 Q1311.18 1557.08 1316.82 1557.08 Q1318.01 1557.08 1319.25 1557.42 Q1320.51 1557.73 1322.09 1558.97 Q1323.69 1560.21 1324.66 1562.24 Q1326.51 1566.17 1326.51 1573.06 Q1326.51 1579.8 1324.8 1583.48 Q1322.29 1588.84 1316.77 1588.84 Q1314.7 1588.84 1312.58 1587.79 Q1310.48 1586.73 1309.15 1584.18 Q1307.08 1580.37 1307.08 1573.06 M1310.91 1572.5 Q1310.91 1579.47 1311.4 1582.24 Q1311.97 1585.24 1313.5 1586.55 Q1315.06 1587.83 1316.77 1587.83 Q1318.62 1587.83 1320.15 1586.46 Q1321.71 1585.06 1322.18 1582.06 Q1322.7 1579.11 1322.68 1572.5 Q1322.68 1566.08 1322.23 1563.51 Q1321.62 1560.51 1319.99 1559.31 Q1318.39 1558.09 1316.77 1558.09 Q1316.16 1558.09 1315.51 1558.27 Q1314.88 1558.46 1313.95 1558.97 Q1313.03 1559.49 1312.31 1560.78 Q1311.61 1562.06 1311.27 1564 Q1310.91 1566.5 1310.91 1572.5 Z\" fill=\"#000000\" fill-rule=\"evenodd\" fill-opacity=\"1\" /><polyline clip-path=\"url(#clip222)\" style=\"stroke:#000000; stroke-linecap:butt; stroke-linejoin:round; stroke-width:2; stroke-opacity:0.1; fill:none\" points=\"\n",
       "  249.542,1416.37 2352.76,1416.37 \n",
       "  \"/>\n",
       "<polyline clip-path=\"url(#clip222)\" style=\"stroke:#000000; stroke-linecap:butt; stroke-linejoin:round; stroke-width:2; stroke-opacity:0.1; fill:none\" points=\"\n",
       "  249.542,1137.62 2352.76,1137.62 \n",
       "  \"/>\n",
       "<polyline clip-path=\"url(#clip222)\" style=\"stroke:#000000; stroke-linecap:butt; stroke-linejoin:round; stroke-width:2; stroke-opacity:0.1; fill:none\" points=\"\n",
       "  249.542,858.873 2352.76,858.873 \n",
       "  \"/>\n",
       "<polyline clip-path=\"url(#clip222)\" style=\"stroke:#000000; stroke-linecap:butt; stroke-linejoin:round; stroke-width:2; stroke-opacity:0.1; fill:none\" points=\"\n",
       "  249.542,580.122 2352.76,580.122 \n",
       "  \"/>\n",
       "<polyline clip-path=\"url(#clip222)\" style=\"stroke:#000000; stroke-linecap:butt; stroke-linejoin:round; stroke-width:2; stroke-opacity:0.1; fill:none\" points=\"\n",
       "  249.542,301.372 2352.76,301.372 \n",
       "  \"/>\n",
       "<polyline clip-path=\"url(#clip220)\" style=\"stroke:#000000; stroke-linecap:butt; stroke-linejoin:round; stroke-width:4; stroke-opacity:1; fill:none\" points=\"\n",
       "  249.542,1423.18 249.542,47.2441 \n",
       "  \"/>\n",
       "<polyline clip-path=\"url(#clip220)\" style=\"stroke:#000000; stroke-linecap:butt; stroke-linejoin:round; stroke-width:4; stroke-opacity:1; fill:none\" points=\"\n",
       "  249.542,1416.37 268.44,1416.37 \n",
       "  \"/>\n",
       "<polyline clip-path=\"url(#clip220)\" style=\"stroke:#000000; stroke-linecap:butt; stroke-linejoin:round; stroke-width:4; stroke-opacity:1; fill:none\" points=\"\n",
       "  249.542,1137.62 268.44,1137.62 \n",
       "  \"/>\n",
       "<polyline clip-path=\"url(#clip220)\" style=\"stroke:#000000; stroke-linecap:butt; stroke-linejoin:round; stroke-width:4; stroke-opacity:1; fill:none\" points=\"\n",
       "  249.542,858.873 268.44,858.873 \n",
       "  \"/>\n",
       "<polyline clip-path=\"url(#clip220)\" style=\"stroke:#000000; stroke-linecap:butt; stroke-linejoin:round; stroke-width:4; stroke-opacity:1; fill:none\" points=\"\n",
       "  249.542,580.122 268.44,580.122 \n",
       "  \"/>\n",
       "<polyline clip-path=\"url(#clip220)\" style=\"stroke:#000000; stroke-linecap:butt; stroke-linejoin:round; stroke-width:4; stroke-opacity:1; fill:none\" points=\"\n",
       "  249.542,301.372 268.44,301.372 \n",
       "  \"/>\n",
       "<path clip-path=\"url(#clip220)\" d=\"M126.205 1402.17 Q122.593 1402.17 120.765 1405.74 Q118.959 1409.28 118.959 1416.41 Q118.959 1423.51 120.765 1427.08 Q122.593 1430.62 126.205 1430.62 Q129.839 1430.62 131.644 1427.08 Q133.473 1423.51 133.473 1416.41 Q133.473 1409.28 131.644 1405.74 Q129.839 1402.17 126.205 1402.17 M126.205 1398.47 Q132.015 1398.47 135.07 1403.07 Q138.149 1407.66 138.149 1416.41 Q138.149 1425.14 135.07 1429.74 Q132.015 1434.32 126.205 1434.32 Q120.394 1434.32 117.316 1429.74 Q114.26 1425.14 114.26 1416.41 Q114.26 1407.66 117.316 1403.07 Q120.394 1398.47 126.205 1398.47 Z\" fill=\"#000000\" fill-rule=\"evenodd\" fill-opacity=\"1\" /><path clip-path=\"url(#clip220)\" d=\"M146.366 1427.77 L151.251 1427.77 L151.251 1433.65 L146.366 1433.65 L146.366 1427.77 Z\" fill=\"#000000\" fill-rule=\"evenodd\" fill-opacity=\"1\" /><path clip-path=\"url(#clip220)\" d=\"M160.255 1399.09 L182.477 1399.09 L182.477 1401.08 L169.931 1433.65 L165.047 1433.65 L176.852 1403.03 L160.255 1403.03 L160.255 1399.09 Z\" fill=\"#000000\" fill-rule=\"evenodd\" fill-opacity=\"1\" /><path clip-path=\"url(#clip220)\" d=\"M201.598 1402.17 Q197.987 1402.17 196.158 1405.74 Q194.352 1409.28 194.352 1416.41 Q194.352 1423.51 196.158 1427.08 Q197.987 1430.62 201.598 1430.62 Q205.232 1430.62 207.037 1427.08 Q208.866 1423.51 208.866 1416.41 Q208.866 1409.28 207.037 1405.74 Q205.232 1402.17 201.598 1402.17 M201.598 1398.47 Q207.408 1398.47 210.463 1403.07 Q213.542 1407.66 213.542 1416.41 Q213.542 1425.14 210.463 1429.74 Q207.408 1434.32 201.598 1434.32 Q195.787 1434.32 192.709 1429.74 Q189.653 1425.14 189.653 1416.41 Q189.653 1407.66 192.709 1403.07 Q195.787 1398.47 201.598 1398.47 Z\" fill=\"#000000\" fill-rule=\"evenodd\" fill-opacity=\"1\" /><path clip-path=\"url(#clip220)\" d=\"M127.2 1123.42 Q123.589 1123.42 121.76 1126.99 Q119.955 1130.53 119.955 1137.66 Q119.955 1144.76 121.76 1148.33 Q123.589 1151.87 127.2 1151.87 Q130.834 1151.87 132.64 1148.33 Q134.468 1144.76 134.468 1137.66 Q134.468 1130.53 132.64 1126.99 Q130.834 1123.42 127.2 1123.42 M127.2 1119.72 Q133.01 1119.72 136.066 1124.32 Q139.144 1128.91 139.144 1137.66 Q139.144 1146.38 136.066 1150.99 Q133.01 1155.57 127.2 1155.57 Q121.39 1155.57 118.311 1150.99 Q115.256 1146.38 115.256 1137.66 Q115.256 1128.91 118.311 1124.32 Q121.39 1119.72 127.2 1119.72 Z\" fill=\"#000000\" fill-rule=\"evenodd\" fill-opacity=\"1\" /><path clip-path=\"url(#clip220)\" d=\"M147.362 1149.02 L152.246 1149.02 L152.246 1154.9 L147.362 1154.9 L147.362 1149.02 Z\" fill=\"#000000\" fill-rule=\"evenodd\" fill-opacity=\"1\" /><path clip-path=\"url(#clip220)\" d=\"M161.251 1120.34 L183.473 1120.34 L183.473 1122.33 L170.927 1154.9 L166.042 1154.9 L177.848 1124.28 L161.251 1124.28 L161.251 1120.34 Z\" fill=\"#000000\" fill-rule=\"evenodd\" fill-opacity=\"1\" /><path clip-path=\"url(#clip220)\" d=\"M192.639 1120.34 L210.996 1120.34 L210.996 1124.28 L196.922 1124.28 L196.922 1132.75 Q197.94 1132.4 198.959 1132.24 Q199.977 1132.06 200.996 1132.06 Q206.783 1132.06 210.162 1135.23 Q213.542 1138.4 213.542 1143.82 Q213.542 1149.39 210.07 1152.5 Q206.598 1155.57 200.278 1155.57 Q198.102 1155.57 195.834 1155.2 Q193.588 1154.83 191.181 1154.09 L191.181 1149.39 Q193.264 1150.53 195.487 1151.08 Q197.709 1151.64 200.186 1151.64 Q204.19 1151.64 206.528 1149.53 Q208.866 1147.43 208.866 1143.82 Q208.866 1140.2 206.528 1138.1 Q204.19 1135.99 200.186 1135.99 Q198.311 1135.99 196.436 1136.41 Q194.584 1136.82 192.639 1137.7 L192.639 1120.34 Z\" fill=\"#000000\" fill-rule=\"evenodd\" fill-opacity=\"1\" /><path clip-path=\"url(#clip220)\" d=\"M126.205 844.671 Q122.593 844.671 120.765 848.236 Q118.959 851.778 118.959 858.907 Q118.959 866.014 120.765 869.579 Q122.593 873.12 126.205 873.12 Q129.839 873.12 131.644 869.579 Q133.473 866.014 133.473 858.907 Q133.473 851.778 131.644 848.236 Q129.839 844.671 126.205 844.671 M126.205 840.968 Q132.015 840.968 135.07 845.574 Q138.149 850.157 138.149 858.907 Q138.149 867.634 135.07 872.241 Q132.015 876.824 126.205 876.824 Q120.394 876.824 117.316 872.241 Q114.26 867.634 114.26 858.907 Q114.26 850.157 117.316 845.574 Q120.394 840.968 126.205 840.968 Z\" fill=\"#000000\" fill-rule=\"evenodd\" fill-opacity=\"1\" /><path clip-path=\"url(#clip220)\" d=\"M146.366 870.273 L151.251 870.273 L151.251 876.153 L146.366 876.153 L146.366 870.273 Z\" fill=\"#000000\" fill-rule=\"evenodd\" fill-opacity=\"1\" /><path clip-path=\"url(#clip220)\" d=\"M171.436 859.741 Q168.102 859.741 166.181 861.523 Q164.283 863.305 164.283 866.43 Q164.283 869.555 166.181 871.338 Q168.102 873.12 171.436 873.12 Q174.769 873.12 176.69 871.338 Q178.612 869.532 178.612 866.43 Q178.612 863.305 176.69 861.523 Q174.792 859.741 171.436 859.741 M166.76 857.75 Q163.751 857.009 162.061 854.949 Q160.394 852.889 160.394 849.926 Q160.394 845.782 163.334 843.375 Q166.297 840.968 171.436 840.968 Q176.598 840.968 179.538 843.375 Q182.477 845.782 182.477 849.926 Q182.477 852.889 180.788 854.949 Q179.121 857.009 176.135 857.75 Q179.514 858.537 181.389 860.829 Q183.288 863.12 183.288 866.43 Q183.288 871.454 180.209 874.139 Q177.153 876.824 171.436 876.824 Q165.718 876.824 162.64 874.139 Q159.584 871.454 159.584 866.43 Q159.584 863.12 161.482 860.829 Q163.38 858.537 166.76 857.75 M165.047 850.366 Q165.047 853.051 166.714 854.556 Q168.403 856.06 171.436 856.06 Q174.445 856.06 176.135 854.556 Q177.848 853.051 177.848 850.366 Q177.848 847.681 176.135 846.176 Q174.445 844.671 171.436 844.671 Q168.403 844.671 166.714 846.176 Q165.047 847.681 165.047 850.366 Z\" fill=\"#000000\" fill-rule=\"evenodd\" fill-opacity=\"1\" /><path clip-path=\"url(#clip220)\" d=\"M201.598 844.671 Q197.987 844.671 196.158 848.236 Q194.352 851.778 194.352 858.907 Q194.352 866.014 196.158 869.579 Q197.987 873.12 201.598 873.12 Q205.232 873.12 207.037 869.579 Q208.866 866.014 208.866 858.907 Q208.866 851.778 207.037 848.236 Q205.232 844.671 201.598 844.671 M201.598 840.968 Q207.408 840.968 210.463 845.574 Q213.542 850.157 213.542 858.907 Q213.542 867.634 210.463 872.241 Q207.408 876.824 201.598 876.824 Q195.787 876.824 192.709 872.241 Q189.653 867.634 189.653 858.907 Q189.653 850.157 192.709 845.574 Q195.787 840.968 201.598 840.968 Z\" fill=\"#000000\" fill-rule=\"evenodd\" fill-opacity=\"1\" /><path clip-path=\"url(#clip220)\" d=\"M127.2 565.921 Q123.589 565.921 121.76 569.486 Q119.955 573.027 119.955 580.157 Q119.955 587.263 121.76 590.828 Q123.589 594.37 127.2 594.37 Q130.834 594.37 132.64 590.828 Q134.468 587.263 134.468 580.157 Q134.468 573.027 132.64 569.486 Q130.834 565.921 127.2 565.921 M127.2 562.217 Q133.01 562.217 136.066 566.824 Q139.144 571.407 139.144 580.157 Q139.144 588.884 136.066 593.49 Q133.01 598.073 127.2 598.073 Q121.39 598.073 118.311 593.49 Q115.256 588.884 115.256 580.157 Q115.256 571.407 118.311 566.824 Q121.39 562.217 127.2 562.217 Z\" fill=\"#000000\" fill-rule=\"evenodd\" fill-opacity=\"1\" /><path clip-path=\"url(#clip220)\" d=\"M147.362 591.523 L152.246 591.523 L152.246 597.402 L147.362 597.402 L147.362 591.523 Z\" fill=\"#000000\" fill-rule=\"evenodd\" fill-opacity=\"1\" /><path clip-path=\"url(#clip220)\" d=\"M172.431 580.99 Q169.098 580.99 167.177 582.773 Q165.278 584.555 165.278 587.68 Q165.278 590.805 167.177 592.587 Q169.098 594.37 172.431 594.37 Q175.764 594.37 177.686 592.587 Q179.607 590.782 179.607 587.68 Q179.607 584.555 177.686 582.773 Q175.788 580.99 172.431 580.99 M167.755 579 Q164.746 578.259 163.056 576.199 Q161.39 574.138 161.39 571.175 Q161.39 567.032 164.329 564.625 Q167.292 562.217 172.431 562.217 Q177.593 562.217 180.533 564.625 Q183.473 567.032 183.473 571.175 Q183.473 574.138 181.783 576.199 Q180.116 578.259 177.13 579 Q180.51 579.787 182.385 582.078 Q184.283 584.37 184.283 587.68 Q184.283 592.703 181.204 595.388 Q178.149 598.073 172.431 598.073 Q166.714 598.073 163.635 595.388 Q160.579 592.703 160.579 587.68 Q160.579 584.37 162.477 582.078 Q164.376 579.787 167.755 579 M166.042 571.615 Q166.042 574.3 167.709 575.805 Q169.399 577.31 172.431 577.31 Q175.44 577.31 177.13 575.805 Q178.843 574.3 178.843 571.615 Q178.843 568.93 177.13 567.425 Q175.44 565.921 172.431 565.921 Q169.399 565.921 167.709 567.425 Q166.042 568.93 166.042 571.615 Z\" fill=\"#000000\" fill-rule=\"evenodd\" fill-opacity=\"1\" /><path clip-path=\"url(#clip220)\" d=\"M192.639 562.842 L210.996 562.842 L210.996 566.777 L196.922 566.777 L196.922 575.25 Q197.94 574.902 198.959 574.74 Q199.977 574.555 200.996 574.555 Q206.783 574.555 210.162 577.726 Q213.542 580.898 213.542 586.314 Q213.542 591.893 210.07 594.995 Q206.598 598.073 200.278 598.073 Q198.102 598.073 195.834 597.703 Q193.588 597.333 191.181 596.592 L191.181 591.893 Q193.264 593.027 195.487 593.583 Q197.709 594.138 200.186 594.138 Q204.19 594.138 206.528 592.032 Q208.866 589.925 208.866 586.314 Q208.866 582.703 206.528 580.597 Q204.19 578.49 200.186 578.49 Q198.311 578.49 196.436 578.907 Q194.584 579.324 192.639 580.203 L192.639 562.842 Z\" fill=\"#000000\" fill-rule=\"evenodd\" fill-opacity=\"1\" /><path clip-path=\"url(#clip220)\" d=\"M126.205 287.17 Q122.593 287.17 120.765 290.735 Q118.959 294.277 118.959 301.406 Q118.959 308.513 120.765 312.078 Q122.593 315.619 126.205 315.619 Q129.839 315.619 131.644 312.078 Q133.473 308.513 133.473 301.406 Q133.473 294.277 131.644 290.735 Q129.839 287.17 126.205 287.17 M126.205 283.467 Q132.015 283.467 135.07 288.073 Q138.149 292.657 138.149 301.406 Q138.149 310.133 135.07 314.74 Q132.015 319.323 126.205 319.323 Q120.394 319.323 117.316 314.74 Q114.26 310.133 114.26 301.406 Q114.26 292.657 117.316 288.073 Q120.394 283.467 126.205 283.467 Z\" fill=\"#000000\" fill-rule=\"evenodd\" fill-opacity=\"1\" /><path clip-path=\"url(#clip220)\" d=\"M146.366 312.772 L151.251 312.772 L151.251 318.652 L146.366 318.652 L146.366 312.772 Z\" fill=\"#000000\" fill-rule=\"evenodd\" fill-opacity=\"1\" /><path clip-path=\"url(#clip220)\" d=\"M161.575 317.934 L161.575 313.675 Q163.334 314.508 165.14 314.948 Q166.945 315.388 168.681 315.388 Q173.311 315.388 175.741 312.286 Q178.195 309.161 178.542 302.818 Q177.2 304.809 175.139 305.874 Q173.079 306.939 170.579 306.939 Q165.394 306.939 162.362 303.814 Q159.353 300.666 159.353 295.226 Q159.353 289.902 162.501 286.684 Q165.649 283.467 170.88 283.467 Q176.876 283.467 180.024 288.073 Q183.195 292.657 183.195 301.406 Q183.195 309.578 179.306 314.462 Q175.44 319.323 168.889 319.323 Q167.13 319.323 165.325 318.976 Q163.519 318.629 161.575 317.934 M170.88 303.281 Q174.028 303.281 175.857 301.129 Q177.709 298.976 177.709 295.226 Q177.709 291.499 175.857 289.346 Q174.028 287.17 170.88 287.17 Q167.732 287.17 165.88 289.346 Q164.052 291.499 164.052 295.226 Q164.052 298.976 165.88 301.129 Q167.732 303.281 170.88 303.281 Z\" fill=\"#000000\" fill-rule=\"evenodd\" fill-opacity=\"1\" /><path clip-path=\"url(#clip220)\" d=\"M201.598 287.17 Q197.987 287.17 196.158 290.735 Q194.352 294.277 194.352 301.406 Q194.352 308.513 196.158 312.078 Q197.987 315.619 201.598 315.619 Q205.232 315.619 207.037 312.078 Q208.866 308.513 208.866 301.406 Q208.866 294.277 207.037 290.735 Q205.232 287.17 201.598 287.17 M201.598 283.467 Q207.408 283.467 210.463 288.073 Q213.542 292.657 213.542 301.406 Q213.542 310.133 210.463 314.74 Q207.408 319.323 201.598 319.323 Q195.787 319.323 192.709 314.74 Q189.653 310.133 189.653 301.406 Q189.653 292.657 192.709 288.073 Q195.787 283.467 201.598 283.467 Z\" fill=\"#000000\" fill-rule=\"evenodd\" fill-opacity=\"1\" /><path clip-path=\"url(#clip220)\" d=\"M16.4842 1237.77 L16.4842 1229.11 L56.238 1208.04 L16.4842 1208.04 L16.4842 1201.8 L64.0042 1201.8 L64.0042 1210.46 L24.2503 1231.53 L64.0042 1231.53 L64.0042 1237.77 L16.4842 1237.77 Z\" fill=\"#000000\" fill-rule=\"evenodd\" fill-opacity=\"1\" /><path clip-path=\"url(#clip220)\" d=\"M32.4621 1175.45 Q32.4621 1180.16 36.1542 1182.9 Q39.8145 1185.63 46.212 1185.63 Q52.6095 1185.63 56.3017 1182.93 Q59.9619 1180.19 59.9619 1175.45 Q59.9619 1170.77 56.2698 1168.03 Q52.5777 1165.3 46.212 1165.3 Q39.8781 1165.3 36.186 1168.03 Q32.4621 1170.77 32.4621 1175.45 M27.4968 1175.45 Q27.4968 1167.81 32.4621 1163.45 Q37.4273 1159.09 46.212 1159.09 Q54.9649 1159.09 59.9619 1163.45 Q64.9272 1167.81 64.9272 1175.45 Q64.9272 1183.12 59.9619 1187.48 Q54.9649 1191.81 46.212 1191.81 Q37.4273 1191.81 32.4621 1187.48 Q27.4968 1183.12 27.4968 1175.45 Z\" fill=\"#000000\" fill-rule=\"evenodd\" fill-opacity=\"1\" /><path clip-path=\"url(#clip220)\" d=\"M33.8307 1128.72 Q33.2578 1129.71 33.0032 1130.89 Q32.7167 1132.03 32.7167 1133.43 Q32.7167 1138.4 35.9632 1141.07 Q39.1779 1143.72 45.2253 1143.72 L64.0042 1143.72 L64.0042 1149.6 L28.3562 1149.6 L28.3562 1143.72 L33.8944 1143.72 Q30.6479 1141.87 29.0883 1138.91 Q27.4968 1135.95 27.4968 1131.72 Q27.4968 1131.11 27.5923 1130.38 Q27.656 1129.65 27.8151 1128.76 L33.8307 1128.72 Z\" fill=\"#000000\" fill-rule=\"evenodd\" fill-opacity=\"1\" /><path clip-path=\"url(#clip220)\" d=\"M35.1993 1095.97 Q31.2526 1093.78 29.3747 1090.72 Q27.4968 1087.67 27.4968 1083.53 Q27.4968 1077.96 31.4117 1074.93 Q35.2948 1071.91 42.4881 1071.91 L64.0042 1071.91 L64.0042 1077.8 L42.679 1077.8 Q37.5546 1077.8 35.072 1079.61 Q32.5894 1081.43 32.5894 1085.15 Q32.5894 1089.7 35.6131 1092.34 Q38.6368 1094.99 43.8567 1094.99 L64.0042 1094.99 L64.0042 1100.87 L42.679 1100.87 Q37.5228 1100.87 35.072 1102.69 Q32.5894 1104.5 32.5894 1108.29 Q32.5894 1112.78 35.6449 1115.42 Q38.6686 1118.06 43.8567 1118.06 L64.0042 1118.06 L64.0042 1123.95 L28.3562 1123.95 L28.3562 1118.06 L33.8944 1118.06 Q30.616 1116.06 29.0564 1113.26 Q27.4968 1110.45 27.4968 1106.6 Q27.4968 1102.72 29.4702 1100.01 Q31.4436 1097.28 35.1993 1095.97 Z\" fill=\"#000000\" fill-rule=\"evenodd\" fill-opacity=\"1\" /><path clip-path=\"url(#clip220)\" d=\"M46.0847 1044.03 Q46.0847 1051.13 47.7079 1053.86 Q49.3312 1056.6 53.2461 1056.6 Q56.3653 1056.6 58.2114 1054.56 Q60.0256 1052.49 60.0256 1048.96 Q60.0256 1044.09 56.5881 1041.16 Q53.1188 1038.2 47.3897 1038.2 L46.0847 1038.2 L46.0847 1044.03 M43.6657 1032.35 L64.0042 1032.35 L64.0042 1038.2 L58.5933 1038.2 Q61.8398 1040.21 63.3994 1043.2 Q64.9272 1046.19 64.9272 1050.52 Q64.9272 1056 61.8716 1059.24 Q58.7843 1062.46 53.6281 1062.46 Q47.6125 1062.46 44.5569 1058.45 Q41.5014 1054.4 41.5014 1046.42 L41.5014 1038.2 L40.9285 1038.2 Q36.8862 1038.2 34.6901 1040.88 Q32.4621 1043.52 32.4621 1048.33 Q32.4621 1051.38 33.1941 1054.28 Q33.9262 1057.17 35.3903 1059.85 L29.9795 1059.85 Q28.7381 1056.63 28.1334 1053.61 Q27.4968 1050.58 27.4968 1047.72 Q27.4968 1039.99 31.5072 1036.17 Q35.5176 1032.35 43.6657 1032.35 Z\" fill=\"#000000\" fill-rule=\"evenodd\" fill-opacity=\"1\" /><path clip-path=\"url(#clip220)\" d=\"M14.479 1020.28 L14.479 1014.43 L64.0042 1014.43 L64.0042 1020.28 L14.479 1020.28 Z\" fill=\"#000000\" fill-rule=\"evenodd\" fill-opacity=\"1\" /><path clip-path=\"url(#clip220)\" d=\"M28.3562 1002.17 L28.3562 996.317 L64.0042 996.317 L64.0042 1002.17 L28.3562 1002.17 M14.479 1002.17 L14.479 996.317 L21.895 996.317 L21.895 1002.17 L14.479 1002.17 Z\" fill=\"#000000\" fill-rule=\"evenodd\" fill-opacity=\"1\" /><path clip-path=\"url(#clip220)\" d=\"M28.3562 986.61 L28.3562 958.791 L33.7034 958.791 L59.3254 980.817 L59.3254 958.791 L64.0042 958.791 L64.0042 987.405 L58.657 987.405 L33.035 965.38 L33.035 986.61 L28.3562 986.61 Z\" fill=\"#000000\" fill-rule=\"evenodd\" fill-opacity=\"1\" /><path clip-path=\"url(#clip220)\" d=\"M44.7161 919.356 L47.5806 919.356 L47.5806 946.283 Q53.6281 945.901 56.8109 942.654 Q59.9619 939.376 59.9619 933.551 Q59.9619 930.178 59.1344 927.027 Q58.3069 923.844 56.6518 920.725 L62.1899 920.725 Q63.5267 923.876 64.227 927.186 Q64.9272 930.496 64.9272 933.902 Q64.9272 942.432 59.9619 947.429 Q54.9967 952.394 46.5303 952.394 Q37.7774 952.394 32.6531 947.683 Q27.4968 942.941 27.4968 934.92 Q27.4968 927.727 32.1438 923.557 Q36.7589 919.356 44.7161 919.356 M42.9973 925.212 Q38.1912 925.276 35.3266 927.918 Q32.4621 930.528 32.4621 934.856 Q32.4621 939.758 35.2312 942.718 Q38.0002 945.646 43.0292 946.092 L42.9973 925.212 Z\" fill=\"#000000\" fill-rule=\"evenodd\" fill-opacity=\"1\" /><path clip-path=\"url(#clip220)\" d=\"M33.7671 886.286 L14.479 886.286 L14.479 880.43 L64.0042 880.43 L64.0042 886.286 L58.657 886.286 Q61.8398 888.132 63.3994 890.965 Q64.9272 893.766 64.9272 897.713 Q64.9272 904.174 59.771 908.248 Q54.6147 912.29 46.212 912.29 Q37.8093 912.29 32.6531 908.248 Q27.4968 904.174 27.4968 897.713 Q27.4968 893.766 29.0564 890.965 Q30.5842 888.132 33.7671 886.286 M46.212 906.243 Q52.6732 906.243 56.3653 903.601 Q60.0256 900.927 60.0256 896.28 Q60.0256 891.633 56.3653 888.96 Q52.6732 886.286 46.212 886.286 Q39.7508 886.286 36.0905 888.96 Q32.3984 891.633 32.3984 896.28 Q32.3984 900.927 36.0905 903.601 Q39.7508 906.243 46.212 906.243 Z\" fill=\"#000000\" fill-rule=\"evenodd\" fill-opacity=\"1\" /><path clip-path=\"url(#clip220)\" d=\"M35.1993 819.892 Q31.2526 817.696 29.3747 814.64 Q27.4968 811.585 27.4968 807.447 Q27.4968 801.877 31.4117 798.853 Q35.2948 795.829 42.4881 795.829 L64.0042 795.829 L64.0042 801.718 L42.679 801.718 Q37.5546 801.718 35.072 803.532 Q32.5894 805.346 32.5894 809.07 Q32.5894 813.622 35.6131 816.263 Q38.6368 818.905 43.8567 818.905 L64.0042 818.905 L64.0042 824.793 L42.679 824.793 Q37.5228 824.793 35.072 826.608 Q32.5894 828.422 32.5894 832.209 Q32.5894 836.697 35.6449 839.339 Q38.6686 841.981 43.8567 841.981 L64.0042 841.981 L64.0042 847.869 L28.3562 847.869 L28.3562 841.981 L33.8944 841.981 Q30.616 839.976 29.0564 837.175 Q27.4968 834.374 27.4968 830.523 Q27.4968 826.639 29.4702 823.934 Q31.4436 821.197 35.1993 819.892 Z\" fill=\"#000000\" fill-rule=\"evenodd\" fill-opacity=\"1\" /><path clip-path=\"url(#clip220)\" d=\"M49.9359 784.753 L28.3562 784.753 L28.3562 778.897 L49.7131 778.897 Q54.7739 778.897 57.3202 776.923 Q59.8346 774.95 59.8346 771.003 Q59.8346 766.261 56.8109 763.523 Q53.7872 760.754 48.5673 760.754 L28.3562 760.754 L28.3562 754.898 L64.0042 754.898 L64.0042 760.754 L58.5296 760.754 Q61.7762 762.887 63.3676 765.72 Q64.9272 768.521 64.9272 772.244 Q64.9272 778.387 61.1078 781.57 Q57.2883 784.753 49.9359 784.753 M27.4968 770.016 L27.4968 770.016 Z\" fill=\"#000000\" fill-rule=\"evenodd\" fill-opacity=\"1\" /><path clip-path=\"url(#clip220)\" d=\"M18.2347 737.042 L28.3562 737.042 L28.3562 724.979 L32.9077 724.979 L32.9077 737.042 L52.2594 737.042 Q56.6199 737.042 57.8613 735.864 Q59.1026 734.655 59.1026 730.995 L59.1026 724.979 L64.0042 724.979 L64.0042 730.995 Q64.0042 737.774 61.4897 740.352 Q58.9434 742.93 52.2594 742.93 L32.9077 742.93 L32.9077 747.227 L28.3562 747.227 L28.3562 742.93 L18.2347 742.93 L18.2347 737.042 Z\" fill=\"#000000\" fill-rule=\"evenodd\" fill-opacity=\"1\" /><path clip-path=\"url(#clip220)\" d=\"M49.9359 717.881 L28.3562 717.881 L28.3562 712.025 L49.7131 712.025 Q54.7739 712.025 57.3202 710.052 Q59.8346 708.078 59.8346 704.131 Q59.8346 699.389 56.8109 696.652 Q53.7872 693.883 48.5673 693.883 L28.3562 693.883 L28.3562 688.026 L64.0042 688.026 L64.0042 693.883 L58.5296 693.883 Q61.7762 696.015 63.3676 698.848 Q64.9272 701.649 64.9272 705.373 Q64.9272 711.516 61.1078 714.698 Q57.2883 717.881 49.9359 717.881 M27.4968 703.145 L27.4968 703.145 Z\" fill=\"#000000\" fill-rule=\"evenodd\" fill-opacity=\"1\" /><path clip-path=\"url(#clip220)\" d=\"M46.0847 659.762 Q46.0847 666.86 47.7079 669.597 Q49.3312 672.335 53.2461 672.335 Q56.3653 672.335 58.2114 670.298 Q60.0256 668.229 60.0256 664.696 Q60.0256 659.826 56.5881 656.898 Q53.1188 653.938 47.3897 653.938 L46.0847 653.938 L46.0847 659.762 M43.6657 648.081 L64.0042 648.081 L64.0042 653.938 L58.5933 653.938 Q61.8398 655.943 63.3994 658.935 Q64.9272 661.927 64.9272 666.255 Q64.9272 671.73 61.8716 674.976 Q58.7843 678.191 53.6281 678.191 Q47.6125 678.191 44.5569 674.181 Q41.5014 670.139 41.5014 662.15 L41.5014 653.938 L40.9285 653.938 Q36.8862 653.938 34.6901 656.611 Q32.4621 659.253 32.4621 664.059 Q32.4621 667.115 33.1941 670.011 Q33.9262 672.908 35.3903 675.581 L29.9795 675.581 Q28.7381 672.367 28.1334 669.343 Q27.4968 666.319 27.4968 663.455 Q27.4968 655.72 31.5072 651.901 Q35.5176 648.081 43.6657 648.081 Z\" fill=\"#000000\" fill-rule=\"evenodd\" fill-opacity=\"1\" /><path clip-path=\"url(#clip220)\" d=\"M14.479 636.018 L14.479 630.162 L64.0042 630.162 L64.0042 636.018 L14.479 636.018 Z\" fill=\"#000000\" fill-rule=\"evenodd\" fill-opacity=\"1\" /><path clip-path=\"url(#clip220)\" d=\"M28.3562 597.188 L28.3562 591.331 L64.0042 591.331 L64.0042 597.188 L28.3562 597.188 M14.479 597.188 L14.479 591.331 L21.895 591.331 L21.895 597.188 L14.479 597.188 Z\" fill=\"#000000\" fill-rule=\"evenodd\" fill-opacity=\"1\" /><path clip-path=\"url(#clip220)\" d=\"M42.4881 549.445 L64.0042 549.445 L64.0042 555.301 L42.679 555.301 Q37.6183 555.301 35.1038 557.275 Q32.5894 559.248 32.5894 563.195 Q32.5894 567.937 35.6131 570.674 Q38.6368 573.412 43.8567 573.412 L64.0042 573.412 L64.0042 579.3 L28.3562 579.3 L28.3562 573.412 L33.8944 573.412 Q30.6797 571.311 29.0883 568.478 Q27.4968 565.614 27.4968 561.89 Q27.4968 555.747 31.3163 552.596 Q35.1038 549.445 42.4881 549.445 Z\" fill=\"#000000\" fill-rule=\"evenodd\" fill-opacity=\"1\" /><path clip-path=\"url(#clip220)\" d=\"M14.479 519.717 L19.3487 519.717 L19.3487 525.319 Q19.3487 528.47 20.6219 529.711 Q21.895 530.921 25.2052 530.921 L28.3562 530.921 L28.3562 521.276 L32.9077 521.276 L32.9077 530.921 L64.0042 530.921 L64.0042 536.809 L32.9077 536.809 L32.9077 542.411 L28.3562 542.411 L28.3562 536.809 L25.8736 536.809 Q19.9216 536.809 17.2162 534.04 Q14.479 531.271 14.479 525.255 L14.479 519.717 Z\" fill=\"#000000\" fill-rule=\"evenodd\" fill-opacity=\"1\" /><path clip-path=\"url(#clip220)\" d=\"M32.4621 501.002 Q32.4621 505.712 36.1542 508.45 Q39.8145 511.187 46.212 511.187 Q52.6095 511.187 56.3017 508.481 Q59.9619 505.744 59.9619 501.002 Q59.9619 496.323 56.2698 493.586 Q52.5777 490.848 46.212 490.848 Q39.8781 490.848 36.186 493.586 Q32.4621 496.323 32.4621 501.002 M27.4968 501.002 Q27.4968 493.363 32.4621 489.002 Q37.4273 484.642 46.212 484.642 Q54.9649 484.642 59.9619 489.002 Q64.9272 493.363 64.9272 501.002 Q64.9272 508.672 59.9619 513.033 Q54.9649 517.362 46.212 517.362 Q37.4273 517.362 32.4621 513.033 Q27.4968 508.672 27.4968 501.002 Z\" fill=\"#000000\" fill-rule=\"evenodd\" fill-opacity=\"1\" /><path clip-path=\"url(#clip220)\" d=\"M33.8307 454.277 Q33.2578 455.264 33.0032 456.442 Q32.7167 457.588 32.7167 458.988 Q32.7167 463.953 35.9632 466.627 Q39.1779 469.269 45.2253 469.269 L64.0042 469.269 L64.0042 475.157 L28.3562 475.157 L28.3562 469.269 L33.8944 469.269 Q30.6479 467.423 29.0883 464.463 Q27.4968 461.502 27.4968 457.269 Q27.4968 456.665 27.5923 455.933 Q27.656 455.2 27.8151 454.309 L33.8307 454.277 Z\" fill=\"#000000\" fill-rule=\"evenodd\" fill-opacity=\"1\" /><path clip-path=\"url(#clip220)\" d=\"M35.1993 421.526 Q31.2526 419.33 29.3747 416.274 Q27.4968 413.219 27.4968 409.081 Q27.4968 403.511 31.4117 400.487 Q35.2948 397.463 42.4881 397.463 L64.0042 397.463 L64.0042 403.352 L42.679 403.352 Q37.5546 403.352 35.072 405.166 Q32.5894 406.98 32.5894 410.704 Q32.5894 415.256 35.6131 417.897 Q38.6368 420.539 43.8567 420.539 L64.0042 420.539 L64.0042 426.427 L42.679 426.427 Q37.5228 426.427 35.072 428.242 Q32.5894 430.056 32.5894 433.844 Q32.5894 438.331 35.6449 440.973 Q38.6686 443.615 43.8567 443.615 L64.0042 443.615 L64.0042 449.503 L28.3562 449.503 L28.3562 443.615 L33.8944 443.615 Q30.616 441.61 29.0564 438.809 Q27.4968 436.008 27.4968 432.157 Q27.4968 428.274 29.4702 425.568 Q31.4436 422.831 35.1993 421.526 Z\" fill=\"#000000\" fill-rule=\"evenodd\" fill-opacity=\"1\" /><path clip-path=\"url(#clip220)\" d=\"M46.0847 369.582 Q46.0847 376.679 47.7079 379.417 Q49.3312 382.154 53.2461 382.154 Q56.3653 382.154 58.2114 380.117 Q60.0256 378.048 60.0256 374.515 Q60.0256 369.645 56.5881 366.717 Q53.1188 363.757 47.3897 363.757 L46.0847 363.757 L46.0847 369.582 M43.6657 357.901 L64.0042 357.901 L64.0042 363.757 L58.5933 363.757 Q61.8398 365.762 63.3994 368.754 Q64.9272 371.746 64.9272 376.075 Q64.9272 381.549 61.8716 384.796 Q58.7843 388.01 53.6281 388.01 Q47.6125 388.01 44.5569 384 Q41.5014 379.958 41.5014 371.969 L41.5014 363.757 L40.9285 363.757 Q36.8862 363.757 34.6901 366.431 Q32.4621 369.072 32.4621 373.879 Q32.4621 376.934 33.1941 379.83 Q33.9262 382.727 35.3903 385.4 L29.9795 385.4 Q28.7381 382.186 28.1334 379.162 Q27.4968 376.138 27.4968 373.274 Q27.4968 365.539 31.5072 361.72 Q35.5176 357.901 43.6657 357.901 Z\" fill=\"#000000\" fill-rule=\"evenodd\" fill-opacity=\"1\" /><path clip-path=\"url(#clip220)\" d=\"M18.2347 340.045 L28.3562 340.045 L28.3562 327.982 L32.9077 327.982 L32.9077 340.045 L52.2594 340.045 Q56.6199 340.045 57.8613 338.867 Q59.1026 337.658 59.1026 333.997 L59.1026 327.982 L64.0042 327.982 L64.0042 333.997 Q64.0042 340.777 61.4897 343.355 Q58.9434 345.933 52.2594 345.933 L32.9077 345.933 L32.9077 350.23 L28.3562 350.23 L28.3562 345.933 L18.2347 345.933 L18.2347 340.045 Z\" fill=\"#000000\" fill-rule=\"evenodd\" fill-opacity=\"1\" /><path clip-path=\"url(#clip220)\" d=\"M28.3562 320.279 L28.3562 314.423 L64.0042 314.423 L64.0042 320.279 L28.3562 320.279 M14.479 320.279 L14.479 314.423 L21.895 314.423 L21.895 320.279 L14.479 320.279 Z\" fill=\"#000000\" fill-rule=\"evenodd\" fill-opacity=\"1\" /><path clip-path=\"url(#clip220)\" d=\"M32.4621 288.355 Q32.4621 293.066 36.1542 295.803 Q39.8145 298.54 46.212 298.54 Q52.6095 298.54 56.3017 295.835 Q59.9619 293.098 59.9619 288.355 Q59.9619 283.676 56.2698 280.939 Q52.5777 278.202 46.212 278.202 Q39.8781 278.202 36.186 280.939 Q32.4621 283.676 32.4621 288.355 M27.4968 288.355 Q27.4968 280.716 32.4621 276.356 Q37.4273 271.995 46.212 271.995 Q54.9649 271.995 59.9619 276.356 Q64.9272 280.716 64.9272 288.355 Q64.9272 296.026 59.9619 300.386 Q54.9649 304.715 46.212 304.715 Q37.4273 304.715 32.4621 300.386 Q27.4968 296.026 27.4968 288.355 Z\" fill=\"#000000\" fill-rule=\"evenodd\" fill-opacity=\"1\" /><path clip-path=\"url(#clip220)\" d=\"M42.4881 232.655 L64.0042 232.655 L64.0042 238.512 L42.679 238.512 Q37.6183 238.512 35.1038 240.485 Q32.5894 242.459 32.5894 246.405 Q32.5894 251.148 35.6131 253.885 Q38.6368 256.622 43.8567 256.622 L64.0042 256.622 L64.0042 262.511 L28.3562 262.511 L28.3562 256.622 L33.8944 256.622 Q30.6797 254.522 29.0883 251.689 Q27.4968 248.824 27.4968 245.1 Q27.4968 238.957 31.3163 235.806 Q35.1038 232.655 42.4881 232.655 Z\" fill=\"#000000\" fill-rule=\"evenodd\" fill-opacity=\"1\" /><polyline clip-path=\"url(#clip222)\" style=\"stroke:#009af9; stroke-linecap:butt; stroke-linejoin:round; stroke-width:4; stroke-opacity:1; fill:none\" points=\"\n",
       "  309.067,1242.81 419.298,633.435 529.53,247.999 639.761,311.283 749.992,242.7 860.224,227.517 970.455,103.314 1080.69,164.228 1190.92,222.206 1301.15,198.736 \n",
       "  1411.38,217.269 1521.61,212.927 1631.84,210.864 1742.07,248.887 1852.31,282.221 1962.54,279.512 2072.77,306.844 2183,275.658 2293.23,280.496 \n",
       "  \"/>\n",
       "<polyline clip-path=\"url(#clip222)\" style=\"stroke:#009af9; stroke-linecap:butt; stroke-linejoin:round; stroke-width:4; stroke-opacity:1; fill:none\" points=\"\n",
       "  309.067,1384.24 309.067,1101.39 \n",
       "  \"/>\n",
       "<polyline clip-path=\"url(#clip222)\" style=\"stroke:#009af9; stroke-linecap:butt; stroke-linejoin:round; stroke-width:4; stroke-opacity:1; fill:none\" points=\"\n",
       "  419.298,695.147 419.298,571.723 \n",
       "  \"/>\n",
       "<polyline clip-path=\"url(#clip222)\" style=\"stroke:#009af9; stroke-linecap:butt; stroke-linejoin:round; stroke-width:4; stroke-opacity:1; fill:none\" points=\"\n",
       "  529.53,331.099 529.53,164.899 \n",
       "  \"/>\n",
       "<polyline clip-path=\"url(#clip222)\" style=\"stroke:#009af9; stroke-linecap:butt; stroke-linejoin:round; stroke-width:4; stroke-opacity:1; fill:none\" points=\"\n",
       "  639.761,371.127 639.761,251.44 \n",
       "  \"/>\n",
       "<polyline clip-path=\"url(#clip222)\" style=\"stroke:#009af9; stroke-linecap:butt; stroke-linejoin:round; stroke-width:4; stroke-opacity:1; fill:none\" points=\"\n",
       "  749.992,335.859 749.992,149.542 \n",
       "  \"/>\n",
       "<polyline clip-path=\"url(#clip222)\" style=\"stroke:#009af9; stroke-linecap:butt; stroke-linejoin:round; stroke-width:4; stroke-opacity:1; fill:none\" points=\"\n",
       "  860.224,334.518 860.224,120.516 \n",
       "  \"/>\n",
       "<polyline clip-path=\"url(#clip222)\" style=\"stroke:#009af9; stroke-linecap:butt; stroke-linejoin:round; stroke-width:4; stroke-opacity:1; fill:none\" points=\"\n",
       "  970.455,112.765 970.455,93.8635 \n",
       "  \"/>\n",
       "<polyline clip-path=\"url(#clip222)\" style=\"stroke:#009af9; stroke-linecap:butt; stroke-linejoin:round; stroke-width:4; stroke-opacity:1; fill:none\" points=\"\n",
       "  1080.69,192.181 1080.69,136.276 \n",
       "  \"/>\n",
       "<polyline clip-path=\"url(#clip222)\" style=\"stroke:#009af9; stroke-linecap:butt; stroke-linejoin:round; stroke-width:4; stroke-opacity:1; fill:none\" points=\"\n",
       "  1190.92,263.149 1190.92,181.263 \n",
       "  \"/>\n",
       "<polyline clip-path=\"url(#clip222)\" style=\"stroke:#009af9; stroke-linecap:butt; stroke-linejoin:round; stroke-width:4; stroke-opacity:1; fill:none\" points=\"\n",
       "  1301.15,311.286 1301.15,86.1857 \n",
       "  \"/>\n",
       "<polyline clip-path=\"url(#clip222)\" style=\"stroke:#009af9; stroke-linecap:butt; stroke-linejoin:round; stroke-width:4; stroke-opacity:1; fill:none\" points=\"\n",
       "  1411.38,247.148 1411.38,187.389 \n",
       "  \"/>\n",
       "<polyline clip-path=\"url(#clip222)\" style=\"stroke:#009af9; stroke-linecap:butt; stroke-linejoin:round; stroke-width:4; stroke-opacity:1; fill:none\" points=\"\n",
       "  1521.61,225.053 1521.61,200.801 \n",
       "  \"/>\n",
       "<polyline clip-path=\"url(#clip222)\" style=\"stroke:#009af9; stroke-linecap:butt; stroke-linejoin:round; stroke-width:4; stroke-opacity:1; fill:none\" points=\"\n",
       "  1631.84,224.415 1631.84,197.313 \n",
       "  \"/>\n",
       "<polyline clip-path=\"url(#clip222)\" style=\"stroke:#009af9; stroke-linecap:butt; stroke-linejoin:round; stroke-width:4; stroke-opacity:1; fill:none\" points=\"\n",
       "  1742.07,280.38 1742.07,217.394 \n",
       "  \"/>\n",
       "<polyline clip-path=\"url(#clip222)\" style=\"stroke:#009af9; stroke-linecap:butt; stroke-linejoin:round; stroke-width:4; stroke-opacity:1; fill:none\" points=\"\n",
       "  1852.31,360.287 1852.31,204.155 \n",
       "  \"/>\n",
       "<polyline clip-path=\"url(#clip222)\" style=\"stroke:#009af9; stroke-linecap:butt; stroke-linejoin:round; stroke-width:4; stroke-opacity:1; fill:none\" points=\"\n",
       "  1962.54,340.066 1962.54,218.959 \n",
       "  \"/>\n",
       "<polyline clip-path=\"url(#clip222)\" style=\"stroke:#009af9; stroke-linecap:butt; stroke-linejoin:round; stroke-width:4; stroke-opacity:1; fill:none\" points=\"\n",
       "  2072.77,359.283 2072.77,254.405 \n",
       "  \"/>\n",
       "<polyline clip-path=\"url(#clip222)\" style=\"stroke:#009af9; stroke-linecap:butt; stroke-linejoin:round; stroke-width:4; stroke-opacity:1; fill:none\" points=\"\n",
       "  2183,301.582 2183,249.735 \n",
       "  \"/>\n",
       "<polyline clip-path=\"url(#clip222)\" style=\"stroke:#009af9; stroke-linecap:butt; stroke-linejoin:round; stroke-width:4; stroke-opacity:1; fill:none\" points=\"\n",
       "  2293.23,322.745 2293.23,238.247 \n",
       "  \"/>\n",
       "<line clip-path=\"url(#clip222)\" x1=\"325.067\" y1=\"1384.24\" x2=\"293.067\" y2=\"1384.24\" style=\"stroke:#009af9; stroke-width:3.2; stroke-opacity:1\"/>\n",
       "<line clip-path=\"url(#clip222)\" x1=\"325.067\" y1=\"1101.39\" x2=\"293.067\" y2=\"1101.39\" style=\"stroke:#009af9; stroke-width:3.2; stroke-opacity:1\"/>\n",
       "<line clip-path=\"url(#clip222)\" x1=\"435.298\" y1=\"695.147\" x2=\"403.298\" y2=\"695.147\" style=\"stroke:#009af9; stroke-width:3.2; stroke-opacity:1\"/>\n",
       "<line clip-path=\"url(#clip222)\" x1=\"435.298\" y1=\"571.723\" x2=\"403.298\" y2=\"571.723\" style=\"stroke:#009af9; stroke-width:3.2; stroke-opacity:1\"/>\n",
       "<line clip-path=\"url(#clip222)\" x1=\"545.53\" y1=\"331.099\" x2=\"513.53\" y2=\"331.099\" style=\"stroke:#009af9; stroke-width:3.2; stroke-opacity:1\"/>\n",
       "<line clip-path=\"url(#clip222)\" x1=\"545.53\" y1=\"164.899\" x2=\"513.53\" y2=\"164.899\" style=\"stroke:#009af9; stroke-width:3.2; stroke-opacity:1\"/>\n",
       "<line clip-path=\"url(#clip222)\" x1=\"655.761\" y1=\"371.127\" x2=\"623.761\" y2=\"371.127\" style=\"stroke:#009af9; stroke-width:3.2; stroke-opacity:1\"/>\n",
       "<line clip-path=\"url(#clip222)\" x1=\"655.761\" y1=\"251.44\" x2=\"623.761\" y2=\"251.44\" style=\"stroke:#009af9; stroke-width:3.2; stroke-opacity:1\"/>\n",
       "<line clip-path=\"url(#clip222)\" x1=\"765.992\" y1=\"335.859\" x2=\"733.992\" y2=\"335.859\" style=\"stroke:#009af9; stroke-width:3.2; stroke-opacity:1\"/>\n",
       "<line clip-path=\"url(#clip222)\" x1=\"765.992\" y1=\"149.542\" x2=\"733.992\" y2=\"149.542\" style=\"stroke:#009af9; stroke-width:3.2; stroke-opacity:1\"/>\n",
       "<line clip-path=\"url(#clip222)\" x1=\"876.224\" y1=\"334.518\" x2=\"844.224\" y2=\"334.518\" style=\"stroke:#009af9; stroke-width:3.2; stroke-opacity:1\"/>\n",
       "<line clip-path=\"url(#clip222)\" x1=\"876.224\" y1=\"120.516\" x2=\"844.224\" y2=\"120.516\" style=\"stroke:#009af9; stroke-width:3.2; stroke-opacity:1\"/>\n",
       "<line clip-path=\"url(#clip222)\" x1=\"986.455\" y1=\"112.765\" x2=\"954.455\" y2=\"112.765\" style=\"stroke:#009af9; stroke-width:3.2; stroke-opacity:1\"/>\n",
       "<line clip-path=\"url(#clip222)\" x1=\"986.455\" y1=\"93.8635\" x2=\"954.455\" y2=\"93.8635\" style=\"stroke:#009af9; stroke-width:3.2; stroke-opacity:1\"/>\n",
       "<line clip-path=\"url(#clip222)\" x1=\"1096.69\" y1=\"192.181\" x2=\"1064.69\" y2=\"192.181\" style=\"stroke:#009af9; stroke-width:3.2; stroke-opacity:1\"/>\n",
       "<line clip-path=\"url(#clip222)\" x1=\"1096.69\" y1=\"136.276\" x2=\"1064.69\" y2=\"136.276\" style=\"stroke:#009af9; stroke-width:3.2; stroke-opacity:1\"/>\n",
       "<line clip-path=\"url(#clip222)\" x1=\"1206.92\" y1=\"263.149\" x2=\"1174.92\" y2=\"263.149\" style=\"stroke:#009af9; stroke-width:3.2; stroke-opacity:1\"/>\n",
       "<line clip-path=\"url(#clip222)\" x1=\"1206.92\" y1=\"181.263\" x2=\"1174.92\" y2=\"181.263\" style=\"stroke:#009af9; stroke-width:3.2; stroke-opacity:1\"/>\n",
       "<line clip-path=\"url(#clip222)\" x1=\"1317.15\" y1=\"311.286\" x2=\"1285.15\" y2=\"311.286\" style=\"stroke:#009af9; stroke-width:3.2; stroke-opacity:1\"/>\n",
       "<line clip-path=\"url(#clip222)\" x1=\"1317.15\" y1=\"86.1857\" x2=\"1285.15\" y2=\"86.1857\" style=\"stroke:#009af9; stroke-width:3.2; stroke-opacity:1\"/>\n",
       "<line clip-path=\"url(#clip222)\" x1=\"1427.38\" y1=\"247.148\" x2=\"1395.38\" y2=\"247.148\" style=\"stroke:#009af9; stroke-width:3.2; stroke-opacity:1\"/>\n",
       "<line clip-path=\"url(#clip222)\" x1=\"1427.38\" y1=\"187.389\" x2=\"1395.38\" y2=\"187.389\" style=\"stroke:#009af9; stroke-width:3.2; stroke-opacity:1\"/>\n",
       "<line clip-path=\"url(#clip222)\" x1=\"1537.61\" y1=\"225.053\" x2=\"1505.61\" y2=\"225.053\" style=\"stroke:#009af9; stroke-width:3.2; stroke-opacity:1\"/>\n",
       "<line clip-path=\"url(#clip222)\" x1=\"1537.61\" y1=\"200.801\" x2=\"1505.61\" y2=\"200.801\" style=\"stroke:#009af9; stroke-width:3.2; stroke-opacity:1\"/>\n",
       "<line clip-path=\"url(#clip222)\" x1=\"1647.84\" y1=\"224.415\" x2=\"1615.84\" y2=\"224.415\" style=\"stroke:#009af9; stroke-width:3.2; stroke-opacity:1\"/>\n",
       "<line clip-path=\"url(#clip222)\" x1=\"1647.84\" y1=\"197.313\" x2=\"1615.84\" y2=\"197.313\" style=\"stroke:#009af9; stroke-width:3.2; stroke-opacity:1\"/>\n",
       "<line clip-path=\"url(#clip222)\" x1=\"1758.07\" y1=\"280.38\" x2=\"1726.07\" y2=\"280.38\" style=\"stroke:#009af9; stroke-width:3.2; stroke-opacity:1\"/>\n",
       "<line clip-path=\"url(#clip222)\" x1=\"1758.07\" y1=\"217.394\" x2=\"1726.07\" y2=\"217.394\" style=\"stroke:#009af9; stroke-width:3.2; stroke-opacity:1\"/>\n",
       "<line clip-path=\"url(#clip222)\" x1=\"1868.31\" y1=\"360.287\" x2=\"1836.31\" y2=\"360.287\" style=\"stroke:#009af9; stroke-width:3.2; stroke-opacity:1\"/>\n",
       "<line clip-path=\"url(#clip222)\" x1=\"1868.31\" y1=\"204.155\" x2=\"1836.31\" y2=\"204.155\" style=\"stroke:#009af9; stroke-width:3.2; stroke-opacity:1\"/>\n",
       "<line clip-path=\"url(#clip222)\" x1=\"1978.54\" y1=\"340.066\" x2=\"1946.54\" y2=\"340.066\" style=\"stroke:#009af9; stroke-width:3.2; stroke-opacity:1\"/>\n",
       "<line clip-path=\"url(#clip222)\" x1=\"1978.54\" y1=\"218.959\" x2=\"1946.54\" y2=\"218.959\" style=\"stroke:#009af9; stroke-width:3.2; stroke-opacity:1\"/>\n",
       "<line clip-path=\"url(#clip222)\" x1=\"2088.77\" y1=\"359.283\" x2=\"2056.77\" y2=\"359.283\" style=\"stroke:#009af9; stroke-width:3.2; stroke-opacity:1\"/>\n",
       "<line clip-path=\"url(#clip222)\" x1=\"2088.77\" y1=\"254.405\" x2=\"2056.77\" y2=\"254.405\" style=\"stroke:#009af9; stroke-width:3.2; stroke-opacity:1\"/>\n",
       "<line clip-path=\"url(#clip222)\" x1=\"2199\" y1=\"301.582\" x2=\"2167\" y2=\"301.582\" style=\"stroke:#009af9; stroke-width:3.2; stroke-opacity:1\"/>\n",
       "<line clip-path=\"url(#clip222)\" x1=\"2199\" y1=\"249.735\" x2=\"2167\" y2=\"249.735\" style=\"stroke:#009af9; stroke-width:3.2; stroke-opacity:1\"/>\n",
       "<line clip-path=\"url(#clip222)\" x1=\"2309.23\" y1=\"322.745\" x2=\"2277.23\" y2=\"322.745\" style=\"stroke:#009af9; stroke-width:3.2; stroke-opacity:1\"/>\n",
       "<line clip-path=\"url(#clip222)\" x1=\"2309.23\" y1=\"238.247\" x2=\"2277.23\" y2=\"238.247\" style=\"stroke:#009af9; stroke-width:3.2; stroke-opacity:1\"/>\n",
       "</svg>\n"
      ],
      "text/html": [
       "<?xml version=\"1.0\" encoding=\"utf-8\"?>\n",
       "<svg xmlns=\"http://www.w3.org/2000/svg\" xmlns:xlink=\"http://www.w3.org/1999/xlink\" width=\"600\" height=\"400\" viewBox=\"0 0 2400 1600\">\n",
       "<defs>\n",
       "  <clipPath id=\"clip270\">\n",
       "    <rect x=\"0\" y=\"0\" width=\"2400\" height=\"1600\"/>\n",
       "  </clipPath>\n",
       "</defs>\n",
       "<path clip-path=\"url(#clip270)\" d=\"\n",
       "M0 1600 L2400 1600 L2400 0 L0 0  Z\n",
       "  \" fill=\"#ffffff\" fill-rule=\"evenodd\" fill-opacity=\"1\"/>\n",
       "<defs>\n",
       "  <clipPath id=\"clip271\">\n",
       "    <rect x=\"480\" y=\"0\" width=\"1681\" height=\"1600\"/>\n",
       "  </clipPath>\n",
       "</defs>\n",
       "<defs>\n",
       "  <clipPath id=\"clip272\">\n",
       "    <rect x=\"249\" y=\"47\" width=\"2104\" height=\"1377\"/>\n",
       "  </clipPath>\n",
       "</defs>\n",
       "<path clip-path=\"url(#clip270)\" d=\"\n",
       "M249.542 1423.18 L2352.76 1423.18 L2352.76 47.2441 L249.542 47.2441  Z\n",
       "  \" fill=\"#ffffff\" fill-rule=\"evenodd\" fill-opacity=\"1\"/>\n",
       "<polyline clip-path=\"url(#clip272)\" style=\"stroke:#000000; stroke-linecap:butt; stroke-linejoin:round; stroke-width:2; stroke-opacity:0.1; fill:none\" points=\"\n",
       "  529.53,1423.18 529.53,47.2441 \n",
       "  \"/>\n",
       "<polyline clip-path=\"url(#clip272)\" style=\"stroke:#000000; stroke-linecap:butt; stroke-linejoin:round; stroke-width:2; stroke-opacity:0.1; fill:none\" points=\"\n",
       "  970.455,1423.18 970.455,47.2441 \n",
       "  \"/>\n",
       "<polyline clip-path=\"url(#clip272)\" style=\"stroke:#000000; stroke-linecap:butt; stroke-linejoin:round; stroke-width:2; stroke-opacity:0.1; fill:none\" points=\"\n",
       "  1411.38,1423.18 1411.38,47.2441 \n",
       "  \"/>\n",
       "<polyline clip-path=\"url(#clip272)\" style=\"stroke:#000000; stroke-linecap:butt; stroke-linejoin:round; stroke-width:2; stroke-opacity:0.1; fill:none\" points=\"\n",
       "  1852.31,1423.18 1852.31,47.2441 \n",
       "  \"/>\n",
       "<polyline clip-path=\"url(#clip272)\" style=\"stroke:#000000; stroke-linecap:butt; stroke-linejoin:round; stroke-width:2; stroke-opacity:0.1; fill:none\" points=\"\n",
       "  2293.23,1423.18 2293.23,47.2441 \n",
       "  \"/>\n",
       "<polyline clip-path=\"url(#clip270)\" style=\"stroke:#000000; stroke-linecap:butt; stroke-linejoin:round; stroke-width:4; stroke-opacity:1; fill:none\" points=\"\n",
       "  249.542,1423.18 2352.76,1423.18 \n",
       "  \"/>\n",
       "<polyline clip-path=\"url(#clip270)\" style=\"stroke:#000000; stroke-linecap:butt; stroke-linejoin:round; stroke-width:4; stroke-opacity:1; fill:none\" points=\"\n",
       "  529.53,1423.18 529.53,1404.28 \n",
       "  \"/>\n",
       "<polyline clip-path=\"url(#clip270)\" style=\"stroke:#000000; stroke-linecap:butt; stroke-linejoin:round; stroke-width:4; stroke-opacity:1; fill:none\" points=\"\n",
       "  970.455,1423.18 970.455,1404.28 \n",
       "  \"/>\n",
       "<polyline clip-path=\"url(#clip270)\" style=\"stroke:#000000; stroke-linecap:butt; stroke-linejoin:round; stroke-width:4; stroke-opacity:1; fill:none\" points=\"\n",
       "  1411.38,1423.18 1411.38,1404.28 \n",
       "  \"/>\n",
       "<polyline clip-path=\"url(#clip270)\" style=\"stroke:#000000; stroke-linecap:butt; stroke-linejoin:round; stroke-width:4; stroke-opacity:1; fill:none\" points=\"\n",
       "  1852.31,1423.18 1852.31,1404.28 \n",
       "  \"/>\n",
       "<polyline clip-path=\"url(#clip270)\" style=\"stroke:#000000; stroke-linecap:butt; stroke-linejoin:round; stroke-width:4; stroke-opacity:1; fill:none\" points=\"\n",
       "  2293.23,1423.18 2293.23,1404.28 \n",
       "  \"/>\n",
       "<path clip-path=\"url(#clip270)\" d=\"M508.303 1481.64 L524.622 1481.64 L524.622 1485.58 L502.678 1485.58 L502.678 1481.64 Q505.34 1478.89 509.923 1474.26 Q514.53 1469.61 515.71 1468.27 Q517.956 1465.74 518.835 1464.01 Q519.738 1462.25 519.738 1460.56 Q519.738 1457.8 517.794 1456.07 Q515.872 1454.33 512.77 1454.33 Q510.571 1454.33 508.118 1455.09 Q505.687 1455.86 502.909 1457.41 L502.909 1452.69 Q505.733 1451.55 508.187 1450.97 Q510.641 1450.39 512.678 1450.39 Q518.048 1450.39 521.243 1453.08 Q524.437 1455.77 524.437 1460.26 Q524.437 1462.39 523.627 1464.31 Q522.84 1466.2 520.733 1468.8 Q520.155 1469.47 517.053 1472.69 Q513.951 1475.88 508.303 1481.64 Z\" fill=\"#000000\" fill-rule=\"evenodd\" fill-opacity=\"1\" /><path clip-path=\"url(#clip270)\" d=\"M544.437 1454.1 Q540.826 1454.1 538.997 1457.66 Q537.192 1461.2 537.192 1468.33 Q537.192 1475.44 538.997 1479.01 Q540.826 1482.55 544.437 1482.55 Q548.071 1482.55 549.877 1479.01 Q551.705 1475.44 551.705 1468.33 Q551.705 1461.2 549.877 1457.66 Q548.071 1454.1 544.437 1454.1 M544.437 1450.39 Q550.247 1450.39 553.303 1455 Q556.381 1459.58 556.381 1468.33 Q556.381 1477.06 553.303 1481.67 Q550.247 1486.25 544.437 1486.25 Q538.627 1486.25 535.548 1481.67 Q532.493 1477.06 532.493 1468.33 Q532.493 1459.58 535.548 1455 Q538.627 1450.39 544.437 1450.39 Z\" fill=\"#000000\" fill-rule=\"evenodd\" fill-opacity=\"1\" /><path clip-path=\"url(#clip270)\" d=\"M958.626 1455.09 L946.821 1473.54 L958.626 1473.54 L958.626 1455.09 M957.399 1451.02 L963.279 1451.02 L963.279 1473.54 L968.21 1473.54 L968.21 1477.43 L963.279 1477.43 L963.279 1485.58 L958.626 1485.58 L958.626 1477.43 L943.025 1477.43 L943.025 1472.92 L957.399 1451.02 Z\" fill=\"#000000\" fill-rule=\"evenodd\" fill-opacity=\"1\" /><path clip-path=\"url(#clip270)\" d=\"M985.941 1454.1 Q982.33 1454.1 980.501 1457.66 Q978.696 1461.2 978.696 1468.33 Q978.696 1475.44 980.501 1479.01 Q982.33 1482.55 985.941 1482.55 Q989.575 1482.55 991.381 1479.01 Q993.209 1475.44 993.209 1468.33 Q993.209 1461.2 991.381 1457.66 Q989.575 1454.1 985.941 1454.1 M985.941 1450.39 Q991.751 1450.39 994.807 1455 Q997.885 1459.58 997.885 1468.33 Q997.885 1477.06 994.807 1481.67 Q991.751 1486.25 985.941 1486.25 Q980.131 1486.25 977.052 1481.67 Q973.997 1477.06 973.997 1468.33 Q973.997 1459.58 977.052 1455 Q980.131 1450.39 985.941 1450.39 Z\" fill=\"#000000\" fill-rule=\"evenodd\" fill-opacity=\"1\" /><path clip-path=\"url(#clip270)\" d=\"M1396.79 1466.44 Q1393.64 1466.44 1391.79 1468.59 Q1389.96 1470.74 1389.96 1474.49 Q1389.96 1478.22 1391.79 1480.39 Q1393.64 1482.55 1396.79 1482.55 Q1399.93 1482.55 1401.76 1480.39 Q1403.61 1478.22 1403.61 1474.49 Q1403.61 1470.74 1401.76 1468.59 Q1399.93 1466.44 1396.79 1466.44 M1406.07 1451.78 L1406.07 1456.04 Q1404.31 1455.21 1402.5 1454.77 Q1400.72 1454.33 1398.96 1454.33 Q1394.33 1454.33 1391.88 1457.45 Q1389.45 1460.58 1389.1 1466.9 Q1390.47 1464.89 1392.53 1463.82 Q1394.59 1462.73 1397.06 1462.73 Q1402.27 1462.73 1405.28 1465.9 Q1408.31 1469.05 1408.31 1474.49 Q1408.31 1479.82 1405.17 1483.03 Q1402.02 1486.25 1396.79 1486.25 Q1390.79 1486.25 1387.62 1481.67 Q1384.45 1477.06 1384.45 1468.33 Q1384.45 1460.14 1388.34 1455.28 Q1392.23 1450.39 1398.78 1450.39 Q1400.54 1450.39 1402.32 1450.74 Q1404.12 1451.09 1406.07 1451.78 Z\" fill=\"#000000\" fill-rule=\"evenodd\" fill-opacity=\"1\" /><path clip-path=\"url(#clip270)\" d=\"M1426.37 1454.1 Q1422.76 1454.1 1420.93 1457.66 Q1419.12 1461.2 1419.12 1468.33 Q1419.12 1475.44 1420.93 1479.01 Q1422.76 1482.55 1426.37 1482.55 Q1430 1482.55 1431.81 1479.01 Q1433.64 1475.44 1433.64 1468.33 Q1433.64 1461.2 1431.81 1457.66 Q1430 1454.1 1426.37 1454.1 M1426.37 1450.39 Q1432.18 1450.39 1435.23 1455 Q1438.31 1459.58 1438.31 1468.33 Q1438.31 1477.06 1435.23 1481.67 Q1432.18 1486.25 1426.37 1486.25 Q1420.56 1486.25 1417.48 1481.67 Q1414.42 1477.06 1414.42 1468.33 Q1414.42 1459.58 1417.48 1455 Q1420.56 1450.39 1426.37 1450.39 Z\" fill=\"#000000\" fill-rule=\"evenodd\" fill-opacity=\"1\" /><path clip-path=\"url(#clip270)\" d=\"M1837.18 1469.17 Q1833.85 1469.17 1831.92 1470.95 Q1830.03 1472.73 1830.03 1475.86 Q1830.03 1478.98 1831.92 1480.77 Q1833.85 1482.55 1837.18 1482.55 Q1840.51 1482.55 1842.43 1480.77 Q1844.35 1478.96 1844.35 1475.86 Q1844.35 1472.73 1842.43 1470.95 Q1840.53 1469.17 1837.18 1469.17 M1832.5 1467.18 Q1829.49 1466.44 1827.8 1464.38 Q1826.14 1462.32 1826.14 1459.35 Q1826.14 1455.21 1829.08 1452.8 Q1832.04 1450.39 1837.18 1450.39 Q1842.34 1450.39 1845.28 1452.8 Q1848.22 1455.21 1848.22 1459.35 Q1848.22 1462.32 1846.53 1464.38 Q1844.86 1466.44 1841.88 1467.18 Q1845.26 1467.96 1847.13 1470.26 Q1849.03 1472.55 1849.03 1475.86 Q1849.03 1480.88 1845.95 1483.57 Q1842.9 1486.25 1837.18 1486.25 Q1831.46 1486.25 1828.38 1483.57 Q1825.33 1480.88 1825.33 1475.86 Q1825.33 1472.55 1827.22 1470.26 Q1829.12 1467.96 1832.5 1467.18 M1830.79 1459.79 Q1830.79 1462.48 1832.46 1463.98 Q1834.15 1465.49 1837.18 1465.49 Q1840.19 1465.49 1841.88 1463.98 Q1843.59 1462.48 1843.59 1459.79 Q1843.59 1457.11 1841.88 1455.6 Q1840.19 1454.1 1837.18 1454.1 Q1834.15 1454.1 1832.46 1455.6 Q1830.79 1457.11 1830.79 1459.79 Z\" fill=\"#000000\" fill-rule=\"evenodd\" fill-opacity=\"1\" /><path clip-path=\"url(#clip270)\" d=\"M1867.34 1454.1 Q1863.73 1454.1 1861.9 1457.66 Q1860.09 1461.2 1860.09 1468.33 Q1860.09 1475.44 1861.9 1479.01 Q1863.73 1482.55 1867.34 1482.55 Q1870.97 1482.55 1872.78 1479.01 Q1874.61 1475.44 1874.61 1468.33 Q1874.61 1461.2 1872.78 1457.66 Q1870.97 1454.1 1867.34 1454.1 M1867.34 1450.39 Q1873.15 1450.39 1876.21 1455 Q1879.28 1459.58 1879.28 1468.33 Q1879.28 1477.06 1876.21 1481.67 Q1873.15 1486.25 1867.34 1486.25 Q1861.53 1486.25 1858.45 1481.67 Q1855.4 1477.06 1855.4 1468.33 Q1855.4 1459.58 1858.45 1455 Q1861.53 1450.39 1867.34 1450.39 Z\" fill=\"#000000\" fill-rule=\"evenodd\" fill-opacity=\"1\" /><path clip-path=\"url(#clip270)\" d=\"M2252.84 1481.64 L2260.48 1481.64 L2260.48 1455.28 L2252.17 1456.95 L2252.17 1452.69 L2260.43 1451.02 L2265.11 1451.02 L2265.11 1481.64 L2272.74 1481.64 L2272.74 1485.58 L2252.84 1485.58 L2252.84 1481.64 Z\" fill=\"#000000\" fill-rule=\"evenodd\" fill-opacity=\"1\" /><path clip-path=\"url(#clip270)\" d=\"M2292.19 1454.1 Q2288.58 1454.1 2286.75 1457.66 Q2284.94 1461.2 2284.94 1468.33 Q2284.94 1475.44 2286.75 1479.01 Q2288.58 1482.55 2292.19 1482.55 Q2295.82 1482.55 2297.63 1479.01 Q2299.46 1475.44 2299.46 1468.33 Q2299.46 1461.2 2297.63 1457.66 Q2295.82 1454.1 2292.19 1454.1 M2292.19 1450.39 Q2298 1450.39 2301.06 1455 Q2304.13 1459.58 2304.13 1468.33 Q2304.13 1477.06 2301.06 1481.67 Q2298 1486.25 2292.19 1486.25 Q2286.38 1486.25 2283.3 1481.67 Q2280.24 1477.06 2280.24 1468.33 Q2280.24 1459.58 2283.3 1455 Q2286.38 1450.39 2292.19 1450.39 Z\" fill=\"#000000\" fill-rule=\"evenodd\" fill-opacity=\"1\" /><path clip-path=\"url(#clip270)\" d=\"M2322.35 1454.1 Q2318.74 1454.1 2316.91 1457.66 Q2315.11 1461.2 2315.11 1468.33 Q2315.11 1475.44 2316.91 1479.01 Q2318.74 1482.55 2322.35 1482.55 Q2325.99 1482.55 2327.79 1479.01 Q2329.62 1475.44 2329.62 1468.33 Q2329.62 1461.2 2327.79 1457.66 Q2325.99 1454.1 2322.35 1454.1 M2322.35 1450.39 Q2328.16 1450.39 2331.22 1455 Q2334.3 1459.58 2334.3 1468.33 Q2334.3 1477.06 2331.22 1481.67 Q2328.16 1486.25 2322.35 1486.25 Q2316.54 1486.25 2313.46 1481.67 Q2310.41 1477.06 2310.41 1468.33 Q2310.41 1459.58 2313.46 1455 Q2316.54 1450.39 2322.35 1450.39 Z\" fill=\"#000000\" fill-rule=\"evenodd\" fill-opacity=\"1\" /><path clip-path=\"url(#clip270)\" d=\"M1300.34 1523.76 L1290.84 1561.9 Q1290.46 1563.6 1290.46 1565.05 Q1290.46 1568.08 1292.42 1568.08 Q1293.39 1568.08 1294.16 1567.47 Q1294.93 1566.85 1295.54 1565.57 Q1296.16 1564.28 1296.54 1563.09 Q1296.93 1561.86 1297.44 1559.93 Q1297.61 1559.16 1297.73 1558.96 Q1297.9 1558.74 1298.35 1558.74 Q1299.15 1558.74 1299.15 1559.38 Q1298.28 1563.54 1297.15 1565.92 Q1295.35 1569.56 1292.29 1569.56 Q1289.97 1569.56 1288.33 1568.14 Q1286.69 1566.73 1286.3 1564.6 Q1282.08 1569.56 1277.7 1569.56 Q1273.84 1569.56 1271.39 1566.63 Q1268.94 1563.67 1268.94 1559 Q1268.94 1554.29 1271.26 1549.79 Q1273.61 1545.28 1277.32 1542.47 Q1281.02 1539.67 1284.82 1539.67 Q1288.85 1539.67 1290.91 1543.89 L1294.87 1528.24 L1295.06 1526.95 Q1295.06 1526.57 1294.9 1526.37 Q1294.77 1526.15 1294 1525.99 Q1293.26 1525.82 1291.78 1525.82 Q1291.16 1525.82 1290.87 1525.79 Q1290.62 1525.76 1290.39 1525.6 Q1290.17 1525.41 1290.17 1525.02 Q1290.17 1523.89 1291.1 1523.76 Q1297.28 1523.05 1299.47 1523.05 Q1299.86 1523.05 1300.09 1523.25 Q1300.31 1523.41 1300.31 1523.6 L1300.34 1523.76 M1290.1 1546.92 Q1290.1 1546.63 1289.88 1545.82 Q1289.65 1545.02 1289.14 1543.89 Q1288.62 1542.76 1287.49 1541.96 Q1286.4 1541.12 1284.92 1541.12 Q1282.92 1541.12 1280.83 1542.83 Q1278.77 1544.54 1277.25 1547.43 Q1276.09 1549.75 1274.84 1554.62 Q1273.61 1559.48 1273.61 1561.9 Q1273.61 1563.38 1273.93 1564.7 Q1274.29 1565.99 1275.29 1567.05 Q1276.29 1568.08 1277.83 1568.08 Q1281.6 1568.08 1285.3 1563.41 Q1286.01 1562.6 1286.17 1562.28 Q1286.37 1561.93 1286.62 1560.96 L1289.91 1548.05 Q1290.1 1547.08 1290.1 1546.92 Z\" fill=\"#000000\" fill-rule=\"evenodd\" fill-opacity=\"1\" /><path clip-path=\"url(#clip270)\" d=\"M1307.08 1573.06 Q1307.08 1566.28 1308.79 1562.58 Q1311.18 1557.08 1316.82 1557.08 Q1318.01 1557.08 1319.25 1557.42 Q1320.51 1557.73 1322.09 1558.97 Q1323.69 1560.21 1324.66 1562.24 Q1326.51 1566.17 1326.51 1573.06 Q1326.51 1579.8 1324.8 1583.48 Q1322.29 1588.84 1316.77 1588.84 Q1314.7 1588.84 1312.58 1587.79 Q1310.48 1586.73 1309.15 1584.18 Q1307.08 1580.37 1307.08 1573.06 M1310.91 1572.5 Q1310.91 1579.47 1311.4 1582.24 Q1311.97 1585.24 1313.5 1586.55 Q1315.06 1587.83 1316.77 1587.83 Q1318.62 1587.83 1320.15 1586.46 Q1321.71 1585.06 1322.18 1582.06 Q1322.7 1579.11 1322.68 1572.5 Q1322.68 1566.08 1322.23 1563.51 Q1321.62 1560.51 1319.99 1559.31 Q1318.39 1558.09 1316.77 1558.09 Q1316.16 1558.09 1315.51 1558.27 Q1314.88 1558.46 1313.95 1558.97 Q1313.03 1559.49 1312.31 1560.78 Q1311.61 1562.06 1311.27 1564 Q1310.91 1566.5 1310.91 1572.5 Z\" fill=\"#000000\" fill-rule=\"evenodd\" fill-opacity=\"1\" /><polyline clip-path=\"url(#clip272)\" style=\"stroke:#000000; stroke-linecap:butt; stroke-linejoin:round; stroke-width:2; stroke-opacity:0.1; fill:none\" points=\"\n",
       "  249.542,1416.37 2352.76,1416.37 \n",
       "  \"/>\n",
       "<polyline clip-path=\"url(#clip272)\" style=\"stroke:#000000; stroke-linecap:butt; stroke-linejoin:round; stroke-width:2; stroke-opacity:0.1; fill:none\" points=\"\n",
       "  249.542,1137.62 2352.76,1137.62 \n",
       "  \"/>\n",
       "<polyline clip-path=\"url(#clip272)\" style=\"stroke:#000000; stroke-linecap:butt; stroke-linejoin:round; stroke-width:2; stroke-opacity:0.1; fill:none\" points=\"\n",
       "  249.542,858.873 2352.76,858.873 \n",
       "  \"/>\n",
       "<polyline clip-path=\"url(#clip272)\" style=\"stroke:#000000; stroke-linecap:butt; stroke-linejoin:round; stroke-width:2; stroke-opacity:0.1; fill:none\" points=\"\n",
       "  249.542,580.122 2352.76,580.122 \n",
       "  \"/>\n",
       "<polyline clip-path=\"url(#clip272)\" style=\"stroke:#000000; stroke-linecap:butt; stroke-linejoin:round; stroke-width:2; stroke-opacity:0.1; fill:none\" points=\"\n",
       "  249.542,301.372 2352.76,301.372 \n",
       "  \"/>\n",
       "<polyline clip-path=\"url(#clip270)\" style=\"stroke:#000000; stroke-linecap:butt; stroke-linejoin:round; stroke-width:4; stroke-opacity:1; fill:none\" points=\"\n",
       "  249.542,1423.18 249.542,47.2441 \n",
       "  \"/>\n",
       "<polyline clip-path=\"url(#clip270)\" style=\"stroke:#000000; stroke-linecap:butt; stroke-linejoin:round; stroke-width:4; stroke-opacity:1; fill:none\" points=\"\n",
       "  249.542,1416.37 268.44,1416.37 \n",
       "  \"/>\n",
       "<polyline clip-path=\"url(#clip270)\" style=\"stroke:#000000; stroke-linecap:butt; stroke-linejoin:round; stroke-width:4; stroke-opacity:1; fill:none\" points=\"\n",
       "  249.542,1137.62 268.44,1137.62 \n",
       "  \"/>\n",
       "<polyline clip-path=\"url(#clip270)\" style=\"stroke:#000000; stroke-linecap:butt; stroke-linejoin:round; stroke-width:4; stroke-opacity:1; fill:none\" points=\"\n",
       "  249.542,858.873 268.44,858.873 \n",
       "  \"/>\n",
       "<polyline clip-path=\"url(#clip270)\" style=\"stroke:#000000; stroke-linecap:butt; stroke-linejoin:round; stroke-width:4; stroke-opacity:1; fill:none\" points=\"\n",
       "  249.542,580.122 268.44,580.122 \n",
       "  \"/>\n",
       "<polyline clip-path=\"url(#clip270)\" style=\"stroke:#000000; stroke-linecap:butt; stroke-linejoin:round; stroke-width:4; stroke-opacity:1; fill:none\" points=\"\n",
       "  249.542,301.372 268.44,301.372 \n",
       "  \"/>\n",
       "<path clip-path=\"url(#clip270)\" d=\"M126.205 1402.17 Q122.593 1402.17 120.765 1405.74 Q118.959 1409.28 118.959 1416.41 Q118.959 1423.51 120.765 1427.08 Q122.593 1430.62 126.205 1430.62 Q129.839 1430.62 131.644 1427.08 Q133.473 1423.51 133.473 1416.41 Q133.473 1409.28 131.644 1405.74 Q129.839 1402.17 126.205 1402.17 M126.205 1398.47 Q132.015 1398.47 135.07 1403.07 Q138.149 1407.66 138.149 1416.41 Q138.149 1425.14 135.07 1429.74 Q132.015 1434.32 126.205 1434.32 Q120.394 1434.32 117.316 1429.74 Q114.26 1425.14 114.26 1416.41 Q114.26 1407.66 117.316 1403.07 Q120.394 1398.47 126.205 1398.47 Z\" fill=\"#000000\" fill-rule=\"evenodd\" fill-opacity=\"1\" /><path clip-path=\"url(#clip270)\" d=\"M146.366 1427.77 L151.251 1427.77 L151.251 1433.65 L146.366 1433.65 L146.366 1427.77 Z\" fill=\"#000000\" fill-rule=\"evenodd\" fill-opacity=\"1\" /><path clip-path=\"url(#clip270)\" d=\"M160.255 1399.09 L182.477 1399.09 L182.477 1401.08 L169.931 1433.65 L165.047 1433.65 L176.852 1403.03 L160.255 1403.03 L160.255 1399.09 Z\" fill=\"#000000\" fill-rule=\"evenodd\" fill-opacity=\"1\" /><path clip-path=\"url(#clip270)\" d=\"M201.598 1402.17 Q197.987 1402.17 196.158 1405.74 Q194.352 1409.28 194.352 1416.41 Q194.352 1423.51 196.158 1427.08 Q197.987 1430.62 201.598 1430.62 Q205.232 1430.62 207.037 1427.08 Q208.866 1423.51 208.866 1416.41 Q208.866 1409.28 207.037 1405.74 Q205.232 1402.17 201.598 1402.17 M201.598 1398.47 Q207.408 1398.47 210.463 1403.07 Q213.542 1407.66 213.542 1416.41 Q213.542 1425.14 210.463 1429.74 Q207.408 1434.32 201.598 1434.32 Q195.787 1434.32 192.709 1429.74 Q189.653 1425.14 189.653 1416.41 Q189.653 1407.66 192.709 1403.07 Q195.787 1398.47 201.598 1398.47 Z\" fill=\"#000000\" fill-rule=\"evenodd\" fill-opacity=\"1\" /><path clip-path=\"url(#clip270)\" d=\"M127.2 1123.42 Q123.589 1123.42 121.76 1126.99 Q119.955 1130.53 119.955 1137.66 Q119.955 1144.76 121.76 1148.33 Q123.589 1151.87 127.2 1151.87 Q130.834 1151.87 132.64 1148.33 Q134.468 1144.76 134.468 1137.66 Q134.468 1130.53 132.64 1126.99 Q130.834 1123.42 127.2 1123.42 M127.2 1119.72 Q133.01 1119.72 136.066 1124.32 Q139.144 1128.91 139.144 1137.66 Q139.144 1146.38 136.066 1150.99 Q133.01 1155.57 127.2 1155.57 Q121.39 1155.57 118.311 1150.99 Q115.256 1146.38 115.256 1137.66 Q115.256 1128.91 118.311 1124.32 Q121.39 1119.72 127.2 1119.72 Z\" fill=\"#000000\" fill-rule=\"evenodd\" fill-opacity=\"1\" /><path clip-path=\"url(#clip270)\" d=\"M147.362 1149.02 L152.246 1149.02 L152.246 1154.9 L147.362 1154.9 L147.362 1149.02 Z\" fill=\"#000000\" fill-rule=\"evenodd\" fill-opacity=\"1\" /><path clip-path=\"url(#clip270)\" d=\"M161.251 1120.34 L183.473 1120.34 L183.473 1122.33 L170.927 1154.9 L166.042 1154.9 L177.848 1124.28 L161.251 1124.28 L161.251 1120.34 Z\" fill=\"#000000\" fill-rule=\"evenodd\" fill-opacity=\"1\" /><path clip-path=\"url(#clip270)\" d=\"M192.639 1120.34 L210.996 1120.34 L210.996 1124.28 L196.922 1124.28 L196.922 1132.75 Q197.94 1132.4 198.959 1132.24 Q199.977 1132.06 200.996 1132.06 Q206.783 1132.06 210.162 1135.23 Q213.542 1138.4 213.542 1143.82 Q213.542 1149.39 210.07 1152.5 Q206.598 1155.57 200.278 1155.57 Q198.102 1155.57 195.834 1155.2 Q193.588 1154.83 191.181 1154.09 L191.181 1149.39 Q193.264 1150.53 195.487 1151.08 Q197.709 1151.64 200.186 1151.64 Q204.19 1151.64 206.528 1149.53 Q208.866 1147.43 208.866 1143.82 Q208.866 1140.2 206.528 1138.1 Q204.19 1135.99 200.186 1135.99 Q198.311 1135.99 196.436 1136.41 Q194.584 1136.82 192.639 1137.7 L192.639 1120.34 Z\" fill=\"#000000\" fill-rule=\"evenodd\" fill-opacity=\"1\" /><path clip-path=\"url(#clip270)\" d=\"M126.205 844.671 Q122.593 844.671 120.765 848.236 Q118.959 851.778 118.959 858.907 Q118.959 866.014 120.765 869.579 Q122.593 873.12 126.205 873.12 Q129.839 873.12 131.644 869.579 Q133.473 866.014 133.473 858.907 Q133.473 851.778 131.644 848.236 Q129.839 844.671 126.205 844.671 M126.205 840.968 Q132.015 840.968 135.07 845.574 Q138.149 850.157 138.149 858.907 Q138.149 867.634 135.07 872.241 Q132.015 876.824 126.205 876.824 Q120.394 876.824 117.316 872.241 Q114.26 867.634 114.26 858.907 Q114.26 850.157 117.316 845.574 Q120.394 840.968 126.205 840.968 Z\" fill=\"#000000\" fill-rule=\"evenodd\" fill-opacity=\"1\" /><path clip-path=\"url(#clip270)\" d=\"M146.366 870.273 L151.251 870.273 L151.251 876.153 L146.366 876.153 L146.366 870.273 Z\" fill=\"#000000\" fill-rule=\"evenodd\" fill-opacity=\"1\" /><path clip-path=\"url(#clip270)\" d=\"M171.436 859.741 Q168.102 859.741 166.181 861.523 Q164.283 863.305 164.283 866.43 Q164.283 869.555 166.181 871.338 Q168.102 873.12 171.436 873.12 Q174.769 873.12 176.69 871.338 Q178.612 869.532 178.612 866.43 Q178.612 863.305 176.69 861.523 Q174.792 859.741 171.436 859.741 M166.76 857.75 Q163.751 857.009 162.061 854.949 Q160.394 852.889 160.394 849.926 Q160.394 845.782 163.334 843.375 Q166.297 840.968 171.436 840.968 Q176.598 840.968 179.538 843.375 Q182.477 845.782 182.477 849.926 Q182.477 852.889 180.788 854.949 Q179.121 857.009 176.135 857.75 Q179.514 858.537 181.389 860.829 Q183.288 863.12 183.288 866.43 Q183.288 871.454 180.209 874.139 Q177.153 876.824 171.436 876.824 Q165.718 876.824 162.64 874.139 Q159.584 871.454 159.584 866.43 Q159.584 863.12 161.482 860.829 Q163.38 858.537 166.76 857.75 M165.047 850.366 Q165.047 853.051 166.714 854.556 Q168.403 856.06 171.436 856.06 Q174.445 856.06 176.135 854.556 Q177.848 853.051 177.848 850.366 Q177.848 847.681 176.135 846.176 Q174.445 844.671 171.436 844.671 Q168.403 844.671 166.714 846.176 Q165.047 847.681 165.047 850.366 Z\" fill=\"#000000\" fill-rule=\"evenodd\" fill-opacity=\"1\" /><path clip-path=\"url(#clip270)\" d=\"M201.598 844.671 Q197.987 844.671 196.158 848.236 Q194.352 851.778 194.352 858.907 Q194.352 866.014 196.158 869.579 Q197.987 873.12 201.598 873.12 Q205.232 873.12 207.037 869.579 Q208.866 866.014 208.866 858.907 Q208.866 851.778 207.037 848.236 Q205.232 844.671 201.598 844.671 M201.598 840.968 Q207.408 840.968 210.463 845.574 Q213.542 850.157 213.542 858.907 Q213.542 867.634 210.463 872.241 Q207.408 876.824 201.598 876.824 Q195.787 876.824 192.709 872.241 Q189.653 867.634 189.653 858.907 Q189.653 850.157 192.709 845.574 Q195.787 840.968 201.598 840.968 Z\" fill=\"#000000\" fill-rule=\"evenodd\" fill-opacity=\"1\" /><path clip-path=\"url(#clip270)\" d=\"M127.2 565.921 Q123.589 565.921 121.76 569.486 Q119.955 573.027 119.955 580.157 Q119.955 587.263 121.76 590.828 Q123.589 594.37 127.2 594.37 Q130.834 594.37 132.64 590.828 Q134.468 587.263 134.468 580.157 Q134.468 573.027 132.64 569.486 Q130.834 565.921 127.2 565.921 M127.2 562.217 Q133.01 562.217 136.066 566.824 Q139.144 571.407 139.144 580.157 Q139.144 588.884 136.066 593.49 Q133.01 598.073 127.2 598.073 Q121.39 598.073 118.311 593.49 Q115.256 588.884 115.256 580.157 Q115.256 571.407 118.311 566.824 Q121.39 562.217 127.2 562.217 Z\" fill=\"#000000\" fill-rule=\"evenodd\" fill-opacity=\"1\" /><path clip-path=\"url(#clip270)\" d=\"M147.362 591.523 L152.246 591.523 L152.246 597.402 L147.362 597.402 L147.362 591.523 Z\" fill=\"#000000\" fill-rule=\"evenodd\" fill-opacity=\"1\" /><path clip-path=\"url(#clip270)\" d=\"M172.431 580.99 Q169.098 580.99 167.177 582.773 Q165.278 584.555 165.278 587.68 Q165.278 590.805 167.177 592.587 Q169.098 594.37 172.431 594.37 Q175.764 594.37 177.686 592.587 Q179.607 590.782 179.607 587.68 Q179.607 584.555 177.686 582.773 Q175.788 580.99 172.431 580.99 M167.755 579 Q164.746 578.259 163.056 576.199 Q161.39 574.138 161.39 571.175 Q161.39 567.032 164.329 564.625 Q167.292 562.217 172.431 562.217 Q177.593 562.217 180.533 564.625 Q183.473 567.032 183.473 571.175 Q183.473 574.138 181.783 576.199 Q180.116 578.259 177.13 579 Q180.51 579.787 182.385 582.078 Q184.283 584.37 184.283 587.68 Q184.283 592.703 181.204 595.388 Q178.149 598.073 172.431 598.073 Q166.714 598.073 163.635 595.388 Q160.579 592.703 160.579 587.68 Q160.579 584.37 162.477 582.078 Q164.376 579.787 167.755 579 M166.042 571.615 Q166.042 574.3 167.709 575.805 Q169.399 577.31 172.431 577.31 Q175.44 577.31 177.13 575.805 Q178.843 574.3 178.843 571.615 Q178.843 568.93 177.13 567.425 Q175.44 565.921 172.431 565.921 Q169.399 565.921 167.709 567.425 Q166.042 568.93 166.042 571.615 Z\" fill=\"#000000\" fill-rule=\"evenodd\" fill-opacity=\"1\" /><path clip-path=\"url(#clip270)\" d=\"M192.639 562.842 L210.996 562.842 L210.996 566.777 L196.922 566.777 L196.922 575.25 Q197.94 574.902 198.959 574.74 Q199.977 574.555 200.996 574.555 Q206.783 574.555 210.162 577.726 Q213.542 580.898 213.542 586.314 Q213.542 591.893 210.07 594.995 Q206.598 598.073 200.278 598.073 Q198.102 598.073 195.834 597.703 Q193.588 597.333 191.181 596.592 L191.181 591.893 Q193.264 593.027 195.487 593.583 Q197.709 594.138 200.186 594.138 Q204.19 594.138 206.528 592.032 Q208.866 589.925 208.866 586.314 Q208.866 582.703 206.528 580.597 Q204.19 578.49 200.186 578.49 Q198.311 578.49 196.436 578.907 Q194.584 579.324 192.639 580.203 L192.639 562.842 Z\" fill=\"#000000\" fill-rule=\"evenodd\" fill-opacity=\"1\" /><path clip-path=\"url(#clip270)\" d=\"M126.205 287.17 Q122.593 287.17 120.765 290.735 Q118.959 294.277 118.959 301.406 Q118.959 308.513 120.765 312.078 Q122.593 315.619 126.205 315.619 Q129.839 315.619 131.644 312.078 Q133.473 308.513 133.473 301.406 Q133.473 294.277 131.644 290.735 Q129.839 287.17 126.205 287.17 M126.205 283.467 Q132.015 283.467 135.07 288.073 Q138.149 292.657 138.149 301.406 Q138.149 310.133 135.07 314.74 Q132.015 319.323 126.205 319.323 Q120.394 319.323 117.316 314.74 Q114.26 310.133 114.26 301.406 Q114.26 292.657 117.316 288.073 Q120.394 283.467 126.205 283.467 Z\" fill=\"#000000\" fill-rule=\"evenodd\" fill-opacity=\"1\" /><path clip-path=\"url(#clip270)\" d=\"M146.366 312.772 L151.251 312.772 L151.251 318.652 L146.366 318.652 L146.366 312.772 Z\" fill=\"#000000\" fill-rule=\"evenodd\" fill-opacity=\"1\" /><path clip-path=\"url(#clip270)\" d=\"M161.575 317.934 L161.575 313.675 Q163.334 314.508 165.14 314.948 Q166.945 315.388 168.681 315.388 Q173.311 315.388 175.741 312.286 Q178.195 309.161 178.542 302.818 Q177.2 304.809 175.139 305.874 Q173.079 306.939 170.579 306.939 Q165.394 306.939 162.362 303.814 Q159.353 300.666 159.353 295.226 Q159.353 289.902 162.501 286.684 Q165.649 283.467 170.88 283.467 Q176.876 283.467 180.024 288.073 Q183.195 292.657 183.195 301.406 Q183.195 309.578 179.306 314.462 Q175.44 319.323 168.889 319.323 Q167.13 319.323 165.325 318.976 Q163.519 318.629 161.575 317.934 M170.88 303.281 Q174.028 303.281 175.857 301.129 Q177.709 298.976 177.709 295.226 Q177.709 291.499 175.857 289.346 Q174.028 287.17 170.88 287.17 Q167.732 287.17 165.88 289.346 Q164.052 291.499 164.052 295.226 Q164.052 298.976 165.88 301.129 Q167.732 303.281 170.88 303.281 Z\" fill=\"#000000\" fill-rule=\"evenodd\" fill-opacity=\"1\" /><path clip-path=\"url(#clip270)\" d=\"M201.598 287.17 Q197.987 287.17 196.158 290.735 Q194.352 294.277 194.352 301.406 Q194.352 308.513 196.158 312.078 Q197.987 315.619 201.598 315.619 Q205.232 315.619 207.037 312.078 Q208.866 308.513 208.866 301.406 Q208.866 294.277 207.037 290.735 Q205.232 287.17 201.598 287.17 M201.598 283.467 Q207.408 283.467 210.463 288.073 Q213.542 292.657 213.542 301.406 Q213.542 310.133 210.463 314.74 Q207.408 319.323 201.598 319.323 Q195.787 319.323 192.709 314.74 Q189.653 310.133 189.653 301.406 Q189.653 292.657 192.709 288.073 Q195.787 283.467 201.598 283.467 Z\" fill=\"#000000\" fill-rule=\"evenodd\" fill-opacity=\"1\" /><path clip-path=\"url(#clip270)\" d=\"M16.4842 1237.77 L16.4842 1229.11 L56.238 1208.04 L16.4842 1208.04 L16.4842 1201.8 L64.0042 1201.8 L64.0042 1210.46 L24.2503 1231.53 L64.0042 1231.53 L64.0042 1237.77 L16.4842 1237.77 Z\" fill=\"#000000\" fill-rule=\"evenodd\" fill-opacity=\"1\" /><path clip-path=\"url(#clip270)\" d=\"M32.4621 1175.45 Q32.4621 1180.16 36.1542 1182.9 Q39.8145 1185.63 46.212 1185.63 Q52.6095 1185.63 56.3017 1182.93 Q59.9619 1180.19 59.9619 1175.45 Q59.9619 1170.77 56.2698 1168.03 Q52.5777 1165.3 46.212 1165.3 Q39.8781 1165.3 36.186 1168.03 Q32.4621 1170.77 32.4621 1175.45 M27.4968 1175.45 Q27.4968 1167.81 32.4621 1163.45 Q37.4273 1159.09 46.212 1159.09 Q54.9649 1159.09 59.9619 1163.45 Q64.9272 1167.81 64.9272 1175.45 Q64.9272 1183.12 59.9619 1187.48 Q54.9649 1191.81 46.212 1191.81 Q37.4273 1191.81 32.4621 1187.48 Q27.4968 1183.12 27.4968 1175.45 Z\" fill=\"#000000\" fill-rule=\"evenodd\" fill-opacity=\"1\" /><path clip-path=\"url(#clip270)\" d=\"M33.8307 1128.72 Q33.2578 1129.71 33.0032 1130.89 Q32.7167 1132.03 32.7167 1133.43 Q32.7167 1138.4 35.9632 1141.07 Q39.1779 1143.72 45.2253 1143.72 L64.0042 1143.72 L64.0042 1149.6 L28.3562 1149.6 L28.3562 1143.72 L33.8944 1143.72 Q30.6479 1141.87 29.0883 1138.91 Q27.4968 1135.95 27.4968 1131.72 Q27.4968 1131.11 27.5923 1130.38 Q27.656 1129.65 27.8151 1128.76 L33.8307 1128.72 Z\" fill=\"#000000\" fill-rule=\"evenodd\" fill-opacity=\"1\" /><path clip-path=\"url(#clip270)\" d=\"M35.1993 1095.97 Q31.2526 1093.78 29.3747 1090.72 Q27.4968 1087.67 27.4968 1083.53 Q27.4968 1077.96 31.4117 1074.93 Q35.2948 1071.91 42.4881 1071.91 L64.0042 1071.91 L64.0042 1077.8 L42.679 1077.8 Q37.5546 1077.8 35.072 1079.61 Q32.5894 1081.43 32.5894 1085.15 Q32.5894 1089.7 35.6131 1092.34 Q38.6368 1094.99 43.8567 1094.99 L64.0042 1094.99 L64.0042 1100.87 L42.679 1100.87 Q37.5228 1100.87 35.072 1102.69 Q32.5894 1104.5 32.5894 1108.29 Q32.5894 1112.78 35.6449 1115.42 Q38.6686 1118.06 43.8567 1118.06 L64.0042 1118.06 L64.0042 1123.95 L28.3562 1123.95 L28.3562 1118.06 L33.8944 1118.06 Q30.616 1116.06 29.0564 1113.26 Q27.4968 1110.45 27.4968 1106.6 Q27.4968 1102.72 29.4702 1100.01 Q31.4436 1097.28 35.1993 1095.97 Z\" fill=\"#000000\" fill-rule=\"evenodd\" fill-opacity=\"1\" /><path clip-path=\"url(#clip270)\" d=\"M46.0847 1044.03 Q46.0847 1051.13 47.7079 1053.86 Q49.3312 1056.6 53.2461 1056.6 Q56.3653 1056.6 58.2114 1054.56 Q60.0256 1052.49 60.0256 1048.96 Q60.0256 1044.09 56.5881 1041.16 Q53.1188 1038.2 47.3897 1038.2 L46.0847 1038.2 L46.0847 1044.03 M43.6657 1032.35 L64.0042 1032.35 L64.0042 1038.2 L58.5933 1038.2 Q61.8398 1040.21 63.3994 1043.2 Q64.9272 1046.19 64.9272 1050.52 Q64.9272 1056 61.8716 1059.24 Q58.7843 1062.46 53.6281 1062.46 Q47.6125 1062.46 44.5569 1058.45 Q41.5014 1054.4 41.5014 1046.42 L41.5014 1038.2 L40.9285 1038.2 Q36.8862 1038.2 34.6901 1040.88 Q32.4621 1043.52 32.4621 1048.33 Q32.4621 1051.38 33.1941 1054.28 Q33.9262 1057.17 35.3903 1059.85 L29.9795 1059.85 Q28.7381 1056.63 28.1334 1053.61 Q27.4968 1050.58 27.4968 1047.72 Q27.4968 1039.99 31.5072 1036.17 Q35.5176 1032.35 43.6657 1032.35 Z\" fill=\"#000000\" fill-rule=\"evenodd\" fill-opacity=\"1\" /><path clip-path=\"url(#clip270)\" d=\"M14.479 1020.28 L14.479 1014.43 L64.0042 1014.43 L64.0042 1020.28 L14.479 1020.28 Z\" fill=\"#000000\" fill-rule=\"evenodd\" fill-opacity=\"1\" /><path clip-path=\"url(#clip270)\" d=\"M28.3562 1002.17 L28.3562 996.317 L64.0042 996.317 L64.0042 1002.17 L28.3562 1002.17 M14.479 1002.17 L14.479 996.317 L21.895 996.317 L21.895 1002.17 L14.479 1002.17 Z\" fill=\"#000000\" fill-rule=\"evenodd\" fill-opacity=\"1\" /><path clip-path=\"url(#clip270)\" d=\"M28.3562 986.61 L28.3562 958.791 L33.7034 958.791 L59.3254 980.817 L59.3254 958.791 L64.0042 958.791 L64.0042 987.405 L58.657 987.405 L33.035 965.38 L33.035 986.61 L28.3562 986.61 Z\" fill=\"#000000\" fill-rule=\"evenodd\" fill-opacity=\"1\" /><path clip-path=\"url(#clip270)\" d=\"M44.7161 919.356 L47.5806 919.356 L47.5806 946.283 Q53.6281 945.901 56.8109 942.654 Q59.9619 939.376 59.9619 933.551 Q59.9619 930.178 59.1344 927.027 Q58.3069 923.844 56.6518 920.725 L62.1899 920.725 Q63.5267 923.876 64.227 927.186 Q64.9272 930.496 64.9272 933.902 Q64.9272 942.432 59.9619 947.429 Q54.9967 952.394 46.5303 952.394 Q37.7774 952.394 32.6531 947.683 Q27.4968 942.941 27.4968 934.92 Q27.4968 927.727 32.1438 923.557 Q36.7589 919.356 44.7161 919.356 M42.9973 925.212 Q38.1912 925.276 35.3266 927.918 Q32.4621 930.528 32.4621 934.856 Q32.4621 939.758 35.2312 942.718 Q38.0002 945.646 43.0292 946.092 L42.9973 925.212 Z\" fill=\"#000000\" fill-rule=\"evenodd\" fill-opacity=\"1\" /><path clip-path=\"url(#clip270)\" d=\"M33.7671 886.286 L14.479 886.286 L14.479 880.43 L64.0042 880.43 L64.0042 886.286 L58.657 886.286 Q61.8398 888.132 63.3994 890.965 Q64.9272 893.766 64.9272 897.713 Q64.9272 904.174 59.771 908.248 Q54.6147 912.29 46.212 912.29 Q37.8093 912.29 32.6531 908.248 Q27.4968 904.174 27.4968 897.713 Q27.4968 893.766 29.0564 890.965 Q30.5842 888.132 33.7671 886.286 M46.212 906.243 Q52.6732 906.243 56.3653 903.601 Q60.0256 900.927 60.0256 896.28 Q60.0256 891.633 56.3653 888.96 Q52.6732 886.286 46.212 886.286 Q39.7508 886.286 36.0905 888.96 Q32.3984 891.633 32.3984 896.28 Q32.3984 900.927 36.0905 903.601 Q39.7508 906.243 46.212 906.243 Z\" fill=\"#000000\" fill-rule=\"evenodd\" fill-opacity=\"1\" /><path clip-path=\"url(#clip270)\" d=\"M35.1993 819.892 Q31.2526 817.696 29.3747 814.64 Q27.4968 811.585 27.4968 807.447 Q27.4968 801.877 31.4117 798.853 Q35.2948 795.829 42.4881 795.829 L64.0042 795.829 L64.0042 801.718 L42.679 801.718 Q37.5546 801.718 35.072 803.532 Q32.5894 805.346 32.5894 809.07 Q32.5894 813.622 35.6131 816.263 Q38.6368 818.905 43.8567 818.905 L64.0042 818.905 L64.0042 824.793 L42.679 824.793 Q37.5228 824.793 35.072 826.608 Q32.5894 828.422 32.5894 832.209 Q32.5894 836.697 35.6449 839.339 Q38.6686 841.981 43.8567 841.981 L64.0042 841.981 L64.0042 847.869 L28.3562 847.869 L28.3562 841.981 L33.8944 841.981 Q30.616 839.976 29.0564 837.175 Q27.4968 834.374 27.4968 830.523 Q27.4968 826.639 29.4702 823.934 Q31.4436 821.197 35.1993 819.892 Z\" fill=\"#000000\" fill-rule=\"evenodd\" fill-opacity=\"1\" /><path clip-path=\"url(#clip270)\" d=\"M49.9359 784.753 L28.3562 784.753 L28.3562 778.897 L49.7131 778.897 Q54.7739 778.897 57.3202 776.923 Q59.8346 774.95 59.8346 771.003 Q59.8346 766.261 56.8109 763.523 Q53.7872 760.754 48.5673 760.754 L28.3562 760.754 L28.3562 754.898 L64.0042 754.898 L64.0042 760.754 L58.5296 760.754 Q61.7762 762.887 63.3676 765.72 Q64.9272 768.521 64.9272 772.244 Q64.9272 778.387 61.1078 781.57 Q57.2883 784.753 49.9359 784.753 M27.4968 770.016 L27.4968 770.016 Z\" fill=\"#000000\" fill-rule=\"evenodd\" fill-opacity=\"1\" /><path clip-path=\"url(#clip270)\" d=\"M18.2347 737.042 L28.3562 737.042 L28.3562 724.979 L32.9077 724.979 L32.9077 737.042 L52.2594 737.042 Q56.6199 737.042 57.8613 735.864 Q59.1026 734.655 59.1026 730.995 L59.1026 724.979 L64.0042 724.979 L64.0042 730.995 Q64.0042 737.774 61.4897 740.352 Q58.9434 742.93 52.2594 742.93 L32.9077 742.93 L32.9077 747.227 L28.3562 747.227 L28.3562 742.93 L18.2347 742.93 L18.2347 737.042 Z\" fill=\"#000000\" fill-rule=\"evenodd\" fill-opacity=\"1\" /><path clip-path=\"url(#clip270)\" d=\"M49.9359 717.881 L28.3562 717.881 L28.3562 712.025 L49.7131 712.025 Q54.7739 712.025 57.3202 710.052 Q59.8346 708.078 59.8346 704.131 Q59.8346 699.389 56.8109 696.652 Q53.7872 693.883 48.5673 693.883 L28.3562 693.883 L28.3562 688.026 L64.0042 688.026 L64.0042 693.883 L58.5296 693.883 Q61.7762 696.015 63.3676 698.848 Q64.9272 701.649 64.9272 705.373 Q64.9272 711.516 61.1078 714.698 Q57.2883 717.881 49.9359 717.881 M27.4968 703.145 L27.4968 703.145 Z\" fill=\"#000000\" fill-rule=\"evenodd\" fill-opacity=\"1\" /><path clip-path=\"url(#clip270)\" d=\"M46.0847 659.762 Q46.0847 666.86 47.7079 669.597 Q49.3312 672.335 53.2461 672.335 Q56.3653 672.335 58.2114 670.298 Q60.0256 668.229 60.0256 664.696 Q60.0256 659.826 56.5881 656.898 Q53.1188 653.938 47.3897 653.938 L46.0847 653.938 L46.0847 659.762 M43.6657 648.081 L64.0042 648.081 L64.0042 653.938 L58.5933 653.938 Q61.8398 655.943 63.3994 658.935 Q64.9272 661.927 64.9272 666.255 Q64.9272 671.73 61.8716 674.976 Q58.7843 678.191 53.6281 678.191 Q47.6125 678.191 44.5569 674.181 Q41.5014 670.139 41.5014 662.15 L41.5014 653.938 L40.9285 653.938 Q36.8862 653.938 34.6901 656.611 Q32.4621 659.253 32.4621 664.059 Q32.4621 667.115 33.1941 670.011 Q33.9262 672.908 35.3903 675.581 L29.9795 675.581 Q28.7381 672.367 28.1334 669.343 Q27.4968 666.319 27.4968 663.455 Q27.4968 655.72 31.5072 651.901 Q35.5176 648.081 43.6657 648.081 Z\" fill=\"#000000\" fill-rule=\"evenodd\" fill-opacity=\"1\" /><path clip-path=\"url(#clip270)\" d=\"M14.479 636.018 L14.479 630.162 L64.0042 630.162 L64.0042 636.018 L14.479 636.018 Z\" fill=\"#000000\" fill-rule=\"evenodd\" fill-opacity=\"1\" /><path clip-path=\"url(#clip270)\" d=\"M28.3562 597.188 L28.3562 591.331 L64.0042 591.331 L64.0042 597.188 L28.3562 597.188 M14.479 597.188 L14.479 591.331 L21.895 591.331 L21.895 597.188 L14.479 597.188 Z\" fill=\"#000000\" fill-rule=\"evenodd\" fill-opacity=\"1\" /><path clip-path=\"url(#clip270)\" d=\"M42.4881 549.445 L64.0042 549.445 L64.0042 555.301 L42.679 555.301 Q37.6183 555.301 35.1038 557.275 Q32.5894 559.248 32.5894 563.195 Q32.5894 567.937 35.6131 570.674 Q38.6368 573.412 43.8567 573.412 L64.0042 573.412 L64.0042 579.3 L28.3562 579.3 L28.3562 573.412 L33.8944 573.412 Q30.6797 571.311 29.0883 568.478 Q27.4968 565.614 27.4968 561.89 Q27.4968 555.747 31.3163 552.596 Q35.1038 549.445 42.4881 549.445 Z\" fill=\"#000000\" fill-rule=\"evenodd\" fill-opacity=\"1\" /><path clip-path=\"url(#clip270)\" d=\"M14.479 519.717 L19.3487 519.717 L19.3487 525.319 Q19.3487 528.47 20.6219 529.711 Q21.895 530.921 25.2052 530.921 L28.3562 530.921 L28.3562 521.276 L32.9077 521.276 L32.9077 530.921 L64.0042 530.921 L64.0042 536.809 L32.9077 536.809 L32.9077 542.411 L28.3562 542.411 L28.3562 536.809 L25.8736 536.809 Q19.9216 536.809 17.2162 534.04 Q14.479 531.271 14.479 525.255 L14.479 519.717 Z\" fill=\"#000000\" fill-rule=\"evenodd\" fill-opacity=\"1\" /><path clip-path=\"url(#clip270)\" d=\"M32.4621 501.002 Q32.4621 505.712 36.1542 508.45 Q39.8145 511.187 46.212 511.187 Q52.6095 511.187 56.3017 508.481 Q59.9619 505.744 59.9619 501.002 Q59.9619 496.323 56.2698 493.586 Q52.5777 490.848 46.212 490.848 Q39.8781 490.848 36.186 493.586 Q32.4621 496.323 32.4621 501.002 M27.4968 501.002 Q27.4968 493.363 32.4621 489.002 Q37.4273 484.642 46.212 484.642 Q54.9649 484.642 59.9619 489.002 Q64.9272 493.363 64.9272 501.002 Q64.9272 508.672 59.9619 513.033 Q54.9649 517.362 46.212 517.362 Q37.4273 517.362 32.4621 513.033 Q27.4968 508.672 27.4968 501.002 Z\" fill=\"#000000\" fill-rule=\"evenodd\" fill-opacity=\"1\" /><path clip-path=\"url(#clip270)\" d=\"M33.8307 454.277 Q33.2578 455.264 33.0032 456.442 Q32.7167 457.588 32.7167 458.988 Q32.7167 463.953 35.9632 466.627 Q39.1779 469.269 45.2253 469.269 L64.0042 469.269 L64.0042 475.157 L28.3562 475.157 L28.3562 469.269 L33.8944 469.269 Q30.6479 467.423 29.0883 464.463 Q27.4968 461.502 27.4968 457.269 Q27.4968 456.665 27.5923 455.933 Q27.656 455.2 27.8151 454.309 L33.8307 454.277 Z\" fill=\"#000000\" fill-rule=\"evenodd\" fill-opacity=\"1\" /><path clip-path=\"url(#clip270)\" d=\"M35.1993 421.526 Q31.2526 419.33 29.3747 416.274 Q27.4968 413.219 27.4968 409.081 Q27.4968 403.511 31.4117 400.487 Q35.2948 397.463 42.4881 397.463 L64.0042 397.463 L64.0042 403.352 L42.679 403.352 Q37.5546 403.352 35.072 405.166 Q32.5894 406.98 32.5894 410.704 Q32.5894 415.256 35.6131 417.897 Q38.6368 420.539 43.8567 420.539 L64.0042 420.539 L64.0042 426.427 L42.679 426.427 Q37.5228 426.427 35.072 428.242 Q32.5894 430.056 32.5894 433.844 Q32.5894 438.331 35.6449 440.973 Q38.6686 443.615 43.8567 443.615 L64.0042 443.615 L64.0042 449.503 L28.3562 449.503 L28.3562 443.615 L33.8944 443.615 Q30.616 441.61 29.0564 438.809 Q27.4968 436.008 27.4968 432.157 Q27.4968 428.274 29.4702 425.568 Q31.4436 422.831 35.1993 421.526 Z\" fill=\"#000000\" fill-rule=\"evenodd\" fill-opacity=\"1\" /><path clip-path=\"url(#clip270)\" d=\"M46.0847 369.582 Q46.0847 376.679 47.7079 379.417 Q49.3312 382.154 53.2461 382.154 Q56.3653 382.154 58.2114 380.117 Q60.0256 378.048 60.0256 374.515 Q60.0256 369.645 56.5881 366.717 Q53.1188 363.757 47.3897 363.757 L46.0847 363.757 L46.0847 369.582 M43.6657 357.901 L64.0042 357.901 L64.0042 363.757 L58.5933 363.757 Q61.8398 365.762 63.3994 368.754 Q64.9272 371.746 64.9272 376.075 Q64.9272 381.549 61.8716 384.796 Q58.7843 388.01 53.6281 388.01 Q47.6125 388.01 44.5569 384 Q41.5014 379.958 41.5014 371.969 L41.5014 363.757 L40.9285 363.757 Q36.8862 363.757 34.6901 366.431 Q32.4621 369.072 32.4621 373.879 Q32.4621 376.934 33.1941 379.83 Q33.9262 382.727 35.3903 385.4 L29.9795 385.4 Q28.7381 382.186 28.1334 379.162 Q27.4968 376.138 27.4968 373.274 Q27.4968 365.539 31.5072 361.72 Q35.5176 357.901 43.6657 357.901 Z\" fill=\"#000000\" fill-rule=\"evenodd\" fill-opacity=\"1\" /><path clip-path=\"url(#clip270)\" d=\"M18.2347 340.045 L28.3562 340.045 L28.3562 327.982 L32.9077 327.982 L32.9077 340.045 L52.2594 340.045 Q56.6199 340.045 57.8613 338.867 Q59.1026 337.658 59.1026 333.997 L59.1026 327.982 L64.0042 327.982 L64.0042 333.997 Q64.0042 340.777 61.4897 343.355 Q58.9434 345.933 52.2594 345.933 L32.9077 345.933 L32.9077 350.23 L28.3562 350.23 L28.3562 345.933 L18.2347 345.933 L18.2347 340.045 Z\" fill=\"#000000\" fill-rule=\"evenodd\" fill-opacity=\"1\" /><path clip-path=\"url(#clip270)\" d=\"M28.3562 320.279 L28.3562 314.423 L64.0042 314.423 L64.0042 320.279 L28.3562 320.279 M14.479 320.279 L14.479 314.423 L21.895 314.423 L21.895 320.279 L14.479 320.279 Z\" fill=\"#000000\" fill-rule=\"evenodd\" fill-opacity=\"1\" /><path clip-path=\"url(#clip270)\" d=\"M32.4621 288.355 Q32.4621 293.066 36.1542 295.803 Q39.8145 298.54 46.212 298.54 Q52.6095 298.54 56.3017 295.835 Q59.9619 293.098 59.9619 288.355 Q59.9619 283.676 56.2698 280.939 Q52.5777 278.202 46.212 278.202 Q39.8781 278.202 36.186 280.939 Q32.4621 283.676 32.4621 288.355 M27.4968 288.355 Q27.4968 280.716 32.4621 276.356 Q37.4273 271.995 46.212 271.995 Q54.9649 271.995 59.9619 276.356 Q64.9272 280.716 64.9272 288.355 Q64.9272 296.026 59.9619 300.386 Q54.9649 304.715 46.212 304.715 Q37.4273 304.715 32.4621 300.386 Q27.4968 296.026 27.4968 288.355 Z\" fill=\"#000000\" fill-rule=\"evenodd\" fill-opacity=\"1\" /><path clip-path=\"url(#clip270)\" d=\"M42.4881 232.655 L64.0042 232.655 L64.0042 238.512 L42.679 238.512 Q37.6183 238.512 35.1038 240.485 Q32.5894 242.459 32.5894 246.405 Q32.5894 251.148 35.6131 253.885 Q38.6368 256.622 43.8567 256.622 L64.0042 256.622 L64.0042 262.511 L28.3562 262.511 L28.3562 256.622 L33.8944 256.622 Q30.6797 254.522 29.0883 251.689 Q27.4968 248.824 27.4968 245.1 Q27.4968 238.957 31.3163 235.806 Q35.1038 232.655 42.4881 232.655 Z\" fill=\"#000000\" fill-rule=\"evenodd\" fill-opacity=\"1\" /><polyline clip-path=\"url(#clip272)\" style=\"stroke:#009af9; stroke-linecap:butt; stroke-linejoin:round; stroke-width:4; stroke-opacity:1; fill:none\" points=\"\n",
       "  309.067,1242.81 419.298,633.435 529.53,247.999 639.761,311.283 749.992,242.7 860.224,227.517 970.455,103.314 1080.69,164.228 1190.92,222.206 1301.15,198.736 \n",
       "  1411.38,217.269 1521.61,212.927 1631.84,210.864 1742.07,248.887 1852.31,282.221 1962.54,279.512 2072.77,306.844 2183,275.658 2293.23,280.496 \n",
       "  \"/>\n",
       "<polyline clip-path=\"url(#clip272)\" style=\"stroke:#009af9; stroke-linecap:butt; stroke-linejoin:round; stroke-width:4; stroke-opacity:1; fill:none\" points=\"\n",
       "  309.067,1384.24 309.067,1101.39 \n",
       "  \"/>\n",
       "<polyline clip-path=\"url(#clip272)\" style=\"stroke:#009af9; stroke-linecap:butt; stroke-linejoin:round; stroke-width:4; stroke-opacity:1; fill:none\" points=\"\n",
       "  419.298,695.147 419.298,571.723 \n",
       "  \"/>\n",
       "<polyline clip-path=\"url(#clip272)\" style=\"stroke:#009af9; stroke-linecap:butt; stroke-linejoin:round; stroke-width:4; stroke-opacity:1; fill:none\" points=\"\n",
       "  529.53,331.099 529.53,164.899 \n",
       "  \"/>\n",
       "<polyline clip-path=\"url(#clip272)\" style=\"stroke:#009af9; stroke-linecap:butt; stroke-linejoin:round; stroke-width:4; stroke-opacity:1; fill:none\" points=\"\n",
       "  639.761,371.127 639.761,251.44 \n",
       "  \"/>\n",
       "<polyline clip-path=\"url(#clip272)\" style=\"stroke:#009af9; stroke-linecap:butt; stroke-linejoin:round; stroke-width:4; stroke-opacity:1; fill:none\" points=\"\n",
       "  749.992,335.859 749.992,149.542 \n",
       "  \"/>\n",
       "<polyline clip-path=\"url(#clip272)\" style=\"stroke:#009af9; stroke-linecap:butt; stroke-linejoin:round; stroke-width:4; stroke-opacity:1; fill:none\" points=\"\n",
       "  860.224,334.518 860.224,120.516 \n",
       "  \"/>\n",
       "<polyline clip-path=\"url(#clip272)\" style=\"stroke:#009af9; stroke-linecap:butt; stroke-linejoin:round; stroke-width:4; stroke-opacity:1; fill:none\" points=\"\n",
       "  970.455,112.765 970.455,93.8635 \n",
       "  \"/>\n",
       "<polyline clip-path=\"url(#clip272)\" style=\"stroke:#009af9; stroke-linecap:butt; stroke-linejoin:round; stroke-width:4; stroke-opacity:1; fill:none\" points=\"\n",
       "  1080.69,192.181 1080.69,136.276 \n",
       "  \"/>\n",
       "<polyline clip-path=\"url(#clip272)\" style=\"stroke:#009af9; stroke-linecap:butt; stroke-linejoin:round; stroke-width:4; stroke-opacity:1; fill:none\" points=\"\n",
       "  1190.92,263.149 1190.92,181.263 \n",
       "  \"/>\n",
       "<polyline clip-path=\"url(#clip272)\" style=\"stroke:#009af9; stroke-linecap:butt; stroke-linejoin:round; stroke-width:4; stroke-opacity:1; fill:none\" points=\"\n",
       "  1301.15,311.286 1301.15,86.1857 \n",
       "  \"/>\n",
       "<polyline clip-path=\"url(#clip272)\" style=\"stroke:#009af9; stroke-linecap:butt; stroke-linejoin:round; stroke-width:4; stroke-opacity:1; fill:none\" points=\"\n",
       "  1411.38,247.148 1411.38,187.389 \n",
       "  \"/>\n",
       "<polyline clip-path=\"url(#clip272)\" style=\"stroke:#009af9; stroke-linecap:butt; stroke-linejoin:round; stroke-width:4; stroke-opacity:1; fill:none\" points=\"\n",
       "  1521.61,225.053 1521.61,200.801 \n",
       "  \"/>\n",
       "<polyline clip-path=\"url(#clip272)\" style=\"stroke:#009af9; stroke-linecap:butt; stroke-linejoin:round; stroke-width:4; stroke-opacity:1; fill:none\" points=\"\n",
       "  1631.84,224.415 1631.84,197.313 \n",
       "  \"/>\n",
       "<polyline clip-path=\"url(#clip272)\" style=\"stroke:#009af9; stroke-linecap:butt; stroke-linejoin:round; stroke-width:4; stroke-opacity:1; fill:none\" points=\"\n",
       "  1742.07,280.38 1742.07,217.394 \n",
       "  \"/>\n",
       "<polyline clip-path=\"url(#clip272)\" style=\"stroke:#009af9; stroke-linecap:butt; stroke-linejoin:round; stroke-width:4; stroke-opacity:1; fill:none\" points=\"\n",
       "  1852.31,360.287 1852.31,204.155 \n",
       "  \"/>\n",
       "<polyline clip-path=\"url(#clip272)\" style=\"stroke:#009af9; stroke-linecap:butt; stroke-linejoin:round; stroke-width:4; stroke-opacity:1; fill:none\" points=\"\n",
       "  1962.54,340.066 1962.54,218.959 \n",
       "  \"/>\n",
       "<polyline clip-path=\"url(#clip272)\" style=\"stroke:#009af9; stroke-linecap:butt; stroke-linejoin:round; stroke-width:4; stroke-opacity:1; fill:none\" points=\"\n",
       "  2072.77,359.283 2072.77,254.405 \n",
       "  \"/>\n",
       "<polyline clip-path=\"url(#clip272)\" style=\"stroke:#009af9; stroke-linecap:butt; stroke-linejoin:round; stroke-width:4; stroke-opacity:1; fill:none\" points=\"\n",
       "  2183,301.582 2183,249.735 \n",
       "  \"/>\n",
       "<polyline clip-path=\"url(#clip272)\" style=\"stroke:#009af9; stroke-linecap:butt; stroke-linejoin:round; stroke-width:4; stroke-opacity:1; fill:none\" points=\"\n",
       "  2293.23,322.745 2293.23,238.247 \n",
       "  \"/>\n",
       "<line clip-path=\"url(#clip272)\" x1=\"325.067\" y1=\"1384.24\" x2=\"293.067\" y2=\"1384.24\" style=\"stroke:#009af9; stroke-width:3.2; stroke-opacity:1\"/>\n",
       "<line clip-path=\"url(#clip272)\" x1=\"325.067\" y1=\"1101.39\" x2=\"293.067\" y2=\"1101.39\" style=\"stroke:#009af9; stroke-width:3.2; stroke-opacity:1\"/>\n",
       "<line clip-path=\"url(#clip272)\" x1=\"435.298\" y1=\"695.147\" x2=\"403.298\" y2=\"695.147\" style=\"stroke:#009af9; stroke-width:3.2; stroke-opacity:1\"/>\n",
       "<line clip-path=\"url(#clip272)\" x1=\"435.298\" y1=\"571.723\" x2=\"403.298\" y2=\"571.723\" style=\"stroke:#009af9; stroke-width:3.2; stroke-opacity:1\"/>\n",
       "<line clip-path=\"url(#clip272)\" x1=\"545.53\" y1=\"331.099\" x2=\"513.53\" y2=\"331.099\" style=\"stroke:#009af9; stroke-width:3.2; stroke-opacity:1\"/>\n",
       "<line clip-path=\"url(#clip272)\" x1=\"545.53\" y1=\"164.899\" x2=\"513.53\" y2=\"164.899\" style=\"stroke:#009af9; stroke-width:3.2; stroke-opacity:1\"/>\n",
       "<line clip-path=\"url(#clip272)\" x1=\"655.761\" y1=\"371.127\" x2=\"623.761\" y2=\"371.127\" style=\"stroke:#009af9; stroke-width:3.2; stroke-opacity:1\"/>\n",
       "<line clip-path=\"url(#clip272)\" x1=\"655.761\" y1=\"251.44\" x2=\"623.761\" y2=\"251.44\" style=\"stroke:#009af9; stroke-width:3.2; stroke-opacity:1\"/>\n",
       "<line clip-path=\"url(#clip272)\" x1=\"765.992\" y1=\"335.859\" x2=\"733.992\" y2=\"335.859\" style=\"stroke:#009af9; stroke-width:3.2; stroke-opacity:1\"/>\n",
       "<line clip-path=\"url(#clip272)\" x1=\"765.992\" y1=\"149.542\" x2=\"733.992\" y2=\"149.542\" style=\"stroke:#009af9; stroke-width:3.2; stroke-opacity:1\"/>\n",
       "<line clip-path=\"url(#clip272)\" x1=\"876.224\" y1=\"334.518\" x2=\"844.224\" y2=\"334.518\" style=\"stroke:#009af9; stroke-width:3.2; stroke-opacity:1\"/>\n",
       "<line clip-path=\"url(#clip272)\" x1=\"876.224\" y1=\"120.516\" x2=\"844.224\" y2=\"120.516\" style=\"stroke:#009af9; stroke-width:3.2; stroke-opacity:1\"/>\n",
       "<line clip-path=\"url(#clip272)\" x1=\"986.455\" y1=\"112.765\" x2=\"954.455\" y2=\"112.765\" style=\"stroke:#009af9; stroke-width:3.2; stroke-opacity:1\"/>\n",
       "<line clip-path=\"url(#clip272)\" x1=\"986.455\" y1=\"93.8635\" x2=\"954.455\" y2=\"93.8635\" style=\"stroke:#009af9; stroke-width:3.2; stroke-opacity:1\"/>\n",
       "<line clip-path=\"url(#clip272)\" x1=\"1096.69\" y1=\"192.181\" x2=\"1064.69\" y2=\"192.181\" style=\"stroke:#009af9; stroke-width:3.2; stroke-opacity:1\"/>\n",
       "<line clip-path=\"url(#clip272)\" x1=\"1096.69\" y1=\"136.276\" x2=\"1064.69\" y2=\"136.276\" style=\"stroke:#009af9; stroke-width:3.2; stroke-opacity:1\"/>\n",
       "<line clip-path=\"url(#clip272)\" x1=\"1206.92\" y1=\"263.149\" x2=\"1174.92\" y2=\"263.149\" style=\"stroke:#009af9; stroke-width:3.2; stroke-opacity:1\"/>\n",
       "<line clip-path=\"url(#clip272)\" x1=\"1206.92\" y1=\"181.263\" x2=\"1174.92\" y2=\"181.263\" style=\"stroke:#009af9; stroke-width:3.2; stroke-opacity:1\"/>\n",
       "<line clip-path=\"url(#clip272)\" x1=\"1317.15\" y1=\"311.286\" x2=\"1285.15\" y2=\"311.286\" style=\"stroke:#009af9; stroke-width:3.2; stroke-opacity:1\"/>\n",
       "<line clip-path=\"url(#clip272)\" x1=\"1317.15\" y1=\"86.1857\" x2=\"1285.15\" y2=\"86.1857\" style=\"stroke:#009af9; stroke-width:3.2; stroke-opacity:1\"/>\n",
       "<line clip-path=\"url(#clip272)\" x1=\"1427.38\" y1=\"247.148\" x2=\"1395.38\" y2=\"247.148\" style=\"stroke:#009af9; stroke-width:3.2; stroke-opacity:1\"/>\n",
       "<line clip-path=\"url(#clip272)\" x1=\"1427.38\" y1=\"187.389\" x2=\"1395.38\" y2=\"187.389\" style=\"stroke:#009af9; stroke-width:3.2; stroke-opacity:1\"/>\n",
       "<line clip-path=\"url(#clip272)\" x1=\"1537.61\" y1=\"225.053\" x2=\"1505.61\" y2=\"225.053\" style=\"stroke:#009af9; stroke-width:3.2; stroke-opacity:1\"/>\n",
       "<line clip-path=\"url(#clip272)\" x1=\"1537.61\" y1=\"200.801\" x2=\"1505.61\" y2=\"200.801\" style=\"stroke:#009af9; stroke-width:3.2; stroke-opacity:1\"/>\n",
       "<line clip-path=\"url(#clip272)\" x1=\"1647.84\" y1=\"224.415\" x2=\"1615.84\" y2=\"224.415\" style=\"stroke:#009af9; stroke-width:3.2; stroke-opacity:1\"/>\n",
       "<line clip-path=\"url(#clip272)\" x1=\"1647.84\" y1=\"197.313\" x2=\"1615.84\" y2=\"197.313\" style=\"stroke:#009af9; stroke-width:3.2; stroke-opacity:1\"/>\n",
       "<line clip-path=\"url(#clip272)\" x1=\"1758.07\" y1=\"280.38\" x2=\"1726.07\" y2=\"280.38\" style=\"stroke:#009af9; stroke-width:3.2; stroke-opacity:1\"/>\n",
       "<line clip-path=\"url(#clip272)\" x1=\"1758.07\" y1=\"217.394\" x2=\"1726.07\" y2=\"217.394\" style=\"stroke:#009af9; stroke-width:3.2; stroke-opacity:1\"/>\n",
       "<line clip-path=\"url(#clip272)\" x1=\"1868.31\" y1=\"360.287\" x2=\"1836.31\" y2=\"360.287\" style=\"stroke:#009af9; stroke-width:3.2; stroke-opacity:1\"/>\n",
       "<line clip-path=\"url(#clip272)\" x1=\"1868.31\" y1=\"204.155\" x2=\"1836.31\" y2=\"204.155\" style=\"stroke:#009af9; stroke-width:3.2; stroke-opacity:1\"/>\n",
       "<line clip-path=\"url(#clip272)\" x1=\"1978.54\" y1=\"340.066\" x2=\"1946.54\" y2=\"340.066\" style=\"stroke:#009af9; stroke-width:3.2; stroke-opacity:1\"/>\n",
       "<line clip-path=\"url(#clip272)\" x1=\"1978.54\" y1=\"218.959\" x2=\"1946.54\" y2=\"218.959\" style=\"stroke:#009af9; stroke-width:3.2; stroke-opacity:1\"/>\n",
       "<line clip-path=\"url(#clip272)\" x1=\"2088.77\" y1=\"359.283\" x2=\"2056.77\" y2=\"359.283\" style=\"stroke:#009af9; stroke-width:3.2; stroke-opacity:1\"/>\n",
       "<line clip-path=\"url(#clip272)\" x1=\"2088.77\" y1=\"254.405\" x2=\"2056.77\" y2=\"254.405\" style=\"stroke:#009af9; stroke-width:3.2; stroke-opacity:1\"/>\n",
       "<line clip-path=\"url(#clip272)\" x1=\"2199\" y1=\"301.582\" x2=\"2167\" y2=\"301.582\" style=\"stroke:#009af9; stroke-width:3.2; stroke-opacity:1\"/>\n",
       "<line clip-path=\"url(#clip272)\" x1=\"2199\" y1=\"249.735\" x2=\"2167\" y2=\"249.735\" style=\"stroke:#009af9; stroke-width:3.2; stroke-opacity:1\"/>\n",
       "<line clip-path=\"url(#clip272)\" x1=\"2309.23\" y1=\"322.745\" x2=\"2277.23\" y2=\"322.745\" style=\"stroke:#009af9; stroke-width:3.2; stroke-opacity:1\"/>\n",
       "<line clip-path=\"url(#clip272)\" x1=\"2309.23\" y1=\"238.247\" x2=\"2277.23\" y2=\"238.247\" style=\"stroke:#009af9; stroke-width:3.2; stroke-opacity:1\"/>\n",
       "</svg>\n"
      ]
     },
     "metadata": {},
     "output_type": "display_data"
    }
   ],
   "source": [
    "# Plot Normalized mutual information vs d0\n",
    "m = mean(NMIs,dims=2);\n",
    "s = std(NMIs,dims=2);\n",
    "plot(d0s, m, yerror = s,\n",
    "markerstrokecolor=:auto,\n",
    "xlabel = L\"d_0\",\n",
    "ylabel = \"Normalized mutual information\",\n",
    "legend = false)\n",
    "\n",
    "savefig(\"figures/nmi_vs_d0__mu\"*string(mu)*\".pdf\")\n",
    "plot!()\n"
   ]
  },
  {
   "cell_type": "markdown",
   "metadata": {},
   "source": [
    "### Test impact of n_clusters"
   ]
  },
  {
   "cell_type": "code",
   "execution_count": 6,
   "metadata": {},
   "outputs": [
    {
     "name": "stdout",
     "output_type": "stream",
     "text": [
      "mu=0.4\n",
      "========== n_clusters step 1/10 =========="
     ]
    },
    {
     "name": "stdout",
     "output_type": "stream",
     "text": [
      "\n",
      "\n",
      "  ~~~~~ number_rep = 1/3 ~~~~~\n",
      " ------- Acc Projected Power Iteration -------\n",
      "The iteration has become stationary after "
     ]
    },
    {
     "name": "stdout",
     "output_type": "stream",
     "text": [
      "156 iterations\n",
      "  4.653933 seconds (4.32 k allocations: 1.055 GiB, 7.48% gc time)\n",
      " -------------- Clustering ------- \n",
      "dimension of embedding used for clustering: 100\n"
     ]
    },
    {
     "name": "stdout",
     "output_type": "stream",
     "text": [
      "Number of updates: 13\n",
      "Modularity: 0.3512116143687409\n",
      "Number of communities: 10\n",
      " -------------------------------------------- \n",
      "The first 5 squared singular values divided by N : \n",
      "[0.2200454769918737, 0.21264181904191815, 0.18106199531244374, 0.12842497236933836, 0.09860373645809867]\n",
      " -------------------------------------------- \n",
      " 12.095800 seconds (3.05 M allocations: 2.745 GiB, 6.71% gc time)\n",
      "\n",
      "  ~~~~~ number_rep = 2/3 ~~~~~\n",
      " ------- Acc Projected Power Iteration -------\n"
     ]
    },
    {
     "name": "stdout",
     "output_type": "stream",
     "text": [
      "The iteration has become stationary after 267 iterations\n",
      "  4.938573 seconds (7.32 k allocations: 1.810 GiB, 7.18% gc time)\n",
      " -------------- Clustering ------- \n",
      "dimension of embedding used for clustering: 100\n",
      "Number of updates: "
     ]
    },
    {
     "name": "stdout",
     "output_type": "stream",
     "text": [
      "14\n",
      "Modularity: 0.34706675215326555\n",
      "Number of communities: 10\n",
      " -------------------------------------------- \n",
      "The first 5 squared singular values divided by N : \n",
      "[0.2198722493546575, 0.21286932855455465, 0.18100593220411482, 0.1281203189418782, 0.09915366379208783]\n",
      " -------------------------------------------- \n",
      " 12.265892 seconds (2.75 M allocations: 3.327 GiB, 6.20% gc time)\n",
      "\n",
      "  ~~~~~ number_rep = 3/3 ~~~~~\n",
      " ------- Acc Projected Power Iteration -------\n"
     ]
    },
    {
     "name": "stdout",
     "output_type": "stream",
     "text": [
      "The iteration has become stationary after 285 iterations\n",
      "  3.350909 seconds (7.80 k allocations: 1.932 GiB, 8.36% gc time)\n",
      " -------------- Clustering ------- \n",
      "dimension of embedding used for clustering: 100\n",
      "Number of updates: "
     ]
    },
    {
     "name": "stdout",
     "output_type": "stream",
     "text": [
      "11\n",
      "Modularity: 0.34376401257908\n",
      "Number of communities: 10\n",
      " -------------------------------------------- \n",
      "The first 5 squared singular values divided by N : \n",
      "[0.2198714405829468, 0.212867857489769, 0.18084816459976166, 0.12814412744923226, 0.09918536505942438]\n",
      " -------------------------------------------- \n",
      "  7.322165 seconds (2.80 M allocations: 3.482 GiB, 8.26% gc time)\n",
      "\n",
      "========== n_clusters step 2/10 ==========\n",
      "\n",
      "  ~~~~~ number_rep = 1/3 ~~~~~\n",
      " ------- Acc Projected Power Iteration -------\n"
     ]
    },
    {
     "name": "stdout",
     "output_type": "stream",
     "text": [
      "The iteration has become stationary after 311 iterations\n",
      "  3.264405 seconds (8.51 k allocations: 2.109 GiB, 9.19% gc time)\n",
      " -------------- Clustering ------- \n",
      "dimension of embedding used for clustering: 100\n",
      "Number of updates: "
     ]
    },
    {
     "name": "stdout",
     "output_type": "stream",
     "text": [
      "9\n",
      "Modularity: 0.36751798552941495\n",
      "Number of communities: 18\n",
      " -------------------------------------------- \n",
      "The first 5 squared singular values divided by N : \n",
      "[0.22002782131808973, 0.2129274104777182, 0.18105794809465847, 0.12811903861498902, 0.09909333856918036]\n",
      " -------------------------------------------- \n",
      "  7.928732 seconds (2.50 M allocations: 3.672 GiB, 7.66% gc time)\n",
      "\n",
      "  ~~~~~ number_rep = 2/3 ~~~~~\n",
      " ------- Acc Projected Power Iteration -------\n"
     ]
    },
    {
     "name": "stdout",
     "output_type": "stream",
     "text": [
      "The iteration has become stationary after 233 iterations\n",
      "  2.436102 seconds (6.40 k allocations: 1.578 GiB, 9.39% gc time)\n",
      " -------------- Clustering ------- \n",
      "dimension of embedding used for clustering: 100\n",
      "Number of updates: "
     ]
    },
    {
     "name": "stdout",
     "output_type": "stream",
     "text": [
      "9\n",
      "Modularity: 0.3697970620116448\n",
      "Number of communities: 20\n",
      " -------------------------------------------- \n",
      "The first 5 squared singular values divided by N : \n",
      "[0.22015152241033117, 0.21307088696880416, 0.1809524484554927, 0.12823454596024222, 0.0990481550168681]\n",
      " -------------------------------------------- \n",
      "  7.156748 seconds (2.43 M allocations: 3.101 GiB, 7.42% gc time)\n",
      "\n",
      "  ~~~~~ number_rep = 3/3 ~~~~~\n",
      " ------- Acc Projected Power Iteration -------\n"
     ]
    },
    {
     "name": "stdout",
     "output_type": "stream",
     "text": [
      "The iteration has become stationary after 214 iterations\n",
      "  2.103582 seconds (5.89 k allocations: 1.449 GiB, 8.83% gc time)\n",
      " -------------- Clustering ------- \n",
      "dimension of embedding used for clustering: 100\n",
      "Number of updates: "
     ]
    },
    {
     "name": "stdout",
     "output_type": "stream",
     "text": [
      "13\n",
      "Modularity: 0.36705963884071635\n",
      "Number of communities: 18\n",
      " -------------------------------------------- \n",
      "The first 5 squared singular values divided by N : \n",
      "[0.22011599566631876, 0.21304778320750586, 0.18105635670558537, 0.12819939875968062, 0.09914094785828456]\n",
      " -------------------------------------------- \n",
      "  7.698035 seconds (2.65 M allocations: 3.114 GiB, 6.82% gc time)\n",
      "\n",
      "========== n_clusters step 3/10 ==========\n",
      "\n",
      "  ~~~~~ number_rep = 1/3 ~~~~~\n",
      " ------- Acc Projected Power Iteration -------\n"
     ]
    },
    {
     "name": "stdout",
     "output_type": "stream",
     "text": [
      "The iteration has become stationary after 232 iterations\n",
      "  2.469286 seconds (6.37 k allocations: 1.572 GiB, 9.37% gc time)\n",
      " -------------- Clustering ------- \n",
      "dimension of embedding used for clustering: 100\n",
      "Number of updates: "
     ]
    },
    {
     "name": "stdout",
     "output_type": "stream",
     "text": [
      "11\n",
      "Modularity: 0.37643470187994915\n",
      "Number of communities: 23\n",
      " -------------------------------------------- \n",
      "The first 5 squared singular values divided by N : \n",
      "[0.22017278091469403, 0.2131248908778519, 0.18112326517125585, 0.12822873206353935, 0.09905223995696688]\n",
      " -------------------------------------------- \n",
      "  8.568778 seconds (2.40 M allocations: 3.260 GiB, 6.30% gc time)\n",
      "\n",
      "  ~~~~~ number_rep = 2/3 ~~~~~\n",
      " ------- Acc Projected Power Iteration -------\n"
     ]
    },
    {
     "name": "stdout",
     "output_type": "stream",
     "text": [
      "The iteration has become stationary after 312 iterations\n",
      "  3.550174 seconds (8.53 k allocations: 2.115 GiB, 11.14% gc time)\n",
      " -------------- Clustering ------- \n",
      "dimension of embedding used for clustering: 100\n",
      "Number of updates: "
     ]
    },
    {
     "name": "stdout",
     "output_type": "stream",
     "text": [
      "14\n",
      "Modularity: 0.3760629224527295\n",
      "Number of communities: 23\n",
      " -------------------------------------------- \n",
      "The first 5 squared singular values divided by N : \n",
      "[0.22004558388859702, 0.21294632124961949, 0.1811015388507939, 0.1281217920229453, 0.09907132176010025]\n",
      " -------------------------------------------- \n",
      " 10.060064 seconds (2.28 M allocations: 3.722 GiB, 7.05% gc time)\n",
      "\n",
      "  ~~~~~ number_rep = 3/3 ~~~~~\n",
      " ------- Acc Projected Power Iteration -------\n"
     ]
    },
    {
     "name": "stdout",
     "output_type": "stream",
     "text": [
      "The iteration has become stationary after 284 iterations\n",
      "  2.834597 seconds (7.78 k allocations: 1.925 GiB, 10.26% gc time)\n",
      " -------------- Clustering ------- \n",
      "dimension of embedding used for clustering: 100\n",
      "Number of updates: "
     ]
    },
    {
     "name": "stdout",
     "output_type": "stream",
     "text": [
      "14\n",
      "Modularity: 0.3766564829402847\n",
      "Number of communities: 28\n",
      " -------------------------------------------- \n",
      "The first 5 squared singular values divided by N : \n",
      "[0.21983184776000705, 0.21283606023631144, 0.1808060828613158, 0.1281052142449394, 0.09918479818867737]\n",
      " -------------------------------------------- \n",
      "  8.634450 seconds (2.33 M allocations: 3.565 GiB, 6.84% gc time)\n",
      "\n",
      "========== n_clusters step 4/10 ==========\n",
      "\n",
      "  ~~~~~ number_rep = 1/3 ~~~~~\n",
      " ------- Acc Projected Power Iteration -------\n"
     ]
    },
    {
     "name": "stdout",
     "output_type": "stream",
     "text": [
      "The iteration has become stationary after 214 iterations\n",
      "  2.418917 seconds (5.89 k allocations: 1.449 GiB, 9.79% gc time)\n",
      " -------------- Clustering ------- \n",
      "dimension of embedding used for clustering: 100\n",
      "Number of updates: "
     ]
    },
    {
     "name": "stdout",
     "output_type": "stream",
     "text": [
      "8\n",
      "Modularity: 0.3803725425232725\n",
      "Number of communities: 31\n",
      " -------------------------------------------- \n",
      "The first 5 squared singular values divided by N : \n",
      "[0.2200896787111066, 0.21306354624953025, 0.1809911554637837, 0.12821537103808092, 0.09910384540507303]\n",
      " -------------------------------------------- \n",
      "  9.445256 seconds (2.37 M allocations: 3.260 GiB, 5.86% gc time)\n",
      "\n",
      "  ~~~~~ number_rep = 2/3 ~~~~~\n",
      " ------- Acc Projected Power Iteration -------\n"
     ]
    },
    {
     "name": "stdout",
     "output_type": "stream",
     "text": [
      "The iteration has become stationary after 285 iterations\n",
      "  2.671876 seconds (7.80 k allocations: 1.932 GiB, 10.57% gc time)\n",
      " -------------- Clustering ------- \n",
      "dimension of embedding used for clustering: 100\n",
      "Number of updates: "
     ]
    },
    {
     "name": "stdout",
     "output_type": "stream",
     "text": [
      "9\n",
      "Modularity: 0.37877203047980196\n",
      "Number of communities: 27\n",
      " -------------------------------------------- \n",
      "The first 5 squared singular values divided by N : \n",
      "[0.2198465369104984, 0.21283185393191334, 0.1808348336692692, 0.12813813590017384, 0.0991947891680111]\n",
      " -------------------------------------------- \n",
      "  9.765708 seconds (2.40 M allocations: 3.768 GiB, 6.28% gc time)\n",
      "\n",
      "  ~~~~~ number_rep = 3/3 ~~~~~\n",
      " ------- Acc Projected Power Iteration -------\n"
     ]
    },
    {
     "name": "stdout",
     "output_type": "stream",
     "text": [
      "The iteration has become stationary after 214 iterations\n",
      "  2.266980 seconds (5.89 k allocations: 1.449 GiB, 11.01% gc time)\n",
      " -------------- Clustering ------- \n",
      "dimension of embedding used for clustering: 100\n",
      "Number of updates: "
     ]
    },
    {
     "name": "stdout",
     "output_type": "stream",
     "text": [
      "11\n",
      "Modularity: 0.3765629393022047\n",
      "Number of communities: 30\n",
      " -------------------------------------------- \n",
      "The first 5 squared singular values divided by N : \n",
      "[0.22010825729120423, 0.21302823674612864, 0.18098539024554613, 0.12817683786025907, 0.09917676326110086]\n",
      " -------------------------------------------- \n",
      "  8.781052 seconds (2.22 M allocations: 3.143 GiB, 6.13% gc time)\n",
      "\n",
      "========== n_clusters step 5/10 ==========\n",
      "\n",
      "  ~~~~~ number_rep = 1/3 ~~~~~\n",
      " ------- Acc Projected Power Iteration -------\n"
     ]
    },
    {
     "name": "stdout",
     "output_type": "stream",
     "text": [
      "The iteration has become stationary after 214 iterations\n",
      "  2.062299 seconds (5.89 k allocations: 1.449 GiB, 9.98% gc time)\n",
      " -------------- Clustering ------- \n",
      "dimension of embedding used for clustering: 100\n",
      "Number of updates: "
     ]
    },
    {
     "name": "stdout",
     "output_type": "stream",
     "text": [
      "8\n",
      "Modularity: 0.38163066035672283\n",
      "Number of communities: 30\n",
      " -------------------------------------------- \n",
      "The first 5 squared singular values divided by N : \n",
      "[0.22014425183066805, 0.21305648813755915, 0.18108221917040782, 0.1281322792698052, 0.09909930594493345]\n",
      " -------------------------------------------- \n",
      "  9.611709 seconds (2.11 M allocations: 3.209 GiB, 5.49% gc time)\n",
      "\n",
      "  ~~~~~ number_rep = 2/3 ~~~~~\n",
      " ------- Acc Projected Power Iteration -------\n"
     ]
    },
    {
     "name": "stdout",
     "output_type": "stream",
     "text": [
      "The iteration has become stationary after 156 iterations\n",
      "  1.708651 seconds (4.32 k allocations: 1.055 GiB, 10.01% gc time)\n",
      " -------------- Clustering ------- \n",
      "dimension of embedding used for clustering: 100\n",
      "Number of updates: "
     ]
    },
    {
     "name": "stdout",
     "output_type": "stream",
     "text": [
      "7\n",
      "Modularity: 0.37628437329511927\n",
      "Number of communities: 30\n",
      " -------------------------------------------- \n",
      "The first 5 squared singular values divided by N : \n",
      "[0.22012018808327052, 0.21271729492057836, 0.18100786829299517, 0.1283078412490688, 0.09850978004078798]\n",
      " -------------------------------------------- \n",
      "  8.817506 seconds (1.94 M allocations: 2.677 GiB, 5.32% gc time)\n",
      "\n",
      "  ~~~~~ number_rep = 3/3 ~~~~~\n",
      " ------- Acc Projected Power Iteration -------\n"
     ]
    },
    {
     "name": "stdout",
     "output_type": "stream",
     "text": [
      "The iteration has become stationary after 329 iterations\n",
      "  3.783599 seconds (8.99 k allocations: 2.231 GiB, 10.53% gc time)\n",
      " -------------- Clustering ------- \n",
      "dimension of embedding used for clustering: 100\n",
      "Number of updates: "
     ]
    },
    {
     "name": "stdout",
     "output_type": "stream",
     "text": [
      "12\n",
      "Modularity: 0.37833179979840653\n",
      "Number of communities: 34\n",
      " -------------------------------------------- \n",
      "The first 5 squared singular values divided by N : \n",
      "[0.22005773487154595, 0.21297242969162464, 0.18113984389153628, 0.1281756258194312, 0.09910293414767322]\n",
      " -------------------------------------------- \n",
      " 11.414679 seconds (2.16 M allocations: 4.030 GiB, 6.36% gc time)\n",
      "\n",
      "========== n_clusters step 6/10 ==========\n",
      "\n",
      "  ~~~~~ number_rep = 1/3 ~~~~~\n",
      " ------- Acc Projected Power Iteration -------\n"
     ]
    },
    {
     "name": "stdout",
     "output_type": "stream",
     "text": [
      "The iteration has become stationary after 214 iterations\n",
      "  2.132942 seconds (5.89 k allocations: 1.449 GiB, 10.06% gc time)\n",
      " -------------- Clustering ------- \n",
      "dimension of embedding used for clustering: 100\n",
      "Number of updates: "
     ]
    },
    {
     "name": "stdout",
     "output_type": "stream",
     "text": [
      "8\n",
      "Modularity: 0.377835122748155\n",
      "Number of communities: 35\n",
      " -------------------------------------------- \n",
      "The first 5 squared singular values divided by N : \n",
      "[0.22008219290437958, 0.21305598668453316, 0.18100973537888645, 0.12817131163273876, 0.09912534165626628]\n",
      " -------------------------------------------- \n",
      " 14.596752 seconds (2.06 M allocations: 3.292 GiB, 4.75% gc time)\n",
      "\n",
      "  ~~~~~ number_rep = 2/3 ~~~~~\n",
      " ------- Acc Projected Power Iteration -------\n"
     ]
    },
    {
     "name": "stdout",
     "output_type": "stream",
     "text": [
      "The iteration has become stationary after 214 iterations\n",
      "  3.306248 seconds (5.89 k allocations: 1.449 GiB, 34.33% gc time)\n",
      " -------------- Clustering ------- \n",
      "dimension of embedding used for clustering: 100\n",
      "Number of updates: "
     ]
    },
    {
     "name": "stdout",
     "output_type": "stream",
     "text": [
      "8\n",
      "Modularity: 0.3775660327421209\n",
      "Number of communities: 33\n",
      " -------------------------------------------- \n",
      "The first 5 squared singular values divided by N : \n",
      "[0.22008090461790913, 0.21302613283178434, 0.18100565503923868, 0.12823510405448682, 0.09913188150148308]\n",
      " -------------------------------------------- \n",
      " 13.760916 seconds (2.11 M allocations: 3.336 GiB, 9.21% gc time)\n",
      "\n",
      "  ~~~~~ number_rep = 3/3 ~~~~~\n",
      " ------- Acc Projected Power Iteration -------\n"
     ]
    },
    {
     "name": "stdout",
     "output_type": "stream",
     "text": [
      "The iteration has become stationary after 330 iterations\n",
      "  3.202630 seconds (9.02 k allocations: 2.238 GiB, 10.24% gc time)\n",
      " -------------- Clustering ------- \n",
      "dimension of embedding used for clustering: 100\n",
      "Number of updates: "
     ]
    },
    {
     "name": "stdout",
     "output_type": "stream",
     "text": [
      "7\n",
      "Modularity: 0.3779779357397382\n",
      "Number of communities: 34\n",
      " -------------------------------------------- \n",
      "The first 5 squared singular values divided by N : \n",
      "[0.2200203340435612, 0.21297954085686419, 0.18113099513973208, 0.12819803992416984, 0.09908249611790772]\n",
      " -------------------------------------------- \n",
      " 11.765275 seconds (1.97 M allocations: 4.000 GiB, 3.67% gc time)\n",
      "\n",
      "========== n_clusters step 7/10 ==========\n",
      "\n",
      "  ~~~~~ number_rep = 1/3 ~~~~~\n",
      " ------- Acc Projected Power Iteration -------\n"
     ]
    },
    {
     "name": "stdout",
     "output_type": "stream",
     "text": [
      "The iteration has become stationary after 214 iterations\n",
      "  2.401333 seconds (5.89 k allocations: 1.449 GiB, 9.06% gc time)\n",
      " -------------- Clustering ------- \n",
      "dimension of embedding used for clustering: 100\n",
      "Number of updates: "
     ]
    },
    {
     "name": "stdout",
     "output_type": "stream",
     "text": [
      "8\n",
      "Modularity: 0.38354258046297374\n",
      "Number of communities: 33\n",
      " -------------------------------------------- \n",
      "The first 5 squared singular values divided by N : \n",
      "[0.22008210837961278, 0.21301127987459811, 0.18112498754202935, 0.1281580378916753, 0.09910947695595884]\n",
      " -------------------------------------------- \n",
      " 18.682781 seconds (2.15 M allocations: 3.520 GiB, 2.68% gc time)\n",
      "\n",
      "  ~~~~~ number_rep = 2/3 ~~~~~\n",
      " ------- Acc Projected Power Iteration -------\n"
     ]
    },
    {
     "name": "stdout",
     "output_type": "stream",
     "text": [
      "The iteration has become stationary after 153 iterations\n",
      "  1.743680 seconds (4.24 k allocations: 1.035 GiB, 10.73% gc time)\n",
      " -------------- Clustering ------- \n",
      "dimension of embedding used for clustering: 100\n",
      "Number of updates: "
     ]
    },
    {
     "name": "stdout",
     "output_type": "stream",
     "text": [
      "8\n",
      "Modularity: 0.3819678672190129\n",
      "Number of communities: 36\n",
      " -------------------------------------------- \n",
      "The first 5 squared singular values divided by N : \n",
      "[0.2200809495636855, 0.21268063913911617, 0.18095839833014954, 0.12825420631023404, 0.09856265766931925]\n",
      " -------------------------------------------- \n",
      " 13.843008 seconds (2.20 M allocations: 3.139 GiB, 3.24% gc time)\n",
      "\n",
      "  ~~~~~ number_rep = 3/3 ~~~~~\n",
      " ------- Acc Projected Power Iteration -------\n"
     ]
    },
    {
     "name": "stdout",
     "output_type": "stream",
     "text": [
      "The iteration has become stationary after 155 iterations\n",
      "  1.515961 seconds (4.29 k allocations: 1.048 GiB, 10.20% gc time)\n",
      " -------------- Clustering ------- \n",
      "dimension of embedding used for clustering: 100\n",
      "Number of updates: "
     ]
    },
    {
     "name": "stdout",
     "output_type": "stream",
     "text": [
      "17\n",
      "Modularity: 0.38184020663316903\n",
      "Number of communities: 38\n",
      " -------------------------------------------- \n",
      "The first 5 squared singular values divided by N : \n",
      "[0.21990576785954763, 0.2127344166522132, 0.18083649464664348, 0.1283631860551146, 0.09873399943647705]\n",
      " -------------------------------------------- \n",
      " 10.348600 seconds (1.76 M allocations: 2.753 GiB, 3.44% gc time)\n",
      "\n",
      "========== n_clusters step 8/10 ==========\n",
      "\n",
      "  ~~~~~ number_rep = 1/3 ~~~~~\n",
      " ------- Acc Projected Power Iteration -------\n"
     ]
    },
    {
     "name": "stdout",
     "output_type": "stream",
     "text": [
      "The iteration has become stationary after 313 iterations\n",
      "  3.663523 seconds (8.56 k allocations: 2.122 GiB, 10.32% gc time)\n",
      " -------------- Clustering ------- \n",
      "dimension of embedding used for clustering: 100\n",
      "Number of updates: "
     ]
    },
    {
     "name": "stdout",
     "output_type": "stream",
     "text": [
      "8\n",
      "Modularity: 0.37986487214140885\n",
      "Number of communities: 38\n",
      " -------------------------------------------- \n",
      "The first 5 squared singular values divided by N : \n",
      "[0.2200294706461811, 0.21292873935808934, 0.18103530293711556, 0.1281537009816773, 0.09908221874237029]\n",
      " -------------------------------------------- \n",
      " 28.471086 seconds (2.14 M allocations: 4.284 GiB, 3.65% gc time)\n",
      "\n",
      "  ~~~~~ number_rep = 2/3 ~~~~~\n",
      " ------- Acc Projected Power Iteration -------\n"
     ]
    },
    {
     "name": "stdout",
     "output_type": "stream",
     "text": [
      "The iteration has become stationary after 267 iterations\n",
      " 10.336769 seconds (7.32 k allocations: 1.810 GiB, 7.16% gc time)\n",
      " -------------- Clustering ------- \n",
      "dimension of embedding used for clustering: 100\n",
      "Number of updates: "
     ]
    },
    {
     "name": "stdout",
     "output_type": "stream",
     "text": [
      "9\n",
      "Modularity: 0.38021767448668187\n",
      "Number of communities: 42\n",
      " -------------------------------------------- \n",
      "The first 5 squared singular values divided by N : \n",
      "[0.2198542794136143, 0.2128603102734011, 0.1809433753805393, 0.12810784827763963, 0.09916689706752801]\n",
      " -------------------------------------------- \n",
      " 25.466334 seconds (2.18 M allocations: 4.010 GiB, 4.25% gc time)\n",
      "\n",
      "  ~~~~~ number_rep = 3/3 ~~~~~\n",
      " ------- Acc Projected Power Iteration -------\n"
     ]
    },
    {
     "name": "stdout",
     "output_type": "stream",
     "text": [
      "The iteration has become stationary after 314 iterations\n",
      "  3.294212 seconds (8.59 k allocations: 2.129 GiB, 9.77% gc time)\n",
      " -------------- Clustering ------- \n",
      "dimension of embedding used for clustering: 100\n",
      "Number of updates: "
     ]
    },
    {
     "name": "stdout",
     "output_type": "stream",
     "text": [
      "7\n",
      "Modularity: 0.38123913891231515\n",
      "Number of communities: 38\n",
      " -------------------------------------------- \n",
      "The first 5 squared singular values divided by N : \n",
      "[0.22003217947158635, 0.21294066091945407, 0.18106030524285974, 0.12816405509329218, 0.09907340762563721]\n",
      " -------------------------------------------- \n",
      " 14.894178 seconds (2.08 M allocations: 4.233 GiB, 4.22% gc time)\n",
      "\n",
      "========== n_clusters step 9/10 ==========\n",
      "\n",
      "  ~~~~~ number_rep = 1/3 ~~~~~\n",
      " ------- Acc Projected Power Iteration -------\n"
     ]
    },
    {
     "name": "stdout",
     "output_type": "stream",
     "text": [
      "The iteration has become stationary after 153 iterations\n",
      "  1.711293 seconds (4.24 k allocations: 1.035 GiB, 10.80% gc time)\n",
      " -------------- Clustering ------- \n",
      "dimension of embedding used for clustering: 100\n",
      "Number of updates: "
     ]
    },
    {
     "name": "stdout",
     "output_type": "stream",
     "text": [
      "13\n",
      "Modularity: 0.3805052943174449\n",
      "Number of communities: 43\n",
      " -------------------------------------------- \n",
      "The first 5 squared singular values divided by N : \n",
      "[0.2200097058703503, 0.21268459922282443, 0.1810798336255953, 0.1283394749592649, 0.09857125281753987]\n",
      " -------------------------------------------- \n",
      " 16.050155 seconds (2.04 M allocations: 3.211 GiB, 3.28% gc time)\n",
      "\n",
      "  ~~~~~ number_rep = 2/3 ~~~~~\n",
      " ------- Acc Projected Power Iteration -------\n"
     ]
    },
    {
     "name": "stdout",
     "output_type": "stream",
     "text": [
      "The iteration has become stationary after 214 iterations\n",
      "  3.354137 seconds (5.89 k allocations: 1.449 GiB, 8.05% gc time)\n",
      " -------------- Clustering ------- \n",
      "dimension of embedding used for clustering: 100\n",
      "Number of updates: "
     ]
    },
    {
     "name": "stdout",
     "output_type": "stream",
     "text": [
      "8\n",
      "Modularity: 0.381600669043294\n",
      "Number of communities: 39\n",
      " -------------------------------------------- \n",
      "The first 5 squared singular values divided by N : \n",
      "[0.22011295615660706, 0.21300937647795548, 0.1810537876912873, 0.12813311428299393, 0.09917589070987579]\n",
      " -------------------------------------------- \n",
      " 17.160248 seconds (2.13 M allocations: 3.715 GiB, 3.62% gc time)\n",
      "\n",
      "  ~~~~~ number_rep = 3/3 ~~~~~\n",
      " ------- Acc Projected Power Iteration -------\n"
     ]
    },
    {
     "name": "stdout",
     "output_type": "stream",
     "text": [
      "The iteration has become stationary after 152 iterations\n",
      "  1.723176 seconds (4.21 k allocations: 1.028 GiB, 9.52% gc time)\n",
      " -------------- Clustering ------- \n",
      "dimension of embedding used for clustering: 100\n",
      "Number of updates: "
     ]
    },
    {
     "name": "stdout",
     "output_type": "stream",
     "text": [
      "9\n",
      "Modularity: 0.38274552212134616\n",
      "Number of communities: 41\n",
      " -------------------------------------------- \n",
      "The first 5 squared singular values divided by N : \n",
      "[0.22010524549525926, 0.21277512140399063, 0.18099707373156007, 0.12831931416203357, 0.09852325688831957]\n",
      " -------------------------------------------- \n",
      " 14.483581 seconds (2.00 M allocations: 3.159 GiB, 3.38% gc time)\n",
      "\n",
      "========== n_clusters step 10/10 ==========\n",
      "\n",
      "  ~~~~~ number_rep = 1/3 ~~~~~\n",
      " ------- Acc Projected Power Iteration -------\n"
     ]
    },
    {
     "name": "stdout",
     "output_type": "stream",
     "text": [
      "The iteration has become stationary after 313 iterations\n",
      "  3.158620 seconds (8.56 k allocations: 2.122 GiB, 9.79% gc time)\n",
      " -------------- Clustering ------- \n",
      "dimension of embedding used for clustering: 100\n",
      "Number of updates: "
     ]
    },
    {
     "name": "stdout",
     "output_type": "stream",
     "text": [
      "8\n",
      "Modularity: 0.38153499747182634\n",
      "Number of communities: 41\n",
      " -------------------------------------------- \n",
      "The first 5 squared singular values divided by N : \n",
      "[0.22000911584538177, 0.21292658392468802, 0.18106769441834927, 0.1281299090031975, 0.09910176784841467]\n",
      " -------------------------------------------- \n",
      " 19.723585 seconds (2.24 M allocations: 4.621 GiB, 3.60% gc time)\n",
      "\n",
      "  ~~~~~ number_rep = 2/3 ~~~~~\n",
      " ------- Acc Projected Power Iteration -------\n"
     ]
    },
    {
     "name": "stdout",
     "output_type": "stream",
     "text": [
      "The iteration has become stationary after 267 iterations\n",
      "  2.796525 seconds (7.32 k allocations: 1.810 GiB, 10.27% gc time)\n",
      " -------------- Clustering ------- \n",
      "dimension of embedding used for clustering: 100\n",
      "Number of updates: "
     ]
    },
    {
     "name": "stdout",
     "output_type": "stream",
     "text": [
      "7\n",
      "Modularity: 0.38052566333073257\n",
      "Number of communities: 39\n",
      " -------------------------------------------- \n",
      "The first 5 squared singular values divided by N : \n",
      "[0.21986345436497506, 0.21287582771786376, 0.18096446282240125, 0.12816021551122703, 0.09912225355167993]\n",
      " -------------------------------------------- \n",
      " 18.072005 seconds (1.98 M allocations: 4.036 GiB, 3.72% gc time)\n",
      "\n",
      "  ~~~~~ number_rep = 3/3 ~~~~~\n",
      " ------- Acc Projected Power Iteration -------\n"
     ]
    },
    {
     "name": "stdout",
     "output_type": "stream",
     "text": [
      "The iteration has become stationary after 267 iterations\n",
      "  2.695865 seconds (7.32 k allocations: 1.810 GiB, 10.40% gc time)\n",
      " -------------- Clustering ------- \n",
      "dimension of embedding used for clustering: 100\n",
      "Number of updates: "
     ]
    },
    {
     "name": "stdout",
     "output_type": "stream",
     "text": [
      "8\n",
      "Modularity: 0.37832469802258556\n",
      "Number of communities: 41\n",
      " -------------------------------------------- \n",
      "The first 5 squared singular values divided by N : \n",
      "[0.21986785829236527, 0.21287277612507305, 0.18091030186999044, 0.12811479241759044, 0.09917385497658986]\n",
      " -------------------------------------------- \n",
      " 16.941749 seconds (2.04 M allocations: 4.106 GiB, 3.76% gc time)\n"
     ]
    }
   ],
   "source": [
    "g = 4\n",
    "\n",
    "# Set parameters of simulations\n",
    "n_it_PPM = 30000;\n",
    "t = 1e-10;\n",
    "n_clusters_list = 10:10:100;\n",
    "d0 = 100;\n",
    "\n",
    "# Specify here the number of times vector partition is repeated\n",
    "n_it_Vec_Partition = 100;\n",
    "# we advise : n_it_Vec_Partition = 100;\n",
    "\n",
    "n_updates = 100; # max total by default\n",
    "shape = \"Ellipsoidal\"; #shape = \"Spherical\"\n",
    "\n",
    "n_rep = 3;\n",
    "NMIs=zeros(Float64,length(n_clusters_list),n_rep)\n",
    "\n",
    "# load communities\n",
    "community_true = readdlm(path*\"communities\"*string(g-1)*\".txt\",Int)\n",
    "\n",
    "# load graph\n",
    "edgeList = readdlm(path*\"edgeList\"*string(g-1)*\".txt\",Int)\n",
    "\n",
    "n_nodes = size(community_true)[1]\n",
    "n_edges = size(edgeList)[1]\n",
    "\n",
    "# construct sparse adjacency matrix from list of edges\n",
    "adj = sparse(edgeList[:,1].+1,edgeList[:,2].+1,vec(ones(Int64,n_edges,1)),n_nodes,n_nodes)\n",
    "adj = adj+adj' # only the upper triangular part of adjacency matrix was stored\n",
    "\n",
    "# keep only the largest connected component\n",
    "adj,vertices = largest_component(adj);\n",
    "\n",
    "community_true = community_true[vertices]\n",
    "community_true = rename_com_unique(community_true)\n",
    "\n",
    "# load parameters\n",
    "LFR_parameters = readdlm(path*\"parameters\"*string(g-1)*\".txt\")\n",
    "mu = parse(Float64, split(LFR_parameters[4],\"=\")[2]) # extract mixing marameter (not very robust)\n",
    "print(\"mu=$mu\")\n",
    "\n",
    "for i=1:length(n_clusters_list)\n",
    "    println(\"\\n========== n_clusters step $i/$(length(n_clusters_list)) ==========\")\n",
    "    n_clusters = n_clusters_list[i]\n",
    "    for j=1:n_rep\n",
    "        println(\"\\n  ~~~~~ number_rep = $j/$(n_rep) ~~~~~\")\n",
    "\n",
    "        # embed cluster\n",
    "        _,community,_ = @time sphere_embed_cluster(adj, d0,shape, n_clusters)\n",
    "\n",
    "        NMIs[i,j] = mutualinfo(community_true,community);\n",
    "    end\n",
    "end\n",
    "\n",
    "\n"
   ]
  },
  {
   "cell_type": "code",
   "execution_count": 7,
   "metadata": {},
   "outputs": [
    {
     "data": {
      "image/png": "[encoded data removed]",
      "image/svg+xml": [
       "<?xml version=\"1.0\" encoding=\"utf-8\"?>\n",
       "<svg xmlns=\"http://www.w3.org/2000/svg\" xmlns:xlink=\"http://www.w3.org/1999/xlink\" width=\"600\" height=\"400\" viewBox=\"0 0 2400 1600\">\n",
       "<defs>\n",
       "  <clipPath id=\"clip320\">\n",
       "    <rect x=\"0\" y=\"0\" width=\"2400\" height=\"1600\"/>\n",
       "  </clipPath>\n",
       "</defs>\n",
       "<path clip-path=\"url(#clip320)\" d=\"\n",
       "M0 1600 L2400 1600 L2400 0 L0 0  Z\n",
       "  \" fill=\"#ffffff\" fill-rule=\"evenodd\" fill-opacity=\"1\"/>\n",
       "<defs>\n",
       "  <clipPath id=\"clip321\">\n",
       "    <rect x=\"480\" y=\"0\" width=\"1681\" height=\"1600\"/>\n",
       "  </clipPath>\n",
       "</defs>\n",
       "<defs>\n",
       "  <clipPath id=\"clip322\">\n",
       "    <rect x=\"249\" y=\"47\" width=\"2104\" height=\"1377\"/>\n",
       "  </clipPath>\n",
       "</defs>\n",
       "<path clip-path=\"url(#clip320)\" d=\"\n",
       "M249.542 1423.18 L2352.76 1423.18 L2352.76 47.2441 L249.542 47.2441  Z\n",
       "  \" fill=\"#ffffff\" fill-rule=\"evenodd\" fill-opacity=\"1\"/>\n",
       "<polyline clip-path=\"url(#clip322)\" style=\"stroke:#000000; stroke-linecap:butt; stroke-linejoin:round; stroke-width:2; stroke-opacity:0.1; fill:none\" points=\"\n",
       "  529.53,1423.18 529.53,47.2441 \n",
       "  \"/>\n",
       "<polyline clip-path=\"url(#clip322)\" style=\"stroke:#000000; stroke-linecap:butt; stroke-linejoin:round; stroke-width:2; stroke-opacity:0.1; fill:none\" points=\"\n",
       "  970.455,1423.18 970.455,47.2441 \n",
       "  \"/>\n",
       "<polyline clip-path=\"url(#clip322)\" style=\"stroke:#000000; stroke-linecap:butt; stroke-linejoin:round; stroke-width:2; stroke-opacity:0.1; fill:none\" points=\"\n",
       "  1411.38,1423.18 1411.38,47.2441 \n",
       "  \"/>\n",
       "<polyline clip-path=\"url(#clip322)\" style=\"stroke:#000000; stroke-linecap:butt; stroke-linejoin:round; stroke-width:2; stroke-opacity:0.1; fill:none\" points=\"\n",
       "  1852.31,1423.18 1852.31,47.2441 \n",
       "  \"/>\n",
       "<polyline clip-path=\"url(#clip322)\" style=\"stroke:#000000; stroke-linecap:butt; stroke-linejoin:round; stroke-width:2; stroke-opacity:0.1; fill:none\" points=\"\n",
       "  2293.23,1423.18 2293.23,47.2441 \n",
       "  \"/>\n",
       "<polyline clip-path=\"url(#clip320)\" style=\"stroke:#000000; stroke-linecap:butt; stroke-linejoin:round; stroke-width:4; stroke-opacity:1; fill:none\" points=\"\n",
       "  249.542,1423.18 2352.76,1423.18 \n",
       "  \"/>\n",
       "<polyline clip-path=\"url(#clip320)\" style=\"stroke:#000000; stroke-linecap:butt; stroke-linejoin:round; stroke-width:4; stroke-opacity:1; fill:none\" points=\"\n",
       "  529.53,1423.18 529.53,1404.28 \n",
       "  \"/>\n",
       "<polyline clip-path=\"url(#clip320)\" style=\"stroke:#000000; stroke-linecap:butt; stroke-linejoin:round; stroke-width:4; stroke-opacity:1; fill:none\" points=\"\n",
       "  970.455,1423.18 970.455,1404.28 \n",
       "  \"/>\n",
       "<polyline clip-path=\"url(#clip320)\" style=\"stroke:#000000; stroke-linecap:butt; stroke-linejoin:round; stroke-width:4; stroke-opacity:1; fill:none\" points=\"\n",
       "  1411.38,1423.18 1411.38,1404.28 \n",
       "  \"/>\n",
       "<polyline clip-path=\"url(#clip320)\" style=\"stroke:#000000; stroke-linecap:butt; stroke-linejoin:round; stroke-width:4; stroke-opacity:1; fill:none\" points=\"\n",
       "  1852.31,1423.18 1852.31,1404.28 \n",
       "  \"/>\n",
       "<polyline clip-path=\"url(#clip320)\" style=\"stroke:#000000; stroke-linecap:butt; stroke-linejoin:round; stroke-width:4; stroke-opacity:1; fill:none\" points=\"\n",
       "  2293.23,1423.18 2293.23,1404.28 \n",
       "  \"/>\n",
       "<path clip-path=\"url(#clip320)\" d=\"M508.303 1481.64 L524.622 1481.64 L524.622 1485.58 L502.678 1485.58 L502.678 1481.64 Q505.34 1478.89 509.923 1474.26 Q514.53 1469.61 515.71 1468.27 Q517.956 1465.74 518.835 1464.01 Q519.738 1462.25 519.738 1460.56 Q519.738 1457.8 517.794 1456.07 Q515.872 1454.33 512.77 1454.33 Q510.571 1454.33 508.118 1455.09 Q505.687 1455.86 502.909 1457.41 L502.909 1452.69 Q505.733 1451.55 508.187 1450.97 Q510.641 1450.39 512.678 1450.39 Q518.048 1450.39 521.243 1453.08 Q524.437 1455.77 524.437 1460.26 Q524.437 1462.39 523.627 1464.31 Q522.84 1466.2 520.733 1468.8 Q520.155 1469.47 517.053 1472.69 Q513.951 1475.88 508.303 1481.64 Z\" fill=\"#000000\" fill-rule=\"evenodd\" fill-opacity=\"1\" /><path clip-path=\"url(#clip320)\" d=\"M544.437 1454.1 Q540.826 1454.1 538.997 1457.66 Q537.192 1461.2 537.192 1468.33 Q537.192 1475.44 538.997 1479.01 Q540.826 1482.55 544.437 1482.55 Q548.071 1482.55 549.877 1479.01 Q551.705 1475.44 551.705 1468.33 Q551.705 1461.2 549.877 1457.66 Q548.071 1454.1 544.437 1454.1 M544.437 1450.39 Q550.247 1450.39 553.303 1455 Q556.381 1459.58 556.381 1468.33 Q556.381 1477.06 553.303 1481.67 Q550.247 1486.25 544.437 1486.25 Q538.627 1486.25 535.548 1481.67 Q532.493 1477.06 532.493 1468.33 Q532.493 1459.58 535.548 1455 Q538.627 1450.39 544.437 1450.39 Z\" fill=\"#000000\" fill-rule=\"evenodd\" fill-opacity=\"1\" /><path clip-path=\"url(#clip320)\" d=\"M958.626 1455.09 L946.821 1473.54 L958.626 1473.54 L958.626 1455.09 M957.399 1451.02 L963.279 1451.02 L963.279 1473.54 L968.21 1473.54 L968.21 1477.43 L963.279 1477.43 L963.279 1485.58 L958.626 1485.58 L958.626 1477.43 L943.025 1477.43 L943.025 1472.92 L957.399 1451.02 Z\" fill=\"#000000\" fill-rule=\"evenodd\" fill-opacity=\"1\" /><path clip-path=\"url(#clip320)\" d=\"M985.941 1454.1 Q982.33 1454.1 980.501 1457.66 Q978.696 1461.2 978.696 1468.33 Q978.696 1475.44 980.501 1479.01 Q982.33 1482.55 985.941 1482.55 Q989.575 1482.55 991.381 1479.01 Q993.209 1475.44 993.209 1468.33 Q993.209 1461.2 991.381 1457.66 Q989.575 1454.1 985.941 1454.1 M985.941 1450.39 Q991.751 1450.39 994.807 1455 Q997.885 1459.58 997.885 1468.33 Q997.885 1477.06 994.807 1481.67 Q991.751 1486.25 985.941 1486.25 Q980.131 1486.25 977.052 1481.67 Q973.997 1477.06 973.997 1468.33 Q973.997 1459.58 977.052 1455 Q980.131 1450.39 985.941 1450.39 Z\" fill=\"#000000\" fill-rule=\"evenodd\" fill-opacity=\"1\" /><path clip-path=\"url(#clip320)\" d=\"M1396.79 1466.44 Q1393.64 1466.44 1391.79 1468.59 Q1389.96 1470.74 1389.96 1474.49 Q1389.96 1478.22 1391.79 1480.39 Q1393.64 1482.55 1396.79 1482.55 Q1399.93 1482.55 1401.76 1480.39 Q1403.61 1478.22 1403.61 1474.49 Q1403.61 1470.74 1401.76 1468.59 Q1399.93 1466.44 1396.79 1466.44 M1406.07 1451.78 L1406.07 1456.04 Q1404.31 1455.21 1402.5 1454.77 Q1400.72 1454.33 1398.96 1454.33 Q1394.33 1454.33 1391.88 1457.45 Q1389.45 1460.58 1389.1 1466.9 Q1390.47 1464.89 1392.53 1463.82 Q1394.59 1462.73 1397.06 1462.73 Q1402.27 1462.73 1405.28 1465.9 Q1408.31 1469.05 1408.31 1474.49 Q1408.31 1479.82 1405.17 1483.03 Q1402.02 1486.25 1396.79 1486.25 Q1390.79 1486.25 1387.62 1481.67 Q1384.45 1477.06 1384.45 1468.33 Q1384.45 1460.14 1388.34 1455.28 Q1392.23 1450.39 1398.78 1450.39 Q1400.54 1450.39 1402.32 1450.74 Q1404.12 1451.09 1406.07 1451.78 Z\" fill=\"#000000\" fill-rule=\"evenodd\" fill-opacity=\"1\" /><path clip-path=\"url(#clip320)\" d=\"M1426.37 1454.1 Q1422.76 1454.1 1420.93 1457.66 Q1419.12 1461.2 1419.12 1468.33 Q1419.12 1475.44 1420.93 1479.01 Q1422.76 1482.55 1426.37 1482.55 Q1430 1482.55 1431.81 1479.01 Q1433.64 1475.44 1433.64 1468.33 Q1433.64 1461.2 1431.81 1457.66 Q1430 1454.1 1426.37 1454.1 M1426.37 1450.39 Q1432.18 1450.39 1435.23 1455 Q1438.31 1459.58 1438.31 1468.33 Q1438.31 1477.06 1435.23 1481.67 Q1432.18 1486.25 1426.37 1486.25 Q1420.56 1486.25 1417.48 1481.67 Q1414.42 1477.06 1414.42 1468.33 Q1414.42 1459.58 1417.48 1455 Q1420.56 1450.39 1426.37 1450.39 Z\" fill=\"#000000\" fill-rule=\"evenodd\" fill-opacity=\"1\" /><path clip-path=\"url(#clip320)\" d=\"M1837.18 1469.17 Q1833.85 1469.17 1831.92 1470.95 Q1830.03 1472.73 1830.03 1475.86 Q1830.03 1478.98 1831.92 1480.77 Q1833.85 1482.55 1837.18 1482.55 Q1840.51 1482.55 1842.43 1480.77 Q1844.35 1478.96 1844.35 1475.86 Q1844.35 1472.73 1842.43 1470.95 Q1840.53 1469.17 1837.18 1469.17 M1832.5 1467.18 Q1829.49 1466.44 1827.8 1464.38 Q1826.14 1462.32 1826.14 1459.35 Q1826.14 1455.21 1829.08 1452.8 Q1832.04 1450.39 1837.18 1450.39 Q1842.34 1450.39 1845.28 1452.8 Q1848.22 1455.21 1848.22 1459.35 Q1848.22 1462.32 1846.53 1464.38 Q1844.86 1466.44 1841.88 1467.18 Q1845.26 1467.96 1847.13 1470.26 Q1849.03 1472.55 1849.03 1475.86 Q1849.03 1480.88 1845.95 1483.57 Q1842.9 1486.25 1837.18 1486.25 Q1831.46 1486.25 1828.38 1483.57 Q1825.33 1480.88 1825.33 1475.86 Q1825.33 1472.55 1827.22 1470.26 Q1829.12 1467.96 1832.5 1467.18 M1830.79 1459.79 Q1830.79 1462.48 1832.46 1463.98 Q1834.15 1465.49 1837.18 1465.49 Q1840.19 1465.49 1841.88 1463.98 Q1843.59 1462.48 1843.59 1459.79 Q1843.59 1457.11 1841.88 1455.6 Q1840.19 1454.1 1837.18 1454.1 Q1834.15 1454.1 1832.46 1455.6 Q1830.79 1457.11 1830.79 1459.79 Z\" fill=\"#000000\" fill-rule=\"evenodd\" fill-opacity=\"1\" /><path clip-path=\"url(#clip320)\" d=\"M1867.34 1454.1 Q1863.73 1454.1 1861.9 1457.66 Q1860.09 1461.2 1860.09 1468.33 Q1860.09 1475.44 1861.9 1479.01 Q1863.73 1482.55 1867.34 1482.55 Q1870.97 1482.55 1872.78 1479.01 Q1874.61 1475.44 1874.61 1468.33 Q1874.61 1461.2 1872.78 1457.66 Q1870.97 1454.1 1867.34 1454.1 M1867.34 1450.39 Q1873.15 1450.39 1876.21 1455 Q1879.28 1459.58 1879.28 1468.33 Q1879.28 1477.06 1876.21 1481.67 Q1873.15 1486.25 1867.34 1486.25 Q1861.53 1486.25 1858.45 1481.67 Q1855.4 1477.06 1855.4 1468.33 Q1855.4 1459.58 1858.45 1455 Q1861.53 1450.39 1867.34 1450.39 Z\" fill=\"#000000\" fill-rule=\"evenodd\" fill-opacity=\"1\" /><path clip-path=\"url(#clip320)\" d=\"M2252.84 1481.64 L2260.48 1481.64 L2260.48 1455.28 L2252.17 1456.95 L2252.17 1452.69 L2260.43 1451.02 L2265.11 1451.02 L2265.11 1481.64 L2272.74 1481.64 L2272.74 1485.58 L2252.84 1485.58 L2252.84 1481.64 Z\" fill=\"#000000\" fill-rule=\"evenodd\" fill-opacity=\"1\" /><path clip-path=\"url(#clip320)\" d=\"M2292.19 1454.1 Q2288.58 1454.1 2286.75 1457.66 Q2284.94 1461.2 2284.94 1468.33 Q2284.94 1475.44 2286.75 1479.01 Q2288.58 1482.55 2292.19 1482.55 Q2295.82 1482.55 2297.63 1479.01 Q2299.46 1475.44 2299.46 1468.33 Q2299.46 1461.2 2297.63 1457.66 Q2295.82 1454.1 2292.19 1454.1 M2292.19 1450.39 Q2298 1450.39 2301.06 1455 Q2304.13 1459.58 2304.13 1468.33 Q2304.13 1477.06 2301.06 1481.67 Q2298 1486.25 2292.19 1486.25 Q2286.38 1486.25 2283.3 1481.67 Q2280.24 1477.06 2280.24 1468.33 Q2280.24 1459.58 2283.3 1455 Q2286.38 1450.39 2292.19 1450.39 Z\" fill=\"#000000\" fill-rule=\"evenodd\" fill-opacity=\"1\" /><path clip-path=\"url(#clip320)\" d=\"M2322.35 1454.1 Q2318.74 1454.1 2316.91 1457.66 Q2315.11 1461.2 2315.11 1468.33 Q2315.11 1475.44 2316.91 1479.01 Q2318.74 1482.55 2322.35 1482.55 Q2325.99 1482.55 2327.79 1479.01 Q2329.62 1475.44 2329.62 1468.33 Q2329.62 1461.2 2327.79 1457.66 Q2325.99 1454.1 2322.35 1454.1 M2322.35 1450.39 Q2328.16 1450.39 2331.22 1455 Q2334.3 1459.58 2334.3 1468.33 Q2334.3 1477.06 2331.22 1481.67 Q2328.16 1486.25 2322.35 1486.25 Q2316.54 1486.25 2313.46 1481.67 Q2310.41 1477.06 2310.41 1468.33 Q2310.41 1459.58 2313.46 1455 Q2316.54 1450.39 2322.35 1450.39 Z\" fill=\"#000000\" fill-rule=\"evenodd\" fill-opacity=\"1\" /><path clip-path=\"url(#clip320)\" d=\"M1313.99 1553.47 Q1313.99 1555.3 1312.86 1556.4 Q1311.76 1557.49 1310.38 1557.49 Q1309.16 1557.49 1308.51 1556.79 Q1307.87 1556.08 1307.87 1555.18 Q1307.87 1554.79 1308.03 1554.31 Q1308.19 1553.79 1308.54 1553.18 Q1308.93 1552.57 1309.73 1552.12 Q1310.54 1551.67 1311.63 1551.6 Q1311.41 1551.38 1311.35 1551.34 Q1310.86 1550.96 1309.96 1550.83 Q1309.83 1550.76 1309.38 1550.76 Q1307.16 1550.76 1304.9 1552.41 Q1302.68 1554.02 1299.94 1557.08 Q1296.5 1560.65 1294.28 1561.97 Q1304.03 1563.26 1304.03 1568.9 Q1304.03 1569.83 1303.78 1570.96 Q1303.26 1573.08 1303.26 1574.63 Q1303.26 1577.72 1305.35 1577.72 Q1307.38 1577.72 1308.67 1575.66 Q1309.99 1573.6 1311.09 1569.57 Q1311.25 1568.83 1311.41 1568.61 Q1311.57 1568.38 1312.02 1568.38 Q1312.83 1568.38 1312.83 1569.02 Q1312.09 1572.79 1310.44 1575.69 Q1308.35 1579.2 1305.23 1579.2 Q1302.62 1579.2 1300.88 1577.4 Q1299.17 1575.56 1299.17 1572.66 Q1299.17 1571.96 1299.43 1570.34 Q1299.62 1569.7 1299.62 1568.96 Q1299.62 1567.45 1298.78 1566.32 Q1297.95 1565.16 1296.59 1564.58 Q1295.24 1564 1294.11 1563.74 Q1293.02 1563.45 1291.96 1563.36 Q1288.74 1576.98 1288.29 1577.82 Q1288 1578.4 1287.35 1578.78 Q1286.71 1579.2 1286.03 1579.2 Q1285.39 1579.2 1284.74 1578.75 Q1284.13 1578.33 1284.13 1577.33 Q1284.13 1576.82 1284.39 1575.88 L1293.95 1537.88 L1294.15 1536.59 Q1294.15 1536.21 1293.99 1536.01 Q1293.86 1535.79 1293.08 1535.63 Q1292.34 1535.47 1290.86 1535.47 Q1290.25 1535.47 1289.96 1535.43 Q1289.7 1535.4 1289.48 1535.24 Q1289.25 1535.05 1289.25 1534.66 Q1289.25 1534.11 1289.48 1533.82 Q1289.73 1533.5 1289.93 1533.44 Q1290.12 1533.37 1290.51 1533.34 Q1291.06 1533.31 1292.89 1533.15 Q1294.73 1532.95 1296.3 1532.83 Q1297.88 1532.7 1298.56 1532.7 Q1298.95 1532.7 1299.14 1532.89 Q1299.36 1533.05 1299.4 1533.24 L1299.43 1533.4 L1292.57 1561.23 Q1295.4 1560.1 1299.88 1555.11 Q1305.06 1549.31 1309.51 1549.31 Q1311.6 1549.31 1312.79 1550.6 Q1313.99 1551.86 1313.99 1553.47 Z\" fill=\"#000000\" fill-rule=\"evenodd\" fill-opacity=\"1\" /><polyline clip-path=\"url(#clip322)\" style=\"stroke:#000000; stroke-linecap:butt; stroke-linejoin:round; stroke-width:2; stroke-opacity:0.1; fill:none\" points=\"\n",
       "  249.542,1248.91 2352.76,1248.91 \n",
       "  \"/>\n",
       "<polyline clip-path=\"url(#clip322)\" style=\"stroke:#000000; stroke-linecap:butt; stroke-linejoin:round; stroke-width:2; stroke-opacity:0.1; fill:none\" points=\"\n",
       "  249.542,1028.84 2352.76,1028.84 \n",
       "  \"/>\n",
       "<polyline clip-path=\"url(#clip322)\" style=\"stroke:#000000; stroke-linecap:butt; stroke-linejoin:round; stroke-width:2; stroke-opacity:0.1; fill:none\" points=\"\n",
       "  249.542,808.774 2352.76,808.774 \n",
       "  \"/>\n",
       "<polyline clip-path=\"url(#clip322)\" style=\"stroke:#000000; stroke-linecap:butt; stroke-linejoin:round; stroke-width:2; stroke-opacity:0.1; fill:none\" points=\"\n",
       "  249.542,588.707 2352.76,588.707 \n",
       "  \"/>\n",
       "<polyline clip-path=\"url(#clip322)\" style=\"stroke:#000000; stroke-linecap:butt; stroke-linejoin:round; stroke-width:2; stroke-opacity:0.1; fill:none\" points=\"\n",
       "  249.542,368.64 2352.76,368.64 \n",
       "  \"/>\n",
       "<polyline clip-path=\"url(#clip322)\" style=\"stroke:#000000; stroke-linecap:butt; stroke-linejoin:round; stroke-width:2; stroke-opacity:0.1; fill:none\" points=\"\n",
       "  249.542,148.573 2352.76,148.573 \n",
       "  \"/>\n",
       "<polyline clip-path=\"url(#clip320)\" style=\"stroke:#000000; stroke-linecap:butt; stroke-linejoin:round; stroke-width:4; stroke-opacity:1; fill:none\" points=\"\n",
       "  249.542,1423.18 249.542,47.2441 \n",
       "  \"/>\n",
       "<polyline clip-path=\"url(#clip320)\" style=\"stroke:#000000; stroke-linecap:butt; stroke-linejoin:round; stroke-width:4; stroke-opacity:1; fill:none\" points=\"\n",
       "  249.542,1248.91 268.44,1248.91 \n",
       "  \"/>\n",
       "<polyline clip-path=\"url(#clip320)\" style=\"stroke:#000000; stroke-linecap:butt; stroke-linejoin:round; stroke-width:4; stroke-opacity:1; fill:none\" points=\"\n",
       "  249.542,1028.84 268.44,1028.84 \n",
       "  \"/>\n",
       "<polyline clip-path=\"url(#clip320)\" style=\"stroke:#000000; stroke-linecap:butt; stroke-linejoin:round; stroke-width:4; stroke-opacity:1; fill:none\" points=\"\n",
       "  249.542,808.774 268.44,808.774 \n",
       "  \"/>\n",
       "<polyline clip-path=\"url(#clip320)\" style=\"stroke:#000000; stroke-linecap:butt; stroke-linejoin:round; stroke-width:4; stroke-opacity:1; fill:none\" points=\"\n",
       "  249.542,588.707 268.44,588.707 \n",
       "  \"/>\n",
       "<polyline clip-path=\"url(#clip320)\" style=\"stroke:#000000; stroke-linecap:butt; stroke-linejoin:round; stroke-width:4; stroke-opacity:1; fill:none\" points=\"\n",
       "  249.542,368.64 268.44,368.64 \n",
       "  \"/>\n",
       "<polyline clip-path=\"url(#clip320)\" style=\"stroke:#000000; stroke-linecap:butt; stroke-linejoin:round; stroke-width:4; stroke-opacity:1; fill:none\" points=\"\n",
       "  249.542,148.573 268.44,148.573 \n",
       "  \"/>\n",
       "<path clip-path=\"url(#clip320)\" d=\"M127.2 1234.71 Q123.589 1234.71 121.76 1238.27 Q119.955 1241.81 119.955 1248.94 Q119.955 1256.05 121.76 1259.61 Q123.589 1263.16 127.2 1263.16 Q130.834 1263.16 132.64 1259.61 Q134.468 1256.05 134.468 1248.94 Q134.468 1241.81 132.64 1238.27 Q130.834 1234.71 127.2 1234.71 M127.2 1231 Q133.01 1231 136.066 1235.61 Q139.144 1240.19 139.144 1248.94 Q139.144 1257.67 136.066 1262.28 Q133.01 1266.86 127.2 1266.86 Q121.39 1266.86 118.311 1262.28 Q115.256 1257.67 115.256 1248.94 Q115.256 1240.19 118.311 1235.61 Q121.39 1231 127.2 1231 Z\" fill=\"#000000\" fill-rule=\"evenodd\" fill-opacity=\"1\" /><path clip-path=\"url(#clip320)\" d=\"M147.362 1260.31 L152.246 1260.31 L152.246 1266.19 L147.362 1266.19 L147.362 1260.31 Z\" fill=\"#000000\" fill-rule=\"evenodd\" fill-opacity=\"1\" /><path clip-path=\"url(#clip320)\" d=\"M173.01 1247.04 Q169.862 1247.04 168.01 1249.2 Q166.181 1251.35 166.181 1255.1 Q166.181 1258.83 168.01 1261 Q169.862 1263.16 173.01 1263.16 Q176.158 1263.16 177.987 1261 Q179.839 1258.83 179.839 1255.1 Q179.839 1251.35 177.987 1249.2 Q176.158 1247.04 173.01 1247.04 M182.292 1232.39 L182.292 1236.65 Q180.533 1235.82 178.727 1235.38 Q176.945 1234.94 175.186 1234.94 Q170.556 1234.94 168.102 1238.06 Q165.672 1241.19 165.325 1247.51 Q166.69 1245.49 168.751 1244.43 Q170.811 1243.34 173.288 1243.34 Q178.496 1243.34 181.505 1246.51 Q184.538 1249.66 184.538 1255.1 Q184.538 1260.42 181.389 1263.64 Q178.241 1266.86 173.01 1266.86 Q167.015 1266.86 163.843 1262.28 Q160.672 1257.67 160.672 1248.94 Q160.672 1240.75 164.561 1235.89 Q168.45 1231 175.001 1231 Q176.76 1231 178.542 1231.35 Q180.348 1231.7 182.292 1232.39 Z\" fill=\"#000000\" fill-rule=\"evenodd\" fill-opacity=\"1\" /><path clip-path=\"url(#clip320)\" d=\"M192.639 1231.63 L210.996 1231.63 L210.996 1235.56 L196.922 1235.56 L196.922 1244.04 Q197.94 1243.69 198.959 1243.53 Q199.977 1243.34 200.996 1243.34 Q206.783 1243.34 210.162 1246.51 Q213.542 1249.68 213.542 1255.1 Q213.542 1260.68 210.07 1263.78 Q206.598 1266.86 200.278 1266.86 Q198.102 1266.86 195.834 1266.49 Q193.588 1266.12 191.181 1265.38 L191.181 1260.68 Q193.264 1261.81 195.487 1262.37 Q197.709 1262.92 200.186 1262.92 Q204.19 1262.92 206.528 1260.82 Q208.866 1258.71 208.866 1255.1 Q208.866 1251.49 206.528 1249.38 Q204.19 1247.28 200.186 1247.28 Q198.311 1247.28 196.436 1247.69 Q194.584 1248.11 192.639 1248.99 L192.639 1231.63 Z\" fill=\"#000000\" fill-rule=\"evenodd\" fill-opacity=\"1\" /><path clip-path=\"url(#clip320)\" d=\"M126.205 1014.64 Q122.593 1014.64 120.765 1018.2 Q118.959 1021.75 118.959 1028.88 Q118.959 1035.98 120.765 1039.55 Q122.593 1043.09 126.205 1043.09 Q129.839 1043.09 131.644 1039.55 Q133.473 1035.98 133.473 1028.88 Q133.473 1021.75 131.644 1018.2 Q129.839 1014.64 126.205 1014.64 M126.205 1010.94 Q132.015 1010.94 135.07 1015.54 Q138.149 1020.13 138.149 1028.88 Q138.149 1037.6 135.07 1042.21 Q132.015 1046.79 126.205 1046.79 Q120.394 1046.79 117.316 1042.21 Q114.26 1037.6 114.26 1028.88 Q114.26 1020.13 117.316 1015.54 Q120.394 1010.94 126.205 1010.94 Z\" fill=\"#000000\" fill-rule=\"evenodd\" fill-opacity=\"1\" /><path clip-path=\"url(#clip320)\" d=\"M146.366 1040.24 L151.251 1040.24 L151.251 1046.12 L146.366 1046.12 L146.366 1040.24 Z\" fill=\"#000000\" fill-rule=\"evenodd\" fill-opacity=\"1\" /><path clip-path=\"url(#clip320)\" d=\"M160.255 1011.56 L182.477 1011.56 L182.477 1013.55 L169.931 1046.12 L165.047 1046.12 L176.852 1015.5 L160.255 1015.5 L160.255 1011.56 Z\" fill=\"#000000\" fill-rule=\"evenodd\" fill-opacity=\"1\" /><path clip-path=\"url(#clip320)\" d=\"M201.598 1014.64 Q197.987 1014.64 196.158 1018.2 Q194.352 1021.75 194.352 1028.88 Q194.352 1035.98 196.158 1039.55 Q197.987 1043.09 201.598 1043.09 Q205.232 1043.09 207.037 1039.55 Q208.866 1035.98 208.866 1028.88 Q208.866 1021.75 207.037 1018.2 Q205.232 1014.64 201.598 1014.64 M201.598 1010.94 Q207.408 1010.94 210.463 1015.54 Q213.542 1020.13 213.542 1028.88 Q213.542 1037.6 210.463 1042.21 Q207.408 1046.79 201.598 1046.79 Q195.787 1046.79 192.709 1042.21 Q189.653 1037.6 189.653 1028.88 Q189.653 1020.13 192.709 1015.54 Q195.787 1010.94 201.598 1010.94 Z\" fill=\"#000000\" fill-rule=\"evenodd\" fill-opacity=\"1\" /><path clip-path=\"url(#clip320)\" d=\"M127.2 794.573 Q123.589 794.573 121.76 798.137 Q119.955 801.679 119.955 808.809 Q119.955 815.915 121.76 819.48 Q123.589 823.022 127.2 823.022 Q130.834 823.022 132.64 819.48 Q134.468 815.915 134.468 808.809 Q134.468 801.679 132.64 798.137 Q130.834 794.573 127.2 794.573 M127.2 790.869 Q133.01 790.869 136.066 795.475 Q139.144 800.059 139.144 808.809 Q139.144 817.536 136.066 822.142 Q133.01 826.725 127.2 826.725 Q121.39 826.725 118.311 822.142 Q115.256 817.536 115.256 808.809 Q115.256 800.059 118.311 795.475 Q121.39 790.869 127.2 790.869 Z\" fill=\"#000000\" fill-rule=\"evenodd\" fill-opacity=\"1\" /><path clip-path=\"url(#clip320)\" d=\"M147.362 820.174 L152.246 820.174 L152.246 826.054 L147.362 826.054 L147.362 820.174 Z\" fill=\"#000000\" fill-rule=\"evenodd\" fill-opacity=\"1\" /><path clip-path=\"url(#clip320)\" d=\"M161.251 791.494 L183.473 791.494 L183.473 793.485 L170.927 826.054 L166.042 826.054 L177.848 795.429 L161.251 795.429 L161.251 791.494 Z\" fill=\"#000000\" fill-rule=\"evenodd\" fill-opacity=\"1\" /><path clip-path=\"url(#clip320)\" d=\"M192.639 791.494 L210.996 791.494 L210.996 795.429 L196.922 795.429 L196.922 803.901 Q197.94 803.554 198.959 803.392 Q199.977 803.207 200.996 803.207 Q206.783 803.207 210.162 806.378 Q213.542 809.549 213.542 814.966 Q213.542 820.545 210.07 823.647 Q206.598 826.725 200.278 826.725 Q198.102 826.725 195.834 826.355 Q193.588 825.985 191.181 825.244 L191.181 820.545 Q193.264 821.679 195.487 822.235 Q197.709 822.79 200.186 822.79 Q204.19 822.79 206.528 820.684 Q208.866 818.577 208.866 814.966 Q208.866 811.355 206.528 809.249 Q204.19 807.142 200.186 807.142 Q198.311 807.142 196.436 807.559 Q194.584 807.975 192.639 808.855 L192.639 791.494 Z\" fill=\"#000000\" fill-rule=\"evenodd\" fill-opacity=\"1\" /><path clip-path=\"url(#clip320)\" d=\"M126.205 574.506 Q122.593 574.506 120.765 578.07 Q118.959 581.612 118.959 588.742 Q118.959 595.848 120.765 599.413 Q122.593 602.954 126.205 602.954 Q129.839 602.954 131.644 599.413 Q133.473 595.848 133.473 588.742 Q133.473 581.612 131.644 578.07 Q129.839 574.506 126.205 574.506 M126.205 570.802 Q132.015 570.802 135.07 575.408 Q138.149 579.992 138.149 588.742 Q138.149 597.468 135.07 602.075 Q132.015 606.658 126.205 606.658 Q120.394 606.658 117.316 602.075 Q114.26 597.468 114.26 588.742 Q114.26 579.992 117.316 575.408 Q120.394 570.802 126.205 570.802 Z\" fill=\"#000000\" fill-rule=\"evenodd\" fill-opacity=\"1\" /><path clip-path=\"url(#clip320)\" d=\"M146.366 600.107 L151.251 600.107 L151.251 605.987 L146.366 605.987 L146.366 600.107 Z\" fill=\"#000000\" fill-rule=\"evenodd\" fill-opacity=\"1\" /><path clip-path=\"url(#clip320)\" d=\"M171.436 589.575 Q168.102 589.575 166.181 591.357 Q164.283 593.14 164.283 596.265 Q164.283 599.39 166.181 601.172 Q168.102 602.954 171.436 602.954 Q174.769 602.954 176.69 601.172 Q178.612 599.367 178.612 596.265 Q178.612 593.14 176.69 591.357 Q174.792 589.575 171.436 589.575 M166.76 587.584 Q163.751 586.843 162.061 584.783 Q160.394 582.723 160.394 579.76 Q160.394 575.617 163.334 573.209 Q166.297 570.802 171.436 570.802 Q176.598 570.802 179.538 573.209 Q182.477 575.617 182.477 579.76 Q182.477 582.723 180.788 584.783 Q179.121 586.843 176.135 587.584 Q179.514 588.371 181.389 590.663 Q183.288 592.955 183.288 596.265 Q183.288 601.288 180.209 603.973 Q177.153 606.658 171.436 606.658 Q165.718 606.658 162.64 603.973 Q159.584 601.288 159.584 596.265 Q159.584 592.955 161.482 590.663 Q163.38 588.371 166.76 587.584 M165.047 580.2 Q165.047 582.885 166.714 584.39 Q168.403 585.894 171.436 585.894 Q174.445 585.894 176.135 584.39 Q177.848 582.885 177.848 580.2 Q177.848 577.515 176.135 576.01 Q174.445 574.506 171.436 574.506 Q168.403 574.506 166.714 576.01 Q165.047 577.515 165.047 580.2 Z\" fill=\"#000000\" fill-rule=\"evenodd\" fill-opacity=\"1\" /><path clip-path=\"url(#clip320)\" d=\"M201.598 574.506 Q197.987 574.506 196.158 578.07 Q194.352 581.612 194.352 588.742 Q194.352 595.848 196.158 599.413 Q197.987 602.954 201.598 602.954 Q205.232 602.954 207.037 599.413 Q208.866 595.848 208.866 588.742 Q208.866 581.612 207.037 578.07 Q205.232 574.506 201.598 574.506 M201.598 570.802 Q207.408 570.802 210.463 575.408 Q213.542 579.992 213.542 588.742 Q213.542 597.468 210.463 602.075 Q207.408 606.658 201.598 606.658 Q195.787 606.658 192.709 602.075 Q189.653 597.468 189.653 588.742 Q189.653 579.992 192.709 575.408 Q195.787 570.802 201.598 570.802 Z\" fill=\"#000000\" fill-rule=\"evenodd\" fill-opacity=\"1\" /><path clip-path=\"url(#clip320)\" d=\"M127.2 354.438 Q123.589 354.438 121.76 358.003 Q119.955 361.545 119.955 368.674 Q119.955 375.781 121.76 379.346 Q123.589 382.887 127.2 382.887 Q130.834 382.887 132.64 379.346 Q134.468 375.781 134.468 368.674 Q134.468 361.545 132.64 358.003 Q130.834 354.438 127.2 354.438 M127.2 350.735 Q133.01 350.735 136.066 355.341 Q139.144 359.924 139.144 368.674 Q139.144 377.401 136.066 382.008 Q133.01 386.591 127.2 386.591 Q121.39 386.591 118.311 382.008 Q115.256 377.401 115.256 368.674 Q115.256 359.924 118.311 355.341 Q121.39 350.735 127.2 350.735 Z\" fill=\"#000000\" fill-rule=\"evenodd\" fill-opacity=\"1\" /><path clip-path=\"url(#clip320)\" d=\"M147.362 380.04 L152.246 380.04 L152.246 385.92 L147.362 385.92 L147.362 380.04 Z\" fill=\"#000000\" fill-rule=\"evenodd\" fill-opacity=\"1\" /><path clip-path=\"url(#clip320)\" d=\"M172.431 369.508 Q169.098 369.508 167.177 371.29 Q165.278 373.073 165.278 376.198 Q165.278 379.323 167.177 381.105 Q169.098 382.887 172.431 382.887 Q175.764 382.887 177.686 381.105 Q179.607 379.299 179.607 376.198 Q179.607 373.073 177.686 371.29 Q175.788 369.508 172.431 369.508 M167.755 367.517 Q164.746 366.776 163.056 364.716 Q161.39 362.656 161.39 359.693 Q161.39 355.55 164.329 353.142 Q167.292 350.735 172.431 350.735 Q177.593 350.735 180.533 353.142 Q183.473 355.55 183.473 359.693 Q183.473 362.656 181.783 364.716 Q180.116 366.776 177.13 367.517 Q180.51 368.304 182.385 370.596 Q184.283 372.887 184.283 376.198 Q184.283 381.221 181.204 383.906 Q178.149 386.591 172.431 386.591 Q166.714 386.591 163.635 383.906 Q160.579 381.221 160.579 376.198 Q160.579 372.887 162.477 370.596 Q164.376 368.304 167.755 367.517 M166.042 360.133 Q166.042 362.818 167.709 364.323 Q169.399 365.827 172.431 365.827 Q175.44 365.827 177.13 364.323 Q178.843 362.818 178.843 360.133 Q178.843 357.448 177.13 355.943 Q175.44 354.438 172.431 354.438 Q169.399 354.438 167.709 355.943 Q166.042 357.448 166.042 360.133 Z\" fill=\"#000000\" fill-rule=\"evenodd\" fill-opacity=\"1\" /><path clip-path=\"url(#clip320)\" d=\"M192.639 351.36 L210.996 351.36 L210.996 355.295 L196.922 355.295 L196.922 363.767 Q197.94 363.42 198.959 363.258 Q199.977 363.073 200.996 363.073 Q206.783 363.073 210.162 366.244 Q213.542 369.415 213.542 374.832 Q213.542 380.41 210.07 383.512 Q206.598 386.591 200.278 386.591 Q198.102 386.591 195.834 386.221 Q193.588 385.85 191.181 385.11 L191.181 380.41 Q193.264 381.545 195.487 382.1 Q197.709 382.656 200.186 382.656 Q204.19 382.656 206.528 380.549 Q208.866 378.443 208.866 374.832 Q208.866 371.221 206.528 369.114 Q204.19 367.008 200.186 367.008 Q198.311 367.008 196.436 367.424 Q194.584 367.841 192.639 368.721 L192.639 351.36 Z\" fill=\"#000000\" fill-rule=\"evenodd\" fill-opacity=\"1\" /><path clip-path=\"url(#clip320)\" d=\"M126.205 134.371 Q122.593 134.371 120.765 137.936 Q118.959 141.478 118.959 148.607 Q118.959 155.714 120.765 159.279 Q122.593 162.82 126.205 162.82 Q129.839 162.82 131.644 159.279 Q133.473 155.714 133.473 148.607 Q133.473 141.478 131.644 137.936 Q129.839 134.371 126.205 134.371 M126.205 130.668 Q132.015 130.668 135.07 135.274 Q138.149 139.857 138.149 148.607 Q138.149 157.334 135.07 161.941 Q132.015 166.524 126.205 166.524 Q120.394 166.524 117.316 161.941 Q114.26 157.334 114.26 148.607 Q114.26 139.857 117.316 135.274 Q120.394 130.668 126.205 130.668 Z\" fill=\"#000000\" fill-rule=\"evenodd\" fill-opacity=\"1\" /><path clip-path=\"url(#clip320)\" d=\"M146.366 159.973 L151.251 159.973 L151.251 165.853 L146.366 165.853 L146.366 159.973 Z\" fill=\"#000000\" fill-rule=\"evenodd\" fill-opacity=\"1\" /><path clip-path=\"url(#clip320)\" d=\"M161.575 165.135 L161.575 160.876 Q163.334 161.709 165.14 162.149 Q166.945 162.589 168.681 162.589 Q173.311 162.589 175.741 159.487 Q178.195 156.362 178.542 150.019 Q177.2 152.01 175.139 153.075 Q173.079 154.14 170.579 154.14 Q165.394 154.14 162.362 151.015 Q159.353 147.867 159.353 142.427 Q159.353 137.103 162.501 133.885 Q165.649 130.668 170.88 130.668 Q176.876 130.668 180.024 135.274 Q183.195 139.857 183.195 148.607 Q183.195 156.779 179.306 161.663 Q175.44 166.524 168.889 166.524 Q167.13 166.524 165.325 166.177 Q163.519 165.829 161.575 165.135 M170.88 150.482 Q174.028 150.482 175.857 148.33 Q177.709 146.177 177.709 142.427 Q177.709 138.7 175.857 136.547 Q174.028 134.371 170.88 134.371 Q167.732 134.371 165.88 136.547 Q164.052 138.7 164.052 142.427 Q164.052 146.177 165.88 148.33 Q167.732 150.482 170.88 150.482 Z\" fill=\"#000000\" fill-rule=\"evenodd\" fill-opacity=\"1\" /><path clip-path=\"url(#clip320)\" d=\"M201.598 134.371 Q197.987 134.371 196.158 137.936 Q194.352 141.478 194.352 148.607 Q194.352 155.714 196.158 159.279 Q197.987 162.82 201.598 162.82 Q205.232 162.82 207.037 159.279 Q208.866 155.714 208.866 148.607 Q208.866 141.478 207.037 137.936 Q205.232 134.371 201.598 134.371 M201.598 130.668 Q207.408 130.668 210.463 135.274 Q213.542 139.857 213.542 148.607 Q213.542 157.334 210.463 161.941 Q207.408 166.524 201.598 166.524 Q195.787 166.524 192.709 161.941 Q189.653 157.334 189.653 148.607 Q189.653 139.857 192.709 135.274 Q195.787 130.668 201.598 130.668 Z\" fill=\"#000000\" fill-rule=\"evenodd\" fill-opacity=\"1\" /><path clip-path=\"url(#clip320)\" d=\"M16.4842 1237.77 L16.4842 1229.11 L56.238 1208.04 L16.4842 1208.04 L16.4842 1201.8 L64.0042 1201.8 L64.0042 1210.46 L24.2503 1231.53 L64.0042 1231.53 L64.0042 1237.77 L16.4842 1237.77 Z\" fill=\"#000000\" fill-rule=\"evenodd\" fill-opacity=\"1\" /><path clip-path=\"url(#clip320)\" d=\"M32.4621 1175.45 Q32.4621 1180.16 36.1542 1182.9 Q39.8145 1185.63 46.212 1185.63 Q52.6095 1185.63 56.3017 1182.93 Q59.9619 1180.19 59.9619 1175.45 Q59.9619 1170.77 56.2698 1168.03 Q52.5777 1165.3 46.212 1165.3 Q39.8781 1165.3 36.186 1168.03 Q32.4621 1170.77 32.4621 1175.45 M27.4968 1175.45 Q27.4968 1167.81 32.4621 1163.45 Q37.4273 1159.09 46.212 1159.09 Q54.9649 1159.09 59.9619 1163.45 Q64.9272 1167.81 64.9272 1175.45 Q64.9272 1183.12 59.9619 1187.48 Q54.9649 1191.81 46.212 1191.81 Q37.4273 1191.81 32.4621 1187.48 Q27.4968 1183.12 27.4968 1175.45 Z\" fill=\"#000000\" fill-rule=\"evenodd\" fill-opacity=\"1\" /><path clip-path=\"url(#clip320)\" d=\"M33.8307 1128.72 Q33.2578 1129.71 33.0032 1130.89 Q32.7167 1132.03 32.7167 1133.43 Q32.7167 1138.4 35.9632 1141.07 Q39.1779 1143.72 45.2253 1143.72 L64.0042 1143.72 L64.0042 1149.6 L28.3562 1149.6 L28.3562 1143.72 L33.8944 1143.72 Q30.6479 1141.87 29.0883 1138.91 Q27.4968 1135.95 27.4968 1131.72 Q27.4968 1131.11 27.5923 1130.38 Q27.656 1129.65 27.8151 1128.76 L33.8307 1128.72 Z\" fill=\"#000000\" fill-rule=\"evenodd\" fill-opacity=\"1\" /><path clip-path=\"url(#clip320)\" d=\"M35.1993 1095.97 Q31.2526 1093.78 29.3747 1090.72 Q27.4968 1087.67 27.4968 1083.53 Q27.4968 1077.96 31.4117 1074.93 Q35.2948 1071.91 42.4881 1071.91 L64.0042 1071.91 L64.0042 1077.8 L42.679 1077.8 Q37.5546 1077.8 35.072 1079.61 Q32.5894 1081.43 32.5894 1085.15 Q32.5894 1089.7 35.6131 1092.34 Q38.6368 1094.99 43.8567 1094.99 L64.0042 1094.99 L64.0042 1100.87 L42.679 1100.87 Q37.5228 1100.87 35.072 1102.69 Q32.5894 1104.5 32.5894 1108.29 Q32.5894 1112.78 35.6449 1115.42 Q38.6686 1118.06 43.8567 1118.06 L64.0042 1118.06 L64.0042 1123.95 L28.3562 1123.95 L28.3562 1118.06 L33.8944 1118.06 Q30.616 1116.06 29.0564 1113.26 Q27.4968 1110.45 27.4968 1106.6 Q27.4968 1102.72 29.4702 1100.01 Q31.4436 1097.28 35.1993 1095.97 Z\" fill=\"#000000\" fill-rule=\"evenodd\" fill-opacity=\"1\" /><path clip-path=\"url(#clip320)\" d=\"M46.0847 1044.03 Q46.0847 1051.13 47.7079 1053.86 Q49.3312 1056.6 53.2461 1056.6 Q56.3653 1056.6 58.2114 1054.56 Q60.0256 1052.49 60.0256 1048.96 Q60.0256 1044.09 56.5881 1041.16 Q53.1188 1038.2 47.3897 1038.2 L46.0847 1038.2 L46.0847 1044.03 M43.6657 1032.35 L64.0042 1032.35 L64.0042 1038.2 L58.5933 1038.2 Q61.8398 1040.21 63.3994 1043.2 Q64.9272 1046.19 64.9272 1050.52 Q64.9272 1056 61.8716 1059.24 Q58.7843 1062.46 53.6281 1062.46 Q47.6125 1062.46 44.5569 1058.45 Q41.5014 1054.4 41.5014 1046.42 L41.5014 1038.2 L40.9285 1038.2 Q36.8862 1038.2 34.6901 1040.88 Q32.4621 1043.52 32.4621 1048.33 Q32.4621 1051.38 33.1941 1054.28 Q33.9262 1057.17 35.3903 1059.85 L29.9795 1059.85 Q28.7381 1056.63 28.1334 1053.61 Q27.4968 1050.58 27.4968 1047.72 Q27.4968 1039.99 31.5072 1036.17 Q35.5176 1032.35 43.6657 1032.35 Z\" fill=\"#000000\" fill-rule=\"evenodd\" fill-opacity=\"1\" /><path clip-path=\"url(#clip320)\" d=\"M14.479 1020.28 L14.479 1014.43 L64.0042 1014.43 L64.0042 1020.28 L14.479 1020.28 Z\" fill=\"#000000\" fill-rule=\"evenodd\" fill-opacity=\"1\" /><path clip-path=\"url(#clip320)\" d=\"M28.3562 1002.17 L28.3562 996.317 L64.0042 996.317 L64.0042 1002.17 L28.3562 1002.17 M14.479 1002.17 L14.479 996.317 L21.895 996.317 L21.895 1002.17 L14.479 1002.17 Z\" fill=\"#000000\" fill-rule=\"evenodd\" fill-opacity=\"1\" /><path clip-path=\"url(#clip320)\" d=\"M28.3562 986.61 L28.3562 958.791 L33.7034 958.791 L59.3254 980.817 L59.3254 958.791 L64.0042 958.791 L64.0042 987.405 L58.657 987.405 L33.035 965.38 L33.035 986.61 L28.3562 986.61 Z\" fill=\"#000000\" fill-rule=\"evenodd\" fill-opacity=\"1\" /><path clip-path=\"url(#clip320)\" d=\"M44.7161 919.356 L47.5806 919.356 L47.5806 946.283 Q53.6281 945.901 56.8109 942.654 Q59.9619 939.376 59.9619 933.551 Q59.9619 930.178 59.1344 927.027 Q58.3069 923.844 56.6518 920.725 L62.1899 920.725 Q63.5267 923.876 64.227 927.186 Q64.9272 930.496 64.9272 933.902 Q64.9272 942.432 59.9619 947.429 Q54.9967 952.394 46.5303 952.394 Q37.7774 952.394 32.6531 947.683 Q27.4968 942.941 27.4968 934.92 Q27.4968 927.727 32.1438 923.557 Q36.7589 919.356 44.7161 919.356 M42.9973 925.212 Q38.1912 925.276 35.3266 927.918 Q32.4621 930.528 32.4621 934.856 Q32.4621 939.758 35.2312 942.718 Q38.0002 945.646 43.0292 946.092 L42.9973 925.212 Z\" fill=\"#000000\" fill-rule=\"evenodd\" fill-opacity=\"1\" /><path clip-path=\"url(#clip320)\" d=\"M33.7671 886.286 L14.479 886.286 L14.479 880.43 L64.0042 880.43 L64.0042 886.286 L58.657 886.286 Q61.8398 888.132 63.3994 890.965 Q64.9272 893.766 64.9272 897.713 Q64.9272 904.174 59.771 908.248 Q54.6147 912.29 46.212 912.29 Q37.8093 912.29 32.6531 908.248 Q27.4968 904.174 27.4968 897.713 Q27.4968 893.766 29.0564 890.965 Q30.5842 888.132 33.7671 886.286 M46.212 906.243 Q52.6732 906.243 56.3653 903.601 Q60.0256 900.927 60.0256 896.28 Q60.0256 891.633 56.3653 888.96 Q52.6732 886.286 46.212 886.286 Q39.7508 886.286 36.0905 888.96 Q32.3984 891.633 32.3984 896.28 Q32.3984 900.927 36.0905 903.601 Q39.7508 906.243 46.212 906.243 Z\" fill=\"#000000\" fill-rule=\"evenodd\" fill-opacity=\"1\" /><path clip-path=\"url(#clip320)\" d=\"M35.1993 819.892 Q31.2526 817.696 29.3747 814.64 Q27.4968 811.585 27.4968 807.447 Q27.4968 801.877 31.4117 798.853 Q35.2948 795.829 42.4881 795.829 L64.0042 795.829 L64.0042 801.718 L42.679 801.718 Q37.5546 801.718 35.072 803.532 Q32.5894 805.346 32.5894 809.07 Q32.5894 813.622 35.6131 816.263 Q38.6368 818.905 43.8567 818.905 L64.0042 818.905 L64.0042 824.793 L42.679 824.793 Q37.5228 824.793 35.072 826.608 Q32.5894 828.422 32.5894 832.209 Q32.5894 836.697 35.6449 839.339 Q38.6686 841.981 43.8567 841.981 L64.0042 841.981 L64.0042 847.869 L28.3562 847.869 L28.3562 841.981 L33.8944 841.981 Q30.616 839.976 29.0564 837.175 Q27.4968 834.374 27.4968 830.523 Q27.4968 826.639 29.4702 823.934 Q31.4436 821.197 35.1993 819.892 Z\" fill=\"#000000\" fill-rule=\"evenodd\" fill-opacity=\"1\" /><path clip-path=\"url(#clip320)\" d=\"M49.9359 784.753 L28.3562 784.753 L28.3562 778.897 L49.7131 778.897 Q54.7739 778.897 57.3202 776.923 Q59.8346 774.95 59.8346 771.003 Q59.8346 766.261 56.8109 763.523 Q53.7872 760.754 48.5673 760.754 L28.3562 760.754 L28.3562 754.898 L64.0042 754.898 L64.0042 760.754 L58.5296 760.754 Q61.7762 762.887 63.3676 765.72 Q64.9272 768.521 64.9272 772.244 Q64.9272 778.387 61.1078 781.57 Q57.2883 784.753 49.9359 784.753 M27.4968 770.016 L27.4968 770.016 Z\" fill=\"#000000\" fill-rule=\"evenodd\" fill-opacity=\"1\" /><path clip-path=\"url(#clip320)\" d=\"M18.2347 737.042 L28.3562 737.042 L28.3562 724.979 L32.9077 724.979 L32.9077 737.042 L52.2594 737.042 Q56.6199 737.042 57.8613 735.864 Q59.1026 734.655 59.1026 730.995 L59.1026 724.979 L64.0042 724.979 L64.0042 730.995 Q64.0042 737.774 61.4897 740.352 Q58.9434 742.93 52.2594 742.93 L32.9077 742.93 L32.9077 747.227 L28.3562 747.227 L28.3562 742.93 L18.2347 742.93 L18.2347 737.042 Z\" fill=\"#000000\" fill-rule=\"evenodd\" fill-opacity=\"1\" /><path clip-path=\"url(#clip320)\" d=\"M49.9359 717.881 L28.3562 717.881 L28.3562 712.025 L49.7131 712.025 Q54.7739 712.025 57.3202 710.052 Q59.8346 708.078 59.8346 704.131 Q59.8346 699.389 56.8109 696.652 Q53.7872 693.883 48.5673 693.883 L28.3562 693.883 L28.3562 688.026 L64.0042 688.026 L64.0042 693.883 L58.5296 693.883 Q61.7762 696.015 63.3676 698.848 Q64.9272 701.649 64.9272 705.373 Q64.9272 711.516 61.1078 714.698 Q57.2883 717.881 49.9359 717.881 M27.4968 703.145 L27.4968 703.145 Z\" fill=\"#000000\" fill-rule=\"evenodd\" fill-opacity=\"1\" /><path clip-path=\"url(#clip320)\" d=\"M46.0847 659.762 Q46.0847 666.86 47.7079 669.597 Q49.3312 672.335 53.2461 672.335 Q56.3653 672.335 58.2114 670.298 Q60.0256 668.229 60.0256 664.696 Q60.0256 659.826 56.5881 656.898 Q53.1188 653.938 47.3897 653.938 L46.0847 653.938 L46.0847 659.762 M43.6657 648.081 L64.0042 648.081 L64.0042 653.938 L58.5933 653.938 Q61.8398 655.943 63.3994 658.935 Q64.9272 661.927 64.9272 666.255 Q64.9272 671.73 61.8716 674.976 Q58.7843 678.191 53.6281 678.191 Q47.6125 678.191 44.5569 674.181 Q41.5014 670.139 41.5014 662.15 L41.5014 653.938 L40.9285 653.938 Q36.8862 653.938 34.6901 656.611 Q32.4621 659.253 32.4621 664.059 Q32.4621 667.115 33.1941 670.011 Q33.9262 672.908 35.3903 675.581 L29.9795 675.581 Q28.7381 672.367 28.1334 669.343 Q27.4968 666.319 27.4968 663.455 Q27.4968 655.72 31.5072 651.901 Q35.5176 648.081 43.6657 648.081 Z\" fill=\"#000000\" fill-rule=\"evenodd\" fill-opacity=\"1\" /><path clip-path=\"url(#clip320)\" d=\"M14.479 636.018 L14.479 630.162 L64.0042 630.162 L64.0042 636.018 L14.479 636.018 Z\" fill=\"#000000\" fill-rule=\"evenodd\" fill-opacity=\"1\" /><path clip-path=\"url(#clip320)\" d=\"M28.3562 597.188 L28.3562 591.331 L64.0042 591.331 L64.0042 597.188 L28.3562 597.188 M14.479 597.188 L14.479 591.331 L21.895 591.331 L21.895 597.188 L14.479 597.188 Z\" fill=\"#000000\" fill-rule=\"evenodd\" fill-opacity=\"1\" /><path clip-path=\"url(#clip320)\" d=\"M42.4881 549.445 L64.0042 549.445 L64.0042 555.301 L42.679 555.301 Q37.6183 555.301 35.1038 557.275 Q32.5894 559.248 32.5894 563.195 Q32.5894 567.937 35.6131 570.674 Q38.6368 573.412 43.8567 573.412 L64.0042 573.412 L64.0042 579.3 L28.3562 579.3 L28.3562 573.412 L33.8944 573.412 Q30.6797 571.311 29.0883 568.478 Q27.4968 565.614 27.4968 561.89 Q27.4968 555.747 31.3163 552.596 Q35.1038 549.445 42.4881 549.445 Z\" fill=\"#000000\" fill-rule=\"evenodd\" fill-opacity=\"1\" /><path clip-path=\"url(#clip320)\" d=\"M14.479 519.717 L19.3487 519.717 L19.3487 525.319 Q19.3487 528.47 20.6219 529.711 Q21.895 530.921 25.2052 530.921 L28.3562 530.921 L28.3562 521.276 L32.9077 521.276 L32.9077 530.921 L64.0042 530.921 L64.0042 536.809 L32.9077 536.809 L32.9077 542.411 L28.3562 542.411 L28.3562 536.809 L25.8736 536.809 Q19.9216 536.809 17.2162 534.04 Q14.479 531.271 14.479 525.255 L14.479 519.717 Z\" fill=\"#000000\" fill-rule=\"evenodd\" fill-opacity=\"1\" /><path clip-path=\"url(#clip320)\" d=\"M32.4621 501.002 Q32.4621 505.712 36.1542 508.45 Q39.8145 511.187 46.212 511.187 Q52.6095 511.187 56.3017 508.481 Q59.9619 505.744 59.9619 501.002 Q59.9619 496.323 56.2698 493.586 Q52.5777 490.848 46.212 490.848 Q39.8781 490.848 36.186 493.586 Q32.4621 496.323 32.4621 501.002 M27.4968 501.002 Q27.4968 493.363 32.4621 489.002 Q37.4273 484.642 46.212 484.642 Q54.9649 484.642 59.9619 489.002 Q64.9272 493.363 64.9272 501.002 Q64.9272 508.672 59.9619 513.033 Q54.9649 517.362 46.212 517.362 Q37.4273 517.362 32.4621 513.033 Q27.4968 508.672 27.4968 501.002 Z\" fill=\"#000000\" fill-rule=\"evenodd\" fill-opacity=\"1\" /><path clip-path=\"url(#clip320)\" d=\"M33.8307 454.277 Q33.2578 455.264 33.0032 456.442 Q32.7167 457.588 32.7167 458.988 Q32.7167 463.953 35.9632 466.627 Q39.1779 469.269 45.2253 469.269 L64.0042 469.269 L64.0042 475.157 L28.3562 475.157 L28.3562 469.269 L33.8944 469.269 Q30.6479 467.423 29.0883 464.463 Q27.4968 461.502 27.4968 457.269 Q27.4968 456.665 27.5923 455.933 Q27.656 455.2 27.8151 454.309 L33.8307 454.277 Z\" fill=\"#000000\" fill-rule=\"evenodd\" fill-opacity=\"1\" /><path clip-path=\"url(#clip320)\" d=\"M35.1993 421.526 Q31.2526 419.33 29.3747 416.274 Q27.4968 413.219 27.4968 409.081 Q27.4968 403.511 31.4117 400.487 Q35.2948 397.463 42.4881 397.463 L64.0042 397.463 L64.0042 403.352 L42.679 403.352 Q37.5546 403.352 35.072 405.166 Q32.5894 406.98 32.5894 410.704 Q32.5894 415.256 35.6131 417.897 Q38.6368 420.539 43.8567 420.539 L64.0042 420.539 L64.0042 426.427 L42.679 426.427 Q37.5228 426.427 35.072 428.242 Q32.5894 430.056 32.5894 433.844 Q32.5894 438.331 35.6449 440.973 Q38.6686 443.615 43.8567 443.615 L64.0042 443.615 L64.0042 449.503 L28.3562 449.503 L28.3562 443.615 L33.8944 443.615 Q30.616 441.61 29.0564 438.809 Q27.4968 436.008 27.4968 432.157 Q27.4968 428.274 29.4702 425.568 Q31.4436 422.831 35.1993 421.526 Z\" fill=\"#000000\" fill-rule=\"evenodd\" fill-opacity=\"1\" /><path clip-path=\"url(#clip320)\" d=\"M46.0847 369.582 Q46.0847 376.679 47.7079 379.417 Q49.3312 382.154 53.2461 382.154 Q56.3653 382.154 58.2114 380.117 Q60.0256 378.048 60.0256 374.515 Q60.0256 369.645 56.5881 366.717 Q53.1188 363.757 47.3897 363.757 L46.0847 363.757 L46.0847 369.582 M43.6657 357.901 L64.0042 357.901 L64.0042 363.757 L58.5933 363.757 Q61.8398 365.762 63.3994 368.754 Q64.9272 371.746 64.9272 376.075 Q64.9272 381.549 61.8716 384.796 Q58.7843 388.01 53.6281 388.01 Q47.6125 388.01 44.5569 384 Q41.5014 379.958 41.5014 371.969 L41.5014 363.757 L40.9285 363.757 Q36.8862 363.757 34.6901 366.431 Q32.4621 369.072 32.4621 373.879 Q32.4621 376.934 33.1941 379.83 Q33.9262 382.727 35.3903 385.4 L29.9795 385.4 Q28.7381 382.186 28.1334 379.162 Q27.4968 376.138 27.4968 373.274 Q27.4968 365.539 31.5072 361.72 Q35.5176 357.901 43.6657 357.901 Z\" fill=\"#000000\" fill-rule=\"evenodd\" fill-opacity=\"1\" /><path clip-path=\"url(#clip320)\" d=\"M18.2347 340.045 L28.3562 340.045 L28.3562 327.982 L32.9077 327.982 L32.9077 340.045 L52.2594 340.045 Q56.6199 340.045 57.8613 338.867 Q59.1026 337.658 59.1026 333.997 L59.1026 327.982 L64.0042 327.982 L64.0042 333.997 Q64.0042 340.777 61.4897 343.355 Q58.9434 345.933 52.2594 345.933 L32.9077 345.933 L32.9077 350.23 L28.3562 350.23 L28.3562 345.933 L18.2347 345.933 L18.2347 340.045 Z\" fill=\"#000000\" fill-rule=\"evenodd\" fill-opacity=\"1\" /><path clip-path=\"url(#clip320)\" d=\"M28.3562 320.279 L28.3562 314.423 L64.0042 314.423 L64.0042 320.279 L28.3562 320.279 M14.479 320.279 L14.479 314.423 L21.895 314.423 L21.895 320.279 L14.479 320.279 Z\" fill=\"#000000\" fill-rule=\"evenodd\" fill-opacity=\"1\" /><path clip-path=\"url(#clip320)\" d=\"M32.4621 288.355 Q32.4621 293.066 36.1542 295.803 Q39.8145 298.54 46.212 298.54 Q52.6095 298.54 56.3017 295.835 Q59.9619 293.098 59.9619 288.355 Q59.9619 283.676 56.2698 280.939 Q52.5777 278.202 46.212 278.202 Q39.8781 278.202 36.186 280.939 Q32.4621 283.676 32.4621 288.355 M27.4968 288.355 Q27.4968 280.716 32.4621 276.356 Q37.4273 271.995 46.212 271.995 Q54.9649 271.995 59.9619 276.356 Q64.9272 280.716 64.9272 288.355 Q64.9272 296.026 59.9619 300.386 Q54.9649 304.715 46.212 304.715 Q37.4273 304.715 32.4621 300.386 Q27.4968 296.026 27.4968 288.355 Z\" fill=\"#000000\" fill-rule=\"evenodd\" fill-opacity=\"1\" /><path clip-path=\"url(#clip320)\" d=\"M42.4881 232.655 L64.0042 232.655 L64.0042 238.512 L42.679 238.512 Q37.6183 238.512 35.1038 240.485 Q32.5894 242.459 32.5894 246.405 Q32.5894 251.148 35.6131 253.885 Q38.6368 256.622 43.8567 256.622 L64.0042 256.622 L64.0042 262.511 L28.3562 262.511 L28.3562 256.622 L33.8944 256.622 Q30.6797 254.522 29.0883 251.689 Q27.4968 248.824 27.4968 245.1 Q27.4968 238.957 31.3163 235.806 Q35.1038 232.655 42.4881 232.655 Z\" fill=\"#000000\" fill-rule=\"evenodd\" fill-opacity=\"1\" /><polyline clip-path=\"url(#clip322)\" style=\"stroke:#009af9; stroke-linecap:butt; stroke-linejoin:round; stroke-width:4; stroke-opacity:1; fill:none\" points=\"\n",
       "  309.067,1303.1 529.53,748.374 749.992,402.552 970.455,294.765 1190.92,306.972 1411.38,264.116 1631.84,173.703 1852.31,173.238 2072.77,119.818 2293.23,135.444 \n",
       "  \n",
       "  \"/>\n",
       "<polyline clip-path=\"url(#clip322)\" style=\"stroke:#009af9; stroke-linecap:butt; stroke-linejoin:round; stroke-width:4; stroke-opacity:1; fill:none\" points=\"\n",
       "  309.067,1384.24 309.067,1221.96 \n",
       "  \"/>\n",
       "<polyline clip-path=\"url(#clip322)\" style=\"stroke:#009af9; stroke-linecap:butt; stroke-linejoin:round; stroke-width:4; stroke-opacity:1; fill:none\" points=\"\n",
       "  529.53,821.7 529.53,675.047 \n",
       "  \"/>\n",
       "<polyline clip-path=\"url(#clip322)\" style=\"stroke:#009af9; stroke-linecap:butt; stroke-linejoin:round; stroke-width:4; stroke-opacity:1; fill:none\" points=\"\n",
       "  749.992,414.061 749.992,391.042 \n",
       "  \"/>\n",
       "<polyline clip-path=\"url(#clip322)\" style=\"stroke:#009af9; stroke-linecap:butt; stroke-linejoin:round; stroke-width:4; stroke-opacity:1; fill:none\" points=\"\n",
       "  970.455,400.715 970.455,188.814 \n",
       "  \"/>\n",
       "<polyline clip-path=\"url(#clip322)\" style=\"stroke:#009af9; stroke-linecap:butt; stroke-linejoin:round; stroke-width:4; stroke-opacity:1; fill:none\" points=\"\n",
       "  1190.92,404.107 1190.92,209.837 \n",
       "  \"/>\n",
       "<polyline clip-path=\"url(#clip322)\" style=\"stroke:#009af9; stroke-linecap:butt; stroke-linejoin:round; stroke-width:4; stroke-opacity:1; fill:none\" points=\"\n",
       "  1411.38,286.418 1411.38,241.814 \n",
       "  \"/>\n",
       "<polyline clip-path=\"url(#clip322)\" style=\"stroke:#009af9; stroke-linecap:butt; stroke-linejoin:round; stroke-width:4; stroke-opacity:1; fill:none\" points=\"\n",
       "  1631.84,223.713 1631.84,123.694 \n",
       "  \"/>\n",
       "<polyline clip-path=\"url(#clip322)\" style=\"stroke:#009af9; stroke-linecap:butt; stroke-linejoin:round; stroke-width:4; stroke-opacity:1; fill:none\" points=\"\n",
       "  1852.31,233.404 1852.31,113.072 \n",
       "  \"/>\n",
       "<polyline clip-path=\"url(#clip322)\" style=\"stroke:#009af9; stroke-linecap:butt; stroke-linejoin:round; stroke-width:4; stroke-opacity:1; fill:none\" points=\"\n",
       "  2072.77,153.449 2072.77,86.1857 \n",
       "  \"/>\n",
       "<polyline clip-path=\"url(#clip322)\" style=\"stroke:#009af9; stroke-linecap:butt; stroke-linejoin:round; stroke-width:4; stroke-opacity:1; fill:none\" points=\"\n",
       "  2293.23,142.283 2293.23,128.606 \n",
       "  \"/>\n",
       "<line clip-path=\"url(#clip322)\" x1=\"325.067\" y1=\"1384.24\" x2=\"293.067\" y2=\"1384.24\" style=\"stroke:#009af9; stroke-width:3.2; stroke-opacity:1\"/>\n",
       "<line clip-path=\"url(#clip322)\" x1=\"325.067\" y1=\"1221.96\" x2=\"293.067\" y2=\"1221.96\" style=\"stroke:#009af9; stroke-width:3.2; stroke-opacity:1\"/>\n",
       "<line clip-path=\"url(#clip322)\" x1=\"545.53\" y1=\"821.7\" x2=\"513.53\" y2=\"821.7\" style=\"stroke:#009af9; stroke-width:3.2; stroke-opacity:1\"/>\n",
       "<line clip-path=\"url(#clip322)\" x1=\"545.53\" y1=\"675.047\" x2=\"513.53\" y2=\"675.047\" style=\"stroke:#009af9; stroke-width:3.2; stroke-opacity:1\"/>\n",
       "<line clip-path=\"url(#clip322)\" x1=\"765.992\" y1=\"414.061\" x2=\"733.992\" y2=\"414.061\" style=\"stroke:#009af9; stroke-width:3.2; stroke-opacity:1\"/>\n",
       "<line clip-path=\"url(#clip322)\" x1=\"765.992\" y1=\"391.042\" x2=\"733.992\" y2=\"391.042\" style=\"stroke:#009af9; stroke-width:3.2; stroke-opacity:1\"/>\n",
       "<line clip-path=\"url(#clip322)\" x1=\"986.455\" y1=\"400.715\" x2=\"954.455\" y2=\"400.715\" style=\"stroke:#009af9; stroke-width:3.2; stroke-opacity:1\"/>\n",
       "<line clip-path=\"url(#clip322)\" x1=\"986.455\" y1=\"188.814\" x2=\"954.455\" y2=\"188.814\" style=\"stroke:#009af9; stroke-width:3.2; stroke-opacity:1\"/>\n",
       "<line clip-path=\"url(#clip322)\" x1=\"1206.92\" y1=\"404.107\" x2=\"1174.92\" y2=\"404.107\" style=\"stroke:#009af9; stroke-width:3.2; stroke-opacity:1\"/>\n",
       "<line clip-path=\"url(#clip322)\" x1=\"1206.92\" y1=\"209.837\" x2=\"1174.92\" y2=\"209.837\" style=\"stroke:#009af9; stroke-width:3.2; stroke-opacity:1\"/>\n",
       "<line clip-path=\"url(#clip322)\" x1=\"1427.38\" y1=\"286.418\" x2=\"1395.38\" y2=\"286.418\" style=\"stroke:#009af9; stroke-width:3.2; stroke-opacity:1\"/>\n",
       "<line clip-path=\"url(#clip322)\" x1=\"1427.38\" y1=\"241.814\" x2=\"1395.38\" y2=\"241.814\" style=\"stroke:#009af9; stroke-width:3.2; stroke-opacity:1\"/>\n",
       "<line clip-path=\"url(#clip322)\" x1=\"1647.84\" y1=\"223.713\" x2=\"1615.84\" y2=\"223.713\" style=\"stroke:#009af9; stroke-width:3.2; stroke-opacity:1\"/>\n",
       "<line clip-path=\"url(#clip322)\" x1=\"1647.84\" y1=\"123.694\" x2=\"1615.84\" y2=\"123.694\" style=\"stroke:#009af9; stroke-width:3.2; stroke-opacity:1\"/>\n",
       "<line clip-path=\"url(#clip322)\" x1=\"1868.31\" y1=\"233.404\" x2=\"1836.31\" y2=\"233.404\" style=\"stroke:#009af9; stroke-width:3.2; stroke-opacity:1\"/>\n",
       "<line clip-path=\"url(#clip322)\" x1=\"1868.31\" y1=\"113.072\" x2=\"1836.31\" y2=\"113.072\" style=\"stroke:#009af9; stroke-width:3.2; stroke-opacity:1\"/>\n",
       "<line clip-path=\"url(#clip322)\" x1=\"2088.77\" y1=\"153.449\" x2=\"2056.77\" y2=\"153.449\" style=\"stroke:#009af9; stroke-width:3.2; stroke-opacity:1\"/>\n",
       "<line clip-path=\"url(#clip322)\" x1=\"2088.77\" y1=\"86.1857\" x2=\"2056.77\" y2=\"86.1857\" style=\"stroke:#009af9; stroke-width:3.2; stroke-opacity:1\"/>\n",
       "<line clip-path=\"url(#clip322)\" x1=\"2309.23\" y1=\"142.283\" x2=\"2277.23\" y2=\"142.283\" style=\"stroke:#009af9; stroke-width:3.2; stroke-opacity:1\"/>\n",
       "<line clip-path=\"url(#clip322)\" x1=\"2309.23\" y1=\"128.606\" x2=\"2277.23\" y2=\"128.606\" style=\"stroke:#009af9; stroke-width:3.2; stroke-opacity:1\"/>\n",
       "</svg>\n"
      ],
      "text/html": [
       "<?xml version=\"1.0\" encoding=\"utf-8\"?>\n",
       "<svg xmlns=\"http://www.w3.org/2000/svg\" xmlns:xlink=\"http://www.w3.org/1999/xlink\" width=\"600\" height=\"400\" viewBox=\"0 0 2400 1600\">\n",
       "<defs>\n",
       "  <clipPath id=\"clip370\">\n",
       "    <rect x=\"0\" y=\"0\" width=\"2400\" height=\"1600\"/>\n",
       "  </clipPath>\n",
       "</defs>\n",
       "<path clip-path=\"url(#clip370)\" d=\"\n",
       "M0 1600 L2400 1600 L2400 0 L0 0  Z\n",
       "  \" fill=\"#ffffff\" fill-rule=\"evenodd\" fill-opacity=\"1\"/>\n",
       "<defs>\n",
       "  <clipPath id=\"clip371\">\n",
       "    <rect x=\"480\" y=\"0\" width=\"1681\" height=\"1600\"/>\n",
       "  </clipPath>\n",
       "</defs>\n",
       "<defs>\n",
       "  <clipPath id=\"clip372\">\n",
       "    <rect x=\"249\" y=\"47\" width=\"2104\" height=\"1377\"/>\n",
       "  </clipPath>\n",
       "</defs>\n",
       "<path clip-path=\"url(#clip370)\" d=\"\n",
       "M249.542 1423.18 L2352.76 1423.18 L2352.76 47.2441 L249.542 47.2441  Z\n",
       "  \" fill=\"#ffffff\" fill-rule=\"evenodd\" fill-opacity=\"1\"/>\n",
       "<polyline clip-path=\"url(#clip372)\" style=\"stroke:#000000; stroke-linecap:butt; stroke-linejoin:round; stroke-width:2; stroke-opacity:0.1; fill:none\" points=\"\n",
       "  529.53,1423.18 529.53,47.2441 \n",
       "  \"/>\n",
       "<polyline clip-path=\"url(#clip372)\" style=\"stroke:#000000; stroke-linecap:butt; stroke-linejoin:round; stroke-width:2; stroke-opacity:0.1; fill:none\" points=\"\n",
       "  970.455,1423.18 970.455,47.2441 \n",
       "  \"/>\n",
       "<polyline clip-path=\"url(#clip372)\" style=\"stroke:#000000; stroke-linecap:butt; stroke-linejoin:round; stroke-width:2; stroke-opacity:0.1; fill:none\" points=\"\n",
       "  1411.38,1423.18 1411.38,47.2441 \n",
       "  \"/>\n",
       "<polyline clip-path=\"url(#clip372)\" style=\"stroke:#000000; stroke-linecap:butt; stroke-linejoin:round; stroke-width:2; stroke-opacity:0.1; fill:none\" points=\"\n",
       "  1852.31,1423.18 1852.31,47.2441 \n",
       "  \"/>\n",
       "<polyline clip-path=\"url(#clip372)\" style=\"stroke:#000000; stroke-linecap:butt; stroke-linejoin:round; stroke-width:2; stroke-opacity:0.1; fill:none\" points=\"\n",
       "  2293.23,1423.18 2293.23,47.2441 \n",
       "  \"/>\n",
       "<polyline clip-path=\"url(#clip370)\" style=\"stroke:#000000; stroke-linecap:butt; stroke-linejoin:round; stroke-width:4; stroke-opacity:1; fill:none\" points=\"\n",
       "  249.542,1423.18 2352.76,1423.18 \n",
       "  \"/>\n",
       "<polyline clip-path=\"url(#clip370)\" style=\"stroke:#000000; stroke-linecap:butt; stroke-linejoin:round; stroke-width:4; stroke-opacity:1; fill:none\" points=\"\n",
       "  529.53,1423.18 529.53,1404.28 \n",
       "  \"/>\n",
       "<polyline clip-path=\"url(#clip370)\" style=\"stroke:#000000; stroke-linecap:butt; stroke-linejoin:round; stroke-width:4; stroke-opacity:1; fill:none\" points=\"\n",
       "  970.455,1423.18 970.455,1404.28 \n",
       "  \"/>\n",
       "<polyline clip-path=\"url(#clip370)\" style=\"stroke:#000000; stroke-linecap:butt; stroke-linejoin:round; stroke-width:4; stroke-opacity:1; fill:none\" points=\"\n",
       "  1411.38,1423.18 1411.38,1404.28 \n",
       "  \"/>\n",
       "<polyline clip-path=\"url(#clip370)\" style=\"stroke:#000000; stroke-linecap:butt; stroke-linejoin:round; stroke-width:4; stroke-opacity:1; fill:none\" points=\"\n",
       "  1852.31,1423.18 1852.31,1404.28 \n",
       "  \"/>\n",
       "<polyline clip-path=\"url(#clip370)\" style=\"stroke:#000000; stroke-linecap:butt; stroke-linejoin:round; stroke-width:4; stroke-opacity:1; fill:none\" points=\"\n",
       "  2293.23,1423.18 2293.23,1404.28 \n",
       "  \"/>\n",
       "<path clip-path=\"url(#clip370)\" d=\"M508.303 1481.64 L524.622 1481.64 L524.622 1485.58 L502.678 1485.58 L502.678 1481.64 Q505.34 1478.89 509.923 1474.26 Q514.53 1469.61 515.71 1468.27 Q517.956 1465.74 518.835 1464.01 Q519.738 1462.25 519.738 1460.56 Q519.738 1457.8 517.794 1456.07 Q515.872 1454.33 512.77 1454.33 Q510.571 1454.33 508.118 1455.09 Q505.687 1455.86 502.909 1457.41 L502.909 1452.69 Q505.733 1451.55 508.187 1450.97 Q510.641 1450.39 512.678 1450.39 Q518.048 1450.39 521.243 1453.08 Q524.437 1455.77 524.437 1460.26 Q524.437 1462.39 523.627 1464.31 Q522.84 1466.2 520.733 1468.8 Q520.155 1469.47 517.053 1472.69 Q513.951 1475.88 508.303 1481.64 Z\" fill=\"#000000\" fill-rule=\"evenodd\" fill-opacity=\"1\" /><path clip-path=\"url(#clip370)\" d=\"M544.437 1454.1 Q540.826 1454.1 538.997 1457.66 Q537.192 1461.2 537.192 1468.33 Q537.192 1475.44 538.997 1479.01 Q540.826 1482.55 544.437 1482.55 Q548.071 1482.55 549.877 1479.01 Q551.705 1475.44 551.705 1468.33 Q551.705 1461.2 549.877 1457.66 Q548.071 1454.1 544.437 1454.1 M544.437 1450.39 Q550.247 1450.39 553.303 1455 Q556.381 1459.58 556.381 1468.33 Q556.381 1477.06 553.303 1481.67 Q550.247 1486.25 544.437 1486.25 Q538.627 1486.25 535.548 1481.67 Q532.493 1477.06 532.493 1468.33 Q532.493 1459.58 535.548 1455 Q538.627 1450.39 544.437 1450.39 Z\" fill=\"#000000\" fill-rule=\"evenodd\" fill-opacity=\"1\" /><path clip-path=\"url(#clip370)\" d=\"M958.626 1455.09 L946.821 1473.54 L958.626 1473.54 L958.626 1455.09 M957.399 1451.02 L963.279 1451.02 L963.279 1473.54 L968.21 1473.54 L968.21 1477.43 L963.279 1477.43 L963.279 1485.58 L958.626 1485.58 L958.626 1477.43 L943.025 1477.43 L943.025 1472.92 L957.399 1451.02 Z\" fill=\"#000000\" fill-rule=\"evenodd\" fill-opacity=\"1\" /><path clip-path=\"url(#clip370)\" d=\"M985.941 1454.1 Q982.33 1454.1 980.501 1457.66 Q978.696 1461.2 978.696 1468.33 Q978.696 1475.44 980.501 1479.01 Q982.33 1482.55 985.941 1482.55 Q989.575 1482.55 991.381 1479.01 Q993.209 1475.44 993.209 1468.33 Q993.209 1461.2 991.381 1457.66 Q989.575 1454.1 985.941 1454.1 M985.941 1450.39 Q991.751 1450.39 994.807 1455 Q997.885 1459.58 997.885 1468.33 Q997.885 1477.06 994.807 1481.67 Q991.751 1486.25 985.941 1486.25 Q980.131 1486.25 977.052 1481.67 Q973.997 1477.06 973.997 1468.33 Q973.997 1459.58 977.052 1455 Q980.131 1450.39 985.941 1450.39 Z\" fill=\"#000000\" fill-rule=\"evenodd\" fill-opacity=\"1\" /><path clip-path=\"url(#clip370)\" d=\"M1396.79 1466.44 Q1393.64 1466.44 1391.79 1468.59 Q1389.96 1470.74 1389.96 1474.49 Q1389.96 1478.22 1391.79 1480.39 Q1393.64 1482.55 1396.79 1482.55 Q1399.93 1482.55 1401.76 1480.39 Q1403.61 1478.22 1403.61 1474.49 Q1403.61 1470.74 1401.76 1468.59 Q1399.93 1466.44 1396.79 1466.44 M1406.07 1451.78 L1406.07 1456.04 Q1404.31 1455.21 1402.5 1454.77 Q1400.72 1454.33 1398.96 1454.33 Q1394.33 1454.33 1391.88 1457.45 Q1389.45 1460.58 1389.1 1466.9 Q1390.47 1464.89 1392.53 1463.82 Q1394.59 1462.73 1397.06 1462.73 Q1402.27 1462.73 1405.28 1465.9 Q1408.31 1469.05 1408.31 1474.49 Q1408.31 1479.82 1405.17 1483.03 Q1402.02 1486.25 1396.79 1486.25 Q1390.79 1486.25 1387.62 1481.67 Q1384.45 1477.06 1384.45 1468.33 Q1384.45 1460.14 1388.34 1455.28 Q1392.23 1450.39 1398.78 1450.39 Q1400.54 1450.39 1402.32 1450.74 Q1404.12 1451.09 1406.07 1451.78 Z\" fill=\"#000000\" fill-rule=\"evenodd\" fill-opacity=\"1\" /><path clip-path=\"url(#clip370)\" d=\"M1426.37 1454.1 Q1422.76 1454.1 1420.93 1457.66 Q1419.12 1461.2 1419.12 1468.33 Q1419.12 1475.44 1420.93 1479.01 Q1422.76 1482.55 1426.37 1482.55 Q1430 1482.55 1431.81 1479.01 Q1433.64 1475.44 1433.64 1468.33 Q1433.64 1461.2 1431.81 1457.66 Q1430 1454.1 1426.37 1454.1 M1426.37 1450.39 Q1432.18 1450.39 1435.23 1455 Q1438.31 1459.58 1438.31 1468.33 Q1438.31 1477.06 1435.23 1481.67 Q1432.18 1486.25 1426.37 1486.25 Q1420.56 1486.25 1417.48 1481.67 Q1414.42 1477.06 1414.42 1468.33 Q1414.42 1459.58 1417.48 1455 Q1420.56 1450.39 1426.37 1450.39 Z\" fill=\"#000000\" fill-rule=\"evenodd\" fill-opacity=\"1\" /><path clip-path=\"url(#clip370)\" d=\"M1837.18 1469.17 Q1833.85 1469.17 1831.92 1470.95 Q1830.03 1472.73 1830.03 1475.86 Q1830.03 1478.98 1831.92 1480.77 Q1833.85 1482.55 1837.18 1482.55 Q1840.51 1482.55 1842.43 1480.77 Q1844.35 1478.96 1844.35 1475.86 Q1844.35 1472.73 1842.43 1470.95 Q1840.53 1469.17 1837.18 1469.17 M1832.5 1467.18 Q1829.49 1466.44 1827.8 1464.38 Q1826.14 1462.32 1826.14 1459.35 Q1826.14 1455.21 1829.08 1452.8 Q1832.04 1450.39 1837.18 1450.39 Q1842.34 1450.39 1845.28 1452.8 Q1848.22 1455.21 1848.22 1459.35 Q1848.22 1462.32 1846.53 1464.38 Q1844.86 1466.44 1841.88 1467.18 Q1845.26 1467.96 1847.13 1470.26 Q1849.03 1472.55 1849.03 1475.86 Q1849.03 1480.88 1845.95 1483.57 Q1842.9 1486.25 1837.18 1486.25 Q1831.46 1486.25 1828.38 1483.57 Q1825.33 1480.88 1825.33 1475.86 Q1825.33 1472.55 1827.22 1470.26 Q1829.12 1467.96 1832.5 1467.18 M1830.79 1459.79 Q1830.79 1462.48 1832.46 1463.98 Q1834.15 1465.49 1837.18 1465.49 Q1840.19 1465.49 1841.88 1463.98 Q1843.59 1462.48 1843.59 1459.79 Q1843.59 1457.11 1841.88 1455.6 Q1840.19 1454.1 1837.18 1454.1 Q1834.15 1454.1 1832.46 1455.6 Q1830.79 1457.11 1830.79 1459.79 Z\" fill=\"#000000\" fill-rule=\"evenodd\" fill-opacity=\"1\" /><path clip-path=\"url(#clip370)\" d=\"M1867.34 1454.1 Q1863.73 1454.1 1861.9 1457.66 Q1860.09 1461.2 1860.09 1468.33 Q1860.09 1475.44 1861.9 1479.01 Q1863.73 1482.55 1867.34 1482.55 Q1870.97 1482.55 1872.78 1479.01 Q1874.61 1475.44 1874.61 1468.33 Q1874.61 1461.2 1872.78 1457.66 Q1870.97 1454.1 1867.34 1454.1 M1867.34 1450.39 Q1873.15 1450.39 1876.21 1455 Q1879.28 1459.58 1879.28 1468.33 Q1879.28 1477.06 1876.21 1481.67 Q1873.15 1486.25 1867.34 1486.25 Q1861.53 1486.25 1858.45 1481.67 Q1855.4 1477.06 1855.4 1468.33 Q1855.4 1459.58 1858.45 1455 Q1861.53 1450.39 1867.34 1450.39 Z\" fill=\"#000000\" fill-rule=\"evenodd\" fill-opacity=\"1\" /><path clip-path=\"url(#clip370)\" d=\"M2252.84 1481.64 L2260.48 1481.64 L2260.48 1455.28 L2252.17 1456.95 L2252.17 1452.69 L2260.43 1451.02 L2265.11 1451.02 L2265.11 1481.64 L2272.74 1481.64 L2272.74 1485.58 L2252.84 1485.58 L2252.84 1481.64 Z\" fill=\"#000000\" fill-rule=\"evenodd\" fill-opacity=\"1\" /><path clip-path=\"url(#clip370)\" d=\"M2292.19 1454.1 Q2288.58 1454.1 2286.75 1457.66 Q2284.94 1461.2 2284.94 1468.33 Q2284.94 1475.44 2286.75 1479.01 Q2288.58 1482.55 2292.19 1482.55 Q2295.82 1482.55 2297.63 1479.01 Q2299.46 1475.44 2299.46 1468.33 Q2299.46 1461.2 2297.63 1457.66 Q2295.82 1454.1 2292.19 1454.1 M2292.19 1450.39 Q2298 1450.39 2301.06 1455 Q2304.13 1459.58 2304.13 1468.33 Q2304.13 1477.06 2301.06 1481.67 Q2298 1486.25 2292.19 1486.25 Q2286.38 1486.25 2283.3 1481.67 Q2280.24 1477.06 2280.24 1468.33 Q2280.24 1459.58 2283.3 1455 Q2286.38 1450.39 2292.19 1450.39 Z\" fill=\"#000000\" fill-rule=\"evenodd\" fill-opacity=\"1\" /><path clip-path=\"url(#clip370)\" d=\"M2322.35 1454.1 Q2318.74 1454.1 2316.91 1457.66 Q2315.11 1461.2 2315.11 1468.33 Q2315.11 1475.44 2316.91 1479.01 Q2318.74 1482.55 2322.35 1482.55 Q2325.99 1482.55 2327.79 1479.01 Q2329.62 1475.44 2329.62 1468.33 Q2329.62 1461.2 2327.79 1457.66 Q2325.99 1454.1 2322.35 1454.1 M2322.35 1450.39 Q2328.16 1450.39 2331.22 1455 Q2334.3 1459.58 2334.3 1468.33 Q2334.3 1477.06 2331.22 1481.67 Q2328.16 1486.25 2322.35 1486.25 Q2316.54 1486.25 2313.46 1481.67 Q2310.41 1477.06 2310.41 1468.33 Q2310.41 1459.58 2313.46 1455 Q2316.54 1450.39 2322.35 1450.39 Z\" fill=\"#000000\" fill-rule=\"evenodd\" fill-opacity=\"1\" /><path clip-path=\"url(#clip370)\" d=\"M1313.99 1553.47 Q1313.99 1555.3 1312.86 1556.4 Q1311.76 1557.49 1310.38 1557.49 Q1309.16 1557.49 1308.51 1556.79 Q1307.87 1556.08 1307.87 1555.18 Q1307.87 1554.79 1308.03 1554.31 Q1308.19 1553.79 1308.54 1553.18 Q1308.93 1552.57 1309.73 1552.12 Q1310.54 1551.67 1311.63 1551.6 Q1311.41 1551.38 1311.35 1551.34 Q1310.86 1550.96 1309.96 1550.83 Q1309.83 1550.76 1309.38 1550.76 Q1307.16 1550.76 1304.9 1552.41 Q1302.68 1554.02 1299.94 1557.08 Q1296.5 1560.65 1294.28 1561.97 Q1304.03 1563.26 1304.03 1568.9 Q1304.03 1569.83 1303.78 1570.96 Q1303.26 1573.08 1303.26 1574.63 Q1303.26 1577.72 1305.35 1577.72 Q1307.38 1577.72 1308.67 1575.66 Q1309.99 1573.6 1311.09 1569.57 Q1311.25 1568.83 1311.41 1568.61 Q1311.57 1568.38 1312.02 1568.38 Q1312.83 1568.38 1312.83 1569.02 Q1312.09 1572.79 1310.44 1575.69 Q1308.35 1579.2 1305.23 1579.2 Q1302.62 1579.2 1300.88 1577.4 Q1299.17 1575.56 1299.17 1572.66 Q1299.17 1571.96 1299.43 1570.34 Q1299.62 1569.7 1299.62 1568.96 Q1299.62 1567.45 1298.78 1566.32 Q1297.95 1565.16 1296.59 1564.58 Q1295.24 1564 1294.11 1563.74 Q1293.02 1563.45 1291.96 1563.36 Q1288.74 1576.98 1288.29 1577.82 Q1288 1578.4 1287.35 1578.78 Q1286.71 1579.2 1286.03 1579.2 Q1285.39 1579.2 1284.74 1578.75 Q1284.13 1578.33 1284.13 1577.33 Q1284.13 1576.82 1284.39 1575.88 L1293.95 1537.88 L1294.15 1536.59 Q1294.15 1536.21 1293.99 1536.01 Q1293.86 1535.79 1293.08 1535.63 Q1292.34 1535.47 1290.86 1535.47 Q1290.25 1535.47 1289.96 1535.43 Q1289.7 1535.4 1289.48 1535.24 Q1289.25 1535.05 1289.25 1534.66 Q1289.25 1534.11 1289.48 1533.82 Q1289.73 1533.5 1289.93 1533.44 Q1290.12 1533.37 1290.51 1533.34 Q1291.06 1533.31 1292.89 1533.15 Q1294.73 1532.95 1296.3 1532.83 Q1297.88 1532.7 1298.56 1532.7 Q1298.95 1532.7 1299.14 1532.89 Q1299.36 1533.05 1299.4 1533.24 L1299.43 1533.4 L1292.57 1561.23 Q1295.4 1560.1 1299.88 1555.11 Q1305.06 1549.31 1309.51 1549.31 Q1311.6 1549.31 1312.79 1550.6 Q1313.99 1551.86 1313.99 1553.47 Z\" fill=\"#000000\" fill-rule=\"evenodd\" fill-opacity=\"1\" /><polyline clip-path=\"url(#clip372)\" style=\"stroke:#000000; stroke-linecap:butt; stroke-linejoin:round; stroke-width:2; stroke-opacity:0.1; fill:none\" points=\"\n",
       "  249.542,1248.91 2352.76,1248.91 \n",
       "  \"/>\n",
       "<polyline clip-path=\"url(#clip372)\" style=\"stroke:#000000; stroke-linecap:butt; stroke-linejoin:round; stroke-width:2; stroke-opacity:0.1; fill:none\" points=\"\n",
       "  249.542,1028.84 2352.76,1028.84 \n",
       "  \"/>\n",
       "<polyline clip-path=\"url(#clip372)\" style=\"stroke:#000000; stroke-linecap:butt; stroke-linejoin:round; stroke-width:2; stroke-opacity:0.1; fill:none\" points=\"\n",
       "  249.542,808.774 2352.76,808.774 \n",
       "  \"/>\n",
       "<polyline clip-path=\"url(#clip372)\" style=\"stroke:#000000; stroke-linecap:butt; stroke-linejoin:round; stroke-width:2; stroke-opacity:0.1; fill:none\" points=\"\n",
       "  249.542,588.707 2352.76,588.707 \n",
       "  \"/>\n",
       "<polyline clip-path=\"url(#clip372)\" style=\"stroke:#000000; stroke-linecap:butt; stroke-linejoin:round; stroke-width:2; stroke-opacity:0.1; fill:none\" points=\"\n",
       "  249.542,368.64 2352.76,368.64 \n",
       "  \"/>\n",
       "<polyline clip-path=\"url(#clip372)\" style=\"stroke:#000000; stroke-linecap:butt; stroke-linejoin:round; stroke-width:2; stroke-opacity:0.1; fill:none\" points=\"\n",
       "  249.542,148.573 2352.76,148.573 \n",
       "  \"/>\n",
       "<polyline clip-path=\"url(#clip370)\" style=\"stroke:#000000; stroke-linecap:butt; stroke-linejoin:round; stroke-width:4; stroke-opacity:1; fill:none\" points=\"\n",
       "  249.542,1423.18 249.542,47.2441 \n",
       "  \"/>\n",
       "<polyline clip-path=\"url(#clip370)\" style=\"stroke:#000000; stroke-linecap:butt; stroke-linejoin:round; stroke-width:4; stroke-opacity:1; fill:none\" points=\"\n",
       "  249.542,1248.91 268.44,1248.91 \n",
       "  \"/>\n",
       "<polyline clip-path=\"url(#clip370)\" style=\"stroke:#000000; stroke-linecap:butt; stroke-linejoin:round; stroke-width:4; stroke-opacity:1; fill:none\" points=\"\n",
       "  249.542,1028.84 268.44,1028.84 \n",
       "  \"/>\n",
       "<polyline clip-path=\"url(#clip370)\" style=\"stroke:#000000; stroke-linecap:butt; stroke-linejoin:round; stroke-width:4; stroke-opacity:1; fill:none\" points=\"\n",
       "  249.542,808.774 268.44,808.774 \n",
       "  \"/>\n",
       "<polyline clip-path=\"url(#clip370)\" style=\"stroke:#000000; stroke-linecap:butt; stroke-linejoin:round; stroke-width:4; stroke-opacity:1; fill:none\" points=\"\n",
       "  249.542,588.707 268.44,588.707 \n",
       "  \"/>\n",
       "<polyline clip-path=\"url(#clip370)\" style=\"stroke:#000000; stroke-linecap:butt; stroke-linejoin:round; stroke-width:4; stroke-opacity:1; fill:none\" points=\"\n",
       "  249.542,368.64 268.44,368.64 \n",
       "  \"/>\n",
       "<polyline clip-path=\"url(#clip370)\" style=\"stroke:#000000; stroke-linecap:butt; stroke-linejoin:round; stroke-width:4; stroke-opacity:1; fill:none\" points=\"\n",
       "  249.542,148.573 268.44,148.573 \n",
       "  \"/>\n",
       "<path clip-path=\"url(#clip370)\" d=\"M127.2 1234.71 Q123.589 1234.71 121.76 1238.27 Q119.955 1241.81 119.955 1248.94 Q119.955 1256.05 121.76 1259.61 Q123.589 1263.16 127.2 1263.16 Q130.834 1263.16 132.64 1259.61 Q134.468 1256.05 134.468 1248.94 Q134.468 1241.81 132.64 1238.27 Q130.834 1234.71 127.2 1234.71 M127.2 1231 Q133.01 1231 136.066 1235.61 Q139.144 1240.19 139.144 1248.94 Q139.144 1257.67 136.066 1262.28 Q133.01 1266.86 127.2 1266.86 Q121.39 1266.86 118.311 1262.28 Q115.256 1257.67 115.256 1248.94 Q115.256 1240.19 118.311 1235.61 Q121.39 1231 127.2 1231 Z\" fill=\"#000000\" fill-rule=\"evenodd\" fill-opacity=\"1\" /><path clip-path=\"url(#clip370)\" d=\"M147.362 1260.31 L152.246 1260.31 L152.246 1266.19 L147.362 1266.19 L147.362 1260.31 Z\" fill=\"#000000\" fill-rule=\"evenodd\" fill-opacity=\"1\" /><path clip-path=\"url(#clip370)\" d=\"M173.01 1247.04 Q169.862 1247.04 168.01 1249.2 Q166.181 1251.35 166.181 1255.1 Q166.181 1258.83 168.01 1261 Q169.862 1263.16 173.01 1263.16 Q176.158 1263.16 177.987 1261 Q179.839 1258.83 179.839 1255.1 Q179.839 1251.35 177.987 1249.2 Q176.158 1247.04 173.01 1247.04 M182.292 1232.39 L182.292 1236.65 Q180.533 1235.82 178.727 1235.38 Q176.945 1234.94 175.186 1234.94 Q170.556 1234.94 168.102 1238.06 Q165.672 1241.19 165.325 1247.51 Q166.69 1245.49 168.751 1244.43 Q170.811 1243.34 173.288 1243.34 Q178.496 1243.34 181.505 1246.51 Q184.538 1249.66 184.538 1255.1 Q184.538 1260.42 181.389 1263.64 Q178.241 1266.86 173.01 1266.86 Q167.015 1266.86 163.843 1262.28 Q160.672 1257.67 160.672 1248.94 Q160.672 1240.75 164.561 1235.89 Q168.45 1231 175.001 1231 Q176.76 1231 178.542 1231.35 Q180.348 1231.7 182.292 1232.39 Z\" fill=\"#000000\" fill-rule=\"evenodd\" fill-opacity=\"1\" /><path clip-path=\"url(#clip370)\" d=\"M192.639 1231.63 L210.996 1231.63 L210.996 1235.56 L196.922 1235.56 L196.922 1244.04 Q197.94 1243.69 198.959 1243.53 Q199.977 1243.34 200.996 1243.34 Q206.783 1243.34 210.162 1246.51 Q213.542 1249.68 213.542 1255.1 Q213.542 1260.68 210.07 1263.78 Q206.598 1266.86 200.278 1266.86 Q198.102 1266.86 195.834 1266.49 Q193.588 1266.12 191.181 1265.38 L191.181 1260.68 Q193.264 1261.81 195.487 1262.37 Q197.709 1262.92 200.186 1262.92 Q204.19 1262.92 206.528 1260.82 Q208.866 1258.71 208.866 1255.1 Q208.866 1251.49 206.528 1249.38 Q204.19 1247.28 200.186 1247.28 Q198.311 1247.28 196.436 1247.69 Q194.584 1248.11 192.639 1248.99 L192.639 1231.63 Z\" fill=\"#000000\" fill-rule=\"evenodd\" fill-opacity=\"1\" /><path clip-path=\"url(#clip370)\" d=\"M126.205 1014.64 Q122.593 1014.64 120.765 1018.2 Q118.959 1021.75 118.959 1028.88 Q118.959 1035.98 120.765 1039.55 Q122.593 1043.09 126.205 1043.09 Q129.839 1043.09 131.644 1039.55 Q133.473 1035.98 133.473 1028.88 Q133.473 1021.75 131.644 1018.2 Q129.839 1014.64 126.205 1014.64 M126.205 1010.94 Q132.015 1010.94 135.07 1015.54 Q138.149 1020.13 138.149 1028.88 Q138.149 1037.6 135.07 1042.21 Q132.015 1046.79 126.205 1046.79 Q120.394 1046.79 117.316 1042.21 Q114.26 1037.6 114.26 1028.88 Q114.26 1020.13 117.316 1015.54 Q120.394 1010.94 126.205 1010.94 Z\" fill=\"#000000\" fill-rule=\"evenodd\" fill-opacity=\"1\" /><path clip-path=\"url(#clip370)\" d=\"M146.366 1040.24 L151.251 1040.24 L151.251 1046.12 L146.366 1046.12 L146.366 1040.24 Z\" fill=\"#000000\" fill-rule=\"evenodd\" fill-opacity=\"1\" /><path clip-path=\"url(#clip370)\" d=\"M160.255 1011.56 L182.477 1011.56 L182.477 1013.55 L169.931 1046.12 L165.047 1046.12 L176.852 1015.5 L160.255 1015.5 L160.255 1011.56 Z\" fill=\"#000000\" fill-rule=\"evenodd\" fill-opacity=\"1\" /><path clip-path=\"url(#clip370)\" d=\"M201.598 1014.64 Q197.987 1014.64 196.158 1018.2 Q194.352 1021.75 194.352 1028.88 Q194.352 1035.98 196.158 1039.55 Q197.987 1043.09 201.598 1043.09 Q205.232 1043.09 207.037 1039.55 Q208.866 1035.98 208.866 1028.88 Q208.866 1021.75 207.037 1018.2 Q205.232 1014.64 201.598 1014.64 M201.598 1010.94 Q207.408 1010.94 210.463 1015.54 Q213.542 1020.13 213.542 1028.88 Q213.542 1037.6 210.463 1042.21 Q207.408 1046.79 201.598 1046.79 Q195.787 1046.79 192.709 1042.21 Q189.653 1037.6 189.653 1028.88 Q189.653 1020.13 192.709 1015.54 Q195.787 1010.94 201.598 1010.94 Z\" fill=\"#000000\" fill-rule=\"evenodd\" fill-opacity=\"1\" /><path clip-path=\"url(#clip370)\" d=\"M127.2 794.573 Q123.589 794.573 121.76 798.137 Q119.955 801.679 119.955 808.809 Q119.955 815.915 121.76 819.48 Q123.589 823.022 127.2 823.022 Q130.834 823.022 132.64 819.48 Q134.468 815.915 134.468 808.809 Q134.468 801.679 132.64 798.137 Q130.834 794.573 127.2 794.573 M127.2 790.869 Q133.01 790.869 136.066 795.475 Q139.144 800.059 139.144 808.809 Q139.144 817.536 136.066 822.142 Q133.01 826.725 127.2 826.725 Q121.39 826.725 118.311 822.142 Q115.256 817.536 115.256 808.809 Q115.256 800.059 118.311 795.475 Q121.39 790.869 127.2 790.869 Z\" fill=\"#000000\" fill-rule=\"evenodd\" fill-opacity=\"1\" /><path clip-path=\"url(#clip370)\" d=\"M147.362 820.174 L152.246 820.174 L152.246 826.054 L147.362 826.054 L147.362 820.174 Z\" fill=\"#000000\" fill-rule=\"evenodd\" fill-opacity=\"1\" /><path clip-path=\"url(#clip370)\" d=\"M161.251 791.494 L183.473 791.494 L183.473 793.485 L170.927 826.054 L166.042 826.054 L177.848 795.429 L161.251 795.429 L161.251 791.494 Z\" fill=\"#000000\" fill-rule=\"evenodd\" fill-opacity=\"1\" /><path clip-path=\"url(#clip370)\" d=\"M192.639 791.494 L210.996 791.494 L210.996 795.429 L196.922 795.429 L196.922 803.901 Q197.94 803.554 198.959 803.392 Q199.977 803.207 200.996 803.207 Q206.783 803.207 210.162 806.378 Q213.542 809.549 213.542 814.966 Q213.542 820.545 210.07 823.647 Q206.598 826.725 200.278 826.725 Q198.102 826.725 195.834 826.355 Q193.588 825.985 191.181 825.244 L191.181 820.545 Q193.264 821.679 195.487 822.235 Q197.709 822.79 200.186 822.79 Q204.19 822.79 206.528 820.684 Q208.866 818.577 208.866 814.966 Q208.866 811.355 206.528 809.249 Q204.19 807.142 200.186 807.142 Q198.311 807.142 196.436 807.559 Q194.584 807.975 192.639 808.855 L192.639 791.494 Z\" fill=\"#000000\" fill-rule=\"evenodd\" fill-opacity=\"1\" /><path clip-path=\"url(#clip370)\" d=\"M126.205 574.506 Q122.593 574.506 120.765 578.07 Q118.959 581.612 118.959 588.742 Q118.959 595.848 120.765 599.413 Q122.593 602.954 126.205 602.954 Q129.839 602.954 131.644 599.413 Q133.473 595.848 133.473 588.742 Q133.473 581.612 131.644 578.07 Q129.839 574.506 126.205 574.506 M126.205 570.802 Q132.015 570.802 135.07 575.408 Q138.149 579.992 138.149 588.742 Q138.149 597.468 135.07 602.075 Q132.015 606.658 126.205 606.658 Q120.394 606.658 117.316 602.075 Q114.26 597.468 114.26 588.742 Q114.26 579.992 117.316 575.408 Q120.394 570.802 126.205 570.802 Z\" fill=\"#000000\" fill-rule=\"evenodd\" fill-opacity=\"1\" /><path clip-path=\"url(#clip370)\" d=\"M146.366 600.107 L151.251 600.107 L151.251 605.987 L146.366 605.987 L146.366 600.107 Z\" fill=\"#000000\" fill-rule=\"evenodd\" fill-opacity=\"1\" /><path clip-path=\"url(#clip370)\" d=\"M171.436 589.575 Q168.102 589.575 166.181 591.357 Q164.283 593.14 164.283 596.265 Q164.283 599.39 166.181 601.172 Q168.102 602.954 171.436 602.954 Q174.769 602.954 176.69 601.172 Q178.612 599.367 178.612 596.265 Q178.612 593.14 176.69 591.357 Q174.792 589.575 171.436 589.575 M166.76 587.584 Q163.751 586.843 162.061 584.783 Q160.394 582.723 160.394 579.76 Q160.394 575.617 163.334 573.209 Q166.297 570.802 171.436 570.802 Q176.598 570.802 179.538 573.209 Q182.477 575.617 182.477 579.76 Q182.477 582.723 180.788 584.783 Q179.121 586.843 176.135 587.584 Q179.514 588.371 181.389 590.663 Q183.288 592.955 183.288 596.265 Q183.288 601.288 180.209 603.973 Q177.153 606.658 171.436 606.658 Q165.718 606.658 162.64 603.973 Q159.584 601.288 159.584 596.265 Q159.584 592.955 161.482 590.663 Q163.38 588.371 166.76 587.584 M165.047 580.2 Q165.047 582.885 166.714 584.39 Q168.403 585.894 171.436 585.894 Q174.445 585.894 176.135 584.39 Q177.848 582.885 177.848 580.2 Q177.848 577.515 176.135 576.01 Q174.445 574.506 171.436 574.506 Q168.403 574.506 166.714 576.01 Q165.047 577.515 165.047 580.2 Z\" fill=\"#000000\" fill-rule=\"evenodd\" fill-opacity=\"1\" /><path clip-path=\"url(#clip370)\" d=\"M201.598 574.506 Q197.987 574.506 196.158 578.07 Q194.352 581.612 194.352 588.742 Q194.352 595.848 196.158 599.413 Q197.987 602.954 201.598 602.954 Q205.232 602.954 207.037 599.413 Q208.866 595.848 208.866 588.742 Q208.866 581.612 207.037 578.07 Q205.232 574.506 201.598 574.506 M201.598 570.802 Q207.408 570.802 210.463 575.408 Q213.542 579.992 213.542 588.742 Q213.542 597.468 210.463 602.075 Q207.408 606.658 201.598 606.658 Q195.787 606.658 192.709 602.075 Q189.653 597.468 189.653 588.742 Q189.653 579.992 192.709 575.408 Q195.787 570.802 201.598 570.802 Z\" fill=\"#000000\" fill-rule=\"evenodd\" fill-opacity=\"1\" /><path clip-path=\"url(#clip370)\" d=\"M127.2 354.438 Q123.589 354.438 121.76 358.003 Q119.955 361.545 119.955 368.674 Q119.955 375.781 121.76 379.346 Q123.589 382.887 127.2 382.887 Q130.834 382.887 132.64 379.346 Q134.468 375.781 134.468 368.674 Q134.468 361.545 132.64 358.003 Q130.834 354.438 127.2 354.438 M127.2 350.735 Q133.01 350.735 136.066 355.341 Q139.144 359.924 139.144 368.674 Q139.144 377.401 136.066 382.008 Q133.01 386.591 127.2 386.591 Q121.39 386.591 118.311 382.008 Q115.256 377.401 115.256 368.674 Q115.256 359.924 118.311 355.341 Q121.39 350.735 127.2 350.735 Z\" fill=\"#000000\" fill-rule=\"evenodd\" fill-opacity=\"1\" /><path clip-path=\"url(#clip370)\" d=\"M147.362 380.04 L152.246 380.04 L152.246 385.92 L147.362 385.92 L147.362 380.04 Z\" fill=\"#000000\" fill-rule=\"evenodd\" fill-opacity=\"1\" /><path clip-path=\"url(#clip370)\" d=\"M172.431 369.508 Q169.098 369.508 167.177 371.29 Q165.278 373.073 165.278 376.198 Q165.278 379.323 167.177 381.105 Q169.098 382.887 172.431 382.887 Q175.764 382.887 177.686 381.105 Q179.607 379.299 179.607 376.198 Q179.607 373.073 177.686 371.29 Q175.788 369.508 172.431 369.508 M167.755 367.517 Q164.746 366.776 163.056 364.716 Q161.39 362.656 161.39 359.693 Q161.39 355.55 164.329 353.142 Q167.292 350.735 172.431 350.735 Q177.593 350.735 180.533 353.142 Q183.473 355.55 183.473 359.693 Q183.473 362.656 181.783 364.716 Q180.116 366.776 177.13 367.517 Q180.51 368.304 182.385 370.596 Q184.283 372.887 184.283 376.198 Q184.283 381.221 181.204 383.906 Q178.149 386.591 172.431 386.591 Q166.714 386.591 163.635 383.906 Q160.579 381.221 160.579 376.198 Q160.579 372.887 162.477 370.596 Q164.376 368.304 167.755 367.517 M166.042 360.133 Q166.042 362.818 167.709 364.323 Q169.399 365.827 172.431 365.827 Q175.44 365.827 177.13 364.323 Q178.843 362.818 178.843 360.133 Q178.843 357.448 177.13 355.943 Q175.44 354.438 172.431 354.438 Q169.399 354.438 167.709 355.943 Q166.042 357.448 166.042 360.133 Z\" fill=\"#000000\" fill-rule=\"evenodd\" fill-opacity=\"1\" /><path clip-path=\"url(#clip370)\" d=\"M192.639 351.36 L210.996 351.36 L210.996 355.295 L196.922 355.295 L196.922 363.767 Q197.94 363.42 198.959 363.258 Q199.977 363.073 200.996 363.073 Q206.783 363.073 210.162 366.244 Q213.542 369.415 213.542 374.832 Q213.542 380.41 210.07 383.512 Q206.598 386.591 200.278 386.591 Q198.102 386.591 195.834 386.221 Q193.588 385.85 191.181 385.11 L191.181 380.41 Q193.264 381.545 195.487 382.1 Q197.709 382.656 200.186 382.656 Q204.19 382.656 206.528 380.549 Q208.866 378.443 208.866 374.832 Q208.866 371.221 206.528 369.114 Q204.19 367.008 200.186 367.008 Q198.311 367.008 196.436 367.424 Q194.584 367.841 192.639 368.721 L192.639 351.36 Z\" fill=\"#000000\" fill-rule=\"evenodd\" fill-opacity=\"1\" /><path clip-path=\"url(#clip370)\" d=\"M126.205 134.371 Q122.593 134.371 120.765 137.936 Q118.959 141.478 118.959 148.607 Q118.959 155.714 120.765 159.279 Q122.593 162.82 126.205 162.82 Q129.839 162.82 131.644 159.279 Q133.473 155.714 133.473 148.607 Q133.473 141.478 131.644 137.936 Q129.839 134.371 126.205 134.371 M126.205 130.668 Q132.015 130.668 135.07 135.274 Q138.149 139.857 138.149 148.607 Q138.149 157.334 135.07 161.941 Q132.015 166.524 126.205 166.524 Q120.394 166.524 117.316 161.941 Q114.26 157.334 114.26 148.607 Q114.26 139.857 117.316 135.274 Q120.394 130.668 126.205 130.668 Z\" fill=\"#000000\" fill-rule=\"evenodd\" fill-opacity=\"1\" /><path clip-path=\"url(#clip370)\" d=\"M146.366 159.973 L151.251 159.973 L151.251 165.853 L146.366 165.853 L146.366 159.973 Z\" fill=\"#000000\" fill-rule=\"evenodd\" fill-opacity=\"1\" /><path clip-path=\"url(#clip370)\" d=\"M161.575 165.135 L161.575 160.876 Q163.334 161.709 165.14 162.149 Q166.945 162.589 168.681 162.589 Q173.311 162.589 175.741 159.487 Q178.195 156.362 178.542 150.019 Q177.2 152.01 175.139 153.075 Q173.079 154.14 170.579 154.14 Q165.394 154.14 162.362 151.015 Q159.353 147.867 159.353 142.427 Q159.353 137.103 162.501 133.885 Q165.649 130.668 170.88 130.668 Q176.876 130.668 180.024 135.274 Q183.195 139.857 183.195 148.607 Q183.195 156.779 179.306 161.663 Q175.44 166.524 168.889 166.524 Q167.13 166.524 165.325 166.177 Q163.519 165.829 161.575 165.135 M170.88 150.482 Q174.028 150.482 175.857 148.33 Q177.709 146.177 177.709 142.427 Q177.709 138.7 175.857 136.547 Q174.028 134.371 170.88 134.371 Q167.732 134.371 165.88 136.547 Q164.052 138.7 164.052 142.427 Q164.052 146.177 165.88 148.33 Q167.732 150.482 170.88 150.482 Z\" fill=\"#000000\" fill-rule=\"evenodd\" fill-opacity=\"1\" /><path clip-path=\"url(#clip370)\" d=\"M201.598 134.371 Q197.987 134.371 196.158 137.936 Q194.352 141.478 194.352 148.607 Q194.352 155.714 196.158 159.279 Q197.987 162.82 201.598 162.82 Q205.232 162.82 207.037 159.279 Q208.866 155.714 208.866 148.607 Q208.866 141.478 207.037 137.936 Q205.232 134.371 201.598 134.371 M201.598 130.668 Q207.408 130.668 210.463 135.274 Q213.542 139.857 213.542 148.607 Q213.542 157.334 210.463 161.941 Q207.408 166.524 201.598 166.524 Q195.787 166.524 192.709 161.941 Q189.653 157.334 189.653 148.607 Q189.653 139.857 192.709 135.274 Q195.787 130.668 201.598 130.668 Z\" fill=\"#000000\" fill-rule=\"evenodd\" fill-opacity=\"1\" /><path clip-path=\"url(#clip370)\" d=\"M16.4842 1237.77 L16.4842 1229.11 L56.238 1208.04 L16.4842 1208.04 L16.4842 1201.8 L64.0042 1201.8 L64.0042 1210.46 L24.2503 1231.53 L64.0042 1231.53 L64.0042 1237.77 L16.4842 1237.77 Z\" fill=\"#000000\" fill-rule=\"evenodd\" fill-opacity=\"1\" /><path clip-path=\"url(#clip370)\" d=\"M32.4621 1175.45 Q32.4621 1180.16 36.1542 1182.9 Q39.8145 1185.63 46.212 1185.63 Q52.6095 1185.63 56.3017 1182.93 Q59.9619 1180.19 59.9619 1175.45 Q59.9619 1170.77 56.2698 1168.03 Q52.5777 1165.3 46.212 1165.3 Q39.8781 1165.3 36.186 1168.03 Q32.4621 1170.77 32.4621 1175.45 M27.4968 1175.45 Q27.4968 1167.81 32.4621 1163.45 Q37.4273 1159.09 46.212 1159.09 Q54.9649 1159.09 59.9619 1163.45 Q64.9272 1167.81 64.9272 1175.45 Q64.9272 1183.12 59.9619 1187.48 Q54.9649 1191.81 46.212 1191.81 Q37.4273 1191.81 32.4621 1187.48 Q27.4968 1183.12 27.4968 1175.45 Z\" fill=\"#000000\" fill-rule=\"evenodd\" fill-opacity=\"1\" /><path clip-path=\"url(#clip370)\" d=\"M33.8307 1128.72 Q33.2578 1129.71 33.0032 1130.89 Q32.7167 1132.03 32.7167 1133.43 Q32.7167 1138.4 35.9632 1141.07 Q39.1779 1143.72 45.2253 1143.72 L64.0042 1143.72 L64.0042 1149.6 L28.3562 1149.6 L28.3562 1143.72 L33.8944 1143.72 Q30.6479 1141.87 29.0883 1138.91 Q27.4968 1135.95 27.4968 1131.72 Q27.4968 1131.11 27.5923 1130.38 Q27.656 1129.65 27.8151 1128.76 L33.8307 1128.72 Z\" fill=\"#000000\" fill-rule=\"evenodd\" fill-opacity=\"1\" /><path clip-path=\"url(#clip370)\" d=\"M35.1993 1095.97 Q31.2526 1093.78 29.3747 1090.72 Q27.4968 1087.67 27.4968 1083.53 Q27.4968 1077.96 31.4117 1074.93 Q35.2948 1071.91 42.4881 1071.91 L64.0042 1071.91 L64.0042 1077.8 L42.679 1077.8 Q37.5546 1077.8 35.072 1079.61 Q32.5894 1081.43 32.5894 1085.15 Q32.5894 1089.7 35.6131 1092.34 Q38.6368 1094.99 43.8567 1094.99 L64.0042 1094.99 L64.0042 1100.87 L42.679 1100.87 Q37.5228 1100.87 35.072 1102.69 Q32.5894 1104.5 32.5894 1108.29 Q32.5894 1112.78 35.6449 1115.42 Q38.6686 1118.06 43.8567 1118.06 L64.0042 1118.06 L64.0042 1123.95 L28.3562 1123.95 L28.3562 1118.06 L33.8944 1118.06 Q30.616 1116.06 29.0564 1113.26 Q27.4968 1110.45 27.4968 1106.6 Q27.4968 1102.72 29.4702 1100.01 Q31.4436 1097.28 35.1993 1095.97 Z\" fill=\"#000000\" fill-rule=\"evenodd\" fill-opacity=\"1\" /><path clip-path=\"url(#clip370)\" d=\"M46.0847 1044.03 Q46.0847 1051.13 47.7079 1053.86 Q49.3312 1056.6 53.2461 1056.6 Q56.3653 1056.6 58.2114 1054.56 Q60.0256 1052.49 60.0256 1048.96 Q60.0256 1044.09 56.5881 1041.16 Q53.1188 1038.2 47.3897 1038.2 L46.0847 1038.2 L46.0847 1044.03 M43.6657 1032.35 L64.0042 1032.35 L64.0042 1038.2 L58.5933 1038.2 Q61.8398 1040.21 63.3994 1043.2 Q64.9272 1046.19 64.9272 1050.52 Q64.9272 1056 61.8716 1059.24 Q58.7843 1062.46 53.6281 1062.46 Q47.6125 1062.46 44.5569 1058.45 Q41.5014 1054.4 41.5014 1046.42 L41.5014 1038.2 L40.9285 1038.2 Q36.8862 1038.2 34.6901 1040.88 Q32.4621 1043.52 32.4621 1048.33 Q32.4621 1051.38 33.1941 1054.28 Q33.9262 1057.17 35.3903 1059.85 L29.9795 1059.85 Q28.7381 1056.63 28.1334 1053.61 Q27.4968 1050.58 27.4968 1047.72 Q27.4968 1039.99 31.5072 1036.17 Q35.5176 1032.35 43.6657 1032.35 Z\" fill=\"#000000\" fill-rule=\"evenodd\" fill-opacity=\"1\" /><path clip-path=\"url(#clip370)\" d=\"M14.479 1020.28 L14.479 1014.43 L64.0042 1014.43 L64.0042 1020.28 L14.479 1020.28 Z\" fill=\"#000000\" fill-rule=\"evenodd\" fill-opacity=\"1\" /><path clip-path=\"url(#clip370)\" d=\"M28.3562 1002.17 L28.3562 996.317 L64.0042 996.317 L64.0042 1002.17 L28.3562 1002.17 M14.479 1002.17 L14.479 996.317 L21.895 996.317 L21.895 1002.17 L14.479 1002.17 Z\" fill=\"#000000\" fill-rule=\"evenodd\" fill-opacity=\"1\" /><path clip-path=\"url(#clip370)\" d=\"M28.3562 986.61 L28.3562 958.791 L33.7034 958.791 L59.3254 980.817 L59.3254 958.791 L64.0042 958.791 L64.0042 987.405 L58.657 987.405 L33.035 965.38 L33.035 986.61 L28.3562 986.61 Z\" fill=\"#000000\" fill-rule=\"evenodd\" fill-opacity=\"1\" /><path clip-path=\"url(#clip370)\" d=\"M44.7161 919.356 L47.5806 919.356 L47.5806 946.283 Q53.6281 945.901 56.8109 942.654 Q59.9619 939.376 59.9619 933.551 Q59.9619 930.178 59.1344 927.027 Q58.3069 923.844 56.6518 920.725 L62.1899 920.725 Q63.5267 923.876 64.227 927.186 Q64.9272 930.496 64.9272 933.902 Q64.9272 942.432 59.9619 947.429 Q54.9967 952.394 46.5303 952.394 Q37.7774 952.394 32.6531 947.683 Q27.4968 942.941 27.4968 934.92 Q27.4968 927.727 32.1438 923.557 Q36.7589 919.356 44.7161 919.356 M42.9973 925.212 Q38.1912 925.276 35.3266 927.918 Q32.4621 930.528 32.4621 934.856 Q32.4621 939.758 35.2312 942.718 Q38.0002 945.646 43.0292 946.092 L42.9973 925.212 Z\" fill=\"#000000\" fill-rule=\"evenodd\" fill-opacity=\"1\" /><path clip-path=\"url(#clip370)\" d=\"M33.7671 886.286 L14.479 886.286 L14.479 880.43 L64.0042 880.43 L64.0042 886.286 L58.657 886.286 Q61.8398 888.132 63.3994 890.965 Q64.9272 893.766 64.9272 897.713 Q64.9272 904.174 59.771 908.248 Q54.6147 912.29 46.212 912.29 Q37.8093 912.29 32.6531 908.248 Q27.4968 904.174 27.4968 897.713 Q27.4968 893.766 29.0564 890.965 Q30.5842 888.132 33.7671 886.286 M46.212 906.243 Q52.6732 906.243 56.3653 903.601 Q60.0256 900.927 60.0256 896.28 Q60.0256 891.633 56.3653 888.96 Q52.6732 886.286 46.212 886.286 Q39.7508 886.286 36.0905 888.96 Q32.3984 891.633 32.3984 896.28 Q32.3984 900.927 36.0905 903.601 Q39.7508 906.243 46.212 906.243 Z\" fill=\"#000000\" fill-rule=\"evenodd\" fill-opacity=\"1\" /><path clip-path=\"url(#clip370)\" d=\"M35.1993 819.892 Q31.2526 817.696 29.3747 814.64 Q27.4968 811.585 27.4968 807.447 Q27.4968 801.877 31.4117 798.853 Q35.2948 795.829 42.4881 795.829 L64.0042 795.829 L64.0042 801.718 L42.679 801.718 Q37.5546 801.718 35.072 803.532 Q32.5894 805.346 32.5894 809.07 Q32.5894 813.622 35.6131 816.263 Q38.6368 818.905 43.8567 818.905 L64.0042 818.905 L64.0042 824.793 L42.679 824.793 Q37.5228 824.793 35.072 826.608 Q32.5894 828.422 32.5894 832.209 Q32.5894 836.697 35.6449 839.339 Q38.6686 841.981 43.8567 841.981 L64.0042 841.981 L64.0042 847.869 L28.3562 847.869 L28.3562 841.981 L33.8944 841.981 Q30.616 839.976 29.0564 837.175 Q27.4968 834.374 27.4968 830.523 Q27.4968 826.639 29.4702 823.934 Q31.4436 821.197 35.1993 819.892 Z\" fill=\"#000000\" fill-rule=\"evenodd\" fill-opacity=\"1\" /><path clip-path=\"url(#clip370)\" d=\"M49.9359 784.753 L28.3562 784.753 L28.3562 778.897 L49.7131 778.897 Q54.7739 778.897 57.3202 776.923 Q59.8346 774.95 59.8346 771.003 Q59.8346 766.261 56.8109 763.523 Q53.7872 760.754 48.5673 760.754 L28.3562 760.754 L28.3562 754.898 L64.0042 754.898 L64.0042 760.754 L58.5296 760.754 Q61.7762 762.887 63.3676 765.72 Q64.9272 768.521 64.9272 772.244 Q64.9272 778.387 61.1078 781.57 Q57.2883 784.753 49.9359 784.753 M27.4968 770.016 L27.4968 770.016 Z\" fill=\"#000000\" fill-rule=\"evenodd\" fill-opacity=\"1\" /><path clip-path=\"url(#clip370)\" d=\"M18.2347 737.042 L28.3562 737.042 L28.3562 724.979 L32.9077 724.979 L32.9077 737.042 L52.2594 737.042 Q56.6199 737.042 57.8613 735.864 Q59.1026 734.655 59.1026 730.995 L59.1026 724.979 L64.0042 724.979 L64.0042 730.995 Q64.0042 737.774 61.4897 740.352 Q58.9434 742.93 52.2594 742.93 L32.9077 742.93 L32.9077 747.227 L28.3562 747.227 L28.3562 742.93 L18.2347 742.93 L18.2347 737.042 Z\" fill=\"#000000\" fill-rule=\"evenodd\" fill-opacity=\"1\" /><path clip-path=\"url(#clip370)\" d=\"M49.9359 717.881 L28.3562 717.881 L28.3562 712.025 L49.7131 712.025 Q54.7739 712.025 57.3202 710.052 Q59.8346 708.078 59.8346 704.131 Q59.8346 699.389 56.8109 696.652 Q53.7872 693.883 48.5673 693.883 L28.3562 693.883 L28.3562 688.026 L64.0042 688.026 L64.0042 693.883 L58.5296 693.883 Q61.7762 696.015 63.3676 698.848 Q64.9272 701.649 64.9272 705.373 Q64.9272 711.516 61.1078 714.698 Q57.2883 717.881 49.9359 717.881 M27.4968 703.145 L27.4968 703.145 Z\" fill=\"#000000\" fill-rule=\"evenodd\" fill-opacity=\"1\" /><path clip-path=\"url(#clip370)\" d=\"M46.0847 659.762 Q46.0847 666.86 47.7079 669.597 Q49.3312 672.335 53.2461 672.335 Q56.3653 672.335 58.2114 670.298 Q60.0256 668.229 60.0256 664.696 Q60.0256 659.826 56.5881 656.898 Q53.1188 653.938 47.3897 653.938 L46.0847 653.938 L46.0847 659.762 M43.6657 648.081 L64.0042 648.081 L64.0042 653.938 L58.5933 653.938 Q61.8398 655.943 63.3994 658.935 Q64.9272 661.927 64.9272 666.255 Q64.9272 671.73 61.8716 674.976 Q58.7843 678.191 53.6281 678.191 Q47.6125 678.191 44.5569 674.181 Q41.5014 670.139 41.5014 662.15 L41.5014 653.938 L40.9285 653.938 Q36.8862 653.938 34.6901 656.611 Q32.4621 659.253 32.4621 664.059 Q32.4621 667.115 33.1941 670.011 Q33.9262 672.908 35.3903 675.581 L29.9795 675.581 Q28.7381 672.367 28.1334 669.343 Q27.4968 666.319 27.4968 663.455 Q27.4968 655.72 31.5072 651.901 Q35.5176 648.081 43.6657 648.081 Z\" fill=\"#000000\" fill-rule=\"evenodd\" fill-opacity=\"1\" /><path clip-path=\"url(#clip370)\" d=\"M14.479 636.018 L14.479 630.162 L64.0042 630.162 L64.0042 636.018 L14.479 636.018 Z\" fill=\"#000000\" fill-rule=\"evenodd\" fill-opacity=\"1\" /><path clip-path=\"url(#clip370)\" d=\"M28.3562 597.188 L28.3562 591.331 L64.0042 591.331 L64.0042 597.188 L28.3562 597.188 M14.479 597.188 L14.479 591.331 L21.895 591.331 L21.895 597.188 L14.479 597.188 Z\" fill=\"#000000\" fill-rule=\"evenodd\" fill-opacity=\"1\" /><path clip-path=\"url(#clip370)\" d=\"M42.4881 549.445 L64.0042 549.445 L64.0042 555.301 L42.679 555.301 Q37.6183 555.301 35.1038 557.275 Q32.5894 559.248 32.5894 563.195 Q32.5894 567.937 35.6131 570.674 Q38.6368 573.412 43.8567 573.412 L64.0042 573.412 L64.0042 579.3 L28.3562 579.3 L28.3562 573.412 L33.8944 573.412 Q30.6797 571.311 29.0883 568.478 Q27.4968 565.614 27.4968 561.89 Q27.4968 555.747 31.3163 552.596 Q35.1038 549.445 42.4881 549.445 Z\" fill=\"#000000\" fill-rule=\"evenodd\" fill-opacity=\"1\" /><path clip-path=\"url(#clip370)\" d=\"M14.479 519.717 L19.3487 519.717 L19.3487 525.319 Q19.3487 528.47 20.6219 529.711 Q21.895 530.921 25.2052 530.921 L28.3562 530.921 L28.3562 521.276 L32.9077 521.276 L32.9077 530.921 L64.0042 530.921 L64.0042 536.809 L32.9077 536.809 L32.9077 542.411 L28.3562 542.411 L28.3562 536.809 L25.8736 536.809 Q19.9216 536.809 17.2162 534.04 Q14.479 531.271 14.479 525.255 L14.479 519.717 Z\" fill=\"#000000\" fill-rule=\"evenodd\" fill-opacity=\"1\" /><path clip-path=\"url(#clip370)\" d=\"M32.4621 501.002 Q32.4621 505.712 36.1542 508.45 Q39.8145 511.187 46.212 511.187 Q52.6095 511.187 56.3017 508.481 Q59.9619 505.744 59.9619 501.002 Q59.9619 496.323 56.2698 493.586 Q52.5777 490.848 46.212 490.848 Q39.8781 490.848 36.186 493.586 Q32.4621 496.323 32.4621 501.002 M27.4968 501.002 Q27.4968 493.363 32.4621 489.002 Q37.4273 484.642 46.212 484.642 Q54.9649 484.642 59.9619 489.002 Q64.9272 493.363 64.9272 501.002 Q64.9272 508.672 59.9619 513.033 Q54.9649 517.362 46.212 517.362 Q37.4273 517.362 32.4621 513.033 Q27.4968 508.672 27.4968 501.002 Z\" fill=\"#000000\" fill-rule=\"evenodd\" fill-opacity=\"1\" /><path clip-path=\"url(#clip370)\" d=\"M33.8307 454.277 Q33.2578 455.264 33.0032 456.442 Q32.7167 457.588 32.7167 458.988 Q32.7167 463.953 35.9632 466.627 Q39.1779 469.269 45.2253 469.269 L64.0042 469.269 L64.0042 475.157 L28.3562 475.157 L28.3562 469.269 L33.8944 469.269 Q30.6479 467.423 29.0883 464.463 Q27.4968 461.502 27.4968 457.269 Q27.4968 456.665 27.5923 455.933 Q27.656 455.2 27.8151 454.309 L33.8307 454.277 Z\" fill=\"#000000\" fill-rule=\"evenodd\" fill-opacity=\"1\" /><path clip-path=\"url(#clip370)\" d=\"M35.1993 421.526 Q31.2526 419.33 29.3747 416.274 Q27.4968 413.219 27.4968 409.081 Q27.4968 403.511 31.4117 400.487 Q35.2948 397.463 42.4881 397.463 L64.0042 397.463 L64.0042 403.352 L42.679 403.352 Q37.5546 403.352 35.072 405.166 Q32.5894 406.98 32.5894 410.704 Q32.5894 415.256 35.6131 417.897 Q38.6368 420.539 43.8567 420.539 L64.0042 420.539 L64.0042 426.427 L42.679 426.427 Q37.5228 426.427 35.072 428.242 Q32.5894 430.056 32.5894 433.844 Q32.5894 438.331 35.6449 440.973 Q38.6686 443.615 43.8567 443.615 L64.0042 443.615 L64.0042 449.503 L28.3562 449.503 L28.3562 443.615 L33.8944 443.615 Q30.616 441.61 29.0564 438.809 Q27.4968 436.008 27.4968 432.157 Q27.4968 428.274 29.4702 425.568 Q31.4436 422.831 35.1993 421.526 Z\" fill=\"#000000\" fill-rule=\"evenodd\" fill-opacity=\"1\" /><path clip-path=\"url(#clip370)\" d=\"M46.0847 369.582 Q46.0847 376.679 47.7079 379.417 Q49.3312 382.154 53.2461 382.154 Q56.3653 382.154 58.2114 380.117 Q60.0256 378.048 60.0256 374.515 Q60.0256 369.645 56.5881 366.717 Q53.1188 363.757 47.3897 363.757 L46.0847 363.757 L46.0847 369.582 M43.6657 357.901 L64.0042 357.901 L64.0042 363.757 L58.5933 363.757 Q61.8398 365.762 63.3994 368.754 Q64.9272 371.746 64.9272 376.075 Q64.9272 381.549 61.8716 384.796 Q58.7843 388.01 53.6281 388.01 Q47.6125 388.01 44.5569 384 Q41.5014 379.958 41.5014 371.969 L41.5014 363.757 L40.9285 363.757 Q36.8862 363.757 34.6901 366.431 Q32.4621 369.072 32.4621 373.879 Q32.4621 376.934 33.1941 379.83 Q33.9262 382.727 35.3903 385.4 L29.9795 385.4 Q28.7381 382.186 28.1334 379.162 Q27.4968 376.138 27.4968 373.274 Q27.4968 365.539 31.5072 361.72 Q35.5176 357.901 43.6657 357.901 Z\" fill=\"#000000\" fill-rule=\"evenodd\" fill-opacity=\"1\" /><path clip-path=\"url(#clip370)\" d=\"M18.2347 340.045 L28.3562 340.045 L28.3562 327.982 L32.9077 327.982 L32.9077 340.045 L52.2594 340.045 Q56.6199 340.045 57.8613 338.867 Q59.1026 337.658 59.1026 333.997 L59.1026 327.982 L64.0042 327.982 L64.0042 333.997 Q64.0042 340.777 61.4897 343.355 Q58.9434 345.933 52.2594 345.933 L32.9077 345.933 L32.9077 350.23 L28.3562 350.23 L28.3562 345.933 L18.2347 345.933 L18.2347 340.045 Z\" fill=\"#000000\" fill-rule=\"evenodd\" fill-opacity=\"1\" /><path clip-path=\"url(#clip370)\" d=\"M28.3562 320.279 L28.3562 314.423 L64.0042 314.423 L64.0042 320.279 L28.3562 320.279 M14.479 320.279 L14.479 314.423 L21.895 314.423 L21.895 320.279 L14.479 320.279 Z\" fill=\"#000000\" fill-rule=\"evenodd\" fill-opacity=\"1\" /><path clip-path=\"url(#clip370)\" d=\"M32.4621 288.355 Q32.4621 293.066 36.1542 295.803 Q39.8145 298.54 46.212 298.54 Q52.6095 298.54 56.3017 295.835 Q59.9619 293.098 59.9619 288.355 Q59.9619 283.676 56.2698 280.939 Q52.5777 278.202 46.212 278.202 Q39.8781 278.202 36.186 280.939 Q32.4621 283.676 32.4621 288.355 M27.4968 288.355 Q27.4968 280.716 32.4621 276.356 Q37.4273 271.995 46.212 271.995 Q54.9649 271.995 59.9619 276.356 Q64.9272 280.716 64.9272 288.355 Q64.9272 296.026 59.9619 300.386 Q54.9649 304.715 46.212 304.715 Q37.4273 304.715 32.4621 300.386 Q27.4968 296.026 27.4968 288.355 Z\" fill=\"#000000\" fill-rule=\"evenodd\" fill-opacity=\"1\" /><path clip-path=\"url(#clip370)\" d=\"M42.4881 232.655 L64.0042 232.655 L64.0042 238.512 L42.679 238.512 Q37.6183 238.512 35.1038 240.485 Q32.5894 242.459 32.5894 246.405 Q32.5894 251.148 35.6131 253.885 Q38.6368 256.622 43.8567 256.622 L64.0042 256.622 L64.0042 262.511 L28.3562 262.511 L28.3562 256.622 L33.8944 256.622 Q30.6797 254.522 29.0883 251.689 Q27.4968 248.824 27.4968 245.1 Q27.4968 238.957 31.3163 235.806 Q35.1038 232.655 42.4881 232.655 Z\" fill=\"#000000\" fill-rule=\"evenodd\" fill-opacity=\"1\" /><polyline clip-path=\"url(#clip372)\" style=\"stroke:#009af9; stroke-linecap:butt; stroke-linejoin:round; stroke-width:4; stroke-opacity:1; fill:none\" points=\"\n",
       "  309.067,1303.1 529.53,748.374 749.992,402.552 970.455,294.765 1190.92,306.972 1411.38,264.116 1631.84,173.703 1852.31,173.238 2072.77,119.818 2293.23,135.444 \n",
       "  \n",
       "  \"/>\n",
       "<polyline clip-path=\"url(#clip372)\" style=\"stroke:#009af9; stroke-linecap:butt; stroke-linejoin:round; stroke-width:4; stroke-opacity:1; fill:none\" points=\"\n",
       "  309.067,1384.24 309.067,1221.96 \n",
       "  \"/>\n",
       "<polyline clip-path=\"url(#clip372)\" style=\"stroke:#009af9; stroke-linecap:butt; stroke-linejoin:round; stroke-width:4; stroke-opacity:1; fill:none\" points=\"\n",
       "  529.53,821.7 529.53,675.047 \n",
       "  \"/>\n",
       "<polyline clip-path=\"url(#clip372)\" style=\"stroke:#009af9; stroke-linecap:butt; stroke-linejoin:round; stroke-width:4; stroke-opacity:1; fill:none\" points=\"\n",
       "  749.992,414.061 749.992,391.042 \n",
       "  \"/>\n",
       "<polyline clip-path=\"url(#clip372)\" style=\"stroke:#009af9; stroke-linecap:butt; stroke-linejoin:round; stroke-width:4; stroke-opacity:1; fill:none\" points=\"\n",
       "  970.455,400.715 970.455,188.814 \n",
       "  \"/>\n",
       "<polyline clip-path=\"url(#clip372)\" style=\"stroke:#009af9; stroke-linecap:butt; stroke-linejoin:round; stroke-width:4; stroke-opacity:1; fill:none\" points=\"\n",
       "  1190.92,404.107 1190.92,209.837 \n",
       "  \"/>\n",
       "<polyline clip-path=\"url(#clip372)\" style=\"stroke:#009af9; stroke-linecap:butt; stroke-linejoin:round; stroke-width:4; stroke-opacity:1; fill:none\" points=\"\n",
       "  1411.38,286.418 1411.38,241.814 \n",
       "  \"/>\n",
       "<polyline clip-path=\"url(#clip372)\" style=\"stroke:#009af9; stroke-linecap:butt; stroke-linejoin:round; stroke-width:4; stroke-opacity:1; fill:none\" points=\"\n",
       "  1631.84,223.713 1631.84,123.694 \n",
       "  \"/>\n",
       "<polyline clip-path=\"url(#clip372)\" style=\"stroke:#009af9; stroke-linecap:butt; stroke-linejoin:round; stroke-width:4; stroke-opacity:1; fill:none\" points=\"\n",
       "  1852.31,233.404 1852.31,113.072 \n",
       "  \"/>\n",
       "<polyline clip-path=\"url(#clip372)\" style=\"stroke:#009af9; stroke-linecap:butt; stroke-linejoin:round; stroke-width:4; stroke-opacity:1; fill:none\" points=\"\n",
       "  2072.77,153.449 2072.77,86.1857 \n",
       "  \"/>\n",
       "<polyline clip-path=\"url(#clip372)\" style=\"stroke:#009af9; stroke-linecap:butt; stroke-linejoin:round; stroke-width:4; stroke-opacity:1; fill:none\" points=\"\n",
       "  2293.23,142.283 2293.23,128.606 \n",
       "  \"/>\n",
       "<line clip-path=\"url(#clip372)\" x1=\"325.067\" y1=\"1384.24\" x2=\"293.067\" y2=\"1384.24\" style=\"stroke:#009af9; stroke-width:3.2; stroke-opacity:1\"/>\n",
       "<line clip-path=\"url(#clip372)\" x1=\"325.067\" y1=\"1221.96\" x2=\"293.067\" y2=\"1221.96\" style=\"stroke:#009af9; stroke-width:3.2; stroke-opacity:1\"/>\n",
       "<line clip-path=\"url(#clip372)\" x1=\"545.53\" y1=\"821.7\" x2=\"513.53\" y2=\"821.7\" style=\"stroke:#009af9; stroke-width:3.2; stroke-opacity:1\"/>\n",
       "<line clip-path=\"url(#clip372)\" x1=\"545.53\" y1=\"675.047\" x2=\"513.53\" y2=\"675.047\" style=\"stroke:#009af9; stroke-width:3.2; stroke-opacity:1\"/>\n",
       "<line clip-path=\"url(#clip372)\" x1=\"765.992\" y1=\"414.061\" x2=\"733.992\" y2=\"414.061\" style=\"stroke:#009af9; stroke-width:3.2; stroke-opacity:1\"/>\n",
       "<line clip-path=\"url(#clip372)\" x1=\"765.992\" y1=\"391.042\" x2=\"733.992\" y2=\"391.042\" style=\"stroke:#009af9; stroke-width:3.2; stroke-opacity:1\"/>\n",
       "<line clip-path=\"url(#clip372)\" x1=\"986.455\" y1=\"400.715\" x2=\"954.455\" y2=\"400.715\" style=\"stroke:#009af9; stroke-width:3.2; stroke-opacity:1\"/>\n",
       "<line clip-path=\"url(#clip372)\" x1=\"986.455\" y1=\"188.814\" x2=\"954.455\" y2=\"188.814\" style=\"stroke:#009af9; stroke-width:3.2; stroke-opacity:1\"/>\n",
       "<line clip-path=\"url(#clip372)\" x1=\"1206.92\" y1=\"404.107\" x2=\"1174.92\" y2=\"404.107\" style=\"stroke:#009af9; stroke-width:3.2; stroke-opacity:1\"/>\n",
       "<line clip-path=\"url(#clip372)\" x1=\"1206.92\" y1=\"209.837\" x2=\"1174.92\" y2=\"209.837\" style=\"stroke:#009af9; stroke-width:3.2; stroke-opacity:1\"/>\n",
       "<line clip-path=\"url(#clip372)\" x1=\"1427.38\" y1=\"286.418\" x2=\"1395.38\" y2=\"286.418\" style=\"stroke:#009af9; stroke-width:3.2; stroke-opacity:1\"/>\n",
       "<line clip-path=\"url(#clip372)\" x1=\"1427.38\" y1=\"241.814\" x2=\"1395.38\" y2=\"241.814\" style=\"stroke:#009af9; stroke-width:3.2; stroke-opacity:1\"/>\n",
       "<line clip-path=\"url(#clip372)\" x1=\"1647.84\" y1=\"223.713\" x2=\"1615.84\" y2=\"223.713\" style=\"stroke:#009af9; stroke-width:3.2; stroke-opacity:1\"/>\n",
       "<line clip-path=\"url(#clip372)\" x1=\"1647.84\" y1=\"123.694\" x2=\"1615.84\" y2=\"123.694\" style=\"stroke:#009af9; stroke-width:3.2; stroke-opacity:1\"/>\n",
       "<line clip-path=\"url(#clip372)\" x1=\"1868.31\" y1=\"233.404\" x2=\"1836.31\" y2=\"233.404\" style=\"stroke:#009af9; stroke-width:3.2; stroke-opacity:1\"/>\n",
       "<line clip-path=\"url(#clip372)\" x1=\"1868.31\" y1=\"113.072\" x2=\"1836.31\" y2=\"113.072\" style=\"stroke:#009af9; stroke-width:3.2; stroke-opacity:1\"/>\n",
       "<line clip-path=\"url(#clip372)\" x1=\"2088.77\" y1=\"153.449\" x2=\"2056.77\" y2=\"153.449\" style=\"stroke:#009af9; stroke-width:3.2; stroke-opacity:1\"/>\n",
       "<line clip-path=\"url(#clip372)\" x1=\"2088.77\" y1=\"86.1857\" x2=\"2056.77\" y2=\"86.1857\" style=\"stroke:#009af9; stroke-width:3.2; stroke-opacity:1\"/>\n",
       "<line clip-path=\"url(#clip372)\" x1=\"2309.23\" y1=\"142.283\" x2=\"2277.23\" y2=\"142.283\" style=\"stroke:#009af9; stroke-width:3.2; stroke-opacity:1\"/>\n",
       "<line clip-path=\"url(#clip372)\" x1=\"2309.23\" y1=\"128.606\" x2=\"2277.23\" y2=\"128.606\" style=\"stroke:#009af9; stroke-width:3.2; stroke-opacity:1\"/>\n",
       "</svg>\n"
      ]
     },
     "metadata": {},
     "output_type": "display_data"
    }
   ],
   "source": [
    "# Plot Normalized mutual information vs d0\n",
    "m = mean(NMIs,dims=2);\n",
    "s = std(NMIs,dims=2);\n",
    "plot(n_clusters_list, m, yerror = s,\n",
    "markerstrokecolor=:auto,\n",
    "xlabel = L\"k\",\n",
    "ylabel = \"Normalized mutual information\",\n",
    "legend = false)\n",
    "\n",
    "savefig(\"figures/nmi_vs_nclusters__mu\"*string(mu)*\".pdf\")\n",
    "plot!()"
   ]
  },
  {
   "cell_type": "code",
   "execution_count": 8,
   "metadata": {},
   "outputs": [],
   "source": []
  }
 ],
 "metadata": {
  "kernelspec": {
   "display_name": "Julia 1.6.3",
   "language": "julia",
   "name": "julia-1.6"
  },
  "language_info": {
   "file_extension": ".jl",
   "mimetype": "application/julia",
   "name": "julia",
   "version": "1.6.3"
  }
 },
 "nbformat": 4,
 "nbformat_minor": 2
}
