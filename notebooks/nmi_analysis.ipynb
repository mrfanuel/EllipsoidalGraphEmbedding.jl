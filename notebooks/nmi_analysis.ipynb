{
 "cells": [
  {
   "cell_type": "code",
   "execution_count": 1,
   "metadata": {},
   "outputs": [],
   "source": [
    "using MatrixNetworks\n",
    "using SparseArrays\n",
    "using LinearAlgebra\n",
    "using Distributions\n",
    "using StatsBase\n",
    "using Printf\n",
    "using Statistics\n",
    "using Clustering\n",
    "using BenchmarkTools, Compat\n",
    "using DelimitedFiles\n",
    "\n",
    "using Plots,LaTeXStrings\n",
    "using EllipsoidalGraphEmbedding\n"
   ]
  },
  {
   "cell_type": "code",
   "execution_count": 6,
   "metadata": {},
   "outputs": [],
   "source": [
    "using LaTeXStrings\n",
    "x = 0:0.1:1\n",
    "y = x.^2\n",
    "using PyPlot\n",
    "p=Plots.plot(x,y,xticks = ([0,1,2],[L\"0\", L\"1\", L\"2\"]))\n",
    "Plots.xlabel!(L\"x.^2\")\n",
    "display(p)"
   ]
  },
  {
   "cell_type": "markdown",
   "metadata": {},
   "source": [
    "### Compute NMI between the retrieved and the true community"
   ]
  },
  {
   "cell_type": "code",
   "execution_count": 2,
   "metadata": {
    "scrolled": true
   },
   "outputs": [
    {
     "name": "stdout",
     "output_type": "stream",
     "text": [
      "\n",
      "========== Graph 1/10 ==========\n"
     ]
    },
    {
     "name": "stdout",
     "output_type": "stream",
     "text": [
      "\n",
      "  ~~~~~ number_rep = 1/3 ~~~~~\n"
     ]
    },
    {
     "name": "stdout",
     "output_type": "stream",
     "text": [
      " ------- Acc Projected Power Iteration -------\n"
     ]
    },
    {
     "name": "stdout",
     "output_type": "stream",
     "text": [
      "The iteration has become stationary after 192 iterations\n",
      "  1.143121 seconds (27.61 k allocations: 399.752 MiB, 9.75% gc time, 6.66% compilation time)\n"
     ]
    },
    {
     "name": "stdout",
     "output_type": "stream",
     "text": [
      " -------------- Clustering ------- \n",
      "dimension of embedding used for clustering: 30\n",
      "Number of updates: "
     ]
    },
    {
     "name": "stdout",
     "output_type": "stream",
     "text": [
      "5\n",
      "Modularity: 0.80316335243406"
     ]
    },
    {
     "name": "stdout",
     "output_type": "stream",
     "text": [
      "\n",
      "Number of communities: 20\n",
      " -------------------------------------------- \n",
      "The first 5 squared singular values divided by N : \n"
     ]
    },
    {
     "name": "stdout",
     "output_type": "stream",
     "text": [
      "[0.3989267690489326, 0.26487109132291403, 0.17783802109095423, 0.10090466463619217, 0.055969352180868494]\n",
      " -------------------------------------------- \n",
      "  2.410380 seconds (537.07 k allocations: 496.558 MiB, 10.89% gc time, 3.16% compilation time)\n",
      "\n",
      "  ~~~~~ number_rep = 2/3 ~~~~~\n",
      " ------- Acc Projected Power Iteration -------\n"
     ]
    },
    {
     "name": "stdout",
     "output_type": "stream",
     "text": [
      "The iteration has become stationary after 191 iterations\n",
      "  0.877242 seconds (5.07 k allocations: 396.400 MiB, 11.02% gc time)\n",
      " -------------- Clustering ------- \n",
      "dimension of embedding used for clustering: 30\n",
      "Number of updates: "
     ]
    },
    {
     "name": "stdout",
     "output_type": "stream",
     "text": [
      "4\n",
      "Modularity: 0.80316335243406\n",
      "Number of communities: 20\n",
      " -------------------------------------------- \n",
      "The first 5 squared singular values divided by N : \n",
      "[0.4002364973345871, 0.2680055692153764, 0.1780814323547155, 0.09734234780647666, 0.054962250580638965]\n",
      " -------------------------------------------- \n",
      "  1.203703 seconds (90.47 k allocations: 461.915 MiB, 9.56% gc time)\n",
      "\n",
      "  ~~~~~ number_rep = 3/3 ~~~~~\n",
      " ------- Acc Projected Power Iteration -------\n"
     ]
    },
    {
     "name": "stdout",
     "output_type": "stream",
     "text": [
      "The iteration has become stationary after 194 iterations\n",
      "  0.875016 seconds (5.15 k allocations: 402.652 MiB, 7.66% gc time)\n",
      " -------------- Clustering ------- \n",
      "dimension of embedding used for clustering: 30\n",
      "Number of updates: "
     ]
    },
    {
     "name": "stdout",
     "output_type": "stream",
     "text": [
      "5\n",
      "Modularity: 0.8024672900779423\n",
      "Number of communities: 21\n",
      " -------------------------------------------- \n",
      "The first 5 squared singular values divided by N : \n",
      "[0.39966106099255555, 0.26511349532271344, 0.17676041043130844, 0.10228423723158625, 0.055186677774551655]\n",
      " -------------------------------------------- \n",
      "  1.241029 seconds (100.90 k allocations: 475.822 MiB, 7.04% gc time)\n",
      "\n",
      "========== Graph 2/10 ==========\n",
      "\n",
      "  ~~~~~ number_rep = 1/3 ~~~~~\n",
      " ------- Acc Projected Power Iteration -------\n"
     ]
    },
    {
     "name": "stdout",
     "output_type": "stream",
     "text": [
      "The iteration has become stationary after 174 iterations\n",
      "  0.808900 seconds (4.63 k allocations: 360.982 MiB, 7.75% gc time)\n",
      " -------------- Clustering ------- \n",
      "dimension of embedding used for clustering: 30\n",
      "Number of updates: "
     ]
    },
    {
     "name": "stdout",
     "output_type": "stream",
     "text": [
      "2\n",
      "Modularity: 0.6546849735710609\n",
      "Number of communities: 23\n",
      " -------------------------------------------- \n",
      "The first 5 squared singular values divided by N : \n",
      "[0.31928471951888193, 0.23682008966245197, 0.16405911304815188, 0.1338459211170791, 0.10205487582744842]\n",
      " -------------------------------------------- \n",
      "  1.067489 seconds (65.23 k allocations: 408.820 MiB, 8.71% gc time)\n",
      "\n",
      "  ~~~~~ number_rep = 2/3 ~~~~~\n",
      " ------- Acc Projected Power Iteration -------\n"
     ]
    },
    {
     "name": "stdout",
     "output_type": "stream",
     "text": [
      "The iteration has become stationary after 147 iterations\n",
      "  0.708785 seconds (3.93 k allocations: 304.725 MiB, 10.66% gc time)\n",
      " -------------- Clustering ------- \n",
      "dimension of embedding used for clustering: 30\n",
      "Number of updates: "
     ]
    },
    {
     "name": "stdout",
     "output_type": "stream",
     "text": [
      "3\n",
      "Modularity: 0.6557887676729761\n",
      "Number of communities: 21\n",
      " -------------------------------------------- \n",
      "The first 5 squared singular values divided by N : \n",
      "[0.3193398551777944, 0.23532282567291624, 0.1623027229496272, 0.13241348683027307, 0.10867698528943541]\n",
      " -------------------------------------------- \n",
      "  0.945853 seconds (68.67 k allocations: 355.585 MiB, 7.99% gc time)\n",
      "\n",
      "  ~~~~~ number_rep = 3/3 ~~~~~\n",
      " ------- Acc Projected Power Iteration -------\n"
     ]
    },
    {
     "name": "stdout",
     "output_type": "stream",
     "text": [
      "The iteration has become stationary after 199 iterations\n",
      "  0.953954 seconds (5.28 k allocations: 413.069 MiB, 9.08% gc time)\n",
      " -------------- Clustering ------- \n",
      "dimension of embedding used for clustering: 30\n",
      "Number of updates: "
     ]
    },
    {
     "name": "stdout",
     "output_type": "stream",
     "text": [
      "3\n",
      "Modularity: 0.6546601188786344\n",
      "Number of communities: 24\n",
      " -------------------------------------------- \n",
      "The first 5 squared singular values divided by N : \n",
      "[0.3193561859860478, 0.2348082412618911, 0.16421628894309653, 0.13446482155589976, 0.10228889994538604]\n",
      " -------------------------------------------- \n",
      "  1.252849 seconds (80.34 k allocations: 471.210 MiB, 8.14% gc time)\n",
      "\n",
      "========== Graph 3/10 ==========\n",
      "\n",
      "  ~~~~~ number_rep = 1/3 ~~~~~\n",
      " ------- Acc Projected Power Iteration -------\n"
     ]
    },
    {
     "name": "stdout",
     "output_type": "stream",
     "text": [
      "The iteration has become stationary after 128 iterations\n",
      "  0.656097 seconds (3.44 k allocations: 265.138 MiB, 8.91% gc time)\n",
      " -------------- Clustering ------- \n",
      "dimension of embedding used for clustering: 30\n",
      "Number of updates: "
     ]
    },
    {
     "name": "stdout",
     "output_type": "stream",
     "text": [
      "3\n",
      "Modularity: 0.5187473187028108\n",
      "Number of communities: 21\n",
      " -------------------------------------------- \n",
      "The first 5 squared singular values divided by N : \n",
      "[0.23691840632550737, 0.21721145250849652, 0.15886377233745955, 0.13503848303468152, 0.1185189916704217]\n",
      " -------------------------------------------- \n",
      "  0.939818 seconds (74.37 k allocations: 320.355 MiB, 6.22% gc time)\n",
      "\n",
      "  ~~~~~ number_rep = 2/3 ~~~~~\n",
      " ------- Acc Projected Power Iteration -------\n"
     ]
    },
    {
     "name": "stdout",
     "output_type": "stream",
     "text": [
      "The iteration has become stationary after 128 iterations\n",
      "  0.623535 seconds (3.44 k allocations: 265.139 MiB, 11.35% gc time)\n",
      " -------------- Clustering ------- \n",
      "dimension of embedding used for clustering: 30\n",
      "Number of updates: "
     ]
    },
    {
     "name": "stdout",
     "output_type": "stream",
     "text": [
      "3\n",
      "Modularity: 0.518879504188096\n",
      "Number of communities: 21\n",
      " -------------------------------------------- \n",
      "The first 5 squared singular values divided by N : \n",
      "[0.23624511029189285, 0.21895316220135713, 0.15880868429287806, 0.1348808738668917, 0.11924029136960351]\n",
      " -------------------------------------------- \n",
      "  0.905279 seconds (74.37 k allocations: 320.234 MiB, 9.83% gc time)\n",
      "\n",
      "  ~~~~~ number_rep = 3/3 ~~~~~\n",
      " ------- Acc Projected Power Iteration -------\n"
     ]
    },
    {
     "name": "stdout",
     "output_type": "stream",
     "text": [
      "The iteration has become stationary after 126 iterations\n",
      "  0.643888 seconds (3.38 k allocations: 260.971 MiB, 9.59% gc time)\n",
      " -------------- Clustering ------- \n",
      "dimension of embedding used for clustering: 30\n",
      "Number of updates: "
     ]
    },
    {
     "name": "stdout",
     "output_type": "stream",
     "text": [
      "3\n",
      "Modularity: 0.5190015104385715\n",
      "Number of communities: 22\n",
      " -------------------------------------------- \n",
      "The first 5 squared singular values divided by N : \n",
      "[0.23724688715559375, 0.21865092227570934, 0.15822951350186204, 0.13507021041429332, 0.11930235971443742]\n",
      " -------------------------------------------- \n",
      "  1.011124 seconds (68.11 k allocations: 311.814 MiB, 6.11% gc time)\n",
      "\n",
      "========== Graph 4/10 ==========\n",
      "\n",
      "  ~~~~~ number_rep = 1/3 ~~~~~\n",
      " ------- Acc Projected Power Iteration -------\n"
     ]
    },
    {
     "name": "stdout",
     "output_type": "stream",
     "text": [
      "The iteration has become stationary after 153 iterations\n",
      "  0.815390 seconds (4.09 k allocations: 317.227 MiB, 9.52% gc time)\n",
      " -------------- Clustering ------- \n",
      "dimension of embedding used for clustering: 30\n",
      "Number of updates: "
     ]
    },
    {
     "name": "stdout",
     "output_type": "stream",
     "text": [
      "6\n",
      "Modularity: 0.3884144948155741\n",
      "Number of communities: 20\n",
      " -------------------------------------------- \n",
      "The first 5 squared singular values divided by N : \n",
      "[0.2202269537579144, 0.212747503811648, 0.18094956357233552, 0.1279831914419381, 0.09868125797198193]\n",
      " -------------------------------------------- \n",
      "  1.248974 seconds (106.02 k allocations: 394.308 MiB, 7.79% gc time)\n",
      "\n",
      "  ~~~~~ number_rep = 2/3 ~~~~~\n",
      " ------- Acc Projected Power Iteration -------\n"
     ]
    },
    {
     "name": "stdout",
     "output_type": "stream",
     "text": [
      "The iteration has become stationary after 181 iterations\n",
      "  0.900164 seconds (4.82 k allocations: 375.566 MiB, 6.89% gc time)\n",
      " -------------- Clustering ------- \n",
      "dimension of embedding used for clustering: 30\n",
      "Number of updates: "
     ]
    },
    {
     "name": "stdout",
     "output_type": "stream",
     "text": [
      "5\n",
      "Modularity: 0.38745305481653847\n",
      "Number of communities: 20\n",
      " -------------------------------------------- \n",
      "The first 5 squared singular values divided by N : \n",
      "[0.21967266999703894, 0.21265486133078534, 0.18087790375350626, 0.12780091383390083, 0.09931880884511698]\n",
      " -------------------------------------------- \n",
      "  1.265928 seconds (108.81 k allocations: 454.054 MiB, 6.39% gc time)\n",
      "\n",
      "  ~~~~~ number_rep = 3/3 ~~~~~\n",
      " ------- Acc Projected Power Iteration -------\n"
     ]
    },
    {
     "name": "stdout",
     "output_type": "stream",
     "text": [
      "The iteration has become stationary after 180 iterations\n",
      "  0.716871 seconds (4.79 k allocations: 373.483 MiB, 7.74% gc time)\n",
      " -------------- Clustering ------- \n",
      "dimension of embedding used for clustering: 30\n",
      "Number of updates: "
     ]
    },
    {
     "name": "stdout",
     "output_type": "stream",
     "text": [
      "4\n",
      "Modularity: 0.3864963465480676\n",
      "Number of communities: 21\n",
      " -------------------------------------------- \n",
      "The first 5 squared singular values divided by N : \n",
      "[0.21964751946933897, 0.21292447556949468, 0.18053389288529817, 0.12827734733135598, 0.0988871433178887]\n",
      " -------------------------------------------- \n",
      "  0.928753 seconds (81.93 k allocations: 433.268 MiB, 7.44% gc time)\n",
      "\n",
      "========== Graph 5/10 ==========\n",
      "\n",
      "  ~~~~~ number_rep = 1/3 ~~~~~\n",
      " ------- Acc Projected Power Iteration -------\n"
     ]
    },
    {
     "name": "stdout",
     "output_type": "stream",
     "text": [
      "The iteration has become stationary after 162 iterations\n",
      "  0.663313 seconds (4.32 k allocations: 335.978 MiB, 7.62% gc time)\n",
      " -------------- Clustering ------- \n",
      "dimension of embedding used for clustering: 30\n",
      "Number of updates: "
     ]
    },
    {
     "name": "stdout",
     "output_type": "stream",
     "text": [
      "16\n",
      "Modularity: 0.264110761976754\n",
      "Number of communities: 12\n",
      " -------------------------------------------- \n",
      "The first 5 squared singular values divided by N : \n",
      "[0.20846930348664097, 0.19064188253176673, 0.13971566423533108, 0.10810359007766086, 0.09698527195646939]\n",
      " -------------------------------------------- \n",
      "  1.357054 seconds (248.63 k allocations: 509.156 MiB, 8.10% gc time)\n",
      "\n",
      "  ~~~~~ number_rep = 2/3 ~~~~~\n",
      " ------- Acc Projected Power Iteration -------\n"
     ]
    },
    {
     "name": "stdout",
     "output_type": "stream",
     "text": [
      "The iteration has become stationary after 162 iterations\n",
      "  0.760116 seconds (4.32 k allocations: 335.978 MiB, 6.87% gc time)\n",
      " -------------- Clustering ------- \n",
      "dimension of embedding used for clustering: 30\n",
      "Number of updates: "
     ]
    },
    {
     "name": "stdout",
     "output_type": "stream",
     "text": [
      "8\n",
      "Modularity: 0.2608650961397452\n",
      "Number of communities: 15\n",
      " -------------------------------------------- \n",
      "The first 5 squared singular values divided by N : \n",
      "[0.20829370507687564, 0.19055312535227495, 0.13974058360230998, 0.10783693150786312, 0.09708777076475425]\n",
      " -------------------------------------------- \n",
      "  1.421797 seconds (176.45 k allocations: 461.522 MiB, 6.42% gc time)\n",
      "\n",
      "  ~~~~~ number_rep = 3/3 ~~~~~\n",
      " ------- Acc Projected Power Iteration -------\n"
     ]
    },
    {
     "name": "stdout",
     "output_type": "stream",
     "text": [
      "The iteration has become stationary after 159 iterations\n",
      "  0.896753 seconds (4.24 k allocations: 329.728 MiB, 8.46% gc time)\n",
      " -------------- Clustering ------- \n",
      "dimension of embedding used for clustering: 30\n",
      "Number of updates: "
     ]
    },
    {
     "name": "stdout",
     "output_type": "stream",
     "text": [
      "12\n",
      "Modularity: 0.25988877274428995\n",
      "Number of communities: 13\n",
      " -------------------------------------------- \n",
      "The first 5 squared singular values divided by N : \n",
      "[0.20827256132503588, 0.19067180072441914, 0.1398732208408536, 0.1080435398791655, 0.09680639367046935]\n",
      " -------------------------------------------- \n",
      "  1.855609 seconds (209.40 k allocations: 477.089 MiB, 7.33% gc time)\n",
      "\n",
      "========== Graph 6/10 ==========\n",
      "\n",
      "  ~~~~~ number_rep = 1/3 ~~~~~\n",
      " ------- Acc Projected Power Iteration -------\n"
     ]
    },
    {
     "name": "stdout",
     "output_type": "stream",
     "text": [
      "The iteration has become stationary after 198 iterations\n",
      "  1.118348 seconds (5.26 k allocations: 410.987 MiB, 6.43% gc time)\n",
      " -------------- Clustering ------- \n",
      "dimension of embedding used for clustering: 30\n",
      "Number of updates: "
     ]
    },
    {
     "name": "stdout",
     "output_type": "stream",
     "text": [
      "23\n",
      "Modularity: 0.19831345204654194\n",
      "Number of communities: 7\n",
      " -------------------------------------------- \n",
      "The first 5 squared singular values divided by N : \n",
      "[0.17608859884147987, 0.15729166477223125, 0.1365259218569979, 0.12668430892478882, 0.09946654208492611]\n",
      " -------------------------------------------- \n",
      "  2.233606 seconds (308.49 k allocations: 620.468 MiB, 5.97% gc time)\n",
      "\n",
      "  ~~~~~ number_rep = 2/3 ~~~~~\n",
      " ------- Acc Projected Power Iteration -------\n"
     ]
    },
    {
     "name": "stdout",
     "output_type": "stream",
     "text": [
      "The iteration has become stationary after 179 iterations\n",
      "  0.879593 seconds (4.76 k allocations: 371.399 MiB, 9.42% gc time)\n",
      " -------------- Clustering ------- \n",
      "dimension of embedding used for clustering: 30\n",
      "Number of updates: "
     ]
    },
    {
     "name": "stdout",
     "output_type": "stream",
     "text": [
      "18\n",
      "Modularity: 0.2074227735007789\n",
      "Number of communities: 7\n",
      " -------------------------------------------- \n",
      "The first 5 squared singular values divided by N : \n",
      "[0.17596075262171176, 0.15726219791612578, 0.13644223271637274, 0.1263894650177807, 0.09962989701540483]\n",
      " -------------------------------------------- \n",
      "  1.930784 seconds (254.63 k allocations: 546.190 MiB, 6.73% gc time)\n",
      "\n",
      "  ~~~~~ number_rep = 3/3 ~~~~~\n",
      " ------- Acc Projected Power Iteration -------\n"
     ]
    },
    {
     "name": "stdout",
     "output_type": "stream",
     "text": [
      "The iteration has become stationary after 205 iterations\n",
      "  1.013192 seconds (5.44 k allocations: 425.571 MiB, 8.61% gc time)\n",
      " -------------- Clustering ------- \n",
      "dimension of embedding used for clustering: 30\n",
      "Number of updates: "
     ]
    },
    {
     "name": "stdout",
     "output_type": "stream",
     "text": [
      "15\n",
      "Modularity: 0.19829857744136473\n",
      "Number of communities: 8\n",
      " -------------------------------------------- \n",
      "The first 5 squared singular values divided by N : \n",
      "[0.175929549991694, 0.15718670115800948, 0.13629980501627417, 0.12698940001547318, 0.09950481571853519]\n",
      " -------------------------------------------- \n",
      "  1.748509 seconds (216.38 k allocations: 575.282 MiB, 7.43% gc time)\n",
      "\n",
      "========== Graph 7/10 ==========\n",
      "\n",
      "  ~~~~~ number_rep = 1/3 ~~~~~\n",
      " ------- Acc Projected Power Iteration -------\n"
     ]
    },
    {
     "name": "stdout",
     "output_type": "stream",
     "text": [
      "The iteration has become stationary after 226 iterations\n",
      "  1.052468 seconds (5.99 k allocations: 469.325 MiB, 9.19% gc time)\n",
      " -------------- Clustering ------- \n",
      "dimension of embedding used for clustering: 30\n",
      "Number of updates: "
     ]
    },
    {
     "name": "stdout",
     "output_type": "stream",
     "text": [
      "18\n",
      "Modularity: 0.1717149026121046\n",
      "Number of communities: 7\n",
      " -------------------------------------------- \n",
      "The first 5 squared singular values divided by N : \n",
      "[0.14825809408222704, 0.1381611785691239, 0.12437437870417772, 0.10545555908789593, 0.09664609006569494]\n",
      " -------------------------------------------- \n",
      "  2.119915 seconds (304.99 k allocations: 675.916 MiB, 7.65% gc time)\n",
      "\n",
      "  ~~~~~ number_rep = 2/3 ~~~~~\n",
      " ------- Acc Projected Power Iteration -------\n"
     ]
    },
    {
     "name": "stdout",
     "output_type": "stream",
     "text": [
      "The iteration has become stationary after 216 iterations\n",
      "  0.971503 seconds (5.73 k allocations: 448.491 MiB, 8.36% gc time)\n",
      " -------------- Clustering ------- \n",
      "dimension of embedding used for clustering: 30\n",
      "Number of updates: "
     ]
    },
    {
     "name": "stdout",
     "output_type": "stream",
     "text": [
      "17\n",
      "Modularity: 0.1785500519246113\n",
      "Number of communities: 7\n",
      " -------------------------------------------- \n",
      "The first 5 squared singular values divided by N : \n",
      "[0.14819840708536114, 0.13804870089148574, 0.12416716224614116, 0.10566217212205146, 0.09674322489339018]\n",
      " -------------------------------------------- \n",
      "  2.015349 seconds (294.54 k allocations: 648.314 MiB, 6.26% gc time)\n",
      "\n",
      "  ~~~~~ number_rep = 3/3 ~~~~~\n",
      " ------- Acc Projected Power Iteration -------\n"
     ]
    },
    {
     "name": "stdout",
     "output_type": "stream",
     "text": [
      "The iteration has become stationary after 214 iterations\n",
      "  0.983407 seconds (5.67 k allocations: 444.323 MiB, 8.27% gc time)\n",
      " -------------- Clustering ------- \n",
      "dimension of embedding used for clustering: 30\n",
      "Number of updates: "
     ]
    },
    {
     "name": "stdout",
     "output_type": "stream",
     "text": [
      "18\n",
      "Modularity: 0.16974714587845258\n",
      "Number of communities: 6\n",
      " -------------------------------------------- \n",
      "The first 5 squared singular values divided by N : \n",
      "[0.14833308150563404, 0.1381692299922197, 0.12427766646722109, 0.10539217921216788, 0.09663507436499219]\n",
      " -------------------------------------------- \n",
      "  1.855632 seconds (241.09 k allocations: 609.603 MiB, 6.88% gc time)\n",
      "\n",
      "========== Graph 8/10 ==========\n",
      "\n",
      "  ~~~~~ number_rep = 1/3 ~~~~~\n",
      " ------- Acc Projected Power Iteration -------\n"
     ]
    },
    {
     "name": "stdout",
     "output_type": "stream",
     "text": [
      "The iteration has become stationary after 215 iterations\n",
      "  0.938227 seconds (5.70 k allocations: 446.406 MiB, 8.57% gc time)\n",
      " -------------- Clustering ------- \n",
      "dimension of embedding used for clustering: 30\n",
      "Number of updates: "
     ]
    },
    {
     "name": "stdout",
     "output_type": "stream",
     "text": [
      "23\n",
      "Modularity: 0.17053607786964647\n",
      "Number of communities: 7\n",
      " -------------------------------------------- \n",
      "The first 5 squared singular values divided by N : \n",
      "[0.16709924304379553, 0.133479713014609, 0.12062043438557796, 0.1151402551147863, 0.10942430249052464]\n",
      " -------------------------------------------- \n",
      "  2.158579 seconds (345.77 k allocations: 679.060 MiB, 6.99% gc time)\n",
      "\n",
      "  ~~~~~ number_rep = 2/3 ~~~~~\n",
      " ------- Acc Projected Power Iteration -------\n"
     ]
    },
    {
     "name": "stdout",
     "output_type": "stream",
     "text": [
      "The iteration has become stationary after 214 iterations\n",
      "  0.995965 seconds (5.67 k allocations: 444.323 MiB, 9.41% gc time)\n",
      " -------------- Clustering ------- \n",
      "dimension of embedding used for clustering: 30\n",
      "Number of updates: "
     ]
    },
    {
     "name": "stdout",
     "output_type": "stream",
     "text": [
      "26\n",
      "Modularity: 0.17483209599775582\n",
      "Number of communities: 7\n",
      " -------------------------------------------- \n",
      "The first 5 squared singular values divided by N : \n",
      "[0.1669260912779087, 0.13327085876561043, 0.12056268814989989, 0.11519195614724016, 0.10925052652511102]\n",
      " -------------------------------------------- \n",
      "  2.075500 seconds (310.77 k allocations: 654.125 MiB, 6.96% gc time)\n",
      "\n",
      "  ~~~~~ number_rep = 3/3 ~~~~~\n",
      " ------- Acc Projected Power Iteration -------\n"
     ]
    },
    {
     "name": "stdout",
     "output_type": "stream",
     "text": [
      "The iteration has become stationary after 213 iterations\n",
      "  1.106333 seconds (5.65 k allocations: 442.240 MiB, 21.73% gc time)\n",
      " -------------- Clustering ------- \n",
      "dimension of embedding used for clustering: 30\n",
      "Number of updates: "
     ]
    },
    {
     "name": "stdout",
     "output_type": "stream",
     "text": [
      "20\n",
      "Modularity: 0.1735714593200379\n",
      "Number of communities: 6\n",
      " -------------------------------------------- \n",
      "The first 5 squared singular values divided by N : \n",
      "[0.1669830619122601, 0.133338054563855, 0.1203996683455911, 0.11522586113504948, 0.10940536272015049]\n",
      " -------------------------------------------- \n",
      "  2.104634 seconds (302.56 k allocations: 646.730 MiB, 14.91% gc time)\n",
      "\n",
      "========== Graph 9/10 ==========\n",
      "\n",
      "  ~~~~~ number_rep = 1/3 ~~~~~\n",
      " ------- Acc Projected Power Iteration -------\n"
     ]
    },
    {
     "name": "stdout",
     "output_type": "stream",
     "text": [
      "The iteration has become stationary after 234 iterations\n",
      "  1.096053 seconds (6.19 k allocations: 485.993 MiB, 7.93% gc time)\n",
      " -------------- Clustering ------- \n",
      "dimension of embedding used for clustering: 30\n",
      "Number of updates: "
     ]
    },
    {
     "name": "stdout",
     "output_type": "stream",
     "text": [
      "15\n",
      "Modularity: 0.1735192572922616\n",
      "Number of communities: 8\n",
      " -------------------------------------------- \n",
      "The first 5 squared singular values divided by N : \n",
      "[0.16737044686617852, 0.15628380129411693, 0.13105359095493882, 0.11079517672250205, 0.10433925991062244]\n",
      " -------------------------------------------- \n",
      "  2.115108 seconds (282.64 k allocations: 677.693 MiB, 6.30% gc time)\n",
      "\n",
      "  ~~~~~ number_rep = 2/3 ~~~~~\n",
      " ------- Acc Projected Power Iteration -------\n"
     ]
    },
    {
     "name": "stdout",
     "output_type": "stream",
     "text": [
      "The iteration has become stationary after 232 iterations\n",
      "  0.989805 seconds (6.14 k allocations: 481.826 MiB, 7.91% gc time)\n",
      " -------------- Clustering ------- \n",
      "dimension of embedding used for clustering: 30\n",
      "Number of updates: "
     ]
    },
    {
     "name": "stdout",
     "output_type": "stream",
     "text": [
      "18\n",
      "Modularity: 0.1728189492485158\n",
      "Number of communities: 6\n",
      " -------------------------------------------- \n",
      "The first 5 squared singular values divided by N : \n",
      "[0.1674229596711331, 0.15633024573286353, 0.13111692786726678, 0.11065200728132447, 0.10434144034388791]\n",
      " -------------------------------------------- \n",
      "  1.657112 seconds (255.92 k allocations: 656.150 MiB, 8.87% gc time)\n",
      "\n",
      "  ~~~~~ number_rep = 3/3 ~~~~~\n",
      " ------- Acc Projected Power Iteration -------\n"
     ]
    },
    {
     "name": "stdout",
     "output_type": "stream",
     "text": [
      "The iteration has become stationary after 232 iterations\n",
      "  0.820338 seconds (6.14 k allocations: 481.826 MiB, 8.80% gc time)\n",
      " -------------- Clustering ------- \n",
      "dimension of embedding used for clustering: 30\n",
      "Number of updates: "
     ]
    },
    {
     "name": "stdout",
     "output_type": "stream",
     "text": [
      "22\n",
      "Modularity: 0.17067253604952926\n",
      "Number of communities: 7\n",
      " -------------------------------------------- \n",
      "The first 5 squared singular values divided by N : \n",
      "[0.16722452267723809, 0.15619132013540257, 0.13118394927361074, 0.11081274633366124, 0.1043005822282928]\n",
      " -------------------------------------------- \n",
      "  1.686568 seconds (348.25 k allocations: 715.958 MiB, 7.88% gc time)\n",
      "\n",
      "========== Graph 10/10 ==========\n",
      "\n",
      "  ~~~~~ number_rep = 1/3 ~~~~~\n",
      " ------- Acc Projected Power Iteration -------\n"
     ]
    },
    {
     "name": "stdout",
     "output_type": "stream",
     "text": [
      "The iteration has become stationary after 202 iterations\n",
      "  0.702079 seconds (5.36 k allocations: 419.321 MiB, 8.83% gc time)\n",
      " -------------- Clustering ------- \n",
      "dimension of embedding used for clustering: 30\n",
      "Number of updates: "
     ]
    },
    {
     "name": "stdout",
     "output_type": "stream",
     "text": [
      "19\n",
      "Modularity: 0.17216385428791386\n",
      "Number of communities: 7\n",
      " -------------------------------------------- \n",
      "The first 5 squared singular values divided by N : \n",
      "[0.15631791541661366, 0.14756779309208715, 0.13520845477761076, 0.10959911520183652, 0.09637051438684908]\n",
      " -------------------------------------------- \n",
      "  1.453142 seconds (306.46 k allocations: 627.108 MiB, 8.11% gc time)\n",
      "\n",
      "  ~~~~~ number_rep = 2/3 ~~~~~\n",
      " ------- Acc Projected Power Iteration -------\n"
     ]
    },
    {
     "name": "stdout",
     "output_type": "stream",
     "text": [
      "The iteration has become stationary after 202 iterations\n",
      "  0.704028 seconds (5.36 k allocations: 419.320 MiB, 8.32% gc time)\n",
      " -------------- Clustering ------- \n",
      "dimension of embedding used for clustering: 30\n",
      "Number of updates: "
     ]
    },
    {
     "name": "stdout",
     "output_type": "stream",
     "text": [
      "16\n",
      "Modularity: 0.1723916903691625\n",
      "Number of communities: 6\n",
      " -------------------------------------------- \n",
      "The first 5 squared singular values divided by N : \n",
      "[0.156495338142484, 0.1475758307808092, 0.13502811826832617, 0.10952252649189173, 0.09638654851221842]\n",
      " -------------------------------------------- \n",
      "  1.307072 seconds (246.90 k allocations: 588.531 MiB, 7.39% gc time)\n",
      "\n",
      "  ~~~~~ number_rep = 3/3 ~~~~~\n",
      " ------- Acc Projected Power Iteration -------\n"
     ]
    },
    {
     "name": "stdout",
     "output_type": "stream",
     "text": [
      "The iteration has become stationary after 199 iterations\n",
      "  0.699502 seconds (5.28 k allocations: 413.069 MiB, 9.07% gc time)\n",
      " -------------- Clustering ------- \n",
      "dimension of embedding used for clustering: 30\n",
      "Number of updates: "
     ]
    },
    {
     "name": "stdout",
     "output_type": "stream",
     "text": [
      "30\n",
      "Modularity: 0.17458991286603695\n",
      "Number of communities: 7\n",
      " -------------------------------------------- \n",
      "The first 5 squared singular values divided by N : \n",
      "[0.15652796796139049, 0.1477668885769775, 0.1350133061409138, 0.10960536431007883, 0.09629105223514217]\n",
      " -------------------------------------------- \n",
      "  1.524517 seconds (337.02 k allocations: 639.769 MiB, 7.88% gc time)\n"
     ]
    }
   ],
   "source": [
    "## Compute NMI for each graph\n",
    "path = \"data/LFR_data/\"\n",
    "n_graphs = 10\n",
    "\n",
    "# Set parameters of simulations\n",
    "n_clusters = 100\n",
    "d0 = 30\n",
    "shape = \"Ellipsoidal\" #shape = \"Spherical\"\n",
    "\n",
    "n_rep = 3\n",
    "mus=zeros(Float64,n_graphs)\n",
    "NMIs=zeros(Float64,n_graphs,n_rep)\n",
    "NMIs_louvain=zeros(Float64,n_graphs)\n",
    "\n",
    "for g=1:n_graphs\n",
    "    println(\"\\n========== Graph $g/$(n_graphs) ==========\")\n",
    "    \n",
    "    # load communities\n",
    "    community_true = readdlm(path*\"communities\"*string(g-1)*\".txt\",Int)\n",
    "    community_louvain = readdlm(path*\"louvain_communities\"*string(g-1)*\".txt\",Int)\n",
    "\n",
    "    # load graph\n",
    "    edgeList = readdlm(path*\"edgeList\"*string(g-1)*\".txt\",Int)\n",
    "\n",
    "    n_nodes = size(community_true)[1]\n",
    "    n_edges = size(edgeList)[1]\n",
    "\n",
    "    # construct sparse adjacency matrix from list of edges\n",
    "    adj = sparse(edgeList[:,1].+1,edgeList[:,2].+1,vec(ones(Int64,n_edges,1)),n_nodes,n_nodes)\n",
    "    adj = adj+adj' \n",
    "    # only the upper triangular part of adjacency matrix was stored\n",
    "\n",
    "    # keep only the largest connected component\n",
    "    adj,vertices = largest_component(adj)\n",
    "    \n",
    "    community_true = community_true[vertices]\n",
    "    community_true = rename_com_unique(community_true)\n",
    "    \n",
    "    community_louvain = community_louvain[vertices]\n",
    "    community_louvain = rename_com_unique(community_louvain)\n",
    "\n",
    "    # load parameters\n",
    "    LFR_parameters = readdlm(path*\"parameters\"*string(g-1)*\".txt\")\n",
    "    mu = parse(Float64, split(LFR_parameters[4],\"=\")[2]) \n",
    "    # extract mixing marameter (not very robust)\n",
    "    mus[g] = mu\n",
    "    \n",
    "    for j=1:n_rep\n",
    "        println(\"\\n  ~~~~~ number_rep = $j/$(n_rep) ~~~~~\")\n",
    "        \n",
    "         _,community,_ = @time sphere_embed_cluster(adj, d0,shape, n_clusters)\n",
    "        NMIs[g,j] = mutualinfo(community_true,community)\n",
    "    end\n",
    "    NMIs_louvain[g] = mutualinfo(community_true,community_louvain)\n",
    "end\n",
    "\n"
   ]
  },
  {
   "cell_type": "code",
   "execution_count": 3,
   "metadata": {},
   "outputs": [
    {
     "data": {
      "image/png": "[encoded data removed]",
      "image/svg+xml": [
       "<?xml version=\"1.0\" encoding=\"utf-8\"?>\n",
       "<svg xmlns=\"http://www.w3.org/2000/svg\" xmlns:xlink=\"http://www.w3.org/1999/xlink\" width=\"600\" height=\"400\" viewBox=\"0 0 2400 1600\">\n",
       "<defs>\n",
       "  <clipPath id=\"clip920\">\n",
       "    <rect x=\"0\" y=\"0\" width=\"2400\" height=\"1600\"/>\n",
       "  </clipPath>\n",
       "</defs>\n",
       "<path clip-path=\"url(#clip920)\" d=\"\n",
       "M0 1600 L2400 1600 L2400 0 L0 0  Z\n",
       "  \" fill=\"#ffffff\" fill-rule=\"evenodd\" fill-opacity=\"1\"/>\n",
       "<defs>\n",
       "  <clipPath id=\"clip921\">\n",
       "    <rect x=\"480\" y=\"0\" width=\"1681\" height=\"1600\"/>\n",
       "  </clipPath>\n",
       "</defs>\n",
       "<path clip-path=\"url(#clip920)\" d=\"\n",
       "M249.542 1423.18 L2352.76 1423.18 L2352.76 47.2441 L249.542 47.2441  Z\n",
       "  \" fill=\"#ffffff\" fill-rule=\"evenodd\" fill-opacity=\"1\"/>\n",
       "<defs>\n",
       "  <clipPath id=\"clip922\">\n",
       "    <rect x=\"249\" y=\"47\" width=\"2104\" height=\"1377\"/>\n",
       "  </clipPath>\n",
       "</defs>\n",
       "<polyline clip-path=\"url(#clip922)\" style=\"stroke:#000000; stroke-linecap:butt; stroke-linejoin:round; stroke-width:2; stroke-opacity:0.1; fill:none\" points=\"\n",
       "  529.53,1423.18 529.53,47.2441 \n",
       "  \"/>\n",
       "<polyline clip-path=\"url(#clip922)\" style=\"stroke:#000000; stroke-linecap:butt; stroke-linejoin:round; stroke-width:2; stroke-opacity:0.1; fill:none\" points=\"\n",
       "  970.455,1423.18 970.455,47.2441 \n",
       "  \"/>\n",
       "<polyline clip-path=\"url(#clip922)\" style=\"stroke:#000000; stroke-linecap:butt; stroke-linejoin:round; stroke-width:2; stroke-opacity:0.1; fill:none\" points=\"\n",
       "  1411.38,1423.18 1411.38,47.2441 \n",
       "  \"/>\n",
       "<polyline clip-path=\"url(#clip922)\" style=\"stroke:#000000; stroke-linecap:butt; stroke-linejoin:round; stroke-width:2; stroke-opacity:0.1; fill:none\" points=\"\n",
       "  1852.31,1423.18 1852.31,47.2441 \n",
       "  \"/>\n",
       "<polyline clip-path=\"url(#clip922)\" style=\"stroke:#000000; stroke-linecap:butt; stroke-linejoin:round; stroke-width:2; stroke-opacity:0.1; fill:none\" points=\"\n",
       "  2293.23,1423.18 2293.23,47.2441 \n",
       "  \"/>\n",
       "<polyline clip-path=\"url(#clip920)\" style=\"stroke:#000000; stroke-linecap:butt; stroke-linejoin:round; stroke-width:4; stroke-opacity:1; fill:none\" points=\"\n",
       "  249.542,1423.18 2352.76,1423.18 \n",
       "  \"/>\n",
       "<polyline clip-path=\"url(#clip920)\" style=\"stroke:#000000; stroke-linecap:butt; stroke-linejoin:round; stroke-width:4; stroke-opacity:1; fill:none\" points=\"\n",
       "  529.53,1423.18 529.53,1404.28 \n",
       "  \"/>\n",
       "<polyline clip-path=\"url(#clip920)\" style=\"stroke:#000000; stroke-linecap:butt; stroke-linejoin:round; stroke-width:4; stroke-opacity:1; fill:none\" points=\"\n",
       "  970.455,1423.18 970.455,1404.28 \n",
       "  \"/>\n",
       "<polyline clip-path=\"url(#clip920)\" style=\"stroke:#000000; stroke-linecap:butt; stroke-linejoin:round; stroke-width:4; stroke-opacity:1; fill:none\" points=\"\n",
       "  1411.38,1423.18 1411.38,1404.28 \n",
       "  \"/>\n",
       "<polyline clip-path=\"url(#clip920)\" style=\"stroke:#000000; stroke-linecap:butt; stroke-linejoin:round; stroke-width:4; stroke-opacity:1; fill:none\" points=\"\n",
       "  1852.31,1423.18 1852.31,1404.28 \n",
       "  \"/>\n",
       "<polyline clip-path=\"url(#clip920)\" style=\"stroke:#000000; stroke-linecap:butt; stroke-linejoin:round; stroke-width:4; stroke-opacity:1; fill:none\" points=\"\n",
       "  2293.23,1423.18 2293.23,1404.28 \n",
       "  \"/>\n",
       "<path clip-path=\"url(#clip920)\" d=\"M507.713 1454.1 Q504.102 1454.1 502.273 1457.66 Q500.467 1461.2 500.467 1468.33 Q500.467 1475.44 502.273 1479.01 Q504.102 1482.55 507.713 1482.55 Q511.347 1482.55 513.152 1479.01 Q514.981 1475.44 514.981 1468.33 Q514.981 1461.2 513.152 1457.66 Q511.347 1454.1 507.713 1454.1 M507.713 1450.39 Q513.523 1450.39 516.578 1455 Q519.657 1459.58 519.657 1468.33 Q519.657 1477.06 516.578 1481.67 Q513.523 1486.25 507.713 1486.25 Q501.902 1486.25 498.824 1481.67 Q495.768 1477.06 495.768 1468.33 Q495.768 1459.58 498.824 1455 Q501.902 1450.39 507.713 1450.39 Z\" fill=\"#000000\" fill-rule=\"evenodd\" fill-opacity=\"1\" /><path clip-path=\"url(#clip920)\" d=\"M527.875 1479.7 L532.759 1479.7 L532.759 1485.58 L527.875 1485.58 L527.875 1479.7 Z\" fill=\"#000000\" fill-rule=\"evenodd\" fill-opacity=\"1\" /><path clip-path=\"url(#clip920)\" d=\"M546.972 1481.64 L563.291 1481.64 L563.291 1485.58 L541.347 1485.58 L541.347 1481.64 Q544.009 1478.89 548.592 1474.26 Q553.198 1469.61 554.379 1468.27 Q556.624 1465.74 557.504 1464.01 Q558.407 1462.25 558.407 1460.56 Q558.407 1457.8 556.462 1456.07 Q554.541 1454.33 551.439 1454.33 Q549.24 1454.33 546.786 1455.09 Q544.356 1455.86 541.578 1457.41 L541.578 1452.69 Q544.402 1451.55 546.856 1450.97 Q549.31 1450.39 551.347 1450.39 Q556.717 1450.39 559.911 1453.08 Q563.106 1455.77 563.106 1460.26 Q563.106 1462.39 562.296 1464.31 Q561.509 1466.2 559.402 1468.8 Q558.823 1469.47 555.722 1472.69 Q552.62 1475.88 546.972 1481.64 Z\" fill=\"#000000\" fill-rule=\"evenodd\" fill-opacity=\"1\" /><path clip-path=\"url(#clip920)\" d=\"M947.596 1454.1 Q943.985 1454.1 942.157 1457.66 Q940.351 1461.2 940.351 1468.33 Q940.351 1475.44 942.157 1479.01 Q943.985 1482.55 947.596 1482.55 Q951.231 1482.55 953.036 1479.01 Q954.865 1475.44 954.865 1468.33 Q954.865 1461.2 953.036 1457.66 Q951.231 1454.1 947.596 1454.1 M947.596 1450.39 Q953.406 1450.39 956.462 1455 Q959.541 1459.58 959.541 1468.33 Q959.541 1477.06 956.462 1481.67 Q953.406 1486.25 947.596 1486.25 Q941.786 1486.25 938.707 1481.67 Q935.652 1477.06 935.652 1468.33 Q935.652 1459.58 938.707 1455 Q941.786 1450.39 947.596 1450.39 Z\" fill=\"#000000\" fill-rule=\"evenodd\" fill-opacity=\"1\" /><path clip-path=\"url(#clip920)\" d=\"M967.758 1479.7 L972.642 1479.7 L972.642 1485.58 L967.758 1485.58 L967.758 1479.7 Z\" fill=\"#000000\" fill-rule=\"evenodd\" fill-opacity=\"1\" /><path clip-path=\"url(#clip920)\" d=\"M995.675 1455.09 L983.869 1473.54 L995.675 1473.54 L995.675 1455.09 M994.448 1451.02 L1000.33 1451.02 L1000.33 1473.54 L1005.26 1473.54 L1005.26 1477.43 L1000.33 1477.43 L1000.33 1485.58 L995.675 1485.58 L995.675 1477.43 L980.073 1477.43 L980.073 1472.92 L994.448 1451.02 Z\" fill=\"#000000\" fill-rule=\"evenodd\" fill-opacity=\"1\" /><path clip-path=\"url(#clip920)\" d=\"M1388.68 1454.1 Q1385.07 1454.1 1383.24 1457.66 Q1381.44 1461.2 1381.44 1468.33 Q1381.44 1475.44 1383.24 1479.01 Q1385.07 1482.55 1388.68 1482.55 Q1392.32 1482.55 1394.12 1479.01 Q1395.95 1475.44 1395.95 1468.33 Q1395.95 1461.2 1394.12 1457.66 Q1392.32 1454.1 1388.68 1454.1 M1388.68 1450.39 Q1394.49 1450.39 1397.55 1455 Q1400.63 1459.58 1400.63 1468.33 Q1400.63 1477.06 1397.55 1481.67 Q1394.49 1486.25 1388.68 1486.25 Q1382.87 1486.25 1379.79 1481.67 Q1376.74 1477.06 1376.74 1468.33 Q1376.74 1459.58 1379.79 1455 Q1382.87 1450.39 1388.68 1450.39 Z\" fill=\"#000000\" fill-rule=\"evenodd\" fill-opacity=\"1\" /><path clip-path=\"url(#clip920)\" d=\"M1408.85 1479.7 L1413.73 1479.7 L1413.73 1485.58 L1408.85 1485.58 L1408.85 1479.7 Z\" fill=\"#000000\" fill-rule=\"evenodd\" fill-opacity=\"1\" /><path clip-path=\"url(#clip920)\" d=\"M1434.49 1466.44 Q1431.35 1466.44 1429.49 1468.59 Q1427.66 1470.74 1427.66 1474.49 Q1427.66 1478.22 1429.49 1480.39 Q1431.35 1482.55 1434.49 1482.55 Q1437.64 1482.55 1439.47 1480.39 Q1441.32 1478.22 1441.32 1474.49 Q1441.32 1470.74 1439.47 1468.59 Q1437.64 1466.44 1434.49 1466.44 M1443.78 1451.78 L1443.78 1456.04 Q1442.02 1455.21 1440.21 1454.77 Q1438.43 1454.33 1436.67 1454.33 Q1432.04 1454.33 1429.59 1457.45 Q1427.16 1460.58 1426.81 1466.9 Q1428.17 1464.89 1430.23 1463.82 Q1432.29 1462.73 1434.77 1462.73 Q1439.98 1462.73 1442.99 1465.9 Q1446.02 1469.05 1446.02 1474.49 Q1446.02 1479.82 1442.87 1483.03 Q1439.73 1486.25 1434.49 1486.25 Q1428.5 1486.25 1425.33 1481.67 Q1422.16 1477.06 1422.16 1468.33 Q1422.16 1460.14 1426.04 1455.28 Q1429.93 1450.39 1436.48 1450.39 Q1438.24 1450.39 1440.03 1450.74 Q1441.83 1451.09 1443.78 1451.78 Z\" fill=\"#000000\" fill-rule=\"evenodd\" fill-opacity=\"1\" /><path clip-path=\"url(#clip920)\" d=\"M1829.74 1454.1 Q1826.13 1454.1 1824.3 1457.66 Q1822.49 1461.2 1822.49 1468.33 Q1822.49 1475.44 1824.3 1479.01 Q1826.13 1482.55 1829.74 1482.55 Q1833.37 1482.55 1835.18 1479.01 Q1837 1475.44 1837 1468.33 Q1837 1461.2 1835.18 1457.66 Q1833.37 1454.1 1829.74 1454.1 M1829.74 1450.39 Q1835.55 1450.39 1838.6 1455 Q1841.68 1459.58 1841.68 1468.33 Q1841.68 1477.06 1838.6 1481.67 Q1835.55 1486.25 1829.74 1486.25 Q1823.93 1486.25 1820.85 1481.67 Q1817.79 1477.06 1817.79 1468.33 Q1817.79 1459.58 1820.85 1455 Q1823.93 1450.39 1829.74 1450.39 Z\" fill=\"#000000\" fill-rule=\"evenodd\" fill-opacity=\"1\" /><path clip-path=\"url(#clip920)\" d=\"M1849.9 1479.7 L1854.78 1479.7 L1854.78 1485.58 L1849.9 1485.58 L1849.9 1479.7 Z\" fill=\"#000000\" fill-rule=\"evenodd\" fill-opacity=\"1\" /><path clip-path=\"url(#clip920)\" d=\"M1874.97 1469.17 Q1871.63 1469.17 1869.71 1470.95 Q1867.81 1472.73 1867.81 1475.86 Q1867.81 1478.98 1869.71 1480.77 Q1871.63 1482.55 1874.97 1482.55 Q1878.3 1482.55 1880.22 1480.77 Q1882.14 1478.96 1882.14 1475.86 Q1882.14 1472.73 1880.22 1470.95 Q1878.32 1469.17 1874.97 1469.17 M1870.29 1467.18 Q1867.28 1466.44 1865.59 1464.38 Q1863.93 1462.32 1863.93 1459.35 Q1863.93 1455.21 1866.87 1452.8 Q1869.83 1450.39 1874.97 1450.39 Q1880.13 1450.39 1883.07 1452.8 Q1886.01 1455.21 1886.01 1459.35 Q1886.01 1462.32 1884.32 1464.38 Q1882.65 1466.44 1879.67 1467.18 Q1883.05 1467.96 1884.92 1470.26 Q1886.82 1472.55 1886.82 1475.86 Q1886.82 1480.88 1883.74 1483.57 Q1880.69 1486.25 1874.97 1486.25 Q1869.25 1486.25 1866.17 1483.57 Q1863.12 1480.88 1863.12 1475.86 Q1863.12 1472.55 1865.01 1470.26 Q1866.91 1467.96 1870.29 1467.18 M1868.58 1459.79 Q1868.58 1462.48 1870.25 1463.98 Q1871.94 1465.49 1874.97 1465.49 Q1877.98 1465.49 1879.67 1463.98 Q1881.38 1462.48 1881.38 1459.79 Q1881.38 1457.11 1879.67 1455.6 Q1877.98 1454.1 1874.97 1454.1 Q1871.94 1454.1 1870.25 1455.6 Q1868.58 1457.11 1868.58 1459.79 Z\" fill=\"#000000\" fill-rule=\"evenodd\" fill-opacity=\"1\" /><path clip-path=\"url(#clip920)\" d=\"M2260.38 1481.64 L2268.02 1481.64 L2268.02 1455.28 L2259.71 1456.95 L2259.71 1452.69 L2267.98 1451.02 L2272.65 1451.02 L2272.65 1481.64 L2280.29 1481.64 L2280.29 1485.58 L2260.38 1485.58 L2260.38 1481.64 Z\" fill=\"#000000\" fill-rule=\"evenodd\" fill-opacity=\"1\" /><path clip-path=\"url(#clip920)\" d=\"M2289.74 1479.7 L2294.62 1479.7 L2294.62 1485.58 L2289.74 1485.58 L2289.74 1479.7 Z\" fill=\"#000000\" fill-rule=\"evenodd\" fill-opacity=\"1\" /><path clip-path=\"url(#clip920)\" d=\"M2314.8 1454.1 Q2311.19 1454.1 2309.37 1457.66 Q2307.56 1461.2 2307.56 1468.33 Q2307.56 1475.44 2309.37 1479.01 Q2311.19 1482.55 2314.8 1482.55 Q2318.44 1482.55 2320.24 1479.01 Q2322.07 1475.44 2322.07 1468.33 Q2322.07 1461.2 2320.24 1457.66 Q2318.44 1454.1 2314.8 1454.1 M2314.8 1450.39 Q2320.62 1450.39 2323.67 1455 Q2326.75 1459.58 2326.75 1468.33 Q2326.75 1477.06 2323.67 1481.67 Q2320.62 1486.25 2314.8 1486.25 Q2308.99 1486.25 2305.92 1481.67 Q2302.86 1477.06 2302.86 1468.33 Q2302.86 1459.58 2305.92 1455 Q2308.99 1450.39 2314.8 1450.39 Z\" fill=\"#000000\" fill-rule=\"evenodd\" fill-opacity=\"1\" /><path clip-path=\"url(#clip920)\" d=\"M1015.06 1520.52 L1024.64 1520.52 L1036.77 1552.86 L1048.96 1520.52 L1058.54 1520.52 L1058.54 1568.04 L1052.27 1568.04 L1052.27 1526.32 L1040.01 1558.91 L1033.55 1558.91 L1021.3 1526.32 L1021.3 1568.04 L1015.06 1568.04 L1015.06 1520.52 Z\" fill=\"#000000\" fill-rule=\"evenodd\" fill-opacity=\"1\" /><path clip-path=\"url(#clip920)\" d=\"M1071.04 1532.4 L1076.9 1532.4 L1076.9 1568.04 L1071.04 1568.04 L1071.04 1532.4 M1071.04 1518.52 L1076.9 1518.52 L1076.9 1525.93 L1071.04 1525.93 L1071.04 1518.52 Z\" fill=\"#000000\" fill-rule=\"evenodd\" fill-opacity=\"1\" /><path clip-path=\"url(#clip920)\" d=\"M1118.79 1532.4 L1105.9 1549.74 L1119.46 1568.04 L1112.55 1568.04 L1102.17 1554.04 L1091.8 1568.04 L1084.89 1568.04 L1098.74 1549.39 L1086.07 1532.4 L1092.97 1532.4 L1102.43 1545.1 L1111.88 1532.4 L1118.79 1532.4 Z\" fill=\"#000000\" fill-rule=\"evenodd\" fill-opacity=\"1\" /><path clip-path=\"url(#clip920)\" d=\"M1127.73 1532.4 L1133.59 1532.4 L1133.59 1568.04 L1127.73 1568.04 L1127.73 1532.4 M1127.73 1518.52 L1133.59 1518.52 L1133.59 1525.93 L1127.73 1525.93 L1127.73 1518.52 Z\" fill=\"#000000\" fill-rule=\"evenodd\" fill-opacity=\"1\" /><path clip-path=\"url(#clip920)\" d=\"M1175.47 1546.53 L1175.47 1568.04 L1169.62 1568.04 L1169.62 1546.72 Q1169.62 1541.66 1167.64 1539.14 Q1165.67 1536.63 1161.72 1536.63 Q1156.98 1536.63 1154.24 1539.65 Q1151.51 1542.68 1151.51 1547.9 L1151.51 1568.04 L1145.62 1568.04 L1145.62 1532.4 L1151.51 1532.4 L1151.51 1537.93 Q1153.61 1534.72 1156.44 1533.13 Q1159.31 1531.54 1163.03 1531.54 Q1169.17 1531.54 1172.32 1535.36 Q1175.47 1539.14 1175.47 1546.53 Z\" fill=\"#000000\" fill-rule=\"evenodd\" fill-opacity=\"1\" /><path clip-path=\"url(#clip920)\" d=\"M1210.61 1549.81 Q1210.61 1543.44 1207.97 1539.94 Q1205.36 1536.44 1200.62 1536.44 Q1195.91 1536.44 1193.27 1539.94 Q1190.66 1543.44 1190.66 1549.81 Q1190.66 1556.14 1193.27 1559.64 Q1195.91 1563.14 1200.62 1563.14 Q1205.36 1563.14 1207.97 1559.64 Q1210.61 1556.14 1210.61 1549.81 M1216.47 1563.62 Q1216.47 1572.72 1212.43 1577.15 Q1208.38 1581.6 1200.05 1581.6 Q1196.96 1581.6 1194.22 1581.13 Q1191.48 1580.68 1188.91 1579.72 L1188.91 1574.03 Q1191.48 1575.43 1194 1576.1 Q1196.51 1576.76 1199.12 1576.76 Q1204.88 1576.76 1207.75 1573.74 Q1210.61 1570.75 1210.61 1564.67 L1210.61 1561.77 Q1208.8 1564.92 1205.97 1566.48 Q1203.13 1568.04 1199.19 1568.04 Q1192.63 1568.04 1188.62 1563.05 Q1184.61 1558.05 1184.61 1549.81 Q1184.61 1541.53 1188.62 1536.53 Q1192.63 1531.54 1199.19 1531.54 Q1203.13 1531.54 1205.97 1533.1 Q1208.8 1534.66 1210.61 1537.81 L1210.61 1532.4 L1216.47 1532.4 L1216.47 1563.62 Z\" fill=\"#000000\" fill-rule=\"evenodd\" fill-opacity=\"1\" /><path clip-path=\"url(#clip920)\" d=\"M1254.92 1562.7 L1254.92 1581.6 L1249.03 1581.6 L1249.03 1532.4 L1254.92 1532.4 L1254.92 1537.81 Q1256.76 1534.62 1259.56 1533.1 Q1262.4 1531.54 1266.31 1531.54 Q1272.81 1531.54 1276.85 1536.69 Q1280.92 1541.85 1280.92 1550.25 Q1280.92 1558.65 1276.85 1563.81 Q1272.81 1568.97 1266.31 1568.97 Q1262.4 1568.97 1259.56 1567.44 Q1256.76 1565.88 1254.92 1562.7 M1274.84 1550.25 Q1274.84 1543.79 1272.17 1540.13 Q1269.53 1536.44 1264.88 1536.44 Q1260.23 1536.44 1257.56 1540.13 Q1254.92 1543.79 1254.92 1550.25 Q1254.92 1556.71 1257.56 1560.4 Q1260.23 1564.07 1264.88 1564.07 Q1269.53 1564.07 1272.17 1560.4 Q1274.84 1556.71 1274.84 1550.25 Z\" fill=\"#000000\" fill-rule=\"evenodd\" fill-opacity=\"1\" /><path clip-path=\"url(#clip920)\" d=\"M1306.83 1550.12 Q1299.73 1550.12 1297 1551.75 Q1294.26 1553.37 1294.26 1557.29 Q1294.26 1560.4 1296.3 1562.25 Q1298.36 1564.07 1301.9 1564.07 Q1306.77 1564.07 1309.69 1560.63 Q1312.65 1557.16 1312.65 1551.43 L1312.65 1550.12 L1306.83 1550.12 M1318.51 1547.71 L1318.51 1568.04 L1312.65 1568.04 L1312.65 1562.63 Q1310.65 1565.88 1307.66 1567.44 Q1304.67 1568.97 1300.34 1568.97 Q1294.86 1568.97 1291.62 1565.91 Q1288.4 1562.82 1288.4 1557.67 Q1288.4 1551.65 1292.41 1548.6 Q1296.45 1545.54 1304.44 1545.54 L1312.65 1545.54 L1312.65 1544.97 Q1312.65 1540.93 1309.98 1538.73 Q1307.34 1536.5 1302.53 1536.5 Q1299.48 1536.5 1296.58 1537.23 Q1293.69 1537.97 1291.01 1539.43 L1291.01 1534.02 Q1294.23 1532.78 1297.25 1532.17 Q1300.27 1531.54 1303.14 1531.54 Q1310.87 1531.54 1314.69 1535.55 Q1318.51 1539.56 1318.51 1547.71 Z\" fill=\"#000000\" fill-rule=\"evenodd\" fill-opacity=\"1\" /><path clip-path=\"url(#clip920)\" d=\"M1351.23 1537.87 Q1350.24 1537.3 1349.07 1537.04 Q1347.92 1536.76 1346.52 1536.76 Q1341.56 1536.76 1338.88 1540 Q1336.24 1543.22 1336.24 1549.27 L1336.24 1568.04 L1330.35 1568.04 L1330.35 1532.4 L1336.24 1532.4 L1336.24 1537.93 Q1338.09 1534.69 1341.05 1533.13 Q1344.01 1531.54 1348.24 1531.54 Q1348.84 1531.54 1349.58 1531.63 Q1350.31 1531.7 1351.2 1531.85 L1351.23 1537.87 Z\" fill=\"#000000\" fill-rule=\"evenodd\" fill-opacity=\"1\" /><path clip-path=\"url(#clip920)\" d=\"M1373.57 1550.12 Q1366.48 1550.12 1363.74 1551.75 Q1361 1553.37 1361 1557.29 Q1361 1560.4 1363.04 1562.25 Q1365.11 1564.07 1368.64 1564.07 Q1373.51 1564.07 1376.44 1560.63 Q1379.4 1557.16 1379.4 1551.43 L1379.4 1550.12 L1373.57 1550.12 M1385.26 1547.71 L1385.26 1568.04 L1379.4 1568.04 L1379.4 1562.63 Q1377.39 1565.88 1374.4 1567.44 Q1371.41 1568.97 1367.08 1568.97 Q1361.61 1568.97 1358.36 1565.91 Q1355.15 1562.82 1355.15 1557.67 Q1355.15 1551.65 1359.16 1548.6 Q1363.2 1545.54 1371.19 1545.54 L1379.4 1545.54 L1379.4 1544.97 Q1379.4 1540.93 1376.73 1538.73 Q1374.08 1536.5 1369.28 1536.5 Q1366.22 1536.5 1363.33 1537.23 Q1360.43 1537.97 1357.76 1539.43 L1357.76 1534.02 Q1360.97 1532.78 1363.99 1532.17 Q1367.02 1531.54 1369.88 1531.54 Q1377.62 1531.54 1381.44 1535.55 Q1385.26 1539.56 1385.26 1547.71 Z\" fill=\"#000000\" fill-rule=\"evenodd\" fill-opacity=\"1\" /><path clip-path=\"url(#clip920)\" d=\"M1425.07 1539.24 Q1427.27 1535.29 1430.33 1533.41 Q1433.38 1531.54 1437.52 1531.54 Q1443.09 1531.54 1446.11 1535.45 Q1449.14 1539.33 1449.14 1546.53 L1449.14 1568.04 L1443.25 1568.04 L1443.25 1546.72 Q1443.25 1541.59 1441.43 1539.11 Q1439.62 1536.63 1435.9 1536.63 Q1431.34 1536.63 1428.7 1539.65 Q1426.06 1542.68 1426.06 1547.9 L1426.06 1568.04 L1420.17 1568.04 L1420.17 1546.72 Q1420.17 1541.56 1418.36 1539.11 Q1416.54 1536.63 1412.76 1536.63 Q1408.27 1536.63 1405.63 1539.68 Q1402.98 1542.71 1402.98 1547.9 L1402.98 1568.04 L1397.1 1568.04 L1397.1 1532.4 L1402.98 1532.4 L1402.98 1537.93 Q1404.99 1534.66 1407.79 1533.1 Q1410.59 1531.54 1414.44 1531.54 Q1418.33 1531.54 1421.03 1533.51 Q1423.77 1535.48 1425.07 1539.24 Z\" fill=\"#000000\" fill-rule=\"evenodd\" fill-opacity=\"1\" /><path clip-path=\"url(#clip920)\" d=\"M1491.31 1548.76 L1491.31 1551.62 L1464.38 1551.62 Q1464.76 1557.67 1468.01 1560.85 Q1471.29 1564 1477.11 1564 Q1480.49 1564 1483.64 1563.17 Q1486.82 1562.35 1489.94 1560.69 L1489.94 1566.23 Q1486.79 1567.57 1483.48 1568.27 Q1480.17 1568.97 1476.76 1568.97 Q1468.23 1568.97 1463.24 1564 Q1458.27 1559.04 1458.27 1550.57 Q1458.27 1541.82 1462.98 1536.69 Q1467.72 1531.54 1475.74 1531.54 Q1482.94 1531.54 1487.11 1536.18 Q1491.31 1540.8 1491.31 1548.76 M1485.45 1547.04 Q1485.39 1542.23 1482.75 1539.37 Q1480.14 1536.5 1475.81 1536.5 Q1470.91 1536.5 1467.95 1539.27 Q1465.02 1542.04 1464.57 1547.07 L1485.45 1547.04 Z\" fill=\"#000000\" fill-rule=\"evenodd\" fill-opacity=\"1\" /><path clip-path=\"url(#clip920)\" d=\"M1506.71 1522.27 L1506.71 1532.4 L1518.78 1532.4 L1518.78 1536.95 L1506.71 1536.95 L1506.71 1556.3 Q1506.71 1560.66 1507.89 1561.9 Q1509.1 1563.14 1512.76 1563.14 L1518.78 1563.14 L1518.78 1568.04 L1512.76 1568.04 Q1505.98 1568.04 1503.4 1565.53 Q1500.83 1562.98 1500.83 1556.3 L1500.83 1536.95 L1496.53 1536.95 L1496.53 1532.4 L1500.83 1532.4 L1500.83 1522.27 L1506.71 1522.27 Z\" fill=\"#000000\" fill-rule=\"evenodd\" fill-opacity=\"1\" /><path clip-path=\"url(#clip920)\" d=\"M1556.97 1548.76 L1556.97 1551.62 L1530.04 1551.62 Q1530.43 1557.67 1533.67 1560.85 Q1536.95 1564 1542.78 1564 Q1546.15 1564 1549.3 1563.17 Q1552.48 1562.35 1555.6 1560.69 L1555.6 1566.23 Q1552.45 1567.57 1549.14 1568.27 Q1545.83 1568.97 1542.43 1568.97 Q1533.9 1568.97 1528.9 1564 Q1523.93 1559.04 1523.93 1550.57 Q1523.93 1541.82 1528.64 1536.69 Q1533.39 1531.54 1541.41 1531.54 Q1548.6 1531.54 1552.77 1536.18 Q1556.97 1540.8 1556.97 1548.76 M1551.11 1547.04 Q1551.05 1542.23 1548.41 1539.37 Q1545.8 1536.5 1541.47 1536.5 Q1536.57 1536.5 1533.61 1539.27 Q1530.68 1542.04 1530.23 1547.07 L1551.11 1547.04 Z\" fill=\"#000000\" fill-rule=\"evenodd\" fill-opacity=\"1\" /><path clip-path=\"url(#clip920)\" d=\"M1587.24 1537.87 Q1586.25 1537.3 1585.08 1537.04 Q1583.93 1536.76 1582.53 1536.76 Q1577.56 1536.76 1574.89 1540 Q1572.25 1543.22 1572.25 1549.27 L1572.25 1568.04 L1566.36 1568.04 L1566.36 1532.4 L1572.25 1532.4 L1572.25 1537.93 Q1574.09 1534.69 1577.05 1533.13 Q1580.01 1531.54 1584.25 1531.54 Q1584.85 1531.54 1585.58 1531.63 Q1586.32 1531.7 1587.21 1531.85 L1587.24 1537.87 Z\" fill=\"#000000\" fill-rule=\"evenodd\" fill-opacity=\"1\" /><polyline clip-path=\"url(#clip922)\" style=\"stroke:#000000; stroke-linecap:butt; stroke-linejoin:round; stroke-width:2; stroke-opacity:0.1; fill:none\" points=\"\n",
       "  249.542,1404.05 2352.76,1404.05 \n",
       "  \"/>\n",
       "<polyline clip-path=\"url(#clip922)\" style=\"stroke:#000000; stroke-linecap:butt; stroke-linejoin:round; stroke-width:2; stroke-opacity:0.1; fill:none\" points=\"\n",
       "  249.542,1074.65 2352.76,1074.65 \n",
       "  \"/>\n",
       "<polyline clip-path=\"url(#clip922)\" style=\"stroke:#000000; stroke-linecap:butt; stroke-linejoin:round; stroke-width:2; stroke-opacity:0.1; fill:none\" points=\"\n",
       "  249.542,745.249 2352.76,745.249 \n",
       "  \"/>\n",
       "<polyline clip-path=\"url(#clip922)\" style=\"stroke:#000000; stroke-linecap:butt; stroke-linejoin:round; stroke-width:2; stroke-opacity:0.1; fill:none\" points=\"\n",
       "  249.542,415.849 2352.76,415.849 \n",
       "  \"/>\n",
       "<polyline clip-path=\"url(#clip922)\" style=\"stroke:#000000; stroke-linecap:butt; stroke-linejoin:round; stroke-width:2; stroke-opacity:0.1; fill:none\" points=\"\n",
       "  249.542,86.4485 2352.76,86.4485 \n",
       "  \"/>\n",
       "<polyline clip-path=\"url(#clip920)\" style=\"stroke:#000000; stroke-linecap:butt; stroke-linejoin:round; stroke-width:4; stroke-opacity:1; fill:none\" points=\"\n",
       "  249.542,1423.18 249.542,47.2441 \n",
       "  \"/>\n",
       "<polyline clip-path=\"url(#clip920)\" style=\"stroke:#000000; stroke-linecap:butt; stroke-linejoin:round; stroke-width:4; stroke-opacity:1; fill:none\" points=\"\n",
       "  249.542,1404.05 268.44,1404.05 \n",
       "  \"/>\n",
       "<polyline clip-path=\"url(#clip920)\" style=\"stroke:#000000; stroke-linecap:butt; stroke-linejoin:round; stroke-width:4; stroke-opacity:1; fill:none\" points=\"\n",
       "  249.542,1074.65 268.44,1074.65 \n",
       "  \"/>\n",
       "<polyline clip-path=\"url(#clip920)\" style=\"stroke:#000000; stroke-linecap:butt; stroke-linejoin:round; stroke-width:4; stroke-opacity:1; fill:none\" points=\"\n",
       "  249.542,745.249 268.44,745.249 \n",
       "  \"/>\n",
       "<polyline clip-path=\"url(#clip920)\" style=\"stroke:#000000; stroke-linecap:butt; stroke-linejoin:round; stroke-width:4; stroke-opacity:1; fill:none\" points=\"\n",
       "  249.542,415.849 268.44,415.849 \n",
       "  \"/>\n",
       "<polyline clip-path=\"url(#clip920)\" style=\"stroke:#000000; stroke-linecap:butt; stroke-linejoin:round; stroke-width:4; stroke-opacity:1; fill:none\" points=\"\n",
       "  249.542,86.4485 268.44,86.4485 \n",
       "  \"/>\n",
       "<path clip-path=\"url(#clip920)\" d=\"M126.205 1389.85 Q122.593 1389.85 120.765 1393.41 Q118.959 1396.95 118.959 1404.08 Q118.959 1411.19 120.765 1414.76 Q122.593 1418.3 126.205 1418.3 Q129.839 1418.3 131.644 1414.76 Q133.473 1411.19 133.473 1404.08 Q133.473 1396.95 131.644 1393.41 Q129.839 1389.85 126.205 1389.85 M126.205 1386.14 Q132.015 1386.14 135.07 1390.75 Q138.149 1395.33 138.149 1404.08 Q138.149 1412.81 135.07 1417.42 Q132.015 1422 126.205 1422 Q120.394 1422 117.316 1417.42 Q114.26 1412.81 114.26 1404.08 Q114.26 1395.33 117.316 1390.75 Q120.394 1386.14 126.205 1386.14 Z\" fill=\"#000000\" fill-rule=\"evenodd\" fill-opacity=\"1\" /><path clip-path=\"url(#clip920)\" d=\"M146.366 1415.45 L151.251 1415.45 L151.251 1421.33 L146.366 1421.33 L146.366 1415.45 Z\" fill=\"#000000\" fill-rule=\"evenodd\" fill-opacity=\"1\" /><path clip-path=\"url(#clip920)\" d=\"M171.436 1389.85 Q167.825 1389.85 165.996 1393.41 Q164.19 1396.95 164.19 1404.08 Q164.19 1411.19 165.996 1414.76 Q167.825 1418.3 171.436 1418.3 Q175.07 1418.3 176.876 1414.76 Q178.704 1411.19 178.704 1404.08 Q178.704 1396.95 176.876 1393.41 Q175.07 1389.85 171.436 1389.85 M171.436 1386.14 Q177.246 1386.14 180.301 1390.75 Q183.38 1395.33 183.38 1404.08 Q183.38 1412.81 180.301 1417.42 Q177.246 1422 171.436 1422 Q165.626 1422 162.547 1417.42 Q159.491 1412.81 159.491 1404.08 Q159.491 1395.33 162.547 1390.75 Q165.626 1386.14 171.436 1386.14 Z\" fill=\"#000000\" fill-rule=\"evenodd\" fill-opacity=\"1\" /><path clip-path=\"url(#clip920)\" d=\"M201.598 1389.85 Q197.987 1389.85 196.158 1393.41 Q194.352 1396.95 194.352 1404.08 Q194.352 1411.19 196.158 1414.76 Q197.987 1418.3 201.598 1418.3 Q205.232 1418.3 207.037 1414.76 Q208.866 1411.19 208.866 1404.08 Q208.866 1396.95 207.037 1393.41 Q205.232 1389.85 201.598 1389.85 M201.598 1386.14 Q207.408 1386.14 210.463 1390.75 Q213.542 1395.33 213.542 1404.08 Q213.542 1412.81 210.463 1417.42 Q207.408 1422 201.598 1422 Q195.787 1422 192.709 1417.42 Q189.653 1412.81 189.653 1404.08 Q189.653 1395.33 192.709 1390.75 Q195.787 1386.14 201.598 1386.14 Z\" fill=\"#000000\" fill-rule=\"evenodd\" fill-opacity=\"1\" /><path clip-path=\"url(#clip920)\" d=\"M127.2 1060.45 Q123.589 1060.45 121.76 1064.01 Q119.955 1067.55 119.955 1074.68 Q119.955 1081.79 121.76 1085.36 Q123.589 1088.9 127.2 1088.9 Q130.834 1088.9 132.64 1085.36 Q134.468 1081.79 134.468 1074.68 Q134.468 1067.55 132.64 1064.01 Q130.834 1060.45 127.2 1060.45 M127.2 1056.74 Q133.01 1056.74 136.066 1061.35 Q139.144 1065.93 139.144 1074.68 Q139.144 1083.41 136.066 1088.02 Q133.01 1092.6 127.2 1092.6 Q121.39 1092.6 118.311 1088.02 Q115.256 1083.41 115.256 1074.68 Q115.256 1065.93 118.311 1061.35 Q121.39 1056.74 127.2 1056.74 Z\" fill=\"#000000\" fill-rule=\"evenodd\" fill-opacity=\"1\" /><path clip-path=\"url(#clip920)\" d=\"M147.362 1086.05 L152.246 1086.05 L152.246 1091.93 L147.362 1091.93 L147.362 1086.05 Z\" fill=\"#000000\" fill-rule=\"evenodd\" fill-opacity=\"1\" /><path clip-path=\"url(#clip920)\" d=\"M166.459 1087.99 L182.778 1087.99 L182.778 1091.93 L160.834 1091.93 L160.834 1087.99 Q163.496 1085.24 168.079 1080.61 Q172.686 1075.96 173.866 1074.61 Q176.112 1072.09 176.991 1070.36 Q177.894 1068.6 177.894 1066.91 Q177.894 1064.15 175.95 1062.42 Q174.028 1060.68 170.927 1060.68 Q168.727 1060.68 166.274 1061.44 Q163.843 1062.21 161.065 1063.76 L161.065 1059.04 Q163.89 1057.9 166.343 1057.32 Q168.797 1056.74 170.834 1056.74 Q176.204 1056.74 179.399 1059.43 Q182.593 1062.11 182.593 1066.61 Q182.593 1068.73 181.783 1070.66 Q180.996 1072.55 178.889 1075.15 Q178.311 1075.82 175.209 1079.04 Q172.107 1082.23 166.459 1087.99 Z\" fill=\"#000000\" fill-rule=\"evenodd\" fill-opacity=\"1\" /><path clip-path=\"url(#clip920)\" d=\"M192.639 1057.37 L210.996 1057.37 L210.996 1061.3 L196.922 1061.3 L196.922 1069.78 Q197.94 1069.43 198.959 1069.27 Q199.977 1069.08 200.996 1069.08 Q206.783 1069.08 210.162 1072.25 Q213.542 1075.42 213.542 1080.84 Q213.542 1086.42 210.07 1089.52 Q206.598 1092.6 200.278 1092.6 Q198.102 1092.6 195.834 1092.23 Q193.588 1091.86 191.181 1091.12 L191.181 1086.42 Q193.264 1087.55 195.487 1088.11 Q197.709 1088.67 200.186 1088.67 Q204.19 1088.67 206.528 1086.56 Q208.866 1084.45 208.866 1080.84 Q208.866 1077.23 206.528 1075.12 Q204.19 1073.02 200.186 1073.02 Q198.311 1073.02 196.436 1073.43 Q194.584 1073.85 192.639 1074.73 L192.639 1057.37 Z\" fill=\"#000000\" fill-rule=\"evenodd\" fill-opacity=\"1\" /><path clip-path=\"url(#clip920)\" d=\"M126.205 731.048 Q122.593 731.048 120.765 734.612 Q118.959 738.154 118.959 745.284 Q118.959 752.39 120.765 755.955 Q122.593 759.497 126.205 759.497 Q129.839 759.497 131.644 755.955 Q133.473 752.39 133.473 745.284 Q133.473 738.154 131.644 734.612 Q129.839 731.048 126.205 731.048 M126.205 727.344 Q132.015 727.344 135.07 731.95 Q138.149 736.534 138.149 745.284 Q138.149 754.011 135.07 758.617 Q132.015 763.2 126.205 763.2 Q120.394 763.2 117.316 758.617 Q114.26 754.011 114.26 745.284 Q114.26 736.534 117.316 731.95 Q120.394 727.344 126.205 727.344 Z\" fill=\"#000000\" fill-rule=\"evenodd\" fill-opacity=\"1\" /><path clip-path=\"url(#clip920)\" d=\"M146.366 756.649 L151.251 756.649 L151.251 762.529 L146.366 762.529 L146.366 756.649 Z\" fill=\"#000000\" fill-rule=\"evenodd\" fill-opacity=\"1\" /><path clip-path=\"url(#clip920)\" d=\"M161.482 727.969 L179.839 727.969 L179.839 731.904 L165.765 731.904 L165.765 740.376 Q166.783 740.029 167.802 739.867 Q168.82 739.682 169.839 739.682 Q175.626 739.682 179.005 742.853 Q182.385 746.024 182.385 751.441 Q182.385 757.02 178.913 760.122 Q175.44 763.2 169.121 763.2 Q166.945 763.2 164.677 762.83 Q162.431 762.46 160.024 761.719 L160.024 757.02 Q162.107 758.154 164.329 758.71 Q166.552 759.265 169.028 759.265 Q173.033 759.265 175.371 757.159 Q177.709 755.052 177.709 751.441 Q177.709 747.83 175.371 745.724 Q173.033 743.617 169.028 743.617 Q167.153 743.617 165.278 744.034 Q163.427 744.45 161.482 745.33 L161.482 727.969 Z\" fill=\"#000000\" fill-rule=\"evenodd\" fill-opacity=\"1\" /><path clip-path=\"url(#clip920)\" d=\"M201.598 731.048 Q197.987 731.048 196.158 734.612 Q194.352 738.154 194.352 745.284 Q194.352 752.39 196.158 755.955 Q197.987 759.497 201.598 759.497 Q205.232 759.497 207.037 755.955 Q208.866 752.39 208.866 745.284 Q208.866 738.154 207.037 734.612 Q205.232 731.048 201.598 731.048 M201.598 727.344 Q207.408 727.344 210.463 731.95 Q213.542 736.534 213.542 745.284 Q213.542 754.011 210.463 758.617 Q207.408 763.2 201.598 763.2 Q195.787 763.2 192.709 758.617 Q189.653 754.011 189.653 745.284 Q189.653 736.534 192.709 731.95 Q195.787 727.344 201.598 727.344 Z\" fill=\"#000000\" fill-rule=\"evenodd\" fill-opacity=\"1\" /><path clip-path=\"url(#clip920)\" d=\"M127.2 401.647 Q123.589 401.647 121.76 405.212 Q119.955 408.754 119.955 415.883 Q119.955 422.99 121.76 426.555 Q123.589 430.096 127.2 430.096 Q130.834 430.096 132.64 426.555 Q134.468 422.99 134.468 415.883 Q134.468 408.754 132.64 405.212 Q130.834 401.647 127.2 401.647 M127.2 397.944 Q133.01 397.944 136.066 402.55 Q139.144 407.134 139.144 415.883 Q139.144 424.61 136.066 429.217 Q133.01 433.8 127.2 433.8 Q121.39 433.8 118.311 429.217 Q115.256 424.61 115.256 415.883 Q115.256 407.134 118.311 402.55 Q121.39 397.944 127.2 397.944 Z\" fill=\"#000000\" fill-rule=\"evenodd\" fill-opacity=\"1\" /><path clip-path=\"url(#clip920)\" d=\"M147.362 427.249 L152.246 427.249 L152.246 433.129 L147.362 433.129 L147.362 427.249 Z\" fill=\"#000000\" fill-rule=\"evenodd\" fill-opacity=\"1\" /><path clip-path=\"url(#clip920)\" d=\"M161.251 398.569 L183.473 398.569 L183.473 400.559 L170.927 433.129 L166.042 433.129 L177.848 402.504 L161.251 402.504 L161.251 398.569 Z\" fill=\"#000000\" fill-rule=\"evenodd\" fill-opacity=\"1\" /><path clip-path=\"url(#clip920)\" d=\"M192.639 398.569 L210.996 398.569 L210.996 402.504 L196.922 402.504 L196.922 410.976 Q197.94 410.629 198.959 410.467 Q199.977 410.282 200.996 410.282 Q206.783 410.282 210.162 413.453 Q213.542 416.624 213.542 422.041 Q213.542 427.62 210.07 430.721 Q206.598 433.8 200.278 433.8 Q198.102 433.8 195.834 433.43 Q193.588 433.059 191.181 432.319 L191.181 427.62 Q193.264 428.754 195.487 429.309 Q197.709 429.865 200.186 429.865 Q204.19 429.865 206.528 427.758 Q208.866 425.652 208.866 422.041 Q208.866 418.43 206.528 416.323 Q204.19 414.217 200.186 414.217 Q198.311 414.217 196.436 414.633 Q194.584 415.05 192.639 415.93 L192.639 398.569 Z\" fill=\"#000000\" fill-rule=\"evenodd\" fill-opacity=\"1\" /><path clip-path=\"url(#clip920)\" d=\"M117.015 99.7933 L124.654 99.7933 L124.654 73.4277 L116.343 75.0944 L116.343 70.8352 L124.607 69.1685 L129.283 69.1685 L129.283 99.7933 L136.922 99.7933 L136.922 103.729 L117.015 103.729 L117.015 99.7933 Z\" fill=\"#000000\" fill-rule=\"evenodd\" fill-opacity=\"1\" /><path clip-path=\"url(#clip920)\" d=\"M146.366 97.8489 L151.251 97.8489 L151.251 103.729 L146.366 103.729 L146.366 97.8489 Z\" fill=\"#000000\" fill-rule=\"evenodd\" fill-opacity=\"1\" /><path clip-path=\"url(#clip920)\" d=\"M171.436 72.2472 Q167.825 72.2472 165.996 75.812 Q164.19 79.3536 164.19 86.4832 Q164.19 93.5897 165.996 97.1545 Q167.825 100.696 171.436 100.696 Q175.07 100.696 176.876 97.1545 Q178.704 93.5897 178.704 86.4832 Q178.704 79.3536 176.876 75.812 Q175.07 72.2472 171.436 72.2472 M171.436 68.5435 Q177.246 68.5435 180.301 73.15 Q183.38 77.7333 183.38 86.4832 Q183.38 95.21 180.301 99.8165 Q177.246 104.4 171.436 104.4 Q165.626 104.4 162.547 99.8165 Q159.491 95.21 159.491 86.4832 Q159.491 77.7333 162.547 73.15 Q165.626 68.5435 171.436 68.5435 Z\" fill=\"#000000\" fill-rule=\"evenodd\" fill-opacity=\"1\" /><path clip-path=\"url(#clip920)\" d=\"M201.598 72.2472 Q197.987 72.2472 196.158 75.812 Q194.352 79.3536 194.352 86.4832 Q194.352 93.5897 196.158 97.1545 Q197.987 100.696 201.598 100.696 Q205.232 100.696 207.037 97.1545 Q208.866 93.5897 208.866 86.4832 Q208.866 79.3536 207.037 75.812 Q205.232 72.2472 201.598 72.2472 M201.598 68.5435 Q207.408 68.5435 210.463 73.15 Q213.542 77.7333 213.542 86.4832 Q213.542 95.21 210.463 99.8165 Q207.408 104.4 201.598 104.4 Q195.787 104.4 192.709 99.8165 Q189.653 95.21 189.653 86.4832 Q189.653 77.7333 192.709 73.15 Q195.787 68.5435 201.598 68.5435 Z\" fill=\"#000000\" fill-rule=\"evenodd\" fill-opacity=\"1\" /><path clip-path=\"url(#clip920)\" d=\"M16.4842 1237.77 L16.4842 1229.11 L56.238 1208.04 L16.4842 1208.04 L16.4842 1201.8 L64.0042 1201.8 L64.0042 1210.46 L24.2503 1231.53 L64.0042 1231.53 L64.0042 1237.77 L16.4842 1237.77 Z\" fill=\"#000000\" fill-rule=\"evenodd\" fill-opacity=\"1\" /><path clip-path=\"url(#clip920)\" d=\"M32.4621 1175.45 Q32.4621 1180.16 36.1542 1182.9 Q39.8145 1185.63 46.212 1185.63 Q52.6095 1185.63 56.3017 1182.93 Q59.9619 1180.19 59.9619 1175.45 Q59.9619 1170.77 56.2698 1168.03 Q52.5777 1165.3 46.212 1165.3 Q39.8781 1165.3 36.186 1168.03 Q32.4621 1170.77 32.4621 1175.45 M27.4968 1175.45 Q27.4968 1167.81 32.4621 1163.45 Q37.4273 1159.09 46.212 1159.09 Q54.9649 1159.09 59.9619 1163.45 Q64.9272 1167.81 64.9272 1175.45 Q64.9272 1183.12 59.9619 1187.48 Q54.9649 1191.81 46.212 1191.81 Q37.4273 1191.81 32.4621 1187.48 Q27.4968 1183.12 27.4968 1175.45 Z\" fill=\"#000000\" fill-rule=\"evenodd\" fill-opacity=\"1\" /><path clip-path=\"url(#clip920)\" d=\"M33.8307 1128.72 Q33.2578 1129.71 33.0032 1130.89 Q32.7167 1132.03 32.7167 1133.43 Q32.7167 1138.4 35.9632 1141.07 Q39.1779 1143.72 45.2253 1143.72 L64.0042 1143.72 L64.0042 1149.6 L28.3562 1149.6 L28.3562 1143.72 L33.8944 1143.72 Q30.6479 1141.87 29.0883 1138.91 Q27.4968 1135.95 27.4968 1131.72 Q27.4968 1131.11 27.5923 1130.38 Q27.656 1129.65 27.8151 1128.76 L33.8307 1128.72 Z\" fill=\"#000000\" fill-rule=\"evenodd\" fill-opacity=\"1\" /><path clip-path=\"url(#clip920)\" d=\"M35.1993 1095.97 Q31.2526 1093.78 29.3747 1090.72 Q27.4968 1087.67 27.4968 1083.53 Q27.4968 1077.96 31.4117 1074.93 Q35.2948 1071.91 42.4881 1071.91 L64.0042 1071.91 L64.0042 1077.8 L42.679 1077.8 Q37.5546 1077.8 35.072 1079.61 Q32.5894 1081.43 32.5894 1085.15 Q32.5894 1089.7 35.6131 1092.34 Q38.6368 1094.99 43.8567 1094.99 L64.0042 1094.99 L64.0042 1100.87 L42.679 1100.87 Q37.5228 1100.87 35.072 1102.69 Q32.5894 1104.5 32.5894 1108.29 Q32.5894 1112.78 35.6449 1115.42 Q38.6686 1118.06 43.8567 1118.06 L64.0042 1118.06 L64.0042 1123.95 L28.3562 1123.95 L28.3562 1118.06 L33.8944 1118.06 Q30.616 1116.06 29.0564 1113.26 Q27.4968 1110.45 27.4968 1106.6 Q27.4968 1102.72 29.4702 1100.01 Q31.4436 1097.28 35.1993 1095.97 Z\" fill=\"#000000\" fill-rule=\"evenodd\" fill-opacity=\"1\" /><path clip-path=\"url(#clip920)\" d=\"M46.0847 1044.03 Q46.0847 1051.13 47.7079 1053.86 Q49.3312 1056.6 53.2461 1056.6 Q56.3653 1056.6 58.2114 1054.56 Q60.0256 1052.49 60.0256 1048.96 Q60.0256 1044.09 56.5881 1041.16 Q53.1188 1038.2 47.3897 1038.2 L46.0847 1038.2 L46.0847 1044.03 M43.6657 1032.35 L64.0042 1032.35 L64.0042 1038.2 L58.5933 1038.2 Q61.8398 1040.21 63.3994 1043.2 Q64.9272 1046.19 64.9272 1050.52 Q64.9272 1056 61.8716 1059.24 Q58.7843 1062.46 53.6281 1062.46 Q47.6125 1062.46 44.5569 1058.45 Q41.5014 1054.4 41.5014 1046.42 L41.5014 1038.2 L40.9285 1038.2 Q36.8862 1038.2 34.6901 1040.88 Q32.4621 1043.52 32.4621 1048.33 Q32.4621 1051.38 33.1941 1054.28 Q33.9262 1057.17 35.3903 1059.85 L29.9795 1059.85 Q28.7381 1056.63 28.1334 1053.61 Q27.4968 1050.58 27.4968 1047.72 Q27.4968 1039.99 31.5072 1036.17 Q35.5176 1032.35 43.6657 1032.35 Z\" fill=\"#000000\" fill-rule=\"evenodd\" fill-opacity=\"1\" /><path clip-path=\"url(#clip920)\" d=\"M14.479 1020.28 L14.479 1014.43 L64.0042 1014.43 L64.0042 1020.28 L14.479 1020.28 Z\" fill=\"#000000\" fill-rule=\"evenodd\" fill-opacity=\"1\" /><path clip-path=\"url(#clip920)\" d=\"M28.3562 1002.17 L28.3562 996.317 L64.0042 996.317 L64.0042 1002.17 L28.3562 1002.17 M14.479 1002.17 L14.479 996.317 L21.895 996.317 L21.895 1002.17 L14.479 1002.17 Z\" fill=\"#000000\" fill-rule=\"evenodd\" fill-opacity=\"1\" /><path clip-path=\"url(#clip920)\" d=\"M28.3562 986.61 L28.3562 958.791 L33.7034 958.791 L59.3254 980.817 L59.3254 958.791 L64.0042 958.791 L64.0042 987.405 L58.657 987.405 L33.035 965.38 L33.035 986.61 L28.3562 986.61 Z\" fill=\"#000000\" fill-rule=\"evenodd\" fill-opacity=\"1\" /><path clip-path=\"url(#clip920)\" d=\"M44.7161 919.356 L47.5806 919.356 L47.5806 946.283 Q53.6281 945.901 56.8109 942.654 Q59.9619 939.376 59.9619 933.551 Q59.9619 930.178 59.1344 927.027 Q58.3069 923.844 56.6518 920.725 L62.1899 920.725 Q63.5267 923.876 64.227 927.186 Q64.9272 930.496 64.9272 933.902 Q64.9272 942.432 59.9619 947.429 Q54.9967 952.394 46.5303 952.394 Q37.7774 952.394 32.6531 947.683 Q27.4968 942.941 27.4968 934.92 Q27.4968 927.727 32.1438 923.557 Q36.7589 919.356 44.7161 919.356 M42.9973 925.212 Q38.1912 925.276 35.3266 927.918 Q32.4621 930.528 32.4621 934.856 Q32.4621 939.758 35.2312 942.718 Q38.0002 945.646 43.0292 946.092 L42.9973 925.212 Z\" fill=\"#000000\" fill-rule=\"evenodd\" fill-opacity=\"1\" /><path clip-path=\"url(#clip920)\" d=\"M33.7671 886.286 L14.479 886.286 L14.479 880.43 L64.0042 880.43 L64.0042 886.286 L58.657 886.286 Q61.8398 888.132 63.3994 890.965 Q64.9272 893.766 64.9272 897.713 Q64.9272 904.174 59.771 908.248 Q54.6147 912.29 46.212 912.29 Q37.8093 912.29 32.6531 908.248 Q27.4968 904.174 27.4968 897.713 Q27.4968 893.766 29.0564 890.965 Q30.5842 888.132 33.7671 886.286 M46.212 906.243 Q52.6732 906.243 56.3653 903.601 Q60.0256 900.927 60.0256 896.28 Q60.0256 891.633 56.3653 888.96 Q52.6732 886.286 46.212 886.286 Q39.7508 886.286 36.0905 888.96 Q32.3984 891.633 32.3984 896.28 Q32.3984 900.927 36.0905 903.601 Q39.7508 906.243 46.212 906.243 Z\" fill=\"#000000\" fill-rule=\"evenodd\" fill-opacity=\"1\" /><path clip-path=\"url(#clip920)\" d=\"M35.1993 819.892 Q31.2526 817.696 29.3747 814.64 Q27.4968 811.585 27.4968 807.447 Q27.4968 801.877 31.4117 798.853 Q35.2948 795.829 42.4881 795.829 L64.0042 795.829 L64.0042 801.718 L42.679 801.718 Q37.5546 801.718 35.072 803.532 Q32.5894 805.346 32.5894 809.07 Q32.5894 813.622 35.6131 816.263 Q38.6368 818.905 43.8567 818.905 L64.0042 818.905 L64.0042 824.793 L42.679 824.793 Q37.5228 824.793 35.072 826.608 Q32.5894 828.422 32.5894 832.209 Q32.5894 836.697 35.6449 839.339 Q38.6686 841.981 43.8567 841.981 L64.0042 841.981 L64.0042 847.869 L28.3562 847.869 L28.3562 841.981 L33.8944 841.981 Q30.616 839.976 29.0564 837.175 Q27.4968 834.374 27.4968 830.523 Q27.4968 826.639 29.4702 823.934 Q31.4436 821.197 35.1993 819.892 Z\" fill=\"#000000\" fill-rule=\"evenodd\" fill-opacity=\"1\" /><path clip-path=\"url(#clip920)\" d=\"M49.9359 784.753 L28.3562 784.753 L28.3562 778.897 L49.7131 778.897 Q54.7739 778.897 57.3202 776.923 Q59.8346 774.95 59.8346 771.003 Q59.8346 766.261 56.8109 763.523 Q53.7872 760.754 48.5673 760.754 L28.3562 760.754 L28.3562 754.898 L64.0042 754.898 L64.0042 760.754 L58.5296 760.754 Q61.7762 762.887 63.3676 765.72 Q64.9272 768.521 64.9272 772.244 Q64.9272 778.387 61.1078 781.57 Q57.2883 784.753 49.9359 784.753 M27.4968 770.016 L27.4968 770.016 Z\" fill=\"#000000\" fill-rule=\"evenodd\" fill-opacity=\"1\" /><path clip-path=\"url(#clip920)\" d=\"M18.2347 737.042 L28.3562 737.042 L28.3562 724.979 L32.9077 724.979 L32.9077 737.042 L52.2594 737.042 Q56.6199 737.042 57.8613 735.864 Q59.1026 734.655 59.1026 730.995 L59.1026 724.979 L64.0042 724.979 L64.0042 730.995 Q64.0042 737.774 61.4897 740.352 Q58.9434 742.93 52.2594 742.93 L32.9077 742.93 L32.9077 747.227 L28.3562 747.227 L28.3562 742.93 L18.2347 742.93 L18.2347 737.042 Z\" fill=\"#000000\" fill-rule=\"evenodd\" fill-opacity=\"1\" /><path clip-path=\"url(#clip920)\" d=\"M49.9359 717.881 L28.3562 717.881 L28.3562 712.025 L49.7131 712.025 Q54.7739 712.025 57.3202 710.052 Q59.8346 708.078 59.8346 704.131 Q59.8346 699.389 56.8109 696.652 Q53.7872 693.883 48.5673 693.883 L28.3562 693.883 L28.3562 688.026 L64.0042 688.026 L64.0042 693.883 L58.5296 693.883 Q61.7762 696.015 63.3676 698.848 Q64.9272 701.649 64.9272 705.373 Q64.9272 711.516 61.1078 714.698 Q57.2883 717.881 49.9359 717.881 M27.4968 703.145 L27.4968 703.145 Z\" fill=\"#000000\" fill-rule=\"evenodd\" fill-opacity=\"1\" /><path clip-path=\"url(#clip920)\" d=\"M46.0847 659.762 Q46.0847 666.86 47.7079 669.597 Q49.3312 672.335 53.2461 672.335 Q56.3653 672.335 58.2114 670.298 Q60.0256 668.229 60.0256 664.696 Q60.0256 659.826 56.5881 656.898 Q53.1188 653.938 47.3897 653.938 L46.0847 653.938 L46.0847 659.762 M43.6657 648.081 L64.0042 648.081 L64.0042 653.938 L58.5933 653.938 Q61.8398 655.943 63.3994 658.935 Q64.9272 661.927 64.9272 666.255 Q64.9272 671.73 61.8716 674.976 Q58.7843 678.191 53.6281 678.191 Q47.6125 678.191 44.5569 674.181 Q41.5014 670.139 41.5014 662.15 L41.5014 653.938 L40.9285 653.938 Q36.8862 653.938 34.6901 656.611 Q32.4621 659.253 32.4621 664.059 Q32.4621 667.115 33.1941 670.011 Q33.9262 672.908 35.3903 675.581 L29.9795 675.581 Q28.7381 672.367 28.1334 669.343 Q27.4968 666.319 27.4968 663.455 Q27.4968 655.72 31.5072 651.901 Q35.5176 648.081 43.6657 648.081 Z\" fill=\"#000000\" fill-rule=\"evenodd\" fill-opacity=\"1\" /><path clip-path=\"url(#clip920)\" d=\"M14.479 636.018 L14.479 630.162 L64.0042 630.162 L64.0042 636.018 L14.479 636.018 Z\" fill=\"#000000\" fill-rule=\"evenodd\" fill-opacity=\"1\" /><path clip-path=\"url(#clip920)\" d=\"M28.3562 597.188 L28.3562 591.331 L64.0042 591.331 L64.0042 597.188 L28.3562 597.188 M14.479 597.188 L14.479 591.331 L21.895 591.331 L21.895 597.188 L14.479 597.188 Z\" fill=\"#000000\" fill-rule=\"evenodd\" fill-opacity=\"1\" /><path clip-path=\"url(#clip920)\" d=\"M42.4881 549.445 L64.0042 549.445 L64.0042 555.301 L42.679 555.301 Q37.6183 555.301 35.1038 557.275 Q32.5894 559.248 32.5894 563.195 Q32.5894 567.937 35.6131 570.674 Q38.6368 573.412 43.8567 573.412 L64.0042 573.412 L64.0042 579.3 L28.3562 579.3 L28.3562 573.412 L33.8944 573.412 Q30.6797 571.311 29.0883 568.478 Q27.4968 565.614 27.4968 561.89 Q27.4968 555.747 31.3163 552.596 Q35.1038 549.445 42.4881 549.445 Z\" fill=\"#000000\" fill-rule=\"evenodd\" fill-opacity=\"1\" /><path clip-path=\"url(#clip920)\" d=\"M14.479 519.717 L19.3487 519.717 L19.3487 525.319 Q19.3487 528.47 20.6219 529.711 Q21.895 530.921 25.2052 530.921 L28.3562 530.921 L28.3562 521.276 L32.9077 521.276 L32.9077 530.921 L64.0042 530.921 L64.0042 536.809 L32.9077 536.809 L32.9077 542.411 L28.3562 542.411 L28.3562 536.809 L25.8736 536.809 Q19.9216 536.809 17.2162 534.04 Q14.479 531.271 14.479 525.255 L14.479 519.717 Z\" fill=\"#000000\" fill-rule=\"evenodd\" fill-opacity=\"1\" /><path clip-path=\"url(#clip920)\" d=\"M32.4621 501.002 Q32.4621 505.712 36.1542 508.45 Q39.8145 511.187 46.212 511.187 Q52.6095 511.187 56.3017 508.481 Q59.9619 505.744 59.9619 501.002 Q59.9619 496.323 56.2698 493.586 Q52.5777 490.848 46.212 490.848 Q39.8781 490.848 36.186 493.586 Q32.4621 496.323 32.4621 501.002 M27.4968 501.002 Q27.4968 493.363 32.4621 489.002 Q37.4273 484.642 46.212 484.642 Q54.9649 484.642 59.9619 489.002 Q64.9272 493.363 64.9272 501.002 Q64.9272 508.672 59.9619 513.033 Q54.9649 517.362 46.212 517.362 Q37.4273 517.362 32.4621 513.033 Q27.4968 508.672 27.4968 501.002 Z\" fill=\"#000000\" fill-rule=\"evenodd\" fill-opacity=\"1\" /><path clip-path=\"url(#clip920)\" d=\"M33.8307 454.277 Q33.2578 455.264 33.0032 456.442 Q32.7167 457.588 32.7167 458.988 Q32.7167 463.953 35.9632 466.627 Q39.1779 469.269 45.2253 469.269 L64.0042 469.269 L64.0042 475.157 L28.3562 475.157 L28.3562 469.269 L33.8944 469.269 Q30.6479 467.423 29.0883 464.463 Q27.4968 461.502 27.4968 457.269 Q27.4968 456.665 27.5923 455.933 Q27.656 455.2 27.8151 454.309 L33.8307 454.277 Z\" fill=\"#000000\" fill-rule=\"evenodd\" fill-opacity=\"1\" /><path clip-path=\"url(#clip920)\" d=\"M35.1993 421.526 Q31.2526 419.33 29.3747 416.274 Q27.4968 413.219 27.4968 409.081 Q27.4968 403.511 31.4117 400.487 Q35.2948 397.463 42.4881 397.463 L64.0042 397.463 L64.0042 403.352 L42.679 403.352 Q37.5546 403.352 35.072 405.166 Q32.5894 406.98 32.5894 410.704 Q32.5894 415.256 35.6131 417.897 Q38.6368 420.539 43.8567 420.539 L64.0042 420.539 L64.0042 426.427 L42.679 426.427 Q37.5228 426.427 35.072 428.242 Q32.5894 430.056 32.5894 433.844 Q32.5894 438.331 35.6449 440.973 Q38.6686 443.615 43.8567 443.615 L64.0042 443.615 L64.0042 449.503 L28.3562 449.503 L28.3562 443.615 L33.8944 443.615 Q30.616 441.61 29.0564 438.809 Q27.4968 436.008 27.4968 432.157 Q27.4968 428.274 29.4702 425.568 Q31.4436 422.831 35.1993 421.526 Z\" fill=\"#000000\" fill-rule=\"evenodd\" fill-opacity=\"1\" /><path clip-path=\"url(#clip920)\" d=\"M46.0847 369.582 Q46.0847 376.679 47.7079 379.417 Q49.3312 382.154 53.2461 382.154 Q56.3653 382.154 58.2114 380.117 Q60.0256 378.048 60.0256 374.515 Q60.0256 369.645 56.5881 366.717 Q53.1188 363.757 47.3897 363.757 L46.0847 363.757 L46.0847 369.582 M43.6657 357.901 L64.0042 357.901 L64.0042 363.757 L58.5933 363.757 Q61.8398 365.762 63.3994 368.754 Q64.9272 371.746 64.9272 376.075 Q64.9272 381.549 61.8716 384.796 Q58.7843 388.01 53.6281 388.01 Q47.6125 388.01 44.5569 384 Q41.5014 379.958 41.5014 371.969 L41.5014 363.757 L40.9285 363.757 Q36.8862 363.757 34.6901 366.431 Q32.4621 369.072 32.4621 373.879 Q32.4621 376.934 33.1941 379.83 Q33.9262 382.727 35.3903 385.4 L29.9795 385.4 Q28.7381 382.186 28.1334 379.162 Q27.4968 376.138 27.4968 373.274 Q27.4968 365.539 31.5072 361.72 Q35.5176 357.901 43.6657 357.901 Z\" fill=\"#000000\" fill-rule=\"evenodd\" fill-opacity=\"1\" /><path clip-path=\"url(#clip920)\" d=\"M18.2347 340.045 L28.3562 340.045 L28.3562 327.982 L32.9077 327.982 L32.9077 340.045 L52.2594 340.045 Q56.6199 340.045 57.8613 338.867 Q59.1026 337.658 59.1026 333.997 L59.1026 327.982 L64.0042 327.982 L64.0042 333.997 Q64.0042 340.777 61.4897 343.355 Q58.9434 345.933 52.2594 345.933 L32.9077 345.933 L32.9077 350.23 L28.3562 350.23 L28.3562 345.933 L18.2347 345.933 L18.2347 340.045 Z\" fill=\"#000000\" fill-rule=\"evenodd\" fill-opacity=\"1\" /><path clip-path=\"url(#clip920)\" d=\"M28.3562 320.279 L28.3562 314.423 L64.0042 314.423 L64.0042 320.279 L28.3562 320.279 M14.479 320.279 L14.479 314.423 L21.895 314.423 L21.895 320.279 L14.479 320.279 Z\" fill=\"#000000\" fill-rule=\"evenodd\" fill-opacity=\"1\" /><path clip-path=\"url(#clip920)\" d=\"M32.4621 288.355 Q32.4621 293.066 36.1542 295.803 Q39.8145 298.54 46.212 298.54 Q52.6095 298.54 56.3017 295.835 Q59.9619 293.098 59.9619 288.355 Q59.9619 283.676 56.2698 280.939 Q52.5777 278.202 46.212 278.202 Q39.8781 278.202 36.186 280.939 Q32.4621 283.676 32.4621 288.355 M27.4968 288.355 Q27.4968 280.716 32.4621 276.356 Q37.4273 271.995 46.212 271.995 Q54.9649 271.995 59.9619 276.356 Q64.9272 280.716 64.9272 288.355 Q64.9272 296.026 59.9619 300.386 Q54.9649 304.715 46.212 304.715 Q37.4273 304.715 32.4621 300.386 Q27.4968 296.026 27.4968 288.355 Z\" fill=\"#000000\" fill-rule=\"evenodd\" fill-opacity=\"1\" /><path clip-path=\"url(#clip920)\" d=\"M42.4881 232.655 L64.0042 232.655 L64.0042 238.512 L42.679 238.512 Q37.6183 238.512 35.1038 240.485 Q32.5894 242.459 32.5894 246.405 Q32.5894 251.148 35.6131 253.885 Q38.6368 256.622 43.8567 256.622 L64.0042 256.622 L64.0042 262.511 L28.3562 262.511 L28.3562 256.622 L33.8944 256.622 Q30.6797 254.522 29.0883 251.689 Q27.4968 248.824 27.4968 245.1 Q27.4968 238.957 31.3163 235.806 Q35.1038 232.655 42.4881 232.655 Z\" fill=\"#000000\" fill-rule=\"evenodd\" fill-opacity=\"1\" /><polyline clip-path=\"url(#clip922)\" style=\"stroke:#009af9; stroke-linecap:butt; stroke-linejoin:round; stroke-width:4; stroke-opacity:1; fill:none\" points=\"\n",
       "  309.067,86.8075 529.53,90.0339 749.992,99.0333 970.455,192.025 1190.92,710.544 1411.38,1146.86 1631.84,1352.99 1852.31,1372.27 2072.77,1378.49 2293.23,1378.65 \n",
       "  \n",
       "  \"/>\n",
       "<polyline clip-path=\"url(#clip922)\" style=\"stroke:#009af9; stroke-linecap:butt; stroke-linejoin:round; stroke-width:4; stroke-opacity:1; fill:none\" points=\"\n",
       "  309.067,87.4294 309.067,86.1857 \n",
       "  \"/>\n",
       "<polyline clip-path=\"url(#clip922)\" style=\"stroke:#009af9; stroke-linecap:butt; stroke-linejoin:round; stroke-width:4; stroke-opacity:1; fill:none\" points=\"\n",
       "  529.53,92.2727 529.53,87.7952 \n",
       "  \"/>\n",
       "<polyline clip-path=\"url(#clip922)\" style=\"stroke:#009af9; stroke-linecap:butt; stroke-linejoin:round; stroke-width:4; stroke-opacity:1; fill:none\" points=\"\n",
       "  749.992,101.779 749.992,96.2876 \n",
       "  \"/>\n",
       "<polyline clip-path=\"url(#clip922)\" style=\"stroke:#009af9; stroke-linecap:butt; stroke-linejoin:round; stroke-width:4; stroke-opacity:1; fill:none\" points=\"\n",
       "  970.455,207.004 970.455,177.046 \n",
       "  \"/>\n",
       "<polyline clip-path=\"url(#clip922)\" style=\"stroke:#009af9; stroke-linecap:butt; stroke-linejoin:round; stroke-width:4; stroke-opacity:1; fill:none\" points=\"\n",
       "  1190.92,735.48 1190.92,685.609 \n",
       "  \"/>\n",
       "<polyline clip-path=\"url(#clip922)\" style=\"stroke:#009af9; stroke-linecap:butt; stroke-linejoin:round; stroke-width:4; stroke-opacity:1; fill:none\" points=\"\n",
       "  1411.38,1163.92 1411.38,1129.8 \n",
       "  \"/>\n",
       "<polyline clip-path=\"url(#clip922)\" style=\"stroke:#009af9; stroke-linecap:butt; stroke-linejoin:round; stroke-width:4; stroke-opacity:1; fill:none\" points=\"\n",
       "  1631.84,1362.13 1631.84,1343.85 \n",
       "  \"/>\n",
       "<polyline clip-path=\"url(#clip922)\" style=\"stroke:#009af9; stroke-linecap:butt; stroke-linejoin:round; stroke-width:4; stroke-opacity:1; fill:none\" points=\"\n",
       "  1852.31,1380.1 1852.31,1364.44 \n",
       "  \"/>\n",
       "<polyline clip-path=\"url(#clip922)\" style=\"stroke:#009af9; stroke-linecap:butt; stroke-linejoin:round; stroke-width:4; stroke-opacity:1; fill:none\" points=\"\n",
       "  2072.77,1384.24 2072.77,1372.74 \n",
       "  \"/>\n",
       "<polyline clip-path=\"url(#clip922)\" style=\"stroke:#009af9; stroke-linecap:butt; stroke-linejoin:round; stroke-width:4; stroke-opacity:1; fill:none\" points=\"\n",
       "  2293.23,1381.87 2293.23,1375.43 \n",
       "  \"/>\n",
       "<line clip-path=\"url(#clip922)\" x1=\"325.067\" y1=\"87.4294\" x2=\"293.067\" y2=\"87.4294\" style=\"stroke:#009af9; stroke-width:3.2; stroke-opacity:1\"/>\n",
       "<line clip-path=\"url(#clip922)\" x1=\"325.067\" y1=\"86.1857\" x2=\"293.067\" y2=\"86.1857\" style=\"stroke:#009af9; stroke-width:3.2; stroke-opacity:1\"/>\n",
       "<line clip-path=\"url(#clip922)\" x1=\"545.53\" y1=\"92.2727\" x2=\"513.53\" y2=\"92.2727\" style=\"stroke:#009af9; stroke-width:3.2; stroke-opacity:1\"/>\n",
       "<line clip-path=\"url(#clip922)\" x1=\"545.53\" y1=\"87.7952\" x2=\"513.53\" y2=\"87.7952\" style=\"stroke:#009af9; stroke-width:3.2; stroke-opacity:1\"/>\n",
       "<line clip-path=\"url(#clip922)\" x1=\"765.992\" y1=\"101.779\" x2=\"733.992\" y2=\"101.779\" style=\"stroke:#009af9; stroke-width:3.2; stroke-opacity:1\"/>\n",
       "<line clip-path=\"url(#clip922)\" x1=\"765.992\" y1=\"96.2876\" x2=\"733.992\" y2=\"96.2876\" style=\"stroke:#009af9; stroke-width:3.2; stroke-opacity:1\"/>\n",
       "<line clip-path=\"url(#clip922)\" x1=\"986.455\" y1=\"207.004\" x2=\"954.455\" y2=\"207.004\" style=\"stroke:#009af9; stroke-width:3.2; stroke-opacity:1\"/>\n",
       "<line clip-path=\"url(#clip922)\" x1=\"986.455\" y1=\"177.046\" x2=\"954.455\" y2=\"177.046\" style=\"stroke:#009af9; stroke-width:3.2; stroke-opacity:1\"/>\n",
       "<line clip-path=\"url(#clip922)\" x1=\"1206.92\" y1=\"735.48\" x2=\"1174.92\" y2=\"735.48\" style=\"stroke:#009af9; stroke-width:3.2; stroke-opacity:1\"/>\n",
       "<line clip-path=\"url(#clip922)\" x1=\"1206.92\" y1=\"685.609\" x2=\"1174.92\" y2=\"685.609\" style=\"stroke:#009af9; stroke-width:3.2; stroke-opacity:1\"/>\n",
       "<line clip-path=\"url(#clip922)\" x1=\"1427.38\" y1=\"1163.92\" x2=\"1395.38\" y2=\"1163.92\" style=\"stroke:#009af9; stroke-width:3.2; stroke-opacity:1\"/>\n",
       "<line clip-path=\"url(#clip922)\" x1=\"1427.38\" y1=\"1129.8\" x2=\"1395.38\" y2=\"1129.8\" style=\"stroke:#009af9; stroke-width:3.2; stroke-opacity:1\"/>\n",
       "<line clip-path=\"url(#clip922)\" x1=\"1647.84\" y1=\"1362.13\" x2=\"1615.84\" y2=\"1362.13\" style=\"stroke:#009af9; stroke-width:3.2; stroke-opacity:1\"/>\n",
       "<line clip-path=\"url(#clip922)\" x1=\"1647.84\" y1=\"1343.85\" x2=\"1615.84\" y2=\"1343.85\" style=\"stroke:#009af9; stroke-width:3.2; stroke-opacity:1\"/>\n",
       "<line clip-path=\"url(#clip922)\" x1=\"1868.31\" y1=\"1380.1\" x2=\"1836.31\" y2=\"1380.1\" style=\"stroke:#009af9; stroke-width:3.2; stroke-opacity:1\"/>\n",
       "<line clip-path=\"url(#clip922)\" x1=\"1868.31\" y1=\"1364.44\" x2=\"1836.31\" y2=\"1364.44\" style=\"stroke:#009af9; stroke-width:3.2; stroke-opacity:1\"/>\n",
       "<line clip-path=\"url(#clip922)\" x1=\"2088.77\" y1=\"1384.24\" x2=\"2056.77\" y2=\"1384.24\" style=\"stroke:#009af9; stroke-width:3.2; stroke-opacity:1\"/>\n",
       "<line clip-path=\"url(#clip922)\" x1=\"2088.77\" y1=\"1372.74\" x2=\"2056.77\" y2=\"1372.74\" style=\"stroke:#009af9; stroke-width:3.2; stroke-opacity:1\"/>\n",
       "<line clip-path=\"url(#clip922)\" x1=\"2309.23\" y1=\"1381.87\" x2=\"2277.23\" y2=\"1381.87\" style=\"stroke:#009af9; stroke-width:3.2; stroke-opacity:1\"/>\n",
       "<line clip-path=\"url(#clip922)\" x1=\"2309.23\" y1=\"1375.43\" x2=\"2277.23\" y2=\"1375.43\" style=\"stroke:#009af9; stroke-width:3.2; stroke-opacity:1\"/>\n",
       "<polyline clip-path=\"url(#clip922)\" style=\"stroke:#e26f46; stroke-linecap:butt; stroke-linejoin:round; stroke-width:4; stroke-opacity:1; fill:none\" points=\"\n",
       "  309.067,86.4485 529.53,86.4485 749.992,88.6089 970.455,210.951 1190.92,578.319 1411.38,1121.47 1631.84,1308.64 1852.31,1351.38 2072.77,1362.57 2293.23,1371.32 \n",
       "  \n",
       "  \"/>\n",
       "<path clip-path=\"url(#clip920)\" d=\"\n",
       "M1842.68 248.629 L2282.65 248.629 L2282.65 93.1086 L1842.68 93.1086  Z\n",
       "  \" fill=\"#ffffff\" fill-rule=\"evenodd\" fill-opacity=\"1\"/>\n",
       "<polyline clip-path=\"url(#clip920)\" style=\"stroke:#000000; stroke-linecap:butt; stroke-linejoin:round; stroke-width:4; stroke-opacity:1; fill:none\" points=\"\n",
       "  1842.68,248.629 2282.65,248.629 2282.65,93.1086 1842.68,93.1086 1842.68,248.629 \n",
       "  \"/>\n",
       "<polyline clip-path=\"url(#clip920)\" style=\"stroke:#009af9; stroke-linecap:butt; stroke-linejoin:round; stroke-width:4; stroke-opacity:1; fill:none\" points=\"\n",
       "  1866.04,144.949 2006.26,144.949 \n",
       "  \"/>\n",
       "<path clip-path=\"url(#clip920)\" d=\"M2029.63 127.669 L2051.48 127.669 L2051.48 131.604 L2034.3 131.604 L2034.3 141.835 L2050.76 141.835 L2050.76 145.77 L2034.3 145.77 L2034.3 158.293 L2051.9 158.293 L2051.9 162.229 L2029.63 162.229 L2029.63 127.669 Z\" fill=\"#000000\" fill-rule=\"evenodd\" fill-opacity=\"1\" /><path clip-path=\"url(#clip920)\" d=\"M2059.4 126.21 L2063.66 126.21 L2063.66 162.229 L2059.4 162.229 L2059.4 126.21 Z\" fill=\"#000000\" fill-rule=\"evenodd\" fill-opacity=\"1\" /><path clip-path=\"url(#clip920)\" d=\"M2072.57 126.21 L2076.83 126.21 L2076.83 162.229 L2072.57 162.229 L2072.57 126.21 Z\" fill=\"#000000\" fill-rule=\"evenodd\" fill-opacity=\"1\" /><path clip-path=\"url(#clip920)\" d=\"M2085.74 136.303 L2090 136.303 L2090 162.229 L2085.74 162.229 L2085.74 136.303 M2085.74 126.21 L2090 126.21 L2090 131.604 L2085.74 131.604 L2085.74 126.21 Z\" fill=\"#000000\" fill-rule=\"evenodd\" fill-opacity=\"1\" /><path clip-path=\"url(#clip920)\" d=\"M2103.03 158.34 L2103.03 172.09 L2098.75 172.09 L2098.75 136.303 L2103.03 136.303 L2103.03 140.238 Q2104.37 137.923 2106.41 136.812 Q2108.47 135.678 2111.32 135.678 Q2116.04 135.678 2118.98 139.428 Q2121.94 143.178 2121.94 149.289 Q2121.94 155.4 2118.98 159.15 Q2116.04 162.9 2111.32 162.9 Q2108.47 162.9 2106.41 161.789 Q2104.37 160.655 2103.03 158.34 M2117.52 149.289 Q2117.52 144.59 2115.58 141.928 Q2113.66 139.243 2110.28 139.243 Q2106.9 139.243 2104.95 141.928 Q2103.03 144.59 2103.03 149.289 Q2103.03 153.988 2104.95 156.673 Q2106.9 159.335 2110.28 159.335 Q2113.66 159.335 2115.58 156.673 Q2117.52 153.988 2117.52 149.289 Z\" fill=\"#000000\" fill-rule=\"evenodd\" fill-opacity=\"1\" /><path clip-path=\"url(#clip920)\" d=\"M2145.53 137.067 L2145.53 141.094 Q2143.72 140.169 2141.78 139.706 Q2139.84 139.243 2137.75 139.243 Q2134.58 139.243 2132.98 140.215 Q2131.41 141.187 2131.41 143.131 Q2131.41 144.613 2132.54 145.469 Q2133.68 146.303 2137.1 147.067 L2138.56 147.391 Q2143.1 148.363 2145 150.145 Q2146.92 151.905 2146.92 155.076 Q2146.92 158.687 2144.05 160.793 Q2141.2 162.9 2136.2 162.9 Q2134.12 162.9 2131.85 162.483 Q2129.6 162.09 2127.1 161.28 L2127.1 156.881 Q2129.47 158.108 2131.76 158.733 Q2134.05 159.335 2136.29 159.335 Q2139.3 159.335 2140.92 158.317 Q2142.54 157.275 2142.54 155.4 Q2142.54 153.664 2141.36 152.738 Q2140.21 151.812 2136.25 150.956 L2134.77 150.608 Q2130.81 149.775 2129.05 148.062 Q2127.29 146.326 2127.29 143.317 Q2127.29 139.659 2129.88 137.669 Q2132.47 135.678 2137.24 135.678 Q2139.6 135.678 2141.69 136.025 Q2143.77 136.372 2145.53 137.067 Z\" fill=\"#000000\" fill-rule=\"evenodd\" fill-opacity=\"1\" /><path clip-path=\"url(#clip920)\" d=\"M2163.75 139.289 Q2160.32 139.289 2158.33 141.974 Q2156.34 144.636 2156.34 149.289 Q2156.34 153.942 2158.31 156.627 Q2160.3 159.289 2163.75 159.289 Q2167.15 159.289 2169.14 156.604 Q2171.13 153.918 2171.13 149.289 Q2171.13 144.682 2169.14 141.997 Q2167.15 139.289 2163.75 139.289 M2163.75 135.678 Q2169.3 135.678 2172.47 139.289 Q2175.65 142.9 2175.65 149.289 Q2175.65 155.655 2172.47 159.289 Q2169.3 162.9 2163.75 162.9 Q2158.17 162.9 2155 159.289 Q2151.85 155.655 2151.85 149.289 Q2151.85 142.9 2155 139.289 Q2158.17 135.678 2163.75 135.678 Z\" fill=\"#000000\" fill-rule=\"evenodd\" fill-opacity=\"1\" /><path clip-path=\"url(#clip920)\" d=\"M2182.71 136.303 L2186.97 136.303 L2186.97 162.229 L2182.71 162.229 L2182.71 136.303 M2182.71 126.21 L2186.97 126.21 L2186.97 131.604 L2182.71 131.604 L2182.71 126.21 Z\" fill=\"#000000\" fill-rule=\"evenodd\" fill-opacity=\"1\" /><path clip-path=\"url(#clip920)\" d=\"M2212.94 140.238 L2212.94 126.21 L2217.2 126.21 L2217.2 162.229 L2212.94 162.229 L2212.94 158.34 Q2211.59 160.655 2209.53 161.789 Q2207.5 162.9 2204.63 162.9 Q2199.93 162.9 2196.97 159.15 Q2194.03 155.4 2194.03 149.289 Q2194.03 143.178 2196.97 139.428 Q2199.93 135.678 2204.63 135.678 Q2207.5 135.678 2209.53 136.812 Q2211.59 137.923 2212.94 140.238 M2198.42 149.289 Q2198.42 153.988 2200.34 156.673 Q2202.29 159.335 2205.67 159.335 Q2209.05 159.335 2210.99 156.673 Q2212.94 153.988 2212.94 149.289 Q2212.94 144.59 2210.99 141.928 Q2209.05 139.243 2205.67 139.243 Q2202.29 139.243 2200.34 141.928 Q2198.42 144.59 2198.42 149.289 Z\" fill=\"#000000\" fill-rule=\"evenodd\" fill-opacity=\"1\" /><path clip-path=\"url(#clip920)\" d=\"M2237.75 149.196 Q2232.59 149.196 2230.6 150.377 Q2228.61 151.557 2228.61 154.405 Q2228.61 156.673 2230.09 158.016 Q2231.59 159.335 2234.16 159.335 Q2237.71 159.335 2239.84 156.835 Q2241.99 154.312 2241.99 150.145 L2241.99 149.196 L2237.75 149.196 M2246.25 147.437 L2246.25 162.229 L2241.99 162.229 L2241.99 158.293 Q2240.53 160.655 2238.35 161.789 Q2236.18 162.9 2233.03 162.9 Q2229.05 162.9 2226.69 160.678 Q2224.35 158.432 2224.35 154.682 Q2224.35 150.307 2227.27 148.085 Q2230.21 145.863 2236.02 145.863 L2241.99 145.863 L2241.99 145.446 Q2241.99 142.507 2240.04 140.909 Q2238.12 139.289 2234.63 139.289 Q2232.4 139.289 2230.3 139.821 Q2228.19 140.354 2226.25 141.419 L2226.25 137.483 Q2228.59 136.581 2230.78 136.141 Q2232.98 135.678 2235.07 135.678 Q2240.69 135.678 2243.47 138.594 Q2246.25 141.511 2246.25 147.437 Z\" fill=\"#000000\" fill-rule=\"evenodd\" fill-opacity=\"1\" /><path clip-path=\"url(#clip920)\" d=\"M2255.02 126.21 L2259.28 126.21 L2259.28 162.229 L2255.02 162.229 L2255.02 126.21 Z\" fill=\"#000000\" fill-rule=\"evenodd\" fill-opacity=\"1\" /><polyline clip-path=\"url(#clip920)\" style=\"stroke:#e26f46; stroke-linecap:butt; stroke-linejoin:round; stroke-width:4; stroke-opacity:1; fill:none\" points=\"\n",
       "  1866.04,196.789 2006.26,196.789 \n",
       "  \"/>\n",
       "<path clip-path=\"url(#clip920)\" d=\"M2029.63 179.509 L2034.3 179.509 L2034.3 210.133 L2051.13 210.133 L2051.13 214.069 L2029.63 214.069 L2029.63 179.509 Z\" fill=\"#000000\" fill-rule=\"evenodd\" fill-opacity=\"1\" /><path clip-path=\"url(#clip920)\" d=\"M2065.07 191.129 Q2061.64 191.129 2059.65 193.814 Q2057.66 196.476 2057.66 201.129 Q2057.66 205.782 2059.63 208.467 Q2061.62 211.129 2065.07 211.129 Q2068.47 211.129 2070.46 208.444 Q2072.45 205.758 2072.45 201.129 Q2072.45 196.522 2070.46 193.837 Q2068.47 191.129 2065.07 191.129 M2065.07 187.518 Q2070.62 187.518 2073.79 191.129 Q2076.97 194.74 2076.97 201.129 Q2076.97 207.495 2073.79 211.129 Q2070.62 214.74 2065.07 214.74 Q2059.49 214.74 2056.32 211.129 Q2053.17 207.495 2053.17 201.129 Q2053.17 194.74 2056.32 191.129 Q2059.49 187.518 2065.07 187.518 Z\" fill=\"#000000\" fill-rule=\"evenodd\" fill-opacity=\"1\" /><path clip-path=\"url(#clip920)\" d=\"M2083.59 203.837 L2083.59 188.143 L2087.85 188.143 L2087.85 203.675 Q2087.85 207.356 2089.28 209.208 Q2090.72 211.036 2093.59 211.036 Q2097.04 211.036 2099.03 208.837 Q2101.04 206.638 2101.04 202.842 L2101.04 188.143 L2105.3 188.143 L2105.3 214.069 L2101.04 214.069 L2101.04 210.087 Q2099.49 212.448 2097.43 213.606 Q2095.39 214.74 2092.68 214.74 Q2088.22 214.74 2085.9 211.962 Q2083.59 209.184 2083.59 203.837 M2094.3 187.518 L2094.3 187.518 Z\" fill=\"#000000\" fill-rule=\"evenodd\" fill-opacity=\"1\" /><path clip-path=\"url(#clip920)\" d=\"M2111.02 188.143 L2115.53 188.143 L2123.63 209.902 L2131.73 188.143 L2136.25 188.143 L2126.53 214.069 L2120.74 214.069 L2111.02 188.143 Z\" fill=\"#000000\" fill-rule=\"evenodd\" fill-opacity=\"1\" /><path clip-path=\"url(#clip920)\" d=\"M2153.91 201.036 Q2148.75 201.036 2146.76 202.217 Q2144.77 203.397 2144.77 206.245 Q2144.77 208.513 2146.25 209.856 Q2147.75 211.175 2150.32 211.175 Q2153.86 211.175 2155.99 208.675 Q2158.15 206.152 2158.15 201.985 L2158.15 201.036 L2153.91 201.036 M2162.41 199.277 L2162.41 214.069 L2158.15 214.069 L2158.15 210.133 Q2156.69 212.495 2154.51 213.629 Q2152.34 214.74 2149.19 214.74 Q2145.21 214.74 2142.85 212.518 Q2140.51 210.272 2140.51 206.522 Q2140.51 202.147 2143.42 199.925 Q2146.36 197.703 2152.17 197.703 L2158.15 197.703 L2158.15 197.286 Q2158.15 194.347 2156.2 192.749 Q2154.28 191.129 2150.78 191.129 Q2148.56 191.129 2146.46 191.661 Q2144.35 192.194 2142.41 193.259 L2142.41 189.323 Q2144.74 188.421 2146.94 187.981 Q2149.14 187.518 2151.22 187.518 Q2156.85 187.518 2159.63 190.434 Q2162.41 193.351 2162.41 199.277 Z\" fill=\"#000000\" fill-rule=\"evenodd\" fill-opacity=\"1\" /><path clip-path=\"url(#clip920)\" d=\"M2171.18 188.143 L2175.44 188.143 L2175.44 214.069 L2171.18 214.069 L2171.18 188.143 M2171.18 178.05 L2175.44 178.05 L2175.44 183.444 L2171.18 183.444 L2171.18 178.05 Z\" fill=\"#000000\" fill-rule=\"evenodd\" fill-opacity=\"1\" /><path clip-path=\"url(#clip920)\" d=\"M2205.9 198.421 L2205.9 214.069 L2201.64 214.069 L2201.64 198.559 Q2201.64 194.879 2200.21 193.05 Q2198.77 191.222 2195.9 191.222 Q2192.45 191.222 2190.46 193.421 Q2188.47 195.62 2188.47 199.416 L2188.47 214.069 L2184.19 214.069 L2184.19 188.143 L2188.47 188.143 L2188.47 192.171 Q2190 189.833 2192.06 188.675 Q2194.14 187.518 2196.85 187.518 Q2201.32 187.518 2203.61 190.296 Q2205.9 193.05 2205.9 198.421 Z\" fill=\"#000000\" fill-rule=\"evenodd\" fill-opacity=\"1\" /></svg>\n"
      ],
      "text/html": [
       "<?xml version=\"1.0\" encoding=\"utf-8\"?>\n",
       "<svg xmlns=\"http://www.w3.org/2000/svg\" xmlns:xlink=\"http://www.w3.org/1999/xlink\" width=\"600\" height=\"400\" viewBox=\"0 0 2400 1600\">\n",
       "<defs>\n",
       "  <clipPath id=\"clip970\">\n",
       "    <rect x=\"0\" y=\"0\" width=\"2400\" height=\"1600\"/>\n",
       "  </clipPath>\n",
       "</defs>\n",
       "<path clip-path=\"url(#clip970)\" d=\"\n",
       "M0 1600 L2400 1600 L2400 0 L0 0  Z\n",
       "  \" fill=\"#ffffff\" fill-rule=\"evenodd\" fill-opacity=\"1\"/>\n",
       "<defs>\n",
       "  <clipPath id=\"clip971\">\n",
       "    <rect x=\"480\" y=\"0\" width=\"1681\" height=\"1600\"/>\n",
       "  </clipPath>\n",
       "</defs>\n",
       "<path clip-path=\"url(#clip970)\" d=\"\n",
       "M249.542 1423.18 L2352.76 1423.18 L2352.76 47.2441 L249.542 47.2441  Z\n",
       "  \" fill=\"#ffffff\" fill-rule=\"evenodd\" fill-opacity=\"1\"/>\n",
       "<defs>\n",
       "  <clipPath id=\"clip972\">\n",
       "    <rect x=\"249\" y=\"47\" width=\"2104\" height=\"1377\"/>\n",
       "  </clipPath>\n",
       "</defs>\n",
       "<polyline clip-path=\"url(#clip972)\" style=\"stroke:#000000; stroke-linecap:butt; stroke-linejoin:round; stroke-width:2; stroke-opacity:0.1; fill:none\" points=\"\n",
       "  529.53,1423.18 529.53,47.2441 \n",
       "  \"/>\n",
       "<polyline clip-path=\"url(#clip972)\" style=\"stroke:#000000; stroke-linecap:butt; stroke-linejoin:round; stroke-width:2; stroke-opacity:0.1; fill:none\" points=\"\n",
       "  970.455,1423.18 970.455,47.2441 \n",
       "  \"/>\n",
       "<polyline clip-path=\"url(#clip972)\" style=\"stroke:#000000; stroke-linecap:butt; stroke-linejoin:round; stroke-width:2; stroke-opacity:0.1; fill:none\" points=\"\n",
       "  1411.38,1423.18 1411.38,47.2441 \n",
       "  \"/>\n",
       "<polyline clip-path=\"url(#clip972)\" style=\"stroke:#000000; stroke-linecap:butt; stroke-linejoin:round; stroke-width:2; stroke-opacity:0.1; fill:none\" points=\"\n",
       "  1852.31,1423.18 1852.31,47.2441 \n",
       "  \"/>\n",
       "<polyline clip-path=\"url(#clip972)\" style=\"stroke:#000000; stroke-linecap:butt; stroke-linejoin:round; stroke-width:2; stroke-opacity:0.1; fill:none\" points=\"\n",
       "  2293.23,1423.18 2293.23,47.2441 \n",
       "  \"/>\n",
       "<polyline clip-path=\"url(#clip970)\" style=\"stroke:#000000; stroke-linecap:butt; stroke-linejoin:round; stroke-width:4; stroke-opacity:1; fill:none\" points=\"\n",
       "  249.542,1423.18 2352.76,1423.18 \n",
       "  \"/>\n",
       "<polyline clip-path=\"url(#clip970)\" style=\"stroke:#000000; stroke-linecap:butt; stroke-linejoin:round; stroke-width:4; stroke-opacity:1; fill:none\" points=\"\n",
       "  529.53,1423.18 529.53,1404.28 \n",
       "  \"/>\n",
       "<polyline clip-path=\"url(#clip970)\" style=\"stroke:#000000; stroke-linecap:butt; stroke-linejoin:round; stroke-width:4; stroke-opacity:1; fill:none\" points=\"\n",
       "  970.455,1423.18 970.455,1404.28 \n",
       "  \"/>\n",
       "<polyline clip-path=\"url(#clip970)\" style=\"stroke:#000000; stroke-linecap:butt; stroke-linejoin:round; stroke-width:4; stroke-opacity:1; fill:none\" points=\"\n",
       "  1411.38,1423.18 1411.38,1404.28 \n",
       "  \"/>\n",
       "<polyline clip-path=\"url(#clip970)\" style=\"stroke:#000000; stroke-linecap:butt; stroke-linejoin:round; stroke-width:4; stroke-opacity:1; fill:none\" points=\"\n",
       "  1852.31,1423.18 1852.31,1404.28 \n",
       "  \"/>\n",
       "<polyline clip-path=\"url(#clip970)\" style=\"stroke:#000000; stroke-linecap:butt; stroke-linejoin:round; stroke-width:4; stroke-opacity:1; fill:none\" points=\"\n",
       "  2293.23,1423.18 2293.23,1404.28 \n",
       "  \"/>\n",
       "<path clip-path=\"url(#clip970)\" d=\"M507.713 1454.1 Q504.102 1454.1 502.273 1457.66 Q500.467 1461.2 500.467 1468.33 Q500.467 1475.44 502.273 1479.01 Q504.102 1482.55 507.713 1482.55 Q511.347 1482.55 513.152 1479.01 Q514.981 1475.44 514.981 1468.33 Q514.981 1461.2 513.152 1457.66 Q511.347 1454.1 507.713 1454.1 M507.713 1450.39 Q513.523 1450.39 516.578 1455 Q519.657 1459.58 519.657 1468.33 Q519.657 1477.06 516.578 1481.67 Q513.523 1486.25 507.713 1486.25 Q501.902 1486.25 498.824 1481.67 Q495.768 1477.06 495.768 1468.33 Q495.768 1459.58 498.824 1455 Q501.902 1450.39 507.713 1450.39 Z\" fill=\"#000000\" fill-rule=\"evenodd\" fill-opacity=\"1\" /><path clip-path=\"url(#clip970)\" d=\"M527.875 1479.7 L532.759 1479.7 L532.759 1485.58 L527.875 1485.58 L527.875 1479.7 Z\" fill=\"#000000\" fill-rule=\"evenodd\" fill-opacity=\"1\" /><path clip-path=\"url(#clip970)\" d=\"M546.972 1481.64 L563.291 1481.64 L563.291 1485.58 L541.347 1485.58 L541.347 1481.64 Q544.009 1478.89 548.592 1474.26 Q553.198 1469.61 554.379 1468.27 Q556.624 1465.74 557.504 1464.01 Q558.407 1462.25 558.407 1460.56 Q558.407 1457.8 556.462 1456.07 Q554.541 1454.33 551.439 1454.33 Q549.24 1454.33 546.786 1455.09 Q544.356 1455.86 541.578 1457.41 L541.578 1452.69 Q544.402 1451.55 546.856 1450.97 Q549.31 1450.39 551.347 1450.39 Q556.717 1450.39 559.911 1453.08 Q563.106 1455.77 563.106 1460.26 Q563.106 1462.39 562.296 1464.31 Q561.509 1466.2 559.402 1468.8 Q558.823 1469.47 555.722 1472.69 Q552.62 1475.88 546.972 1481.64 Z\" fill=\"#000000\" fill-rule=\"evenodd\" fill-opacity=\"1\" /><path clip-path=\"url(#clip970)\" d=\"M947.596 1454.1 Q943.985 1454.1 942.157 1457.66 Q940.351 1461.2 940.351 1468.33 Q940.351 1475.44 942.157 1479.01 Q943.985 1482.55 947.596 1482.55 Q951.231 1482.55 953.036 1479.01 Q954.865 1475.44 954.865 1468.33 Q954.865 1461.2 953.036 1457.66 Q951.231 1454.1 947.596 1454.1 M947.596 1450.39 Q953.406 1450.39 956.462 1455 Q959.541 1459.58 959.541 1468.33 Q959.541 1477.06 956.462 1481.67 Q953.406 1486.25 947.596 1486.25 Q941.786 1486.25 938.707 1481.67 Q935.652 1477.06 935.652 1468.33 Q935.652 1459.58 938.707 1455 Q941.786 1450.39 947.596 1450.39 Z\" fill=\"#000000\" fill-rule=\"evenodd\" fill-opacity=\"1\" /><path clip-path=\"url(#clip970)\" d=\"M967.758 1479.7 L972.642 1479.7 L972.642 1485.58 L967.758 1485.58 L967.758 1479.7 Z\" fill=\"#000000\" fill-rule=\"evenodd\" fill-opacity=\"1\" /><path clip-path=\"url(#clip970)\" d=\"M995.675 1455.09 L983.869 1473.54 L995.675 1473.54 L995.675 1455.09 M994.448 1451.02 L1000.33 1451.02 L1000.33 1473.54 L1005.26 1473.54 L1005.26 1477.43 L1000.33 1477.43 L1000.33 1485.58 L995.675 1485.58 L995.675 1477.43 L980.073 1477.43 L980.073 1472.92 L994.448 1451.02 Z\" fill=\"#000000\" fill-rule=\"evenodd\" fill-opacity=\"1\" /><path clip-path=\"url(#clip970)\" d=\"M1388.68 1454.1 Q1385.07 1454.1 1383.24 1457.66 Q1381.44 1461.2 1381.44 1468.33 Q1381.44 1475.44 1383.24 1479.01 Q1385.07 1482.55 1388.68 1482.55 Q1392.32 1482.55 1394.12 1479.01 Q1395.95 1475.44 1395.95 1468.33 Q1395.95 1461.2 1394.12 1457.66 Q1392.32 1454.1 1388.68 1454.1 M1388.68 1450.39 Q1394.49 1450.39 1397.55 1455 Q1400.63 1459.58 1400.63 1468.33 Q1400.63 1477.06 1397.55 1481.67 Q1394.49 1486.25 1388.68 1486.25 Q1382.87 1486.25 1379.79 1481.67 Q1376.74 1477.06 1376.74 1468.33 Q1376.74 1459.58 1379.79 1455 Q1382.87 1450.39 1388.68 1450.39 Z\" fill=\"#000000\" fill-rule=\"evenodd\" fill-opacity=\"1\" /><path clip-path=\"url(#clip970)\" d=\"M1408.85 1479.7 L1413.73 1479.7 L1413.73 1485.58 L1408.85 1485.58 L1408.85 1479.7 Z\" fill=\"#000000\" fill-rule=\"evenodd\" fill-opacity=\"1\" /><path clip-path=\"url(#clip970)\" d=\"M1434.49 1466.44 Q1431.35 1466.44 1429.49 1468.59 Q1427.66 1470.74 1427.66 1474.49 Q1427.66 1478.22 1429.49 1480.39 Q1431.35 1482.55 1434.49 1482.55 Q1437.64 1482.55 1439.47 1480.39 Q1441.32 1478.22 1441.32 1474.49 Q1441.32 1470.74 1439.47 1468.59 Q1437.64 1466.44 1434.49 1466.44 M1443.78 1451.78 L1443.78 1456.04 Q1442.02 1455.21 1440.21 1454.77 Q1438.43 1454.33 1436.67 1454.33 Q1432.04 1454.33 1429.59 1457.45 Q1427.16 1460.58 1426.81 1466.9 Q1428.17 1464.89 1430.23 1463.82 Q1432.29 1462.73 1434.77 1462.73 Q1439.98 1462.73 1442.99 1465.9 Q1446.02 1469.05 1446.02 1474.49 Q1446.02 1479.82 1442.87 1483.03 Q1439.73 1486.25 1434.49 1486.25 Q1428.5 1486.25 1425.33 1481.67 Q1422.16 1477.06 1422.16 1468.33 Q1422.16 1460.14 1426.04 1455.28 Q1429.93 1450.39 1436.48 1450.39 Q1438.24 1450.39 1440.03 1450.74 Q1441.83 1451.09 1443.78 1451.78 Z\" fill=\"#000000\" fill-rule=\"evenodd\" fill-opacity=\"1\" /><path clip-path=\"url(#clip970)\" d=\"M1829.74 1454.1 Q1826.13 1454.1 1824.3 1457.66 Q1822.49 1461.2 1822.49 1468.33 Q1822.49 1475.44 1824.3 1479.01 Q1826.13 1482.55 1829.74 1482.55 Q1833.37 1482.55 1835.18 1479.01 Q1837 1475.44 1837 1468.33 Q1837 1461.2 1835.18 1457.66 Q1833.37 1454.1 1829.74 1454.1 M1829.74 1450.39 Q1835.55 1450.39 1838.6 1455 Q1841.68 1459.58 1841.68 1468.33 Q1841.68 1477.06 1838.6 1481.67 Q1835.55 1486.25 1829.74 1486.25 Q1823.93 1486.25 1820.85 1481.67 Q1817.79 1477.06 1817.79 1468.33 Q1817.79 1459.58 1820.85 1455 Q1823.93 1450.39 1829.74 1450.39 Z\" fill=\"#000000\" fill-rule=\"evenodd\" fill-opacity=\"1\" /><path clip-path=\"url(#clip970)\" d=\"M1849.9 1479.7 L1854.78 1479.7 L1854.78 1485.58 L1849.9 1485.58 L1849.9 1479.7 Z\" fill=\"#000000\" fill-rule=\"evenodd\" fill-opacity=\"1\" /><path clip-path=\"url(#clip970)\" d=\"M1874.97 1469.17 Q1871.63 1469.17 1869.71 1470.95 Q1867.81 1472.73 1867.81 1475.86 Q1867.81 1478.98 1869.71 1480.77 Q1871.63 1482.55 1874.97 1482.55 Q1878.3 1482.55 1880.22 1480.77 Q1882.14 1478.96 1882.14 1475.86 Q1882.14 1472.73 1880.22 1470.95 Q1878.32 1469.17 1874.97 1469.17 M1870.29 1467.18 Q1867.28 1466.44 1865.59 1464.38 Q1863.93 1462.32 1863.93 1459.35 Q1863.93 1455.21 1866.87 1452.8 Q1869.83 1450.39 1874.97 1450.39 Q1880.13 1450.39 1883.07 1452.8 Q1886.01 1455.21 1886.01 1459.35 Q1886.01 1462.32 1884.32 1464.38 Q1882.65 1466.44 1879.67 1467.18 Q1883.05 1467.96 1884.92 1470.26 Q1886.82 1472.55 1886.82 1475.86 Q1886.82 1480.88 1883.74 1483.57 Q1880.69 1486.25 1874.97 1486.25 Q1869.25 1486.25 1866.17 1483.57 Q1863.12 1480.88 1863.12 1475.86 Q1863.12 1472.55 1865.01 1470.26 Q1866.91 1467.96 1870.29 1467.18 M1868.58 1459.79 Q1868.58 1462.48 1870.25 1463.98 Q1871.94 1465.49 1874.97 1465.49 Q1877.98 1465.49 1879.67 1463.98 Q1881.38 1462.48 1881.38 1459.79 Q1881.38 1457.11 1879.67 1455.6 Q1877.98 1454.1 1874.97 1454.1 Q1871.94 1454.1 1870.25 1455.6 Q1868.58 1457.11 1868.58 1459.79 Z\" fill=\"#000000\" fill-rule=\"evenodd\" fill-opacity=\"1\" /><path clip-path=\"url(#clip970)\" d=\"M2260.38 1481.64 L2268.02 1481.64 L2268.02 1455.28 L2259.71 1456.95 L2259.71 1452.69 L2267.98 1451.02 L2272.65 1451.02 L2272.65 1481.64 L2280.29 1481.64 L2280.29 1485.58 L2260.38 1485.58 L2260.38 1481.64 Z\" fill=\"#000000\" fill-rule=\"evenodd\" fill-opacity=\"1\" /><path clip-path=\"url(#clip970)\" d=\"M2289.74 1479.7 L2294.62 1479.7 L2294.62 1485.58 L2289.74 1485.58 L2289.74 1479.7 Z\" fill=\"#000000\" fill-rule=\"evenodd\" fill-opacity=\"1\" /><path clip-path=\"url(#clip970)\" d=\"M2314.8 1454.1 Q2311.19 1454.1 2309.37 1457.66 Q2307.56 1461.2 2307.56 1468.33 Q2307.56 1475.44 2309.37 1479.01 Q2311.19 1482.55 2314.8 1482.55 Q2318.44 1482.55 2320.24 1479.01 Q2322.07 1475.44 2322.07 1468.33 Q2322.07 1461.2 2320.24 1457.66 Q2318.44 1454.1 2314.8 1454.1 M2314.8 1450.39 Q2320.62 1450.39 2323.67 1455 Q2326.75 1459.58 2326.75 1468.33 Q2326.75 1477.06 2323.67 1481.67 Q2320.62 1486.25 2314.8 1486.25 Q2308.99 1486.25 2305.92 1481.67 Q2302.86 1477.06 2302.86 1468.33 Q2302.86 1459.58 2305.92 1455 Q2308.99 1450.39 2314.8 1450.39 Z\" fill=\"#000000\" fill-rule=\"evenodd\" fill-opacity=\"1\" /><path clip-path=\"url(#clip970)\" d=\"M1015.06 1520.52 L1024.64 1520.52 L1036.77 1552.86 L1048.96 1520.52 L1058.54 1520.52 L1058.54 1568.04 L1052.27 1568.04 L1052.27 1526.32 L1040.01 1558.91 L1033.55 1558.91 L1021.3 1526.32 L1021.3 1568.04 L1015.06 1568.04 L1015.06 1520.52 Z\" fill=\"#000000\" fill-rule=\"evenodd\" fill-opacity=\"1\" /><path clip-path=\"url(#clip970)\" d=\"M1071.04 1532.4 L1076.9 1532.4 L1076.9 1568.04 L1071.04 1568.04 L1071.04 1532.4 M1071.04 1518.52 L1076.9 1518.52 L1076.9 1525.93 L1071.04 1525.93 L1071.04 1518.52 Z\" fill=\"#000000\" fill-rule=\"evenodd\" fill-opacity=\"1\" /><path clip-path=\"url(#clip970)\" d=\"M1118.79 1532.4 L1105.9 1549.74 L1119.46 1568.04 L1112.55 1568.04 L1102.17 1554.04 L1091.8 1568.04 L1084.89 1568.04 L1098.74 1549.39 L1086.07 1532.4 L1092.97 1532.4 L1102.43 1545.1 L1111.88 1532.4 L1118.79 1532.4 Z\" fill=\"#000000\" fill-rule=\"evenodd\" fill-opacity=\"1\" /><path clip-path=\"url(#clip970)\" d=\"M1127.73 1532.4 L1133.59 1532.4 L1133.59 1568.04 L1127.73 1568.04 L1127.73 1532.4 M1127.73 1518.52 L1133.59 1518.52 L1133.59 1525.93 L1127.73 1525.93 L1127.73 1518.52 Z\" fill=\"#000000\" fill-rule=\"evenodd\" fill-opacity=\"1\" /><path clip-path=\"url(#clip970)\" d=\"M1175.47 1546.53 L1175.47 1568.04 L1169.62 1568.04 L1169.62 1546.72 Q1169.62 1541.66 1167.64 1539.14 Q1165.67 1536.63 1161.72 1536.63 Q1156.98 1536.63 1154.24 1539.65 Q1151.51 1542.68 1151.51 1547.9 L1151.51 1568.04 L1145.62 1568.04 L1145.62 1532.4 L1151.51 1532.4 L1151.51 1537.93 Q1153.61 1534.72 1156.44 1533.13 Q1159.31 1531.54 1163.03 1531.54 Q1169.17 1531.54 1172.32 1535.36 Q1175.47 1539.14 1175.47 1546.53 Z\" fill=\"#000000\" fill-rule=\"evenodd\" fill-opacity=\"1\" /><path clip-path=\"url(#clip970)\" d=\"M1210.61 1549.81 Q1210.61 1543.44 1207.97 1539.94 Q1205.36 1536.44 1200.62 1536.44 Q1195.91 1536.44 1193.27 1539.94 Q1190.66 1543.44 1190.66 1549.81 Q1190.66 1556.14 1193.27 1559.64 Q1195.91 1563.14 1200.62 1563.14 Q1205.36 1563.14 1207.97 1559.64 Q1210.61 1556.14 1210.61 1549.81 M1216.47 1563.62 Q1216.47 1572.72 1212.43 1577.15 Q1208.38 1581.6 1200.05 1581.6 Q1196.96 1581.6 1194.22 1581.13 Q1191.48 1580.68 1188.91 1579.72 L1188.91 1574.03 Q1191.48 1575.43 1194 1576.1 Q1196.51 1576.76 1199.12 1576.76 Q1204.88 1576.76 1207.75 1573.74 Q1210.61 1570.75 1210.61 1564.67 L1210.61 1561.77 Q1208.8 1564.92 1205.97 1566.48 Q1203.13 1568.04 1199.19 1568.04 Q1192.63 1568.04 1188.62 1563.05 Q1184.61 1558.05 1184.61 1549.81 Q1184.61 1541.53 1188.62 1536.53 Q1192.63 1531.54 1199.19 1531.54 Q1203.13 1531.54 1205.97 1533.1 Q1208.8 1534.66 1210.61 1537.81 L1210.61 1532.4 L1216.47 1532.4 L1216.47 1563.62 Z\" fill=\"#000000\" fill-rule=\"evenodd\" fill-opacity=\"1\" /><path clip-path=\"url(#clip970)\" d=\"M1254.92 1562.7 L1254.92 1581.6 L1249.03 1581.6 L1249.03 1532.4 L1254.92 1532.4 L1254.92 1537.81 Q1256.76 1534.62 1259.56 1533.1 Q1262.4 1531.54 1266.31 1531.54 Q1272.81 1531.54 1276.85 1536.69 Q1280.92 1541.85 1280.92 1550.25 Q1280.92 1558.65 1276.85 1563.81 Q1272.81 1568.97 1266.31 1568.97 Q1262.4 1568.97 1259.56 1567.44 Q1256.76 1565.88 1254.92 1562.7 M1274.84 1550.25 Q1274.84 1543.79 1272.17 1540.13 Q1269.53 1536.44 1264.88 1536.44 Q1260.23 1536.44 1257.56 1540.13 Q1254.92 1543.79 1254.92 1550.25 Q1254.92 1556.71 1257.56 1560.4 Q1260.23 1564.07 1264.88 1564.07 Q1269.53 1564.07 1272.17 1560.4 Q1274.84 1556.71 1274.84 1550.25 Z\" fill=\"#000000\" fill-rule=\"evenodd\" fill-opacity=\"1\" /><path clip-path=\"url(#clip970)\" d=\"M1306.83 1550.12 Q1299.73 1550.12 1297 1551.75 Q1294.26 1553.37 1294.26 1557.29 Q1294.26 1560.4 1296.3 1562.25 Q1298.36 1564.07 1301.9 1564.07 Q1306.77 1564.07 1309.69 1560.63 Q1312.65 1557.16 1312.65 1551.43 L1312.65 1550.12 L1306.83 1550.12 M1318.51 1547.71 L1318.51 1568.04 L1312.65 1568.04 L1312.65 1562.63 Q1310.65 1565.88 1307.66 1567.44 Q1304.67 1568.97 1300.34 1568.97 Q1294.86 1568.97 1291.62 1565.91 Q1288.4 1562.82 1288.4 1557.67 Q1288.4 1551.65 1292.41 1548.6 Q1296.45 1545.54 1304.44 1545.54 L1312.65 1545.54 L1312.65 1544.97 Q1312.65 1540.93 1309.98 1538.73 Q1307.34 1536.5 1302.53 1536.5 Q1299.48 1536.5 1296.58 1537.23 Q1293.69 1537.97 1291.01 1539.43 L1291.01 1534.02 Q1294.23 1532.78 1297.25 1532.17 Q1300.27 1531.54 1303.14 1531.54 Q1310.87 1531.54 1314.69 1535.55 Q1318.51 1539.56 1318.51 1547.71 Z\" fill=\"#000000\" fill-rule=\"evenodd\" fill-opacity=\"1\" /><path clip-path=\"url(#clip970)\" d=\"M1351.23 1537.87 Q1350.24 1537.3 1349.07 1537.04 Q1347.92 1536.76 1346.52 1536.76 Q1341.56 1536.76 1338.88 1540 Q1336.24 1543.22 1336.24 1549.27 L1336.24 1568.04 L1330.35 1568.04 L1330.35 1532.4 L1336.24 1532.4 L1336.24 1537.93 Q1338.09 1534.69 1341.05 1533.13 Q1344.01 1531.54 1348.24 1531.54 Q1348.84 1531.54 1349.58 1531.63 Q1350.31 1531.7 1351.2 1531.85 L1351.23 1537.87 Z\" fill=\"#000000\" fill-rule=\"evenodd\" fill-opacity=\"1\" /><path clip-path=\"url(#clip970)\" d=\"M1373.57 1550.12 Q1366.48 1550.12 1363.74 1551.75 Q1361 1553.37 1361 1557.29 Q1361 1560.4 1363.04 1562.25 Q1365.11 1564.07 1368.64 1564.07 Q1373.51 1564.07 1376.44 1560.63 Q1379.4 1557.16 1379.4 1551.43 L1379.4 1550.12 L1373.57 1550.12 M1385.26 1547.71 L1385.26 1568.04 L1379.4 1568.04 L1379.4 1562.63 Q1377.39 1565.88 1374.4 1567.44 Q1371.41 1568.97 1367.08 1568.97 Q1361.61 1568.97 1358.36 1565.91 Q1355.15 1562.82 1355.15 1557.67 Q1355.15 1551.65 1359.16 1548.6 Q1363.2 1545.54 1371.19 1545.54 L1379.4 1545.54 L1379.4 1544.97 Q1379.4 1540.93 1376.73 1538.73 Q1374.08 1536.5 1369.28 1536.5 Q1366.22 1536.5 1363.33 1537.23 Q1360.43 1537.97 1357.76 1539.43 L1357.76 1534.02 Q1360.97 1532.78 1363.99 1532.17 Q1367.02 1531.54 1369.88 1531.54 Q1377.62 1531.54 1381.44 1535.55 Q1385.26 1539.56 1385.26 1547.71 Z\" fill=\"#000000\" fill-rule=\"evenodd\" fill-opacity=\"1\" /><path clip-path=\"url(#clip970)\" d=\"M1425.07 1539.24 Q1427.27 1535.29 1430.33 1533.41 Q1433.38 1531.54 1437.52 1531.54 Q1443.09 1531.54 1446.11 1535.45 Q1449.14 1539.33 1449.14 1546.53 L1449.14 1568.04 L1443.25 1568.04 L1443.25 1546.72 Q1443.25 1541.59 1441.43 1539.11 Q1439.62 1536.63 1435.9 1536.63 Q1431.34 1536.63 1428.7 1539.65 Q1426.06 1542.68 1426.06 1547.9 L1426.06 1568.04 L1420.17 1568.04 L1420.17 1546.72 Q1420.17 1541.56 1418.36 1539.11 Q1416.54 1536.63 1412.76 1536.63 Q1408.27 1536.63 1405.63 1539.68 Q1402.98 1542.71 1402.98 1547.9 L1402.98 1568.04 L1397.1 1568.04 L1397.1 1532.4 L1402.98 1532.4 L1402.98 1537.93 Q1404.99 1534.66 1407.79 1533.1 Q1410.59 1531.54 1414.44 1531.54 Q1418.33 1531.54 1421.03 1533.51 Q1423.77 1535.48 1425.07 1539.24 Z\" fill=\"#000000\" fill-rule=\"evenodd\" fill-opacity=\"1\" /><path clip-path=\"url(#clip970)\" d=\"M1491.31 1548.76 L1491.31 1551.62 L1464.38 1551.62 Q1464.76 1557.67 1468.01 1560.85 Q1471.29 1564 1477.11 1564 Q1480.49 1564 1483.64 1563.17 Q1486.82 1562.35 1489.94 1560.69 L1489.94 1566.23 Q1486.79 1567.57 1483.48 1568.27 Q1480.17 1568.97 1476.76 1568.97 Q1468.23 1568.97 1463.24 1564 Q1458.27 1559.04 1458.27 1550.57 Q1458.27 1541.82 1462.98 1536.69 Q1467.72 1531.54 1475.74 1531.54 Q1482.94 1531.54 1487.11 1536.18 Q1491.31 1540.8 1491.31 1548.76 M1485.45 1547.04 Q1485.39 1542.23 1482.75 1539.37 Q1480.14 1536.5 1475.81 1536.5 Q1470.91 1536.5 1467.95 1539.27 Q1465.02 1542.04 1464.57 1547.07 L1485.45 1547.04 Z\" fill=\"#000000\" fill-rule=\"evenodd\" fill-opacity=\"1\" /><path clip-path=\"url(#clip970)\" d=\"M1506.71 1522.27 L1506.71 1532.4 L1518.78 1532.4 L1518.78 1536.95 L1506.71 1536.95 L1506.71 1556.3 Q1506.71 1560.66 1507.89 1561.9 Q1509.1 1563.14 1512.76 1563.14 L1518.78 1563.14 L1518.78 1568.04 L1512.76 1568.04 Q1505.98 1568.04 1503.4 1565.53 Q1500.83 1562.98 1500.83 1556.3 L1500.83 1536.95 L1496.53 1536.95 L1496.53 1532.4 L1500.83 1532.4 L1500.83 1522.27 L1506.71 1522.27 Z\" fill=\"#000000\" fill-rule=\"evenodd\" fill-opacity=\"1\" /><path clip-path=\"url(#clip970)\" d=\"M1556.97 1548.76 L1556.97 1551.62 L1530.04 1551.62 Q1530.43 1557.67 1533.67 1560.85 Q1536.95 1564 1542.78 1564 Q1546.15 1564 1549.3 1563.17 Q1552.48 1562.35 1555.6 1560.69 L1555.6 1566.23 Q1552.45 1567.57 1549.14 1568.27 Q1545.83 1568.97 1542.43 1568.97 Q1533.9 1568.97 1528.9 1564 Q1523.93 1559.04 1523.93 1550.57 Q1523.93 1541.82 1528.64 1536.69 Q1533.39 1531.54 1541.41 1531.54 Q1548.6 1531.54 1552.77 1536.18 Q1556.97 1540.8 1556.97 1548.76 M1551.11 1547.04 Q1551.05 1542.23 1548.41 1539.37 Q1545.8 1536.5 1541.47 1536.5 Q1536.57 1536.5 1533.61 1539.27 Q1530.68 1542.04 1530.23 1547.07 L1551.11 1547.04 Z\" fill=\"#000000\" fill-rule=\"evenodd\" fill-opacity=\"1\" /><path clip-path=\"url(#clip970)\" d=\"M1587.24 1537.87 Q1586.25 1537.3 1585.08 1537.04 Q1583.93 1536.76 1582.53 1536.76 Q1577.56 1536.76 1574.89 1540 Q1572.25 1543.22 1572.25 1549.27 L1572.25 1568.04 L1566.36 1568.04 L1566.36 1532.4 L1572.25 1532.4 L1572.25 1537.93 Q1574.09 1534.69 1577.05 1533.13 Q1580.01 1531.54 1584.25 1531.54 Q1584.85 1531.54 1585.58 1531.63 Q1586.32 1531.7 1587.21 1531.85 L1587.24 1537.87 Z\" fill=\"#000000\" fill-rule=\"evenodd\" fill-opacity=\"1\" /><polyline clip-path=\"url(#clip972)\" style=\"stroke:#000000; stroke-linecap:butt; stroke-linejoin:round; stroke-width:2; stroke-opacity:0.1; fill:none\" points=\"\n",
       "  249.542,1404.05 2352.76,1404.05 \n",
       "  \"/>\n",
       "<polyline clip-path=\"url(#clip972)\" style=\"stroke:#000000; stroke-linecap:butt; stroke-linejoin:round; stroke-width:2; stroke-opacity:0.1; fill:none\" points=\"\n",
       "  249.542,1074.65 2352.76,1074.65 \n",
       "  \"/>\n",
       "<polyline clip-path=\"url(#clip972)\" style=\"stroke:#000000; stroke-linecap:butt; stroke-linejoin:round; stroke-width:2; stroke-opacity:0.1; fill:none\" points=\"\n",
       "  249.542,745.249 2352.76,745.249 \n",
       "  \"/>\n",
       "<polyline clip-path=\"url(#clip972)\" style=\"stroke:#000000; stroke-linecap:butt; stroke-linejoin:round; stroke-width:2; stroke-opacity:0.1; fill:none\" points=\"\n",
       "  249.542,415.849 2352.76,415.849 \n",
       "  \"/>\n",
       "<polyline clip-path=\"url(#clip972)\" style=\"stroke:#000000; stroke-linecap:butt; stroke-linejoin:round; stroke-width:2; stroke-opacity:0.1; fill:none\" points=\"\n",
       "  249.542,86.4485 2352.76,86.4485 \n",
       "  \"/>\n",
       "<polyline clip-path=\"url(#clip970)\" style=\"stroke:#000000; stroke-linecap:butt; stroke-linejoin:round; stroke-width:4; stroke-opacity:1; fill:none\" points=\"\n",
       "  249.542,1423.18 249.542,47.2441 \n",
       "  \"/>\n",
       "<polyline clip-path=\"url(#clip970)\" style=\"stroke:#000000; stroke-linecap:butt; stroke-linejoin:round; stroke-width:4; stroke-opacity:1; fill:none\" points=\"\n",
       "  249.542,1404.05 268.44,1404.05 \n",
       "  \"/>\n",
       "<polyline clip-path=\"url(#clip970)\" style=\"stroke:#000000; stroke-linecap:butt; stroke-linejoin:round; stroke-width:4; stroke-opacity:1; fill:none\" points=\"\n",
       "  249.542,1074.65 268.44,1074.65 \n",
       "  \"/>\n",
       "<polyline clip-path=\"url(#clip970)\" style=\"stroke:#000000; stroke-linecap:butt; stroke-linejoin:round; stroke-width:4; stroke-opacity:1; fill:none\" points=\"\n",
       "  249.542,745.249 268.44,745.249 \n",
       "  \"/>\n",
       "<polyline clip-path=\"url(#clip970)\" style=\"stroke:#000000; stroke-linecap:butt; stroke-linejoin:round; stroke-width:4; stroke-opacity:1; fill:none\" points=\"\n",
       "  249.542,415.849 268.44,415.849 \n",
       "  \"/>\n",
       "<polyline clip-path=\"url(#clip970)\" style=\"stroke:#000000; stroke-linecap:butt; stroke-linejoin:round; stroke-width:4; stroke-opacity:1; fill:none\" points=\"\n",
       "  249.542,86.4485 268.44,86.4485 \n",
       "  \"/>\n",
       "<path clip-path=\"url(#clip970)\" d=\"M126.205 1389.85 Q122.593 1389.85 120.765 1393.41 Q118.959 1396.95 118.959 1404.08 Q118.959 1411.19 120.765 1414.76 Q122.593 1418.3 126.205 1418.3 Q129.839 1418.3 131.644 1414.76 Q133.473 1411.19 133.473 1404.08 Q133.473 1396.95 131.644 1393.41 Q129.839 1389.85 126.205 1389.85 M126.205 1386.14 Q132.015 1386.14 135.07 1390.75 Q138.149 1395.33 138.149 1404.08 Q138.149 1412.81 135.07 1417.42 Q132.015 1422 126.205 1422 Q120.394 1422 117.316 1417.42 Q114.26 1412.81 114.26 1404.08 Q114.26 1395.33 117.316 1390.75 Q120.394 1386.14 126.205 1386.14 Z\" fill=\"#000000\" fill-rule=\"evenodd\" fill-opacity=\"1\" /><path clip-path=\"url(#clip970)\" d=\"M146.366 1415.45 L151.251 1415.45 L151.251 1421.33 L146.366 1421.33 L146.366 1415.45 Z\" fill=\"#000000\" fill-rule=\"evenodd\" fill-opacity=\"1\" /><path clip-path=\"url(#clip970)\" d=\"M171.436 1389.85 Q167.825 1389.85 165.996 1393.41 Q164.19 1396.95 164.19 1404.08 Q164.19 1411.19 165.996 1414.76 Q167.825 1418.3 171.436 1418.3 Q175.07 1418.3 176.876 1414.76 Q178.704 1411.19 178.704 1404.08 Q178.704 1396.95 176.876 1393.41 Q175.07 1389.85 171.436 1389.85 M171.436 1386.14 Q177.246 1386.14 180.301 1390.75 Q183.38 1395.33 183.38 1404.08 Q183.38 1412.81 180.301 1417.42 Q177.246 1422 171.436 1422 Q165.626 1422 162.547 1417.42 Q159.491 1412.81 159.491 1404.08 Q159.491 1395.33 162.547 1390.75 Q165.626 1386.14 171.436 1386.14 Z\" fill=\"#000000\" fill-rule=\"evenodd\" fill-opacity=\"1\" /><path clip-path=\"url(#clip970)\" d=\"M201.598 1389.85 Q197.987 1389.85 196.158 1393.41 Q194.352 1396.95 194.352 1404.08 Q194.352 1411.19 196.158 1414.76 Q197.987 1418.3 201.598 1418.3 Q205.232 1418.3 207.037 1414.76 Q208.866 1411.19 208.866 1404.08 Q208.866 1396.95 207.037 1393.41 Q205.232 1389.85 201.598 1389.85 M201.598 1386.14 Q207.408 1386.14 210.463 1390.75 Q213.542 1395.33 213.542 1404.08 Q213.542 1412.81 210.463 1417.42 Q207.408 1422 201.598 1422 Q195.787 1422 192.709 1417.42 Q189.653 1412.81 189.653 1404.08 Q189.653 1395.33 192.709 1390.75 Q195.787 1386.14 201.598 1386.14 Z\" fill=\"#000000\" fill-rule=\"evenodd\" fill-opacity=\"1\" /><path clip-path=\"url(#clip970)\" d=\"M127.2 1060.45 Q123.589 1060.45 121.76 1064.01 Q119.955 1067.55 119.955 1074.68 Q119.955 1081.79 121.76 1085.36 Q123.589 1088.9 127.2 1088.9 Q130.834 1088.9 132.64 1085.36 Q134.468 1081.79 134.468 1074.68 Q134.468 1067.55 132.64 1064.01 Q130.834 1060.45 127.2 1060.45 M127.2 1056.74 Q133.01 1056.74 136.066 1061.35 Q139.144 1065.93 139.144 1074.68 Q139.144 1083.41 136.066 1088.02 Q133.01 1092.6 127.2 1092.6 Q121.39 1092.6 118.311 1088.02 Q115.256 1083.41 115.256 1074.68 Q115.256 1065.93 118.311 1061.35 Q121.39 1056.74 127.2 1056.74 Z\" fill=\"#000000\" fill-rule=\"evenodd\" fill-opacity=\"1\" /><path clip-path=\"url(#clip970)\" d=\"M147.362 1086.05 L152.246 1086.05 L152.246 1091.93 L147.362 1091.93 L147.362 1086.05 Z\" fill=\"#000000\" fill-rule=\"evenodd\" fill-opacity=\"1\" /><path clip-path=\"url(#clip970)\" d=\"M166.459 1087.99 L182.778 1087.99 L182.778 1091.93 L160.834 1091.93 L160.834 1087.99 Q163.496 1085.24 168.079 1080.61 Q172.686 1075.96 173.866 1074.61 Q176.112 1072.09 176.991 1070.36 Q177.894 1068.6 177.894 1066.91 Q177.894 1064.15 175.95 1062.42 Q174.028 1060.68 170.927 1060.68 Q168.727 1060.68 166.274 1061.44 Q163.843 1062.21 161.065 1063.76 L161.065 1059.04 Q163.89 1057.9 166.343 1057.32 Q168.797 1056.74 170.834 1056.74 Q176.204 1056.74 179.399 1059.43 Q182.593 1062.11 182.593 1066.61 Q182.593 1068.73 181.783 1070.66 Q180.996 1072.55 178.889 1075.15 Q178.311 1075.82 175.209 1079.04 Q172.107 1082.23 166.459 1087.99 Z\" fill=\"#000000\" fill-rule=\"evenodd\" fill-opacity=\"1\" /><path clip-path=\"url(#clip970)\" d=\"M192.639 1057.37 L210.996 1057.37 L210.996 1061.3 L196.922 1061.3 L196.922 1069.78 Q197.94 1069.43 198.959 1069.27 Q199.977 1069.08 200.996 1069.08 Q206.783 1069.08 210.162 1072.25 Q213.542 1075.42 213.542 1080.84 Q213.542 1086.42 210.07 1089.52 Q206.598 1092.6 200.278 1092.6 Q198.102 1092.6 195.834 1092.23 Q193.588 1091.86 191.181 1091.12 L191.181 1086.42 Q193.264 1087.55 195.487 1088.11 Q197.709 1088.67 200.186 1088.67 Q204.19 1088.67 206.528 1086.56 Q208.866 1084.45 208.866 1080.84 Q208.866 1077.23 206.528 1075.12 Q204.19 1073.02 200.186 1073.02 Q198.311 1073.02 196.436 1073.43 Q194.584 1073.85 192.639 1074.73 L192.639 1057.37 Z\" fill=\"#000000\" fill-rule=\"evenodd\" fill-opacity=\"1\" /><path clip-path=\"url(#clip970)\" d=\"M126.205 731.048 Q122.593 731.048 120.765 734.612 Q118.959 738.154 118.959 745.284 Q118.959 752.39 120.765 755.955 Q122.593 759.497 126.205 759.497 Q129.839 759.497 131.644 755.955 Q133.473 752.39 133.473 745.284 Q133.473 738.154 131.644 734.612 Q129.839 731.048 126.205 731.048 M126.205 727.344 Q132.015 727.344 135.07 731.95 Q138.149 736.534 138.149 745.284 Q138.149 754.011 135.07 758.617 Q132.015 763.2 126.205 763.2 Q120.394 763.2 117.316 758.617 Q114.26 754.011 114.26 745.284 Q114.26 736.534 117.316 731.95 Q120.394 727.344 126.205 727.344 Z\" fill=\"#000000\" fill-rule=\"evenodd\" fill-opacity=\"1\" /><path clip-path=\"url(#clip970)\" d=\"M146.366 756.649 L151.251 756.649 L151.251 762.529 L146.366 762.529 L146.366 756.649 Z\" fill=\"#000000\" fill-rule=\"evenodd\" fill-opacity=\"1\" /><path clip-path=\"url(#clip970)\" d=\"M161.482 727.969 L179.839 727.969 L179.839 731.904 L165.765 731.904 L165.765 740.376 Q166.783 740.029 167.802 739.867 Q168.82 739.682 169.839 739.682 Q175.626 739.682 179.005 742.853 Q182.385 746.024 182.385 751.441 Q182.385 757.02 178.913 760.122 Q175.44 763.2 169.121 763.2 Q166.945 763.2 164.677 762.83 Q162.431 762.46 160.024 761.719 L160.024 757.02 Q162.107 758.154 164.329 758.71 Q166.552 759.265 169.028 759.265 Q173.033 759.265 175.371 757.159 Q177.709 755.052 177.709 751.441 Q177.709 747.83 175.371 745.724 Q173.033 743.617 169.028 743.617 Q167.153 743.617 165.278 744.034 Q163.427 744.45 161.482 745.33 L161.482 727.969 Z\" fill=\"#000000\" fill-rule=\"evenodd\" fill-opacity=\"1\" /><path clip-path=\"url(#clip970)\" d=\"M201.598 731.048 Q197.987 731.048 196.158 734.612 Q194.352 738.154 194.352 745.284 Q194.352 752.39 196.158 755.955 Q197.987 759.497 201.598 759.497 Q205.232 759.497 207.037 755.955 Q208.866 752.39 208.866 745.284 Q208.866 738.154 207.037 734.612 Q205.232 731.048 201.598 731.048 M201.598 727.344 Q207.408 727.344 210.463 731.95 Q213.542 736.534 213.542 745.284 Q213.542 754.011 210.463 758.617 Q207.408 763.2 201.598 763.2 Q195.787 763.2 192.709 758.617 Q189.653 754.011 189.653 745.284 Q189.653 736.534 192.709 731.95 Q195.787 727.344 201.598 727.344 Z\" fill=\"#000000\" fill-rule=\"evenodd\" fill-opacity=\"1\" /><path clip-path=\"url(#clip970)\" d=\"M127.2 401.647 Q123.589 401.647 121.76 405.212 Q119.955 408.754 119.955 415.883 Q119.955 422.99 121.76 426.555 Q123.589 430.096 127.2 430.096 Q130.834 430.096 132.64 426.555 Q134.468 422.99 134.468 415.883 Q134.468 408.754 132.64 405.212 Q130.834 401.647 127.2 401.647 M127.2 397.944 Q133.01 397.944 136.066 402.55 Q139.144 407.134 139.144 415.883 Q139.144 424.61 136.066 429.217 Q133.01 433.8 127.2 433.8 Q121.39 433.8 118.311 429.217 Q115.256 424.61 115.256 415.883 Q115.256 407.134 118.311 402.55 Q121.39 397.944 127.2 397.944 Z\" fill=\"#000000\" fill-rule=\"evenodd\" fill-opacity=\"1\" /><path clip-path=\"url(#clip970)\" d=\"M147.362 427.249 L152.246 427.249 L152.246 433.129 L147.362 433.129 L147.362 427.249 Z\" fill=\"#000000\" fill-rule=\"evenodd\" fill-opacity=\"1\" /><path clip-path=\"url(#clip970)\" d=\"M161.251 398.569 L183.473 398.569 L183.473 400.559 L170.927 433.129 L166.042 433.129 L177.848 402.504 L161.251 402.504 L161.251 398.569 Z\" fill=\"#000000\" fill-rule=\"evenodd\" fill-opacity=\"1\" /><path clip-path=\"url(#clip970)\" d=\"M192.639 398.569 L210.996 398.569 L210.996 402.504 L196.922 402.504 L196.922 410.976 Q197.94 410.629 198.959 410.467 Q199.977 410.282 200.996 410.282 Q206.783 410.282 210.162 413.453 Q213.542 416.624 213.542 422.041 Q213.542 427.62 210.07 430.721 Q206.598 433.8 200.278 433.8 Q198.102 433.8 195.834 433.43 Q193.588 433.059 191.181 432.319 L191.181 427.62 Q193.264 428.754 195.487 429.309 Q197.709 429.865 200.186 429.865 Q204.19 429.865 206.528 427.758 Q208.866 425.652 208.866 422.041 Q208.866 418.43 206.528 416.323 Q204.19 414.217 200.186 414.217 Q198.311 414.217 196.436 414.633 Q194.584 415.05 192.639 415.93 L192.639 398.569 Z\" fill=\"#000000\" fill-rule=\"evenodd\" fill-opacity=\"1\" /><path clip-path=\"url(#clip970)\" d=\"M117.015 99.7933 L124.654 99.7933 L124.654 73.4277 L116.343 75.0944 L116.343 70.8352 L124.607 69.1685 L129.283 69.1685 L129.283 99.7933 L136.922 99.7933 L136.922 103.729 L117.015 103.729 L117.015 99.7933 Z\" fill=\"#000000\" fill-rule=\"evenodd\" fill-opacity=\"1\" /><path clip-path=\"url(#clip970)\" d=\"M146.366 97.8489 L151.251 97.8489 L151.251 103.729 L146.366 103.729 L146.366 97.8489 Z\" fill=\"#000000\" fill-rule=\"evenodd\" fill-opacity=\"1\" /><path clip-path=\"url(#clip970)\" d=\"M171.436 72.2472 Q167.825 72.2472 165.996 75.812 Q164.19 79.3536 164.19 86.4832 Q164.19 93.5897 165.996 97.1545 Q167.825 100.696 171.436 100.696 Q175.07 100.696 176.876 97.1545 Q178.704 93.5897 178.704 86.4832 Q178.704 79.3536 176.876 75.812 Q175.07 72.2472 171.436 72.2472 M171.436 68.5435 Q177.246 68.5435 180.301 73.15 Q183.38 77.7333 183.38 86.4832 Q183.38 95.21 180.301 99.8165 Q177.246 104.4 171.436 104.4 Q165.626 104.4 162.547 99.8165 Q159.491 95.21 159.491 86.4832 Q159.491 77.7333 162.547 73.15 Q165.626 68.5435 171.436 68.5435 Z\" fill=\"#000000\" fill-rule=\"evenodd\" fill-opacity=\"1\" /><path clip-path=\"url(#clip970)\" d=\"M201.598 72.2472 Q197.987 72.2472 196.158 75.812 Q194.352 79.3536 194.352 86.4832 Q194.352 93.5897 196.158 97.1545 Q197.987 100.696 201.598 100.696 Q205.232 100.696 207.037 97.1545 Q208.866 93.5897 208.866 86.4832 Q208.866 79.3536 207.037 75.812 Q205.232 72.2472 201.598 72.2472 M201.598 68.5435 Q207.408 68.5435 210.463 73.15 Q213.542 77.7333 213.542 86.4832 Q213.542 95.21 210.463 99.8165 Q207.408 104.4 201.598 104.4 Q195.787 104.4 192.709 99.8165 Q189.653 95.21 189.653 86.4832 Q189.653 77.7333 192.709 73.15 Q195.787 68.5435 201.598 68.5435 Z\" fill=\"#000000\" fill-rule=\"evenodd\" fill-opacity=\"1\" /><path clip-path=\"url(#clip970)\" d=\"M16.4842 1237.77 L16.4842 1229.11 L56.238 1208.04 L16.4842 1208.04 L16.4842 1201.8 L64.0042 1201.8 L64.0042 1210.46 L24.2503 1231.53 L64.0042 1231.53 L64.0042 1237.77 L16.4842 1237.77 Z\" fill=\"#000000\" fill-rule=\"evenodd\" fill-opacity=\"1\" /><path clip-path=\"url(#clip970)\" d=\"M32.4621 1175.45 Q32.4621 1180.16 36.1542 1182.9 Q39.8145 1185.63 46.212 1185.63 Q52.6095 1185.63 56.3017 1182.93 Q59.9619 1180.19 59.9619 1175.45 Q59.9619 1170.77 56.2698 1168.03 Q52.5777 1165.3 46.212 1165.3 Q39.8781 1165.3 36.186 1168.03 Q32.4621 1170.77 32.4621 1175.45 M27.4968 1175.45 Q27.4968 1167.81 32.4621 1163.45 Q37.4273 1159.09 46.212 1159.09 Q54.9649 1159.09 59.9619 1163.45 Q64.9272 1167.81 64.9272 1175.45 Q64.9272 1183.12 59.9619 1187.48 Q54.9649 1191.81 46.212 1191.81 Q37.4273 1191.81 32.4621 1187.48 Q27.4968 1183.12 27.4968 1175.45 Z\" fill=\"#000000\" fill-rule=\"evenodd\" fill-opacity=\"1\" /><path clip-path=\"url(#clip970)\" d=\"M33.8307 1128.72 Q33.2578 1129.71 33.0032 1130.89 Q32.7167 1132.03 32.7167 1133.43 Q32.7167 1138.4 35.9632 1141.07 Q39.1779 1143.72 45.2253 1143.72 L64.0042 1143.72 L64.0042 1149.6 L28.3562 1149.6 L28.3562 1143.72 L33.8944 1143.72 Q30.6479 1141.87 29.0883 1138.91 Q27.4968 1135.95 27.4968 1131.72 Q27.4968 1131.11 27.5923 1130.38 Q27.656 1129.65 27.8151 1128.76 L33.8307 1128.72 Z\" fill=\"#000000\" fill-rule=\"evenodd\" fill-opacity=\"1\" /><path clip-path=\"url(#clip970)\" d=\"M35.1993 1095.97 Q31.2526 1093.78 29.3747 1090.72 Q27.4968 1087.67 27.4968 1083.53 Q27.4968 1077.96 31.4117 1074.93 Q35.2948 1071.91 42.4881 1071.91 L64.0042 1071.91 L64.0042 1077.8 L42.679 1077.8 Q37.5546 1077.8 35.072 1079.61 Q32.5894 1081.43 32.5894 1085.15 Q32.5894 1089.7 35.6131 1092.34 Q38.6368 1094.99 43.8567 1094.99 L64.0042 1094.99 L64.0042 1100.87 L42.679 1100.87 Q37.5228 1100.87 35.072 1102.69 Q32.5894 1104.5 32.5894 1108.29 Q32.5894 1112.78 35.6449 1115.42 Q38.6686 1118.06 43.8567 1118.06 L64.0042 1118.06 L64.0042 1123.95 L28.3562 1123.95 L28.3562 1118.06 L33.8944 1118.06 Q30.616 1116.06 29.0564 1113.26 Q27.4968 1110.45 27.4968 1106.6 Q27.4968 1102.72 29.4702 1100.01 Q31.4436 1097.28 35.1993 1095.97 Z\" fill=\"#000000\" fill-rule=\"evenodd\" fill-opacity=\"1\" /><path clip-path=\"url(#clip970)\" d=\"M46.0847 1044.03 Q46.0847 1051.13 47.7079 1053.86 Q49.3312 1056.6 53.2461 1056.6 Q56.3653 1056.6 58.2114 1054.56 Q60.0256 1052.49 60.0256 1048.96 Q60.0256 1044.09 56.5881 1041.16 Q53.1188 1038.2 47.3897 1038.2 L46.0847 1038.2 L46.0847 1044.03 M43.6657 1032.35 L64.0042 1032.35 L64.0042 1038.2 L58.5933 1038.2 Q61.8398 1040.21 63.3994 1043.2 Q64.9272 1046.19 64.9272 1050.52 Q64.9272 1056 61.8716 1059.24 Q58.7843 1062.46 53.6281 1062.46 Q47.6125 1062.46 44.5569 1058.45 Q41.5014 1054.4 41.5014 1046.42 L41.5014 1038.2 L40.9285 1038.2 Q36.8862 1038.2 34.6901 1040.88 Q32.4621 1043.52 32.4621 1048.33 Q32.4621 1051.38 33.1941 1054.28 Q33.9262 1057.17 35.3903 1059.85 L29.9795 1059.85 Q28.7381 1056.63 28.1334 1053.61 Q27.4968 1050.58 27.4968 1047.72 Q27.4968 1039.99 31.5072 1036.17 Q35.5176 1032.35 43.6657 1032.35 Z\" fill=\"#000000\" fill-rule=\"evenodd\" fill-opacity=\"1\" /><path clip-path=\"url(#clip970)\" d=\"M14.479 1020.28 L14.479 1014.43 L64.0042 1014.43 L64.0042 1020.28 L14.479 1020.28 Z\" fill=\"#000000\" fill-rule=\"evenodd\" fill-opacity=\"1\" /><path clip-path=\"url(#clip970)\" d=\"M28.3562 1002.17 L28.3562 996.317 L64.0042 996.317 L64.0042 1002.17 L28.3562 1002.17 M14.479 1002.17 L14.479 996.317 L21.895 996.317 L21.895 1002.17 L14.479 1002.17 Z\" fill=\"#000000\" fill-rule=\"evenodd\" fill-opacity=\"1\" /><path clip-path=\"url(#clip970)\" d=\"M28.3562 986.61 L28.3562 958.791 L33.7034 958.791 L59.3254 980.817 L59.3254 958.791 L64.0042 958.791 L64.0042 987.405 L58.657 987.405 L33.035 965.38 L33.035 986.61 L28.3562 986.61 Z\" fill=\"#000000\" fill-rule=\"evenodd\" fill-opacity=\"1\" /><path clip-path=\"url(#clip970)\" d=\"M44.7161 919.356 L47.5806 919.356 L47.5806 946.283 Q53.6281 945.901 56.8109 942.654 Q59.9619 939.376 59.9619 933.551 Q59.9619 930.178 59.1344 927.027 Q58.3069 923.844 56.6518 920.725 L62.1899 920.725 Q63.5267 923.876 64.227 927.186 Q64.9272 930.496 64.9272 933.902 Q64.9272 942.432 59.9619 947.429 Q54.9967 952.394 46.5303 952.394 Q37.7774 952.394 32.6531 947.683 Q27.4968 942.941 27.4968 934.92 Q27.4968 927.727 32.1438 923.557 Q36.7589 919.356 44.7161 919.356 M42.9973 925.212 Q38.1912 925.276 35.3266 927.918 Q32.4621 930.528 32.4621 934.856 Q32.4621 939.758 35.2312 942.718 Q38.0002 945.646 43.0292 946.092 L42.9973 925.212 Z\" fill=\"#000000\" fill-rule=\"evenodd\" fill-opacity=\"1\" /><path clip-path=\"url(#clip970)\" d=\"M33.7671 886.286 L14.479 886.286 L14.479 880.43 L64.0042 880.43 L64.0042 886.286 L58.657 886.286 Q61.8398 888.132 63.3994 890.965 Q64.9272 893.766 64.9272 897.713 Q64.9272 904.174 59.771 908.248 Q54.6147 912.29 46.212 912.29 Q37.8093 912.29 32.6531 908.248 Q27.4968 904.174 27.4968 897.713 Q27.4968 893.766 29.0564 890.965 Q30.5842 888.132 33.7671 886.286 M46.212 906.243 Q52.6732 906.243 56.3653 903.601 Q60.0256 900.927 60.0256 896.28 Q60.0256 891.633 56.3653 888.96 Q52.6732 886.286 46.212 886.286 Q39.7508 886.286 36.0905 888.96 Q32.3984 891.633 32.3984 896.28 Q32.3984 900.927 36.0905 903.601 Q39.7508 906.243 46.212 906.243 Z\" fill=\"#000000\" fill-rule=\"evenodd\" fill-opacity=\"1\" /><path clip-path=\"url(#clip970)\" d=\"M35.1993 819.892 Q31.2526 817.696 29.3747 814.64 Q27.4968 811.585 27.4968 807.447 Q27.4968 801.877 31.4117 798.853 Q35.2948 795.829 42.4881 795.829 L64.0042 795.829 L64.0042 801.718 L42.679 801.718 Q37.5546 801.718 35.072 803.532 Q32.5894 805.346 32.5894 809.07 Q32.5894 813.622 35.6131 816.263 Q38.6368 818.905 43.8567 818.905 L64.0042 818.905 L64.0042 824.793 L42.679 824.793 Q37.5228 824.793 35.072 826.608 Q32.5894 828.422 32.5894 832.209 Q32.5894 836.697 35.6449 839.339 Q38.6686 841.981 43.8567 841.981 L64.0042 841.981 L64.0042 847.869 L28.3562 847.869 L28.3562 841.981 L33.8944 841.981 Q30.616 839.976 29.0564 837.175 Q27.4968 834.374 27.4968 830.523 Q27.4968 826.639 29.4702 823.934 Q31.4436 821.197 35.1993 819.892 Z\" fill=\"#000000\" fill-rule=\"evenodd\" fill-opacity=\"1\" /><path clip-path=\"url(#clip970)\" d=\"M49.9359 784.753 L28.3562 784.753 L28.3562 778.897 L49.7131 778.897 Q54.7739 778.897 57.3202 776.923 Q59.8346 774.95 59.8346 771.003 Q59.8346 766.261 56.8109 763.523 Q53.7872 760.754 48.5673 760.754 L28.3562 760.754 L28.3562 754.898 L64.0042 754.898 L64.0042 760.754 L58.5296 760.754 Q61.7762 762.887 63.3676 765.72 Q64.9272 768.521 64.9272 772.244 Q64.9272 778.387 61.1078 781.57 Q57.2883 784.753 49.9359 784.753 M27.4968 770.016 L27.4968 770.016 Z\" fill=\"#000000\" fill-rule=\"evenodd\" fill-opacity=\"1\" /><path clip-path=\"url(#clip970)\" d=\"M18.2347 737.042 L28.3562 737.042 L28.3562 724.979 L32.9077 724.979 L32.9077 737.042 L52.2594 737.042 Q56.6199 737.042 57.8613 735.864 Q59.1026 734.655 59.1026 730.995 L59.1026 724.979 L64.0042 724.979 L64.0042 730.995 Q64.0042 737.774 61.4897 740.352 Q58.9434 742.93 52.2594 742.93 L32.9077 742.93 L32.9077 747.227 L28.3562 747.227 L28.3562 742.93 L18.2347 742.93 L18.2347 737.042 Z\" fill=\"#000000\" fill-rule=\"evenodd\" fill-opacity=\"1\" /><path clip-path=\"url(#clip970)\" d=\"M49.9359 717.881 L28.3562 717.881 L28.3562 712.025 L49.7131 712.025 Q54.7739 712.025 57.3202 710.052 Q59.8346 708.078 59.8346 704.131 Q59.8346 699.389 56.8109 696.652 Q53.7872 693.883 48.5673 693.883 L28.3562 693.883 L28.3562 688.026 L64.0042 688.026 L64.0042 693.883 L58.5296 693.883 Q61.7762 696.015 63.3676 698.848 Q64.9272 701.649 64.9272 705.373 Q64.9272 711.516 61.1078 714.698 Q57.2883 717.881 49.9359 717.881 M27.4968 703.145 L27.4968 703.145 Z\" fill=\"#000000\" fill-rule=\"evenodd\" fill-opacity=\"1\" /><path clip-path=\"url(#clip970)\" d=\"M46.0847 659.762 Q46.0847 666.86 47.7079 669.597 Q49.3312 672.335 53.2461 672.335 Q56.3653 672.335 58.2114 670.298 Q60.0256 668.229 60.0256 664.696 Q60.0256 659.826 56.5881 656.898 Q53.1188 653.938 47.3897 653.938 L46.0847 653.938 L46.0847 659.762 M43.6657 648.081 L64.0042 648.081 L64.0042 653.938 L58.5933 653.938 Q61.8398 655.943 63.3994 658.935 Q64.9272 661.927 64.9272 666.255 Q64.9272 671.73 61.8716 674.976 Q58.7843 678.191 53.6281 678.191 Q47.6125 678.191 44.5569 674.181 Q41.5014 670.139 41.5014 662.15 L41.5014 653.938 L40.9285 653.938 Q36.8862 653.938 34.6901 656.611 Q32.4621 659.253 32.4621 664.059 Q32.4621 667.115 33.1941 670.011 Q33.9262 672.908 35.3903 675.581 L29.9795 675.581 Q28.7381 672.367 28.1334 669.343 Q27.4968 666.319 27.4968 663.455 Q27.4968 655.72 31.5072 651.901 Q35.5176 648.081 43.6657 648.081 Z\" fill=\"#000000\" fill-rule=\"evenodd\" fill-opacity=\"1\" /><path clip-path=\"url(#clip970)\" d=\"M14.479 636.018 L14.479 630.162 L64.0042 630.162 L64.0042 636.018 L14.479 636.018 Z\" fill=\"#000000\" fill-rule=\"evenodd\" fill-opacity=\"1\" /><path clip-path=\"url(#clip970)\" d=\"M28.3562 597.188 L28.3562 591.331 L64.0042 591.331 L64.0042 597.188 L28.3562 597.188 M14.479 597.188 L14.479 591.331 L21.895 591.331 L21.895 597.188 L14.479 597.188 Z\" fill=\"#000000\" fill-rule=\"evenodd\" fill-opacity=\"1\" /><path clip-path=\"url(#clip970)\" d=\"M42.4881 549.445 L64.0042 549.445 L64.0042 555.301 L42.679 555.301 Q37.6183 555.301 35.1038 557.275 Q32.5894 559.248 32.5894 563.195 Q32.5894 567.937 35.6131 570.674 Q38.6368 573.412 43.8567 573.412 L64.0042 573.412 L64.0042 579.3 L28.3562 579.3 L28.3562 573.412 L33.8944 573.412 Q30.6797 571.311 29.0883 568.478 Q27.4968 565.614 27.4968 561.89 Q27.4968 555.747 31.3163 552.596 Q35.1038 549.445 42.4881 549.445 Z\" fill=\"#000000\" fill-rule=\"evenodd\" fill-opacity=\"1\" /><path clip-path=\"url(#clip970)\" d=\"M14.479 519.717 L19.3487 519.717 L19.3487 525.319 Q19.3487 528.47 20.6219 529.711 Q21.895 530.921 25.2052 530.921 L28.3562 530.921 L28.3562 521.276 L32.9077 521.276 L32.9077 530.921 L64.0042 530.921 L64.0042 536.809 L32.9077 536.809 L32.9077 542.411 L28.3562 542.411 L28.3562 536.809 L25.8736 536.809 Q19.9216 536.809 17.2162 534.04 Q14.479 531.271 14.479 525.255 L14.479 519.717 Z\" fill=\"#000000\" fill-rule=\"evenodd\" fill-opacity=\"1\" /><path clip-path=\"url(#clip970)\" d=\"M32.4621 501.002 Q32.4621 505.712 36.1542 508.45 Q39.8145 511.187 46.212 511.187 Q52.6095 511.187 56.3017 508.481 Q59.9619 505.744 59.9619 501.002 Q59.9619 496.323 56.2698 493.586 Q52.5777 490.848 46.212 490.848 Q39.8781 490.848 36.186 493.586 Q32.4621 496.323 32.4621 501.002 M27.4968 501.002 Q27.4968 493.363 32.4621 489.002 Q37.4273 484.642 46.212 484.642 Q54.9649 484.642 59.9619 489.002 Q64.9272 493.363 64.9272 501.002 Q64.9272 508.672 59.9619 513.033 Q54.9649 517.362 46.212 517.362 Q37.4273 517.362 32.4621 513.033 Q27.4968 508.672 27.4968 501.002 Z\" fill=\"#000000\" fill-rule=\"evenodd\" fill-opacity=\"1\" /><path clip-path=\"url(#clip970)\" d=\"M33.8307 454.277 Q33.2578 455.264 33.0032 456.442 Q32.7167 457.588 32.7167 458.988 Q32.7167 463.953 35.9632 466.627 Q39.1779 469.269 45.2253 469.269 L64.0042 469.269 L64.0042 475.157 L28.3562 475.157 L28.3562 469.269 L33.8944 469.269 Q30.6479 467.423 29.0883 464.463 Q27.4968 461.502 27.4968 457.269 Q27.4968 456.665 27.5923 455.933 Q27.656 455.2 27.8151 454.309 L33.8307 454.277 Z\" fill=\"#000000\" fill-rule=\"evenodd\" fill-opacity=\"1\" /><path clip-path=\"url(#clip970)\" d=\"M35.1993 421.526 Q31.2526 419.33 29.3747 416.274 Q27.4968 413.219 27.4968 409.081 Q27.4968 403.511 31.4117 400.487 Q35.2948 397.463 42.4881 397.463 L64.0042 397.463 L64.0042 403.352 L42.679 403.352 Q37.5546 403.352 35.072 405.166 Q32.5894 406.98 32.5894 410.704 Q32.5894 415.256 35.6131 417.897 Q38.6368 420.539 43.8567 420.539 L64.0042 420.539 L64.0042 426.427 L42.679 426.427 Q37.5228 426.427 35.072 428.242 Q32.5894 430.056 32.5894 433.844 Q32.5894 438.331 35.6449 440.973 Q38.6686 443.615 43.8567 443.615 L64.0042 443.615 L64.0042 449.503 L28.3562 449.503 L28.3562 443.615 L33.8944 443.615 Q30.616 441.61 29.0564 438.809 Q27.4968 436.008 27.4968 432.157 Q27.4968 428.274 29.4702 425.568 Q31.4436 422.831 35.1993 421.526 Z\" fill=\"#000000\" fill-rule=\"evenodd\" fill-opacity=\"1\" /><path clip-path=\"url(#clip970)\" d=\"M46.0847 369.582 Q46.0847 376.679 47.7079 379.417 Q49.3312 382.154 53.2461 382.154 Q56.3653 382.154 58.2114 380.117 Q60.0256 378.048 60.0256 374.515 Q60.0256 369.645 56.5881 366.717 Q53.1188 363.757 47.3897 363.757 L46.0847 363.757 L46.0847 369.582 M43.6657 357.901 L64.0042 357.901 L64.0042 363.757 L58.5933 363.757 Q61.8398 365.762 63.3994 368.754 Q64.9272 371.746 64.9272 376.075 Q64.9272 381.549 61.8716 384.796 Q58.7843 388.01 53.6281 388.01 Q47.6125 388.01 44.5569 384 Q41.5014 379.958 41.5014 371.969 L41.5014 363.757 L40.9285 363.757 Q36.8862 363.757 34.6901 366.431 Q32.4621 369.072 32.4621 373.879 Q32.4621 376.934 33.1941 379.83 Q33.9262 382.727 35.3903 385.4 L29.9795 385.4 Q28.7381 382.186 28.1334 379.162 Q27.4968 376.138 27.4968 373.274 Q27.4968 365.539 31.5072 361.72 Q35.5176 357.901 43.6657 357.901 Z\" fill=\"#000000\" fill-rule=\"evenodd\" fill-opacity=\"1\" /><path clip-path=\"url(#clip970)\" d=\"M18.2347 340.045 L28.3562 340.045 L28.3562 327.982 L32.9077 327.982 L32.9077 340.045 L52.2594 340.045 Q56.6199 340.045 57.8613 338.867 Q59.1026 337.658 59.1026 333.997 L59.1026 327.982 L64.0042 327.982 L64.0042 333.997 Q64.0042 340.777 61.4897 343.355 Q58.9434 345.933 52.2594 345.933 L32.9077 345.933 L32.9077 350.23 L28.3562 350.23 L28.3562 345.933 L18.2347 345.933 L18.2347 340.045 Z\" fill=\"#000000\" fill-rule=\"evenodd\" fill-opacity=\"1\" /><path clip-path=\"url(#clip970)\" d=\"M28.3562 320.279 L28.3562 314.423 L64.0042 314.423 L64.0042 320.279 L28.3562 320.279 M14.479 320.279 L14.479 314.423 L21.895 314.423 L21.895 320.279 L14.479 320.279 Z\" fill=\"#000000\" fill-rule=\"evenodd\" fill-opacity=\"1\" /><path clip-path=\"url(#clip970)\" d=\"M32.4621 288.355 Q32.4621 293.066 36.1542 295.803 Q39.8145 298.54 46.212 298.54 Q52.6095 298.54 56.3017 295.835 Q59.9619 293.098 59.9619 288.355 Q59.9619 283.676 56.2698 280.939 Q52.5777 278.202 46.212 278.202 Q39.8781 278.202 36.186 280.939 Q32.4621 283.676 32.4621 288.355 M27.4968 288.355 Q27.4968 280.716 32.4621 276.356 Q37.4273 271.995 46.212 271.995 Q54.9649 271.995 59.9619 276.356 Q64.9272 280.716 64.9272 288.355 Q64.9272 296.026 59.9619 300.386 Q54.9649 304.715 46.212 304.715 Q37.4273 304.715 32.4621 300.386 Q27.4968 296.026 27.4968 288.355 Z\" fill=\"#000000\" fill-rule=\"evenodd\" fill-opacity=\"1\" /><path clip-path=\"url(#clip970)\" d=\"M42.4881 232.655 L64.0042 232.655 L64.0042 238.512 L42.679 238.512 Q37.6183 238.512 35.1038 240.485 Q32.5894 242.459 32.5894 246.405 Q32.5894 251.148 35.6131 253.885 Q38.6368 256.622 43.8567 256.622 L64.0042 256.622 L64.0042 262.511 L28.3562 262.511 L28.3562 256.622 L33.8944 256.622 Q30.6797 254.522 29.0883 251.689 Q27.4968 248.824 27.4968 245.1 Q27.4968 238.957 31.3163 235.806 Q35.1038 232.655 42.4881 232.655 Z\" fill=\"#000000\" fill-rule=\"evenodd\" fill-opacity=\"1\" /><polyline clip-path=\"url(#clip972)\" style=\"stroke:#009af9; stroke-linecap:butt; stroke-linejoin:round; stroke-width:4; stroke-opacity:1; fill:none\" points=\"\n",
       "  309.067,86.8075 529.53,90.0339 749.992,99.0333 970.455,192.025 1190.92,710.544 1411.38,1146.86 1631.84,1352.99 1852.31,1372.27 2072.77,1378.49 2293.23,1378.65 \n",
       "  \n",
       "  \"/>\n",
       "<polyline clip-path=\"url(#clip972)\" style=\"stroke:#009af9; stroke-linecap:butt; stroke-linejoin:round; stroke-width:4; stroke-opacity:1; fill:none\" points=\"\n",
       "  309.067,87.4294 309.067,86.1857 \n",
       "  \"/>\n",
       "<polyline clip-path=\"url(#clip972)\" style=\"stroke:#009af9; stroke-linecap:butt; stroke-linejoin:round; stroke-width:4; stroke-opacity:1; fill:none\" points=\"\n",
       "  529.53,92.2727 529.53,87.7952 \n",
       "  \"/>\n",
       "<polyline clip-path=\"url(#clip972)\" style=\"stroke:#009af9; stroke-linecap:butt; stroke-linejoin:round; stroke-width:4; stroke-opacity:1; fill:none\" points=\"\n",
       "  749.992,101.779 749.992,96.2876 \n",
       "  \"/>\n",
       "<polyline clip-path=\"url(#clip972)\" style=\"stroke:#009af9; stroke-linecap:butt; stroke-linejoin:round; stroke-width:4; stroke-opacity:1; fill:none\" points=\"\n",
       "  970.455,207.004 970.455,177.046 \n",
       "  \"/>\n",
       "<polyline clip-path=\"url(#clip972)\" style=\"stroke:#009af9; stroke-linecap:butt; stroke-linejoin:round; stroke-width:4; stroke-opacity:1; fill:none\" points=\"\n",
       "  1190.92,735.48 1190.92,685.609 \n",
       "  \"/>\n",
       "<polyline clip-path=\"url(#clip972)\" style=\"stroke:#009af9; stroke-linecap:butt; stroke-linejoin:round; stroke-width:4; stroke-opacity:1; fill:none\" points=\"\n",
       "  1411.38,1163.92 1411.38,1129.8 \n",
       "  \"/>\n",
       "<polyline clip-path=\"url(#clip972)\" style=\"stroke:#009af9; stroke-linecap:butt; stroke-linejoin:round; stroke-width:4; stroke-opacity:1; fill:none\" points=\"\n",
       "  1631.84,1362.13 1631.84,1343.85 \n",
       "  \"/>\n",
       "<polyline clip-path=\"url(#clip972)\" style=\"stroke:#009af9; stroke-linecap:butt; stroke-linejoin:round; stroke-width:4; stroke-opacity:1; fill:none\" points=\"\n",
       "  1852.31,1380.1 1852.31,1364.44 \n",
       "  \"/>\n",
       "<polyline clip-path=\"url(#clip972)\" style=\"stroke:#009af9; stroke-linecap:butt; stroke-linejoin:round; stroke-width:4; stroke-opacity:1; fill:none\" points=\"\n",
       "  2072.77,1384.24 2072.77,1372.74 \n",
       "  \"/>\n",
       "<polyline clip-path=\"url(#clip972)\" style=\"stroke:#009af9; stroke-linecap:butt; stroke-linejoin:round; stroke-width:4; stroke-opacity:1; fill:none\" points=\"\n",
       "  2293.23,1381.87 2293.23,1375.43 \n",
       "  \"/>\n",
       "<line clip-path=\"url(#clip972)\" x1=\"325.067\" y1=\"87.4294\" x2=\"293.067\" y2=\"87.4294\" style=\"stroke:#009af9; stroke-width:3.2; stroke-opacity:1\"/>\n",
       "<line clip-path=\"url(#clip972)\" x1=\"325.067\" y1=\"86.1857\" x2=\"293.067\" y2=\"86.1857\" style=\"stroke:#009af9; stroke-width:3.2; stroke-opacity:1\"/>\n",
       "<line clip-path=\"url(#clip972)\" x1=\"545.53\" y1=\"92.2727\" x2=\"513.53\" y2=\"92.2727\" style=\"stroke:#009af9; stroke-width:3.2; stroke-opacity:1\"/>\n",
       "<line clip-path=\"url(#clip972)\" x1=\"545.53\" y1=\"87.7952\" x2=\"513.53\" y2=\"87.7952\" style=\"stroke:#009af9; stroke-width:3.2; stroke-opacity:1\"/>\n",
       "<line clip-path=\"url(#clip972)\" x1=\"765.992\" y1=\"101.779\" x2=\"733.992\" y2=\"101.779\" style=\"stroke:#009af9; stroke-width:3.2; stroke-opacity:1\"/>\n",
       "<line clip-path=\"url(#clip972)\" x1=\"765.992\" y1=\"96.2876\" x2=\"733.992\" y2=\"96.2876\" style=\"stroke:#009af9; stroke-width:3.2; stroke-opacity:1\"/>\n",
       "<line clip-path=\"url(#clip972)\" x1=\"986.455\" y1=\"207.004\" x2=\"954.455\" y2=\"207.004\" style=\"stroke:#009af9; stroke-width:3.2; stroke-opacity:1\"/>\n",
       "<line clip-path=\"url(#clip972)\" x1=\"986.455\" y1=\"177.046\" x2=\"954.455\" y2=\"177.046\" style=\"stroke:#009af9; stroke-width:3.2; stroke-opacity:1\"/>\n",
       "<line clip-path=\"url(#clip972)\" x1=\"1206.92\" y1=\"735.48\" x2=\"1174.92\" y2=\"735.48\" style=\"stroke:#009af9; stroke-width:3.2; stroke-opacity:1\"/>\n",
       "<line clip-path=\"url(#clip972)\" x1=\"1206.92\" y1=\"685.609\" x2=\"1174.92\" y2=\"685.609\" style=\"stroke:#009af9; stroke-width:3.2; stroke-opacity:1\"/>\n",
       "<line clip-path=\"url(#clip972)\" x1=\"1427.38\" y1=\"1163.92\" x2=\"1395.38\" y2=\"1163.92\" style=\"stroke:#009af9; stroke-width:3.2; stroke-opacity:1\"/>\n",
       "<line clip-path=\"url(#clip972)\" x1=\"1427.38\" y1=\"1129.8\" x2=\"1395.38\" y2=\"1129.8\" style=\"stroke:#009af9; stroke-width:3.2; stroke-opacity:1\"/>\n",
       "<line clip-path=\"url(#clip972)\" x1=\"1647.84\" y1=\"1362.13\" x2=\"1615.84\" y2=\"1362.13\" style=\"stroke:#009af9; stroke-width:3.2; stroke-opacity:1\"/>\n",
       "<line clip-path=\"url(#clip972)\" x1=\"1647.84\" y1=\"1343.85\" x2=\"1615.84\" y2=\"1343.85\" style=\"stroke:#009af9; stroke-width:3.2; stroke-opacity:1\"/>\n",
       "<line clip-path=\"url(#clip972)\" x1=\"1868.31\" y1=\"1380.1\" x2=\"1836.31\" y2=\"1380.1\" style=\"stroke:#009af9; stroke-width:3.2; stroke-opacity:1\"/>\n",
       "<line clip-path=\"url(#clip972)\" x1=\"1868.31\" y1=\"1364.44\" x2=\"1836.31\" y2=\"1364.44\" style=\"stroke:#009af9; stroke-width:3.2; stroke-opacity:1\"/>\n",
       "<line clip-path=\"url(#clip972)\" x1=\"2088.77\" y1=\"1384.24\" x2=\"2056.77\" y2=\"1384.24\" style=\"stroke:#009af9; stroke-width:3.2; stroke-opacity:1\"/>\n",
       "<line clip-path=\"url(#clip972)\" x1=\"2088.77\" y1=\"1372.74\" x2=\"2056.77\" y2=\"1372.74\" style=\"stroke:#009af9; stroke-width:3.2; stroke-opacity:1\"/>\n",
       "<line clip-path=\"url(#clip972)\" x1=\"2309.23\" y1=\"1381.87\" x2=\"2277.23\" y2=\"1381.87\" style=\"stroke:#009af9; stroke-width:3.2; stroke-opacity:1\"/>\n",
       "<line clip-path=\"url(#clip972)\" x1=\"2309.23\" y1=\"1375.43\" x2=\"2277.23\" y2=\"1375.43\" style=\"stroke:#009af9; stroke-width:3.2; stroke-opacity:1\"/>\n",
       "<polyline clip-path=\"url(#clip972)\" style=\"stroke:#e26f46; stroke-linecap:butt; stroke-linejoin:round; stroke-width:4; stroke-opacity:1; fill:none\" points=\"\n",
       "  309.067,86.4485 529.53,86.4485 749.992,88.6089 970.455,210.951 1190.92,578.319 1411.38,1121.47 1631.84,1308.64 1852.31,1351.38 2072.77,1362.57 2293.23,1371.32 \n",
       "  \n",
       "  \"/>\n",
       "<path clip-path=\"url(#clip970)\" d=\"\n",
       "M1842.68 248.629 L2282.65 248.629 L2282.65 93.1086 L1842.68 93.1086  Z\n",
       "  \" fill=\"#ffffff\" fill-rule=\"evenodd\" fill-opacity=\"1\"/>\n",
       "<polyline clip-path=\"url(#clip970)\" style=\"stroke:#000000; stroke-linecap:butt; stroke-linejoin:round; stroke-width:4; stroke-opacity:1; fill:none\" points=\"\n",
       "  1842.68,248.629 2282.65,248.629 2282.65,93.1086 1842.68,93.1086 1842.68,248.629 \n",
       "  \"/>\n",
       "<polyline clip-path=\"url(#clip970)\" style=\"stroke:#009af9; stroke-linecap:butt; stroke-linejoin:round; stroke-width:4; stroke-opacity:1; fill:none\" points=\"\n",
       "  1866.04,144.949 2006.26,144.949 \n",
       "  \"/>\n",
       "<path clip-path=\"url(#clip970)\" d=\"M2029.63 127.669 L2051.48 127.669 L2051.48 131.604 L2034.3 131.604 L2034.3 141.835 L2050.76 141.835 L2050.76 145.77 L2034.3 145.77 L2034.3 158.293 L2051.9 158.293 L2051.9 162.229 L2029.63 162.229 L2029.63 127.669 Z\" fill=\"#000000\" fill-rule=\"evenodd\" fill-opacity=\"1\" /><path clip-path=\"url(#clip970)\" d=\"M2059.4 126.21 L2063.66 126.21 L2063.66 162.229 L2059.4 162.229 L2059.4 126.21 Z\" fill=\"#000000\" fill-rule=\"evenodd\" fill-opacity=\"1\" /><path clip-path=\"url(#clip970)\" d=\"M2072.57 126.21 L2076.83 126.21 L2076.83 162.229 L2072.57 162.229 L2072.57 126.21 Z\" fill=\"#000000\" fill-rule=\"evenodd\" fill-opacity=\"1\" /><path clip-path=\"url(#clip970)\" d=\"M2085.74 136.303 L2090 136.303 L2090 162.229 L2085.74 162.229 L2085.74 136.303 M2085.74 126.21 L2090 126.21 L2090 131.604 L2085.74 131.604 L2085.74 126.21 Z\" fill=\"#000000\" fill-rule=\"evenodd\" fill-opacity=\"1\" /><path clip-path=\"url(#clip970)\" d=\"M2103.03 158.34 L2103.03 172.09 L2098.75 172.09 L2098.75 136.303 L2103.03 136.303 L2103.03 140.238 Q2104.37 137.923 2106.41 136.812 Q2108.47 135.678 2111.32 135.678 Q2116.04 135.678 2118.98 139.428 Q2121.94 143.178 2121.94 149.289 Q2121.94 155.4 2118.98 159.15 Q2116.04 162.9 2111.32 162.9 Q2108.47 162.9 2106.41 161.789 Q2104.37 160.655 2103.03 158.34 M2117.52 149.289 Q2117.52 144.59 2115.58 141.928 Q2113.66 139.243 2110.28 139.243 Q2106.9 139.243 2104.95 141.928 Q2103.03 144.59 2103.03 149.289 Q2103.03 153.988 2104.95 156.673 Q2106.9 159.335 2110.28 159.335 Q2113.66 159.335 2115.58 156.673 Q2117.52 153.988 2117.52 149.289 Z\" fill=\"#000000\" fill-rule=\"evenodd\" fill-opacity=\"1\" /><path clip-path=\"url(#clip970)\" d=\"M2145.53 137.067 L2145.53 141.094 Q2143.72 140.169 2141.78 139.706 Q2139.84 139.243 2137.75 139.243 Q2134.58 139.243 2132.98 140.215 Q2131.41 141.187 2131.41 143.131 Q2131.41 144.613 2132.54 145.469 Q2133.68 146.303 2137.1 147.067 L2138.56 147.391 Q2143.1 148.363 2145 150.145 Q2146.92 151.905 2146.92 155.076 Q2146.92 158.687 2144.05 160.793 Q2141.2 162.9 2136.2 162.9 Q2134.12 162.9 2131.85 162.483 Q2129.6 162.09 2127.1 161.28 L2127.1 156.881 Q2129.47 158.108 2131.76 158.733 Q2134.05 159.335 2136.29 159.335 Q2139.3 159.335 2140.92 158.317 Q2142.54 157.275 2142.54 155.4 Q2142.54 153.664 2141.36 152.738 Q2140.21 151.812 2136.25 150.956 L2134.77 150.608 Q2130.81 149.775 2129.05 148.062 Q2127.29 146.326 2127.29 143.317 Q2127.29 139.659 2129.88 137.669 Q2132.47 135.678 2137.24 135.678 Q2139.6 135.678 2141.69 136.025 Q2143.77 136.372 2145.53 137.067 Z\" fill=\"#000000\" fill-rule=\"evenodd\" fill-opacity=\"1\" /><path clip-path=\"url(#clip970)\" d=\"M2163.75 139.289 Q2160.32 139.289 2158.33 141.974 Q2156.34 144.636 2156.34 149.289 Q2156.34 153.942 2158.31 156.627 Q2160.3 159.289 2163.75 159.289 Q2167.15 159.289 2169.14 156.604 Q2171.13 153.918 2171.13 149.289 Q2171.13 144.682 2169.14 141.997 Q2167.15 139.289 2163.75 139.289 M2163.75 135.678 Q2169.3 135.678 2172.47 139.289 Q2175.65 142.9 2175.65 149.289 Q2175.65 155.655 2172.47 159.289 Q2169.3 162.9 2163.75 162.9 Q2158.17 162.9 2155 159.289 Q2151.85 155.655 2151.85 149.289 Q2151.85 142.9 2155 139.289 Q2158.17 135.678 2163.75 135.678 Z\" fill=\"#000000\" fill-rule=\"evenodd\" fill-opacity=\"1\" /><path clip-path=\"url(#clip970)\" d=\"M2182.71 136.303 L2186.97 136.303 L2186.97 162.229 L2182.71 162.229 L2182.71 136.303 M2182.71 126.21 L2186.97 126.21 L2186.97 131.604 L2182.71 131.604 L2182.71 126.21 Z\" fill=\"#000000\" fill-rule=\"evenodd\" fill-opacity=\"1\" /><path clip-path=\"url(#clip970)\" d=\"M2212.94 140.238 L2212.94 126.21 L2217.2 126.21 L2217.2 162.229 L2212.94 162.229 L2212.94 158.34 Q2211.59 160.655 2209.53 161.789 Q2207.5 162.9 2204.63 162.9 Q2199.93 162.9 2196.97 159.15 Q2194.03 155.4 2194.03 149.289 Q2194.03 143.178 2196.97 139.428 Q2199.93 135.678 2204.63 135.678 Q2207.5 135.678 2209.53 136.812 Q2211.59 137.923 2212.94 140.238 M2198.42 149.289 Q2198.42 153.988 2200.34 156.673 Q2202.29 159.335 2205.67 159.335 Q2209.05 159.335 2210.99 156.673 Q2212.94 153.988 2212.94 149.289 Q2212.94 144.59 2210.99 141.928 Q2209.05 139.243 2205.67 139.243 Q2202.29 139.243 2200.34 141.928 Q2198.42 144.59 2198.42 149.289 Z\" fill=\"#000000\" fill-rule=\"evenodd\" fill-opacity=\"1\" /><path clip-path=\"url(#clip970)\" d=\"M2237.75 149.196 Q2232.59 149.196 2230.6 150.377 Q2228.61 151.557 2228.61 154.405 Q2228.61 156.673 2230.09 158.016 Q2231.59 159.335 2234.16 159.335 Q2237.71 159.335 2239.84 156.835 Q2241.99 154.312 2241.99 150.145 L2241.99 149.196 L2237.75 149.196 M2246.25 147.437 L2246.25 162.229 L2241.99 162.229 L2241.99 158.293 Q2240.53 160.655 2238.35 161.789 Q2236.18 162.9 2233.03 162.9 Q2229.05 162.9 2226.69 160.678 Q2224.35 158.432 2224.35 154.682 Q2224.35 150.307 2227.27 148.085 Q2230.21 145.863 2236.02 145.863 L2241.99 145.863 L2241.99 145.446 Q2241.99 142.507 2240.04 140.909 Q2238.12 139.289 2234.63 139.289 Q2232.4 139.289 2230.3 139.821 Q2228.19 140.354 2226.25 141.419 L2226.25 137.483 Q2228.59 136.581 2230.78 136.141 Q2232.98 135.678 2235.07 135.678 Q2240.69 135.678 2243.47 138.594 Q2246.25 141.511 2246.25 147.437 Z\" fill=\"#000000\" fill-rule=\"evenodd\" fill-opacity=\"1\" /><path clip-path=\"url(#clip970)\" d=\"M2255.02 126.21 L2259.28 126.21 L2259.28 162.229 L2255.02 162.229 L2255.02 126.21 Z\" fill=\"#000000\" fill-rule=\"evenodd\" fill-opacity=\"1\" /><polyline clip-path=\"url(#clip970)\" style=\"stroke:#e26f46; stroke-linecap:butt; stroke-linejoin:round; stroke-width:4; stroke-opacity:1; fill:none\" points=\"\n",
       "  1866.04,196.789 2006.26,196.789 \n",
       "  \"/>\n",
       "<path clip-path=\"url(#clip970)\" d=\"M2029.63 179.509 L2034.3 179.509 L2034.3 210.133 L2051.13 210.133 L2051.13 214.069 L2029.63 214.069 L2029.63 179.509 Z\" fill=\"#000000\" fill-rule=\"evenodd\" fill-opacity=\"1\" /><path clip-path=\"url(#clip970)\" d=\"M2065.07 191.129 Q2061.64 191.129 2059.65 193.814 Q2057.66 196.476 2057.66 201.129 Q2057.66 205.782 2059.63 208.467 Q2061.62 211.129 2065.07 211.129 Q2068.47 211.129 2070.46 208.444 Q2072.45 205.758 2072.45 201.129 Q2072.45 196.522 2070.46 193.837 Q2068.47 191.129 2065.07 191.129 M2065.07 187.518 Q2070.62 187.518 2073.79 191.129 Q2076.97 194.74 2076.97 201.129 Q2076.97 207.495 2073.79 211.129 Q2070.62 214.74 2065.07 214.74 Q2059.49 214.74 2056.32 211.129 Q2053.17 207.495 2053.17 201.129 Q2053.17 194.74 2056.32 191.129 Q2059.49 187.518 2065.07 187.518 Z\" fill=\"#000000\" fill-rule=\"evenodd\" fill-opacity=\"1\" /><path clip-path=\"url(#clip970)\" d=\"M2083.59 203.837 L2083.59 188.143 L2087.85 188.143 L2087.85 203.675 Q2087.85 207.356 2089.28 209.208 Q2090.72 211.036 2093.59 211.036 Q2097.04 211.036 2099.03 208.837 Q2101.04 206.638 2101.04 202.842 L2101.04 188.143 L2105.3 188.143 L2105.3 214.069 L2101.04 214.069 L2101.04 210.087 Q2099.49 212.448 2097.43 213.606 Q2095.39 214.74 2092.68 214.74 Q2088.22 214.74 2085.9 211.962 Q2083.59 209.184 2083.59 203.837 M2094.3 187.518 L2094.3 187.518 Z\" fill=\"#000000\" fill-rule=\"evenodd\" fill-opacity=\"1\" /><path clip-path=\"url(#clip970)\" d=\"M2111.02 188.143 L2115.53 188.143 L2123.63 209.902 L2131.73 188.143 L2136.25 188.143 L2126.53 214.069 L2120.74 214.069 L2111.02 188.143 Z\" fill=\"#000000\" fill-rule=\"evenodd\" fill-opacity=\"1\" /><path clip-path=\"url(#clip970)\" d=\"M2153.91 201.036 Q2148.75 201.036 2146.76 202.217 Q2144.77 203.397 2144.77 206.245 Q2144.77 208.513 2146.25 209.856 Q2147.75 211.175 2150.32 211.175 Q2153.86 211.175 2155.99 208.675 Q2158.15 206.152 2158.15 201.985 L2158.15 201.036 L2153.91 201.036 M2162.41 199.277 L2162.41 214.069 L2158.15 214.069 L2158.15 210.133 Q2156.69 212.495 2154.51 213.629 Q2152.34 214.74 2149.19 214.74 Q2145.21 214.74 2142.85 212.518 Q2140.51 210.272 2140.51 206.522 Q2140.51 202.147 2143.42 199.925 Q2146.36 197.703 2152.17 197.703 L2158.15 197.703 L2158.15 197.286 Q2158.15 194.347 2156.2 192.749 Q2154.28 191.129 2150.78 191.129 Q2148.56 191.129 2146.46 191.661 Q2144.35 192.194 2142.41 193.259 L2142.41 189.323 Q2144.74 188.421 2146.94 187.981 Q2149.14 187.518 2151.22 187.518 Q2156.85 187.518 2159.63 190.434 Q2162.41 193.351 2162.41 199.277 Z\" fill=\"#000000\" fill-rule=\"evenodd\" fill-opacity=\"1\" /><path clip-path=\"url(#clip970)\" d=\"M2171.18 188.143 L2175.44 188.143 L2175.44 214.069 L2171.18 214.069 L2171.18 188.143 M2171.18 178.05 L2175.44 178.05 L2175.44 183.444 L2171.18 183.444 L2171.18 178.05 Z\" fill=\"#000000\" fill-rule=\"evenodd\" fill-opacity=\"1\" /><path clip-path=\"url(#clip970)\" d=\"M2205.9 198.421 L2205.9 214.069 L2201.64 214.069 L2201.64 198.559 Q2201.64 194.879 2200.21 193.05 Q2198.77 191.222 2195.9 191.222 Q2192.45 191.222 2190.46 193.421 Q2188.47 195.62 2188.47 199.416 L2188.47 214.069 L2184.19 214.069 L2184.19 188.143 L2188.47 188.143 L2188.47 192.171 Q2190 189.833 2192.06 188.675 Q2194.14 187.518 2196.85 187.518 Q2201.32 187.518 2203.61 190.296 Q2205.9 193.05 2205.9 198.421 Z\" fill=\"#000000\" fill-rule=\"evenodd\" fill-opacity=\"1\" /></svg>\n"
      ]
     },
     "metadata": {},
     "output_type": "display_data"
    }
   ],
   "source": [
    "using StatsBase\n",
    "using LaTeXStrings\n",
    "# Plot Normalized mutual information vs Mixing parameter\n",
    "m = mean(NMIs,dims=2);\n",
    "s = std(NMIs,dims=2);\n",
    "plot(mus, m, yerror = s,\n",
    "markerstrokecolor=:auto,\n",
    "xlabel = \"Mixing parameter \",\n",
    "ylabel = \"Normalized mutual information\",\n",
    "labels = \"Ellipsoidal\")\n",
    "\n",
    "plot!(mus, NMIs_louvain,\n",
    "markerstrokecolor=:auto,\n",
    "xlabel = \"Mixing parameter\",\n",
    "ylabel = \"Normalized mutual information\",\n",
    "labels = \"Louvain\")\n",
    "savefig(\"figures/nmi_vs_mu.pdf\")\n",
    "plot!()"
   ]
  },
  {
   "cell_type": "markdown",
   "metadata": {},
   "source": [
    "### Estimating the impact of $d_0$ on embedding quality"
   ]
  },
  {
   "cell_type": "code",
   "execution_count": 4,
   "metadata": {},
   "outputs": [
    {
     "name": "stdout",
     "output_type": "stream",
     "text": [
      "mu=0.4\n",
      "========== d0 step 1/19 =========="
     ]
    },
    {
     "name": "stdout",
     "output_type": "stream",
     "text": [
      "\n",
      "\n",
      "  ~~~~~ number_rep = 1/3 ~~~~~\n",
      " ------- Acc Projected Power Iteration -------\n",
      "The iteration has become stationary after "
     ]
    },
    {
     "name": "stdout",
     "output_type": "stream",
     "text": [
      "159 iterations\n",
      "  0.185186 seconds (4.24 k allocations: 111.441 MiB, 18.69% gc time)\n",
      " -------------- Clustering ------- \n",
      "dimension of embedding used for clustering: 10\n"
     ]
    },
    {
     "name": "stdout",
     "output_type": "stream",
     "text": [
      "Number of updates: 13\n",
      "Modularity: 0.3624561456983106\n",
      "Number of communities: 12\n",
      " -------------------------------------------- \n",
      "The first 5 squared singular values divided by N : \n",
      "[0.21845155790348986, 0.21304565351778607, 0.1826733376410146, 0.1284104382603634, 0.09785451213848781]\n",
      " -------------------------------------------- \n",
      "  0.452753 seconds (219.43 k allocations: 241.251 MiB, 12.01% gc time)\n",
      "\n",
      "  ~~~~~ number_rep = 2/3 ~~~~~\n",
      " ------- Acc Projected Power Iteration -------\n"
     ]
    },
    {
     "name": "stdout",
     "output_type": "stream",
     "text": [
      "The iteration has become stationary after 122 iterations\n",
      "  0.141087 seconds (3.28 k allocations: 85.397 MiB, 6.88% gc time)\n",
      " -------------- Clustering ------- \n",
      "dimension of embedding used for clustering: 10\n",
      "Number of updates: "
     ]
    },
    {
     "name": "stdout",
     "output_type": "stream",
     "text": [
      "10\n",
      "Modularity: 0.37047830999371006\n",
      "Number of communities: 13\n",
      " -------------------------------------------- \n",
      "The first 5 squared singular values divided by N : \n",
      "[0.2190616288453092, 0.21229017450272608, 0.18212744508801626, "
     ]
    },
    {
     "name": "stdout",
     "output_type": "stream",
     "text": [
      "0.127169651023969, 0.10001663521075446]\n",
      " -------------------------------------------- \n",
      "  0.447719 seconds (154.56 k allocations: 177.932 MiB, 7.47% gc time)\n",
      "\n",
      "  ~~~~~ number_rep = 3/3 ~~~~~\n",
      " ------- Acc Projected Power Iteration -------\n"
     ]
    },
    {
     "name": "stdout",
     "output_type": "stream",
     "text": [
      "The iteration has become stationary after 154 iterations\n",
      "  0.247535 seconds (4.11 k allocations: 107.921 MiB, 6.11% gc time)\n",
      " -------------- Clustering ------- \n",
      "dimension of embedding used for clustering: 10\n",
      "Number of updates: "
     ]
    },
    {
     "name": "stdout",
     "output_type": "stream",
     "text": [
      "10\n",
      "Modularity: 0.3792336709880102\n",
      "Number of communities: 15\n",
      " -------------------------------------------- \n",
      "The first 5 squared singular values divided by N : \n",
      "[0.2200254087037201, 0.2121049028306464, 0.17967999739298465, 0.12930770321249768, 0.0980194486081061]\n",
      " -------------------------------------------- \n",
      "  0.461901 seconds (140.98 k allocations: 192.748 MiB, 8.67% gc time)\n",
      "\n",
      "========== d0 step 2/19 ==========\n",
      "\n",
      "  ~~~~~ number_rep = 1/3 ~~~~~\n",
      " ------- Acc Projected Power Iteration -------\n"
     ]
    },
    {
     "name": "stdout",
     "output_type": "stream",
     "text": [
      "The iteration has become stationary after 202 iterations\n",
      "  0.331040 seconds (5.36 k allocations: 211.022 MiB, 9.09% gc time)\n",
      " -------------- Clustering ------- \n",
      "dimension of embedding used for clustering: 15\n",
      "Number of updates: "
     ]
    },
    {
     "name": "stdout",
     "output_type": "stream",
     "text": [
      "6\n",
      "Modularity: 0.37213921012151613\n",
      "Number of communities: 16\n",
      " -------------------------------------------- \n",
      "The first 5 squared singular values divided by N : \n",
      "[0.21980648914689022, 0.21308229445617613, 0.18112791324038108, 0.12861620051200104, 0.09901817314387958]\n",
      " -------------------------------------------- \n",
      "  0.485216 seconds (113.36 k allocations: 281.745 MiB, 8.07% gc time)\n",
      "\n",
      "  ~~~~~ number_rep = 2/3 ~~~~~\n",
      " ------- Acc Projected Power Iteration -------\n"
     ]
    },
    {
     "name": "stdout",
     "output_type": "stream",
     "text": [
      "The iteration has become stationary after 131 iterations\n",
      "  0.229689 seconds (3.52 k allocations: 136.587 MiB, 13.72% gc time)\n",
      " -------------- Clustering ------- \n",
      "dimension of embedding used for clustering: 15\n",
      "Number of updates: "
     ]
    },
    {
     "name": "stdout",
     "output_type": "stream",
     "text": [
      "8\n",
      "Modularity: 0.37884790118782236\n",
      "Number of communities: 16\n",
      " -------------------------------------------- \n",
      "The first 5 squared singular values divided by N : \n",
      "[0.220290362607192, 0.21313790332818602, 0.18195784963785136, 0.12742408672688227, 0.09870830908749614]\n",
      " -------------------------------------------- \n",
      "  0.416701 seconds (130.11 k allocations: 219.124 MiB, 9.75% gc time)\n",
      "\n",
      "  ~~~~~ number_rep = 3/3 ~~~~~\n",
      " ------- Acc Projected Power Iteration -------\n"
     ]
    },
    {
     "name": "stdout",
     "output_type": "stream",
     "text": [
      "The iteration has become stationary after 128 iterations\n",
      "  0.224546 seconds (3.44 k allocations: 133.443 MiB, 8.85% gc time)\n",
      " -------------- Clustering ------- \n",
      "dimension of embedding used for clustering: 15\n",
      "Number of updates: "
     ]
    },
    {
     "name": "stdout",
     "output_type": "stream",
     "text": [
      "6\n",
      "Modularity: 0.3828252175055739\n",
      "Number of communities: 17\n",
      " -------------------------------------------- \n",
      "The first 5 squared singular values divided by N : \n",
      "[0.22002330535550363, 0.21345883346801028, 0.18176133078140636, 0.1284285786152747, 0.09926153961889524]\n",
      " -------------------------------------------- \n",
      "  0.377698 seconds (105.28 k allocations: 200.944 MiB, 8.42% gc time)\n",
      "\n",
      "========== d0 step 3/19 ==========\n",
      "\n",
      "  ~~~~~ number_rep = 1/3 ~~~~~\n",
      " ------- Acc Projected Power Iteration -------\n"
     ]
    },
    {
     "name": "stdout",
     "output_type": "stream",
     "text": [
      "The iteration has become stationary after 151 iterations\n",
      "  0.339642 seconds (4.04 k allocations: 209.320 MiB, 9.22% gc time)\n",
      " -------------- Clustering ------- \n",
      "dimension of embedding used for clustering: 20\n",
      "Number of updates: "
     ]
    },
    {
     "name": "stdout",
     "output_type": "stream",
     "text": [
      "4\n",
      "Modularity: 0.38608962253823254\n",
      "Number of communities: 19\n",
      " -------------------------------------------- \n",
      "The first 5 squared singular values divided by N : \n",
      "[0.21995469491711797, 0.21282423894439648, 0.18162696884605156, 0.1284776285494624, 0.09872937565909497]\n",
      " -------------------------------------------- \n",
      "  0.480554 seconds (85.23 k allocations: 265.972 MiB, 8.90% gc time)\n",
      "\n",
      "  ~~~~~ number_rep = 2/3 ~~~~~\n",
      " ------- Acc Projected Power Iteration -------\n"
     ]
    },
    {
     "name": "stdout",
     "output_type": "stream",
     "text": [
      "The iteration has become stationary after 120 iterations\n",
      "  0.268792 seconds (3.23 k allocations: 166.138 MiB, 11.36% gc time)\n",
      " -------------- Clustering ------- \n",
      "dimension of embedding used for clustering: 20\n",
      "Number of updates: "
     ]
    },
    {
     "name": "stdout",
     "output_type": "stream",
     "text": [
      "5\n",
      "Modularity: 0.3860726016841166\n",
      "Number of communities: 20\n",
      " -------------------------------------------- \n",
      "The first 5 squared singular values divided by N : \n",
      "[0.22022522936540787, 0.2135410016282924, 0.18204073039261884, 0.12966682553094688, 0.09825498821312201]\n",
      " -------------------------------------------- \n",
      "  0.418605 seconds (90.61 k allocations: 226.999 MiB, 9.53% gc time)\n",
      "\n",
      "  ~~~~~ number_rep = 3/3 ~~~~~\n",
      " ------- Acc Projected Power Iteration -------\n"
     ]
    },
    {
     "name": "stdout",
     "output_type": "stream",
     "text": [
      "The iteration has become stationary after 210 iterations\n",
      "  0.472486 seconds (5.57 k allocations: 291.504 MiB, 10.94% gc time)\n",
      " -------------- Clustering ------- \n",
      "dimension of embedding used for clustering: 20\n",
      "Number of updates: "
     ]
    },
    {
     "name": "stdout",
     "output_type": "stream",
     "text": [
      "6\n",
      "Modularity: 0.387402782269276\n",
      "Number of communities: 19\n",
      " -------------------------------------------- \n",
      "The first 5 squared singular values divided by N : \n",
      "[0.22014458067976525, 0.21274159909913187, 0.18094393615109652, 0.12869600261608655, 0.09871646072757577]\n",
      " -------------------------------------------- \n",
      "  0.649564 seconds (107.41 k allocations: 361.563 MiB, 9.15% gc time)\n",
      "\n",
      "========== d0 step 4/19 ==========\n",
      "\n",
      "  ~~~~~ number_rep = 1/3 ~~~~~\n",
      " ------- Acc Projected Power Iteration -------\n"
     ]
    },
    {
     "name": "stdout",
     "output_type": "stream",
     "text": [
      "The iteration has become stationary after 153 iterations\n",
      "  0.440952 seconds (4.09 k allocations: 264.644 MiB, 8.93% gc time)\n",
      " -------------- Clustering ------- \n",
      "dimension of embedding used for clustering: 25\n",
      "Number of updates: "
     ]
    },
    {
     "name": "stdout",
     "output_type": "stream",
     "text": [
      "5\n",
      "Modularity: 0.3876664132292699\n",
      "Number of communities: 20\n",
      " -------------------------------------------- \n",
      "The first 5 squared singular values divided by N : \n",
      "[0.219945121957247, 0.2128610419799831, 0.18129195015952163, 0.12833986518396528, 0.09877005067348962]\n",
      " -------------------------------------------- \n",
      "  0.653787 seconds (108.07 k allocations: 339.390 MiB, 7.48% gc time)\n",
      "\n",
      "  ~~~~~ number_rep = 2/3 ~~~~~\n",
      " ------- Acc Projected Power Iteration -------\n"
     ]
    },
    {
     "name": "stdout",
     "output_type": "stream",
     "text": [
      "The iteration has become stationary after 162 iterations\n",
      "  0.454011 seconds (4.32 k allocations: 280.286 MiB, 10.94% gc time)\n",
      " -------------- Clustering ------- \n",
      "dimension of embedding used for clustering: 25\n",
      "Number of updates: "
     ]
    },
    {
     "name": "stdout",
     "output_type": "stream",
     "text": [
      "5\n",
      "Modularity: 0.3885405753712471\n",
      "Number of communities: 19\n",
      " -------------------------------------------- \n",
      "The first 5 squared singular values divided by N : \n",
      "[0.21980663208420526, 0.21302613743831977, 0.18079759025116474, 0.12794351108265598, 0.09905275601573409]\n",
      " -------------------------------------------- \n",
      "  0.635522 seconds (93.85 k allocations: 345.606 MiB, 9.01% gc time)\n",
      "\n",
      "  ~~~~~ number_rep = 3/3 ~~~~~\n",
      " ------- Acc Projected Power Iteration -------\n"
     ]
    },
    {
     "name": "stdout",
     "output_type": "stream",
     "text": [
      "The iteration has become stationary after 206 iterations\n",
      "  1.257370 seconds (5.46 k allocations: 356.762 MiB, 5.00% gc time)\n",
      " -------------- Clustering ------- \n",
      "dimension of embedding used for clustering: 25\n",
      "Number of updates: "
     ]
    },
    {
     "name": "stdout",
     "output_type": "stream",
     "text": [
      "8\n",
      "Modularity: 0.38820609803197714\n",
      "Number of communities: 20\n",
      " -------------------------------------------- \n",
      "The first 5 squared singular values divided by N : \n",
      "[0.2201096358157882, 0.21302782208842946, 0.1806280554002031, 0.12829797467249218, 0.09888955731470332]\n",
      " -------------------------------------------- \n",
      "  1.643314 seconds (101.19 k allocations: 426.228 MiB, 5.15% gc time)\n",
      "\n",
      "========== d0 step 5/19 ==========\n",
      "\n",
      "  ~~~~~ number_rep = 1/3 ~~~~~\n",
      " ------- Acc Projected Power Iteration -------\n"
     ]
    },
    {
     "name": "stdout",
     "output_type": "stream",
     "text": [
      "The iteration has become stationary after 195 iterations\n",
      "  0.807909 seconds (5.18 k allocations: 404.735 MiB, 11.04% gc time)\n",
      " -------------- Clustering ------- \n",
      "dimension of embedding used for clustering: 30\n",
      "Number of updates: "
     ]
    },
    {
     "name": "stdout",
     "output_type": "stream",
     "text": [
      "5\n",
      "Modularity: 0.3878649452742339\n",
      "Number of communities: 20\n",
      " -------------------------------------------- \n",
      "The first 5 squared singular values divided by N : \n",
      "[0.21978744355577576, 0.21281218401641147, 0.18088269536778068, 0.12784475132527748, 0.09956092158254468]\n",
      " -------------------------------------------- \n",
      "  1.108666 seconds (105.04 k allocations: 480.083 MiB, 8.74% gc time)\n",
      "\n",
      "  ~~~~~ number_rep = 2/3 ~~~~~\n",
      " ------- Acc Projected Power Iteration -------\n"
     ]
    },
    {
     "name": "stdout",
     "output_type": "stream",
     "text": [
      "The iteration has become stationary after 151 iterations\n",
      "  0.673970 seconds (4.04 k allocations: 313.060 MiB, 7.81% gc time)\n",
      " -------------- Clustering ------- \n",
      "dimension of embedding used for clustering: 30\n",
      "Number of updates: "
     ]
    },
    {
     "name": "stdout",
     "output_type": "stream",
     "text": [
      "7\n",
      "Modularity: 0.38765597165422533\n",
      "Number of communities: 20\n",
      " -------------------------------------------- \n",
      "The first 5 squared singular values divided by N : \n",
      "[0.22001876042267854, 0.2128996040836348, 0.18098987406954872, 0.12865380896395934, 0.0983521605729533]\n",
      " -------------------------------------------- \n",
      "  0.991014 seconds (112.16 k allocations: 394.230 MiB, 6.01% gc time)\n",
      "\n",
      "  ~~~~~ number_rep = 3/3 ~~~~~\n",
      " ------- Acc Projected Power Iteration -------\n"
     ]
    },
    {
     "name": "stdout",
     "output_type": "stream",
     "text": [
      "The iteration has become stationary after 150 iterations\n",
      "  0.614721 seconds (4.01 k allocations: 310.976 MiB, 7.66% gc time)\n",
      " -------------- Clustering ------- \n",
      "dimension of embedding used for clustering: 30\n",
      "Number of updates: "
     ]
    },
    {
     "name": "stdout",
     "output_type": "stream",
     "text": [
      "6\n",
      "Modularity: 0.38792927925402243\n",
      "Number of communities: 20\n",
      " -------------------------------------------- \n",
      "The first 5 squared singular values divided by N : \n",
      "[0.22014231585608873, 0.21288019987660398, 0.18129925037338782, 0.12827878240066212, 0.09880257412585478]\n",
      " -------------------------------------------- \n",
      "  0.910399 seconds (103.90 k allocations: 386.663 MiB, 5.98% gc time)\n",
      "\n",
      "========== d0 step 6/19 ==========\n",
      "\n",
      "  ~~~~~ number_rep = 1/3 ~~~~~\n",
      " ------- Acc Projected Power Iteration -------\n"
     ]
    },
    {
     "name": "stdout",
     "output_type": "stream",
     "text": [
      "The iteration has become stationary after 153 iterations\n",
      "  0.665661 seconds (4.09 k allocations: 369.873 MiB, 8.63% gc time)\n",
      " -------------- Clustering ------- \n",
      "dimension of embedding used for clustering: 35\n",
      "Number of updates: "
     ]
    },
    {
     "name": "stdout",
     "output_type": "stream",
     "text": [
      "6\n",
      "Modularity: 0.38683948061348544\n",
      "Number of communities: 22\n",
      " -------------------------------------------- \n",
      "The first 5 squared singular values divided by N : \n",
      "[0.21986639557489965, 0.2127373881352277, 0.18093175545632406, 0.12823365189578512, 0.09879037445952829]\n",
      " -------------------------------------------- \n",
      "  0.976845 seconds (106.07 k allocations: 450.133 MiB, 6.90% gc time)\n",
      "\n",
      "  ~~~~~ number_rep = 2/3 ~~~~~\n",
      " ------- Acc Projected Power Iteration -------\n"
     ]
    },
    {
     "name": "stdout",
     "output_type": "stream",
     "text": [
      "The iteration has become stationary after 151 iterations\n",
      "  0.650321 seconds (4.04 k allocations: 365.014 MiB, 9.01% gc time)\n",
      " -------------- Clustering ------- \n",
      "dimension of embedding used for clustering: 35\n",
      "Number of updates: "
     ]
    },
    {
     "name": "stdout",
     "output_type": "stream",
     "text": [
      "10\n",
      "Modularity: 0.38844695649363514\n",
      "Number of communities: 20\n",
      " -------------------------------------------- \n",
      "The first 5 squared singular values divided by N : \n",
      "[0.22013543181682255, 0.21267182499276627, 0.1810920764070999, 0.12834354733106412, 0.09854239011207781]\n",
      " -------------------------------------------- \n",
      "  1.073093 seconds (149.40 k allocations: 475.977 MiB, 6.27% gc time)\n",
      "\n",
      "  ~~~~~ number_rep = 3/3 ~~~~~\n",
      " ------- Acc Projected Power Iteration -------\n"
     ]
    },
    {
     "name": "stdout",
     "output_type": "stream",
     "text": [
      "The iteration has become stationary after 151 iterations\n",
      "  0.649440 seconds (4.04 k allocations: 365.015 MiB, 9.06% gc time)\n",
      " -------------- Clustering ------- \n",
      "dimension of embedding used for clustering: 35\n",
      "Number of updates: "
     ]
    },
    {
     "name": "stdout",
     "output_type": "stream",
     "text": [
      "6\n",
      "Modularity: 0.38793911473283754\n",
      "Number of communities: 20\n",
      " -------------------------------------------- \n",
      "The first 5 squared singular values divided by N : \n",
      "[0.22038148096889956, 0.212637610263981, 0.1814497436290724, 0.12853767373016114, 0.09829487462895277]\n",
      " -------------------------------------------- \n",
      "  0.988674 seconds (112.22 k allocations: 449.558 MiB, 6.99% gc time)\n",
      "\n",
      "========== d0 step 7/19 ==========\n",
      "\n",
      "  ~~~~~ number_rep = 1/3 ~~~~~\n",
      " ------- Acc Projected Power Iteration -------\n"
     ]
    },
    {
     "name": "stdout",
     "output_type": "stream",
     "text": [
      "The iteration has become stationary after 148 iterations\n",
      "  0.717310 seconds (3.96 k allocations: 408.688 MiB, 9.28% gc time)\n",
      " -------------- Clustering ------- \n",
      "dimension of embedding used for clustering: 40\n",
      "Number of updates: "
     ]
    },
    {
     "name": "stdout",
     "output_type": "stream",
     "text": [
      "6\n",
      "Modularity: 0.38725500764855825\n",
      "Number of communities: 20\n",
      " -------------------------------------------- \n",
      "The first 5 squared singular values divided by N : \n",
      "[0.22003053906812978, 0.212860784427273, 0.18089177673704865, 0.1284703770266295, 0.09860302181410227]\n",
      " -------------------------------------------- \n",
      "  1.102132 seconds (105.95 k allocations: 491.477 MiB, 6.92% gc time)\n",
      "\n",
      "  ~~~~~ number_rep = 2/3 ~~~~~\n",
      " ------- Acc Projected Power Iteration -------\n"
     ]
    },
    {
     "name": "stdout",
     "output_type": "stream",
     "text": [
      "The iteration has become stationary after 148 iterations\n",
      "  0.758730 seconds (3.96 k allocations: 408.688 MiB, 7.89% gc time)\n",
      " -------------- Clustering ------- \n",
      "dimension of embedding used for clustering: 40\n",
      "Number of updates: "
     ]
    },
    {
     "name": "stdout",
     "output_type": "stream",
     "text": [
      "7\n",
      "Modularity: 0.38782860040032946\n",
      "Number of communities: 22\n",
      " -------------------------------------------- \n",
      "The first 5 squared singular values divided by N : \n",
      "[0.21999301120153922, 0.21288961104295354, 0.18166889859076943, 0.12821295799044022, 0.09839865824468934]\n",
      " -------------------------------------------- \n",
      "  1.110687 seconds (114.22 k allocations: 498.050 MiB, 6.21% gc time)\n",
      "\n",
      "  ~~~~~ number_rep = 3/3 ~~~~~\n",
      " ------- Acc Projected Power Iteration -------\n"
     ]
    },
    {
     "name": "stdout",
     "output_type": "stream",
     "text": [
      "The iteration has become stationary after 151 iterations\n",
      "  0.853707 seconds (4.04 k allocations: 417.015 MiB, 8.09% gc time)\n",
      " -------------- Clustering ------- \n",
      "dimension of embedding used for clustering: 40\n",
      "Number of updates: "
     ]
    },
    {
     "name": "stdout",
     "output_type": "stream",
     "text": [
      "5\n",
      "Modularity: 0.3886395947752633\n",
      "Number of communities: 20\n",
      " -------------------------------------------- \n",
      "The first 5 squared singular values divided by N : \n",
      "[0.21994429495955353, 0.21292594926802066, 0.18100511769551936, 0.12833066412145244, 0.09821430385909272]\n",
      " -------------------------------------------- \n",
      "  1.176133 seconds (103.97 k allocations: 498.697 MiB, 6.62% gc time)\n",
      "\n",
      "========== d0 step 8/19 ==========\n",
      "\n",
      "  ~~~~~ number_rep = 1/3 ~~~~~\n",
      " ------- Acc Projected Power Iteration -------\n"
     ]
    },
    {
     "name": "stdout",
     "output_type": "stream",
     "text": [
      "The iteration has become stationary after 152 iterations\n",
      "  0.851884 seconds (4.06 k allocations: 472.214 MiB, 7.96% gc time)\n",
      " -------------- Clustering ------- \n",
      "dimension of embedding used for clustering: 45\n",
      "Number of updates: "
     ]
    },
    {
     "name": "stdout",
     "output_type": "stream",
     "text": [
      "6\n",
      "Modularity: 0.387730053333375\n",
      "Number of communities: 23\n",
      " -------------------------------------------- \n",
      "The first 5 squared singular values divided by N : \n",
      "[0.21979912995661277, 0.21261077177611756, 0.1811809748814614, 0.12846634696545825, 0.09865308778004929]\n",
      " -------------------------------------------- \n",
      "  1.758313 seconds (106.07 k allocations: 558.949 MiB, 4.65% gc time)\n",
      "\n",
      "  ~~~~~ number_rep = 2/3 ~~~~~\n",
      " ------- Acc Projected Power Iteration -------\n"
     ]
    },
    {
     "name": "stdout",
     "output_type": "stream",
     "text": [
      "The iteration has become stationary after 151 iterations\n",
      "  0.946065 seconds (4.04 k allocations: 469.090 MiB, 7.28% gc time)\n",
      " -------------- Clustering ------- \n",
      "dimension of embedding used for clustering: 45\n",
      "Number of updates: "
     ]
    },
    {
     "name": "stdout",
     "output_type": "stream",
     "text": [
      "6\n",
      "Modularity: 0.38803243683229566\n",
      "Number of communities: 22\n",
      " -------------------------------------------- \n",
      "The first 5 squared singular values divided by N : \n",
      "[0.2201674379760741, 0.21297470956626138, 0.18128670695834562, 0.12838787408374802, 0.09855136901503112]\n",
      " -------------------------------------------- \n",
      "  1.423002 seconds (114.31 k allocations: 562.280 MiB, 6.37% gc time)\n",
      "\n",
      "  ~~~~~ number_rep = 3/3 ~~~~~\n",
      " ------- Acc Projected Power Iteration -------\n"
     ]
    },
    {
     "name": "stdout",
     "output_type": "stream",
     "text": [
      "The iteration has become stationary after 152 iterations\n",
      "  0.819464 seconds (4.06 k allocations: 472.213 MiB, 8.24% gc time)\n",
      " -------------- Clustering ------- \n",
      "dimension of embedding used for clustering: 45\n",
      "Number of updates: "
     ]
    },
    {
     "name": "stdout",
     "output_type": "stream",
     "text": [
      "10\n",
      "Modularity: 0.38770678341813347\n",
      "Number of communities: 22\n",
      " -------------------------------------------- \n",
      "The first 5 squared singular values divided by N : \n",
      "[0.22002329304064114, 0.21277396406858307, 0.18119960366807947, 0.12861290751974583, 0.09827715889909877]\n",
      " -------------------------------------------- \n",
      "  1.560076 seconds (161.85 k allocations: 601.380 MiB, 5.72% gc time)\n",
      "\n",
      "========== d0 step 9/19 ==========\n",
      "\n",
      "  ~~~~~ number_rep = 1/3 ~~~~~\n",
      " ------- Acc Projected Power Iteration -------\n"
     ]
    },
    {
     "name": "stdout",
     "output_type": "stream",
     "text": [
      "The iteration has become stationary after 154 iterations\n",
      "  0.951761 seconds (4.27 k allocations: 531.613 MiB, 7.49% gc time)\n",
      " -------------- Clustering ------- \n",
      "dimension of embedding used for clustering: 50\n",
      "Number of updates: "
     ]
    },
    {
     "name": "stdout",
     "output_type": "stream",
     "text": [
      "7\n",
      "Modularity: 0.38814174733229256\n",
      "Number of communities: 22\n",
      " -------------------------------------------- \n",
      "The first 5 squared singular values divided by N : \n",
      "[0.22001325616959524, 0.21278897129149338, 0.1811924048254577, 0.12834200133212784, 0.09862795541662749]\n",
      " -------------------------------------------- \n",
      "  1.606827 seconds (124.87 k allocations: 636.532 MiB, 5.72% gc time)\n",
      "\n",
      "  ~~~~~ number_rep = 2/3 ~~~~~\n",
      " ------- Acc Projected Power Iteration -------\n"
     ]
    },
    {
     "name": "stdout",
     "output_type": "stream",
     "text": [
      "The iteration has become stationary after 153 iterations\n",
      "  0.909049 seconds (4.24 k allocations: 528.145 MiB, 8.28% gc time)\n",
      " -------------- Clustering ------- \n",
      "dimension of embedding used for clustering: 50\n",
      "Number of updates: "
     ]
    },
    {
     "name": "stdout",
     "output_type": "stream",
     "text": [
      "10\n",
      "Modularity: 0.3864530629173281\n",
      "Number of communities: 25\n",
      " -------------------------------------------- \n",
      "The first 5 squared singular values divided by N : \n",
      "[0.22012606966150255, 0.21259986303560582, 0.18120538001914813, 0.128122166977112, 0.09856466065909852]\n",
      " -------------------------------------------- \n",
      "  1.447238 seconds (133.14 k allocations: 639.918 MiB, 5.99% gc time)\n",
      "\n",
      "  ~~~~~ number_rep = 3/3 ~~~~~\n",
      " ------- Acc Projected Power Iteration -------\n"
     ]
    },
    {
     "name": "stdout",
     "output_type": "stream",
     "text": [
      "The iteration has become stationary after 149 iterations\n",
      "  0.988909 seconds (4.13 k allocations: 514.267 MiB, 7.94% gc time)\n",
      " -------------- Clustering ------- \n",
      "dimension of embedding used for clustering: 50\n",
      "Number of updates: "
     ]
    },
    {
     "name": "stdout",
     "output_type": "stream",
     "text": [
      "6\n",
      "Modularity: 0.38690135676856374\n",
      "Number of communities: 25\n",
      " -------------------------------------------- \n",
      "The first 5 squared singular values divided by N : \n",
      "[0.2202871249008285, 0.21251745216093482, 0.181028111645243, 0.12820054765317287, 0.09852326667565157]\n",
      " -------------------------------------------- \n",
      "  1.475211 seconds (112.35 k allocations: 609.781 MiB, 6.01% gc time)\n",
      "\n",
      "========== d0 step 10/19 ==========\n",
      "\n",
      "  ~~~~~ number_rep = 1/3 ~~~~~\n",
      " ------- Acc Projected Power Iteration -------\n"
     ]
    },
    {
     "name": "stdout",
     "output_type": "stream",
     "text": [
      "The iteration has become stationary after 152 iterations\n",
      "  1.082531 seconds (4.21 k allocations: 577.208 MiB, 7.68% gc time)\n",
      " -------------- Clustering ------- \n",
      "dimension of embedding used for clustering: 55\n",
      "Number of updates: "
     ]
    },
    {
     "name": "stdout",
     "output_type": "stream",
     "text": [
      "7\n",
      "Modularity: 0.3860358638926565\n",
      "Number of communities: 25\n",
      " -------------------------------------------- \n",
      "The first 5 squared singular values divided by N : \n",
      "[0.2200718177206779, 0.21283451403818374, 0.1808591284233385, 0.12804815219107568, 0.09867463387712212]\n",
      " -------------------------------------------- \n",
      "  1.633719 seconds (118.69 k allocations: 682.000 MiB, 6.47% gc time)\n",
      "\n",
      "  ~~~~~ number_rep = 2/3 ~~~~~\n",
      " ------- Acc Projected Power Iteration -------\n"
     ]
    },
    {
     "name": "stdout",
     "output_type": "stream",
     "text": [
      "The iteration has become stationary after 152 iterations\n",
      "  1.196983 seconds (4.21 k allocations: 577.208 MiB, 7.02% gc time)\n",
      " -------------- Clustering ------- \n",
      "dimension of embedding used for clustering: 55\n",
      "Number of updates: "
     ]
    },
    {
     "name": "stdout",
     "output_type": "stream",
     "text": [
      "7\n",
      "Modularity: 0.38691788856572207\n",
      "Number of communities: 27\n",
      " -------------------------------------------- \n",
      "The first 5 squared singular values divided by N : \n",
      "[0.21986403692657056, 0.21290071667091318, 0.1810447048479147, 0.12833716882393212, 0.09874356099634782]\n",
      " -------------------------------------------- \n",
      "  2.008529 seconds (118.66 k allocations: 682.017 MiB, 5.27% gc time)\n",
      "\n",
      "  ~~~~~ number_rep = 3/3 ~~~~~\n",
      " ------- Acc Projected Power Iteration -------\n"
     ]
    },
    {
     "name": "stdout",
     "output_type": "stream",
     "text": [
      "The iteration has become stationary after 151 iterations\n",
      "  1.051647 seconds (4.19 k allocations: 573.392 MiB, 7.13% gc time)\n",
      " -------------- Clustering ------- \n",
      "dimension of embedding used for clustering: 55\n",
      "Number of updates: "
     ]
    },
    {
     "name": "stdout",
     "output_type": "stream",
     "text": [
      "8\n",
      "Modularity: 0.3849083577066921\n",
      "Number of communities: 23\n",
      " -------------------------------------------- \n",
      "The first 5 squared singular values divided by N : \n",
      "[0.219913441012827, 0.21276286915648535, 0.1807401885591585, 0.12820146883021427, 0.09872178695703834]\n",
      " -------------------------------------------- \n",
      "  1.683598 seconds (131.05 k allocations: 687.733 MiB, 5.02% gc time)\n",
      "\n",
      "========== d0 step 11/19 ==========\n",
      "\n",
      "  ~~~~~ number_rep = 1/3 ~~~~~\n",
      " ------- Acc Projected Power Iteration -------\n"
     ]
    },
    {
     "name": "stdout",
     "output_type": "stream",
     "text": [
      "The iteration has become stationary after 152 iterations\n",
      "  1.110697 seconds (4.21 k allocations: 629.785 MiB, 8.19% gc time)\n",
      " -------------- Clustering ------- \n",
      "dimension of embedding used for clustering: 60\n",
      "Number of updates: "
     ]
    },
    {
     "name": "stdout",
     "output_type": "stream",
     "text": [
      "8\n",
      "Modularity: 0.38685390988372326\n",
      "Number of communities: 26\n",
      " -------------------------------------------- \n",
      "The first 5 squared singular values divided by N : \n",
      "[0.22021571416339653, 0.21275391676900957, 0.18121086802994119, 0.12861351498019513, 0.09824347791466467]\n",
      " -------------------------------------------- \n",
      "  1.808505 seconds (129.05 k allocations: 746.467 MiB, 6.26% gc time)\n",
      "\n",
      "  ~~~~~ number_rep = 2/3 ~~~~~\n",
      " ------- Acc Projected Power Iteration -------\n"
     ]
    },
    {
     "name": "stdout",
     "output_type": "stream",
     "text": [
      "The iteration has become stationary after 153 iterations\n",
      "  1.118923 seconds (4.24 k allocations: 633.949 MiB, 8.14% gc time)\n",
      " -------------- Clustering ------- \n",
      "dimension of embedding used for clustering: 60\n",
      "Number of updates: "
     ]
    },
    {
     "name": "stdout",
     "output_type": "stream",
     "text": [
      "6\n",
      "Modularity: 0.3855414649282334\n",
      "Number of communities: 26\n",
      " -------------------------------------------- \n",
      "The first 5 squared singular values divided by N : \n",
      "[0.2198745970869291, 0.2124826350326006, 0.18073524183918055, 0.12823225875943792, 0.09867500973011953]\n",
      " -------------------------------------------- \n",
      "  1.707720 seconds (112.55 k allocations: 736.853 MiB, 5.92% gc time)\n",
      "\n",
      "  ~~~~~ number_rep = 3/3 ~~~~~\n",
      " ------- Acc Projected Power Iteration -------\n"
     ]
    },
    {
     "name": "stdout",
     "output_type": "stream",
     "text": [
      "The iteration has become stationary after 152 iterations\n",
      "  1.139915 seconds (4.21 k allocations: 629.785 MiB, 8.08% gc time)\n",
      " -------------- Clustering ------- \n",
      "dimension of embedding used for clustering: 60\n",
      "Number of updates: "
     ]
    },
    {
     "name": "stdout",
     "output_type": "stream",
     "text": [
      "10\n",
      "Modularity: 0.38686873625149076\n",
      "Number of communities: 26\n",
      " -------------------------------------------- \n",
      "The first 5 squared singular values divided by N : \n",
      "[0.22002309455841706, 0.21269388341279133, 0.18108545887436583, 0.1284124444069522, 0.09870181288734771]\n",
      " -------------------------------------------- \n",
      "  1.964535 seconds (143.52 k allocations: 758.662 MiB, 5.81% gc time)\n",
      "\n",
      "========== d0 step 12/19 ==========\n",
      "\n",
      "  ~~~~~ number_rep = 1/3 ~~~~~\n",
      " ------- Acc Projected Power Iteration -------\n"
     ]
    },
    {
     "name": "stdout",
     "output_type": "stream",
     "text": [
      "The iteration has become stationary after 151 iterations\n",
      "  1.300262 seconds (4.19 k allocations: 677.926 MiB, 7.13% gc time)\n",
      " -------------- Clustering ------- \n",
      "dimension of embedding used for clustering: 65\n",
      "Number of updates: "
     ]
    },
    {
     "name": "stdout",
     "output_type": "stream",
     "text": [
      "8\n",
      "Modularity: 0.3862988929363949\n",
      "Number of communities: 24\n",
      " -------------------------------------------- \n",
      "The first 5 squared singular values divided by N : \n",
      "[0.22004122369386223, 0.21265467963275583, 0.1809143306907475, 0.12840629338344828, 0.09856836423111823]\n",
      " -------------------------------------------- \n",
      "  2.220392 seconds (131.12 k allocations: 800.581 MiB, 5.32% gc time)\n",
      "\n",
      "  ~~~~~ number_rep = 2/3 ~~~~~\n",
      " ------- Acc Projected Power Iteration -------\n"
     ]
    },
    {
     "name": "stdout",
     "output_type": "stream",
     "text": [
      "The iteration has become stationary after 149 iterations\n",
      "  1.415922 seconds (4.13 k allocations: 668.900 MiB, 6.95% gc time)\n",
      " -------------- Clustering ------- \n",
      "dimension of embedding used for clustering: 65\n",
      "Number of updates: "
     ]
    },
    {
     "name": "stdout",
     "output_type": "stream",
     "text": [
      "8\n",
      "Modularity: 0.38577155159690096\n",
      "Number of communities: 24\n",
      " -------------------------------------------- \n",
      "The first 5 squared singular values divided by N : \n",
      "[0.22025231046898935, 0.21281405919207294, 0.1810484237051805, 0.1281708525399269, 0.09850244070010988]\n",
      " -------------------------------------------- \n",
      "  2.224068 seconds (131.06 k allocations: 791.391 MiB, 5.53% gc time)\n",
      "\n",
      "  ~~~~~ number_rep = 3/3 ~~~~~\n",
      " ------- Acc Projected Power Iteration -------\n"
     ]
    },
    {
     "name": "stdout",
     "output_type": "stream",
     "text": [
      "The iteration has become stationary after 179 iterations\n",
      "  2.104995 seconds (4.94 k allocations: 804.273 MiB, 9.11% gc time)\n",
      " -------------- Clustering ------- \n",
      "dimension of embedding used for clustering: 65\n",
      "Number of updates: "
     ]
    },
    {
     "name": "stdout",
     "output_type": "stream",
     "text": [
      "7\n",
      "Modularity: 0.386460202312915\n",
      "Number of communities: 23\n",
      " -------------------------------------------- \n",
      "The first 5 squared singular values divided by N : \n",
      "[0.2195561155694607, 0.21270740287704157, 0.18076430031747945, 0.12773029530196767, 0.09953866974645072]\n",
      " -------------------------------------------- \n",
      "  3.027156 seconds (121.55 k allocations: 917.523 MiB, 6.70% gc time)\n",
      "\n",
      "========== d0 step 13/19 ==========\n",
      "\n",
      "  ~~~~~ number_rep = 1/3 ~~~~~\n",
      " ------- Acc Projected Power Iteration -------\n"
     ]
    },
    {
     "name": "stdout",
     "output_type": "stream",
     "text": [
      "The iteration has become stationary after 151 iterations\n",
      "  2.314347 seconds (4.18 k allocations: 730.276 MiB, 7.49% gc time)\n",
      " -------------- Clustering ------- \n",
      "dimension of embedding used for clustering: 70\n",
      "Number of updates: "
     ]
    },
    {
     "name": "stdout",
     "output_type": "stream",
     "text": [
      "9\n",
      "Modularity: 0.38215513841402876\n",
      "Number of communities: 28\n",
      " -------------------------------------------- \n",
      "The first 5 squared singular values divided by N : \n",
      "[0.2201674071941637, 0.21297959090779758, 0.18113989478477246, 0.12812448755888803, 0.098648749154289]\n",
      " -------------------------------------------- \n",
      "  5.143354 seconds (155.98 k allocations: 880.190 MiB, 4.61% gc time)\n",
      "\n",
      "  ~~~~~ number_rep = 2/3 ~~~~~\n"
     ]
    },
    {
     "name": "stdout",
     "output_type": "stream",
     "text": [
      " ------- Acc Projected Power Iteration -------\n"
     ]
    },
    {
     "name": "stdout",
     "output_type": "stream",
     "text": [
      "The iteration has become stationary after 150 iterations\n",
      "  3.559710 seconds (4.16 k allocations: 725.413 MiB, 8.77% gc time)\n"
     ]
    },
    {
     "name": "stdout",
     "output_type": "stream",
     "text": [
      " -------------- Clustering ------- \n",
      "dimension of embedding used for clustering: 70\n",
      "Number of updates: "
     ]
    },
    {
     "name": "stdout",
     "output_type": "stream",
     "text": [
      "8\n",
      "Modularity: 0.383468574023356\n",
      "Number of communities: 31\n",
      " -------------------------------------------- \n",
      "The first 5 squared singular values divided by N : \n",
      "[0.220033089057419, 0.21268832843212354, 0.18112339946493194, 0.1284839288902836, 0.09839895103746803]\n",
      " -------------------------------------------- \n",
      "  6.467057 seconds (131.26 k allocations: 853.011 MiB, 5.10% gc time)\n",
      "\n",
      "  ~~~~~ number_rep = 3/3 ~~~~~\n",
      " ------- Acc Projected Power Iteration -------\n"
     ]
    },
    {
     "name": "stdout",
     "output_type": "stream",
     "text": [
      "The iteration has become stationary after 149 iterations\n",
      "  9.524921 seconds (4.13 k allocations: 720.554 MiB, 3.18% gc time)\n"
     ]
    },
    {
     "name": "stdout",
     "output_type": "stream",
     "text": [
      " -------------- Clustering ------- \n",
      "dimension of embedding used for clustering: 70\n",
      "Number of updates: "
     ]
    },
    {
     "name": "stdout",
     "output_type": "stream",
     "text": [
      "7\n",
      "Modularity: 0.38330099050586625\n",
      "Number of communities: 29\n",
      " -------------------------------------------- \n",
      "The first 5 squared singular values divided by N : \n",
      "[0.2201123766189677, 0.2128891339806903, 0.18103726709116874, 0.1284281213706589, 0.09859756508185832]\n",
      " -------------------------------------------- \n",
      " 14.695826 seconds (137.38 k allocations: 853.822 MiB, 2.72% gc time)\n",
      "\n",
      "========== d0 step 14/19 ==========\n",
      "\n",
      "  ~~~~~ number_rep = 1/3 ~~~~~\n",
      " ------- Acc Projected Power Iteration -------\n"
     ]
    },
    {
     "name": "stdout",
     "output_type": "stream",
     "text": [
      "The iteration has become stationary after 152 iterations\n",
      "  5.904282 seconds (4.21 k allocations: 787.903 MiB, 4.65% gc time)\n"
     ]
    },
    {
     "name": "stdout",
     "output_type": "stream",
     "text": [
      " -------------- Clustering ------- \n",
      "dimension of embedding used for clustering: 75\n",
      "Number of updates: "
     ]
    },
    {
     "name": "stdout",
     "output_type": "stream",
     "text": [
      "8\n",
      "Modularity: 0.3822279284812134\n",
      "Number of communities: 34\n",
      " -------------------------------------------- \n",
      "The first 5 squared singular values divided by N : \n",
      "[0.22002722348238377, 0.21289874599954284, 0.18116201687381422, 0.12811177399280907, 0.09850360193791208]\n",
      " -------------------------------------------- \n",
      "  9.464702 seconds (131.34 k allocations: 921.114 MiB, 3.27% gc time)\n",
      "\n",
      "  ~~~~~ number_rep = 2/3 ~~~~~\n",
      " ------- Acc Projected Power Iteration -------\n"
     ]
    },
    {
     "name": "stdout",
     "output_type": "stream",
     "text": [
      "The iteration has become stationary after 150 iterations\n",
      "  1.428648 seconds (4.16 k allocations: 777.483 MiB, 7.82% gc time)\n",
      " -------------- Clustering ------- \n",
      "dimension of embedding used for clustering: 75\n",
      "Number of updates: "
     ]
    },
    {
     "name": "stdout",
     "output_type": "stream",
     "text": [
      "10\n",
      "Modularity: 0.3833255771129169\n",
      "Number of communities: 29\n",
      " -------------------------------------------- \n",
      "The first 5 squared singular values divided by N : \n",
      "[0.2201516150351747, 0.21263056849906078, 0.1813097207585516, 0.1281752773076262, 0.09839735258546446]\n",
      " -------------------------------------------- \n",
      "  2.639848 seconds (166.37 k allocations: 943.630 MiB, 5.23% gc time)\n",
      "\n",
      "  ~~~~~ number_rep = 3/3 ~~~~~\n",
      " ------- Acc Projected Power Iteration -------\n"
     ]
    },
    {
     "name": "stdout",
     "output_type": "stream",
     "text": [
      "The iteration has become stationary after 149 iterations\n",
      "  1.706566 seconds (4.13 k allocations: 772.273 MiB, 6.94% gc time)\n",
      " -------------- Clustering ------- \n",
      "dimension of embedding used for clustering: 75\n",
      "Number of updates: "
     ]
    },
    {
     "name": "stdout",
     "output_type": "stream",
     "text": [
      "7\n",
      "Modularity: 0.3822878818482531\n",
      "Number of communities: 31\n",
      " -------------------------------------------- \n",
      "The first 5 squared singular values divided by N : \n",
      "[0.22017415559002665, 0.21271195809320562, 0.18106768620361124, 0.1284521929099342, 0.09850652312167282]\n",
      " -------------------------------------------- \n",
      "  2.492674 seconds (118.78 k allocations: 893.398 MiB, 5.78% gc time)\n",
      "\n",
      "========== d0 step 15/19 ==========\n",
      "\n",
      "  ~~~~~ number_rep = 1/3 ~~~~~\n",
      " ------- Acc Projected Power Iteration -------\n"
     ]
    },
    {
     "name": "stdout",
     "output_type": "stream",
     "text": [
      "The iteration has become stationary after 151 iterations\n",
      "  1.499963 seconds (4.18 k allocations: 835.147 MiB, 8.00% gc time)\n",
      " -------------- Clustering ------- \n",
      "dimension of embedding used for clustering: 80\n",
      "Number of updates: "
     ]
    },
    {
     "name": "stdout",
     "output_type": "stream",
     "text": [
      "8\n",
      "Modularity: 0.3838595060914301\n",
      "Number of communities: 34\n",
      " -------------------------------------------- \n",
      "The first 5 squared singular values divided by N : \n",
      "[0.22023163663303516, 0.21283371826740904, 0.1810221736680898, 0.12816528060194005, 0.09849451542875515]\n",
      " -------------------------------------------- \n",
      "  2.406656 seconds (131.33 k allocations: 970.373 MiB, 6.12% gc time)\n",
      "\n",
      "  ~~~~~ number_rep = 2/3 ~~~~~\n",
      " ------- Acc Projected Power Iteration -------\n"
     ]
    },
    {
     "name": "stdout",
     "output_type": "stream",
     "text": [
      "The iteration has become stationary after 151 iterations\n",
      "  1.470377 seconds (4.18 k allocations: 835.147 MiB, 9.34% gc time)\n",
      " -------------- Clustering ------- \n",
      "dimension of embedding used for clustering: 80\n",
      "Number of updates: "
     ]
    },
    {
     "name": "stdout",
     "output_type": "stream",
     "text": [
      "8\n",
      "Modularity: 0.38414865997265013\n",
      "Number of communities: 31\n",
      " -------------------------------------------- \n",
      "The first 5 squared singular values divided by N : \n",
      "[0.2200398290843922, 0.2127720286689816, 0.18111757862650787, 0.12843784576379186, 0.09842294248046339]\n",
      " -------------------------------------------- \n",
      "  2.550364 seconds (156.11 k allocations: 994.076 MiB, 6.38% gc time)\n",
      "\n",
      "  ~~~~~ number_rep = 3/3 ~~~~~\n",
      " ------- Acc Projected Power Iteration -------\n"
     ]
    },
    {
     "name": "stdout",
     "output_type": "stream",
     "text": [
      "The iteration has become stationary after 149 iterations\n",
      "  1.563247 seconds (4.13 k allocations: 824.028 MiB, 8.13% gc time)\n",
      " -------------- Clustering ------- \n",
      "dimension of embedding used for clustering: 80\n",
      "Number of updates: "
     ]
    },
    {
     "name": "stdout",
     "output_type": "stream",
     "text": [
      "8\n",
      "Modularity: 0.3805572513942283\n",
      "Number of communities: 31\n",
      " -------------------------------------------- \n",
      "The first 5 squared singular values divided by N : \n",
      "[0.22023134830419108, 0.21268278439838592, 0.1809306151734959, 0.12844542703289033, 0.09843821672537509]\n",
      " -------------------------------------------- \n",
      "  2.838461 seconds (147.84 k allocations: 975.762 MiB, 6.09% gc time)\n",
      "\n",
      "========== d0 step 16/19 ==========\n",
      "\n",
      "  ~~~~~ number_rep = 1/3 ~~~~~\n",
      " ------- Acc Projected Power Iteration -------\n"
     ]
    },
    {
     "name": "stdout",
     "output_type": "stream",
     "text": [
      "The iteration has become stationary after 150 iterations\n",
      "  2.177641 seconds (4.16 k allocations: 881.776 MiB, 8.18% gc time)\n",
      " -------------- Clustering ------- \n",
      "dimension of embedding used for clustering: 85\n",
      "Number of updates: "
     ]
    },
    {
     "name": "stdout",
     "output_type": "stream",
     "text": [
      "7\n",
      "Modularity: 0.3799370770122338\n",
      "Number of communities: 36\n",
      " -------------------------------------------- \n",
      "The first 5 squared singular values divided by N : \n",
      "[0.22016653276682768, 0.212671408903451, 0.1810060169090592, 0.1285175524495279, 0.09828116947623951]\n",
      " -------------------------------------------- \n",
      "  3.454292 seconds (129.25 k allocations: 1021.504 MiB, 6.03% gc time)\n",
      "\n",
      "  ~~~~~ number_rep = 2/3 ~~~~~\n",
      " ------- Acc Projected Power Iteration -------\n"
     ]
    },
    {
     "name": "stdout",
     "output_type": "stream",
     "text": [
      "The iteration has become stationary after 152 iterations\n",
      "  2.397821 seconds (4.21 k allocations: 893.595 MiB, 7.06% gc time)\n",
      " -------------- Clustering ------- \n",
      "dimension of embedding used for clustering: 85\n",
      "Number of updates: "
     ]
    },
    {
     "name": "stdout",
     "output_type": "stream",
     "text": [
      "8\n",
      "Modularity: 0.38226747939517347\n",
      "Number of communities: 33\n",
      " -------------------------------------------- \n",
      "The first 5 squared singular values divided by N : \n",
      "[0.22003049521453702, 0.21278440377940172, 0.1810730426199184, 0.1282085782293334, 0.09857212742277226]\n",
      " -------------------------------------------- \n",
      "  3.353388 seconds (131.45 k allocations: 1.012 GiB, 5.87% gc time)\n",
      "\n",
      "  ~~~~~ number_rep = 3/3 ~~~~~\n",
      " ------- Acc Projected Power Iteration -------\n"
     ]
    },
    {
     "name": "stdout",
     "output_type": "stream",
     "text": [
      "The iteration has become stationary after 151 iterations\n",
      "  1.658720 seconds (4.18 k allocations: 887.685 MiB, 8.44% gc time)\n",
      " -------------- Clustering ------- \n",
      "dimension of embedding used for clustering: 85\n",
      "Number of updates: "
     ]
    },
    {
     "name": "stdout",
     "output_type": "stream",
     "text": [
      "11\n",
      "Modularity: 0.3834659657195818\n",
      "Number of communities: 35\n",
      " -------------------------------------------- \n",
      "The first 5 squared singular values divided by N : \n",
      "[0.22010733506044142, 0.21281113608162058, 0.18109365349065754, 0.12843983095261935, 0.09845278286674676]\n",
      " -------------------------------------------- \n",
      "  2.973566 seconds (179.04 k allocations: 1.052 GiB, 5.59% gc time)\n",
      "\n",
      "========== d0 step 17/19 ==========\n",
      "\n",
      "  ~~~~~ number_rep = 1/3 ~~~~~\n",
      " ------- Acc Projected Power Iteration -------\n"
     ]
    },
    {
     "name": "stdout",
     "output_type": "stream",
     "text": [
      "The iteration has become stationary after 150 iterations\n",
      "  1.754546 seconds (4.16 k allocations: 933.999 MiB, 8.55% gc time)\n",
      " -------------- Clustering ------- \n",
      "dimension of embedding used for clustering: 90\n",
      "Number of updates: "
     ]
    },
    {
     "name": "stdout",
     "output_type": "stream",
     "text": [
      "12\n",
      "Modularity: 0.3819576806223821\n",
      "Number of communities: 32\n",
      " -------------------------------------------- \n",
      "The first 5 squared singular values divided by N : \n",
      "[0.22006188342919106, 0.21272092899345169, 0.18101099173454266, 0.12822376100776092, 0.09865615555030821]\n",
      " -------------------------------------------- \n",
      "  3.423354 seconds (185.28 k allocations: 1.106 GiB, 5.64% gc time)\n",
      "\n",
      "  ~~~~~ number_rep = 2/3 ~~~~~\n",
      " ------- Acc Projected Power Iteration -------\n"
     ]
    },
    {
     "name": "stdout",
     "output_type": "stream",
     "text": [
      "The iteration has become stationary after 152 iterations\n",
      "  2.186367 seconds (4.21 k allocations: 946.516 MiB, 7.77% gc time)\n",
      " -------------- Clustering ------- \n",
      "dimension of embedding used for clustering: 90\n",
      "Number of updates: "
     ]
    },
    {
     "name": "stdout",
     "output_type": "stream",
     "text": [
      "12\n",
      "Modularity: 0.37956635511843545\n",
      "Number of communities: 38\n",
      " -------------------------------------------- \n",
      "The first 5 squared singular values divided by N : \n",
      "[0.220183224152002, 0.21276100642415008, 0.18104101500076056, 0.12798161216956405, 0.09887718855614212]\n",
      " -------------------------------------------- \n",
      "  4.017287 seconds (170.79 k allocations: 1.104 GiB, 5.10% gc time)\n",
      "\n",
      "  ~~~~~ number_rep = 3/3 ~~~~~\n",
      " ------- Acc Projected Power Iteration -------\n"
     ]
    },
    {
     "name": "stdout",
     "output_type": "stream",
     "text": [
      "The iteration has become stationary after 151 iterations\n",
      "  1.823873 seconds (4.19 k allocations: 940.258 MiB, 8.45% gc time)\n",
      " -------------- Clustering ------- \n",
      "dimension of embedding used for clustering: 90\n",
      "Number of updates: "
     ]
    },
    {
     "name": "stdout",
     "output_type": "stream",
     "text": [
      "9\n",
      "Modularity: 0.3780685826558383\n",
      "Number of communities: 35\n",
      " -------------------------------------------- \n",
      "The first 5 squared singular values divided by N : \n",
      "[0.22015713296409162, 0.21286543783126605, 0.18119401210955244, 0.1282705399038513, 0.09855489270948375]\n",
      " -------------------------------------------- \n",
      "  3.133269 seconds (143.83 k allocations: 1.070 GiB, 6.09% gc time)\n",
      "\n",
      "========== d0 step 18/19 ==========\n",
      "\n",
      "  ~~~~~ number_rep = 1/3 ~~~~~\n",
      " ------- Acc Projected Power Iteration -------\n"
     ]
    },
    {
     "name": "stdout",
     "output_type": "stream",
     "text": [
      "The iteration has become stationary after 151 iterations\n",
      "  2.407486 seconds (4.18 k allocations: 992.906 MiB, 8.41% gc time)\n",
      " -------------- Clustering ------- \n",
      "dimension of embedding used for clustering: 95\n",
      "Number of updates: "
     ]
    },
    {
     "name": "stdout",
     "output_type": "stream",
     "text": [
      "9\n",
      "Modularity: 0.3787071113036537\n",
      "Number of communities: 39\n",
      " -------------------------------------------- \n",
      "The first 5 squared singular values divided by N : \n",
      "[0.2201293616384801, 0.21280782603512818, 0.18106634546524963, 0.12837654555454955, 0.0985003321031127]\n",
      " -------------------------------------------- \n",
      "  4.112520 seconds (154.34 k allocations: 1.141 GiB, 5.72% gc time)\n",
      "\n",
      "  ~~~~~ number_rep = 2/3 ~~~~~\n",
      " ------- Acc Projected Power Iteration -------\n"
     ]
    },
    {
     "name": "stdout",
     "output_type": "stream",
     "text": [
      "The iteration has become stationary after 149 iterations\n",
      "  2.634175 seconds (4.13 k allocations: 979.687 MiB, 13.02% gc time)\n",
      " -------------- Clustering ------- \n",
      "dimension of embedding used for clustering: 95\n",
      "Number of updates: "
     ]
    },
    {
     "name": "stdout",
     "output_type": "stream",
     "text": [
      "12\n",
      "Modularity: 0.37897481773829483\n",
      "Number of communities: 40\n",
      " -------------------------------------------- \n",
      "The first 5 squared singular values divided by N : \n",
      "[0.22019397270990623, 0.2127975045106, 0.1810800670081729, 0.1283802056746437, 0.09855999095011696]\n",
      " -------------------------------------------- \n",
      "  4.507065 seconds (181.28 k allocations: 1.156 GiB, 8.62% gc time)\n",
      "\n",
      "  ~~~~~ number_rep = 3/3 ~~~~~\n",
      " ------- Acc Projected Power Iteration -------\n"
     ]
    },
    {
     "name": "stdout",
     "output_type": "stream",
     "text": [
      "The iteration has become stationary after 149 iterations\n",
      "  2.731329 seconds (4.13 k allocations: 979.687 MiB, 7.63% gc time)\n",
      " -------------- Clustering ------- \n",
      "dimension of embedding used for clustering: 95\n",
      "Number of updates: "
     ]
    },
    {
     "name": "stdout",
     "output_type": "stream",
     "text": [
      "8\n",
      "Modularity: 0.38039816576387453\n",
      "Number of communities: 39\n",
      " -------------------------------------------- \n",
      "The first 5 squared singular values divided by N : \n",
      "[0.22017296097118894, 0.2128148069860946, 0.18122946421325956, 0.12819036834952763, 0.09876590705457397]\n",
      " -------------------------------------------- \n",
      "  4.158660 seconds (131.45 k allocations: 1.103 GiB, 6.02% gc time)\n",
      "\n",
      "========== d0 step 19/19 ==========\n",
      "\n",
      "  ~~~~~ number_rep = 1/3 ~~~~~\n",
      " ------- Acc Projected Power Iteration -------\n"
     ]
    },
    {
     "name": "stdout",
     "output_type": "stream",
     "text": [
      "The iteration has become stationary after 151 iterations\n",
      "  2.088066 seconds (4.19 k allocations: 1.021 GiB, 7.86% gc time)\n",
      " -------------- Clustering ------- \n",
      "dimension of embedding used for clustering: 100\n",
      "Number of updates: "
     ]
    },
    {
     "name": "stdout",
     "output_type": "stream",
     "text": [
      "12\n",
      "Modularity: 0.376313085536505\n",
      "Number of communities: 45\n",
      " -------------------------------------------- \n",
      "The first 5 squared singular values divided by N : \n",
      "[0.22019705978813295, 0.21279956806895858, 0.18096413281022689, 0.12822646436159224, 0.09869710045598336]\n",
      " -------------------------------------------- \n",
      "  3.898191 seconds (187.60 k allocations: 1.229 GiB, 5.58% gc time)\n",
      "\n",
      "  ~~~~~ number_rep = 2/3 ~~~~~\n",
      " ------- Acc Projected Power Iteration -------\n"
     ]
    },
    {
     "name": "stdout",
     "output_type": "stream",
     "text": [
      "The iteration has become stationary after 151 iterations\n",
      "  1.859213 seconds (4.18 k allocations: 1.021 GiB, 8.49% gc time)\n",
      " -------------- Clustering ------- \n",
      "dimension of embedding used for clustering: 100\n",
      "Number of updates: "
     ]
    },
    {
     "name": "stdout",
     "output_type": "stream",
     "text": [
      "11\n",
      "Modularity: 0.3727082508816046\n",
      "Number of communities: 38\n",
      " -------------------------------------------- \n",
      "The first 5 squared singular values divided by N : \n",
      "[0.2200130870990082, 0.2127898396756949, 0.18094787746335483, 0.12832209841840506, 0.09861621413166984]\n",
      " -------------------------------------------- \n",
      "  3.316777 seconds (162.69 k allocations: 1.202 GiB, 5.74% gc time)\n",
      "\n",
      "  ~~~~~ number_rep = 3/3 ~~~~~\n",
      " ------- Acc Projected Power Iteration -------\n"
     ]
    },
    {
     "name": "stdout",
     "output_type": "stream",
     "text": [
      "The iteration has become stationary after 152 iterations\n",
      "  1.854291 seconds (4.21 k allocations: 1.028 GiB, 10.18% gc time)\n",
      " -------------- Clustering ------- \n",
      "dimension of embedding used for clustering: 100\n",
      "Number of updates: "
     ]
    },
    {
     "name": "stdout",
     "output_type": "stream",
     "text": [
      "9\n",
      "Modularity: 0.3750303978159001\n",
      "Number of communities: 41\n",
      " -------------------------------------------- \n",
      "The first 5 squared singular values divided by N : \n",
      "[0.2199184264166367, 0.21284547011820226, 0.1811566431732516, 0.12822753183630642, 0.09845790294636877]\n",
      " -------------------------------------------- \n",
      "  3.363548 seconds (181.43 k allocations: 1.230 GiB, 6.39% gc time)\n"
     ]
    }
   ],
   "source": [
    "g = 4\n",
    "\n",
    "# Set parameters of simulations\n",
    "n_clusters = 100\n",
    "d0s = 10:5:100\n",
    "\n",
    "n_updates = 100 # max total by default\n",
    "shape = \"Ellipsoidal\" #shape = \"Spherical\"\n",
    "\n",
    "n_rep = 3\n",
    "NMIs=zeros(Float64,length(d0s),n_rep)\n",
    "\n",
    "# load communities\n",
    "community_true = readdlm(path*\"communities\"*string(g-1)*\".txt\",Int)\n",
    "\n",
    "# load graph\n",
    "edgeList = readdlm(path*\"edgeList\"*string(g-1)*\".txt\",Int)\n",
    "\n",
    "n_nodes = size(community_true)[1]\n",
    "n_edges = size(edgeList)[1]\n",
    "\n",
    "# construct sparse adjacency matrix from list of edges\n",
    "adj = sparse(edgeList[:,1].+1,edgeList[:,2].+1,vec(ones(Int64,n_edges,1)),n_nodes,n_nodes)\n",
    "adj = adj+adj' # only the upper triangular part of adjacency matrix was stored\n",
    "\n",
    "# keep only the largest connected component\n",
    "adj,vertices = largest_component(adj);\n",
    "\n",
    "community_true = community_true[vertices]\n",
    "community_true = rename_com_unique(community_true)\n",
    "\n",
    "# load parameters\n",
    "LFR_parameters = readdlm(path*\"parameters\"*string(g-1)*\".txt\")\n",
    "mu = parse(Float64, split(LFR_parameters[4],\"=\")[2]) # extract mixing marameter (not very robust)\n",
    "print(\"mu=$mu\")\n",
    "\n",
    "for i=1:length(d0s)\n",
    "    println(\"\\n========== d0 step $i/$(length(d0s)) ==========\")\n",
    "    d0=d0s[i]\n",
    "    for j=1:n_rep\n",
    "        println(\"\\n  ~~~~~ number_rep = $j/$(n_rep) ~~~~~\")\n",
    "        \n",
    "        _,community,_ = @time sphere_embed_cluster(adj, d0,shape, n_clusters)\n",
    "\n",
    "        NMIs[i,j] = mutualinfo(community_true,community)\n",
    "    end\n",
    "end\n"
   ]
  },
  {
   "cell_type": "code",
   "execution_count": 5,
   "metadata": {},
   "outputs": [],
   "source": [
    "# Plot Normalized mutual information vs d0\n",
    "m = mean(NMIs,dims=2)\n",
    "s = std(NMIs,dims=2)\n",
    "plot(d0s, m, yerror = s,\n",
    "markerstrokecolor=:auto,\n",
    "xlabel = L\"$d_0$\",\n",
    "ylabel = \"Normalized mutual information\",\n",
    "legend = false)\n",
    "\n",
    "savefig(\"figures/nmi_vs_d0__mu\"*string(mu)*\".pdf\")\n",
    "plot!()\n"
   ]
  },
  {
   "cell_type": "markdown",
   "metadata": {},
   "source": [
    "### Test impact of n_clusters"
   ]
  },
  {
   "cell_type": "code",
   "execution_count": null,
   "metadata": {},
   "outputs": [],
   "source": [
    "g = 4\n",
    "\n",
    "# Set parameters of simulations\n",
    "n_clusters_list = 10:10:100\n",
    "d0 = 30;\n",
    "shape = \"Ellipsoidal\"; #shape = \"Spherical\"\n",
    "\n",
    "n_rep = 3;\n",
    "NMIs=zeros(Float64,length(n_clusters_list),n_rep)\n",
    "\n",
    "# load communities\n",
    "community_true = readdlm(path*\"communities\"*string(g-1)*\".txt\",Int)\n",
    "\n",
    "# load graph\n",
    "edgeList = readdlm(path*\"edgeList\"*string(g-1)*\".txt\",Int)\n",
    "\n",
    "n_nodes = size(community_true)[1]\n",
    "n_edges = size(edgeList)[1]\n",
    "\n",
    "# construct sparse adjacency matrix from list of edges\n",
    "adj = sparse(edgeList[:,1].+1,edgeList[:,2].+1,vec(ones(Int64,n_edges,1)),n_nodes,n_nodes)\n",
    "adj = adj+adj' # only the upper triangular part of adjacency matrix was stored\n",
    "\n",
    "# keep only the largest connected component\n",
    "adj,vertices = largest_component(adj);\n",
    "\n",
    "community_true = community_true[vertices]\n",
    "community_true = rename_com_unique(community_true)\n",
    "\n",
    "# load parameters\n",
    "LFR_parameters = readdlm(path*\"parameters\"*string(g-1)*\".txt\")\n",
    "mu = parse(Float64, split(LFR_parameters[4],\"=\")[2]) # extract mixing marameter (not very robust)\n",
    "print(\"mu=$mu\")\n",
    "\n",
    "for i=1:length(n_clusters_list)\n",
    "    println(\"\\n========== n_clusters step $i/$(length(n_clusters_list)) ==========\")\n",
    "    n_clusters = n_clusters_list[i]\n",
    "    for j=1:n_rep\n",
    "        println(\"\\n  ~~~~~ number_rep = $j/$(n_rep) ~~~~~\")\n",
    "\n",
    "        # embed cluster\n",
    "        _,community,_ = @time sphere_embed_cluster(adj, d0,shape, n_clusters)\n",
    "\n",
    "        NMIs[i,j] = mutualinfo(community_true,community);\n",
    "    end\n",
    "end\n",
    "\n",
    "\n"
   ]
  },
  {
   "cell_type": "code",
   "execution_count": null,
   "metadata": {},
   "outputs": [],
   "source": [
    "# Plot Normalized mutual information vs d0\n",
    "m = mean(NMIs,dims=2);\n",
    "s = std(NMIs,dims=2);\n",
    "pyplot()\n",
    "plot(n_clusters_list, m, yerror = s,\n",
    "markerstrokecolor=:auto,\n",
    "xlabel = L\"k\",\n",
    "ylabel = \"Normalized mutual information\",\n",
    "legend = false)\n",
    "\n",
    "savefig(\"figures/nmi_vs_nclusters__mu\"*string(mu)*\".pdf\")\n",
    "plot!()"
   ]
  },
  {
   "cell_type": "code",
   "execution_count": null,
   "metadata": {},
   "outputs": [],
   "source": []
  }
 ],
 "metadata": {
  "kernelspec": {
   "display_name": "Julia 1.6.7",
   "language": "julia",
   "name": "julia-1.6"
  },
  "language_info": {
   "file_extension": ".jl",
   "mimetype": "application/julia",
   "name": "julia",
   "version": "1.6.7"
  }
 },
 "nbformat": 4,
 "nbformat_minor": 2
}
