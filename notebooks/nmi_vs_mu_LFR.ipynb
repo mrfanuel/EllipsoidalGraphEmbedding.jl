{
 "cells": [
  {
   "cell_type": "code",
   "execution_count": 1,
   "metadata": {},
   "outputs": [],
   "source": [
    "using MatrixNetworks\n",
    "using Distributions\n",
    "using Clustering\n",
    "using NPZ\n",
    "using BenchmarkTools, Compat\n",
    "using DelimitedFiles\n",
    "using SparseArrays\n",
    "using Printf\n",
    "using LinearAlgebra\n",
    "using Plots\n",
    "using SphericalGraphEmbedding"
   ]
  },
  {
   "cell_type": "markdown",
   "metadata": {},
   "source": [
    "### Compute NMI between retreived and true community "
   ]
  },
  {
   "cell_type": "code",
   "execution_count": 2,
   "metadata": {
    "scrolled": true
   },
   "outputs": [
    {
     "name": "stdout",
     "output_type": "stream",
     "text": [
      "\n",
      "========== Graph 1/10, mu=0.1, number_rep = 1 ==========\n"
     ]
    },
    {
     "name": "stdout",
     "output_type": "stream",
     "text": [
      " ------- Acc Projected Power Iteration -------\n"
     ]
    },
    {
     "name": "stdout",
     "output_type": "stream",
     "text": [
      "The iteration has become stationary after 517 iterations\n",
      "  1.793271 seconds (36.00 k allocations: 720.398 MiB, 9.54% gc time, 2.97% compilation time)\n",
      " -------------- Clustering ------- \n",
      "dimension of embedding used for clustering: 20\n",
      "Number of updates: "
     ]
    },
    {
     "name": "stdout",
     "output_type": "stream",
     "text": [
      "3\n",
      "Number of communities: 17\n",
      "Modularity: "
     ]
    },
    {
     "name": "stdout",
     "output_type": "stream",
     "text": [
      "0.8287447036564772\n",
      " -------------------------------------------- \n",
      "The first 5 squared singular values divided by N : \n"
     ]
    },
    {
     "name": "stdout",
     "output_type": "stream",
     "text": [
      "[0.4230688993781295, 0.2489997690269774, 0.16403341224188142, 0.10049994592573039, 0.06336326181843822]\n",
      " -------------------------------------------- \n",
      "  3.120405 seconds (716.18 k allocations: 796.232 MiB, 6.30% gc time, 9.68% compilation time)\n"
     ]
    },
    {
     "name": "stdout",
     "output_type": "stream",
     "text": [
      "\n",
      "========== Graph 1/10, mu=0.1, number_rep = 2 ==========\n",
      " ------- Acc Projected Power Iteration -------\n"
     ]
    },
    {
     "name": "stdout",
     "output_type": "stream",
     "text": [
      "The iteration has become stationary after 373 iterations\n",
      "  0.802723 seconds (9.80 k allocations: 518.547 MiB, 11.81% gc time)\n",
      " -------------- Clustering ------- \n",
      "dimension of embedding used for clustering: 20\n",
      "Number of updates: "
     ]
    },
    {
     "name": "stdout",
     "output_type": "stream",
     "text": [
      "3\n",
      "Number of communities: 16\n",
      "Modularity: 0.8234106692689153\n",
      " -------------------------------------------- \n",
      "The first 5 squared singular values divided by N : \n",
      "[0.4237854616793213, 0.24904212415020405, 0.1638467938298065, 0.10140597309389851, 0.06178177113054969]\n",
      " -------------------------------------------- \n",
      "  0.914279 seconds (130.53 k allocations: 560.327 MiB, 12.80% gc time)\n",
      "\n",
      "========== Graph 1/10, mu=0.1, number_rep = 3 ==========\n",
      " ------- Acc Projected Power Iteration -------\n"
     ]
    },
    {
     "name": "stdout",
     "output_type": "stream",
     "text": [
      "The iteration has become stationary after 399 iterations\n",
      "  1.076443 seconds (10.48 k allocations: 554.766 MiB, 11.45% gc time)\n",
      " -------------- Clustering ------- \n",
      "dimension of embedding used for clustering: 20\n",
      "Number of updates: 2\n",
      "Number of communities: 16\n",
      "Modularity: 0.8236599304160744\n",
      " -------------------------------------------- \n",
      "The first 5 squared singular values divided by N : \n",
      "[0.42318624810991967, 0.2489963563312048, 0.165463103275868, 0.09994453568699495, 0.062170887252164325]\n",
      " -------------------------------------------- \n",
      "  1.128774 seconds (91.71 k allocations: 582.752 MiB, 10.92% gc time)\n",
      "\n",
      "========== Graph 2/10, mu=0.2, number_rep = 1 ==========\n",
      " ------- Acc Projected Power Iteration -------\n"
     ]
    },
    {
     "name": "stdout",
     "output_type": "stream",
     "text": [
      "The iteration has become stationary after 203 iterations\n",
      "  0.486036 seconds (5.39 k allocations: 281.746 MiB, 18.43% gc time)\n",
      " -------------- Clustering ------- \n",
      "dimension of embedding used for clustering: 20\n",
      "Number of updates: 3\n",
      "Number of communities: 17\n",
      "Modularity: 0.7357470348719477\n",
      " -------------------------------------------- \n",
      "The first 5 squared singular values divided by N : \n",
      "[0.344531235939488, 0.29933975801835794, 0.19407955372077756, 0.10191561457831252, 0.04249085889690751]\n",
      " -------------------------------------------- \n",
      "  0.564096 seconds (126.07 k allocations: 323.501 MiB, 15.88% gc time)\n",
      "\n",
      "========== Graph 2/10, mu=0.2, number_rep = 2 ==========\n",
      " ------- Acc Projected Power Iteration -------\n"
     ]
    },
    {
     "name": "stdout",
     "output_type": "stream",
     "text": [
      "The iteration has become stationary after 367 iterations\n",
      "  1.017536 seconds (9.65 k allocations: 510.192 MiB, 8.74% gc time)\n",
      " -------------- Clustering ------- \n",
      "dimension of embedding used for clustering: 20\n",
      "Number of updates: "
     ]
    },
    {
     "name": "stdout",
     "output_type": "stream",
     "text": [
      "4\n",
      "Number of communities: 18\n",
      "Modularity: 0.7335091351214754\n",
      " -------------------------------------------- \n",
      "The first 5 squared singular values divided by N : \n",
      "[0.34461576921659365, 0.2993474521476256, 0.19242408942268377, 0.10518901413865409, 0.04071193137548033]\n",
      " -------------------------------------------- \n",
      "  1.132070 seconds (122.10 k allocations: 549.163 MiB, 9.32% gc time)\n",
      "\n",
      "========== Graph 2/10, mu=0.2, number_rep = 3 ==========\n",
      " ------- Acc Projected Power Iteration -------\n"
     ]
    },
    {
     "name": "stdout",
     "output_type": "stream",
     "text": [
      "The iteration has become stationary after 304 iterations\n",
      "  0.695771 seconds (8.01 k allocations: 422.435 MiB, 12.04% gc time)\n",
      " -------------- Clustering ------- \n",
      "dimension of embedding used for clustering: 20\n",
      "Number of updates: 2\n",
      "Number of communities: 18\n",
      "Modularity: 0.7406457427170898\n",
      " -------------------------------------------- \n",
      "The first 5 squared singular values divided by N : \n",
      "[0.34544168423102195, 0.29947774864429433, 0.19261755125203117, 0.10450770566601433, 0.03924577744531237]\n",
      " -------------------------------------------- \n",
      "  0.762467 seconds (101.72 k allocations: 454.762 MiB, 10.99% gc time)\n",
      "\n",
      "========== Graph 3/10, mu=0.3, number_rep = 1 ==========\n",
      " ------- Acc Projected Power Iteration -------\n"
     ]
    },
    {
     "name": "stdout",
     "output_type": "stream",
     "text": [
      "The iteration has become stationary after 500 iterations\n",
      "  1.159880 seconds (13.11 k allocations: 695.455 MiB, 11.38% gc time)\n",
      " -------------- Clustering ------- \n",
      "dimension of embedding used for clustering: 20\n",
      "Number of updates: "
     ]
    },
    {
     "name": "stdout",
     "output_type": "stream",
     "text": [
      "3\n",
      "Number of communities: 15\n",
      "Modularity: 0.6313322222611214\n",
      " -------------------------------------------- \n",
      "The first 5 squared singular values divided by N : \n",
      "[0.23768350341620365, 0.20411194527830204, 0.16204647447135265, 0.13667247157255266, 0.10757978455775684]\n",
      " -------------------------------------------- \n",
      "  1.273876 seconds (140.08 k allocations: 739.233 MiB, 11.38% gc time)\n",
      "\n",
      "========== Graph 3/10, mu=0.3, number_rep = 2 ==========\n",
      " ------- Acc Projected Power Iteration -------\n"
     ]
    },
    {
     "name": "stdout",
     "output_type": "stream",
     "text": [
      "The iteration has become stationary after 340 iterations\n",
      "  0.766376 seconds (8.95 k allocations: 472.581 MiB, 10.84% gc time)\n",
      " -------------- Clustering ------- \n",
      "dimension of embedding used for clustering: 20\n",
      "Number of updates: "
     ]
    },
    {
     "name": "stdout",
     "output_type": "stream",
     "text": [
      "3\n",
      "Number of communities: 16\n",
      "Modularity: 0.6355402723915025\n",
      " -------------------------------------------- \n",
      "The first 5 squared singular values divided by N : \n",
      "[0.23742844616370434, 0.20424986604972328, 0.161154097877317, 0.13640864909796355, 0.10708325288619962]\n",
      " -------------------------------------------- \n",
      "  0.890322 seconds (125.53 k allocations: 512.777 MiB, 9.33% gc time)\n",
      "\n",
      "========== Graph 3/10, mu=0.3, number_rep = 3 ==========\n",
      " ------- Acc Projected Power Iteration -------\n"
     ]
    },
    {
     "name": "stdout",
     "output_type": "stream",
     "text": [
      "The iteration has become stationary after 333 iterations\n",
      "  0.696387 seconds (8.77 k allocations: 462.830 MiB, 11.36% gc time)\n",
      " -------------- Clustering ------- \n",
      "dimension of embedding used for clustering: 20\n",
      "Number of updates: 3\n",
      "Number of communities: 18\n",
      "Modularity: 0.6333990985549097\n",
      " -------------------------------------------- \n",
      "The first 5 squared singular values divided by N : \n",
      "[0.23735575142261423, 0.20409086065256682, 0.1617343607581359, 0.13664866178053878, 0.10734973435567995]\n",
      " -------------------------------------------- \n",
      "  0.777704 seconds (125.31 k allocations: 503.002 MiB, 10.18% gc time)\n",
      "\n",
      "========== Graph 4/10, mu=0.4, number_rep = 1 ==========\n",
      " ------- Acc Projected Power Iteration -------\n"
     ]
    },
    {
     "name": "stdout",
     "output_type": "stream",
     "text": [
      "The iteration has become stationary after 350 iterations\n",
      "  0.771900 seconds (9.21 k allocations: 486.511 MiB, 12.26% gc time)\n",
      " -------------- Clustering ------- \n",
      "dimension of embedding used for clustering: 20\n",
      "Number of updates: "
     ]
    },
    {
     "name": "stdout",
     "output_type": "stream",
     "text": [
      "4\n",
      "Number of communities: 16\n",
      "Modularity: 0.5426656695481075\n",
      " -------------------------------------------- \n",
      "The first 5 squared singular values divided by N : \n",
      "[0.24728098680962646, 0.20761063668974292, 0.17379129771424043, 0.1303045565856567, 0.110394512319333]\n",
      " -------------------------------------------- \n",
      "  0.932598 seconds (163.17 k allocations: 539.922 MiB, 11.84% gc time)\n",
      "\n",
      "========== Graph 4/10, mu=0.4, number_rep = 2 ==========\n",
      " ------- Acc Projected Power Iteration -------\n"
     ]
    },
    {
     "name": "stdout",
     "output_type": "stream",
     "text": [
      "The iteration has become stationary after 206 iterations\n",
      "  0.468942 seconds (5.46 k allocations: 285.925 MiB, 10.16% gc time)\n",
      " -------------- Clustering ------- \n",
      "dimension of embedding used for clustering: 20\n",
      "Number of updates: "
     ]
    },
    {
     "name": "stdout",
     "output_type": "stream",
     "text": [
      "4\n",
      "Number of communities: 13\n",
      "Modularity: 0.5256351281305557\n",
      " -------------------------------------------- \n",
      "The first 5 squared singular values divided by N : \n",
      "[0.24714319954489927, 0.20772441276721945, 0.17427048247577517, 0.1298501517523806, 0.11087369876463585]\n",
      " -------------------------------------------- \n",
      "  0.582222 seconds (122.05 k allocations: 326.138 MiB, 10.64% gc time)\n",
      "\n",
      "========== Graph 4/10, mu=0.4, number_rep = 3 ==========\n",
      " ------- Acc Projected Power Iteration -------\n"
     ]
    },
    {
     "name": "stdout",
     "output_type": "stream",
     "text": [
      "The iteration has become stationary after 237 iterations\n",
      "  0.547844 seconds (6.27 k allocations: 329.107 MiB, 10.24% gc time)\n",
      " -------------- Clustering ------- \n",
      "dimension of embedding used for clustering: 20\n",
      "Number of updates: "
     ]
    },
    {
     "name": "stdout",
     "output_type": "stream",
     "text": [
      "5\n",
      "Number of communities: 16\n",
      "Modularity: 0.547539072923199\n",
      " -------------------------------------------- \n",
      "The first 5 squared singular values divided by N : \n",
      "[0.24743519550844, 0.20752973812505568, 0.17386239651100893, 0.13054879337570327, 0.10995407933999642]\n",
      " -------------------------------------------- \n",
      "  0.650174 seconds (133.27 k allocations: 373.154 MiB, 8.63% gc time)\n",
      "\n",
      "========== Graph 5/10, mu=0.5, number_rep = 1 ==========\n",
      " ------- Acc Projected Power Iteration -------\n"
     ]
    },
    {
     "name": "stdout",
     "output_type": "stream",
     "text": [
      "The iteration has become stationary after 299 iterations\n",
      "  0.669666 seconds (7.88 k allocations: 415.470 MiB, 13.55% gc time)\n",
      " -------------- Clustering ------- \n",
      "dimension of embedding used for clustering: 20\n",
      "Number of updates: "
     ]
    },
    {
     "name": "stdout",
     "output_type": "stream",
     "text": [
      "7\n",
      "Number of communities: 13\n",
      "Modularity: 0.44282500638069794\n",
      " -------------------------------------------- \n",
      "The first 5 squared singular values divided by N : \n",
      "[0.23454713059886328, 0.20921663887781963, 0.16253555487410545, 0.12719609349701042, 0.09238546885742757]\n",
      " -------------------------------------------- \n",
      "  0.829674 seconds (174.29 k allocations: 473.057 MiB, 10.94% gc time)\n",
      "\n",
      "========== Graph 5/10, mu=0.5, number_rep = 2 ==========\n",
      " ------- Acc Projected Power Iteration -------\n"
     ]
    },
    {
     "name": "stdout",
     "output_type": "stream",
     "text": [
      "The iteration has become stationary after 222 iterations\n",
      "  0.489086 seconds (5.88 k allocations: 308.212 MiB, 9.95% gc time)\n",
      " -------------- Clustering ------- \n",
      "dimension of embedding used for clustering: 20\n",
      "Number of updates: "
     ]
    },
    {
     "name": "stdout",
     "output_type": "stream",
     "text": [
      "6\n",
      "Number of communities: 14\n",
      "Modularity: 0.4475200231021252\n",
      " -------------------------------------------- \n",
      "The first 5 squared singular values divided by N : \n",
      "[0.2345218264838285, 0.20948245763844472, 0.1628643579302404, 0.12725979316470024, 0.09275455899377073]\n",
      " -------------------------------------------- \n",
      "  0.638740 seconds (159.85 k allocations: 361.597 MiB, 13.82% gc time)\n",
      "\n",
      "========== Graph 5/10, mu=0.5, number_rep = 3 ==========\n",
      " ------- Acc Projected Power Iteration -------\n"
     ]
    },
    {
     "name": "stdout",
     "output_type": "stream",
     "text": [
      "The iteration has become stationary after 387 iterations\n",
      "  0.939191 seconds (10.17 k allocations: 538.050 MiB, 10.58% gc time)\n",
      " -------------- Clustering ------- \n",
      "dimension of embedding used for clustering: 20\n",
      "Number of updates: "
     ]
    },
    {
     "name": "stdout",
     "output_type": "stream",
     "text": [
      "4\n",
      "Number of communities: 15\n",
      "Modularity: 0.43921347182246395\n",
      " -------------------------------------------- \n",
      "The first 5 squared singular values divided by N : \n",
      "[0.2345349708033877, 0.2094218469620058, 0.16258054709564543, 0.1274257198061564, 0.09253620921180619]\n",
      " -------------------------------------------- \n",
      "  1.068429 seconds (135.08 k allocations: 581.399 MiB, 10.72% gc time)\n",
      "\n",
      "========== Graph 6/10, mu=0.6, number_rep = 1 ==========\n",
      " ------- Acc Projected Power Iteration -------\n"
     ]
    },
    {
     "name": "stdout",
     "output_type": "stream",
     "text": [
      "The iteration has become stationary after 308 iterations\n",
      "  0.898094 seconds (8.12 k allocations: 428.007 MiB, 7.25% gc time)\n",
      " -------------- Clustering ------- \n",
      "dimension of embedding used for clustering: 20\n",
      "Number of updates: "
     ]
    },
    {
     "name": "stdout",
     "output_type": "stream",
     "text": [
      "8\n",
      "Number of communities: 12\n",
      "Modularity: 0.335177481441594\n",
      " -------------------------------------------- \n",
      "The first 5 squared singular values divided by N : \n",
      "[0.21951165979251602, 0.15978116873977916, 0.1533458732441907, 0.11967992030363095, 0.10400732267818283]\n",
      " -------------------------------------------- \n",
      "  1.088052 seconds (220.18 k allocations: 500.946 MiB, 7.55% gc time)\n",
      "\n",
      "========== Graph 6/10, mu=0.6, number_rep = 2 ==========\n",
      " ------- Acc Projected Power Iteration -------\n"
     ]
    },
    {
     "name": "stdout",
     "output_type": "stream",
     "text": [
      "The iteration has become stationary after 308 iterations\n",
      "  0.667456 seconds (8.12 k allocations: 428.007 MiB, 10.67% gc time)\n",
      " -------------- Clustering ------- \n",
      "dimension of embedding used for clustering: 20\n",
      "Number of updates: "
     ]
    },
    {
     "name": "stdout",
     "output_type": "stream",
     "text": [
      "4\n",
      "Number of communities: 15\n",
      "Modularity: 0.33512043246789935\n",
      " -------------------------------------------- \n",
      "The first 5 squared singular values divided by N : \n",
      "[0.2195014712840705, 0.1598430599800908, 0.15340633591457548, 0.11976679365587073, 0.10423538279948918]\n",
      " -------------------------------------------- \n",
      "  0.854645 seconds (182.81 k allocations: 488.129 MiB, 9.90% gc time)\n",
      "\n",
      "========== Graph 6/10, mu=0.6, number_rep = 3 ==========\n",
      " ------- Acc Projected Power Iteration -------\n"
     ]
    },
    {
     "name": "stdout",
     "output_type": "stream",
     "text": [
      "The iteration has become stationary after 231 iterations\n",
      "  0.524612 seconds (6.11 k allocations: 320.749 MiB, 14.74% gc time)\n",
      " -------------- Clustering ------- \n",
      "dimension of embedding used for clustering: 20\n",
      "Number of updates: "
     ]
    },
    {
     "name": "stdout",
     "output_type": "stream",
     "text": [
      "6\n",
      "Number of communities: 13\n",
      "Modularity: 0.32901430466560233\n",
      " -------------------------------------------- \n",
      "The first 5 squared singular values divided by N : \n",
      "[0.2195811614382428, 0.1598364899153237, 0.15332113478428375, 0.1197422252208733, 0.10404433809809353]\n",
      " -------------------------------------------- \n",
      "  0.709366 seconds (230.65 k allocations: 397.801 MiB, 13.33% gc time)\n",
      "\n",
      "========== Graph 7/10, mu=0.7, number_rep = 1 ==========\n",
      " ------- Acc Projected Power Iteration -------\n"
     ]
    },
    {
     "name": "stdout",
     "output_type": "stream",
     "text": [
      "The iteration has become stationary after 379 iterations\n",
      "  1.372965 seconds (9.96 k allocations: 526.908 MiB, 8.15% gc time)\n",
      " -------------- Clustering ------- \n",
      "dimension of embedding used for clustering: 20\n",
      "Number of updates: "
     ]
    },
    {
     "name": "stdout",
     "output_type": "stream",
     "text": [
      "6\n",
      "Number of communities: 12\n",
      "Modularity: 0.24068867956706647\n",
      " -------------------------------------------- \n",
      "The first 5 squared singular values divided by N : \n",
      "[0.19470749093128698, 0.15865742802541233, 0.1383645680617162, 0.12297598356712204, 0.10909920979634703]\n",
      " -------------------------------------------- \n",
      "  1.567867 seconds (194.96 k allocations: 590.976 MiB, 8.31% gc time)\n",
      "\n",
      "========== Graph 7/10, mu=0.7, number_rep = 2 ==========\n",
      " ------- Acc Projected Power Iteration -------\n"
     ]
    },
    {
     "name": "stdout",
     "output_type": "stream",
     "text": [
      "The iteration has become stationary after 293 iterations\n",
      "  0.744133 seconds (7.73 k allocations: 407.112 MiB, 10.52% gc time)\n",
      " -------------- Clustering ------- \n",
      "dimension of embedding used for clustering: 20\n",
      "Number of updates: "
     ]
    },
    {
     "name": "stdout",
     "output_type": "stream",
     "text": [
      "8\n",
      "Number of communities: 7\n",
      "Modularity: 0.23572829155312908\n",
      " -------------------------------------------- \n",
      "The first 5 squared singular values divided by N : \n",
      "[0.1946740903199162, 0.15873507180793658, 0.13832662843959853, 0.12306052746040265, 0.10915331138860213]\n",
      " -------------------------------------------- \n",
      "  0.967924 seconds (209.24 k allocations: 476.662 MiB, 10.10% gc time)\n",
      "\n",
      "========== Graph 7/10, mu=0.7, number_rep = 3 ==========\n",
      " ------- Acc Projected Power Iteration -------\n"
     ]
    },
    {
     "name": "stdout",
     "output_type": "stream",
     "text": [
      "The iteration has become stationary after 299 iterations\n",
      "  0.980073 seconds (7.88 k allocations: 415.470 MiB, 9.79% gc time)\n",
      " -------------- Clustering ------- \n",
      "dimension of embedding used for clustering: 20\n",
      "Number of updates: "
     ]
    },
    {
     "name": "stdout",
     "output_type": "stream",
     "text": [
      "10\n",
      "Number of communities: 7\n",
      "Modularity: 0.2381314218274779\n",
      " -------------------------------------------- \n",
      "The first 5 squared singular values divided by N : \n",
      "[0.1947079293427878, 0.1587313985999231, 0.138480557846261, 0.12305344903680444, 0.10924175881614512]\n",
      " -------------------------------------------- \n",
      "  1.131175 seconds (178.33 k allocations: 474.492 MiB, 9.86% gc time)\n",
      "\n",
      "========== Graph 8/10, mu=0.8, number_rep = 1 ==========\n",
      " ------- Acc Projected Power Iteration -------\n"
     ]
    },
    {
     "name": "stdout",
     "output_type": "stream",
     "text": [
      "The iteration has become stationary after 330 iterations\n",
      "  0.791628 seconds (8.69 k allocations: 458.652 MiB, 9.22% gc time)\n",
      " -------------- Clustering ------- \n",
      "dimension of embedding used for clustering: 20\n",
      "Number of updates: "
     ]
    },
    {
     "name": "stdout",
     "output_type": "stream",
     "text": [
      "8\n",
      "Number of communities: 6\n",
      "Modularity: 0.2106333285054241\n",
      " -------------------------------------------- \n",
      "The first 5 squared singular values divided by N : \n",
      "[0.19409034645624915, 0.16211733008934, 0.12917481945900325, 0.10777750183442779, 0.09355828318875005]\n",
      " -------------------------------------------- \n",
      "  1.082879 seconds (247.22 k allocations: 539.291 MiB, 11.51% gc time)\n",
      "\n",
      "========== Graph 8/10, mu=0.8, number_rep = 2 ==========\n",
      " ------- Acc Projected Power Iteration -------\n"
     ]
    },
    {
     "name": "stdout",
     "output_type": "stream",
     "text": [
      "The iteration has become stationary after 231 iterations\n",
      "  0.617909 seconds (6.12 k allocations: 320.750 MiB, 7.83% gc time)\n",
      " -------------- Clustering ------- \n",
      "dimension of embedding used for clustering: 20\n",
      "Number of updates: "
     ]
    },
    {
     "name": "stdout",
     "output_type": "stream",
     "text": [
      "8\n",
      "Number of communities: 7\n",
      "Modularity: 0.20957334010332984\n",
      " -------------------------------------------- \n",
      "The first 5 squared singular values divided by N : \n",
      "[0.19430946778958183, 0.162306709642307, 0.1292414270088725, 0.10799771424050926, 0.09378571765234912]\n",
      " -------------------------------------------- \n",
      "  0.894080 seconds (250.93 k allocations: 403.944 MiB, 6.95% gc time)\n",
      "\n",
      "========== Graph 8/10, mu=0.8, number_rep = 3 ==========\n",
      " ------- Acc Projected Power Iteration -------\n"
     ]
    },
    {
     "name": "stdout",
     "output_type": "stream",
     "text": [
      "The iteration has become stationary after 325 iterations\n",
      "  0.862506 seconds (8.56 k allocations: 451.687 MiB, 9.96% gc time)\n",
      " -------------- Clustering ------- \n",
      "dimension of embedding used for clustering: 20\n",
      "Number of updates: "
     ]
    },
    {
     "name": "stdout",
     "output_type": "stream",
     "text": [
      "7\n",
      "Number of communities: 8\n",
      "Modularity: 0.20981812023062943\n",
      " -------------------------------------------- \n",
      "The first 5 squared singular values divided by N : \n",
      "[0.19405956949971162, 0.16219303502869184, 0.12925673412367916, 0.10786997530687766, 0.09354102113644502]\n",
      " -------------------------------------------- \n",
      "  1.058771 seconds (216.19 k allocations: 522.789 MiB, 9.69% gc time)\n",
      "\n",
      "========== Graph 9/10, mu=0.9, number_rep = 1 ==========\n",
      " ------- Acc Projected Power Iteration -------\n"
     ]
    },
    {
     "name": "stdout",
     "output_type": "stream",
     "text": [
      "The iteration has become stationary after 300 iterations\n",
      "  0.764087 seconds (7.91 k allocations: 416.863 MiB, 12.62% gc time)\n",
      " -------------- Clustering ------- \n",
      "dimension of embedding used for clustering: 20\n",
      "Number of updates: "
     ]
    },
    {
     "name": "stdout",
     "output_type": "stream",
     "text": [
      "5\n",
      "Number of communities: 9\n",
      "Modularity: 0.20685082762426524\n",
      " -------------------------------------------- \n",
      "The first 5 squared singular values divided by N : \n",
      "[0.1748905170487367, 0.15256095811109394, 0.13272426829138165, 0.11099664068932519, 0.09733583492386226]\n",
      " -------------------------------------------- \n",
      "  0.999322 seconds (182.46 k allocations: 476.936 MiB, 12.36% gc time)\n",
      "\n",
      "========== Graph 9/10, mu=0.9, number_rep = 2 ==========\n",
      " ------- Acc Projected Power Iteration -------\n"
     ]
    },
    {
     "name": "stdout",
     "output_type": "stream",
     "text": [
      "The iteration has become stationary after 309 iterations\n",
      "  0.835514 seconds (8.14 k allocations: 429.399 MiB, 11.66% gc time)\n",
      " -------------- Clustering ------- \n",
      "dimension of embedding used for clustering: 20\n",
      "Number of updates: "
     ]
    },
    {
     "name": "stdout",
     "output_type": "stream",
     "text": [
      "9\n",
      "Number of communities: 6\n",
      "Modularity: 0.21107727173429697\n",
      " -------------------------------------------- \n",
      "The first 5 squared singular values divided by N : \n",
      "[0.17492681328717863, 0.1525484036897054, 0.1328184200155896, 0.11085056932936904, 0.09733372647280024]\n",
      " -------------------------------------------- \n",
      "  1.070867 seconds (201.33 k allocations: 495.485 MiB, 11.68% gc time)\n",
      "\n",
      "========== Graph 9/10, mu=0.9, number_rep = 3 ==========\n",
      " ------- Acc Projected Power Iteration -------\n"
     ]
    },
    {
     "name": "stdout",
     "output_type": "stream",
     "text": [
      "The iteration has become stationary after 294 iterations\n",
      "  0.659786 seconds (7.75 k allocations: 408.505 MiB, 11.77% gc time)\n",
      " -------------- Clustering ------- \n",
      "dimension of embedding used for clustering: 20\n",
      "Number of updates: "
     ]
    },
    {
     "name": "stdout",
     "output_type": "stream",
     "text": [
      "4\n",
      "Number of communities: 10\n",
      "Modularity: 0.205081939420689\n",
      " -------------------------------------------- \n",
      "The first 5 squared singular values divided by N : \n",
      "[0.1749051885421906, 0.15248420390931622, 0.13269800676444124, 0.110873723549736, 0.09734444875588391]\n",
      " -------------------------------------------- \n",
      "  0.789102 seconds (147.17 k allocations: 456.823 MiB, 9.84% gc time)\n",
      "\n",
      "========== Graph 10/10, mu=1.0, number_rep = 1 ==========\n",
      " ------- Acc Projected Power Iteration -------\n"
     ]
    },
    {
     "name": "stdout",
     "output_type": "stream",
     "text": [
      "The iteration has become stationary after 466 iterations\n",
      "  0.994447 seconds (12.22 k allocations: 648.094 MiB, 10.57% gc time)\n",
      " -------------- Clustering ------- \n",
      "dimension of embedding used for clustering: 20\n",
      "Number of updates: "
     ]
    },
    {
     "name": "stdout",
     "output_type": "stream",
     "text": [
      "10\n",
      "Number of communities: 7\n",
      "Modularity: 0.2127965402252244\n",
      " -------------------------------------------- \n",
      "The first 5 squared singular values divided by N : \n",
      "[0.17041725694662307, 0.14224150876868294, 0.13111902480093093, 0.1126072644102468, 0.09622916246359792]\n",
      " -------------------------------------------- \n",
      "  1.231048 seconds (250.87 k allocations: 729.094 MiB, 9.93% gc time)\n",
      "\n",
      "========== Graph 10/10, mu=1.0, number_rep = 2 ==========\n",
      " ------- Acc Projected Power Iteration -------\n"
     ]
    },
    {
     "name": "stdout",
     "output_type": "stream",
     "text": [
      "The iteration has become stationary after 358 iterations\n",
      "  0.904478 seconds (9.42 k allocations: 497.654 MiB, 11.35% gc time)\n",
      " -------------- Clustering ------- \n",
      "dimension of embedding used for clustering: 20\n",
      "Number of updates: "
     ]
    },
    {
     "name": "stdout",
     "output_type": "stream",
     "text": [
      "8\n",
      "Number of communities: 8\n",
      "Modularity: 0.21449685118438125\n",
      " -------------------------------------------- \n",
      "The first 5 squared singular values divided by N : \n",
      "[0.1704103654621547, 0.14217468587259666, 0.1311319867070455, 0.11261843412637008, 0.09623036649840791]\n",
      " -------------------------------------------- \n",
      "  1.127949 seconds (221.15 k allocations: 569.499 MiB, 11.09% gc time)\n",
      "\n",
      "========== Graph 10/10, mu=1.0, number_rep = 3 ==========\n",
      " ------- Acc Projected Power Iteration -------\n"
     ]
    },
    {
     "name": "stdout",
     "output_type": "stream",
     "text": [
      "The iteration has become stationary after 381 iterations\n",
      "  1.287216 seconds (10.02 k allocations: 529.693 MiB, 12.96% gc time)\n",
      " -------------- Clustering ------- \n",
      "dimension of embedding used for clustering: 20\n",
      "Number of updates: "
     ]
    },
    {
     "name": "stdout",
     "output_type": "stream",
     "text": [
      "9\n",
      "Number of communities: 7\n",
      "Modularity: 0.21593300489538927\n",
      " -------------------------------------------- \n",
      "The first 5 squared singular values divided by N : \n",
      "[0.17040067961692823, 0.1422029523076111, 0.13115883526559602, 0.1126486762275158, 0.09620617287256361]\n",
      " -------------------------------------------- \n",
      "  1.517099 seconds (199.08 k allocations: 594.416 MiB, 12.23% gc time)\n"
     ]
    },
    {
     "data": {
      "image/png": "[encoded data removed]",
      "image/svg+xml": "<?xml version=\"1.0\" encoding=\"utf-8\"?>\n<svg xmlns=\"http://www.w3.org/2000/svg\" xmlns:xlink=\"http://www.w3.org/1999/xlink\" width=\"600\" height=\"400\" viewBox=\"0 0 2400 1600\">\n<defs>\n  <clipPath id=\"clip220\">\n    <rect x=\"0\" y=\"0\" width=\"2400\" height=\"1600\"/>\n  </clipPath>\n</defs>\n<path clip-path=\"url(#clip220)\" d=\"\nM0 1600 L2400 1600 L2400 0 L0 0  Z\n  \" fill=\"#ffffff\" fill-rule=\"evenodd\" fill-opacity=\"1\"/>\n<defs>\n  <clipPath id=\"clip221\">\n    <rect x=\"480\" y=\"0\" width=\"1681\" height=\"1600\"/>\n  </clipPath>\n</defs>\n<path clip-path=\"url(#clip220)\" d=\"\nM219.866 1423.18 L2352.76 1423.18 L2352.76 47.2441 L219.866 47.2441  Z\n  \" fill=\"#ffffff\" fill-rule=\"evenodd\" fill-opacity=\"1\"/>\n<defs>\n  <clipPath id=\"clip222\">\n    <rect x=\"219\" y=\"47\" width=\"2134\" height=\"1377\"/>\n  </clipPath>\n</defs>\n<polyline clip-path=\"url(#clip222)\" style=\"stroke:#000000; stroke-linecap:butt; stroke-linejoin:round; stroke-width:2; stroke-opacity:0.1; fill:none\" points=\"\n  503.804,1423.18 503.804,47.2441 \n  \"/>\n<polyline clip-path=\"url(#clip222)\" style=\"stroke:#000000; stroke-linecap:butt; stroke-linejoin:round; stroke-width:2; stroke-opacity:0.1; fill:none\" points=\"\n  950.951,1423.18 950.951,47.2441 \n  \"/>\n<polyline clip-path=\"url(#clip222)\" style=\"stroke:#000000; stroke-linecap:butt; stroke-linejoin:round; stroke-width:2; stroke-opacity:0.1; fill:none\" points=\"\n  1398.1,1423.18 1398.1,47.2441 \n  \"/>\n<polyline clip-path=\"url(#clip222)\" style=\"stroke:#000000; stroke-linecap:butt; stroke-linejoin:round; stroke-width:2; stroke-opacity:0.1; fill:none\" points=\"\n  1845.24,1423.18 1845.24,47.2441 \n  \"/>\n<polyline clip-path=\"url(#clip222)\" style=\"stroke:#000000; stroke-linecap:butt; stroke-linejoin:round; stroke-width:2; stroke-opacity:0.1; fill:none\" points=\"\n  2292.39,1423.18 2292.39,47.2441 \n  \"/>\n<polyline clip-path=\"url(#clip220)\" style=\"stroke:#000000; stroke-linecap:butt; stroke-linejoin:round; stroke-width:4; stroke-opacity:1; fill:none\" points=\"\n  219.866,1423.18 2352.76,1423.18 \n  \"/>\n<polyline clip-path=\"url(#clip220)\" style=\"stroke:#000000; stroke-linecap:butt; stroke-linejoin:round; stroke-width:4; stroke-opacity:1; fill:none\" points=\"\n  503.804,1423.18 503.804,1404.28 \n  \"/>\n<polyline clip-path=\"url(#clip220)\" style=\"stroke:#000000; stroke-linecap:butt; stroke-linejoin:round; stroke-width:4; stroke-opacity:1; fill:none\" points=\"\n  950.951,1423.18 950.951,1404.28 \n  \"/>\n<polyline clip-path=\"url(#clip220)\" style=\"stroke:#000000; stroke-linecap:butt; stroke-linejoin:round; stroke-width:4; stroke-opacity:1; fill:none\" points=\"\n  1398.1,1423.18 1398.1,1404.28 \n  \"/>\n<polyline clip-path=\"url(#clip220)\" style=\"stroke:#000000; stroke-linecap:butt; stroke-linejoin:round; stroke-width:4; stroke-opacity:1; fill:none\" points=\"\n  1845.24,1423.18 1845.24,1404.28 \n  \"/>\n<polyline clip-path=\"url(#clip220)\" style=\"stroke:#000000; stroke-linecap:butt; stroke-linejoin:round; stroke-width:4; stroke-opacity:1; fill:none\" points=\"\n  2292.39,1423.18 2292.39,1404.28 \n  \"/>\n<path clip-path=\"url(#clip220)\" d=\"M481.987 1454.1 Q478.376 1454.1 476.548 1457.66 Q474.742 1461.2 474.742 1468.33 Q474.742 1475.44 476.548 1479.01 Q478.376 1482.55 481.987 1482.55 Q485.622 1482.55 487.427 1479.01 Q489.256 1475.44 489.256 1468.33 Q489.256 1461.2 487.427 1457.66 Q485.622 1454.1 481.987 1454.1 M481.987 1450.39 Q487.798 1450.39 490.853 1455 Q493.932 1459.58 493.932 1468.33 Q493.932 1477.06 490.853 1481.67 Q487.798 1486.25 481.987 1486.25 Q476.177 1486.25 473.099 1481.67 Q470.043 1477.06 470.043 1468.33 Q470.043 1459.58 473.099 1455 Q476.177 1450.39 481.987 1450.39 Z\" fill=\"#000000\" fill-rule=\"evenodd\" fill-opacity=\"1\" /><path clip-path=\"url(#clip220)\" d=\"M502.149 1479.7 L507.034 1479.7 L507.034 1485.58 L502.149 1485.58 L502.149 1479.7 Z\" fill=\"#000000\" fill-rule=\"evenodd\" fill-opacity=\"1\" /><path clip-path=\"url(#clip220)\" d=\"M521.246 1481.64 L537.566 1481.64 L537.566 1485.58 L515.621 1485.58 L515.621 1481.64 Q518.283 1478.89 522.867 1474.26 Q527.473 1469.61 528.654 1468.27 Q530.899 1465.74 531.779 1464.01 Q532.682 1462.25 532.682 1460.56 Q532.682 1457.8 530.737 1456.07 Q528.816 1454.33 525.714 1454.33 Q523.515 1454.33 521.061 1455.09 Q518.631 1455.86 515.853 1457.41 L515.853 1452.69 Q518.677 1451.55 521.131 1450.97 Q523.584 1450.39 525.621 1450.39 Q530.992 1450.39 534.186 1453.08 Q537.381 1455.77 537.381 1460.26 Q537.381 1462.39 536.57 1464.31 Q535.783 1466.2 533.677 1468.8 Q533.098 1469.47 529.996 1472.69 Q526.895 1475.88 521.246 1481.64 Z\" fill=\"#000000\" fill-rule=\"evenodd\" fill-opacity=\"1\" /><path clip-path=\"url(#clip220)\" d=\"M928.092 1454.1 Q924.481 1454.1 922.653 1457.66 Q920.847 1461.2 920.847 1468.33 Q920.847 1475.44 922.653 1479.01 Q924.481 1482.55 928.092 1482.55 Q931.727 1482.55 933.532 1479.01 Q935.361 1475.44 935.361 1468.33 Q935.361 1461.2 933.532 1457.66 Q931.727 1454.1 928.092 1454.1 M928.092 1450.39 Q933.903 1450.39 936.958 1455 Q940.037 1459.58 940.037 1468.33 Q940.037 1477.06 936.958 1481.67 Q933.903 1486.25 928.092 1486.25 Q922.282 1486.25 919.204 1481.67 Q916.148 1477.06 916.148 1468.33 Q916.148 1459.58 919.204 1455 Q922.282 1450.39 928.092 1450.39 Z\" fill=\"#000000\" fill-rule=\"evenodd\" fill-opacity=\"1\" /><path clip-path=\"url(#clip220)\" d=\"M948.254 1479.7 L953.139 1479.7 L953.139 1485.58 L948.254 1485.58 L948.254 1479.7 Z\" fill=\"#000000\" fill-rule=\"evenodd\" fill-opacity=\"1\" /><path clip-path=\"url(#clip220)\" d=\"M976.171 1455.09 L964.365 1473.54 L976.171 1473.54 L976.171 1455.09 M974.944 1451.02 L980.824 1451.02 L980.824 1473.54 L985.754 1473.54 L985.754 1477.43 L980.824 1477.43 L980.824 1485.58 L976.171 1485.58 L976.171 1477.43 L960.569 1477.43 L960.569 1472.92 L974.944 1451.02 Z\" fill=\"#000000\" fill-rule=\"evenodd\" fill-opacity=\"1\" /><path clip-path=\"url(#clip220)\" d=\"M1375.4 1454.1 Q1371.79 1454.1 1369.96 1457.66 Q1368.16 1461.2 1368.16 1468.33 Q1368.16 1475.44 1369.96 1479.01 Q1371.79 1482.55 1375.4 1482.55 Q1379.04 1482.55 1380.84 1479.01 Q1382.67 1475.44 1382.67 1468.33 Q1382.67 1461.2 1380.84 1457.66 Q1379.04 1454.1 1375.4 1454.1 M1375.4 1450.39 Q1381.21 1450.39 1384.27 1455 Q1387.35 1459.58 1387.35 1468.33 Q1387.35 1477.06 1384.27 1481.67 Q1381.21 1486.25 1375.4 1486.25 Q1369.59 1486.25 1366.51 1481.67 Q1363.46 1477.06 1363.46 1468.33 Q1363.46 1459.58 1366.51 1455 Q1369.59 1450.39 1375.4 1450.39 Z\" fill=\"#000000\" fill-rule=\"evenodd\" fill-opacity=\"1\" /><path clip-path=\"url(#clip220)\" d=\"M1395.56 1479.7 L1400.45 1479.7 L1400.45 1485.58 L1395.56 1485.58 L1395.56 1479.7 Z\" fill=\"#000000\" fill-rule=\"evenodd\" fill-opacity=\"1\" /><path clip-path=\"url(#clip220)\" d=\"M1421.21 1466.44 Q1418.06 1466.44 1416.21 1468.59 Q1414.38 1470.74 1414.38 1474.49 Q1414.38 1478.22 1416.21 1480.39 Q1418.06 1482.55 1421.21 1482.55 Q1424.36 1482.55 1426.19 1480.39 Q1428.04 1478.22 1428.04 1474.49 Q1428.04 1470.74 1426.19 1468.59 Q1424.36 1466.44 1421.21 1466.44 M1430.49 1451.78 L1430.49 1456.04 Q1428.73 1455.21 1426.93 1454.77 Q1425.15 1454.33 1423.39 1454.33 Q1418.76 1454.33 1416.3 1457.45 Q1413.87 1460.58 1413.53 1466.9 Q1414.89 1464.89 1416.95 1463.82 Q1419.01 1462.73 1421.49 1462.73 Q1426.7 1462.73 1429.71 1465.9 Q1432.74 1469.05 1432.74 1474.49 Q1432.74 1479.82 1429.59 1483.03 Q1426.44 1486.25 1421.21 1486.25 Q1415.22 1486.25 1412.04 1481.67 Q1408.87 1477.06 1408.87 1468.33 Q1408.87 1460.14 1412.76 1455.28 Q1416.65 1450.39 1423.2 1450.39 Q1424.96 1450.39 1426.74 1450.74 Q1428.55 1451.09 1430.49 1451.78 Z\" fill=\"#000000\" fill-rule=\"evenodd\" fill-opacity=\"1\" /><path clip-path=\"url(#clip220)\" d=\"M1822.68 1454.1 Q1819.06 1454.1 1817.24 1457.66 Q1815.43 1461.2 1815.43 1468.33 Q1815.43 1475.44 1817.24 1479.01 Q1819.06 1482.55 1822.68 1482.55 Q1826.31 1482.55 1828.11 1479.01 Q1829.94 1475.44 1829.94 1468.33 Q1829.94 1461.2 1828.11 1457.66 Q1826.31 1454.1 1822.68 1454.1 M1822.68 1450.39 Q1828.49 1450.39 1831.54 1455 Q1834.62 1459.58 1834.62 1468.33 Q1834.62 1477.06 1831.54 1481.67 Q1828.49 1486.25 1822.68 1486.25 Q1816.86 1486.25 1813.79 1481.67 Q1810.73 1477.06 1810.73 1468.33 Q1810.73 1459.58 1813.79 1455 Q1816.86 1450.39 1822.68 1450.39 Z\" fill=\"#000000\" fill-rule=\"evenodd\" fill-opacity=\"1\" /><path clip-path=\"url(#clip220)\" d=\"M1842.84 1479.7 L1847.72 1479.7 L1847.72 1485.58 L1842.84 1485.58 L1842.84 1479.7 Z\" fill=\"#000000\" fill-rule=\"evenodd\" fill-opacity=\"1\" /><path clip-path=\"url(#clip220)\" d=\"M1867.91 1469.17 Q1864.57 1469.17 1862.65 1470.95 Q1860.75 1472.73 1860.75 1475.86 Q1860.75 1478.98 1862.65 1480.77 Q1864.57 1482.55 1867.91 1482.55 Q1871.24 1482.55 1873.16 1480.77 Q1875.08 1478.96 1875.08 1475.86 Q1875.08 1472.73 1873.16 1470.95 Q1871.26 1469.17 1867.91 1469.17 M1863.23 1467.18 Q1860.22 1466.44 1858.53 1464.38 Q1856.86 1462.32 1856.86 1459.35 Q1856.86 1455.21 1859.8 1452.8 Q1862.77 1450.39 1867.91 1450.39 Q1873.07 1450.39 1876.01 1452.8 Q1878.95 1455.21 1878.95 1459.35 Q1878.95 1462.32 1877.26 1464.38 Q1875.59 1466.44 1872.61 1467.18 Q1875.99 1467.96 1877.86 1470.26 Q1879.76 1472.55 1879.76 1475.86 Q1879.76 1480.88 1876.68 1483.57 Q1873.62 1486.25 1867.91 1486.25 Q1862.19 1486.25 1859.11 1483.57 Q1856.05 1480.88 1856.05 1475.86 Q1856.05 1472.55 1857.95 1470.26 Q1859.85 1467.96 1863.23 1467.18 M1861.52 1459.79 Q1861.52 1462.48 1863.18 1463.98 Q1864.87 1465.49 1867.91 1465.49 Q1870.92 1465.49 1872.61 1463.98 Q1874.32 1462.48 1874.32 1459.79 Q1874.32 1457.11 1872.61 1455.6 Q1870.92 1454.1 1867.91 1454.1 Q1864.87 1454.1 1863.18 1455.6 Q1861.52 1457.11 1861.52 1459.79 Z\" fill=\"#000000\" fill-rule=\"evenodd\" fill-opacity=\"1\" /><path clip-path=\"url(#clip220)\" d=\"M2259.54 1481.64 L2267.18 1481.64 L2267.18 1455.28 L2258.87 1456.95 L2258.87 1452.69 L2267.14 1451.02 L2271.81 1451.02 L2271.81 1481.64 L2279.45 1481.64 L2279.45 1485.58 L2259.54 1485.58 L2259.54 1481.64 Z\" fill=\"#000000\" fill-rule=\"evenodd\" fill-opacity=\"1\" /><path clip-path=\"url(#clip220)\" d=\"M2288.9 1479.7 L2293.78 1479.7 L2293.78 1485.58 L2288.9 1485.58 L2288.9 1479.7 Z\" fill=\"#000000\" fill-rule=\"evenodd\" fill-opacity=\"1\" /><path clip-path=\"url(#clip220)\" d=\"M2313.97 1454.1 Q2310.35 1454.1 2308.53 1457.66 Q2306.72 1461.2 2306.72 1468.33 Q2306.72 1475.44 2308.53 1479.01 Q2310.35 1482.55 2313.97 1482.55 Q2317.6 1482.55 2319.4 1479.01 Q2321.23 1475.44 2321.23 1468.33 Q2321.23 1461.2 2319.4 1457.66 Q2317.6 1454.1 2313.97 1454.1 M2313.97 1450.39 Q2319.78 1450.39 2322.83 1455 Q2325.91 1459.58 2325.91 1468.33 Q2325.91 1477.06 2322.83 1481.67 Q2319.78 1486.25 2313.97 1486.25 Q2308.15 1486.25 2305.08 1481.67 Q2302.02 1477.06 2302.02 1468.33 Q2302.02 1459.58 2305.08 1455 Q2308.15 1450.39 2313.97 1450.39 Z\" fill=\"#000000\" fill-rule=\"evenodd\" fill-opacity=\"1\" /><path clip-path=\"url(#clip220)\" d=\"M1000.22 1520.52 L1009.8 1520.52 L1021.93 1552.86 L1034.12 1520.52 L1043.7 1520.52 L1043.7 1568.04 L1037.43 1568.04 L1037.43 1526.32 L1025.17 1558.91 L1018.71 1558.91 L1006.46 1526.32 L1006.46 1568.04 L1000.22 1568.04 L1000.22 1520.52 Z\" fill=\"#000000\" fill-rule=\"evenodd\" fill-opacity=\"1\" /><path clip-path=\"url(#clip220)\" d=\"M1056.21 1532.4 L1062.06 1532.4 L1062.06 1568.04 L1056.21 1568.04 L1056.21 1532.4 M1056.21 1518.52 L1062.06 1518.52 L1062.06 1525.93 L1056.21 1525.93 L1056.21 1518.52 Z\" fill=\"#000000\" fill-rule=\"evenodd\" fill-opacity=\"1\" /><path clip-path=\"url(#clip220)\" d=\"M1103.95 1532.4 L1091.06 1549.74 L1104.62 1568.04 L1097.71 1568.04 L1087.34 1554.04 L1076.96 1568.04 L1070.05 1568.04 L1083.9 1549.39 L1071.23 1532.4 L1078.14 1532.4 L1087.59 1545.1 L1097.04 1532.4 L1103.95 1532.4 Z\" fill=\"#000000\" fill-rule=\"evenodd\" fill-opacity=\"1\" /><path clip-path=\"url(#clip220)\" d=\"M1112.89 1532.4 L1118.75 1532.4 L1118.75 1568.04 L1112.89 1568.04 L1112.89 1532.4 M1112.89 1518.52 L1118.75 1518.52 L1118.75 1525.93 L1112.89 1525.93 L1112.89 1518.52 Z\" fill=\"#000000\" fill-rule=\"evenodd\" fill-opacity=\"1\" /><path clip-path=\"url(#clip220)\" d=\"M1160.64 1546.53 L1160.64 1568.04 L1154.78 1568.04 L1154.78 1546.72 Q1154.78 1541.66 1152.81 1539.14 Q1150.83 1536.63 1146.89 1536.63 Q1142.14 1536.63 1139.41 1539.65 Q1136.67 1542.68 1136.67 1547.9 L1136.67 1568.04 L1130.78 1568.04 L1130.78 1532.4 L1136.67 1532.4 L1136.67 1537.93 Q1138.77 1534.72 1141.6 1533.13 Q1144.47 1531.54 1148.19 1531.54 Q1154.33 1531.54 1157.49 1535.36 Q1160.64 1539.14 1160.64 1546.53 Z\" fill=\"#000000\" fill-rule=\"evenodd\" fill-opacity=\"1\" /><path clip-path=\"url(#clip220)\" d=\"M1195.77 1549.81 Q1195.77 1543.44 1193.13 1539.94 Q1190.52 1536.44 1185.78 1536.44 Q1181.07 1536.44 1178.43 1539.94 Q1175.82 1543.44 1175.82 1549.81 Q1175.82 1556.14 1178.43 1559.64 Q1181.07 1563.14 1185.78 1563.14 Q1190.52 1563.14 1193.13 1559.64 Q1195.77 1556.14 1195.77 1549.81 M1201.63 1563.62 Q1201.63 1572.72 1197.59 1577.15 Q1193.55 1581.6 1185.21 1581.6 Q1182.12 1581.6 1179.38 1581.13 Q1176.65 1580.68 1174.07 1579.72 L1174.07 1574.03 Q1176.65 1575.43 1179.16 1576.1 Q1181.67 1576.76 1184.28 1576.76 Q1190.05 1576.76 1192.91 1573.74 Q1195.77 1570.75 1195.77 1564.67 L1195.77 1561.77 Q1193.96 1564.92 1191.13 1566.48 Q1188.3 1568.04 1184.35 1568.04 Q1177.79 1568.04 1173.78 1563.05 Q1169.77 1558.05 1169.77 1549.81 Q1169.77 1541.53 1173.78 1536.53 Q1177.79 1531.54 1184.35 1531.54 Q1188.3 1531.54 1191.13 1533.1 Q1193.96 1534.66 1195.77 1537.81 L1195.77 1532.4 L1201.63 1532.4 L1201.63 1563.62 Z\" fill=\"#000000\" fill-rule=\"evenodd\" fill-opacity=\"1\" /><path clip-path=\"url(#clip220)\" d=\"M1240.08 1562.7 L1240.08 1581.6 L1234.19 1581.6 L1234.19 1532.4 L1240.08 1532.4 L1240.08 1537.81 Q1241.93 1534.62 1244.73 1533.1 Q1247.56 1531.54 1251.47 1531.54 Q1257.97 1531.54 1262.01 1536.69 Q1266.08 1541.85 1266.08 1550.25 Q1266.08 1558.65 1262.01 1563.81 Q1257.97 1568.97 1251.47 1568.97 Q1247.56 1568.97 1244.73 1567.44 Q1241.93 1565.88 1240.08 1562.7 M1260 1550.25 Q1260 1543.79 1257.33 1540.13 Q1254.69 1536.44 1250.04 1536.44 Q1245.4 1536.44 1242.72 1540.13 Q1240.08 1543.79 1240.08 1550.25 Q1240.08 1556.71 1242.72 1560.4 Q1245.4 1564.07 1250.04 1564.07 Q1254.69 1564.07 1257.33 1560.4 Q1260 1556.71 1260 1550.25 Z\" fill=\"#000000\" fill-rule=\"evenodd\" fill-opacity=\"1\" /><path clip-path=\"url(#clip220)\" d=\"M1291.99 1550.12 Q1284.89 1550.12 1282.16 1551.75 Q1279.42 1553.37 1279.42 1557.29 Q1279.42 1560.4 1281.46 1562.25 Q1283.53 1564.07 1287.06 1564.07 Q1291.93 1564.07 1294.86 1560.63 Q1297.82 1557.16 1297.82 1551.43 L1297.82 1550.12 L1291.99 1550.12 M1303.67 1547.71 L1303.67 1568.04 L1297.82 1568.04 L1297.82 1562.63 Q1295.81 1565.88 1292.82 1567.44 Q1289.83 1568.97 1285.5 1568.97 Q1280.02 1568.97 1276.78 1565.91 Q1273.56 1562.82 1273.56 1557.67 Q1273.56 1551.65 1277.57 1548.6 Q1281.62 1545.54 1289.61 1545.54 L1297.82 1545.54 L1297.82 1544.97 Q1297.82 1540.93 1295.14 1538.73 Q1292.5 1536.5 1287.7 1536.5 Q1284.64 1536.5 1281.74 1537.23 Q1278.85 1537.97 1276.17 1539.43 L1276.17 1534.02 Q1279.39 1532.78 1282.41 1532.17 Q1285.44 1531.54 1288.3 1531.54 Q1296.03 1531.54 1299.85 1535.55 Q1303.67 1539.56 1303.67 1547.71 Z\" fill=\"#000000\" fill-rule=\"evenodd\" fill-opacity=\"1\" /><path clip-path=\"url(#clip220)\" d=\"M1336.39 1537.87 Q1335.41 1537.3 1334.23 1537.04 Q1333.08 1536.76 1331.68 1536.76 Q1326.72 1536.76 1324.04 1540 Q1321.4 1543.22 1321.4 1549.27 L1321.4 1568.04 L1315.51 1568.04 L1315.51 1532.4 L1321.4 1532.4 L1321.4 1537.93 Q1323.25 1534.69 1326.21 1533.13 Q1329.17 1531.54 1333.4 1531.54 Q1334.01 1531.54 1334.74 1531.63 Q1335.47 1531.7 1336.36 1531.85 L1336.39 1537.87 Z\" fill=\"#000000\" fill-rule=\"evenodd\" fill-opacity=\"1\" /><path clip-path=\"url(#clip220)\" d=\"M1358.74 1550.12 Q1351.64 1550.12 1348.9 1551.75 Q1346.16 1553.37 1346.16 1557.29 Q1346.16 1560.4 1348.2 1562.25 Q1350.27 1564.07 1353.8 1564.07 Q1358.67 1564.07 1361.6 1560.63 Q1364.56 1557.16 1364.56 1551.43 L1364.56 1550.12 L1358.74 1550.12 M1370.42 1547.71 L1370.42 1568.04 L1364.56 1568.04 L1364.56 1562.63 Q1362.56 1565.88 1359.56 1567.44 Q1356.57 1568.97 1352.24 1568.97 Q1346.77 1568.97 1343.52 1565.91 Q1340.31 1562.82 1340.31 1557.67 Q1340.31 1551.65 1344.32 1548.6 Q1348.36 1545.54 1356.35 1545.54 L1364.56 1545.54 L1364.56 1544.97 Q1364.56 1540.93 1361.89 1538.73 Q1359.25 1536.5 1354.44 1536.5 Q1351.38 1536.5 1348.49 1537.23 Q1345.59 1537.97 1342.92 1539.43 L1342.92 1534.02 Q1346.13 1532.78 1349.16 1532.17 Q1352.18 1531.54 1355.04 1531.54 Q1362.78 1531.54 1366.6 1535.55 Q1370.42 1539.56 1370.42 1547.71 Z\" fill=\"#000000\" fill-rule=\"evenodd\" fill-opacity=\"1\" /><path clip-path=\"url(#clip220)\" d=\"M1410.24 1539.24 Q1412.43 1535.29 1415.49 1533.41 Q1418.54 1531.54 1422.68 1531.54 Q1428.25 1531.54 1431.27 1535.45 Q1434.3 1539.33 1434.3 1546.53 L1434.3 1568.04 L1428.41 1568.04 L1428.41 1546.72 Q1428.41 1541.59 1426.6 1539.11 Q1424.78 1536.63 1421.06 1536.63 Q1416.51 1536.63 1413.86 1539.65 Q1411.22 1542.68 1411.22 1547.9 L1411.22 1568.04 L1405.33 1568.04 L1405.33 1546.72 Q1405.33 1541.56 1403.52 1539.11 Q1401.71 1536.63 1397.92 1536.63 Q1393.43 1536.63 1390.79 1539.68 Q1388.15 1542.71 1388.15 1547.9 L1388.15 1568.04 L1382.26 1568.04 L1382.26 1532.4 L1388.15 1532.4 L1388.15 1537.93 Q1390.15 1534.66 1392.95 1533.1 Q1395.75 1531.54 1399.6 1531.54 Q1403.49 1531.54 1406.19 1533.51 Q1408.93 1535.48 1410.24 1539.24 Z\" fill=\"#000000\" fill-rule=\"evenodd\" fill-opacity=\"1\" /><path clip-path=\"url(#clip220)\" d=\"M1476.47 1548.76 L1476.47 1551.62 L1449.54 1551.62 Q1449.93 1557.67 1453.17 1560.85 Q1456.45 1564 1462.28 1564 Q1465.65 1564 1468.8 1563.17 Q1471.98 1562.35 1475.1 1560.69 L1475.1 1566.23 Q1471.95 1567.57 1468.64 1568.27 Q1465.33 1568.97 1461.93 1568.97 Q1453.39 1568.97 1448.4 1564 Q1443.43 1559.04 1443.43 1550.57 Q1443.43 1541.82 1448.14 1536.69 Q1452.89 1531.54 1460.91 1531.54 Q1468.1 1531.54 1472.27 1536.18 Q1476.47 1540.8 1476.47 1548.76 M1470.61 1547.04 Q1470.55 1542.23 1467.91 1539.37 Q1465.3 1536.5 1460.97 1536.5 Q1456.07 1536.5 1453.11 1539.27 Q1450.18 1542.04 1449.73 1547.07 L1470.61 1547.04 Z\" fill=\"#000000\" fill-rule=\"evenodd\" fill-opacity=\"1\" /><path clip-path=\"url(#clip220)\" d=\"M1491.88 1522.27 L1491.88 1532.4 L1503.94 1532.4 L1503.94 1536.95 L1491.88 1536.95 L1491.88 1556.3 Q1491.88 1560.66 1493.05 1561.9 Q1494.26 1563.14 1497.92 1563.14 L1503.94 1563.14 L1503.94 1568.04 L1497.92 1568.04 Q1491.14 1568.04 1488.57 1565.53 Q1485.99 1562.98 1485.99 1556.3 L1485.99 1536.95 L1481.69 1536.95 L1481.69 1532.4 L1485.99 1532.4 L1485.99 1522.27 L1491.88 1522.27 Z\" fill=\"#000000\" fill-rule=\"evenodd\" fill-opacity=\"1\" /><path clip-path=\"url(#clip220)\" d=\"M1542.13 1548.76 L1542.13 1551.62 L1515.21 1551.62 Q1515.59 1557.67 1518.83 1560.85 Q1522.11 1564 1527.94 1564 Q1531.31 1564 1534.46 1563.17 Q1537.65 1562.35 1540.76 1560.69 L1540.76 1566.23 Q1537.61 1567.57 1534.3 1568.27 Q1530.99 1568.97 1527.59 1568.97 Q1519.06 1568.97 1514.06 1564 Q1509.09 1559.04 1509.09 1550.57 Q1509.09 1541.82 1513.81 1536.69 Q1518.55 1531.54 1526.57 1531.54 Q1533.76 1531.54 1537.93 1536.18 Q1542.13 1540.8 1542.13 1548.76 M1536.28 1547.04 Q1536.21 1542.23 1533.57 1539.37 Q1530.96 1536.5 1526.63 1536.5 Q1521.73 1536.5 1518.77 1539.27 Q1515.84 1542.04 1515.4 1547.07 L1536.28 1547.04 Z\" fill=\"#000000\" fill-rule=\"evenodd\" fill-opacity=\"1\" /><path clip-path=\"url(#clip220)\" d=\"M1572.4 1537.87 Q1571.42 1537.3 1570.24 1537.04 Q1569.09 1536.76 1567.69 1536.76 Q1562.73 1536.76 1560.05 1540 Q1557.41 1543.22 1557.41 1549.27 L1557.41 1568.04 L1551.52 1568.04 L1551.52 1532.4 L1557.41 1532.4 L1557.41 1537.93 Q1559.26 1534.69 1562.22 1533.13 Q1565.18 1531.54 1569.41 1531.54 Q1570.01 1531.54 1570.75 1531.63 Q1571.48 1531.7 1572.37 1531.85 L1572.4 1537.87 Z\" fill=\"#000000\" fill-rule=\"evenodd\" fill-opacity=\"1\" /><polyline clip-path=\"url(#clip222)\" style=\"stroke:#000000; stroke-linecap:butt; stroke-linejoin:round; stroke-width:2; stroke-opacity:0.1; fill:none\" points=\"\n  219.866,1129.54 2352.76,1129.54 \n  \"/>\n<polyline clip-path=\"url(#clip222)\" style=\"stroke:#000000; stroke-linecap:butt; stroke-linejoin:round; stroke-width:2; stroke-opacity:0.1; fill:none\" points=\"\n  219.866,816.851 2352.76,816.851 \n  \"/>\n<polyline clip-path=\"url(#clip222)\" style=\"stroke:#000000; stroke-linecap:butt; stroke-linejoin:round; stroke-width:2; stroke-opacity:0.1; fill:none\" points=\"\n  219.866,504.166 2352.76,504.166 \n  \"/>\n<polyline clip-path=\"url(#clip222)\" style=\"stroke:#000000; stroke-linecap:butt; stroke-linejoin:round; stroke-width:2; stroke-opacity:0.1; fill:none\" points=\"\n  219.866,191.481 2352.76,191.481 \n  \"/>\n<polyline clip-path=\"url(#clip220)\" style=\"stroke:#000000; stroke-linecap:butt; stroke-linejoin:round; stroke-width:4; stroke-opacity:1; fill:none\" points=\"\n  219.866,1423.18 219.866,47.2441 \n  \"/>\n<polyline clip-path=\"url(#clip220)\" style=\"stroke:#000000; stroke-linecap:butt; stroke-linejoin:round; stroke-width:4; stroke-opacity:1; fill:none\" points=\"\n  219.866,1129.54 238.764,1129.54 \n  \"/>\n<polyline clip-path=\"url(#clip220)\" style=\"stroke:#000000; stroke-linecap:butt; stroke-linejoin:round; stroke-width:4; stroke-opacity:1; fill:none\" points=\"\n  219.866,816.851 238.764,816.851 \n  \"/>\n<polyline clip-path=\"url(#clip220)\" style=\"stroke:#000000; stroke-linecap:butt; stroke-linejoin:round; stroke-width:4; stroke-opacity:1; fill:none\" points=\"\n  219.866,504.166 238.764,504.166 \n  \"/>\n<polyline clip-path=\"url(#clip220)\" style=\"stroke:#000000; stroke-linecap:butt; stroke-linejoin:round; stroke-width:4; stroke-opacity:1; fill:none\" points=\"\n  219.866,191.481 238.764,191.481 \n  \"/>\n<path clip-path=\"url(#clip220)\" d=\"M128.288 1115.33 Q124.677 1115.33 122.848 1118.9 Q121.043 1122.44 121.043 1129.57 Q121.043 1136.68 122.848 1140.24 Q124.677 1143.78 128.288 1143.78 Q131.922 1143.78 133.728 1140.24 Q135.556 1136.68 135.556 1129.57 Q135.556 1122.44 133.728 1118.9 Q131.922 1115.33 128.288 1115.33 M128.288 1111.63 Q134.098 1111.63 137.154 1116.24 Q140.232 1120.82 140.232 1129.57 Q140.232 1138.3 137.154 1142.9 Q134.098 1147.49 128.288 1147.49 Q122.478 1147.49 119.399 1142.9 Q116.343 1138.3 116.343 1129.57 Q116.343 1120.82 119.399 1116.24 Q122.478 1111.63 128.288 1111.63 Z\" fill=\"#000000\" fill-rule=\"evenodd\" fill-opacity=\"1\" /><path clip-path=\"url(#clip220)\" d=\"M148.45 1140.94 L153.334 1140.94 L153.334 1146.82 L148.45 1146.82 L148.45 1140.94 Z\" fill=\"#000000\" fill-rule=\"evenodd\" fill-opacity=\"1\" /><path clip-path=\"url(#clip220)\" d=\"M167.547 1142.88 L183.866 1142.88 L183.866 1146.82 L161.922 1146.82 L161.922 1142.88 Q164.584 1140.13 169.167 1135.5 Q173.774 1130.84 174.954 1129.5 Q177.2 1126.98 178.079 1125.24 Q178.982 1123.48 178.982 1121.79 Q178.982 1119.04 177.038 1117.3 Q175.116 1115.57 172.014 1115.57 Q169.815 1115.57 167.362 1116.33 Q164.931 1117.09 162.153 1118.64 L162.153 1113.92 Q164.977 1112.79 167.431 1112.21 Q169.885 1111.63 171.922 1111.63 Q177.292 1111.63 180.487 1114.32 Q183.681 1117 183.681 1121.49 Q183.681 1123.62 182.871 1125.54 Q182.084 1127.44 179.977 1130.03 Q179.399 1130.7 176.297 1133.92 Q173.195 1137.12 167.547 1142.88 Z\" fill=\"#000000\" fill-rule=\"evenodd\" fill-opacity=\"1\" /><path clip-path=\"url(#clip220)\" d=\"M126.205 802.649 Q122.593 802.649 120.765 806.214 Q118.959 809.756 118.959 816.886 Q118.959 823.992 120.765 827.557 Q122.593 831.098 126.205 831.098 Q129.839 831.098 131.644 827.557 Q133.473 823.992 133.473 816.886 Q133.473 809.756 131.644 806.214 Q129.839 802.649 126.205 802.649 M126.205 798.946 Q132.015 798.946 135.07 803.552 Q138.149 808.136 138.149 816.886 Q138.149 825.612 135.07 830.219 Q132.015 834.802 126.205 834.802 Q120.394 834.802 117.316 830.219 Q114.26 825.612 114.26 816.886 Q114.26 808.136 117.316 803.552 Q120.394 798.946 126.205 798.946 Z\" fill=\"#000000\" fill-rule=\"evenodd\" fill-opacity=\"1\" /><path clip-path=\"url(#clip220)\" d=\"M146.366 828.251 L151.251 828.251 L151.251 834.131 L146.366 834.131 L146.366 828.251 Z\" fill=\"#000000\" fill-rule=\"evenodd\" fill-opacity=\"1\" /><path clip-path=\"url(#clip220)\" d=\"M174.283 803.645 L162.477 822.094 L174.283 822.094 L174.283 803.645 M173.056 799.571 L178.936 799.571 L178.936 822.094 L183.866 822.094 L183.866 825.983 L178.936 825.983 L178.936 834.131 L174.283 834.131 L174.283 825.983 L158.681 825.983 L158.681 821.469 L173.056 799.571 Z\" fill=\"#000000\" fill-rule=\"evenodd\" fill-opacity=\"1\" /><path clip-path=\"url(#clip220)\" d=\"M126.529 489.965 Q122.918 489.965 121.089 493.53 Q119.283 497.071 119.283 504.201 Q119.283 511.307 121.089 514.872 Q122.918 518.414 126.529 518.414 Q130.163 518.414 131.968 514.872 Q133.797 511.307 133.797 504.201 Q133.797 497.071 131.968 493.53 Q130.163 489.965 126.529 489.965 M126.529 486.261 Q132.339 486.261 135.394 490.868 Q138.473 495.451 138.473 504.201 Q138.473 512.928 135.394 517.534 Q132.339 522.117 126.529 522.117 Q120.718 522.117 117.64 517.534 Q114.584 512.928 114.584 504.201 Q114.584 495.451 117.64 490.868 Q120.718 486.261 126.529 486.261 Z\" fill=\"#000000\" fill-rule=\"evenodd\" fill-opacity=\"1\" /><path clip-path=\"url(#clip220)\" d=\"M146.691 515.566 L151.575 515.566 L151.575 521.446 L146.691 521.446 L146.691 515.566 Z\" fill=\"#000000\" fill-rule=\"evenodd\" fill-opacity=\"1\" /><path clip-path=\"url(#clip220)\" d=\"M172.339 502.303 Q169.19 502.303 167.339 504.455 Q165.51 506.608 165.51 510.358 Q165.51 514.085 167.339 516.261 Q169.19 518.414 172.339 518.414 Q175.487 518.414 177.315 516.261 Q179.167 514.085 179.167 510.358 Q179.167 506.608 177.315 504.455 Q175.487 502.303 172.339 502.303 M181.621 487.65 L181.621 491.909 Q179.862 491.076 178.056 490.636 Q176.274 490.196 174.514 490.196 Q169.885 490.196 167.431 493.321 Q165.001 496.446 164.653 502.766 Q166.019 500.752 168.079 499.687 Q170.139 498.599 172.616 498.599 Q177.825 498.599 180.834 501.77 Q183.866 504.918 183.866 510.358 Q183.866 515.682 180.718 518.9 Q177.57 522.117 172.339 522.117 Q166.343 522.117 163.172 517.534 Q160.001 512.928 160.001 504.201 Q160.001 496.006 163.89 491.145 Q167.778 486.261 174.329 486.261 Q176.089 486.261 177.871 486.608 Q179.676 486.956 181.621 487.65 Z\" fill=\"#000000\" fill-rule=\"evenodd\" fill-opacity=\"1\" /><path clip-path=\"url(#clip220)\" d=\"M126.783 177.28 Q123.172 177.28 121.343 180.845 Q119.538 184.386 119.538 191.516 Q119.538 198.623 121.343 202.187 Q123.172 205.729 126.783 205.729 Q130.417 205.729 132.223 202.187 Q134.052 198.623 134.052 191.516 Q134.052 184.386 132.223 180.845 Q130.417 177.28 126.783 177.28 M126.783 173.576 Q132.593 173.576 135.649 178.183 Q138.728 182.766 138.728 191.516 Q138.728 200.243 135.649 204.849 Q132.593 209.433 126.783 209.433 Q120.973 209.433 117.894 204.849 Q114.839 200.243 114.839 191.516 Q114.839 182.766 117.894 178.183 Q120.973 173.576 126.783 173.576 Z\" fill=\"#000000\" fill-rule=\"evenodd\" fill-opacity=\"1\" /><path clip-path=\"url(#clip220)\" d=\"M146.945 202.882 L151.829 202.882 L151.829 208.761 L146.945 208.761 L146.945 202.882 Z\" fill=\"#000000\" fill-rule=\"evenodd\" fill-opacity=\"1\" /><path clip-path=\"url(#clip220)\" d=\"M172.014 192.349 Q168.681 192.349 166.76 194.132 Q164.862 195.914 164.862 199.039 Q164.862 202.164 166.76 203.947 Q168.681 205.729 172.014 205.729 Q175.348 205.729 177.269 203.947 Q179.19 202.141 179.19 199.039 Q179.19 195.914 177.269 194.132 Q175.371 192.349 172.014 192.349 M167.339 190.359 Q164.329 189.618 162.64 187.558 Q160.973 185.498 160.973 182.535 Q160.973 178.391 163.913 175.984 Q166.876 173.576 172.014 173.576 Q177.176 173.576 180.116 175.984 Q183.056 178.391 183.056 182.535 Q183.056 185.498 181.366 187.558 Q179.7 189.618 176.714 190.359 Q180.093 191.146 181.968 193.437 Q183.866 195.729 183.866 199.039 Q183.866 204.062 180.788 206.747 Q177.732 209.433 172.014 209.433 Q166.297 209.433 163.218 206.747 Q160.163 204.062 160.163 199.039 Q160.163 195.729 162.061 193.437 Q163.959 191.146 167.339 190.359 M165.626 182.974 Q165.626 185.66 167.292 187.164 Q168.982 188.669 172.014 188.669 Q175.024 188.669 176.714 187.164 Q178.426 185.66 178.426 182.974 Q178.426 180.289 176.714 178.785 Q175.024 177.28 172.014 177.28 Q168.982 177.28 167.292 178.785 Q165.626 180.289 165.626 182.974 Z\" fill=\"#000000\" fill-rule=\"evenodd\" fill-opacity=\"1\" /><path clip-path=\"url(#clip220)\" d=\"M16.4842 1237.77 L16.4842 1229.11 L56.238 1208.04 L16.4842 1208.04 L16.4842 1201.8 L64.0042 1201.8 L64.0042 1210.46 L24.2503 1231.53 L64.0042 1231.53 L64.0042 1237.77 L16.4842 1237.77 Z\" fill=\"#000000\" fill-rule=\"evenodd\" fill-opacity=\"1\" /><path clip-path=\"url(#clip220)\" d=\"M32.4621 1175.45 Q32.4621 1180.16 36.1542 1182.9 Q39.8145 1185.63 46.212 1185.63 Q52.6095 1185.63 56.3017 1182.93 Q59.9619 1180.19 59.9619 1175.45 Q59.9619 1170.77 56.2698 1168.03 Q52.5777 1165.3 46.212 1165.3 Q39.8781 1165.3 36.186 1168.03 Q32.4621 1170.77 32.4621 1175.45 M27.4968 1175.45 Q27.4968 1167.81 32.4621 1163.45 Q37.4273 1159.09 46.212 1159.09 Q54.9649 1159.09 59.9619 1163.45 Q64.9272 1167.81 64.9272 1175.45 Q64.9272 1183.12 59.9619 1187.48 Q54.9649 1191.81 46.212 1191.81 Q37.4273 1191.81 32.4621 1187.48 Q27.4968 1183.12 27.4968 1175.45 Z\" fill=\"#000000\" fill-rule=\"evenodd\" fill-opacity=\"1\" /><path clip-path=\"url(#clip220)\" d=\"M33.8307 1128.72 Q33.2578 1129.71 33.0032 1130.89 Q32.7167 1132.03 32.7167 1133.43 Q32.7167 1138.4 35.9632 1141.07 Q39.1779 1143.72 45.2253 1143.72 L64.0042 1143.72 L64.0042 1149.6 L28.3562 1149.6 L28.3562 1143.72 L33.8944 1143.72 Q30.6479 1141.87 29.0883 1138.91 Q27.4968 1135.95 27.4968 1131.72 Q27.4968 1131.11 27.5923 1130.38 Q27.656 1129.65 27.8151 1128.76 L33.8307 1128.72 Z\" fill=\"#000000\" fill-rule=\"evenodd\" fill-opacity=\"1\" /><path clip-path=\"url(#clip220)\" d=\"M35.1993 1095.97 Q31.2526 1093.78 29.3747 1090.72 Q27.4968 1087.67 27.4968 1083.53 Q27.4968 1077.96 31.4117 1074.93 Q35.2948 1071.91 42.4881 1071.91 L64.0042 1071.91 L64.0042 1077.8 L42.679 1077.8 Q37.5546 1077.8 35.072 1079.61 Q32.5894 1081.43 32.5894 1085.15 Q32.5894 1089.7 35.6131 1092.34 Q38.6368 1094.99 43.8567 1094.99 L64.0042 1094.99 L64.0042 1100.87 L42.679 1100.87 Q37.5228 1100.87 35.072 1102.69 Q32.5894 1104.5 32.5894 1108.29 Q32.5894 1112.78 35.6449 1115.42 Q38.6686 1118.06 43.8567 1118.06 L64.0042 1118.06 L64.0042 1123.95 L28.3562 1123.95 L28.3562 1118.06 L33.8944 1118.06 Q30.616 1116.06 29.0564 1113.26 Q27.4968 1110.45 27.4968 1106.6 Q27.4968 1102.72 29.4702 1100.01 Q31.4436 1097.28 35.1993 1095.97 Z\" fill=\"#000000\" fill-rule=\"evenodd\" fill-opacity=\"1\" /><path clip-path=\"url(#clip220)\" d=\"M46.0847 1044.03 Q46.0847 1051.13 47.7079 1053.86 Q49.3312 1056.6 53.2461 1056.6 Q56.3653 1056.6 58.2114 1054.56 Q60.0256 1052.49 60.0256 1048.96 Q60.0256 1044.09 56.5881 1041.16 Q53.1188 1038.2 47.3897 1038.2 L46.0847 1038.2 L46.0847 1044.03 M43.6657 1032.35 L64.0042 1032.35 L64.0042 1038.2 L58.5933 1038.2 Q61.8398 1040.21 63.3994 1043.2 Q64.9272 1046.19 64.9272 1050.52 Q64.9272 1056 61.8716 1059.24 Q58.7843 1062.46 53.6281 1062.46 Q47.6125 1062.46 44.5569 1058.45 Q41.5014 1054.4 41.5014 1046.42 L41.5014 1038.2 L40.9285 1038.2 Q36.8862 1038.2 34.6901 1040.88 Q32.4621 1043.52 32.4621 1048.33 Q32.4621 1051.38 33.1941 1054.28 Q33.9262 1057.17 35.3903 1059.85 L29.9795 1059.85 Q28.7381 1056.63 28.1334 1053.61 Q27.4968 1050.58 27.4968 1047.72 Q27.4968 1039.99 31.5072 1036.17 Q35.5176 1032.35 43.6657 1032.35 Z\" fill=\"#000000\" fill-rule=\"evenodd\" fill-opacity=\"1\" /><path clip-path=\"url(#clip220)\" d=\"M14.479 1020.28 L14.479 1014.43 L64.0042 1014.43 L64.0042 1020.28 L14.479 1020.28 Z\" fill=\"#000000\" fill-rule=\"evenodd\" fill-opacity=\"1\" /><path clip-path=\"url(#clip220)\" d=\"M28.3562 1002.17 L28.3562 996.317 L64.0042 996.317 L64.0042 1002.17 L28.3562 1002.17 M14.479 1002.17 L14.479 996.317 L21.895 996.317 L21.895 1002.17 L14.479 1002.17 Z\" fill=\"#000000\" fill-rule=\"evenodd\" fill-opacity=\"1\" /><path clip-path=\"url(#clip220)\" d=\"M28.3562 986.61 L28.3562 958.791 L33.7034 958.791 L59.3254 980.817 L59.3254 958.791 L64.0042 958.791 L64.0042 987.405 L58.657 987.405 L33.035 965.38 L33.035 986.61 L28.3562 986.61 Z\" fill=\"#000000\" fill-rule=\"evenodd\" fill-opacity=\"1\" /><path clip-path=\"url(#clip220)\" d=\"M44.7161 919.356 L47.5806 919.356 L47.5806 946.283 Q53.6281 945.901 56.8109 942.654 Q59.9619 939.376 59.9619 933.551 Q59.9619 930.178 59.1344 927.027 Q58.3069 923.844 56.6518 920.725 L62.1899 920.725 Q63.5267 923.876 64.227 927.186 Q64.9272 930.496 64.9272 933.902 Q64.9272 942.432 59.9619 947.429 Q54.9967 952.394 46.5303 952.394 Q37.7774 952.394 32.6531 947.683 Q27.4968 942.941 27.4968 934.92 Q27.4968 927.727 32.1438 923.557 Q36.7589 919.356 44.7161 919.356 M42.9973 925.212 Q38.1912 925.276 35.3266 927.918 Q32.4621 930.528 32.4621 934.856 Q32.4621 939.758 35.2312 942.718 Q38.0002 945.646 43.0292 946.092 L42.9973 925.212 Z\" fill=\"#000000\" fill-rule=\"evenodd\" fill-opacity=\"1\" /><path clip-path=\"url(#clip220)\" d=\"M33.7671 886.286 L14.479 886.286 L14.479 880.43 L64.0042 880.43 L64.0042 886.286 L58.657 886.286 Q61.8398 888.132 63.3994 890.965 Q64.9272 893.766 64.9272 897.713 Q64.9272 904.174 59.771 908.248 Q54.6147 912.29 46.212 912.29 Q37.8093 912.29 32.6531 908.248 Q27.4968 904.174 27.4968 897.713 Q27.4968 893.766 29.0564 890.965 Q30.5842 888.132 33.7671 886.286 M46.212 906.243 Q52.6732 906.243 56.3653 903.601 Q60.0256 900.927 60.0256 896.28 Q60.0256 891.633 56.3653 888.96 Q52.6732 886.286 46.212 886.286 Q39.7508 886.286 36.0905 888.96 Q32.3984 891.633 32.3984 896.28 Q32.3984 900.927 36.0905 903.601 Q39.7508 906.243 46.212 906.243 Z\" fill=\"#000000\" fill-rule=\"evenodd\" fill-opacity=\"1\" /><path clip-path=\"url(#clip220)\" d=\"M35.1993 819.892 Q31.2526 817.696 29.3747 814.64 Q27.4968 811.585 27.4968 807.447 Q27.4968 801.877 31.4117 798.853 Q35.2948 795.829 42.4881 795.829 L64.0042 795.829 L64.0042 801.718 L42.679 801.718 Q37.5546 801.718 35.072 803.532 Q32.5894 805.346 32.5894 809.07 Q32.5894 813.622 35.6131 816.263 Q38.6368 818.905 43.8567 818.905 L64.0042 818.905 L64.0042 824.793 L42.679 824.793 Q37.5228 824.793 35.072 826.608 Q32.5894 828.422 32.5894 832.209 Q32.5894 836.697 35.6449 839.339 Q38.6686 841.981 43.8567 841.981 L64.0042 841.981 L64.0042 847.869 L28.3562 847.869 L28.3562 841.981 L33.8944 841.981 Q30.616 839.976 29.0564 837.175 Q27.4968 834.374 27.4968 830.523 Q27.4968 826.639 29.4702 823.934 Q31.4436 821.197 35.1993 819.892 Z\" fill=\"#000000\" fill-rule=\"evenodd\" fill-opacity=\"1\" /><path clip-path=\"url(#clip220)\" d=\"M49.9359 784.753 L28.3562 784.753 L28.3562 778.897 L49.7131 778.897 Q54.7739 778.897 57.3202 776.923 Q59.8346 774.95 59.8346 771.003 Q59.8346 766.261 56.8109 763.523 Q53.7872 760.754 48.5673 760.754 L28.3562 760.754 L28.3562 754.898 L64.0042 754.898 L64.0042 760.754 L58.5296 760.754 Q61.7762 762.887 63.3676 765.72 Q64.9272 768.521 64.9272 772.244 Q64.9272 778.387 61.1078 781.57 Q57.2883 784.753 49.9359 784.753 M27.4968 770.016 L27.4968 770.016 Z\" fill=\"#000000\" fill-rule=\"evenodd\" fill-opacity=\"1\" /><path clip-path=\"url(#clip220)\" d=\"M18.2347 737.042 L28.3562 737.042 L28.3562 724.979 L32.9077 724.979 L32.9077 737.042 L52.2594 737.042 Q56.6199 737.042 57.8613 735.864 Q59.1026 734.655 59.1026 730.995 L59.1026 724.979 L64.0042 724.979 L64.0042 730.995 Q64.0042 737.774 61.4897 740.352 Q58.9434 742.93 52.2594 742.93 L32.9077 742.93 L32.9077 747.227 L28.3562 747.227 L28.3562 742.93 L18.2347 742.93 L18.2347 737.042 Z\" fill=\"#000000\" fill-rule=\"evenodd\" fill-opacity=\"1\" /><path clip-path=\"url(#clip220)\" d=\"M49.9359 717.881 L28.3562 717.881 L28.3562 712.025 L49.7131 712.025 Q54.7739 712.025 57.3202 710.052 Q59.8346 708.078 59.8346 704.131 Q59.8346 699.389 56.8109 696.652 Q53.7872 693.883 48.5673 693.883 L28.3562 693.883 L28.3562 688.026 L64.0042 688.026 L64.0042 693.883 L58.5296 693.883 Q61.7762 696.015 63.3676 698.848 Q64.9272 701.649 64.9272 705.373 Q64.9272 711.516 61.1078 714.698 Q57.2883 717.881 49.9359 717.881 M27.4968 703.145 L27.4968 703.145 Z\" fill=\"#000000\" fill-rule=\"evenodd\" fill-opacity=\"1\" /><path clip-path=\"url(#clip220)\" d=\"M46.0847 659.762 Q46.0847 666.86 47.7079 669.597 Q49.3312 672.335 53.2461 672.335 Q56.3653 672.335 58.2114 670.298 Q60.0256 668.229 60.0256 664.696 Q60.0256 659.826 56.5881 656.898 Q53.1188 653.938 47.3897 653.938 L46.0847 653.938 L46.0847 659.762 M43.6657 648.081 L64.0042 648.081 L64.0042 653.938 L58.5933 653.938 Q61.8398 655.943 63.3994 658.935 Q64.9272 661.927 64.9272 666.255 Q64.9272 671.73 61.8716 674.976 Q58.7843 678.191 53.6281 678.191 Q47.6125 678.191 44.5569 674.181 Q41.5014 670.139 41.5014 662.15 L41.5014 653.938 L40.9285 653.938 Q36.8862 653.938 34.6901 656.611 Q32.4621 659.253 32.4621 664.059 Q32.4621 667.115 33.1941 670.011 Q33.9262 672.908 35.3903 675.581 L29.9795 675.581 Q28.7381 672.367 28.1334 669.343 Q27.4968 666.319 27.4968 663.455 Q27.4968 655.72 31.5072 651.901 Q35.5176 648.081 43.6657 648.081 Z\" fill=\"#000000\" fill-rule=\"evenodd\" fill-opacity=\"1\" /><path clip-path=\"url(#clip220)\" d=\"M14.479 636.018 L14.479 630.162 L64.0042 630.162 L64.0042 636.018 L14.479 636.018 Z\" fill=\"#000000\" fill-rule=\"evenodd\" fill-opacity=\"1\" /><path clip-path=\"url(#clip220)\" d=\"M28.3562 597.188 L28.3562 591.331 L64.0042 591.331 L64.0042 597.188 L28.3562 597.188 M14.479 597.188 L14.479 591.331 L21.895 591.331 L21.895 597.188 L14.479 597.188 Z\" fill=\"#000000\" fill-rule=\"evenodd\" fill-opacity=\"1\" /><path clip-path=\"url(#clip220)\" d=\"M42.4881 549.445 L64.0042 549.445 L64.0042 555.301 L42.679 555.301 Q37.6183 555.301 35.1038 557.275 Q32.5894 559.248 32.5894 563.195 Q32.5894 567.937 35.6131 570.674 Q38.6368 573.412 43.8567 573.412 L64.0042 573.412 L64.0042 579.3 L28.3562 579.3 L28.3562 573.412 L33.8944 573.412 Q30.6797 571.311 29.0883 568.478 Q27.4968 565.614 27.4968 561.89 Q27.4968 555.747 31.3163 552.596 Q35.1038 549.445 42.4881 549.445 Z\" fill=\"#000000\" fill-rule=\"evenodd\" fill-opacity=\"1\" /><path clip-path=\"url(#clip220)\" d=\"M14.479 519.717 L19.3487 519.717 L19.3487 525.319 Q19.3487 528.47 20.6219 529.711 Q21.895 530.921 25.2052 530.921 L28.3562 530.921 L28.3562 521.276 L32.9077 521.276 L32.9077 530.921 L64.0042 530.921 L64.0042 536.809 L32.9077 536.809 L32.9077 542.411 L28.3562 542.411 L28.3562 536.809 L25.8736 536.809 Q19.9216 536.809 17.2162 534.04 Q14.479 531.271 14.479 525.255 L14.479 519.717 Z\" fill=\"#000000\" fill-rule=\"evenodd\" fill-opacity=\"1\" /><path clip-path=\"url(#clip220)\" d=\"M32.4621 501.002 Q32.4621 505.712 36.1542 508.45 Q39.8145 511.187 46.212 511.187 Q52.6095 511.187 56.3017 508.481 Q59.9619 505.744 59.9619 501.002 Q59.9619 496.323 56.2698 493.586 Q52.5777 490.848 46.212 490.848 Q39.8781 490.848 36.186 493.586 Q32.4621 496.323 32.4621 501.002 M27.4968 501.002 Q27.4968 493.363 32.4621 489.002 Q37.4273 484.642 46.212 484.642 Q54.9649 484.642 59.9619 489.002 Q64.9272 493.363 64.9272 501.002 Q64.9272 508.672 59.9619 513.033 Q54.9649 517.362 46.212 517.362 Q37.4273 517.362 32.4621 513.033 Q27.4968 508.672 27.4968 501.002 Z\" fill=\"#000000\" fill-rule=\"evenodd\" fill-opacity=\"1\" /><path clip-path=\"url(#clip220)\" d=\"M33.8307 454.277 Q33.2578 455.264 33.0032 456.442 Q32.7167 457.588 32.7167 458.988 Q32.7167 463.953 35.9632 466.627 Q39.1779 469.269 45.2253 469.269 L64.0042 469.269 L64.0042 475.157 L28.3562 475.157 L28.3562 469.269 L33.8944 469.269 Q30.6479 467.423 29.0883 464.463 Q27.4968 461.502 27.4968 457.269 Q27.4968 456.665 27.5923 455.933 Q27.656 455.2 27.8151 454.309 L33.8307 454.277 Z\" fill=\"#000000\" fill-rule=\"evenodd\" fill-opacity=\"1\" /><path clip-path=\"url(#clip220)\" d=\"M35.1993 421.526 Q31.2526 419.33 29.3747 416.274 Q27.4968 413.219 27.4968 409.081 Q27.4968 403.511 31.4117 400.487 Q35.2948 397.463 42.4881 397.463 L64.0042 397.463 L64.0042 403.352 L42.679 403.352 Q37.5546 403.352 35.072 405.166 Q32.5894 406.98 32.5894 410.704 Q32.5894 415.256 35.6131 417.897 Q38.6368 420.539 43.8567 420.539 L64.0042 420.539 L64.0042 426.427 L42.679 426.427 Q37.5228 426.427 35.072 428.242 Q32.5894 430.056 32.5894 433.844 Q32.5894 438.331 35.6449 440.973 Q38.6686 443.615 43.8567 443.615 L64.0042 443.615 L64.0042 449.503 L28.3562 449.503 L28.3562 443.615 L33.8944 443.615 Q30.616 441.61 29.0564 438.809 Q27.4968 436.008 27.4968 432.157 Q27.4968 428.274 29.4702 425.568 Q31.4436 422.831 35.1993 421.526 Z\" fill=\"#000000\" fill-rule=\"evenodd\" fill-opacity=\"1\" /><path clip-path=\"url(#clip220)\" d=\"M46.0847 369.582 Q46.0847 376.679 47.7079 379.417 Q49.3312 382.154 53.2461 382.154 Q56.3653 382.154 58.2114 380.117 Q60.0256 378.048 60.0256 374.515 Q60.0256 369.645 56.5881 366.717 Q53.1188 363.757 47.3897 363.757 L46.0847 363.757 L46.0847 369.582 M43.6657 357.901 L64.0042 357.901 L64.0042 363.757 L58.5933 363.757 Q61.8398 365.762 63.3994 368.754 Q64.9272 371.746 64.9272 376.075 Q64.9272 381.549 61.8716 384.796 Q58.7843 388.01 53.6281 388.01 Q47.6125 388.01 44.5569 384 Q41.5014 379.958 41.5014 371.969 L41.5014 363.757 L40.9285 363.757 Q36.8862 363.757 34.6901 366.431 Q32.4621 369.072 32.4621 373.879 Q32.4621 376.934 33.1941 379.83 Q33.9262 382.727 35.3903 385.4 L29.9795 385.4 Q28.7381 382.186 28.1334 379.162 Q27.4968 376.138 27.4968 373.274 Q27.4968 365.539 31.5072 361.72 Q35.5176 357.901 43.6657 357.901 Z\" fill=\"#000000\" fill-rule=\"evenodd\" fill-opacity=\"1\" /><path clip-path=\"url(#clip220)\" d=\"M18.2347 340.045 L28.3562 340.045 L28.3562 327.982 L32.9077 327.982 L32.9077 340.045 L52.2594 340.045 Q56.6199 340.045 57.8613 338.867 Q59.1026 337.658 59.1026 333.997 L59.1026 327.982 L64.0042 327.982 L64.0042 333.997 Q64.0042 340.777 61.4897 343.355 Q58.9434 345.933 52.2594 345.933 L32.9077 345.933 L32.9077 350.23 L28.3562 350.23 L28.3562 345.933 L18.2347 345.933 L18.2347 340.045 Z\" fill=\"#000000\" fill-rule=\"evenodd\" fill-opacity=\"1\" /><path clip-path=\"url(#clip220)\" d=\"M28.3562 320.279 L28.3562 314.423 L64.0042 314.423 L64.0042 320.279 L28.3562 320.279 M14.479 320.279 L14.479 314.423 L21.895 314.423 L21.895 320.279 L14.479 320.279 Z\" fill=\"#000000\" fill-rule=\"evenodd\" fill-opacity=\"1\" /><path clip-path=\"url(#clip220)\" d=\"M32.4621 288.355 Q32.4621 293.066 36.1542 295.803 Q39.8145 298.54 46.212 298.54 Q52.6095 298.54 56.3017 295.835 Q59.9619 293.098 59.9619 288.355 Q59.9619 283.676 56.2698 280.939 Q52.5777 278.202 46.212 278.202 Q39.8781 278.202 36.186 280.939 Q32.4621 283.676 32.4621 288.355 M27.4968 288.355 Q27.4968 280.716 32.4621 276.356 Q37.4273 271.995 46.212 271.995 Q54.9649 271.995 59.9619 276.356 Q64.9272 280.716 64.9272 288.355 Q64.9272 296.026 59.9619 300.386 Q54.9649 304.715 46.212 304.715 Q37.4273 304.715 32.4621 300.386 Q27.4968 296.026 27.4968 288.355 Z\" fill=\"#000000\" fill-rule=\"evenodd\" fill-opacity=\"1\" /><path clip-path=\"url(#clip220)\" d=\"M42.4881 232.655 L64.0042 232.655 L64.0042 238.512 L42.679 238.512 Q37.6183 238.512 35.1038 240.485 Q32.5894 242.459 32.5894 246.405 Q32.5894 251.148 35.6131 253.885 Q38.6368 256.622 43.8567 256.622 L64.0042 256.622 L64.0042 262.511 L28.3562 262.511 L28.3562 256.622 L33.8944 256.622 Q30.6797 254.522 29.0883 251.689 Q27.4968 248.824 27.4968 245.1 Q27.4968 238.957 31.3163 235.806 Q35.1038 232.655 42.4881 232.655 Z\" fill=\"#000000\" fill-rule=\"evenodd\" fill-opacity=\"1\" /><polyline clip-path=\"url(#clip222)\" style=\"stroke:#009af9; stroke-linecap:butt; stroke-linejoin:round; stroke-width:4; stroke-opacity:1; fill:none\" points=\"\n  280.231,131.968 503.804,96.325 727.378,156.217 950.951,166.41 1174.52,250.875 1398.1,425.455 1621.67,925.847 1845.24,1259.34 2068.82,1291 2292.39,1377.56 \n  \n  \"/>\n<polyline clip-path=\"url(#clip222)\" style=\"stroke:#009af9; stroke-linecap:butt; stroke-linejoin:round; stroke-width:4; stroke-opacity:1; fill:none\" points=\"\n  280.231,138.468 280.231,125.469 \n  \"/>\n<polyline clip-path=\"url(#clip222)\" style=\"stroke:#009af9; stroke-linecap:butt; stroke-linejoin:round; stroke-width:4; stroke-opacity:1; fill:none\" points=\"\n  503.804,106.464 503.804,86.1857 \n  \"/>\n<polyline clip-path=\"url(#clip222)\" style=\"stroke:#009af9; stroke-linecap:butt; stroke-linejoin:round; stroke-width:4; stroke-opacity:1; fill:none\" points=\"\n  727.378,177.009 727.378,135.424 \n  \"/>\n<polyline clip-path=\"url(#clip222)\" style=\"stroke:#009af9; stroke-linecap:butt; stroke-linejoin:round; stroke-width:4; stroke-opacity:1; fill:none\" points=\"\n  950.951,217.923 950.951,114.897 \n  \"/>\n<polyline clip-path=\"url(#clip222)\" style=\"stroke:#009af9; stroke-linecap:butt; stroke-linejoin:round; stroke-width:4; stroke-opacity:1; fill:none\" points=\"\n  1174.52,261.456 1174.52,240.293 \n  \"/>\n<polyline clip-path=\"url(#clip222)\" style=\"stroke:#009af9; stroke-linecap:butt; stroke-linejoin:round; stroke-width:4; stroke-opacity:1; fill:none\" points=\"\n  1398.1,463.258 1398.1,387.651 \n  \"/>\n<polyline clip-path=\"url(#clip222)\" style=\"stroke:#009af9; stroke-linecap:butt; stroke-linejoin:round; stroke-width:4; stroke-opacity:1; fill:none\" points=\"\n  1621.67,1011.38 1621.67,840.317 \n  \"/>\n<polyline clip-path=\"url(#clip222)\" style=\"stroke:#009af9; stroke-linecap:butt; stroke-linejoin:round; stroke-width:4; stroke-opacity:1; fill:none\" points=\"\n  1845.24,1279.78 1845.24,1238.89 \n  \"/>\n<polyline clip-path=\"url(#clip222)\" style=\"stroke:#009af9; stroke-linecap:butt; stroke-linejoin:round; stroke-width:4; stroke-opacity:1; fill:none\" points=\"\n  2068.82,1300.42 2068.82,1281.57 \n  \"/>\n<polyline clip-path=\"url(#clip222)\" style=\"stroke:#009af9; stroke-linecap:butt; stroke-linejoin:round; stroke-width:4; stroke-opacity:1; fill:none\" points=\"\n  2292.39,1384.24 2292.39,1370.87 \n  \"/>\n<line clip-path=\"url(#clip222)\" x1=\"296.231\" y1=\"138.468\" x2=\"264.231\" y2=\"138.468\" style=\"stroke:#009af9; stroke-width:3.2; stroke-opacity:1\"/>\n<line clip-path=\"url(#clip222)\" x1=\"296.231\" y1=\"125.469\" x2=\"264.231\" y2=\"125.469\" style=\"stroke:#009af9; stroke-width:3.2; stroke-opacity:1\"/>\n<line clip-path=\"url(#clip222)\" x1=\"519.804\" y1=\"106.464\" x2=\"487.804\" y2=\"106.464\" style=\"stroke:#009af9; stroke-width:3.2; stroke-opacity:1\"/>\n<line clip-path=\"url(#clip222)\" x1=\"519.804\" y1=\"86.1857\" x2=\"487.804\" y2=\"86.1857\" style=\"stroke:#009af9; stroke-width:3.2; stroke-opacity:1\"/>\n<line clip-path=\"url(#clip222)\" x1=\"743.378\" y1=\"177.009\" x2=\"711.378\" y2=\"177.009\" style=\"stroke:#009af9; stroke-width:3.2; stroke-opacity:1\"/>\n<line clip-path=\"url(#clip222)\" x1=\"743.378\" y1=\"135.424\" x2=\"711.378\" y2=\"135.424\" style=\"stroke:#009af9; stroke-width:3.2; stroke-opacity:1\"/>\n<line clip-path=\"url(#clip222)\" x1=\"966.951\" y1=\"217.923\" x2=\"934.951\" y2=\"217.923\" style=\"stroke:#009af9; stroke-width:3.2; stroke-opacity:1\"/>\n<line clip-path=\"url(#clip222)\" x1=\"966.951\" y1=\"114.897\" x2=\"934.951\" y2=\"114.897\" style=\"stroke:#009af9; stroke-width:3.2; stroke-opacity:1\"/>\n<line clip-path=\"url(#clip222)\" x1=\"1190.52\" y1=\"261.456\" x2=\"1158.52\" y2=\"261.456\" style=\"stroke:#009af9; stroke-width:3.2; stroke-opacity:1\"/>\n<line clip-path=\"url(#clip222)\" x1=\"1190.52\" y1=\"240.293\" x2=\"1158.52\" y2=\"240.293\" style=\"stroke:#009af9; stroke-width:3.2; stroke-opacity:1\"/>\n<line clip-path=\"url(#clip222)\" x1=\"1414.1\" y1=\"463.258\" x2=\"1382.1\" y2=\"463.258\" style=\"stroke:#009af9; stroke-width:3.2; stroke-opacity:1\"/>\n<line clip-path=\"url(#clip222)\" x1=\"1414.1\" y1=\"387.651\" x2=\"1382.1\" y2=\"387.651\" style=\"stroke:#009af9; stroke-width:3.2; stroke-opacity:1\"/>\n<line clip-path=\"url(#clip222)\" x1=\"1637.67\" y1=\"1011.38\" x2=\"1605.67\" y2=\"1011.38\" style=\"stroke:#009af9; stroke-width:3.2; stroke-opacity:1\"/>\n<line clip-path=\"url(#clip222)\" x1=\"1637.67\" y1=\"840.317\" x2=\"1605.67\" y2=\"840.317\" style=\"stroke:#009af9; stroke-width:3.2; stroke-opacity:1\"/>\n<line clip-path=\"url(#clip222)\" x1=\"1861.24\" y1=\"1279.78\" x2=\"1829.24\" y2=\"1279.78\" style=\"stroke:#009af9; stroke-width:3.2; stroke-opacity:1\"/>\n<line clip-path=\"url(#clip222)\" x1=\"1861.24\" y1=\"1238.89\" x2=\"1829.24\" y2=\"1238.89\" style=\"stroke:#009af9; stroke-width:3.2; stroke-opacity:1\"/>\n<line clip-path=\"url(#clip222)\" x1=\"2084.82\" y1=\"1300.42\" x2=\"2052.82\" y2=\"1300.42\" style=\"stroke:#009af9; stroke-width:3.2; stroke-opacity:1\"/>\n<line clip-path=\"url(#clip222)\" x1=\"2084.82\" y1=\"1281.57\" x2=\"2052.82\" y2=\"1281.57\" style=\"stroke:#009af9; stroke-width:3.2; stroke-opacity:1\"/>\n<line clip-path=\"url(#clip222)\" x1=\"2308.39\" y1=\"1384.24\" x2=\"2276.39\" y2=\"1384.24\" style=\"stroke:#009af9; stroke-width:3.2; stroke-opacity:1\"/>\n<line clip-path=\"url(#clip222)\" x1=\"2308.39\" y1=\"1370.87\" x2=\"2276.39\" y2=\"1370.87\" style=\"stroke:#009af9; stroke-width:3.2; stroke-opacity:1\"/>\n<path clip-path=\"url(#clip220)\" d=\"\nM1815.02 196.789 L2281.66 196.789 L2281.66 93.1086 L1815.02 93.1086  Z\n  \" fill=\"#ffffff\" fill-rule=\"evenodd\" fill-opacity=\"1\"/>\n<polyline clip-path=\"url(#clip220)\" style=\"stroke:#000000; stroke-linecap:butt; stroke-linejoin:round; stroke-width:4; stroke-opacity:1; fill:none\" points=\"\n  1815.02,196.789 2281.66,196.789 2281.66,93.1086 1815.02,93.1086 1815.02,196.789 \n  \"/>\n<polyline clip-path=\"url(#clip220)\" style=\"stroke:#009af9; stroke-linecap:butt; stroke-linejoin:round; stroke-width:4; stroke-opacity:1; fill:none\" points=\"\n  1838.72,144.949 1980.91,144.949 \n  \"/>\n<path clip-path=\"url(#clip220)\" d=\"M2004.61 127.669 L2026.46 127.669 L2026.46 131.604 L2009.29 131.604 L2009.29 141.835 L2025.74 141.835 L2025.74 145.77 L2009.29 145.77 L2009.29 158.293 L2026.88 158.293 L2026.88 162.229 L2004.61 162.229 L2004.61 127.669 Z\" fill=\"#000000\" fill-rule=\"evenodd\" fill-opacity=\"1\" /><path clip-path=\"url(#clip220)\" d=\"M2034.38 126.21 L2038.64 126.21 L2038.64 162.229 L2034.38 162.229 L2034.38 126.21 Z\" fill=\"#000000\" fill-rule=\"evenodd\" fill-opacity=\"1\" /><path clip-path=\"url(#clip220)\" d=\"M2047.55 126.21 L2051.81 126.21 L2051.81 162.229 L2047.55 162.229 L2047.55 126.21 Z\" fill=\"#000000\" fill-rule=\"evenodd\" fill-opacity=\"1\" /><path clip-path=\"url(#clip220)\" d=\"M2060.72 136.303 L2064.98 136.303 L2064.98 162.229 L2060.72 162.229 L2060.72 136.303 M2060.72 126.21 L2064.98 126.21 L2064.98 131.604 L2060.72 131.604 L2060.72 126.21 Z\" fill=\"#000000\" fill-rule=\"evenodd\" fill-opacity=\"1\" /><path clip-path=\"url(#clip220)\" d=\"M2078.01 158.34 L2078.01 172.09 L2073.73 172.09 L2073.73 136.303 L2078.01 136.303 L2078.01 140.238 Q2079.36 137.923 2081.39 136.812 Q2083.45 135.678 2086.3 135.678 Q2091.02 135.678 2093.96 139.428 Q2096.92 143.178 2096.92 149.289 Q2096.92 155.4 2093.96 159.15 Q2091.02 162.9 2086.3 162.9 Q2083.45 162.9 2081.39 161.789 Q2079.36 160.655 2078.01 158.34 M2092.5 149.289 Q2092.5 144.59 2090.56 141.928 Q2088.64 139.243 2085.26 139.243 Q2081.88 139.243 2079.93 141.928 Q2078.01 144.59 2078.01 149.289 Q2078.01 153.988 2079.93 156.673 Q2081.88 159.335 2085.26 159.335 Q2088.64 159.335 2090.56 156.673 Q2092.5 153.988 2092.5 149.289 Z\" fill=\"#000000\" fill-rule=\"evenodd\" fill-opacity=\"1\" /><path clip-path=\"url(#clip220)\" d=\"M2120.51 137.067 L2120.51 141.094 Q2118.71 140.169 2116.76 139.706 Q2114.82 139.243 2112.73 139.243 Q2109.56 139.243 2107.97 140.215 Q2106.39 141.187 2106.39 143.131 Q2106.39 144.613 2107.53 145.469 Q2108.66 146.303 2112.09 147.067 L2113.55 147.391 Q2118.08 148.363 2119.98 150.145 Q2121.9 151.905 2121.9 155.076 Q2121.9 158.687 2119.03 160.793 Q2116.18 162.9 2111.18 162.9 Q2109.1 162.9 2106.83 162.483 Q2104.59 162.09 2102.09 161.28 L2102.09 156.881 Q2104.45 158.108 2106.74 158.733 Q2109.03 159.335 2111.28 159.335 Q2114.29 159.335 2115.91 158.317 Q2117.53 157.275 2117.53 155.4 Q2117.53 153.664 2116.35 152.738 Q2115.19 151.812 2111.23 150.956 L2109.75 150.608 Q2105.79 149.775 2104.03 148.062 Q2102.27 146.326 2102.27 143.317 Q2102.27 139.659 2104.86 137.669 Q2107.46 135.678 2112.23 135.678 Q2114.59 135.678 2116.67 136.025 Q2118.75 136.372 2120.51 137.067 Z\" fill=\"#000000\" fill-rule=\"evenodd\" fill-opacity=\"1\" /><path clip-path=\"url(#clip220)\" d=\"M2138.73 139.289 Q2135.3 139.289 2133.31 141.974 Q2131.32 144.636 2131.32 149.289 Q2131.32 153.942 2133.29 156.627 Q2135.28 159.289 2138.73 159.289 Q2142.13 159.289 2144.12 156.604 Q2146.11 153.918 2146.11 149.289 Q2146.11 144.682 2144.12 141.997 Q2142.13 139.289 2138.73 139.289 M2138.73 135.678 Q2144.29 135.678 2147.46 139.289 Q2150.63 142.9 2150.63 149.289 Q2150.63 155.655 2147.46 159.289 Q2144.29 162.9 2138.73 162.9 Q2133.15 162.9 2129.98 159.289 Q2126.83 155.655 2126.83 149.289 Q2126.83 142.9 2129.98 139.289 Q2133.15 135.678 2138.73 135.678 Z\" fill=\"#000000\" fill-rule=\"evenodd\" fill-opacity=\"1\" /><path clip-path=\"url(#clip220)\" d=\"M2157.69 136.303 L2161.95 136.303 L2161.95 162.229 L2157.69 162.229 L2157.69 136.303 M2157.69 126.21 L2161.95 126.21 L2161.95 131.604 L2157.69 131.604 L2157.69 126.21 Z\" fill=\"#000000\" fill-rule=\"evenodd\" fill-opacity=\"1\" /><path clip-path=\"url(#clip220)\" d=\"M2187.92 140.238 L2187.92 126.21 L2192.18 126.21 L2192.18 162.229 L2187.92 162.229 L2187.92 158.34 Q2186.58 160.655 2184.52 161.789 Q2182.48 162.9 2179.61 162.9 Q2174.91 162.9 2171.95 159.15 Q2169.01 155.4 2169.01 149.289 Q2169.01 143.178 2171.95 139.428 Q2174.91 135.678 2179.61 135.678 Q2182.48 135.678 2184.52 136.812 Q2186.58 137.923 2187.92 140.238 M2173.41 149.289 Q2173.41 153.988 2175.33 156.673 Q2177.27 159.335 2180.65 159.335 Q2184.03 159.335 2185.98 156.673 Q2187.92 153.988 2187.92 149.289 Q2187.92 144.59 2185.98 141.928 Q2184.03 139.243 2180.65 139.243 Q2177.27 139.243 2175.33 141.928 Q2173.41 144.59 2173.41 149.289 Z\" fill=\"#000000\" fill-rule=\"evenodd\" fill-opacity=\"1\" /><path clip-path=\"url(#clip220)\" d=\"M2212.73 149.196 Q2207.57 149.196 2205.58 150.377 Q2203.59 151.557 2203.59 154.405 Q2203.59 156.673 2205.07 158.016 Q2206.58 159.335 2209.15 159.335 Q2212.69 159.335 2214.82 156.835 Q2216.97 154.312 2216.97 150.145 L2216.97 149.196 L2212.73 149.196 M2221.23 147.437 L2221.23 162.229 L2216.97 162.229 L2216.97 158.293 Q2215.51 160.655 2213.34 161.789 Q2211.16 162.9 2208.01 162.9 Q2204.03 162.9 2201.67 160.678 Q2199.33 158.432 2199.33 154.682 Q2199.33 150.307 2202.25 148.085 Q2205.19 145.863 2211 145.863 L2216.97 145.863 L2216.97 145.446 Q2216.97 142.507 2215.03 140.909 Q2213.1 139.289 2209.61 139.289 Q2207.39 139.289 2205.28 139.821 Q2203.17 140.354 2201.23 141.419 L2201.23 137.483 Q2203.57 136.581 2205.77 136.141 Q2207.97 135.678 2210.05 135.678 Q2215.67 135.678 2218.45 138.594 Q2221.23 141.511 2221.23 147.437 Z\" fill=\"#000000\" fill-rule=\"evenodd\" fill-opacity=\"1\" /><path clip-path=\"url(#clip220)\" d=\"M2230 126.21 L2234.26 126.21 L2234.26 162.229 L2230 162.229 L2230 126.21 Z\" fill=\"#000000\" fill-rule=\"evenodd\" fill-opacity=\"1\" /></svg>\n",
      "text/html": [
       "<?xml version=\"1.0\" encoding=\"utf-8\"?>\n",
       "<svg xmlns=\"http://www.w3.org/2000/svg\" xmlns:xlink=\"http://www.w3.org/1999/xlink\" width=\"600\" height=\"400\" viewBox=\"0 0 2400 1600\">\n",
       "<defs>\n",
       "  <clipPath id=\"clip270\">\n",
       "    <rect x=\"0\" y=\"0\" width=\"2400\" height=\"1600\"/>\n",
       "  </clipPath>\n",
       "</defs>\n",
       "<path clip-path=\"url(#clip270)\" d=\"\n",
       "M0 1600 L2400 1600 L2400 0 L0 0  Z\n",
       "  \" fill=\"#ffffff\" fill-rule=\"evenodd\" fill-opacity=\"1\"/>\n",
       "<defs>\n",
       "  <clipPath id=\"clip271\">\n",
       "    <rect x=\"480\" y=\"0\" width=\"1681\" height=\"1600\"/>\n",
       "  </clipPath>\n",
       "</defs>\n",
       "<path clip-path=\"url(#clip270)\" d=\"\n",
       "M219.866 1423.18 L2352.76 1423.18 L2352.76 47.2441 L219.866 47.2441  Z\n",
       "  \" fill=\"#ffffff\" fill-rule=\"evenodd\" fill-opacity=\"1\"/>\n",
       "<defs>\n",
       "  <clipPath id=\"clip272\">\n",
       "    <rect x=\"219\" y=\"47\" width=\"2134\" height=\"1377\"/>\n",
       "  </clipPath>\n",
       "</defs>\n",
       "<polyline clip-path=\"url(#clip272)\" style=\"stroke:#000000; stroke-linecap:butt; stroke-linejoin:round; stroke-width:2; stroke-opacity:0.1; fill:none\" points=\"\n",
       "  503.804,1423.18 503.804,47.2441 \n",
       "  \"/>\n",
       "<polyline clip-path=\"url(#clip272)\" style=\"stroke:#000000; stroke-linecap:butt; stroke-linejoin:round; stroke-width:2; stroke-opacity:0.1; fill:none\" points=\"\n",
       "  950.951,1423.18 950.951,47.2441 \n",
       "  \"/>\n",
       "<polyline clip-path=\"url(#clip272)\" style=\"stroke:#000000; stroke-linecap:butt; stroke-linejoin:round; stroke-width:2; stroke-opacity:0.1; fill:none\" points=\"\n",
       "  1398.1,1423.18 1398.1,47.2441 \n",
       "  \"/>\n",
       "<polyline clip-path=\"url(#clip272)\" style=\"stroke:#000000; stroke-linecap:butt; stroke-linejoin:round; stroke-width:2; stroke-opacity:0.1; fill:none\" points=\"\n",
       "  1845.24,1423.18 1845.24,47.2441 \n",
       "  \"/>\n",
       "<polyline clip-path=\"url(#clip272)\" style=\"stroke:#000000; stroke-linecap:butt; stroke-linejoin:round; stroke-width:2; stroke-opacity:0.1; fill:none\" points=\"\n",
       "  2292.39,1423.18 2292.39,47.2441 \n",
       "  \"/>\n",
       "<polyline clip-path=\"url(#clip270)\" style=\"stroke:#000000; stroke-linecap:butt; stroke-linejoin:round; stroke-width:4; stroke-opacity:1; fill:none\" points=\"\n",
       "  219.866,1423.18 2352.76,1423.18 \n",
       "  \"/>\n",
       "<polyline clip-path=\"url(#clip270)\" style=\"stroke:#000000; stroke-linecap:butt; stroke-linejoin:round; stroke-width:4; stroke-opacity:1; fill:none\" points=\"\n",
       "  503.804,1423.18 503.804,1404.28 \n",
       "  \"/>\n",
       "<polyline clip-path=\"url(#clip270)\" style=\"stroke:#000000; stroke-linecap:butt; stroke-linejoin:round; stroke-width:4; stroke-opacity:1; fill:none\" points=\"\n",
       "  950.951,1423.18 950.951,1404.28 \n",
       "  \"/>\n",
       "<polyline clip-path=\"url(#clip270)\" style=\"stroke:#000000; stroke-linecap:butt; stroke-linejoin:round; stroke-width:4; stroke-opacity:1; fill:none\" points=\"\n",
       "  1398.1,1423.18 1398.1,1404.28 \n",
       "  \"/>\n",
       "<polyline clip-path=\"url(#clip270)\" style=\"stroke:#000000; stroke-linecap:butt; stroke-linejoin:round; stroke-width:4; stroke-opacity:1; fill:none\" points=\"\n",
       "  1845.24,1423.18 1845.24,1404.28 \n",
       "  \"/>\n",
       "<polyline clip-path=\"url(#clip270)\" style=\"stroke:#000000; stroke-linecap:butt; stroke-linejoin:round; stroke-width:4; stroke-opacity:1; fill:none\" points=\"\n",
       "  2292.39,1423.18 2292.39,1404.28 \n",
       "  \"/>\n",
       "<path clip-path=\"url(#clip270)\" d=\"M481.987 1454.1 Q478.376 1454.1 476.548 1457.66 Q474.742 1461.2 474.742 1468.33 Q474.742 1475.44 476.548 1479.01 Q478.376 1482.55 481.987 1482.55 Q485.622 1482.55 487.427 1479.01 Q489.256 1475.44 489.256 1468.33 Q489.256 1461.2 487.427 1457.66 Q485.622 1454.1 481.987 1454.1 M481.987 1450.39 Q487.798 1450.39 490.853 1455 Q493.932 1459.58 493.932 1468.33 Q493.932 1477.06 490.853 1481.67 Q487.798 1486.25 481.987 1486.25 Q476.177 1486.25 473.099 1481.67 Q470.043 1477.06 470.043 1468.33 Q470.043 1459.58 473.099 1455 Q476.177 1450.39 481.987 1450.39 Z\" fill=\"#000000\" fill-rule=\"evenodd\" fill-opacity=\"1\" /><path clip-path=\"url(#clip270)\" d=\"M502.149 1479.7 L507.034 1479.7 L507.034 1485.58 L502.149 1485.58 L502.149 1479.7 Z\" fill=\"#000000\" fill-rule=\"evenodd\" fill-opacity=\"1\" /><path clip-path=\"url(#clip270)\" d=\"M521.246 1481.64 L537.566 1481.64 L537.566 1485.58 L515.621 1485.58 L515.621 1481.64 Q518.283 1478.89 522.867 1474.26 Q527.473 1469.61 528.654 1468.27 Q530.899 1465.74 531.779 1464.01 Q532.682 1462.25 532.682 1460.56 Q532.682 1457.8 530.737 1456.07 Q528.816 1454.33 525.714 1454.33 Q523.515 1454.33 521.061 1455.09 Q518.631 1455.86 515.853 1457.41 L515.853 1452.69 Q518.677 1451.55 521.131 1450.97 Q523.584 1450.39 525.621 1450.39 Q530.992 1450.39 534.186 1453.08 Q537.381 1455.77 537.381 1460.26 Q537.381 1462.39 536.57 1464.31 Q535.783 1466.2 533.677 1468.8 Q533.098 1469.47 529.996 1472.69 Q526.895 1475.88 521.246 1481.64 Z\" fill=\"#000000\" fill-rule=\"evenodd\" fill-opacity=\"1\" /><path clip-path=\"url(#clip270)\" d=\"M928.092 1454.1 Q924.481 1454.1 922.653 1457.66 Q920.847 1461.2 920.847 1468.33 Q920.847 1475.44 922.653 1479.01 Q924.481 1482.55 928.092 1482.55 Q931.727 1482.55 933.532 1479.01 Q935.361 1475.44 935.361 1468.33 Q935.361 1461.2 933.532 1457.66 Q931.727 1454.1 928.092 1454.1 M928.092 1450.39 Q933.903 1450.39 936.958 1455 Q940.037 1459.58 940.037 1468.33 Q940.037 1477.06 936.958 1481.67 Q933.903 1486.25 928.092 1486.25 Q922.282 1486.25 919.204 1481.67 Q916.148 1477.06 916.148 1468.33 Q916.148 1459.58 919.204 1455 Q922.282 1450.39 928.092 1450.39 Z\" fill=\"#000000\" fill-rule=\"evenodd\" fill-opacity=\"1\" /><path clip-path=\"url(#clip270)\" d=\"M948.254 1479.7 L953.139 1479.7 L953.139 1485.58 L948.254 1485.58 L948.254 1479.7 Z\" fill=\"#000000\" fill-rule=\"evenodd\" fill-opacity=\"1\" /><path clip-path=\"url(#clip270)\" d=\"M976.171 1455.09 L964.365 1473.54 L976.171 1473.54 L976.171 1455.09 M974.944 1451.02 L980.824 1451.02 L980.824 1473.54 L985.754 1473.54 L985.754 1477.43 L980.824 1477.43 L980.824 1485.58 L976.171 1485.58 L976.171 1477.43 L960.569 1477.43 L960.569 1472.92 L974.944 1451.02 Z\" fill=\"#000000\" fill-rule=\"evenodd\" fill-opacity=\"1\" /><path clip-path=\"url(#clip270)\" d=\"M1375.4 1454.1 Q1371.79 1454.1 1369.96 1457.66 Q1368.16 1461.2 1368.16 1468.33 Q1368.16 1475.44 1369.96 1479.01 Q1371.79 1482.55 1375.4 1482.55 Q1379.04 1482.55 1380.84 1479.01 Q1382.67 1475.44 1382.67 1468.33 Q1382.67 1461.2 1380.84 1457.66 Q1379.04 1454.1 1375.4 1454.1 M1375.4 1450.39 Q1381.21 1450.39 1384.27 1455 Q1387.35 1459.58 1387.35 1468.33 Q1387.35 1477.06 1384.27 1481.67 Q1381.21 1486.25 1375.4 1486.25 Q1369.59 1486.25 1366.51 1481.67 Q1363.46 1477.06 1363.46 1468.33 Q1363.46 1459.58 1366.51 1455 Q1369.59 1450.39 1375.4 1450.39 Z\" fill=\"#000000\" fill-rule=\"evenodd\" fill-opacity=\"1\" /><path clip-path=\"url(#clip270)\" d=\"M1395.56 1479.7 L1400.45 1479.7 L1400.45 1485.58 L1395.56 1485.58 L1395.56 1479.7 Z\" fill=\"#000000\" fill-rule=\"evenodd\" fill-opacity=\"1\" /><path clip-path=\"url(#clip270)\" d=\"M1421.21 1466.44 Q1418.06 1466.44 1416.21 1468.59 Q1414.38 1470.74 1414.38 1474.49 Q1414.38 1478.22 1416.21 1480.39 Q1418.06 1482.55 1421.21 1482.55 Q1424.36 1482.55 1426.19 1480.39 Q1428.04 1478.22 1428.04 1474.49 Q1428.04 1470.74 1426.19 1468.59 Q1424.36 1466.44 1421.21 1466.44 M1430.49 1451.78 L1430.49 1456.04 Q1428.73 1455.21 1426.93 1454.77 Q1425.15 1454.33 1423.39 1454.33 Q1418.76 1454.33 1416.3 1457.45 Q1413.87 1460.58 1413.53 1466.9 Q1414.89 1464.89 1416.95 1463.82 Q1419.01 1462.73 1421.49 1462.73 Q1426.7 1462.73 1429.71 1465.9 Q1432.74 1469.05 1432.74 1474.49 Q1432.74 1479.82 1429.59 1483.03 Q1426.44 1486.25 1421.21 1486.25 Q1415.22 1486.25 1412.04 1481.67 Q1408.87 1477.06 1408.87 1468.33 Q1408.87 1460.14 1412.76 1455.28 Q1416.65 1450.39 1423.2 1450.39 Q1424.96 1450.39 1426.74 1450.74 Q1428.55 1451.09 1430.49 1451.78 Z\" fill=\"#000000\" fill-rule=\"evenodd\" fill-opacity=\"1\" /><path clip-path=\"url(#clip270)\" d=\"M1822.68 1454.1 Q1819.06 1454.1 1817.24 1457.66 Q1815.43 1461.2 1815.43 1468.33 Q1815.43 1475.44 1817.24 1479.01 Q1819.06 1482.55 1822.68 1482.55 Q1826.31 1482.55 1828.11 1479.01 Q1829.94 1475.44 1829.94 1468.33 Q1829.94 1461.2 1828.11 1457.66 Q1826.31 1454.1 1822.68 1454.1 M1822.68 1450.39 Q1828.49 1450.39 1831.54 1455 Q1834.62 1459.58 1834.62 1468.33 Q1834.62 1477.06 1831.54 1481.67 Q1828.49 1486.25 1822.68 1486.25 Q1816.86 1486.25 1813.79 1481.67 Q1810.73 1477.06 1810.73 1468.33 Q1810.73 1459.58 1813.79 1455 Q1816.86 1450.39 1822.68 1450.39 Z\" fill=\"#000000\" fill-rule=\"evenodd\" fill-opacity=\"1\" /><path clip-path=\"url(#clip270)\" d=\"M1842.84 1479.7 L1847.72 1479.7 L1847.72 1485.58 L1842.84 1485.58 L1842.84 1479.7 Z\" fill=\"#000000\" fill-rule=\"evenodd\" fill-opacity=\"1\" /><path clip-path=\"url(#clip270)\" d=\"M1867.91 1469.17 Q1864.57 1469.17 1862.65 1470.95 Q1860.75 1472.73 1860.75 1475.86 Q1860.75 1478.98 1862.65 1480.77 Q1864.57 1482.55 1867.91 1482.55 Q1871.24 1482.55 1873.16 1480.77 Q1875.08 1478.96 1875.08 1475.86 Q1875.08 1472.73 1873.16 1470.95 Q1871.26 1469.17 1867.91 1469.17 M1863.23 1467.18 Q1860.22 1466.44 1858.53 1464.38 Q1856.86 1462.32 1856.86 1459.35 Q1856.86 1455.21 1859.8 1452.8 Q1862.77 1450.39 1867.91 1450.39 Q1873.07 1450.39 1876.01 1452.8 Q1878.95 1455.21 1878.95 1459.35 Q1878.95 1462.32 1877.26 1464.38 Q1875.59 1466.44 1872.61 1467.18 Q1875.99 1467.96 1877.86 1470.26 Q1879.76 1472.55 1879.76 1475.86 Q1879.76 1480.88 1876.68 1483.57 Q1873.62 1486.25 1867.91 1486.25 Q1862.19 1486.25 1859.11 1483.57 Q1856.05 1480.88 1856.05 1475.86 Q1856.05 1472.55 1857.95 1470.26 Q1859.85 1467.96 1863.23 1467.18 M1861.52 1459.79 Q1861.52 1462.48 1863.18 1463.98 Q1864.87 1465.49 1867.91 1465.49 Q1870.92 1465.49 1872.61 1463.98 Q1874.32 1462.48 1874.32 1459.79 Q1874.32 1457.11 1872.61 1455.6 Q1870.92 1454.1 1867.91 1454.1 Q1864.87 1454.1 1863.18 1455.6 Q1861.52 1457.11 1861.52 1459.79 Z\" fill=\"#000000\" fill-rule=\"evenodd\" fill-opacity=\"1\" /><path clip-path=\"url(#clip270)\" d=\"M2259.54 1481.64 L2267.18 1481.64 L2267.18 1455.28 L2258.87 1456.95 L2258.87 1452.69 L2267.14 1451.02 L2271.81 1451.02 L2271.81 1481.64 L2279.45 1481.64 L2279.45 1485.58 L2259.54 1485.58 L2259.54 1481.64 Z\" fill=\"#000000\" fill-rule=\"evenodd\" fill-opacity=\"1\" /><path clip-path=\"url(#clip270)\" d=\"M2288.9 1479.7 L2293.78 1479.7 L2293.78 1485.58 L2288.9 1485.58 L2288.9 1479.7 Z\" fill=\"#000000\" fill-rule=\"evenodd\" fill-opacity=\"1\" /><path clip-path=\"url(#clip270)\" d=\"M2313.97 1454.1 Q2310.35 1454.1 2308.53 1457.66 Q2306.72 1461.2 2306.72 1468.33 Q2306.72 1475.44 2308.53 1479.01 Q2310.35 1482.55 2313.97 1482.55 Q2317.6 1482.55 2319.4 1479.01 Q2321.23 1475.44 2321.23 1468.33 Q2321.23 1461.2 2319.4 1457.66 Q2317.6 1454.1 2313.97 1454.1 M2313.97 1450.39 Q2319.78 1450.39 2322.83 1455 Q2325.91 1459.58 2325.91 1468.33 Q2325.91 1477.06 2322.83 1481.67 Q2319.78 1486.25 2313.97 1486.25 Q2308.15 1486.25 2305.08 1481.67 Q2302.02 1477.06 2302.02 1468.33 Q2302.02 1459.58 2305.08 1455 Q2308.15 1450.39 2313.97 1450.39 Z\" fill=\"#000000\" fill-rule=\"evenodd\" fill-opacity=\"1\" /><path clip-path=\"url(#clip270)\" d=\"M1000.22 1520.52 L1009.8 1520.52 L1021.93 1552.86 L1034.12 1520.52 L1043.7 1520.52 L1043.7 1568.04 L1037.43 1568.04 L1037.43 1526.32 L1025.17 1558.91 L1018.71 1558.91 L1006.46 1526.32 L1006.46 1568.04 L1000.22 1568.04 L1000.22 1520.52 Z\" fill=\"#000000\" fill-rule=\"evenodd\" fill-opacity=\"1\" /><path clip-path=\"url(#clip270)\" d=\"M1056.21 1532.4 L1062.06 1532.4 L1062.06 1568.04 L1056.21 1568.04 L1056.21 1532.4 M1056.21 1518.52 L1062.06 1518.52 L1062.06 1525.93 L1056.21 1525.93 L1056.21 1518.52 Z\" fill=\"#000000\" fill-rule=\"evenodd\" fill-opacity=\"1\" /><path clip-path=\"url(#clip270)\" d=\"M1103.95 1532.4 L1091.06 1549.74 L1104.62 1568.04 L1097.71 1568.04 L1087.34 1554.04 L1076.96 1568.04 L1070.05 1568.04 L1083.9 1549.39 L1071.23 1532.4 L1078.14 1532.4 L1087.59 1545.1 L1097.04 1532.4 L1103.95 1532.4 Z\" fill=\"#000000\" fill-rule=\"evenodd\" fill-opacity=\"1\" /><path clip-path=\"url(#clip270)\" d=\"M1112.89 1532.4 L1118.75 1532.4 L1118.75 1568.04 L1112.89 1568.04 L1112.89 1532.4 M1112.89 1518.52 L1118.75 1518.52 L1118.75 1525.93 L1112.89 1525.93 L1112.89 1518.52 Z\" fill=\"#000000\" fill-rule=\"evenodd\" fill-opacity=\"1\" /><path clip-path=\"url(#clip270)\" d=\"M1160.64 1546.53 L1160.64 1568.04 L1154.78 1568.04 L1154.78 1546.72 Q1154.78 1541.66 1152.81 1539.14 Q1150.83 1536.63 1146.89 1536.63 Q1142.14 1536.63 1139.41 1539.65 Q1136.67 1542.68 1136.67 1547.9 L1136.67 1568.04 L1130.78 1568.04 L1130.78 1532.4 L1136.67 1532.4 L1136.67 1537.93 Q1138.77 1534.72 1141.6 1533.13 Q1144.47 1531.54 1148.19 1531.54 Q1154.33 1531.54 1157.49 1535.36 Q1160.64 1539.14 1160.64 1546.53 Z\" fill=\"#000000\" fill-rule=\"evenodd\" fill-opacity=\"1\" /><path clip-path=\"url(#clip270)\" d=\"M1195.77 1549.81 Q1195.77 1543.44 1193.13 1539.94 Q1190.52 1536.44 1185.78 1536.44 Q1181.07 1536.44 1178.43 1539.94 Q1175.82 1543.44 1175.82 1549.81 Q1175.82 1556.14 1178.43 1559.64 Q1181.07 1563.14 1185.78 1563.14 Q1190.52 1563.14 1193.13 1559.64 Q1195.77 1556.14 1195.77 1549.81 M1201.63 1563.62 Q1201.63 1572.72 1197.59 1577.15 Q1193.55 1581.6 1185.21 1581.6 Q1182.12 1581.6 1179.38 1581.13 Q1176.65 1580.68 1174.07 1579.72 L1174.07 1574.03 Q1176.65 1575.43 1179.16 1576.1 Q1181.67 1576.76 1184.28 1576.76 Q1190.05 1576.76 1192.91 1573.74 Q1195.77 1570.75 1195.77 1564.67 L1195.77 1561.77 Q1193.96 1564.92 1191.13 1566.48 Q1188.3 1568.04 1184.35 1568.04 Q1177.79 1568.04 1173.78 1563.05 Q1169.77 1558.05 1169.77 1549.81 Q1169.77 1541.53 1173.78 1536.53 Q1177.79 1531.54 1184.35 1531.54 Q1188.3 1531.54 1191.13 1533.1 Q1193.96 1534.66 1195.77 1537.81 L1195.77 1532.4 L1201.63 1532.4 L1201.63 1563.62 Z\" fill=\"#000000\" fill-rule=\"evenodd\" fill-opacity=\"1\" /><path clip-path=\"url(#clip270)\" d=\"M1240.08 1562.7 L1240.08 1581.6 L1234.19 1581.6 L1234.19 1532.4 L1240.08 1532.4 L1240.08 1537.81 Q1241.93 1534.62 1244.73 1533.1 Q1247.56 1531.54 1251.47 1531.54 Q1257.97 1531.54 1262.01 1536.69 Q1266.08 1541.85 1266.08 1550.25 Q1266.08 1558.65 1262.01 1563.81 Q1257.97 1568.97 1251.47 1568.97 Q1247.56 1568.97 1244.73 1567.44 Q1241.93 1565.88 1240.08 1562.7 M1260 1550.25 Q1260 1543.79 1257.33 1540.13 Q1254.69 1536.44 1250.04 1536.44 Q1245.4 1536.44 1242.72 1540.13 Q1240.08 1543.79 1240.08 1550.25 Q1240.08 1556.71 1242.72 1560.4 Q1245.4 1564.07 1250.04 1564.07 Q1254.69 1564.07 1257.33 1560.4 Q1260 1556.71 1260 1550.25 Z\" fill=\"#000000\" fill-rule=\"evenodd\" fill-opacity=\"1\" /><path clip-path=\"url(#clip270)\" d=\"M1291.99 1550.12 Q1284.89 1550.12 1282.16 1551.75 Q1279.42 1553.37 1279.42 1557.29 Q1279.42 1560.4 1281.46 1562.25 Q1283.53 1564.07 1287.06 1564.07 Q1291.93 1564.07 1294.86 1560.63 Q1297.82 1557.16 1297.82 1551.43 L1297.82 1550.12 L1291.99 1550.12 M1303.67 1547.71 L1303.67 1568.04 L1297.82 1568.04 L1297.82 1562.63 Q1295.81 1565.88 1292.82 1567.44 Q1289.83 1568.97 1285.5 1568.97 Q1280.02 1568.97 1276.78 1565.91 Q1273.56 1562.82 1273.56 1557.67 Q1273.56 1551.65 1277.57 1548.6 Q1281.62 1545.54 1289.61 1545.54 L1297.82 1545.54 L1297.82 1544.97 Q1297.82 1540.93 1295.14 1538.73 Q1292.5 1536.5 1287.7 1536.5 Q1284.64 1536.5 1281.74 1537.23 Q1278.85 1537.97 1276.17 1539.43 L1276.17 1534.02 Q1279.39 1532.78 1282.41 1532.17 Q1285.44 1531.54 1288.3 1531.54 Q1296.03 1531.54 1299.85 1535.55 Q1303.67 1539.56 1303.67 1547.71 Z\" fill=\"#000000\" fill-rule=\"evenodd\" fill-opacity=\"1\" /><path clip-path=\"url(#clip270)\" d=\"M1336.39 1537.87 Q1335.41 1537.3 1334.23 1537.04 Q1333.08 1536.76 1331.68 1536.76 Q1326.72 1536.76 1324.04 1540 Q1321.4 1543.22 1321.4 1549.27 L1321.4 1568.04 L1315.51 1568.04 L1315.51 1532.4 L1321.4 1532.4 L1321.4 1537.93 Q1323.25 1534.69 1326.21 1533.13 Q1329.17 1531.54 1333.4 1531.54 Q1334.01 1531.54 1334.74 1531.63 Q1335.47 1531.7 1336.36 1531.85 L1336.39 1537.87 Z\" fill=\"#000000\" fill-rule=\"evenodd\" fill-opacity=\"1\" /><path clip-path=\"url(#clip270)\" d=\"M1358.74 1550.12 Q1351.64 1550.12 1348.9 1551.75 Q1346.16 1553.37 1346.16 1557.29 Q1346.16 1560.4 1348.2 1562.25 Q1350.27 1564.07 1353.8 1564.07 Q1358.67 1564.07 1361.6 1560.63 Q1364.56 1557.16 1364.56 1551.43 L1364.56 1550.12 L1358.74 1550.12 M1370.42 1547.71 L1370.42 1568.04 L1364.56 1568.04 L1364.56 1562.63 Q1362.56 1565.88 1359.56 1567.44 Q1356.57 1568.97 1352.24 1568.97 Q1346.77 1568.97 1343.52 1565.91 Q1340.31 1562.82 1340.31 1557.67 Q1340.31 1551.65 1344.32 1548.6 Q1348.36 1545.54 1356.35 1545.54 L1364.56 1545.54 L1364.56 1544.97 Q1364.56 1540.93 1361.89 1538.73 Q1359.25 1536.5 1354.44 1536.5 Q1351.38 1536.5 1348.49 1537.23 Q1345.59 1537.97 1342.92 1539.43 L1342.92 1534.02 Q1346.13 1532.78 1349.16 1532.17 Q1352.18 1531.54 1355.04 1531.54 Q1362.78 1531.54 1366.6 1535.55 Q1370.42 1539.56 1370.42 1547.71 Z\" fill=\"#000000\" fill-rule=\"evenodd\" fill-opacity=\"1\" /><path clip-path=\"url(#clip270)\" d=\"M1410.24 1539.24 Q1412.43 1535.29 1415.49 1533.41 Q1418.54 1531.54 1422.68 1531.54 Q1428.25 1531.54 1431.27 1535.45 Q1434.3 1539.33 1434.3 1546.53 L1434.3 1568.04 L1428.41 1568.04 L1428.41 1546.72 Q1428.41 1541.59 1426.6 1539.11 Q1424.78 1536.63 1421.06 1536.63 Q1416.51 1536.63 1413.86 1539.65 Q1411.22 1542.68 1411.22 1547.9 L1411.22 1568.04 L1405.33 1568.04 L1405.33 1546.72 Q1405.33 1541.56 1403.52 1539.11 Q1401.71 1536.63 1397.92 1536.63 Q1393.43 1536.63 1390.79 1539.68 Q1388.15 1542.71 1388.15 1547.9 L1388.15 1568.04 L1382.26 1568.04 L1382.26 1532.4 L1388.15 1532.4 L1388.15 1537.93 Q1390.15 1534.66 1392.95 1533.1 Q1395.75 1531.54 1399.6 1531.54 Q1403.49 1531.54 1406.19 1533.51 Q1408.93 1535.48 1410.24 1539.24 Z\" fill=\"#000000\" fill-rule=\"evenodd\" fill-opacity=\"1\" /><path clip-path=\"url(#clip270)\" d=\"M1476.47 1548.76 L1476.47 1551.62 L1449.54 1551.62 Q1449.93 1557.67 1453.17 1560.85 Q1456.45 1564 1462.28 1564 Q1465.65 1564 1468.8 1563.17 Q1471.98 1562.35 1475.1 1560.69 L1475.1 1566.23 Q1471.95 1567.57 1468.64 1568.27 Q1465.33 1568.97 1461.93 1568.97 Q1453.39 1568.97 1448.4 1564 Q1443.43 1559.04 1443.43 1550.57 Q1443.43 1541.82 1448.14 1536.69 Q1452.89 1531.54 1460.91 1531.54 Q1468.1 1531.54 1472.27 1536.18 Q1476.47 1540.8 1476.47 1548.76 M1470.61 1547.04 Q1470.55 1542.23 1467.91 1539.37 Q1465.3 1536.5 1460.97 1536.5 Q1456.07 1536.5 1453.11 1539.27 Q1450.18 1542.04 1449.73 1547.07 L1470.61 1547.04 Z\" fill=\"#000000\" fill-rule=\"evenodd\" fill-opacity=\"1\" /><path clip-path=\"url(#clip270)\" d=\"M1491.88 1522.27 L1491.88 1532.4 L1503.94 1532.4 L1503.94 1536.95 L1491.88 1536.95 L1491.88 1556.3 Q1491.88 1560.66 1493.05 1561.9 Q1494.26 1563.14 1497.92 1563.14 L1503.94 1563.14 L1503.94 1568.04 L1497.92 1568.04 Q1491.14 1568.04 1488.57 1565.53 Q1485.99 1562.98 1485.99 1556.3 L1485.99 1536.95 L1481.69 1536.95 L1481.69 1532.4 L1485.99 1532.4 L1485.99 1522.27 L1491.88 1522.27 Z\" fill=\"#000000\" fill-rule=\"evenodd\" fill-opacity=\"1\" /><path clip-path=\"url(#clip270)\" d=\"M1542.13 1548.76 L1542.13 1551.62 L1515.21 1551.62 Q1515.59 1557.67 1518.83 1560.85 Q1522.11 1564 1527.94 1564 Q1531.31 1564 1534.46 1563.17 Q1537.65 1562.35 1540.76 1560.69 L1540.76 1566.23 Q1537.61 1567.57 1534.3 1568.27 Q1530.99 1568.97 1527.59 1568.97 Q1519.06 1568.97 1514.06 1564 Q1509.09 1559.04 1509.09 1550.57 Q1509.09 1541.82 1513.81 1536.69 Q1518.55 1531.54 1526.57 1531.54 Q1533.76 1531.54 1537.93 1536.18 Q1542.13 1540.8 1542.13 1548.76 M1536.28 1547.04 Q1536.21 1542.23 1533.57 1539.37 Q1530.96 1536.5 1526.63 1536.5 Q1521.73 1536.5 1518.77 1539.27 Q1515.84 1542.04 1515.4 1547.07 L1536.28 1547.04 Z\" fill=\"#000000\" fill-rule=\"evenodd\" fill-opacity=\"1\" /><path clip-path=\"url(#clip270)\" d=\"M1572.4 1537.87 Q1571.42 1537.3 1570.24 1537.04 Q1569.09 1536.76 1567.69 1536.76 Q1562.73 1536.76 1560.05 1540 Q1557.41 1543.22 1557.41 1549.27 L1557.41 1568.04 L1551.52 1568.04 L1551.52 1532.4 L1557.41 1532.4 L1557.41 1537.93 Q1559.26 1534.69 1562.22 1533.13 Q1565.18 1531.54 1569.41 1531.54 Q1570.01 1531.54 1570.75 1531.63 Q1571.48 1531.7 1572.37 1531.85 L1572.4 1537.87 Z\" fill=\"#000000\" fill-rule=\"evenodd\" fill-opacity=\"1\" /><polyline clip-path=\"url(#clip272)\" style=\"stroke:#000000; stroke-linecap:butt; stroke-linejoin:round; stroke-width:2; stroke-opacity:0.1; fill:none\" points=\"\n",
       "  219.866,1129.54 2352.76,1129.54 \n",
       "  \"/>\n",
       "<polyline clip-path=\"url(#clip272)\" style=\"stroke:#000000; stroke-linecap:butt; stroke-linejoin:round; stroke-width:2; stroke-opacity:0.1; fill:none\" points=\"\n",
       "  219.866,816.851 2352.76,816.851 \n",
       "  \"/>\n",
       "<polyline clip-path=\"url(#clip272)\" style=\"stroke:#000000; stroke-linecap:butt; stroke-linejoin:round; stroke-width:2; stroke-opacity:0.1; fill:none\" points=\"\n",
       "  219.866,504.166 2352.76,504.166 \n",
       "  \"/>\n",
       "<polyline clip-path=\"url(#clip272)\" style=\"stroke:#000000; stroke-linecap:butt; stroke-linejoin:round; stroke-width:2; stroke-opacity:0.1; fill:none\" points=\"\n",
       "  219.866,191.481 2352.76,191.481 \n",
       "  \"/>\n",
       "<polyline clip-path=\"url(#clip270)\" style=\"stroke:#000000; stroke-linecap:butt; stroke-linejoin:round; stroke-width:4; stroke-opacity:1; fill:none\" points=\"\n",
       "  219.866,1423.18 219.866,47.2441 \n",
       "  \"/>\n",
       "<polyline clip-path=\"url(#clip270)\" style=\"stroke:#000000; stroke-linecap:butt; stroke-linejoin:round; stroke-width:4; stroke-opacity:1; fill:none\" points=\"\n",
       "  219.866,1129.54 238.764,1129.54 \n",
       "  \"/>\n",
       "<polyline clip-path=\"url(#clip270)\" style=\"stroke:#000000; stroke-linecap:butt; stroke-linejoin:round; stroke-width:4; stroke-opacity:1; fill:none\" points=\"\n",
       "  219.866,816.851 238.764,816.851 \n",
       "  \"/>\n",
       "<polyline clip-path=\"url(#clip270)\" style=\"stroke:#000000; stroke-linecap:butt; stroke-linejoin:round; stroke-width:4; stroke-opacity:1; fill:none\" points=\"\n",
       "  219.866,504.166 238.764,504.166 \n",
       "  \"/>\n",
       "<polyline clip-path=\"url(#clip270)\" style=\"stroke:#000000; stroke-linecap:butt; stroke-linejoin:round; stroke-width:4; stroke-opacity:1; fill:none\" points=\"\n",
       "  219.866,191.481 238.764,191.481 \n",
       "  \"/>\n",
       "<path clip-path=\"url(#clip270)\" d=\"M128.288 1115.33 Q124.677 1115.33 122.848 1118.9 Q121.043 1122.44 121.043 1129.57 Q121.043 1136.68 122.848 1140.24 Q124.677 1143.78 128.288 1143.78 Q131.922 1143.78 133.728 1140.24 Q135.556 1136.68 135.556 1129.57 Q135.556 1122.44 133.728 1118.9 Q131.922 1115.33 128.288 1115.33 M128.288 1111.63 Q134.098 1111.63 137.154 1116.24 Q140.232 1120.82 140.232 1129.57 Q140.232 1138.3 137.154 1142.9 Q134.098 1147.49 128.288 1147.49 Q122.478 1147.49 119.399 1142.9 Q116.343 1138.3 116.343 1129.57 Q116.343 1120.82 119.399 1116.24 Q122.478 1111.63 128.288 1111.63 Z\" fill=\"#000000\" fill-rule=\"evenodd\" fill-opacity=\"1\" /><path clip-path=\"url(#clip270)\" d=\"M148.45 1140.94 L153.334 1140.94 L153.334 1146.82 L148.45 1146.82 L148.45 1140.94 Z\" fill=\"#000000\" fill-rule=\"evenodd\" fill-opacity=\"1\" /><path clip-path=\"url(#clip270)\" d=\"M167.547 1142.88 L183.866 1142.88 L183.866 1146.82 L161.922 1146.82 L161.922 1142.88 Q164.584 1140.13 169.167 1135.5 Q173.774 1130.84 174.954 1129.5 Q177.2 1126.98 178.079 1125.24 Q178.982 1123.48 178.982 1121.79 Q178.982 1119.04 177.038 1117.3 Q175.116 1115.57 172.014 1115.57 Q169.815 1115.57 167.362 1116.33 Q164.931 1117.09 162.153 1118.64 L162.153 1113.92 Q164.977 1112.79 167.431 1112.21 Q169.885 1111.63 171.922 1111.63 Q177.292 1111.63 180.487 1114.32 Q183.681 1117 183.681 1121.49 Q183.681 1123.62 182.871 1125.54 Q182.084 1127.44 179.977 1130.03 Q179.399 1130.7 176.297 1133.92 Q173.195 1137.12 167.547 1142.88 Z\" fill=\"#000000\" fill-rule=\"evenodd\" fill-opacity=\"1\" /><path clip-path=\"url(#clip270)\" d=\"M126.205 802.649 Q122.593 802.649 120.765 806.214 Q118.959 809.756 118.959 816.886 Q118.959 823.992 120.765 827.557 Q122.593 831.098 126.205 831.098 Q129.839 831.098 131.644 827.557 Q133.473 823.992 133.473 816.886 Q133.473 809.756 131.644 806.214 Q129.839 802.649 126.205 802.649 M126.205 798.946 Q132.015 798.946 135.07 803.552 Q138.149 808.136 138.149 816.886 Q138.149 825.612 135.07 830.219 Q132.015 834.802 126.205 834.802 Q120.394 834.802 117.316 830.219 Q114.26 825.612 114.26 816.886 Q114.26 808.136 117.316 803.552 Q120.394 798.946 126.205 798.946 Z\" fill=\"#000000\" fill-rule=\"evenodd\" fill-opacity=\"1\" /><path clip-path=\"url(#clip270)\" d=\"M146.366 828.251 L151.251 828.251 L151.251 834.131 L146.366 834.131 L146.366 828.251 Z\" fill=\"#000000\" fill-rule=\"evenodd\" fill-opacity=\"1\" /><path clip-path=\"url(#clip270)\" d=\"M174.283 803.645 L162.477 822.094 L174.283 822.094 L174.283 803.645 M173.056 799.571 L178.936 799.571 L178.936 822.094 L183.866 822.094 L183.866 825.983 L178.936 825.983 L178.936 834.131 L174.283 834.131 L174.283 825.983 L158.681 825.983 L158.681 821.469 L173.056 799.571 Z\" fill=\"#000000\" fill-rule=\"evenodd\" fill-opacity=\"1\" /><path clip-path=\"url(#clip270)\" d=\"M126.529 489.965 Q122.918 489.965 121.089 493.53 Q119.283 497.071 119.283 504.201 Q119.283 511.307 121.089 514.872 Q122.918 518.414 126.529 518.414 Q130.163 518.414 131.968 514.872 Q133.797 511.307 133.797 504.201 Q133.797 497.071 131.968 493.53 Q130.163 489.965 126.529 489.965 M126.529 486.261 Q132.339 486.261 135.394 490.868 Q138.473 495.451 138.473 504.201 Q138.473 512.928 135.394 517.534 Q132.339 522.117 126.529 522.117 Q120.718 522.117 117.64 517.534 Q114.584 512.928 114.584 504.201 Q114.584 495.451 117.64 490.868 Q120.718 486.261 126.529 486.261 Z\" fill=\"#000000\" fill-rule=\"evenodd\" fill-opacity=\"1\" /><path clip-path=\"url(#clip270)\" d=\"M146.691 515.566 L151.575 515.566 L151.575 521.446 L146.691 521.446 L146.691 515.566 Z\" fill=\"#000000\" fill-rule=\"evenodd\" fill-opacity=\"1\" /><path clip-path=\"url(#clip270)\" d=\"M172.339 502.303 Q169.19 502.303 167.339 504.455 Q165.51 506.608 165.51 510.358 Q165.51 514.085 167.339 516.261 Q169.19 518.414 172.339 518.414 Q175.487 518.414 177.315 516.261 Q179.167 514.085 179.167 510.358 Q179.167 506.608 177.315 504.455 Q175.487 502.303 172.339 502.303 M181.621 487.65 L181.621 491.909 Q179.862 491.076 178.056 490.636 Q176.274 490.196 174.514 490.196 Q169.885 490.196 167.431 493.321 Q165.001 496.446 164.653 502.766 Q166.019 500.752 168.079 499.687 Q170.139 498.599 172.616 498.599 Q177.825 498.599 180.834 501.77 Q183.866 504.918 183.866 510.358 Q183.866 515.682 180.718 518.9 Q177.57 522.117 172.339 522.117 Q166.343 522.117 163.172 517.534 Q160.001 512.928 160.001 504.201 Q160.001 496.006 163.89 491.145 Q167.778 486.261 174.329 486.261 Q176.089 486.261 177.871 486.608 Q179.676 486.956 181.621 487.65 Z\" fill=\"#000000\" fill-rule=\"evenodd\" fill-opacity=\"1\" /><path clip-path=\"url(#clip270)\" d=\"M126.783 177.28 Q123.172 177.28 121.343 180.845 Q119.538 184.386 119.538 191.516 Q119.538 198.623 121.343 202.187 Q123.172 205.729 126.783 205.729 Q130.417 205.729 132.223 202.187 Q134.052 198.623 134.052 191.516 Q134.052 184.386 132.223 180.845 Q130.417 177.28 126.783 177.28 M126.783 173.576 Q132.593 173.576 135.649 178.183 Q138.728 182.766 138.728 191.516 Q138.728 200.243 135.649 204.849 Q132.593 209.433 126.783 209.433 Q120.973 209.433 117.894 204.849 Q114.839 200.243 114.839 191.516 Q114.839 182.766 117.894 178.183 Q120.973 173.576 126.783 173.576 Z\" fill=\"#000000\" fill-rule=\"evenodd\" fill-opacity=\"1\" /><path clip-path=\"url(#clip270)\" d=\"M146.945 202.882 L151.829 202.882 L151.829 208.761 L146.945 208.761 L146.945 202.882 Z\" fill=\"#000000\" fill-rule=\"evenodd\" fill-opacity=\"1\" /><path clip-path=\"url(#clip270)\" d=\"M172.014 192.349 Q168.681 192.349 166.76 194.132 Q164.862 195.914 164.862 199.039 Q164.862 202.164 166.76 203.947 Q168.681 205.729 172.014 205.729 Q175.348 205.729 177.269 203.947 Q179.19 202.141 179.19 199.039 Q179.19 195.914 177.269 194.132 Q175.371 192.349 172.014 192.349 M167.339 190.359 Q164.329 189.618 162.64 187.558 Q160.973 185.498 160.973 182.535 Q160.973 178.391 163.913 175.984 Q166.876 173.576 172.014 173.576 Q177.176 173.576 180.116 175.984 Q183.056 178.391 183.056 182.535 Q183.056 185.498 181.366 187.558 Q179.7 189.618 176.714 190.359 Q180.093 191.146 181.968 193.437 Q183.866 195.729 183.866 199.039 Q183.866 204.062 180.788 206.747 Q177.732 209.433 172.014 209.433 Q166.297 209.433 163.218 206.747 Q160.163 204.062 160.163 199.039 Q160.163 195.729 162.061 193.437 Q163.959 191.146 167.339 190.359 M165.626 182.974 Q165.626 185.66 167.292 187.164 Q168.982 188.669 172.014 188.669 Q175.024 188.669 176.714 187.164 Q178.426 185.66 178.426 182.974 Q178.426 180.289 176.714 178.785 Q175.024 177.28 172.014 177.28 Q168.982 177.28 167.292 178.785 Q165.626 180.289 165.626 182.974 Z\" fill=\"#000000\" fill-rule=\"evenodd\" fill-opacity=\"1\" /><path clip-path=\"url(#clip270)\" d=\"M16.4842 1237.77 L16.4842 1229.11 L56.238 1208.04 L16.4842 1208.04 L16.4842 1201.8 L64.0042 1201.8 L64.0042 1210.46 L24.2503 1231.53 L64.0042 1231.53 L64.0042 1237.77 L16.4842 1237.77 Z\" fill=\"#000000\" fill-rule=\"evenodd\" fill-opacity=\"1\" /><path clip-path=\"url(#clip270)\" d=\"M32.4621 1175.45 Q32.4621 1180.16 36.1542 1182.9 Q39.8145 1185.63 46.212 1185.63 Q52.6095 1185.63 56.3017 1182.93 Q59.9619 1180.19 59.9619 1175.45 Q59.9619 1170.77 56.2698 1168.03 Q52.5777 1165.3 46.212 1165.3 Q39.8781 1165.3 36.186 1168.03 Q32.4621 1170.77 32.4621 1175.45 M27.4968 1175.45 Q27.4968 1167.81 32.4621 1163.45 Q37.4273 1159.09 46.212 1159.09 Q54.9649 1159.09 59.9619 1163.45 Q64.9272 1167.81 64.9272 1175.45 Q64.9272 1183.12 59.9619 1187.48 Q54.9649 1191.81 46.212 1191.81 Q37.4273 1191.81 32.4621 1187.48 Q27.4968 1183.12 27.4968 1175.45 Z\" fill=\"#000000\" fill-rule=\"evenodd\" fill-opacity=\"1\" /><path clip-path=\"url(#clip270)\" d=\"M33.8307 1128.72 Q33.2578 1129.71 33.0032 1130.89 Q32.7167 1132.03 32.7167 1133.43 Q32.7167 1138.4 35.9632 1141.07 Q39.1779 1143.72 45.2253 1143.72 L64.0042 1143.72 L64.0042 1149.6 L28.3562 1149.6 L28.3562 1143.72 L33.8944 1143.72 Q30.6479 1141.87 29.0883 1138.91 Q27.4968 1135.95 27.4968 1131.72 Q27.4968 1131.11 27.5923 1130.38 Q27.656 1129.65 27.8151 1128.76 L33.8307 1128.72 Z\" fill=\"#000000\" fill-rule=\"evenodd\" fill-opacity=\"1\" /><path clip-path=\"url(#clip270)\" d=\"M35.1993 1095.97 Q31.2526 1093.78 29.3747 1090.72 Q27.4968 1087.67 27.4968 1083.53 Q27.4968 1077.96 31.4117 1074.93 Q35.2948 1071.91 42.4881 1071.91 L64.0042 1071.91 L64.0042 1077.8 L42.679 1077.8 Q37.5546 1077.8 35.072 1079.61 Q32.5894 1081.43 32.5894 1085.15 Q32.5894 1089.7 35.6131 1092.34 Q38.6368 1094.99 43.8567 1094.99 L64.0042 1094.99 L64.0042 1100.87 L42.679 1100.87 Q37.5228 1100.87 35.072 1102.69 Q32.5894 1104.5 32.5894 1108.29 Q32.5894 1112.78 35.6449 1115.42 Q38.6686 1118.06 43.8567 1118.06 L64.0042 1118.06 L64.0042 1123.95 L28.3562 1123.95 L28.3562 1118.06 L33.8944 1118.06 Q30.616 1116.06 29.0564 1113.26 Q27.4968 1110.45 27.4968 1106.6 Q27.4968 1102.72 29.4702 1100.01 Q31.4436 1097.28 35.1993 1095.97 Z\" fill=\"#000000\" fill-rule=\"evenodd\" fill-opacity=\"1\" /><path clip-path=\"url(#clip270)\" d=\"M46.0847 1044.03 Q46.0847 1051.13 47.7079 1053.86 Q49.3312 1056.6 53.2461 1056.6 Q56.3653 1056.6 58.2114 1054.56 Q60.0256 1052.49 60.0256 1048.96 Q60.0256 1044.09 56.5881 1041.16 Q53.1188 1038.2 47.3897 1038.2 L46.0847 1038.2 L46.0847 1044.03 M43.6657 1032.35 L64.0042 1032.35 L64.0042 1038.2 L58.5933 1038.2 Q61.8398 1040.21 63.3994 1043.2 Q64.9272 1046.19 64.9272 1050.52 Q64.9272 1056 61.8716 1059.24 Q58.7843 1062.46 53.6281 1062.46 Q47.6125 1062.46 44.5569 1058.45 Q41.5014 1054.4 41.5014 1046.42 L41.5014 1038.2 L40.9285 1038.2 Q36.8862 1038.2 34.6901 1040.88 Q32.4621 1043.52 32.4621 1048.33 Q32.4621 1051.38 33.1941 1054.28 Q33.9262 1057.17 35.3903 1059.85 L29.9795 1059.85 Q28.7381 1056.63 28.1334 1053.61 Q27.4968 1050.58 27.4968 1047.72 Q27.4968 1039.99 31.5072 1036.17 Q35.5176 1032.35 43.6657 1032.35 Z\" fill=\"#000000\" fill-rule=\"evenodd\" fill-opacity=\"1\" /><path clip-path=\"url(#clip270)\" d=\"M14.479 1020.28 L14.479 1014.43 L64.0042 1014.43 L64.0042 1020.28 L14.479 1020.28 Z\" fill=\"#000000\" fill-rule=\"evenodd\" fill-opacity=\"1\" /><path clip-path=\"url(#clip270)\" d=\"M28.3562 1002.17 L28.3562 996.317 L64.0042 996.317 L64.0042 1002.17 L28.3562 1002.17 M14.479 1002.17 L14.479 996.317 L21.895 996.317 L21.895 1002.17 L14.479 1002.17 Z\" fill=\"#000000\" fill-rule=\"evenodd\" fill-opacity=\"1\" /><path clip-path=\"url(#clip270)\" d=\"M28.3562 986.61 L28.3562 958.791 L33.7034 958.791 L59.3254 980.817 L59.3254 958.791 L64.0042 958.791 L64.0042 987.405 L58.657 987.405 L33.035 965.38 L33.035 986.61 L28.3562 986.61 Z\" fill=\"#000000\" fill-rule=\"evenodd\" fill-opacity=\"1\" /><path clip-path=\"url(#clip270)\" d=\"M44.7161 919.356 L47.5806 919.356 L47.5806 946.283 Q53.6281 945.901 56.8109 942.654 Q59.9619 939.376 59.9619 933.551 Q59.9619 930.178 59.1344 927.027 Q58.3069 923.844 56.6518 920.725 L62.1899 920.725 Q63.5267 923.876 64.227 927.186 Q64.9272 930.496 64.9272 933.902 Q64.9272 942.432 59.9619 947.429 Q54.9967 952.394 46.5303 952.394 Q37.7774 952.394 32.6531 947.683 Q27.4968 942.941 27.4968 934.92 Q27.4968 927.727 32.1438 923.557 Q36.7589 919.356 44.7161 919.356 M42.9973 925.212 Q38.1912 925.276 35.3266 927.918 Q32.4621 930.528 32.4621 934.856 Q32.4621 939.758 35.2312 942.718 Q38.0002 945.646 43.0292 946.092 L42.9973 925.212 Z\" fill=\"#000000\" fill-rule=\"evenodd\" fill-opacity=\"1\" /><path clip-path=\"url(#clip270)\" d=\"M33.7671 886.286 L14.479 886.286 L14.479 880.43 L64.0042 880.43 L64.0042 886.286 L58.657 886.286 Q61.8398 888.132 63.3994 890.965 Q64.9272 893.766 64.9272 897.713 Q64.9272 904.174 59.771 908.248 Q54.6147 912.29 46.212 912.29 Q37.8093 912.29 32.6531 908.248 Q27.4968 904.174 27.4968 897.713 Q27.4968 893.766 29.0564 890.965 Q30.5842 888.132 33.7671 886.286 M46.212 906.243 Q52.6732 906.243 56.3653 903.601 Q60.0256 900.927 60.0256 896.28 Q60.0256 891.633 56.3653 888.96 Q52.6732 886.286 46.212 886.286 Q39.7508 886.286 36.0905 888.96 Q32.3984 891.633 32.3984 896.28 Q32.3984 900.927 36.0905 903.601 Q39.7508 906.243 46.212 906.243 Z\" fill=\"#000000\" fill-rule=\"evenodd\" fill-opacity=\"1\" /><path clip-path=\"url(#clip270)\" d=\"M35.1993 819.892 Q31.2526 817.696 29.3747 814.64 Q27.4968 811.585 27.4968 807.447 Q27.4968 801.877 31.4117 798.853 Q35.2948 795.829 42.4881 795.829 L64.0042 795.829 L64.0042 801.718 L42.679 801.718 Q37.5546 801.718 35.072 803.532 Q32.5894 805.346 32.5894 809.07 Q32.5894 813.622 35.6131 816.263 Q38.6368 818.905 43.8567 818.905 L64.0042 818.905 L64.0042 824.793 L42.679 824.793 Q37.5228 824.793 35.072 826.608 Q32.5894 828.422 32.5894 832.209 Q32.5894 836.697 35.6449 839.339 Q38.6686 841.981 43.8567 841.981 L64.0042 841.981 L64.0042 847.869 L28.3562 847.869 L28.3562 841.981 L33.8944 841.981 Q30.616 839.976 29.0564 837.175 Q27.4968 834.374 27.4968 830.523 Q27.4968 826.639 29.4702 823.934 Q31.4436 821.197 35.1993 819.892 Z\" fill=\"#000000\" fill-rule=\"evenodd\" fill-opacity=\"1\" /><path clip-path=\"url(#clip270)\" d=\"M49.9359 784.753 L28.3562 784.753 L28.3562 778.897 L49.7131 778.897 Q54.7739 778.897 57.3202 776.923 Q59.8346 774.95 59.8346 771.003 Q59.8346 766.261 56.8109 763.523 Q53.7872 760.754 48.5673 760.754 L28.3562 760.754 L28.3562 754.898 L64.0042 754.898 L64.0042 760.754 L58.5296 760.754 Q61.7762 762.887 63.3676 765.72 Q64.9272 768.521 64.9272 772.244 Q64.9272 778.387 61.1078 781.57 Q57.2883 784.753 49.9359 784.753 M27.4968 770.016 L27.4968 770.016 Z\" fill=\"#000000\" fill-rule=\"evenodd\" fill-opacity=\"1\" /><path clip-path=\"url(#clip270)\" d=\"M18.2347 737.042 L28.3562 737.042 L28.3562 724.979 L32.9077 724.979 L32.9077 737.042 L52.2594 737.042 Q56.6199 737.042 57.8613 735.864 Q59.1026 734.655 59.1026 730.995 L59.1026 724.979 L64.0042 724.979 L64.0042 730.995 Q64.0042 737.774 61.4897 740.352 Q58.9434 742.93 52.2594 742.93 L32.9077 742.93 L32.9077 747.227 L28.3562 747.227 L28.3562 742.93 L18.2347 742.93 L18.2347 737.042 Z\" fill=\"#000000\" fill-rule=\"evenodd\" fill-opacity=\"1\" /><path clip-path=\"url(#clip270)\" d=\"M49.9359 717.881 L28.3562 717.881 L28.3562 712.025 L49.7131 712.025 Q54.7739 712.025 57.3202 710.052 Q59.8346 708.078 59.8346 704.131 Q59.8346 699.389 56.8109 696.652 Q53.7872 693.883 48.5673 693.883 L28.3562 693.883 L28.3562 688.026 L64.0042 688.026 L64.0042 693.883 L58.5296 693.883 Q61.7762 696.015 63.3676 698.848 Q64.9272 701.649 64.9272 705.373 Q64.9272 711.516 61.1078 714.698 Q57.2883 717.881 49.9359 717.881 M27.4968 703.145 L27.4968 703.145 Z\" fill=\"#000000\" fill-rule=\"evenodd\" fill-opacity=\"1\" /><path clip-path=\"url(#clip270)\" d=\"M46.0847 659.762 Q46.0847 666.86 47.7079 669.597 Q49.3312 672.335 53.2461 672.335 Q56.3653 672.335 58.2114 670.298 Q60.0256 668.229 60.0256 664.696 Q60.0256 659.826 56.5881 656.898 Q53.1188 653.938 47.3897 653.938 L46.0847 653.938 L46.0847 659.762 M43.6657 648.081 L64.0042 648.081 L64.0042 653.938 L58.5933 653.938 Q61.8398 655.943 63.3994 658.935 Q64.9272 661.927 64.9272 666.255 Q64.9272 671.73 61.8716 674.976 Q58.7843 678.191 53.6281 678.191 Q47.6125 678.191 44.5569 674.181 Q41.5014 670.139 41.5014 662.15 L41.5014 653.938 L40.9285 653.938 Q36.8862 653.938 34.6901 656.611 Q32.4621 659.253 32.4621 664.059 Q32.4621 667.115 33.1941 670.011 Q33.9262 672.908 35.3903 675.581 L29.9795 675.581 Q28.7381 672.367 28.1334 669.343 Q27.4968 666.319 27.4968 663.455 Q27.4968 655.72 31.5072 651.901 Q35.5176 648.081 43.6657 648.081 Z\" fill=\"#000000\" fill-rule=\"evenodd\" fill-opacity=\"1\" /><path clip-path=\"url(#clip270)\" d=\"M14.479 636.018 L14.479 630.162 L64.0042 630.162 L64.0042 636.018 L14.479 636.018 Z\" fill=\"#000000\" fill-rule=\"evenodd\" fill-opacity=\"1\" /><path clip-path=\"url(#clip270)\" d=\"M28.3562 597.188 L28.3562 591.331 L64.0042 591.331 L64.0042 597.188 L28.3562 597.188 M14.479 597.188 L14.479 591.331 L21.895 591.331 L21.895 597.188 L14.479 597.188 Z\" fill=\"#000000\" fill-rule=\"evenodd\" fill-opacity=\"1\" /><path clip-path=\"url(#clip270)\" d=\"M42.4881 549.445 L64.0042 549.445 L64.0042 555.301 L42.679 555.301 Q37.6183 555.301 35.1038 557.275 Q32.5894 559.248 32.5894 563.195 Q32.5894 567.937 35.6131 570.674 Q38.6368 573.412 43.8567 573.412 L64.0042 573.412 L64.0042 579.3 L28.3562 579.3 L28.3562 573.412 L33.8944 573.412 Q30.6797 571.311 29.0883 568.478 Q27.4968 565.614 27.4968 561.89 Q27.4968 555.747 31.3163 552.596 Q35.1038 549.445 42.4881 549.445 Z\" fill=\"#000000\" fill-rule=\"evenodd\" fill-opacity=\"1\" /><path clip-path=\"url(#clip270)\" d=\"M14.479 519.717 L19.3487 519.717 L19.3487 525.319 Q19.3487 528.47 20.6219 529.711 Q21.895 530.921 25.2052 530.921 L28.3562 530.921 L28.3562 521.276 L32.9077 521.276 L32.9077 530.921 L64.0042 530.921 L64.0042 536.809 L32.9077 536.809 L32.9077 542.411 L28.3562 542.411 L28.3562 536.809 L25.8736 536.809 Q19.9216 536.809 17.2162 534.04 Q14.479 531.271 14.479 525.255 L14.479 519.717 Z\" fill=\"#000000\" fill-rule=\"evenodd\" fill-opacity=\"1\" /><path clip-path=\"url(#clip270)\" d=\"M32.4621 501.002 Q32.4621 505.712 36.1542 508.45 Q39.8145 511.187 46.212 511.187 Q52.6095 511.187 56.3017 508.481 Q59.9619 505.744 59.9619 501.002 Q59.9619 496.323 56.2698 493.586 Q52.5777 490.848 46.212 490.848 Q39.8781 490.848 36.186 493.586 Q32.4621 496.323 32.4621 501.002 M27.4968 501.002 Q27.4968 493.363 32.4621 489.002 Q37.4273 484.642 46.212 484.642 Q54.9649 484.642 59.9619 489.002 Q64.9272 493.363 64.9272 501.002 Q64.9272 508.672 59.9619 513.033 Q54.9649 517.362 46.212 517.362 Q37.4273 517.362 32.4621 513.033 Q27.4968 508.672 27.4968 501.002 Z\" fill=\"#000000\" fill-rule=\"evenodd\" fill-opacity=\"1\" /><path clip-path=\"url(#clip270)\" d=\"M33.8307 454.277 Q33.2578 455.264 33.0032 456.442 Q32.7167 457.588 32.7167 458.988 Q32.7167 463.953 35.9632 466.627 Q39.1779 469.269 45.2253 469.269 L64.0042 469.269 L64.0042 475.157 L28.3562 475.157 L28.3562 469.269 L33.8944 469.269 Q30.6479 467.423 29.0883 464.463 Q27.4968 461.502 27.4968 457.269 Q27.4968 456.665 27.5923 455.933 Q27.656 455.2 27.8151 454.309 L33.8307 454.277 Z\" fill=\"#000000\" fill-rule=\"evenodd\" fill-opacity=\"1\" /><path clip-path=\"url(#clip270)\" d=\"M35.1993 421.526 Q31.2526 419.33 29.3747 416.274 Q27.4968 413.219 27.4968 409.081 Q27.4968 403.511 31.4117 400.487 Q35.2948 397.463 42.4881 397.463 L64.0042 397.463 L64.0042 403.352 L42.679 403.352 Q37.5546 403.352 35.072 405.166 Q32.5894 406.98 32.5894 410.704 Q32.5894 415.256 35.6131 417.897 Q38.6368 420.539 43.8567 420.539 L64.0042 420.539 L64.0042 426.427 L42.679 426.427 Q37.5228 426.427 35.072 428.242 Q32.5894 430.056 32.5894 433.844 Q32.5894 438.331 35.6449 440.973 Q38.6686 443.615 43.8567 443.615 L64.0042 443.615 L64.0042 449.503 L28.3562 449.503 L28.3562 443.615 L33.8944 443.615 Q30.616 441.61 29.0564 438.809 Q27.4968 436.008 27.4968 432.157 Q27.4968 428.274 29.4702 425.568 Q31.4436 422.831 35.1993 421.526 Z\" fill=\"#000000\" fill-rule=\"evenodd\" fill-opacity=\"1\" /><path clip-path=\"url(#clip270)\" d=\"M46.0847 369.582 Q46.0847 376.679 47.7079 379.417 Q49.3312 382.154 53.2461 382.154 Q56.3653 382.154 58.2114 380.117 Q60.0256 378.048 60.0256 374.515 Q60.0256 369.645 56.5881 366.717 Q53.1188 363.757 47.3897 363.757 L46.0847 363.757 L46.0847 369.582 M43.6657 357.901 L64.0042 357.901 L64.0042 363.757 L58.5933 363.757 Q61.8398 365.762 63.3994 368.754 Q64.9272 371.746 64.9272 376.075 Q64.9272 381.549 61.8716 384.796 Q58.7843 388.01 53.6281 388.01 Q47.6125 388.01 44.5569 384 Q41.5014 379.958 41.5014 371.969 L41.5014 363.757 L40.9285 363.757 Q36.8862 363.757 34.6901 366.431 Q32.4621 369.072 32.4621 373.879 Q32.4621 376.934 33.1941 379.83 Q33.9262 382.727 35.3903 385.4 L29.9795 385.4 Q28.7381 382.186 28.1334 379.162 Q27.4968 376.138 27.4968 373.274 Q27.4968 365.539 31.5072 361.72 Q35.5176 357.901 43.6657 357.901 Z\" fill=\"#000000\" fill-rule=\"evenodd\" fill-opacity=\"1\" /><path clip-path=\"url(#clip270)\" d=\"M18.2347 340.045 L28.3562 340.045 L28.3562 327.982 L32.9077 327.982 L32.9077 340.045 L52.2594 340.045 Q56.6199 340.045 57.8613 338.867 Q59.1026 337.658 59.1026 333.997 L59.1026 327.982 L64.0042 327.982 L64.0042 333.997 Q64.0042 340.777 61.4897 343.355 Q58.9434 345.933 52.2594 345.933 L32.9077 345.933 L32.9077 350.23 L28.3562 350.23 L28.3562 345.933 L18.2347 345.933 L18.2347 340.045 Z\" fill=\"#000000\" fill-rule=\"evenodd\" fill-opacity=\"1\" /><path clip-path=\"url(#clip270)\" d=\"M28.3562 320.279 L28.3562 314.423 L64.0042 314.423 L64.0042 320.279 L28.3562 320.279 M14.479 320.279 L14.479 314.423 L21.895 314.423 L21.895 320.279 L14.479 320.279 Z\" fill=\"#000000\" fill-rule=\"evenodd\" fill-opacity=\"1\" /><path clip-path=\"url(#clip270)\" d=\"M32.4621 288.355 Q32.4621 293.066 36.1542 295.803 Q39.8145 298.54 46.212 298.54 Q52.6095 298.54 56.3017 295.835 Q59.9619 293.098 59.9619 288.355 Q59.9619 283.676 56.2698 280.939 Q52.5777 278.202 46.212 278.202 Q39.8781 278.202 36.186 280.939 Q32.4621 283.676 32.4621 288.355 M27.4968 288.355 Q27.4968 280.716 32.4621 276.356 Q37.4273 271.995 46.212 271.995 Q54.9649 271.995 59.9619 276.356 Q64.9272 280.716 64.9272 288.355 Q64.9272 296.026 59.9619 300.386 Q54.9649 304.715 46.212 304.715 Q37.4273 304.715 32.4621 300.386 Q27.4968 296.026 27.4968 288.355 Z\" fill=\"#000000\" fill-rule=\"evenodd\" fill-opacity=\"1\" /><path clip-path=\"url(#clip270)\" d=\"M42.4881 232.655 L64.0042 232.655 L64.0042 238.512 L42.679 238.512 Q37.6183 238.512 35.1038 240.485 Q32.5894 242.459 32.5894 246.405 Q32.5894 251.148 35.6131 253.885 Q38.6368 256.622 43.8567 256.622 L64.0042 256.622 L64.0042 262.511 L28.3562 262.511 L28.3562 256.622 L33.8944 256.622 Q30.6797 254.522 29.0883 251.689 Q27.4968 248.824 27.4968 245.1 Q27.4968 238.957 31.3163 235.806 Q35.1038 232.655 42.4881 232.655 Z\" fill=\"#000000\" fill-rule=\"evenodd\" fill-opacity=\"1\" /><polyline clip-path=\"url(#clip272)\" style=\"stroke:#009af9; stroke-linecap:butt; stroke-linejoin:round; stroke-width:4; stroke-opacity:1; fill:none\" points=\"\n",
       "  280.231,131.968 503.804,96.325 727.378,156.217 950.951,166.41 1174.52,250.875 1398.1,425.455 1621.67,925.847 1845.24,1259.34 2068.82,1291 2292.39,1377.56 \n",
       "  \n",
       "  \"/>\n",
       "<polyline clip-path=\"url(#clip272)\" style=\"stroke:#009af9; stroke-linecap:butt; stroke-linejoin:round; stroke-width:4; stroke-opacity:1; fill:none\" points=\"\n",
       "  280.231,138.468 280.231,125.469 \n",
       "  \"/>\n",
       "<polyline clip-path=\"url(#clip272)\" style=\"stroke:#009af9; stroke-linecap:butt; stroke-linejoin:round; stroke-width:4; stroke-opacity:1; fill:none\" points=\"\n",
       "  503.804,106.464 503.804,86.1857 \n",
       "  \"/>\n",
       "<polyline clip-path=\"url(#clip272)\" style=\"stroke:#009af9; stroke-linecap:butt; stroke-linejoin:round; stroke-width:4; stroke-opacity:1; fill:none\" points=\"\n",
       "  727.378,177.009 727.378,135.424 \n",
       "  \"/>\n",
       "<polyline clip-path=\"url(#clip272)\" style=\"stroke:#009af9; stroke-linecap:butt; stroke-linejoin:round; stroke-width:4; stroke-opacity:1; fill:none\" points=\"\n",
       "  950.951,217.923 950.951,114.897 \n",
       "  \"/>\n",
       "<polyline clip-path=\"url(#clip272)\" style=\"stroke:#009af9; stroke-linecap:butt; stroke-linejoin:round; stroke-width:4; stroke-opacity:1; fill:none\" points=\"\n",
       "  1174.52,261.456 1174.52,240.293 \n",
       "  \"/>\n",
       "<polyline clip-path=\"url(#clip272)\" style=\"stroke:#009af9; stroke-linecap:butt; stroke-linejoin:round; stroke-width:4; stroke-opacity:1; fill:none\" points=\"\n",
       "  1398.1,463.258 1398.1,387.651 \n",
       "  \"/>\n",
       "<polyline clip-path=\"url(#clip272)\" style=\"stroke:#009af9; stroke-linecap:butt; stroke-linejoin:round; stroke-width:4; stroke-opacity:1; fill:none\" points=\"\n",
       "  1621.67,1011.38 1621.67,840.317 \n",
       "  \"/>\n",
       "<polyline clip-path=\"url(#clip272)\" style=\"stroke:#009af9; stroke-linecap:butt; stroke-linejoin:round; stroke-width:4; stroke-opacity:1; fill:none\" points=\"\n",
       "  1845.24,1279.78 1845.24,1238.89 \n",
       "  \"/>\n",
       "<polyline clip-path=\"url(#clip272)\" style=\"stroke:#009af9; stroke-linecap:butt; stroke-linejoin:round; stroke-width:4; stroke-opacity:1; fill:none\" points=\"\n",
       "  2068.82,1300.42 2068.82,1281.57 \n",
       "  \"/>\n",
       "<polyline clip-path=\"url(#clip272)\" style=\"stroke:#009af9; stroke-linecap:butt; stroke-linejoin:round; stroke-width:4; stroke-opacity:1; fill:none\" points=\"\n",
       "  2292.39,1384.24 2292.39,1370.87 \n",
       "  \"/>\n",
       "<line clip-path=\"url(#clip272)\" x1=\"296.231\" y1=\"138.468\" x2=\"264.231\" y2=\"138.468\" style=\"stroke:#009af9; stroke-width:3.2; stroke-opacity:1\"/>\n",
       "<line clip-path=\"url(#clip272)\" x1=\"296.231\" y1=\"125.469\" x2=\"264.231\" y2=\"125.469\" style=\"stroke:#009af9; stroke-width:3.2; stroke-opacity:1\"/>\n",
       "<line clip-path=\"url(#clip272)\" x1=\"519.804\" y1=\"106.464\" x2=\"487.804\" y2=\"106.464\" style=\"stroke:#009af9; stroke-width:3.2; stroke-opacity:1\"/>\n",
       "<line clip-path=\"url(#clip272)\" x1=\"519.804\" y1=\"86.1857\" x2=\"487.804\" y2=\"86.1857\" style=\"stroke:#009af9; stroke-width:3.2; stroke-opacity:1\"/>\n",
       "<line clip-path=\"url(#clip272)\" x1=\"743.378\" y1=\"177.009\" x2=\"711.378\" y2=\"177.009\" style=\"stroke:#009af9; stroke-width:3.2; stroke-opacity:1\"/>\n",
       "<line clip-path=\"url(#clip272)\" x1=\"743.378\" y1=\"135.424\" x2=\"711.378\" y2=\"135.424\" style=\"stroke:#009af9; stroke-width:3.2; stroke-opacity:1\"/>\n",
       "<line clip-path=\"url(#clip272)\" x1=\"966.951\" y1=\"217.923\" x2=\"934.951\" y2=\"217.923\" style=\"stroke:#009af9; stroke-width:3.2; stroke-opacity:1\"/>\n",
       "<line clip-path=\"url(#clip272)\" x1=\"966.951\" y1=\"114.897\" x2=\"934.951\" y2=\"114.897\" style=\"stroke:#009af9; stroke-width:3.2; stroke-opacity:1\"/>\n",
       "<line clip-path=\"url(#clip272)\" x1=\"1190.52\" y1=\"261.456\" x2=\"1158.52\" y2=\"261.456\" style=\"stroke:#009af9; stroke-width:3.2; stroke-opacity:1\"/>\n",
       "<line clip-path=\"url(#clip272)\" x1=\"1190.52\" y1=\"240.293\" x2=\"1158.52\" y2=\"240.293\" style=\"stroke:#009af9; stroke-width:3.2; stroke-opacity:1\"/>\n",
       "<line clip-path=\"url(#clip272)\" x1=\"1414.1\" y1=\"463.258\" x2=\"1382.1\" y2=\"463.258\" style=\"stroke:#009af9; stroke-width:3.2; stroke-opacity:1\"/>\n",
       "<line clip-path=\"url(#clip272)\" x1=\"1414.1\" y1=\"387.651\" x2=\"1382.1\" y2=\"387.651\" style=\"stroke:#009af9; stroke-width:3.2; stroke-opacity:1\"/>\n",
       "<line clip-path=\"url(#clip272)\" x1=\"1637.67\" y1=\"1011.38\" x2=\"1605.67\" y2=\"1011.38\" style=\"stroke:#009af9; stroke-width:3.2; stroke-opacity:1\"/>\n",
       "<line clip-path=\"url(#clip272)\" x1=\"1637.67\" y1=\"840.317\" x2=\"1605.67\" y2=\"840.317\" style=\"stroke:#009af9; stroke-width:3.2; stroke-opacity:1\"/>\n",
       "<line clip-path=\"url(#clip272)\" x1=\"1861.24\" y1=\"1279.78\" x2=\"1829.24\" y2=\"1279.78\" style=\"stroke:#009af9; stroke-width:3.2; stroke-opacity:1\"/>\n",
       "<line clip-path=\"url(#clip272)\" x1=\"1861.24\" y1=\"1238.89\" x2=\"1829.24\" y2=\"1238.89\" style=\"stroke:#009af9; stroke-width:3.2; stroke-opacity:1\"/>\n",
       "<line clip-path=\"url(#clip272)\" x1=\"2084.82\" y1=\"1300.42\" x2=\"2052.82\" y2=\"1300.42\" style=\"stroke:#009af9; stroke-width:3.2; stroke-opacity:1\"/>\n",
       "<line clip-path=\"url(#clip272)\" x1=\"2084.82\" y1=\"1281.57\" x2=\"2052.82\" y2=\"1281.57\" style=\"stroke:#009af9; stroke-width:3.2; stroke-opacity:1\"/>\n",
       "<line clip-path=\"url(#clip272)\" x1=\"2308.39\" y1=\"1384.24\" x2=\"2276.39\" y2=\"1384.24\" style=\"stroke:#009af9; stroke-width:3.2; stroke-opacity:1\"/>\n",
       "<line clip-path=\"url(#clip272)\" x1=\"2308.39\" y1=\"1370.87\" x2=\"2276.39\" y2=\"1370.87\" style=\"stroke:#009af9; stroke-width:3.2; stroke-opacity:1\"/>\n",
       "<path clip-path=\"url(#clip270)\" d=\"\n",
       "M1815.02 196.789 L2281.66 196.789 L2281.66 93.1086 L1815.02 93.1086  Z\n",
       "  \" fill=\"#ffffff\" fill-rule=\"evenodd\" fill-opacity=\"1\"/>\n",
       "<polyline clip-path=\"url(#clip270)\" style=\"stroke:#000000; stroke-linecap:butt; stroke-linejoin:round; stroke-width:4; stroke-opacity:1; fill:none\" points=\"\n",
       "  1815.02,196.789 2281.66,196.789 2281.66,93.1086 1815.02,93.1086 1815.02,196.789 \n",
       "  \"/>\n",
       "<polyline clip-path=\"url(#clip270)\" style=\"stroke:#009af9; stroke-linecap:butt; stroke-linejoin:round; stroke-width:4; stroke-opacity:1; fill:none\" points=\"\n",
       "  1838.72,144.949 1980.91,144.949 \n",
       "  \"/>\n",
       "<path clip-path=\"url(#clip270)\" d=\"M2004.61 127.669 L2026.46 127.669 L2026.46 131.604 L2009.29 131.604 L2009.29 141.835 L2025.74 141.835 L2025.74 145.77 L2009.29 145.77 L2009.29 158.293 L2026.88 158.293 L2026.88 162.229 L2004.61 162.229 L2004.61 127.669 Z\" fill=\"#000000\" fill-rule=\"evenodd\" fill-opacity=\"1\" /><path clip-path=\"url(#clip270)\" d=\"M2034.38 126.21 L2038.64 126.21 L2038.64 162.229 L2034.38 162.229 L2034.38 126.21 Z\" fill=\"#000000\" fill-rule=\"evenodd\" fill-opacity=\"1\" /><path clip-path=\"url(#clip270)\" d=\"M2047.55 126.21 L2051.81 126.21 L2051.81 162.229 L2047.55 162.229 L2047.55 126.21 Z\" fill=\"#000000\" fill-rule=\"evenodd\" fill-opacity=\"1\" /><path clip-path=\"url(#clip270)\" d=\"M2060.72 136.303 L2064.98 136.303 L2064.98 162.229 L2060.72 162.229 L2060.72 136.303 M2060.72 126.21 L2064.98 126.21 L2064.98 131.604 L2060.72 131.604 L2060.72 126.21 Z\" fill=\"#000000\" fill-rule=\"evenodd\" fill-opacity=\"1\" /><path clip-path=\"url(#clip270)\" d=\"M2078.01 158.34 L2078.01 172.09 L2073.73 172.09 L2073.73 136.303 L2078.01 136.303 L2078.01 140.238 Q2079.36 137.923 2081.39 136.812 Q2083.45 135.678 2086.3 135.678 Q2091.02 135.678 2093.96 139.428 Q2096.92 143.178 2096.92 149.289 Q2096.92 155.4 2093.96 159.15 Q2091.02 162.9 2086.3 162.9 Q2083.45 162.9 2081.39 161.789 Q2079.36 160.655 2078.01 158.34 M2092.5 149.289 Q2092.5 144.59 2090.56 141.928 Q2088.64 139.243 2085.26 139.243 Q2081.88 139.243 2079.93 141.928 Q2078.01 144.59 2078.01 149.289 Q2078.01 153.988 2079.93 156.673 Q2081.88 159.335 2085.26 159.335 Q2088.64 159.335 2090.56 156.673 Q2092.5 153.988 2092.5 149.289 Z\" fill=\"#000000\" fill-rule=\"evenodd\" fill-opacity=\"1\" /><path clip-path=\"url(#clip270)\" d=\"M2120.51 137.067 L2120.51 141.094 Q2118.71 140.169 2116.76 139.706 Q2114.82 139.243 2112.73 139.243 Q2109.56 139.243 2107.97 140.215 Q2106.39 141.187 2106.39 143.131 Q2106.39 144.613 2107.53 145.469 Q2108.66 146.303 2112.09 147.067 L2113.55 147.391 Q2118.08 148.363 2119.98 150.145 Q2121.9 151.905 2121.9 155.076 Q2121.9 158.687 2119.03 160.793 Q2116.18 162.9 2111.18 162.9 Q2109.1 162.9 2106.83 162.483 Q2104.59 162.09 2102.09 161.28 L2102.09 156.881 Q2104.45 158.108 2106.74 158.733 Q2109.03 159.335 2111.28 159.335 Q2114.29 159.335 2115.91 158.317 Q2117.53 157.275 2117.53 155.4 Q2117.53 153.664 2116.35 152.738 Q2115.19 151.812 2111.23 150.956 L2109.75 150.608 Q2105.79 149.775 2104.03 148.062 Q2102.27 146.326 2102.27 143.317 Q2102.27 139.659 2104.86 137.669 Q2107.46 135.678 2112.23 135.678 Q2114.59 135.678 2116.67 136.025 Q2118.75 136.372 2120.51 137.067 Z\" fill=\"#000000\" fill-rule=\"evenodd\" fill-opacity=\"1\" /><path clip-path=\"url(#clip270)\" d=\"M2138.73 139.289 Q2135.3 139.289 2133.31 141.974 Q2131.32 144.636 2131.32 149.289 Q2131.32 153.942 2133.29 156.627 Q2135.28 159.289 2138.73 159.289 Q2142.13 159.289 2144.12 156.604 Q2146.11 153.918 2146.11 149.289 Q2146.11 144.682 2144.12 141.997 Q2142.13 139.289 2138.73 139.289 M2138.73 135.678 Q2144.29 135.678 2147.46 139.289 Q2150.63 142.9 2150.63 149.289 Q2150.63 155.655 2147.46 159.289 Q2144.29 162.9 2138.73 162.9 Q2133.15 162.9 2129.98 159.289 Q2126.83 155.655 2126.83 149.289 Q2126.83 142.9 2129.98 139.289 Q2133.15 135.678 2138.73 135.678 Z\" fill=\"#000000\" fill-rule=\"evenodd\" fill-opacity=\"1\" /><path clip-path=\"url(#clip270)\" d=\"M2157.69 136.303 L2161.95 136.303 L2161.95 162.229 L2157.69 162.229 L2157.69 136.303 M2157.69 126.21 L2161.95 126.21 L2161.95 131.604 L2157.69 131.604 L2157.69 126.21 Z\" fill=\"#000000\" fill-rule=\"evenodd\" fill-opacity=\"1\" /><path clip-path=\"url(#clip270)\" d=\"M2187.92 140.238 L2187.92 126.21 L2192.18 126.21 L2192.18 162.229 L2187.92 162.229 L2187.92 158.34 Q2186.58 160.655 2184.52 161.789 Q2182.48 162.9 2179.61 162.9 Q2174.91 162.9 2171.95 159.15 Q2169.01 155.4 2169.01 149.289 Q2169.01 143.178 2171.95 139.428 Q2174.91 135.678 2179.61 135.678 Q2182.48 135.678 2184.52 136.812 Q2186.58 137.923 2187.92 140.238 M2173.41 149.289 Q2173.41 153.988 2175.33 156.673 Q2177.27 159.335 2180.65 159.335 Q2184.03 159.335 2185.98 156.673 Q2187.92 153.988 2187.92 149.289 Q2187.92 144.59 2185.98 141.928 Q2184.03 139.243 2180.65 139.243 Q2177.27 139.243 2175.33 141.928 Q2173.41 144.59 2173.41 149.289 Z\" fill=\"#000000\" fill-rule=\"evenodd\" fill-opacity=\"1\" /><path clip-path=\"url(#clip270)\" d=\"M2212.73 149.196 Q2207.57 149.196 2205.58 150.377 Q2203.59 151.557 2203.59 154.405 Q2203.59 156.673 2205.07 158.016 Q2206.58 159.335 2209.15 159.335 Q2212.69 159.335 2214.82 156.835 Q2216.97 154.312 2216.97 150.145 L2216.97 149.196 L2212.73 149.196 M2221.23 147.437 L2221.23 162.229 L2216.97 162.229 L2216.97 158.293 Q2215.51 160.655 2213.34 161.789 Q2211.16 162.9 2208.01 162.9 Q2204.03 162.9 2201.67 160.678 Q2199.33 158.432 2199.33 154.682 Q2199.33 150.307 2202.25 148.085 Q2205.19 145.863 2211 145.863 L2216.97 145.863 L2216.97 145.446 Q2216.97 142.507 2215.03 140.909 Q2213.1 139.289 2209.61 139.289 Q2207.39 139.289 2205.28 139.821 Q2203.17 140.354 2201.23 141.419 L2201.23 137.483 Q2203.57 136.581 2205.77 136.141 Q2207.97 135.678 2210.05 135.678 Q2215.67 135.678 2218.45 138.594 Q2221.23 141.511 2221.23 147.437 Z\" fill=\"#000000\" fill-rule=\"evenodd\" fill-opacity=\"1\" /><path clip-path=\"url(#clip270)\" d=\"M2230 126.21 L2234.26 126.21 L2234.26 162.229 L2230 162.229 L2230 126.21 Z\" fill=\"#000000\" fill-rule=\"evenodd\" fill-opacity=\"1\" /></svg>\n"
      ]
     },
     "metadata": {},
     "output_type": "display_data"
    }
   ],
   "source": [
    "## Compute NMI for each graph\n",
    "\n",
    "# Set parameters of simulations\n",
    "mus=0.1:0.1:1 # values for the mixing parameter\n",
    "\n",
    "n_it_PPM = 30000;\n",
    "t = 1e-10;\n",
    "n_clusters = 20;\n",
    "r0 = 20;\n",
    "\n",
    "# Specify here the number of times vector partition is repeated\n",
    "n_it_Vec_Partition = 10;\n",
    "# we advise : n_it_Vec_Partition = 100;\n",
    "\n",
    "n_updates = 100; # max total by default\n",
    "shape = \"Ellipsoidal\"; #shape = \"Spherical\"\n",
    "\n",
    "n_rep = 3;\n",
    "NMIs=zeros(Float64,length(mus),n_rep)\n",
    "for i=1:length(mus)\n",
    "    for j=1:n_rep\n",
    "\n",
    "        println(\"\\n========== Graph $i/$(length(mus)), mu=$(mus[i]), number_rep = $j ==========\")\n",
    "        \n",
    "        # load graph data\n",
    "        community0 = readdlm(\"Data/LFR_NMI/data\"*string(mus[i])*\".nmc\"); # communities: .nmc\n",
    "        adj = readdlm(\"Data/LFR_NMI/data\"*string(mus[i])*\".nse\"); # network: *.nse\n",
    "        \n",
    "        # remove first line (infos) and third column (weights)\n",
    "        adj = adj[2:end,1:2]\n",
    "        adj = convert(Array{Float64,2},adj)\n",
    "\n",
    "        community_true = convert(Array{Int64},community0[:,2])\n",
    "        N = length(community_true);\n",
    "        n_edge2 = size(adj)[1];\n",
    "\n",
    "        A = sparse(adj[:,1],adj[:,2],vec(ones(Int64,n_edge2,1)),N,N);\n",
    "        A = A+A' # Only the upper triangular part of A was stored\n",
    "\n",
    "        A,vertices = largest_component(A);\n",
    "        community_true=community_true[vertices]\n",
    "        community_true=rename_com_unique(community_true)\n",
    "        \n",
    "        # embed cluster\n",
    "        _,community = @time sphere_embed_cluster(A,n_it_PPM,t, n_clusters,n_it_Vec_Partition,n_updates,shape,r0)\n",
    "\n",
    "        NMIs[i,j]=mutualinfo(community_true,community);\n",
    "    end\n",
    "end\n",
    "#######################################################################\n",
    "# Plot Normalized mutual information vs Miwing parameter\n",
    "#######################################################################\n",
    "m = mean(NMIs,dims=2);\n",
    "s = std(NMIs,dims=2);\n",
    "plot(mus, m, yerror = s,\n",
    "markerstrokecolor=:auto,\n",
    "xlabel = \"Mixing parameter\",\n",
    "ylabel = \"Normalized mutual information\",\n",
    "labels = \"Ellipsoidal\")\n",
    "#######################################################################\n",
    "\n"
   ]
  },
  {
   "cell_type": "code",
   "execution_count": null,
   "metadata": {},
   "outputs": [],
   "source": []
  }
 ],
 "metadata": {
  "kernelspec": {
   "display_name": "Julia 1.6.3",
   "language": "julia",
   "name": "julia-1.6"
  },
  "language_info": {
   "file_extension": ".jl",
   "mimetype": "application/julia",
   "name": "julia",
   "version": "1.6.3"
  }
 },
 "nbformat": 4,
 "nbformat_minor": 2
}
