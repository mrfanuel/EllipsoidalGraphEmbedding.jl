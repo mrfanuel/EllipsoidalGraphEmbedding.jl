{
 "cells": [
  {
   "cell_type": "code",
   "execution_count": 12,
   "metadata": {},
   "outputs": [
    {
     "data": {
      "text/plain": [
       "SDP_Cluster (generic function with 1 method)"
      ]
     },
     "metadata": {},
     "output_type": "display_data"
    }
   ],
   "source": [
    "#######################################################################\n",
    "# Loading packages\n",
    "#######################################################################\n",
    "using MatrixNetworks\n",
    "using Distributions\n",
    "using Clustering\n",
    "using NPZ\n",
    "using BenchmarkTools, Compat\n",
    "using DelimitedFiles\n",
    "using SparseArrays\n",
    "using Printf\n",
    "using LinearAlgebra\n",
    "using Plots\n",
    "#######################################################################\n",
    "# Loading functions\n",
    "#######################################################################\n",
    "include(\"Algo/SphereEmbedCluster.jl\")\n"
   ]
  },
  {
   "cell_type": "code",
   "execution_count": 13,
   "metadata": {},
   "outputs": [
    {
     "name": "stdout",
     "output_type": "stream",
     "text": [
      "------------ First Run for Compilation ------------- \n",
      "\n"
     ]
    },
    {
     "name": "stdout",
     "output_type": "stream",
     "text": [
      " ------- Acc Projected Power Iteration -------\n",
      "The iteration did not converge after 2 iterations\n",
      "The relative difference between the last objective values 0.076626 \n",
      "  0.000356 seconds (84 allocations: 333.344 KiB)\n",
      "OK \n",
      " -------------- Clustering ------- \n",
      "dimension of embedding used for clustering: 20\n",
      "Number of updates: 1\n",
      "Number of communities: 2\n",
      "Modularity: 0.06225515088449525\n",
      " -------------------------------------------- \n",
      "The squared singular values divided by N : \n",
      "[0.3158067837547597, 0.2557622645969855, 0.09806381262093612, 0.05853210577720124, 0.03499919777964027, 0.03152488440624221, 0.030102417298989406, 0.025657950641741298, 0.02357159637576553, 0.020363016763067274, 0.01811179417489245, 0.015493779701438013, 0.014582706319880043, 0.013511469574426359, 0.012366901969165886, 0.008929951265675641, 0.007894403868394234, 0.0060360789629457, 0.005391329972914543, 0.0032975541749375673]\n",
      "\n",
      "------------ DONE: TEST OK ------------- \n"
     ]
    }
   ],
   "source": [
    "#######################################################################\n",
    "# Loading data for the first call (used for compilation\n",
    "#######################################################################\n",
    "community0 = readdlm(\"Data/LFR_NMI/precompile.nmc\"); # communities: .nmc\n",
    "adj = readdlm(\"Data/LFR_NMI/precompile.nse\"); # network: *.nse\n",
    "\n",
    "# remove first line (infos) and third column (weights)\n",
    "adj = adj[2:end,1:2]\n",
    "adj = convert(Array{Float64,2},adj)\n",
    "\n",
    "community_true = community0[:,2];\n",
    "N = length(community_true);\n",
    "n_edge2 = size(adj)[1];\n",
    "\n",
    "A = sparse(adj[:,1],adj[:,2],vec(ones(Int64,n_edge2,1)),N,N);\n",
    "A = A+A' # Only the upper triangular part of A was stored\n",
    "A,_ = largest_component(A);\n",
    "adj = 0;\n",
    "\n",
    "#######################################################################\n",
    "# First call to compile the functions\n",
    "#######################################################################\n",
    "print(\"------------ First Run for Compilation ------------- \\n\")\n",
    "\n",
    "n_it_PPM = 2;\n",
    "t = 1e-06;\n",
    "n_clusters = 2;\n",
    "n_it_Vec_Partition = 3;\n",
    "shape = \"Ellipsoidal\"; #shape = \"Spherical\"\n",
    "r0 = 20;\n",
    "\n",
    "n_updates = 1;\n",
    "sig,community =  SphereEmbedCluster(A,n_it_PPM,t, n_clusters,n_it_Vec_Partition,n_updates,shape,r0);\n",
    "\n",
    "\tprint(\"\\n------------ DONE: TEST OK ------------- \\n\")\n",
    "#######################################################################"
   ]
  },
  {
   "cell_type": "code",
   "execution_count": 14,
   "metadata": {
    "scrolled": true
   },
   "outputs": [
    {
     "name": "stdout",
     "output_type": "stream",
     "text": [
      "\n",
      "========== Graph 1/10, mu=0.1, number_rep = 1 ==========\n",
      "\n",
      " ------- Acc Projected Power Iteration -------\n"
     ]
    },
    {
     "name": "stdout",
     "output_type": "stream",
     "text": [
      "The iteration has become stationary after 456 iterations\n",
      "  0.659371 seconds (11.90 k allocations: 634.161 MiB, 13.06% gc time)\n",
      "OK \n",
      " -------------- Clustering ------- \n",
      "dimension of embedding used for clustering: 20\n",
      "Number of updates: 5\n",
      "Number of communities: 16\n",
      "Modularity: 0.8280406076362496\n",
      " -------------------------------------------- \n",
      "The squared singular values divided by N : \n",
      "[0.4241966544392915, 0.2495376633919508, 0.16446888845644425, 0.09764463067785184, 0.0638527384760303, 0.00021188069847846925, 7.910064259184093e-5, 3.876452512763764e-6, 2.1976372062962904e-6, 8.263718745849314e-7, 6.331716406235943e-7, 4.838773881978081e-7, 1.942049688930456e-7, 1.37006126203001e-7, 6.290605137893154e-8, 1.619425136332603e-8, 8.370098652908795e-9, 5.096740975387077e-9, 1.855103860257144e-9, 7.339760644553134e-11]\n",
      "  0.709804 seconds (129.12 k allocations: 675.921 MiB, 12.90% gc time)\n",
      "\n",
      "========== Graph 1/10, mu=0.1, number_rep = 2 ==========\n",
      "\n",
      " ------- Acc Projected Power Iteration -------\n",
      "The iteration has become stationary after 374 iterations\n"
     ]
    },
    {
     "name": "stdout",
     "output_type": "stream",
     "text": [
      "  0.536892 seconds (9.78 k allocations: 519.947 MiB, 12.76% gc time)\n",
      "OK \n",
      " -------------- Clustering ------- \n",
      "dimension of embedding used for clustering: 20\n",
      "Number of updates: 1\n",
      "Number of communities: 17\n",
      "Modularity: 0.823320178040456\n",
      " -------------------------------------------- \n",
      "The squared singular values divided by N : \n",
      "[0.4233938571348207, 0.24892369735230147, 0.16568557229849917, 0.09995248818260347, 0.06182898897595719, 0.00012871184489236017, 7.46980496895432e-5, 4.5206090599102355e-6, 4.399405178642676e-6, 1.0807458005334078e-6, 7.212250104811954e-7, 5.368723676746663e-7, 3.28814071947091e-7, 2.3044305487248145e-7, 1.1406274285709945e-7, 2.971364914059177e-8, 1.1123193273796057e-8, 7.247549719929129e-9, 5.672065658578759e-9, 2.2749161934393176e-10]\n",
      "  0.575518 seconds (89.69 k allocations: 548.462 MiB, 13.04% gc time)\n",
      "\n",
      "========== Graph 1/10, mu=0.1, number_rep = 3 ==========\n",
      "\n",
      " ------- Acc Projected Power Iteration -------\n",
      "The iteration has become stationary after 447 iterations\n"
     ]
    },
    {
     "name": "stdout",
     "output_type": "stream",
     "text": [
      "  0.611828 seconds (11.67 k allocations: 621.631 MiB, 12.34% gc time)\n",
      "OK \n",
      " -------------- Clustering ------- \n",
      "dimension of embedding used for clustering: 20\n",
      "Number of updates: 2\n",
      "Number of communities: 16\n",
      "Modularity: 0.831322576464135\n",
      " -------------------------------------------- \n",
      "The squared singular values divided by N : \n",
      "[0.4236647959793265, 0.24906363520903982, 0.16534755337638868, 0.09801297431995001, 0.06370487576344824, 0.0001573758232054783, 3.435791534196013e-5, 9.770798229984139e-6, 2.1522328444818894e-6, 1.4075180220841834e-6, 4.1050227515460784e-7, 3.1851476958153613e-7, 1.920503443023709e-7, 9.375977547081666e-8, 5.9260877122180957e-8, 1.565018748217683e-8, 8.43680666747909e-9, 1.4201380169481642e-9, 9.783757549012337e-10, 4.906535883213036e-10]\n",
      "  0.654731 seconds (114.37 k allocations: 658.112 MiB, 12.36% gc time)\n",
      "\n",
      "========== Graph 2/10, mu=0.2, number_rep = 1 ==========\n",
      "\n",
      " ------- Acc Projected Power Iteration -------\n",
      "The iteration has become stationary after 336 iterations\n"
     ]
    },
    {
     "name": "stdout",
     "output_type": "stream",
     "text": [
      "  0.458648 seconds (8.79 k allocations: 467.012 MiB, 12.21% gc time)\n",
      "OK \n",
      " -------------- Clustering ------- \n",
      "dimension of embedding used for clustering: 20\n",
      "Number of updates: 3\n",
      "Number of communities: 18\n",
      "Modularity: 0.7373272929012651\n",
      " -------------------------------------------- \n",
      "The squared singular values divided by N : \n",
      "[0.34504737254256, 0.2992836939250294, 0.1927438004826914, 0.10506936746295623, 0.039775243721895205, 0.01804860979338713, 1.9442633972474345e-5, 5.244440775504747e-6, 3.5552876032004153e-6, 1.962988598770979e-6, 9.222100593096729e-7, 4.7102683787274227e-7, 1.778101719796012e-7, 5.855442779572311e-8, 3.4212101694721625e-8, 2.5768478002503958e-8, 1.0458855678980892e-8, 4.157857185693169e-9, 1.780655326851611e-9, 7.410853315070812e-10]\n",
      "  0.507301 seconds (115.67 k allocations: 505.146 MiB, 12.30% gc time)\n",
      "\n",
      "========== Graph 2/10, mu=0.2, number_rep = 2 ==========\n",
      "\n",
      " ------- Acc Projected Power Iteration -------\n",
      "The iteration has become stationary after 262 iterations\n"
     ]
    },
    {
     "name": "stdout",
     "output_type": "stream",
     "text": [
      "  0.356890 seconds (6.86 k allocations: 363.933 MiB, 11.68% gc time)\n",
      "OK \n",
      " -------------- Clustering ------- \n",
      "dimension of embedding used for clustering: 20\n",
      "Number of updates: 2\n",
      "Number of communities: 16\n",
      "Modularity: 0.7261358360849431\n",
      " -------------------------------------------- \n",
      "The squared singular values divided by N : \n",
      "[0.3436995518183704, 0.2985315523150331, 0.1935437122781345, 0.10642050679770435, 0.03862767540013241, 0.018971123019491845, 0.00015992151669236117, 2.3957925435452287e-5, 9.043874188746393e-6, 4.568950868211015e-6, 3.3524211614726553e-6, 2.794011161952351e-6, 1.4654983530153928e-6, 4.371665336948763e-7, 2.558900557876517e-7, 5.8424722103171994e-8, 1.1960864587194874e-8, 7.115188050263246e-9, 2.779476225145617e-9, 8.364322891551774e-10]\n",
      "  0.399014 seconds (99.23 k allocations: 396.972 MiB, 11.89% gc time)\n",
      "\n",
      "========== Graph 2/10, mu=0.2, number_rep = 3 ==========\n",
      "\n",
      " ------- Acc Projected Power Iteration -------\n",
      "The iteration has become stationary after 260 iterations\n"
     ]
    },
    {
     "name": "stdout",
     "output_type": "stream",
     "text": [
      "  0.373653 seconds (6.81 k allocations: 361.147 MiB, 11.34% gc time)\n",
      "OK \n",
      " -------------- Clustering ------- \n",
      "dimension of embedding used for clustering: 20\n",
      "Number of updates: 3\n",
      "Number of communities: 17\n",
      "Modularity: 0.7287633403567024\n",
      " -------------------------------------------- \n",
      "The squared singular values divided by N : \n",
      "[0.3430553127062014, 0.29884409061681905, 0.192194973299284, 0.1061884040869867, 0.03893366751414897, 0.020642677453188377, 7.911559403328096e-5, 3.8453012614917546e-5, 1.1123935454362308e-5, 6.268822496727126e-6, 3.399906436061958e-6, 1.1838100499368946e-6, 6.924133742464275e-7, 3.0933854296275723e-7, 1.518990939272948e-7, 9.475572066562225e-8, 4.382848744499649e-8, 2.3189647089501033e-8, 1.1948329631549611e-8, 1.86909029495417e-9]\n",
      "  0.425147 seconds (109.54 k allocations: 397.783 MiB, 11.66% gc time)\n",
      "\n",
      "========== Graph 3/10, mu=0.3, number_rep = 1 ==========\n",
      "\n",
      " ------- Acc Projected Power Iteration -------\n",
      "The iteration has become stationary after 265 iterations\n"
     ]
    },
    {
     "name": "stdout",
     "output_type": "stream",
     "text": [
      "  0.359139 seconds (6.94 k allocations: 368.112 MiB, 12.19% gc time)\n",
      "OK \n",
      " -------------- Clustering ------- \n",
      "dimension of embedding used for clustering: 20\n",
      "Number of updates: 6\n",
      "Number of communities: 15\n",
      "Modularity: 0.6408030194182597\n",
      " -------------------------------------------- \n",
      "The squared singular values divided by N : \n",
      "[0.23759206637796593, 0.20427624782793566, 0.16232338115170378, 0.13663342036809137, 0.10831881291660854, 0.07556479580235065, 0.04430430717743645, 0.030813023422063917, 9.018394164619984e-5, 6.678692604023148e-5, 7.768259566258643e-6, 5.461493231487269e-6, 1.6549052663957322e-6, 9.069708026830668e-7, 7.199086002368738e-7, 2.848614982289005e-7, 8.36504152009109e-8, 6.034494409773533e-8, 2.1192136937877978e-8, 1.2501695267266068e-8]\n",
      "  0.424046 seconds (138.70 k allocations: 414.929 MiB, 11.77% gc time)\n",
      "\n",
      "========== Graph 3/10, mu=0.3, number_rep = 2 ==========\n",
      "\n",
      " ------- Acc Projected Power Iteration -------\n",
      "The iteration has become stationary after 305 iterations\n"
     ]
    },
    {
     "name": "stdout",
     "output_type": "stream",
     "text": [
      "  0.413286 seconds (7.98 k allocations: 423.830 MiB, 12.36% gc time)\n",
      "OK \n",
      " -------------- Clustering ------- \n",
      "dimension of embedding used for clustering: 20\n",
      "Number of updates: 2\n",
      "Number of communities: 16\n",
      "Modularity: 0.6292377303267941\n",
      " -------------------------------------------- \n",
      "The squared singular values divided by N : \n",
      "[0.23781253093013036, 0.20444684249202424, 0.16207643521229234, 0.1364691611168037, 0.10772054165835399, 0.0755476453371699, 0.04518654880166374, 0.03064525724178122, 7.459109345351396e-5, 1.3483939859914841e-5, 3.043583952688463e-6, 2.034053515113407e-6, 1.1818409734171406e-6, 4.978366380762504e-7, 1.428141517110104e-7, 3.469231481118363e-8, 1.2853292441679717e-8, 9.875794270216342e-9, 3.5464515158833264e-9, 1.0793834566197866e-9]\n",
      "  0.463518 seconds (94.12 k allocations: 454.552 MiB, 13.01% gc time)\n",
      "\n",
      "========== Graph 3/10, mu=0.3, number_rep = 3 ==========\n",
      "\n",
      " ------- Acc Projected Power Iteration -------\n",
      "The iteration has become stationary after 403 iterations\n"
     ]
    },
    {
     "name": "stdout",
     "output_type": "stream",
     "text": [
      "  0.550143 seconds (10.53 k allocations: 560.340 MiB, 12.46% gc time)\n",
      "OK \n",
      " -------------- Clustering ------- \n",
      "dimension of embedding used for clustering: 20\n",
      "Number of updates: 3\n",
      "Number of communities: 15\n",
      "Modularity: 0.6348416496231991\n",
      " -------------------------------------------- \n",
      "The squared singular values divided by N : \n",
      "[0.23775356613142512, 0.20443931613179622, 0.16196700992273888, 0.13667504065994265, 0.10803867915435263, 0.07569340923651645, 0.044820629910849306, 0.030581857172365924, 2.441112085981595e-5, 4.067906152358651e-6, 1.4202588736885713e-6, 3.225219192307492e-7, 1.987708565749534e-7, 3.9939702290698826e-8, 2.3816084183255985e-8, 4.8775770461776736e-9, 1.3875462771298628e-9, 6.735652784345844e-10, 3.866434163929472e-10, 2.0232719724673195e-11]\n",
      "  0.611287 seconds (133.96 k allocations: 603.959 MiB, 12.54% gc time)\n",
      "\n",
      "========== Graph 4/10, mu=0.4, number_rep = 1 ==========\n",
      "\n",
      " ------- Acc Projected Power Iteration -------\n",
      "The iteration has become stationary after 214 iterations\n"
     ]
    },
    {
     "name": "stdout",
     "output_type": "stream",
     "text": [
      "  0.309715 seconds (5.61 k allocations: 297.071 MiB, 11.70% gc time)\n",
      "OK \n",
      " -------------- Clustering ------- \n",
      "dimension of embedding used for clustering: 20\n",
      "Number of updates: 3\n",
      "Number of communities: 15\n",
      "Modularity: 0.5272301057021508\n",
      " -------------------------------------------- \n",
      "The squared singular values divided by N : \n",
      "[0.24757782176478924, 0.207864625831024, 0.17363959442439, 0.1306907303522176, 0.11107785505673475, 0.08523871411717078, 0.04381141144927719, 3.6464816455923074e-5, 2.8671000404287024e-5, 1.460362683851537e-5, 8.650191373146124e-6, 5.184425951621593e-6, 4.011551015249814e-6, 7.410180275742876e-7, 5.269795761145506e-7, 1.6938318275164685e-7, 1.5401176118698625e-7, 4.309282939257165e-8, 2.5013599459825384e-8, 1.893381234100969e-9]\n",
      "  0.363513 seconds (116.62 k allocations: 336.492 MiB, 11.68% gc time)\n",
      "\n",
      "========== Graph 4/10, mu=0.4, number_rep = 2 ==========\n",
      "\n",
      " ------- Acc Projected Power Iteration -------\n",
      "The iteration has become stationary after 355 iterations\n"
     ]
    },
    {
     "name": "stdout",
     "output_type": "stream",
     "text": [
      "  0.495345 seconds (9.28 k allocations: 493.479 MiB, 12.44% gc time)\n",
      "OK \n",
      " -------------- Clustering ------- \n",
      "dimension of embedding used for clustering: 20\n",
      "Number of updates: 4\n",
      "Number of communities: 17\n",
      "Modularity: 0.5496645449892555\n",
      " -------------------------------------------- \n",
      "The squared singular values divided by N : \n",
      "[0.24737309451442585, 0.20769248339097113, 0.17355990834680815, 0.130077499588566, 0.11035632646184994, 0.08481398431469289, 0.04610762398395901, 1.2211105167681925e-5, 3.384910822533107e-6, 1.1403516274958155e-6, 1.025362600747864e-6, 7.11851337221499e-7, 5.002060272834612e-7, 6.766868708650566e-8, 1.94183460167244e-8, 8.031228185983e-9, 5.212035367408224e-9, 4.4697690071886235e-9, 6.037500405333671e-10, 2.0732863192650193e-10]\n",
      "  0.574709 seconds (151.38 k allocations: 543.930 MiB, 12.14% gc time)\n",
      "\n",
      "========== Graph 4/10, mu=0.4, number_rep = 3 ==========\n",
      "\n",
      " ------- Acc Projected Power Iteration -------\n",
      "The iteration has become stationary after 258 iterations\n"
     ]
    },
    {
     "name": "stdout",
     "output_type": "stream",
     "text": [
      "  0.352251 seconds (6.76 k allocations: 358.361 MiB, 12.79% gc time)\n",
      "OK \n",
      " -------------- Clustering ------- \n",
      "dimension of embedding used for clustering: 20\n",
      "Number of updates: 3\n",
      "Number of communities: 14\n",
      "Modularity: 0.5350620047194987\n",
      " -------------------------------------------- \n",
      "The squared singular values divided by N : \n",
      "[0.24716614283187655, 0.2077835120198301, 0.17395971734673005, 0.13009901609698746, 0.10967243565562318, 0.08415707834219355, 0.047015052229922756, 8.984258204035723e-5, 3.8050195119742496e-5, 1.0169497150647344e-5, 3.971808461045577e-6, 2.8351571202002037e-6, 9.965880096214972e-7, 5.151953430140438e-7, 3.493459033086655e-7, 2.402813531285643e-7, 6.034639964087435e-8, 1.1144201323769455e-8, 2.3755086811473182e-9, 9.602253858227834e-10]\n",
      "  0.404156 seconds (113.62 k allocations: 396.336 MiB, 12.60% gc time)\n",
      "\n",
      "========== Graph 5/10, mu=0.5, number_rep = 1 ==========\n",
      "\n",
      " ------- Acc Projected Power Iteration -------\n",
      "The iteration has become stationary after 314 iterations\n"
     ]
    },
    {
     "name": "stdout",
     "output_type": "stream",
     "text": [
      "  0.431844 seconds (8.21 k allocations: 436.367 MiB, 12.21% gc time)\n",
      "OK \n",
      " -------------- Clustering ------- \n",
      "dimension of embedding used for clustering: 20\n",
      "Number of updates: 8\n",
      "Number of communities: 13\n",
      "Modularity: 0.446365947944872\n",
      " -------------------------------------------- \n",
      "The squared singular values divided by N : \n",
      "[0.2344102383835559, 0.2092975761955891, 0.1625070948223537, 0.12715436140598824, 0.09254386177104848, 0.07105993987269418, 0.05766976413736279, 0.03886373224006473, 0.0064604463652682565, 2.147284200918285e-5, 6.9634169523951466e-6, 2.3751435012412812e-6, 1.0876486432288835e-6, 6.576660510406451e-7, 2.7254934873184394e-7, 1.0024485647430814e-7, 3.1113519823583686e-8, 1.301425932020664e-8, 9.917319154591983e-9, 1.2496143878097921e-9]\n",
      "  0.512933 seconds (179.32 k allocations: 496.770 MiB, 11.49% gc time)\n",
      "\n",
      "========== Graph 5/10, mu=0.5, number_rep = 2 ==========\n",
      "\n",
      " ------- Acc Projected Power Iteration -------\n",
      "The iteration has become stationary after 324 iterations\n"
     ]
    },
    {
     "name": "stdout",
     "output_type": "stream",
     "text": [
      "  0.438815 seconds (8.47 k allocations: 450.297 MiB, 12.03% gc time)\n",
      "OK \n",
      " -------------- Clustering ------- \n",
      "dimension of embedding used for clustering: 20\n",
      "Number of updates: 8\n",
      "Number of communities: 14\n",
      "Modularity: 0.444166893607648\n",
      " -------------------------------------------- \n",
      "The squared singular values divided by N : \n",
      "[0.23436700910128042, 0.20921222723601646, 0.1624577310382745, 0.12717190369586964, 0.09253999657407173, 0.07118536252921003, 0.057713710599709346, 0.039044536040970496, 0.006271276747450049, 2.3053224878409382e-5, 6.865160965939527e-6, 2.841166918069322e-6, 1.8067382681367203e-6, 9.347057990600368e-7, 4.2259928342816815e-7, 2.5023409369686434e-7, 4.8754514989560434e-8, 1.6791048476176856e-8, 6.686909592693734e-9, 3.744674094905326e-10]\n",
      "  0.516190 seconds (146.43 k allocations: 499.275 MiB, 11.76% gc time)\n",
      "\n",
      "========== Graph 5/10, mu=0.5, number_rep = 3 ==========\n",
      "\n",
      " ------- Acc Projected Power Iteration -------\n",
      "The iteration has become stationary after 251 iterations\n"
     ]
    },
    {
     "name": "stdout",
     "output_type": "stream",
     "text": [
      "  0.343595 seconds (6.58 k allocations: 348.611 MiB, 12.88% gc time)\n",
      "OK \n",
      " -------------- Clustering ------- \n",
      "dimension of embedding used for clustering: 20\n",
      "Number of updates: 4\n",
      "Number of communities: 18\n",
      "Modularity: 0.4432355791238485\n",
      " -------------------------------------------- \n",
      "The squared singular values divided by N : \n",
      "[0.23421882923325507, 0.20905328816142169, 0.16254035006565845, 0.1272792686007503, 0.09229598978178497, 0.0714408236680505, 0.05771967279299553, 0.039117244214147896, 0.006264854446824369, 4.077739688601987e-5, 1.7236720492766935e-5, 9.046304595619551e-6, 1.4069316160810834e-6, 6.025808403474242e-7, 3.595162152732476e-7, 1.41561399115712e-7, 6.262225783961309e-8, 2.636105588498355e-8, 1.136902418218986e-8, 7.670727885050973e-9]\n",
      "  0.422244 seconds (161.11 k allocations: 403.324 MiB, 11.97% gc time)\n",
      "\n",
      "========== Graph 6/10, mu=0.6, number_rep = 1 ==========\n",
      "\n",
      " ------- Acc Projected Power Iteration -------\n",
      "The iteration has become stationary after 348 iterations\n"
     ]
    },
    {
     "name": "stdout",
     "output_type": "stream",
     "text": [
      "  0.479128 seconds (9.10 k allocations: 483.728 MiB, 11.57% gc time)\n",
      "OK \n",
      " -------------- Clustering ------- \n",
      "dimension of embedding used for clustering: 20\n",
      "Number of updates: 5\n",
      "Number of communities: 14\n",
      "Modularity: 0.3358164532067087\n",
      " -------------------------------------------- \n",
      "The squared singular values divided by N : \n",
      "[0.219501876623358, 0.15981299986551295, 0.1534600915458996, 0.11968392172376534, 0.10412460636518, 0.08015293479265263, 0.06755838511035897, 0.04580674824153583, 0.03615490321183079, 0.01062288898660336, 0.003111559820133359, 7.471786708641981e-6, 1.3021791742585511e-6, 1.7003316254361442e-7, 6.12026653891848e-8, 3.9655591870187665e-8, 2.752854192376532e-8, 6.869395472440881e-9, 3.0470454876743045e-9, 1.4108839587034226e-9]\n",
      "  0.566914 seconds (171.94 k allocations: 541.075 MiB, 11.07% gc time)\n",
      "\n",
      "========== Graph 6/10, mu=0.6, number_rep = 2 ==========\n",
      "\n",
      " ------- Acc Projected Power Iteration -------\n",
      "The iteration has become stationary after 345 iterations\n"
     ]
    },
    {
     "name": "stdout",
     "output_type": "stream",
     "text": [
      "  0.472756 seconds (9.02 k allocations: 479.549 MiB, 12.87% gc time)\n",
      "OK \n",
      " -------------- Clustering ------- \n",
      "dimension of embedding used for clustering: 20\n",
      "Number of updates: "
     ]
    },
    {
     "name": "stdout",
     "output_type": "stream",
     "text": [
      "11\n",
      "Number of communities: 14\n",
      "Modularity: 0.3387111988253619\n",
      " -------------------------------------------- \n",
      "The squared singular values divided by N : \n",
      "[0.2195093495351941, 0.15984766565212363, 0.15340534061789854, 0.11971185775198688, 0.10415486387972099, 0.08002186305517925, 0.0675813658486396, 0.045957309484579635, 0.036244985379184386, 0.01065155483180941, 0.0029079713509081256, 3.6484414216072505e-6, 1.658061574368326e-6, 2.498741173164891e-7, 1.9752931967547475e-7, 5.5232714575084665e-8, 4.8134625434960104e-8, 8.475763977748837e-9, 3.977771494445169e-9, 2.885467102453995e-9]\n",
      "  0.585476 seconds (219.56 k allocations: 553.443 MiB, 11.90% gc time)\n",
      "\n",
      "========== Graph 6/10, mu=0.6, number_rep = 3 ==========\n",
      "\n",
      " ------- Acc Projected Power Iteration -------\n",
      "The iteration has become stationary after 314 iterations\n"
     ]
    },
    {
     "name": "stdout",
     "output_type": "stream",
     "text": [
      "  0.447954 seconds (8.21 k allocations: 436.364 MiB, 12.54% gc time)\n",
      "OK \n",
      " -------------- Clustering ------- \n",
      "dimension of embedding used for clustering: 20\n",
      "Number of updates: "
     ]
    },
    {
     "name": "stdout",
     "output_type": "stream",
     "text": [
      "7\n",
      "Number of communities: 15\n",
      "Modularity: 0.33972326568972916\n",
      " -------------------------------------------- \n",
      "The squared singular values divided by N : \n",
      "[0.21953888395246787, 0.15988714943973653, 0.15341094526442062, 0.11966562999913181, 0.10403836724889669, 0.08035744114766066, 0.06754200801765443, 0.04598027161906616, 0.03635185670217338, 0.010282673949350816, 0.0029192340136662814, 1.5225567884622794e-5, 7.048594711364273e-6, 2.2571441314979284e-6, 5.257239898265779e-7, 3.3953516920569595e-7, 9.015411407303e-8, 3.58673692228355e-8, 1.3383015199723692e-8, 2.6753897687905493e-9]\n",
      "  0.557687 seconds (229.09 k allocations: 513.467 MiB, 11.53% gc time)\n",
      "\n",
      "========== Graph 7/10, mu=0.7, number_rep = 1 ==========\n",
      "\n",
      " ------- Acc Projected Power Iteration -------\n",
      "The iteration has become stationary after 315 iterations\n"
     ]
    },
    {
     "name": "stdout",
     "output_type": "stream",
     "text": [
      "  0.469042 seconds (8.24 k allocations: 437.757 MiB, 11.79% gc time)\n",
      "OK \n",
      " -------------- Clustering ------- \n",
      "dimension of embedding used for clustering: 20\n",
      "Number of updates: 3\n",
      "Number of communities: 15\n",
      "Modularity: 0.22927901227816672\n",
      " -------------------------------------------- \n",
      "The squared singular values divided by N : \n",
      "[0.19477684634796255, 0.15870145968082014, 0.1384289849031662, 0.12296219089535693, 0.10918912736963488, 0.09671543979257957, 0.06668963648239093, 0.04676467787413689, 0.036880432177459704, 0.022144660382581626, 0.0067094094398784465, 2.5435736745400425e-5, 7.930172981983904e-6, 2.04554187390352e-6, 9.561426671428065e-7, 5.618161184234936e-7, 1.0988984057330151e-7, 5.585263945456836e-8, 3.068207856503712e-8, 8.819086515615337e-9]\n",
      "  0.530945 seconds (115.13 k allocations: 476.233 MiB, 11.78% gc time)\n",
      "\n",
      "========== Graph 7/10, mu=0.7, number_rep = 2 ==========\n",
      "\n",
      " ------- Acc Projected Power Iteration -------\n",
      "The iteration has become stationary after 299 iterations\n"
     ]
    },
    {
     "name": "stdout",
     "output_type": "stream",
     "text": [
      "  0.440652 seconds (7.82 k allocations: 415.473 MiB, 11.39% gc time)\n",
      "OK \n",
      " -------------- Clustering ------- \n",
      "dimension of embedding used for clustering: 20\n",
      "Number of updates: "
     ]
    },
    {
     "name": "stdout",
     "output_type": "stream",
     "text": [
      "11\n",
      "Number of communities: 9\n",
      "Modularity: 0.24236179496063492\n",
      " -------------------------------------------- \n",
      "The squared singular values divided by N : \n",
      "[0.19466145999537676, 0.1586984538016045, 0.13830537073529578, 0.12307307678374213, 0.10912918083017378, 0.0966833893258365, 0.06672629084890827, 0.04677447187551417, 0.03695705316725088, 0.02225537849048204, 0.006691748154203496, 3.407129605817303e-5, 4.594865550753047e-6, 2.75957245598585e-6, 1.5339921972791287e-6, 5.856591781790737e-7, 2.9716777801054577e-7, 1.6266366370841013e-7, 1.0502315370534629e-7, 1.5751575345133277e-8]\n",
      "  0.549170 seconds (189.10 k allocations: 478.967 MiB, 10.81% gc time)\n",
      "\n",
      "========== Graph 7/10, mu=0.7, number_rep = 3 ==========\n",
      "\n",
      " ------- Acc Projected Power Iteration -------\n",
      "The iteration has become stationary after 314 iterations\n"
     ]
    },
    {
     "name": "stdout",
     "output_type": "stream",
     "text": [
      "  0.467675 seconds (8.21 k allocations: 436.364 MiB, 11.90% gc time)\n",
      "OK \n",
      " -------------- Clustering ------- \n",
      "dimension of embedding used for clustering: 20\n",
      "Number of updates: 6\n",
      "Number of communities: 9\n",
      "Modularity: 0.23427853439863414\n",
      " -------------------------------------------- \n",
      "The squared singular values divided by N : \n",
      "[0.1947082592220839, 0.15862128630586994, 0.13832916622152464, 0.12304193385084601, 0.10918070051358164, 0.09665153141379354, 0.06666255320651612, 0.046816930662794014, 0.037081966985633166, 0.022186018713313573, 0.006681428254668113, 2.319514997486405e-5, 9.769058097141646e-6, 2.3771324728689623e-6, 1.7437157968931722e-6, 7.083649645798858e-7, 2.496520040652546e-7, 1.2656600869921723e-7, 3.1391848203720555e-8, 2.3618207541891922e-8]\n",
      "  0.557130 seconds (162.69 k allocations: 491.165 MiB, 11.45% gc time)\n",
      "\n",
      "========== Graph 8/10, mu=0.8, number_rep = 1 ==========\n",
      "\n"
     ]
    },
    {
     "name": "stdout",
     "output_type": "stream",
     "text": [
      " ------- Acc Projected Power Iteration -------\n",
      "The iteration has become stationary after 289 iterations\n"
     ]
    },
    {
     "name": "stdout",
     "output_type": "stream",
     "text": [
      "  0.411654 seconds (7.56 k allocations: 401.537 MiB, 12.38% gc time)\n",
      "OK \n",
      " -------------- Clustering ------- \n",
      "dimension of embedding used for clustering: 20\n",
      "Number of updates: "
     ]
    },
    {
     "name": "stdout",
     "output_type": "stream",
     "text": [
      "16\n",
      "Number of communities: 6\n",
      "Modularity: 0.21170863480249905\n",
      " -------------------------------------------- \n",
      "The squared singular values divided by N : \n",
      "[0.19407303920501173, 0.16216553674386125, 0.12910376090376915, 0.10771127168265018, 0.09333984785623096, 0.08137624390942184, 0.06279601040666265, 0.055939248568523024, 0.047908679285834734, 0.03910529692764971, 0.019328418469638446, 0.007100564973175961, 2.969096866456131e-5, 1.2375035169317024e-5, 5.696292228653308e-6, 1.5690789620320183e-6, 1.3897552658503445e-6, 7.898754521879974e-7, 3.729481041862239e-7, 1.9711372317715954e-7]\n",
      "  0.523151 seconds (211.53 k allocations: 472.012 MiB, 11.33% gc time)\n",
      "\n",
      "========== Graph 8/10, mu=0.8, number_rep = 2 ==========\n",
      "\n",
      " ------- Acc Projected Power Iteration -------\n",
      "The iteration has become stationary after 473 iterations\n"
     ]
    },
    {
     "name": "stdout",
     "output_type": "stream",
     "text": [
      "  0.690413 seconds (12.35 k allocations: 657.844 MiB, 12.26% gc time)\n",
      "OK \n",
      " -------------- Clustering ------- \n",
      "dimension of embedding used for clustering: 20\n",
      "Number of updates: "
     ]
    },
    {
     "name": "stdout",
     "output_type": "stream",
     "text": [
      "14\n",
      "Number of communities: 6\n",
      "Modularity: 0.2144309996193449\n",
      " -------------------------------------------- \n",
      "The squared singular values divided by N : \n",
      "[0.1941309946910359, 0.1621591235209798, 0.12924187323128156, 0.10774409752673883, 0.09348931246501577, 0.08136808395001538, 0.06274709580033404, 0.05597624880978829, 0.04763152657546767, 0.039144752038515467, 0.019026646869410316, 0.007335073254762765, 3.236860604846793e-6, 7.753404263598801e-7, 7.510973816739247e-7, 2.079417718190917e-7, 1.0360321782348985e-7, 5.459567871691385e-8, 2.5346352509429802e-8, 1.6481220396540083e-8]\n",
      "  0.803303 seconds (210.14 k allocations: 726.300 MiB, 11.68% gc time)\n",
      "\n",
      "========== Graph 8/10, mu=0.8, number_rep = 3 ==========\n",
      "\n",
      " ------- Acc Projected Power Iteration -------\n",
      "The iteration has become stationary after 455 iterations\n"
     ]
    },
    {
     "name": "stdout",
     "output_type": "stream",
     "text": [
      "  0.664751 seconds (11.88 k allocations: 632.771 MiB, 12.51% gc time)\n",
      "OK \n",
      " -------------- Clustering ------- \n",
      "dimension of embedding used for clustering: 20\n",
      "Number of updates: "
     ]
    },
    {
     "name": "stdout",
     "output_type": "stream",
     "text": [
      "8\n",
      "Number of communities: 7\n",
      "Modularity: 0.21294152259942317\n",
      " -------------------------------------------- \n",
      "The squared singular values divided by N : \n",
      "[0.19407891369150979, 0.1621750486453678, 0.12917756618786616, 0.10776236052281839, 0.09344328114919766, 0.08131541550078637, 0.06269067706976168, 0.055948496522007576, 0.04763137068123242, 0.03919820757740871, 0.019076970831637747, 0.007497046305736539, 2.337266162849135e-6, 1.2447773672123398e-6, 6.36015577720979e-7, 2.571305165355511e-7, 1.0463052665220771e-7, 4.499200893259674e-8, 1.7468732806306607e-8, 3.0337766508778694e-9]\n",
      "  0.775429 seconds (222.01 k allocations: 705.468 MiB, 11.42% gc time)\n",
      "\n",
      "========== Graph 9/10, mu=0.9, number_rep = 1 ==========\n",
      "\n",
      " ------- Acc Projected Power Iteration -------\n",
      "The iteration has become stationary after 298 iterations\n"
     ]
    },
    {
     "name": "stdout",
     "output_type": "stream",
     "text": [
      "  0.432179 seconds (7.80 k allocations: 414.076 MiB, 11.64% gc time)\n",
      "OK \n",
      " -------------- Clustering ------- \n",
      "dimension of embedding used for clustering: 20\n",
      "Number of updates: "
     ]
    },
    {
     "name": "stdout",
     "output_type": "stream",
     "text": [
      "8\n",
      "Number of communities: 8\n",
      "Modularity: 0.20776686082532078\n",
      " -------------------------------------------- \n",
      "The squared singular values divided by N : \n",
      "[0.17495459998872057, 0.15250762014302435, 0.13262160682942314, 0.110945815477118, 0.09738084705455143, 0.0860444525570953, 0.07510090959776113, 0.05504159836754889, 0.05407426563515955, 0.033468714946964455, 0.0272327658150772, 0.0006126590553844995, 9.321643642191404e-6, 1.805564457281611e-6, 1.5947049637674202e-6, 7.913413421492759e-7, 2.9248748424717684e-7, 1.7645282449444817e-7, 1.0774007497944422e-7, 5.459738282051207e-8]\n",
      "  0.548334 seconds (217.92 k allocations: 486.785 MiB, 10.97% gc time)\n",
      "\n",
      "========== Graph 9/10, mu=0.9, number_rep = 2 ==========\n",
      "\n",
      " ------- Acc Projected Power Iteration -------\n",
      "The iteration has become stationary after 251 iterations\n"
     ]
    },
    {
     "name": "stdout",
     "output_type": "stream",
     "text": [
      "  0.377545 seconds (6.58 k allocations: 348.608 MiB, 10.97% gc time)\n",
      "OK \n",
      " -------------- Clustering ------- \n",
      "dimension of embedding used for clustering: 20\n",
      "Number of updates: "
     ]
    },
    {
     "name": "stdout",
     "output_type": "stream",
     "text": [
      "8\n",
      "Number of communities: 7\n",
      "Modularity: 0.2070050736485491\n",
      " -------------------------------------------- \n",
      "The squared singular values divided by N : \n",
      "[0.1749018038792472, 0.15261712222426363, 0.13270899614975123, 0.11087709112921945, 0.0973194700541189, 0.08603881067007642, 0.07500041898767845, 0.055047455164839026, 0.054113105751532144, 0.033782926410672126, 0.02710187770510121, 0.0003728947661946228, 6.949407826203293e-5, 3.0741798232412877e-5, 7.3835098101455765e-6, 4.3511015457952925e-6, 3.5792196706938534e-6, 1.3496826652543344e-6, 9.337201309654515e-7, 1.939969878807507e-7]\n",
      "  0.492003 seconds (187.93 k allocations: 412.125 MiB, 10.14% gc time)\n",
      "\n",
      "========== Graph 9/10, mu=0.9, number_rep = 3 ==========\n",
      "\n",
      " ------- Acc Projected Power Iteration -------\n",
      "The iteration has become stationary after 299 iterations\n"
     ]
    },
    {
     "name": "stdout",
     "output_type": "stream",
     "text": [
      "  0.442428 seconds (7.82 k allocations: 415.469 MiB, 12.03% gc time)\n",
      "OK \n",
      " -------------- Clustering ------- \n",
      "dimension of embedding used for clustering: 20\n",
      "Number of updates: 6\n",
      "Number of communities: 7\n",
      "Modularity: 0.20610390590597233\n",
      " -------------------------------------------- \n",
      "The squared singular values divided by N : \n",
      "[0.17498024936015671, 0.15243967223474134, 0.13261584202534712, 0.1108278822683504, 0.09728943153604791, 0.0860553973352088, 0.07504724875589522, 0.05511705946728562, 0.053949157712354354, 0.03368211018546198, 0.027004793667433507, 0.000974312277413904, 7.887813679065773e-6, 3.5799704966793252e-6, 2.484754170256113e-6, 1.2256561360600668e-6, 1.1131447207096124e-6, 3.5943677053156715e-7, 1.3497823797373057e-7, 5.742009138320447e-8]\n",
      "  0.538990 seconds (176.69 k allocations: 474.655 MiB, 11.18% gc time)\n",
      "\n",
      "========== Graph 10/10, mu=1.0, number_rep = 1 ==========\n",
      "\n"
     ]
    },
    {
     "name": "stdout",
     "output_type": "stream",
     "text": [
      " ------- Acc Projected Power Iteration -------\n",
      "The iteration has become stationary after 299 iterations\n"
     ]
    },
    {
     "name": "stdout",
     "output_type": "stream",
     "text": [
      "  0.443285 seconds (7.82 k allocations: 415.466 MiB, 12.28% gc time)\n",
      "OK \n",
      " -------------- Clustering ------- \n",
      "dimension of embedding used for clustering: 20\n",
      "Number of updates: 6\n",
      "Number of communities: 9\n",
      "Modularity: 0.21863193632121408\n",
      " -------------------------------------------- \n",
      "The squared singular values divided by N : \n",
      "[0.17038797690816765, 0.14210237865235748, 0.13108940498086735, 0.11264862590797423, 0.0961114860757427, 0.07855694252252877, 0.07287537131542757, 0.05735048417323582, 0.048051029222494504, 0.04383053541297189, 0.027162525569344353, 0.014680819986540328, 0.005035238984727993, 9.707537565419009e-5, 1.2223461883863855e-5, 4.717021202215224e-6, 2.3613431262711934e-6, 4.3906223233739123e-7, 3.0719719017620664e-7, 5.6826329932665256e-8]\n",
      "  0.531411 seconds (176.75 k allocations: 474.447 MiB, 10.25% gc time)\n",
      "\n",
      "========== Graph 10/10, mu=1.0, number_rep = 2 ==========\n",
      "\n"
     ]
    },
    {
     "name": "stdout",
     "output_type": "stream",
     "text": [
      " ------- Acc Projected Power Iteration -------\n",
      "The iteration has become stationary after 310 iterations\n"
     ]
    },
    {
     "name": "stdout",
     "output_type": "stream",
     "text": [
      "  0.440513 seconds (8.11 k allocations: 430.789 MiB, 11.97% gc time)\n",
      "OK \n",
      " -------------- Clustering ------- \n",
      "dimension of embedding used for clustering: 20\n",
      "Number of updates: "
     ]
    },
    {
     "name": "stdout",
     "output_type": "stream",
     "text": [
      "11\n",
      "Number of communities: 7\n",
      "Modularity: 0.2169344283511149\n",
      " -------------------------------------------- \n",
      "The squared singular values divided by N : \n",
      "[0.17030222657492058, 0.14211978238295223, 0.13107658190211038, 0.11262719424245353, 0.09607510671047446, 0.0783566985314215, 0.07297224499956227, 0.057378737401499964, 0.04789630320416756, 0.04360578606416487, 0.027680301543780032, 0.014844033149445782, 0.004906344484041307, 0.00014798973519180707, 6.920756481119857e-6, 2.2409982440059396e-6, 7.419938011989191e-7, 4.088290417021321e-7, 2.707786372540632e-7, 8.571760759199365e-8]\n",
      "  0.553615 seconds (216.20 k allocations: 502.513 MiB, 10.97% gc time)\n",
      "\n",
      "========== Graph 10/10, mu=1.0, number_rep = 3 ==========\n",
      "\n",
      " ------- Acc Projected Power Iteration -------\n",
      "The iteration has become stationary after 298 iterations\n"
     ]
    },
    {
     "name": "stdout",
     "output_type": "stream",
     "text": [
      "  0.462228 seconds (7.80 k allocations: 414.076 MiB, 12.05% gc time)\n",
      "OK \n",
      " -------------- Clustering ------- \n",
      "dimension of embedding used for clustering: 20\n",
      "Number of updates: "
     ]
    },
    {
     "name": "stdout",
     "output_type": "stream",
     "text": [
      "9\n",
      "Number of communities: 9\n",
      "Modularity: 0.21809732177332\n",
      " -------------------------------------------- \n",
      "The squared singular values divided by N : \n",
      "[0.1703408874861712, 0.14203491390547623, 0.1309508743178656, 0.11266729844497335, 0.09620283415059096, 0.07842879476491132, 0.07294513883325364, 0.05760066588442258, 0.04805465921912041, 0.04379733136121832, 0.027038722930310944, 0.01459821843243917, 0.005073454478895058, 0.0002538696377129166, 7.320840256189695e-6, 3.037199332135792e-6, 1.2852135616082026e-6, 4.087069806262906e-7, 1.7679836913419975e-7, 1.0739413921772884e-7]\n",
      "  0.585182 seconds (234.48 k allocations: 492.278 MiB, 10.41% gc time)\n"
     ]
    },
    {
     "data": {
      "image/png": "[encoded data removed]",
      "image/svg+xml": "<?xml version=\"1.0\" encoding=\"utf-8\"?>\n<svg xmlns=\"http://www.w3.org/2000/svg\" xmlns:xlink=\"http://www.w3.org/1999/xlink\" width=\"600\" height=\"400\" viewBox=\"0 0 2400 1600\">\n<defs>\n  <clipPath id=\"clip880\">\n    <rect x=\"0\" y=\"0\" width=\"2400\" height=\"1600\"/>\n  </clipPath>\n</defs>\n<path clip-path=\"url(#clip880)\" d=\"\nM0 1600 L2400 1600 L2400 0 L0 0  Z\n  \" fill=\"#ffffff\" fill-rule=\"evenodd\" fill-opacity=\"1\"/>\n<defs>\n  <clipPath id=\"clip881\">\n    <rect x=\"480\" y=\"0\" width=\"1681\" height=\"1600\"/>\n  </clipPath>\n</defs>\n<path clip-path=\"url(#clip880)\" d=\"\nM219.866 1423.18 L2352.76 1423.18 L2352.76 47.2441 L219.866 47.2441  Z\n  \" fill=\"#ffffff\" fill-rule=\"evenodd\" fill-opacity=\"1\"/>\n<defs>\n  <clipPath id=\"clip882\">\n    <rect x=\"219\" y=\"47\" width=\"2134\" height=\"1377\"/>\n  </clipPath>\n</defs>\n<polyline clip-path=\"url(#clip882)\" style=\"stroke:#000000; stroke-linecap:butt; stroke-linejoin:round; stroke-width:2; stroke-opacity:0.1; fill:none\" points=\"\n  503.804,1423.18 503.804,47.2441 \n  \"/>\n<polyline clip-path=\"url(#clip882)\" style=\"stroke:#000000; stroke-linecap:butt; stroke-linejoin:round; stroke-width:2; stroke-opacity:0.1; fill:none\" points=\"\n  950.951,1423.18 950.951,47.2441 \n  \"/>\n<polyline clip-path=\"url(#clip882)\" style=\"stroke:#000000; stroke-linecap:butt; stroke-linejoin:round; stroke-width:2; stroke-opacity:0.1; fill:none\" points=\"\n  1398.1,1423.18 1398.1,47.2441 \n  \"/>\n<polyline clip-path=\"url(#clip882)\" style=\"stroke:#000000; stroke-linecap:butt; stroke-linejoin:round; stroke-width:2; stroke-opacity:0.1; fill:none\" points=\"\n  1845.24,1423.18 1845.24,47.2441 \n  \"/>\n<polyline clip-path=\"url(#clip882)\" style=\"stroke:#000000; stroke-linecap:butt; stroke-linejoin:round; stroke-width:2; stroke-opacity:0.1; fill:none\" points=\"\n  2292.39,1423.18 2292.39,47.2441 \n  \"/>\n<polyline clip-path=\"url(#clip880)\" style=\"stroke:#000000; stroke-linecap:butt; stroke-linejoin:round; stroke-width:4; stroke-opacity:1; fill:none\" points=\"\n  219.866,1423.18 2352.76,1423.18 \n  \"/>\n<polyline clip-path=\"url(#clip880)\" style=\"stroke:#000000; stroke-linecap:butt; stroke-linejoin:round; stroke-width:4; stroke-opacity:1; fill:none\" points=\"\n  503.804,1423.18 503.804,1404.28 \n  \"/>\n<polyline clip-path=\"url(#clip880)\" style=\"stroke:#000000; stroke-linecap:butt; stroke-linejoin:round; stroke-width:4; stroke-opacity:1; fill:none\" points=\"\n  950.951,1423.18 950.951,1404.28 \n  \"/>\n<polyline clip-path=\"url(#clip880)\" style=\"stroke:#000000; stroke-linecap:butt; stroke-linejoin:round; stroke-width:4; stroke-opacity:1; fill:none\" points=\"\n  1398.1,1423.18 1398.1,1404.28 \n  \"/>\n<polyline clip-path=\"url(#clip880)\" style=\"stroke:#000000; stroke-linecap:butt; stroke-linejoin:round; stroke-width:4; stroke-opacity:1; fill:none\" points=\"\n  1845.24,1423.18 1845.24,1404.28 \n  \"/>\n<polyline clip-path=\"url(#clip880)\" style=\"stroke:#000000; stroke-linecap:butt; stroke-linejoin:round; stroke-width:4; stroke-opacity:1; fill:none\" points=\"\n  2292.39,1423.18 2292.39,1404.28 \n  \"/>\n<path clip-path=\"url(#clip880)\" d=\"M481.987 1454.1 Q478.376 1454.1 476.548 1457.66 Q474.742 1461.2 474.742 1468.33 Q474.742 1475.44 476.548 1479.01 Q478.376 1482.55 481.987 1482.55 Q485.622 1482.55 487.427 1479.01 Q489.256 1475.44 489.256 1468.33 Q489.256 1461.2 487.427 1457.66 Q485.622 1454.1 481.987 1454.1 M481.987 1450.39 Q487.798 1450.39 490.853 1455 Q493.932 1459.58 493.932 1468.33 Q493.932 1477.06 490.853 1481.67 Q487.798 1486.25 481.987 1486.25 Q476.177 1486.25 473.099 1481.67 Q470.043 1477.06 470.043 1468.33 Q470.043 1459.58 473.099 1455 Q476.177 1450.39 481.987 1450.39 Z\" fill=\"#000000\" fill-rule=\"evenodd\" fill-opacity=\"1\" /><path clip-path=\"url(#clip880)\" d=\"M502.149 1479.7 L507.034 1479.7 L507.034 1485.58 L502.149 1485.58 L502.149 1479.7 Z\" fill=\"#000000\" fill-rule=\"evenodd\" fill-opacity=\"1\" /><path clip-path=\"url(#clip880)\" d=\"M521.246 1481.64 L537.566 1481.64 L537.566 1485.58 L515.621 1485.58 L515.621 1481.64 Q518.283 1478.89 522.867 1474.26 Q527.473 1469.61 528.654 1468.27 Q530.899 1465.74 531.779 1464.01 Q532.682 1462.25 532.682 1460.56 Q532.682 1457.8 530.737 1456.07 Q528.816 1454.33 525.714 1454.33 Q523.515 1454.33 521.061 1455.09 Q518.631 1455.86 515.853 1457.41 L515.853 1452.69 Q518.677 1451.55 521.131 1450.97 Q523.584 1450.39 525.621 1450.39 Q530.992 1450.39 534.186 1453.08 Q537.381 1455.77 537.381 1460.26 Q537.381 1462.39 536.57 1464.31 Q535.783 1466.2 533.677 1468.8 Q533.098 1469.47 529.996 1472.69 Q526.895 1475.88 521.246 1481.64 Z\" fill=\"#000000\" fill-rule=\"evenodd\" fill-opacity=\"1\" /><path clip-path=\"url(#clip880)\" d=\"M928.092 1454.1 Q924.481 1454.1 922.653 1457.66 Q920.847 1461.2 920.847 1468.33 Q920.847 1475.44 922.653 1479.01 Q924.481 1482.55 928.092 1482.55 Q931.727 1482.55 933.532 1479.01 Q935.361 1475.44 935.361 1468.33 Q935.361 1461.2 933.532 1457.66 Q931.727 1454.1 928.092 1454.1 M928.092 1450.39 Q933.903 1450.39 936.958 1455 Q940.037 1459.58 940.037 1468.33 Q940.037 1477.06 936.958 1481.67 Q933.903 1486.25 928.092 1486.25 Q922.282 1486.25 919.204 1481.67 Q916.148 1477.06 916.148 1468.33 Q916.148 1459.58 919.204 1455 Q922.282 1450.39 928.092 1450.39 Z\" fill=\"#000000\" fill-rule=\"evenodd\" fill-opacity=\"1\" /><path clip-path=\"url(#clip880)\" d=\"M948.254 1479.7 L953.139 1479.7 L953.139 1485.58 L948.254 1485.58 L948.254 1479.7 Z\" fill=\"#000000\" fill-rule=\"evenodd\" fill-opacity=\"1\" /><path clip-path=\"url(#clip880)\" d=\"M976.171 1455.09 L964.365 1473.54 L976.171 1473.54 L976.171 1455.09 M974.944 1451.02 L980.824 1451.02 L980.824 1473.54 L985.754 1473.54 L985.754 1477.43 L980.824 1477.43 L980.824 1485.58 L976.171 1485.58 L976.171 1477.43 L960.569 1477.43 L960.569 1472.92 L974.944 1451.02 Z\" fill=\"#000000\" fill-rule=\"evenodd\" fill-opacity=\"1\" /><path clip-path=\"url(#clip880)\" d=\"M1375.4 1454.1 Q1371.79 1454.1 1369.96 1457.66 Q1368.16 1461.2 1368.16 1468.33 Q1368.16 1475.44 1369.96 1479.01 Q1371.79 1482.55 1375.4 1482.55 Q1379.04 1482.55 1380.84 1479.01 Q1382.67 1475.44 1382.67 1468.33 Q1382.67 1461.2 1380.84 1457.66 Q1379.04 1454.1 1375.4 1454.1 M1375.4 1450.39 Q1381.21 1450.39 1384.27 1455 Q1387.35 1459.58 1387.35 1468.33 Q1387.35 1477.06 1384.27 1481.67 Q1381.21 1486.25 1375.4 1486.25 Q1369.59 1486.25 1366.51 1481.67 Q1363.46 1477.06 1363.46 1468.33 Q1363.46 1459.58 1366.51 1455 Q1369.59 1450.39 1375.4 1450.39 Z\" fill=\"#000000\" fill-rule=\"evenodd\" fill-opacity=\"1\" /><path clip-path=\"url(#clip880)\" d=\"M1395.56 1479.7 L1400.45 1479.7 L1400.45 1485.58 L1395.56 1485.58 L1395.56 1479.7 Z\" fill=\"#000000\" fill-rule=\"evenodd\" fill-opacity=\"1\" /><path clip-path=\"url(#clip880)\" d=\"M1421.21 1466.44 Q1418.06 1466.44 1416.21 1468.59 Q1414.38 1470.74 1414.38 1474.49 Q1414.38 1478.22 1416.21 1480.39 Q1418.06 1482.55 1421.21 1482.55 Q1424.36 1482.55 1426.19 1480.39 Q1428.04 1478.22 1428.04 1474.49 Q1428.04 1470.74 1426.19 1468.59 Q1424.36 1466.44 1421.21 1466.44 M1430.49 1451.78 L1430.49 1456.04 Q1428.73 1455.21 1426.93 1454.77 Q1425.15 1454.33 1423.39 1454.33 Q1418.76 1454.33 1416.3 1457.45 Q1413.87 1460.58 1413.53 1466.9 Q1414.89 1464.89 1416.95 1463.82 Q1419.01 1462.73 1421.49 1462.73 Q1426.7 1462.73 1429.71 1465.9 Q1432.74 1469.05 1432.74 1474.49 Q1432.74 1479.82 1429.59 1483.03 Q1426.44 1486.25 1421.21 1486.25 Q1415.22 1486.25 1412.04 1481.67 Q1408.87 1477.06 1408.87 1468.33 Q1408.87 1460.14 1412.76 1455.28 Q1416.65 1450.39 1423.2 1450.39 Q1424.96 1450.39 1426.74 1450.74 Q1428.55 1451.09 1430.49 1451.78 Z\" fill=\"#000000\" fill-rule=\"evenodd\" fill-opacity=\"1\" /><path clip-path=\"url(#clip880)\" d=\"M1822.68 1454.1 Q1819.06 1454.1 1817.24 1457.66 Q1815.43 1461.2 1815.43 1468.33 Q1815.43 1475.44 1817.24 1479.01 Q1819.06 1482.55 1822.68 1482.55 Q1826.31 1482.55 1828.11 1479.01 Q1829.94 1475.44 1829.94 1468.33 Q1829.94 1461.2 1828.11 1457.66 Q1826.31 1454.1 1822.68 1454.1 M1822.68 1450.39 Q1828.49 1450.39 1831.54 1455 Q1834.62 1459.58 1834.62 1468.33 Q1834.62 1477.06 1831.54 1481.67 Q1828.49 1486.25 1822.68 1486.25 Q1816.86 1486.25 1813.79 1481.67 Q1810.73 1477.06 1810.73 1468.33 Q1810.73 1459.58 1813.79 1455 Q1816.86 1450.39 1822.68 1450.39 Z\" fill=\"#000000\" fill-rule=\"evenodd\" fill-opacity=\"1\" /><path clip-path=\"url(#clip880)\" d=\"M1842.84 1479.7 L1847.72 1479.7 L1847.72 1485.58 L1842.84 1485.58 L1842.84 1479.7 Z\" fill=\"#000000\" fill-rule=\"evenodd\" fill-opacity=\"1\" /><path clip-path=\"url(#clip880)\" d=\"M1867.91 1469.17 Q1864.57 1469.17 1862.65 1470.95 Q1860.75 1472.73 1860.75 1475.86 Q1860.75 1478.98 1862.65 1480.77 Q1864.57 1482.55 1867.91 1482.55 Q1871.24 1482.55 1873.16 1480.77 Q1875.08 1478.96 1875.08 1475.86 Q1875.08 1472.73 1873.16 1470.95 Q1871.26 1469.17 1867.91 1469.17 M1863.23 1467.18 Q1860.22 1466.44 1858.53 1464.38 Q1856.86 1462.32 1856.86 1459.35 Q1856.86 1455.21 1859.8 1452.8 Q1862.77 1450.39 1867.91 1450.39 Q1873.07 1450.39 1876.01 1452.8 Q1878.95 1455.21 1878.95 1459.35 Q1878.95 1462.32 1877.26 1464.38 Q1875.59 1466.44 1872.61 1467.18 Q1875.99 1467.96 1877.86 1470.26 Q1879.76 1472.55 1879.76 1475.86 Q1879.76 1480.88 1876.68 1483.57 Q1873.62 1486.25 1867.91 1486.25 Q1862.19 1486.25 1859.11 1483.57 Q1856.05 1480.88 1856.05 1475.86 Q1856.05 1472.55 1857.95 1470.26 Q1859.85 1467.96 1863.23 1467.18 M1861.52 1459.79 Q1861.52 1462.48 1863.18 1463.98 Q1864.87 1465.49 1867.91 1465.49 Q1870.92 1465.49 1872.61 1463.98 Q1874.32 1462.48 1874.32 1459.79 Q1874.32 1457.11 1872.61 1455.6 Q1870.92 1454.1 1867.91 1454.1 Q1864.87 1454.1 1863.18 1455.6 Q1861.52 1457.11 1861.52 1459.79 Z\" fill=\"#000000\" fill-rule=\"evenodd\" fill-opacity=\"1\" /><path clip-path=\"url(#clip880)\" d=\"M2259.54 1481.64 L2267.18 1481.64 L2267.18 1455.28 L2258.87 1456.95 L2258.87 1452.69 L2267.14 1451.02 L2271.81 1451.02 L2271.81 1481.64 L2279.45 1481.64 L2279.45 1485.58 L2259.54 1485.58 L2259.54 1481.64 Z\" fill=\"#000000\" fill-rule=\"evenodd\" fill-opacity=\"1\" /><path clip-path=\"url(#clip880)\" d=\"M2288.9 1479.7 L2293.78 1479.7 L2293.78 1485.58 L2288.9 1485.58 L2288.9 1479.7 Z\" fill=\"#000000\" fill-rule=\"evenodd\" fill-opacity=\"1\" /><path clip-path=\"url(#clip880)\" d=\"M2313.97 1454.1 Q2310.35 1454.1 2308.53 1457.66 Q2306.72 1461.2 2306.72 1468.33 Q2306.72 1475.44 2308.53 1479.01 Q2310.35 1482.55 2313.97 1482.55 Q2317.6 1482.55 2319.4 1479.01 Q2321.23 1475.44 2321.23 1468.33 Q2321.23 1461.2 2319.4 1457.66 Q2317.6 1454.1 2313.97 1454.1 M2313.97 1450.39 Q2319.78 1450.39 2322.83 1455 Q2325.91 1459.58 2325.91 1468.33 Q2325.91 1477.06 2322.83 1481.67 Q2319.78 1486.25 2313.97 1486.25 Q2308.15 1486.25 2305.08 1481.67 Q2302.02 1477.06 2302.02 1468.33 Q2302.02 1459.58 2305.08 1455 Q2308.15 1450.39 2313.97 1450.39 Z\" fill=\"#000000\" fill-rule=\"evenodd\" fill-opacity=\"1\" /><path clip-path=\"url(#clip880)\" d=\"M1000.22 1520.52 L1009.8 1520.52 L1021.93 1552.86 L1034.12 1520.52 L1043.7 1520.52 L1043.7 1568.04 L1037.43 1568.04 L1037.43 1526.32 L1025.17 1558.91 L1018.71 1558.91 L1006.46 1526.32 L1006.46 1568.04 L1000.22 1568.04 L1000.22 1520.52 Z\" fill=\"#000000\" fill-rule=\"evenodd\" fill-opacity=\"1\" /><path clip-path=\"url(#clip880)\" d=\"M1056.21 1532.4 L1062.06 1532.4 L1062.06 1568.04 L1056.21 1568.04 L1056.21 1532.4 M1056.21 1518.52 L1062.06 1518.52 L1062.06 1525.93 L1056.21 1525.93 L1056.21 1518.52 Z\" fill=\"#000000\" fill-rule=\"evenodd\" fill-opacity=\"1\" /><path clip-path=\"url(#clip880)\" d=\"M1103.95 1532.4 L1091.06 1549.74 L1104.62 1568.04 L1097.71 1568.04 L1087.34 1554.04 L1076.96 1568.04 L1070.05 1568.04 L1083.9 1549.39 L1071.23 1532.4 L1078.14 1532.4 L1087.59 1545.1 L1097.04 1532.4 L1103.95 1532.4 Z\" fill=\"#000000\" fill-rule=\"evenodd\" fill-opacity=\"1\" /><path clip-path=\"url(#clip880)\" d=\"M1112.89 1532.4 L1118.75 1532.4 L1118.75 1568.04 L1112.89 1568.04 L1112.89 1532.4 M1112.89 1518.52 L1118.75 1518.52 L1118.75 1525.93 L1112.89 1525.93 L1112.89 1518.52 Z\" fill=\"#000000\" fill-rule=\"evenodd\" fill-opacity=\"1\" /><path clip-path=\"url(#clip880)\" d=\"M1160.64 1546.53 L1160.64 1568.04 L1154.78 1568.04 L1154.78 1546.72 Q1154.78 1541.66 1152.81 1539.14 Q1150.83 1536.63 1146.89 1536.63 Q1142.14 1536.63 1139.41 1539.65 Q1136.67 1542.68 1136.67 1547.9 L1136.67 1568.04 L1130.78 1568.04 L1130.78 1532.4 L1136.67 1532.4 L1136.67 1537.93 Q1138.77 1534.72 1141.6 1533.13 Q1144.47 1531.54 1148.19 1531.54 Q1154.33 1531.54 1157.49 1535.36 Q1160.64 1539.14 1160.64 1546.53 Z\" fill=\"#000000\" fill-rule=\"evenodd\" fill-opacity=\"1\" /><path clip-path=\"url(#clip880)\" d=\"M1195.77 1549.81 Q1195.77 1543.44 1193.13 1539.94 Q1190.52 1536.44 1185.78 1536.44 Q1181.07 1536.44 1178.43 1539.94 Q1175.82 1543.44 1175.82 1549.81 Q1175.82 1556.14 1178.43 1559.64 Q1181.07 1563.14 1185.78 1563.14 Q1190.52 1563.14 1193.13 1559.64 Q1195.77 1556.14 1195.77 1549.81 M1201.63 1563.62 Q1201.63 1572.72 1197.59 1577.15 Q1193.55 1581.6 1185.21 1581.6 Q1182.12 1581.6 1179.38 1581.13 Q1176.65 1580.68 1174.07 1579.72 L1174.07 1574.03 Q1176.65 1575.43 1179.16 1576.1 Q1181.67 1576.76 1184.28 1576.76 Q1190.05 1576.76 1192.91 1573.74 Q1195.77 1570.75 1195.77 1564.67 L1195.77 1561.77 Q1193.96 1564.92 1191.13 1566.48 Q1188.3 1568.04 1184.35 1568.04 Q1177.79 1568.04 1173.78 1563.05 Q1169.77 1558.05 1169.77 1549.81 Q1169.77 1541.53 1173.78 1536.53 Q1177.79 1531.54 1184.35 1531.54 Q1188.3 1531.54 1191.13 1533.1 Q1193.96 1534.66 1195.77 1537.81 L1195.77 1532.4 L1201.63 1532.4 L1201.63 1563.62 Z\" fill=\"#000000\" fill-rule=\"evenodd\" fill-opacity=\"1\" /><path clip-path=\"url(#clip880)\" d=\"M1240.08 1562.7 L1240.08 1581.6 L1234.19 1581.6 L1234.19 1532.4 L1240.08 1532.4 L1240.08 1537.81 Q1241.93 1534.62 1244.73 1533.1 Q1247.56 1531.54 1251.47 1531.54 Q1257.97 1531.54 1262.01 1536.69 Q1266.08 1541.85 1266.08 1550.25 Q1266.08 1558.65 1262.01 1563.81 Q1257.97 1568.97 1251.47 1568.97 Q1247.56 1568.97 1244.73 1567.44 Q1241.93 1565.88 1240.08 1562.7 M1260 1550.25 Q1260 1543.79 1257.33 1540.13 Q1254.69 1536.44 1250.04 1536.44 Q1245.4 1536.44 1242.72 1540.13 Q1240.08 1543.79 1240.08 1550.25 Q1240.08 1556.71 1242.72 1560.4 Q1245.4 1564.07 1250.04 1564.07 Q1254.69 1564.07 1257.33 1560.4 Q1260 1556.71 1260 1550.25 Z\" fill=\"#000000\" fill-rule=\"evenodd\" fill-opacity=\"1\" /><path clip-path=\"url(#clip880)\" d=\"M1291.99 1550.12 Q1284.89 1550.12 1282.16 1551.75 Q1279.42 1553.37 1279.42 1557.29 Q1279.42 1560.4 1281.46 1562.25 Q1283.53 1564.07 1287.06 1564.07 Q1291.93 1564.07 1294.86 1560.63 Q1297.82 1557.16 1297.82 1551.43 L1297.82 1550.12 L1291.99 1550.12 M1303.67 1547.71 L1303.67 1568.04 L1297.82 1568.04 L1297.82 1562.63 Q1295.81 1565.88 1292.82 1567.44 Q1289.83 1568.97 1285.5 1568.97 Q1280.02 1568.97 1276.78 1565.91 Q1273.56 1562.82 1273.56 1557.67 Q1273.56 1551.65 1277.57 1548.6 Q1281.62 1545.54 1289.61 1545.54 L1297.82 1545.54 L1297.82 1544.97 Q1297.82 1540.93 1295.14 1538.73 Q1292.5 1536.5 1287.7 1536.5 Q1284.64 1536.5 1281.74 1537.23 Q1278.85 1537.97 1276.17 1539.43 L1276.17 1534.02 Q1279.39 1532.78 1282.41 1532.17 Q1285.44 1531.54 1288.3 1531.54 Q1296.03 1531.54 1299.85 1535.55 Q1303.67 1539.56 1303.67 1547.71 Z\" fill=\"#000000\" fill-rule=\"evenodd\" fill-opacity=\"1\" /><path clip-path=\"url(#clip880)\" d=\"M1336.39 1537.87 Q1335.41 1537.3 1334.23 1537.04 Q1333.08 1536.76 1331.68 1536.76 Q1326.72 1536.76 1324.04 1540 Q1321.4 1543.22 1321.4 1549.27 L1321.4 1568.04 L1315.51 1568.04 L1315.51 1532.4 L1321.4 1532.4 L1321.4 1537.93 Q1323.25 1534.69 1326.21 1533.13 Q1329.17 1531.54 1333.4 1531.54 Q1334.01 1531.54 1334.74 1531.63 Q1335.47 1531.7 1336.36 1531.85 L1336.39 1537.87 Z\" fill=\"#000000\" fill-rule=\"evenodd\" fill-opacity=\"1\" /><path clip-path=\"url(#clip880)\" d=\"M1358.74 1550.12 Q1351.64 1550.12 1348.9 1551.75 Q1346.16 1553.37 1346.16 1557.29 Q1346.16 1560.4 1348.2 1562.25 Q1350.27 1564.07 1353.8 1564.07 Q1358.67 1564.07 1361.6 1560.63 Q1364.56 1557.16 1364.56 1551.43 L1364.56 1550.12 L1358.74 1550.12 M1370.42 1547.71 L1370.42 1568.04 L1364.56 1568.04 L1364.56 1562.63 Q1362.56 1565.88 1359.56 1567.44 Q1356.57 1568.97 1352.24 1568.97 Q1346.77 1568.97 1343.52 1565.91 Q1340.31 1562.82 1340.31 1557.67 Q1340.31 1551.65 1344.32 1548.6 Q1348.36 1545.54 1356.35 1545.54 L1364.56 1545.54 L1364.56 1544.97 Q1364.56 1540.93 1361.89 1538.73 Q1359.25 1536.5 1354.44 1536.5 Q1351.38 1536.5 1348.49 1537.23 Q1345.59 1537.97 1342.92 1539.43 L1342.92 1534.02 Q1346.13 1532.78 1349.16 1532.17 Q1352.18 1531.54 1355.04 1531.54 Q1362.78 1531.54 1366.6 1535.55 Q1370.42 1539.56 1370.42 1547.71 Z\" fill=\"#000000\" fill-rule=\"evenodd\" fill-opacity=\"1\" /><path clip-path=\"url(#clip880)\" d=\"M1410.24 1539.24 Q1412.43 1535.29 1415.49 1533.41 Q1418.54 1531.54 1422.68 1531.54 Q1428.25 1531.54 1431.27 1535.45 Q1434.3 1539.33 1434.3 1546.53 L1434.3 1568.04 L1428.41 1568.04 L1428.41 1546.72 Q1428.41 1541.59 1426.6 1539.11 Q1424.78 1536.63 1421.06 1536.63 Q1416.51 1536.63 1413.86 1539.65 Q1411.22 1542.68 1411.22 1547.9 L1411.22 1568.04 L1405.33 1568.04 L1405.33 1546.72 Q1405.33 1541.56 1403.52 1539.11 Q1401.71 1536.63 1397.92 1536.63 Q1393.43 1536.63 1390.79 1539.68 Q1388.15 1542.71 1388.15 1547.9 L1388.15 1568.04 L1382.26 1568.04 L1382.26 1532.4 L1388.15 1532.4 L1388.15 1537.93 Q1390.15 1534.66 1392.95 1533.1 Q1395.75 1531.54 1399.6 1531.54 Q1403.49 1531.54 1406.19 1533.51 Q1408.93 1535.48 1410.24 1539.24 Z\" fill=\"#000000\" fill-rule=\"evenodd\" fill-opacity=\"1\" /><path clip-path=\"url(#clip880)\" d=\"M1476.47 1548.76 L1476.47 1551.62 L1449.54 1551.62 Q1449.93 1557.67 1453.17 1560.85 Q1456.45 1564 1462.28 1564 Q1465.65 1564 1468.8 1563.17 Q1471.98 1562.35 1475.1 1560.69 L1475.1 1566.23 Q1471.95 1567.57 1468.64 1568.27 Q1465.33 1568.97 1461.93 1568.97 Q1453.39 1568.97 1448.4 1564 Q1443.43 1559.04 1443.43 1550.57 Q1443.43 1541.82 1448.14 1536.69 Q1452.89 1531.54 1460.91 1531.54 Q1468.1 1531.54 1472.27 1536.18 Q1476.47 1540.8 1476.47 1548.76 M1470.61 1547.04 Q1470.55 1542.23 1467.91 1539.37 Q1465.3 1536.5 1460.97 1536.5 Q1456.07 1536.5 1453.11 1539.27 Q1450.18 1542.04 1449.73 1547.07 L1470.61 1547.04 Z\" fill=\"#000000\" fill-rule=\"evenodd\" fill-opacity=\"1\" /><path clip-path=\"url(#clip880)\" d=\"M1491.88 1522.27 L1491.88 1532.4 L1503.94 1532.4 L1503.94 1536.95 L1491.88 1536.95 L1491.88 1556.3 Q1491.88 1560.66 1493.05 1561.9 Q1494.26 1563.14 1497.92 1563.14 L1503.94 1563.14 L1503.94 1568.04 L1497.92 1568.04 Q1491.14 1568.04 1488.57 1565.53 Q1485.99 1562.98 1485.99 1556.3 L1485.99 1536.95 L1481.69 1536.95 L1481.69 1532.4 L1485.99 1532.4 L1485.99 1522.27 L1491.88 1522.27 Z\" fill=\"#000000\" fill-rule=\"evenodd\" fill-opacity=\"1\" /><path clip-path=\"url(#clip880)\" d=\"M1542.13 1548.76 L1542.13 1551.62 L1515.21 1551.62 Q1515.59 1557.67 1518.83 1560.85 Q1522.11 1564 1527.94 1564 Q1531.31 1564 1534.46 1563.17 Q1537.65 1562.35 1540.76 1560.69 L1540.76 1566.23 Q1537.61 1567.57 1534.3 1568.27 Q1530.99 1568.97 1527.59 1568.97 Q1519.06 1568.97 1514.06 1564 Q1509.09 1559.04 1509.09 1550.57 Q1509.09 1541.82 1513.81 1536.69 Q1518.55 1531.54 1526.57 1531.54 Q1533.76 1531.54 1537.93 1536.18 Q1542.13 1540.8 1542.13 1548.76 M1536.28 1547.04 Q1536.21 1542.23 1533.57 1539.37 Q1530.96 1536.5 1526.63 1536.5 Q1521.73 1536.5 1518.77 1539.27 Q1515.84 1542.04 1515.4 1547.07 L1536.28 1547.04 Z\" fill=\"#000000\" fill-rule=\"evenodd\" fill-opacity=\"1\" /><path clip-path=\"url(#clip880)\" d=\"M1572.4 1537.87 Q1571.42 1537.3 1570.24 1537.04 Q1569.09 1536.76 1567.69 1536.76 Q1562.73 1536.76 1560.05 1540 Q1557.41 1543.22 1557.41 1549.27 L1557.41 1568.04 L1551.52 1568.04 L1551.52 1532.4 L1557.41 1532.4 L1557.41 1537.93 Q1559.26 1534.69 1562.22 1533.13 Q1565.18 1531.54 1569.41 1531.54 Q1570.01 1531.54 1570.75 1531.63 Q1571.48 1531.7 1572.37 1531.85 L1572.4 1537.87 Z\" fill=\"#000000\" fill-rule=\"evenodd\" fill-opacity=\"1\" /><polyline clip-path=\"url(#clip882)\" style=\"stroke:#000000; stroke-linecap:butt; stroke-linejoin:round; stroke-width:2; stroke-opacity:0.1; fill:none\" points=\"\n  219.866,1133.03 2352.76,1133.03 \n  \"/>\n<polyline clip-path=\"url(#clip882)\" style=\"stroke:#000000; stroke-linecap:butt; stroke-linejoin:round; stroke-width:2; stroke-opacity:0.1; fill:none\" points=\"\n  219.866,818.417 2352.76,818.417 \n  \"/>\n<polyline clip-path=\"url(#clip882)\" style=\"stroke:#000000; stroke-linecap:butt; stroke-linejoin:round; stroke-width:2; stroke-opacity:0.1; fill:none\" points=\"\n  219.866,503.802 2352.76,503.802 \n  \"/>\n<polyline clip-path=\"url(#clip882)\" style=\"stroke:#000000; stroke-linecap:butt; stroke-linejoin:round; stroke-width:2; stroke-opacity:0.1; fill:none\" points=\"\n  219.866,189.188 2352.76,189.188 \n  \"/>\n<polyline clip-path=\"url(#clip880)\" style=\"stroke:#000000; stroke-linecap:butt; stroke-linejoin:round; stroke-width:4; stroke-opacity:1; fill:none\" points=\"\n  219.866,1423.18 219.866,47.2441 \n  \"/>\n<polyline clip-path=\"url(#clip880)\" style=\"stroke:#000000; stroke-linecap:butt; stroke-linejoin:round; stroke-width:4; stroke-opacity:1; fill:none\" points=\"\n  219.866,1133.03 238.764,1133.03 \n  \"/>\n<polyline clip-path=\"url(#clip880)\" style=\"stroke:#000000; stroke-linecap:butt; stroke-linejoin:round; stroke-width:4; stroke-opacity:1; fill:none\" points=\"\n  219.866,818.417 238.764,818.417 \n  \"/>\n<polyline clip-path=\"url(#clip880)\" style=\"stroke:#000000; stroke-linecap:butt; stroke-linejoin:round; stroke-width:4; stroke-opacity:1; fill:none\" points=\"\n  219.866,503.802 238.764,503.802 \n  \"/>\n<polyline clip-path=\"url(#clip880)\" style=\"stroke:#000000; stroke-linecap:butt; stroke-linejoin:round; stroke-width:4; stroke-opacity:1; fill:none\" points=\"\n  219.866,189.188 238.764,189.188 \n  \"/>\n<path clip-path=\"url(#clip880)\" d=\"M128.288 1118.83 Q124.677 1118.83 122.848 1122.39 Q121.043 1125.94 121.043 1133.07 Q121.043 1140.17 122.848 1143.74 Q124.677 1147.28 128.288 1147.28 Q131.922 1147.28 133.728 1143.74 Q135.556 1140.17 135.556 1133.07 Q135.556 1125.94 133.728 1122.39 Q131.922 1118.83 128.288 1118.83 M128.288 1115.13 Q134.098 1115.13 137.154 1119.73 Q140.232 1124.32 140.232 1133.07 Q140.232 1141.79 137.154 1146.4 Q134.098 1150.98 128.288 1150.98 Q122.478 1150.98 119.399 1146.4 Q116.343 1141.79 116.343 1133.07 Q116.343 1124.32 119.399 1119.73 Q122.478 1115.13 128.288 1115.13 Z\" fill=\"#000000\" fill-rule=\"evenodd\" fill-opacity=\"1\" /><path clip-path=\"url(#clip880)\" d=\"M148.45 1144.43 L153.334 1144.43 L153.334 1150.31 L148.45 1150.31 L148.45 1144.43 Z\" fill=\"#000000\" fill-rule=\"evenodd\" fill-opacity=\"1\" /><path clip-path=\"url(#clip880)\" d=\"M167.547 1146.38 L183.866 1146.38 L183.866 1150.31 L161.922 1150.31 L161.922 1146.38 Q164.584 1143.62 169.167 1138.99 Q173.774 1134.34 174.954 1133 Q177.2 1130.47 178.079 1128.74 Q178.982 1126.98 178.982 1125.29 Q178.982 1122.53 177.038 1120.8 Q175.116 1119.06 172.014 1119.06 Q169.815 1119.06 167.362 1119.83 Q164.931 1120.59 162.153 1122.14 L162.153 1117.42 Q164.977 1116.28 167.431 1115.71 Q169.885 1115.13 171.922 1115.13 Q177.292 1115.13 180.487 1117.81 Q183.681 1120.5 183.681 1124.99 Q183.681 1127.12 182.871 1129.04 Q182.084 1130.94 179.977 1133.53 Q179.399 1134.2 176.297 1137.42 Q173.195 1140.61 167.547 1146.38 Z\" fill=\"#000000\" fill-rule=\"evenodd\" fill-opacity=\"1\" /><path clip-path=\"url(#clip880)\" d=\"M126.205 804.216 Q122.593 804.216 120.765 807.78 Q118.959 811.322 118.959 818.452 Q118.959 825.558 120.765 829.123 Q122.593 832.664 126.205 832.664 Q129.839 832.664 131.644 829.123 Q133.473 825.558 133.473 818.452 Q133.473 811.322 131.644 807.78 Q129.839 804.216 126.205 804.216 M126.205 800.512 Q132.015 800.512 135.07 805.118 Q138.149 809.702 138.149 818.452 Q138.149 827.178 135.07 831.785 Q132.015 836.368 126.205 836.368 Q120.394 836.368 117.316 831.785 Q114.26 827.178 114.26 818.452 Q114.26 809.702 117.316 805.118 Q120.394 800.512 126.205 800.512 Z\" fill=\"#000000\" fill-rule=\"evenodd\" fill-opacity=\"1\" /><path clip-path=\"url(#clip880)\" d=\"M146.366 829.817 L151.251 829.817 L151.251 835.697 L146.366 835.697 L146.366 829.817 Z\" fill=\"#000000\" fill-rule=\"evenodd\" fill-opacity=\"1\" /><path clip-path=\"url(#clip880)\" d=\"M174.283 805.211 L162.477 823.66 L174.283 823.66 L174.283 805.211 M173.056 801.137 L178.936 801.137 L178.936 823.66 L183.866 823.66 L183.866 827.549 L178.936 827.549 L178.936 835.697 L174.283 835.697 L174.283 827.549 L158.681 827.549 L158.681 823.035 L173.056 801.137 Z\" fill=\"#000000\" fill-rule=\"evenodd\" fill-opacity=\"1\" /><path clip-path=\"url(#clip880)\" d=\"M126.529 489.601 Q122.918 489.601 121.089 493.166 Q119.283 496.707 119.283 503.837 Q119.283 510.943 121.089 514.508 Q122.918 518.05 126.529 518.05 Q130.163 518.05 131.968 514.508 Q133.797 510.943 133.797 503.837 Q133.797 496.707 131.968 493.166 Q130.163 489.601 126.529 489.601 M126.529 485.897 Q132.339 485.897 135.394 490.504 Q138.473 495.087 138.473 503.837 Q138.473 512.564 135.394 517.17 Q132.339 521.754 126.529 521.754 Q120.718 521.754 117.64 517.17 Q114.584 512.564 114.584 503.837 Q114.584 495.087 117.64 490.504 Q120.718 485.897 126.529 485.897 Z\" fill=\"#000000\" fill-rule=\"evenodd\" fill-opacity=\"1\" /><path clip-path=\"url(#clip880)\" d=\"M146.691 515.203 L151.575 515.203 L151.575 521.082 L146.691 521.082 L146.691 515.203 Z\" fill=\"#000000\" fill-rule=\"evenodd\" fill-opacity=\"1\" /><path clip-path=\"url(#clip880)\" d=\"M172.339 501.939 Q169.19 501.939 167.339 504.092 Q165.51 506.244 165.51 509.994 Q165.51 513.721 167.339 515.897 Q169.19 518.05 172.339 518.05 Q175.487 518.05 177.315 515.897 Q179.167 513.721 179.167 509.994 Q179.167 506.244 177.315 504.092 Q175.487 501.939 172.339 501.939 M181.621 487.286 L181.621 491.545 Q179.862 490.712 178.056 490.272 Q176.274 489.832 174.514 489.832 Q169.885 489.832 167.431 492.957 Q165.001 496.082 164.653 502.402 Q166.019 500.388 168.079 499.323 Q170.139 498.235 172.616 498.235 Q177.825 498.235 180.834 501.406 Q183.866 504.555 183.866 509.994 Q183.866 515.318 180.718 518.536 Q177.57 521.754 172.339 521.754 Q166.343 521.754 163.172 517.17 Q160.001 512.564 160.001 503.837 Q160.001 495.643 163.89 490.782 Q167.778 485.897 174.329 485.897 Q176.089 485.897 177.871 486.245 Q179.676 486.592 181.621 487.286 Z\" fill=\"#000000\" fill-rule=\"evenodd\" fill-opacity=\"1\" /><path clip-path=\"url(#clip880)\" d=\"M126.783 174.986 Q123.172 174.986 121.343 178.551 Q119.538 182.093 119.538 189.223 Q119.538 196.329 121.343 199.894 Q123.172 203.435 126.783 203.435 Q130.417 203.435 132.223 199.894 Q134.052 196.329 134.052 189.223 Q134.052 182.093 132.223 178.551 Q130.417 174.986 126.783 174.986 M126.783 171.283 Q132.593 171.283 135.649 175.889 Q138.728 180.473 138.728 189.223 Q138.728 197.949 135.649 202.556 Q132.593 207.139 126.783 207.139 Q120.973 207.139 117.894 202.556 Q114.839 197.949 114.839 189.223 Q114.839 180.473 117.894 175.889 Q120.973 171.283 126.783 171.283 Z\" fill=\"#000000\" fill-rule=\"evenodd\" fill-opacity=\"1\" /><path clip-path=\"url(#clip880)\" d=\"M146.945 200.588 L151.829 200.588 L151.829 206.468 L146.945 206.468 L146.945 200.588 Z\" fill=\"#000000\" fill-rule=\"evenodd\" fill-opacity=\"1\" /><path clip-path=\"url(#clip880)\" d=\"M172.014 190.056 Q168.681 190.056 166.76 191.838 Q164.862 193.621 164.862 196.746 Q164.862 199.871 166.76 201.653 Q168.681 203.435 172.014 203.435 Q175.348 203.435 177.269 201.653 Q179.19 199.847 179.19 196.746 Q179.19 193.621 177.269 191.838 Q175.371 190.056 172.014 190.056 M167.339 188.065 Q164.329 187.324 162.64 185.264 Q160.973 183.204 160.973 180.241 Q160.973 176.098 163.913 173.69 Q166.876 171.283 172.014 171.283 Q177.176 171.283 180.116 173.69 Q183.056 176.098 183.056 180.241 Q183.056 183.204 181.366 185.264 Q179.7 187.324 176.714 188.065 Q180.093 188.852 181.968 191.144 Q183.866 193.435 183.866 196.746 Q183.866 201.769 180.788 204.454 Q177.732 207.139 172.014 207.139 Q166.297 207.139 163.218 204.454 Q160.163 201.769 160.163 196.746 Q160.163 193.435 162.061 191.144 Q163.959 188.852 167.339 188.065 M165.626 180.681 Q165.626 183.366 167.292 184.871 Q168.982 186.375 172.014 186.375 Q175.024 186.375 176.714 184.871 Q178.426 183.366 178.426 180.681 Q178.426 177.996 176.714 176.491 Q175.024 174.986 172.014 174.986 Q168.982 174.986 167.292 176.491 Q165.626 177.996 165.626 180.681 Z\" fill=\"#000000\" fill-rule=\"evenodd\" fill-opacity=\"1\" /><path clip-path=\"url(#clip880)\" d=\"M16.4842 1237.77 L16.4842 1229.11 L56.238 1208.04 L16.4842 1208.04 L16.4842 1201.8 L64.0042 1201.8 L64.0042 1210.46 L24.2503 1231.53 L64.0042 1231.53 L64.0042 1237.77 L16.4842 1237.77 Z\" fill=\"#000000\" fill-rule=\"evenodd\" fill-opacity=\"1\" /><path clip-path=\"url(#clip880)\" d=\"M32.4621 1175.45 Q32.4621 1180.16 36.1542 1182.9 Q39.8145 1185.63 46.212 1185.63 Q52.6095 1185.63 56.3017 1182.93 Q59.9619 1180.19 59.9619 1175.45 Q59.9619 1170.77 56.2698 1168.03 Q52.5777 1165.3 46.212 1165.3 Q39.8781 1165.3 36.186 1168.03 Q32.4621 1170.77 32.4621 1175.45 M27.4968 1175.45 Q27.4968 1167.81 32.4621 1163.45 Q37.4273 1159.09 46.212 1159.09 Q54.9649 1159.09 59.9619 1163.45 Q64.9272 1167.81 64.9272 1175.45 Q64.9272 1183.12 59.9619 1187.48 Q54.9649 1191.81 46.212 1191.81 Q37.4273 1191.81 32.4621 1187.48 Q27.4968 1183.12 27.4968 1175.45 Z\" fill=\"#000000\" fill-rule=\"evenodd\" fill-opacity=\"1\" /><path clip-path=\"url(#clip880)\" d=\"M33.8307 1128.72 Q33.2578 1129.71 33.0032 1130.89 Q32.7167 1132.03 32.7167 1133.43 Q32.7167 1138.4 35.9632 1141.07 Q39.1779 1143.72 45.2253 1143.72 L64.0042 1143.72 L64.0042 1149.6 L28.3562 1149.6 L28.3562 1143.72 L33.8944 1143.72 Q30.6479 1141.87 29.0883 1138.91 Q27.4968 1135.95 27.4968 1131.72 Q27.4968 1131.11 27.5923 1130.38 Q27.656 1129.65 27.8151 1128.76 L33.8307 1128.72 Z\" fill=\"#000000\" fill-rule=\"evenodd\" fill-opacity=\"1\" /><path clip-path=\"url(#clip880)\" d=\"M35.1993 1095.97 Q31.2526 1093.78 29.3747 1090.72 Q27.4968 1087.67 27.4968 1083.53 Q27.4968 1077.96 31.4117 1074.93 Q35.2948 1071.91 42.4881 1071.91 L64.0042 1071.91 L64.0042 1077.8 L42.679 1077.8 Q37.5546 1077.8 35.072 1079.61 Q32.5894 1081.43 32.5894 1085.15 Q32.5894 1089.7 35.6131 1092.34 Q38.6368 1094.99 43.8567 1094.99 L64.0042 1094.99 L64.0042 1100.87 L42.679 1100.87 Q37.5228 1100.87 35.072 1102.69 Q32.5894 1104.5 32.5894 1108.29 Q32.5894 1112.78 35.6449 1115.42 Q38.6686 1118.06 43.8567 1118.06 L64.0042 1118.06 L64.0042 1123.95 L28.3562 1123.95 L28.3562 1118.06 L33.8944 1118.06 Q30.616 1116.06 29.0564 1113.26 Q27.4968 1110.45 27.4968 1106.6 Q27.4968 1102.72 29.4702 1100.01 Q31.4436 1097.28 35.1993 1095.97 Z\" fill=\"#000000\" fill-rule=\"evenodd\" fill-opacity=\"1\" /><path clip-path=\"url(#clip880)\" d=\"M46.0847 1044.03 Q46.0847 1051.13 47.7079 1053.86 Q49.3312 1056.6 53.2461 1056.6 Q56.3653 1056.6 58.2114 1054.56 Q60.0256 1052.49 60.0256 1048.96 Q60.0256 1044.09 56.5881 1041.16 Q53.1188 1038.2 47.3897 1038.2 L46.0847 1038.2 L46.0847 1044.03 M43.6657 1032.35 L64.0042 1032.35 L64.0042 1038.2 L58.5933 1038.2 Q61.8398 1040.21 63.3994 1043.2 Q64.9272 1046.19 64.9272 1050.52 Q64.9272 1056 61.8716 1059.24 Q58.7843 1062.46 53.6281 1062.46 Q47.6125 1062.46 44.5569 1058.45 Q41.5014 1054.4 41.5014 1046.42 L41.5014 1038.2 L40.9285 1038.2 Q36.8862 1038.2 34.6901 1040.88 Q32.4621 1043.52 32.4621 1048.33 Q32.4621 1051.38 33.1941 1054.28 Q33.9262 1057.17 35.3903 1059.85 L29.9795 1059.85 Q28.7381 1056.63 28.1334 1053.61 Q27.4968 1050.58 27.4968 1047.72 Q27.4968 1039.99 31.5072 1036.17 Q35.5176 1032.35 43.6657 1032.35 Z\" fill=\"#000000\" fill-rule=\"evenodd\" fill-opacity=\"1\" /><path clip-path=\"url(#clip880)\" d=\"M14.479 1020.28 L14.479 1014.43 L64.0042 1014.43 L64.0042 1020.28 L14.479 1020.28 Z\" fill=\"#000000\" fill-rule=\"evenodd\" fill-opacity=\"1\" /><path clip-path=\"url(#clip880)\" d=\"M28.3562 1002.17 L28.3562 996.317 L64.0042 996.317 L64.0042 1002.17 L28.3562 1002.17 M14.479 1002.17 L14.479 996.317 L21.895 996.317 L21.895 1002.17 L14.479 1002.17 Z\" fill=\"#000000\" fill-rule=\"evenodd\" fill-opacity=\"1\" /><path clip-path=\"url(#clip880)\" d=\"M28.3562 986.61 L28.3562 958.791 L33.7034 958.791 L59.3254 980.817 L59.3254 958.791 L64.0042 958.791 L64.0042 987.405 L58.657 987.405 L33.035 965.38 L33.035 986.61 L28.3562 986.61 Z\" fill=\"#000000\" fill-rule=\"evenodd\" fill-opacity=\"1\" /><path clip-path=\"url(#clip880)\" d=\"M44.7161 919.356 L47.5806 919.356 L47.5806 946.283 Q53.6281 945.901 56.8109 942.654 Q59.9619 939.376 59.9619 933.551 Q59.9619 930.178 59.1344 927.027 Q58.3069 923.844 56.6518 920.725 L62.1899 920.725 Q63.5267 923.876 64.227 927.186 Q64.9272 930.496 64.9272 933.902 Q64.9272 942.432 59.9619 947.429 Q54.9967 952.394 46.5303 952.394 Q37.7774 952.394 32.6531 947.683 Q27.4968 942.941 27.4968 934.92 Q27.4968 927.727 32.1438 923.557 Q36.7589 919.356 44.7161 919.356 M42.9973 925.212 Q38.1912 925.276 35.3266 927.918 Q32.4621 930.528 32.4621 934.856 Q32.4621 939.758 35.2312 942.718 Q38.0002 945.646 43.0292 946.092 L42.9973 925.212 Z\" fill=\"#000000\" fill-rule=\"evenodd\" fill-opacity=\"1\" /><path clip-path=\"url(#clip880)\" d=\"M33.7671 886.286 L14.479 886.286 L14.479 880.43 L64.0042 880.43 L64.0042 886.286 L58.657 886.286 Q61.8398 888.132 63.3994 890.965 Q64.9272 893.766 64.9272 897.713 Q64.9272 904.174 59.771 908.248 Q54.6147 912.29 46.212 912.29 Q37.8093 912.29 32.6531 908.248 Q27.4968 904.174 27.4968 897.713 Q27.4968 893.766 29.0564 890.965 Q30.5842 888.132 33.7671 886.286 M46.212 906.243 Q52.6732 906.243 56.3653 903.601 Q60.0256 900.927 60.0256 896.28 Q60.0256 891.633 56.3653 888.96 Q52.6732 886.286 46.212 886.286 Q39.7508 886.286 36.0905 888.96 Q32.3984 891.633 32.3984 896.28 Q32.3984 900.927 36.0905 903.601 Q39.7508 906.243 46.212 906.243 Z\" fill=\"#000000\" fill-rule=\"evenodd\" fill-opacity=\"1\" /><path clip-path=\"url(#clip880)\" d=\"M35.1993 819.892 Q31.2526 817.696 29.3747 814.64 Q27.4968 811.585 27.4968 807.447 Q27.4968 801.877 31.4117 798.853 Q35.2948 795.829 42.4881 795.829 L64.0042 795.829 L64.0042 801.718 L42.679 801.718 Q37.5546 801.718 35.072 803.532 Q32.5894 805.346 32.5894 809.07 Q32.5894 813.622 35.6131 816.263 Q38.6368 818.905 43.8567 818.905 L64.0042 818.905 L64.0042 824.793 L42.679 824.793 Q37.5228 824.793 35.072 826.608 Q32.5894 828.422 32.5894 832.209 Q32.5894 836.697 35.6449 839.339 Q38.6686 841.981 43.8567 841.981 L64.0042 841.981 L64.0042 847.869 L28.3562 847.869 L28.3562 841.981 L33.8944 841.981 Q30.616 839.976 29.0564 837.175 Q27.4968 834.374 27.4968 830.523 Q27.4968 826.639 29.4702 823.934 Q31.4436 821.197 35.1993 819.892 Z\" fill=\"#000000\" fill-rule=\"evenodd\" fill-opacity=\"1\" /><path clip-path=\"url(#clip880)\" d=\"M49.9359 784.753 L28.3562 784.753 L28.3562 778.897 L49.7131 778.897 Q54.7739 778.897 57.3202 776.923 Q59.8346 774.95 59.8346 771.003 Q59.8346 766.261 56.8109 763.523 Q53.7872 760.754 48.5673 760.754 L28.3562 760.754 L28.3562 754.898 L64.0042 754.898 L64.0042 760.754 L58.5296 760.754 Q61.7762 762.887 63.3676 765.72 Q64.9272 768.521 64.9272 772.244 Q64.9272 778.387 61.1078 781.57 Q57.2883 784.753 49.9359 784.753 M27.4968 770.016 L27.4968 770.016 Z\" fill=\"#000000\" fill-rule=\"evenodd\" fill-opacity=\"1\" /><path clip-path=\"url(#clip880)\" d=\"M18.2347 737.042 L28.3562 737.042 L28.3562 724.979 L32.9077 724.979 L32.9077 737.042 L52.2594 737.042 Q56.6199 737.042 57.8613 735.864 Q59.1026 734.655 59.1026 730.995 L59.1026 724.979 L64.0042 724.979 L64.0042 730.995 Q64.0042 737.774 61.4897 740.352 Q58.9434 742.93 52.2594 742.93 L32.9077 742.93 L32.9077 747.227 L28.3562 747.227 L28.3562 742.93 L18.2347 742.93 L18.2347 737.042 Z\" fill=\"#000000\" fill-rule=\"evenodd\" fill-opacity=\"1\" /><path clip-path=\"url(#clip880)\" d=\"M49.9359 717.881 L28.3562 717.881 L28.3562 712.025 L49.7131 712.025 Q54.7739 712.025 57.3202 710.052 Q59.8346 708.078 59.8346 704.131 Q59.8346 699.389 56.8109 696.652 Q53.7872 693.883 48.5673 693.883 L28.3562 693.883 L28.3562 688.026 L64.0042 688.026 L64.0042 693.883 L58.5296 693.883 Q61.7762 696.015 63.3676 698.848 Q64.9272 701.649 64.9272 705.373 Q64.9272 711.516 61.1078 714.698 Q57.2883 717.881 49.9359 717.881 M27.4968 703.145 L27.4968 703.145 Z\" fill=\"#000000\" fill-rule=\"evenodd\" fill-opacity=\"1\" /><path clip-path=\"url(#clip880)\" d=\"M46.0847 659.762 Q46.0847 666.86 47.7079 669.597 Q49.3312 672.335 53.2461 672.335 Q56.3653 672.335 58.2114 670.298 Q60.0256 668.229 60.0256 664.696 Q60.0256 659.826 56.5881 656.898 Q53.1188 653.938 47.3897 653.938 L46.0847 653.938 L46.0847 659.762 M43.6657 648.081 L64.0042 648.081 L64.0042 653.938 L58.5933 653.938 Q61.8398 655.943 63.3994 658.935 Q64.9272 661.927 64.9272 666.255 Q64.9272 671.73 61.8716 674.976 Q58.7843 678.191 53.6281 678.191 Q47.6125 678.191 44.5569 674.181 Q41.5014 670.139 41.5014 662.15 L41.5014 653.938 L40.9285 653.938 Q36.8862 653.938 34.6901 656.611 Q32.4621 659.253 32.4621 664.059 Q32.4621 667.115 33.1941 670.011 Q33.9262 672.908 35.3903 675.581 L29.9795 675.581 Q28.7381 672.367 28.1334 669.343 Q27.4968 666.319 27.4968 663.455 Q27.4968 655.72 31.5072 651.901 Q35.5176 648.081 43.6657 648.081 Z\" fill=\"#000000\" fill-rule=\"evenodd\" fill-opacity=\"1\" /><path clip-path=\"url(#clip880)\" d=\"M14.479 636.018 L14.479 630.162 L64.0042 630.162 L64.0042 636.018 L14.479 636.018 Z\" fill=\"#000000\" fill-rule=\"evenodd\" fill-opacity=\"1\" /><path clip-path=\"url(#clip880)\" d=\"M28.3562 597.188 L28.3562 591.331 L64.0042 591.331 L64.0042 597.188 L28.3562 597.188 M14.479 597.188 L14.479 591.331 L21.895 591.331 L21.895 597.188 L14.479 597.188 Z\" fill=\"#000000\" fill-rule=\"evenodd\" fill-opacity=\"1\" /><path clip-path=\"url(#clip880)\" d=\"M42.4881 549.445 L64.0042 549.445 L64.0042 555.301 L42.679 555.301 Q37.6183 555.301 35.1038 557.275 Q32.5894 559.248 32.5894 563.195 Q32.5894 567.937 35.6131 570.674 Q38.6368 573.412 43.8567 573.412 L64.0042 573.412 L64.0042 579.3 L28.3562 579.3 L28.3562 573.412 L33.8944 573.412 Q30.6797 571.311 29.0883 568.478 Q27.4968 565.614 27.4968 561.89 Q27.4968 555.747 31.3163 552.596 Q35.1038 549.445 42.4881 549.445 Z\" fill=\"#000000\" fill-rule=\"evenodd\" fill-opacity=\"1\" /><path clip-path=\"url(#clip880)\" d=\"M14.479 519.717 L19.3487 519.717 L19.3487 525.319 Q19.3487 528.47 20.6219 529.711 Q21.895 530.921 25.2052 530.921 L28.3562 530.921 L28.3562 521.276 L32.9077 521.276 L32.9077 530.921 L64.0042 530.921 L64.0042 536.809 L32.9077 536.809 L32.9077 542.411 L28.3562 542.411 L28.3562 536.809 L25.8736 536.809 Q19.9216 536.809 17.2162 534.04 Q14.479 531.271 14.479 525.255 L14.479 519.717 Z\" fill=\"#000000\" fill-rule=\"evenodd\" fill-opacity=\"1\" /><path clip-path=\"url(#clip880)\" d=\"M32.4621 501.002 Q32.4621 505.712 36.1542 508.45 Q39.8145 511.187 46.212 511.187 Q52.6095 511.187 56.3017 508.481 Q59.9619 505.744 59.9619 501.002 Q59.9619 496.323 56.2698 493.586 Q52.5777 490.848 46.212 490.848 Q39.8781 490.848 36.186 493.586 Q32.4621 496.323 32.4621 501.002 M27.4968 501.002 Q27.4968 493.363 32.4621 489.002 Q37.4273 484.642 46.212 484.642 Q54.9649 484.642 59.9619 489.002 Q64.9272 493.363 64.9272 501.002 Q64.9272 508.672 59.9619 513.033 Q54.9649 517.362 46.212 517.362 Q37.4273 517.362 32.4621 513.033 Q27.4968 508.672 27.4968 501.002 Z\" fill=\"#000000\" fill-rule=\"evenodd\" fill-opacity=\"1\" /><path clip-path=\"url(#clip880)\" d=\"M33.8307 454.277 Q33.2578 455.264 33.0032 456.442 Q32.7167 457.588 32.7167 458.988 Q32.7167 463.953 35.9632 466.627 Q39.1779 469.269 45.2253 469.269 L64.0042 469.269 L64.0042 475.157 L28.3562 475.157 L28.3562 469.269 L33.8944 469.269 Q30.6479 467.423 29.0883 464.463 Q27.4968 461.502 27.4968 457.269 Q27.4968 456.665 27.5923 455.933 Q27.656 455.2 27.8151 454.309 L33.8307 454.277 Z\" fill=\"#000000\" fill-rule=\"evenodd\" fill-opacity=\"1\" /><path clip-path=\"url(#clip880)\" d=\"M35.1993 421.526 Q31.2526 419.33 29.3747 416.274 Q27.4968 413.219 27.4968 409.081 Q27.4968 403.511 31.4117 400.487 Q35.2948 397.463 42.4881 397.463 L64.0042 397.463 L64.0042 403.352 L42.679 403.352 Q37.5546 403.352 35.072 405.166 Q32.5894 406.98 32.5894 410.704 Q32.5894 415.256 35.6131 417.897 Q38.6368 420.539 43.8567 420.539 L64.0042 420.539 L64.0042 426.427 L42.679 426.427 Q37.5228 426.427 35.072 428.242 Q32.5894 430.056 32.5894 433.844 Q32.5894 438.331 35.6449 440.973 Q38.6686 443.615 43.8567 443.615 L64.0042 443.615 L64.0042 449.503 L28.3562 449.503 L28.3562 443.615 L33.8944 443.615 Q30.616 441.61 29.0564 438.809 Q27.4968 436.008 27.4968 432.157 Q27.4968 428.274 29.4702 425.568 Q31.4436 422.831 35.1993 421.526 Z\" fill=\"#000000\" fill-rule=\"evenodd\" fill-opacity=\"1\" /><path clip-path=\"url(#clip880)\" d=\"M46.0847 369.582 Q46.0847 376.679 47.7079 379.417 Q49.3312 382.154 53.2461 382.154 Q56.3653 382.154 58.2114 380.117 Q60.0256 378.048 60.0256 374.515 Q60.0256 369.645 56.5881 366.717 Q53.1188 363.757 47.3897 363.757 L46.0847 363.757 L46.0847 369.582 M43.6657 357.901 L64.0042 357.901 L64.0042 363.757 L58.5933 363.757 Q61.8398 365.762 63.3994 368.754 Q64.9272 371.746 64.9272 376.075 Q64.9272 381.549 61.8716 384.796 Q58.7843 388.01 53.6281 388.01 Q47.6125 388.01 44.5569 384 Q41.5014 379.958 41.5014 371.969 L41.5014 363.757 L40.9285 363.757 Q36.8862 363.757 34.6901 366.431 Q32.4621 369.072 32.4621 373.879 Q32.4621 376.934 33.1941 379.83 Q33.9262 382.727 35.3903 385.4 L29.9795 385.4 Q28.7381 382.186 28.1334 379.162 Q27.4968 376.138 27.4968 373.274 Q27.4968 365.539 31.5072 361.72 Q35.5176 357.901 43.6657 357.901 Z\" fill=\"#000000\" fill-rule=\"evenodd\" fill-opacity=\"1\" /><path clip-path=\"url(#clip880)\" d=\"M18.2347 340.045 L28.3562 340.045 L28.3562 327.982 L32.9077 327.982 L32.9077 340.045 L52.2594 340.045 Q56.6199 340.045 57.8613 338.867 Q59.1026 337.658 59.1026 333.997 L59.1026 327.982 L64.0042 327.982 L64.0042 333.997 Q64.0042 340.777 61.4897 343.355 Q58.9434 345.933 52.2594 345.933 L32.9077 345.933 L32.9077 350.23 L28.3562 350.23 L28.3562 345.933 L18.2347 345.933 L18.2347 340.045 Z\" fill=\"#000000\" fill-rule=\"evenodd\" fill-opacity=\"1\" /><path clip-path=\"url(#clip880)\" d=\"M28.3562 320.279 L28.3562 314.423 L64.0042 314.423 L64.0042 320.279 L28.3562 320.279 M14.479 320.279 L14.479 314.423 L21.895 314.423 L21.895 320.279 L14.479 320.279 Z\" fill=\"#000000\" fill-rule=\"evenodd\" fill-opacity=\"1\" /><path clip-path=\"url(#clip880)\" d=\"M32.4621 288.355 Q32.4621 293.066 36.1542 295.803 Q39.8145 298.54 46.212 298.54 Q52.6095 298.54 56.3017 295.835 Q59.9619 293.098 59.9619 288.355 Q59.9619 283.676 56.2698 280.939 Q52.5777 278.202 46.212 278.202 Q39.8781 278.202 36.186 280.939 Q32.4621 283.676 32.4621 288.355 M27.4968 288.355 Q27.4968 280.716 32.4621 276.356 Q37.4273 271.995 46.212 271.995 Q54.9649 271.995 59.9619 276.356 Q64.9272 280.716 64.9272 288.355 Q64.9272 296.026 59.9619 300.386 Q54.9649 304.715 46.212 304.715 Q37.4273 304.715 32.4621 300.386 Q27.4968 296.026 27.4968 288.355 Z\" fill=\"#000000\" fill-rule=\"evenodd\" fill-opacity=\"1\" /><path clip-path=\"url(#clip880)\" d=\"M42.4881 232.655 L64.0042 232.655 L64.0042 238.512 L42.679 238.512 Q37.6183 238.512 35.1038 240.485 Q32.5894 242.459 32.5894 246.405 Q32.5894 251.148 35.6131 253.885 Q38.6368 256.622 43.8567 256.622 L64.0042 256.622 L64.0042 262.511 L28.3562 262.511 L28.3562 256.622 L33.8944 256.622 Q30.6797 254.522 29.0883 251.689 Q27.4968 248.824 27.4968 245.1 Q27.4968 238.957 31.3163 235.806 Q35.1038 232.655 42.4881 232.655 Z\" fill=\"#000000\" fill-rule=\"evenodd\" fill-opacity=\"1\" /><polyline clip-path=\"url(#clip882)\" style=\"stroke:#009af9; stroke-linecap:butt; stroke-linejoin:round; stroke-width:4; stroke-opacity:1; fill:none\" points=\"\n  280.231,122.865 503.804,111.676 727.378,161.673 950.951,153.763 1174.52,235.471 1398.1,367.062 1621.67,878.943 1845.24,1271.26 2068.82,1337.02 2292.39,1368.51 \n  \n  \"/>\n<polyline clip-path=\"url(#clip882)\" style=\"stroke:#009af9; stroke-linecap:butt; stroke-linejoin:round; stroke-width:4; stroke-opacity:1; fill:none\" points=\"\n  280.231,130.939 280.231,114.79 \n  \"/>\n<polyline clip-path=\"url(#clip882)\" style=\"stroke:#009af9; stroke-linecap:butt; stroke-linejoin:round; stroke-width:4; stroke-opacity:1; fill:none\" points=\"\n  503.804,137.166 503.804,86.1857 \n  \"/>\n<polyline clip-path=\"url(#clip882)\" style=\"stroke:#009af9; stroke-linecap:butt; stroke-linejoin:round; stroke-width:4; stroke-opacity:1; fill:none\" points=\"\n  727.378,169.758 727.378,153.588 \n  \"/>\n<polyline clip-path=\"url(#clip882)\" style=\"stroke:#009af9; stroke-linecap:butt; stroke-linejoin:round; stroke-width:4; stroke-opacity:1; fill:none\" points=\"\n  950.951,199.551 950.951,107.976 \n  \"/>\n<polyline clip-path=\"url(#clip882)\" style=\"stroke:#009af9; stroke-linecap:butt; stroke-linejoin:round; stroke-width:4; stroke-opacity:1; fill:none\" points=\"\n  1174.52,267.112 1174.52,203.83 \n  \"/>\n<polyline clip-path=\"url(#clip882)\" style=\"stroke:#009af9; stroke-linecap:butt; stroke-linejoin:round; stroke-width:4; stroke-opacity:1; fill:none\" points=\"\n  1398.1,407.731 1398.1,326.394 \n  \"/>\n<polyline clip-path=\"url(#clip882)\" style=\"stroke:#009af9; stroke-linecap:butt; stroke-linejoin:round; stroke-width:4; stroke-opacity:1; fill:none\" points=\"\n  1621.67,955.37 1621.67,802.516 \n  \"/>\n<polyline clip-path=\"url(#clip882)\" style=\"stroke:#009af9; stroke-linecap:butt; stroke-linejoin:round; stroke-width:4; stroke-opacity:1; fill:none\" points=\"\n  1845.24,1275.68 1845.24,1266.83 \n  \"/>\n<polyline clip-path=\"url(#clip882)\" style=\"stroke:#009af9; stroke-linecap:butt; stroke-linejoin:round; stroke-width:4; stroke-opacity:1; fill:none\" points=\"\n  2068.82,1344.27 2068.82,1329.78 \n  \"/>\n<polyline clip-path=\"url(#clip882)\" style=\"stroke:#009af9; stroke-linecap:butt; stroke-linejoin:round; stroke-width:4; stroke-opacity:1; fill:none\" points=\"\n  2292.39,1384.24 2292.39,1352.78 \n  \"/>\n<line clip-path=\"url(#clip882)\" x1=\"296.231\" y1=\"130.939\" x2=\"264.231\" y2=\"130.939\" style=\"stroke:#009af9; stroke-width:3.2; stroke-opacity:1\"/>\n<line clip-path=\"url(#clip882)\" x1=\"296.231\" y1=\"114.79\" x2=\"264.231\" y2=\"114.79\" style=\"stroke:#009af9; stroke-width:3.2; stroke-opacity:1\"/>\n<line clip-path=\"url(#clip882)\" x1=\"519.804\" y1=\"137.166\" x2=\"487.804\" y2=\"137.166\" style=\"stroke:#009af9; stroke-width:3.2; stroke-opacity:1\"/>\n<line clip-path=\"url(#clip882)\" x1=\"519.804\" y1=\"86.1857\" x2=\"487.804\" y2=\"86.1857\" style=\"stroke:#009af9; stroke-width:3.2; stroke-opacity:1\"/>\n<line clip-path=\"url(#clip882)\" x1=\"743.378\" y1=\"169.758\" x2=\"711.378\" y2=\"169.758\" style=\"stroke:#009af9; stroke-width:3.2; stroke-opacity:1\"/>\n<line clip-path=\"url(#clip882)\" x1=\"743.378\" y1=\"153.588\" x2=\"711.378\" y2=\"153.588\" style=\"stroke:#009af9; stroke-width:3.2; stroke-opacity:1\"/>\n<line clip-path=\"url(#clip882)\" x1=\"966.951\" y1=\"199.551\" x2=\"934.951\" y2=\"199.551\" style=\"stroke:#009af9; stroke-width:3.2; stroke-opacity:1\"/>\n<line clip-path=\"url(#clip882)\" x1=\"966.951\" y1=\"107.976\" x2=\"934.951\" y2=\"107.976\" style=\"stroke:#009af9; stroke-width:3.2; stroke-opacity:1\"/>\n<line clip-path=\"url(#clip882)\" x1=\"1190.52\" y1=\"267.112\" x2=\"1158.52\" y2=\"267.112\" style=\"stroke:#009af9; stroke-width:3.2; stroke-opacity:1\"/>\n<line clip-path=\"url(#clip882)\" x1=\"1190.52\" y1=\"203.83\" x2=\"1158.52\" y2=\"203.83\" style=\"stroke:#009af9; stroke-width:3.2; stroke-opacity:1\"/>\n<line clip-path=\"url(#clip882)\" x1=\"1414.1\" y1=\"407.731\" x2=\"1382.1\" y2=\"407.731\" style=\"stroke:#009af9; stroke-width:3.2; stroke-opacity:1\"/>\n<line clip-path=\"url(#clip882)\" x1=\"1414.1\" y1=\"326.394\" x2=\"1382.1\" y2=\"326.394\" style=\"stroke:#009af9; stroke-width:3.2; stroke-opacity:1\"/>\n<line clip-path=\"url(#clip882)\" x1=\"1637.67\" y1=\"955.37\" x2=\"1605.67\" y2=\"955.37\" style=\"stroke:#009af9; stroke-width:3.2; stroke-opacity:1\"/>\n<line clip-path=\"url(#clip882)\" x1=\"1637.67\" y1=\"802.516\" x2=\"1605.67\" y2=\"802.516\" style=\"stroke:#009af9; stroke-width:3.2; stroke-opacity:1\"/>\n<line clip-path=\"url(#clip882)\" x1=\"1861.24\" y1=\"1275.68\" x2=\"1829.24\" y2=\"1275.68\" style=\"stroke:#009af9; stroke-width:3.2; stroke-opacity:1\"/>\n<line clip-path=\"url(#clip882)\" x1=\"1861.24\" y1=\"1266.83\" x2=\"1829.24\" y2=\"1266.83\" style=\"stroke:#009af9; stroke-width:3.2; stroke-opacity:1\"/>\n<line clip-path=\"url(#clip882)\" x1=\"2084.82\" y1=\"1344.27\" x2=\"2052.82\" y2=\"1344.27\" style=\"stroke:#009af9; stroke-width:3.2; stroke-opacity:1\"/>\n<line clip-path=\"url(#clip882)\" x1=\"2084.82\" y1=\"1329.78\" x2=\"2052.82\" y2=\"1329.78\" style=\"stroke:#009af9; stroke-width:3.2; stroke-opacity:1\"/>\n<line clip-path=\"url(#clip882)\" x1=\"2308.39\" y1=\"1384.24\" x2=\"2276.39\" y2=\"1384.24\" style=\"stroke:#009af9; stroke-width:3.2; stroke-opacity:1\"/>\n<line clip-path=\"url(#clip882)\" x1=\"2308.39\" y1=\"1352.78\" x2=\"2276.39\" y2=\"1352.78\" style=\"stroke:#009af9; stroke-width:3.2; stroke-opacity:1\"/>\n<path clip-path=\"url(#clip880)\" d=\"\nM1815.02 196.789 L2281.66 196.789 L2281.66 93.1086 L1815.02 93.1086  Z\n  \" fill=\"#ffffff\" fill-rule=\"evenodd\" fill-opacity=\"1\"/>\n<polyline clip-path=\"url(#clip880)\" style=\"stroke:#000000; stroke-linecap:butt; stroke-linejoin:round; stroke-width:4; stroke-opacity:1; fill:none\" points=\"\n  1815.02,196.789 2281.66,196.789 2281.66,93.1086 1815.02,93.1086 1815.02,196.789 \n  \"/>\n<polyline clip-path=\"url(#clip880)\" style=\"stroke:#009af9; stroke-linecap:butt; stroke-linejoin:round; stroke-width:4; stroke-opacity:1; fill:none\" points=\"\n  1838.72,144.949 1980.91,144.949 \n  \"/>\n<path clip-path=\"url(#clip880)\" d=\"M2004.61 127.669 L2026.46 127.669 L2026.46 131.604 L2009.29 131.604 L2009.29 141.835 L2025.74 141.835 L2025.74 145.77 L2009.29 145.77 L2009.29 158.293 L2026.88 158.293 L2026.88 162.229 L2004.61 162.229 L2004.61 127.669 Z\" fill=\"#000000\" fill-rule=\"evenodd\" fill-opacity=\"1\" /><path clip-path=\"url(#clip880)\" d=\"M2034.38 126.21 L2038.64 126.21 L2038.64 162.229 L2034.38 162.229 L2034.38 126.21 Z\" fill=\"#000000\" fill-rule=\"evenodd\" fill-opacity=\"1\" /><path clip-path=\"url(#clip880)\" d=\"M2047.55 126.21 L2051.81 126.21 L2051.81 162.229 L2047.55 162.229 L2047.55 126.21 Z\" fill=\"#000000\" fill-rule=\"evenodd\" fill-opacity=\"1\" /><path clip-path=\"url(#clip880)\" d=\"M2060.72 136.303 L2064.98 136.303 L2064.98 162.229 L2060.72 162.229 L2060.72 136.303 M2060.72 126.21 L2064.98 126.21 L2064.98 131.604 L2060.72 131.604 L2060.72 126.21 Z\" fill=\"#000000\" fill-rule=\"evenodd\" fill-opacity=\"1\" /><path clip-path=\"url(#clip880)\" d=\"M2078.01 158.34 L2078.01 172.09 L2073.73 172.09 L2073.73 136.303 L2078.01 136.303 L2078.01 140.238 Q2079.36 137.923 2081.39 136.812 Q2083.45 135.678 2086.3 135.678 Q2091.02 135.678 2093.96 139.428 Q2096.92 143.178 2096.92 149.289 Q2096.92 155.4 2093.96 159.15 Q2091.02 162.9 2086.3 162.9 Q2083.45 162.9 2081.39 161.789 Q2079.36 160.655 2078.01 158.34 M2092.5 149.289 Q2092.5 144.59 2090.56 141.928 Q2088.64 139.243 2085.26 139.243 Q2081.88 139.243 2079.93 141.928 Q2078.01 144.59 2078.01 149.289 Q2078.01 153.988 2079.93 156.673 Q2081.88 159.335 2085.26 159.335 Q2088.64 159.335 2090.56 156.673 Q2092.5 153.988 2092.5 149.289 Z\" fill=\"#000000\" fill-rule=\"evenodd\" fill-opacity=\"1\" /><path clip-path=\"url(#clip880)\" d=\"M2120.51 137.067 L2120.51 141.094 Q2118.71 140.169 2116.76 139.706 Q2114.82 139.243 2112.73 139.243 Q2109.56 139.243 2107.97 140.215 Q2106.39 141.187 2106.39 143.131 Q2106.39 144.613 2107.53 145.469 Q2108.66 146.303 2112.09 147.067 L2113.55 147.391 Q2118.08 148.363 2119.98 150.145 Q2121.9 151.905 2121.9 155.076 Q2121.9 158.687 2119.03 160.793 Q2116.18 162.9 2111.18 162.9 Q2109.1 162.9 2106.83 162.483 Q2104.59 162.09 2102.09 161.28 L2102.09 156.881 Q2104.45 158.108 2106.74 158.733 Q2109.03 159.335 2111.28 159.335 Q2114.29 159.335 2115.91 158.317 Q2117.53 157.275 2117.53 155.4 Q2117.53 153.664 2116.35 152.738 Q2115.19 151.812 2111.23 150.956 L2109.75 150.608 Q2105.79 149.775 2104.03 148.062 Q2102.27 146.326 2102.27 143.317 Q2102.27 139.659 2104.86 137.669 Q2107.46 135.678 2112.23 135.678 Q2114.59 135.678 2116.67 136.025 Q2118.75 136.372 2120.51 137.067 Z\" fill=\"#000000\" fill-rule=\"evenodd\" fill-opacity=\"1\" /><path clip-path=\"url(#clip880)\" d=\"M2138.73 139.289 Q2135.3 139.289 2133.31 141.974 Q2131.32 144.636 2131.32 149.289 Q2131.32 153.942 2133.29 156.627 Q2135.28 159.289 2138.73 159.289 Q2142.13 159.289 2144.12 156.604 Q2146.11 153.918 2146.11 149.289 Q2146.11 144.682 2144.12 141.997 Q2142.13 139.289 2138.73 139.289 M2138.73 135.678 Q2144.29 135.678 2147.46 139.289 Q2150.63 142.9 2150.63 149.289 Q2150.63 155.655 2147.46 159.289 Q2144.29 162.9 2138.73 162.9 Q2133.15 162.9 2129.98 159.289 Q2126.83 155.655 2126.83 149.289 Q2126.83 142.9 2129.98 139.289 Q2133.15 135.678 2138.73 135.678 Z\" fill=\"#000000\" fill-rule=\"evenodd\" fill-opacity=\"1\" /><path clip-path=\"url(#clip880)\" d=\"M2157.69 136.303 L2161.95 136.303 L2161.95 162.229 L2157.69 162.229 L2157.69 136.303 M2157.69 126.21 L2161.95 126.21 L2161.95 131.604 L2157.69 131.604 L2157.69 126.21 Z\" fill=\"#000000\" fill-rule=\"evenodd\" fill-opacity=\"1\" /><path clip-path=\"url(#clip880)\" d=\"M2187.92 140.238 L2187.92 126.21 L2192.18 126.21 L2192.18 162.229 L2187.92 162.229 L2187.92 158.34 Q2186.58 160.655 2184.52 161.789 Q2182.48 162.9 2179.61 162.9 Q2174.91 162.9 2171.95 159.15 Q2169.01 155.4 2169.01 149.289 Q2169.01 143.178 2171.95 139.428 Q2174.91 135.678 2179.61 135.678 Q2182.48 135.678 2184.52 136.812 Q2186.58 137.923 2187.92 140.238 M2173.41 149.289 Q2173.41 153.988 2175.33 156.673 Q2177.27 159.335 2180.65 159.335 Q2184.03 159.335 2185.98 156.673 Q2187.92 153.988 2187.92 149.289 Q2187.92 144.59 2185.98 141.928 Q2184.03 139.243 2180.65 139.243 Q2177.27 139.243 2175.33 141.928 Q2173.41 144.59 2173.41 149.289 Z\" fill=\"#000000\" fill-rule=\"evenodd\" fill-opacity=\"1\" /><path clip-path=\"url(#clip880)\" d=\"M2212.73 149.196 Q2207.57 149.196 2205.58 150.377 Q2203.59 151.557 2203.59 154.405 Q2203.59 156.673 2205.07 158.016 Q2206.58 159.335 2209.15 159.335 Q2212.69 159.335 2214.82 156.835 Q2216.97 154.312 2216.97 150.145 L2216.97 149.196 L2212.73 149.196 M2221.23 147.437 L2221.23 162.229 L2216.97 162.229 L2216.97 158.293 Q2215.51 160.655 2213.34 161.789 Q2211.16 162.9 2208.01 162.9 Q2204.03 162.9 2201.67 160.678 Q2199.33 158.432 2199.33 154.682 Q2199.33 150.307 2202.25 148.085 Q2205.19 145.863 2211 145.863 L2216.97 145.863 L2216.97 145.446 Q2216.97 142.507 2215.03 140.909 Q2213.1 139.289 2209.61 139.289 Q2207.39 139.289 2205.28 139.821 Q2203.17 140.354 2201.23 141.419 L2201.23 137.483 Q2203.57 136.581 2205.77 136.141 Q2207.97 135.678 2210.05 135.678 Q2215.67 135.678 2218.45 138.594 Q2221.23 141.511 2221.23 147.437 Z\" fill=\"#000000\" fill-rule=\"evenodd\" fill-opacity=\"1\" /><path clip-path=\"url(#clip880)\" d=\"M2230 126.21 L2234.26 126.21 L2234.26 162.229 L2230 162.229 L2230 126.21 Z\" fill=\"#000000\" fill-rule=\"evenodd\" fill-opacity=\"1\" /></svg>\n",
      "text/html": [
       "<?xml version=\"1.0\" encoding=\"utf-8\"?>\n",
       "<svg xmlns=\"http://www.w3.org/2000/svg\" xmlns:xlink=\"http://www.w3.org/1999/xlink\" width=\"600\" height=\"400\" viewBox=\"0 0 2400 1600\">\n",
       "<defs>\n",
       "  <clipPath id=\"clip930\">\n",
       "    <rect x=\"0\" y=\"0\" width=\"2400\" height=\"1600\"/>\n",
       "  </clipPath>\n",
       "</defs>\n",
       "<path clip-path=\"url(#clip930)\" d=\"\n",
       "M0 1600 L2400 1600 L2400 0 L0 0  Z\n",
       "  \" fill=\"#ffffff\" fill-rule=\"evenodd\" fill-opacity=\"1\"/>\n",
       "<defs>\n",
       "  <clipPath id=\"clip931\">\n",
       "    <rect x=\"480\" y=\"0\" width=\"1681\" height=\"1600\"/>\n",
       "  </clipPath>\n",
       "</defs>\n",
       "<path clip-path=\"url(#clip930)\" d=\"\n",
       "M219.866 1423.18 L2352.76 1423.18 L2352.76 47.2441 L219.866 47.2441  Z\n",
       "  \" fill=\"#ffffff\" fill-rule=\"evenodd\" fill-opacity=\"1\"/>\n",
       "<defs>\n",
       "  <clipPath id=\"clip932\">\n",
       "    <rect x=\"219\" y=\"47\" width=\"2134\" height=\"1377\"/>\n",
       "  </clipPath>\n",
       "</defs>\n",
       "<polyline clip-path=\"url(#clip932)\" style=\"stroke:#000000; stroke-linecap:butt; stroke-linejoin:round; stroke-width:2; stroke-opacity:0.1; fill:none\" points=\"\n",
       "  503.804,1423.18 503.804,47.2441 \n",
       "  \"/>\n",
       "<polyline clip-path=\"url(#clip932)\" style=\"stroke:#000000; stroke-linecap:butt; stroke-linejoin:round; stroke-width:2; stroke-opacity:0.1; fill:none\" points=\"\n",
       "  950.951,1423.18 950.951,47.2441 \n",
       "  \"/>\n",
       "<polyline clip-path=\"url(#clip932)\" style=\"stroke:#000000; stroke-linecap:butt; stroke-linejoin:round; stroke-width:2; stroke-opacity:0.1; fill:none\" points=\"\n",
       "  1398.1,1423.18 1398.1,47.2441 \n",
       "  \"/>\n",
       "<polyline clip-path=\"url(#clip932)\" style=\"stroke:#000000; stroke-linecap:butt; stroke-linejoin:round; stroke-width:2; stroke-opacity:0.1; fill:none\" points=\"\n",
       "  1845.24,1423.18 1845.24,47.2441 \n",
       "  \"/>\n",
       "<polyline clip-path=\"url(#clip932)\" style=\"stroke:#000000; stroke-linecap:butt; stroke-linejoin:round; stroke-width:2; stroke-opacity:0.1; fill:none\" points=\"\n",
       "  2292.39,1423.18 2292.39,47.2441 \n",
       "  \"/>\n",
       "<polyline clip-path=\"url(#clip930)\" style=\"stroke:#000000; stroke-linecap:butt; stroke-linejoin:round; stroke-width:4; stroke-opacity:1; fill:none\" points=\"\n",
       "  219.866,1423.18 2352.76,1423.18 \n",
       "  \"/>\n",
       "<polyline clip-path=\"url(#clip930)\" style=\"stroke:#000000; stroke-linecap:butt; stroke-linejoin:round; stroke-width:4; stroke-opacity:1; fill:none\" points=\"\n",
       "  503.804,1423.18 503.804,1404.28 \n",
       "  \"/>\n",
       "<polyline clip-path=\"url(#clip930)\" style=\"stroke:#000000; stroke-linecap:butt; stroke-linejoin:round; stroke-width:4; stroke-opacity:1; fill:none\" points=\"\n",
       "  950.951,1423.18 950.951,1404.28 \n",
       "  \"/>\n",
       "<polyline clip-path=\"url(#clip930)\" style=\"stroke:#000000; stroke-linecap:butt; stroke-linejoin:round; stroke-width:4; stroke-opacity:1; fill:none\" points=\"\n",
       "  1398.1,1423.18 1398.1,1404.28 \n",
       "  \"/>\n",
       "<polyline clip-path=\"url(#clip930)\" style=\"stroke:#000000; stroke-linecap:butt; stroke-linejoin:round; stroke-width:4; stroke-opacity:1; fill:none\" points=\"\n",
       "  1845.24,1423.18 1845.24,1404.28 \n",
       "  \"/>\n",
       "<polyline clip-path=\"url(#clip930)\" style=\"stroke:#000000; stroke-linecap:butt; stroke-linejoin:round; stroke-width:4; stroke-opacity:1; fill:none\" points=\"\n",
       "  2292.39,1423.18 2292.39,1404.28 \n",
       "  \"/>\n",
       "<path clip-path=\"url(#clip930)\" d=\"M481.987 1454.1 Q478.376 1454.1 476.548 1457.66 Q474.742 1461.2 474.742 1468.33 Q474.742 1475.44 476.548 1479.01 Q478.376 1482.55 481.987 1482.55 Q485.622 1482.55 487.427 1479.01 Q489.256 1475.44 489.256 1468.33 Q489.256 1461.2 487.427 1457.66 Q485.622 1454.1 481.987 1454.1 M481.987 1450.39 Q487.798 1450.39 490.853 1455 Q493.932 1459.58 493.932 1468.33 Q493.932 1477.06 490.853 1481.67 Q487.798 1486.25 481.987 1486.25 Q476.177 1486.25 473.099 1481.67 Q470.043 1477.06 470.043 1468.33 Q470.043 1459.58 473.099 1455 Q476.177 1450.39 481.987 1450.39 Z\" fill=\"#000000\" fill-rule=\"evenodd\" fill-opacity=\"1\" /><path clip-path=\"url(#clip930)\" d=\"M502.149 1479.7 L507.034 1479.7 L507.034 1485.58 L502.149 1485.58 L502.149 1479.7 Z\" fill=\"#000000\" fill-rule=\"evenodd\" fill-opacity=\"1\" /><path clip-path=\"url(#clip930)\" d=\"M521.246 1481.64 L537.566 1481.64 L537.566 1485.58 L515.621 1485.58 L515.621 1481.64 Q518.283 1478.89 522.867 1474.26 Q527.473 1469.61 528.654 1468.27 Q530.899 1465.74 531.779 1464.01 Q532.682 1462.25 532.682 1460.56 Q532.682 1457.8 530.737 1456.07 Q528.816 1454.33 525.714 1454.33 Q523.515 1454.33 521.061 1455.09 Q518.631 1455.86 515.853 1457.41 L515.853 1452.69 Q518.677 1451.55 521.131 1450.97 Q523.584 1450.39 525.621 1450.39 Q530.992 1450.39 534.186 1453.08 Q537.381 1455.77 537.381 1460.26 Q537.381 1462.39 536.57 1464.31 Q535.783 1466.2 533.677 1468.8 Q533.098 1469.47 529.996 1472.69 Q526.895 1475.88 521.246 1481.64 Z\" fill=\"#000000\" fill-rule=\"evenodd\" fill-opacity=\"1\" /><path clip-path=\"url(#clip930)\" d=\"M928.092 1454.1 Q924.481 1454.1 922.653 1457.66 Q920.847 1461.2 920.847 1468.33 Q920.847 1475.44 922.653 1479.01 Q924.481 1482.55 928.092 1482.55 Q931.727 1482.55 933.532 1479.01 Q935.361 1475.44 935.361 1468.33 Q935.361 1461.2 933.532 1457.66 Q931.727 1454.1 928.092 1454.1 M928.092 1450.39 Q933.903 1450.39 936.958 1455 Q940.037 1459.58 940.037 1468.33 Q940.037 1477.06 936.958 1481.67 Q933.903 1486.25 928.092 1486.25 Q922.282 1486.25 919.204 1481.67 Q916.148 1477.06 916.148 1468.33 Q916.148 1459.58 919.204 1455 Q922.282 1450.39 928.092 1450.39 Z\" fill=\"#000000\" fill-rule=\"evenodd\" fill-opacity=\"1\" /><path clip-path=\"url(#clip930)\" d=\"M948.254 1479.7 L953.139 1479.7 L953.139 1485.58 L948.254 1485.58 L948.254 1479.7 Z\" fill=\"#000000\" fill-rule=\"evenodd\" fill-opacity=\"1\" /><path clip-path=\"url(#clip930)\" d=\"M976.171 1455.09 L964.365 1473.54 L976.171 1473.54 L976.171 1455.09 M974.944 1451.02 L980.824 1451.02 L980.824 1473.54 L985.754 1473.54 L985.754 1477.43 L980.824 1477.43 L980.824 1485.58 L976.171 1485.58 L976.171 1477.43 L960.569 1477.43 L960.569 1472.92 L974.944 1451.02 Z\" fill=\"#000000\" fill-rule=\"evenodd\" fill-opacity=\"1\" /><path clip-path=\"url(#clip930)\" d=\"M1375.4 1454.1 Q1371.79 1454.1 1369.96 1457.66 Q1368.16 1461.2 1368.16 1468.33 Q1368.16 1475.44 1369.96 1479.01 Q1371.79 1482.55 1375.4 1482.55 Q1379.04 1482.55 1380.84 1479.01 Q1382.67 1475.44 1382.67 1468.33 Q1382.67 1461.2 1380.84 1457.66 Q1379.04 1454.1 1375.4 1454.1 M1375.4 1450.39 Q1381.21 1450.39 1384.27 1455 Q1387.35 1459.58 1387.35 1468.33 Q1387.35 1477.06 1384.27 1481.67 Q1381.21 1486.25 1375.4 1486.25 Q1369.59 1486.25 1366.51 1481.67 Q1363.46 1477.06 1363.46 1468.33 Q1363.46 1459.58 1366.51 1455 Q1369.59 1450.39 1375.4 1450.39 Z\" fill=\"#000000\" fill-rule=\"evenodd\" fill-opacity=\"1\" /><path clip-path=\"url(#clip930)\" d=\"M1395.56 1479.7 L1400.45 1479.7 L1400.45 1485.58 L1395.56 1485.58 L1395.56 1479.7 Z\" fill=\"#000000\" fill-rule=\"evenodd\" fill-opacity=\"1\" /><path clip-path=\"url(#clip930)\" d=\"M1421.21 1466.44 Q1418.06 1466.44 1416.21 1468.59 Q1414.38 1470.74 1414.38 1474.49 Q1414.38 1478.22 1416.21 1480.39 Q1418.06 1482.55 1421.21 1482.55 Q1424.36 1482.55 1426.19 1480.39 Q1428.04 1478.22 1428.04 1474.49 Q1428.04 1470.74 1426.19 1468.59 Q1424.36 1466.44 1421.21 1466.44 M1430.49 1451.78 L1430.49 1456.04 Q1428.73 1455.21 1426.93 1454.77 Q1425.15 1454.33 1423.39 1454.33 Q1418.76 1454.33 1416.3 1457.45 Q1413.87 1460.58 1413.53 1466.9 Q1414.89 1464.89 1416.95 1463.82 Q1419.01 1462.73 1421.49 1462.73 Q1426.7 1462.73 1429.71 1465.9 Q1432.74 1469.05 1432.74 1474.49 Q1432.74 1479.82 1429.59 1483.03 Q1426.44 1486.25 1421.21 1486.25 Q1415.22 1486.25 1412.04 1481.67 Q1408.87 1477.06 1408.87 1468.33 Q1408.87 1460.14 1412.76 1455.28 Q1416.65 1450.39 1423.2 1450.39 Q1424.96 1450.39 1426.74 1450.74 Q1428.55 1451.09 1430.49 1451.78 Z\" fill=\"#000000\" fill-rule=\"evenodd\" fill-opacity=\"1\" /><path clip-path=\"url(#clip930)\" d=\"M1822.68 1454.1 Q1819.06 1454.1 1817.24 1457.66 Q1815.43 1461.2 1815.43 1468.33 Q1815.43 1475.44 1817.24 1479.01 Q1819.06 1482.55 1822.68 1482.55 Q1826.31 1482.55 1828.11 1479.01 Q1829.94 1475.44 1829.94 1468.33 Q1829.94 1461.2 1828.11 1457.66 Q1826.31 1454.1 1822.68 1454.1 M1822.68 1450.39 Q1828.49 1450.39 1831.54 1455 Q1834.62 1459.58 1834.62 1468.33 Q1834.62 1477.06 1831.54 1481.67 Q1828.49 1486.25 1822.68 1486.25 Q1816.86 1486.25 1813.79 1481.67 Q1810.73 1477.06 1810.73 1468.33 Q1810.73 1459.58 1813.79 1455 Q1816.86 1450.39 1822.68 1450.39 Z\" fill=\"#000000\" fill-rule=\"evenodd\" fill-opacity=\"1\" /><path clip-path=\"url(#clip930)\" d=\"M1842.84 1479.7 L1847.72 1479.7 L1847.72 1485.58 L1842.84 1485.58 L1842.84 1479.7 Z\" fill=\"#000000\" fill-rule=\"evenodd\" fill-opacity=\"1\" /><path clip-path=\"url(#clip930)\" d=\"M1867.91 1469.17 Q1864.57 1469.17 1862.65 1470.95 Q1860.75 1472.73 1860.75 1475.86 Q1860.75 1478.98 1862.65 1480.77 Q1864.57 1482.55 1867.91 1482.55 Q1871.24 1482.55 1873.16 1480.77 Q1875.08 1478.96 1875.08 1475.86 Q1875.08 1472.73 1873.16 1470.95 Q1871.26 1469.17 1867.91 1469.17 M1863.23 1467.18 Q1860.22 1466.44 1858.53 1464.38 Q1856.86 1462.32 1856.86 1459.35 Q1856.86 1455.21 1859.8 1452.8 Q1862.77 1450.39 1867.91 1450.39 Q1873.07 1450.39 1876.01 1452.8 Q1878.95 1455.21 1878.95 1459.35 Q1878.95 1462.32 1877.26 1464.38 Q1875.59 1466.44 1872.61 1467.18 Q1875.99 1467.96 1877.86 1470.26 Q1879.76 1472.55 1879.76 1475.86 Q1879.76 1480.88 1876.68 1483.57 Q1873.62 1486.25 1867.91 1486.25 Q1862.19 1486.25 1859.11 1483.57 Q1856.05 1480.88 1856.05 1475.86 Q1856.05 1472.55 1857.95 1470.26 Q1859.85 1467.96 1863.23 1467.18 M1861.52 1459.79 Q1861.52 1462.48 1863.18 1463.98 Q1864.87 1465.49 1867.91 1465.49 Q1870.92 1465.49 1872.61 1463.98 Q1874.32 1462.48 1874.32 1459.79 Q1874.32 1457.11 1872.61 1455.6 Q1870.92 1454.1 1867.91 1454.1 Q1864.87 1454.1 1863.18 1455.6 Q1861.52 1457.11 1861.52 1459.79 Z\" fill=\"#000000\" fill-rule=\"evenodd\" fill-opacity=\"1\" /><path clip-path=\"url(#clip930)\" d=\"M2259.54 1481.64 L2267.18 1481.64 L2267.18 1455.28 L2258.87 1456.95 L2258.87 1452.69 L2267.14 1451.02 L2271.81 1451.02 L2271.81 1481.64 L2279.45 1481.64 L2279.45 1485.58 L2259.54 1485.58 L2259.54 1481.64 Z\" fill=\"#000000\" fill-rule=\"evenodd\" fill-opacity=\"1\" /><path clip-path=\"url(#clip930)\" d=\"M2288.9 1479.7 L2293.78 1479.7 L2293.78 1485.58 L2288.9 1485.58 L2288.9 1479.7 Z\" fill=\"#000000\" fill-rule=\"evenodd\" fill-opacity=\"1\" /><path clip-path=\"url(#clip930)\" d=\"M2313.97 1454.1 Q2310.35 1454.1 2308.53 1457.66 Q2306.72 1461.2 2306.72 1468.33 Q2306.72 1475.44 2308.53 1479.01 Q2310.35 1482.55 2313.97 1482.55 Q2317.6 1482.55 2319.4 1479.01 Q2321.23 1475.44 2321.23 1468.33 Q2321.23 1461.2 2319.4 1457.66 Q2317.6 1454.1 2313.97 1454.1 M2313.97 1450.39 Q2319.78 1450.39 2322.83 1455 Q2325.91 1459.58 2325.91 1468.33 Q2325.91 1477.06 2322.83 1481.67 Q2319.78 1486.25 2313.97 1486.25 Q2308.15 1486.25 2305.08 1481.67 Q2302.02 1477.06 2302.02 1468.33 Q2302.02 1459.58 2305.08 1455 Q2308.15 1450.39 2313.97 1450.39 Z\" fill=\"#000000\" fill-rule=\"evenodd\" fill-opacity=\"1\" /><path clip-path=\"url(#clip930)\" d=\"M1000.22 1520.52 L1009.8 1520.52 L1021.93 1552.86 L1034.12 1520.52 L1043.7 1520.52 L1043.7 1568.04 L1037.43 1568.04 L1037.43 1526.32 L1025.17 1558.91 L1018.71 1558.91 L1006.46 1526.32 L1006.46 1568.04 L1000.22 1568.04 L1000.22 1520.52 Z\" fill=\"#000000\" fill-rule=\"evenodd\" fill-opacity=\"1\" /><path clip-path=\"url(#clip930)\" d=\"M1056.21 1532.4 L1062.06 1532.4 L1062.06 1568.04 L1056.21 1568.04 L1056.21 1532.4 M1056.21 1518.52 L1062.06 1518.52 L1062.06 1525.93 L1056.21 1525.93 L1056.21 1518.52 Z\" fill=\"#000000\" fill-rule=\"evenodd\" fill-opacity=\"1\" /><path clip-path=\"url(#clip930)\" d=\"M1103.95 1532.4 L1091.06 1549.74 L1104.62 1568.04 L1097.71 1568.04 L1087.34 1554.04 L1076.96 1568.04 L1070.05 1568.04 L1083.9 1549.39 L1071.23 1532.4 L1078.14 1532.4 L1087.59 1545.1 L1097.04 1532.4 L1103.95 1532.4 Z\" fill=\"#000000\" fill-rule=\"evenodd\" fill-opacity=\"1\" /><path clip-path=\"url(#clip930)\" d=\"M1112.89 1532.4 L1118.75 1532.4 L1118.75 1568.04 L1112.89 1568.04 L1112.89 1532.4 M1112.89 1518.52 L1118.75 1518.52 L1118.75 1525.93 L1112.89 1525.93 L1112.89 1518.52 Z\" fill=\"#000000\" fill-rule=\"evenodd\" fill-opacity=\"1\" /><path clip-path=\"url(#clip930)\" d=\"M1160.64 1546.53 L1160.64 1568.04 L1154.78 1568.04 L1154.78 1546.72 Q1154.78 1541.66 1152.81 1539.14 Q1150.83 1536.63 1146.89 1536.63 Q1142.14 1536.63 1139.41 1539.65 Q1136.67 1542.68 1136.67 1547.9 L1136.67 1568.04 L1130.78 1568.04 L1130.78 1532.4 L1136.67 1532.4 L1136.67 1537.93 Q1138.77 1534.72 1141.6 1533.13 Q1144.47 1531.54 1148.19 1531.54 Q1154.33 1531.54 1157.49 1535.36 Q1160.64 1539.14 1160.64 1546.53 Z\" fill=\"#000000\" fill-rule=\"evenodd\" fill-opacity=\"1\" /><path clip-path=\"url(#clip930)\" d=\"M1195.77 1549.81 Q1195.77 1543.44 1193.13 1539.94 Q1190.52 1536.44 1185.78 1536.44 Q1181.07 1536.44 1178.43 1539.94 Q1175.82 1543.44 1175.82 1549.81 Q1175.82 1556.14 1178.43 1559.64 Q1181.07 1563.14 1185.78 1563.14 Q1190.52 1563.14 1193.13 1559.64 Q1195.77 1556.14 1195.77 1549.81 M1201.63 1563.62 Q1201.63 1572.72 1197.59 1577.15 Q1193.55 1581.6 1185.21 1581.6 Q1182.12 1581.6 1179.38 1581.13 Q1176.65 1580.68 1174.07 1579.72 L1174.07 1574.03 Q1176.65 1575.43 1179.16 1576.1 Q1181.67 1576.76 1184.28 1576.76 Q1190.05 1576.76 1192.91 1573.74 Q1195.77 1570.75 1195.77 1564.67 L1195.77 1561.77 Q1193.96 1564.92 1191.13 1566.48 Q1188.3 1568.04 1184.35 1568.04 Q1177.79 1568.04 1173.78 1563.05 Q1169.77 1558.05 1169.77 1549.81 Q1169.77 1541.53 1173.78 1536.53 Q1177.79 1531.54 1184.35 1531.54 Q1188.3 1531.54 1191.13 1533.1 Q1193.96 1534.66 1195.77 1537.81 L1195.77 1532.4 L1201.63 1532.4 L1201.63 1563.62 Z\" fill=\"#000000\" fill-rule=\"evenodd\" fill-opacity=\"1\" /><path clip-path=\"url(#clip930)\" d=\"M1240.08 1562.7 L1240.08 1581.6 L1234.19 1581.6 L1234.19 1532.4 L1240.08 1532.4 L1240.08 1537.81 Q1241.93 1534.62 1244.73 1533.1 Q1247.56 1531.54 1251.47 1531.54 Q1257.97 1531.54 1262.01 1536.69 Q1266.08 1541.85 1266.08 1550.25 Q1266.08 1558.65 1262.01 1563.81 Q1257.97 1568.97 1251.47 1568.97 Q1247.56 1568.97 1244.73 1567.44 Q1241.93 1565.88 1240.08 1562.7 M1260 1550.25 Q1260 1543.79 1257.33 1540.13 Q1254.69 1536.44 1250.04 1536.44 Q1245.4 1536.44 1242.72 1540.13 Q1240.08 1543.79 1240.08 1550.25 Q1240.08 1556.71 1242.72 1560.4 Q1245.4 1564.07 1250.04 1564.07 Q1254.69 1564.07 1257.33 1560.4 Q1260 1556.71 1260 1550.25 Z\" fill=\"#000000\" fill-rule=\"evenodd\" fill-opacity=\"1\" /><path clip-path=\"url(#clip930)\" d=\"M1291.99 1550.12 Q1284.89 1550.12 1282.16 1551.75 Q1279.42 1553.37 1279.42 1557.29 Q1279.42 1560.4 1281.46 1562.25 Q1283.53 1564.07 1287.06 1564.07 Q1291.93 1564.07 1294.86 1560.63 Q1297.82 1557.16 1297.82 1551.43 L1297.82 1550.12 L1291.99 1550.12 M1303.67 1547.71 L1303.67 1568.04 L1297.82 1568.04 L1297.82 1562.63 Q1295.81 1565.88 1292.82 1567.44 Q1289.83 1568.97 1285.5 1568.97 Q1280.02 1568.97 1276.78 1565.91 Q1273.56 1562.82 1273.56 1557.67 Q1273.56 1551.65 1277.57 1548.6 Q1281.62 1545.54 1289.61 1545.54 L1297.82 1545.54 L1297.82 1544.97 Q1297.82 1540.93 1295.14 1538.73 Q1292.5 1536.5 1287.7 1536.5 Q1284.64 1536.5 1281.74 1537.23 Q1278.85 1537.97 1276.17 1539.43 L1276.17 1534.02 Q1279.39 1532.78 1282.41 1532.17 Q1285.44 1531.54 1288.3 1531.54 Q1296.03 1531.54 1299.85 1535.55 Q1303.67 1539.56 1303.67 1547.71 Z\" fill=\"#000000\" fill-rule=\"evenodd\" fill-opacity=\"1\" /><path clip-path=\"url(#clip930)\" d=\"M1336.39 1537.87 Q1335.41 1537.3 1334.23 1537.04 Q1333.08 1536.76 1331.68 1536.76 Q1326.72 1536.76 1324.04 1540 Q1321.4 1543.22 1321.4 1549.27 L1321.4 1568.04 L1315.51 1568.04 L1315.51 1532.4 L1321.4 1532.4 L1321.4 1537.93 Q1323.25 1534.69 1326.21 1533.13 Q1329.17 1531.54 1333.4 1531.54 Q1334.01 1531.54 1334.74 1531.63 Q1335.47 1531.7 1336.36 1531.85 L1336.39 1537.87 Z\" fill=\"#000000\" fill-rule=\"evenodd\" fill-opacity=\"1\" /><path clip-path=\"url(#clip930)\" d=\"M1358.74 1550.12 Q1351.64 1550.12 1348.9 1551.75 Q1346.16 1553.37 1346.16 1557.29 Q1346.16 1560.4 1348.2 1562.25 Q1350.27 1564.07 1353.8 1564.07 Q1358.67 1564.07 1361.6 1560.63 Q1364.56 1557.16 1364.56 1551.43 L1364.56 1550.12 L1358.74 1550.12 M1370.42 1547.71 L1370.42 1568.04 L1364.56 1568.04 L1364.56 1562.63 Q1362.56 1565.88 1359.56 1567.44 Q1356.57 1568.97 1352.24 1568.97 Q1346.77 1568.97 1343.52 1565.91 Q1340.31 1562.82 1340.31 1557.67 Q1340.31 1551.65 1344.32 1548.6 Q1348.36 1545.54 1356.35 1545.54 L1364.56 1545.54 L1364.56 1544.97 Q1364.56 1540.93 1361.89 1538.73 Q1359.25 1536.5 1354.44 1536.5 Q1351.38 1536.5 1348.49 1537.23 Q1345.59 1537.97 1342.92 1539.43 L1342.92 1534.02 Q1346.13 1532.78 1349.16 1532.17 Q1352.18 1531.54 1355.04 1531.54 Q1362.78 1531.54 1366.6 1535.55 Q1370.42 1539.56 1370.42 1547.71 Z\" fill=\"#000000\" fill-rule=\"evenodd\" fill-opacity=\"1\" /><path clip-path=\"url(#clip930)\" d=\"M1410.24 1539.24 Q1412.43 1535.29 1415.49 1533.41 Q1418.54 1531.54 1422.68 1531.54 Q1428.25 1531.54 1431.27 1535.45 Q1434.3 1539.33 1434.3 1546.53 L1434.3 1568.04 L1428.41 1568.04 L1428.41 1546.72 Q1428.41 1541.59 1426.6 1539.11 Q1424.78 1536.63 1421.06 1536.63 Q1416.51 1536.63 1413.86 1539.65 Q1411.22 1542.68 1411.22 1547.9 L1411.22 1568.04 L1405.33 1568.04 L1405.33 1546.72 Q1405.33 1541.56 1403.52 1539.11 Q1401.71 1536.63 1397.92 1536.63 Q1393.43 1536.63 1390.79 1539.68 Q1388.15 1542.71 1388.15 1547.9 L1388.15 1568.04 L1382.26 1568.04 L1382.26 1532.4 L1388.15 1532.4 L1388.15 1537.93 Q1390.15 1534.66 1392.95 1533.1 Q1395.75 1531.54 1399.6 1531.54 Q1403.49 1531.54 1406.19 1533.51 Q1408.93 1535.48 1410.24 1539.24 Z\" fill=\"#000000\" fill-rule=\"evenodd\" fill-opacity=\"1\" /><path clip-path=\"url(#clip930)\" d=\"M1476.47 1548.76 L1476.47 1551.62 L1449.54 1551.62 Q1449.93 1557.67 1453.17 1560.85 Q1456.45 1564 1462.28 1564 Q1465.65 1564 1468.8 1563.17 Q1471.98 1562.35 1475.1 1560.69 L1475.1 1566.23 Q1471.95 1567.57 1468.64 1568.27 Q1465.33 1568.97 1461.93 1568.97 Q1453.39 1568.97 1448.4 1564 Q1443.43 1559.04 1443.43 1550.57 Q1443.43 1541.82 1448.14 1536.69 Q1452.89 1531.54 1460.91 1531.54 Q1468.1 1531.54 1472.27 1536.18 Q1476.47 1540.8 1476.47 1548.76 M1470.61 1547.04 Q1470.55 1542.23 1467.91 1539.37 Q1465.3 1536.5 1460.97 1536.5 Q1456.07 1536.5 1453.11 1539.27 Q1450.18 1542.04 1449.73 1547.07 L1470.61 1547.04 Z\" fill=\"#000000\" fill-rule=\"evenodd\" fill-opacity=\"1\" /><path clip-path=\"url(#clip930)\" d=\"M1491.88 1522.27 L1491.88 1532.4 L1503.94 1532.4 L1503.94 1536.95 L1491.88 1536.95 L1491.88 1556.3 Q1491.88 1560.66 1493.05 1561.9 Q1494.26 1563.14 1497.92 1563.14 L1503.94 1563.14 L1503.94 1568.04 L1497.92 1568.04 Q1491.14 1568.04 1488.57 1565.53 Q1485.99 1562.98 1485.99 1556.3 L1485.99 1536.95 L1481.69 1536.95 L1481.69 1532.4 L1485.99 1532.4 L1485.99 1522.27 L1491.88 1522.27 Z\" fill=\"#000000\" fill-rule=\"evenodd\" fill-opacity=\"1\" /><path clip-path=\"url(#clip930)\" d=\"M1542.13 1548.76 L1542.13 1551.62 L1515.21 1551.62 Q1515.59 1557.67 1518.83 1560.85 Q1522.11 1564 1527.94 1564 Q1531.31 1564 1534.46 1563.17 Q1537.65 1562.35 1540.76 1560.69 L1540.76 1566.23 Q1537.61 1567.57 1534.3 1568.27 Q1530.99 1568.97 1527.59 1568.97 Q1519.06 1568.97 1514.06 1564 Q1509.09 1559.04 1509.09 1550.57 Q1509.09 1541.82 1513.81 1536.69 Q1518.55 1531.54 1526.57 1531.54 Q1533.76 1531.54 1537.93 1536.18 Q1542.13 1540.8 1542.13 1548.76 M1536.28 1547.04 Q1536.21 1542.23 1533.57 1539.37 Q1530.96 1536.5 1526.63 1536.5 Q1521.73 1536.5 1518.77 1539.27 Q1515.84 1542.04 1515.4 1547.07 L1536.28 1547.04 Z\" fill=\"#000000\" fill-rule=\"evenodd\" fill-opacity=\"1\" /><path clip-path=\"url(#clip930)\" d=\"M1572.4 1537.87 Q1571.42 1537.3 1570.24 1537.04 Q1569.09 1536.76 1567.69 1536.76 Q1562.73 1536.76 1560.05 1540 Q1557.41 1543.22 1557.41 1549.27 L1557.41 1568.04 L1551.52 1568.04 L1551.52 1532.4 L1557.41 1532.4 L1557.41 1537.93 Q1559.26 1534.69 1562.22 1533.13 Q1565.18 1531.54 1569.41 1531.54 Q1570.01 1531.54 1570.75 1531.63 Q1571.48 1531.7 1572.37 1531.85 L1572.4 1537.87 Z\" fill=\"#000000\" fill-rule=\"evenodd\" fill-opacity=\"1\" /><polyline clip-path=\"url(#clip932)\" style=\"stroke:#000000; stroke-linecap:butt; stroke-linejoin:round; stroke-width:2; stroke-opacity:0.1; fill:none\" points=\"\n",
       "  219.866,1133.03 2352.76,1133.03 \n",
       "  \"/>\n",
       "<polyline clip-path=\"url(#clip932)\" style=\"stroke:#000000; stroke-linecap:butt; stroke-linejoin:round; stroke-width:2; stroke-opacity:0.1; fill:none\" points=\"\n",
       "  219.866,818.417 2352.76,818.417 \n",
       "  \"/>\n",
       "<polyline clip-path=\"url(#clip932)\" style=\"stroke:#000000; stroke-linecap:butt; stroke-linejoin:round; stroke-width:2; stroke-opacity:0.1; fill:none\" points=\"\n",
       "  219.866,503.802 2352.76,503.802 \n",
       "  \"/>\n",
       "<polyline clip-path=\"url(#clip932)\" style=\"stroke:#000000; stroke-linecap:butt; stroke-linejoin:round; stroke-width:2; stroke-opacity:0.1; fill:none\" points=\"\n",
       "  219.866,189.188 2352.76,189.188 \n",
       "  \"/>\n",
       "<polyline clip-path=\"url(#clip930)\" style=\"stroke:#000000; stroke-linecap:butt; stroke-linejoin:round; stroke-width:4; stroke-opacity:1; fill:none\" points=\"\n",
       "  219.866,1423.18 219.866,47.2441 \n",
       "  \"/>\n",
       "<polyline clip-path=\"url(#clip930)\" style=\"stroke:#000000; stroke-linecap:butt; stroke-linejoin:round; stroke-width:4; stroke-opacity:1; fill:none\" points=\"\n",
       "  219.866,1133.03 238.764,1133.03 \n",
       "  \"/>\n",
       "<polyline clip-path=\"url(#clip930)\" style=\"stroke:#000000; stroke-linecap:butt; stroke-linejoin:round; stroke-width:4; stroke-opacity:1; fill:none\" points=\"\n",
       "  219.866,818.417 238.764,818.417 \n",
       "  \"/>\n",
       "<polyline clip-path=\"url(#clip930)\" style=\"stroke:#000000; stroke-linecap:butt; stroke-linejoin:round; stroke-width:4; stroke-opacity:1; fill:none\" points=\"\n",
       "  219.866,503.802 238.764,503.802 \n",
       "  \"/>\n",
       "<polyline clip-path=\"url(#clip930)\" style=\"stroke:#000000; stroke-linecap:butt; stroke-linejoin:round; stroke-width:4; stroke-opacity:1; fill:none\" points=\"\n",
       "  219.866,189.188 238.764,189.188 \n",
       "  \"/>\n",
       "<path clip-path=\"url(#clip930)\" d=\"M128.288 1118.83 Q124.677 1118.83 122.848 1122.39 Q121.043 1125.94 121.043 1133.07 Q121.043 1140.17 122.848 1143.74 Q124.677 1147.28 128.288 1147.28 Q131.922 1147.28 133.728 1143.74 Q135.556 1140.17 135.556 1133.07 Q135.556 1125.94 133.728 1122.39 Q131.922 1118.83 128.288 1118.83 M128.288 1115.13 Q134.098 1115.13 137.154 1119.73 Q140.232 1124.32 140.232 1133.07 Q140.232 1141.79 137.154 1146.4 Q134.098 1150.98 128.288 1150.98 Q122.478 1150.98 119.399 1146.4 Q116.343 1141.79 116.343 1133.07 Q116.343 1124.32 119.399 1119.73 Q122.478 1115.13 128.288 1115.13 Z\" fill=\"#000000\" fill-rule=\"evenodd\" fill-opacity=\"1\" /><path clip-path=\"url(#clip930)\" d=\"M148.45 1144.43 L153.334 1144.43 L153.334 1150.31 L148.45 1150.31 L148.45 1144.43 Z\" fill=\"#000000\" fill-rule=\"evenodd\" fill-opacity=\"1\" /><path clip-path=\"url(#clip930)\" d=\"M167.547 1146.38 L183.866 1146.38 L183.866 1150.31 L161.922 1150.31 L161.922 1146.38 Q164.584 1143.62 169.167 1138.99 Q173.774 1134.34 174.954 1133 Q177.2 1130.47 178.079 1128.74 Q178.982 1126.98 178.982 1125.29 Q178.982 1122.53 177.038 1120.8 Q175.116 1119.06 172.014 1119.06 Q169.815 1119.06 167.362 1119.83 Q164.931 1120.59 162.153 1122.14 L162.153 1117.42 Q164.977 1116.28 167.431 1115.71 Q169.885 1115.13 171.922 1115.13 Q177.292 1115.13 180.487 1117.81 Q183.681 1120.5 183.681 1124.99 Q183.681 1127.12 182.871 1129.04 Q182.084 1130.94 179.977 1133.53 Q179.399 1134.2 176.297 1137.42 Q173.195 1140.61 167.547 1146.38 Z\" fill=\"#000000\" fill-rule=\"evenodd\" fill-opacity=\"1\" /><path clip-path=\"url(#clip930)\" d=\"M126.205 804.216 Q122.593 804.216 120.765 807.78 Q118.959 811.322 118.959 818.452 Q118.959 825.558 120.765 829.123 Q122.593 832.664 126.205 832.664 Q129.839 832.664 131.644 829.123 Q133.473 825.558 133.473 818.452 Q133.473 811.322 131.644 807.78 Q129.839 804.216 126.205 804.216 M126.205 800.512 Q132.015 800.512 135.07 805.118 Q138.149 809.702 138.149 818.452 Q138.149 827.178 135.07 831.785 Q132.015 836.368 126.205 836.368 Q120.394 836.368 117.316 831.785 Q114.26 827.178 114.26 818.452 Q114.26 809.702 117.316 805.118 Q120.394 800.512 126.205 800.512 Z\" fill=\"#000000\" fill-rule=\"evenodd\" fill-opacity=\"1\" /><path clip-path=\"url(#clip930)\" d=\"M146.366 829.817 L151.251 829.817 L151.251 835.697 L146.366 835.697 L146.366 829.817 Z\" fill=\"#000000\" fill-rule=\"evenodd\" fill-opacity=\"1\" /><path clip-path=\"url(#clip930)\" d=\"M174.283 805.211 L162.477 823.66 L174.283 823.66 L174.283 805.211 M173.056 801.137 L178.936 801.137 L178.936 823.66 L183.866 823.66 L183.866 827.549 L178.936 827.549 L178.936 835.697 L174.283 835.697 L174.283 827.549 L158.681 827.549 L158.681 823.035 L173.056 801.137 Z\" fill=\"#000000\" fill-rule=\"evenodd\" fill-opacity=\"1\" /><path clip-path=\"url(#clip930)\" d=\"M126.529 489.601 Q122.918 489.601 121.089 493.166 Q119.283 496.707 119.283 503.837 Q119.283 510.943 121.089 514.508 Q122.918 518.05 126.529 518.05 Q130.163 518.05 131.968 514.508 Q133.797 510.943 133.797 503.837 Q133.797 496.707 131.968 493.166 Q130.163 489.601 126.529 489.601 M126.529 485.897 Q132.339 485.897 135.394 490.504 Q138.473 495.087 138.473 503.837 Q138.473 512.564 135.394 517.17 Q132.339 521.754 126.529 521.754 Q120.718 521.754 117.64 517.17 Q114.584 512.564 114.584 503.837 Q114.584 495.087 117.64 490.504 Q120.718 485.897 126.529 485.897 Z\" fill=\"#000000\" fill-rule=\"evenodd\" fill-opacity=\"1\" /><path clip-path=\"url(#clip930)\" d=\"M146.691 515.203 L151.575 515.203 L151.575 521.082 L146.691 521.082 L146.691 515.203 Z\" fill=\"#000000\" fill-rule=\"evenodd\" fill-opacity=\"1\" /><path clip-path=\"url(#clip930)\" d=\"M172.339 501.939 Q169.19 501.939 167.339 504.092 Q165.51 506.244 165.51 509.994 Q165.51 513.721 167.339 515.897 Q169.19 518.05 172.339 518.05 Q175.487 518.05 177.315 515.897 Q179.167 513.721 179.167 509.994 Q179.167 506.244 177.315 504.092 Q175.487 501.939 172.339 501.939 M181.621 487.286 L181.621 491.545 Q179.862 490.712 178.056 490.272 Q176.274 489.832 174.514 489.832 Q169.885 489.832 167.431 492.957 Q165.001 496.082 164.653 502.402 Q166.019 500.388 168.079 499.323 Q170.139 498.235 172.616 498.235 Q177.825 498.235 180.834 501.406 Q183.866 504.555 183.866 509.994 Q183.866 515.318 180.718 518.536 Q177.57 521.754 172.339 521.754 Q166.343 521.754 163.172 517.17 Q160.001 512.564 160.001 503.837 Q160.001 495.643 163.89 490.782 Q167.778 485.897 174.329 485.897 Q176.089 485.897 177.871 486.245 Q179.676 486.592 181.621 487.286 Z\" fill=\"#000000\" fill-rule=\"evenodd\" fill-opacity=\"1\" /><path clip-path=\"url(#clip930)\" d=\"M126.783 174.986 Q123.172 174.986 121.343 178.551 Q119.538 182.093 119.538 189.223 Q119.538 196.329 121.343 199.894 Q123.172 203.435 126.783 203.435 Q130.417 203.435 132.223 199.894 Q134.052 196.329 134.052 189.223 Q134.052 182.093 132.223 178.551 Q130.417 174.986 126.783 174.986 M126.783 171.283 Q132.593 171.283 135.649 175.889 Q138.728 180.473 138.728 189.223 Q138.728 197.949 135.649 202.556 Q132.593 207.139 126.783 207.139 Q120.973 207.139 117.894 202.556 Q114.839 197.949 114.839 189.223 Q114.839 180.473 117.894 175.889 Q120.973 171.283 126.783 171.283 Z\" fill=\"#000000\" fill-rule=\"evenodd\" fill-opacity=\"1\" /><path clip-path=\"url(#clip930)\" d=\"M146.945 200.588 L151.829 200.588 L151.829 206.468 L146.945 206.468 L146.945 200.588 Z\" fill=\"#000000\" fill-rule=\"evenodd\" fill-opacity=\"1\" /><path clip-path=\"url(#clip930)\" d=\"M172.014 190.056 Q168.681 190.056 166.76 191.838 Q164.862 193.621 164.862 196.746 Q164.862 199.871 166.76 201.653 Q168.681 203.435 172.014 203.435 Q175.348 203.435 177.269 201.653 Q179.19 199.847 179.19 196.746 Q179.19 193.621 177.269 191.838 Q175.371 190.056 172.014 190.056 M167.339 188.065 Q164.329 187.324 162.64 185.264 Q160.973 183.204 160.973 180.241 Q160.973 176.098 163.913 173.69 Q166.876 171.283 172.014 171.283 Q177.176 171.283 180.116 173.69 Q183.056 176.098 183.056 180.241 Q183.056 183.204 181.366 185.264 Q179.7 187.324 176.714 188.065 Q180.093 188.852 181.968 191.144 Q183.866 193.435 183.866 196.746 Q183.866 201.769 180.788 204.454 Q177.732 207.139 172.014 207.139 Q166.297 207.139 163.218 204.454 Q160.163 201.769 160.163 196.746 Q160.163 193.435 162.061 191.144 Q163.959 188.852 167.339 188.065 M165.626 180.681 Q165.626 183.366 167.292 184.871 Q168.982 186.375 172.014 186.375 Q175.024 186.375 176.714 184.871 Q178.426 183.366 178.426 180.681 Q178.426 177.996 176.714 176.491 Q175.024 174.986 172.014 174.986 Q168.982 174.986 167.292 176.491 Q165.626 177.996 165.626 180.681 Z\" fill=\"#000000\" fill-rule=\"evenodd\" fill-opacity=\"1\" /><path clip-path=\"url(#clip930)\" d=\"M16.4842 1237.77 L16.4842 1229.11 L56.238 1208.04 L16.4842 1208.04 L16.4842 1201.8 L64.0042 1201.8 L64.0042 1210.46 L24.2503 1231.53 L64.0042 1231.53 L64.0042 1237.77 L16.4842 1237.77 Z\" fill=\"#000000\" fill-rule=\"evenodd\" fill-opacity=\"1\" /><path clip-path=\"url(#clip930)\" d=\"M32.4621 1175.45 Q32.4621 1180.16 36.1542 1182.9 Q39.8145 1185.63 46.212 1185.63 Q52.6095 1185.63 56.3017 1182.93 Q59.9619 1180.19 59.9619 1175.45 Q59.9619 1170.77 56.2698 1168.03 Q52.5777 1165.3 46.212 1165.3 Q39.8781 1165.3 36.186 1168.03 Q32.4621 1170.77 32.4621 1175.45 M27.4968 1175.45 Q27.4968 1167.81 32.4621 1163.45 Q37.4273 1159.09 46.212 1159.09 Q54.9649 1159.09 59.9619 1163.45 Q64.9272 1167.81 64.9272 1175.45 Q64.9272 1183.12 59.9619 1187.48 Q54.9649 1191.81 46.212 1191.81 Q37.4273 1191.81 32.4621 1187.48 Q27.4968 1183.12 27.4968 1175.45 Z\" fill=\"#000000\" fill-rule=\"evenodd\" fill-opacity=\"1\" /><path clip-path=\"url(#clip930)\" d=\"M33.8307 1128.72 Q33.2578 1129.71 33.0032 1130.89 Q32.7167 1132.03 32.7167 1133.43 Q32.7167 1138.4 35.9632 1141.07 Q39.1779 1143.72 45.2253 1143.72 L64.0042 1143.72 L64.0042 1149.6 L28.3562 1149.6 L28.3562 1143.72 L33.8944 1143.72 Q30.6479 1141.87 29.0883 1138.91 Q27.4968 1135.95 27.4968 1131.72 Q27.4968 1131.11 27.5923 1130.38 Q27.656 1129.65 27.8151 1128.76 L33.8307 1128.72 Z\" fill=\"#000000\" fill-rule=\"evenodd\" fill-opacity=\"1\" /><path clip-path=\"url(#clip930)\" d=\"M35.1993 1095.97 Q31.2526 1093.78 29.3747 1090.72 Q27.4968 1087.67 27.4968 1083.53 Q27.4968 1077.96 31.4117 1074.93 Q35.2948 1071.91 42.4881 1071.91 L64.0042 1071.91 L64.0042 1077.8 L42.679 1077.8 Q37.5546 1077.8 35.072 1079.61 Q32.5894 1081.43 32.5894 1085.15 Q32.5894 1089.7 35.6131 1092.34 Q38.6368 1094.99 43.8567 1094.99 L64.0042 1094.99 L64.0042 1100.87 L42.679 1100.87 Q37.5228 1100.87 35.072 1102.69 Q32.5894 1104.5 32.5894 1108.29 Q32.5894 1112.78 35.6449 1115.42 Q38.6686 1118.06 43.8567 1118.06 L64.0042 1118.06 L64.0042 1123.95 L28.3562 1123.95 L28.3562 1118.06 L33.8944 1118.06 Q30.616 1116.06 29.0564 1113.26 Q27.4968 1110.45 27.4968 1106.6 Q27.4968 1102.72 29.4702 1100.01 Q31.4436 1097.28 35.1993 1095.97 Z\" fill=\"#000000\" fill-rule=\"evenodd\" fill-opacity=\"1\" /><path clip-path=\"url(#clip930)\" d=\"M46.0847 1044.03 Q46.0847 1051.13 47.7079 1053.86 Q49.3312 1056.6 53.2461 1056.6 Q56.3653 1056.6 58.2114 1054.56 Q60.0256 1052.49 60.0256 1048.96 Q60.0256 1044.09 56.5881 1041.16 Q53.1188 1038.2 47.3897 1038.2 L46.0847 1038.2 L46.0847 1044.03 M43.6657 1032.35 L64.0042 1032.35 L64.0042 1038.2 L58.5933 1038.2 Q61.8398 1040.21 63.3994 1043.2 Q64.9272 1046.19 64.9272 1050.52 Q64.9272 1056 61.8716 1059.24 Q58.7843 1062.46 53.6281 1062.46 Q47.6125 1062.46 44.5569 1058.45 Q41.5014 1054.4 41.5014 1046.42 L41.5014 1038.2 L40.9285 1038.2 Q36.8862 1038.2 34.6901 1040.88 Q32.4621 1043.52 32.4621 1048.33 Q32.4621 1051.38 33.1941 1054.28 Q33.9262 1057.17 35.3903 1059.85 L29.9795 1059.85 Q28.7381 1056.63 28.1334 1053.61 Q27.4968 1050.58 27.4968 1047.72 Q27.4968 1039.99 31.5072 1036.17 Q35.5176 1032.35 43.6657 1032.35 Z\" fill=\"#000000\" fill-rule=\"evenodd\" fill-opacity=\"1\" /><path clip-path=\"url(#clip930)\" d=\"M14.479 1020.28 L14.479 1014.43 L64.0042 1014.43 L64.0042 1020.28 L14.479 1020.28 Z\" fill=\"#000000\" fill-rule=\"evenodd\" fill-opacity=\"1\" /><path clip-path=\"url(#clip930)\" d=\"M28.3562 1002.17 L28.3562 996.317 L64.0042 996.317 L64.0042 1002.17 L28.3562 1002.17 M14.479 1002.17 L14.479 996.317 L21.895 996.317 L21.895 1002.17 L14.479 1002.17 Z\" fill=\"#000000\" fill-rule=\"evenodd\" fill-opacity=\"1\" /><path clip-path=\"url(#clip930)\" d=\"M28.3562 986.61 L28.3562 958.791 L33.7034 958.791 L59.3254 980.817 L59.3254 958.791 L64.0042 958.791 L64.0042 987.405 L58.657 987.405 L33.035 965.38 L33.035 986.61 L28.3562 986.61 Z\" fill=\"#000000\" fill-rule=\"evenodd\" fill-opacity=\"1\" /><path clip-path=\"url(#clip930)\" d=\"M44.7161 919.356 L47.5806 919.356 L47.5806 946.283 Q53.6281 945.901 56.8109 942.654 Q59.9619 939.376 59.9619 933.551 Q59.9619 930.178 59.1344 927.027 Q58.3069 923.844 56.6518 920.725 L62.1899 920.725 Q63.5267 923.876 64.227 927.186 Q64.9272 930.496 64.9272 933.902 Q64.9272 942.432 59.9619 947.429 Q54.9967 952.394 46.5303 952.394 Q37.7774 952.394 32.6531 947.683 Q27.4968 942.941 27.4968 934.92 Q27.4968 927.727 32.1438 923.557 Q36.7589 919.356 44.7161 919.356 M42.9973 925.212 Q38.1912 925.276 35.3266 927.918 Q32.4621 930.528 32.4621 934.856 Q32.4621 939.758 35.2312 942.718 Q38.0002 945.646 43.0292 946.092 L42.9973 925.212 Z\" fill=\"#000000\" fill-rule=\"evenodd\" fill-opacity=\"1\" /><path clip-path=\"url(#clip930)\" d=\"M33.7671 886.286 L14.479 886.286 L14.479 880.43 L64.0042 880.43 L64.0042 886.286 L58.657 886.286 Q61.8398 888.132 63.3994 890.965 Q64.9272 893.766 64.9272 897.713 Q64.9272 904.174 59.771 908.248 Q54.6147 912.29 46.212 912.29 Q37.8093 912.29 32.6531 908.248 Q27.4968 904.174 27.4968 897.713 Q27.4968 893.766 29.0564 890.965 Q30.5842 888.132 33.7671 886.286 M46.212 906.243 Q52.6732 906.243 56.3653 903.601 Q60.0256 900.927 60.0256 896.28 Q60.0256 891.633 56.3653 888.96 Q52.6732 886.286 46.212 886.286 Q39.7508 886.286 36.0905 888.96 Q32.3984 891.633 32.3984 896.28 Q32.3984 900.927 36.0905 903.601 Q39.7508 906.243 46.212 906.243 Z\" fill=\"#000000\" fill-rule=\"evenodd\" fill-opacity=\"1\" /><path clip-path=\"url(#clip930)\" d=\"M35.1993 819.892 Q31.2526 817.696 29.3747 814.64 Q27.4968 811.585 27.4968 807.447 Q27.4968 801.877 31.4117 798.853 Q35.2948 795.829 42.4881 795.829 L64.0042 795.829 L64.0042 801.718 L42.679 801.718 Q37.5546 801.718 35.072 803.532 Q32.5894 805.346 32.5894 809.07 Q32.5894 813.622 35.6131 816.263 Q38.6368 818.905 43.8567 818.905 L64.0042 818.905 L64.0042 824.793 L42.679 824.793 Q37.5228 824.793 35.072 826.608 Q32.5894 828.422 32.5894 832.209 Q32.5894 836.697 35.6449 839.339 Q38.6686 841.981 43.8567 841.981 L64.0042 841.981 L64.0042 847.869 L28.3562 847.869 L28.3562 841.981 L33.8944 841.981 Q30.616 839.976 29.0564 837.175 Q27.4968 834.374 27.4968 830.523 Q27.4968 826.639 29.4702 823.934 Q31.4436 821.197 35.1993 819.892 Z\" fill=\"#000000\" fill-rule=\"evenodd\" fill-opacity=\"1\" /><path clip-path=\"url(#clip930)\" d=\"M49.9359 784.753 L28.3562 784.753 L28.3562 778.897 L49.7131 778.897 Q54.7739 778.897 57.3202 776.923 Q59.8346 774.95 59.8346 771.003 Q59.8346 766.261 56.8109 763.523 Q53.7872 760.754 48.5673 760.754 L28.3562 760.754 L28.3562 754.898 L64.0042 754.898 L64.0042 760.754 L58.5296 760.754 Q61.7762 762.887 63.3676 765.72 Q64.9272 768.521 64.9272 772.244 Q64.9272 778.387 61.1078 781.57 Q57.2883 784.753 49.9359 784.753 M27.4968 770.016 L27.4968 770.016 Z\" fill=\"#000000\" fill-rule=\"evenodd\" fill-opacity=\"1\" /><path clip-path=\"url(#clip930)\" d=\"M18.2347 737.042 L28.3562 737.042 L28.3562 724.979 L32.9077 724.979 L32.9077 737.042 L52.2594 737.042 Q56.6199 737.042 57.8613 735.864 Q59.1026 734.655 59.1026 730.995 L59.1026 724.979 L64.0042 724.979 L64.0042 730.995 Q64.0042 737.774 61.4897 740.352 Q58.9434 742.93 52.2594 742.93 L32.9077 742.93 L32.9077 747.227 L28.3562 747.227 L28.3562 742.93 L18.2347 742.93 L18.2347 737.042 Z\" fill=\"#000000\" fill-rule=\"evenodd\" fill-opacity=\"1\" /><path clip-path=\"url(#clip930)\" d=\"M49.9359 717.881 L28.3562 717.881 L28.3562 712.025 L49.7131 712.025 Q54.7739 712.025 57.3202 710.052 Q59.8346 708.078 59.8346 704.131 Q59.8346 699.389 56.8109 696.652 Q53.7872 693.883 48.5673 693.883 L28.3562 693.883 L28.3562 688.026 L64.0042 688.026 L64.0042 693.883 L58.5296 693.883 Q61.7762 696.015 63.3676 698.848 Q64.9272 701.649 64.9272 705.373 Q64.9272 711.516 61.1078 714.698 Q57.2883 717.881 49.9359 717.881 M27.4968 703.145 L27.4968 703.145 Z\" fill=\"#000000\" fill-rule=\"evenodd\" fill-opacity=\"1\" /><path clip-path=\"url(#clip930)\" d=\"M46.0847 659.762 Q46.0847 666.86 47.7079 669.597 Q49.3312 672.335 53.2461 672.335 Q56.3653 672.335 58.2114 670.298 Q60.0256 668.229 60.0256 664.696 Q60.0256 659.826 56.5881 656.898 Q53.1188 653.938 47.3897 653.938 L46.0847 653.938 L46.0847 659.762 M43.6657 648.081 L64.0042 648.081 L64.0042 653.938 L58.5933 653.938 Q61.8398 655.943 63.3994 658.935 Q64.9272 661.927 64.9272 666.255 Q64.9272 671.73 61.8716 674.976 Q58.7843 678.191 53.6281 678.191 Q47.6125 678.191 44.5569 674.181 Q41.5014 670.139 41.5014 662.15 L41.5014 653.938 L40.9285 653.938 Q36.8862 653.938 34.6901 656.611 Q32.4621 659.253 32.4621 664.059 Q32.4621 667.115 33.1941 670.011 Q33.9262 672.908 35.3903 675.581 L29.9795 675.581 Q28.7381 672.367 28.1334 669.343 Q27.4968 666.319 27.4968 663.455 Q27.4968 655.72 31.5072 651.901 Q35.5176 648.081 43.6657 648.081 Z\" fill=\"#000000\" fill-rule=\"evenodd\" fill-opacity=\"1\" /><path clip-path=\"url(#clip930)\" d=\"M14.479 636.018 L14.479 630.162 L64.0042 630.162 L64.0042 636.018 L14.479 636.018 Z\" fill=\"#000000\" fill-rule=\"evenodd\" fill-opacity=\"1\" /><path clip-path=\"url(#clip930)\" d=\"M28.3562 597.188 L28.3562 591.331 L64.0042 591.331 L64.0042 597.188 L28.3562 597.188 M14.479 597.188 L14.479 591.331 L21.895 591.331 L21.895 597.188 L14.479 597.188 Z\" fill=\"#000000\" fill-rule=\"evenodd\" fill-opacity=\"1\" /><path clip-path=\"url(#clip930)\" d=\"M42.4881 549.445 L64.0042 549.445 L64.0042 555.301 L42.679 555.301 Q37.6183 555.301 35.1038 557.275 Q32.5894 559.248 32.5894 563.195 Q32.5894 567.937 35.6131 570.674 Q38.6368 573.412 43.8567 573.412 L64.0042 573.412 L64.0042 579.3 L28.3562 579.3 L28.3562 573.412 L33.8944 573.412 Q30.6797 571.311 29.0883 568.478 Q27.4968 565.614 27.4968 561.89 Q27.4968 555.747 31.3163 552.596 Q35.1038 549.445 42.4881 549.445 Z\" fill=\"#000000\" fill-rule=\"evenodd\" fill-opacity=\"1\" /><path clip-path=\"url(#clip930)\" d=\"M14.479 519.717 L19.3487 519.717 L19.3487 525.319 Q19.3487 528.47 20.6219 529.711 Q21.895 530.921 25.2052 530.921 L28.3562 530.921 L28.3562 521.276 L32.9077 521.276 L32.9077 530.921 L64.0042 530.921 L64.0042 536.809 L32.9077 536.809 L32.9077 542.411 L28.3562 542.411 L28.3562 536.809 L25.8736 536.809 Q19.9216 536.809 17.2162 534.04 Q14.479 531.271 14.479 525.255 L14.479 519.717 Z\" fill=\"#000000\" fill-rule=\"evenodd\" fill-opacity=\"1\" /><path clip-path=\"url(#clip930)\" d=\"M32.4621 501.002 Q32.4621 505.712 36.1542 508.45 Q39.8145 511.187 46.212 511.187 Q52.6095 511.187 56.3017 508.481 Q59.9619 505.744 59.9619 501.002 Q59.9619 496.323 56.2698 493.586 Q52.5777 490.848 46.212 490.848 Q39.8781 490.848 36.186 493.586 Q32.4621 496.323 32.4621 501.002 M27.4968 501.002 Q27.4968 493.363 32.4621 489.002 Q37.4273 484.642 46.212 484.642 Q54.9649 484.642 59.9619 489.002 Q64.9272 493.363 64.9272 501.002 Q64.9272 508.672 59.9619 513.033 Q54.9649 517.362 46.212 517.362 Q37.4273 517.362 32.4621 513.033 Q27.4968 508.672 27.4968 501.002 Z\" fill=\"#000000\" fill-rule=\"evenodd\" fill-opacity=\"1\" /><path clip-path=\"url(#clip930)\" d=\"M33.8307 454.277 Q33.2578 455.264 33.0032 456.442 Q32.7167 457.588 32.7167 458.988 Q32.7167 463.953 35.9632 466.627 Q39.1779 469.269 45.2253 469.269 L64.0042 469.269 L64.0042 475.157 L28.3562 475.157 L28.3562 469.269 L33.8944 469.269 Q30.6479 467.423 29.0883 464.463 Q27.4968 461.502 27.4968 457.269 Q27.4968 456.665 27.5923 455.933 Q27.656 455.2 27.8151 454.309 L33.8307 454.277 Z\" fill=\"#000000\" fill-rule=\"evenodd\" fill-opacity=\"1\" /><path clip-path=\"url(#clip930)\" d=\"M35.1993 421.526 Q31.2526 419.33 29.3747 416.274 Q27.4968 413.219 27.4968 409.081 Q27.4968 403.511 31.4117 400.487 Q35.2948 397.463 42.4881 397.463 L64.0042 397.463 L64.0042 403.352 L42.679 403.352 Q37.5546 403.352 35.072 405.166 Q32.5894 406.98 32.5894 410.704 Q32.5894 415.256 35.6131 417.897 Q38.6368 420.539 43.8567 420.539 L64.0042 420.539 L64.0042 426.427 L42.679 426.427 Q37.5228 426.427 35.072 428.242 Q32.5894 430.056 32.5894 433.844 Q32.5894 438.331 35.6449 440.973 Q38.6686 443.615 43.8567 443.615 L64.0042 443.615 L64.0042 449.503 L28.3562 449.503 L28.3562 443.615 L33.8944 443.615 Q30.616 441.61 29.0564 438.809 Q27.4968 436.008 27.4968 432.157 Q27.4968 428.274 29.4702 425.568 Q31.4436 422.831 35.1993 421.526 Z\" fill=\"#000000\" fill-rule=\"evenodd\" fill-opacity=\"1\" /><path clip-path=\"url(#clip930)\" d=\"M46.0847 369.582 Q46.0847 376.679 47.7079 379.417 Q49.3312 382.154 53.2461 382.154 Q56.3653 382.154 58.2114 380.117 Q60.0256 378.048 60.0256 374.515 Q60.0256 369.645 56.5881 366.717 Q53.1188 363.757 47.3897 363.757 L46.0847 363.757 L46.0847 369.582 M43.6657 357.901 L64.0042 357.901 L64.0042 363.757 L58.5933 363.757 Q61.8398 365.762 63.3994 368.754 Q64.9272 371.746 64.9272 376.075 Q64.9272 381.549 61.8716 384.796 Q58.7843 388.01 53.6281 388.01 Q47.6125 388.01 44.5569 384 Q41.5014 379.958 41.5014 371.969 L41.5014 363.757 L40.9285 363.757 Q36.8862 363.757 34.6901 366.431 Q32.4621 369.072 32.4621 373.879 Q32.4621 376.934 33.1941 379.83 Q33.9262 382.727 35.3903 385.4 L29.9795 385.4 Q28.7381 382.186 28.1334 379.162 Q27.4968 376.138 27.4968 373.274 Q27.4968 365.539 31.5072 361.72 Q35.5176 357.901 43.6657 357.901 Z\" fill=\"#000000\" fill-rule=\"evenodd\" fill-opacity=\"1\" /><path clip-path=\"url(#clip930)\" d=\"M18.2347 340.045 L28.3562 340.045 L28.3562 327.982 L32.9077 327.982 L32.9077 340.045 L52.2594 340.045 Q56.6199 340.045 57.8613 338.867 Q59.1026 337.658 59.1026 333.997 L59.1026 327.982 L64.0042 327.982 L64.0042 333.997 Q64.0042 340.777 61.4897 343.355 Q58.9434 345.933 52.2594 345.933 L32.9077 345.933 L32.9077 350.23 L28.3562 350.23 L28.3562 345.933 L18.2347 345.933 L18.2347 340.045 Z\" fill=\"#000000\" fill-rule=\"evenodd\" fill-opacity=\"1\" /><path clip-path=\"url(#clip930)\" d=\"M28.3562 320.279 L28.3562 314.423 L64.0042 314.423 L64.0042 320.279 L28.3562 320.279 M14.479 320.279 L14.479 314.423 L21.895 314.423 L21.895 320.279 L14.479 320.279 Z\" fill=\"#000000\" fill-rule=\"evenodd\" fill-opacity=\"1\" /><path clip-path=\"url(#clip930)\" d=\"M32.4621 288.355 Q32.4621 293.066 36.1542 295.803 Q39.8145 298.54 46.212 298.54 Q52.6095 298.54 56.3017 295.835 Q59.9619 293.098 59.9619 288.355 Q59.9619 283.676 56.2698 280.939 Q52.5777 278.202 46.212 278.202 Q39.8781 278.202 36.186 280.939 Q32.4621 283.676 32.4621 288.355 M27.4968 288.355 Q27.4968 280.716 32.4621 276.356 Q37.4273 271.995 46.212 271.995 Q54.9649 271.995 59.9619 276.356 Q64.9272 280.716 64.9272 288.355 Q64.9272 296.026 59.9619 300.386 Q54.9649 304.715 46.212 304.715 Q37.4273 304.715 32.4621 300.386 Q27.4968 296.026 27.4968 288.355 Z\" fill=\"#000000\" fill-rule=\"evenodd\" fill-opacity=\"1\" /><path clip-path=\"url(#clip930)\" d=\"M42.4881 232.655 L64.0042 232.655 L64.0042 238.512 L42.679 238.512 Q37.6183 238.512 35.1038 240.485 Q32.5894 242.459 32.5894 246.405 Q32.5894 251.148 35.6131 253.885 Q38.6368 256.622 43.8567 256.622 L64.0042 256.622 L64.0042 262.511 L28.3562 262.511 L28.3562 256.622 L33.8944 256.622 Q30.6797 254.522 29.0883 251.689 Q27.4968 248.824 27.4968 245.1 Q27.4968 238.957 31.3163 235.806 Q35.1038 232.655 42.4881 232.655 Z\" fill=\"#000000\" fill-rule=\"evenodd\" fill-opacity=\"1\" /><polyline clip-path=\"url(#clip932)\" style=\"stroke:#009af9; stroke-linecap:butt; stroke-linejoin:round; stroke-width:4; stroke-opacity:1; fill:none\" points=\"\n",
       "  280.231,122.865 503.804,111.676 727.378,161.673 950.951,153.763 1174.52,235.471 1398.1,367.062 1621.67,878.943 1845.24,1271.26 2068.82,1337.02 2292.39,1368.51 \n",
       "  \n",
       "  \"/>\n",
       "<polyline clip-path=\"url(#clip932)\" style=\"stroke:#009af9; stroke-linecap:butt; stroke-linejoin:round; stroke-width:4; stroke-opacity:1; fill:none\" points=\"\n",
       "  280.231,130.939 280.231,114.79 \n",
       "  \"/>\n",
       "<polyline clip-path=\"url(#clip932)\" style=\"stroke:#009af9; stroke-linecap:butt; stroke-linejoin:round; stroke-width:4; stroke-opacity:1; fill:none\" points=\"\n",
       "  503.804,137.166 503.804,86.1857 \n",
       "  \"/>\n",
       "<polyline clip-path=\"url(#clip932)\" style=\"stroke:#009af9; stroke-linecap:butt; stroke-linejoin:round; stroke-width:4; stroke-opacity:1; fill:none\" points=\"\n",
       "  727.378,169.758 727.378,153.588 \n",
       "  \"/>\n",
       "<polyline clip-path=\"url(#clip932)\" style=\"stroke:#009af9; stroke-linecap:butt; stroke-linejoin:round; stroke-width:4; stroke-opacity:1; fill:none\" points=\"\n",
       "  950.951,199.551 950.951,107.976 \n",
       "  \"/>\n",
       "<polyline clip-path=\"url(#clip932)\" style=\"stroke:#009af9; stroke-linecap:butt; stroke-linejoin:round; stroke-width:4; stroke-opacity:1; fill:none\" points=\"\n",
       "  1174.52,267.112 1174.52,203.83 \n",
       "  \"/>\n",
       "<polyline clip-path=\"url(#clip932)\" style=\"stroke:#009af9; stroke-linecap:butt; stroke-linejoin:round; stroke-width:4; stroke-opacity:1; fill:none\" points=\"\n",
       "  1398.1,407.731 1398.1,326.394 \n",
       "  \"/>\n",
       "<polyline clip-path=\"url(#clip932)\" style=\"stroke:#009af9; stroke-linecap:butt; stroke-linejoin:round; stroke-width:4; stroke-opacity:1; fill:none\" points=\"\n",
       "  1621.67,955.37 1621.67,802.516 \n",
       "  \"/>\n",
       "<polyline clip-path=\"url(#clip932)\" style=\"stroke:#009af9; stroke-linecap:butt; stroke-linejoin:round; stroke-width:4; stroke-opacity:1; fill:none\" points=\"\n",
       "  1845.24,1275.68 1845.24,1266.83 \n",
       "  \"/>\n",
       "<polyline clip-path=\"url(#clip932)\" style=\"stroke:#009af9; stroke-linecap:butt; stroke-linejoin:round; stroke-width:4; stroke-opacity:1; fill:none\" points=\"\n",
       "  2068.82,1344.27 2068.82,1329.78 \n",
       "  \"/>\n",
       "<polyline clip-path=\"url(#clip932)\" style=\"stroke:#009af9; stroke-linecap:butt; stroke-linejoin:round; stroke-width:4; stroke-opacity:1; fill:none\" points=\"\n",
       "  2292.39,1384.24 2292.39,1352.78 \n",
       "  \"/>\n",
       "<line clip-path=\"url(#clip932)\" x1=\"296.231\" y1=\"130.939\" x2=\"264.231\" y2=\"130.939\" style=\"stroke:#009af9; stroke-width:3.2; stroke-opacity:1\"/>\n",
       "<line clip-path=\"url(#clip932)\" x1=\"296.231\" y1=\"114.79\" x2=\"264.231\" y2=\"114.79\" style=\"stroke:#009af9; stroke-width:3.2; stroke-opacity:1\"/>\n",
       "<line clip-path=\"url(#clip932)\" x1=\"519.804\" y1=\"137.166\" x2=\"487.804\" y2=\"137.166\" style=\"stroke:#009af9; stroke-width:3.2; stroke-opacity:1\"/>\n",
       "<line clip-path=\"url(#clip932)\" x1=\"519.804\" y1=\"86.1857\" x2=\"487.804\" y2=\"86.1857\" style=\"stroke:#009af9; stroke-width:3.2; stroke-opacity:1\"/>\n",
       "<line clip-path=\"url(#clip932)\" x1=\"743.378\" y1=\"169.758\" x2=\"711.378\" y2=\"169.758\" style=\"stroke:#009af9; stroke-width:3.2; stroke-opacity:1\"/>\n",
       "<line clip-path=\"url(#clip932)\" x1=\"743.378\" y1=\"153.588\" x2=\"711.378\" y2=\"153.588\" style=\"stroke:#009af9; stroke-width:3.2; stroke-opacity:1\"/>\n",
       "<line clip-path=\"url(#clip932)\" x1=\"966.951\" y1=\"199.551\" x2=\"934.951\" y2=\"199.551\" style=\"stroke:#009af9; stroke-width:3.2; stroke-opacity:1\"/>\n",
       "<line clip-path=\"url(#clip932)\" x1=\"966.951\" y1=\"107.976\" x2=\"934.951\" y2=\"107.976\" style=\"stroke:#009af9; stroke-width:3.2; stroke-opacity:1\"/>\n",
       "<line clip-path=\"url(#clip932)\" x1=\"1190.52\" y1=\"267.112\" x2=\"1158.52\" y2=\"267.112\" style=\"stroke:#009af9; stroke-width:3.2; stroke-opacity:1\"/>\n",
       "<line clip-path=\"url(#clip932)\" x1=\"1190.52\" y1=\"203.83\" x2=\"1158.52\" y2=\"203.83\" style=\"stroke:#009af9; stroke-width:3.2; stroke-opacity:1\"/>\n",
       "<line clip-path=\"url(#clip932)\" x1=\"1414.1\" y1=\"407.731\" x2=\"1382.1\" y2=\"407.731\" style=\"stroke:#009af9; stroke-width:3.2; stroke-opacity:1\"/>\n",
       "<line clip-path=\"url(#clip932)\" x1=\"1414.1\" y1=\"326.394\" x2=\"1382.1\" y2=\"326.394\" style=\"stroke:#009af9; stroke-width:3.2; stroke-opacity:1\"/>\n",
       "<line clip-path=\"url(#clip932)\" x1=\"1637.67\" y1=\"955.37\" x2=\"1605.67\" y2=\"955.37\" style=\"stroke:#009af9; stroke-width:3.2; stroke-opacity:1\"/>\n",
       "<line clip-path=\"url(#clip932)\" x1=\"1637.67\" y1=\"802.516\" x2=\"1605.67\" y2=\"802.516\" style=\"stroke:#009af9; stroke-width:3.2; stroke-opacity:1\"/>\n",
       "<line clip-path=\"url(#clip932)\" x1=\"1861.24\" y1=\"1275.68\" x2=\"1829.24\" y2=\"1275.68\" style=\"stroke:#009af9; stroke-width:3.2; stroke-opacity:1\"/>\n",
       "<line clip-path=\"url(#clip932)\" x1=\"1861.24\" y1=\"1266.83\" x2=\"1829.24\" y2=\"1266.83\" style=\"stroke:#009af9; stroke-width:3.2; stroke-opacity:1\"/>\n",
       "<line clip-path=\"url(#clip932)\" x1=\"2084.82\" y1=\"1344.27\" x2=\"2052.82\" y2=\"1344.27\" style=\"stroke:#009af9; stroke-width:3.2; stroke-opacity:1\"/>\n",
       "<line clip-path=\"url(#clip932)\" x1=\"2084.82\" y1=\"1329.78\" x2=\"2052.82\" y2=\"1329.78\" style=\"stroke:#009af9; stroke-width:3.2; stroke-opacity:1\"/>\n",
       "<line clip-path=\"url(#clip932)\" x1=\"2308.39\" y1=\"1384.24\" x2=\"2276.39\" y2=\"1384.24\" style=\"stroke:#009af9; stroke-width:3.2; stroke-opacity:1\"/>\n",
       "<line clip-path=\"url(#clip932)\" x1=\"2308.39\" y1=\"1352.78\" x2=\"2276.39\" y2=\"1352.78\" style=\"stroke:#009af9; stroke-width:3.2; stroke-opacity:1\"/>\n",
       "<path clip-path=\"url(#clip930)\" d=\"\n",
       "M1815.02 196.789 L2281.66 196.789 L2281.66 93.1086 L1815.02 93.1086  Z\n",
       "  \" fill=\"#ffffff\" fill-rule=\"evenodd\" fill-opacity=\"1\"/>\n",
       "<polyline clip-path=\"url(#clip930)\" style=\"stroke:#000000; stroke-linecap:butt; stroke-linejoin:round; stroke-width:4; stroke-opacity:1; fill:none\" points=\"\n",
       "  1815.02,196.789 2281.66,196.789 2281.66,93.1086 1815.02,93.1086 1815.02,196.789 \n",
       "  \"/>\n",
       "<polyline clip-path=\"url(#clip930)\" style=\"stroke:#009af9; stroke-linecap:butt; stroke-linejoin:round; stroke-width:4; stroke-opacity:1; fill:none\" points=\"\n",
       "  1838.72,144.949 1980.91,144.949 \n",
       "  \"/>\n",
       "<path clip-path=\"url(#clip930)\" d=\"M2004.61 127.669 L2026.46 127.669 L2026.46 131.604 L2009.29 131.604 L2009.29 141.835 L2025.74 141.835 L2025.74 145.77 L2009.29 145.77 L2009.29 158.293 L2026.88 158.293 L2026.88 162.229 L2004.61 162.229 L2004.61 127.669 Z\" fill=\"#000000\" fill-rule=\"evenodd\" fill-opacity=\"1\" /><path clip-path=\"url(#clip930)\" d=\"M2034.38 126.21 L2038.64 126.21 L2038.64 162.229 L2034.38 162.229 L2034.38 126.21 Z\" fill=\"#000000\" fill-rule=\"evenodd\" fill-opacity=\"1\" /><path clip-path=\"url(#clip930)\" d=\"M2047.55 126.21 L2051.81 126.21 L2051.81 162.229 L2047.55 162.229 L2047.55 126.21 Z\" fill=\"#000000\" fill-rule=\"evenodd\" fill-opacity=\"1\" /><path clip-path=\"url(#clip930)\" d=\"M2060.72 136.303 L2064.98 136.303 L2064.98 162.229 L2060.72 162.229 L2060.72 136.303 M2060.72 126.21 L2064.98 126.21 L2064.98 131.604 L2060.72 131.604 L2060.72 126.21 Z\" fill=\"#000000\" fill-rule=\"evenodd\" fill-opacity=\"1\" /><path clip-path=\"url(#clip930)\" d=\"M2078.01 158.34 L2078.01 172.09 L2073.73 172.09 L2073.73 136.303 L2078.01 136.303 L2078.01 140.238 Q2079.36 137.923 2081.39 136.812 Q2083.45 135.678 2086.3 135.678 Q2091.02 135.678 2093.96 139.428 Q2096.92 143.178 2096.92 149.289 Q2096.92 155.4 2093.96 159.15 Q2091.02 162.9 2086.3 162.9 Q2083.45 162.9 2081.39 161.789 Q2079.36 160.655 2078.01 158.34 M2092.5 149.289 Q2092.5 144.59 2090.56 141.928 Q2088.64 139.243 2085.26 139.243 Q2081.88 139.243 2079.93 141.928 Q2078.01 144.59 2078.01 149.289 Q2078.01 153.988 2079.93 156.673 Q2081.88 159.335 2085.26 159.335 Q2088.64 159.335 2090.56 156.673 Q2092.5 153.988 2092.5 149.289 Z\" fill=\"#000000\" fill-rule=\"evenodd\" fill-opacity=\"1\" /><path clip-path=\"url(#clip930)\" d=\"M2120.51 137.067 L2120.51 141.094 Q2118.71 140.169 2116.76 139.706 Q2114.82 139.243 2112.73 139.243 Q2109.56 139.243 2107.97 140.215 Q2106.39 141.187 2106.39 143.131 Q2106.39 144.613 2107.53 145.469 Q2108.66 146.303 2112.09 147.067 L2113.55 147.391 Q2118.08 148.363 2119.98 150.145 Q2121.9 151.905 2121.9 155.076 Q2121.9 158.687 2119.03 160.793 Q2116.18 162.9 2111.18 162.9 Q2109.1 162.9 2106.83 162.483 Q2104.59 162.09 2102.09 161.28 L2102.09 156.881 Q2104.45 158.108 2106.74 158.733 Q2109.03 159.335 2111.28 159.335 Q2114.29 159.335 2115.91 158.317 Q2117.53 157.275 2117.53 155.4 Q2117.53 153.664 2116.35 152.738 Q2115.19 151.812 2111.23 150.956 L2109.75 150.608 Q2105.79 149.775 2104.03 148.062 Q2102.27 146.326 2102.27 143.317 Q2102.27 139.659 2104.86 137.669 Q2107.46 135.678 2112.23 135.678 Q2114.59 135.678 2116.67 136.025 Q2118.75 136.372 2120.51 137.067 Z\" fill=\"#000000\" fill-rule=\"evenodd\" fill-opacity=\"1\" /><path clip-path=\"url(#clip930)\" d=\"M2138.73 139.289 Q2135.3 139.289 2133.31 141.974 Q2131.32 144.636 2131.32 149.289 Q2131.32 153.942 2133.29 156.627 Q2135.28 159.289 2138.73 159.289 Q2142.13 159.289 2144.12 156.604 Q2146.11 153.918 2146.11 149.289 Q2146.11 144.682 2144.12 141.997 Q2142.13 139.289 2138.73 139.289 M2138.73 135.678 Q2144.29 135.678 2147.46 139.289 Q2150.63 142.9 2150.63 149.289 Q2150.63 155.655 2147.46 159.289 Q2144.29 162.9 2138.73 162.9 Q2133.15 162.9 2129.98 159.289 Q2126.83 155.655 2126.83 149.289 Q2126.83 142.9 2129.98 139.289 Q2133.15 135.678 2138.73 135.678 Z\" fill=\"#000000\" fill-rule=\"evenodd\" fill-opacity=\"1\" /><path clip-path=\"url(#clip930)\" d=\"M2157.69 136.303 L2161.95 136.303 L2161.95 162.229 L2157.69 162.229 L2157.69 136.303 M2157.69 126.21 L2161.95 126.21 L2161.95 131.604 L2157.69 131.604 L2157.69 126.21 Z\" fill=\"#000000\" fill-rule=\"evenodd\" fill-opacity=\"1\" /><path clip-path=\"url(#clip930)\" d=\"M2187.92 140.238 L2187.92 126.21 L2192.18 126.21 L2192.18 162.229 L2187.92 162.229 L2187.92 158.34 Q2186.58 160.655 2184.52 161.789 Q2182.48 162.9 2179.61 162.9 Q2174.91 162.9 2171.95 159.15 Q2169.01 155.4 2169.01 149.289 Q2169.01 143.178 2171.95 139.428 Q2174.91 135.678 2179.61 135.678 Q2182.48 135.678 2184.52 136.812 Q2186.58 137.923 2187.92 140.238 M2173.41 149.289 Q2173.41 153.988 2175.33 156.673 Q2177.27 159.335 2180.65 159.335 Q2184.03 159.335 2185.98 156.673 Q2187.92 153.988 2187.92 149.289 Q2187.92 144.59 2185.98 141.928 Q2184.03 139.243 2180.65 139.243 Q2177.27 139.243 2175.33 141.928 Q2173.41 144.59 2173.41 149.289 Z\" fill=\"#000000\" fill-rule=\"evenodd\" fill-opacity=\"1\" /><path clip-path=\"url(#clip930)\" d=\"M2212.73 149.196 Q2207.57 149.196 2205.58 150.377 Q2203.59 151.557 2203.59 154.405 Q2203.59 156.673 2205.07 158.016 Q2206.58 159.335 2209.15 159.335 Q2212.69 159.335 2214.82 156.835 Q2216.97 154.312 2216.97 150.145 L2216.97 149.196 L2212.73 149.196 M2221.23 147.437 L2221.23 162.229 L2216.97 162.229 L2216.97 158.293 Q2215.51 160.655 2213.34 161.789 Q2211.16 162.9 2208.01 162.9 Q2204.03 162.9 2201.67 160.678 Q2199.33 158.432 2199.33 154.682 Q2199.33 150.307 2202.25 148.085 Q2205.19 145.863 2211 145.863 L2216.97 145.863 L2216.97 145.446 Q2216.97 142.507 2215.03 140.909 Q2213.1 139.289 2209.61 139.289 Q2207.39 139.289 2205.28 139.821 Q2203.17 140.354 2201.23 141.419 L2201.23 137.483 Q2203.57 136.581 2205.77 136.141 Q2207.97 135.678 2210.05 135.678 Q2215.67 135.678 2218.45 138.594 Q2221.23 141.511 2221.23 147.437 Z\" fill=\"#000000\" fill-rule=\"evenodd\" fill-opacity=\"1\" /><path clip-path=\"url(#clip930)\" d=\"M2230 126.21 L2234.26 126.21 L2234.26 162.229 L2230 162.229 L2230 126.21 Z\" fill=\"#000000\" fill-rule=\"evenodd\" fill-opacity=\"1\" /></svg>\n"
      ]
     },
     "metadata": {},
     "output_type": "display_data"
    }
   ],
   "source": [
    "#######################################################################\n",
    "# Compute NMI for each graph\n",
    "#######################################################################\n",
    "\n",
    "# Set parameters of simulations\n",
    "mus=0.1:0.1:1 # values for the mixing parameter\n",
    "\n",
    "n_it_PPM = 30000;\n",
    "t = 1e-10;\n",
    "n_clusters = 20;\n",
    "r0 = 20;\n",
    "\n",
    "# Specify here the number of times vector partition is repeated\n",
    "n_it_Vec_Partition = 10;\n",
    "# we advise : n_it_Vec_Partition = 100;\n",
    "\n",
    "n_updates = 100; # max total by default\n",
    "shape = \"Ellipsoidal\"; #shape = \"Spherical\"\n",
    "\n",
    "n_rep = 3;\n",
    "NMIs=zeros(Float64,length(mus),n_rep)\n",
    "for i=1:length(mus)\n",
    "    for j=1:n_rep\n",
    "        println(\"\\n========== Graph $i/$(length(mus)), mu=$(mus[i]), number_rep = $j ==========\")\n",
    "        # load graph data\n",
    "        community0 = readdlm(\"Data/LFR_NMI/data\"*string(mus[i])*\".nmc\"); # communities: .nmc\n",
    "        adj = readdlm(\"Data/LFR_NMI/data\"*string(mus[i])*\".nse\"); # network: *.nse\n",
    "        \n",
    "        # remove first line (infos) and third column (weights)\n",
    "        adj = adj[2:end,1:2]\n",
    "        adj = convert(Array{Float64,2},adj)\n",
    "\n",
    "        community_true = convert(Array{Int64},community0[:,2])\n",
    "        N = length(community_true);\n",
    "        n_edge2 = size(adj)[1];\n",
    "\n",
    "        A = sparse(adj[:,1],adj[:,2],vec(ones(Int64,n_edge2,1)),N,N);\n",
    "        A = A+A' # Only the upper triangular part of A was stored\n",
    "\n",
    "        A,vertices = largest_component(A);\n",
    "        community_true=community_true[vertices]\n",
    "        community_true=Reorder(community_true)\n",
    "\n",
    "        # solve\n",
    "        ~,community = @time SphereEmbedCluster(A,n_it_PPM,t, n_clusters,n_it_Vec_Partition,n_updates,shape,r0)\n",
    "\n",
    "        # compute NMI\n",
    "        NMIs[i,j]=mutualinfo(community_true,community);\n",
    "    end\n",
    "end\n",
    "#######################################################################\n",
    "# Plot Normalized mutual information vs Miwing parameter\n",
    "#######################################################################\n",
    "m = mean(NMIs,dims=2);\n",
    "s = std(NMIs,dims=2);\n",
    "plot(mus, m, yerror = s,\n",
    "markerstrokecolor=:auto,\n",
    "xlabel = \"Mixing parameter\",\n",
    "ylabel = \"Normalized mutual information\",\n",
    "labels = \"Ellipsoidal\")\n",
    "#######################################################################\n",
    "\n"
   ]
  },
  {
   "cell_type": "code",
   "execution_count": null,
   "metadata": {},
   "outputs": [],
   "source": []
  }
 ],
 "metadata": {
  "kernelspec": {
   "display_name": "Julia 1.6.3",
   "language": "julia",
   "name": "julia-1.6"
  },
  "language_info": {
   "file_extension": ".jl",
   "mimetype": "application/julia",
   "name": "julia",
   "version": "1.6.3"
  }
 },
 "nbformat": 4,
 "nbformat_minor": 2
}
