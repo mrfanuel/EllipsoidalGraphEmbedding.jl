{
 "cells": [
  {
   "cell_type": "code",
   "execution_count": 1,
   "metadata": {},
   "outputs": [],
   "source": [
    "using MatrixNetworks\n",
    "using Distributions\n",
    "using Gadfly\n",
    "using Clustering\n",
    "using BenchmarkTools, Compat\n",
    "using DelimitedFiles\n",
    "using SparseArrays\n",
    "using LinearAlgebra\n",
    "using EllipsoidalGraphEmbedding\n",
    "using Random"
   ]
  },
  {
   "cell_type": "markdown",
   "metadata": {},
   "source": [
    "Loadind data sets"
   ]
  },
  {
   "cell_type": "code",
   "execution_count": 2,
   "metadata": {},
   "outputs": [
    {
     "name": "stdout",
     "output_type": "stream",
     "text": [
      "Pokec\n"
     ]
    },
    {
     "name": "stdout",
     "output_type": "stream",
     "text": [
      " ------- Acc Projected Power Iteration -------\n"
     ]
    },
    {
     "name": "stdout",
     "output_type": "stream",
     "text": [
      "The iteration has become stationary after 137 iterations\n",
      "3629.953284 seconds (26.65 k allocations: 749.145 GiB, 4.92% gc time, 0.01% compilation time)\n"
     ]
    },
    {
     "name": "stdout",
     "output_type": "stream",
     "text": [
      " -------------- Clustering ------- \n",
      "dimension of embedding used for clustering: 50\n",
      "Number of updates: "
     ]
    },
    {
     "name": "stdout",
     "output_type": "stream",
     "text": [
      "50\n"
     ]
    },
    {
     "name": "stdout",
     "output_type": "stream",
     "text": [
      "Modularity: 0.7210259202840417\n",
      "Number of communities: 19\n",
      " -------------------------------------------- \n",
      "The first 5 squared singular values divided by N : \n"
     ]
    },
    {
     "name": "stdout",
     "output_type": "stream",
     "text": [
      "[0.5175924456907167, 0.24060436703510393, 0.16273223000523623, 0.07852482907205836, 0.00042713039933456055]\n",
      " -------------------------------------------- \n",
      "6343.659821 seconds (941.10 M allocations: 1.437 TiB, 3.75% gc time, 0.01% compilation time)\n",
      "Pokec\n",
      "embedding effective dim= 4\n"
     ]
    }
   ],
   "source": [
    "# Please choose the data set below\n",
    "\n",
    "#dataset = \"PolBlogs\"\n",
    "# dataset = \"PowerEU\"\n",
    "# dataset = \"Facebook\"\n",
    "# dataset = \"PowerUS\"\n",
    "# dataset = \"Wikivote\"\n",
    "# dataset = \"Internet\"\n",
    "# dataset = \"CondMat2003\"\n",
    "dataset = \"Pokec\"\n",
    "\n",
    "# Initialization\n",
    "A = 0\n",
    "d0 = 0\n",
    "\n",
    "# shape of embedding\n",
    "shape = \"Ellipsoidal\"\n",
    "\n",
    "# number of centroids thrown in embedding\n",
    "n_clusters = 100\n",
    "\n",
    "\n",
    "# Loading data\n",
    "if dataset == \"PolBlogs\"\n",
    "\n",
    "    A0 = readdlm(\"data/PolBlogs/PolBlogsAdj.txt\")\n",
    "    A = largest_cc_from_adj(A0); A0 = 0;\n",
    "    d0 = 10\n",
    "\n",
    "elseif dataset == \"PowerEU\"\n",
    "\n",
    "    list = readdlm(\"data/PowerEU/ElistPowerEU.txt\")\n",
    "    A = adj_matrix_cc(list)\n",
    "    d0 = 50\n",
    "\n",
    "elseif dataset == \"Facebook\"\n",
    "\n",
    "    list = readdlm(\"data/Facebook/facebook-gender_edges.txt\")\n",
    "    list = list .+ 1 # indices start from 0\n",
    "    A = adj_matrix_cc(list)\n",
    "    d0 = 50\n",
    "\n",
    "elseif dataset == \"PowerUS\"\n",
    "\n",
    "    list = readdlm(\"data/PowerUS/ElistPowerUS.txt\")\n",
    "    A = adj_matrix_cc(list)\n",
    "    d0 = 50\n",
    "\n",
    "elseif dataset == \"Wikivote\"\n",
    "\n",
    "    list = readdlm(\"data/Wikivote/wiki-Vote.txt\")\n",
    "    A = adj_matrix_cc(list)\n",
    "    d0 = 30\n",
    "\n",
    "elseif dataset == \"Internet\"\n",
    "\n",
    "    list = readdlm(\"data/Internet/InternetEList.txt\")\n",
    "    list = list .+ 1 # indices start from 0\n",
    "    A = adj_matrix_cc(list)\n",
    "    d0 = 70\n",
    "\n",
    "elseif dataset == \"CondMat2003\"\n",
    "\n",
    "    list = readdlm(\"data/CondMat2003/CondMat2003EList.txt\")\n",
    "    list = list .+ 1 # indices start from 0\n",
    "    A = adj_matrix_cc(list)\n",
    "    d0 = 250\n",
    "    n_clusters = 200\n",
    "\n",
    "elseif dataset == \"Pokec\"\n",
    "\n",
    "    list = readdlm(\"data/Pokec/soc-pokec-relationships.txt\")\n",
    "    list = list .+ 1 # indices start from 0\n",
    "    A = adj_matrix_cc(list)\n",
    "    d0 = 50\n",
    "\n",
    "end\n",
    "println(dataset)\n",
    "\n",
    "N = size(A,1)\n",
    "community = zeros(Int64,N,1)\n",
    "x_embed,community,singular =  @time sphere_embed_cluster(A, d0, shape, n_clusters)\n",
    "# run twice to get timings without compilation time\n",
    "println(dataset)\n",
    "println(\"embedding effective dim= \",dim_eff(singular,0.01))\n"
   ]
  },
  {
   "cell_type": "markdown",
   "metadata": {},
   "source": [
    "Spectral embedding"
   ]
  },
  {
   "cell_type": "code",
   "execution_count": 3,
   "metadata": {},
   "outputs": [
    {
     "name": "stdout",
     "output_type": "stream",
     "text": [
      "40384.679958 seconds (9.21 M allocations: 57.311 TiB, 17.99% gc time)\n"
     ]
    },
    {
     "name": "stdout",
     "output_type": "stream",
     "text": [
      "spectral embedding computed\n"
     ]
    },
    {
     "name": "stdout",
     "output_type": "stream",
     "text": [
      "Number of eigenvector for best modularity: 50\n",
      "Number of communities: "
     ]
    },
    {
     "name": "stdout",
     "output_type": "stream",
     "text": [
      "35.0\n",
      "Modularity: 0.6161341929958688\n",
      "51287.427844 seconds (7.75 G allocations: 62.436 TiB, 15.12% gc time)\n",
      "Pokec\n"
     ]
    }
   ],
   "source": [
    "# an approximate Power Method with Krylov subspace isi implemented in spectral_embed_cluster\n",
    "\n",
    "# spectral embedding\n",
    "dim_embed_spectral = 50\n",
    "community = zeros(Int64,N,1)\n",
    "x_embed, community, eigenvalues = @time spectral_embed_cluster(A, dim_embed_spectral, n_clusters)\n",
    "println(dataset)"
   ]
  }
 ],
 "metadata": {
  "kernelspec": {
   "display_name": "Julia 1.6.7",
   "language": "julia",
   "name": "julia-1.6"
  },
  "language_info": {
   "file_extension": ".jl",
   "mimetype": "application/julia",
   "name": "julia",
   "version": "1.6.7"
  },
  "orig_nbformat": 4
 },
 "nbformat": 4,
 "nbformat_minor": 2
}
