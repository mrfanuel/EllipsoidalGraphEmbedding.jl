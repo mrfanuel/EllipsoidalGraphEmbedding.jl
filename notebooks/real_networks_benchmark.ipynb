{
 "cells": [
  {
   "cell_type": "code",
   "execution_count": 22,
   "metadata": {},
   "outputs": [],
   "source": [
    "using MatrixNetworks\n",
    "using Distributions\n",
    "using Gadfly\n",
    "using Clustering\n",
    "using BenchmarkTools, Compat\n",
    "using DelimitedFiles\n",
    "using SparseArrays\n",
    "using LinearAlgebra\n",
    "using EllipsoidalGraphEmbedding\n",
    "using Random"
   ]
  },
  {
   "cell_type": "markdown",
   "metadata": {},
   "source": [
    "Loadind data sets"
   ]
  },
  {
   "cell_type": "code",
   "execution_count": 23,
   "metadata": {},
   "outputs": [
    {
     "name": "stdout",
     "output_type": "stream",
     "text": [
      "PolBlogs\n",
      " ------- Acc Projected Power Iteration -------\n"
     ]
    },
    {
     "name": "stdout",
     "output_type": "stream",
     "text": [
      "The iteration has become stationary after 81 iterations\n",
      "  0.145654 seconds (2.21 k allocations: 69.073 MiB, 28.38% gc time)\n",
      " -------------- Clustering ------- \n",
      "dimension of embedding used for clustering: 10\n",
      "Number of updates: "
     ]
    },
    {
     "name": "stdout",
     "output_type": "stream",
     "text": [
      "3\n",
      "Modularity: 0.4314366107288681\n",
      "Number of communities: 7\n",
      " -------------------------------------------- \n",
      "The first 5 squared singular values divided by N : \n",
      "[0.9862353557266231, 0.012559610676315553, 0.0008003391642211193, 0.00027157310507087886, 0.00012670029144277791]\n",
      " -------------------------------------------- \n",
      "  1.568013 seconds (1.28 M allocations: 822.910 MiB, 24.60% gc time)\n",
      "PolBlogs\n",
      "embedding effective dim= 2\n"
     ]
    }
   ],
   "source": [
    "# Please choose the data set below\n",
    "\n",
    "dataset = \"PolBlogs\"\n",
    "# dataset = \"PowerEU\"\n",
    "# dataset = \"Facebook\"\n",
    "#  dataset = \"PowerUS\"\n",
    "# dataset = \"Internet\"\n",
    "# dataset = \"CondMat2003\"\n",
    "#dataset = \"Pokec\"\n",
    "\n",
    "# Initialization\n",
    "A = 0\n",
    "\n",
    "# nb iterations projected power method\n",
    "n_it_PPM = 30000\n",
    "\n",
    "# relative objective variation\n",
    "t = 1e-8\n",
    "\n",
    "# nb of times vector partition is repeated\n",
    "n_rep_vec_part = 10 \n",
    "\n",
    "# upper bound on nb updates for vector partition\n",
    "n_updates = 50 \n",
    "\n",
    "# shape of embedding\n",
    "shape = \"Ellipsoidal\"\n",
    "\n",
    "# number of columns of initial guess\n",
    "d0 = 10 \n",
    "\n",
    "# number of centroids thrown in embedding\n",
    "n_clusters = 100\n",
    "\n",
    "# nb of times vector partition is repeated\n",
    "n_it_vec_part = 100 \n",
    "\n",
    "# number of centroids thrown in embedding\n",
    "n_clusters = 100\n",
    "\n",
    "# Loading data\n",
    "if dataset == \"PolBlogs\"\n",
    "\n",
    "    A0 = readdlm(\"data/PolBlogs/PolBlogsAdj.txt\")\n",
    "    A = largest_cc_from_adj(A0); A0 = 0;\n",
    "    dim_embed_spectral = 2\n",
    "\n",
    "elseif dataset == \"PowerEU\"\n",
    "\n",
    "    list = readdlm(\"data/PowerEU/ElistPowerEU.txt\")\n",
    "    A = adj_matrix_cc(list)\n",
    "    dim_embed_spectral = 50\n",
    "\n",
    "elseif dataset == \"Facebook\"\n",
    "\n",
    "    list = readdlm(\"data/Facebook/facebook-gender_edges.txt\")\n",
    "    list = list .+ 1 # indices start from 0\n",
    "    A = adj_matrix_cc(list)\n",
    "    dim_embed_spectral = 8\n",
    "\n",
    "elseif dataset == \"PowerUS\"\n",
    "\n",
    "    list = readdlm(\"data/PowerUS/ElistPowerUS.txt\")\n",
    "    A = adj_matrix_cc(list)\n",
    "    dim_embed_spectral = 80\n",
    "\n",
    "elseif dataset == \"Wikivote\"\n",
    "\n",
    "    list = readdlm(\"data/Wikivote/wiki-Vote.txt\")\n",
    "    A = adj_matrix_cc(list)\n",
    "    dim_embed_spectral = 3\n",
    "\n",
    "elseif dataset == \"Internet\"\n",
    "\n",
    "    list = readdlm(\"data/Internet/InternetEList.txt\")\n",
    "    list = list .+ 1 # indices start from 0\n",
    "    A = adj_matrix_cc(list)\n",
    "    dim_embed_spectral = 18\n",
    "\n",
    "elseif dataset == \"CondMat2003\"\n",
    "\n",
    "    list = readdlm(\"data/CondMat2003/CondMat2003EList.txt\")\n",
    "    list = list .+ 1 # indices start from 0\n",
    "    A = adj_matrix_cc(list)\n",
    "    dim_embed_spectral = 80\n",
    "\n",
    "elseif dataset == \"Pokec\"\n",
    "\n",
    "    list = readdlm(\"data/Pokec/soc-pokec-relationships.txt\")\n",
    "    list = list .+ 1 # indices start from 0\n",
    "    A = adj_matrix_cc(list)\n",
    "    dim_embed_spectral = 50\n",
    "\n",
    "end\n",
    "println(dataset)\n",
    "\n",
    "N = size(A,1)\n",
    "community = zeros(Int64,N,1)\n",
    "x_embed,community,singular =  @time sphere_embed_cluster(A, n_it_PPM, t, n_clusters, n_it_vec_part, n_updates, shape, d0)\n",
    "# run twice to get timings without compilation time\n",
    "println(dataset)\n",
    "println(\"embedding effective dim= \",dim_eff(singular,0.01))\n"
   ]
  },
  {
   "cell_type": "markdown",
   "metadata": {},
   "source": [
    "Spectral embedding"
   ]
  },
  {
   "cell_type": "code",
   "execution_count": 20,
   "metadata": {},
   "outputs": [
    {
     "ename": "InterruptException",
     "evalue": "InterruptException:",
     "output_type": "error",
     "traceback": [
      "InterruptException:\n",
      "\n",
      "Stacktrace:\n",
      "  [1] Array\n",
      "    @ ./boot.jl:448 [inlined]\n",
      "  [2] Array\n",
      "    @ ./boot.jl:457 [inlined]\n",
      "  [3] Array\n",
      "    @ ./boot.jl:465 [inlined]\n",
      "  [4] similar\n",
      "    @ ./abstractarray.jl:785 [inlined]\n",
      "  [5] similar\n",
      "    @ ./abstractarray.jl:784 [inlined]\n",
      "  [6] similar\n",
      "    @ ./broadcast.jl:197 [inlined]\n",
      "  [7] similar\n",
      "    @ ./broadcast.jl:196 [inlined]\n",
      "  [8] copy\n",
      "    @ ./broadcast.jl:908 [inlined]\n",
      "  [9] materialize\n",
      "    @ ./broadcast.jl:883 [inlined]\n",
      " [10] broadcast_preserving_zero_d\n",
      "    @ ./broadcast.jl:872 [inlined]\n",
      " [11] /(A::Vector{Float64}, B::Float64)\n",
      "    @ Base ./arraymath.jl:55\n",
      " [12] gram_schmidt(A::Matrix{Float64})\n",
      "    @ EllipsoidalGraphEmbedding ~/Documents/Code/juliaTemplate/EllipsoidalGraphEmbedding/src/utils.jl:51\n",
      " [13] top_eigenpairs_Q(A::SparseMatrixCSC{Int64, Int64}, r::Int64, tol::Float64, it_max::Int64)\n",
      "    @ EllipsoidalGraphEmbedding ~/Documents/Code/juliaTemplate/EllipsoidalGraphEmbedding/src/utils.jl:94\n",
      " [14] spectral_embed_cluster(A::SparseMatrixCSC{Int64, Int64}, it_max::Int64, tol::Float64, n_clusters::Int64, n_rep_vec_part::Int64, n_updates::Int64, dim_embed_spectral::Int64)\n",
      "    @ EllipsoidalGraphEmbedding ~/Documents/Code/juliaTemplate/EllipsoidalGraphEmbedding/src/graph.jl:268\n",
      " [15] top-level scope\n",
      "    @ ./timing.jl:210 [inlined]\n",
      " [16] top-level scope\n",
      "    @ ~/Documents/Code/juliaTemplate/EllipsoidalGraphEmbedding/notebooks/real_networks_benchmark.ipynb:0"
     ]
    }
   ],
   "source": [
    "# an approximate Power Method with Krylov subspace isi implemented in spectral_embed_cluster\n",
    "tol = 1e-06\n",
    "it_max = 1000\n",
    "# spectral embedding\n",
    "community = zeros(Int64,N,1)\n",
    "x_embed, community, eigenvalues = @time spectral_embed_cluster(A, it_max, tol, n_clusters, n_rep_vec_part, n_updates, dim_embed_spectral)\n",
    "println(dataset)"
   ]
  },
  {
   "cell_type": "code",
   "execution_count": 21,
   "metadata": {},
   "outputs": [],
   "source": []
  }
 ],
 "metadata": {
  "kernelspec": {
   "display_name": "Julia 1.6.3",
   "language": "julia",
   "name": "julia-1.6"
  },
  "language_info": {
   "file_extension": ".jl",
   "mimetype": "application/julia",
   "name": "julia",
   "version": "1.6.3"
  },
  "orig_nbformat": 4
 },
 "nbformat": 4,
 "nbformat_minor": 2
}
