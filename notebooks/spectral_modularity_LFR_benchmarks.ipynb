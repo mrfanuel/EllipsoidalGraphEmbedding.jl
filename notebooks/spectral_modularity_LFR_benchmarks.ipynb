{
 "cells": [
  {
   "cell_type": "code",
   "execution_count": 1,
   "metadata": {
    "collapsed": true
   },
   "outputs": [],
   "source": [
    "using MatrixNetworks\n",
    "using Distributions\n",
    "using Gadfly\n",
    "using Clustering\n",
    "using NPZ\n",
    "using BenchmarkTools, Compat\n",
    "using DelimitedFiles\n",
    "using SparseArrays\n",
    "using Printf\n",
    "using LinearAlgebra\n",
    "\n",
    "community0 = readdlm(\"Data/LFRBenchmarks/LFR3/community.dat\");\n",
    "adj = readdlm(\"Data/LFRBenchmarks/LFR3/network.dat\");\n",
    "\n",
    "community_true = community0[:,2];\n",
    "N = length(community_true);\n",
    "n_edge2 = size(adj)[1];\n",
    "\n",
    "A = sparse(adj[:,1],adj[:,2],vec(ones(Int64,n_edge2,1)),N,N);\n",
    "A,~ = largest_component(A);\n",
    "adj = 0;\n",
    "\n",
    "d = sum(A,dims=2);\n",
    "s = sum(d);"
   ]
  },
  {
   "cell_type": "markdown",
   "metadata": {},
   "source": [
    "# TO BE CORRECTED !!!\n"
   ]
  },
  {
   "cell_type": "code",
   "execution_count": 3,
   "metadata": {},
   "outputs": [],
   "source": [
    "r = 80;\n",
    "N = length(d); \n",
    "\n",
    "v0 = rand(Uniform(-1,1),N,r);\n",
    "v0 = v0./sqrt.(sum(abs2, v0, dims = 1));\n",
    "\n",
    "v0, t = qr(v0);\n",
    "l0 = diag(t);\n",
    "\n",
    "\n",
    "### Preprocess ###\n",
    "u0 = rand(Uniform(-1,1),N,1);\n",
    "u0 = u0./norm(u0);\n",
    "n=0;\n",
    "for it = 1:30\n",
    "    u0 = A*u0 .- (d/s)*(d'*u0);\n",
    "    n = norm(u0,2);\n",
    "    u0 = u0/n;\n",
    "end\n",
    "shift = n;\n",
    "\n",
    "l = l0;\n",
    "##################\n",
    "\n",
    "it_max=10000;\n",
    "it = 1;\n",
    "while it <=it_max\n",
    "    v0 = A*v0 .- (d/s)*(d'*v0) .+ shift*v0;\n",
    "    v0, t = qr(v0);\n",
    "    l = diag(t);\n",
    "    if norm(vec(abs.(l))-vec(abs.(l0)))<1e-03\n",
    "             break;\n",
    "    end\n",
    "    l0 = l;\n",
    "    it = it+1;\n",
    "end\n",
    "\n",
    "if it ==it_max\n",
    "        print(\"No convergence\")\n",
    "end \n",
    "\n",
    "print(l0-shift)"
   ]
  },
  {
   "cell_type": "code",
   "execution_count": 192,
   "metadata": {},
   "outputs": [
    {
     "name": "stdout",
     "output_type": "stream",
     "text": [
      "Number of updates: 8\n",
      "Number of communities: 11\n",
      "Modularity: 0.25233601108033243\n"
     ]
    }
   ],
   "source": [
    "include(\"Algo/Partition.jl\")\n",
    "include(\"Algo/UpdateCentroids.jl\")\n",
    "include(\"Algo/FindCommunity.jl\")\n",
    "include(\"Algo/Reorder.jl\")\n",
    "\n",
    "Sig = v0[:,1:17]';\n",
    "\n",
    "n_clusters = 200;\n",
    "n_it_Kmeans = 1000;\n",
    "n_updates = 100;\n",
    "\n",
    "\n",
    "community = vec(zeros(N,1));\n",
    "community0 = vec(zeros(N,1));\n",
    "Q_best = 0;\n",
    "n_c_best = 0;\n",
    "n_c = 0;\n",
    "# Probability mass for sampling the initial centroids\n",
    "p = vec(d/s);\n",
    "n_updates_best = 0;\n",
    "\n",
    "for k =1:n_it_Kmeans\n",
    "\n",
    "\tcommunity0, Q, n_updates = Partition(A,Sig,n_updates,n_clusters,p);\n",
    "\tn_c = length(unique(community0));\n",
    "\n",
    "    \tif Q>Q_best\n",
    "\t\tcommunity = community0;\n",
    "\t\tQ_best = Q;\n",
    "\t\tn_c_best = n_c;\n",
    "\t\tn_updates_best = n_updates;\n",
    "\n",
    "\t\t\n",
    "    \tend\n",
    "end\t\n",
    "  \n",
    "\tcommunity = Reorder(community);\n",
    "\n",
    "\tprint(\"Number of updates: \")\n",
    "\tprint(n_updates_best)\n",
    "\tprint(\"\\n\")\n",
    "\tprint(\"Number of communities: \")\n",
    "\tprint(n_c_best)\n",
    "\tprint(\"\\n\")\n",
    "\n",
    "\tprint(\"Modularity: \")\n",
    "\tprint(Q_best)\n",
    "\tprint(\"\\n\")"
   ]
  },
  {
   "cell_type": "code",
   "execution_count": null,
   "metadata": {
    "collapsed": true
   },
   "outputs": [],
   "source": []
  }
 ],
 "metadata": {
  "kernelspec": {
   "display_name": "Julia 1.6.3",
   "language": "julia",
   "name": "julia-1.6"
  },
  "language_info": {
   "file_extension": ".jl",
   "mimetype": "application/julia",
   "name": "julia",
   "version": "1.6.3"
  }
 },
 "nbformat": 4,
 "nbformat_minor": 2
}
